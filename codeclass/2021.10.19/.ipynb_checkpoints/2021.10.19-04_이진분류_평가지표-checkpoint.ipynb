{
 "cells": [
  {
   "cell_type": "markdown",
   "id": "a5264c83",
   "metadata": {},
   "source": [
    "# LOOCV(Leave-one-out cross_validation)"
   ]
  },
  {
   "cell_type": "code",
   "execution_count": 9,
   "id": "d8cae925",
   "metadata": {},
   "outputs": [],
   "source": [
    "import os, warnings\n",
    "import numpy as np\n",
    "# 경고 메세지 무시하거나 숨길때(ignore), 다시보이게(default)\n",
    "# warnings.filterwarnings(action='ignore')\n",
    "warnings.filterwarnings(action='ignore')"
   ]
  },
  {
   "cell_type": "code",
   "execution_count": 1,
   "id": "e3b52fb3",
   "metadata": {},
   "outputs": [],
   "source": [
    "from sklearn.model_selection import LeaveOneOut, cross_val_score\n",
    "from sklearn.tree import DecisionTreeClassifier\n",
    "from sklearn.datasets import load_iris"
   ]
  },
  {
   "cell_type": "code",
   "execution_count": 2,
   "id": "e092bf7c",
   "metadata": {},
   "outputs": [
    {
     "name": "stdout",
     "output_type": "stream",
     "text": [
      "교차 검증 분할 횟수 :  150\n",
      "평균 정확도 : 0.95\n"
     ]
    }
   ],
   "source": [
    "loo = LeaveOneOut()\n",
    "iris = load_iris()\n",
    "tree = DecisionTreeClassifier()\n",
    "scores = cross_val_score(tree, iris.data, iris.target, cv=loo)\n",
    "\n",
    "print(\"교차 검증 분할 횟수 : \", len(scores))\n",
    "print(\"평균 정확도 : {:.2f}\".format(scores.mean()))"
   ]
  },
  {
   "cell_type": "code",
   "execution_count": 3,
   "id": "92c0dda7",
   "metadata": {},
   "outputs": [],
   "source": [
    "from sklearn.model_selection import ShuffleSplit"
   ]
  },
  {
   "cell_type": "code",
   "execution_count": 4,
   "id": "4af51219",
   "metadata": {},
   "outputs": [
    {
     "name": "stdout",
     "output_type": "stream",
     "text": [
      "교차 검증 점수 : \n",
      "[1.  0.  1.  0.8 0.8 1.  1.  0.8 0.6 1. ]\n",
      "평균 : 0.80\n"
     ]
    }
   ],
   "source": [
    "shuffle_split = ShuffleSplit(train_size=10, test_size=5,  n_splits=10)\n",
    "\n",
    "scores = cross_val_score(tree, iris.data, iris.target, cv=shuffle_split)\n",
    "\n",
    "print(\"교차 검증 점수 : \\n{}\".format(scores))\n",
    "avg = scores.mean()\n",
    "print(\"평균 : {:.2f}\".format( avg )  )"
   ]
  },
  {
   "cell_type": "code",
   "execution_count": 5,
   "id": "e36ce087",
   "metadata": {},
   "outputs": [
    {
     "name": "stdout",
     "output_type": "stream",
     "text": [
      "교차 검증 점수 : \n",
      "[0.89333333 0.96       0.93333333 0.89333333 0.97333333 0.90666667\n",
      " 0.94666667 0.97333333 0.98666667 0.94666667]\n"
     ]
    },
    {
     "data": {
      "text/plain": [
       "0.9413333333333334"
      ]
     },
     "execution_count": 5,
     "metadata": {},
     "output_type": "execute_result"
    }
   ],
   "source": [
    "from sklearn.model_selection import ShuffleSplit\n",
    "shuffle_split = ShuffleSplit(test_size=0.5, train_size=0.5, n_splits=10)\n",
    "\n",
    "scores = cross_val_score(tree, iris.data, iris.target, cv=shuffle_split)\n",
    "print(\"교차 검증 점수 : \\n{}\".format(scores))\n",
    "scores.mean()"
   ]
  },
  {
   "cell_type": "code",
   "execution_count": 6,
   "id": "b63c69c7",
   "metadata": {},
   "outputs": [],
   "source": [
    "from sklearn.model_selection import cross_val_score, KFold, StratifiedKFold\n",
    "from sklearn.datasets import load_iris\n",
    "from sklearn.linear_model import LogisticRegression\n",
    "from sklearn.model_selection import RepeatedStratifiedKFold"
   ]
  },
  {
   "cell_type": "code",
   "execution_count": 7,
   "id": "83aeedc1",
   "metadata": {},
   "outputs": [],
   "source": [
    "iris = load_iris()\n",
    "logreg = LogisticRegression()"
   ]
  },
  {
   "cell_type": "code",
   "execution_count": 10,
   "id": "8c01dd3a",
   "metadata": {},
   "outputs": [
    {
     "name": "stdout",
     "output_type": "stream",
     "text": [
      "횟수 :  50\n",
      "교차 검증 점수 : \n",
      " [1.         0.96666667 0.93333333 1.         0.93333333 0.96666667\n",
      " 0.96666667 0.93333333 1.         0.96666667 0.93333333 1.\n",
      " 1.         0.96666667 0.96666667 0.9        1.         1.\n",
      " 0.93333333 0.96666667 0.93333333 0.96666667 0.96666667 1.\n",
      " 0.96666667 1.         0.96666667 0.96666667 0.9        1.\n",
      " 0.96666667 0.96666667 0.96666667 0.96666667 0.93333333 0.96666667\n",
      " 0.96666667 1.         1.         0.9        0.96666667 1.\n",
      " 0.9        0.96666667 0.96666667 0.9        0.96666667 0.96666667\n",
      " 1.         0.96666667]\n",
      "교차 검증 평균 점수 : 0.965\n"
     ]
    }
   ],
   "source": [
    "# n_split : 5    분할 폴드 수(기본값 : 5)\n",
    "# n_repeat = 10  반복횟수(기본값 : 10)\n",
    "# 반복할때마다 데이터를 다시 섞습니다.\n",
    "rskfold = RepeatedStratifiedKFold(random_state=42, n_splits=5, n_repeats=10)\n",
    "scores = cross_val_score(logreg, iris.data, iris.target, cv=rskfold)\n",
    "\n",
    "print(\"횟수 : \", len(scores))\n",
    "print(\"교차 검증 점수 : \\n\",  scores)\n",
    "print(\"교차 검증 평균 점수 : {:.3f}\".format(scores.mean() ) )"
   ]
  },
  {
   "cell_type": "markdown",
   "id": "15829da8",
   "metadata": {},
   "source": [
    "# 평가지표\n",
    "* 회귀(Regression) : 결정계수, MSE, RMSE, MAE, RMLSE, MAPE\n",
    "* 분류(Classification)\n",
    "    * 오차행렬 or 혼동행렬(confusion matrix)\n",
    "    * 정확도(accuracy), 정밀도(precision), 민감도(sensitivity, recall, Tprate), 특이도, Fpratem"
   ]
  },
  {
   "cell_type": "code",
   "execution_count": 11,
   "id": "5802c7eb",
   "metadata": {},
   "outputs": [],
   "source": [
    "from IPython.display import display, Image\n",
    "import warnings\n",
    "warnings.filterwarnings(action='ignore')"
   ]
  },
  {
   "cell_type": "code",
   "execution_count": 12,
   "id": "728cca87",
   "metadata": {},
   "outputs": [],
   "source": [
    "import pandas as pd\n",
    "import numpy as np\n",
    "from sklearn.model_selection import train_test_split\n",
    "import matplotlib.pyplot as plt\n",
    "import seaborn as sns"
   ]
  },
  {
   "cell_type": "markdown",
   "id": "7b2c0492",
   "metadata": {},
   "source": [
    "### 데이터 셋\n",
    "    * 손글씨 데이터\n",
    "    * data : 1797장, 64pixel\n",
    "        * image : 1797, 8, 8\n",
    "    * target : 0-9까지의 손글씨 값"
   ]
  },
  {
   "cell_type": "code",
   "execution_count": 18,
   "id": "e458f4d5",
   "metadata": {},
   "outputs": [
    {
     "name": "stdout",
     "output_type": "stream",
     "text": [
      "(1797, 64)\n",
      "(1797,)\n",
      "[0 1 2 3 4 5 6 7 8 9 0 1 2 3 4]\n"
     ]
    }
   ],
   "source": [
    "from sklearn.datasets import load_digits\n",
    "\n",
    "digits = load_digits()\n",
    "print(digits.data.shape)\n",
    "print(digits.target.shape)\n",
    "print(digits.target[0:15])"
   ]
  },
  {
   "cell_type": "code",
   "execution_count": 14,
   "id": "458d220c",
   "metadata": {},
   "outputs": [
    {
     "data": {
      "text/plain": [
       "array([ 0.,  0.,  5., 13.,  9.,  1.,  0.,  0.,  0.,  0., 13., 15., 10.,\n",
       "       15.,  5.,  0.,  0.,  3., 15.,  2.,  0., 11.,  8.,  0.,  0.,  4.,\n",
       "       12.,  0.,  0.,  8.,  8.,  0.,  0.,  5.,  8.,  0.,  0.,  9.,  8.,\n",
       "        0.,  0.,  4., 11.,  0.,  1., 12.,  7.,  0.,  0.,  2., 14.,  5.,\n",
       "       10., 12.,  0.,  0.,  0.,  0.,  6., 13., 10.,  0.,  0.,  0.])"
      ]
     },
     "execution_count": 14,
     "metadata": {},
     "output_type": "execute_result"
    }
   ],
   "source": [
    "digits.data[0]"
   ]
  },
  {
   "cell_type": "code",
   "execution_count": 15,
   "id": "b89b8ddd",
   "metadata": {},
   "outputs": [
    {
     "data": {
      "text/plain": [
       "array([ 0.,  0.,  0., 12., 13.,  5.,  0.,  0.,  0.,  0.,  0., 11., 16.,\n",
       "        9.,  0.,  0.,  0.,  0.,  3., 15., 16.,  6.,  0.,  0.,  0.,  7.,\n",
       "       15., 16., 16.,  2.,  0.,  0.,  0.,  0.,  1., 16., 16.,  3.,  0.,\n",
       "        0.,  0.,  0.,  1., 16., 16.,  6.,  0.,  0.,  0.,  0.,  1., 16.,\n",
       "       16.,  6.,  0.,  0.,  0.,  0.,  0., 11., 16., 10.,  0.,  0.])"
      ]
     },
     "execution_count": 15,
     "metadata": {},
     "output_type": "execute_result"
    }
   ],
   "source": [
    "digits.data[1]"
   ]
  },
  {
   "cell_type": "code",
   "execution_count": 21,
   "id": "6e112d40",
   "metadata": {},
   "outputs": [
    {
     "data": {
      "text/plain": [
       "array([False,  True])"
      ]
     },
     "execution_count": 21,
     "metadata": {},
     "output_type": "execute_result"
    }
   ],
   "source": [
    "X = digits.data         # 입력\n",
    "y = digits.target == 9  # 출력\n",
    "\n",
    "np.unique(y)"
   ]
  },
  {
   "cell_type": "code",
   "execution_count": 22,
   "id": "05fa9c94",
   "metadata": {},
   "outputs": [],
   "source": [
    "X_train, X_test, y_train, y_test = train_test_split(X, y, random_state=0)"
   ]
  },
  {
   "cell_type": "code",
   "execution_count": 23,
   "id": "475ffe1a",
   "metadata": {
    "scrolled": false
   },
   "outputs": [
    {
     "data": {
      "text/plain": [
       "Text(0.5, 1.0, 'test')"
      ]
     },
     "execution_count": 23,
     "metadata": {},
     "output_type": "execute_result"
    },
    {
     "data": {
      "image/png": "[encoded data removed]",
      "text/plain": [
       "<Figure size 1080x432 with 2 Axes>"
      ]
     },
     "metadata": {
      "needs_background": "light"
     },
     "output_type": "display_data"
    }
   ],
   "source": [
    "plt.figure(figsize=(15,6))\n",
    "plt.subplot(1, 2, 1)\n",
    "# y_train의 값 확인\n",
    "sns.countplot(y_train)\n",
    "plt.title(\"train\")\n",
    "\n",
    "plt.subplot(1, 2, 2)\n",
    "# y_test의 값 확인\n",
    "sns.countplot(y_test)\n",
    "plt.title(\"test\")"
   ]
  },
  {
   "cell_type": "markdown",
   "id": "7b11618b",
   "metadata": {},
   "source": [
    "## 의사 결정 트리 모델"
   ]
  },
  {
   "cell_type": "code",
   "execution_count": 24,
   "id": "2feef0c8",
   "metadata": {},
   "outputs": [
    {
     "name": "stdout",
     "output_type": "stream",
     "text": [
      "정확도 : 0.92\n"
     ]
    }
   ],
   "source": [
    "from sklearn.tree import DecisionTreeClassifier\n",
    "tree = DecisionTreeClassifier(max_depth=2).fit(X_train, y_train)\n",
    "pred_tree = tree.predict(X_test)\n",
    "\n",
    "print(\"정확도 : {:.2f}\".format(tree.score(X_test, y_test)))"
   ]
  },
  {
   "cell_type": "markdown",
   "id": "53e45264",
   "metadata": {},
   "source": [
    "## 로지스틱 회귀 모델"
   ]
  },
  {
   "cell_type": "code",
   "execution_count": 25,
   "id": "74f9bc4f",
   "metadata": {},
   "outputs": [
    {
     "name": "stdout",
     "output_type": "stream",
     "text": [
      "logreg 점수 : 0.98\n"
     ]
    }
   ],
   "source": [
    "from sklearn.linear_model import LogisticRegression\n",
    "\n",
    "logreg = LogisticRegression().fit(X_train, y_train)\n",
    "pred_log = logreg.predict(X_test)\n",
    "print(\"logreg 점수 : {:.2f}\".format(logreg.score(X_test, y_test)))"
   ]
  },
  {
   "cell_type": "markdown",
   "id": "8633337d",
   "metadata": {},
   "source": [
    "## 랜던 포레스트 분류 모델"
   ]
  },
  {
   "cell_type": "code",
   "execution_count": 28,
   "id": "b3fbe8c9",
   "metadata": {},
   "outputs": [
    {
     "name": "stdout",
     "output_type": "stream",
     "text": [
      "randomforest 점수 : 0.97\n"
     ]
    }
   ],
   "source": [
    "from sklearn.ensemble import RandomForestClassifier\n",
    "rf = RandomForestClassifier().fit(X_train, y_train)\n",
    "rf_pred = rf.predict(X_test)\n",
    "print(\"randomforest 점수 : {:.2f}\".format(rf.score(X_test, y_test)))"
   ]
  },
  {
   "cell_type": "markdown",
   "id": "2b92052f",
   "metadata": {},
   "source": [
    "## DummyClassifier 모델"
   ]
  },
  {
   "cell_type": "code",
   "execution_count": 26,
   "id": "c75c8e03",
   "metadata": {},
   "outputs": [
    {
     "name": "stdout",
     "output_type": "stream",
     "text": [
      "dummy_model 점수 : 0.90\n"
     ]
    }
   ],
   "source": [
    "from sklearn.dummy import DummyClassifier\n",
    "dummy_model = DummyClassifier(strategy='most_frequent').fit(X_train, y_train)\n",
    "pred_most_frequent = dummy_model.predict(X_test)\n",
    "print(\"dummy_model 점수 : {:.2f}\".format(dummy_model.score(X_test, y_test)))"
   ]
  },
  {
   "cell_type": "markdown",
   "id": "c2cc1d7d",
   "metadata": {},
   "source": [
    "## 오차 행렬"
   ]
  },
  {
   "cell_type": "code",
   "execution_count": 29,
   "id": "8f370f56",
   "metadata": {},
   "outputs": [
    {
     "name": "stdout",
     "output_type": "stream",
     "text": [
      "오차 행렬 : \n",
      "[[399   4]\n",
      " [  7  40]]\n"
     ]
    }
   ],
   "source": [
    "from sklearn.metrics import confusion_matrix\n",
    "\n",
    "confusion = confusion_matrix(y_test, pred_log)\n",
    "print('오차 행렬 : \\n{}'.format(confusion))"
   ]
  },
  {
   "cell_type": "code",
   "execution_count": 30,
   "id": "875c131a",
   "metadata": {},
   "outputs": [
    {
     "data": {
      "image/png": "[encoded data removed]",
      "text/plain": [
       "<Figure size 576x576 with 1 Axes>"
      ]
     },
     "metadata": {
      "needs_background": "light"
     },
     "output_type": "display_data"
    }
   ],
   "source": [
    "import mglearn\n",
    "mglearn.plots.plot_confusion_matrix_illustration()"
   ]
  },
  {
   "cell_type": "code",
   "execution_count": 32,
   "id": "420a8b2b",
   "metadata": {},
   "outputs": [
    {
     "name": "stdout",
     "output_type": "stream",
     "text": [
      "0.9777777777777777\n",
      "0.9512195121951219\n",
      "0.8297872340425532\n",
      "0.9950372208436724\n",
      "0.004962779156327543\n"
     ]
    }
   ],
   "source": [
    "# 정확도\n",
    "print( (401+39) / (401+2+8+39) )\n",
    "# 정밀도\n",
    "print( 39 / (39+2) ) # 예측 y 중 맞힌 것\n",
    "# 민감도(sensitivity) or 재현율(recall) or Tprate\n",
    "print( 39 / (39+8) ) # 실제 y 중 맞힌 것\n",
    "# 특이도\n",
    "print( 401 / (401+2) ) # 실제 N 중에 맞힌 것\n",
    "# Fprate\n",
    "print( 2 / (401+2) ) # 실제 N 중에 틀린 것."
   ]
  },
  {
   "cell_type": "code",
   "execution_count": null,
   "id": "0e35552f",
   "metadata": {},
   "outputs": [],
   "source": []
  }
 ],
 "metadata": {
  "kernelspec": {
   "display_name": "Python 3",
   "language": "python",
   "name": "python3"
  },
  "language_info": {
   "codemirror_mode": {
    "name": "ipython",
    "version": 3
   },
   "file_extension": ".py",
   "mimetype": "text/x-python",
   "name": "python",
   "nbconvert_exporter": "python",
   "pygments_lexer": "ipython3",
   "version": "3.8.8"
  }
 },
 "nbformat": 4,
 "nbformat_minor": 5
}
