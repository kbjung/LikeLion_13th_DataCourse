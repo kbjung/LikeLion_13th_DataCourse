{
 "cells": [
  {
   "cell_type": "markdown",
   "id": "efe0de07",
   "metadata": {},
   "source": [
    "### 교차 검증 실습"
   ]
  },
  {
   "cell_type": "code",
   "execution_count": 1,
   "id": "3c28f8f7",
   "metadata": {},
   "outputs": [],
   "source": [
    "import os, warnings\n",
    "import numpy as np\n",
    "# 경고 메세지 무시하거나 숨길때(ignore), 다시보이게(default)\n",
    "# warnings.filterwarnings(action='ignore')\n",
    "warnings.filterwarnings(action='ignore')"
   ]
  },
  {
   "cell_type": "code",
   "execution_count": 18,
   "id": "f8fc443e",
   "metadata": {},
   "outputs": [],
   "source": [
    "from sklearn.model_selection import train_test_split, cross_val_score, KFold\n",
    "from sklearn.neighbors import KNeighborsClassifier\n",
    "import pandas as pd"
   ]
  },
  {
   "cell_type": "code",
   "execution_count": 3,
   "id": "fa68f97a",
   "metadata": {},
   "outputs": [
    {
     "data": {
      "text/plain": [
       "((891, 12), (418, 11))"
      ]
     },
     "execution_count": 3,
     "metadata": {},
     "output_type": "execute_result"
    }
   ],
   "source": [
    "train = pd.read_csv('data/train.csv')\n",
    "test = pd.read_csv('data/test.csv')\n",
    "train.shape, test.shape"
   ]
  },
  {
   "cell_type": "markdown",
   "id": "84d5dcbf",
   "metadata": {},
   "source": [
    "### 데이터 확인"
   ]
  },
  {
   "cell_type": "code",
   "execution_count": 4,
   "id": "6967c990",
   "metadata": {},
   "outputs": [
    {
     "data": {
      "text/html": [
       "<div>\n",
       "<style scoped>\n",
       "    .dataframe tbody tr th:only-of-type {\n",
       "        vertical-align: middle;\n",
       "    }\n",
       "\n",
       "    .dataframe tbody tr th {\n",
       "        vertical-align: top;\n",
       "    }\n",
       "\n",
       "    .dataframe thead th {\n",
       "        text-align: right;\n",
       "    }\n",
       "</style>\n",
       "<table border=\"1\" class=\"dataframe\">\n",
       "  <thead>\n",
       "    <tr style=\"text-align: right;\">\n",
       "      <th></th>\n",
       "      <th>PassengerId</th>\n",
       "      <th>Survived</th>\n",
       "      <th>Pclass</th>\n",
       "      <th>Name</th>\n",
       "      <th>Sex</th>\n",
       "      <th>Age</th>\n",
       "      <th>SibSp</th>\n",
       "      <th>Parch</th>\n",
       "      <th>Ticket</th>\n",
       "      <th>Fare</th>\n",
       "      <th>Cabin</th>\n",
       "      <th>Embarked</th>\n",
       "    </tr>\n",
       "  </thead>\n",
       "  <tbody>\n",
       "    <tr>\n",
       "      <th>0</th>\n",
       "      <td>1</td>\n",
       "      <td>0</td>\n",
       "      <td>3</td>\n",
       "      <td>Braund, Mr. Owen Harris</td>\n",
       "      <td>male</td>\n",
       "      <td>22.0</td>\n",
       "      <td>1</td>\n",
       "      <td>0</td>\n",
       "      <td>A/5 21171</td>\n",
       "      <td>7.2500</td>\n",
       "      <td>NaN</td>\n",
       "      <td>S</td>\n",
       "    </tr>\n",
       "    <tr>\n",
       "      <th>1</th>\n",
       "      <td>2</td>\n",
       "      <td>1</td>\n",
       "      <td>1</td>\n",
       "      <td>Cumings, Mrs. John Bradley (Florence Briggs Th...</td>\n",
       "      <td>female</td>\n",
       "      <td>38.0</td>\n",
       "      <td>1</td>\n",
       "      <td>0</td>\n",
       "      <td>PC 17599</td>\n",
       "      <td>71.2833</td>\n",
       "      <td>C85</td>\n",
       "      <td>C</td>\n",
       "    </tr>\n",
       "    <tr>\n",
       "      <th>2</th>\n",
       "      <td>3</td>\n",
       "      <td>1</td>\n",
       "      <td>3</td>\n",
       "      <td>Heikkinen, Miss. Laina</td>\n",
       "      <td>female</td>\n",
       "      <td>26.0</td>\n",
       "      <td>0</td>\n",
       "      <td>0</td>\n",
       "      <td>STON/O2. 3101282</td>\n",
       "      <td>7.9250</td>\n",
       "      <td>NaN</td>\n",
       "      <td>S</td>\n",
       "    </tr>\n",
       "    <tr>\n",
       "      <th>3</th>\n",
       "      <td>4</td>\n",
       "      <td>1</td>\n",
       "      <td>1</td>\n",
       "      <td>Futrelle, Mrs. Jacques Heath (Lily May Peel)</td>\n",
       "      <td>female</td>\n",
       "      <td>35.0</td>\n",
       "      <td>1</td>\n",
       "      <td>0</td>\n",
       "      <td>113803</td>\n",
       "      <td>53.1000</td>\n",
       "      <td>C123</td>\n",
       "      <td>S</td>\n",
       "    </tr>\n",
       "    <tr>\n",
       "      <th>4</th>\n",
       "      <td>5</td>\n",
       "      <td>0</td>\n",
       "      <td>3</td>\n",
       "      <td>Allen, Mr. William Henry</td>\n",
       "      <td>male</td>\n",
       "      <td>35.0</td>\n",
       "      <td>0</td>\n",
       "      <td>0</td>\n",
       "      <td>373450</td>\n",
       "      <td>8.0500</td>\n",
       "      <td>NaN</td>\n",
       "      <td>S</td>\n",
       "    </tr>\n",
       "  </tbody>\n",
       "</table>\n",
       "</div>"
      ],
      "text/plain": [
       "   PassengerId  Survived  Pclass  \\\n",
       "0            1         0       3   \n",
       "1            2         1       1   \n",
       "2            3         1       3   \n",
       "3            4         1       1   \n",
       "4            5         0       3   \n",
       "\n",
       "                                                Name     Sex   Age  SibSp  \\\n",
       "0                            Braund, Mr. Owen Harris    male  22.0      1   \n",
       "1  Cumings, Mrs. John Bradley (Florence Briggs Th...  female  38.0      1   \n",
       "2                             Heikkinen, Miss. Laina  female  26.0      0   \n",
       "3       Futrelle, Mrs. Jacques Heath (Lily May Peel)  female  35.0      1   \n",
       "4                           Allen, Mr. William Henry    male  35.0      0   \n",
       "\n",
       "   Parch            Ticket     Fare Cabin Embarked  \n",
       "0      0         A/5 21171   7.2500   NaN        S  \n",
       "1      0          PC 17599  71.2833   C85        C  \n",
       "2      0  STON/O2. 3101282   7.9250   NaN        S  \n",
       "3      0            113803  53.1000  C123        S  \n",
       "4      0            373450   8.0500   NaN        S  "
      ]
     },
     "execution_count": 4,
     "metadata": {},
     "output_type": "execute_result"
    }
   ],
   "source": [
    "train.head()"
   ]
  },
  {
   "cell_type": "code",
   "execution_count": 5,
   "id": "fed6f2e8",
   "metadata": {
    "scrolled": true
   },
   "outputs": [
    {
     "data": {
      "text/html": [
       "<div>\n",
       "<style scoped>\n",
       "    .dataframe tbody tr th:only-of-type {\n",
       "        vertical-align: middle;\n",
       "    }\n",
       "\n",
       "    .dataframe tbody tr th {\n",
       "        vertical-align: top;\n",
       "    }\n",
       "\n",
       "    .dataframe thead th {\n",
       "        text-align: right;\n",
       "    }\n",
       "</style>\n",
       "<table border=\"1\" class=\"dataframe\">\n",
       "  <thead>\n",
       "    <tr style=\"text-align: right;\">\n",
       "      <th></th>\n",
       "      <th>PassengerId</th>\n",
       "      <th>Pclass</th>\n",
       "      <th>Name</th>\n",
       "      <th>Sex</th>\n",
       "      <th>Age</th>\n",
       "      <th>SibSp</th>\n",
       "      <th>Parch</th>\n",
       "      <th>Ticket</th>\n",
       "      <th>Fare</th>\n",
       "      <th>Cabin</th>\n",
       "      <th>Embarked</th>\n",
       "    </tr>\n",
       "  </thead>\n",
       "  <tbody>\n",
       "    <tr>\n",
       "      <th>0</th>\n",
       "      <td>892</td>\n",
       "      <td>3</td>\n",
       "      <td>Kelly, Mr. James</td>\n",
       "      <td>male</td>\n",
       "      <td>34.5</td>\n",
       "      <td>0</td>\n",
       "      <td>0</td>\n",
       "      <td>330911</td>\n",
       "      <td>7.8292</td>\n",
       "      <td>NaN</td>\n",
       "      <td>Q</td>\n",
       "    </tr>\n",
       "    <tr>\n",
       "      <th>1</th>\n",
       "      <td>893</td>\n",
       "      <td>3</td>\n",
       "      <td>Wilkes, Mrs. James (Ellen Needs)</td>\n",
       "      <td>female</td>\n",
       "      <td>47.0</td>\n",
       "      <td>1</td>\n",
       "      <td>0</td>\n",
       "      <td>363272</td>\n",
       "      <td>7.0000</td>\n",
       "      <td>NaN</td>\n",
       "      <td>S</td>\n",
       "    </tr>\n",
       "    <tr>\n",
       "      <th>2</th>\n",
       "      <td>894</td>\n",
       "      <td>2</td>\n",
       "      <td>Myles, Mr. Thomas Francis</td>\n",
       "      <td>male</td>\n",
       "      <td>62.0</td>\n",
       "      <td>0</td>\n",
       "      <td>0</td>\n",
       "      <td>240276</td>\n",
       "      <td>9.6875</td>\n",
       "      <td>NaN</td>\n",
       "      <td>Q</td>\n",
       "    </tr>\n",
       "    <tr>\n",
       "      <th>3</th>\n",
       "      <td>895</td>\n",
       "      <td>3</td>\n",
       "      <td>Wirz, Mr. Albert</td>\n",
       "      <td>male</td>\n",
       "      <td>27.0</td>\n",
       "      <td>0</td>\n",
       "      <td>0</td>\n",
       "      <td>315154</td>\n",
       "      <td>8.6625</td>\n",
       "      <td>NaN</td>\n",
       "      <td>S</td>\n",
       "    </tr>\n",
       "    <tr>\n",
       "      <th>4</th>\n",
       "      <td>896</td>\n",
       "      <td>3</td>\n",
       "      <td>Hirvonen, Mrs. Alexander (Helga E Lindqvist)</td>\n",
       "      <td>female</td>\n",
       "      <td>22.0</td>\n",
       "      <td>1</td>\n",
       "      <td>1</td>\n",
       "      <td>3101298</td>\n",
       "      <td>12.2875</td>\n",
       "      <td>NaN</td>\n",
       "      <td>S</td>\n",
       "    </tr>\n",
       "  </tbody>\n",
       "</table>\n",
       "</div>"
      ],
      "text/plain": [
       "   PassengerId  Pclass                                          Name     Sex  \\\n",
       "0          892       3                              Kelly, Mr. James    male   \n",
       "1          893       3              Wilkes, Mrs. James (Ellen Needs)  female   \n",
       "2          894       2                     Myles, Mr. Thomas Francis    male   \n",
       "3          895       3                              Wirz, Mr. Albert    male   \n",
       "4          896       3  Hirvonen, Mrs. Alexander (Helga E Lindqvist)  female   \n",
       "\n",
       "    Age  SibSp  Parch   Ticket     Fare Cabin Embarked  \n",
       "0  34.5      0      0   330911   7.8292   NaN        Q  \n",
       "1  47.0      1      0   363272   7.0000   NaN        S  \n",
       "2  62.0      0      0   240276   9.6875   NaN        Q  \n",
       "3  27.0      0      0   315154   8.6625   NaN        S  \n",
       "4  22.0      1      1  3101298  12.2875   NaN        S  "
      ]
     },
     "execution_count": 5,
     "metadata": {},
     "output_type": "execute_result"
    }
   ],
   "source": [
    "test.head()"
   ]
  },
  {
   "cell_type": "markdown",
   "id": "7f3bb8b3",
   "metadata": {},
   "source": [
    "### 결측치 처리"
   ]
  },
  {
   "cell_type": "code",
   "execution_count": 6,
   "id": "34179a83",
   "metadata": {},
   "outputs": [
    {
     "name": "stdout",
     "output_type": "stream",
     "text": [
      "<class 'pandas.core.frame.DataFrame'>\n",
      "RangeIndex: 891 entries, 0 to 890\n",
      "Data columns (total 12 columns):\n",
      " #   Column       Non-Null Count  Dtype  \n",
      "---  ------       --------------  -----  \n",
      " 0   PassengerId  891 non-null    int64  \n",
      " 1   Survived     891 non-null    int64  \n",
      " 2   Pclass       891 non-null    int64  \n",
      " 3   Name         891 non-null    object \n",
      " 4   Sex          891 non-null    object \n",
      " 5   Age          714 non-null    float64\n",
      " 6   SibSp        891 non-null    int64  \n",
      " 7   Parch        891 non-null    int64  \n",
      " 8   Ticket       891 non-null    object \n",
      " 9   Fare         891 non-null    float64\n",
      " 10  Cabin        204 non-null    object \n",
      " 11  Embarked     889 non-null    object \n",
      "dtypes: float64(2), int64(5), object(5)\n",
      "memory usage: 83.7+ KB\n"
     ]
    }
   ],
   "source": [
    "train.info()"
   ]
  },
  {
   "cell_type": "code",
   "execution_count": 7,
   "id": "046f112c",
   "metadata": {
    "scrolled": true
   },
   "outputs": [
    {
     "name": "stdout",
     "output_type": "stream",
     "text": [
      "<class 'pandas.core.frame.DataFrame'>\n",
      "RangeIndex: 418 entries, 0 to 417\n",
      "Data columns (total 11 columns):\n",
      " #   Column       Non-Null Count  Dtype  \n",
      "---  ------       --------------  -----  \n",
      " 0   PassengerId  418 non-null    int64  \n",
      " 1   Pclass       418 non-null    int64  \n",
      " 2   Name         418 non-null    object \n",
      " 3   Sex          418 non-null    object \n",
      " 4   Age          332 non-null    float64\n",
      " 5   SibSp        418 non-null    int64  \n",
      " 6   Parch        418 non-null    int64  \n",
      " 7   Ticket       418 non-null    object \n",
      " 8   Fare         417 non-null    float64\n",
      " 9   Cabin        91 non-null     object \n",
      " 10  Embarked     418 non-null    object \n",
      "dtypes: float64(2), int64(4), object(5)\n",
      "memory usage: 36.0+ KB\n"
     ]
    }
   ],
   "source": [
    "test.info()"
   ]
  },
  {
   "cell_type": "markdown",
   "id": "bdb76efd",
   "metadata": {},
   "source": [
    "#### Age 결측치 평균으로 채우기"
   ]
  },
  {
   "cell_type": "code",
   "execution_count": 8,
   "id": "04eeae1d",
   "metadata": {},
   "outputs": [
    {
     "name": "stdout",
     "output_type": "stream",
     "text": [
      "<class 'pandas.core.frame.DataFrame'>\n",
      "RangeIndex: 891 entries, 0 to 890\n",
      "Data columns (total 12 columns):\n",
      " #   Column       Non-Null Count  Dtype  \n",
      "---  ------       --------------  -----  \n",
      " 0   PassengerId  891 non-null    int64  \n",
      " 1   Survived     891 non-null    int64  \n",
      " 2   Pclass       891 non-null    int64  \n",
      " 3   Name         891 non-null    object \n",
      " 4   Sex          891 non-null    object \n",
      " 5   Age          891 non-null    float64\n",
      " 6   SibSp        891 non-null    int64  \n",
      " 7   Parch        891 non-null    int64  \n",
      " 8   Ticket       891 non-null    object \n",
      " 9   Fare         891 non-null    float64\n",
      " 10  Cabin        204 non-null    object \n",
      " 11  Embarked     889 non-null    object \n",
      "dtypes: float64(2), int64(5), object(5)\n",
      "memory usage: 83.7+ KB\n",
      "<class 'pandas.core.frame.DataFrame'>\n",
      "RangeIndex: 418 entries, 0 to 417\n",
      "Data columns (total 11 columns):\n",
      " #   Column       Non-Null Count  Dtype  \n",
      "---  ------       --------------  -----  \n",
      " 0   PassengerId  418 non-null    int64  \n",
      " 1   Pclass       418 non-null    int64  \n",
      " 2   Name         418 non-null    object \n",
      " 3   Sex          418 non-null    object \n",
      " 4   Age          418 non-null    float64\n",
      " 5   SibSp        418 non-null    int64  \n",
      " 6   Parch        418 non-null    int64  \n",
      " 7   Ticket       418 non-null    object \n",
      " 8   Fare         417 non-null    float64\n",
      " 9   Cabin        91 non-null     object \n",
      " 10  Embarked     418 non-null    object \n",
      "dtypes: float64(2), int64(4), object(5)\n",
      "memory usage: 36.0+ KB\n"
     ]
    },
    {
     "data": {
      "text/plain": [
       "(None, None)"
      ]
     },
     "execution_count": 8,
     "metadata": {},
     "output_type": "execute_result"
    }
   ],
   "source": [
    "train.Age = train.Age.fillna(train.Age.mean())\n",
    "test.Age = test.Age.fillna(train.Age.mean())\n",
    "train.info(), test.info()"
   ]
  },
  {
   "cell_type": "code",
   "execution_count": 9,
   "id": "6d4e67da",
   "metadata": {},
   "outputs": [
    {
     "data": {
      "text/plain": [
       "S    644\n",
       "C    168\n",
       "Q     77\n",
       "Name: Embarked, dtype: int64"
      ]
     },
     "execution_count": 9,
     "metadata": {},
     "output_type": "execute_result"
    }
   ],
   "source": [
    "train.Embarked.value_counts()"
   ]
  },
  {
   "cell_type": "code",
   "execution_count": 10,
   "id": "ba9128f7",
   "metadata": {},
   "outputs": [
    {
     "data": {
      "text/plain": [
       "S    270\n",
       "C    102\n",
       "Q     46\n",
       "Name: Embarked, dtype: int64"
      ]
     },
     "execution_count": 10,
     "metadata": {},
     "output_type": "execute_result"
    }
   ],
   "source": [
    "test.Embarked.value_counts()"
   ]
  },
  {
   "cell_type": "code",
   "execution_count": 12,
   "id": "1e8c6322",
   "metadata": {},
   "outputs": [
    {
     "name": "stdout",
     "output_type": "stream",
     "text": [
      "<class 'pandas.core.frame.DataFrame'>\n",
      "RangeIndex: 891 entries, 0 to 890\n",
      "Data columns (total 12 columns):\n",
      " #   Column       Non-Null Count  Dtype  \n",
      "---  ------       --------------  -----  \n",
      " 0   PassengerId  891 non-null    int64  \n",
      " 1   Survived     891 non-null    int64  \n",
      " 2   Pclass       891 non-null    int64  \n",
      " 3   Name         891 non-null    object \n",
      " 4   Sex          891 non-null    object \n",
      " 5   Age          891 non-null    float64\n",
      " 6   SibSp        891 non-null    int64  \n",
      " 7   Parch        891 non-null    int64  \n",
      " 8   Ticket       891 non-null    object \n",
      " 9   Fare         891 non-null    float64\n",
      " 10  Cabin        204 non-null    object \n",
      " 11  Embarked     891 non-null    object \n",
      "dtypes: float64(2), int64(5), object(5)\n",
      "memory usage: 83.7+ KB\n",
      "<class 'pandas.core.frame.DataFrame'>\n",
      "RangeIndex: 418 entries, 0 to 417\n",
      "Data columns (total 11 columns):\n",
      " #   Column       Non-Null Count  Dtype  \n",
      "---  ------       --------------  -----  \n",
      " 0   PassengerId  418 non-null    int64  \n",
      " 1   Pclass       418 non-null    int64  \n",
      " 2   Name         418 non-null    object \n",
      " 3   Sex          418 non-null    object \n",
      " 4   Age          418 non-null    float64\n",
      " 5   SibSp        418 non-null    int64  \n",
      " 6   Parch        418 non-null    int64  \n",
      " 7   Ticket       418 non-null    object \n",
      " 8   Fare         417 non-null    float64\n",
      " 9   Cabin        91 non-null     object \n",
      " 10  Embarked     418 non-null    object \n",
      "dtypes: float64(2), int64(4), object(5)\n",
      "memory usage: 36.0+ KB\n"
     ]
    },
    {
     "data": {
      "text/plain": [
       "(None, None)"
      ]
     },
     "execution_count": 12,
     "metadata": {},
     "output_type": "execute_result"
    }
   ],
   "source": [
    "train.Embarked = train.Embarked.fillna('S')\n",
    "test.Embarked = test.Embarked.fillna('S')\n",
    "train.info(), test.info()"
   ]
  },
  {
   "cell_type": "markdown",
   "id": "bbfe195b",
   "metadata": {},
   "source": [
    "### 데이터 형태 수치형으로 변환"
   ]
  },
  {
   "cell_type": "code",
   "execution_count": 13,
   "id": "54453cb3",
   "metadata": {},
   "outputs": [
    {
     "data": {
      "text/plain": [
       "male      577\n",
       "female    314\n",
       "Name: Sex, dtype: int64"
      ]
     },
     "execution_count": 13,
     "metadata": {},
     "output_type": "execute_result"
    }
   ],
   "source": [
    "train.Sex.value_counts()"
   ]
  },
  {
   "cell_type": "code",
   "execution_count": 14,
   "id": "1e9715a4",
   "metadata": {
    "scrolled": true
   },
   "outputs": [
    {
     "data": {
      "text/plain": [
       "male      266\n",
       "female    152\n",
       "Name: Sex, dtype: int64"
      ]
     },
     "execution_count": 14,
     "metadata": {},
     "output_type": "execute_result"
    }
   ],
   "source": [
    "test.Sex.value_counts()"
   ]
  },
  {
   "cell_type": "code",
   "execution_count": 15,
   "id": "a9c04d3b",
   "metadata": {},
   "outputs": [
    {
     "name": "stdout",
     "output_type": "stream",
     "text": [
      "<class 'pandas.core.frame.DataFrame'>\n",
      "RangeIndex: 891 entries, 0 to 890\n",
      "Data columns (total 13 columns):\n",
      " #   Column       Non-Null Count  Dtype  \n",
      "---  ------       --------------  -----  \n",
      " 0   PassengerId  891 non-null    int64  \n",
      " 1   Survived     891 non-null    int64  \n",
      " 2   Pclass       891 non-null    int64  \n",
      " 3   Name         891 non-null    object \n",
      " 4   Sex          891 non-null    object \n",
      " 5   Age          891 non-null    float64\n",
      " 6   SibSp        891 non-null    int64  \n",
      " 7   Parch        891 non-null    int64  \n",
      " 8   Ticket       891 non-null    object \n",
      " 9   Fare         891 non-null    float64\n",
      " 10  Cabin        204 non-null    object \n",
      " 11  Embarked     891 non-null    object \n",
      " 12  Sex_n        891 non-null    int64  \n",
      "dtypes: float64(2), int64(6), object(5)\n",
      "memory usage: 90.6+ KB\n",
      "<class 'pandas.core.frame.DataFrame'>\n",
      "RangeIndex: 418 entries, 0 to 417\n",
      "Data columns (total 12 columns):\n",
      " #   Column       Non-Null Count  Dtype  \n",
      "---  ------       --------------  -----  \n",
      " 0   PassengerId  418 non-null    int64  \n",
      " 1   Pclass       418 non-null    int64  \n",
      " 2   Name         418 non-null    object \n",
      " 3   Sex          418 non-null    object \n",
      " 4   Age          418 non-null    float64\n",
      " 5   SibSp        418 non-null    int64  \n",
      " 6   Parch        418 non-null    int64  \n",
      " 7   Ticket       418 non-null    object \n",
      " 8   Fare         417 non-null    float64\n",
      " 9   Cabin        91 non-null     object \n",
      " 10  Embarked     418 non-null    object \n",
      " 11  Sex_n        418 non-null    int64  \n",
      "dtypes: float64(2), int64(5), object(5)\n",
      "memory usage: 39.3+ KB\n"
     ]
    },
    {
     "data": {
      "text/plain": [
       "(None, None)"
      ]
     },
     "execution_count": 15,
     "metadata": {},
     "output_type": "execute_result"
    }
   ],
   "source": [
    "train['Sex_n'] = train.Sex.map({'male':1, 'female':2})\n",
    "test['Sex_n'] = test.Sex.map({'male':1, 'female':2})\n",
    "train.info(), test.info()"
   ]
  },
  {
   "cell_type": "code",
   "execution_count": null,
   "id": "728fc139",
   "metadata": {},
   "outputs": [],
   "source": [
    "train['Embarked_n'] = train['Embarked'].map({'S':1, 'C':2, 'Q':3})\n",
    "test['Embarked_n'] = test['Embarked'].map({'S':1, 'C':2, 'Q':3})\n",
    "train.info(), test.info()"
   ]
  },
  {
   "cell_type": "markdown",
   "id": "87b61cc5",
   "metadata": {},
   "source": [
    "### 데이터 분할 및 특성 선택"
   ]
  },
  {
   "cell_type": "code",
   "execution_count": 17,
   "id": "64d508a5",
   "metadata": {},
   "outputs": [
    {
     "data": {
      "text/plain": [
       "((668, 4), (668,), (223, 4), (223,))"
      ]
     },
     "execution_count": 17,
     "metadata": {},
     "output_type": "execute_result"
    }
   ],
   "source": [
    "sel = ['Pclass', 'Age', 'Sex_n', 'Embarked_n']\n",
    "X = train[sel]\n",
    "y = train['Survived']\n",
    "\n",
    "X_train, X_test, y_train, y_test = train_test_split(X, y, random_state=0)\n",
    "X_train.shape, y_train.shape, X_test.shape, y_test.shape"
   ]
  },
  {
   "cell_type": "markdown",
   "id": "28693c04",
   "metadata": {},
   "source": [
    "### 모델 생성, 교차 검증"
   ]
  },
  {
   "cell_type": "code",
   "execution_count": 23,
   "id": "c9f1f845",
   "metadata": {},
   "outputs": [
    {
     "name": "stdout",
     "output_type": "stream",
     "text": [
      "교차 검증 점수 : [0.76536313 0.78651685 0.76966292 0.76966292 0.7752809 ]\n",
      "교자 검증 점수 평균 : 0.7732973447994476\n"
     ]
    }
   ],
   "source": [
    "knn = KNeighborsClassifier()\n",
    "knn.fit(X_train,  y_train)\n",
    "# kfold = KFold(n_splits=cv 개수, shuffle=샘플을 섞는 여부)\n",
    "kfold = KFold(n_splits=5, shuffle=True)\n",
    "# scores = cross_val_score(모델 객체, 입력, 결과, cv = cross_validation 개수)\n",
    "score = cross_val_score(knn, X, y, cv=kfold)\n",
    "print(f\"교차 검증 점수 : {score}\")\n",
    "print(\"교자 검증 점수 평균 :\", score.mean())"
   ]
  },
  {
   "cell_type": "markdown",
   "id": "91c7ef09",
   "metadata": {},
   "source": [
    "### knn 모델 test_size 조절하여 정확도 올리기"
   ]
  },
  {
   "cell_type": "markdown",
   "id": "70146726",
   "metadata": {},
   "source": [
    "##### 훈련 : 테스트 = 9 : 1"
   ]
  },
  {
   "cell_type": "code",
   "execution_count": 21,
   "id": "1016ec4e",
   "metadata": {},
   "outputs": [
    {
     "data": {
      "text/plain": [
       "((801, 4), (801,), (90, 4), (90,))"
      ]
     },
     "execution_count": 21,
     "metadata": {},
     "output_type": "execute_result"
    }
   ],
   "source": [
    "X_train, X_test, y_train, y_test = train_test_split(X, y, test_size = 0.1, random_state=0)\n",
    "X_train.shape, y_train.shape, X_test.shape, y_test.shape"
   ]
  },
  {
   "cell_type": "code",
   "execution_count": 24,
   "id": "9323768b",
   "metadata": {},
   "outputs": [
    {
     "name": "stdout",
     "output_type": "stream",
     "text": [
      "교차 검증 점수 : [0.81005587 0.74157303 0.74719101 0.78651685 0.75280899]\n",
      "교자 검증 점수 평균 : 0.7676291507124475\n"
     ]
    }
   ],
   "source": [
    "knn.fit(X_train,  y_train)\n",
    "# kfold = KFold(n_splits=cv 개수, shuffle=샘플을 섞는 여부)\n",
    "kfold = KFold(n_splits=5, shuffle=True)\n",
    "# scores = cross_val_score(모델 객체, 입력, 결과, cv = cross_validation 개수)\n",
    "score = cross_val_score(knn, X, y, cv=kfold)\n",
    "print(f\"교차 검증 점수 : {score}\")\n",
    "print(\"교자 검증 점수 평균 :\", score.mean())"
   ]
  },
  {
   "cell_type": "markdown",
   "id": "0341f5a9",
   "metadata": {},
   "source": [
    "##### 훈련 : 테스트 = 8 : 2"
   ]
  },
  {
   "cell_type": "code",
   "execution_count": 25,
   "id": "36794567",
   "metadata": {},
   "outputs": [
    {
     "data": {
      "text/plain": [
       "((712, 4), (712,), (179, 4), (179,))"
      ]
     },
     "execution_count": 25,
     "metadata": {},
     "output_type": "execute_result"
    }
   ],
   "source": [
    "X_train, X_test, y_train, y_test = train_test_split(X, y, test_size = 0.2, random_state=0)\n",
    "X_train.shape, y_train.shape, X_test.shape, y_test.shape"
   ]
  },
  {
   "cell_type": "code",
   "execution_count": 26,
   "id": "a513dcca",
   "metadata": {},
   "outputs": [
    {
     "name": "stdout",
     "output_type": "stream",
     "text": [
      "교차 검증 점수 : [0.7877095  0.78651685 0.76966292 0.74157303 0.76966292]\n",
      "교자 검증 점수 평균 : 0.7710250455087566\n"
     ]
    }
   ],
   "source": [
    "knn.fit(X_train,  y_train)\n",
    "# kfold = KFold(n_splits=cv 개수, shuffle=샘플을 섞는 여부)\n",
    "kfold = KFold(n_splits=5, shuffle=True)\n",
    "# scores = cross_val_score(모델 객체, 입력, 결과, cv = cross_validation 개수)\n",
    "score = cross_val_score(knn, X, y, cv=kfold)\n",
    "print(f\"교차 검증 점수 : {score}\")\n",
    "print(\"교자 검증 점수 평균 :\", score.mean())"
   ]
  },
  {
   "cell_type": "markdown",
   "id": "7735ef30",
   "metadata": {},
   "source": [
    "##### 훈련 : 테스트 = 7 : 3"
   ]
  },
  {
   "cell_type": "code",
   "execution_count": 27,
   "id": "babbb33e",
   "metadata": {},
   "outputs": [
    {
     "data": {
      "text/plain": [
       "((623, 4), (623,), (268, 4), (268,))"
      ]
     },
     "execution_count": 27,
     "metadata": {},
     "output_type": "execute_result"
    }
   ],
   "source": [
    "X_train, X_test, y_train, y_test = train_test_split(X, y, test_size = 0.3, random_state=0)\n",
    "X_train.shape, y_train.shape, X_test.shape, y_test.shape"
   ]
  },
  {
   "cell_type": "code",
   "execution_count": 28,
   "id": "157e63f3",
   "metadata": {},
   "outputs": [
    {
     "name": "stdout",
     "output_type": "stream",
     "text": [
      "교차 검증 점수 : [0.73743017 0.76966292 0.78651685 0.78089888 0.78089888]\n",
      "교자 검증 점수 평균 : 0.7710815391375306\n"
     ]
    }
   ],
   "source": [
    "knn.fit(X_train,  y_train)\n",
    "# kfold = KFold(n_splits=cv 개수, shuffle=샘플을 섞는 여부)\n",
    "kfold = KFold(n_splits=5, shuffle=True)\n",
    "# scores = cross_val_score(모델 객체, 입력, 결과, cv = cross_validation 개수)\n",
    "score = cross_val_score(knn, X, y, cv=kfold)\n",
    "print(f\"교차 검증 점수 : {score}\")\n",
    "print(\"교자 검증 점수 평균 :\", score.mean())"
   ]
  },
  {
   "cell_type": "markdown",
   "id": "58f88cff",
   "metadata": {},
   "source": [
    "##### 훈련 : 테스트 = 6 : 4"
   ]
  },
  {
   "cell_type": "code",
   "execution_count": 29,
   "id": "a206c78c",
   "metadata": {},
   "outputs": [
    {
     "data": {
      "text/plain": [
       "((534, 4), (534,), (357, 4), (357,))"
      ]
     },
     "execution_count": 29,
     "metadata": {},
     "output_type": "execute_result"
    }
   ],
   "source": [
    "X_train, X_test, y_train, y_test = train_test_split(X, y, test_size = 0.4, random_state=0)\n",
    "X_train.shape, y_train.shape, X_test.shape, y_test.shape"
   ]
  },
  {
   "cell_type": "code",
   "execution_count": 30,
   "id": "25105c92",
   "metadata": {},
   "outputs": [
    {
     "name": "stdout",
     "output_type": "stream",
     "text": [
      "교차 검증 점수 : [0.74860335 0.75280899 0.78089888 0.80898876 0.75842697]\n",
      "교자 검증 점수 평균 : 0.7699453894921849\n"
     ]
    }
   ],
   "source": [
    "knn.fit(X_train,  y_train)\n",
    "# kfold = KFold(n_splits=cv 개수, shuffle=샘플을 섞는 여부)\n",
    "kfold = KFold(n_splits=5, shuffle=True)\n",
    "# scores = cross_val_score(모델 객체, 입력, 결과, cv = cross_validation 개수)\n",
    "score = cross_val_score(knn, X, y, cv=kfold)\n",
    "print(f\"교차 검증 점수 : {score}\")\n",
    "print(\"교자 검증 점수 평균 :\", score.mean())"
   ]
  },
  {
   "cell_type": "markdown",
   "id": "ee174f4e",
   "metadata": {},
   "source": [
    "##### 훈련 : 테스트 = 5 : 5"
   ]
  },
  {
   "cell_type": "code",
   "execution_count": 31,
   "id": "bfb557ec",
   "metadata": {},
   "outputs": [
    {
     "data": {
      "text/plain": [
       "((445, 4), (445,), (446, 4), (446,))"
      ]
     },
     "execution_count": 31,
     "metadata": {},
     "output_type": "execute_result"
    }
   ],
   "source": [
    "X_train, X_test, y_train, y_test = train_test_split(X, y, test_size = 0.5, random_state=0)\n",
    "X_train.shape, y_train.shape, X_test.shape, y_test.shape"
   ]
  },
  {
   "cell_type": "code",
   "execution_count": 32,
   "id": "ec0887e5",
   "metadata": {},
   "outputs": [
    {
     "name": "stdout",
     "output_type": "stream",
     "text": [
      "교차 검증 점수 : [0.7877095  0.81460674 0.78651685 0.7247191  0.76404494]\n",
      "교자 검증 점수 평균 : 0.7755194275312285\n"
     ]
    }
   ],
   "source": [
    "knn.fit(X_train,  y_train)\n",
    "# kfold = KFold(n_splits=cv 개수, shuffle=샘플을 섞는 여부)\n",
    "kfold = KFold(n_splits=5, shuffle=True)\n",
    "# scores = cross_val_score(모델 객체, 입력, 결과, cv = cross_validation 개수)\n",
    "score = cross_val_score(knn, X, y, cv=kfold)\n",
    "print(f\"교차 검증 점수 : {score}\")\n",
    "print(\"교자 검증 점수 평균 :\", score.mean())"
   ]
  },
  {
   "cell_type": "markdown",
   "id": "ac89ed44",
   "metadata": {},
   "source": [
    "#### test_size 조절해서 교차 검증 점수 출력"
   ]
  },
  {
   "cell_type": "code",
   "execution_count": 33,
   "id": "71525bcc",
   "metadata": {},
   "outputs": [
    {
     "name": "stdout",
     "output_type": "stream",
     "text": [
      "훈련 : 테스트 = 9 : 1\n",
      "교차 검증 점수 : [0.87709497 0.79775281 0.73595506 0.79213483 0.75842697]\n",
      "교자 검증 점수 평균 : 0.7922729269976775\n",
      "\n",
      "훈련 : 테스트 = 8 : 2\n",
      "교차 검증 점수 : [0.73743017 0.78651685 0.83146067 0.75280899 0.79213483]\n",
      "교자 검증 점수 평균 : 0.7800703031824744\n",
      "\n",
      "훈련 : 테스트 = 7 : 3\n",
      "교차 검증 점수 : [0.77094972 0.71348315 0.79775281 0.7752809  0.7752809 ]\n",
      "교자 검증 점수 평균 : 0.766549494695876\n",
      "\n",
      "훈련 : 테스트 = 6 : 4\n",
      "교차 검증 점수 : [0.7877095  0.79775281 0.74157303 0.80337079 0.79213483]\n",
      "교자 검증 점수 평균 : 0.7845081915761722\n",
      "\n",
      "훈련 : 테스트 = 5 : 5\n",
      "교차 검증 점수 : [0.76536313 0.80337079 0.78089888 0.79775281 0.74719101]\n",
      "교자 검증 점수 평균 : 0.7789153223275376\n",
      "\n"
     ]
    }
   ],
   "source": [
    "for i in range(1, 6):\n",
    "    X_train, X_test, y_train, y_test = train_test_split(X, y, test_size = (i/10), random_state=0)\n",
    "    knn.fit(X_train,  y_train)\n",
    "    # kfold = KFold(n_splits=cv 개수, shuffle=샘플을 섞는 여부)\n",
    "    kfold = KFold(n_splits=5, shuffle=True)\n",
    "    # scores = cross_val_score(모델 객체, 입력, 결과, cv = cross_validation 개수)\n",
    "    score = cross_val_score(knn, X, y, cv=kfold)\n",
    "    print(f\"훈련 : 테스트 = {10-i} : {i}\")\n",
    "    print(f\"교차 검증 점수 : {score}\")\n",
    "    print(\"교자 검증 점수 평균 :\", score.mean())\n",
    "    print()"
   ]
  },
  {
   "cell_type": "markdown",
   "id": "a7034a8f",
   "metadata": {},
   "source": [
    "## 데이터의 'Age'를 median 값으로 채워서 검증 하기"
   ]
  },
  {
   "cell_type": "code",
   "execution_count": 34,
   "id": "89aa1600",
   "metadata": {
    "scrolled": true
   },
   "outputs": [
    {
     "name": "stdout",
     "output_type": "stream",
     "text": [
      "훈련 : 테스트 = 9 : 1\n",
      "교차 검증 점수 : [0.79329609 0.75842697 0.73033708 0.75280899 0.7752809 ]\n",
      "교자 검증 점수 평균 : 0.7620300043939487\n",
      "\n",
      "훈련 : 테스트 = 8 : 2\n",
      "교차 검증 점수 : [0.79888268 0.75842697 0.75280899 0.7752809  0.78089888]\n",
      "교자 검증 점수 평균 : 0.7732596823802649\n",
      "\n",
      "훈련 : 테스트 = 7 : 3\n",
      "교차 검증 점수 : [0.81564246 0.7752809  0.79213483 0.74719101 0.75842697]\n",
      "교자 검증 점수 평균 : 0.7777352331931454\n",
      "\n",
      "훈련 : 테스트 = 6 : 4\n",
      "교차 검증 점수 : [0.7150838  0.71348315 0.7752809  0.80337079 0.82022472]\n",
      "교자 검증 점수 평균 : 0.7654886698888959\n",
      "\n",
      "훈련 : 테스트 = 5 : 5\n",
      "교차 검증 점수 : [0.80446927 0.75842697 0.76404494 0.7247191  0.76404494]\n",
      "교자 검증 점수 평균 : 0.7631410457598393\n",
      "\n"
     ]
    }
   ],
   "source": [
    "# 데이터 읽기\n",
    "train = pd.read_csv('data/train.csv')\n",
    "test = pd.read_csv('data/test.csv')\n",
    "# 결측값 채우기(Age)\n",
    "train.Age = train.Age.fillna(train.Age.median())\n",
    "test.Age = test.Age.fillna(train.Age.median())\n",
    "# 결측값 채우기(Embarked)\n",
    "train.Embarked = train.Embarked.fillna('S')\n",
    "test.Embarked = test.Embarked.fillna('S')\n",
    "# 데이터 수치형으로 변환(Sex)\n",
    "train['Sex_n'] = train.Sex.map({'male':1, 'female':2})\n",
    "test['Sex_n'] = test.Sex.map({'male':1, 'female':2})\n",
    "# 데이터 수치형으로 변환(Embarked)\n",
    "train['Embarked_n'] = train['Embarked'].map({'S':1, 'C':2, 'Q':3})\n",
    "test['Embarked_n'] = test['Embarked'].map({'S':1, 'C':2, 'Q':3})\n",
    "# 데이터 특성 선택 및 분할\n",
    "sel = ['Pclass', 'Age', 'Sex_n', 'Embarked_n']\n",
    "X = train[sel]\n",
    "y = train['Survived']\n",
    "# 모델 생성\n",
    "knn = KNeighborsClassifier()\n",
    "# test_size 변경\n",
    "for i in range(1, 6):\n",
    "    X_train, X_test, y_train, y_test = train_test_split(X, y, test_size = (i/10), random_state=0)\n",
    "    # 모델 훈련\n",
    "    knn.fit(X_train,  y_train)\n",
    "    # kfold = KFold(n_splits=cv 개수, shuffle=샘플을 섞는 여부)\n",
    "    kfold = KFold(n_splits=5, shuffle=True)\n",
    "    # scores = cross_val_score(모델 객체, 입력, 결과, cv = cross_validation 개수)\n",
    "    score = cross_val_score(knn, X, y, cv=kfold)\n",
    "    print(f\"훈련 : 테스트 = {10-i} : {i}\")\n",
    "    print(f\"교차 검증 점수 : {score}\")\n",
    "    print(\"교자 검증 점수 평균 :\", score.mean())\n",
    "    print()"
   ]
  },
  {
   "cell_type": "markdown",
   "id": "0f7bdc6a",
   "metadata": {},
   "source": [
    "## 데이터 분할 조정\n",
    "* 'Age' : median\n",
    "* statify 설정"
   ]
  },
  {
   "cell_type": "code",
   "execution_count": 38,
   "id": "c5947ddf",
   "metadata": {},
   "outputs": [
    {
     "name": "stdout",
     "output_type": "stream",
     "text": [
      "훈련 : 테스트 = 9 : 1\n",
      "교차 검증 점수 : [0.75977654 0.78651685 0.7247191  0.80898876 0.7752809 ]\n",
      "교자 검증 점수 평균 : 0.7710564308580754\n",
      "\n",
      "훈련 : 테스트 = 8 : 2\n",
      "교차 검증 점수 : [0.79329609 0.7247191  0.78089888 0.7752809  0.73595506]\n",
      "교자 검증 점수 평균 : 0.7620300043939489\n",
      "\n",
      "훈련 : 테스트 = 7 : 3\n",
      "교차 검증 점수 : [0.75418994 0.74719101 0.76404494 0.78651685 0.74719101]\n",
      "교자 검증 점수 평균 : 0.7598267528717596\n",
      "\n",
      "훈련 : 테스트 = 6 : 4\n",
      "교차 검증 점수 : [0.77094972 0.83146067 0.78089888 0.73033708 0.74719101]\n",
      "교자 검증 점수 평균 : 0.7721674722239659\n",
      "\n",
      "훈련 : 테스트 = 5 : 5\n",
      "교차 검증 점수 : [0.78212291 0.74719101 0.83146067 0.76966292 0.76404494]\n",
      "교자 검증 점수 평균 : 0.7788964911179461\n",
      "\n"
     ]
    }
   ],
   "source": [
    "# 데이터 읽기\n",
    "train = pd.read_csv('data/train.csv')\n",
    "test = pd.read_csv('data/test.csv')\n",
    "# 결측값 채우기(Age)\n",
    "train.Age = train.Age.fillna(train.Age.median())\n",
    "test.Age = test.Age.fillna(train.Age.median())\n",
    "# 결측값 채우기(Embarked)\n",
    "train.Embarked = train.Embarked.fillna('S')\n",
    "test.Embarked = test.Embarked.fillna('S')\n",
    "# 데이터 수치형으로 변환(Sex)\n",
    "train['Sex_n'] = train.Sex.map({'male':1, 'female':2})\n",
    "test['Sex_n'] = test.Sex.map({'male':1, 'female':2})\n",
    "# 데이터 수치형으로 변환(Embarked)\n",
    "train['Embarked_n'] = train['Embarked'].map({'S':1, 'C':2, 'Q':3})\n",
    "test['Embarked_n'] = test['Embarked'].map({'S':1, 'C':2, 'Q':3})\n",
    "# 데이터 특성 선택 및 분할\n",
    "sel = ['Pclass', 'Age', 'Sex_n', 'Embarked_n']\n",
    "X = train[sel]\n",
    "y = train['Survived']\n",
    "# 모델 생성\n",
    "knn = KNeighborsClassifier()\n",
    "# test_size 변경\n",
    "for i in range(1, 6):\n",
    "    X_train, X_test, y_train, y_test = train_test_split(X, y, stratify=y, test_size = (i/10), random_state=0)\n",
    "    # 모델 훈련\n",
    "    knn.fit(X_train,  y_train)\n",
    "    # kfold = KFold(n_splits=cv 개수, shuffle=샘플을 섞는 여부)\n",
    "    kfold = KFold(n_splits=5, shuffle=True)\n",
    "    # scores = cross_val_score(모델 객체, 입력, 결과, cv = cross_validation 개수)\n",
    "    score = cross_val_score(knn, X, y, cv=kfold)\n",
    "    print(f\"훈련 : 테스트 = {10-i} : {i}\")\n",
    "    print(f\"교차 검증 점수 : {score}\")\n",
    "    print(\"교자 검증 점수 평균 :\", score.mean())\n",
    "    print()"
   ]
  },
  {
   "cell_type": "markdown",
   "id": "c430b005",
   "metadata": {},
   "source": [
    "## RandomForest 모델\n",
    "* Age : median\n",
    "* statify 설정"
   ]
  },
  {
   "cell_type": "code",
   "execution_count": 40,
   "id": "b889bf5f",
   "metadata": {},
   "outputs": [],
   "source": [
    "from sklearn.ensemble import RandomForestClassifier"
   ]
  },
  {
   "cell_type": "code",
   "execution_count": 41,
   "id": "330cd6f6",
   "metadata": {},
   "outputs": [
    {
     "name": "stdout",
     "output_type": "stream",
     "text": [
      "훈련 : 테스트 = 9 : 1\n",
      "교차 검증 점수 : [0.77094972 0.78089888 0.80337079 0.79775281 0.82022472]\n",
      "교자 검증 점수 평균 : 0.7946393823363254\n",
      "\n",
      "훈련 : 테스트 = 8 : 2\n",
      "교차 검증 점수 : [0.75418994 0.81460674 0.80898876 0.81460674 0.79775281]\n",
      "교자 검증 점수 평균 : 0.7980290000627706\n",
      "\n",
      "훈련 : 테스트 = 7 : 3\n",
      "교차 검증 점수 : [0.79888268 0.79213483 0.80337079 0.83146067 0.79213483]\n",
      "교자 검증 점수 평균 : 0.8035967610319503\n",
      "\n",
      "훈련 : 테스트 = 6 : 4\n",
      "교차 검증 점수 : [0.75418994 0.86516854 0.80337079 0.76966292 0.76966292]\n",
      "교자 검증 점수 평균 : 0.7924110225346809\n",
      "\n",
      "훈련 : 테스트 = 5 : 5\n",
      "교차 검증 점수 : [0.81005587 0.81460674 0.79775281 0.80898876 0.80898876]\n",
      "교자 검증 점수 평균 : 0.8080785889146946\n",
      "\n"
     ]
    }
   ],
   "source": [
    "# 데이터 읽기\n",
    "train = pd.read_csv('data/train.csv')\n",
    "test = pd.read_csv('data/test.csv')\n",
    "# 결측값 채우기(Age)\n",
    "train.Age = train.Age.fillna(train.Age.median())\n",
    "test.Age = test.Age.fillna(train.Age.median())\n",
    "# 결측값 채우기(Embarked)\n",
    "train.Embarked = train.Embarked.fillna('S')\n",
    "test.Embarked = test.Embarked.fillna('S')\n",
    "# 데이터 수치형으로 변환(Sex)\n",
    "train['Sex_n'] = train.Sex.map({'male':1, 'female':2})\n",
    "test['Sex_n'] = test.Sex.map({'male':1, 'female':2})\n",
    "# 데이터 수치형으로 변환(Embarked)\n",
    "train['Embarked_n'] = train['Embarked'].map({'S':1, 'C':2, 'Q':3})\n",
    "test['Embarked_n'] = test['Embarked'].map({'S':1, 'C':2, 'Q':3})\n",
    "# 데이터 특성 선택 및 분할\n",
    "sel = ['Pclass', 'Age', 'Sex_n', 'Embarked_n']\n",
    "X = train[sel]\n",
    "y = train['Survived']\n",
    "# 모델 생성\n",
    "rf_c = RandomForestClassifier()\n",
    "# test_size 변경\n",
    "for i in range(1, 6):\n",
    "    X_train, X_test, y_train, y_test = train_test_split(X, y, stratify=y, test_size = (i/10), random_state=0)\n",
    "    # 모델 훈련\n",
    "    rf_c.fit(X_train,  y_train)\n",
    "    # kfold = KFold(n_splits=cv 개수, shuffle=샘플을 섞는 여부)\n",
    "    kfold = KFold(n_splits=5, shuffle=True)\n",
    "    # scores = cross_val_score(모델 객체, 입력, 결과, cv = cross_validation 개수)\n",
    "    score = cross_val_score(rf_c, X, y, cv=kfold)\n",
    "    print(f\"훈련 : 테스트 = {10-i} : {i}\")\n",
    "    print(f\"교차 검증 점수 : {score}\")\n",
    "    print(\"교자 검증 점수 평균 :\", score.mean())\n",
    "    print()"
   ]
  },
  {
   "cell_type": "code",
   "execution_count": null,
   "id": "e17bdbf2",
   "metadata": {},
   "outputs": [],
   "source": []
  }
 ],
 "metadata": {
  "kernelspec": {
   "display_name": "Python 3",
   "language": "python",
   "name": "python3"
  },
  "language_info": {
   "codemirror_mode": {
    "name": "ipython",
    "version": 3
   },
   "file_extension": ".py",
   "mimetype": "text/x-python",
   "name": "python",
   "nbconvert_exporter": "python",
   "pygments_lexer": "ipython3",
   "version": "3.8.8"
  }
 },
 "nbformat": 4,
 "nbformat_minor": 5
}
