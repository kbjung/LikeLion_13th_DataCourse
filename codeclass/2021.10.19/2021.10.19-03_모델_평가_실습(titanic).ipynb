{
 "cells": [
  {
   "cell_type": "markdown",
   "id": "efe0de07",
   "metadata": {},
   "source": [
    "### 교차 검증 실습"
   ]
  },
  {
   "cell_type": "code",
   "execution_count": 2,
   "id": "3c28f8f7",
   "metadata": {},
   "outputs": [],
   "source": [
    "import os, warnings\n",
    "import numpy as np\n",
    "# 경고 메세지 무시하거나 숨길때(ignore), 다시보이게(default)\n",
    "# warnings.filterwarnings(action='ignore')\n",
    "warnings.filterwarnings(action='ignore')"
   ]
  },
  {
   "cell_type": "code",
   "execution_count": 3,
   "id": "f8fc443e",
   "metadata": {},
   "outputs": [],
   "source": [
    "from sklearn.model_selection import train_test_split, cross_val_score, KFold\n",
    "from sklearn.neighbors import KNeighborsClassifier\n",
    "import pandas as pd"
   ]
  },
  {
   "cell_type": "code",
   "execution_count": 4,
   "id": "fa68f97a",
   "metadata": {},
   "outputs": [
    {
     "data": {
      "text/plain": [
       "((891, 12), (418, 11))"
      ]
     },
     "execution_count": 4,
     "metadata": {},
     "output_type": "execute_result"
    }
   ],
   "source": [
    "train = pd.read_csv('data/train.csv')\n",
    "test = pd.read_csv('data/test.csv')\n",
    "train.shape, test.shape"
   ]
  },
  {
   "cell_type": "markdown",
   "id": "09a25988",
   "metadata": {},
   "source": [
    "### 데이터 확인"
   ]
  },
  {
   "cell_type": "code",
   "execution_count": 46,
   "id": "6967c990",
   "metadata": {},
   "outputs": [
    {
     "data": {
      "text/html": [
       "<div>\n",
       "<style scoped>\n",
       "    .dataframe tbody tr th:only-of-type {\n",
       "        vertical-align: middle;\n",
       "    }\n",
       "\n",
       "    .dataframe tbody tr th {\n",
       "        vertical-align: top;\n",
       "    }\n",
       "\n",
       "    .dataframe thead th {\n",
       "        text-align: right;\n",
       "    }\n",
       "</style>\n",
       "<table border=\"1\" class=\"dataframe\">\n",
       "  <thead>\n",
       "    <tr style=\"text-align: right;\">\n",
       "      <th></th>\n",
       "      <th>PassengerId</th>\n",
       "      <th>Survived</th>\n",
       "      <th>Pclass</th>\n",
       "      <th>Name</th>\n",
       "      <th>Sex</th>\n",
       "      <th>Age</th>\n",
       "      <th>SibSp</th>\n",
       "      <th>Parch</th>\n",
       "      <th>Ticket</th>\n",
       "      <th>Fare</th>\n",
       "      <th>Cabin</th>\n",
       "      <th>Embarked</th>\n",
       "    </tr>\n",
       "  </thead>\n",
       "  <tbody>\n",
       "    <tr>\n",
       "      <th>0</th>\n",
       "      <td>1</td>\n",
       "      <td>0</td>\n",
       "      <td>3</td>\n",
       "      <td>Braund, Mr. Owen Harris</td>\n",
       "      <td>male</td>\n",
       "      <td>22.0</td>\n",
       "      <td>1</td>\n",
       "      <td>0</td>\n",
       "      <td>A/5 21171</td>\n",
       "      <td>7.2500</td>\n",
       "      <td>NaN</td>\n",
       "      <td>S</td>\n",
       "    </tr>\n",
       "    <tr>\n",
       "      <th>1</th>\n",
       "      <td>2</td>\n",
       "      <td>1</td>\n",
       "      <td>1</td>\n",
       "      <td>Cumings, Mrs. John Bradley (Florence Briggs Th...</td>\n",
       "      <td>female</td>\n",
       "      <td>38.0</td>\n",
       "      <td>1</td>\n",
       "      <td>0</td>\n",
       "      <td>PC 17599</td>\n",
       "      <td>71.2833</td>\n",
       "      <td>C85</td>\n",
       "      <td>C</td>\n",
       "    </tr>\n",
       "    <tr>\n",
       "      <th>2</th>\n",
       "      <td>3</td>\n",
       "      <td>1</td>\n",
       "      <td>3</td>\n",
       "      <td>Heikkinen, Miss. Laina</td>\n",
       "      <td>female</td>\n",
       "      <td>26.0</td>\n",
       "      <td>0</td>\n",
       "      <td>0</td>\n",
       "      <td>STON/O2. 3101282</td>\n",
       "      <td>7.9250</td>\n",
       "      <td>NaN</td>\n",
       "      <td>S</td>\n",
       "    </tr>\n",
       "    <tr>\n",
       "      <th>3</th>\n",
       "      <td>4</td>\n",
       "      <td>1</td>\n",
       "      <td>1</td>\n",
       "      <td>Futrelle, Mrs. Jacques Heath (Lily May Peel)</td>\n",
       "      <td>female</td>\n",
       "      <td>35.0</td>\n",
       "      <td>1</td>\n",
       "      <td>0</td>\n",
       "      <td>113803</td>\n",
       "      <td>53.1000</td>\n",
       "      <td>C123</td>\n",
       "      <td>S</td>\n",
       "    </tr>\n",
       "    <tr>\n",
       "      <th>4</th>\n",
       "      <td>5</td>\n",
       "      <td>0</td>\n",
       "      <td>3</td>\n",
       "      <td>Allen, Mr. William Henry</td>\n",
       "      <td>male</td>\n",
       "      <td>35.0</td>\n",
       "      <td>0</td>\n",
       "      <td>0</td>\n",
       "      <td>373450</td>\n",
       "      <td>8.0500</td>\n",
       "      <td>NaN</td>\n",
       "      <td>S</td>\n",
       "    </tr>\n",
       "  </tbody>\n",
       "</table>\n",
       "</div>"
      ],
      "text/plain": [
       "   PassengerId  Survived  Pclass  \\\n",
       "0            1         0       3   \n",
       "1            2         1       1   \n",
       "2            3         1       3   \n",
       "3            4         1       1   \n",
       "4            5         0       3   \n",
       "\n",
       "                                                Name     Sex   Age  SibSp  \\\n",
       "0                            Braund, Mr. Owen Harris    male  22.0      1   \n",
       "1  Cumings, Mrs. John Bradley (Florence Briggs Th...  female  38.0      1   \n",
       "2                             Heikkinen, Miss. Laina  female  26.0      0   \n",
       "3       Futrelle, Mrs. Jacques Heath (Lily May Peel)  female  35.0      1   \n",
       "4                           Allen, Mr. William Henry    male  35.0      0   \n",
       "\n",
       "   Parch            Ticket     Fare Cabin Embarked  \n",
       "0      0         A/5 21171   7.2500   NaN        S  \n",
       "1      0          PC 17599  71.2833   C85        C  \n",
       "2      0  STON/O2. 3101282   7.9250   NaN        S  \n",
       "3      0            113803  53.1000  C123        S  \n",
       "4      0            373450   8.0500   NaN        S  "
      ]
     },
     "execution_count": 46,
     "metadata": {},
     "output_type": "execute_result"
    }
   ],
   "source": [
    "train.head()"
   ]
  },
  {
   "cell_type": "code",
   "execution_count": 47,
   "id": "fed6f2e8",
   "metadata": {
    "scrolled": true
   },
   "outputs": [
    {
     "data": {
      "text/html": [
       "<div>\n",
       "<style scoped>\n",
       "    .dataframe tbody tr th:only-of-type {\n",
       "        vertical-align: middle;\n",
       "    }\n",
       "\n",
       "    .dataframe tbody tr th {\n",
       "        vertical-align: top;\n",
       "    }\n",
       "\n",
       "    .dataframe thead th {\n",
       "        text-align: right;\n",
       "    }\n",
       "</style>\n",
       "<table border=\"1\" class=\"dataframe\">\n",
       "  <thead>\n",
       "    <tr style=\"text-align: right;\">\n",
       "      <th></th>\n",
       "      <th>PassengerId</th>\n",
       "      <th>Pclass</th>\n",
       "      <th>Name</th>\n",
       "      <th>Sex</th>\n",
       "      <th>Age</th>\n",
       "      <th>SibSp</th>\n",
       "      <th>Parch</th>\n",
       "      <th>Ticket</th>\n",
       "      <th>Fare</th>\n",
       "      <th>Cabin</th>\n",
       "      <th>Embarked</th>\n",
       "    </tr>\n",
       "  </thead>\n",
       "  <tbody>\n",
       "    <tr>\n",
       "      <th>0</th>\n",
       "      <td>892</td>\n",
       "      <td>3</td>\n",
       "      <td>Kelly, Mr. James</td>\n",
       "      <td>male</td>\n",
       "      <td>34.5</td>\n",
       "      <td>0</td>\n",
       "      <td>0</td>\n",
       "      <td>330911</td>\n",
       "      <td>7.8292</td>\n",
       "      <td>NaN</td>\n",
       "      <td>Q</td>\n",
       "    </tr>\n",
       "    <tr>\n",
       "      <th>1</th>\n",
       "      <td>893</td>\n",
       "      <td>3</td>\n",
       "      <td>Wilkes, Mrs. James (Ellen Needs)</td>\n",
       "      <td>female</td>\n",
       "      <td>47.0</td>\n",
       "      <td>1</td>\n",
       "      <td>0</td>\n",
       "      <td>363272</td>\n",
       "      <td>7.0000</td>\n",
       "      <td>NaN</td>\n",
       "      <td>S</td>\n",
       "    </tr>\n",
       "    <tr>\n",
       "      <th>2</th>\n",
       "      <td>894</td>\n",
       "      <td>2</td>\n",
       "      <td>Myles, Mr. Thomas Francis</td>\n",
       "      <td>male</td>\n",
       "      <td>62.0</td>\n",
       "      <td>0</td>\n",
       "      <td>0</td>\n",
       "      <td>240276</td>\n",
       "      <td>9.6875</td>\n",
       "      <td>NaN</td>\n",
       "      <td>Q</td>\n",
       "    </tr>\n",
       "    <tr>\n",
       "      <th>3</th>\n",
       "      <td>895</td>\n",
       "      <td>3</td>\n",
       "      <td>Wirz, Mr. Albert</td>\n",
       "      <td>male</td>\n",
       "      <td>27.0</td>\n",
       "      <td>0</td>\n",
       "      <td>0</td>\n",
       "      <td>315154</td>\n",
       "      <td>8.6625</td>\n",
       "      <td>NaN</td>\n",
       "      <td>S</td>\n",
       "    </tr>\n",
       "    <tr>\n",
       "      <th>4</th>\n",
       "      <td>896</td>\n",
       "      <td>3</td>\n",
       "      <td>Hirvonen, Mrs. Alexander (Helga E Lindqvist)</td>\n",
       "      <td>female</td>\n",
       "      <td>22.0</td>\n",
       "      <td>1</td>\n",
       "      <td>1</td>\n",
       "      <td>3101298</td>\n",
       "      <td>12.2875</td>\n",
       "      <td>NaN</td>\n",
       "      <td>S</td>\n",
       "    </tr>\n",
       "  </tbody>\n",
       "</table>\n",
       "</div>"
      ],
      "text/plain": [
       "   PassengerId  Pclass                                          Name     Sex  \\\n",
       "0          892       3                              Kelly, Mr. James    male   \n",
       "1          893       3              Wilkes, Mrs. James (Ellen Needs)  female   \n",
       "2          894       2                     Myles, Mr. Thomas Francis    male   \n",
       "3          895       3                              Wirz, Mr. Albert    male   \n",
       "4          896       3  Hirvonen, Mrs. Alexander (Helga E Lindqvist)  female   \n",
       "\n",
       "    Age  SibSp  Parch   Ticket     Fare Cabin Embarked  \n",
       "0  34.5      0      0   330911   7.8292   NaN        Q  \n",
       "1  47.0      1      0   363272   7.0000   NaN        S  \n",
       "2  62.0      0      0   240276   9.6875   NaN        Q  \n",
       "3  27.0      0      0   315154   8.6625   NaN        S  \n",
       "4  22.0      1      1  3101298  12.2875   NaN        S  "
      ]
     },
     "execution_count": 47,
     "metadata": {},
     "output_type": "execute_result"
    }
   ],
   "source": [
    "test.head()"
   ]
  },
  {
   "cell_type": "markdown",
   "id": "b73af0ba",
   "metadata": {},
   "source": [
    "### 결측치 처리"
   ]
  },
  {
   "cell_type": "code",
   "execution_count": 48,
   "id": "34179a83",
   "metadata": {},
   "outputs": [
    {
     "name": "stdout",
     "output_type": "stream",
     "text": [
      "<class 'pandas.core.frame.DataFrame'>\n",
      "RangeIndex: 891 entries, 0 to 890\n",
      "Data columns (total 12 columns):\n",
      " #   Column       Non-Null Count  Dtype  \n",
      "---  ------       --------------  -----  \n",
      " 0   PassengerId  891 non-null    int64  \n",
      " 1   Survived     891 non-null    int64  \n",
      " 2   Pclass       891 non-null    int64  \n",
      " 3   Name         891 non-null    object \n",
      " 4   Sex          891 non-null    object \n",
      " 5   Age          714 non-null    float64\n",
      " 6   SibSp        891 non-null    int64  \n",
      " 7   Parch        891 non-null    int64  \n",
      " 8   Ticket       891 non-null    object \n",
      " 9   Fare         891 non-null    float64\n",
      " 10  Cabin        204 non-null    object \n",
      " 11  Embarked     889 non-null    object \n",
      "dtypes: float64(2), int64(5), object(5)\n",
      "memory usage: 83.7+ KB\n"
     ]
    }
   ],
   "source": [
    "train.info()"
   ]
  },
  {
   "cell_type": "code",
   "execution_count": 49,
   "id": "046f112c",
   "metadata": {
    "scrolled": true
   },
   "outputs": [
    {
     "name": "stdout",
     "output_type": "stream",
     "text": [
      "<class 'pandas.core.frame.DataFrame'>\n",
      "RangeIndex: 418 entries, 0 to 417\n",
      "Data columns (total 11 columns):\n",
      " #   Column       Non-Null Count  Dtype  \n",
      "---  ------       --------------  -----  \n",
      " 0   PassengerId  418 non-null    int64  \n",
      " 1   Pclass       418 non-null    int64  \n",
      " 2   Name         418 non-null    object \n",
      " 3   Sex          418 non-null    object \n",
      " 4   Age          332 non-null    float64\n",
      " 5   SibSp        418 non-null    int64  \n",
      " 6   Parch        418 non-null    int64  \n",
      " 7   Ticket       418 non-null    object \n",
      " 8   Fare         417 non-null    float64\n",
      " 9   Cabin        91 non-null     object \n",
      " 10  Embarked     418 non-null    object \n",
      "dtypes: float64(2), int64(4), object(5)\n",
      "memory usage: 36.0+ KB\n"
     ]
    }
   ],
   "source": [
    "test.info()"
   ]
  },
  {
   "cell_type": "markdown",
   "id": "a26e6f41",
   "metadata": {},
   "source": [
    "#### Age 결측치 평균으로 채우기"
   ]
  },
  {
   "cell_type": "code",
   "execution_count": 50,
   "id": "04eeae1d",
   "metadata": {},
   "outputs": [
    {
     "name": "stdout",
     "output_type": "stream",
     "text": [
      "<class 'pandas.core.frame.DataFrame'>\n",
      "RangeIndex: 891 entries, 0 to 890\n",
      "Data columns (total 12 columns):\n",
      " #   Column       Non-Null Count  Dtype  \n",
      "---  ------       --------------  -----  \n",
      " 0   PassengerId  891 non-null    int64  \n",
      " 1   Survived     891 non-null    int64  \n",
      " 2   Pclass       891 non-null    int64  \n",
      " 3   Name         891 non-null    object \n",
      " 4   Sex          891 non-null    object \n",
      " 5   Age          891 non-null    float64\n",
      " 6   SibSp        891 non-null    int64  \n",
      " 7   Parch        891 non-null    int64  \n",
      " 8   Ticket       891 non-null    object \n",
      " 9   Fare         891 non-null    float64\n",
      " 10  Cabin        204 non-null    object \n",
      " 11  Embarked     889 non-null    object \n",
      "dtypes: float64(2), int64(5), object(5)\n",
      "memory usage: 83.7+ KB\n",
      "<class 'pandas.core.frame.DataFrame'>\n",
      "RangeIndex: 418 entries, 0 to 417\n",
      "Data columns (total 11 columns):\n",
      " #   Column       Non-Null Count  Dtype  \n",
      "---  ------       --------------  -----  \n",
      " 0   PassengerId  418 non-null    int64  \n",
      " 1   Pclass       418 non-null    int64  \n",
      " 2   Name         418 non-null    object \n",
      " 3   Sex          418 non-null    object \n",
      " 4   Age          418 non-null    float64\n",
      " 5   SibSp        418 non-null    int64  \n",
      " 6   Parch        418 non-null    int64  \n",
      " 7   Ticket       418 non-null    object \n",
      " 8   Fare         417 non-null    float64\n",
      " 9   Cabin        91 non-null     object \n",
      " 10  Embarked     418 non-null    object \n",
      "dtypes: float64(2), int64(4), object(5)\n",
      "memory usage: 36.0+ KB\n"
     ]
    },
    {
     "data": {
      "text/plain": [
       "(None, None)"
      ]
     },
     "execution_count": 50,
     "metadata": {},
     "output_type": "execute_result"
    }
   ],
   "source": [
    "train.Age = train.Age.fillna(train.Age.mean())\n",
    "test.Age = test.Age.fillna(train.Age.mean())\n",
    "train.info(), test.info()"
   ]
  },
  {
   "cell_type": "code",
   "execution_count": 51,
   "id": "6d4e67da",
   "metadata": {},
   "outputs": [
    {
     "data": {
      "text/plain": [
       "S    644\n",
       "C    168\n",
       "Q     77\n",
       "Name: Embarked, dtype: int64"
      ]
     },
     "execution_count": 51,
     "metadata": {},
     "output_type": "execute_result"
    }
   ],
   "source": [
    "train.Embarked.value_counts()"
   ]
  },
  {
   "cell_type": "code",
   "execution_count": 52,
   "id": "ba9128f7",
   "metadata": {},
   "outputs": [
    {
     "data": {
      "text/plain": [
       "S    270\n",
       "C    102\n",
       "Q     46\n",
       "Name: Embarked, dtype: int64"
      ]
     },
     "execution_count": 52,
     "metadata": {},
     "output_type": "execute_result"
    }
   ],
   "source": [
    "test.Embarked.value_counts()"
   ]
  },
  {
   "cell_type": "code",
   "execution_count": 53,
   "id": "1e8c6322",
   "metadata": {},
   "outputs": [
    {
     "name": "stdout",
     "output_type": "stream",
     "text": [
      "<class 'pandas.core.frame.DataFrame'>\n",
      "RangeIndex: 891 entries, 0 to 890\n",
      "Data columns (total 12 columns):\n",
      " #   Column       Non-Null Count  Dtype  \n",
      "---  ------       --------------  -----  \n",
      " 0   PassengerId  891 non-null    int64  \n",
      " 1   Survived     891 non-null    int64  \n",
      " 2   Pclass       891 non-null    int64  \n",
      " 3   Name         891 non-null    object \n",
      " 4   Sex          891 non-null    object \n",
      " 5   Age          891 non-null    float64\n",
      " 6   SibSp        891 non-null    int64  \n",
      " 7   Parch        891 non-null    int64  \n",
      " 8   Ticket       891 non-null    object \n",
      " 9   Fare         891 non-null    float64\n",
      " 10  Cabin        204 non-null    object \n",
      " 11  Embarked     891 non-null    object \n",
      "dtypes: float64(2), int64(5), object(5)\n",
      "memory usage: 83.7+ KB\n",
      "<class 'pandas.core.frame.DataFrame'>\n",
      "RangeIndex: 418 entries, 0 to 417\n",
      "Data columns (total 11 columns):\n",
      " #   Column       Non-Null Count  Dtype  \n",
      "---  ------       --------------  -----  \n",
      " 0   PassengerId  418 non-null    int64  \n",
      " 1   Pclass       418 non-null    int64  \n",
      " 2   Name         418 non-null    object \n",
      " 3   Sex          418 non-null    object \n",
      " 4   Age          418 non-null    float64\n",
      " 5   SibSp        418 non-null    int64  \n",
      " 6   Parch        418 non-null    int64  \n",
      " 7   Ticket       418 non-null    object \n",
      " 8   Fare         417 non-null    float64\n",
      " 9   Cabin        91 non-null     object \n",
      " 10  Embarked     418 non-null    object \n",
      "dtypes: float64(2), int64(4), object(5)\n",
      "memory usage: 36.0+ KB\n"
     ]
    },
    {
     "data": {
      "text/plain": [
       "(None, None)"
      ]
     },
     "execution_count": 53,
     "metadata": {},
     "output_type": "execute_result"
    }
   ],
   "source": [
    "train.Embarked = train.Embarked.fillna('S')\n",
    "test.Embarked = test.Embarked.fillna('S')\n",
    "train.info(), test.info()"
   ]
  },
  {
   "cell_type": "markdown",
   "id": "f184eb3a",
   "metadata": {},
   "source": [
    "### 데이터 형태 수치형으로 변환"
   ]
  },
  {
   "cell_type": "code",
   "execution_count": 54,
   "id": "54453cb3",
   "metadata": {},
   "outputs": [
    {
     "data": {
      "text/plain": [
       "male      577\n",
       "female    314\n",
       "Name: Sex, dtype: int64"
      ]
     },
     "execution_count": 54,
     "metadata": {},
     "output_type": "execute_result"
    }
   ],
   "source": [
    "train.Sex.value_counts()"
   ]
  },
  {
   "cell_type": "code",
   "execution_count": 55,
   "id": "1e9715a4",
   "metadata": {
    "scrolled": true
   },
   "outputs": [
    {
     "data": {
      "text/plain": [
       "male      266\n",
       "female    152\n",
       "Name: Sex, dtype: int64"
      ]
     },
     "execution_count": 55,
     "metadata": {},
     "output_type": "execute_result"
    }
   ],
   "source": [
    "test.Sex.value_counts()"
   ]
  },
  {
   "cell_type": "code",
   "execution_count": 56,
   "id": "a9c04d3b",
   "metadata": {},
   "outputs": [
    {
     "name": "stdout",
     "output_type": "stream",
     "text": [
      "<class 'pandas.core.frame.DataFrame'>\n",
      "RangeIndex: 891 entries, 0 to 890\n",
      "Data columns (total 13 columns):\n",
      " #   Column       Non-Null Count  Dtype  \n",
      "---  ------       --------------  -----  \n",
      " 0   PassengerId  891 non-null    int64  \n",
      " 1   Survived     891 non-null    int64  \n",
      " 2   Pclass       891 non-null    int64  \n",
      " 3   Name         891 non-null    object \n",
      " 4   Sex          891 non-null    object \n",
      " 5   Age          891 non-null    float64\n",
      " 6   SibSp        891 non-null    int64  \n",
      " 7   Parch        891 non-null    int64  \n",
      " 8   Ticket       891 non-null    object \n",
      " 9   Fare         891 non-null    float64\n",
      " 10  Cabin        204 non-null    object \n",
      " 11  Embarked     891 non-null    object \n",
      " 12  Sex_n        891 non-null    int64  \n",
      "dtypes: float64(2), int64(6), object(5)\n",
      "memory usage: 90.6+ KB\n",
      "<class 'pandas.core.frame.DataFrame'>\n",
      "RangeIndex: 418 entries, 0 to 417\n",
      "Data columns (total 12 columns):\n",
      " #   Column       Non-Null Count  Dtype  \n",
      "---  ------       --------------  -----  \n",
      " 0   PassengerId  418 non-null    int64  \n",
      " 1   Pclass       418 non-null    int64  \n",
      " 2   Name         418 non-null    object \n",
      " 3   Sex          418 non-null    object \n",
      " 4   Age          418 non-null    float64\n",
      " 5   SibSp        418 non-null    int64  \n",
      " 6   Parch        418 non-null    int64  \n",
      " 7   Ticket       418 non-null    object \n",
      " 8   Fare         417 non-null    float64\n",
      " 9   Cabin        91 non-null     object \n",
      " 10  Embarked     418 non-null    object \n",
      " 11  Sex_n        418 non-null    int64  \n",
      "dtypes: float64(2), int64(5), object(5)\n",
      "memory usage: 39.3+ KB\n"
     ]
    },
    {
     "data": {
      "text/plain": [
       "(None, None)"
      ]
     },
     "execution_count": 56,
     "metadata": {},
     "output_type": "execute_result"
    }
   ],
   "source": [
    "train['Sex_n'] = train.Sex.map({'male':1, 'female':2})\n",
    "test['Sex_n'] = test.Sex.map({'male':1, 'female':2})\n",
    "train.info(), test.info()"
   ]
  },
  {
   "cell_type": "code",
   "execution_count": 57,
   "id": "6a109b75",
   "metadata": {},
   "outputs": [
    {
     "name": "stdout",
     "output_type": "stream",
     "text": [
      "<class 'pandas.core.frame.DataFrame'>\n",
      "RangeIndex: 891 entries, 0 to 890\n",
      "Data columns (total 14 columns):\n",
      " #   Column       Non-Null Count  Dtype  \n",
      "---  ------       --------------  -----  \n",
      " 0   PassengerId  891 non-null    int64  \n",
      " 1   Survived     891 non-null    int64  \n",
      " 2   Pclass       891 non-null    int64  \n",
      " 3   Name         891 non-null    object \n",
      " 4   Sex          891 non-null    object \n",
      " 5   Age          891 non-null    float64\n",
      " 6   SibSp        891 non-null    int64  \n",
      " 7   Parch        891 non-null    int64  \n",
      " 8   Ticket       891 non-null    object \n",
      " 9   Fare         891 non-null    float64\n",
      " 10  Cabin        204 non-null    object \n",
      " 11  Embarked     891 non-null    object \n",
      " 12  Sex_n        891 non-null    int64  \n",
      " 13  Embarked_n   891 non-null    int64  \n",
      "dtypes: float64(2), int64(7), object(5)\n",
      "memory usage: 97.6+ KB\n",
      "<class 'pandas.core.frame.DataFrame'>\n",
      "RangeIndex: 418 entries, 0 to 417\n",
      "Data columns (total 13 columns):\n",
      " #   Column       Non-Null Count  Dtype  \n",
      "---  ------       --------------  -----  \n",
      " 0   PassengerId  418 non-null    int64  \n",
      " 1   Pclass       418 non-null    int64  \n",
      " 2   Name         418 non-null    object \n",
      " 3   Sex          418 non-null    object \n",
      " 4   Age          418 non-null    float64\n",
      " 5   SibSp        418 non-null    int64  \n",
      " 6   Parch        418 non-null    int64  \n",
      " 7   Ticket       418 non-null    object \n",
      " 8   Fare         417 non-null    float64\n",
      " 9   Cabin        91 non-null     object \n",
      " 10  Embarked     418 non-null    object \n",
      " 11  Sex_n        418 non-null    int64  \n",
      " 12  Embarked_n   418 non-null    int64  \n",
      "dtypes: float64(2), int64(6), object(5)\n",
      "memory usage: 42.6+ KB\n"
     ]
    },
    {
     "data": {
      "text/plain": [
       "(None, None)"
      ]
     },
     "execution_count": 57,
     "metadata": {},
     "output_type": "execute_result"
    }
   ],
   "source": [
    "train['Embarked_n'] = train['Embarked'].map({'S':1, 'C':2, 'Q':3})\n",
    "test['Embarked_n'] = test['Embarked'].map({'S':1, 'C':2, 'Q':3})\n",
    "train.info(), test.info()"
   ]
  },
  {
   "cell_type": "markdown",
   "id": "a2ffe961",
   "metadata": {},
   "source": [
    "### 데이터 분할 및 특성 선택"
   ]
  },
  {
   "cell_type": "code",
   "execution_count": 58,
   "id": "64d508a5",
   "metadata": {},
   "outputs": [
    {
     "data": {
      "text/plain": [
       "((668, 4), (668,), (223, 4), (223,))"
      ]
     },
     "execution_count": 58,
     "metadata": {},
     "output_type": "execute_result"
    }
   ],
   "source": [
    "sel = ['Pclass', 'Age', 'Sex_n', 'Embarked_n']\n",
    "X = train[sel]\n",
    "y = train['Survived']\n",
    "\n",
    "X_train, X_test, y_train, y_test = train_test_split(X, y, random_state=0)\n",
    "X_train.shape, y_train.shape, X_test.shape, y_test.shape"
   ]
  },
  {
   "cell_type": "markdown",
   "id": "8ba85381",
   "metadata": {},
   "source": [
    "### 모델 생성, 교차 검증"
   ]
  },
  {
   "cell_type": "code",
   "execution_count": 59,
   "id": "c9f1f845",
   "metadata": {},
   "outputs": [
    {
     "name": "stdout",
     "output_type": "stream",
     "text": [
      "교차 검증 점수 : [0.6        0.73333333 0.62222222 0.70454545 0.68181818]\n",
      "교자 검증 점수 평균 : 0.6683838383838383\n"
     ]
    }
   ],
   "source": [
    "knn = KNeighborsClassifier()\n",
    "knn.fit(X_train,  y_train)\n",
    "# kfold = KFold(n_splits=cv 개수, shuffle=샘플을 섞는 여부)\n",
    "kfold = KFold(n_splits=5, shuffle=True)\n",
    "# scores = cross_val_score(모델 객체, 입력, 결과, cv = cross_validation)\n",
    "score = cross_val_score(knn, X_test, y_test, cv=kfold)\n",
    "print(f\"교차 검증 점수 : {score}\")\n",
    "print(\"교자 검증 점수 평균 :\", score.mean())"
   ]
  },
  {
   "cell_type": "markdown",
   "id": "3803b355",
   "metadata": {},
   "source": [
    "### knn 모델 test_size 조절하여 정확도 올리기"
   ]
  },
  {
   "cell_type": "markdown",
   "id": "86e14da7",
   "metadata": {},
   "source": [
    "##### 훈련 : 테스트 = 9 : 1"
   ]
  },
  {
   "cell_type": "code",
   "execution_count": 60,
   "id": "9bdaad78",
   "metadata": {},
   "outputs": [
    {
     "data": {
      "text/plain": [
       "((801, 4), (801,), (90, 4), (90,))"
      ]
     },
     "execution_count": 60,
     "metadata": {},
     "output_type": "execute_result"
    }
   ],
   "source": [
    "X_train, X_test, y_train, y_test = train_test_split(X, y, test_size = 0.1, random_state=0)\n",
    "X_train.shape, y_train.shape, X_test.shape, y_test.shape"
   ]
  },
  {
   "cell_type": "code",
   "execution_count": 61,
   "id": "7a9ce184",
   "metadata": {},
   "outputs": [
    {
     "name": "stdout",
     "output_type": "stream",
     "text": [
      "교차 검증 점수 : [0.61111111 0.72222222 0.66666667 0.61111111 0.5       ]\n",
      "교자 검증 점수 평균 : 0.6222222222222222\n"
     ]
    }
   ],
   "source": [
    "knn.fit(X_train,  y_train)\n",
    "# kfold = KFold(n_splits=cv 개수, shuffle=샘플을 섞는 여부)\n",
    "kfold = KFold(n_splits=5, shuffle=True)\n",
    "# scores = cross_val_score(모델 객체, 입력, 결과, cv = cross_validation)\n",
    "score = cross_val_score(knn, X_test, y_test, cv=kfold)\n",
    "print(f\"교차 검증 점수 : {score}\")\n",
    "print(\"교자 검증 점수 평균 :\", score.mean())"
   ]
  },
  {
   "cell_type": "markdown",
   "id": "b54d119d",
   "metadata": {},
   "source": [
    "##### 훈련 : 테스트 = 8 : 2"
   ]
  },
  {
   "cell_type": "code",
   "execution_count": 62,
   "id": "c0db059a",
   "metadata": {},
   "outputs": [
    {
     "data": {
      "text/plain": [
       "((712, 4), (712,), (179, 4), (179,))"
      ]
     },
     "execution_count": 62,
     "metadata": {},
     "output_type": "execute_result"
    }
   ],
   "source": [
    "X_train, X_test, y_train, y_test = train_test_split(X, y, test_size = 0.2, random_state=0)\n",
    "X_train.shape, y_train.shape, X_test.shape, y_test.shape"
   ]
  },
  {
   "cell_type": "code",
   "execution_count": 63,
   "id": "b2674e2a",
   "metadata": {},
   "outputs": [
    {
     "name": "stdout",
     "output_type": "stream",
     "text": [
      "교차 검증 점수 : [0.69444444 0.72222222 0.66666667 0.55555556 0.62857143]\n",
      "교자 검증 점수 평균 : 0.6534920634920633\n"
     ]
    }
   ],
   "source": [
    "knn.fit(X_train,  y_train)\n",
    "# kfold = KFold(n_splits=cv 개수, shuffle=샘플을 섞는 여부)\n",
    "kfold = KFold(n_splits=5, shuffle=True)\n",
    "# scores = cross_val_score(모델 객체, 입력, 결과, cv = cross_validation)\n",
    "score = cross_val_score(knn, X_test, y_test, cv=kfold)\n",
    "print(f\"교차 검증 점수 : {score}\")\n",
    "print(\"교자 검증 점수 평균 :\", score.mean())"
   ]
  },
  {
   "cell_type": "markdown",
   "id": "3430be00",
   "metadata": {},
   "source": [
    "##### 훈련 : 테스트 = 7 : 3"
   ]
  },
  {
   "cell_type": "code",
   "execution_count": 64,
   "id": "19e0bd95",
   "metadata": {},
   "outputs": [
    {
     "data": {
      "text/plain": [
       "((623, 4), (623,), (268, 4), (268,))"
      ]
     },
     "execution_count": 64,
     "metadata": {},
     "output_type": "execute_result"
    }
   ],
   "source": [
    "X_train, X_test, y_train, y_test = train_test_split(X, y, test_size = 0.3, random_state=0)\n",
    "X_train.shape, y_train.shape, X_test.shape, y_test.shape"
   ]
  },
  {
   "cell_type": "code",
   "execution_count": 65,
   "id": "31be2b6b",
   "metadata": {},
   "outputs": [
    {
     "name": "stdout",
     "output_type": "stream",
     "text": [
      "교차 검증 점수 : [0.68518519 0.61111111 0.66666667 0.73584906 0.73584906]\n",
      "교자 검증 점수 평균 : 0.686932215234102\n"
     ]
    }
   ],
   "source": [
    "knn.fit(X_train,  y_train)\n",
    "# kfold = KFold(n_splits=cv 개수, shuffle=샘플을 섞는 여부)\n",
    "kfold = KFold(n_splits=5, shuffle=True)\n",
    "# scores = cross_val_score(모델 객체, 입력, 결과, cv = cross_validation)\n",
    "score = cross_val_score(knn, X_test, y_test, cv=kfold)\n",
    "print(f\"교차 검증 점수 : {score}\")\n",
    "print(\"교자 검증 점수 평균 :\", score.mean())"
   ]
  },
  {
   "cell_type": "markdown",
   "id": "3a4a7138",
   "metadata": {},
   "source": [
    "##### 훈련 : 테스트 = 6 : 4"
   ]
  },
  {
   "cell_type": "code",
   "execution_count": 66,
   "id": "97d675a7",
   "metadata": {},
   "outputs": [
    {
     "data": {
      "text/plain": [
       "((534, 4), (534,), (357, 4), (357,))"
      ]
     },
     "execution_count": 66,
     "metadata": {},
     "output_type": "execute_result"
    }
   ],
   "source": [
    "X_train, X_test, y_train, y_test = train_test_split(X, y, test_size = 0.4, random_state=0)\n",
    "X_train.shape, y_train.shape, X_test.shape, y_test.shape"
   ]
  },
  {
   "cell_type": "code",
   "execution_count": 67,
   "id": "53c990e3",
   "metadata": {},
   "outputs": [
    {
     "name": "stdout",
     "output_type": "stream",
     "text": [
      "교차 검증 점수 : [0.70833333 0.73611111 0.74647887 0.71830986 0.70422535]\n",
      "교자 검증 점수 평균 : 0.7226917057902973\n"
     ]
    }
   ],
   "source": [
    "knn.fit(X_train,  y_train)\n",
    "# kfold = KFold(n_splits=cv 개수, shuffle=샘플을 섞는 여부)\n",
    "kfold = KFold(n_splits=5, shuffle=True)\n",
    "# scores = cross_val_score(모델 객체, 입력, 결과, cv = cross_validation)\n",
    "score = cross_val_score(knn, X_test, y_test, cv=kfold)\n",
    "print(f\"교차 검증 점수 : {score}\")\n",
    "print(\"교자 검증 점수 평균 :\", score.mean())"
   ]
  },
  {
   "cell_type": "markdown",
   "id": "9de57614",
   "metadata": {},
   "source": [
    "##### 훈련 : 테스트 = 5 : 5"
   ]
  },
  {
   "cell_type": "code",
   "execution_count": 68,
   "id": "920014c9",
   "metadata": {},
   "outputs": [
    {
     "data": {
      "text/plain": [
       "((445, 4), (445,), (446, 4), (446,))"
      ]
     },
     "execution_count": 68,
     "metadata": {},
     "output_type": "execute_result"
    }
   ],
   "source": [
    "X_train, X_test, y_train, y_test = train_test_split(X, y, test_size = 0.5, random_state=0)\n",
    "X_train.shape, y_train.shape, X_test.shape, y_test.shape"
   ]
  },
  {
   "cell_type": "code",
   "execution_count": 69,
   "id": "2dd33495",
   "metadata": {},
   "outputs": [
    {
     "name": "stdout",
     "output_type": "stream",
     "text": [
      "교차 검증 점수 : [0.76666667 0.73033708 0.70786517 0.74157303 0.70786517]\n",
      "교자 검증 점수 평균 : 0.7308614232209738\n"
     ]
    }
   ],
   "source": [
    "knn.fit(X_train,  y_train)\n",
    "# kfold = KFold(n_splits=cv 개수, shuffle=샘플을 섞는 여부)\n",
    "kfold = KFold(n_splits=5, shuffle=True)\n",
    "# scores = cross_val_score(모델 객체, 입력, 결과, cv = cross_validation)\n",
    "score = cross_val_score(knn, X_test, y_test, cv=kfold)\n",
    "print(f\"교차 검증 점수 : {score}\")\n",
    "print(\"교자 검증 점수 평균 :\", score.mean())"
   ]
  },
  {
   "cell_type": "markdown",
   "id": "9a43744d",
   "metadata": {},
   "source": [
    "#### test_size 조절해서 교차 검증 점수 출력"
   ]
  },
  {
   "cell_type": "code",
   "execution_count": 70,
   "id": "fc20e424",
   "metadata": {},
   "outputs": [
    {
     "name": "stdout",
     "output_type": "stream",
     "text": [
      "훈련 : 테스트 = 9 : 1\n",
      "교차 검증 점수 : [0.61111111 0.66666667 0.61111111 0.55555556 0.5       ]\n",
      "교자 검증 점수 평균 : 0.5888888888888889\n",
      "\n",
      "훈련 : 테스트 = 8 : 2\n",
      "교차 검증 점수 : [0.61111111 0.69444444 0.63888889 0.58333333 0.68571429]\n",
      "교자 검증 점수 평균 : 0.6426984126984128\n",
      "\n",
      "훈련 : 테스트 = 7 : 3\n",
      "교차 검증 점수 : [0.77777778 0.64814815 0.77777778 0.67924528 0.64150943]\n",
      "교자 검증 점수 평균 : 0.7048916841369671\n",
      "\n",
      "훈련 : 테스트 = 6 : 4\n",
      "교차 검증 점수 : [0.625      0.70833333 0.66197183 0.70422535 0.73239437]\n",
      "교자 검증 점수 평균 : 0.6863849765258216\n",
      "\n",
      "훈련 : 테스트 = 5 : 5\n",
      "교차 검증 점수 : [0.78888889 0.70786517 0.79775281 0.68539326 0.7752809 ]\n",
      "교자 검증 점수 평균 : 0.75103620474407\n",
      "\n"
     ]
    }
   ],
   "source": [
    "for i in range(1, 6):\n",
    "    X_train, X_test, y_train, y_test = train_test_split(X, y, test_size = (i/10), random_state=0)\n",
    "    knn.fit(X_train,  y_train)\n",
    "    # kfold = KFold(n_splits=cv 개수, shuffle=샘플을 섞는 여부)\n",
    "    kfold = KFold(n_splits=5, shuffle=True)\n",
    "    # scores = cross_val_score(모델 객체, 입력, 결과, cv = cross_validation )\n",
    "    score = cross_val_score(knn, X_test, y_test, cv=kfold)\n",
    "    print(f\"훈련 : 테스트 = {10-i} : {i}\")\n",
    "    print(f\"교차 검증 점수 : {score}\")\n",
    "    print(\"교자 검증 점수 평균 :\", score.mean())\n",
    "    print()"
   ]
  },
  {
   "cell_type": "markdown",
   "id": "df4acf86",
   "metadata": {},
   "source": [
    "## 데이터의 'Age'를 median 값으로 채워서 검증 하기"
   ]
  },
  {
   "cell_type": "code",
   "execution_count": 71,
   "id": "f25c3986",
   "metadata": {
    "scrolled": true
   },
   "outputs": [
    {
     "name": "stdout",
     "output_type": "stream",
     "text": [
      "훈련 : 테스트 = 9 : 1\n",
      "교차 검증 점수 : [0.5        0.38888889 0.55555556 0.66666667 0.61111111]\n",
      "교자 검증 점수 평균 : 0.5444444444444445\n",
      "\n",
      "훈련 : 테스트 = 8 : 2\n",
      "교차 검증 점수 : [0.69444444 0.69444444 0.61111111 0.86111111 0.51428571]\n",
      "교자 검증 점수 평균 : 0.6750793650793651\n",
      "\n",
      "훈련 : 테스트 = 7 : 3\n",
      "교차 검증 점수 : [0.72222222 0.66666667 0.64814815 0.66037736 0.71698113]\n",
      "교자 검증 점수 평균 : 0.6828791055206149\n",
      "\n",
      "훈련 : 테스트 = 6 : 4\n",
      "교차 검증 점수 : [0.73611111 0.65277778 0.76056338 0.73239437 0.64788732]\n",
      "교자 검증 점수 평균 : 0.7059467918622848\n",
      "\n",
      "훈련 : 테스트 = 5 : 5\n",
      "교차 검증 점수 : [0.74444444 0.76404494 0.68539326 0.83146067 0.82022472]\n",
      "교자 검증 점수 평균 : 0.7691136079900125\n",
      "\n"
     ]
    }
   ],
   "source": [
    "# 데이터 읽기\n",
    "train = pd.read_csv('data/train.csv')\n",
    "test = pd.read_csv('data/test.csv')\n",
    "# 결측값 채우기(Age)\n",
    "train.Age = train.Age.fillna(train.Age.median())\n",
    "test.Age = test.Age.fillna(train.Age.median())\n",
    "# 결측값 채우기(Embarked)\n",
    "train.Embarked = train.Embarked.fillna('S')\n",
    "test.Embarked = test.Embarked.fillna('S')\n",
    "# 데이터 수치형으로 변환(Sex)\n",
    "train['Sex_n'] = train.Sex.map({'male':1, 'female':2})\n",
    "test['Sex_n'] = test.Sex.map({'male':1, 'female':2})\n",
    "# 데이터 수치형으로 변환(Embarked)\n",
    "train['Embarked_n'] = train['Embarked'].map({'S':1, 'C':2, 'Q':3})\n",
    "test['Embarked_n'] = test['Embarked'].map({'S':1, 'C':2, 'Q':3})\n",
    "# 데이터 특성 선택 및 분할\n",
    "sel = ['Pclass', 'Age', 'Sex_n', 'Embarked_n']\n",
    "X = train[sel]\n",
    "y = train['Survived']\n",
    "# 모델 생성\n",
    "knn = KNeighborsClassifier()\n",
    "# test_size 변경\n",
    "for i in range(1, 6):\n",
    "    X_train, X_test, y_train, y_test = train_test_split(X, y, test_size = (i/10), random_state=0)\n",
    "    # 모델 훈련\n",
    "    knn.fit(X_train,  y_train)\n",
    "    # kfold = KFold(n_splits=cv 개수, shuffle=샘플을 섞는 여부)\n",
    "    kfold = KFold(n_splits=5, shuffle=True)\n",
    "    # scores = cross_val_score(모델 객체, 입력, 결과, cv = cross_validation)\n",
    "    score = cross_val_score(knn, X_test, y_test, cv=kfold)\n",
    "    print(f\"훈련 : 테스트 = {10-i} : {i}\")\n",
    "    print(f\"교차 검증 점수 : {score}\")\n",
    "    print(\"교자 검증 점수 평균 :\", score.mean())\n",
    "    print()"
   ]
  },
  {
   "cell_type": "markdown",
   "id": "5e1adf4f",
   "metadata": {},
   "source": [
    "## 데이터 분할 조정\n",
    "* 'Age' : median\n",
    "* statify 설정"
   ]
  },
  {
   "cell_type": "code",
   "execution_count": 72,
   "id": "747aff98",
   "metadata": {},
   "outputs": [
    {
     "name": "stdout",
     "output_type": "stream",
     "text": [
      "훈련 : 테스트 = 9 : 1\n",
      "교차 검증 점수 : [0.72222222 0.72222222 0.72222222 0.5        0.44444444]\n",
      "교자 검증 점수 평균 : 0.6222222222222221\n",
      "\n",
      "훈련 : 테스트 = 8 : 2\n",
      "교차 검증 점수 : [0.66666667 0.69444444 0.63888889 0.58333333 0.74285714]\n",
      "교자 검증 점수 평균 : 0.6652380952380953\n",
      "\n",
      "훈련 : 테스트 = 7 : 3\n",
      "교차 검증 점수 : [0.66666667 0.7037037  0.72222222 0.69811321 0.77358491]\n",
      "교자 검증 점수 평균 : 0.712858141160028\n",
      "\n",
      "훈련 : 테스트 = 6 : 4\n",
      "교차 검증 점수 : [0.76388889 0.81944444 0.78873239 0.74647887 0.81690141]\n",
      "교자 검증 점수 평균 : 0.7870892018779342\n",
      "\n",
      "훈련 : 테스트 = 5 : 5\n",
      "교차 검증 점수 : [0.74444444 0.76404494 0.7752809  0.70786517 0.83146067]\n",
      "교자 검증 점수 평균 : 0.7646192259675406\n",
      "\n"
     ]
    }
   ],
   "source": [
    "# 데이터 읽기\n",
    "train = pd.read_csv('data/train.csv')\n",
    "test = pd.read_csv('data/test.csv')\n",
    "# 결측값 채우기(Age)\n",
    "train.Age = train.Age.fillna(train.Age.median())\n",
    "test.Age = test.Age.fillna(train.Age.median())\n",
    "# 결측값 채우기(Embarked)\n",
    "train.Embarked = train.Embarked.fillna('S')\n",
    "test.Embarked = test.Embarked.fillna('S')\n",
    "# 데이터 수치형으로 변환(Sex)\n",
    "train['Sex_n'] = train.Sex.map({'male':1, 'female':2})\n",
    "test['Sex_n'] = test.Sex.map({'male':1, 'female':2})\n",
    "# 데이터 수치형으로 변환(Embarked)\n",
    "train['Embarked_n'] = train['Embarked'].map({'S':1, 'C':2, 'Q':3})\n",
    "test['Embarked_n'] = test['Embarked'].map({'S':1, 'C':2, 'Q':3})\n",
    "# 데이터 특성 선택 및 분할\n",
    "sel = ['Pclass', 'Age', 'Sex_n', 'Embarked_n']\n",
    "X = train[sel]\n",
    "y = train['Survived']\n",
    "# 모델 생성\n",
    "knn = KNeighborsClassifier()\n",
    "# test_size 변경\n",
    "for i in range(1, 6):\n",
    "    X_train, X_test, y_train, y_test = train_test_split(X, y, stratify=y, test_size = (i/10), random_state=0)\n",
    "    # 모델 훈련\n",
    "    knn.fit(X_train,  y_train)\n",
    "    # kfold = KFold(n_splits=cv 개수, shuffle=샘플을 섞는 여부)\n",
    "    kfold = KFold(n_splits=5, shuffle=True)\n",
    "    # scores = cross_val_score(모델 객체, 입력, 결과, cv = cross_validation)\n",
    "    score = cross_val_score(knn, X_test, y_test, cv=kfold)\n",
    "    print(f\"훈련 : 테스트 = {10-i} : {i}\")\n",
    "    print(f\"교차 검증 점수 : {score}\")\n",
    "    print(\"교자 검증 점수 평균 :\", score.mean())\n",
    "    print()"
   ]
  },
  {
   "cell_type": "markdown",
   "id": "afe61b54",
   "metadata": {},
   "source": [
    "## RandomForest 모델\n",
    "* Age : median\n",
    "* statify 설정"
   ]
  },
  {
   "cell_type": "code",
   "execution_count": 5,
   "id": "b0368eac",
   "metadata": {},
   "outputs": [],
   "source": [
    "from sklearn.ensemble import RandomForestClassifier"
   ]
  },
  {
   "cell_type": "code",
   "execution_count": 7,
   "id": "b8c74349",
   "metadata": {},
   "outputs": [
    {
     "name": "stdout",
     "output_type": "stream",
     "text": [
      "훈련 : 테스트 = 9 : 1\n",
      "교차 검증 점수 : [0.61111111 0.55555556 0.77777778 0.61111111 0.83333333]\n",
      "교자 검증 점수 평균 : 0.6777777777777778\n",
      "\n",
      "훈련 : 테스트 = 8 : 2\n",
      "교차 검증 점수 : [0.83333333 0.77777778 0.80555556 0.77777778 0.62857143]\n",
      "교자 검증 점수 평균 : 0.7646031746031746\n",
      "\n",
      "훈련 : 테스트 = 7 : 3\n",
      "교차 검증 점수 : [0.75925926 0.77777778 0.83333333 0.90566038 0.83018868]\n",
      "교자 검증 점수 평균 : 0.8212438853948288\n",
      "\n",
      "훈련 : 테스트 = 6 : 4\n",
      "교차 검증 점수 : [0.79166667 0.80555556 0.78873239 0.8028169  0.74647887]\n",
      "교자 검증 점수 평균 : 0.7870500782472614\n",
      "\n",
      "훈련 : 테스트 = 5 : 5\n",
      "교차 검증 점수 : [0.73333333 0.78651685 0.78651685 0.83146067 0.83146067]\n",
      "교자 검증 점수 평균 : 0.7938576779026217\n",
      "\n"
     ]
    }
   ],
   "source": [
    "# 데이터 읽기\n",
    "train = pd.read_csv('data/train.csv')\n",
    "test = pd.read_csv('data/test.csv')\n",
    "# 결측값 채우기(Age)\n",
    "train.Age = train.Age.fillna(train.Age.median())\n",
    "test.Age = test.Age.fillna(train.Age.median())\n",
    "# 결측값 채우기(Embarked)\n",
    "train.Embarked = train.Embarked.fillna('S')\n",
    "test.Embarked = test.Embarked.fillna('S')\n",
    "# 데이터 수치형으로 변환(Sex)\n",
    "train['Sex_n'] = train.Sex.map({'male':1, 'female':2})\n",
    "test['Sex_n'] = test.Sex.map({'male':1, 'female':2})\n",
    "# 데이터 수치형으로 변환(Embarked)\n",
    "train['Embarked_n'] = train['Embarked'].map({'S':1, 'C':2, 'Q':3})\n",
    "test['Embarked_n'] = test['Embarked'].map({'S':1, 'C':2, 'Q':3})\n",
    "# 데이터 특성 선택 및 분할\n",
    "sel = ['Pclass', 'Age', 'Sex_n', 'Embarked_n']\n",
    "X = train[sel]\n",
    "y = train['Survived']\n",
    "# 모델 생성\n",
    "rf_c = RandomForestClassifier()\n",
    "# test_size 변경\n",
    "for i in range(1, 6):\n",
    "    X_train, X_test, y_train, y_test = train_test_split(X, y, stratify=y, test_size = (i/10), random_state=0)\n",
    "    # 모델 훈련\n",
    "    rf_c.fit(X_train,  y_train)\n",
    "    # kfold = KFold(n_splits=cv 개수, shuffle=샘플을 섞는 여부)\n",
    "    kfold = KFold(n_splits=5, shuffle=True)\n",
    "    # scores = cross_val_score(모델 객체, 입력, 결과, cv = cross_validation)\n",
    "    score = cross_val_score(rf_c, X_test, y_test, cv=kfold)\n",
    "    print(f\"훈련 : 테스트 = {10-i} : {i}\")\n",
    "    print(f\"교차 검증 점수 : {score}\")\n",
    "    print(\"교자 검증 점수 평균 :\", score.mean())\n",
    "    print()"
   ]
  },
  {
   "cell_type": "code",
   "execution_count": null,
   "id": "a5f44b03",
   "metadata": {},
   "outputs": [],
   "source": []
  }
 ],
 "metadata": {
  "kernelspec": {
   "display_name": "Python 3",
   "language": "python",
   "name": "python3"
  },
  "language_info": {
   "codemirror_mode": {
    "name": "ipython",
    "version": 3
   },
   "file_extension": ".py",
   "mimetype": "text/x-python",
   "name": "python",
   "nbconvert_exporter": "python",
   "pygments_lexer": "ipython3",
   "version": "3.8.8"
  }
 },
 "nbformat": 4,
 "nbformat_minor": 5
}
