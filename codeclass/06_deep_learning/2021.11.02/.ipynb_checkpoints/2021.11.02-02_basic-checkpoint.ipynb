{
 "cells": [
  {
   "cell_type": "code",
   "execution_count": 1,
   "id": "cd9b2f9f",
   "metadata": {},
   "outputs": [],
   "source": [
    "import keras\n",
    "import tensorflow as tf"
   ]
  },
  {
   "cell_type": "code",
   "execution_count": 2,
   "id": "b1646757",
   "metadata": {},
   "outputs": [],
   "source": [
    "import numpy as np # 딥러닝에 잘 쓰이는 기본 자료형에 이용"
   ]
  },
  {
   "cell_type": "code",
   "execution_count": 5,
   "id": "f9eb17e7",
   "metadata": {},
   "outputs": [
    {
     "name": "stdout",
     "output_type": "stream",
     "text": [
      "12\n",
      "0\n",
      "()\n",
      "\n",
      "[10 20 30 40 50]\n",
      "1\n",
      "(5,)\n"
     ]
    }
   ],
   "source": [
    "# 스칼라, 0D 텐서\n",
    "x = np.array(12)\n",
    "print(x)\n",
    "print(x.ndim) # 차원수\n",
    "print(x.shape) # 행렬\n",
    "print()\n",
    "\n",
    "# 1D 텐서\n",
    "x = np.array([10,20,30,40,50])\n",
    "print(x)\n",
    "print(x.ndim) # 차원수\n",
    "print(x.shape) # 행렬"
   ]
  },
  {
   "cell_type": "code",
   "execution_count": 6,
   "id": "74fc01fd",
   "metadata": {},
   "outputs": [
    {
     "name": "stdout",
     "output_type": "stream",
     "text": [
      "[[10 20 30 40 50]\n",
      " [10 20 30 40 50]\n",
      " [10 20 30 40 50]]\n",
      "2\n",
      "(3, 5)\n",
      "\n"
     ]
    }
   ],
   "source": [
    "# 2D 텐서\n",
    "x = np.array([ [10,20,30,40,50],\n",
    "             [10,20,30,40,50],\n",
    "             [10,20,30,40,50]\n",
    "             ])\n",
    "print(x)\n",
    "print(x.ndim) # 차원수\n",
    "print(x.shape) # 행렬"
   ]
  },
  {
   "cell_type": "code",
   "execution_count": 14,
   "id": "6b8df0d6",
   "metadata": {
    "scrolled": true
   },
   "outputs": [
    {
     "name": "stdout",
     "output_type": "stream",
     "text": [
      "[[[11 21 31]\n",
      "  [12 22 32]\n",
      "  [13 23 33]]\n",
      "\n",
      " [[11 21 31]\n",
      "  [12 22 32]\n",
      "  [13 23 33]]\n",
      "\n",
      " [[11 21 31]\n",
      "  [12 22 32]\n",
      "  [13 23 33]]\n",
      "\n",
      " [[11 21 31]\n",
      "  [12 22 32]\n",
      "  [13 23 33]]]\n",
      "3\n",
      "(4, 3, 3)\n"
     ]
    }
   ],
   "source": [
    "x = np.array([\n",
    "              [ [11,21,31],\n",
    "               [12,22,32],\n",
    "               [13,23,33] ],\n",
    "              [ [11,21,31],\n",
    "               [12,22,32],\n",
    "               [13,23,33] ],\n",
    "              [ [11,21,31],\n",
    "               [12,22,32],\n",
    "               [13,23,33] ],\n",
    "              [ [11,21,31],\n",
    "               [12,22,32],\n",
    "               [13,23,33] ]\n",
    "             ])\n",
    "print(x)\n",
    "print(x.ndim)\n",
    "print(x.shape) # 레이어 수, 행, 열"
   ]
  },
  {
   "cell_type": "markdown",
   "id": "40d919a3",
   "metadata": {},
   "source": [
    "## MNIST 데이터 셋"
   ]
  },
  {
   "cell_type": "code",
   "execution_count": 8,
   "id": "3e12ee7d",
   "metadata": {},
   "outputs": [
    {
     "name": "stdout",
     "output_type": "stream",
     "text": [
      "Downloading data from https://storage.googleapis.com/tensorflow/tf-keras-datasets/mnist.npz\n",
      "11493376/11490434 [==============================] - 2s 0us/step\n",
      "11501568/11490434 [==============================] - 2s 0us/step\n"
     ]
    }
   ],
   "source": [
    "from keras.datasets import mnist\n",
    "(train_images, train_labels), (test_images, test_labels) = mnist.load_data()"
   ]
  },
  {
   "cell_type": "code",
   "execution_count": 10,
   "id": "8df4421c",
   "metadata": {},
   "outputs": [
    {
     "name": "stdout",
     "output_type": "stream",
     "text": [
      "3\n",
      "(60000, 28, 28)\n",
      "uint8\n"
     ]
    }
   ],
   "source": [
    "print(train_images.ndim)\n",
    "print(train_images.shape)\n",
    "print(train_images.dtype)"
   ]
  },
  {
   "cell_type": "code",
   "execution_count": 11,
   "id": "96025e15",
   "metadata": {},
   "outputs": [
    {
     "data": {
      "image/png": "[encoded data removed]",
      "text/plain": [
       "<Figure size 432x288 with 1 Axes>"
      ]
     },
     "metadata": {
      "needs_background": "light"
     },
     "output_type": "display_data"
    }
   ],
   "source": [
    "import matplotlib.pyplot as plt\n",
    "\n",
    "image = train_images[5]\n",
    "plt.imshow(image, cmap=plt.cm.binary)\n",
    "plt.show()"
   ]
  },
  {
   "cell_type": "markdown",
   "id": "1813891d",
   "metadata": {},
   "source": [
    "### 이미지의 오른쪽 아래 14 x 14 픽셀 선택"
   ]
  },
  {
   "cell_type": "code",
   "execution_count": 12,
   "id": "9d6979ea",
   "metadata": {},
   "outputs": [
    {
     "name": "stdout",
     "output_type": "stream",
     "text": [
      "(60000, 14, 14)\n"
     ]
    }
   ],
   "source": [
    "my_slice = train_images[:, 14:, 14:]\n",
    "print(my_slice.shape)"
   ]
  },
  {
   "cell_type": "code",
   "execution_count": 13,
   "id": "fef43488",
   "metadata": {},
   "outputs": [
    {
     "data": {
      "image/png": "[encoded data removed]",
      "text/plain": [
       "<Figure size 432x288 with 1 Axes>"
      ]
     },
     "metadata": {
      "needs_background": "light"
     },
     "output_type": "display_data"
    }
   ],
   "source": [
    "image = my_slice[5]\n",
    "plt.imshow(image, cmap=plt.cm.binary)\n",
    "plt.show()"
   ]
  },
  {
   "cell_type": "code",
   "execution_count": null,
   "id": "be7fbfda",
   "metadata": {},
   "outputs": [],
   "source": []
  }
 ],
 "metadata": {
  "kernelspec": {
   "display_name": "Python 3",
   "language": "python",
   "name": "python3"
  },
  "language_info": {
   "codemirror_mode": {
    "name": "ipython",
    "version": 3
   },
   "file_extension": ".py",
   "mimetype": "text/x-python",
   "name": "python",
   "nbconvert_exporter": "python",
   "pygments_lexer": "ipython3",
   "version": "3.8.8"
  }
 },
 "nbformat": 4,
 "nbformat_minor": 5
}
