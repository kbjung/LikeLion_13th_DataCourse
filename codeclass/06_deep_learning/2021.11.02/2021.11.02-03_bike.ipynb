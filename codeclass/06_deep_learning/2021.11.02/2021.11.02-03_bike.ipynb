{
 "cells": [
  {
   "cell_type": "code",
   "execution_count": 1,
   "id": "ad753b8d",
   "metadata": {},
   "outputs": [],
   "source": [
    "import tensorflow as tf\n",
    "import keras"
   ]
  },
  {
   "cell_type": "code",
   "execution_count": 2,
   "id": "3babfa92",
   "metadata": {},
   "outputs": [],
   "source": [
    "import numpy as np\n",
    "import matplotlib.pyplot as plt\n",
    "import matplotlib\n",
    "import pandas as pd"
   ]
  },
  {
   "cell_type": "code",
   "execution_count": 3,
   "id": "addbebd8",
   "metadata": {},
   "outputs": [
    {
     "name": "stdout",
     "output_type": "stream",
     "text": [
      "tf version : 2.6.1\n",
      "keras version : 2.6.0\n",
      "numpy version : 1.19.5\n",
      "matplotlib version : 3.3.4\n",
      "pandas version : 1.2.4\n"
     ]
    }
   ],
   "source": [
    "print(\"tf version : {}\".format(tf.__version__))\n",
    "print(\"keras version : {}\".format(keras.__version__))\n",
    "print(\"numpy version : {}\".format(np.__version__))\n",
    "print(\"matplotlib version : {}\".format(matplotlib.__version__))\n",
    "print(\"pandas version : {}\".format(pd.__version__))"
   ]
  },
  {
   "cell_type": "code",
   "execution_count": 4,
   "id": "09d11899",
   "metadata": {},
   "outputs": [],
   "source": [
    "## train 데이터 셋 , test 데이터 셋\n",
    "## train 은 학습을 위한 입력 데이터 셋\n",
    "## test 은 예측을 위한 새로운 데이터 셋(평가)\n",
    "## parse_dates : datetime 컬럼을 시간형으로 불러올 수 있음\n",
    "train = pd.read_csv(\"bike_mod_tr.csv\", parse_dates=['datetime'])\n",
    "test = pd.read_csv(\"bike_mod_test.csv\", parse_dates=['datetime'])"
   ]
  },
  {
   "cell_type": "code",
   "execution_count": 5,
   "id": "feabdab0",
   "metadata": {},
   "outputs": [
    {
     "data": {
      "text/plain": [
       "((10886, 19), (6493, 16))"
      ]
     },
     "execution_count": 5,
     "metadata": {},
     "output_type": "execute_result"
    }
   ],
   "source": [
    "train.shape, test.shape"
   ]
  },
  {
   "cell_type": "code",
   "execution_count": 6,
   "id": "cbba49de",
   "metadata": {},
   "outputs": [
    {
     "data": {
      "text/html": [
       "<div>\n",
       "<style scoped>\n",
       "    .dataframe tbody tr th:only-of-type {\n",
       "        vertical-align: middle;\n",
       "    }\n",
       "\n",
       "    .dataframe tbody tr th {\n",
       "        vertical-align: top;\n",
       "    }\n",
       "\n",
       "    .dataframe thead th {\n",
       "        text-align: right;\n",
       "    }\n",
       "</style>\n",
       "<table border=\"1\" class=\"dataframe\">\n",
       "  <thead>\n",
       "    <tr style=\"text-align: right;\">\n",
       "      <th></th>\n",
       "      <th>datetime</th>\n",
       "      <th>season</th>\n",
       "      <th>holiday</th>\n",
       "      <th>workingday</th>\n",
       "      <th>weather</th>\n",
       "      <th>temp</th>\n",
       "      <th>atemp</th>\n",
       "      <th>humidity</th>\n",
       "      <th>windspeed</th>\n",
       "      <th>casual</th>\n",
       "      <th>registered</th>\n",
       "      <th>count</th>\n",
       "      <th>year</th>\n",
       "      <th>month</th>\n",
       "      <th>day</th>\n",
       "      <th>hour</th>\n",
       "      <th>minute</th>\n",
       "      <th>second</th>\n",
       "      <th>dayofweek</th>\n",
       "    </tr>\n",
       "  </thead>\n",
       "  <tbody>\n",
       "    <tr>\n",
       "      <th>0</th>\n",
       "      <td>2011-01-01 00:00:00</td>\n",
       "      <td>1</td>\n",
       "      <td>0</td>\n",
       "      <td>0</td>\n",
       "      <td>1</td>\n",
       "      <td>9.84</td>\n",
       "      <td>14.395</td>\n",
       "      <td>81</td>\n",
       "      <td>0.0</td>\n",
       "      <td>3</td>\n",
       "      <td>13</td>\n",
       "      <td>16</td>\n",
       "      <td>2011</td>\n",
       "      <td>1</td>\n",
       "      <td>1</td>\n",
       "      <td>0</td>\n",
       "      <td>0</td>\n",
       "      <td>0</td>\n",
       "      <td>5</td>\n",
       "    </tr>\n",
       "    <tr>\n",
       "      <th>1</th>\n",
       "      <td>2011-01-01 01:00:00</td>\n",
       "      <td>1</td>\n",
       "      <td>0</td>\n",
       "      <td>0</td>\n",
       "      <td>1</td>\n",
       "      <td>9.02</td>\n",
       "      <td>13.635</td>\n",
       "      <td>80</td>\n",
       "      <td>0.0</td>\n",
       "      <td>8</td>\n",
       "      <td>32</td>\n",
       "      <td>40</td>\n",
       "      <td>2011</td>\n",
       "      <td>1</td>\n",
       "      <td>1</td>\n",
       "      <td>1</td>\n",
       "      <td>0</td>\n",
       "      <td>0</td>\n",
       "      <td>5</td>\n",
       "    </tr>\n",
       "    <tr>\n",
       "      <th>2</th>\n",
       "      <td>2011-01-01 02:00:00</td>\n",
       "      <td>1</td>\n",
       "      <td>0</td>\n",
       "      <td>0</td>\n",
       "      <td>1</td>\n",
       "      <td>9.02</td>\n",
       "      <td>13.635</td>\n",
       "      <td>80</td>\n",
       "      <td>0.0</td>\n",
       "      <td>5</td>\n",
       "      <td>27</td>\n",
       "      <td>32</td>\n",
       "      <td>2011</td>\n",
       "      <td>1</td>\n",
       "      <td>1</td>\n",
       "      <td>2</td>\n",
       "      <td>0</td>\n",
       "      <td>0</td>\n",
       "      <td>5</td>\n",
       "    </tr>\n",
       "    <tr>\n",
       "      <th>3</th>\n",
       "      <td>2011-01-01 03:00:00</td>\n",
       "      <td>1</td>\n",
       "      <td>0</td>\n",
       "      <td>0</td>\n",
       "      <td>1</td>\n",
       "      <td>9.84</td>\n",
       "      <td>14.395</td>\n",
       "      <td>75</td>\n",
       "      <td>0.0</td>\n",
       "      <td>3</td>\n",
       "      <td>10</td>\n",
       "      <td>13</td>\n",
       "      <td>2011</td>\n",
       "      <td>1</td>\n",
       "      <td>1</td>\n",
       "      <td>3</td>\n",
       "      <td>0</td>\n",
       "      <td>0</td>\n",
       "      <td>5</td>\n",
       "    </tr>\n",
       "    <tr>\n",
       "      <th>4</th>\n",
       "      <td>2011-01-01 04:00:00</td>\n",
       "      <td>1</td>\n",
       "      <td>0</td>\n",
       "      <td>0</td>\n",
       "      <td>1</td>\n",
       "      <td>9.84</td>\n",
       "      <td>14.395</td>\n",
       "      <td>75</td>\n",
       "      <td>0.0</td>\n",
       "      <td>0</td>\n",
       "      <td>1</td>\n",
       "      <td>1</td>\n",
       "      <td>2011</td>\n",
       "      <td>1</td>\n",
       "      <td>1</td>\n",
       "      <td>4</td>\n",
       "      <td>0</td>\n",
       "      <td>0</td>\n",
       "      <td>5</td>\n",
       "    </tr>\n",
       "  </tbody>\n",
       "</table>\n",
       "</div>"
      ],
      "text/plain": [
       "             datetime  season  holiday  workingday  weather  temp   atemp  \\\n",
       "0 2011-01-01 00:00:00       1        0           0        1  9.84  14.395   \n",
       "1 2011-01-01 01:00:00       1        0           0        1  9.02  13.635   \n",
       "2 2011-01-01 02:00:00       1        0           0        1  9.02  13.635   \n",
       "3 2011-01-01 03:00:00       1        0           0        1  9.84  14.395   \n",
       "4 2011-01-01 04:00:00       1        0           0        1  9.84  14.395   \n",
       "\n",
       "   humidity  windspeed  casual  registered  count  year  month  day  hour  \\\n",
       "0        81        0.0       3          13     16  2011      1    1     0   \n",
       "1        80        0.0       8          32     40  2011      1    1     1   \n",
       "2        80        0.0       5          27     32  2011      1    1     2   \n",
       "3        75        0.0       3          10     13  2011      1    1     3   \n",
       "4        75        0.0       0           1      1  2011      1    1     4   \n",
       "\n",
       "   minute  second  dayofweek  \n",
       "0       0       0          5  \n",
       "1       0       0          5  \n",
       "2       0       0          5  \n",
       "3       0       0          5  \n",
       "4       0       0          5  "
      ]
     },
     "execution_count": 6,
     "metadata": {},
     "output_type": "execute_result"
    }
   ],
   "source": [
    "train.head()"
   ]
  },
  {
   "cell_type": "code",
   "execution_count": 8,
   "id": "408bc3d2",
   "metadata": {},
   "outputs": [
    {
     "data": {
      "text/html": [
       "<div>\n",
       "<style scoped>\n",
       "    .dataframe tbody tr th:only-of-type {\n",
       "        vertical-align: middle;\n",
       "    }\n",
       "\n",
       "    .dataframe tbody tr th {\n",
       "        vertical-align: top;\n",
       "    }\n",
       "\n",
       "    .dataframe thead th {\n",
       "        text-align: right;\n",
       "    }\n",
       "</style>\n",
       "<table border=\"1\" class=\"dataframe\">\n",
       "  <thead>\n",
       "    <tr style=\"text-align: right;\">\n",
       "      <th></th>\n",
       "      <th>datetime</th>\n",
       "      <th>season</th>\n",
       "      <th>holiday</th>\n",
       "      <th>workingday</th>\n",
       "      <th>weather</th>\n",
       "      <th>temp</th>\n",
       "      <th>atemp</th>\n",
       "      <th>humidity</th>\n",
       "      <th>windspeed</th>\n",
       "      <th>year</th>\n",
       "      <th>month</th>\n",
       "      <th>day</th>\n",
       "      <th>dayofweek</th>\n",
       "      <th>hour</th>\n",
       "      <th>minute</th>\n",
       "      <th>second</th>\n",
       "    </tr>\n",
       "  </thead>\n",
       "  <tbody>\n",
       "    <tr>\n",
       "      <th>0</th>\n",
       "      <td>2011-01-20 00:00:00</td>\n",
       "      <td>1</td>\n",
       "      <td>0</td>\n",
       "      <td>1</td>\n",
       "      <td>1</td>\n",
       "      <td>10.66</td>\n",
       "      <td>11.365</td>\n",
       "      <td>56</td>\n",
       "      <td>26.0027</td>\n",
       "      <td>2011</td>\n",
       "      <td>1</td>\n",
       "      <td>20</td>\n",
       "      <td>3</td>\n",
       "      <td>0</td>\n",
       "      <td>0</td>\n",
       "      <td>0</td>\n",
       "    </tr>\n",
       "    <tr>\n",
       "      <th>1</th>\n",
       "      <td>2011-01-20 01:00:00</td>\n",
       "      <td>1</td>\n",
       "      <td>0</td>\n",
       "      <td>1</td>\n",
       "      <td>1</td>\n",
       "      <td>10.66</td>\n",
       "      <td>13.635</td>\n",
       "      <td>56</td>\n",
       "      <td>0.0000</td>\n",
       "      <td>2011</td>\n",
       "      <td>1</td>\n",
       "      <td>20</td>\n",
       "      <td>3</td>\n",
       "      <td>1</td>\n",
       "      <td>0</td>\n",
       "      <td>0</td>\n",
       "    </tr>\n",
       "    <tr>\n",
       "      <th>2</th>\n",
       "      <td>2011-01-20 02:00:00</td>\n",
       "      <td>1</td>\n",
       "      <td>0</td>\n",
       "      <td>1</td>\n",
       "      <td>1</td>\n",
       "      <td>10.66</td>\n",
       "      <td>13.635</td>\n",
       "      <td>56</td>\n",
       "      <td>0.0000</td>\n",
       "      <td>2011</td>\n",
       "      <td>1</td>\n",
       "      <td>20</td>\n",
       "      <td>3</td>\n",
       "      <td>2</td>\n",
       "      <td>0</td>\n",
       "      <td>0</td>\n",
       "    </tr>\n",
       "    <tr>\n",
       "      <th>3</th>\n",
       "      <td>2011-01-20 03:00:00</td>\n",
       "      <td>1</td>\n",
       "      <td>0</td>\n",
       "      <td>1</td>\n",
       "      <td>1</td>\n",
       "      <td>10.66</td>\n",
       "      <td>12.880</td>\n",
       "      <td>56</td>\n",
       "      <td>11.0014</td>\n",
       "      <td>2011</td>\n",
       "      <td>1</td>\n",
       "      <td>20</td>\n",
       "      <td>3</td>\n",
       "      <td>3</td>\n",
       "      <td>0</td>\n",
       "      <td>0</td>\n",
       "    </tr>\n",
       "    <tr>\n",
       "      <th>4</th>\n",
       "      <td>2011-01-20 04:00:00</td>\n",
       "      <td>1</td>\n",
       "      <td>0</td>\n",
       "      <td>1</td>\n",
       "      <td>1</td>\n",
       "      <td>10.66</td>\n",
       "      <td>12.880</td>\n",
       "      <td>56</td>\n",
       "      <td>11.0014</td>\n",
       "      <td>2011</td>\n",
       "      <td>1</td>\n",
       "      <td>20</td>\n",
       "      <td>3</td>\n",
       "      <td>4</td>\n",
       "      <td>0</td>\n",
       "      <td>0</td>\n",
       "    </tr>\n",
       "  </tbody>\n",
       "</table>\n",
       "</div>"
      ],
      "text/plain": [
       "             datetime  season  holiday  workingday  weather   temp   atemp  \\\n",
       "0 2011-01-20 00:00:00       1        0           1        1  10.66  11.365   \n",
       "1 2011-01-20 01:00:00       1        0           1        1  10.66  13.635   \n",
       "2 2011-01-20 02:00:00       1        0           1        1  10.66  13.635   \n",
       "3 2011-01-20 03:00:00       1        0           1        1  10.66  12.880   \n",
       "4 2011-01-20 04:00:00       1        0           1        1  10.66  12.880   \n",
       "\n",
       "   humidity  windspeed  year  month  day  dayofweek  hour  minute  second  \n",
       "0        56    26.0027  2011      1   20          3     0       0       0  \n",
       "1        56     0.0000  2011      1   20          3     1       0       0  \n",
       "2        56     0.0000  2011      1   20          3     2       0       0  \n",
       "3        56    11.0014  2011      1   20          3     3       0       0  \n",
       "4        56    11.0014  2011      1   20          3     4       0       0  "
      ]
     },
     "execution_count": 8,
     "metadata": {},
     "output_type": "execute_result"
    }
   ],
   "source": [
    "test.head()"
   ]
  },
  {
   "cell_type": "code",
   "execution_count": 9,
   "id": "61b28e53",
   "metadata": {},
   "outputs": [
    {
     "name": "stdout",
     "output_type": "stream",
     "text": [
      "<class 'pandas.core.frame.DataFrame'>\n",
      "RangeIndex: 10886 entries, 0 to 10885\n",
      "Data columns (total 19 columns):\n",
      " #   Column      Non-Null Count  Dtype         \n",
      "---  ------      --------------  -----         \n",
      " 0   datetime    10886 non-null  datetime64[ns]\n",
      " 1   season      10886 non-null  int64         \n",
      " 2   holiday     10886 non-null  int64         \n",
      " 3   workingday  10886 non-null  int64         \n",
      " 4   weather     10886 non-null  int64         \n",
      " 5   temp        10886 non-null  float64       \n",
      " 6   atemp       10886 non-null  float64       \n",
      " 7   humidity    10886 non-null  int64         \n",
      " 8   windspeed   10886 non-null  float64       \n",
      " 9   casual      10886 non-null  int64         \n",
      " 10  registered  10886 non-null  int64         \n",
      " 11  count       10886 non-null  int64         \n",
      " 12  year        10886 non-null  int64         \n",
      " 13  month       10886 non-null  int64         \n",
      " 14  day         10886 non-null  int64         \n",
      " 15  hour        10886 non-null  int64         \n",
      " 16  minute      10886 non-null  int64         \n",
      " 17  second      10886 non-null  int64         \n",
      " 18  dayofweek   10886 non-null  int64         \n",
      "dtypes: datetime64[ns](1), float64(3), int64(15)\n",
      "memory usage: 1.6 MB\n"
     ]
    }
   ],
   "source": [
    "train.info()"
   ]
  },
  {
   "cell_type": "code",
   "execution_count": 10,
   "id": "7faacd74",
   "metadata": {},
   "outputs": [
    {
     "name": "stdout",
     "output_type": "stream",
     "text": [
      "<class 'pandas.core.frame.DataFrame'>\n",
      "RangeIndex: 6493 entries, 0 to 6492\n",
      "Data columns (total 16 columns):\n",
      " #   Column      Non-Null Count  Dtype         \n",
      "---  ------      --------------  -----         \n",
      " 0   datetime    6493 non-null   datetime64[ns]\n",
      " 1   season      6493 non-null   int64         \n",
      " 2   holiday     6493 non-null   int64         \n",
      " 3   workingday  6493 non-null   int64         \n",
      " 4   weather     6493 non-null   int64         \n",
      " 5   temp        6493 non-null   float64       \n",
      " 6   atemp       6493 non-null   float64       \n",
      " 7   humidity    6493 non-null   int64         \n",
      " 8   windspeed   6493 non-null   float64       \n",
      " 9   year        6493 non-null   int64         \n",
      " 10  month       6493 non-null   int64         \n",
      " 11  day         6493 non-null   int64         \n",
      " 12  dayofweek   6493 non-null   int64         \n",
      " 13  hour        6493 non-null   int64         \n",
      " 14  minute      6493 non-null   int64         \n",
      " 15  second      6493 non-null   int64         \n",
      "dtypes: datetime64[ns](1), float64(3), int64(12)\n",
      "memory usage: 811.8 KB\n"
     ]
    }
   ],
   "source": [
    "test.info()"
   ]
  },
  {
   "cell_type": "markdown",
   "id": "21bd30bb",
   "metadata": {},
   "source": [
    "## 모델을 위한 데이터 선택"
   ]
  },
  {
   "cell_type": "code",
   "execution_count": 11,
   "id": "5dbbbe52",
   "metadata": {},
   "outputs": [],
   "source": [
    "sel = ['hour', 'temp']\n",
    "# 훈련용\n",
    "X = train[sel]\n",
    "y = train['count']\n",
    "# 평가용\n",
    "X_val = test[sel]"
   ]
  },
  {
   "cell_type": "code",
   "execution_count": 12,
   "id": "ec4d5584",
   "metadata": {},
   "outputs": [],
   "source": [
    "from sklearn.model_selection import train_test_split"
   ]
  },
  {
   "cell_type": "code",
   "execution_count": 13,
   "id": "64707a12",
   "metadata": {},
   "outputs": [],
   "source": [
    "X_train, X_test, y_train, y_test = train_test_split(X, y, random_state=0)"
   ]
  },
  {
   "cell_type": "markdown",
   "id": "438745af",
   "metadata": {},
   "source": [
    "## 딥러닝 구조 결정"
   ]
  },
  {
   "cell_type": "markdown",
   "id": "32c1a122",
   "metadata": {},
   "source": [
    "* 케라스 라이브러리 중에서 Sequential 함수는 딥러닝의 구조를 한층 한층 쉽게 쌓아올릴 수 있다.\n",
    "* Sequential() 함수 선언 후, 신경망의 층을 쌓기 위해 model.add() 함수를 사용한다\n",
    "* input_dim 입력층 노드의 수\n",
    "* activation - 활성화 함수 선언 (relu, sigmoid)\n",
    "* Dense() 함수를 이용하여 각 층에 세부 내용을 설정해 준다."
   ]
  },
  {
   "cell_type": "code",
   "execution_count": 14,
   "id": "c340bdf7",
   "metadata": {},
   "outputs": [],
   "source": [
    "# tensorflow, pytorch, keras\n",
    "from keras.models import Sequential\n",
    "from keras.layers import Dense"
   ]
  },
  {
   "cell_type": "code",
   "execution_count": 15,
   "id": "0a234138",
   "metadata": {},
   "outputs": [],
   "source": [
    "model = Sequential()\n",
    "model.add( Dense(16, input_dim=2, activation='relu'))\n",
    "model.add( Dense(1) )"
   ]
  },
  {
   "cell_type": "code",
   "execution_count": 17,
   "id": "2d95b3a6",
   "metadata": {},
   "outputs": [],
   "source": [
    "# model.summary()"
   ]
  },
  {
   "cell_type": "markdown",
   "id": "3f2c0415",
   "metadata": {},
   "source": [
    "## 미니배치의 이해"
   ]
  },
  {
   "cell_type": "markdown",
   "id": "f2074354",
   "metadata": {},
   "source": [
    "* 이미지를 하나씩 학습시키는 것보다 여러 개를 한꺼번에 학습시키는 쪽이 효과가 좋다.\n",
    "* 많은 메모리와 높은 컴퓨터 성능이 필요하므로 일반적으로 데이터를 적당한 크기로 잘라서 학습시킨다.\n",
    "    * 미니배치라고 한다."
   ]
  },
  {
   "cell_type": "markdown",
   "id": "c1650799",
   "metadata": {},
   "source": [
    "## 딥러닝 실행"
   ]
  },
  {
   "cell_type": "code",
   "execution_count": 18,
   "id": "b0c92b80",
   "metadata": {},
   "outputs": [
    {
     "name": "stdout",
     "output_type": "stream",
     "text": [
      "Epoch 1/20\n",
      "817/817 [==============================] - 1s 674us/step - loss: 48611.3164\n",
      "Epoch 2/20\n",
      "817/817 [==============================] - 1s 1ms/step - loss: 24952.2305A: 0s - loss: 25\n",
      "Epoch 3/20\n",
      "817/817 [==============================] - 1s 798us/step - loss: 24459.3223\n",
      "Epoch 4/20\n",
      "817/817 [==============================] - 1s 678us/step - loss: 24118.2285\n",
      "Epoch 5/20\n",
      "817/817 [==============================] - 1s 699us/step - loss: 23717.3848\n",
      "Epoch 6/20\n",
      "817/817 [==============================] - 1s 667us/step - loss: 23300.7793\n",
      "Epoch 7/20\n",
      "817/817 [==============================] - 1s 763us/step - loss: 22897.5547\n",
      "Epoch 8/20\n",
      "817/817 [==============================] - 1s 697us/step - loss: 22479.8750\n",
      "Epoch 9/20\n",
      "817/817 [==============================] - 1s 795us/step - loss: 22085.3613\n",
      "Epoch 10/20\n",
      "817/817 [==============================] - 1s 727us/step - loss: 21730.9062\n",
      "Epoch 11/20\n",
      "817/817 [==============================] - 1s 702us/step - loss: 21425.8555\n",
      "Epoch 12/20\n",
      "817/817 [==============================] - 1s 677us/step - loss: 21124.5137\n",
      "Epoch 13/20\n",
      "817/817 [==============================] - 1s 675us/step - loss: 20876.5547\n",
      "Epoch 14/20\n",
      "817/817 [==============================] - 1s 761us/step - loss: 20644.1172\n",
      "Epoch 15/20\n",
      "817/817 [==============================] - 1s 678us/step - loss: 20449.1133\n",
      "Epoch 16/20\n",
      "817/817 [==============================] - 1s 680us/step - loss: 20284.1406\n",
      "Epoch 17/20\n",
      "817/817 [==============================] - 1s 694us/step - loss: 20142.9160\n",
      "Epoch 18/20\n",
      "817/817 [==============================] - 1s 752us/step - loss: 20003.2422\n",
      "Epoch 19/20\n",
      "817/817 [==============================] - 1s 764us/step - loss: 19921.6172 0s - loss: 19350\n",
      "Epoch 20/20\n",
      "817/817 [==============================] - 1s 746us/step - loss: 19821.7383\n"
     ]
    },
    {
     "data": {
      "text/plain": [
       "<keras.callbacks.History at 0x1d1a19b5580>"
      ]
     },
     "execution_count": 18,
     "metadata": {},
     "output_type": "execute_result"
    }
   ],
   "source": [
    "# 모델의 사용하는 지표 등..\n",
    "model.compile(loss='mean_squared_error', optimizer='rmsprop')\n",
    "model.fit(X_train, y_train, epochs=20, batch_size=10)"
   ]
  },
  {
   "cell_type": "code",
   "execution_count": 19,
   "id": "3c2f8942",
   "metadata": {},
   "outputs": [
    {
     "name": "stdout",
     "output_type": "stream",
     "text": [
      "86/86 [==============================] - 0s 575us/step - loss: 19551.1621\n"
     ]
    },
    {
     "data": {
      "text/plain": [
       "19551.162109375"
      ]
     },
     "execution_count": 19,
     "metadata": {},
     "output_type": "execute_result"
    }
   ],
   "source": [
    "# 평가 확인\n",
    "model.evaluate(X_test, y_test)"
   ]
  },
  {
   "cell_type": "code",
   "execution_count": 20,
   "id": "d32cc613",
   "metadata": {},
   "outputs": [
    {
     "data": {
      "text/plain": [
       "array([[ 15.665418],\n",
       "       [ 30.663118],\n",
       "       [ 50.8901  ],\n",
       "       [ 71.119194],\n",
       "       [ 91.34829 ],\n",
       "       [110.07057 ],\n",
       "       [124.491295],\n",
       "       [121.40751 ],\n",
       "       [118.32372 ],\n",
       "       [126.915665]], dtype=float32)"
      ]
     },
     "execution_count": 20,
     "metadata": {},
     "output_type": "execute_result"
    }
   ],
   "source": [
    "# 예측하기\n",
    "pred = model.predict(X_val)\n",
    "pred[0:10]"
   ]
  },
  {
   "cell_type": "code",
   "execution_count": 22,
   "id": "33e4a500",
   "metadata": {},
   "outputs": [],
   "source": [
    "sub = pd.read_csv('sampleSubmission.csv')\n",
    "sub['count'] = pred\n",
    "sub.loc[sub['count']< 0, 'count'] = 0\n",
    "sub.to_csv(\"nn_sub_20211102.csv\", index=False)"
   ]
  },
  {
   "cell_type": "code",
   "execution_count": 39,
   "id": "524f4d93",
   "metadata": {},
   "outputs": [],
   "source": [
    "# 특성 2개\n",
    "# kaggle 점수 : 1.20727"
   ]
  },
  {
   "cell_type": "markdown",
   "id": "ec2a9045",
   "metadata": {},
   "source": [
    "# 모델 개선"
   ]
  },
  {
   "cell_type": "markdown",
   "id": "b12fa5fa",
   "metadata": {},
   "source": [
    "* 변수 추가, 성능 개선 확인\n",
    "* 은닉층 추가\n",
    "* 노드 수를 늘리기\n",
    "* epochs 수 변경"
   ]
  },
  {
   "cell_type": "markdown",
   "id": "9f3280ea",
   "metadata": {},
   "source": [
    "### 변수 추가"
   ]
  },
  {
   "cell_type": "code",
   "execution_count": 24,
   "id": "864d9244",
   "metadata": {},
   "outputs": [
    {
     "name": "stdout",
     "output_type": "stream",
     "text": [
      "<class 'pandas.core.frame.DataFrame'>\n",
      "RangeIndex: 10886 entries, 0 to 10885\n",
      "Data columns (total 19 columns):\n",
      " #   Column      Non-Null Count  Dtype         \n",
      "---  ------      --------------  -----         \n",
      " 0   datetime    10886 non-null  datetime64[ns]\n",
      " 1   season      10886 non-null  int64         \n",
      " 2   holiday     10886 non-null  int64         \n",
      " 3   workingday  10886 non-null  int64         \n",
      " 4   weather     10886 non-null  int64         \n",
      " 5   temp        10886 non-null  float64       \n",
      " 6   atemp       10886 non-null  float64       \n",
      " 7   humidity    10886 non-null  int64         \n",
      " 8   windspeed   10886 non-null  float64       \n",
      " 9   casual      10886 non-null  int64         \n",
      " 10  registered  10886 non-null  int64         \n",
      " 11  count       10886 non-null  int64         \n",
      " 12  year        10886 non-null  int64         \n",
      " 13  month       10886 non-null  int64         \n",
      " 14  day         10886 non-null  int64         \n",
      " 15  hour        10886 non-null  int64         \n",
      " 16  minute      10886 non-null  int64         \n",
      " 17  second      10886 non-null  int64         \n",
      " 18  dayofweek   10886 non-null  int64         \n",
      "dtypes: datetime64[ns](1), float64(3), int64(15)\n",
      "memory usage: 1.6 MB\n"
     ]
    }
   ],
   "source": [
    "train.info()"
   ]
  },
  {
   "cell_type": "code",
   "execution_count": 23,
   "id": "c76d01fb",
   "metadata": {
    "scrolled": true
   },
   "outputs": [
    {
     "data": {
      "text/plain": [
       "Index(['datetime', 'season', 'holiday', 'workingday', 'weather', 'temp',\n",
       "       'atemp', 'humidity', 'windspeed', 'casual', 'registered', 'count',\n",
       "       'year', 'month', 'day', 'hour', 'minute', 'second', 'dayofweek'],\n",
       "      dtype='object')"
      ]
     },
     "execution_count": 23,
     "metadata": {},
     "output_type": "execute_result"
    }
   ],
   "source": [
    "train.columns"
   ]
  },
  {
   "cell_type": "code",
   "execution_count": 25,
   "id": "111a682e",
   "metadata": {},
   "outputs": [],
   "source": [
    "sel = ['season', 'holiday', 'workingday', 'weather', 'temp',\n",
    "       'humidity', 'windspeed', 'year', 'month', 'day', 'hour', 'dayofweek']\n",
    "X = train[sel]\n",
    "y = train['count']\n",
    "X_val = test[sel]"
   ]
  },
  {
   "cell_type": "code",
   "execution_count": 26,
   "id": "f1d720d2",
   "metadata": {},
   "outputs": [],
   "source": [
    "X_train, X_test, y_train, y_test = train_test_split(X, y, random_state=0)"
   ]
  },
  {
   "cell_type": "code",
   "execution_count": 27,
   "id": "6d26ab67",
   "metadata": {},
   "outputs": [],
   "source": [
    "model = Sequential()\n",
    "model.add( Dense(16, input_dim=12, activation='relu') )\n",
    "model.add( Dense(1) )"
   ]
  },
  {
   "cell_type": "code",
   "execution_count": 29,
   "id": "1aa12fab",
   "metadata": {},
   "outputs": [
    {
     "name": "stdout",
     "output_type": "stream",
     "text": [
      "Epoch 1/20\n",
      "817/817 [==============================] - 1s 668us/step - loss: 175799.9844\n",
      "Epoch 2/20\n",
      "817/817 [==============================] - 1s 776us/step - loss: 28168.5039\n",
      "Epoch 3/20\n",
      "817/817 [==============================] - 1s 693us/step - loss: 25064.2285\n",
      "Epoch 4/20\n",
      "817/817 [==============================] - 1s 658us/step - loss: 23205.6816\n",
      "Epoch 5/20\n",
      "817/817 [==============================] - 1s 659us/step - loss: 22488.7168\n",
      "Epoch 6/20\n",
      "817/817 [==============================] - 1s 662us/step - loss: 22204.3203\n",
      "Epoch 7/20\n",
      "817/817 [==============================] - 1s 677us/step - loss: 22078.7285\n",
      "Epoch 8/20\n",
      "817/817 [==============================] - 1s 770us/step - loss: 21967.8867\n",
      "Epoch 9/20\n",
      "817/817 [==============================] - 1s 682us/step - loss: 21948.5625\n",
      "Epoch 10/20\n",
      "817/817 [==============================] - 1s 737us/step - loss: 21869.3027\n",
      "Epoch 11/20\n",
      "817/817 [==============================] - 1s 658us/step - loss: 21761.8652\n",
      "Epoch 12/20\n",
      "817/817 [==============================] - 1s 704us/step - loss: 21718.0449\n",
      "Epoch 13/20\n",
      "817/817 [==============================] - 1s 667us/step - loss: 21634.7539\n",
      "Epoch 14/20\n",
      "817/817 [==============================] - 1s 752us/step - loss: 21489.5273\n",
      "Epoch 15/20\n",
      "817/817 [==============================] - 1s 666us/step - loss: 21352.7070\n",
      "Epoch 16/20\n",
      "817/817 [==============================] - 1s 682us/step - loss: 21247.7461\n",
      "Epoch 17/20\n",
      "817/817 [==============================] - 1s 773us/step - loss: 21116.5898\n",
      "Epoch 18/20\n",
      "817/817 [==============================] - 1s 926us/step - loss: 20967.7266\n",
      "Epoch 19/20\n",
      "817/817 [==============================] - 1s 819us/step - loss: 20819.6230\n",
      "Epoch 20/20\n",
      "817/817 [==============================] - 1s 718us/step - loss: 20671.6719\n"
     ]
    },
    {
     "data": {
      "text/plain": [
       "<keras.callbacks.History at 0x1d1a1b7dd60>"
      ]
     },
     "execution_count": 29,
     "metadata": {},
     "output_type": "execute_result"
    }
   ],
   "source": [
    "model.compile(loss='mean_squared_error', optimizer='rmsprop')\n",
    "model.fit(X_train, y_train, epochs=20, batch_size=10)"
   ]
  },
  {
   "cell_type": "code",
   "execution_count": 30,
   "id": "b56cd4bb",
   "metadata": {},
   "outputs": [
    {
     "name": "stdout",
     "output_type": "stream",
     "text": [
      "86/86 [==============================] - 0s 645us/step - loss: 20170.7109\n"
     ]
    },
    {
     "data": {
      "text/plain": [
       "20170.7109375"
      ]
     },
     "execution_count": 30,
     "metadata": {},
     "output_type": "execute_result"
    }
   ],
   "source": [
    "# 평가 확인\n",
    "model.evaluate(X_test, y_test)"
   ]
  },
  {
   "cell_type": "code",
   "execution_count": 31,
   "id": "ef531266",
   "metadata": {},
   "outputs": [],
   "source": [
    "pred = model.predict(X_val)"
   ]
  },
  {
   "cell_type": "code",
   "execution_count": 32,
   "id": "a7cc3105",
   "metadata": {},
   "outputs": [],
   "source": [
    "sub = pd.read_csv('sampleSubmission.csv')\n",
    "sub['count'] = pred\n",
    "sub.loc[sub['count']< 0, 'count'] = 0\n",
    "sub.to_csv(\"nn_sub2_20211102.csv\", index=False)"
   ]
  },
  {
   "cell_type": "code",
   "execution_count": 44,
   "id": "b4798d03",
   "metadata": {},
   "outputs": [],
   "source": [
    "# 특성 12개\n",
    "# kaggle 점수 : 1.25085"
   ]
  },
  {
   "cell_type": "markdown",
   "id": "af4ba1b9",
   "metadata": {},
   "source": [
    "### 변수 변경 2"
   ]
  },
  {
   "cell_type": "code",
   "execution_count": 45,
   "id": "349493d7",
   "metadata": {},
   "outputs": [],
   "source": [
    "sel = ['weather', 'temp', 'humidity', 'windspeed', 'year', 'month', 'day', 'hour']"
   ]
  },
  {
   "cell_type": "code",
   "execution_count": 46,
   "id": "5af7a852",
   "metadata": {},
   "outputs": [],
   "source": [
    "X = train[sel]\n",
    "y = train['count']\n",
    "X_val = test[sel]"
   ]
  },
  {
   "cell_type": "code",
   "execution_count": 49,
   "id": "8910c813",
   "metadata": {},
   "outputs": [],
   "source": [
    "X_train, X_test, y_train, y_test = train_test_split(X, y, random_state=0)"
   ]
  },
  {
   "cell_type": "code",
   "execution_count": 50,
   "id": "ded64107",
   "metadata": {},
   "outputs": [],
   "source": [
    "model = Sequential()\n",
    "model.add( Dense(16, input_dim=8, activation='relu') )\n",
    "model.add( Dense(1) )"
   ]
  },
  {
   "cell_type": "code",
   "execution_count": 51,
   "id": "39b7038b",
   "metadata": {},
   "outputs": [
    {
     "name": "stdout",
     "output_type": "stream",
     "text": [
      "Epoch 1/20\n",
      "817/817 [==============================] - 1s 664us/step - loss: 32363.3203\n",
      "Epoch 2/20\n",
      "817/817 [==============================] - 1s 825us/step - loss: 29599.4238\n",
      "Epoch 3/20\n",
      "817/817 [==============================] - 1s 681us/step - loss: 27526.3848\n",
      "Epoch 4/20\n",
      "817/817 [==============================] - 1s 660us/step - loss: 25778.2285\n",
      "Epoch 5/20\n",
      "817/817 [==============================] - 1s 671us/step - loss: 24443.5879\n",
      "Epoch 6/20\n",
      "817/817 [==============================] - 1s 666us/step - loss: 23600.3164\n",
      "Epoch 7/20\n",
      "817/817 [==============================] - 1s 666us/step - loss: 23025.8242\n",
      "Epoch 8/20\n",
      "817/817 [==============================] - 1s 677us/step - loss: 22612.7109\n",
      "Epoch 9/20\n",
      "817/817 [==============================] - 1s 671us/step - loss: 22444.8008\n",
      "Epoch 10/20\n",
      "817/817 [==============================] - 1s 802us/step - loss: 22276.5664\n",
      "Epoch 11/20\n",
      "817/817 [==============================] - 1s 698us/step - loss: 22227.1289\n",
      "Epoch 12/20\n",
      "817/817 [==============================] - 1s 660us/step - loss: 22253.6895\n",
      "Epoch 13/20\n",
      "817/817 [==============================] - 1s 693us/step - loss: 22165.2266\n",
      "Epoch 14/20\n",
      "817/817 [==============================] - 1s 670us/step - loss: 22180.0859\n",
      "Epoch 15/20\n",
      "817/817 [==============================] - 1s 673us/step - loss: 22146.0312\n",
      "Epoch 16/20\n",
      "817/817 [==============================] - 1s 678us/step - loss: 22110.9590\n",
      "Epoch 17/20\n",
      "817/817 [==============================] - 1s 674us/step - loss: 22094.9707\n",
      "Epoch 18/20\n",
      "817/817 [==============================] - 1s 741us/step - loss: 22077.4395\n",
      "Epoch 19/20\n",
      "817/817 [==============================] - 1s 708us/step - loss: 22134.9980\n",
      "Epoch 20/20\n",
      "817/817 [==============================] - 1s 686us/step - loss: 22106.1914\n"
     ]
    },
    {
     "data": {
      "text/plain": [
       "<keras.callbacks.History at 0x1d1a75f1670>"
      ]
     },
     "execution_count": 51,
     "metadata": {},
     "output_type": "execute_result"
    }
   ],
   "source": [
    "model.compile(loss='mean_squared_error', optimizer='rmsprop')\n",
    "model.fit(X_train, y_train, epochs=20, batch_size=10)"
   ]
  },
  {
   "cell_type": "code",
   "execution_count": 52,
   "id": "2e14cb99",
   "metadata": {},
   "outputs": [],
   "source": [
    "pred = model.predict(X_val)"
   ]
  },
  {
   "cell_type": "code",
   "execution_count": 53,
   "id": "bfbc20e6",
   "metadata": {},
   "outputs": [],
   "source": [
    "sub = pd.read_csv('sampleSubmission.csv')\n",
    "sub['count'] = pred\n",
    "sub.loc[sub['count']< 0, 'count'] = 0\n",
    "sub.to_csv(\"nn_sub4_20211102.csv\", index=False)"
   ]
  },
  {
   "cell_type": "code",
   "execution_count": null,
   "id": "bbf8fdac",
   "metadata": {},
   "outputs": [],
   "source": [
    "# 특성 8개\n",
    "# kaggle 점수 : 1.32218"
   ]
  },
  {
   "cell_type": "markdown",
   "id": "a6b01d54",
   "metadata": {},
   "source": [
    "### 은닉층 추가"
   ]
  },
  {
   "cell_type": "code",
   "execution_count": 33,
   "id": "8744de82",
   "metadata": {},
   "outputs": [],
   "source": [
    "model = Sequential()\n",
    "model.add( Dense(16, input_dim=12, activation='relu') )\n",
    "model.add( Dense(16, activation='relu'))\n",
    "model.add( Dense(1) )"
   ]
  },
  {
   "cell_type": "code",
   "execution_count": 35,
   "id": "6dd2397c",
   "metadata": {},
   "outputs": [
    {
     "name": "stdout",
     "output_type": "stream",
     "text": [
      "Epoch 1/20\n",
      "817/817 [==============================] - 1s 710us/step - loss: 29747.5059\n",
      "Epoch 2/20\n",
      "817/817 [==============================] - 1s 865us/step - loss: 24970.4473 0s - loss: \n",
      "Epoch 3/20\n",
      "817/817 [==============================] - 1s 804us/step - loss: 23191.2539\n",
      "Epoch 4/20\n",
      "817/817 [==============================] - 1s 705us/step - loss: 22653.4043\n",
      "Epoch 5/20\n",
      "817/817 [==============================] - 1s 720us/step - loss: 22460.3887\n",
      "Epoch 6/20\n",
      "817/817 [==============================] - 1s 705us/step - loss: 22301.0098\n",
      "Epoch 7/20\n",
      "817/817 [==============================] - 1s 725us/step - loss: 22167.3730\n",
      "Epoch 8/20\n",
      "817/817 [==============================] - 1s 714us/step - loss: 21969.6035\n",
      "Epoch 9/20\n",
      "817/817 [==============================] - 1s 714us/step - loss: 21947.2773\n",
      "Epoch 10/20\n",
      "817/817 [==============================] - 1s 741us/step - loss: 21824.9727\n",
      "Epoch 11/20\n",
      "817/817 [==============================] - 1s 786us/step - loss: 21853.9785 0s - loss: \n",
      "Epoch 12/20\n",
      "817/817 [==============================] - 1s 867us/step - loss: 21652.3301\n",
      "Epoch 13/20\n",
      "817/817 [==============================] - 1s 725us/step - loss: 21547.4844\n",
      "Epoch 14/20\n",
      "817/817 [==============================] - 1s 747us/step - loss: 21475.0371\n",
      "Epoch 15/20\n",
      "817/817 [==============================] - 1s 775us/step - loss: 21317.2988\n",
      "Epoch 16/20\n",
      "817/817 [==============================] - 1s 768us/step - loss: 21210.0898\n",
      "Epoch 17/20\n",
      "817/817 [==============================] - 1s 737us/step - loss: 21035.5078\n",
      "Epoch 18/20\n",
      "817/817 [==============================] - 1s 754us/step - loss: 20753.5625\n",
      "Epoch 19/20\n",
      "817/817 [==============================] - 1s 738us/step - loss: 20643.6191\n",
      "Epoch 20/20\n",
      "817/817 [==============================] - 1s 737us/step - loss: 20484.7988\n"
     ]
    },
    {
     "data": {
      "text/plain": [
       "<keras.callbacks.History at 0x1d1a317dca0>"
      ]
     },
     "execution_count": 35,
     "metadata": {},
     "output_type": "execute_result"
    }
   ],
   "source": [
    "model.compile(loss='mean_squared_error', optimizer='rmsprop')\n",
    "model.fit(X_train, y_train, epochs=20, batch_size=10)"
   ]
  },
  {
   "cell_type": "code",
   "execution_count": 36,
   "id": "cefdb7c8",
   "metadata": {},
   "outputs": [
    {
     "name": "stdout",
     "output_type": "stream",
     "text": [
      "86/86 [==============================] - 0s 681us/step - loss: 19986.2695\n"
     ]
    },
    {
     "data": {
      "text/plain": [
       "19986.26953125"
      ]
     },
     "execution_count": 36,
     "metadata": {},
     "output_type": "execute_result"
    }
   ],
   "source": [
    "model.evaluate(X_test, y_test)"
   ]
  },
  {
   "cell_type": "code",
   "execution_count": 38,
   "id": "e9c00bf1",
   "metadata": {},
   "outputs": [],
   "source": [
    "pred = model.predict(X_val)\n",
    "sub = pd.read_csv('sampleSubmission.csv')\n",
    "sub['count'] = pred\n",
    "sub.loc[sub['count']< 0, 'count'] = 0\n",
    "sub.to_csv(\"nn_sub3_20211102.csv\", index=False)"
   ]
  },
  {
   "cell_type": "code",
   "execution_count": 61,
   "id": "02e93164",
   "metadata": {},
   "outputs": [],
   "source": [
    "# 특성 12개\n",
    "# 층 2개\n",
    "# kaggle 점수 : 1.22880"
   ]
  },
  {
   "cell_type": "markdown",
   "id": "abbe30ab",
   "metadata": {},
   "source": [
    "### 노드수 추가"
   ]
  },
  {
   "cell_type": "code",
   "execution_count": 69,
   "id": "0a97db81",
   "metadata": {},
   "outputs": [],
   "source": [
    "sel = ['hour', 'temp']\n",
    "# 훈련용\n",
    "X = train[sel]\n",
    "y = train['count']\n",
    "# 평가용\n",
    "X_val = test[sel]"
   ]
  },
  {
   "cell_type": "code",
   "execution_count": 70,
   "id": "a6395c76",
   "metadata": {},
   "outputs": [],
   "source": [
    "X_train, X_test, y_train, y_test = train_test_split(X, y, random_state=0)"
   ]
  },
  {
   "cell_type": "code",
   "execution_count": 71,
   "id": "6fedf8f9",
   "metadata": {},
   "outputs": [],
   "source": [
    "model = Sequential()\n",
    "model.add( Dense(30, input_dim=2, activation='relu') )\n",
    "model.add( Dense(1) )"
   ]
  },
  {
   "cell_type": "code",
   "execution_count": 72,
   "id": "fc79b8df",
   "metadata": {
    "scrolled": false
   },
   "outputs": [
    {
     "name": "stdout",
     "output_type": "stream",
     "text": [
      "Epoch 1/20\n",
      "817/817 [==============================] - 1s 710us/step - loss: 40756.5391\n",
      "Epoch 2/20\n",
      "817/817 [==============================] - 1s 770us/step - loss: 24244.4453\n",
      "Epoch 3/20\n",
      "817/817 [==============================] - 1s 692us/step - loss: 23700.6699\n",
      "Epoch 4/20\n",
      "817/817 [==============================] - 1s 689us/step - loss: 23017.9062\n",
      "Epoch 5/20\n",
      "817/817 [==============================] - 1s 699us/step - loss: 22317.4531\n",
      "Epoch 6/20\n",
      "817/817 [==============================] - 1s 698us/step - loss: 21653.0488\n",
      "Epoch 7/20\n",
      "817/817 [==============================] - 1s 693us/step - loss: 21047.1914\n",
      "Epoch 8/20\n",
      "817/817 [==============================] - 1s 682us/step - loss: 20586.6895\n",
      "Epoch 9/20\n",
      "817/817 [==============================] - 1s 676us/step - loss: 20239.9062\n",
      "Epoch 10/20\n",
      "817/817 [==============================] - 1s 691us/step - loss: 20023.9414\n",
      "Epoch 11/20\n",
      "817/817 [==============================] - 1s 683us/step - loss: 19864.9863\n",
      "Epoch 12/20\n",
      "817/817 [==============================] - 1s 684us/step - loss: 19771.3906\n",
      "Epoch 13/20\n",
      "817/817 [==============================] - 1s 677us/step - loss: 19699.3477\n",
      "Epoch 14/20\n",
      "817/817 [==============================] - 1s 694us/step - loss: 19657.7285\n",
      "Epoch 15/20\n",
      "817/817 [==============================] - 1s 706us/step - loss: 19619.2441\n",
      "Epoch 16/20\n",
      "817/817 [==============================] - 1s 682us/step - loss: 19610.0176\n",
      "Epoch 17/20\n",
      "817/817 [==============================] - 1s 754us/step - loss: 19597.4902\n",
      "Epoch 18/20\n",
      "817/817 [==============================] - 1s 686us/step - loss: 19572.8398\n",
      "Epoch 19/20\n",
      "817/817 [==============================] - 1s 764us/step - loss: 19567.7715\n",
      "Epoch 20/20\n",
      "817/817 [==============================] - 1s 769us/step - loss: 19536.3320\n"
     ]
    },
    {
     "data": {
      "text/plain": [
       "<keras.callbacks.History at 0x1d1a7440850>"
      ]
     },
     "execution_count": 72,
     "metadata": {},
     "output_type": "execute_result"
    }
   ],
   "source": [
    "model.compile(loss='mean_squared_error', optimizer='rmsprop')\n",
    "model.fit(X_train, y_train, epochs=20, batch_size=10)"
   ]
  },
  {
   "cell_type": "code",
   "execution_count": 73,
   "id": "0e1c07bd",
   "metadata": {},
   "outputs": [
    {
     "name": "stdout",
     "output_type": "stream",
     "text": [
      "86/86 [==============================] - 0s 588us/step - loss: 19339.3691\n"
     ]
    },
    {
     "data": {
      "text/plain": [
       "19339.369140625"
      ]
     },
     "execution_count": 73,
     "metadata": {},
     "output_type": "execute_result"
    }
   ],
   "source": [
    "model.evaluate(X_test, y_test)"
   ]
  },
  {
   "cell_type": "code",
   "execution_count": 74,
   "id": "6c159681",
   "metadata": {},
   "outputs": [],
   "source": [
    "pred = model.predict(X_val)\n",
    "sub = pd.read_csv('sampleSubmission.csv')\n",
    "sub['count'] = pred\n",
    "sub.loc[sub['count']< 0, 'count'] = 0\n",
    "sub.to_csv(\"nn_sub5_20211102.csv\", index=False)"
   ]
  },
  {
   "cell_type": "code",
   "execution_count": 60,
   "id": "ac193d24",
   "metadata": {},
   "outputs": [],
   "source": [
    "# 특성 2개\n",
    "# 노드 30개\n",
    "# kaggle 점수 : 1.30394"
   ]
  },
  {
   "cell_type": "markdown",
   "id": "27c908b7",
   "metadata": {},
   "source": [
    "### epochs 변경"
   ]
  },
  {
   "cell_type": "code",
   "execution_count": 62,
   "id": "4fcdf333",
   "metadata": {},
   "outputs": [],
   "source": [
    "sel = ['hour', 'temp']\n",
    "# 훈련용\n",
    "X = train[sel]\n",
    "y = train['count']\n",
    "# 평가용\n",
    "X_val = test[sel]"
   ]
  },
  {
   "cell_type": "code",
   "execution_count": 63,
   "id": "3bb64e6f",
   "metadata": {},
   "outputs": [],
   "source": [
    "X_train, X_test, y_train, y_test = train_test_split(X, y, random_state=0)"
   ]
  },
  {
   "cell_type": "code",
   "execution_count": 64,
   "id": "3e460585",
   "metadata": {},
   "outputs": [],
   "source": [
    "model = Sequential()\n",
    "model.add( Dense(16, input_dim=2, activation='relu') )\n",
    "model.add( Dense(1) )"
   ]
  },
  {
   "cell_type": "code",
   "execution_count": 65,
   "id": "e3a666d3",
   "metadata": {
    "scrolled": false
   },
   "outputs": [
    {
     "name": "stdout",
     "output_type": "stream",
     "text": [
      "Epoch 1/30\n",
      "817/817 [==============================] - 1s 755us/step - loss: 41498.9102\n",
      "Epoch 2/30\n",
      "817/817 [==============================] - 1s 864us/step - loss: 24875.4199\n",
      "Epoch 3/30\n",
      "817/817 [==============================] - 1s 720us/step - loss: 24590.5996\n",
      "Epoch 4/30\n",
      "817/817 [==============================] - 1s 681us/step - loss: 24327.7949\n",
      "Epoch 5/30\n",
      "817/817 [==============================] - 1s 706us/step - loss: 24090.2129\n",
      "Epoch 6/30\n",
      "817/817 [==============================] - 1s 687us/step - loss: 23824.1367\n",
      "Epoch 7/30\n",
      "817/817 [==============================] - 1s 686us/step - loss: 23509.3652\n",
      "Epoch 8/30\n",
      "817/817 [==============================] - 1s 690us/step - loss: 23245.5859\n",
      "Epoch 9/30\n",
      "817/817 [==============================] - 1s 709us/step - loss: 22930.7090\n",
      "Epoch 10/30\n",
      "817/817 [==============================] - 1s 702us/step - loss: 22640.5078\n",
      "Epoch 11/30\n",
      "817/817 [==============================] - 1s 694us/step - loss: 22332.8789\n",
      "Epoch 12/30\n",
      "817/817 [==============================] - 1s 797us/step - loss: 22059.4199\n",
      "Epoch 13/30\n",
      "817/817 [==============================] - 1s 692us/step - loss: 21780.0508\n",
      "Epoch 14/30\n",
      "817/817 [==============================] - 1s 693us/step - loss: 21525.4629\n",
      "Epoch 15/30\n",
      "817/817 [==============================] - 1s 712us/step - loss: 21309.2031\n",
      "Epoch 16/30\n",
      "817/817 [==============================] - 1s 711us/step - loss: 21084.2090\n",
      "Epoch 17/30\n",
      "817/817 [==============================] - 1s 692us/step - loss: 20900.6426\n",
      "Epoch 18/30\n",
      "817/817 [==============================] - 1s 787us/step - loss: 20710.3711\n",
      "Epoch 19/30\n",
      "817/817 [==============================] - 1s 719us/step - loss: 20559.0801\n",
      "Epoch 20/30\n",
      "817/817 [==============================] - 1s 722us/step - loss: 20423.9844\n",
      "Epoch 21/30\n",
      "817/817 [==============================] - 1s 710us/step - loss: 20291.2227\n",
      "Epoch 22/30\n",
      "817/817 [==============================] - 1s 708us/step - loss: 20182.2070\n",
      "Epoch 23/30\n",
      "817/817 [==============================] - 1s 767us/step - loss: 20082.0137\n",
      "Epoch 24/30\n",
      "817/817 [==============================] - 1s 744us/step - loss: 19993.0352\n",
      "Epoch 25/30\n",
      "817/817 [==============================] - 1s 770us/step - loss: 19923.3086\n",
      "Epoch 26/30\n",
      "817/817 [==============================] - 1s 744us/step - loss: 19846.6562\n",
      "Epoch 27/30\n",
      "817/817 [==============================] - 1s 720us/step - loss: 19779.2734\n",
      "Epoch 28/30\n",
      "817/817 [==============================] - 1s 731us/step - loss: 19725.5859\n",
      "Epoch 29/30\n",
      "817/817 [==============================] - 1s 699us/step - loss: 19671.8203\n",
      "Epoch 30/30\n",
      "817/817 [==============================] - 1s 784us/step - loss: 19631.1953\n"
     ]
    },
    {
     "data": {
      "text/plain": [
       "<keras.callbacks.History at 0x1d1a72709d0>"
      ]
     },
     "execution_count": 65,
     "metadata": {},
     "output_type": "execute_result"
    }
   ],
   "source": [
    "model.compile( loss='mean_squared_error', optimizer='rmsprop')\n",
    "model.fit(X_train, y_train, epochs=30, batch_size=10)"
   ]
  },
  {
   "cell_type": "code",
   "execution_count": 66,
   "id": "938c08f3",
   "metadata": {},
   "outputs": [
    {
     "name": "stdout",
     "output_type": "stream",
     "text": [
      "86/86 [==============================] - 0s 833us/step - loss: 19384.6133\n"
     ]
    },
    {
     "data": {
      "text/plain": [
       "19384.61328125"
      ]
     },
     "execution_count": 66,
     "metadata": {},
     "output_type": "execute_result"
    }
   ],
   "source": [
    "model.evaluate(X_test, y_test)"
   ]
  },
  {
   "cell_type": "code",
   "execution_count": 68,
   "id": "4a3d2245",
   "metadata": {},
   "outputs": [],
   "source": [
    "pred = model.predict(X_val)\n",
    "sub = pd.read_csv('sampleSubmission.csv')\n",
    "sub['count'] = pred\n",
    "sub.loc[sub['count']< 0, 'count'] = 0\n",
    "sub.to_csv(\"nn_sub6_20211102.csv\", index=False)"
   ]
  },
  {
   "cell_type": "code",
   "execution_count": 75,
   "id": "5b449a49",
   "metadata": {},
   "outputs": [],
   "source": [
    "# 특성 2개\n",
    "# 은닉층 1개\n",
    "# 노드 16개\n",
    "# kaggle 점수 : 1.18369"
   ]
  },
  {
   "cell_type": "markdown",
   "id": "53d158c0",
   "metadata": {},
   "source": [
    "### 여러가지 옵션 조정"
   ]
  },
  {
   "cell_type": "code",
   "execution_count": 99,
   "id": "33f72fd5",
   "metadata": {},
   "outputs": [],
   "source": [
    "sel = ['humidity', 'temp', 'month', 'day', 'hour']\n",
    "X = train[sel]\n",
    "y = train['count']\n",
    "X_val = test[sel]"
   ]
  },
  {
   "cell_type": "code",
   "execution_count": 100,
   "id": "b757eb78",
   "metadata": {},
   "outputs": [],
   "source": [
    "X_train, X_test, y_train, y_test = train_test_split(X, y, random_state=0)"
   ]
  },
  {
   "cell_type": "code",
   "execution_count": 101,
   "id": "0a937868",
   "metadata": {},
   "outputs": [],
   "source": [
    "model = Sequential()\n",
    "model.add( Dense(25, input_dim=5, activation='relu') )\n",
    "model.add( Dense(25, activation='relu') )\n",
    "model.add( Dense(25, activation='relu') )\n",
    "model.add( Dense(1) )"
   ]
  },
  {
   "cell_type": "code",
   "execution_count": 103,
   "id": "e67f2296",
   "metadata": {},
   "outputs": [
    {
     "name": "stdout",
     "output_type": "stream",
     "text": [
      "Epoch 1/50\n",
      "817/817 [==============================] - 1s 770us/step - loss: 15855.0342 0s - loss: 157\n",
      "Epoch 2/50\n",
      "817/817 [==============================] - 1s 866us/step - loss: 15709.8232\n",
      "Epoch 3/50\n",
      "817/817 [==============================] - 1s 810us/step - loss: 15740.3320\n",
      "Epoch 4/50\n",
      "817/817 [==============================] - 1s 793us/step - loss: 15593.4697\n",
      "Epoch 5/50\n",
      "817/817 [==============================] - 1s 768us/step - loss: 15636.3799\n",
      "Epoch 6/50\n",
      "817/817 [==============================] - 1s 776us/step - loss: 15649.6406\n",
      "Epoch 7/50\n",
      "817/817 [==============================] - 1s 782us/step - loss: 15528.6641\n",
      "Epoch 8/50\n",
      "817/817 [==============================] - 1s 769us/step - loss: 15492.3330\n",
      "Epoch 9/50\n",
      "817/817 [==============================] - 1s 785us/step - loss: 15511.7393\n",
      "Epoch 10/50\n",
      "817/817 [==============================] - 1s 796us/step - loss: 15424.5693\n",
      "Epoch 11/50\n",
      "817/817 [==============================] - 1s 782us/step - loss: 15394.1904\n",
      "Epoch 12/50\n",
      "817/817 [==============================] - 1s 894us/step - loss: 15289.1055\n",
      "Epoch 13/50\n",
      "817/817 [==============================] - 1s 781us/step - loss: 15335.6582\n",
      "Epoch 14/50\n",
      "817/817 [==============================] - 1s 784us/step - loss: 15350.3682\n",
      "Epoch 15/50\n",
      "817/817 [==============================] - 1s 805us/step - loss: 15267.5684\n",
      "Epoch 16/50\n",
      "817/817 [==============================] - 1s 804us/step - loss: 15236.5957\n",
      "Epoch 17/50\n",
      "817/817 [==============================] - 1s 797us/step - loss: 15177.9199\n",
      "Epoch 18/50\n",
      "817/817 [==============================] - 1s 793us/step - loss: 15168.1104\n",
      "Epoch 19/50\n",
      "817/817 [==============================] - 1s 795us/step - loss: 15099.4082\n",
      "Epoch 20/50\n",
      "817/817 [==============================] - 1s 801us/step - loss: 15137.2090\n",
      "Epoch 21/50\n",
      "817/817 [==============================] - 1s 854us/step - loss: 15049.0869\n",
      "Epoch 22/50\n",
      "817/817 [==============================] - 1s 777us/step - loss: 15040.8369\n",
      "Epoch 23/50\n",
      "817/817 [==============================] - 1s 773us/step - loss: 14955.6221\n",
      "Epoch 24/50\n",
      "817/817 [==============================] - 1s 783us/step - loss: 14919.2881\n",
      "Epoch 25/50\n",
      "817/817 [==============================] - 1s 792us/step - loss: 14903.6396\n",
      "Epoch 26/50\n",
      "817/817 [==============================] - 1s 806us/step - loss: 14853.2510\n",
      "Epoch 27/50\n",
      "817/817 [==============================] - 1s 798us/step - loss: 14899.3857\n",
      "Epoch 28/50\n",
      "817/817 [==============================] - 1s 785us/step - loss: 14682.1191\n",
      "Epoch 29/50\n",
      "817/817 [==============================] - 1s 856us/step - loss: 14763.9883\n",
      "Epoch 30/50\n",
      "817/817 [==============================] - 1s 787us/step - loss: 14626.0654\n",
      "Epoch 31/50\n",
      "817/817 [==============================] - 1s 794us/step - loss: 14638.1006\n",
      "Epoch 32/50\n",
      "817/817 [==============================] - 1s 775us/step - loss: 14678.5596\n",
      "Epoch 33/50\n",
      "817/817 [==============================] - 1s 842us/step - loss: 14619.1260\n",
      "Epoch 34/50\n",
      "817/817 [==============================] - 1s 819us/step - loss: 14527.6885\n",
      "Epoch 35/50\n",
      "817/817 [==============================] - 1s 804us/step - loss: 14554.2832\n",
      "Epoch 36/50\n",
      "817/817 [==============================] - 1s 787us/step - loss: 14535.8486\n",
      "Epoch 37/50\n",
      "817/817 [==============================] - 1s 792us/step - loss: 14442.1348\n",
      "Epoch 38/50\n",
      "817/817 [==============================] - 1s 823us/step - loss: 14454.7881\n",
      "Epoch 39/50\n",
      "817/817 [==============================] - 1s 796us/step - loss: 14435.1787\n",
      "Epoch 40/50\n",
      "817/817 [==============================] - 1s 791us/step - loss: 14417.1416\n",
      "Epoch 41/50\n",
      "817/817 [==============================] - ETA: 0s - loss: 14339.791 - 1s 928us/step - loss: 14400.9307\n",
      "Epoch 42/50\n",
      "817/817 [==============================] - 1s 811us/step - loss: 14313.6045\n",
      "Epoch 43/50\n",
      "817/817 [==============================] - 1s 793us/step - loss: 14288.7734\n",
      "Epoch 44/50\n",
      "817/817 [==============================] - 1s 797us/step - loss: 14283.4805\n",
      "Epoch 45/50\n",
      "817/817 [==============================] - 1s 803us/step - loss: 14261.2266\n",
      "Epoch 46/50\n",
      "817/817 [==============================] - 1s 808us/step - loss: 14193.2080\n",
      "Epoch 47/50\n",
      "817/817 [==============================] - 1s 788us/step - loss: 14209.1260\n",
      "Epoch 48/50\n",
      "817/817 [==============================] - 1s 848us/step - loss: 14168.7734\n",
      "Epoch 49/50\n",
      "817/817 [==============================] - 1s 848us/step - loss: 14168.8779\n",
      "Epoch 50/50\n",
      "817/817 [==============================] - 1s 818us/step - loss: 14123.7451\n"
     ]
    },
    {
     "data": {
      "text/plain": [
       "<keras.callbacks.History at 0x1d1a9f52640>"
      ]
     },
     "execution_count": 103,
     "metadata": {},
     "output_type": "execute_result"
    }
   ],
   "source": [
    "model.compile(loss='mean_squared_error', optimizer='rmsprop')\n",
    "model.fit(X_train, y_train, epochs=50, batch_size=10)"
   ]
  },
  {
   "cell_type": "code",
   "execution_count": 104,
   "id": "7718f5fb",
   "metadata": {},
   "outputs": [
    {
     "name": "stdout",
     "output_type": "stream",
     "text": [
      "86/86 [==============================] - 0s 657us/step - loss: 14063.3066\n"
     ]
    },
    {
     "data": {
      "text/plain": [
       "14063.306640625"
      ]
     },
     "execution_count": 104,
     "metadata": {},
     "output_type": "execute_result"
    }
   ],
   "source": [
    "model.evaluate(X_test, y_test)"
   ]
  },
  {
   "cell_type": "code",
   "execution_count": 105,
   "id": "ce72e0d5",
   "metadata": {},
   "outputs": [],
   "source": [
    "pred = model.predict(X_val)\n",
    "sub = pd.read_csv('sampleSubmission.csv')\n",
    "sub['count'] = pred\n",
    "sub.loc[sub['count']< 0, 'count'] = 0\n",
    "sub.to_csv(\"nn_sub7_20211102.csv\", index=False)"
   ]
  },
  {
   "cell_type": "code",
   "execution_count": 106,
   "id": "f5d24340",
   "metadata": {},
   "outputs": [],
   "source": [
    "# 특성 5개 ['humidity', 'temp', 'month', 'day', 'hour']\n",
    "# test_size : 기본 0.25\n",
    "# 은닉층 3개\n",
    "# 노드 25개\n",
    "# epochs 50\n",
    "# kaggle 점수 : 0.93925"
   ]
  },
  {
   "cell_type": "code",
   "execution_count": 107,
   "id": "44fe37ff",
   "metadata": {},
   "outputs": [],
   "source": [
    "# 최두호님 세팅\n",
    "# 변수 8개\n",
    "# 은닉층 4개\n",
    "# 에포크 500\n",
    "# kaggle 점수 : 0.55745"
   ]
  },
  {
   "cell_type": "markdown",
   "id": "b1062a1b",
   "metadata": {},
   "source": [
    "## 옵션 조정2 "
   ]
  },
  {
   "cell_type": "code",
   "execution_count": 109,
   "id": "ff91a79d",
   "metadata": {},
   "outputs": [],
   "source": [
    "sel = ['humidity', 'temp', 'month', 'day', 'hour']\n",
    "X = train[sel]\n",
    "y = train['count']\n",
    "X_val = test[sel]\n",
    "X_train, X_test, y_train, y_test = train_test_split(X, y, random_state=0)"
   ]
  },
  {
   "cell_type": "code",
   "execution_count": 111,
   "id": "7028a6b7",
   "metadata": {},
   "outputs": [],
   "source": [
    "model = Sequential()\n",
    "model.add( Dense(25, input_dim=5, activation='relu') )\n",
    "model.add( Dense(25, activation='relu') )\n",
    "model.add( Dense(25, activation='relu') )\n",
    "model.add( Dense(1) )"
   ]
  },
  {
   "cell_type": "code",
   "execution_count": 112,
   "id": "b84b73b7",
   "metadata": {},
   "outputs": [
    {
     "name": "stdout",
     "output_type": "stream",
     "text": [
      "Epoch 1/500\n",
      "817/817 [==============================] - 1s 923us/step - loss: 27949.2969\n",
      "Epoch 2/500\n",
      "817/817 [==============================] - 1s 834us/step - loss: 20928.8438\n",
      "Epoch 3/500\n",
      "817/817 [==============================] - 1s 802us/step - loss: 19980.8203\n",
      "Epoch 4/500\n",
      "817/817 [==============================] - 1s 786us/step - loss: 19051.8574\n",
      "Epoch 5/500\n",
      "817/817 [==============================] - 1s 881us/step - loss: 18560.2500\n",
      "Epoch 6/500\n",
      "817/817 [==============================] - 1s 795us/step - loss: 18310.6699\n",
      "Epoch 7/500\n",
      "817/817 [==============================] - 1s 903us/step - loss: 18193.2695\n",
      "Epoch 8/500\n",
      "817/817 [==============================] - 1s 901us/step - loss: 17986.1992\n",
      "Epoch 9/500\n",
      "817/817 [==============================] - 1s 831us/step - loss: 17919.4023\n",
      "Epoch 10/500\n",
      "817/817 [==============================] - 1s 865us/step - loss: 17867.4121\n",
      "Epoch 11/500\n",
      "817/817 [==============================] - 1s 808us/step - loss: 17787.0762\n",
      "Epoch 12/500\n",
      "817/817 [==============================] - 1s 813us/step - loss: 17600.4590\n",
      "Epoch 13/500\n",
      "817/817 [==============================] - 1s 812us/step - loss: 17539.1582\n",
      "Epoch 14/500\n",
      "817/817 [==============================] - 1s 860us/step - loss: 17414.3145\n",
      "Epoch 15/500\n",
      "817/817 [==============================] - 1s 790us/step - loss: 17279.2695\n",
      "Epoch 16/500\n",
      "817/817 [==============================] - 1s 827us/step - loss: 17138.5098\n",
      "Epoch 17/500\n",
      "817/817 [==============================] - 1s 790us/step - loss: 17005.0938\n",
      "Epoch 18/500\n",
      "817/817 [==============================] - 1s 798us/step - loss: 16874.1836\n",
      "Epoch 19/500\n",
      "817/817 [==============================] - 1s 799us/step - loss: 16779.4258\n",
      "Epoch 20/500\n",
      "817/817 [==============================] - 1s 827us/step - loss: 16678.0508\n",
      "Epoch 21/500\n",
      "817/817 [==============================] - 1s 808us/step - loss: 16520.8691\n",
      "Epoch 22/500\n",
      "817/817 [==============================] - 1s 797us/step - loss: 16515.1660\n",
      "Epoch 23/500\n",
      "817/817 [==============================] - 1s 782us/step - loss: 16417.4062\n",
      "Epoch 24/500\n",
      "817/817 [==============================] - 1s 796us/step - loss: 16267.8633\n",
      "Epoch 25/500\n",
      "817/817 [==============================] - 1s 797us/step - loss: 16148.6387\n",
      "Epoch 26/500\n",
      "817/817 [==============================] - 1s 825us/step - loss: 16080.8223\n",
      "Epoch 27/500\n",
      "817/817 [==============================] - 1s 788us/step - loss: 16103.2002\n",
      "Epoch 28/500\n",
      "817/817 [==============================] - 1s 812us/step - loss: 15966.3965\n",
      "Epoch 29/500\n",
      "817/817 [==============================] - 1s 798us/step - loss: 15822.7646\n",
      "Epoch 30/500\n",
      "817/817 [==============================] - 1s 814us/step - loss: 15810.5312\n",
      "Epoch 31/500\n",
      "817/817 [==============================] - 1s 796us/step - loss: 15726.9590\n",
      "Epoch 32/500\n",
      "817/817 [==============================] - 1s 799us/step - loss: 15605.9639\n",
      "Epoch 33/500\n",
      "817/817 [==============================] - 1s 802us/step - loss: 15573.3691\n",
      "Epoch 34/500\n",
      "817/817 [==============================] - 1s 807us/step - loss: 15497.6455\n",
      "Epoch 35/500\n",
      "817/817 [==============================] - 1s 819us/step - loss: 15484.5479\n",
      "Epoch 36/500\n",
      "817/817 [==============================] - 1s 826us/step - loss: 15300.5605\n",
      "Epoch 37/500\n",
      "817/817 [==============================] - 1s 789us/step - loss: 15244.7773\n",
      "Epoch 38/500\n",
      "817/817 [==============================] - 1s 797us/step - loss: 15136.8076\n",
      "Epoch 39/500\n",
      "817/817 [==============================] - 1s 794us/step - loss: 15088.5449\n",
      "Epoch 40/500\n",
      "817/817 [==============================] - 1s 876us/step - loss: 14956.3008\n",
      "Epoch 41/500\n",
      "817/817 [==============================] - 1s 796us/step - loss: 14950.2695\n",
      "Epoch 42/500\n",
      "817/817 [==============================] - 1s 901us/step - loss: 14851.2881\n",
      "Epoch 43/500\n",
      "817/817 [==============================] - 1s 864us/step - loss: 14692.7266\n",
      "Epoch 44/500\n",
      "817/817 [==============================] - 1s 798us/step - loss: 14747.2441\n",
      "Epoch 45/500\n",
      "817/817 [==============================] - 1s 796us/step - loss: 14620.6523\n",
      "Epoch 46/500\n",
      "817/817 [==============================] - 1s 788us/step - loss: 14572.7686\n",
      "Epoch 47/500\n",
      "817/817 [==============================] - 1s 788us/step - loss: 14538.4453\n",
      "Epoch 48/500\n",
      "817/817 [==============================] - 1s 789us/step - loss: 14495.7676\n",
      "Epoch 49/500\n",
      "817/817 [==============================] - 1s 807us/step - loss: 14362.5059\n",
      "Epoch 50/500\n",
      "817/817 [==============================] - 1s 818us/step - loss: 14384.3711\n",
      "Epoch 51/500\n",
      "817/817 [==============================] - 1s 794us/step - loss: 14337.2246\n",
      "Epoch 52/500\n",
      "817/817 [==============================] - 1s 787us/step - loss: 14195.4932\n",
      "Epoch 53/500\n",
      "817/817 [==============================] - 1s 816us/step - loss: 14265.7363\n",
      "Epoch 54/500\n",
      "817/817 [==============================] - 1s 780us/step - loss: 14216.5391\n",
      "Epoch 55/500\n",
      "817/817 [==============================] - 1s 792us/step - loss: 14152.3936\n",
      "Epoch 56/500\n",
      "817/817 [==============================] - 1s 791us/step - loss: 14076.5234\n",
      "Epoch 57/500\n",
      "817/817 [==============================] - 1s 791us/step - loss: 14005.9785\n",
      "Epoch 58/500\n",
      "817/817 [==============================] - 1s 832us/step - loss: 14065.4580\n",
      "Epoch 59/500\n",
      "817/817 [==============================] - 1s 779us/step - loss: 14106.5127\n",
      "Epoch 60/500\n",
      "817/817 [==============================] - 1s 809us/step - loss: 13967.8594\n",
      "Epoch 61/500\n",
      "817/817 [==============================] - 1s 823us/step - loss: 13985.0615\n",
      "Epoch 62/500\n",
      "817/817 [==============================] - 1s 797us/step - loss: 13885.8936\n",
      "Epoch 63/500\n",
      "817/817 [==============================] - 1s 803us/step - loss: 13869.5244\n",
      "Epoch 64/500\n",
      "817/817 [==============================] - 1s 786us/step - loss: 13795.0283\n",
      "Epoch 65/500\n",
      "817/817 [==============================] - 1s 853us/step - loss: 13904.3027\n",
      "Epoch 66/500\n",
      "817/817 [==============================] - 1s 916us/step - loss: 13816.0225\n",
      "Epoch 67/500\n",
      "817/817 [==============================] - 1s 966us/step - loss: 13776.0127\n",
      "Epoch 68/500\n",
      "817/817 [==============================] - 1s 793us/step - loss: 13703.1875\n",
      "Epoch 69/500\n",
      "817/817 [==============================] - 1s 803us/step - loss: 13727.9043\n",
      "Epoch 70/500\n",
      "817/817 [==============================] - 1s 820us/step - loss: 13690.9561\n",
      "Epoch 71/500\n",
      "817/817 [==============================] - 1s 788us/step - loss: 13612.2705\n",
      "Epoch 72/500\n",
      "817/817 [==============================] - 1s 815us/step - loss: 13690.3115\n",
      "Epoch 73/500\n",
      "817/817 [==============================] - 1s 820us/step - loss: 13584.0820\n",
      "Epoch 74/500\n",
      "817/817 [==============================] - 1s 796us/step - loss: 13539.4785\n",
      "Epoch 75/500\n",
      "817/817 [==============================] - 1s 856us/step - loss: 13535.1582\n",
      "Epoch 76/500\n",
      "817/817 [==============================] - 1s 797us/step - loss: 13534.6660\n",
      "Epoch 77/500\n",
      "817/817 [==============================] - 1s 793us/step - loss: 13571.7998\n",
      "Epoch 78/500\n",
      "817/817 [==============================] - 1s 790us/step - loss: 13579.5166\n",
      "Epoch 79/500\n",
      "817/817 [==============================] - 1s 804us/step - loss: 13441.7549\n",
      "Epoch 80/500\n",
      "817/817 [==============================] - 1s 819us/step - loss: 13348.7969\n",
      "Epoch 81/500\n",
      "817/817 [==============================] - 1s 834us/step - loss: 13312.9795\n",
      "Epoch 82/500\n",
      "817/817 [==============================] - 1s 790us/step - loss: 13334.8154\n",
      "Epoch 83/500\n",
      "817/817 [==============================] - 1s 791us/step - loss: 13310.0576\n",
      "Epoch 84/500\n",
      "817/817 [==============================] - 1s 798us/step - loss: 13346.8145\n",
      "Epoch 85/500\n",
      "817/817 [==============================] - 1s 796us/step - loss: 13235.8193\n",
      "Epoch 86/500\n",
      "817/817 [==============================] - 1s 807us/step - loss: 13294.5664\n",
      "Epoch 87/500\n",
      "817/817 [==============================] - 1s 785us/step - loss: 13231.9707\n",
      "Epoch 88/500\n",
      "817/817 [==============================] - 1s 803us/step - loss: 13168.8154\n",
      "Epoch 89/500\n",
      "817/817 [==============================] - 1s 792us/step - loss: 13075.9365\n",
      "Epoch 90/500\n",
      "817/817 [==============================] - 1s 879us/step - loss: 13070.4932\n",
      "Epoch 91/500\n",
      "817/817 [==============================] - 1s 792us/step - loss: 13087.5488\n",
      "Epoch 92/500\n",
      "817/817 [==============================] - 1s 852us/step - loss: 13035.5762\n",
      "Epoch 93/500\n"
     ]
    },
    {
     "name": "stdout",
     "output_type": "stream",
     "text": [
      "817/817 [==============================] - 1s 781us/step - loss: 12988.5029\n",
      "Epoch 94/500\n",
      "817/817 [==============================] - 1s 766us/step - loss: 13106.8633\n",
      "Epoch 95/500\n",
      "817/817 [==============================] - 1s 786us/step - loss: 13054.1201\n",
      "Epoch 96/500\n",
      "817/817 [==============================] - 1s 776us/step - loss: 12981.3428\n",
      "Epoch 97/500\n",
      "817/817 [==============================] - 1s 760us/step - loss: 13023.7334\n",
      "Epoch 98/500\n",
      "817/817 [==============================] - 1s 758us/step - loss: 12920.1797\n",
      "Epoch 99/500\n",
      "817/817 [==============================] - 1s 758us/step - loss: 13059.7236\n",
      "Epoch 100/500\n",
      "817/817 [==============================] - 1s 779us/step - loss: 13014.3789\n",
      "Epoch 101/500\n",
      "817/817 [==============================] - 1s 755us/step - loss: 12952.7725\n",
      "Epoch 102/500\n",
      "817/817 [==============================] - 1s 764us/step - loss: 12883.4922\n",
      "Epoch 103/500\n",
      "817/817 [==============================] - 1s 769us/step - loss: 12992.7939\n",
      "Epoch 104/500\n",
      "817/817 [==============================] - 1s 765us/step - loss: 12846.3379\n",
      "Epoch 105/500\n",
      "817/817 [==============================] - 1s 768us/step - loss: 12800.4766\n",
      "Epoch 106/500\n",
      "817/817 [==============================] - 1s 758us/step - loss: 12787.8564\n",
      "Epoch 107/500\n",
      "817/817 [==============================] - 1s 761us/step - loss: 12742.2783\n",
      "Epoch 108/500\n",
      "817/817 [==============================] - 1s 760us/step - loss: 12815.6182\n",
      "Epoch 109/500\n",
      "817/817 [==============================] - 1s 781us/step - loss: 12713.3857\n",
      "Epoch 110/500\n",
      "817/817 [==============================] - 1s 759us/step - loss: 12679.9072\n",
      "Epoch 111/500\n",
      "817/817 [==============================] - 1s 770us/step - loss: 12717.6064\n",
      "Epoch 112/500\n",
      "817/817 [==============================] - 1s 785us/step - loss: 12749.3965\n",
      "Epoch 113/500\n",
      "817/817 [==============================] - 1s 777us/step - loss: 12707.9541\n",
      "Epoch 114/500\n",
      "817/817 [==============================] - 1s 774us/step - loss: 12650.4688\n",
      "Epoch 115/500\n",
      "817/817 [==============================] - 1s 760us/step - loss: 12554.9873\n",
      "Epoch 116/500\n",
      "817/817 [==============================] - 1s 759us/step - loss: 12591.8398\n",
      "Epoch 117/500\n",
      "817/817 [==============================] - 1s 763us/step - loss: 12519.9844\n",
      "Epoch 118/500\n",
      "817/817 [==============================] - 1s 763us/step - loss: 12555.1943\n",
      "Epoch 119/500\n",
      "817/817 [==============================] - 1s 786us/step - loss: 12556.2168\n",
      "Epoch 120/500\n",
      "817/817 [==============================] - 1s 769us/step - loss: 12422.0479\n",
      "Epoch 121/500\n",
      "817/817 [==============================] - 1s 755us/step - loss: 12457.3311\n",
      "Epoch 122/500\n",
      "817/817 [==============================] - 1s 762us/step - loss: 12470.4512\n",
      "Epoch 123/500\n",
      "817/817 [==============================] - 1s 765us/step - loss: 12406.9248\n",
      "Epoch 124/500\n",
      "817/817 [==============================] - 1s 818us/step - loss: 12302.6270 0s - loss: 12\n",
      "Epoch 125/500\n",
      "817/817 [==============================] - 1s 765us/step - loss: 12319.2549\n",
      "Epoch 126/500\n",
      "817/817 [==============================] - 1s 770us/step - loss: 12405.0215\n",
      "Epoch 127/500\n",
      "817/817 [==============================] - 1s 803us/step - loss: 12342.0576\n",
      "Epoch 128/500\n",
      "817/817 [==============================] - 1s 782us/step - loss: 12213.3037\n",
      "Epoch 129/500\n",
      "817/817 [==============================] - 1s 794us/step - loss: 12252.0361\n",
      "Epoch 130/500\n",
      "817/817 [==============================] - 1s 764us/step - loss: 12074.6455\n",
      "Epoch 131/500\n",
      "817/817 [==============================] - 1s 821us/step - loss: 12291.8682\n",
      "Epoch 132/500\n",
      "817/817 [==============================] - 1s 764us/step - loss: 12236.3945\n",
      "Epoch 133/500\n",
      "817/817 [==============================] - 1s 777us/step - loss: 12090.1074\n",
      "Epoch 134/500\n",
      "817/817 [==============================] - 1s 778us/step - loss: 12012.3145\n",
      "Epoch 135/500\n",
      "817/817 [==============================] - 1s 789us/step - loss: 12054.1494\n",
      "Epoch 136/500\n",
      "817/817 [==============================] - 1s 764us/step - loss: 12131.8301\n",
      "Epoch 137/500\n",
      "817/817 [==============================] - 1s 766us/step - loss: 12023.4062\n",
      "Epoch 138/500\n",
      "817/817 [==============================] - 1s 779us/step - loss: 11929.1270\n",
      "Epoch 139/500\n",
      "817/817 [==============================] - 1s 769us/step - loss: 12004.1260\n",
      "Epoch 140/500\n",
      "817/817 [==============================] - 1s 763us/step - loss: 11965.5078\n",
      "Epoch 141/500\n",
      "817/817 [==============================] - 1s 766us/step - loss: 11935.2344\n",
      "Epoch 142/500\n",
      "817/817 [==============================] - 1s 780us/step - loss: 11931.5195\n",
      "Epoch 143/500\n",
      "817/817 [==============================] - 1s 806us/step - loss: 11863.4473\n",
      "Epoch 144/500\n",
      "817/817 [==============================] - 1s 774us/step - loss: 11858.6426\n",
      "Epoch 145/500\n",
      "817/817 [==============================] - 1s 760us/step - loss: 11888.9629\n",
      "Epoch 146/500\n",
      "817/817 [==============================] - 1s 771us/step - loss: 11904.9502\n",
      "Epoch 147/500\n",
      "817/817 [==============================] - 1s 773us/step - loss: 11826.8691\n",
      "Epoch 148/500\n",
      "817/817 [==============================] - 1s 781us/step - loss: 11852.3652\n",
      "Epoch 149/500\n",
      "817/817 [==============================] - 1s 775us/step - loss: 11804.1084\n",
      "Epoch 150/500\n",
      "817/817 [==============================] - 1s 778us/step - loss: 11776.4912\n",
      "Epoch 151/500\n",
      "817/817 [==============================] - ETA: 0s - loss: 11773.108 - 1s 780us/step - loss: 11717.6533\n",
      "Epoch 152/500\n",
      "817/817 [==============================] - 1s 764us/step - loss: 11856.9814\n",
      "Epoch 153/500\n",
      "817/817 [==============================] - 1s 782us/step - loss: 11686.8047\n",
      "Epoch 154/500\n",
      "817/817 [==============================] - 1s 775us/step - loss: 11752.7061\n",
      "Epoch 155/500\n",
      "817/817 [==============================] - 1s 776us/step - loss: 11630.2314\n",
      "Epoch 156/500\n",
      "817/817 [==============================] - 1s 760us/step - loss: 11665.9287\n",
      "Epoch 157/500\n",
      "817/817 [==============================] - 1s 774us/step - loss: 11622.4375\n",
      "Epoch 158/500\n",
      "817/817 [==============================] - 1s 796us/step - loss: 11641.3438\n",
      "Epoch 159/500\n",
      "817/817 [==============================] - 1s 779us/step - loss: 11630.7939\n",
      "Epoch 160/500\n",
      "817/817 [==============================] - 1s 762us/step - loss: 11558.4180\n",
      "Epoch 161/500\n",
      "817/817 [==============================] - 1s 766us/step - loss: 11693.3018\n",
      "Epoch 162/500\n",
      "817/817 [==============================] - 1s 856us/step - loss: 11582.3623\n",
      "Epoch 163/500\n",
      "817/817 [==============================] - 1s 771us/step - loss: 11724.1299\n",
      "Epoch 164/500\n",
      "817/817 [==============================] - 1s 763us/step - loss: 11554.2871\n",
      "Epoch 165/500\n",
      "817/817 [==============================] - 1s 773us/step - loss: 11627.9561\n",
      "Epoch 166/500\n",
      "817/817 [==============================] - 1s 781us/step - loss: 11546.2285\n",
      "Epoch 167/500\n",
      "817/817 [==============================] - 1s 793us/step - loss: 11498.0449\n",
      "Epoch 168/500\n",
      "817/817 [==============================] - 1s 770us/step - loss: 11519.9043\n",
      "Epoch 169/500\n",
      "817/817 [==============================] - 1s 759us/step - loss: 11595.4932\n",
      "Epoch 170/500\n",
      "817/817 [==============================] - 1s 775us/step - loss: 11576.2109\n",
      "Epoch 171/500\n",
      "817/817 [==============================] - 1s 768us/step - loss: 11498.1416\n",
      "Epoch 172/500\n",
      "817/817 [==============================] - 1s 782us/step - loss: 11573.8408\n",
      "Epoch 173/500\n",
      "817/817 [==============================] - 1s 768us/step - loss: 11429.3740\n",
      "Epoch 174/500\n",
      "817/817 [==============================] - 1s 790us/step - loss: 11549.8604\n",
      "Epoch 175/500\n",
      "817/817 [==============================] - 1s 775us/step - loss: 11433.6484\n",
      "Epoch 176/500\n",
      "817/817 [==============================] - 1s 770us/step - loss: 11568.3809\n",
      "Epoch 177/500\n",
      "817/817 [==============================] - 1s 782us/step - loss: 11535.8096\n",
      "Epoch 178/500\n",
      "817/817 [==============================] - 1s 780us/step - loss: 11415.5654\n",
      "Epoch 179/500\n",
      "817/817 [==============================] - 1s 770us/step - loss: 11350.7812\n",
      "Epoch 180/500\n",
      "817/817 [==============================] - 1s 773us/step - loss: 11470.7754\n",
      "Epoch 181/500\n",
      "817/817 [==============================] - 1s 773us/step - loss: 11482.9336\n",
      "Epoch 182/500\n",
      "817/817 [==============================] - 1s 808us/step - loss: 11473.7607\n",
      "Epoch 183/500\n"
     ]
    },
    {
     "name": "stdout",
     "output_type": "stream",
     "text": [
      "817/817 [==============================] - 1s 759us/step - loss: 11317.9443\n",
      "Epoch 184/500\n",
      "817/817 [==============================] - 1s 764us/step - loss: 11361.6494\n",
      "Epoch 185/500\n",
      "817/817 [==============================] - 1s 781us/step - loss: 11449.0879\n",
      "Epoch 186/500\n",
      "817/817 [==============================] - 1s 787us/step - loss: 11396.6777\n",
      "Epoch 187/500\n",
      "817/817 [==============================] - 1s 817us/step - loss: 11307.8555\n",
      "Epoch 188/500\n",
      "817/817 [==============================] - 1s 763us/step - loss: 11388.6074\n",
      "Epoch 189/500\n",
      "817/817 [==============================] - 1s 763us/step - loss: 11245.4580\n",
      "Epoch 190/500\n",
      "817/817 [==============================] - 1s 785us/step - loss: 11380.0186\n",
      "Epoch 191/500\n",
      "817/817 [==============================] - 1s 859us/step - loss: 11304.9160\n",
      "Epoch 192/500\n",
      "817/817 [==============================] - 1s 755us/step - loss: 11200.5410\n",
      "Epoch 193/500\n",
      "817/817 [==============================] - 1s 828us/step - loss: 11232.9668\n",
      "Epoch 194/500\n",
      "817/817 [==============================] - 1s 825us/step - loss: 11322.0996\n",
      "Epoch 195/500\n",
      "817/817 [==============================] - 1s 884us/step - loss: 11191.0566\n",
      "Epoch 196/500\n",
      "817/817 [==============================] - 1s 797us/step - loss: 11317.1123\n",
      "Epoch 197/500\n",
      "817/817 [==============================] - 1s 770us/step - loss: 11222.6230\n",
      "Epoch 198/500\n",
      "817/817 [==============================] - 1s 766us/step - loss: 11288.9346\n",
      "Epoch 199/500\n",
      "817/817 [==============================] - 1s 755us/step - loss: 11267.3857\n",
      "Epoch 200/500\n",
      "817/817 [==============================] - 1s 766us/step - loss: 11294.9170\n",
      "Epoch 201/500\n",
      "817/817 [==============================] - 1s 765us/step - loss: 11220.3428\n",
      "Epoch 202/500\n",
      "817/817 [==============================] - 1s 763us/step - loss: 11214.5469\n",
      "Epoch 203/500\n",
      "817/817 [==============================] - 1s 772us/step - loss: 11270.0820\n",
      "Epoch 204/500\n",
      "817/817 [==============================] - 1s 756us/step - loss: 11137.8535\n",
      "Epoch 205/500\n",
      "817/817 [==============================] - 1s 796us/step - loss: 11146.0654\n",
      "Epoch 206/500\n",
      "817/817 [==============================] - 1s 769us/step - loss: 11135.6768\n",
      "Epoch 207/500\n",
      "817/817 [==============================] - 1s 768us/step - loss: 11148.6582\n",
      "Epoch 208/500\n",
      "817/817 [==============================] - 1s 758us/step - loss: 11188.9424\n",
      "Epoch 209/500\n",
      "817/817 [==============================] - 1s 771us/step - loss: 11123.5557\n",
      "Epoch 210/500\n",
      "817/817 [==============================] - 1s 777us/step - loss: 11113.6475\n",
      "Epoch 211/500\n",
      "817/817 [==============================] - 1s 763us/step - loss: 11008.6455\n",
      "Epoch 212/500\n",
      "817/817 [==============================] - 1s 760us/step - loss: 11221.2822\n",
      "Epoch 213/500\n",
      "817/817 [==============================] - 1s 794us/step - loss: 11187.3389\n",
      "Epoch 214/500\n",
      "817/817 [==============================] - 1s 768us/step - loss: 11203.6484\n",
      "Epoch 215/500\n",
      "817/817 [==============================] - 1s 781us/step - loss: 11120.9160\n",
      "Epoch 216/500\n",
      "817/817 [==============================] - 1s 765us/step - loss: 11066.3174\n",
      "Epoch 217/500\n",
      "817/817 [==============================] - 1s 774us/step - loss: 11124.3936\n",
      "Epoch 218/500\n",
      "817/817 [==============================] - 1s 768us/step - loss: 11110.8271\n",
      "Epoch 219/500\n",
      "817/817 [==============================] - 1s 759us/step - loss: 11046.0088\n",
      "Epoch 220/500\n",
      "817/817 [==============================] - 1s 784us/step - loss: 11061.6436\n",
      "Epoch 221/500\n",
      "817/817 [==============================] - 1s 787us/step - loss: 11157.8750\n",
      "Epoch 222/500\n",
      "817/817 [==============================] - 1s 765us/step - loss: 11072.0732\n",
      "Epoch 223/500\n",
      "817/817 [==============================] - 1s 769us/step - loss: 11030.4697\n",
      "Epoch 224/500\n",
      "817/817 [==============================] - 1s 778us/step - loss: 11031.7969\n",
      "Epoch 225/500\n",
      "817/817 [==============================] - 1s 784us/step - loss: 11105.3691\n",
      "Epoch 226/500\n",
      "817/817 [==============================] - 1s 773us/step - loss: 11084.5186\n",
      "Epoch 227/500\n",
      "817/817 [==============================] - 1s 774us/step - loss: 11150.7344\n",
      "Epoch 228/500\n",
      "817/817 [==============================] - 1s 770us/step - loss: 11009.9062\n",
      "Epoch 229/500\n",
      "817/817 [==============================] - 1s 801us/step - loss: 11172.1123\n",
      "Epoch 230/500\n",
      "817/817 [==============================] - 1s 830us/step - loss: 11015.2959\n",
      "Epoch 231/500\n",
      "817/817 [==============================] - 1s 759us/step - loss: 11104.1582\n",
      "Epoch 232/500\n",
      "817/817 [==============================] - 1s 766us/step - loss: 11063.7617\n",
      "Epoch 233/500\n",
      "817/817 [==============================] - 1s 770us/step - loss: 11110.9443\n",
      "Epoch 234/500\n",
      "817/817 [==============================] - 1s 779us/step - loss: 10995.9238\n",
      "Epoch 235/500\n",
      "817/817 [==============================] - 1s 779us/step - loss: 10980.3730\n",
      "Epoch 236/500\n",
      "817/817 [==============================] - 1s 959us/step - loss: 11043.0762\n",
      "Epoch 237/500\n",
      "817/817 [==============================] - 1s 1ms/step - loss: 11041.6328A: 0s - loss: 10940.73\n",
      "Epoch 238/500\n",
      "817/817 [==============================] - 1s 952us/step - loss: 11025.6270\n",
      "Epoch 239/500\n",
      "817/817 [==============================] - 1s 907us/step - loss: 11053.2783\n",
      "Epoch 240/500\n",
      "817/817 [==============================] - 1s 797us/step - loss: 10852.4121\n",
      "Epoch 241/500\n",
      "817/817 [==============================] - 1s 814us/step - loss: 11076.9619\n",
      "Epoch 242/500\n",
      "817/817 [==============================] - 1s 792us/step - loss: 10884.6445\n",
      "Epoch 243/500\n",
      "817/817 [==============================] - 1s 851us/step - loss: 11071.3145\n",
      "Epoch 244/500\n",
      "817/817 [==============================] - 1s 793us/step - loss: 11118.6719\n",
      "Epoch 245/500\n",
      "817/817 [==============================] - 1s 793us/step - loss: 11000.2998\n",
      "Epoch 246/500\n",
      "817/817 [==============================] - 1s 835us/step - loss: 10999.7920\n",
      "Epoch 247/500\n",
      "817/817 [==============================] - 1s 832us/step - loss: 11025.2227\n",
      "Epoch 248/500\n",
      "817/817 [==============================] - 1s 824us/step - loss: 11094.3730\n",
      "Epoch 249/500\n",
      "817/817 [==============================] - 1s 806us/step - loss: 11060.2119\n",
      "Epoch 250/500\n",
      "817/817 [==============================] - 1s 786us/step - loss: 10969.0303\n",
      "Epoch 251/500\n",
      "817/817 [==============================] - 1s 840us/step - loss: 11032.9316\n",
      "Epoch 252/500\n",
      "817/817 [==============================] - 1s 807us/step - loss: 10939.2266\n",
      "Epoch 253/500\n",
      "817/817 [==============================] - 1s 794us/step - loss: 11120.6963\n",
      "Epoch 254/500\n",
      "817/817 [==============================] - 1s 787us/step - loss: 10972.6602\n",
      "Epoch 255/500\n",
      "817/817 [==============================] - 1s 856us/step - loss: 11035.8867\n",
      "Epoch 256/500\n",
      "817/817 [==============================] - 1s 792us/step - loss: 10979.2217\n",
      "Epoch 257/500\n",
      "817/817 [==============================] - 1s 818us/step - loss: 10880.5332\n",
      "Epoch 258/500\n",
      "817/817 [==============================] - 1s 797us/step - loss: 10977.5625\n",
      "Epoch 259/500\n",
      "817/817 [==============================] - 1s 790us/step - loss: 10852.5469\n",
      "Epoch 260/500\n",
      "817/817 [==============================] - 1s 795us/step - loss: 10872.5352\n",
      "Epoch 261/500\n",
      "817/817 [==============================] - 1s 802us/step - loss: 10956.0801\n",
      "Epoch 262/500\n",
      "817/817 [==============================] - 1s 790us/step - loss: 10949.8467\n",
      "Epoch 263/500\n",
      "817/817 [==============================] - 1s 797us/step - loss: 10898.7764\n",
      "Epoch 264/500\n",
      "817/817 [==============================] - 1s 785us/step - loss: 10992.8506\n",
      "Epoch 265/500\n",
      "817/817 [==============================] - 1s 785us/step - loss: 10890.4062\n",
      "Epoch 266/500\n",
      "817/817 [==============================] - 1s 819us/step - loss: 10877.7207\n",
      "Epoch 267/500\n",
      "817/817 [==============================] - 1s 838us/step - loss: 11052.2129\n",
      "Epoch 268/500\n",
      "817/817 [==============================] - 1s 782us/step - loss: 10960.2539\n",
      "Epoch 269/500\n",
      "817/817 [==============================] - 1s 787us/step - loss: 10907.3213\n",
      "Epoch 270/500\n",
      "817/817 [==============================] - 1s 798us/step - loss: 10842.6094\n",
      "Epoch 271/500\n",
      "817/817 [==============================] - 1s 796us/step - loss: 10852.2568\n",
      "Epoch 272/500\n",
      "817/817 [==============================] - 1s 795us/step - loss: 10883.1533\n",
      "Epoch 273/500\n",
      "817/817 [==============================] - 1s 796us/step - loss: 10916.8926\n"
     ]
    },
    {
     "name": "stdout",
     "output_type": "stream",
     "text": [
      "Epoch 274/500\n",
      "817/817 [==============================] - 1s 791us/step - loss: 10871.4590\n",
      "Epoch 275/500\n",
      "817/817 [==============================] - 1s 772us/step - loss: 10906.7197\n",
      "Epoch 276/500\n",
      "817/817 [==============================] - 1s 825us/step - loss: 10872.6719\n",
      "Epoch 277/500\n",
      "817/817 [==============================] - 1s 864us/step - loss: 10821.1104\n",
      "Epoch 278/500\n",
      "817/817 [==============================] - 1s 820us/step - loss: 10831.2725\n",
      "Epoch 279/500\n",
      "817/817 [==============================] - 1s 836us/step - loss: 10926.9316\n",
      "Epoch 280/500\n",
      "817/817 [==============================] - 1s 803us/step - loss: 10887.8174\n",
      "Epoch 281/500\n",
      "817/817 [==============================] - 1s 856us/step - loss: 10854.9512\n",
      "Epoch 282/500\n",
      "817/817 [==============================] - 1s 825us/step - loss: 10871.8301\n",
      "Epoch 283/500\n",
      "817/817 [==============================] - 1s 797us/step - loss: 10798.6553\n",
      "Epoch 284/500\n",
      "817/817 [==============================] - 1s 801us/step - loss: 10712.9414\n",
      "Epoch 285/500\n",
      "817/817 [==============================] - 1s 781us/step - loss: 10850.7949\n",
      "Epoch 286/500\n",
      "817/817 [==============================] - 1s 826us/step - loss: 10725.6650\n",
      "Epoch 287/500\n",
      "817/817 [==============================] - 1s 797us/step - loss: 10869.3926\n",
      "Epoch 288/500\n",
      "817/817 [==============================] - 1s 776us/step - loss: 10799.6611\n",
      "Epoch 289/500\n",
      "817/817 [==============================] - 1s 801us/step - loss: 10744.4307\n",
      "Epoch 290/500\n",
      "817/817 [==============================] - 1s 783us/step - loss: 10837.2119\n",
      "Epoch 291/500\n",
      "817/817 [==============================] - 1s 794us/step - loss: 10781.0977\n",
      "Epoch 292/500\n",
      "817/817 [==============================] - 1s 783us/step - loss: 10665.5898\n",
      "Epoch 293/500\n",
      "817/817 [==============================] - 1s 782us/step - loss: 10785.8623\n",
      "Epoch 294/500\n",
      "817/817 [==============================] - 1s 822us/step - loss: 10765.8203\n",
      "Epoch 295/500\n",
      "817/817 [==============================] - 1s 860us/step - loss: 10749.2236\n",
      "Epoch 296/500\n",
      "817/817 [==============================] - 1s 893us/step - loss: 10822.7607\n",
      "Epoch 297/500\n",
      "817/817 [==============================] - 1s 856us/step - loss: 10671.7295\n",
      "Epoch 298/500\n",
      "817/817 [==============================] - 1s 792us/step - loss: 10664.2021\n",
      "Epoch 299/500\n",
      "817/817 [==============================] - 1s 778us/step - loss: 10861.6084\n",
      "Epoch 300/500\n",
      "817/817 [==============================] - 1s 782us/step - loss: 10840.9404\n",
      "Epoch 301/500\n",
      "817/817 [==============================] - 1s 792us/step - loss: 10788.2354\n",
      "Epoch 302/500\n",
      "817/817 [==============================] - 1s 777us/step - loss: 10722.7061\n",
      "Epoch 303/500\n",
      "817/817 [==============================] - 1s 796us/step - loss: 10704.9395\n",
      "Epoch 304/500\n",
      "817/817 [==============================] - 1s 823us/step - loss: 10740.2021\n",
      "Epoch 305/500\n",
      "817/817 [==============================] - 1s 793us/step - loss: 10665.5596\n",
      "Epoch 306/500\n",
      "817/817 [==============================] - 1s 779us/step - loss: 10622.0850\n",
      "Epoch 307/500\n",
      "817/817 [==============================] - 1s 797us/step - loss: 10828.6406\n",
      "Epoch 308/500\n",
      "817/817 [==============================] - 1s 801us/step - loss: 10724.6865\n",
      "Epoch 309/500\n",
      "817/817 [==============================] - 1s 808us/step - loss: 10718.3018\n",
      "Epoch 310/500\n",
      "817/817 [==============================] - 1s 782us/step - loss: 10687.4062\n",
      "Epoch 311/500\n",
      "817/817 [==============================] - 1s 793us/step - loss: 10800.1699\n",
      "Epoch 312/500\n",
      "817/817 [==============================] - 1s 860us/step - loss: 10833.8174\n",
      "Epoch 313/500\n",
      "817/817 [==============================] - 1s 780us/step - loss: 10737.7861\n",
      "Epoch 314/500\n",
      "817/817 [==============================] - 1s 786us/step - loss: 10587.5205\n",
      "Epoch 315/500\n",
      "817/817 [==============================] - 1s 797us/step - loss: 10633.3877\n",
      "Epoch 316/500\n",
      "817/817 [==============================] - 1s 856us/step - loss: 10790.0674\n",
      "Epoch 317/500\n",
      "817/817 [==============================] - 1s 796us/step - loss: 10597.0830\n",
      "Epoch 318/500\n",
      "817/817 [==============================] - 1s 794us/step - loss: 10745.8018\n",
      "Epoch 319/500\n",
      "817/817 [==============================] - 1s 810us/step - loss: 10748.3623\n",
      "Epoch 320/500\n",
      "817/817 [==============================] - 1s 792us/step - loss: 10745.2607\n",
      "Epoch 321/500\n",
      "817/817 [==============================] - 1s 798us/step - loss: 10737.1611 0s - loss: 10867\n",
      "Epoch 322/500\n",
      "817/817 [==============================] - 1s 787us/step - loss: 10760.3916\n",
      "Epoch 323/500\n",
      "817/817 [==============================] - 1s 786us/step - loss: 10684.9395\n",
      "Epoch 324/500\n",
      "817/817 [==============================] - 1s 780us/step - loss: 10681.8506\n",
      "Epoch 325/500\n",
      "817/817 [==============================] - 1s 787us/step - loss: 10700.8496\n",
      "Epoch 326/500\n",
      "817/817 [==============================] - 1s 796us/step - loss: 10609.5967\n",
      "Epoch 327/500\n",
      "817/817 [==============================] - 1s 820us/step - loss: 10796.0625\n",
      "Epoch 328/500\n",
      "817/817 [==============================] - 1s 774us/step - loss: 10663.9287\n",
      "Epoch 329/500\n",
      "817/817 [==============================] - 1s 792us/step - loss: 10658.3643\n",
      "Epoch 330/500\n",
      "817/817 [==============================] - 1s 779us/step - loss: 10640.3428\n",
      "Epoch 331/500\n",
      "817/817 [==============================] - 1s 802us/step - loss: 10644.5225\n",
      "Epoch 332/500\n",
      "817/817 [==============================] - 1s 791us/step - loss: 10689.0127\n",
      "Epoch 333/500\n",
      "817/817 [==============================] - 1s 787us/step - loss: 10725.1934\n",
      "Epoch 334/500\n",
      "817/817 [==============================] - 1s 783us/step - loss: 10652.1270\n",
      "Epoch 335/500\n",
      "817/817 [==============================] - 1s 786us/step - loss: 10675.2412\n",
      "Epoch 336/500\n",
      "817/817 [==============================] - 1s 805us/step - loss: 10720.6699\n",
      "Epoch 337/500\n",
      "817/817 [==============================] - 1s 785us/step - loss: 10710.7715\n",
      "Epoch 338/500\n",
      "817/817 [==============================] - 1s 803us/step - loss: 10722.9395\n",
      "Epoch 339/500\n",
      "817/817 [==============================] - 1s 786us/step - loss: 10637.1270\n",
      "Epoch 340/500\n",
      "817/817 [==============================] - 1s 801us/step - loss: 10681.9844\n",
      "Epoch 341/500\n",
      "817/817 [==============================] - 1s 779us/step - loss: 10558.1074\n",
      "Epoch 342/500\n",
      "817/817 [==============================] - 1s 790us/step - loss: 10727.7842\n",
      "Epoch 343/500\n",
      "817/817 [==============================] - 1s 812us/step - loss: 10544.2373\n",
      "Epoch 344/500\n",
      "817/817 [==============================] - 1s 813us/step - loss: 10733.1172\n",
      "Epoch 345/500\n",
      "817/817 [==============================] - 1s 868us/step - loss: 10604.9414\n",
      "Epoch 346/500\n",
      "817/817 [==============================] - 1s 783us/step - loss: 10732.6250\n",
      "Epoch 347/500\n",
      "817/817 [==============================] - 1s 793us/step - loss: 10692.7900\n",
      "Epoch 348/500\n",
      "817/817 [==============================] - 1s 797us/step - loss: 10597.3105\n",
      "Epoch 349/500\n",
      "817/817 [==============================] - 1s 780us/step - loss: 10700.3789\n",
      "Epoch 350/500\n",
      "817/817 [==============================] - 1s 826us/step - loss: 10649.0361\n",
      "Epoch 351/500\n",
      "817/817 [==============================] - 1s 783us/step - loss: 10615.4131\n",
      "Epoch 352/500\n",
      "817/817 [==============================] - 1s 779us/step - loss: 10770.9766 0s - loss: 10524.7\n",
      "Epoch 353/500\n",
      "817/817 [==============================] - 1s 776us/step - loss: 10728.9629\n",
      "Epoch 354/500\n",
      "817/817 [==============================] - 1s 803us/step - loss: 10603.5742\n",
      "Epoch 355/500\n",
      "817/817 [==============================] - 1s 780us/step - loss: 10659.9824\n",
      "Epoch 356/500\n",
      "817/817 [==============================] - 1s 785us/step - loss: 10591.3271\n",
      "Epoch 357/500\n",
      "817/817 [==============================] - 1s 790us/step - loss: 10521.4619\n",
      "Epoch 358/500\n",
      "817/817 [==============================] - 1s 822us/step - loss: 10543.5293\n",
      "Epoch 359/500\n",
      "817/817 [==============================] - 1s 792us/step - loss: 10605.0586\n",
      "Epoch 360/500\n",
      "817/817 [==============================] - 1s 789us/step - loss: 10646.7988\n",
      "Epoch 361/500\n",
      "817/817 [==============================] - 1s 798us/step - loss: 10479.4609\n",
      "Epoch 362/500\n",
      "817/817 [==============================] - 1s 798us/step - loss: 10662.7461\n",
      "Epoch 363/500\n",
      "817/817 [==============================] - 1s 786us/step - loss: 10670.5459\n",
      "Epoch 364/500\n"
     ]
    },
    {
     "name": "stdout",
     "output_type": "stream",
     "text": [
      "817/817 [==============================] - 1s 788us/step - loss: 10674.4541\n",
      "Epoch 365/500\n",
      "817/817 [==============================] - 1s 779us/step - loss: 10690.1650\n",
      "Epoch 366/500\n",
      "817/817 [==============================] - 1s 761us/step - loss: 10560.9668\n",
      "Epoch 367/500\n",
      "817/817 [==============================] - 1s 760us/step - loss: 10572.7197\n",
      "Epoch 368/500\n",
      "817/817 [==============================] - 1s 756us/step - loss: 10428.6035\n",
      "Epoch 369/500\n",
      "817/817 [==============================] - 1s 809us/step - loss: 10692.1602\n",
      "Epoch 370/500\n",
      "817/817 [==============================] - 1s 765us/step - loss: 10611.1270\n",
      "Epoch 371/500\n",
      "817/817 [==============================] - 1s 806us/step - loss: 10655.1963\n",
      "Epoch 372/500\n",
      "817/817 [==============================] - 1s 761us/step - loss: 10622.6523\n",
      "Epoch 373/500\n",
      "817/817 [==============================] - 1s 803us/step - loss: 10609.0693\n",
      "Epoch 374/500\n",
      "817/817 [==============================] - 1s 792us/step - loss: 10626.1904\n",
      "Epoch 375/500\n",
      "817/817 [==============================] - 1s 870us/step - loss: 10679.9473\n",
      "Epoch 376/500\n",
      "817/817 [==============================] - 1s 935us/step - loss: 10569.7832\n",
      "Epoch 377/500\n",
      "817/817 [==============================] - 1s 800us/step - loss: 10682.0537\n",
      "Epoch 378/500\n",
      "817/817 [==============================] - 1s 865us/step - loss: 10503.5156\n",
      "Epoch 379/500\n",
      "817/817 [==============================] - 1s 871us/step - loss: 10646.7422\n",
      "Epoch 380/500\n",
      "817/817 [==============================] - 1s 941us/step - loss: 10513.4102\n",
      "Epoch 381/500\n",
      "817/817 [==============================] - 1s 883us/step - loss: 10482.2822\n",
      "Epoch 382/500\n",
      "817/817 [==============================] - 1s 878us/step - loss: 10692.3770\n",
      "Epoch 383/500\n",
      "817/817 [==============================] - 1s 914us/step - loss: 10670.6055\n",
      "Epoch 384/500\n",
      "817/817 [==============================] - 1s 879us/step - loss: 10656.2002\n",
      "Epoch 385/500\n",
      "817/817 [==============================] - 1s 1ms/step - loss: 10688.2666\n",
      "Epoch 386/500\n",
      "817/817 [==============================] - 1s 884us/step - loss: 10616.7871\n",
      "Epoch 387/500\n",
      "817/817 [==============================] - 1s 790us/step - loss: 10589.1543\n",
      "Epoch 388/500\n",
      "817/817 [==============================] - 1s 776us/step - loss: 10610.3066\n",
      "Epoch 389/500\n",
      "817/817 [==============================] - 1s 763us/step - loss: 10663.3906\n",
      "Epoch 390/500\n",
      "817/817 [==============================] - 1s 758us/step - loss: 10643.4180\n",
      "Epoch 391/500\n",
      "817/817 [==============================] - 1s 794us/step - loss: 10584.8975\n",
      "Epoch 392/500\n",
      "817/817 [==============================] - 1s 778us/step - loss: 10592.3369\n",
      "Epoch 393/500\n",
      "817/817 [==============================] - 1s 772us/step - loss: 10709.3760\n",
      "Epoch 394/500\n",
      "817/817 [==============================] - 1s 770us/step - loss: 10542.1514\n",
      "Epoch 395/500\n",
      "817/817 [==============================] - 1s 784us/step - loss: 10603.0840\n",
      "Epoch 396/500\n",
      "817/817 [==============================] - 1s 801us/step - loss: 10608.2178\n",
      "Epoch 397/500\n",
      "817/817 [==============================] - 1s 774us/step - loss: 10648.4912 0s - loss: 10\n",
      "Epoch 398/500\n",
      "817/817 [==============================] - 1s 758us/step - loss: 10727.3105\n",
      "Epoch 399/500\n",
      "817/817 [==============================] - 1s 831us/step - loss: 10473.5439\n",
      "Epoch 400/500\n",
      "817/817 [==============================] - 1s 787us/step - loss: 10464.0371\n",
      "Epoch 401/500\n",
      "817/817 [==============================] - 1s 789us/step - loss: 10522.0020\n",
      "Epoch 402/500\n",
      "817/817 [==============================] - 1s 980us/step - loss: 10582.5312 0s - loss:\n",
      "Epoch 403/500\n",
      "817/817 [==============================] - 1s 786us/step - loss: 10458.2676\n",
      "Epoch 404/500\n",
      "817/817 [==============================] - 1s 787us/step - loss: 10635.0547\n",
      "Epoch 405/500\n",
      "817/817 [==============================] - 1s 785us/step - loss: 10567.9736\n",
      "Epoch 406/500\n",
      "817/817 [==============================] - 1s 930us/step - loss: 10601.3584\n",
      "Epoch 407/500\n",
      "817/817 [==============================] - 1s 813us/step - loss: 10682.5186\n",
      "Epoch 408/500\n",
      "817/817 [==============================] - 1s 834us/step - loss: 10550.8350\n",
      "Epoch 409/500\n",
      "817/817 [==============================] - 1s 807us/step - loss: 10575.9424\n",
      "Epoch 410/500\n",
      "817/817 [==============================] - 1s 823us/step - loss: 10668.4873\n",
      "Epoch 411/500\n",
      "817/817 [==============================] - 1s 1ms/step - loss: 10578.0908\n",
      "Epoch 412/500\n",
      "817/817 [==============================] - 1s 1ms/step - loss: 10490.9229\n",
      "Epoch 413/500\n",
      "817/817 [==============================] - 1s 1ms/step - loss: 10534.1084\n",
      "Epoch 414/500\n",
      "817/817 [==============================] - 1s 1ms/step - loss: 10654.3330\n",
      "Epoch 415/500\n",
      "817/817 [==============================] - 1s 950us/step - loss: 10690.8438\n",
      "Epoch 416/500\n",
      "817/817 [==============================] - 1s 1ms/step - loss: 10511.8203\n",
      "Epoch 417/500\n",
      "817/817 [==============================] - 1s 782us/step - loss: 10531.6543\n",
      "Epoch 418/500\n",
      "817/817 [==============================] - 1s 849us/step - loss: 10560.0205\n",
      "Epoch 419/500\n",
      "817/817 [==============================] - 1s 798us/step - loss: 10499.4834\n",
      "Epoch 420/500\n",
      "817/817 [==============================] - 1s 781us/step - loss: 10493.8447\n",
      "Epoch 421/500\n",
      "817/817 [==============================] - 1s 818us/step - loss: 10500.7012\n",
      "Epoch 422/500\n",
      "817/817 [==============================] - 1s 791us/step - loss: 10494.9570\n",
      "Epoch 423/500\n",
      "817/817 [==============================] - 1s 871us/step - loss: 10543.33980s - l\n",
      "Epoch 424/500\n",
      "817/817 [==============================] - 1s 785us/step - loss: 10450.5215\n",
      "Epoch 425/500\n",
      "817/817 [==============================] - 1s 820us/step - loss: 10571.0498\n",
      "Epoch 426/500\n",
      "817/817 [==============================] - 1s 838us/step - loss: 10480.5801\n",
      "Epoch 427/500\n",
      "817/817 [==============================] - 1s 925us/step - loss: 10502.8096 0s - loss: 10\n",
      "Epoch 428/500\n",
      "817/817 [==============================] - 1s 867us/step - loss: 10397.7773\n",
      "Epoch 429/500\n",
      "817/817 [==============================] - 1s 834us/step - loss: 10429.1055\n",
      "Epoch 430/500\n",
      "817/817 [==============================] - 1s 1ms/step - loss: 10562.9414\n",
      "Epoch 431/500\n",
      "817/817 [==============================] - 1s 951us/step - loss: 10496.8682\n",
      "Epoch 432/500\n",
      "817/817 [==============================] - 1s 990us/step - loss: 10573.6016\n",
      "Epoch 433/500\n",
      "817/817 [==============================] - 1s 928us/step - loss: 10400.3945\n",
      "Epoch 434/500\n",
      "817/817 [==============================] - 1s 802us/step - loss: 10509.5156\n",
      "Epoch 435/500\n",
      "817/817 [==============================] - 1s 865us/step - loss: 10485.2734\n",
      "Epoch 436/500\n",
      "817/817 [==============================] - 1s 1ms/step - loss: 10489.1133\n",
      "Epoch 437/500\n",
      "817/817 [==============================] - 1s 1ms/step - loss: 10462.4355 0\n",
      "Epoch 438/500\n",
      "817/817 [==============================] - 1s 903us/step - loss: 10441.0361 0s - loss: 10418.76\n",
      "Epoch 439/500\n",
      "817/817 [==============================] - 1s 869us/step - loss: 10612.8887\n",
      "Epoch 440/500\n",
      "817/817 [==============================] - 1s 814us/step - loss: 10526.2861\n",
      "Epoch 441/500\n",
      "817/817 [==============================] - 1s 781us/step - loss: 10549.9932 0s - loss: 10\n",
      "Epoch 442/500\n",
      "817/817 [==============================] - ETA: 0s - loss: 10560.693 - 1s 842us/step - loss: 10587.0234\n",
      "Epoch 443/500\n",
      "817/817 [==============================] - 1s 1ms/step - loss: 10496.9150\n",
      "Epoch 444/500\n",
      "817/817 [==============================] - 1s 799us/step - loss: 10487.8125\n",
      "Epoch 445/500\n",
      "817/817 [==============================] - 1s 904us/step - loss: 10562.1914\n",
      "Epoch 446/500\n",
      "817/817 [==============================] - 1s 973us/step - loss: 10434.5166\n",
      "Epoch 447/500\n",
      "817/817 [==============================] - 1s 959us/step - loss: 10505.6836\n",
      "Epoch 448/500\n",
      "817/817 [==============================] - 1s 865us/step - loss: 10469.0059\n",
      "Epoch 449/500\n",
      "817/817 [==============================] - 1s 852us/step - loss: 10513.3320\n",
      "Epoch 450/500\n",
      "817/817 [==============================] - 1s 999us/step - loss: 10440.7695\n",
      "Epoch 451/500\n",
      "817/817 [==============================] - 1s 991us/step - loss: 10501.1104\n",
      "Epoch 452/500\n",
      "817/817 [==============================] - 1s 959us/step - loss: 10519.0547\n",
      "Epoch 453/500\n",
      "817/817 [==============================] - 1s 840us/step - loss: 10482.0410\n",
      "Epoch 454/500\n"
     ]
    },
    {
     "name": "stdout",
     "output_type": "stream",
     "text": [
      "817/817 [==============================] - 1s 799us/step - loss: 10591.4375\n",
      "Epoch 455/500\n",
      "817/817 [==============================] - 1s 781us/step - loss: 10479.4443\n",
      "Epoch 456/500\n",
      "817/817 [==============================] - 1s 914us/step - loss: 10525.6992\n",
      "Epoch 457/500\n",
      "817/817 [==============================] - 1s 837us/step - loss: 10512.9473\n",
      "Epoch 458/500\n",
      "817/817 [==============================] - 1s 947us/step - loss: 10531.9521\n",
      "Epoch 459/500\n",
      "817/817 [==============================] - 1s 1ms/step - loss: 10462.6426\n",
      "Epoch 460/500\n",
      "817/817 [==============================] - 1s 1ms/step - loss: 10410.8105\n",
      "Epoch 461/500\n",
      "817/817 [==============================] - 1s 1ms/step - loss: 10430.2256\n",
      "Epoch 462/500\n",
      "817/817 [==============================] - 1s 783us/step - loss: 10491.9277\n",
      "Epoch 463/500\n",
      "817/817 [==============================] - 1s 779us/step - loss: 10439.9150\n",
      "Epoch 464/500\n",
      "817/817 [==============================] - 1s 780us/step - loss: 10377.7402\n",
      "Epoch 465/500\n",
      "817/817 [==============================] - 1s 777us/step - loss: 10451.6348\n",
      "Epoch 466/500\n",
      "817/817 [==============================] - 1s 764us/step - loss: 10442.7803\n",
      "Epoch 467/500\n",
      "817/817 [==============================] - 1s 789us/step - loss: 10567.5723\n",
      "Epoch 468/500\n",
      "817/817 [==============================] - 1s 768us/step - loss: 10446.6338\n",
      "Epoch 469/500\n",
      "817/817 [==============================] - 1s 799us/step - loss: 10628.1465\n",
      "Epoch 470/500\n",
      "817/817 [==============================] - 1s 886us/step - loss: 10405.0029\n",
      "Epoch 471/500\n",
      "817/817 [==============================] - 1s 1ms/step - loss: 10526.9922\n",
      "Epoch 472/500\n",
      "817/817 [==============================] - 1s 961us/step - loss: 10406.4795\n",
      "Epoch 473/500\n",
      "817/817 [==============================] - 1s 955us/step - loss: 10603.9443\n",
      "Epoch 474/500\n",
      "817/817 [==============================] - 1s 947us/step - loss: 10410.6143\n",
      "Epoch 475/500\n",
      "817/817 [==============================] - 1s 842us/step - loss: 10477.4873\n",
      "Epoch 476/500\n",
      "817/817 [==============================] - 1s 858us/step - loss: 10333.6748\n",
      "Epoch 477/500\n",
      "817/817 [==============================] - 1s 835us/step - loss: 10417.7295\n",
      "Epoch 478/500\n",
      "817/817 [==============================] - 1s 848us/step - loss: 10473.2344\n",
      "Epoch 479/500\n",
      "817/817 [==============================] - 1s 827us/step - loss: 10458.6348\n",
      "Epoch 480/500\n",
      "817/817 [==============================] - 1s 824us/step - loss: 10474.3262\n",
      "Epoch 481/500\n",
      "817/817 [==============================] - 1s 780us/step - loss: 10509.6279\n",
      "Epoch 482/500\n",
      "817/817 [==============================] - 1s 834us/step - loss: 10467.3057\n",
      "Epoch 483/500\n",
      "817/817 [==============================] - 1s 946us/step - loss: 10459.4053\n",
      "Epoch 484/500\n",
      "817/817 [==============================] - 1s 1ms/step - loss: 10385.7061\n",
      "Epoch 485/500\n",
      "817/817 [==============================] - 1s 829us/step - loss: 10447.1943\n",
      "Epoch 486/500\n",
      "817/817 [==============================] - 1s 781us/step - loss: 10468.0713\n",
      "Epoch 487/500\n",
      "817/817 [==============================] - 1s 1ms/step - loss: 10442.8564\n",
      "Epoch 488/500\n",
      "817/817 [==============================] - 1s 759us/step - loss: 10486.3467\n",
      "Epoch 489/500\n",
      "817/817 [==============================] - 1s 783us/step - loss: 10449.2461\n",
      "Epoch 490/500\n",
      "817/817 [==============================] - 1s 766us/step - loss: 10475.4629 0s - loss:\n",
      "Epoch 491/500\n",
      "817/817 [==============================] - 1s 766us/step - loss: 10478.4111\n",
      "Epoch 492/500\n",
      "817/817 [==============================] - 1s 775us/step - loss: 10446.1914\n",
      "Epoch 493/500\n",
      "817/817 [==============================] - 1s 779us/step - loss: 10483.5752 0s - loss: 1041\n",
      "Epoch 494/500\n",
      "817/817 [==============================] - 1s 736us/step - loss: 10425.1104\n",
      "Epoch 495/500\n",
      "817/817 [==============================] - 1s 749us/step - loss: 10432.4141\n",
      "Epoch 496/500\n",
      "817/817 [==============================] - 1s 729us/step - loss: 10367.4219\n",
      "Epoch 497/500\n",
      "817/817 [==============================] - 1s 769us/step - loss: 10437.6416\n",
      "Epoch 498/500\n",
      "817/817 [==============================] - 1s 855us/step - loss: 10439.9258\n",
      "Epoch 499/500\n",
      "817/817 [==============================] - 1s 786us/step - loss: 10483.3623\n",
      "Epoch 500/500\n",
      "817/817 [==============================] - 1s 818us/step - loss: 10518.6465 0s - loss: 10509.\n"
     ]
    },
    {
     "data": {
      "text/plain": [
       "<keras.callbacks.History at 0x1d1aa089d90>"
      ]
     },
     "execution_count": 112,
     "metadata": {},
     "output_type": "execute_result"
    }
   ],
   "source": [
    "model.compile(loss='mean_squared_error', optimizer='rmsprop')\n",
    "model.fit(X_train, y_train, epochs=500, batch_size=10)"
   ]
  },
  {
   "cell_type": "code",
   "execution_count": 113,
   "id": "1dbe3364",
   "metadata": {},
   "outputs": [
    {
     "name": "stdout",
     "output_type": "stream",
     "text": [
      "86/86 [==============================] - 0s 669us/step - loss: 12393.7910\n"
     ]
    },
    {
     "data": {
      "text/plain": [
       "12393.791015625"
      ]
     },
     "execution_count": 113,
     "metadata": {},
     "output_type": "execute_result"
    }
   ],
   "source": [
    "model.evaluate(X_test, y_test)"
   ]
  },
  {
   "cell_type": "code",
   "execution_count": 114,
   "id": "db9b9039",
   "metadata": {},
   "outputs": [],
   "source": [
    "pred = model.predict(X_val)\n",
    "sub = pd.read_csv('sampleSubmission.csv')\n",
    "sub['count'] = pred\n",
    "sub.loc[sub['count']< 0, 'count'] = 0\n",
    "sub.to_csv(\"nn_sub8_20211102.csv\", index=False)"
   ]
  },
  {
   "cell_type": "code",
   "execution_count": 115,
   "id": "3d0513bc",
   "metadata": {},
   "outputs": [],
   "source": [
    "# 특성 5개 ['humidity', 'temp', 'month', 'day', 'hour']\n",
    "# test_size : 기본 0.25\n",
    "# 은닉층 3개\n",
    "# 노드 25개\n",
    "# epochs 500\n",
    "# kaggle 점수 : 1.43081"
   ]
  },
  {
   "cell_type": "code",
   "execution_count": null,
   "id": "5db35d46",
   "metadata": {},
   "outputs": [],
   "source": []
  }
 ],
 "metadata": {
  "kernelspec": {
   "display_name": "Python 3",
   "language": "python",
   "name": "python3"
  },
  "language_info": {
   "codemirror_mode": {
    "name": "ipython",
    "version": 3
   },
   "file_extension": ".py",
   "mimetype": "text/x-python",
   "name": "python",
   "nbconvert_exporter": "python",
   "pygments_lexer": "ipython3",
   "version": "3.8.8"
  }
 },
 "nbformat": 4,
 "nbformat_minor": 5
}
