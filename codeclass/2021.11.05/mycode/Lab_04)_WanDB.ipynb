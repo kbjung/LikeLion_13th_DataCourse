{
  "nbformat": 4,
  "nbformat_minor": 0,
  "metadata": {
    "accelerator": "GPU",
    "colab": {
      "name": "Lab_04) WanDB.ipynb",
      "provenance": [],
      "collapsed_sections": []
    },
    "kernelspec": {
      "display_name": "Python 3",
      "language": "python",
      "name": "python3"
    },
    "language_info": {
      "codemirror_mode": {
        "name": "ipython",
        "version": 3
      },
      "file_extension": ".py",
      "mimetype": "text/x-python",
      "name": "python",
      "nbconvert_exporter": "python",
      "pygments_lexer": "ipython3",
      "version": "3.8.8"
    },
    "widgets": {
      "application/vnd.jupyter.widget-state+json": {
        "7c6089e848ef49a58cac2b2a073a8dcb": {
          "model_module": "@jupyter-widgets/controls",
          "model_name": "VBoxModel",
          "model_module_version": "1.5.0",
          "state": {
            "_view_name": "VBoxView",
            "_dom_classes": [],
            "_model_name": "VBoxModel",
            "_view_module": "@jupyter-widgets/controls",
            "_model_module_version": "1.5.0",
            "_view_count": null,
            "_view_module_version": "1.5.0",
            "box_style": "",
            "layout": "IPY_MODEL_60859e016f234321bb8c3bd31cb42705",
            "_model_module": "@jupyter-widgets/controls",
            "children": [
              "IPY_MODEL_fd46927f03594e579ecbc46a2e6335c6",
              "IPY_MODEL_b6e0955a1bf6425d84607c8bbe576467"
            ]
          }
        },
        "60859e016f234321bb8c3bd31cb42705": {
          "model_module": "@jupyter-widgets/base",
          "model_name": "LayoutModel",
          "model_module_version": "1.2.0",
          "state": {
            "_view_name": "LayoutView",
            "grid_template_rows": null,
            "right": null,
            "justify_content": null,
            "_view_module": "@jupyter-widgets/base",
            "overflow": null,
            "_model_module_version": "1.2.0",
            "_view_count": null,
            "flex_flow": null,
            "width": null,
            "min_width": null,
            "border": null,
            "align_items": null,
            "bottom": null,
            "_model_module": "@jupyter-widgets/base",
            "top": null,
            "grid_column": null,
            "overflow_y": null,
            "overflow_x": null,
            "grid_auto_flow": null,
            "grid_area": null,
            "grid_template_columns": null,
            "flex": null,
            "_model_name": "LayoutModel",
            "justify_items": null,
            "grid_row": null,
            "max_height": null,
            "align_content": null,
            "visibility": null,
            "align_self": null,
            "height": null,
            "min_height": null,
            "padding": null,
            "grid_auto_rows": null,
            "grid_gap": null,
            "max_width": null,
            "order": null,
            "_view_module_version": "1.2.0",
            "grid_template_areas": null,
            "object_position": null,
            "object_fit": null,
            "grid_auto_columns": null,
            "margin": null,
            "display": null,
            "left": null
          }
        },
        "fd46927f03594e579ecbc46a2e6335c6": {
          "model_module": "@jupyter-widgets/controls",
          "model_name": "LabelModel",
          "model_module_version": "1.5.0",
          "state": {
            "_view_name": "LabelView",
            "style": "IPY_MODEL_8e040426f54e44d2ad000f8dbb5ce0a1",
            "_dom_classes": [],
            "description": "",
            "_model_name": "LabelModel",
            "placeholder": "​",
            "_view_module": "@jupyter-widgets/controls",
            "_model_module_version": "1.5.0",
            "value": " 0.01MB of 0.01MB uploaded (0.00MB deduped)\r",
            "_view_count": null,
            "_view_module_version": "1.5.0",
            "description_tooltip": null,
            "_model_module": "@jupyter-widgets/controls",
            "layout": "IPY_MODEL_cca1e8e3c1814023a343a6f7efab5ff6"
          }
        },
        "b6e0955a1bf6425d84607c8bbe576467": {
          "model_module": "@jupyter-widgets/controls",
          "model_name": "FloatProgressModel",
          "model_module_version": "1.5.0",
          "state": {
            "_view_name": "ProgressView",
            "style": "IPY_MODEL_ca91bd933acb4ac5b700f026d82a2c9e",
            "_dom_classes": [],
            "description": "",
            "_model_name": "FloatProgressModel",
            "bar_style": "",
            "max": 1,
            "_view_module": "@jupyter-widgets/controls",
            "_model_module_version": "1.5.0",
            "value": 1,
            "_view_count": null,
            "_view_module_version": "1.5.0",
            "orientation": "horizontal",
            "min": 0,
            "description_tooltip": null,
            "_model_module": "@jupyter-widgets/controls",
            "layout": "IPY_MODEL_b2695a1f09dc4c8e8b6a62aeea3d09ef"
          }
        },
        "8e040426f54e44d2ad000f8dbb5ce0a1": {
          "model_module": "@jupyter-widgets/controls",
          "model_name": "DescriptionStyleModel",
          "model_module_version": "1.5.0",
          "state": {
            "_view_name": "StyleView",
            "_model_name": "DescriptionStyleModel",
            "description_width": "",
            "_view_module": "@jupyter-widgets/base",
            "_model_module_version": "1.5.0",
            "_view_count": null,
            "_view_module_version": "1.2.0",
            "_model_module": "@jupyter-widgets/controls"
          }
        },
        "cca1e8e3c1814023a343a6f7efab5ff6": {
          "model_module": "@jupyter-widgets/base",
          "model_name": "LayoutModel",
          "model_module_version": "1.2.0",
          "state": {
            "_view_name": "LayoutView",
            "grid_template_rows": null,
            "right": null,
            "justify_content": null,
            "_view_module": "@jupyter-widgets/base",
            "overflow": null,
            "_model_module_version": "1.2.0",
            "_view_count": null,
            "flex_flow": null,
            "width": null,
            "min_width": null,
            "border": null,
            "align_items": null,
            "bottom": null,
            "_model_module": "@jupyter-widgets/base",
            "top": null,
            "grid_column": null,
            "overflow_y": null,
            "overflow_x": null,
            "grid_auto_flow": null,
            "grid_area": null,
            "grid_template_columns": null,
            "flex": null,
            "_model_name": "LayoutModel",
            "justify_items": null,
            "grid_row": null,
            "max_height": null,
            "align_content": null,
            "visibility": null,
            "align_self": null,
            "height": null,
            "min_height": null,
            "padding": null,
            "grid_auto_rows": null,
            "grid_gap": null,
            "max_width": null,
            "order": null,
            "_view_module_version": "1.2.0",
            "grid_template_areas": null,
            "object_position": null,
            "object_fit": null,
            "grid_auto_columns": null,
            "margin": null,
            "display": null,
            "left": null
          }
        },
        "ca91bd933acb4ac5b700f026d82a2c9e": {
          "model_module": "@jupyter-widgets/controls",
          "model_name": "ProgressStyleModel",
          "model_module_version": "1.5.0",
          "state": {
            "_view_name": "StyleView",
            "_model_name": "ProgressStyleModel",
            "description_width": "",
            "_view_module": "@jupyter-widgets/base",
            "_model_module_version": "1.5.0",
            "_view_count": null,
            "_view_module_version": "1.2.0",
            "bar_color": null,
            "_model_module": "@jupyter-widgets/controls"
          }
        },
        "b2695a1f09dc4c8e8b6a62aeea3d09ef": {
          "model_module": "@jupyter-widgets/base",
          "model_name": "LayoutModel",
          "model_module_version": "1.2.0",
          "state": {
            "_view_name": "LayoutView",
            "grid_template_rows": null,
            "right": null,
            "justify_content": null,
            "_view_module": "@jupyter-widgets/base",
            "overflow": null,
            "_model_module_version": "1.2.0",
            "_view_count": null,
            "flex_flow": null,
            "width": null,
            "min_width": null,
            "border": null,
            "align_items": null,
            "bottom": null,
            "_model_module": "@jupyter-widgets/base",
            "top": null,
            "grid_column": null,
            "overflow_y": null,
            "overflow_x": null,
            "grid_auto_flow": null,
            "grid_area": null,
            "grid_template_columns": null,
            "flex": null,
            "_model_name": "LayoutModel",
            "justify_items": null,
            "grid_row": null,
            "max_height": null,
            "align_content": null,
            "visibility": null,
            "align_self": null,
            "height": null,
            "min_height": null,
            "padding": null,
            "grid_auto_rows": null,
            "grid_gap": null,
            "max_width": null,
            "order": null,
            "_view_module_version": "1.2.0",
            "grid_template_areas": null,
            "object_position": null,
            "object_fit": null,
            "grid_auto_columns": null,
            "margin": null,
            "display": null,
            "left": null
          }
        },
        "6b0bb0fa960d4982bc6efc2c34c9bbfa": {
          "model_module": "@jupyter-widgets/controls",
          "model_name": "VBoxModel",
          "model_module_version": "1.5.0",
          "state": {
            "_view_name": "VBoxView",
            "_dom_classes": [],
            "_model_name": "VBoxModel",
            "_view_module": "@jupyter-widgets/controls",
            "_model_module_version": "1.5.0",
            "_view_count": null,
            "_view_module_version": "1.5.0",
            "box_style": "",
            "layout": "IPY_MODEL_19abcefd29b94282a682df93864d08ae",
            "_model_module": "@jupyter-widgets/controls",
            "children": [
              "IPY_MODEL_3e2adb3bc7984c0a92a1ce241c69cb7f",
              "IPY_MODEL_9e5906fe7e6c440096ffde3ea984f531"
            ]
          }
        },
        "19abcefd29b94282a682df93864d08ae": {
          "model_module": "@jupyter-widgets/base",
          "model_name": "LayoutModel",
          "model_module_version": "1.2.0",
          "state": {
            "_view_name": "LayoutView",
            "grid_template_rows": null,
            "right": null,
            "justify_content": null,
            "_view_module": "@jupyter-widgets/base",
            "overflow": null,
            "_model_module_version": "1.2.0",
            "_view_count": null,
            "flex_flow": null,
            "width": null,
            "min_width": null,
            "border": null,
            "align_items": null,
            "bottom": null,
            "_model_module": "@jupyter-widgets/base",
            "top": null,
            "grid_column": null,
            "overflow_y": null,
            "overflow_x": null,
            "grid_auto_flow": null,
            "grid_area": null,
            "grid_template_columns": null,
            "flex": null,
            "_model_name": "LayoutModel",
            "justify_items": null,
            "grid_row": null,
            "max_height": null,
            "align_content": null,
            "visibility": null,
            "align_self": null,
            "height": null,
            "min_height": null,
            "padding": null,
            "grid_auto_rows": null,
            "grid_gap": null,
            "max_width": null,
            "order": null,
            "_view_module_version": "1.2.0",
            "grid_template_areas": null,
            "object_position": null,
            "object_fit": null,
            "grid_auto_columns": null,
            "margin": null,
            "display": null,
            "left": null
          }
        },
        "3e2adb3bc7984c0a92a1ce241c69cb7f": {
          "model_module": "@jupyter-widgets/controls",
          "model_name": "LabelModel",
          "model_module_version": "1.5.0",
          "state": {
            "_view_name": "LabelView",
            "style": "IPY_MODEL_44eb6dcfe6974703b98c90fb9846dc38",
            "_dom_classes": [],
            "description": "",
            "_model_name": "LabelModel",
            "placeholder": "​",
            "_view_module": "@jupyter-widgets/controls",
            "_model_module_version": "1.5.0",
            "value": " 0.01MB of 0.01MB uploaded (0.00MB deduped)\r",
            "_view_count": null,
            "_view_module_version": "1.5.0",
            "description_tooltip": null,
            "_model_module": "@jupyter-widgets/controls",
            "layout": "IPY_MODEL_96c9ab0864504c55af12f0337991e887"
          }
        },
        "9e5906fe7e6c440096ffde3ea984f531": {
          "model_module": "@jupyter-widgets/controls",
          "model_name": "FloatProgressModel",
          "model_module_version": "1.5.0",
          "state": {
            "_view_name": "ProgressView",
            "style": "IPY_MODEL_9ffdbb057d254771ab9cb6ffc20d6f98",
            "_dom_classes": [],
            "description": "",
            "_model_name": "FloatProgressModel",
            "bar_style": "",
            "max": 1,
            "_view_module": "@jupyter-widgets/controls",
            "_model_module_version": "1.5.0",
            "value": 1,
            "_view_count": null,
            "_view_module_version": "1.5.0",
            "orientation": "horizontal",
            "min": 0,
            "description_tooltip": null,
            "_model_module": "@jupyter-widgets/controls",
            "layout": "IPY_MODEL_e9bef8f820d945fcb467cea7e7668ffb"
          }
        },
        "44eb6dcfe6974703b98c90fb9846dc38": {
          "model_module": "@jupyter-widgets/controls",
          "model_name": "DescriptionStyleModel",
          "model_module_version": "1.5.0",
          "state": {
            "_view_name": "StyleView",
            "_model_name": "DescriptionStyleModel",
            "description_width": "",
            "_view_module": "@jupyter-widgets/base",
            "_model_module_version": "1.5.0",
            "_view_count": null,
            "_view_module_version": "1.2.0",
            "_model_module": "@jupyter-widgets/controls"
          }
        },
        "96c9ab0864504c55af12f0337991e887": {
          "model_module": "@jupyter-widgets/base",
          "model_name": "LayoutModel",
          "model_module_version": "1.2.0",
          "state": {
            "_view_name": "LayoutView",
            "grid_template_rows": null,
            "right": null,
            "justify_content": null,
            "_view_module": "@jupyter-widgets/base",
            "overflow": null,
            "_model_module_version": "1.2.0",
            "_view_count": null,
            "flex_flow": null,
            "width": null,
            "min_width": null,
            "border": null,
            "align_items": null,
            "bottom": null,
            "_model_module": "@jupyter-widgets/base",
            "top": null,
            "grid_column": null,
            "overflow_y": null,
            "overflow_x": null,
            "grid_auto_flow": null,
            "grid_area": null,
            "grid_template_columns": null,
            "flex": null,
            "_model_name": "LayoutModel",
            "justify_items": null,
            "grid_row": null,
            "max_height": null,
            "align_content": null,
            "visibility": null,
            "align_self": null,
            "height": null,
            "min_height": null,
            "padding": null,
            "grid_auto_rows": null,
            "grid_gap": null,
            "max_width": null,
            "order": null,
            "_view_module_version": "1.2.0",
            "grid_template_areas": null,
            "object_position": null,
            "object_fit": null,
            "grid_auto_columns": null,
            "margin": null,
            "display": null,
            "left": null
          }
        },
        "9ffdbb057d254771ab9cb6ffc20d6f98": {
          "model_module": "@jupyter-widgets/controls",
          "model_name": "ProgressStyleModel",
          "model_module_version": "1.5.0",
          "state": {
            "_view_name": "StyleView",
            "_model_name": "ProgressStyleModel",
            "description_width": "",
            "_view_module": "@jupyter-widgets/base",
            "_model_module_version": "1.5.0",
            "_view_count": null,
            "_view_module_version": "1.2.0",
            "bar_color": null,
            "_model_module": "@jupyter-widgets/controls"
          }
        },
        "e9bef8f820d945fcb467cea7e7668ffb": {
          "model_module": "@jupyter-widgets/base",
          "model_name": "LayoutModel",
          "model_module_version": "1.2.0",
          "state": {
            "_view_name": "LayoutView",
            "grid_template_rows": null,
            "right": null,
            "justify_content": null,
            "_view_module": "@jupyter-widgets/base",
            "overflow": null,
            "_model_module_version": "1.2.0",
            "_view_count": null,
            "flex_flow": null,
            "width": null,
            "min_width": null,
            "border": null,
            "align_items": null,
            "bottom": null,
            "_model_module": "@jupyter-widgets/base",
            "top": null,
            "grid_column": null,
            "overflow_y": null,
            "overflow_x": null,
            "grid_auto_flow": null,
            "grid_area": null,
            "grid_template_columns": null,
            "flex": null,
            "_model_name": "LayoutModel",
            "justify_items": null,
            "grid_row": null,
            "max_height": null,
            "align_content": null,
            "visibility": null,
            "align_self": null,
            "height": null,
            "min_height": null,
            "padding": null,
            "grid_auto_rows": null,
            "grid_gap": null,
            "max_width": null,
            "order": null,
            "_view_module_version": "1.2.0",
            "grid_template_areas": null,
            "object_position": null,
            "object_fit": null,
            "grid_auto_columns": null,
            "margin": null,
            "display": null,
            "left": null
          }
        },
        "e868d52a80a7478985489feb86bb3c7d": {
          "model_module": "@jupyter-widgets/controls",
          "model_name": "VBoxModel",
          "model_module_version": "1.5.0",
          "state": {
            "_view_name": "VBoxView",
            "_dom_classes": [],
            "_model_name": "VBoxModel",
            "_view_module": "@jupyter-widgets/controls",
            "_model_module_version": "1.5.0",
            "_view_count": null,
            "_view_module_version": "1.5.0",
            "box_style": "",
            "layout": "IPY_MODEL_f5aed844a92a4dc3ba52326e2bb5eb54",
            "_model_module": "@jupyter-widgets/controls",
            "children": [
              "IPY_MODEL_a2f3152b457e4de69be57c205347fcc4",
              "IPY_MODEL_0a43beec9f814dd19a69b9faee8df092"
            ]
          }
        },
        "f5aed844a92a4dc3ba52326e2bb5eb54": {
          "model_module": "@jupyter-widgets/base",
          "model_name": "LayoutModel",
          "model_module_version": "1.2.0",
          "state": {
            "_view_name": "LayoutView",
            "grid_template_rows": null,
            "right": null,
            "justify_content": null,
            "_view_module": "@jupyter-widgets/base",
            "overflow": null,
            "_model_module_version": "1.2.0",
            "_view_count": null,
            "flex_flow": null,
            "width": null,
            "min_width": null,
            "border": null,
            "align_items": null,
            "bottom": null,
            "_model_module": "@jupyter-widgets/base",
            "top": null,
            "grid_column": null,
            "overflow_y": null,
            "overflow_x": null,
            "grid_auto_flow": null,
            "grid_area": null,
            "grid_template_columns": null,
            "flex": null,
            "_model_name": "LayoutModel",
            "justify_items": null,
            "grid_row": null,
            "max_height": null,
            "align_content": null,
            "visibility": null,
            "align_self": null,
            "height": null,
            "min_height": null,
            "padding": null,
            "grid_auto_rows": null,
            "grid_gap": null,
            "max_width": null,
            "order": null,
            "_view_module_version": "1.2.0",
            "grid_template_areas": null,
            "object_position": null,
            "object_fit": null,
            "grid_auto_columns": null,
            "margin": null,
            "display": null,
            "left": null
          }
        },
        "a2f3152b457e4de69be57c205347fcc4": {
          "model_module": "@jupyter-widgets/controls",
          "model_name": "LabelModel",
          "model_module_version": "1.5.0",
          "state": {
            "_view_name": "LabelView",
            "style": "IPY_MODEL_0d410cb48fb14216b9fc374a300eb682",
            "_dom_classes": [],
            "description": "",
            "_model_name": "LabelModel",
            "placeholder": "​",
            "_view_module": "@jupyter-widgets/controls",
            "_model_module_version": "1.5.0",
            "value": " 0.01MB of 0.01MB uploaded (0.00MB deduped)\r",
            "_view_count": null,
            "_view_module_version": "1.5.0",
            "description_tooltip": null,
            "_model_module": "@jupyter-widgets/controls",
            "layout": "IPY_MODEL_e9e35dbed6994a21893871cdf17f55dc"
          }
        },
        "0a43beec9f814dd19a69b9faee8df092": {
          "model_module": "@jupyter-widgets/controls",
          "model_name": "FloatProgressModel",
          "model_module_version": "1.5.0",
          "state": {
            "_view_name": "ProgressView",
            "style": "IPY_MODEL_2a128f1f074f4356891fff047d156408",
            "_dom_classes": [],
            "description": "",
            "_model_name": "FloatProgressModel",
            "bar_style": "",
            "max": 1,
            "_view_module": "@jupyter-widgets/controls",
            "_model_module_version": "1.5.0",
            "value": 1,
            "_view_count": null,
            "_view_module_version": "1.5.0",
            "orientation": "horizontal",
            "min": 0,
            "description_tooltip": null,
            "_model_module": "@jupyter-widgets/controls",
            "layout": "IPY_MODEL_a74bfa032e7946fd9542f7b4db4b50da"
          }
        },
        "0d410cb48fb14216b9fc374a300eb682": {
          "model_module": "@jupyter-widgets/controls",
          "model_name": "DescriptionStyleModel",
          "model_module_version": "1.5.0",
          "state": {
            "_view_name": "StyleView",
            "_model_name": "DescriptionStyleModel",
            "description_width": "",
            "_view_module": "@jupyter-widgets/base",
            "_model_module_version": "1.5.0",
            "_view_count": null,
            "_view_module_version": "1.2.0",
            "_model_module": "@jupyter-widgets/controls"
          }
        },
        "e9e35dbed6994a21893871cdf17f55dc": {
          "model_module": "@jupyter-widgets/base",
          "model_name": "LayoutModel",
          "model_module_version": "1.2.0",
          "state": {
            "_view_name": "LayoutView",
            "grid_template_rows": null,
            "right": null,
            "justify_content": null,
            "_view_module": "@jupyter-widgets/base",
            "overflow": null,
            "_model_module_version": "1.2.0",
            "_view_count": null,
            "flex_flow": null,
            "width": null,
            "min_width": null,
            "border": null,
            "align_items": null,
            "bottom": null,
            "_model_module": "@jupyter-widgets/base",
            "top": null,
            "grid_column": null,
            "overflow_y": null,
            "overflow_x": null,
            "grid_auto_flow": null,
            "grid_area": null,
            "grid_template_columns": null,
            "flex": null,
            "_model_name": "LayoutModel",
            "justify_items": null,
            "grid_row": null,
            "max_height": null,
            "align_content": null,
            "visibility": null,
            "align_self": null,
            "height": null,
            "min_height": null,
            "padding": null,
            "grid_auto_rows": null,
            "grid_gap": null,
            "max_width": null,
            "order": null,
            "_view_module_version": "1.2.0",
            "grid_template_areas": null,
            "object_position": null,
            "object_fit": null,
            "grid_auto_columns": null,
            "margin": null,
            "display": null,
            "left": null
          }
        },
        "2a128f1f074f4356891fff047d156408": {
          "model_module": "@jupyter-widgets/controls",
          "model_name": "ProgressStyleModel",
          "model_module_version": "1.5.0",
          "state": {
            "_view_name": "StyleView",
            "_model_name": "ProgressStyleModel",
            "description_width": "",
            "_view_module": "@jupyter-widgets/base",
            "_model_module_version": "1.5.0",
            "_view_count": null,
            "_view_module_version": "1.2.0",
            "bar_color": null,
            "_model_module": "@jupyter-widgets/controls"
          }
        },
        "a74bfa032e7946fd9542f7b4db4b50da": {
          "model_module": "@jupyter-widgets/base",
          "model_name": "LayoutModel",
          "model_module_version": "1.2.0",
          "state": {
            "_view_name": "LayoutView",
            "grid_template_rows": null,
            "right": null,
            "justify_content": null,
            "_view_module": "@jupyter-widgets/base",
            "overflow": null,
            "_model_module_version": "1.2.0",
            "_view_count": null,
            "flex_flow": null,
            "width": null,
            "min_width": null,
            "border": null,
            "align_items": null,
            "bottom": null,
            "_model_module": "@jupyter-widgets/base",
            "top": null,
            "grid_column": null,
            "overflow_y": null,
            "overflow_x": null,
            "grid_auto_flow": null,
            "grid_area": null,
            "grid_template_columns": null,
            "flex": null,
            "_model_name": "LayoutModel",
            "justify_items": null,
            "grid_row": null,
            "max_height": null,
            "align_content": null,
            "visibility": null,
            "align_self": null,
            "height": null,
            "min_height": null,
            "padding": null,
            "grid_auto_rows": null,
            "grid_gap": null,
            "max_width": null,
            "order": null,
            "_view_module_version": "1.2.0",
            "grid_template_areas": null,
            "object_position": null,
            "object_fit": null,
            "grid_auto_columns": null,
            "margin": null,
            "display": null,
            "left": null
          }
        },
        "6f7ba0041ae24d6686e84ef7d903a5ff": {
          "model_module": "@jupyter-widgets/controls",
          "model_name": "VBoxModel",
          "model_module_version": "1.5.0",
          "state": {
            "_view_name": "VBoxView",
            "_dom_classes": [],
            "_model_name": "VBoxModel",
            "_view_module": "@jupyter-widgets/controls",
            "_model_module_version": "1.5.0",
            "_view_count": null,
            "_view_module_version": "1.5.0",
            "box_style": "",
            "layout": "IPY_MODEL_1c90c62cd39742cd9393b2d3195a432e",
            "_model_module": "@jupyter-widgets/controls",
            "children": [
              "IPY_MODEL_8320b76f8749491884ad62a59b1b2de5",
              "IPY_MODEL_1588affa06a14055bb521484efc5e36b"
            ]
          }
        },
        "1c90c62cd39742cd9393b2d3195a432e": {
          "model_module": "@jupyter-widgets/base",
          "model_name": "LayoutModel",
          "model_module_version": "1.2.0",
          "state": {
            "_view_name": "LayoutView",
            "grid_template_rows": null,
            "right": null,
            "justify_content": null,
            "_view_module": "@jupyter-widgets/base",
            "overflow": null,
            "_model_module_version": "1.2.0",
            "_view_count": null,
            "flex_flow": null,
            "width": null,
            "min_width": null,
            "border": null,
            "align_items": null,
            "bottom": null,
            "_model_module": "@jupyter-widgets/base",
            "top": null,
            "grid_column": null,
            "overflow_y": null,
            "overflow_x": null,
            "grid_auto_flow": null,
            "grid_area": null,
            "grid_template_columns": null,
            "flex": null,
            "_model_name": "LayoutModel",
            "justify_items": null,
            "grid_row": null,
            "max_height": null,
            "align_content": null,
            "visibility": null,
            "align_self": null,
            "height": null,
            "min_height": null,
            "padding": null,
            "grid_auto_rows": null,
            "grid_gap": null,
            "max_width": null,
            "order": null,
            "_view_module_version": "1.2.0",
            "grid_template_areas": null,
            "object_position": null,
            "object_fit": null,
            "grid_auto_columns": null,
            "margin": null,
            "display": null,
            "left": null
          }
        },
        "8320b76f8749491884ad62a59b1b2de5": {
          "model_module": "@jupyter-widgets/controls",
          "model_name": "LabelModel",
          "model_module_version": "1.5.0",
          "state": {
            "_view_name": "LabelView",
            "style": "IPY_MODEL_1a0fbae885c94700b0b4e6d05b6f5ea5",
            "_dom_classes": [],
            "description": "",
            "_model_name": "LabelModel",
            "placeholder": "​",
            "_view_module": "@jupyter-widgets/controls",
            "_model_module_version": "1.5.0",
            "value": " 0.01MB of 0.01MB uploaded (0.00MB deduped)\r",
            "_view_count": null,
            "_view_module_version": "1.5.0",
            "description_tooltip": null,
            "_model_module": "@jupyter-widgets/controls",
            "layout": "IPY_MODEL_9818b394fe74406db7dafe70e9072071"
          }
        },
        "1588affa06a14055bb521484efc5e36b": {
          "model_module": "@jupyter-widgets/controls",
          "model_name": "FloatProgressModel",
          "model_module_version": "1.5.0",
          "state": {
            "_view_name": "ProgressView",
            "style": "IPY_MODEL_deb8649b65364e08b7be485bf7ec026b",
            "_dom_classes": [],
            "description": "",
            "_model_name": "FloatProgressModel",
            "bar_style": "",
            "max": 1,
            "_view_module": "@jupyter-widgets/controls",
            "_model_module_version": "1.5.0",
            "value": 1,
            "_view_count": null,
            "_view_module_version": "1.5.0",
            "orientation": "horizontal",
            "min": 0,
            "description_tooltip": null,
            "_model_module": "@jupyter-widgets/controls",
            "layout": "IPY_MODEL_2f4bc3c81d4947d9a8e6b78582a8e8e0"
          }
        },
        "1a0fbae885c94700b0b4e6d05b6f5ea5": {
          "model_module": "@jupyter-widgets/controls",
          "model_name": "DescriptionStyleModel",
          "model_module_version": "1.5.0",
          "state": {
            "_view_name": "StyleView",
            "_model_name": "DescriptionStyleModel",
            "description_width": "",
            "_view_module": "@jupyter-widgets/base",
            "_model_module_version": "1.5.0",
            "_view_count": null,
            "_view_module_version": "1.2.0",
            "_model_module": "@jupyter-widgets/controls"
          }
        },
        "9818b394fe74406db7dafe70e9072071": {
          "model_module": "@jupyter-widgets/base",
          "model_name": "LayoutModel",
          "model_module_version": "1.2.0",
          "state": {
            "_view_name": "LayoutView",
            "grid_template_rows": null,
            "right": null,
            "justify_content": null,
            "_view_module": "@jupyter-widgets/base",
            "overflow": null,
            "_model_module_version": "1.2.0",
            "_view_count": null,
            "flex_flow": null,
            "width": null,
            "min_width": null,
            "border": null,
            "align_items": null,
            "bottom": null,
            "_model_module": "@jupyter-widgets/base",
            "top": null,
            "grid_column": null,
            "overflow_y": null,
            "overflow_x": null,
            "grid_auto_flow": null,
            "grid_area": null,
            "grid_template_columns": null,
            "flex": null,
            "_model_name": "LayoutModel",
            "justify_items": null,
            "grid_row": null,
            "max_height": null,
            "align_content": null,
            "visibility": null,
            "align_self": null,
            "height": null,
            "min_height": null,
            "padding": null,
            "grid_auto_rows": null,
            "grid_gap": null,
            "max_width": null,
            "order": null,
            "_view_module_version": "1.2.0",
            "grid_template_areas": null,
            "object_position": null,
            "object_fit": null,
            "grid_auto_columns": null,
            "margin": null,
            "display": null,
            "left": null
          }
        },
        "deb8649b65364e08b7be485bf7ec026b": {
          "model_module": "@jupyter-widgets/controls",
          "model_name": "ProgressStyleModel",
          "model_module_version": "1.5.0",
          "state": {
            "_view_name": "StyleView",
            "_model_name": "ProgressStyleModel",
            "description_width": "",
            "_view_module": "@jupyter-widgets/base",
            "_model_module_version": "1.5.0",
            "_view_count": null,
            "_view_module_version": "1.2.0",
            "bar_color": null,
            "_model_module": "@jupyter-widgets/controls"
          }
        },
        "2f4bc3c81d4947d9a8e6b78582a8e8e0": {
          "model_module": "@jupyter-widgets/base",
          "model_name": "LayoutModel",
          "model_module_version": "1.2.0",
          "state": {
            "_view_name": "LayoutView",
            "grid_template_rows": null,
            "right": null,
            "justify_content": null,
            "_view_module": "@jupyter-widgets/base",
            "overflow": null,
            "_model_module_version": "1.2.0",
            "_view_count": null,
            "flex_flow": null,
            "width": null,
            "min_width": null,
            "border": null,
            "align_items": null,
            "bottom": null,
            "_model_module": "@jupyter-widgets/base",
            "top": null,
            "grid_column": null,
            "overflow_y": null,
            "overflow_x": null,
            "grid_auto_flow": null,
            "grid_area": null,
            "grid_template_columns": null,
            "flex": null,
            "_model_name": "LayoutModel",
            "justify_items": null,
            "grid_row": null,
            "max_height": null,
            "align_content": null,
            "visibility": null,
            "align_self": null,
            "height": null,
            "min_height": null,
            "padding": null,
            "grid_auto_rows": null,
            "grid_gap": null,
            "max_width": null,
            "order": null,
            "_view_module_version": "1.2.0",
            "grid_template_areas": null,
            "object_position": null,
            "object_fit": null,
            "grid_auto_columns": null,
            "margin": null,
            "display": null,
            "left": null
          }
        },
        "3b13bf2bf90a40848251d2d341f8c3cf": {
          "model_module": "@jupyter-widgets/controls",
          "model_name": "VBoxModel",
          "model_module_version": "1.5.0",
          "state": {
            "_view_name": "VBoxView",
            "_dom_classes": [],
            "_model_name": "VBoxModel",
            "_view_module": "@jupyter-widgets/controls",
            "_model_module_version": "1.5.0",
            "_view_count": null,
            "_view_module_version": "1.5.0",
            "box_style": "",
            "layout": "IPY_MODEL_33a9bcc9f7b64bddac9b68666d8f231f",
            "_model_module": "@jupyter-widgets/controls",
            "children": [
              "IPY_MODEL_ffc40bd3f56e42b79119898db084c978",
              "IPY_MODEL_b024545bed6840e3b40499babb515a8a"
            ]
          }
        },
        "33a9bcc9f7b64bddac9b68666d8f231f": {
          "model_module": "@jupyter-widgets/base",
          "model_name": "LayoutModel",
          "model_module_version": "1.2.0",
          "state": {
            "_view_name": "LayoutView",
            "grid_template_rows": null,
            "right": null,
            "justify_content": null,
            "_view_module": "@jupyter-widgets/base",
            "overflow": null,
            "_model_module_version": "1.2.0",
            "_view_count": null,
            "flex_flow": null,
            "width": null,
            "min_width": null,
            "border": null,
            "align_items": null,
            "bottom": null,
            "_model_module": "@jupyter-widgets/base",
            "top": null,
            "grid_column": null,
            "overflow_y": null,
            "overflow_x": null,
            "grid_auto_flow": null,
            "grid_area": null,
            "grid_template_columns": null,
            "flex": null,
            "_model_name": "LayoutModel",
            "justify_items": null,
            "grid_row": null,
            "max_height": null,
            "align_content": null,
            "visibility": null,
            "align_self": null,
            "height": null,
            "min_height": null,
            "padding": null,
            "grid_auto_rows": null,
            "grid_gap": null,
            "max_width": null,
            "order": null,
            "_view_module_version": "1.2.0",
            "grid_template_areas": null,
            "object_position": null,
            "object_fit": null,
            "grid_auto_columns": null,
            "margin": null,
            "display": null,
            "left": null
          }
        },
        "ffc40bd3f56e42b79119898db084c978": {
          "model_module": "@jupyter-widgets/controls",
          "model_name": "LabelModel",
          "model_module_version": "1.5.0",
          "state": {
            "_view_name": "LabelView",
            "style": "IPY_MODEL_d2d509d690cf49a9bf5c224c806d322a",
            "_dom_classes": [],
            "description": "",
            "_model_name": "LabelModel",
            "placeholder": "​",
            "_view_module": "@jupyter-widgets/controls",
            "_model_module_version": "1.5.0",
            "value": " 0.01MB of 0.01MB uploaded (0.00MB deduped)\r",
            "_view_count": null,
            "_view_module_version": "1.5.0",
            "description_tooltip": null,
            "_model_module": "@jupyter-widgets/controls",
            "layout": "IPY_MODEL_75d570ae1cf74be0a29f4499ee4e54e4"
          }
        },
        "b024545bed6840e3b40499babb515a8a": {
          "model_module": "@jupyter-widgets/controls",
          "model_name": "FloatProgressModel",
          "model_module_version": "1.5.0",
          "state": {
            "_view_name": "ProgressView",
            "style": "IPY_MODEL_1e7ea871e6a747068a3933189b41b032",
            "_dom_classes": [],
            "description": "",
            "_model_name": "FloatProgressModel",
            "bar_style": "",
            "max": 1,
            "_view_module": "@jupyter-widgets/controls",
            "_model_module_version": "1.5.0",
            "value": 1,
            "_view_count": null,
            "_view_module_version": "1.5.0",
            "orientation": "horizontal",
            "min": 0,
            "description_tooltip": null,
            "_model_module": "@jupyter-widgets/controls",
            "layout": "IPY_MODEL_4e690f9a0a914a6dbc035c2eb8d69657"
          }
        },
        "d2d509d690cf49a9bf5c224c806d322a": {
          "model_module": "@jupyter-widgets/controls",
          "model_name": "DescriptionStyleModel",
          "model_module_version": "1.5.0",
          "state": {
            "_view_name": "StyleView",
            "_model_name": "DescriptionStyleModel",
            "description_width": "",
            "_view_module": "@jupyter-widgets/base",
            "_model_module_version": "1.5.0",
            "_view_count": null,
            "_view_module_version": "1.2.0",
            "_model_module": "@jupyter-widgets/controls"
          }
        },
        "75d570ae1cf74be0a29f4499ee4e54e4": {
          "model_module": "@jupyter-widgets/base",
          "model_name": "LayoutModel",
          "model_module_version": "1.2.0",
          "state": {
            "_view_name": "LayoutView",
            "grid_template_rows": null,
            "right": null,
            "justify_content": null,
            "_view_module": "@jupyter-widgets/base",
            "overflow": null,
            "_model_module_version": "1.2.0",
            "_view_count": null,
            "flex_flow": null,
            "width": null,
            "min_width": null,
            "border": null,
            "align_items": null,
            "bottom": null,
            "_model_module": "@jupyter-widgets/base",
            "top": null,
            "grid_column": null,
            "overflow_y": null,
            "overflow_x": null,
            "grid_auto_flow": null,
            "grid_area": null,
            "grid_template_columns": null,
            "flex": null,
            "_model_name": "LayoutModel",
            "justify_items": null,
            "grid_row": null,
            "max_height": null,
            "align_content": null,
            "visibility": null,
            "align_self": null,
            "height": null,
            "min_height": null,
            "padding": null,
            "grid_auto_rows": null,
            "grid_gap": null,
            "max_width": null,
            "order": null,
            "_view_module_version": "1.2.0",
            "grid_template_areas": null,
            "object_position": null,
            "object_fit": null,
            "grid_auto_columns": null,
            "margin": null,
            "display": null,
            "left": null
          }
        },
        "1e7ea871e6a747068a3933189b41b032": {
          "model_module": "@jupyter-widgets/controls",
          "model_name": "ProgressStyleModel",
          "model_module_version": "1.5.0",
          "state": {
            "_view_name": "StyleView",
            "_model_name": "ProgressStyleModel",
            "description_width": "",
            "_view_module": "@jupyter-widgets/base",
            "_model_module_version": "1.5.0",
            "_view_count": null,
            "_view_module_version": "1.2.0",
            "bar_color": null,
            "_model_module": "@jupyter-widgets/controls"
          }
        },
        "4e690f9a0a914a6dbc035c2eb8d69657": {
          "model_module": "@jupyter-widgets/base",
          "model_name": "LayoutModel",
          "model_module_version": "1.2.0",
          "state": {
            "_view_name": "LayoutView",
            "grid_template_rows": null,
            "right": null,
            "justify_content": null,
            "_view_module": "@jupyter-widgets/base",
            "overflow": null,
            "_model_module_version": "1.2.0",
            "_view_count": null,
            "flex_flow": null,
            "width": null,
            "min_width": null,
            "border": null,
            "align_items": null,
            "bottom": null,
            "_model_module": "@jupyter-widgets/base",
            "top": null,
            "grid_column": null,
            "overflow_y": null,
            "overflow_x": null,
            "grid_auto_flow": null,
            "grid_area": null,
            "grid_template_columns": null,
            "flex": null,
            "_model_name": "LayoutModel",
            "justify_items": null,
            "grid_row": null,
            "max_height": null,
            "align_content": null,
            "visibility": null,
            "align_self": null,
            "height": null,
            "min_height": null,
            "padding": null,
            "grid_auto_rows": null,
            "grid_gap": null,
            "max_width": null,
            "order": null,
            "_view_module_version": "1.2.0",
            "grid_template_areas": null,
            "object_position": null,
            "object_fit": null,
            "grid_auto_columns": null,
            "margin": null,
            "display": null,
            "left": null
          }
        }
      }
    }
  },
  "cells": [
    {
      "cell_type": "markdown",
      "metadata": {
        "id": "7fHL3ONZ55I-"
      },
      "source": [
        "# Lab 4\n",
        "### Context\n",
        "\n",
        "#### AutoML & Experiment Tools\n",
        "- WanDB"
      ]
    },
    {
      "cell_type": "code",
      "metadata": {
        "colab": {
          "base_uri": "https://localhost:8080/"
        },
        "id": "Bjsuv_Vh6BB2",
        "outputId": "ac6935ae-b1d0-4ad1-aa41-30665e619743"
      },
      "source": [
        "!pip install wandb"
      ],
      "execution_count": null,
      "outputs": [
        {
          "output_type": "stream",
          "name": "stdout",
          "text": [
            "Collecting wandb\n",
            "  Downloading wandb-0.12.6-py2.py3-none-any.whl (1.7 MB)\n",
            "\u001b[K     |████████████████████████████████| 1.7 MB 5.3 MB/s \n",
            "\u001b[?25hRequirement already satisfied: psutil>=5.0.0 in /usr/local/lib/python3.7/dist-packages (from wandb) (5.4.8)\n",
            "Collecting pathtools\n",
            "  Downloading pathtools-0.1.2.tar.gz (11 kB)\n",
            "Collecting configparser>=3.8.1\n",
            "  Downloading configparser-5.1.0-py3-none-any.whl (19 kB)\n",
            "Collecting subprocess32>=3.5.3\n",
            "  Downloading subprocess32-3.5.4.tar.gz (97 kB)\n",
            "\u001b[K     |████████████████████████████████| 97 kB 6.5 MB/s \n",
            "\u001b[?25hRequirement already satisfied: Click!=8.0.0,>=7.0 in /usr/local/lib/python3.7/dist-packages (from wandb) (7.1.2)\n",
            "Collecting shortuuid>=0.5.0\n",
            "  Downloading shortuuid-1.0.1-py3-none-any.whl (7.5 kB)\n",
            "Requirement already satisfied: protobuf>=3.12.0 in /usr/local/lib/python3.7/dist-packages (from wandb) (3.17.3)\n",
            "Requirement already satisfied: PyYAML in /usr/local/lib/python3.7/dist-packages (from wandb) (3.13)\n",
            "Collecting docker-pycreds>=0.4.0\n",
            "  Downloading docker_pycreds-0.4.0-py2.py3-none-any.whl (9.0 kB)\n",
            "Requirement already satisfied: promise<3,>=2.0 in /usr/local/lib/python3.7/dist-packages (from wandb) (2.3)\n",
            "Collecting sentry-sdk>=1.0.0\n",
            "  Downloading sentry_sdk-1.4.3-py2.py3-none-any.whl (139 kB)\n",
            "\u001b[K     |████████████████████████████████| 139 kB 29.2 MB/s \n",
            "\u001b[?25hCollecting yaspin>=1.0.0\n",
            "  Downloading yaspin-2.1.0-py3-none-any.whl (18 kB)\n",
            "Requirement already satisfied: python-dateutil>=2.6.1 in /usr/local/lib/python3.7/dist-packages (from wandb) (2.8.2)\n",
            "Requirement already satisfied: requests<3,>=2.0.0 in /usr/local/lib/python3.7/dist-packages (from wandb) (2.23.0)\n",
            "Requirement already satisfied: six>=1.13.0 in /usr/local/lib/python3.7/dist-packages (from wandb) (1.15.0)\n",
            "Collecting GitPython>=1.0.0\n",
            "  Downloading GitPython-3.1.24-py3-none-any.whl (180 kB)\n",
            "\u001b[K     |████████████████████████████████| 180 kB 45.3 MB/s \n",
            "\u001b[?25hRequirement already satisfied: typing-extensions>=3.7.4.3 in /usr/local/lib/python3.7/dist-packages (from GitPython>=1.0.0->wandb) (3.7.4.3)\n",
            "Collecting gitdb<5,>=4.0.1\n",
            "  Downloading gitdb-4.0.9-py3-none-any.whl (63 kB)\n",
            "\u001b[K     |████████████████████████████████| 63 kB 1.8 MB/s \n",
            "\u001b[?25hCollecting smmap<6,>=3.0.1\n",
            "  Downloading smmap-5.0.0-py3-none-any.whl (24 kB)\n",
            "Requirement already satisfied: idna<3,>=2.5 in /usr/local/lib/python3.7/dist-packages (from requests<3,>=2.0.0->wandb) (2.10)\n",
            "Requirement already satisfied: urllib3!=1.25.0,!=1.25.1,<1.26,>=1.21.1 in /usr/local/lib/python3.7/dist-packages (from requests<3,>=2.0.0->wandb) (1.24.3)\n",
            "Requirement already satisfied: chardet<4,>=3.0.2 in /usr/local/lib/python3.7/dist-packages (from requests<3,>=2.0.0->wandb) (3.0.4)\n",
            "Requirement already satisfied: certifi>=2017.4.17 in /usr/local/lib/python3.7/dist-packages (from requests<3,>=2.0.0->wandb) (2021.5.30)\n",
            "Requirement already satisfied: termcolor<2.0.0,>=1.1.0 in /usr/local/lib/python3.7/dist-packages (from yaspin>=1.0.0->wandb) (1.1.0)\n",
            "Building wheels for collected packages: subprocess32, pathtools\n",
            "  Building wheel for subprocess32 (setup.py) ... \u001b[?25l\u001b[?25hdone\n",
            "  Created wheel for subprocess32: filename=subprocess32-3.5.4-py3-none-any.whl size=6502 sha256=d08713bc5c0f7959c967486a4de284d3988c558a674c5a5951ef3fa6df5748c6\n",
            "  Stored in directory: /root/.cache/pip/wheels/50/ca/fa/8fca8d246e64f19488d07567547ddec8eb084e8c0d7a59226a\n",
            "  Building wheel for pathtools (setup.py) ... \u001b[?25l\u001b[?25hdone\n",
            "  Created wheel for pathtools: filename=pathtools-0.1.2-py3-none-any.whl size=8807 sha256=cb393e55a910f807268c92fe1bf26047f63edf0f796ac90ca17dac7e9a1651c5\n",
            "  Stored in directory: /root/.cache/pip/wheels/3e/31/09/fa59cef12cdcfecc627b3d24273699f390e71828921b2cbba2\n",
            "Successfully built subprocess32 pathtools\n",
            "Installing collected packages: smmap, gitdb, yaspin, subprocess32, shortuuid, sentry-sdk, pathtools, GitPython, docker-pycreds, configparser, wandb\n",
            "Successfully installed GitPython-3.1.24 configparser-5.1.0 docker-pycreds-0.4.0 gitdb-4.0.9 pathtools-0.1.2 sentry-sdk-1.4.3 shortuuid-1.0.1 smmap-5.0.0 subprocess32-3.5.4 wandb-0.12.6 yaspin-2.1.0\n"
          ]
        }
      ]
    },
    {
      "cell_type": "code",
      "metadata": {
        "id": "vJz8Kvl8EDpR"
      },
      "source": [
        "sweep_config = {\n",
        "  \"name\" : \"sweep_demo\",\n",
        "  \"method\" : \"bayes\",\n",
        "  \"parameters\" : {\n",
        "    \"max_depth\" : {\n",
        "      \"distribution\": \"int_uniform\",\n",
        "      \"min\":2,\n",
        "      \"max\":15\n",
        "    },\n",
        "    \"subsample\" :{\n",
        "      \"distribution\": \"uniform\",\n",
        "      \"min\": 0.5,\n",
        "      \"max\": 1.0\n",
        "    },\n",
        "    \"colsample_bytree\":{\n",
        "      \"distribution\": \"uniform\",\n",
        "      \"min\": 0.5,\n",
        "      \"max\": 1.0\n",
        "    }\n",
        "  },\n",
        "  \"metric\":{\n",
        "      \"name\": \"cv_loss\",\n",
        "      \"goal\": \"minimize\"\n",
        "  }\n",
        "}\n"
      ],
      "execution_count": null,
      "outputs": []
    },
    {
      "cell_type": "code",
      "metadata": {
        "colab": {
          "base_uri": "https://localhost:8080/"
        },
        "id": "sYXItCNh6KwV",
        "outputId": "ac9ed1ef-0fa4-46de-de05-f6b870c3bc91"
      },
      "source": [
        "from google.colab import drive\n",
        "drive.mount('/content/drive')"
      ],
      "execution_count": null,
      "outputs": [
        {
          "output_type": "stream",
          "name": "stdout",
          "text": [
            "Drive already mounted at /content/drive; to attempt to forcibly remount, call drive.mount(\"/content/drive\", force_remount=True).\n"
          ]
        }
      ]
    },
    {
      "cell_type": "code",
      "metadata": {
        "colab": {
          "base_uri": "https://localhost:8080/"
        },
        "id": "7w-pvbCv68R5",
        "outputId": "6b4c24f1-5b9c-4183-e5a2-c4740f219d78"
      },
      "source": [
        "import wandb\n",
        "\n",
        "wandb.login()"
      ],
      "execution_count": null,
      "outputs": [
        {
          "output_type": "stream",
          "name": "stderr",
          "text": [
            "\u001b[34m\u001b[1mwandb\u001b[0m: Currently logged in as: \u001b[33mkbjung\u001b[0m (use `wandb login --relogin` to force relogin)\n"
          ]
        },
        {
          "output_type": "execute_result",
          "data": {
            "text/plain": [
              "True"
            ]
          },
          "metadata": {},
          "execution_count": 6
        }
      ]
    },
    {
      "cell_type": "code",
      "metadata": {
        "id": "aAfXTYpj5ysB",
        "colab": {
          "base_uri": "https://localhost:8080/"
        },
        "outputId": "6b359ec0-a039-4bac-bcf0-b646a4119f59"
      },
      "source": [
        "import os\n",
        "from os.path import join\n",
        "\n",
        "import multiprocessing\n",
        "import warnings\n",
        "warnings.filterwarnings('ignore')\n",
        "\n",
        "import numpy as np\n",
        "import pandas as pd\n",
        "\n",
        "import wandb\n",
        "\n",
        "sweep_id = wandb.sweep(sweep_config, \n",
        "                       project=\"wandb demo\")\n",
        "\n",
        "n_cpus = multiprocessing.cpu_count()"
      ],
      "execution_count": null,
      "outputs": [
        {
          "output_type": "stream",
          "name": "stdout",
          "text": [
            "Create sweep with ID: pdcwdpsw\n",
            "Sweep URL: https://wandb.ai/kbjung/wandb%20demo/sweeps/pdcwdpsw\n"
          ]
        }
      ]
    },
    {
      "cell_type": "code",
      "metadata": {
        "id": "gH-_VIMQEDpZ"
      },
      "source": [
        "BASE_DIR = '/content/drive/MyDrive/[2021_11]_멋쟁이사자처럼'\n",
        "\n",
        "train_path = join(BASE_DIR, 'data', 'MDC14', 'train.csv')\n",
        "test_path  = join(BASE_DIR, 'data', 'MDC14', 'test.csv')\n",
        "\n",
        "data = pd.read_csv(train_path)\n",
        "test = pd.read_csv(test_path)\n",
        "\n",
        "label = data['credit']"
      ],
      "execution_count": null,
      "outputs": []
    },
    {
      "cell_type": "code",
      "metadata": {
        "id": "yZ9UxpS9EDpa"
      },
      "source": [
        "# 불필요한 컬럼 제거\n",
        "data.drop(columns=['index', 'credit'], inplace=True)\n",
        "test.drop(columns=['index'],         inplace=True)"
      ],
      "execution_count": null,
      "outputs": []
    },
    {
      "cell_type": "code",
      "metadata": {
        "id": "7CrFI2GIEDpc",
        "colab": {
          "base_uri": "https://localhost:8080/"
        },
        "outputId": "c9c0a7a1-20f4-40cf-f5aa-98b209f88484"
      },
      "source": [
        "cat_columns = [c for c, t in zip(data.dtypes.index, data.dtypes) if t == 'O'] \n",
        "num_columns = [c for c    in data.columns if c not in cat_columns]\n",
        "\n",
        "print('Categorical Columns: \\n{}\\n'.format(cat_columns))\n",
        "print('Numeric Columns: \\n{}'.format(num_columns))"
      ],
      "execution_count": null,
      "outputs": [
        {
          "output_type": "stream",
          "name": "stdout",
          "text": [
            "Categorical Columns: \n",
            "['gender', 'car', 'reality', 'income_type', 'edu_type', 'family_type', 'house_type', 'occyp_type']\n",
            "\n",
            "Numeric Columns: \n",
            "['child_num', 'income_total', 'DAYS_BIRTH', 'DAYS_EMPLOYED', 'FLAG_MOBIL', 'work_phone', 'phone', 'email', 'family_size', 'begin_month']\n"
          ]
        }
      ]
    },
    {
      "cell_type": "markdown",
      "metadata": {
        "id": "_N5-NlqOEDpe"
      },
      "source": [
        "#### 라벨 데이터 인코딩"
      ]
    },
    {
      "cell_type": "code",
      "metadata": {
        "id": "cRHtxFLCEDpf"
      },
      "source": [
        "label = label.astype(int)"
      ],
      "execution_count": null,
      "outputs": []
    },
    {
      "cell_type": "markdown",
      "metadata": {
        "id": "lnoCcS0eEDph"
      },
      "source": [
        "#### 전처리 프로세스 함수로 작성"
      ]
    },
    {
      "cell_type": "code",
      "metadata": {
        "id": "mp0An34aEDpi"
      },
      "source": [
        "from sklearn.impute import SimpleImputer\n",
        "from sklearn.preprocessing import StandardScaler, OneHotEncoder\n",
        "\n",
        "def preprocess(x_train, x_valid, x_test):\n",
        "    tmp_x_train = x_train.copy()\n",
        "    tmp_x_valid = x_valid.copy()\n",
        "    tmp_x_test  = x_test.copy()\n",
        "    \n",
        "    tmp_x_train.reset_index(drop=True, inplace=True)\n",
        "    tmp_x_valid.reset_index(drop=True, inplace=True)\n",
        "    \n",
        "    # 결측치 처리\n",
        "    imputer = SimpleImputer(strategy='most_frequent')\n",
        "    tmp_x_train[cat_columns] = imputer.fit_transform(tmp_x_train[cat_columns])\n",
        "    tmp_x_valid[cat_columns] = imputer.transform(tmp_x_valid[cat_columns])\n",
        "    tmp_x_test[cat_columns]  = imputer.transform(tmp_x_test[cat_columns])\n",
        "    \n",
        "    # 스케일링\n",
        "    scaler = StandardScaler()\n",
        "    tmp_x_train[num_columns] = scaler.fit_transform(tmp_x_train[num_columns])\n",
        "    tmp_x_valid[num_columns] = scaler.transform(tmp_x_valid[num_columns])\n",
        "    tmp_x_test[num_columns]  = scaler.transform(tmp_x_test[num_columns])\n",
        "\n",
        "    # 인코딩\n",
        "    ohe = OneHotEncoder(sparse=False)\n",
        "    ohe.fit(tmp_x_train[cat_columns])\n",
        "    \n",
        "    tmp_x_train_cat = pd.DataFrame(ohe.transform(tmp_x_train[cat_columns]))\n",
        "    tmp_x_valid_cat = pd.DataFrame(ohe.transform(tmp_x_valid[cat_columns]))\n",
        "    tmp_x_test_cat  = pd.DataFrame(ohe.transform(tmp_x_test[cat_columns]))\n",
        "    \n",
        "    tmp_x_train.drop(columns=cat_columns, inplace=True)\n",
        "    tmp_x_valid.drop(columns=cat_columns, inplace=True)\n",
        "    tmp_x_test.drop(columns=cat_columns, inplace=True)\n",
        "    \n",
        "    tmp_x_train = pd.concat([tmp_x_train, tmp_x_train_cat], axis=1)\n",
        "    tmp_x_valid = pd.concat([tmp_x_valid, tmp_x_valid_cat], axis=1)\n",
        "    tmp_x_test  = pd.concat([tmp_x_test, tmp_x_test_cat], axis=1)\n",
        "    \n",
        "    return tmp_x_train, tmp_x_valid, tmp_x_test"
      ],
      "execution_count": null,
      "outputs": []
    },
    {
      "cell_type": "markdown",
      "metadata": {
        "id": "d0YXWbF8EDpk"
      },
      "source": [
        "### Out-of-fold(OOF) Ensemble"
      ]
    },
    {
      "cell_type": "code",
      "metadata": {
        "id": "CUeRRPyDEDpl",
        "colab": {
          "base_uri": "https://localhost:8080/",
          "height": 1000,
          "referenced_widgets": [
            "7c6089e848ef49a58cac2b2a073a8dcb",
            "60859e016f234321bb8c3bd31cb42705",
            "fd46927f03594e579ecbc46a2e6335c6",
            "b6e0955a1bf6425d84607c8bbe576467",
            "8e040426f54e44d2ad000f8dbb5ce0a1",
            "cca1e8e3c1814023a343a6f7efab5ff6",
            "ca91bd933acb4ac5b700f026d82a2c9e",
            "b2695a1f09dc4c8e8b6a62aeea3d09ef",
            "6b0bb0fa960d4982bc6efc2c34c9bbfa",
            "19abcefd29b94282a682df93864d08ae",
            "3e2adb3bc7984c0a92a1ce241c69cb7f",
            "9e5906fe7e6c440096ffde3ea984f531",
            "44eb6dcfe6974703b98c90fb9846dc38",
            "96c9ab0864504c55af12f0337991e887",
            "9ffdbb057d254771ab9cb6ffc20d6f98",
            "e9bef8f820d945fcb467cea7e7668ffb",
            "e868d52a80a7478985489feb86bb3c7d",
            "f5aed844a92a4dc3ba52326e2bb5eb54",
            "a2f3152b457e4de69be57c205347fcc4",
            "0a43beec9f814dd19a69b9faee8df092",
            "0d410cb48fb14216b9fc374a300eb682",
            "e9e35dbed6994a21893871cdf17f55dc",
            "2a128f1f074f4356891fff047d156408",
            "a74bfa032e7946fd9542f7b4db4b50da",
            "6f7ba0041ae24d6686e84ef7d903a5ff",
            "1c90c62cd39742cd9393b2d3195a432e",
            "8320b76f8749491884ad62a59b1b2de5",
            "1588affa06a14055bb521484efc5e36b",
            "1a0fbae885c94700b0b4e6d05b6f5ea5",
            "9818b394fe74406db7dafe70e9072071",
            "deb8649b65364e08b7be485bf7ec026b",
            "2f4bc3c81d4947d9a8e6b78582a8e8e0",
            "3b13bf2bf90a40848251d2d341f8c3cf",
            "33a9bcc9f7b64bddac9b68666d8f231f",
            "ffc40bd3f56e42b79119898db084c978",
            "b024545bed6840e3b40499babb515a8a",
            "d2d509d690cf49a9bf5c224c806d322a",
            "75d570ae1cf74be0a29f4499ee4e54e4",
            "1e7ea871e6a747068a3933189b41b032",
            "4e690f9a0a914a6dbc035c2eb8d69657"
          ]
        },
        "outputId": "7e4ab7a7-22e1-4989-a36f-4e449b7bea6b"
      },
      "source": [
        "from sklearn.model_selection import StratifiedKFold\n",
        "from sklearn.metrics import log_loss\n",
        "from xgboost import XGBClassifier\n",
        "\n",
        "def train():\n",
        "    with wandb.init() as run:\n",
        "        params = wandb.config\n",
        "        \n",
        "        val_scores = list()\n",
        "        oof_pred = np.zeros((test.shape[0], 3))\n",
        "        n_splits = 5\n",
        "\n",
        "        skf = StratifiedKFold(n_splits=n_splits, shuffle=True, random_state=42)\n",
        "\n",
        "        for i, (trn_idx, val_idx) in enumerate(skf.split(data, label)):\n",
        "            x_train, y_train = data.iloc[trn_idx, :], label.iloc[trn_idx,]\n",
        "            x_valid, y_valid = data.iloc[val_idx, :], label.iloc[val_idx,]\n",
        "\n",
        "            # 전처리\n",
        "            x_train, x_valid, x_test = preprocess(x_train, x_valid, test)\n",
        "\n",
        "            # 모델 정의\n",
        "            model = XGBClassifier(n_estimators=1000,\n",
        "                                  max_depth=params['max_depth'],\n",
        "                                  subsample=params['subsample'],\n",
        "                                  colsample_bytree=params['colsample_bytree'],\n",
        "                                  tree_method='gpu_hist',\n",
        "                                  n_jobs=n_cpus-1)\n",
        "\n",
        "            # 모델 학습\n",
        "            model.fit(x_train, y_train, \n",
        "                      eval_metric='mlogloss', \n",
        "                      eval_set=[[x_train, y_train], [x_valid, y_valid]],\n",
        "                      early_stopping_rounds=100,\n",
        "                      verbose=100)\n",
        "\n",
        "            # 훈련, 검증 데이터 log_loss 확인\n",
        "            trn_logloss = log_loss(y_train, model.predict_proba(x_train))\n",
        "            val_logloss = log_loss(y_valid, model.predict_proba(x_valid))\n",
        "            print('{} Fold, train logloss : {:.4f}4, validation logloss : {:.4f}'.format(i, trn_logloss, val_logloss))\n",
        "\n",
        "            val_scores.append(val_logloss)\n",
        "            \n",
        "        metrics = {\"cv_loss\": np.mean(val_scores)}\n",
        "        wandb.log(metrics)\n",
        "count = 5\n",
        "wandb.agent(sweep_id, function=train, count=count)"
      ],
      "execution_count": null,
      "outputs": [
        {
          "output_type": "stream",
          "name": "stderr",
          "text": [
            "\u001b[34m\u001b[1mwandb\u001b[0m: Agent Starting Run: 3g4n5mjv with config:\n",
            "\u001b[34m\u001b[1mwandb\u001b[0m: \tcolsample_bytree: 0.5127808294962001\n",
            "\u001b[34m\u001b[1mwandb\u001b[0m: \tmax_depth: 4\n",
            "\u001b[34m\u001b[1mwandb\u001b[0m: \tsubsample: 0.5190283591624516\n"
          ]
        },
        {
          "output_type": "display_data",
          "data": {
            "text/html": [
              "\n",
              "                    Syncing run <strong><a href=\"https://wandb.ai/kbjung/wandb%20demo/runs/3g4n5mjv\" target=\"_blank\">clear-sweep-3</a></strong> to <a href=\"https://wandb.ai/kbjung/wandb%20demo\" target=\"_blank\">Weights & Biases</a> (<a href=\"https://docs.wandb.com/integrations/jupyter.html\" target=\"_blank\">docs</a>).<br/>\n",
              "Sweep page: <a href=\"https://wandb.ai/kbjung/wandb%20demo/sweeps/pdcwdpsw\" target=\"_blank\">https://wandb.ai/kbjung/wandb%20demo/sweeps/pdcwdpsw</a><br/>\n",
              "\n",
              "                "
            ],
            "text/plain": [
              "<IPython.core.display.HTML object>"
            ]
          },
          "metadata": {}
        },
        {
          "output_type": "stream",
          "name": "stdout",
          "text": [
            "[0]\tvalidation_0-mlogloss:1.06137\tvalidation_1-mlogloss:1.06136\n",
            "Multiple eval metrics have been passed: 'validation_1-mlogloss' will be used for early stopping.\n",
            "\n",
            "Will train until validation_1-mlogloss hasn't improved in 100 rounds.\n",
            "[100]\tvalidation_0-mlogloss:0.763067\tvalidation_1-mlogloss:0.788083\n",
            "[200]\tvalidation_0-mlogloss:0.727081\tvalidation_1-mlogloss:0.77684\n",
            "[300]\tvalidation_0-mlogloss:0.698826\tvalidation_1-mlogloss:0.766506\n",
            "[400]\tvalidation_0-mlogloss:0.673305\tvalidation_1-mlogloss:0.75988\n",
            "[500]\tvalidation_0-mlogloss:0.652057\tvalidation_1-mlogloss:0.754742\n",
            "[600]\tvalidation_0-mlogloss:0.632291\tvalidation_1-mlogloss:0.751188\n",
            "[700]\tvalidation_0-mlogloss:0.615317\tvalidation_1-mlogloss:0.749252\n",
            "[800]\tvalidation_0-mlogloss:0.599775\tvalidation_1-mlogloss:0.747752\n",
            "[900]\tvalidation_0-mlogloss:0.58595\tvalidation_1-mlogloss:0.744756\n",
            "[999]\tvalidation_0-mlogloss:0.572835\tvalidation_1-mlogloss:0.743786\n",
            "0 Fold, train logloss : 0.57514, validation logloss : 0.7433\n",
            "[0]\tvalidation_0-mlogloss:1.06085\tvalidation_1-mlogloss:1.06156\n",
            "Multiple eval metrics have been passed: 'validation_1-mlogloss' will be used for early stopping.\n",
            "\n",
            "Will train until validation_1-mlogloss hasn't improved in 100 rounds.\n",
            "[100]\tvalidation_0-mlogloss:0.759498\tvalidation_1-mlogloss:0.797209\n",
            "[200]\tvalidation_0-mlogloss:0.723946\tvalidation_1-mlogloss:0.785565\n",
            "[300]\tvalidation_0-mlogloss:0.695413\tvalidation_1-mlogloss:0.778828\n",
            "[400]\tvalidation_0-mlogloss:0.670571\tvalidation_1-mlogloss:0.774251\n",
            "[500]\tvalidation_0-mlogloss:0.649585\tvalidation_1-mlogloss:0.768884\n",
            "[600]\tvalidation_0-mlogloss:0.630738\tvalidation_1-mlogloss:0.765212\n",
            "[700]\tvalidation_0-mlogloss:0.613907\tvalidation_1-mlogloss:0.762796\n",
            "[800]\tvalidation_0-mlogloss:0.598723\tvalidation_1-mlogloss:0.760827\n",
            "[900]\tvalidation_0-mlogloss:0.58487\tvalidation_1-mlogloss:0.759877\n",
            "[999]\tvalidation_0-mlogloss:0.571607\tvalidation_1-mlogloss:0.757793\n",
            "1 Fold, train logloss : 0.57164, validation logloss : 0.7578\n",
            "[0]\tvalidation_0-mlogloss:1.06102\tvalidation_1-mlogloss:1.0616\n",
            "Multiple eval metrics have been passed: 'validation_1-mlogloss' will be used for early stopping.\n",
            "\n",
            "Will train until validation_1-mlogloss hasn't improved in 100 rounds.\n",
            "[100]\tvalidation_0-mlogloss:0.76282\tvalidation_1-mlogloss:0.79121\n",
            "[200]\tvalidation_0-mlogloss:0.726383\tvalidation_1-mlogloss:0.779613\n",
            "[300]\tvalidation_0-mlogloss:0.697107\tvalidation_1-mlogloss:0.771493\n",
            "[400]\tvalidation_0-mlogloss:0.671908\tvalidation_1-mlogloss:0.764344\n",
            "[500]\tvalidation_0-mlogloss:0.650325\tvalidation_1-mlogloss:0.759399\n",
            "[600]\tvalidation_0-mlogloss:0.631151\tvalidation_1-mlogloss:0.756739\n",
            "[700]\tvalidation_0-mlogloss:0.614196\tvalidation_1-mlogloss:0.753927\n",
            "[800]\tvalidation_0-mlogloss:0.598187\tvalidation_1-mlogloss:0.752141\n",
            "[900]\tvalidation_0-mlogloss:0.584345\tvalidation_1-mlogloss:0.750691\n",
            "[999]\tvalidation_0-mlogloss:0.570974\tvalidation_1-mlogloss:0.749802\n",
            "2 Fold, train logloss : 0.57304, validation logloss : 0.7496\n",
            "[0]\tvalidation_0-mlogloss:1.06118\tvalidation_1-mlogloss:1.06169\n",
            "Multiple eval metrics have been passed: 'validation_1-mlogloss' will be used for early stopping.\n",
            "\n",
            "Will train until validation_1-mlogloss hasn't improved in 100 rounds.\n",
            "[100]\tvalidation_0-mlogloss:0.762206\tvalidation_1-mlogloss:0.791794\n",
            "[200]\tvalidation_0-mlogloss:0.726751\tvalidation_1-mlogloss:0.779058\n",
            "[300]\tvalidation_0-mlogloss:0.697285\tvalidation_1-mlogloss:0.770515\n",
            "[400]\tvalidation_0-mlogloss:0.671971\tvalidation_1-mlogloss:0.764213\n",
            "[500]\tvalidation_0-mlogloss:0.65091\tvalidation_1-mlogloss:0.7592\n",
            "[600]\tvalidation_0-mlogloss:0.631356\tvalidation_1-mlogloss:0.754686\n",
            "[700]\tvalidation_0-mlogloss:0.614155\tvalidation_1-mlogloss:0.751304\n",
            "[800]\tvalidation_0-mlogloss:0.598844\tvalidation_1-mlogloss:0.750405\n",
            "[900]\tvalidation_0-mlogloss:0.584503\tvalidation_1-mlogloss:0.749625\n",
            "[999]\tvalidation_0-mlogloss:0.571193\tvalidation_1-mlogloss:0.749066\n",
            "3 Fold, train logloss : 0.57684, validation logloss : 0.7489\n",
            "[0]\tvalidation_0-mlogloss:1.06106\tvalidation_1-mlogloss:1.06093\n",
            "Multiple eval metrics have been passed: 'validation_1-mlogloss' will be used for early stopping.\n",
            "\n",
            "Will train until validation_1-mlogloss hasn't improved in 100 rounds.\n",
            "[100]\tvalidation_0-mlogloss:0.763045\tvalidation_1-mlogloss:0.788776\n",
            "[200]\tvalidation_0-mlogloss:0.726142\tvalidation_1-mlogloss:0.774973\n",
            "[300]\tvalidation_0-mlogloss:0.697356\tvalidation_1-mlogloss:0.76761\n",
            "[400]\tvalidation_0-mlogloss:0.67151\tvalidation_1-mlogloss:0.761052\n",
            "[500]\tvalidation_0-mlogloss:0.650686\tvalidation_1-mlogloss:0.756729\n",
            "[600]\tvalidation_0-mlogloss:0.63174\tvalidation_1-mlogloss:0.753392\n",
            "[700]\tvalidation_0-mlogloss:0.614465\tvalidation_1-mlogloss:0.751069\n",
            "[800]\tvalidation_0-mlogloss:0.598401\tvalidation_1-mlogloss:0.749724\n",
            "[900]\tvalidation_0-mlogloss:0.584187\tvalidation_1-mlogloss:0.748316\n",
            "[999]\tvalidation_0-mlogloss:0.571498\tvalidation_1-mlogloss:0.747527\n",
            "4 Fold, train logloss : 0.57164, validation logloss : 0.7474\n"
          ]
        },
        {
          "output_type": "display_data",
          "data": {
            "text/html": [
              "<br/>Waiting for W&B process to finish, PID 578... <strong style=\"color:green\">(success).</strong>"
            ],
            "text/plain": [
              "<IPython.core.display.HTML object>"
            ]
          },
          "metadata": {}
        },
        {
          "output_type": "display_data",
          "data": {
            "application/vnd.jupyter.widget-view+json": {
              "model_id": "7c6089e848ef49a58cac2b2a073a8dcb",
              "version_minor": 0,
              "version_major": 2
            },
            "text/plain": [
              "VBox(children=(Label(value=' 0.00MB of 0.00MB uploaded (0.00MB deduped)\\r'), FloatProgress(value=1.0, max=1.0)…"
            ]
          },
          "metadata": {}
        },
        {
          "output_type": "display_data",
          "data": {
            "text/html": [
              "<style>\n",
              "    table.wandb td:nth-child(1) { padding: 0 10px; text-align: right }\n",
              "    .wandb-row { display: flex; flex-direction: row; flex-wrap: wrap; width: 100% }\n",
              "    .wandb-col { display: flex; flex-direction: column; flex-basis: 100%; flex: 1; padding: 10px; }\n",
              "    </style>\n",
              "<div class=\"wandb-row\"><div class=\"wandb-col\">\n",
              "<h3>Run history:</h3><br/><table class=\"wandb\"><tr><td>cv_loss</td><td>▁</td></tr></table><br/></div><div class=\"wandb-col\">\n",
              "<h3>Run summary:</h3><br/><table class=\"wandb\"><tr><td>cv_loss</td><td>0.74941</td></tr></table>\n",
              "</div></div>\n",
              "Synced 5 W&B file(s), 0 media file(s), 0 artifact file(s) and 0 other file(s)\n",
              "<br/>Synced <strong style=\"color:#cdcd00\">clear-sweep-3</strong>: <a href=\"https://wandb.ai/kbjung/wandb%20demo/runs/3g4n5mjv\" target=\"_blank\">https://wandb.ai/kbjung/wandb%20demo/runs/3g4n5mjv</a><br/>\n",
              "Find logs at: <code>./wandb/run-20211105_071954-3g4n5mjv/logs</code><br/>\n"
            ],
            "text/plain": [
              "<IPython.core.display.HTML object>"
            ]
          },
          "metadata": {}
        },
        {
          "output_type": "stream",
          "name": "stderr",
          "text": [
            "\u001b[34m\u001b[1mwandb\u001b[0m: Agent Starting Run: 9xcasjck with config:\n",
            "\u001b[34m\u001b[1mwandb\u001b[0m: \tcolsample_bytree: 0.885795799067931\n",
            "\u001b[34m\u001b[1mwandb\u001b[0m: \tmax_depth: 13\n",
            "\u001b[34m\u001b[1mwandb\u001b[0m: \tsubsample: 0.6963519089174012\n"
          ]
        },
        {
          "output_type": "display_data",
          "data": {
            "text/html": [
              "\n",
              "                    Syncing run <strong><a href=\"https://wandb.ai/kbjung/wandb%20demo/runs/9xcasjck\" target=\"_blank\">hearty-sweep-4</a></strong> to <a href=\"https://wandb.ai/kbjung/wandb%20demo\" target=\"_blank\">Weights & Biases</a> (<a href=\"https://docs.wandb.com/integrations/jupyter.html\" target=\"_blank\">docs</a>).<br/>\n",
              "Sweep page: <a href=\"https://wandb.ai/kbjung/wandb%20demo/sweeps/pdcwdpsw\" target=\"_blank\">https://wandb.ai/kbjung/wandb%20demo/sweeps/pdcwdpsw</a><br/>\n",
              "\n",
              "                "
            ],
            "text/plain": [
              "<IPython.core.display.HTML object>"
            ]
          },
          "metadata": {}
        },
        {
          "output_type": "stream",
          "name": "stdout",
          "text": [
            "[0]\tvalidation_0-mlogloss:1.04309\tvalidation_1-mlogloss:1.05225\n",
            "Multiple eval metrics have been passed: 'validation_1-mlogloss' will be used for early stopping.\n",
            "\n",
            "Will train until validation_1-mlogloss hasn't improved in 100 rounds.\n",
            "[100]\tvalidation_0-mlogloss:0.315057\tvalidation_1-mlogloss:0.7211\n",
            "Stopping. Best iteration:\n",
            "[71]\tvalidation_0-mlogloss:0.390235\tvalidation_1-mlogloss:0.715562\n",
            "\n",
            "0 Fold, train logloss : 0.39024, validation logloss : 0.7156\n",
            "[0]\tvalidation_0-mlogloss:1.04495\tvalidation_1-mlogloss:1.05269\n",
            "Multiple eval metrics have been passed: 'validation_1-mlogloss' will be used for early stopping.\n",
            "\n",
            "Will train until validation_1-mlogloss hasn't improved in 100 rounds.\n",
            "[100]\tvalidation_0-mlogloss:0.30253\tvalidation_1-mlogloss:0.741904\n",
            "Stopping. Best iteration:\n",
            "[68]\tvalidation_0-mlogloss:0.38798\tvalidation_1-mlogloss:0.731792\n",
            "\n",
            "1 Fold, train logloss : 0.38804, validation logloss : 0.7318\n",
            "[0]\tvalidation_0-mlogloss:1.04478\tvalidation_1-mlogloss:1.05334\n",
            "Multiple eval metrics have been passed: 'validation_1-mlogloss' will be used for early stopping.\n",
            "\n",
            "Will train until validation_1-mlogloss hasn't improved in 100 rounds.\n",
            "[100]\tvalidation_0-mlogloss:0.30146\tvalidation_1-mlogloss:0.743868\n",
            "Stopping. Best iteration:\n",
            "[57]\tvalidation_0-mlogloss:0.425915\tvalidation_1-mlogloss:0.731645\n",
            "\n",
            "2 Fold, train logloss : 0.42594, validation logloss : 0.7316\n",
            "[0]\tvalidation_0-mlogloss:1.04336\tvalidation_1-mlogloss:1.05165\n",
            "Multiple eval metrics have been passed: 'validation_1-mlogloss' will be used for early stopping.\n",
            "\n",
            "Will train until validation_1-mlogloss hasn't improved in 100 rounds.\n",
            "[100]\tvalidation_0-mlogloss:0.304103\tvalidation_1-mlogloss:0.73248\n",
            "Stopping. Best iteration:\n",
            "[58]\tvalidation_0-mlogloss:0.422264\tvalidation_1-mlogloss:0.723564\n",
            "\n",
            "3 Fold, train logloss : 0.42234, validation logloss : 0.7236\n",
            "[0]\tvalidation_0-mlogloss:1.0431\tvalidation_1-mlogloss:1.05096\n",
            "Multiple eval metrics have been passed: 'validation_1-mlogloss' will be used for early stopping.\n",
            "\n",
            "Will train until validation_1-mlogloss hasn't improved in 100 rounds.\n",
            "[100]\tvalidation_0-mlogloss:0.308621\tvalidation_1-mlogloss:0.737061\n",
            "Stopping. Best iteration:\n",
            "[60]\tvalidation_0-mlogloss:0.418667\tvalidation_1-mlogloss:0.724529\n",
            "\n",
            "4 Fold, train logloss : 0.41874, validation logloss : 0.7245\n"
          ]
        },
        {
          "output_type": "display_data",
          "data": {
            "text/html": [
              "<br/>Waiting for W&B process to finish, PID 637... <strong style=\"color:green\">(success).</strong>"
            ],
            "text/plain": [
              "<IPython.core.display.HTML object>"
            ]
          },
          "metadata": {}
        },
        {
          "output_type": "display_data",
          "data": {
            "application/vnd.jupyter.widget-view+json": {
              "model_id": "6b0bb0fa960d4982bc6efc2c34c9bbfa",
              "version_minor": 0,
              "version_major": 2
            },
            "text/plain": [
              "VBox(children=(Label(value=' 0.00MB of 0.00MB uploaded (0.00MB deduped)\\r'), FloatProgress(value=1.0, max=1.0)…"
            ]
          },
          "metadata": {}
        },
        {
          "output_type": "display_data",
          "data": {
            "text/html": [
              "<style>\n",
              "    table.wandb td:nth-child(1) { padding: 0 10px; text-align: right }\n",
              "    .wandb-row { display: flex; flex-direction: row; flex-wrap: wrap; width: 100% }\n",
              "    .wandb-col { display: flex; flex-direction: column; flex-basis: 100%; flex: 1; padding: 10px; }\n",
              "    </style>\n",
              "<div class=\"wandb-row\"><div class=\"wandb-col\">\n",
              "<h3>Run history:</h3><br/><table class=\"wandb\"><tr><td>cv_loss</td><td>▁</td></tr></table><br/></div><div class=\"wandb-col\">\n",
              "<h3>Run summary:</h3><br/><table class=\"wandb\"><tr><td>cv_loss</td><td>0.72542</td></tr></table>\n",
              "</div></div>\n",
              "Synced 5 W&B file(s), 0 media file(s), 0 artifact file(s) and 0 other file(s)\n",
              "<br/>Synced <strong style=\"color:#cdcd00\">hearty-sweep-4</strong>: <a href=\"https://wandb.ai/kbjung/wandb%20demo/runs/9xcasjck\" target=\"_blank\">https://wandb.ai/kbjung/wandb%20demo/runs/9xcasjck</a><br/>\n",
              "Find logs at: <code>./wandb/run-20211105_072240-9xcasjck/logs</code><br/>\n"
            ],
            "text/plain": [
              "<IPython.core.display.HTML object>"
            ]
          },
          "metadata": {}
        },
        {
          "output_type": "stream",
          "name": "stderr",
          "text": [
            "\u001b[34m\u001b[1mwandb\u001b[0m: Agent Starting Run: zgw39dy0 with config:\n",
            "\u001b[34m\u001b[1mwandb\u001b[0m: \tcolsample_bytree: 0.6752808798027445\n",
            "\u001b[34m\u001b[1mwandb\u001b[0m: \tmax_depth: 5\n",
            "\u001b[34m\u001b[1mwandb\u001b[0m: \tsubsample: 0.8515707989411823\n"
          ]
        },
        {
          "output_type": "display_data",
          "data": {
            "text/html": [
              "\n",
              "                    Syncing run <strong><a href=\"https://wandb.ai/kbjung/wandb%20demo/runs/zgw39dy0\" target=\"_blank\">prime-sweep-5</a></strong> to <a href=\"https://wandb.ai/kbjung/wandb%20demo\" target=\"_blank\">Weights & Biases</a> (<a href=\"https://docs.wandb.com/integrations/jupyter.html\" target=\"_blank\">docs</a>).<br/>\n",
              "Sweep page: <a href=\"https://wandb.ai/kbjung/wandb%20demo/sweeps/pdcwdpsw\" target=\"_blank\">https://wandb.ai/kbjung/wandb%20demo/sweeps/pdcwdpsw</a><br/>\n",
              "\n",
              "                "
            ],
            "text/plain": [
              "<IPython.core.display.HTML object>"
            ]
          },
          "metadata": {}
        },
        {
          "output_type": "stream",
          "name": "stdout",
          "text": [
            "[0]\tvalidation_0-mlogloss:1.05458\tvalidation_1-mlogloss:1.05472\n",
            "Multiple eval metrics have been passed: 'validation_1-mlogloss' will be used for early stopping.\n",
            "\n",
            "Will train until validation_1-mlogloss hasn't improved in 100 rounds.\n",
            "[100]\tvalidation_0-mlogloss:0.728434\tvalidation_1-mlogloss:0.776256\n",
            "[200]\tvalidation_0-mlogloss:0.670468\tvalidation_1-mlogloss:0.75715\n",
            "[300]\tvalidation_0-mlogloss:0.624785\tvalidation_1-mlogloss:0.7444\n",
            "[400]\tvalidation_0-mlogloss:0.586567\tvalidation_1-mlogloss:0.737563\n",
            "[500]\tvalidation_0-mlogloss:0.553924\tvalidation_1-mlogloss:0.731977\n",
            "[600]\tvalidation_0-mlogloss:0.526147\tvalidation_1-mlogloss:0.729096\n",
            "[700]\tvalidation_0-mlogloss:0.501503\tvalidation_1-mlogloss:0.72657\n",
            "[800]\tvalidation_0-mlogloss:0.479219\tvalidation_1-mlogloss:0.726513\n",
            "Stopping. Best iteration:\n",
            "[727]\tvalidation_0-mlogloss:0.495375\tvalidation_1-mlogloss:0.725721\n",
            "\n",
            "0 Fold, train logloss : 0.49544, validation logloss : 0.7257\n",
            "[0]\tvalidation_0-mlogloss:1.05411\tvalidation_1-mlogloss:1.0555\n",
            "Multiple eval metrics have been passed: 'validation_1-mlogloss' will be used for early stopping.\n",
            "\n",
            "Will train until validation_1-mlogloss hasn't improved in 100 rounds.\n",
            "[100]\tvalidation_0-mlogloss:0.724877\tvalidation_1-mlogloss:0.78613\n",
            "[200]\tvalidation_0-mlogloss:0.667255\tvalidation_1-mlogloss:0.768527\n",
            "[300]\tvalidation_0-mlogloss:0.620069\tvalidation_1-mlogloss:0.756677\n",
            "[400]\tvalidation_0-mlogloss:0.583319\tvalidation_1-mlogloss:0.749689\n",
            "[500]\tvalidation_0-mlogloss:0.550778\tvalidation_1-mlogloss:0.745795\n",
            "[600]\tvalidation_0-mlogloss:0.522102\tvalidation_1-mlogloss:0.742467\n",
            "[700]\tvalidation_0-mlogloss:0.49763\tvalidation_1-mlogloss:0.74183\n",
            "[800]\tvalidation_0-mlogloss:0.475891\tvalidation_1-mlogloss:0.741572\n",
            "[900]\tvalidation_0-mlogloss:0.455473\tvalidation_1-mlogloss:0.741441\n",
            "Stopping. Best iteration:\n",
            "[847]\tvalidation_0-mlogloss:0.465994\tvalidation_1-mlogloss:0.740756\n",
            "\n",
            "1 Fold, train logloss : 0.46604, validation logloss : 0.7408\n",
            "[0]\tvalidation_0-mlogloss:1.05415\tvalidation_1-mlogloss:1.0551\n",
            "Multiple eval metrics have been passed: 'validation_1-mlogloss' will be used for early stopping.\n",
            "\n",
            "Will train until validation_1-mlogloss hasn't improved in 100 rounds.\n",
            "[100]\tvalidation_0-mlogloss:0.727874\tvalidation_1-mlogloss:0.779939\n",
            "[200]\tvalidation_0-mlogloss:0.66866\tvalidation_1-mlogloss:0.761003\n",
            "[300]\tvalidation_0-mlogloss:0.622951\tvalidation_1-mlogloss:0.750694\n",
            "[400]\tvalidation_0-mlogloss:0.58447\tvalidation_1-mlogloss:0.744147\n",
            "[500]\tvalidation_0-mlogloss:0.551393\tvalidation_1-mlogloss:0.74127\n",
            "[600]\tvalidation_0-mlogloss:0.522663\tvalidation_1-mlogloss:0.737976\n",
            "[700]\tvalidation_0-mlogloss:0.497911\tvalidation_1-mlogloss:0.736687\n",
            "[800]\tvalidation_0-mlogloss:0.475697\tvalidation_1-mlogloss:0.736919\n",
            "Stopping. Best iteration:\n",
            "[710]\tvalidation_0-mlogloss:0.49562\tvalidation_1-mlogloss:0.736154\n",
            "\n",
            "2 Fold, train logloss : 0.49564, validation logloss : 0.7362\n",
            "[0]\tvalidation_0-mlogloss:1.05419\tvalidation_1-mlogloss:1.05489\n",
            "Multiple eval metrics have been passed: 'validation_1-mlogloss' will be used for early stopping.\n",
            "\n",
            "Will train until validation_1-mlogloss hasn't improved in 100 rounds.\n",
            "[100]\tvalidation_0-mlogloss:0.728719\tvalidation_1-mlogloss:0.779066\n",
            "[200]\tvalidation_0-mlogloss:0.670487\tvalidation_1-mlogloss:0.762125\n",
            "[300]\tvalidation_0-mlogloss:0.625032\tvalidation_1-mlogloss:0.750446\n",
            "[400]\tvalidation_0-mlogloss:0.586151\tvalidation_1-mlogloss:0.743387\n",
            "[500]\tvalidation_0-mlogloss:0.55321\tvalidation_1-mlogloss:0.738806\n",
            "[600]\tvalidation_0-mlogloss:0.524305\tvalidation_1-mlogloss:0.736467\n",
            "[700]\tvalidation_0-mlogloss:0.499822\tvalidation_1-mlogloss:0.736008\n",
            "[800]\tvalidation_0-mlogloss:0.477587\tvalidation_1-mlogloss:0.735862\n",
            "Stopping. Best iteration:\n",
            "[742]\tvalidation_0-mlogloss:0.490179\tvalidation_1-mlogloss:0.735132\n",
            "\n",
            "3 Fold, train logloss : 0.49024, validation logloss : 0.7351\n",
            "[0]\tvalidation_0-mlogloss:1.05452\tvalidation_1-mlogloss:1.05484\n",
            "Multiple eval metrics have been passed: 'validation_1-mlogloss' will be used for early stopping.\n",
            "\n",
            "Will train until validation_1-mlogloss hasn't improved in 100 rounds.\n",
            "[100]\tvalidation_0-mlogloss:0.729941\tvalidation_1-mlogloss:0.776406\n",
            "[200]\tvalidation_0-mlogloss:0.670112\tvalidation_1-mlogloss:0.758803\n",
            "[300]\tvalidation_0-mlogloss:0.623482\tvalidation_1-mlogloss:0.748381\n",
            "[400]\tvalidation_0-mlogloss:0.58382\tvalidation_1-mlogloss:0.741062\n",
            "[500]\tvalidation_0-mlogloss:0.551188\tvalidation_1-mlogloss:0.736893\n",
            "[600]\tvalidation_0-mlogloss:0.522205\tvalidation_1-mlogloss:0.735287\n",
            "[700]\tvalidation_0-mlogloss:0.496853\tvalidation_1-mlogloss:0.735417\n",
            "Stopping. Best iteration:\n",
            "[616]\tvalidation_0-mlogloss:0.517849\tvalidation_1-mlogloss:0.734765\n",
            "\n",
            "4 Fold, train logloss : 0.51784, validation logloss : 0.7348\n"
          ]
        },
        {
          "output_type": "display_data",
          "data": {
            "text/html": [
              "<br/>Waiting for W&B process to finish, PID 688... <strong style=\"color:green\">(success).</strong>"
            ],
            "text/plain": [
              "<IPython.core.display.HTML object>"
            ]
          },
          "metadata": {}
        },
        {
          "output_type": "display_data",
          "data": {
            "application/vnd.jupyter.widget-view+json": {
              "model_id": "e868d52a80a7478985489feb86bb3c7d",
              "version_minor": 0,
              "version_major": 2
            },
            "text/plain": [
              "VBox(children=(Label(value=' 0.00MB of 0.00MB uploaded (0.00MB deduped)\\r'), FloatProgress(value=1.0, max=1.0)…"
            ]
          },
          "metadata": {}
        },
        {
          "output_type": "display_data",
          "data": {
            "text/html": [
              "<style>\n",
              "    table.wandb td:nth-child(1) { padding: 0 10px; text-align: right }\n",
              "    .wandb-row { display: flex; flex-direction: row; flex-wrap: wrap; width: 100% }\n",
              "    .wandb-col { display: flex; flex-direction: column; flex-basis: 100%; flex: 1; padding: 10px; }\n",
              "    </style>\n",
              "<div class=\"wandb-row\"><div class=\"wandb-col\">\n",
              "<h3>Run history:</h3><br/><table class=\"wandb\"><tr><td>cv_loss</td><td>▁</td></tr></table><br/></div><div class=\"wandb-col\">\n",
              "<h3>Run summary:</h3><br/><table class=\"wandb\"><tr><td>cv_loss</td><td>0.73451</td></tr></table>\n",
              "</div></div>\n",
              "Synced 5 W&B file(s), 0 media file(s), 0 artifact file(s) and 0 other file(s)\n",
              "<br/>Synced <strong style=\"color:#cdcd00\">prime-sweep-5</strong>: <a href=\"https://wandb.ai/kbjung/wandb%20demo/runs/zgw39dy0\" target=\"_blank\">https://wandb.ai/kbjung/wandb%20demo/runs/zgw39dy0</a><br/>\n",
              "Find logs at: <code>./wandb/run-20211105_072606-zgw39dy0/logs</code><br/>\n"
            ],
            "text/plain": [
              "<IPython.core.display.HTML object>"
            ]
          },
          "metadata": {}
        },
        {
          "output_type": "stream",
          "name": "stderr",
          "text": [
            "\u001b[34m\u001b[1mwandb\u001b[0m: Agent Starting Run: u6j2z3dt with config:\n",
            "\u001b[34m\u001b[1mwandb\u001b[0m: \tcolsample_bytree: 0.5102617536364165\n",
            "\u001b[34m\u001b[1mwandb\u001b[0m: \tmax_depth: 6\n",
            "\u001b[34m\u001b[1mwandb\u001b[0m: \tsubsample: 0.8279099457228878\n"
          ]
        },
        {
          "output_type": "display_data",
          "data": {
            "text/html": [
              "\n",
              "                    Syncing run <strong><a href=\"https://wandb.ai/kbjung/wandb%20demo/runs/u6j2z3dt\" target=\"_blank\">misunderstood-sweep-6</a></strong> to <a href=\"https://wandb.ai/kbjung/wandb%20demo\" target=\"_blank\">Weights & Biases</a> (<a href=\"https://docs.wandb.com/integrations/jupyter.html\" target=\"_blank\">docs</a>).<br/>\n",
              "Sweep page: <a href=\"https://wandb.ai/kbjung/wandb%20demo/sweeps/pdcwdpsw\" target=\"_blank\">https://wandb.ai/kbjung/wandb%20demo/sweeps/pdcwdpsw</a><br/>\n",
              "\n",
              "                "
            ],
            "text/plain": [
              "<IPython.core.display.HTML object>"
            ]
          },
          "metadata": {}
        },
        {
          "output_type": "stream",
          "name": "stdout",
          "text": [
            "[0]\tvalidation_0-mlogloss:1.05988\tvalidation_1-mlogloss:1.06078\n",
            "Multiple eval metrics have been passed: 'validation_1-mlogloss' will be used for early stopping.\n",
            "\n",
            "Will train until validation_1-mlogloss hasn't improved in 100 rounds.\n",
            "[100]\tvalidation_0-mlogloss:0.698208\tvalidation_1-mlogloss:0.767069\n",
            "[200]\tvalidation_0-mlogloss:0.623515\tvalidation_1-mlogloss:0.743366\n",
            "[300]\tvalidation_0-mlogloss:0.566346\tvalidation_1-mlogloss:0.73117\n",
            "[400]\tvalidation_0-mlogloss:0.519663\tvalidation_1-mlogloss:0.724741\n",
            "[500]\tvalidation_0-mlogloss:0.480458\tvalidation_1-mlogloss:0.721177\n",
            "[600]\tvalidation_0-mlogloss:0.446882\tvalidation_1-mlogloss:0.720079\n",
            "Stopping. Best iteration:\n",
            "[594]\tvalidation_0-mlogloss:0.448538\tvalidation_1-mlogloss:0.719865\n",
            "\n",
            "0 Fold, train logloss : 0.44854, validation logloss : 0.7199\n",
            "[0]\tvalidation_0-mlogloss:1.05968\tvalidation_1-mlogloss:1.06101\n",
            "Multiple eval metrics have been passed: 'validation_1-mlogloss' will be used for early stopping.\n",
            "\n",
            "Will train until validation_1-mlogloss hasn't improved in 100 rounds.\n",
            "[100]\tvalidation_0-mlogloss:0.691505\tvalidation_1-mlogloss:0.776511\n",
            "[200]\tvalidation_0-mlogloss:0.616961\tvalidation_1-mlogloss:0.756917\n",
            "[300]\tvalidation_0-mlogloss:0.562107\tvalidation_1-mlogloss:0.745823\n",
            "[400]\tvalidation_0-mlogloss:0.515343\tvalidation_1-mlogloss:0.740038\n",
            "[500]\tvalidation_0-mlogloss:0.47695\tvalidation_1-mlogloss:0.737527\n",
            "[600]\tvalidation_0-mlogloss:0.44397\tvalidation_1-mlogloss:0.737535\n",
            "Stopping. Best iteration:\n",
            "[543]\tvalidation_0-mlogloss:0.462856\tvalidation_1-mlogloss:0.736417\n",
            "\n",
            "1 Fold, train logloss : 0.46294, validation logloss : 0.7364\n",
            "[0]\tvalidation_0-mlogloss:1.05938\tvalidation_1-mlogloss:1.06061\n",
            "Multiple eval metrics have been passed: 'validation_1-mlogloss' will be used for early stopping.\n",
            "\n",
            "Will train until validation_1-mlogloss hasn't improved in 100 rounds.\n",
            "[100]\tvalidation_0-mlogloss:0.694137\tvalidation_1-mlogloss:0.769344\n",
            "[200]\tvalidation_0-mlogloss:0.620534\tvalidation_1-mlogloss:0.748562\n",
            "[300]\tvalidation_0-mlogloss:0.564245\tvalidation_1-mlogloss:0.736875\n",
            "[400]\tvalidation_0-mlogloss:0.517088\tvalidation_1-mlogloss:0.731538\n",
            "[500]\tvalidation_0-mlogloss:0.477348\tvalidation_1-mlogloss:0.729056\n",
            "[600]\tvalidation_0-mlogloss:0.443923\tvalidation_1-mlogloss:0.729253\n",
            "Stopping. Best iteration:\n",
            "[501]\tvalidation_0-mlogloss:0.476883\tvalidation_1-mlogloss:0.728991\n",
            "\n",
            "2 Fold, train logloss : 0.47694, validation logloss : 0.7290\n",
            "[0]\tvalidation_0-mlogloss:1.05937\tvalidation_1-mlogloss:1.06074\n",
            "Multiple eval metrics have been passed: 'validation_1-mlogloss' will be used for early stopping.\n",
            "\n",
            "Will train until validation_1-mlogloss hasn't improved in 100 rounds.\n",
            "[100]\tvalidation_0-mlogloss:0.695822\tvalidation_1-mlogloss:0.768253\n",
            "[200]\tvalidation_0-mlogloss:0.618894\tvalidation_1-mlogloss:0.747378\n",
            "[300]\tvalidation_0-mlogloss:0.561082\tvalidation_1-mlogloss:0.735169\n",
            "[400]\tvalidation_0-mlogloss:0.514543\tvalidation_1-mlogloss:0.729831\n",
            "[500]\tvalidation_0-mlogloss:0.4765\tvalidation_1-mlogloss:0.727082\n",
            "[600]\tvalidation_0-mlogloss:0.443734\tvalidation_1-mlogloss:0.728222\n",
            "Stopping. Best iteration:\n",
            "[520]\tvalidation_0-mlogloss:0.469972\tvalidation_1-mlogloss:0.727023\n",
            "\n",
            "3 Fold, train logloss : 0.47004, validation logloss : 0.7270\n",
            "[0]\tvalidation_0-mlogloss:1.05957\tvalidation_1-mlogloss:1.06021\n",
            "Multiple eval metrics have been passed: 'validation_1-mlogloss' will be used for early stopping.\n",
            "\n",
            "Will train until validation_1-mlogloss hasn't improved in 100 rounds.\n",
            "[100]\tvalidation_0-mlogloss:0.696289\tvalidation_1-mlogloss:0.766933\n",
            "[200]\tvalidation_0-mlogloss:0.620649\tvalidation_1-mlogloss:0.747204\n",
            "[300]\tvalidation_0-mlogloss:0.562294\tvalidation_1-mlogloss:0.736406\n",
            "[400]\tvalidation_0-mlogloss:0.513557\tvalidation_1-mlogloss:0.732593\n",
            "[500]\tvalidation_0-mlogloss:0.475609\tvalidation_1-mlogloss:0.731585\n",
            "Stopping. Best iteration:\n",
            "[479]\tvalidation_0-mlogloss:0.483598\tvalidation_1-mlogloss:0.731401\n",
            "\n",
            "4 Fold, train logloss : 0.48364, validation logloss : 0.7314\n"
          ]
        },
        {
          "output_type": "display_data",
          "data": {
            "text/html": [
              "<br/>Waiting for W&B process to finish, PID 739... <strong style=\"color:green\">(success).</strong>"
            ],
            "text/plain": [
              "<IPython.core.display.HTML object>"
            ]
          },
          "metadata": {}
        },
        {
          "output_type": "display_data",
          "data": {
            "application/vnd.jupyter.widget-view+json": {
              "model_id": "6f7ba0041ae24d6686e84ef7d903a5ff",
              "version_minor": 0,
              "version_major": 2
            },
            "text/plain": [
              "VBox(children=(Label(value=' 0.00MB of 0.00MB uploaded (0.00MB deduped)\\r'), FloatProgress(value=1.0, max=1.0)…"
            ]
          },
          "metadata": {}
        },
        {
          "output_type": "display_data",
          "data": {
            "text/html": [
              "<style>\n",
              "    table.wandb td:nth-child(1) { padding: 0 10px; text-align: right }\n",
              "    .wandb-row { display: flex; flex-direction: row; flex-wrap: wrap; width: 100% }\n",
              "    .wandb-col { display: flex; flex-direction: column; flex-basis: 100%; flex: 1; padding: 10px; }\n",
              "    </style>\n",
              "<div class=\"wandb-row\"><div class=\"wandb-col\">\n",
              "<h3>Run history:</h3><br/><table class=\"wandb\"><tr><td>cv_loss</td><td>▁</td></tr></table><br/></div><div class=\"wandb-col\">\n",
              "<h3>Run summary:</h3><br/><table class=\"wandb\"><tr><td>cv_loss</td><td>0.72874</td></tr></table>\n",
              "</div></div>\n",
              "Synced 5 W&B file(s), 0 media file(s), 0 artifact file(s) and 0 other file(s)\n",
              "<br/>Synced <strong style=\"color:#cdcd00\">misunderstood-sweep-6</strong>: <a href=\"https://wandb.ai/kbjung/wandb%20demo/runs/u6j2z3dt\" target=\"_blank\">https://wandb.ai/kbjung/wandb%20demo/runs/u6j2z3dt</a><br/>\n",
              "Find logs at: <code>./wandb/run-20211105_072849-u6j2z3dt/logs</code><br/>\n"
            ],
            "text/plain": [
              "<IPython.core.display.HTML object>"
            ]
          },
          "metadata": {}
        },
        {
          "output_type": "stream",
          "name": "stderr",
          "text": [
            "\u001b[34m\u001b[1mwandb\u001b[0m: Agent Starting Run: uq5g96kb with config:\n",
            "\u001b[34m\u001b[1mwandb\u001b[0m: \tcolsample_bytree: 0.7215932742634054\n",
            "\u001b[34m\u001b[1mwandb\u001b[0m: \tmax_depth: 8\n",
            "\u001b[34m\u001b[1mwandb\u001b[0m: \tsubsample: 0.5383322511725925\n"
          ]
        },
        {
          "output_type": "display_data",
          "data": {
            "text/html": [
              "\n",
              "                    Syncing run <strong><a href=\"https://wandb.ai/kbjung/wandb%20demo/runs/uq5g96kb\" target=\"_blank\">dulcet-sweep-7</a></strong> to <a href=\"https://wandb.ai/kbjung/wandb%20demo\" target=\"_blank\">Weights & Biases</a> (<a href=\"https://docs.wandb.com/integrations/jupyter.html\" target=\"_blank\">docs</a>).<br/>\n",
              "Sweep page: <a href=\"https://wandb.ai/kbjung/wandb%20demo/sweeps/pdcwdpsw\" target=\"_blank\">https://wandb.ai/kbjung/wandb%20demo/sweeps/pdcwdpsw</a><br/>\n",
              "\n",
              "                "
            ],
            "text/plain": [
              "<IPython.core.display.HTML object>"
            ]
          },
          "metadata": {}
        },
        {
          "output_type": "stream",
          "name": "stdout",
          "text": [
            "[0]\tvalidation_0-mlogloss:1.05259\tvalidation_1-mlogloss:1.05455\n",
            "Multiple eval metrics have been passed: 'validation_1-mlogloss' will be used for early stopping.\n",
            "\n",
            "Will train until validation_1-mlogloss hasn't improved in 100 rounds.\n",
            "[100]\tvalidation_0-mlogloss:0.59706\tvalidation_1-mlogloss:0.742415\n",
            "[200]\tvalidation_0-mlogloss:0.468348\tvalidation_1-mlogloss:0.724136\n",
            "[300]\tvalidation_0-mlogloss:0.386493\tvalidation_1-mlogloss:0.723758\n",
            "Stopping. Best iteration:\n",
            "[243]\tvalidation_0-mlogloss:0.429413\tvalidation_1-mlogloss:0.722081\n",
            "\n",
            "0 Fold, train logloss : 0.42944, validation logloss : 0.7221\n",
            "[0]\tvalidation_0-mlogloss:1.05176\tvalidation_1-mlogloss:1.05503\n",
            "Multiple eval metrics have been passed: 'validation_1-mlogloss' will be used for early stopping.\n",
            "\n",
            "Will train until validation_1-mlogloss hasn't improved in 100 rounds.\n",
            "[100]\tvalidation_0-mlogloss:0.583902\tvalidation_1-mlogloss:0.749636\n",
            "[200]\tvalidation_0-mlogloss:0.463116\tvalidation_1-mlogloss:0.734156\n",
            "[300]\tvalidation_0-mlogloss:0.381352\tvalidation_1-mlogloss:0.738399\n",
            "Stopping. Best iteration:\n",
            "[219]\tvalidation_0-mlogloss:0.444532\tvalidation_1-mlogloss:0.733353\n",
            "\n",
            "1 Fold, train logloss : 0.44454, validation logloss : 0.7334\n",
            "[0]\tvalidation_0-mlogloss:1.05241\tvalidation_1-mlogloss:1.05505\n",
            "Multiple eval metrics have been passed: 'validation_1-mlogloss' will be used for early stopping.\n",
            "\n",
            "Will train until validation_1-mlogloss hasn't improved in 100 rounds.\n",
            "[100]\tvalidation_0-mlogloss:0.584923\tvalidation_1-mlogloss:0.741152\n",
            "[200]\tvalidation_0-mlogloss:0.460219\tvalidation_1-mlogloss:0.730812\n",
            "Stopping. Best iteration:\n",
            "[183]\tvalidation_0-mlogloss:0.478438\tvalidation_1-mlogloss:0.728737\n",
            "\n",
            "2 Fold, train logloss : 0.47844, validation logloss : 0.7287\n",
            "[0]\tvalidation_0-mlogloss:1.05264\tvalidation_1-mlogloss:1.05507\n",
            "Multiple eval metrics have been passed: 'validation_1-mlogloss' will be used for early stopping.\n",
            "\n",
            "Will train until validation_1-mlogloss hasn't improved in 100 rounds.\n",
            "[100]\tvalidation_0-mlogloss:0.587222\tvalidation_1-mlogloss:0.741931\n",
            "[200]\tvalidation_0-mlogloss:0.463612\tvalidation_1-mlogloss:0.727635\n",
            "[300]\tvalidation_0-mlogloss:0.382026\tvalidation_1-mlogloss:0.729978\n",
            "Stopping. Best iteration:\n",
            "[210]\tvalidation_0-mlogloss:0.454332\tvalidation_1-mlogloss:0.727083\n",
            "\n",
            "3 Fold, train logloss : 0.45434, validation logloss : 0.7271\n",
            "[0]\tvalidation_0-mlogloss:1.05211\tvalidation_1-mlogloss:1.05343\n",
            "Multiple eval metrics have been passed: 'validation_1-mlogloss' will be used for early stopping.\n",
            "\n",
            "Will train until validation_1-mlogloss hasn't improved in 100 rounds.\n",
            "[100]\tvalidation_0-mlogloss:0.589461\tvalidation_1-mlogloss:0.742372\n",
            "[200]\tvalidation_0-mlogloss:0.461439\tvalidation_1-mlogloss:0.732142\n",
            "Stopping. Best iteration:\n",
            "[187]\tvalidation_0-mlogloss:0.47622\tvalidation_1-mlogloss:0.73106\n",
            "\n",
            "4 Fold, train logloss : 0.47624, validation logloss : 0.7311\n"
          ]
        },
        {
          "output_type": "display_data",
          "data": {
            "text/html": [
              "<br/>Waiting for W&B process to finish, PID 791... <strong style=\"color:green\">(success).</strong>"
            ],
            "text/plain": [
              "<IPython.core.display.HTML object>"
            ]
          },
          "metadata": {}
        },
        {
          "output_type": "display_data",
          "data": {
            "application/vnd.jupyter.widget-view+json": {
              "model_id": "3b13bf2bf90a40848251d2d341f8c3cf",
              "version_minor": 0,
              "version_major": 2
            },
            "text/plain": [
              "VBox(children=(Label(value=' 0.00MB of 0.00MB uploaded (0.00MB deduped)\\r'), FloatProgress(value=1.0, max=1.0)…"
            ]
          },
          "metadata": {}
        },
        {
          "output_type": "display_data",
          "data": {
            "text/html": [
              "<style>\n",
              "    table.wandb td:nth-child(1) { padding: 0 10px; text-align: right }\n",
              "    .wandb-row { display: flex; flex-direction: row; flex-wrap: wrap; width: 100% }\n",
              "    .wandb-col { display: flex; flex-direction: column; flex-basis: 100%; flex: 1; padding: 10px; }\n",
              "    </style>\n",
              "<div class=\"wandb-row\"><div class=\"wandb-col\">\n",
              "<h3>Run history:</h3><br/><table class=\"wandb\"><tr><td>cv_loss</td><td>▁</td></tr></table><br/></div><div class=\"wandb-col\">\n",
              "<h3>Run summary:</h3><br/><table class=\"wandb\"><tr><td>cv_loss</td><td>0.72846</td></tr></table>\n",
              "</div></div>\n",
              "Synced 5 W&B file(s), 0 media file(s), 0 artifact file(s) and 0 other file(s)\n",
              "<br/>Synced <strong style=\"color:#cdcd00\">dulcet-sweep-7</strong>: <a href=\"https://wandb.ai/kbjung/wandb%20demo/runs/uq5g96kb\" target=\"_blank\">https://wandb.ai/kbjung/wandb%20demo/runs/uq5g96kb</a><br/>\n",
              "Find logs at: <code>./wandb/run-20211105_073119-uq5g96kb/logs</code><br/>\n"
            ],
            "text/plain": [
              "<IPython.core.display.HTML object>"
            ]
          },
          "metadata": {}
        }
      ]
    },
    {
      "cell_type": "code",
      "metadata": {
        "id": "1hRnHuXL7shn"
      },
      "source": [
        ""
      ],
      "execution_count": null,
      "outputs": []
    }
  ]
}