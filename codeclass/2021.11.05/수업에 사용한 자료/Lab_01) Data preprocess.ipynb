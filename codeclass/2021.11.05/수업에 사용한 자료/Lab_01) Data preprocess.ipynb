{
 "cells": [
  {
   "cell_type": "markdown",
   "id": "25cd83a0-7797-4c66-ac79-15b3e4f4a0ee",
   "metadata": {
    "id": "25cd83a0-7797-4c66-ac79-15b3e4f4a0ee"
   },
   "source": [
    "# Lab 1\n",
    "\n",
    "### Context\n",
    "#### Exploratory Data Analysis\n",
    "- Feature Distribution Visulization\n",
    "- Feature Statistics & Outlier\n",
    "- Missing Values\n",
    "\n",
    "#### Data Preprocessing\n",
    "- Data Scaling\n",
    "    - Min-Max Scaling\n",
    "    - Standard Scaling\n",
    "    - Log Transformation\n",
    "    - Box-Cox, Yeo-Johnson, Quantile Transformation\n",
    "\n",
    "\n",
    "- Missing Value Imputation \n",
    "    - Mean, Median, Mode\n",
    "    - Iterative Imputation(MICE)\n",
    "\n",
    "\n",
    "- Categorical Variable to Numeric Variable\n",
    "    - Label Encoding\n",
    "    - One-hot Encoding"
   ]
  },
  {
   "cell_type": "code",
   "execution_count": 3,
   "id": "a56736b6-b2ae-478c-928a-9240aa185f19",
   "metadata": {
    "executionInfo": {
     "elapsed": 890,
     "status": "ok",
     "timestamp": 1627100373457,
     "user": {
      "displayName": "I'm so Seoli",
      "photoUrl": "https://lh3.googleusercontent.com/a-/AOh14GgoGeyLbd3gxLLgPS5f5k5dEcdMQc_ZsAy-42tyJg=s64",
      "userId": "18012903892325475989"
     },
     "user_tz": -540
    },
    "id": "a56736b6-b2ae-478c-928a-9240aa185f19"
   },
   "outputs": [],
   "source": [
    "from os.path import join\n",
    "\n",
    "import numpy as np\n",
    "import pandas as pd\n",
    "\n",
    "import matplotlib.pyplot as plt"
   ]
  },
  {
   "cell_type": "code",
   "execution_count": 4,
   "id": "5bbe570c-89e3-4a5b-8d92-d5bac4721569",
   "metadata": {
    "executionInfo": {
     "elapsed": 2,
     "status": "ok",
     "timestamp": 1627100374386,
     "user": {
      "displayName": "I'm so Seoli",
      "photoUrl": "https://lh3.googleusercontent.com/a-/AOh14GgoGeyLbd3gxLLgPS5f5k5dEcdMQc_ZsAy-42tyJg=s64",
      "userId": "18012903892325475989"
     },
     "user_tz": -540
    },
    "id": "5bbe570c-89e3-4a5b-8d92-d5bac4721569"
   },
   "outputs": [],
   "source": [
    "BASE_DIR = ''"
   ]
  },
  {
   "cell_type": "code",
   "execution_count": 5,
   "id": "3f735f43-492d-462d-af66-a917a142a563",
   "metadata": {
    "executionInfo": {
     "elapsed": 292,
     "status": "ok",
     "timestamp": 1627100757806,
     "user": {
      "displayName": "I'm so Seoli",
      "photoUrl": "https://lh3.googleusercontent.com/a-/AOh14GgoGeyLbd3gxLLgPS5f5k5dEcdMQc_ZsAy-42tyJg=s64",
      "userId": "18012903892325475989"
     },
     "user_tz": -540
    },
    "id": "3f735f43-492d-462d-af66-a917a142a563"
   },
   "outputs": [],
   "source": [
    "train_path = join(BASE_DIR, 'data', 'MDC14', 'train.csv')\n",
    "test_path  = join(BASE_DIR, 'data', 'MDC14', 'test.csv')\n",
    "\n",
    "data = pd.read_csv(train_path)\n",
    "test = pd.read_csv(test_path)"
   ]
  },
  {
   "cell_type": "code",
   "execution_count": 6,
   "id": "e6e770c4-3373-4175-853e-9ed6f937ba99",
   "metadata": {
    "colab": {
     "base_uri": "https://localhost:8080/",
     "height": 379
    },
    "executionInfo": {
     "elapsed": 5,
     "status": "ok",
     "timestamp": 1627100758261,
     "user": {
      "displayName": "I'm so Seoli",
      "photoUrl": "https://lh3.googleusercontent.com/a-/AOh14GgoGeyLbd3gxLLgPS5f5k5dEcdMQc_ZsAy-42tyJg=s64",
      "userId": "18012903892325475989"
     },
     "user_tz": -540
    },
    "id": "e6e770c4-3373-4175-853e-9ed6f937ba99",
    "outputId": "a4dc1a2a-ce5c-4a01-95a1-aef5d6c9a7cd"
   },
   "outputs": [
    {
     "data": {
      "text/html": [
       "<div>\n",
       "<style scoped>\n",
       "    .dataframe tbody tr th:only-of-type {\n",
       "        vertical-align: middle;\n",
       "    }\n",
       "\n",
       "    .dataframe tbody tr th {\n",
       "        vertical-align: top;\n",
       "    }\n",
       "\n",
       "    .dataframe thead th {\n",
       "        text-align: right;\n",
       "    }\n",
       "</style>\n",
       "<table border=\"1\" class=\"dataframe\">\n",
       "  <thead>\n",
       "    <tr style=\"text-align: right;\">\n",
       "      <th></th>\n",
       "      <th>index</th>\n",
       "      <th>gender</th>\n",
       "      <th>car</th>\n",
       "      <th>reality</th>\n",
       "      <th>child_num</th>\n",
       "      <th>income_total</th>\n",
       "      <th>income_type</th>\n",
       "      <th>edu_type</th>\n",
       "      <th>family_type</th>\n",
       "      <th>house_type</th>\n",
       "      <th>DAYS_BIRTH</th>\n",
       "      <th>DAYS_EMPLOYED</th>\n",
       "      <th>FLAG_MOBIL</th>\n",
       "      <th>work_phone</th>\n",
       "      <th>phone</th>\n",
       "      <th>email</th>\n",
       "      <th>occyp_type</th>\n",
       "      <th>family_size</th>\n",
       "      <th>begin_month</th>\n",
       "      <th>credit</th>\n",
       "    </tr>\n",
       "  </thead>\n",
       "  <tbody>\n",
       "    <tr>\n",
       "      <th>0</th>\n",
       "      <td>0</td>\n",
       "      <td>F</td>\n",
       "      <td>N</td>\n",
       "      <td>N</td>\n",
       "      <td>0</td>\n",
       "      <td>202500.0</td>\n",
       "      <td>Commercial associate</td>\n",
       "      <td>Higher education</td>\n",
       "      <td>Married</td>\n",
       "      <td>Municipal apartment</td>\n",
       "      <td>-13899</td>\n",
       "      <td>-4709</td>\n",
       "      <td>1</td>\n",
       "      <td>0</td>\n",
       "      <td>0</td>\n",
       "      <td>0</td>\n",
       "      <td>NaN</td>\n",
       "      <td>2.0</td>\n",
       "      <td>-6.0</td>\n",
       "      <td>1.0</td>\n",
       "    </tr>\n",
       "    <tr>\n",
       "      <th>1</th>\n",
       "      <td>1</td>\n",
       "      <td>F</td>\n",
       "      <td>N</td>\n",
       "      <td>Y</td>\n",
       "      <td>1</td>\n",
       "      <td>247500.0</td>\n",
       "      <td>Commercial associate</td>\n",
       "      <td>Secondary / secondary special</td>\n",
       "      <td>Civil marriage</td>\n",
       "      <td>House / apartment</td>\n",
       "      <td>-11380</td>\n",
       "      <td>-1540</td>\n",
       "      <td>1</td>\n",
       "      <td>0</td>\n",
       "      <td>0</td>\n",
       "      <td>1</td>\n",
       "      <td>Laborers</td>\n",
       "      <td>3.0</td>\n",
       "      <td>-5.0</td>\n",
       "      <td>1.0</td>\n",
       "    </tr>\n",
       "    <tr>\n",
       "      <th>2</th>\n",
       "      <td>2</td>\n",
       "      <td>M</td>\n",
       "      <td>Y</td>\n",
       "      <td>Y</td>\n",
       "      <td>0</td>\n",
       "      <td>450000.0</td>\n",
       "      <td>Working</td>\n",
       "      <td>Higher education</td>\n",
       "      <td>Married</td>\n",
       "      <td>House / apartment</td>\n",
       "      <td>-19087</td>\n",
       "      <td>-4434</td>\n",
       "      <td>1</td>\n",
       "      <td>0</td>\n",
       "      <td>1</td>\n",
       "      <td>0</td>\n",
       "      <td>Managers</td>\n",
       "      <td>2.0</td>\n",
       "      <td>-22.0</td>\n",
       "      <td>2.0</td>\n",
       "    </tr>\n",
       "    <tr>\n",
       "      <th>3</th>\n",
       "      <td>3</td>\n",
       "      <td>F</td>\n",
       "      <td>N</td>\n",
       "      <td>Y</td>\n",
       "      <td>0</td>\n",
       "      <td>202500.0</td>\n",
       "      <td>Commercial associate</td>\n",
       "      <td>Secondary / secondary special</td>\n",
       "      <td>Married</td>\n",
       "      <td>House / apartment</td>\n",
       "      <td>-15088</td>\n",
       "      <td>-2092</td>\n",
       "      <td>1</td>\n",
       "      <td>0</td>\n",
       "      <td>1</td>\n",
       "      <td>0</td>\n",
       "      <td>Sales staff</td>\n",
       "      <td>2.0</td>\n",
       "      <td>-37.0</td>\n",
       "      <td>0.0</td>\n",
       "    </tr>\n",
       "    <tr>\n",
       "      <th>4</th>\n",
       "      <td>4</td>\n",
       "      <td>F</td>\n",
       "      <td>Y</td>\n",
       "      <td>Y</td>\n",
       "      <td>0</td>\n",
       "      <td>157500.0</td>\n",
       "      <td>State servant</td>\n",
       "      <td>Higher education</td>\n",
       "      <td>Married</td>\n",
       "      <td>House / apartment</td>\n",
       "      <td>-15037</td>\n",
       "      <td>-2105</td>\n",
       "      <td>1</td>\n",
       "      <td>0</td>\n",
       "      <td>0</td>\n",
       "      <td>0</td>\n",
       "      <td>Managers</td>\n",
       "      <td>2.0</td>\n",
       "      <td>-26.0</td>\n",
       "      <td>2.0</td>\n",
       "    </tr>\n",
       "  </tbody>\n",
       "</table>\n",
       "</div>"
      ],
      "text/plain": [
       "   index gender car reality  child_num  income_total           income_type  \\\n",
       "0      0      F   N       N          0      202500.0  Commercial associate   \n",
       "1      1      F   N       Y          1      247500.0  Commercial associate   \n",
       "2      2      M   Y       Y          0      450000.0               Working   \n",
       "3      3      F   N       Y          0      202500.0  Commercial associate   \n",
       "4      4      F   Y       Y          0      157500.0         State servant   \n",
       "\n",
       "                        edu_type     family_type           house_type  \\\n",
       "0               Higher education         Married  Municipal apartment   \n",
       "1  Secondary / secondary special  Civil marriage    House / apartment   \n",
       "2               Higher education         Married    House / apartment   \n",
       "3  Secondary / secondary special         Married    House / apartment   \n",
       "4               Higher education         Married    House / apartment   \n",
       "\n",
       "   DAYS_BIRTH  DAYS_EMPLOYED  FLAG_MOBIL  work_phone  phone  email  \\\n",
       "0      -13899          -4709           1           0      0      0   \n",
       "1      -11380          -1540           1           0      0      1   \n",
       "2      -19087          -4434           1           0      1      0   \n",
       "3      -15088          -2092           1           0      1      0   \n",
       "4      -15037          -2105           1           0      0      0   \n",
       "\n",
       "    occyp_type  family_size  begin_month  credit  \n",
       "0          NaN          2.0         -6.0     1.0  \n",
       "1     Laborers          3.0         -5.0     1.0  \n",
       "2     Managers          2.0        -22.0     2.0  \n",
       "3  Sales staff          2.0        -37.0     0.0  \n",
       "4     Managers          2.0        -26.0     2.0  "
      ]
     },
     "execution_count": 6,
     "metadata": {},
     "output_type": "execute_result"
    }
   ],
   "source": [
    "data.head()"
   ]
  },
  {
   "cell_type": "code",
   "execution_count": 9,
   "id": "ba504319-a576-4e77-9746-7793d7fa0a89",
   "metadata": {},
   "outputs": [
    {
     "data": {
      "text/html": [
       "<div>\n",
       "<style scoped>\n",
       "    .dataframe tbody tr th:only-of-type {\n",
       "        vertical-align: middle;\n",
       "    }\n",
       "\n",
       "    .dataframe tbody tr th {\n",
       "        vertical-align: top;\n",
       "    }\n",
       "\n",
       "    .dataframe thead th {\n",
       "        text-align: right;\n",
       "    }\n",
       "</style>\n",
       "<table border=\"1\" class=\"dataframe\">\n",
       "  <thead>\n",
       "    <tr style=\"text-align: right;\">\n",
       "      <th></th>\n",
       "      <th>index</th>\n",
       "      <th>gender</th>\n",
       "      <th>car</th>\n",
       "      <th>reality</th>\n",
       "      <th>child_num</th>\n",
       "      <th>income_total</th>\n",
       "      <th>income_type</th>\n",
       "      <th>edu_type</th>\n",
       "      <th>family_type</th>\n",
       "      <th>house_type</th>\n",
       "      <th>DAYS_BIRTH</th>\n",
       "      <th>DAYS_EMPLOYED</th>\n",
       "      <th>FLAG_MOBIL</th>\n",
       "      <th>work_phone</th>\n",
       "      <th>phone</th>\n",
       "      <th>email</th>\n",
       "      <th>occyp_type</th>\n",
       "      <th>family_size</th>\n",
       "      <th>begin_month</th>\n",
       "    </tr>\n",
       "  </thead>\n",
       "  <tbody>\n",
       "    <tr>\n",
       "      <th>0</th>\n",
       "      <td>26457</td>\n",
       "      <td>M</td>\n",
       "      <td>Y</td>\n",
       "      <td>N</td>\n",
       "      <td>0</td>\n",
       "      <td>112500.0</td>\n",
       "      <td>Pensioner</td>\n",
       "      <td>Secondary / secondary special</td>\n",
       "      <td>Civil marriage</td>\n",
       "      <td>House / apartment</td>\n",
       "      <td>-21990</td>\n",
       "      <td>365243</td>\n",
       "      <td>1</td>\n",
       "      <td>0</td>\n",
       "      <td>1</td>\n",
       "      <td>0</td>\n",
       "      <td>NaN</td>\n",
       "      <td>2.0</td>\n",
       "      <td>-60.0</td>\n",
       "    </tr>\n",
       "    <tr>\n",
       "      <th>1</th>\n",
       "      <td>26458</td>\n",
       "      <td>F</td>\n",
       "      <td>N</td>\n",
       "      <td>Y</td>\n",
       "      <td>0</td>\n",
       "      <td>135000.0</td>\n",
       "      <td>State servant</td>\n",
       "      <td>Higher education</td>\n",
       "      <td>Married</td>\n",
       "      <td>House / apartment</td>\n",
       "      <td>-18964</td>\n",
       "      <td>-8671</td>\n",
       "      <td>1</td>\n",
       "      <td>0</td>\n",
       "      <td>1</td>\n",
       "      <td>0</td>\n",
       "      <td>Core staff</td>\n",
       "      <td>2.0</td>\n",
       "      <td>-36.0</td>\n",
       "    </tr>\n",
       "    <tr>\n",
       "      <th>2</th>\n",
       "      <td>26459</td>\n",
       "      <td>F</td>\n",
       "      <td>N</td>\n",
       "      <td>Y</td>\n",
       "      <td>0</td>\n",
       "      <td>69372.0</td>\n",
       "      <td>Working</td>\n",
       "      <td>Secondary / secondary special</td>\n",
       "      <td>Married</td>\n",
       "      <td>House / apartment</td>\n",
       "      <td>-15887</td>\n",
       "      <td>-217</td>\n",
       "      <td>1</td>\n",
       "      <td>1</td>\n",
       "      <td>1</td>\n",
       "      <td>0</td>\n",
       "      <td>Laborers</td>\n",
       "      <td>2.0</td>\n",
       "      <td>-40.0</td>\n",
       "    </tr>\n",
       "    <tr>\n",
       "      <th>3</th>\n",
       "      <td>26460</td>\n",
       "      <td>M</td>\n",
       "      <td>Y</td>\n",
       "      <td>N</td>\n",
       "      <td>0</td>\n",
       "      <td>112500.0</td>\n",
       "      <td>Commercial associate</td>\n",
       "      <td>Secondary / secondary special</td>\n",
       "      <td>Married</td>\n",
       "      <td>House / apartment</td>\n",
       "      <td>-19270</td>\n",
       "      <td>-2531</td>\n",
       "      <td>1</td>\n",
       "      <td>1</td>\n",
       "      <td>0</td>\n",
       "      <td>0</td>\n",
       "      <td>Drivers</td>\n",
       "      <td>2.0</td>\n",
       "      <td>-41.0</td>\n",
       "    </tr>\n",
       "    <tr>\n",
       "      <th>4</th>\n",
       "      <td>26461</td>\n",
       "      <td>F</td>\n",
       "      <td>Y</td>\n",
       "      <td>Y</td>\n",
       "      <td>0</td>\n",
       "      <td>225000.0</td>\n",
       "      <td>State servant</td>\n",
       "      <td>Higher education</td>\n",
       "      <td>Married</td>\n",
       "      <td>House / apartment</td>\n",
       "      <td>-17822</td>\n",
       "      <td>-9385</td>\n",
       "      <td>1</td>\n",
       "      <td>1</td>\n",
       "      <td>0</td>\n",
       "      <td>0</td>\n",
       "      <td>Managers</td>\n",
       "      <td>2.0</td>\n",
       "      <td>-8.0</td>\n",
       "    </tr>\n",
       "  </tbody>\n",
       "</table>\n",
       "</div>"
      ],
      "text/plain": [
       "   index gender car reality  child_num  income_total           income_type  \\\n",
       "0  26457      M   Y       N          0      112500.0             Pensioner   \n",
       "1  26458      F   N       Y          0      135000.0         State servant   \n",
       "2  26459      F   N       Y          0       69372.0               Working   \n",
       "3  26460      M   Y       N          0      112500.0  Commercial associate   \n",
       "4  26461      F   Y       Y          0      225000.0         State servant   \n",
       "\n",
       "                        edu_type     family_type         house_type  \\\n",
       "0  Secondary / secondary special  Civil marriage  House / apartment   \n",
       "1               Higher education         Married  House / apartment   \n",
       "2  Secondary / secondary special         Married  House / apartment   \n",
       "3  Secondary / secondary special         Married  House / apartment   \n",
       "4               Higher education         Married  House / apartment   \n",
       "\n",
       "   DAYS_BIRTH  DAYS_EMPLOYED  FLAG_MOBIL  work_phone  phone  email  \\\n",
       "0      -21990         365243           1           0      1      0   \n",
       "1      -18964          -8671           1           0      1      0   \n",
       "2      -15887           -217           1           1      1      0   \n",
       "3      -19270          -2531           1           1      0      0   \n",
       "4      -17822          -9385           1           1      0      0   \n",
       "\n",
       "   occyp_type  family_size  begin_month  \n",
       "0         NaN          2.0        -60.0  \n",
       "1  Core staff          2.0        -36.0  \n",
       "2    Laborers          2.0        -40.0  \n",
       "3     Drivers          2.0        -41.0  \n",
       "4    Managers          2.0         -8.0  "
      ]
     },
     "execution_count": 9,
     "metadata": {},
     "output_type": "execute_result"
    }
   ],
   "source": [
    "test.head()"
   ]
  },
  {
   "cell_type": "code",
   "execution_count": 7,
   "id": "10c5f7b0-4190-492b-af00-5881f505efe9",
   "metadata": {},
   "outputs": [
    {
     "data": {
      "text/html": [
       "<div>\n",
       "<style scoped>\n",
       "    .dataframe tbody tr th:only-of-type {\n",
       "        vertical-align: middle;\n",
       "    }\n",
       "\n",
       "    .dataframe tbody tr th {\n",
       "        vertical-align: top;\n",
       "    }\n",
       "\n",
       "    .dataframe thead th {\n",
       "        text-align: right;\n",
       "    }\n",
       "</style>\n",
       "<table border=\"1\" class=\"dataframe\">\n",
       "  <thead>\n",
       "    <tr style=\"text-align: right;\">\n",
       "      <th></th>\n",
       "      <th>index</th>\n",
       "      <th>child_num</th>\n",
       "      <th>income_total</th>\n",
       "      <th>DAYS_BIRTH</th>\n",
       "      <th>DAYS_EMPLOYED</th>\n",
       "      <th>FLAG_MOBIL</th>\n",
       "      <th>work_phone</th>\n",
       "      <th>phone</th>\n",
       "      <th>email</th>\n",
       "      <th>family_size</th>\n",
       "      <th>begin_month</th>\n",
       "      <th>credit</th>\n",
       "    </tr>\n",
       "  </thead>\n",
       "  <tbody>\n",
       "    <tr>\n",
       "      <th>count</th>\n",
       "      <td>26457.000000</td>\n",
       "      <td>26457.000000</td>\n",
       "      <td>2.645700e+04</td>\n",
       "      <td>26457.000000</td>\n",
       "      <td>26457.000000</td>\n",
       "      <td>26457.0</td>\n",
       "      <td>26457.000000</td>\n",
       "      <td>26457.000000</td>\n",
       "      <td>26457.000000</td>\n",
       "      <td>26457.000000</td>\n",
       "      <td>26457.000000</td>\n",
       "      <td>26457.000000</td>\n",
       "    </tr>\n",
       "    <tr>\n",
       "      <th>mean</th>\n",
       "      <td>13228.000000</td>\n",
       "      <td>0.428658</td>\n",
       "      <td>1.873065e+05</td>\n",
       "      <td>-15958.053899</td>\n",
       "      <td>59068.750728</td>\n",
       "      <td>1.0</td>\n",
       "      <td>0.224742</td>\n",
       "      <td>0.294251</td>\n",
       "      <td>0.091280</td>\n",
       "      <td>2.196848</td>\n",
       "      <td>-26.123294</td>\n",
       "      <td>1.519560</td>\n",
       "    </tr>\n",
       "    <tr>\n",
       "      <th>std</th>\n",
       "      <td>7637.622372</td>\n",
       "      <td>0.747326</td>\n",
       "      <td>1.018784e+05</td>\n",
       "      <td>4201.589022</td>\n",
       "      <td>137475.427503</td>\n",
       "      <td>0.0</td>\n",
       "      <td>0.417420</td>\n",
       "      <td>0.455714</td>\n",
       "      <td>0.288013</td>\n",
       "      <td>0.916717</td>\n",
       "      <td>16.559550</td>\n",
       "      <td>0.702283</td>\n",
       "    </tr>\n",
       "    <tr>\n",
       "      <th>min</th>\n",
       "      <td>0.000000</td>\n",
       "      <td>0.000000</td>\n",
       "      <td>2.700000e+04</td>\n",
       "      <td>-25152.000000</td>\n",
       "      <td>-15713.000000</td>\n",
       "      <td>1.0</td>\n",
       "      <td>0.000000</td>\n",
       "      <td>0.000000</td>\n",
       "      <td>0.000000</td>\n",
       "      <td>1.000000</td>\n",
       "      <td>-60.000000</td>\n",
       "      <td>0.000000</td>\n",
       "    </tr>\n",
       "    <tr>\n",
       "      <th>25%</th>\n",
       "      <td>6614.000000</td>\n",
       "      <td>0.000000</td>\n",
       "      <td>1.215000e+05</td>\n",
       "      <td>-19431.000000</td>\n",
       "      <td>-3153.000000</td>\n",
       "      <td>1.0</td>\n",
       "      <td>0.000000</td>\n",
       "      <td>0.000000</td>\n",
       "      <td>0.000000</td>\n",
       "      <td>2.000000</td>\n",
       "      <td>-39.000000</td>\n",
       "      <td>1.000000</td>\n",
       "    </tr>\n",
       "    <tr>\n",
       "      <th>50%</th>\n",
       "      <td>13228.000000</td>\n",
       "      <td>0.000000</td>\n",
       "      <td>1.575000e+05</td>\n",
       "      <td>-15547.000000</td>\n",
       "      <td>-1539.000000</td>\n",
       "      <td>1.0</td>\n",
       "      <td>0.000000</td>\n",
       "      <td>0.000000</td>\n",
       "      <td>0.000000</td>\n",
       "      <td>2.000000</td>\n",
       "      <td>-24.000000</td>\n",
       "      <td>2.000000</td>\n",
       "    </tr>\n",
       "    <tr>\n",
       "      <th>75%</th>\n",
       "      <td>19842.000000</td>\n",
       "      <td>1.000000</td>\n",
       "      <td>2.250000e+05</td>\n",
       "      <td>-12446.000000</td>\n",
       "      <td>-407.000000</td>\n",
       "      <td>1.0</td>\n",
       "      <td>0.000000</td>\n",
       "      <td>1.000000</td>\n",
       "      <td>0.000000</td>\n",
       "      <td>3.000000</td>\n",
       "      <td>-12.000000</td>\n",
       "      <td>2.000000</td>\n",
       "    </tr>\n",
       "    <tr>\n",
       "      <th>max</th>\n",
       "      <td>26456.000000</td>\n",
       "      <td>19.000000</td>\n",
       "      <td>1.575000e+06</td>\n",
       "      <td>-7705.000000</td>\n",
       "      <td>365243.000000</td>\n",
       "      <td>1.0</td>\n",
       "      <td>1.000000</td>\n",
       "      <td>1.000000</td>\n",
       "      <td>1.000000</td>\n",
       "      <td>20.000000</td>\n",
       "      <td>0.000000</td>\n",
       "      <td>2.000000</td>\n",
       "    </tr>\n",
       "  </tbody>\n",
       "</table>\n",
       "</div>"
      ],
      "text/plain": [
       "              index     child_num  income_total    DAYS_BIRTH  DAYS_EMPLOYED  \\\n",
       "count  26457.000000  26457.000000  2.645700e+04  26457.000000   26457.000000   \n",
       "mean   13228.000000      0.428658  1.873065e+05 -15958.053899   59068.750728   \n",
       "std     7637.622372      0.747326  1.018784e+05   4201.589022  137475.427503   \n",
       "min        0.000000      0.000000  2.700000e+04 -25152.000000  -15713.000000   \n",
       "25%     6614.000000      0.000000  1.215000e+05 -19431.000000   -3153.000000   \n",
       "50%    13228.000000      0.000000  1.575000e+05 -15547.000000   -1539.000000   \n",
       "75%    19842.000000      1.000000  2.250000e+05 -12446.000000    -407.000000   \n",
       "max    26456.000000     19.000000  1.575000e+06  -7705.000000  365243.000000   \n",
       "\n",
       "       FLAG_MOBIL    work_phone         phone         email   family_size  \\\n",
       "count     26457.0  26457.000000  26457.000000  26457.000000  26457.000000   \n",
       "mean          1.0      0.224742      0.294251      0.091280      2.196848   \n",
       "std           0.0      0.417420      0.455714      0.288013      0.916717   \n",
       "min           1.0      0.000000      0.000000      0.000000      1.000000   \n",
       "25%           1.0      0.000000      0.000000      0.000000      2.000000   \n",
       "50%           1.0      0.000000      0.000000      0.000000      2.000000   \n",
       "75%           1.0      0.000000      1.000000      0.000000      3.000000   \n",
       "max           1.0      1.000000      1.000000      1.000000     20.000000   \n",
       "\n",
       "        begin_month        credit  \n",
       "count  26457.000000  26457.000000  \n",
       "mean     -26.123294      1.519560  \n",
       "std       16.559550      0.702283  \n",
       "min      -60.000000      0.000000  \n",
       "25%      -39.000000      1.000000  \n",
       "50%      -24.000000      2.000000  \n",
       "75%      -12.000000      2.000000  \n",
       "max        0.000000      2.000000  "
      ]
     },
     "execution_count": 7,
     "metadata": {},
     "output_type": "execute_result"
    }
   ],
   "source": [
    "data.describe()"
   ]
  },
  {
   "cell_type": "code",
   "execution_count": 8,
   "id": "16b5a105-968c-42c7-87a8-1196976534b8",
   "metadata": {},
   "outputs": [
    {
     "name": "stdout",
     "output_type": "stream",
     "text": [
      "<class 'pandas.core.frame.DataFrame'>\n",
      "RangeIndex: 26457 entries, 0 to 26456\n",
      "Data columns (total 20 columns):\n",
      " #   Column         Non-Null Count  Dtype  \n",
      "---  ------         --------------  -----  \n",
      " 0   index          26457 non-null  int64  \n",
      " 1   gender         26457 non-null  object \n",
      " 2   car            26457 non-null  object \n",
      " 3   reality        26457 non-null  object \n",
      " 4   child_num      26457 non-null  int64  \n",
      " 5   income_total   26457 non-null  float64\n",
      " 6   income_type    26457 non-null  object \n",
      " 7   edu_type       26457 non-null  object \n",
      " 8   family_type    26457 non-null  object \n",
      " 9   house_type     26457 non-null  object \n",
      " 10  DAYS_BIRTH     26457 non-null  int64  \n",
      " 11  DAYS_EMPLOYED  26457 non-null  int64  \n",
      " 12  FLAG_MOBIL     26457 non-null  int64  \n",
      " 13  work_phone     26457 non-null  int64  \n",
      " 14  phone          26457 non-null  int64  \n",
      " 15  email          26457 non-null  int64  \n",
      " 16  occyp_type     18286 non-null  object \n",
      " 17  family_size    26457 non-null  float64\n",
      " 18  begin_month    26457 non-null  float64\n",
      " 19  credit         26457 non-null  float64\n",
      "dtypes: float64(4), int64(8), object(8)\n",
      "memory usage: 4.0+ MB\n"
     ]
    }
   ],
   "source": [
    "data.info()"
   ]
  },
  {
   "cell_type": "code",
   "execution_count": 14,
   "id": "5e80a967-8a35-469b-bb56-9787e85d3226",
   "metadata": {},
   "outputs": [],
   "source": [
    "# ?data.drop"
   ]
  },
  {
   "cell_type": "code",
   "execution_count": 10,
   "id": "10165396-6c31-40a2-a8c3-80f8f8e4db52",
   "metadata": {
    "executionInfo": {
     "elapsed": 1,
     "status": "ok",
     "timestamp": 1627100758961,
     "user": {
      "displayName": "I'm so Seoli",
      "photoUrl": "https://lh3.googleusercontent.com/a-/AOh14GgoGeyLbd3gxLLgPS5f5k5dEcdMQc_ZsAy-42tyJg=s64",
      "userId": "18012903892325475989"
     },
     "user_tz": -540
    },
    "id": "10165396-6c31-40a2-a8c3-80f8f8e4db52"
   },
   "outputs": [],
   "source": [
    "# 불필요한 컬럼 제거\n",
    "data.drop(columns=['index', 'credit'], inplace=True)\n",
    "test.drop(columns=['index'],           inplace=True)"
   ]
  },
  {
   "cell_type": "code",
   "execution_count": 27,
   "id": "4bd679ec-3700-4e20-9b2e-e877982667a2",
   "metadata": {},
   "outputs": [],
   "source": [
    "# data.dtypes.index"
   ]
  },
  {
   "cell_type": "code",
   "execution_count": 28,
   "id": "25fb94e3-0fa7-42ec-adc1-1c22ecdb635f",
   "metadata": {},
   "outputs": [],
   "source": [
    "# [c for c in data.dtypes.index]"
   ]
  },
  {
   "cell_type": "code",
   "execution_count": 29,
   "id": "c7a0576b-3cd9-49fb-a74b-2d95c393224e",
   "metadata": {},
   "outputs": [],
   "source": [
    "# [c for c in data.dtypes.index if len(c) < 5]"
   ]
  },
  {
   "cell_type": "code",
   "execution_count": 30,
   "id": "ea0993d0-a80a-407f-b846-619629d292ca",
   "metadata": {},
   "outputs": [],
   "source": [
    "# for c, t in zip(data.dtypes.index, data.dtypes):\n",
    "#     print(c, t)"
   ]
  },
  {
   "cell_type": "code",
   "execution_count": 11,
   "id": "cb22b96a-9b79-4b8e-9e08-dd223373152f",
   "metadata": {
    "colab": {
     "base_uri": "https://localhost:8080/"
    },
    "executionInfo": {
     "elapsed": 308,
     "status": "ok",
     "timestamp": 1627100812568,
     "user": {
      "displayName": "I'm so Seoli",
      "photoUrl": "https://lh3.googleusercontent.com/a-/AOh14GgoGeyLbd3gxLLgPS5f5k5dEcdMQc_ZsAy-42tyJg=s64",
      "userId": "18012903892325475989"
     },
     "user_tz": -540
    },
    "id": "cb22b96a-9b79-4b8e-9e08-dd223373152f",
    "outputId": "36799f4a-f962-4271-eca8-157fc0ccb23f"
   },
   "outputs": [
    {
     "name": "stdout",
     "output_type": "stream",
     "text": [
      "Categorical Columns: \n",
      "['gender', 'car', 'reality', 'income_type', 'edu_type', 'family_type', 'house_type', 'occyp_type']\n",
      "\n",
      "Numeric Columns: \n",
      "['child_num', 'income_total', 'DAYS_BIRTH', 'DAYS_EMPLOYED', 'FLAG_MOBIL', 'work_phone', 'phone', 'email', 'family_size', 'begin_month']\n"
     ]
    }
   ],
   "source": [
    "# 파이썬 리스트 컴프리헨션\n",
    "cat_columns = [c for c, t in zip(data.dtypes.index, data.dtypes.values) if t == 'O'] \n",
    "num_columns = [c for c    in data.dtypes.index if c not in cat_columns]\n",
    "\n",
    "print('Categorical Columns: \\n{}\\n'.format(cat_columns))\n",
    "print('Numeric Columns: \\n{}'.format(num_columns))"
   ]
  },
  {
   "cell_type": "code",
   "execution_count": 12,
   "id": "bb3892de-60b7-4551-94a4-42df8b5ceb98",
   "metadata": {
    "colab": {
     "base_uri": "https://localhost:8080/",
     "height": 318
    },
    "executionInfo": {
     "elapsed": 307,
     "status": "ok",
     "timestamp": 1627101087105,
     "user": {
      "displayName": "I'm so Seoli",
      "photoUrl": "https://lh3.googleusercontent.com/a-/AOh14GgoGeyLbd3gxLLgPS5f5k5dEcdMQc_ZsAy-42tyJg=s64",
      "userId": "18012903892325475989"
     },
     "user_tz": -540
    },
    "id": "bb3892de-60b7-4551-94a4-42df8b5ceb98",
    "outputId": "a7b33526-99e4-4233-b5a4-9727b5606d00"
   },
   "outputs": [
    {
     "data": {
      "text/html": [
       "<div>\n",
       "<style scoped>\n",
       "    .dataframe tbody tr th:only-of-type {\n",
       "        vertical-align: middle;\n",
       "    }\n",
       "\n",
       "    .dataframe tbody tr th {\n",
       "        vertical-align: top;\n",
       "    }\n",
       "\n",
       "    .dataframe thead th {\n",
       "        text-align: right;\n",
       "    }\n",
       "</style>\n",
       "<table border=\"1\" class=\"dataframe\">\n",
       "  <thead>\n",
       "    <tr style=\"text-align: right;\">\n",
       "      <th></th>\n",
       "      <th>child_num</th>\n",
       "      <th>income_total</th>\n",
       "      <th>DAYS_BIRTH</th>\n",
       "      <th>DAYS_EMPLOYED</th>\n",
       "      <th>FLAG_MOBIL</th>\n",
       "      <th>work_phone</th>\n",
       "      <th>phone</th>\n",
       "      <th>email</th>\n",
       "      <th>family_size</th>\n",
       "      <th>begin_month</th>\n",
       "    </tr>\n",
       "  </thead>\n",
       "  <tbody>\n",
       "    <tr>\n",
       "      <th>count</th>\n",
       "      <td>26457.000000</td>\n",
       "      <td>2.645700e+04</td>\n",
       "      <td>26457.000000</td>\n",
       "      <td>26457.000000</td>\n",
       "      <td>26457.0</td>\n",
       "      <td>26457.000000</td>\n",
       "      <td>26457.000000</td>\n",
       "      <td>26457.000000</td>\n",
       "      <td>26457.000000</td>\n",
       "      <td>26457.000000</td>\n",
       "    </tr>\n",
       "    <tr>\n",
       "      <th>mean</th>\n",
       "      <td>0.428658</td>\n",
       "      <td>1.873065e+05</td>\n",
       "      <td>-15958.053899</td>\n",
       "      <td>59068.750728</td>\n",
       "      <td>1.0</td>\n",
       "      <td>0.224742</td>\n",
       "      <td>0.294251</td>\n",
       "      <td>0.091280</td>\n",
       "      <td>2.196848</td>\n",
       "      <td>-26.123294</td>\n",
       "    </tr>\n",
       "    <tr>\n",
       "      <th>std</th>\n",
       "      <td>0.747326</td>\n",
       "      <td>1.018784e+05</td>\n",
       "      <td>4201.589022</td>\n",
       "      <td>137475.427503</td>\n",
       "      <td>0.0</td>\n",
       "      <td>0.417420</td>\n",
       "      <td>0.455714</td>\n",
       "      <td>0.288013</td>\n",
       "      <td>0.916717</td>\n",
       "      <td>16.559550</td>\n",
       "    </tr>\n",
       "    <tr>\n",
       "      <th>min</th>\n",
       "      <td>0.000000</td>\n",
       "      <td>2.700000e+04</td>\n",
       "      <td>-25152.000000</td>\n",
       "      <td>-15713.000000</td>\n",
       "      <td>1.0</td>\n",
       "      <td>0.000000</td>\n",
       "      <td>0.000000</td>\n",
       "      <td>0.000000</td>\n",
       "      <td>1.000000</td>\n",
       "      <td>-60.000000</td>\n",
       "    </tr>\n",
       "    <tr>\n",
       "      <th>25%</th>\n",
       "      <td>0.000000</td>\n",
       "      <td>1.215000e+05</td>\n",
       "      <td>-19431.000000</td>\n",
       "      <td>-3153.000000</td>\n",
       "      <td>1.0</td>\n",
       "      <td>0.000000</td>\n",
       "      <td>0.000000</td>\n",
       "      <td>0.000000</td>\n",
       "      <td>2.000000</td>\n",
       "      <td>-39.000000</td>\n",
       "    </tr>\n",
       "    <tr>\n",
       "      <th>50%</th>\n",
       "      <td>0.000000</td>\n",
       "      <td>1.575000e+05</td>\n",
       "      <td>-15547.000000</td>\n",
       "      <td>-1539.000000</td>\n",
       "      <td>1.0</td>\n",
       "      <td>0.000000</td>\n",
       "      <td>0.000000</td>\n",
       "      <td>0.000000</td>\n",
       "      <td>2.000000</td>\n",
       "      <td>-24.000000</td>\n",
       "    </tr>\n",
       "    <tr>\n",
       "      <th>75%</th>\n",
       "      <td>1.000000</td>\n",
       "      <td>2.250000e+05</td>\n",
       "      <td>-12446.000000</td>\n",
       "      <td>-407.000000</td>\n",
       "      <td>1.0</td>\n",
       "      <td>0.000000</td>\n",
       "      <td>1.000000</td>\n",
       "      <td>0.000000</td>\n",
       "      <td>3.000000</td>\n",
       "      <td>-12.000000</td>\n",
       "    </tr>\n",
       "    <tr>\n",
       "      <th>max</th>\n",
       "      <td>19.000000</td>\n",
       "      <td>1.575000e+06</td>\n",
       "      <td>-7705.000000</td>\n",
       "      <td>365243.000000</td>\n",
       "      <td>1.0</td>\n",
       "      <td>1.000000</td>\n",
       "      <td>1.000000</td>\n",
       "      <td>1.000000</td>\n",
       "      <td>20.000000</td>\n",
       "      <td>0.000000</td>\n",
       "    </tr>\n",
       "  </tbody>\n",
       "</table>\n",
       "</div>"
      ],
      "text/plain": [
       "          child_num  income_total    DAYS_BIRTH  DAYS_EMPLOYED  FLAG_MOBIL  \\\n",
       "count  26457.000000  2.645700e+04  26457.000000   26457.000000     26457.0   \n",
       "mean       0.428658  1.873065e+05 -15958.053899   59068.750728         1.0   \n",
       "std        0.747326  1.018784e+05   4201.589022  137475.427503         0.0   \n",
       "min        0.000000  2.700000e+04 -25152.000000  -15713.000000         1.0   \n",
       "25%        0.000000  1.215000e+05 -19431.000000   -3153.000000         1.0   \n",
       "50%        0.000000  1.575000e+05 -15547.000000   -1539.000000         1.0   \n",
       "75%        1.000000  2.250000e+05 -12446.000000    -407.000000         1.0   \n",
       "max       19.000000  1.575000e+06  -7705.000000  365243.000000         1.0   \n",
       "\n",
       "         work_phone         phone         email   family_size   begin_month  \n",
       "count  26457.000000  26457.000000  26457.000000  26457.000000  26457.000000  \n",
       "mean       0.224742      0.294251      0.091280      2.196848    -26.123294  \n",
       "std        0.417420      0.455714      0.288013      0.916717     16.559550  \n",
       "min        0.000000      0.000000      0.000000      1.000000    -60.000000  \n",
       "25%        0.000000      0.000000      0.000000      2.000000    -39.000000  \n",
       "50%        0.000000      0.000000      0.000000      2.000000    -24.000000  \n",
       "75%        0.000000      1.000000      0.000000      3.000000    -12.000000  \n",
       "max        1.000000      1.000000      1.000000     20.000000      0.000000  "
      ]
     },
     "execution_count": 12,
     "metadata": {},
     "output_type": "execute_result"
    }
   ],
   "source": [
    "data.describe()"
   ]
  },
  {
   "cell_type": "markdown",
   "id": "4c34ada3-e98e-445a-a67a-21baae6df1ae",
   "metadata": {
    "id": "4c34ada3-e98e-445a-a67a-21baae6df1ae"
   },
   "source": [
    "# Data Scaling\n",
    "## 스케일링을 왜 해야할까요?\n",
    "변수의 크기가 너무 작거나, 너무 큰 경우 해당 변수가 Target 에 미치는 영향력이 제대로 표현되지 않을 수 있습니다.<br>\n",
    "Scikit-Learn의 대표적인 스케일링 함수로는 특정 변수의 최대, 최소 값으로 조절하는 Min-Max 스케일링과 z-정규화를 이용한 Standard 스케일링이 있습니다.\n",
    "\n",
    "- 주의!! 스케일링은 변수의 분포를 변경하지 않습니다. \n",
    "\n",
    "### 1. Min-Max Scaling\n",
    "- Min-Max 스케일링을 하면, 값의 범위가 0 ~ 1 사이로 변경됩니다. <br> \n",
    "수식을 직관적으로 이해해보면, X에 존재하는 어떤 가장 작은 값 x <sub>m</sub>에 대해서 x <sub>m</sub>는 Min(X)의 값과 같습니다. <br>\n",
    "따라서 스케일링 후 x<sub>m</sub>은 0이되고, X에 존재하는 어떤 가장 큰 값x <sub>M</sub>은 분모의 식과 같아지므로 1이됩니다.\n",
    "\n",
    "$$ x - Min(X) \\over Max(X) - Min(X) $$<br>\n",
    "$$X : 데이터\\ 셋 $$\n",
    "$$ x : 데이터\\ 샘플 $$ \n",
    "\n",
    "Scikit-Learn에서 Min-Max Scaler는 preprocessing 패키지에 있습니다.\n",
    "\n",
    "#### ref\n",
    "- [Scikit-learn Min-Max Scaler](https://scikit-learn.org/stable/modules/generated/sklearn.preprocessing.MinMaxScaler.html?highlight=minmax#sklearn.preprocessing.MinMaxScaler)"
   ]
  },
  {
   "cell_type": "code",
   "execution_count": 32,
   "id": "5c2929d0-aa6b-4184-abf2-6c8bf71b1d20",
   "metadata": {},
   "outputs": [
    {
     "data": {
      "text/plain": [
       "0       -13899\n",
       "1       -11380\n",
       "2       -19087\n",
       "3       -15088\n",
       "4       -15037\n",
       "         ...  \n",
       "26452   -12079\n",
       "26453   -15291\n",
       "26454   -10082\n",
       "26455   -10145\n",
       "26456   -19569\n",
       "Name: DAYS_BIRTH, Length: 26457, dtype: int64"
      ]
     },
     "execution_count": 32,
     "metadata": {},
     "output_type": "execute_result"
    }
   ],
   "source": [
    "data['DAYS_BIRTH']"
   ]
  },
  {
   "cell_type": "code",
   "execution_count": 33,
   "id": "110219fd-99d6-4c42-80dd-4023198c775c",
   "metadata": {},
   "outputs": [],
   "source": [
    "numeric_data = data[num_columns]"
   ]
  },
  {
   "cell_type": "markdown",
   "id": "f87c8e80-44f0-4335-83f7-17ed01a739c0",
   "metadata": {
    "id": "f87c8e80-44f0-4335-83f7-17ed01a739c0"
   },
   "source": [
    "#### 1) 모델 불러오기 및 정의하기"
   ]
  },
  {
   "cell_type": "code",
   "execution_count": 34,
   "id": "6320a27f-af42-4399-ba2b-4c66f21eba09",
   "metadata": {
    "executionInfo": {
     "elapsed": 754,
     "status": "ok",
     "timestamp": 1627101713499,
     "user": {
      "displayName": "I'm so Seoli",
      "photoUrl": "https://lh3.googleusercontent.com/a-/AOh14GgoGeyLbd3gxLLgPS5f5k5dEcdMQc_ZsAy-42tyJg=s64",
      "userId": "18012903892325475989"
     },
     "user_tz": -540
    },
    "id": "6320a27f-af42-4399-ba2b-4c66f21eba09"
   },
   "outputs": [],
   "source": [
    "from sklearn.preprocessing import MinMaxScaler\n",
    "scaler = MinMaxScaler()"
   ]
  },
  {
   "cell_type": "markdown",
   "id": "0ed1fc84-fe5e-4e2e-8a3c-b5eb77979406",
   "metadata": {
    "id": "0ed1fc84-fe5e-4e2e-8a3c-b5eb77979406"
   },
   "source": [
    "#### 2) 데이터에서 특징 찾기(Min, Max 값)"
   ]
  },
  {
   "cell_type": "code",
   "execution_count": 35,
   "id": "c8e1f6a8-efaa-44a1-a514-bc9d33be3885",
   "metadata": {
    "colab": {
     "base_uri": "https://localhost:8080/"
    },
    "executionInfo": {
     "elapsed": 299,
     "status": "ok",
     "timestamp": 1627101718360,
     "user": {
      "displayName": "I'm so Seoli",
      "photoUrl": "https://lh3.googleusercontent.com/a-/AOh14GgoGeyLbd3gxLLgPS5f5k5dEcdMQc_ZsAy-42tyJg=s64",
      "userId": "18012903892325475989"
     },
     "user_tz": -540
    },
    "id": "c8e1f6a8-efaa-44a1-a514-bc9d33be3885",
    "outputId": "2d394e4b-adc6-4a8f-91ea-d31e29ffe21d"
   },
   "outputs": [
    {
     "data": {
      "text/plain": [
       "MinMaxScaler()"
      ]
     },
     "execution_count": 35,
     "metadata": {},
     "output_type": "execute_result"
    }
   ],
   "source": [
    "scaler.fit(numeric_data)"
   ]
  },
  {
   "cell_type": "markdown",
   "id": "0b9a12d1-027a-4823-a0ec-e2f8674b50ed",
   "metadata": {
    "id": "0b9a12d1-027a-4823-a0ec-e2f8674b50ed"
   },
   "source": [
    "#### 3) 데이터 변환"
   ]
  },
  {
   "cell_type": "code",
   "execution_count": 36,
   "id": "248ca99a-3733-4085-af55-20248acc9ec9",
   "metadata": {
    "executionInfo": {
     "elapsed": 291,
     "status": "ok",
     "timestamp": 1627101735099,
     "user": {
      "displayName": "I'm so Seoli",
      "photoUrl": "https://lh3.googleusercontent.com/a-/AOh14GgoGeyLbd3gxLLgPS5f5k5dEcdMQc_ZsAy-42tyJg=s64",
      "userId": "18012903892325475989"
     },
     "user_tz": -540
    },
    "id": "248ca99a-3733-4085-af55-20248acc9ec9"
   },
   "outputs": [],
   "source": [
    "scaled_data = scaler.transform(numeric_data)\n",
    "scaled_data = pd.DataFrame(scaled_data, columns=num_columns)"
   ]
  },
  {
   "cell_type": "markdown",
   "id": "1442495f-f0c6-4cf8-b71c-e8a8710ada33",
   "metadata": {
    "id": "1442495f-f0c6-4cf8-b71c-e8a8710ada33"
   },
   "source": [
    "#### 4) 결과 살펴보기"
   ]
  },
  {
   "cell_type": "code",
   "execution_count": 37,
   "id": "67f2c931-5cea-48e7-98ce-3f5ea1065b89",
   "metadata": {
    "colab": {
     "base_uri": "https://localhost:8080/",
     "height": 205
    },
    "executionInfo": {
     "elapsed": 429,
     "status": "ok",
     "timestamp": 1627101737719,
     "user": {
      "displayName": "I'm so Seoli",
      "photoUrl": "https://lh3.googleusercontent.com/a-/AOh14GgoGeyLbd3gxLLgPS5f5k5dEcdMQc_ZsAy-42tyJg=s64",
      "userId": "18012903892325475989"
     },
     "user_tz": -540
    },
    "id": "67f2c931-5cea-48e7-98ce-3f5ea1065b89",
    "outputId": "725003fa-15d4-4aef-d845-5af8a6ed459d"
   },
   "outputs": [
    {
     "data": {
      "text/html": [
       "<div>\n",
       "<style scoped>\n",
       "    .dataframe tbody tr th:only-of-type {\n",
       "        vertical-align: middle;\n",
       "    }\n",
       "\n",
       "    .dataframe tbody tr th {\n",
       "        vertical-align: top;\n",
       "    }\n",
       "\n",
       "    .dataframe thead th {\n",
       "        text-align: right;\n",
       "    }\n",
       "</style>\n",
       "<table border=\"1\" class=\"dataframe\">\n",
       "  <thead>\n",
       "    <tr style=\"text-align: right;\">\n",
       "      <th></th>\n",
       "      <th>child_num</th>\n",
       "      <th>income_total</th>\n",
       "      <th>DAYS_BIRTH</th>\n",
       "      <th>DAYS_EMPLOYED</th>\n",
       "      <th>FLAG_MOBIL</th>\n",
       "      <th>work_phone</th>\n",
       "      <th>phone</th>\n",
       "      <th>email</th>\n",
       "      <th>family_size</th>\n",
       "      <th>begin_month</th>\n",
       "    </tr>\n",
       "  </thead>\n",
       "  <tbody>\n",
       "    <tr>\n",
       "      <th>0</th>\n",
       "      <td>0</td>\n",
       "      <td>202500.0</td>\n",
       "      <td>-13899</td>\n",
       "      <td>-4709</td>\n",
       "      <td>1</td>\n",
       "      <td>0</td>\n",
       "      <td>0</td>\n",
       "      <td>0</td>\n",
       "      <td>2.0</td>\n",
       "      <td>-6.0</td>\n",
       "    </tr>\n",
       "    <tr>\n",
       "      <th>1</th>\n",
       "      <td>1</td>\n",
       "      <td>247500.0</td>\n",
       "      <td>-11380</td>\n",
       "      <td>-1540</td>\n",
       "      <td>1</td>\n",
       "      <td>0</td>\n",
       "      <td>0</td>\n",
       "      <td>1</td>\n",
       "      <td>3.0</td>\n",
       "      <td>-5.0</td>\n",
       "    </tr>\n",
       "    <tr>\n",
       "      <th>2</th>\n",
       "      <td>0</td>\n",
       "      <td>450000.0</td>\n",
       "      <td>-19087</td>\n",
       "      <td>-4434</td>\n",
       "      <td>1</td>\n",
       "      <td>0</td>\n",
       "      <td>1</td>\n",
       "      <td>0</td>\n",
       "      <td>2.0</td>\n",
       "      <td>-22.0</td>\n",
       "    </tr>\n",
       "    <tr>\n",
       "      <th>3</th>\n",
       "      <td>0</td>\n",
       "      <td>202500.0</td>\n",
       "      <td>-15088</td>\n",
       "      <td>-2092</td>\n",
       "      <td>1</td>\n",
       "      <td>0</td>\n",
       "      <td>1</td>\n",
       "      <td>0</td>\n",
       "      <td>2.0</td>\n",
       "      <td>-37.0</td>\n",
       "    </tr>\n",
       "    <tr>\n",
       "      <th>4</th>\n",
       "      <td>0</td>\n",
       "      <td>157500.0</td>\n",
       "      <td>-15037</td>\n",
       "      <td>-2105</td>\n",
       "      <td>1</td>\n",
       "      <td>0</td>\n",
       "      <td>0</td>\n",
       "      <td>0</td>\n",
       "      <td>2.0</td>\n",
       "      <td>-26.0</td>\n",
       "    </tr>\n",
       "  </tbody>\n",
       "</table>\n",
       "</div>"
      ],
      "text/plain": [
       "   child_num  income_total  DAYS_BIRTH  DAYS_EMPLOYED  FLAG_MOBIL  work_phone  \\\n",
       "0          0      202500.0      -13899          -4709           1           0   \n",
       "1          1      247500.0      -11380          -1540           1           0   \n",
       "2          0      450000.0      -19087          -4434           1           0   \n",
       "3          0      202500.0      -15088          -2092           1           0   \n",
       "4          0      157500.0      -15037          -2105           1           0   \n",
       "\n",
       "   phone  email  family_size  begin_month  \n",
       "0      0      0          2.0         -6.0  \n",
       "1      0      1          3.0         -5.0  \n",
       "2      1      0          2.0        -22.0  \n",
       "3      1      0          2.0        -37.0  \n",
       "4      0      0          2.0        -26.0  "
      ]
     },
     "execution_count": 37,
     "metadata": {},
     "output_type": "execute_result"
    }
   ],
   "source": [
    "data[num_columns].head()"
   ]
  },
  {
   "cell_type": "code",
   "execution_count": 38,
   "id": "4dcc9a4b-4e48-4c44-9d9a-a51bce6aeeda",
   "metadata": {
    "colab": {
     "base_uri": "https://localhost:8080/",
     "height": 318
    },
    "executionInfo": {
     "elapsed": 3,
     "status": "ok",
     "timestamp": 1627101738134,
     "user": {
      "displayName": "I'm so Seoli",
      "photoUrl": "https://lh3.googleusercontent.com/a-/AOh14GgoGeyLbd3gxLLgPS5f5k5dEcdMQc_ZsAy-42tyJg=s64",
      "userId": "18012903892325475989"
     },
     "user_tz": -540
    },
    "id": "4dcc9a4b-4e48-4c44-9d9a-a51bce6aeeda",
    "outputId": "5543013d-d727-43be-ef45-afc0e8e7e9cd"
   },
   "outputs": [
    {
     "data": {
      "text/html": [
       "<div>\n",
       "<style scoped>\n",
       "    .dataframe tbody tr th:only-of-type {\n",
       "        vertical-align: middle;\n",
       "    }\n",
       "\n",
       "    .dataframe tbody tr th {\n",
       "        vertical-align: top;\n",
       "    }\n",
       "\n",
       "    .dataframe thead th {\n",
       "        text-align: right;\n",
       "    }\n",
       "</style>\n",
       "<table border=\"1\" class=\"dataframe\">\n",
       "  <thead>\n",
       "    <tr style=\"text-align: right;\">\n",
       "      <th></th>\n",
       "      <th>child_num</th>\n",
       "      <th>income_total</th>\n",
       "      <th>DAYS_BIRTH</th>\n",
       "      <th>DAYS_EMPLOYED</th>\n",
       "      <th>FLAG_MOBIL</th>\n",
       "      <th>work_phone</th>\n",
       "      <th>phone</th>\n",
       "      <th>email</th>\n",
       "      <th>family_size</th>\n",
       "      <th>begin_month</th>\n",
       "    </tr>\n",
       "  </thead>\n",
       "  <tbody>\n",
       "    <tr>\n",
       "      <th>count</th>\n",
       "      <td>26457.000000</td>\n",
       "      <td>2.645700e+04</td>\n",
       "      <td>26457.000000</td>\n",
       "      <td>26457.000000</td>\n",
       "      <td>26457.0</td>\n",
       "      <td>26457.000000</td>\n",
       "      <td>26457.000000</td>\n",
       "      <td>26457.000000</td>\n",
       "      <td>26457.000000</td>\n",
       "      <td>26457.000000</td>\n",
       "    </tr>\n",
       "    <tr>\n",
       "      <th>mean</th>\n",
       "      <td>0.428658</td>\n",
       "      <td>1.873065e+05</td>\n",
       "      <td>-15958.053899</td>\n",
       "      <td>59068.750728</td>\n",
       "      <td>1.0</td>\n",
       "      <td>0.224742</td>\n",
       "      <td>0.294251</td>\n",
       "      <td>0.091280</td>\n",
       "      <td>2.196848</td>\n",
       "      <td>-26.123294</td>\n",
       "    </tr>\n",
       "    <tr>\n",
       "      <th>std</th>\n",
       "      <td>0.747326</td>\n",
       "      <td>1.018784e+05</td>\n",
       "      <td>4201.589022</td>\n",
       "      <td>137475.427503</td>\n",
       "      <td>0.0</td>\n",
       "      <td>0.417420</td>\n",
       "      <td>0.455714</td>\n",
       "      <td>0.288013</td>\n",
       "      <td>0.916717</td>\n",
       "      <td>16.559550</td>\n",
       "    </tr>\n",
       "    <tr>\n",
       "      <th>min</th>\n",
       "      <td>0.000000</td>\n",
       "      <td>2.700000e+04</td>\n",
       "      <td>-25152.000000</td>\n",
       "      <td>-15713.000000</td>\n",
       "      <td>1.0</td>\n",
       "      <td>0.000000</td>\n",
       "      <td>0.000000</td>\n",
       "      <td>0.000000</td>\n",
       "      <td>1.000000</td>\n",
       "      <td>-60.000000</td>\n",
       "    </tr>\n",
       "    <tr>\n",
       "      <th>25%</th>\n",
       "      <td>0.000000</td>\n",
       "      <td>1.215000e+05</td>\n",
       "      <td>-19431.000000</td>\n",
       "      <td>-3153.000000</td>\n",
       "      <td>1.0</td>\n",
       "      <td>0.000000</td>\n",
       "      <td>0.000000</td>\n",
       "      <td>0.000000</td>\n",
       "      <td>2.000000</td>\n",
       "      <td>-39.000000</td>\n",
       "    </tr>\n",
       "    <tr>\n",
       "      <th>50%</th>\n",
       "      <td>0.000000</td>\n",
       "      <td>1.575000e+05</td>\n",
       "      <td>-15547.000000</td>\n",
       "      <td>-1539.000000</td>\n",
       "      <td>1.0</td>\n",
       "      <td>0.000000</td>\n",
       "      <td>0.000000</td>\n",
       "      <td>0.000000</td>\n",
       "      <td>2.000000</td>\n",
       "      <td>-24.000000</td>\n",
       "    </tr>\n",
       "    <tr>\n",
       "      <th>75%</th>\n",
       "      <td>1.000000</td>\n",
       "      <td>2.250000e+05</td>\n",
       "      <td>-12446.000000</td>\n",
       "      <td>-407.000000</td>\n",
       "      <td>1.0</td>\n",
       "      <td>0.000000</td>\n",
       "      <td>1.000000</td>\n",
       "      <td>0.000000</td>\n",
       "      <td>3.000000</td>\n",
       "      <td>-12.000000</td>\n",
       "    </tr>\n",
       "    <tr>\n",
       "      <th>max</th>\n",
       "      <td>19.000000</td>\n",
       "      <td>1.575000e+06</td>\n",
       "      <td>-7705.000000</td>\n",
       "      <td>365243.000000</td>\n",
       "      <td>1.0</td>\n",
       "      <td>1.000000</td>\n",
       "      <td>1.000000</td>\n",
       "      <td>1.000000</td>\n",
       "      <td>20.000000</td>\n",
       "      <td>0.000000</td>\n",
       "    </tr>\n",
       "  </tbody>\n",
       "</table>\n",
       "</div>"
      ],
      "text/plain": [
       "          child_num  income_total    DAYS_BIRTH  DAYS_EMPLOYED  FLAG_MOBIL  \\\n",
       "count  26457.000000  2.645700e+04  26457.000000   26457.000000     26457.0   \n",
       "mean       0.428658  1.873065e+05 -15958.053899   59068.750728         1.0   \n",
       "std        0.747326  1.018784e+05   4201.589022  137475.427503         0.0   \n",
       "min        0.000000  2.700000e+04 -25152.000000  -15713.000000         1.0   \n",
       "25%        0.000000  1.215000e+05 -19431.000000   -3153.000000         1.0   \n",
       "50%        0.000000  1.575000e+05 -15547.000000   -1539.000000         1.0   \n",
       "75%        1.000000  2.250000e+05 -12446.000000    -407.000000         1.0   \n",
       "max       19.000000  1.575000e+06  -7705.000000  365243.000000         1.0   \n",
       "\n",
       "         work_phone         phone         email   family_size   begin_month  \n",
       "count  26457.000000  26457.000000  26457.000000  26457.000000  26457.000000  \n",
       "mean       0.224742      0.294251      0.091280      2.196848    -26.123294  \n",
       "std        0.417420      0.455714      0.288013      0.916717     16.559550  \n",
       "min        0.000000      0.000000      0.000000      1.000000    -60.000000  \n",
       "25%        0.000000      0.000000      0.000000      2.000000    -39.000000  \n",
       "50%        0.000000      0.000000      0.000000      2.000000    -24.000000  \n",
       "75%        0.000000      1.000000      0.000000      3.000000    -12.000000  \n",
       "max        1.000000      1.000000      1.000000     20.000000      0.000000  "
      ]
     },
     "execution_count": 38,
     "metadata": {},
     "output_type": "execute_result"
    }
   ],
   "source": [
    "data[num_columns].describe()"
   ]
  },
  {
   "cell_type": "code",
   "execution_count": 39,
   "id": "474903f8-c0cb-4712-9803-d10d6db662f8",
   "metadata": {
    "colab": {
     "base_uri": "https://localhost:8080/",
     "height": 205
    },
    "executionInfo": {
     "elapsed": 2,
     "status": "ok",
     "timestamp": 1627101738531,
     "user": {
      "displayName": "I'm so Seoli",
      "photoUrl": "https://lh3.googleusercontent.com/a-/AOh14GgoGeyLbd3gxLLgPS5f5k5dEcdMQc_ZsAy-42tyJg=s64",
      "userId": "18012903892325475989"
     },
     "user_tz": -540
    },
    "id": "474903f8-c0cb-4712-9803-d10d6db662f8",
    "outputId": "8fdba70a-436b-4f9c-fd78-2eed4f6e8608"
   },
   "outputs": [
    {
     "data": {
      "text/html": [
       "<div>\n",
       "<style scoped>\n",
       "    .dataframe tbody tr th:only-of-type {\n",
       "        vertical-align: middle;\n",
       "    }\n",
       "\n",
       "    .dataframe tbody tr th {\n",
       "        vertical-align: top;\n",
       "    }\n",
       "\n",
       "    .dataframe thead th {\n",
       "        text-align: right;\n",
       "    }\n",
       "</style>\n",
       "<table border=\"1\" class=\"dataframe\">\n",
       "  <thead>\n",
       "    <tr style=\"text-align: right;\">\n",
       "      <th></th>\n",
       "      <th>child_num</th>\n",
       "      <th>income_total</th>\n",
       "      <th>DAYS_BIRTH</th>\n",
       "      <th>DAYS_EMPLOYED</th>\n",
       "      <th>FLAG_MOBIL</th>\n",
       "      <th>work_phone</th>\n",
       "      <th>phone</th>\n",
       "      <th>email</th>\n",
       "      <th>family_size</th>\n",
       "      <th>begin_month</th>\n",
       "    </tr>\n",
       "  </thead>\n",
       "  <tbody>\n",
       "    <tr>\n",
       "      <th>0</th>\n",
       "      <td>0.000000</td>\n",
       "      <td>0.113372</td>\n",
       "      <td>0.644982</td>\n",
       "      <td>0.028885</td>\n",
       "      <td>0.0</td>\n",
       "      <td>0.0</td>\n",
       "      <td>0.0</td>\n",
       "      <td>0.0</td>\n",
       "      <td>0.052632</td>\n",
       "      <td>0.900000</td>\n",
       "    </tr>\n",
       "    <tr>\n",
       "      <th>1</th>\n",
       "      <td>0.052632</td>\n",
       "      <td>0.142442</td>\n",
       "      <td>0.789362</td>\n",
       "      <td>0.037204</td>\n",
       "      <td>0.0</td>\n",
       "      <td>0.0</td>\n",
       "      <td>0.0</td>\n",
       "      <td>1.0</td>\n",
       "      <td>0.105263</td>\n",
       "      <td>0.916667</td>\n",
       "    </tr>\n",
       "    <tr>\n",
       "      <th>2</th>\n",
       "      <td>0.000000</td>\n",
       "      <td>0.273256</td>\n",
       "      <td>0.347624</td>\n",
       "      <td>0.029607</td>\n",
       "      <td>0.0</td>\n",
       "      <td>0.0</td>\n",
       "      <td>1.0</td>\n",
       "      <td>0.0</td>\n",
       "      <td>0.052632</td>\n",
       "      <td>0.633333</td>\n",
       "    </tr>\n",
       "    <tr>\n",
       "      <th>3</th>\n",
       "      <td>0.000000</td>\n",
       "      <td>0.113372</td>\n",
       "      <td>0.576833</td>\n",
       "      <td>0.035755</td>\n",
       "      <td>0.0</td>\n",
       "      <td>0.0</td>\n",
       "      <td>1.0</td>\n",
       "      <td>0.0</td>\n",
       "      <td>0.052632</td>\n",
       "      <td>0.383333</td>\n",
       "    </tr>\n",
       "    <tr>\n",
       "      <th>4</th>\n",
       "      <td>0.000000</td>\n",
       "      <td>0.084302</td>\n",
       "      <td>0.579756</td>\n",
       "      <td>0.035721</td>\n",
       "      <td>0.0</td>\n",
       "      <td>0.0</td>\n",
       "      <td>0.0</td>\n",
       "      <td>0.0</td>\n",
       "      <td>0.052632</td>\n",
       "      <td>0.566667</td>\n",
       "    </tr>\n",
       "  </tbody>\n",
       "</table>\n",
       "</div>"
      ],
      "text/plain": [
       "   child_num  income_total  DAYS_BIRTH  DAYS_EMPLOYED  FLAG_MOBIL  work_phone  \\\n",
       "0   0.000000      0.113372    0.644982       0.028885         0.0         0.0   \n",
       "1   0.052632      0.142442    0.789362       0.037204         0.0         0.0   \n",
       "2   0.000000      0.273256    0.347624       0.029607         0.0         0.0   \n",
       "3   0.000000      0.113372    0.576833       0.035755         0.0         0.0   \n",
       "4   0.000000      0.084302    0.579756       0.035721         0.0         0.0   \n",
       "\n",
       "   phone  email  family_size  begin_month  \n",
       "0    0.0    0.0     0.052632     0.900000  \n",
       "1    0.0    1.0     0.105263     0.916667  \n",
       "2    1.0    0.0     0.052632     0.633333  \n",
       "3    1.0    0.0     0.052632     0.383333  \n",
       "4    0.0    0.0     0.052632     0.566667  "
      ]
     },
     "execution_count": 39,
     "metadata": {},
     "output_type": "execute_result"
    }
   ],
   "source": [
    "scaled_data.head()"
   ]
  },
  {
   "cell_type": "code",
   "execution_count": 40,
   "id": "36ea8e41-d638-4ab6-b9a3-6ff45ed80caa",
   "metadata": {
    "colab": {
     "base_uri": "https://localhost:8080/",
     "height": 300
    },
    "executionInfo": {
     "elapsed": 3,
     "status": "ok",
     "timestamp": 1627101738859,
     "user": {
      "displayName": "I'm so Seoli",
      "photoUrl": "https://lh3.googleusercontent.com/a-/AOh14GgoGeyLbd3gxLLgPS5f5k5dEcdMQc_ZsAy-42tyJg=s64",
      "userId": "18012903892325475989"
     },
     "user_tz": -540
    },
    "id": "36ea8e41-d638-4ab6-b9a3-6ff45ed80caa",
    "outputId": "1021b8d2-2a9e-4bd7-ee65-59a63a4ec2c5"
   },
   "outputs": [
    {
     "data": {
      "text/html": [
       "<div>\n",
       "<style scoped>\n",
       "    .dataframe tbody tr th:only-of-type {\n",
       "        vertical-align: middle;\n",
       "    }\n",
       "\n",
       "    .dataframe tbody tr th {\n",
       "        vertical-align: top;\n",
       "    }\n",
       "\n",
       "    .dataframe thead th {\n",
       "        text-align: right;\n",
       "    }\n",
       "</style>\n",
       "<table border=\"1\" class=\"dataframe\">\n",
       "  <thead>\n",
       "    <tr style=\"text-align: right;\">\n",
       "      <th></th>\n",
       "      <th>child_num</th>\n",
       "      <th>income_total</th>\n",
       "      <th>DAYS_BIRTH</th>\n",
       "      <th>DAYS_EMPLOYED</th>\n",
       "      <th>FLAG_MOBIL</th>\n",
       "      <th>work_phone</th>\n",
       "      <th>phone</th>\n",
       "      <th>email</th>\n",
       "      <th>family_size</th>\n",
       "      <th>begin_month</th>\n",
       "    </tr>\n",
       "  </thead>\n",
       "  <tbody>\n",
       "    <tr>\n",
       "      <th>count</th>\n",
       "      <td>26457.000000</td>\n",
       "      <td>26457.000000</td>\n",
       "      <td>26457.000000</td>\n",
       "      <td>26457.000000</td>\n",
       "      <td>26457.0</td>\n",
       "      <td>26457.000000</td>\n",
       "      <td>26457.000000</td>\n",
       "      <td>26457.000000</td>\n",
       "      <td>26457.000000</td>\n",
       "      <td>26457.000000</td>\n",
       "    </tr>\n",
       "    <tr>\n",
       "      <th>mean</th>\n",
       "      <td>0.022561</td>\n",
       "      <td>0.103557</td>\n",
       "      <td>0.526964</td>\n",
       "      <td>0.196300</td>\n",
       "      <td>0.0</td>\n",
       "      <td>0.224742</td>\n",
       "      <td>0.294251</td>\n",
       "      <td>0.091280</td>\n",
       "      <td>0.062992</td>\n",
       "      <td>0.564612</td>\n",
       "    </tr>\n",
       "    <tr>\n",
       "      <th>std</th>\n",
       "      <td>0.039333</td>\n",
       "      <td>0.065813</td>\n",
       "      <td>0.240820</td>\n",
       "      <td>0.360870</td>\n",
       "      <td>0.0</td>\n",
       "      <td>0.417420</td>\n",
       "      <td>0.455714</td>\n",
       "      <td>0.288013</td>\n",
       "      <td>0.048248</td>\n",
       "      <td>0.275992</td>\n",
       "    </tr>\n",
       "    <tr>\n",
       "      <th>min</th>\n",
       "      <td>0.000000</td>\n",
       "      <td>0.000000</td>\n",
       "      <td>0.000000</td>\n",
       "      <td>0.000000</td>\n",
       "      <td>0.0</td>\n",
       "      <td>0.000000</td>\n",
       "      <td>0.000000</td>\n",
       "      <td>0.000000</td>\n",
       "      <td>0.000000</td>\n",
       "      <td>0.000000</td>\n",
       "    </tr>\n",
       "    <tr>\n",
       "      <th>25%</th>\n",
       "      <td>0.000000</td>\n",
       "      <td>0.061047</td>\n",
       "      <td>0.327907</td>\n",
       "      <td>0.032970</td>\n",
       "      <td>0.0</td>\n",
       "      <td>0.000000</td>\n",
       "      <td>0.000000</td>\n",
       "      <td>0.000000</td>\n",
       "      <td>0.052632</td>\n",
       "      <td>0.350000</td>\n",
       "    </tr>\n",
       "    <tr>\n",
       "      <th>50%</th>\n",
       "      <td>0.000000</td>\n",
       "      <td>0.084302</td>\n",
       "      <td>0.550524</td>\n",
       "      <td>0.037206</td>\n",
       "      <td>0.0</td>\n",
       "      <td>0.000000</td>\n",
       "      <td>0.000000</td>\n",
       "      <td>0.000000</td>\n",
       "      <td>0.052632</td>\n",
       "      <td>0.600000</td>\n",
       "    </tr>\n",
       "    <tr>\n",
       "      <th>75%</th>\n",
       "      <td>0.052632</td>\n",
       "      <td>0.127907</td>\n",
       "      <td>0.728263</td>\n",
       "      <td>0.040178</td>\n",
       "      <td>0.0</td>\n",
       "      <td>0.000000</td>\n",
       "      <td>1.000000</td>\n",
       "      <td>0.000000</td>\n",
       "      <td>0.105263</td>\n",
       "      <td>0.800000</td>\n",
       "    </tr>\n",
       "    <tr>\n",
       "      <th>max</th>\n",
       "      <td>1.000000</td>\n",
       "      <td>1.000000</td>\n",
       "      <td>1.000000</td>\n",
       "      <td>1.000000</td>\n",
       "      <td>0.0</td>\n",
       "      <td>1.000000</td>\n",
       "      <td>1.000000</td>\n",
       "      <td>1.000000</td>\n",
       "      <td>1.000000</td>\n",
       "      <td>1.000000</td>\n",
       "    </tr>\n",
       "  </tbody>\n",
       "</table>\n",
       "</div>"
      ],
      "text/plain": [
       "          child_num  income_total    DAYS_BIRTH  DAYS_EMPLOYED  FLAG_MOBIL  \\\n",
       "count  26457.000000  26457.000000  26457.000000   26457.000000     26457.0   \n",
       "mean       0.022561      0.103557      0.526964       0.196300         0.0   \n",
       "std        0.039333      0.065813      0.240820       0.360870         0.0   \n",
       "min        0.000000      0.000000      0.000000       0.000000         0.0   \n",
       "25%        0.000000      0.061047      0.327907       0.032970         0.0   \n",
       "50%        0.000000      0.084302      0.550524       0.037206         0.0   \n",
       "75%        0.052632      0.127907      0.728263       0.040178         0.0   \n",
       "max        1.000000      1.000000      1.000000       1.000000         0.0   \n",
       "\n",
       "         work_phone         phone         email   family_size   begin_month  \n",
       "count  26457.000000  26457.000000  26457.000000  26457.000000  26457.000000  \n",
       "mean       0.224742      0.294251      0.091280      0.062992      0.564612  \n",
       "std        0.417420      0.455714      0.288013      0.048248      0.275992  \n",
       "min        0.000000      0.000000      0.000000      0.000000      0.000000  \n",
       "25%        0.000000      0.000000      0.000000      0.052632      0.350000  \n",
       "50%        0.000000      0.000000      0.000000      0.052632      0.600000  \n",
       "75%        0.000000      1.000000      0.000000      0.105263      0.800000  \n",
       "max        1.000000      1.000000      1.000000      1.000000      1.000000  "
      ]
     },
     "execution_count": 40,
     "metadata": {},
     "output_type": "execute_result"
    }
   ],
   "source": [
    "scaled_data.describe()"
   ]
  },
  {
   "cell_type": "markdown",
   "id": "97ab713f-eba5-4985-b5be-de3d6ee80dac",
   "metadata": {
    "id": "97ab713f-eba5-4985-b5be-de3d6ee80dac"
   },
   "source": [
    "## 2. Standard Scaling\n",
    "데이터를 통계적으로 표준정규분포화 시켜 스케일링을 하는 방식입니다. `z-score 정규화` 라고도 합니다.<br>\n",
    "데이터의 평균이 0, 표준 편차가 1이 되도록 스케일링 합니다.\n",
    "\n",
    "$$ z = {{x - \\mu} \\over {\\sigma}} $$\n",
    "$$ \\mu : 데이터의\\ 평균, mean(X) $$\n",
    "$$ \\sigma : 데이터의\\ 표준편차, std(X)$$\n",
    "$$ X : 데이터\\ 셋 $$\n",
    "$$ x : 데이터\\ 샘플 $$\n",
    "Scikit-Learn에서 Standard Scaler는 preprocessing 패키지에 있습니다.\n",
    "\n",
    "#### ref\n",
    "- [Scikit-learn, Standard Scaler](https://scikit-learn.org/stable/modules/generated/sklearn.preprocessing.StandardScaler.html#sklearn.preprocessing.StandardScaler)"
   ]
  },
  {
   "cell_type": "markdown",
   "id": "14936689-c10f-4c36-8f70-483638e6920e",
   "metadata": {
    "id": "14936689-c10f-4c36-8f70-483638e6920e"
   },
   "source": [
    "#### 1) 모델 불러오기 및 정의하기"
   ]
  },
  {
   "cell_type": "code",
   "execution_count": 41,
   "id": "9130697a-fcbf-4a08-b24c-1ecbbf3db960",
   "metadata": {
    "executionInfo": {
     "elapsed": 368,
     "status": "ok",
     "timestamp": 1627101846999,
     "user": {
      "displayName": "I'm so Seoli",
      "photoUrl": "https://lh3.googleusercontent.com/a-/AOh14GgoGeyLbd3gxLLgPS5f5k5dEcdMQc_ZsAy-42tyJg=s64",
      "userId": "18012903892325475989"
     },
     "user_tz": -540
    },
    "id": "9130697a-fcbf-4a08-b24c-1ecbbf3db960"
   },
   "outputs": [],
   "source": [
    "from sklearn.preprocessing import StandardScaler\n",
    "scaler = StandardScaler()"
   ]
  },
  {
   "cell_type": "markdown",
   "id": "68280eb9-0914-45ad-b2f3-5d448c0b4a98",
   "metadata": {
    "id": "68280eb9-0914-45ad-b2f3-5d448c0b4a98"
   },
   "source": [
    "#### 2) 데이터에서 특징 찾기(Mean, Std 값)"
   ]
  },
  {
   "cell_type": "code",
   "execution_count": 42,
   "id": "04a3b7f2-7972-4c46-af57-733db1153ec4",
   "metadata": {
    "colab": {
     "base_uri": "https://localhost:8080/"
    },
    "executionInfo": {
     "elapsed": 2,
     "status": "ok",
     "timestamp": 1627101847433,
     "user": {
      "displayName": "I'm so Seoli",
      "photoUrl": "https://lh3.googleusercontent.com/a-/AOh14GgoGeyLbd3gxLLgPS5f5k5dEcdMQc_ZsAy-42tyJg=s64",
      "userId": "18012903892325475989"
     },
     "user_tz": -540
    },
    "id": "04a3b7f2-7972-4c46-af57-733db1153ec4",
    "outputId": "a609b744-c94f-4103-c789-62e3ed5bd90c"
   },
   "outputs": [
    {
     "data": {
      "text/plain": [
       "StandardScaler()"
      ]
     },
     "execution_count": 42,
     "metadata": {},
     "output_type": "execute_result"
    }
   ],
   "source": [
    "scaler.fit(numeric_data)"
   ]
  },
  {
   "cell_type": "markdown",
   "id": "c10636ca-d2e6-48f2-99b1-576d62439558",
   "metadata": {
    "id": "c10636ca-d2e6-48f2-99b1-576d62439558"
   },
   "source": [
    "#### 3) 데이터 변환"
   ]
  },
  {
   "cell_type": "code",
   "execution_count": 43,
   "id": "f8599b86-3d42-4407-ad3d-ce64242b4e4a",
   "metadata": {
    "executionInfo": {
     "elapsed": 1,
     "status": "ok",
     "timestamp": 1627101847808,
     "user": {
      "displayName": "I'm so Seoli",
      "photoUrl": "https://lh3.googleusercontent.com/a-/AOh14GgoGeyLbd3gxLLgPS5f5k5dEcdMQc_ZsAy-42tyJg=s64",
      "userId": "18012903892325475989"
     },
     "user_tz": -540
    },
    "id": "f8599b86-3d42-4407-ad3d-ce64242b4e4a"
   },
   "outputs": [],
   "source": [
    "scaled_data = scaler.transform(numeric_data)\n",
    "scaled_data = pd.DataFrame(scaled_data, columns=num_columns)"
   ]
  },
  {
   "cell_type": "markdown",
   "id": "d24023eb-1f5f-478b-953a-c73fd5d9e2bf",
   "metadata": {
    "id": "d24023eb-1f5f-478b-953a-c73fd5d9e2bf"
   },
   "source": [
    "#### 4) 결과 살펴보기"
   ]
  },
  {
   "cell_type": "code",
   "execution_count": 49,
   "id": "34e36510-30f4-492a-8753-237e01be2637",
   "metadata": {
    "colab": {
     "base_uri": "https://localhost:8080/",
     "height": 206
    },
    "executionInfo": {
     "elapsed": 4,
     "status": "ok",
     "timestamp": 1627101850060,
     "user": {
      "displayName": "I'm so Seoli",
      "photoUrl": "https://lh3.googleusercontent.com/a-/AOh14GgoGeyLbd3gxLLgPS5f5k5dEcdMQc_ZsAy-42tyJg=s64",
      "userId": "18012903892325475989"
     },
     "user_tz": -540
    },
    "id": "34e36510-30f4-492a-8753-237e01be2637",
    "outputId": "1a0c48db-9bd3-41bd-90d2-e3f81a70cba7"
   },
   "outputs": [],
   "source": [
    "# data[num_columns].head()"
   ]
  },
  {
   "cell_type": "code",
   "execution_count": 45,
   "id": "51bd5657-86c7-44db-9483-7392857776c6",
   "metadata": {
    "colab": {
     "base_uri": "https://localhost:8080/",
     "height": 300
    },
    "executionInfo": {
     "elapsed": 3,
     "status": "ok",
     "timestamp": 1627101850490,
     "user": {
      "displayName": "I'm so Seoli",
      "photoUrl": "https://lh3.googleusercontent.com/a-/AOh14GgoGeyLbd3gxLLgPS5f5k5dEcdMQc_ZsAy-42tyJg=s64",
      "userId": "18012903892325475989"
     },
     "user_tz": -540
    },
    "id": "51bd5657-86c7-44db-9483-7392857776c6",
    "outputId": "f0705996-8ec8-4283-d89a-0146bd853ca0"
   },
   "outputs": [
    {
     "data": {
      "text/html": [
       "<div>\n",
       "<style scoped>\n",
       "    .dataframe tbody tr th:only-of-type {\n",
       "        vertical-align: middle;\n",
       "    }\n",
       "\n",
       "    .dataframe tbody tr th {\n",
       "        vertical-align: top;\n",
       "    }\n",
       "\n",
       "    .dataframe thead th {\n",
       "        text-align: right;\n",
       "    }\n",
       "</style>\n",
       "<table border=\"1\" class=\"dataframe\">\n",
       "  <thead>\n",
       "    <tr style=\"text-align: right;\">\n",
       "      <th></th>\n",
       "      <th>child_num</th>\n",
       "      <th>income_total</th>\n",
       "      <th>DAYS_BIRTH</th>\n",
       "      <th>DAYS_EMPLOYED</th>\n",
       "      <th>FLAG_MOBIL</th>\n",
       "      <th>work_phone</th>\n",
       "      <th>phone</th>\n",
       "      <th>email</th>\n",
       "      <th>family_size</th>\n",
       "      <th>begin_month</th>\n",
       "    </tr>\n",
       "  </thead>\n",
       "  <tbody>\n",
       "    <tr>\n",
       "      <th>count</th>\n",
       "      <td>26457.000000</td>\n",
       "      <td>2.645700e+04</td>\n",
       "      <td>26457.000000</td>\n",
       "      <td>26457.000000</td>\n",
       "      <td>26457.0</td>\n",
       "      <td>26457.000000</td>\n",
       "      <td>26457.000000</td>\n",
       "      <td>26457.000000</td>\n",
       "      <td>26457.000000</td>\n",
       "      <td>26457.000000</td>\n",
       "    </tr>\n",
       "    <tr>\n",
       "      <th>mean</th>\n",
       "      <td>0.428658</td>\n",
       "      <td>1.873065e+05</td>\n",
       "      <td>-15958.053899</td>\n",
       "      <td>59068.750728</td>\n",
       "      <td>1.0</td>\n",
       "      <td>0.224742</td>\n",
       "      <td>0.294251</td>\n",
       "      <td>0.091280</td>\n",
       "      <td>2.196848</td>\n",
       "      <td>-26.123294</td>\n",
       "    </tr>\n",
       "    <tr>\n",
       "      <th>std</th>\n",
       "      <td>0.747326</td>\n",
       "      <td>1.018784e+05</td>\n",
       "      <td>4201.589022</td>\n",
       "      <td>137475.427503</td>\n",
       "      <td>0.0</td>\n",
       "      <td>0.417420</td>\n",
       "      <td>0.455714</td>\n",
       "      <td>0.288013</td>\n",
       "      <td>0.916717</td>\n",
       "      <td>16.559550</td>\n",
       "    </tr>\n",
       "    <tr>\n",
       "      <th>min</th>\n",
       "      <td>0.000000</td>\n",
       "      <td>2.700000e+04</td>\n",
       "      <td>-25152.000000</td>\n",
       "      <td>-15713.000000</td>\n",
       "      <td>1.0</td>\n",
       "      <td>0.000000</td>\n",
       "      <td>0.000000</td>\n",
       "      <td>0.000000</td>\n",
       "      <td>1.000000</td>\n",
       "      <td>-60.000000</td>\n",
       "    </tr>\n",
       "    <tr>\n",
       "      <th>25%</th>\n",
       "      <td>0.000000</td>\n",
       "      <td>1.215000e+05</td>\n",
       "      <td>-19431.000000</td>\n",
       "      <td>-3153.000000</td>\n",
       "      <td>1.0</td>\n",
       "      <td>0.000000</td>\n",
       "      <td>0.000000</td>\n",
       "      <td>0.000000</td>\n",
       "      <td>2.000000</td>\n",
       "      <td>-39.000000</td>\n",
       "    </tr>\n",
       "    <tr>\n",
       "      <th>50%</th>\n",
       "      <td>0.000000</td>\n",
       "      <td>1.575000e+05</td>\n",
       "      <td>-15547.000000</td>\n",
       "      <td>-1539.000000</td>\n",
       "      <td>1.0</td>\n",
       "      <td>0.000000</td>\n",
       "      <td>0.000000</td>\n",
       "      <td>0.000000</td>\n",
       "      <td>2.000000</td>\n",
       "      <td>-24.000000</td>\n",
       "    </tr>\n",
       "    <tr>\n",
       "      <th>75%</th>\n",
       "      <td>1.000000</td>\n",
       "      <td>2.250000e+05</td>\n",
       "      <td>-12446.000000</td>\n",
       "      <td>-407.000000</td>\n",
       "      <td>1.0</td>\n",
       "      <td>0.000000</td>\n",
       "      <td>1.000000</td>\n",
       "      <td>0.000000</td>\n",
       "      <td>3.000000</td>\n",
       "      <td>-12.000000</td>\n",
       "    </tr>\n",
       "    <tr>\n",
       "      <th>max</th>\n",
       "      <td>19.000000</td>\n",
       "      <td>1.575000e+06</td>\n",
       "      <td>-7705.000000</td>\n",
       "      <td>365243.000000</td>\n",
       "      <td>1.0</td>\n",
       "      <td>1.000000</td>\n",
       "      <td>1.000000</td>\n",
       "      <td>1.000000</td>\n",
       "      <td>20.000000</td>\n",
       "      <td>0.000000</td>\n",
       "    </tr>\n",
       "  </tbody>\n",
       "</table>\n",
       "</div>"
      ],
      "text/plain": [
       "          child_num  income_total    DAYS_BIRTH  DAYS_EMPLOYED  FLAG_MOBIL  \\\n",
       "count  26457.000000  2.645700e+04  26457.000000   26457.000000     26457.0   \n",
       "mean       0.428658  1.873065e+05 -15958.053899   59068.750728         1.0   \n",
       "std        0.747326  1.018784e+05   4201.589022  137475.427503         0.0   \n",
       "min        0.000000  2.700000e+04 -25152.000000  -15713.000000         1.0   \n",
       "25%        0.000000  1.215000e+05 -19431.000000   -3153.000000         1.0   \n",
       "50%        0.000000  1.575000e+05 -15547.000000   -1539.000000         1.0   \n",
       "75%        1.000000  2.250000e+05 -12446.000000    -407.000000         1.0   \n",
       "max       19.000000  1.575000e+06  -7705.000000  365243.000000         1.0   \n",
       "\n",
       "         work_phone         phone         email   family_size   begin_month  \n",
       "count  26457.000000  26457.000000  26457.000000  26457.000000  26457.000000  \n",
       "mean       0.224742      0.294251      0.091280      2.196848    -26.123294  \n",
       "std        0.417420      0.455714      0.288013      0.916717     16.559550  \n",
       "min        0.000000      0.000000      0.000000      1.000000    -60.000000  \n",
       "25%        0.000000      0.000000      0.000000      2.000000    -39.000000  \n",
       "50%        0.000000      0.000000      0.000000      2.000000    -24.000000  \n",
       "75%        0.000000      1.000000      0.000000      3.000000    -12.000000  \n",
       "max        1.000000      1.000000      1.000000     20.000000      0.000000  "
      ]
     },
     "execution_count": 45,
     "metadata": {},
     "output_type": "execute_result"
    }
   ],
   "source": [
    "data[num_columns].describe()"
   ]
  },
  {
   "cell_type": "code",
   "execution_count": 48,
   "id": "84fd514e-8d34-4ad1-9b9e-214a7f9ecb75",
   "metadata": {
    "colab": {
     "base_uri": "https://localhost:8080/",
     "height": 206
    },
    "executionInfo": {
     "elapsed": 4,
     "status": "ok",
     "timestamp": 1627101850862,
     "user": {
      "displayName": "I'm so Seoli",
      "photoUrl": "https://lh3.googleusercontent.com/a-/AOh14GgoGeyLbd3gxLLgPS5f5k5dEcdMQc_ZsAy-42tyJg=s64",
      "userId": "18012903892325475989"
     },
     "user_tz": -540
    },
    "id": "84fd514e-8d34-4ad1-9b9e-214a7f9ecb75",
    "outputId": "b4c12d1f-a007-4352-e2de-3227ba1593a2"
   },
   "outputs": [],
   "source": [
    "# scaled_data.head()"
   ]
  },
  {
   "cell_type": "code",
   "execution_count": 47,
   "id": "e120148a-6343-4eaf-8234-5d43e1ed53e6",
   "metadata": {
    "colab": {
     "base_uri": "https://localhost:8080/",
     "height": 300
    },
    "executionInfo": {
     "elapsed": 4,
     "status": "ok",
     "timestamp": 1627101851159,
     "user": {
      "displayName": "I'm so Seoli",
      "photoUrl": "https://lh3.googleusercontent.com/a-/AOh14GgoGeyLbd3gxLLgPS5f5k5dEcdMQc_ZsAy-42tyJg=s64",
      "userId": "18012903892325475989"
     },
     "user_tz": -540
    },
    "id": "e120148a-6343-4eaf-8234-5d43e1ed53e6",
    "outputId": "44f3d087-006c-497c-923f-8d6670df6cc3"
   },
   "outputs": [
    {
     "data": {
      "text/html": [
       "<div>\n",
       "<style scoped>\n",
       "    .dataframe tbody tr th:only-of-type {\n",
       "        vertical-align: middle;\n",
       "    }\n",
       "\n",
       "    .dataframe tbody tr th {\n",
       "        vertical-align: top;\n",
       "    }\n",
       "\n",
       "    .dataframe thead th {\n",
       "        text-align: right;\n",
       "    }\n",
       "</style>\n",
       "<table border=\"1\" class=\"dataframe\">\n",
       "  <thead>\n",
       "    <tr style=\"text-align: right;\">\n",
       "      <th></th>\n",
       "      <th>child_num</th>\n",
       "      <th>income_total</th>\n",
       "      <th>DAYS_BIRTH</th>\n",
       "      <th>DAYS_EMPLOYED</th>\n",
       "      <th>FLAG_MOBIL</th>\n",
       "      <th>work_phone</th>\n",
       "      <th>phone</th>\n",
       "      <th>email</th>\n",
       "      <th>family_size</th>\n",
       "      <th>begin_month</th>\n",
       "    </tr>\n",
       "  </thead>\n",
       "  <tbody>\n",
       "    <tr>\n",
       "      <th>count</th>\n",
       "      <td>2.645700e+04</td>\n",
       "      <td>2.645700e+04</td>\n",
       "      <td>2.645700e+04</td>\n",
       "      <td>2.645700e+04</td>\n",
       "      <td>26457.0</td>\n",
       "      <td>2.645700e+04</td>\n",
       "      <td>2.645700e+04</td>\n",
       "      <td>2.645700e+04</td>\n",
       "      <td>2.645700e+04</td>\n",
       "      <td>2.645700e+04</td>\n",
       "    </tr>\n",
       "    <tr>\n",
       "      <th>mean</th>\n",
       "      <td>3.289923e-17</td>\n",
       "      <td>4.726746e-17</td>\n",
       "      <td>1.020547e-16</td>\n",
       "      <td>5.505585e-18</td>\n",
       "      <td>0.0</td>\n",
       "      <td>3.719627e-17</td>\n",
       "      <td>-5.156450e-17</td>\n",
       "      <td>5.237020e-18</td>\n",
       "      <td>-3.007929e-17</td>\n",
       "      <td>6.069572e-17</td>\n",
       "    </tr>\n",
       "    <tr>\n",
       "      <th>std</th>\n",
       "      <td>1.000019e+00</td>\n",
       "      <td>1.000019e+00</td>\n",
       "      <td>1.000019e+00</td>\n",
       "      <td>1.000019e+00</td>\n",
       "      <td>0.0</td>\n",
       "      <td>1.000019e+00</td>\n",
       "      <td>1.000019e+00</td>\n",
       "      <td>1.000019e+00</td>\n",
       "      <td>1.000019e+00</td>\n",
       "      <td>1.000019e+00</td>\n",
       "    </tr>\n",
       "    <tr>\n",
       "      <th>min</th>\n",
       "      <td>-5.735993e-01</td>\n",
       "      <td>-1.573539e+00</td>\n",
       "      <td>-2.188248e+00</td>\n",
       "      <td>-5.439748e-01</td>\n",
       "      <td>0.0</td>\n",
       "      <td>-5.384173e-01</td>\n",
       "      <td>-6.457046e-01</td>\n",
       "      <td>-3.169372e-01</td>\n",
       "      <td>-1.305605e+00</td>\n",
       "      <td>-2.045789e+00</td>\n",
       "    </tr>\n",
       "    <tr>\n",
       "      <th>25%</th>\n",
       "      <td>-5.735993e-01</td>\n",
       "      <td>-6.459445e-01</td>\n",
       "      <td>-8.265948e-01</td>\n",
       "      <td>-4.526113e-01</td>\n",
       "      <td>0.0</td>\n",
       "      <td>-5.384173e-01</td>\n",
       "      <td>-6.457046e-01</td>\n",
       "      <td>-3.169372e-01</td>\n",
       "      <td>-2.147353e-01</td>\n",
       "      <td>-7.776147e-01</td>\n",
       "    </tr>\n",
       "    <tr>\n",
       "      <th>50%</th>\n",
       "      <td>-5.735993e-01</td>\n",
       "      <td>-2.925752e-01</td>\n",
       "      <td>9.783481e-02</td>\n",
       "      <td>-4.408708e-01</td>\n",
       "      <td>0.0</td>\n",
       "      <td>-5.384173e-01</td>\n",
       "      <td>-6.457046e-01</td>\n",
       "      <td>-3.169372e-01</td>\n",
       "      <td>-2.147353e-01</td>\n",
       "      <td>1.282242e-01</td>\n",
       "    </tr>\n",
       "    <tr>\n",
       "      <th>75%</th>\n",
       "      <td>7.645293e-01</td>\n",
       "      <td>3.699921e-01</td>\n",
       "      <td>8.359029e-01</td>\n",
       "      <td>-4.326364e-01</td>\n",
       "      <td>0.0</td>\n",
       "      <td>-5.384173e-01</td>\n",
       "      <td>1.548696e+00</td>\n",
       "      <td>-3.169372e-01</td>\n",
       "      <td>8.761348e-01</td>\n",
       "      <td>8.528952e-01</td>\n",
       "    </tr>\n",
       "    <tr>\n",
       "      <th>max</th>\n",
       "      <td>2.485084e+01</td>\n",
       "      <td>1.362134e+01</td>\n",
       "      <td>1.964307e+00</td>\n",
       "      <td>2.227162e+00</td>\n",
       "      <td>0.0</td>\n",
       "      <td>1.857295e+00</td>\n",
       "      <td>1.548696e+00</td>\n",
       "      <td>3.155199e+00</td>\n",
       "      <td>1.942093e+01</td>\n",
       "      <td>1.577566e+00</td>\n",
       "    </tr>\n",
       "  </tbody>\n",
       "</table>\n",
       "</div>"
      ],
      "text/plain": [
       "          child_num  income_total    DAYS_BIRTH  DAYS_EMPLOYED  FLAG_MOBIL  \\\n",
       "count  2.645700e+04  2.645700e+04  2.645700e+04   2.645700e+04     26457.0   \n",
       "mean   3.289923e-17  4.726746e-17  1.020547e-16   5.505585e-18         0.0   \n",
       "std    1.000019e+00  1.000019e+00  1.000019e+00   1.000019e+00         0.0   \n",
       "min   -5.735993e-01 -1.573539e+00 -2.188248e+00  -5.439748e-01         0.0   \n",
       "25%   -5.735993e-01 -6.459445e-01 -8.265948e-01  -4.526113e-01         0.0   \n",
       "50%   -5.735993e-01 -2.925752e-01  9.783481e-02  -4.408708e-01         0.0   \n",
       "75%    7.645293e-01  3.699921e-01  8.359029e-01  -4.326364e-01         0.0   \n",
       "max    2.485084e+01  1.362134e+01  1.964307e+00   2.227162e+00         0.0   \n",
       "\n",
       "         work_phone         phone         email   family_size   begin_month  \n",
       "count  2.645700e+04  2.645700e+04  2.645700e+04  2.645700e+04  2.645700e+04  \n",
       "mean   3.719627e-17 -5.156450e-17  5.237020e-18 -3.007929e-17  6.069572e-17  \n",
       "std    1.000019e+00  1.000019e+00  1.000019e+00  1.000019e+00  1.000019e+00  \n",
       "min   -5.384173e-01 -6.457046e-01 -3.169372e-01 -1.305605e+00 -2.045789e+00  \n",
       "25%   -5.384173e-01 -6.457046e-01 -3.169372e-01 -2.147353e-01 -7.776147e-01  \n",
       "50%   -5.384173e-01 -6.457046e-01 -3.169372e-01 -2.147353e-01  1.282242e-01  \n",
       "75%   -5.384173e-01  1.548696e+00 -3.169372e-01  8.761348e-01  8.528952e-01  \n",
       "max    1.857295e+00  1.548696e+00  3.155199e+00  1.942093e+01  1.577566e+00  "
      ]
     },
     "execution_count": 47,
     "metadata": {},
     "output_type": "execute_result"
    }
   ],
   "source": [
    "scaled_data.describe()"
   ]
  },
  {
   "cell_type": "code",
   "execution_count": 53,
   "id": "95e45138-9649-486b-97b1-5eab3b4df729",
   "metadata": {},
   "outputs": [
    {
     "data": {
      "text/plain": [
       "1000.0"
      ]
     },
     "execution_count": 53,
     "metadata": {},
     "output_type": "execute_result"
    }
   ],
   "source": [
    "# 컴퓨터의 부동 소수점 연산"
   ]
  },
  {
   "cell_type": "code",
   "execution_count": 57,
   "id": "9fe11eca-bfda-4bde-9d0f-2a0022a4ccbc",
   "metadata": {},
   "outputs": [
    {
     "data": {
      "text/plain": [
       "<AxesSubplot:>"
      ]
     },
     "execution_count": 57,
     "metadata": {},
     "output_type": "execute_result"
    },
    {
     "data": {
      "image/png": "[encoded data removed]",
      "text/plain": [
       "<Figure size 432x288 with 1 Axes>"
      ]
     },
     "metadata": {
      "needs_background": "light"
     },
     "output_type": "display_data"
    }
   ],
   "source": [
    "data['income_total'].hist(bins=100)"
   ]
  },
  {
   "cell_type": "code",
   "execution_count": 58,
   "id": "cd4342ac-78a8-4e44-bbdb-2484fd8adc58",
   "metadata": {},
   "outputs": [
    {
     "data": {
      "text/plain": [
       "<AxesSubplot:>"
      ]
     },
     "execution_count": 58,
     "metadata": {},
     "output_type": "execute_result"
    },
    {
     "data": {
      "image/png": "[encoded data removed]",
      "text/plain": [
       "<Figure size 432x288 with 1 Axes>"
      ]
     },
     "metadata": {
      "needs_background": "light"
     },
     "output_type": "display_data"
    }
   ],
   "source": [
    "scaled_data['income_total'].hist(bins=100)"
   ]
  },
  {
   "cell_type": "markdown",
   "id": "a05f276f-6e81-46e5-8efc-3c0fcb9fd3bb",
   "metadata": {
    "id": "a05f276f-6e81-46e5-8efc-3c0fcb9fd3bb"
   },
   "source": [
    "## 3. Log Transformation\n",
    "변수의 범위를 조정하는 Min-Max Scaling과 Standard Scaling을 확인했습니다.<br>\n",
    "이번에는 치우친 분포(skew)의 형태를 보정해주는 방법 중 하나인 Log Transformation에 대해 배우겠습니다.<br>\n",
    "로그 변환은 어떤 변수의 범위가 양수인 경우 사용할 수 있으며, 각 변수에 대해 자연 로그를 취하는 연산 입니다.<br>\n",
    "해당 연산을 적용하면, 다음과 같은 왼쪽으로 치우친 분포(왼쪽)를 좋은 형태(오른쪽)의 정규 분포의 형태로 만들어줄 수 있습니다.<br>\n",
    "이는 왼쪽 그림에서 오른쪽으로 치우친 큰 값들을 작게(지수로) 표현함으로써 분포를 왼쪽으로 당기는 효과를 줄 수 있기 때문입니다.\n",
    "\n",
    "<img src='https://miro.medium.com/max/1620/1*O2R4nH0nR6d3bOxaYU10lg.png'>\n",
    "\n",
    "#### ref\n",
    "- [Log Transformation](https://medium.com/@kyawsawhtoon/log-transformation-purpose-and-interpretation-9444b4b049c9)"
   ]
  },
  {
   "cell_type": "code",
   "execution_count": 59,
   "id": "9d047ada-5919-4fa0-98c8-59f0a61c38c0",
   "metadata": {
    "colab": {
     "base_uri": "https://localhost:8080/",
     "height": 284
    },
    "executionInfo": {
     "elapsed": 830,
     "status": "ok",
     "timestamp": 1627103204808,
     "user": {
      "displayName": "I'm so Seoli",
      "photoUrl": "https://lh3.googleusercontent.com/a-/AOh14GgoGeyLbd3gxLLgPS5f5k5dEcdMQc_ZsAy-42tyJg=s64",
      "userId": "18012903892325475989"
     },
     "user_tz": -540
    },
    "id": "9d047ada-5919-4fa0-98c8-59f0a61c38c0",
    "outputId": "0c074493-6b1e-4c8a-ce13-18503f8d48f9"
   },
   "outputs": [
    {
     "data": {
      "text/plain": [
       "<AxesSubplot:>"
      ]
     },
     "execution_count": 59,
     "metadata": {},
     "output_type": "execute_result"
    },
    {
     "data": {
      "image/png": "[encoded data removed]",
      "text/plain": [
       "<Figure size 432x288 with 1 Axes>"
      ]
     },
     "metadata": {
      "needs_background": "light"
     },
     "output_type": "display_data"
    }
   ],
   "source": [
    "# 로그 변환 전\n",
    "scaled_data['income_total'].hist(bins=20)"
   ]
  },
  {
   "cell_type": "code",
   "execution_count": 60,
   "id": "21ccabb9-fdf8-49d7-ad3f-d38c1f23b14f",
   "metadata": {
    "colab": {
     "base_uri": "https://localhost:8080/",
     "height": 284
    },
    "executionInfo": {
     "elapsed": 341,
     "status": "ok",
     "timestamp": 1627103266513,
     "user": {
      "displayName": "I'm so Seoli",
      "photoUrl": "https://lh3.googleusercontent.com/a-/AOh14GgoGeyLbd3gxLLgPS5f5k5dEcdMQc_ZsAy-42tyJg=s64",
      "userId": "18012903892325475989"
     },
     "user_tz": -540
    },
    "id": "21ccabb9-fdf8-49d7-ad3f-d38c1f23b14f",
    "outputId": "6776aa9c-e4f6-4cfb-e6b7-9e20648d6b47"
   },
   "outputs": [
    {
     "data": {
      "text/plain": [
       "<AxesSubplot:>"
      ]
     },
     "execution_count": 60,
     "metadata": {},
     "output_type": "execute_result"
    },
    {
     "data": {
      "image/png": "[encoded data removed]",
      "text/plain": [
       "<Figure size 432x288 with 1 Axes>"
      ]
     },
     "metadata": {
      "needs_background": "light"
     },
     "output_type": "display_data"
    }
   ],
   "source": [
    "# 로그 변환 후\n",
    "scaled_data['log_income_total'] = np.log(data['income_total'])\n",
    "scaled_data['log_income_total'].hist(bins=20)"
   ]
  },
  {
   "cell_type": "markdown",
   "id": "e2f1de6b-759c-49ca-abdc-ef352ab10d83",
   "metadata": {
    "id": "e2f1de6b-759c-49ca-abdc-ef352ab10d83"
   },
   "source": [
    "## 4. Box-Cox, Yeo-Johnson, Quantile Transformation\n",
    "또 다른 여러가지 변환이 있습니다. 세가지 변환 모두 치우친 분포의 데이터를 정규 분포로 보정해주는 효과가 있으며,<br>\n",
    "Box-Cox 변환의 경우 Log 변환과 함께 양수에만 적용할 수 있는 변환이고, Yeo-Johnsong 변환은 Box-Cox 변환의 제약인 음수를 가진 변수에서도 변환을 할 수 있는 변환입니다.<br>\n",
    "Quantile 변환은 가장 자주 발생하는 값(the most frequent values.) 주위로 분포를 조정하며, 이상치의 영향을 감소시켜주는 특징도 있습니다.\n",
    "\n",
    "- Box-Cox 변환은 Lambda 값에 따라 변환이 달라지게 되는데, Lambda 값이 0일 경우 Log 변환과 동일합니다.\n",
    "\n",
    "<img src='https://scikit-learn.org/stable/_images/sphx_glr_plot_map_data_to_normal_001.png'>\n",
    "\n",
    "#### ref\n",
    "- [Scikit-learn PowerTransformer, Box-Cox, Yeo-Johnson Transformation](https://scikit-learn.org/stable/modules/generated/sklearn.preprocessing.PowerTransformer.html#sklearn.preprocessing.PowerTransformer)\n",
    "- [Scikit-learn Quantile Transformation](https://scikit-learn.org/stable/modules/generated/sklearn.preprocessing.QuantileTransformer.html#sklearn.preprocessing.QuantileTransformer)\n",
    "- [Scikit-learn Map Data To Normal Dist](https://scikit-learn.org/stable/auto_examples/preprocessing/plot_map_data_to_normal.html#sphx-glr-auto-examples-preprocessing-plot-map-data-to-normal-py)"
   ]
  },
  {
   "cell_type": "code",
   "execution_count": 64,
   "id": "8c241b85-1ced-4001-a7f1-a9a19d3da200",
   "metadata": {
    "colab": {
     "base_uri": "https://localhost:8080/",
     "height": 284
    },
    "executionInfo": {
     "elapsed": 334,
     "status": "ok",
     "timestamp": 1627103613666,
     "user": {
      "displayName": "I'm so Seoli",
      "photoUrl": "https://lh3.googleusercontent.com/a-/AOh14GgoGeyLbd3gxLLgPS5f5k5dEcdMQc_ZsAy-42tyJg=s64",
      "userId": "18012903892325475989"
     },
     "user_tz": -540
    },
    "id": "8c241b85-1ced-4001-a7f1-a9a19d3da200",
    "outputId": "512677ab-b69f-48ec-b784-bb6cfd5f9ff8"
   },
   "outputs": [
    {
     "data": {
      "text/plain": [
       "<AxesSubplot:>"
      ]
     },
     "execution_count": 64,
     "metadata": {},
     "output_type": "execute_result"
    },
    {
     "data": {
      "image/png": "[encoded data removed]",
      "text/plain": [
       "<Figure size 432x288 with 1 Axes>"
      ]
     },
     "metadata": {
      "needs_background": "light"
     },
     "output_type": "display_data"
    }
   ],
   "source": [
    "# 변환 전\n",
    "scaled_data['income_total'].hist(bins=20)"
   ]
  },
  {
   "cell_type": "code",
   "execution_count": 66,
   "id": "33cc4c32-3120-4c1b-a103-d41b2b23603f",
   "metadata": {
    "colab": {
     "base_uri": "https://localhost:8080/",
     "height": 284
    },
    "executionInfo": {
     "elapsed": 831,
     "status": "ok",
     "timestamp": 1627103636669,
     "user": {
      "displayName": "I'm so Seoli",
      "photoUrl": "https://lh3.googleusercontent.com/a-/AOh14GgoGeyLbd3gxLLgPS5f5k5dEcdMQc_ZsAy-42tyJg=s64",
      "userId": "18012903892325475989"
     },
     "user_tz": -540
    },
    "id": "33cc4c32-3120-4c1b-a103-d41b2b23603f",
    "outputId": "b8d12d4e-1923-4e63-f2ea-3507de1a3d0a"
   },
   "outputs": [
    {
     "data": {
      "text/plain": [
       "<AxesSubplot:>"
      ]
     },
     "execution_count": 66,
     "metadata": {},
     "output_type": "execute_result"
    },
    {
     "data": {
      "image/png": "[encoded data removed]",
      "text/plain": [
       "<Figure size 432x288 with 1 Axes>"
      ]
     },
     "metadata": {
      "needs_background": "light"
     },
     "output_type": "display_data"
    }
   ],
   "source": [
    "from sklearn.preprocessing import PowerTransformer\n",
    "\n",
    "# Box-Cox 변환 후\n",
    "trans = PowerTransformer(method='box-cox')\n",
    "\n",
    "scaled_data['box_cox_income_total'] = trans.fit_transform(data['income_total'].values.reshape(-1, 1))\n",
    "scaled_data['box_cox_income_total'].hist(bins=20)"
   ]
  },
  {
   "cell_type": "code",
   "execution_count": 67,
   "id": "42f90382-6692-42dc-8fa1-1e399ce2c053",
   "metadata": {
    "colab": {
     "base_uri": "https://localhost:8080/",
     "height": 284
    },
    "executionInfo": {
     "elapsed": 726,
     "status": "ok",
     "timestamp": 1627103657934,
     "user": {
      "displayName": "I'm so Seoli",
      "photoUrl": "https://lh3.googleusercontent.com/a-/AOh14GgoGeyLbd3gxLLgPS5f5k5dEcdMQc_ZsAy-42tyJg=s64",
      "userId": "18012903892325475989"
     },
     "user_tz": -540
    },
    "id": "42f90382-6692-42dc-8fa1-1e399ce2c053",
    "outputId": "3e6088ee-9623-468c-eab6-aa63684b851d"
   },
   "outputs": [
    {
     "data": {
      "text/plain": [
       "<AxesSubplot:>"
      ]
     },
     "execution_count": 67,
     "metadata": {},
     "output_type": "execute_result"
    },
    {
     "data": {
      "image/png": "[encoded data removed]",
      "text/plain": [
       "<Figure size 432x288 with 1 Axes>"
      ]
     },
     "metadata": {
      "needs_background": "light"
     },
     "output_type": "display_data"
    }
   ],
   "source": [
    "from sklearn.preprocessing import PowerTransformer\n",
    "\n",
    "# Yeo-Johnson 변환 후\n",
    "trans = PowerTransformer(method='yeo-johnson')\n",
    "\n",
    "scaled_data['yeo_johnson_income_total'] = trans.fit_transform(scaled_data['income_total'].values.reshape(-1, 1))\n",
    "scaled_data['yeo_johnson_income_total'].hist(bins=20)"
   ]
  },
  {
   "cell_type": "code",
   "execution_count": 68,
   "id": "36b857f9-45b0-447a-b2e0-ec7fed271f81",
   "metadata": {
    "colab": {
     "base_uri": "https://localhost:8080/",
     "height": 284
    },
    "executionInfo": {
     "elapsed": 290,
     "status": "ok",
     "timestamp": 1627103691851,
     "user": {
      "displayName": "I'm so Seoli",
      "photoUrl": "https://lh3.googleusercontent.com/a-/AOh14GgoGeyLbd3gxLLgPS5f5k5dEcdMQc_ZsAy-42tyJg=s64",
      "userId": "18012903892325475989"
     },
     "user_tz": -540
    },
    "id": "36b857f9-45b0-447a-b2e0-ec7fed271f81",
    "outputId": "001a5a80-1118-4256-bab6-a601b98e8064"
   },
   "outputs": [
    {
     "data": {
      "text/plain": [
       "<AxesSubplot:>"
      ]
     },
     "execution_count": 68,
     "metadata": {},
     "output_type": "execute_result"
    },
    {
     "data": {
      "image/png": "[encoded data removed]",
      "text/plain": [
       "<Figure size 432x288 with 1 Axes>"
      ]
     },
     "metadata": {
      "needs_background": "light"
     },
     "output_type": "display_data"
    }
   ],
   "source": [
    "from sklearn.preprocessing import QuantileTransformer\n",
    "\n",
    "# Quantile 변환 후\n",
    "trans = QuantileTransformer(output_distribution='normal')\n",
    "\n",
    "scaled_data['quantile_income_total'] = trans.fit_transform(scaled_data['income_total'].values.reshape(-1, 1))\n",
    "scaled_data['quantile_income_total'].hist(bins=20)"
   ]
  },
  {
   "cell_type": "markdown",
   "id": "6001749b-b7f2-47a2-8a7c-aa9fdfe6f33a",
   "metadata": {
    "id": "6001749b-b7f2-47a2-8a7c-aa9fdfe6f33a"
   },
   "source": [
    "# Imputation\n",
    "## 대표 값을 사용한 결측치 처리\n",
    "정형 데이터를 다루다보면, 값이 NaN(Not a Number or Null)으로 되어있는 경우가 있습니다. 이러한 값을 결측치라 하며, <br>\n",
    "가장 간단한 방법으로 평균이나 중간값 또는 최빈값 같은 변수의 대표값을 사용할 수 있습니다. <br>\n",
    "\n",
    "결측치를 확인하는 방법으로 missingno 라이브러리의 `matrix()` 메소드를 사용하거나 Pandas의 `isna() + sum()` 메소드를 사용할 수 있습니다."
   ]
  },
  {
   "cell_type": "code",
   "execution_count": 70,
   "id": "254c56b3-cf4c-4374-a1a0-bce85496616d",
   "metadata": {
    "colab": {
     "base_uri": "https://localhost:8080/",
     "height": 382
    },
    "executionInfo": {
     "elapsed": 7,
     "status": "ok",
     "timestamp": 1627104255807,
     "user": {
      "displayName": "I'm so Seoli",
      "photoUrl": "https://lh3.googleusercontent.com/a-/AOh14GgoGeyLbd3gxLLgPS5f5k5dEcdMQc_ZsAy-42tyJg=s64",
      "userId": "18012903892325475989"
     },
     "user_tz": -540
    },
    "id": "254c56b3-cf4c-4374-a1a0-bce85496616d",
    "outputId": "e933559a-df4b-46b2-ee37-62b3756eee27"
   },
   "outputs": [
    {
     "data": {
      "text/html": [
       "<div>\n",
       "<style scoped>\n",
       "    .dataframe tbody tr th:only-of-type {\n",
       "        vertical-align: middle;\n",
       "    }\n",
       "\n",
       "    .dataframe tbody tr th {\n",
       "        vertical-align: top;\n",
       "    }\n",
       "\n",
       "    .dataframe thead th {\n",
       "        text-align: right;\n",
       "    }\n",
       "</style>\n",
       "<table border=\"1\" class=\"dataframe\">\n",
       "  <thead>\n",
       "    <tr style=\"text-align: right;\">\n",
       "      <th></th>\n",
       "      <th>gender</th>\n",
       "      <th>car</th>\n",
       "      <th>reality</th>\n",
       "      <th>child_num</th>\n",
       "      <th>income_total</th>\n",
       "      <th>income_type</th>\n",
       "      <th>edu_type</th>\n",
       "      <th>family_type</th>\n",
       "      <th>house_type</th>\n",
       "      <th>DAYS_BIRTH</th>\n",
       "      <th>DAYS_EMPLOYED</th>\n",
       "      <th>FLAG_MOBIL</th>\n",
       "      <th>work_phone</th>\n",
       "      <th>phone</th>\n",
       "      <th>email</th>\n",
       "      <th>occyp_type</th>\n",
       "      <th>family_size</th>\n",
       "      <th>begin_month</th>\n",
       "    </tr>\n",
       "  </thead>\n",
       "  <tbody>\n",
       "    <tr>\n",
       "      <th>0</th>\n",
       "      <td>F</td>\n",
       "      <td>N</td>\n",
       "      <td>N</td>\n",
       "      <td>0</td>\n",
       "      <td>202500.0</td>\n",
       "      <td>Commercial associate</td>\n",
       "      <td>Higher education</td>\n",
       "      <td>Married</td>\n",
       "      <td>Municipal apartment</td>\n",
       "      <td>-13899</td>\n",
       "      <td>-4709</td>\n",
       "      <td>1</td>\n",
       "      <td>0</td>\n",
       "      <td>0</td>\n",
       "      <td>0</td>\n",
       "      <td>NaN</td>\n",
       "      <td>2.0</td>\n",
       "      <td>-6.0</td>\n",
       "    </tr>\n",
       "    <tr>\n",
       "      <th>1</th>\n",
       "      <td>F</td>\n",
       "      <td>N</td>\n",
       "      <td>Y</td>\n",
       "      <td>1</td>\n",
       "      <td>247500.0</td>\n",
       "      <td>Commercial associate</td>\n",
       "      <td>Secondary / secondary special</td>\n",
       "      <td>Civil marriage</td>\n",
       "      <td>House / apartment</td>\n",
       "      <td>-11380</td>\n",
       "      <td>-1540</td>\n",
       "      <td>1</td>\n",
       "      <td>0</td>\n",
       "      <td>0</td>\n",
       "      <td>1</td>\n",
       "      <td>Laborers</td>\n",
       "      <td>3.0</td>\n",
       "      <td>-5.0</td>\n",
       "    </tr>\n",
       "    <tr>\n",
       "      <th>2</th>\n",
       "      <td>M</td>\n",
       "      <td>Y</td>\n",
       "      <td>Y</td>\n",
       "      <td>0</td>\n",
       "      <td>450000.0</td>\n",
       "      <td>Working</td>\n",
       "      <td>Higher education</td>\n",
       "      <td>Married</td>\n",
       "      <td>House / apartment</td>\n",
       "      <td>-19087</td>\n",
       "      <td>-4434</td>\n",
       "      <td>1</td>\n",
       "      <td>0</td>\n",
       "      <td>1</td>\n",
       "      <td>0</td>\n",
       "      <td>Managers</td>\n",
       "      <td>2.0</td>\n",
       "      <td>-22.0</td>\n",
       "    </tr>\n",
       "    <tr>\n",
       "      <th>3</th>\n",
       "      <td>F</td>\n",
       "      <td>N</td>\n",
       "      <td>Y</td>\n",
       "      <td>0</td>\n",
       "      <td>202500.0</td>\n",
       "      <td>Commercial associate</td>\n",
       "      <td>Secondary / secondary special</td>\n",
       "      <td>Married</td>\n",
       "      <td>House / apartment</td>\n",
       "      <td>-15088</td>\n",
       "      <td>-2092</td>\n",
       "      <td>1</td>\n",
       "      <td>0</td>\n",
       "      <td>1</td>\n",
       "      <td>0</td>\n",
       "      <td>Sales staff</td>\n",
       "      <td>2.0</td>\n",
       "      <td>-37.0</td>\n",
       "    </tr>\n",
       "    <tr>\n",
       "      <th>4</th>\n",
       "      <td>F</td>\n",
       "      <td>Y</td>\n",
       "      <td>Y</td>\n",
       "      <td>0</td>\n",
       "      <td>157500.0</td>\n",
       "      <td>State servant</td>\n",
       "      <td>Higher education</td>\n",
       "      <td>Married</td>\n",
       "      <td>House / apartment</td>\n",
       "      <td>-15037</td>\n",
       "      <td>-2105</td>\n",
       "      <td>1</td>\n",
       "      <td>0</td>\n",
       "      <td>0</td>\n",
       "      <td>0</td>\n",
       "      <td>Managers</td>\n",
       "      <td>2.0</td>\n",
       "      <td>-26.0</td>\n",
       "    </tr>\n",
       "  </tbody>\n",
       "</table>\n",
       "</div>"
      ],
      "text/plain": [
       "  gender car reality  child_num  income_total           income_type  \\\n",
       "0      F   N       N          0      202500.0  Commercial associate   \n",
       "1      F   N       Y          1      247500.0  Commercial associate   \n",
       "2      M   Y       Y          0      450000.0               Working   \n",
       "3      F   N       Y          0      202500.0  Commercial associate   \n",
       "4      F   Y       Y          0      157500.0         State servant   \n",
       "\n",
       "                        edu_type     family_type           house_type  \\\n",
       "0               Higher education         Married  Municipal apartment   \n",
       "1  Secondary / secondary special  Civil marriage    House / apartment   \n",
       "2               Higher education         Married    House / apartment   \n",
       "3  Secondary / secondary special         Married    House / apartment   \n",
       "4               Higher education         Married    House / apartment   \n",
       "\n",
       "   DAYS_BIRTH  DAYS_EMPLOYED  FLAG_MOBIL  work_phone  phone  email  \\\n",
       "0      -13899          -4709           1           0      0      0   \n",
       "1      -11380          -1540           1           0      0      1   \n",
       "2      -19087          -4434           1           0      1      0   \n",
       "3      -15088          -2092           1           0      1      0   \n",
       "4      -15037          -2105           1           0      0      0   \n",
       "\n",
       "    occyp_type  family_size  begin_month  \n",
       "0          NaN          2.0         -6.0  \n",
       "1     Laborers          3.0         -5.0  \n",
       "2     Managers          2.0        -22.0  \n",
       "3  Sales staff          2.0        -37.0  \n",
       "4     Managers          2.0        -26.0  "
      ]
     },
     "execution_count": 70,
     "metadata": {},
     "output_type": "execute_result"
    }
   ],
   "source": [
    "data.head()"
   ]
  },
  {
   "cell_type": "code",
   "execution_count": 71,
   "id": "8e6162f4-a89c-49c7-9d1d-abde12edcd0e",
   "metadata": {
    "colab": {
     "base_uri": "https://localhost:8080/",
     "height": 564
    },
    "executionInfo": {
     "elapsed": 1309,
     "status": "ok",
     "timestamp": 1627104257112,
     "user": {
      "displayName": "I'm so Seoli",
      "photoUrl": "https://lh3.googleusercontent.com/a-/AOh14GgoGeyLbd3gxLLgPS5f5k5dEcdMQc_ZsAy-42tyJg=s64",
      "userId": "18012903892325475989"
     },
     "user_tz": -540
    },
    "id": "8e6162f4-a89c-49c7-9d1d-abde12edcd0e",
    "outputId": "f0614cbb-d626-40f0-e2fe-fcb048b19ce9"
   },
   "outputs": [
    {
     "data": {
      "text/plain": [
       "<AxesSubplot:>"
      ]
     },
     "execution_count": 71,
     "metadata": {},
     "output_type": "execute_result"
    },
    {
     "data": {
      "image/png": "[encoded data removed]",
      "text/plain": [
       "<Figure size 1800x720 with 2 Axes>"
      ]
     },
     "metadata": {
      "needs_background": "light"
     },
     "output_type": "display_data"
    }
   ],
   "source": [
    "import missingno as msno\n",
    "\n",
    "msno.matrix(data)"
   ]
  },
  {
   "cell_type": "code",
   "execution_count": 74,
   "id": "baeaff17-1057-49e8-ae01-41c33a329e58",
   "metadata": {},
   "outputs": [
    {
     "data": {
      "text/html": [
       "<div>\n",
       "<style scoped>\n",
       "    .dataframe tbody tr th:only-of-type {\n",
       "        vertical-align: middle;\n",
       "    }\n",
       "\n",
       "    .dataframe tbody tr th {\n",
       "        vertical-align: top;\n",
       "    }\n",
       "\n",
       "    .dataframe thead th {\n",
       "        text-align: right;\n",
       "    }\n",
       "</style>\n",
       "<table border=\"1\" class=\"dataframe\">\n",
       "  <thead>\n",
       "    <tr style=\"text-align: right;\">\n",
       "      <th></th>\n",
       "      <th>gender</th>\n",
       "      <th>car</th>\n",
       "      <th>reality</th>\n",
       "      <th>child_num</th>\n",
       "      <th>income_total</th>\n",
       "      <th>income_type</th>\n",
       "      <th>edu_type</th>\n",
       "      <th>family_type</th>\n",
       "      <th>house_type</th>\n",
       "      <th>DAYS_BIRTH</th>\n",
       "      <th>DAYS_EMPLOYED</th>\n",
       "      <th>FLAG_MOBIL</th>\n",
       "      <th>work_phone</th>\n",
       "      <th>phone</th>\n",
       "      <th>email</th>\n",
       "      <th>occyp_type</th>\n",
       "      <th>family_size</th>\n",
       "      <th>begin_month</th>\n",
       "    </tr>\n",
       "  </thead>\n",
       "  <tbody>\n",
       "    <tr>\n",
       "      <th>0</th>\n",
       "      <td>False</td>\n",
       "      <td>False</td>\n",
       "      <td>False</td>\n",
       "      <td>False</td>\n",
       "      <td>False</td>\n",
       "      <td>False</td>\n",
       "      <td>False</td>\n",
       "      <td>False</td>\n",
       "      <td>False</td>\n",
       "      <td>False</td>\n",
       "      <td>False</td>\n",
       "      <td>False</td>\n",
       "      <td>False</td>\n",
       "      <td>False</td>\n",
       "      <td>False</td>\n",
       "      <td>True</td>\n",
       "      <td>False</td>\n",
       "      <td>False</td>\n",
       "    </tr>\n",
       "    <tr>\n",
       "      <th>1</th>\n",
       "      <td>False</td>\n",
       "      <td>False</td>\n",
       "      <td>False</td>\n",
       "      <td>False</td>\n",
       "      <td>False</td>\n",
       "      <td>False</td>\n",
       "      <td>False</td>\n",
       "      <td>False</td>\n",
       "      <td>False</td>\n",
       "      <td>False</td>\n",
       "      <td>False</td>\n",
       "      <td>False</td>\n",
       "      <td>False</td>\n",
       "      <td>False</td>\n",
       "      <td>False</td>\n",
       "      <td>False</td>\n",
       "      <td>False</td>\n",
       "      <td>False</td>\n",
       "    </tr>\n",
       "    <tr>\n",
       "      <th>2</th>\n",
       "      <td>False</td>\n",
       "      <td>False</td>\n",
       "      <td>False</td>\n",
       "      <td>False</td>\n",
       "      <td>False</td>\n",
       "      <td>False</td>\n",
       "      <td>False</td>\n",
       "      <td>False</td>\n",
       "      <td>False</td>\n",
       "      <td>False</td>\n",
       "      <td>False</td>\n",
       "      <td>False</td>\n",
       "      <td>False</td>\n",
       "      <td>False</td>\n",
       "      <td>False</td>\n",
       "      <td>False</td>\n",
       "      <td>False</td>\n",
       "      <td>False</td>\n",
       "    </tr>\n",
       "    <tr>\n",
       "      <th>3</th>\n",
       "      <td>False</td>\n",
       "      <td>False</td>\n",
       "      <td>False</td>\n",
       "      <td>False</td>\n",
       "      <td>False</td>\n",
       "      <td>False</td>\n",
       "      <td>False</td>\n",
       "      <td>False</td>\n",
       "      <td>False</td>\n",
       "      <td>False</td>\n",
       "      <td>False</td>\n",
       "      <td>False</td>\n",
       "      <td>False</td>\n",
       "      <td>False</td>\n",
       "      <td>False</td>\n",
       "      <td>False</td>\n",
       "      <td>False</td>\n",
       "      <td>False</td>\n",
       "    </tr>\n",
       "    <tr>\n",
       "      <th>4</th>\n",
       "      <td>False</td>\n",
       "      <td>False</td>\n",
       "      <td>False</td>\n",
       "      <td>False</td>\n",
       "      <td>False</td>\n",
       "      <td>False</td>\n",
       "      <td>False</td>\n",
       "      <td>False</td>\n",
       "      <td>False</td>\n",
       "      <td>False</td>\n",
       "      <td>False</td>\n",
       "      <td>False</td>\n",
       "      <td>False</td>\n",
       "      <td>False</td>\n",
       "      <td>False</td>\n",
       "      <td>False</td>\n",
       "      <td>False</td>\n",
       "      <td>False</td>\n",
       "    </tr>\n",
       "    <tr>\n",
       "      <th>...</th>\n",
       "      <td>...</td>\n",
       "      <td>...</td>\n",
       "      <td>...</td>\n",
       "      <td>...</td>\n",
       "      <td>...</td>\n",
       "      <td>...</td>\n",
       "      <td>...</td>\n",
       "      <td>...</td>\n",
       "      <td>...</td>\n",
       "      <td>...</td>\n",
       "      <td>...</td>\n",
       "      <td>...</td>\n",
       "      <td>...</td>\n",
       "      <td>...</td>\n",
       "      <td>...</td>\n",
       "      <td>...</td>\n",
       "      <td>...</td>\n",
       "      <td>...</td>\n",
       "    </tr>\n",
       "    <tr>\n",
       "      <th>26452</th>\n",
       "      <td>False</td>\n",
       "      <td>False</td>\n",
       "      <td>False</td>\n",
       "      <td>False</td>\n",
       "      <td>False</td>\n",
       "      <td>False</td>\n",
       "      <td>False</td>\n",
       "      <td>False</td>\n",
       "      <td>False</td>\n",
       "      <td>False</td>\n",
       "      <td>False</td>\n",
       "      <td>False</td>\n",
       "      <td>False</td>\n",
       "      <td>False</td>\n",
       "      <td>False</td>\n",
       "      <td>False</td>\n",
       "      <td>False</td>\n",
       "      <td>False</td>\n",
       "    </tr>\n",
       "    <tr>\n",
       "      <th>26453</th>\n",
       "      <td>False</td>\n",
       "      <td>False</td>\n",
       "      <td>False</td>\n",
       "      <td>False</td>\n",
       "      <td>False</td>\n",
       "      <td>False</td>\n",
       "      <td>False</td>\n",
       "      <td>False</td>\n",
       "      <td>False</td>\n",
       "      <td>False</td>\n",
       "      <td>False</td>\n",
       "      <td>False</td>\n",
       "      <td>False</td>\n",
       "      <td>False</td>\n",
       "      <td>False</td>\n",
       "      <td>True</td>\n",
       "      <td>False</td>\n",
       "      <td>False</td>\n",
       "    </tr>\n",
       "    <tr>\n",
       "      <th>26454</th>\n",
       "      <td>False</td>\n",
       "      <td>False</td>\n",
       "      <td>False</td>\n",
       "      <td>False</td>\n",
       "      <td>False</td>\n",
       "      <td>False</td>\n",
       "      <td>False</td>\n",
       "      <td>False</td>\n",
       "      <td>False</td>\n",
       "      <td>False</td>\n",
       "      <td>False</td>\n",
       "      <td>False</td>\n",
       "      <td>False</td>\n",
       "      <td>False</td>\n",
       "      <td>False</td>\n",
       "      <td>False</td>\n",
       "      <td>False</td>\n",
       "      <td>False</td>\n",
       "    </tr>\n",
       "    <tr>\n",
       "      <th>26455</th>\n",
       "      <td>False</td>\n",
       "      <td>False</td>\n",
       "      <td>False</td>\n",
       "      <td>False</td>\n",
       "      <td>False</td>\n",
       "      <td>False</td>\n",
       "      <td>False</td>\n",
       "      <td>False</td>\n",
       "      <td>False</td>\n",
       "      <td>False</td>\n",
       "      <td>False</td>\n",
       "      <td>False</td>\n",
       "      <td>False</td>\n",
       "      <td>False</td>\n",
       "      <td>False</td>\n",
       "      <td>False</td>\n",
       "      <td>False</td>\n",
       "      <td>False</td>\n",
       "    </tr>\n",
       "    <tr>\n",
       "      <th>26456</th>\n",
       "      <td>False</td>\n",
       "      <td>False</td>\n",
       "      <td>False</td>\n",
       "      <td>False</td>\n",
       "      <td>False</td>\n",
       "      <td>False</td>\n",
       "      <td>False</td>\n",
       "      <td>False</td>\n",
       "      <td>False</td>\n",
       "      <td>False</td>\n",
       "      <td>False</td>\n",
       "      <td>False</td>\n",
       "      <td>False</td>\n",
       "      <td>False</td>\n",
       "      <td>False</td>\n",
       "      <td>False</td>\n",
       "      <td>False</td>\n",
       "      <td>False</td>\n",
       "    </tr>\n",
       "  </tbody>\n",
       "</table>\n",
       "<p>26457 rows × 18 columns</p>\n",
       "</div>"
      ],
      "text/plain": [
       "       gender    car  reality  child_num  income_total  income_type  edu_type  \\\n",
       "0       False  False    False      False         False        False     False   \n",
       "1       False  False    False      False         False        False     False   \n",
       "2       False  False    False      False         False        False     False   \n",
       "3       False  False    False      False         False        False     False   \n",
       "4       False  False    False      False         False        False     False   \n",
       "...       ...    ...      ...        ...           ...          ...       ...   \n",
       "26452   False  False    False      False         False        False     False   \n",
       "26453   False  False    False      False         False        False     False   \n",
       "26454   False  False    False      False         False        False     False   \n",
       "26455   False  False    False      False         False        False     False   \n",
       "26456   False  False    False      False         False        False     False   \n",
       "\n",
       "       family_type  house_type  DAYS_BIRTH  DAYS_EMPLOYED  FLAG_MOBIL  \\\n",
       "0            False       False       False          False       False   \n",
       "1            False       False       False          False       False   \n",
       "2            False       False       False          False       False   \n",
       "3            False       False       False          False       False   \n",
       "4            False       False       False          False       False   \n",
       "...            ...         ...         ...            ...         ...   \n",
       "26452        False       False       False          False       False   \n",
       "26453        False       False       False          False       False   \n",
       "26454        False       False       False          False       False   \n",
       "26455        False       False       False          False       False   \n",
       "26456        False       False       False          False       False   \n",
       "\n",
       "       work_phone  phone  email  occyp_type  family_size  begin_month  \n",
       "0           False  False  False        True        False        False  \n",
       "1           False  False  False       False        False        False  \n",
       "2           False  False  False       False        False        False  \n",
       "3           False  False  False       False        False        False  \n",
       "4           False  False  False       False        False        False  \n",
       "...           ...    ...    ...         ...          ...          ...  \n",
       "26452       False  False  False       False        False        False  \n",
       "26453       False  False  False        True        False        False  \n",
       "26454       False  False  False       False        False        False  \n",
       "26455       False  False  False       False        False        False  \n",
       "26456       False  False  False       False        False        False  \n",
       "\n",
       "[26457 rows x 18 columns]"
      ]
     },
     "execution_count": 74,
     "metadata": {},
     "output_type": "execute_result"
    }
   ],
   "source": [
    "pd.isna(data)"
   ]
  },
  {
   "cell_type": "code",
   "execution_count": 73,
   "id": "96960daa-b9b9-476d-b8ae-3ddccf55f50a",
   "metadata": {
    "colab": {
     "base_uri": "https://localhost:8080/"
    },
    "executionInfo": {
     "elapsed": 284,
     "status": "ok",
     "timestamp": 1627104421181,
     "user": {
      "displayName": "I'm so Seoli",
      "photoUrl": "https://lh3.googleusercontent.com/a-/AOh14GgoGeyLbd3gxLLgPS5f5k5dEcdMQc_ZsAy-42tyJg=s64",
      "userId": "18012903892325475989"
     },
     "user_tz": -540
    },
    "id": "96960daa-b9b9-476d-b8ae-3ddccf55f50a",
    "outputId": "e54db0e7-afeb-430b-e0aa-8454c1741439"
   },
   "outputs": [
    {
     "data": {
      "text/plain": [
       "gender              0\n",
       "car                 0\n",
       "reality             0\n",
       "child_num           0\n",
       "income_total        0\n",
       "income_type         0\n",
       "edu_type            0\n",
       "family_type         0\n",
       "house_type          0\n",
       "DAYS_BIRTH          0\n",
       "DAYS_EMPLOYED       0\n",
       "FLAG_MOBIL          0\n",
       "work_phone          0\n",
       "phone               0\n",
       "email               0\n",
       "occyp_type       8171\n",
       "family_size         0\n",
       "begin_month         0\n",
       "dtype: int64"
      ]
     },
     "execution_count": 73,
     "metadata": {},
     "output_type": "execute_result"
    }
   ],
   "source": [
    "pd.isna(data).sum()"
   ]
  },
  {
   "cell_type": "markdown",
   "id": "198b1bc2-612c-4007-be1b-f12cd0ea381c",
   "metadata": {
    "id": "198b1bc2-612c-4007-be1b-f12cd0ea381c"
   },
   "source": [
    "수치형 변수에 결측치가 존재하지 않으므로 임의로 인덱스를 선택해 결측치를 만들겠습니다."
   ]
  },
  {
   "cell_type": "code",
   "execution_count": 75,
   "id": "88d02bdc-a085-4984-bb90-b3646da4fad5",
   "metadata": {
    "executionInfo": {
     "elapsed": 469,
     "status": "ok",
     "timestamp": 1627104558458,
     "user": {
      "displayName": "I'm so Seoli",
      "photoUrl": "https://lh3.googleusercontent.com/a-/AOh14GgoGeyLbd3gxLLgPS5f5k5dEcdMQc_ZsAy-42tyJg=s64",
      "userId": "18012903892325475989"
     },
     "user_tz": -540
    },
    "id": "88d02bdc-a085-4984-bb90-b3646da4fad5"
   },
   "outputs": [],
   "source": [
    "missing_idx = np.random.choice(data.index.values, size=data.shape[0]//10, replace=False)"
   ]
  },
  {
   "cell_type": "code",
   "execution_count": 76,
   "id": "10768ba0-7c97-44d4-8923-71eedcd6f806",
   "metadata": {
    "colab": {
     "base_uri": "https://localhost:8080/"
    },
    "executionInfo": {
     "elapsed": 4,
     "status": "ok",
     "timestamp": 1627104558459,
     "user": {
      "displayName": "I'm so Seoli",
      "photoUrl": "https://lh3.googleusercontent.com/a-/AOh14GgoGeyLbd3gxLLgPS5f5k5dEcdMQc_ZsAy-42tyJg=s64",
      "userId": "18012903892325475989"
     },
     "user_tz": -540
    },
    "id": "10768ba0-7c97-44d4-8923-71eedcd6f806",
    "outputId": "9945ee72-b930-4dc7-8a8b-2ff9f66eadce"
   },
   "outputs": [
    {
     "data": {
      "text/plain": [
       "((26457, 18), (2645,))"
      ]
     },
     "execution_count": 76,
     "metadata": {},
     "output_type": "execute_result"
    }
   ],
   "source": [
    "data.shape, missing_idx.shape"
   ]
  },
  {
   "cell_type": "code",
   "execution_count": 77,
   "id": "d666edac-b4b3-4779-ad3b-4c9210c58153",
   "metadata": {
    "executionInfo": {
     "elapsed": 365,
     "status": "ok",
     "timestamp": 1627104569816,
     "user": {
      "displayName": "I'm so Seoli",
      "photoUrl": "https://lh3.googleusercontent.com/a-/AOh14GgoGeyLbd3gxLLgPS5f5k5dEcdMQc_ZsAy-42tyJg=s64",
      "userId": "18012903892325475989"
     },
     "user_tz": -540
    },
    "id": "d666edac-b4b3-4779-ad3b-4c9210c58153"
   },
   "outputs": [],
   "source": [
    "missed_data = data.copy()\n",
    "missed_data.iloc[missing_idx] = np.nan "
   ]
  },
  {
   "cell_type": "code",
   "execution_count": 78,
   "id": "c0054a12-4b00-4c7a-a2d0-ab5035447f23",
   "metadata": {
    "colab": {
     "base_uri": "https://localhost:8080/"
    },
    "executionInfo": {
     "elapsed": 4,
     "status": "ok",
     "timestamp": 1627104570299,
     "user": {
      "displayName": "I'm so Seoli",
      "photoUrl": "https://lh3.googleusercontent.com/a-/AOh14GgoGeyLbd3gxLLgPS5f5k5dEcdMQc_ZsAy-42tyJg=s64",
      "userId": "18012903892325475989"
     },
     "user_tz": -540
    },
    "id": "c0054a12-4b00-4c7a-a2d0-ab5035447f23",
    "outputId": "277d5c5b-1b56-4292-91d7-430127658fbf"
   },
   "outputs": [
    {
     "data": {
      "text/plain": [
       "gender            2645\n",
       "car               2645\n",
       "reality           2645\n",
       "child_num         2645\n",
       "income_total      2645\n",
       "income_type       2645\n",
       "edu_type          2645\n",
       "family_type       2645\n",
       "house_type        2645\n",
       "DAYS_BIRTH        2645\n",
       "DAYS_EMPLOYED     2645\n",
       "FLAG_MOBIL        2645\n",
       "work_phone        2645\n",
       "phone             2645\n",
       "email             2645\n",
       "occyp_type       10005\n",
       "family_size       2645\n",
       "begin_month       2645\n",
       "dtype: int64"
      ]
     },
     "execution_count": 78,
     "metadata": {},
     "output_type": "execute_result"
    }
   ],
   "source": [
    "pd.isna(missed_data).sum()"
   ]
  },
  {
   "cell_type": "code",
   "execution_count": 79,
   "id": "0eb935ba-a22d-436a-bb83-8f105b9d486c",
   "metadata": {},
   "outputs": [
    {
     "data": {
      "text/plain": [
       "<AxesSubplot:>"
      ]
     },
     "execution_count": 79,
     "metadata": {},
     "output_type": "execute_result"
    },
    {
     "data": {
      "image/png": "[encoded data removed]",
      "text/plain": [
       "<Figure size 1800x720 with 2 Axes>"
      ]
     },
     "metadata": {
      "needs_background": "light"
     },
     "output_type": "display_data"
    }
   ],
   "source": [
    "msno.matrix(missed_data)"
   ]
  },
  {
   "cell_type": "markdown",
   "id": "26e92454-d446-464b-902b-4bf7d2c9edc7",
   "metadata": {
    "id": "26e92454-d446-464b-902b-4bf7d2c9edc7"
   },
   "source": [
    "### 1. Mean(평균)\n",
    "\n",
    "확률 이론과 통계 관점에서 (모)평균 또는 기댓값은 중심에 대한 경향성을 알 수 있는 척도입니다.<br>\n",
    "일반적으로 평균이라고 부르는 것으로 산술 평균이라고 하고, 이 평균은 표본 평균이라고도 합니다.<br>\n",
    "평균은 모든 관측치의 값을 모두 반영하므로 `지나치게 작거나 큰 값(이상치)들의 영향을 많이` 받게 됩니다.<br>\n",
    "평균은 모든 샘플의 값을 더하고, 샘플의 개수로 나누어 계산할 수 있습니다.<br>\n",
    "\n",
    "$$ E(x) = {\\sum x \\over n}$$\n",
    "\n",
    "평균, 중간값, 최빈값으로 결측치를 처리하는 SimpleImputer는 Scikit-Learn에서 impute 패키지에 있습니다."
   ]
  },
  {
   "cell_type": "code",
   "execution_count": 95,
   "id": "c093856a-a0a5-4df8-ad65-448c46974081",
   "metadata": {
    "executionInfo": {
     "elapsed": 260,
     "status": "ok",
     "timestamp": 1627105951382,
     "user": {
      "displayName": "I'm so Seoli",
      "photoUrl": "https://lh3.googleusercontent.com/a-/AOh14GgoGeyLbd3gxLLgPS5f5k5dEcdMQc_ZsAy-42tyJg=s64",
      "userId": "18012903892325475989"
     },
     "user_tz": -540
    },
    "id": "c093856a-a0a5-4df8-ad65-448c46974081"
   },
   "outputs": [],
   "source": [
    "from sklearn.impute import SimpleImputer"
   ]
  },
  {
   "cell_type": "code",
   "execution_count": 96,
   "id": "54b643a9-eca7-4106-a1d6-2f447c86ddd8",
   "metadata": {
    "executionInfo": {
     "elapsed": 2,
     "status": "ok",
     "timestamp": 1627105951778,
     "user": {
      "displayName": "I'm so Seoli",
      "photoUrl": "https://lh3.googleusercontent.com/a-/AOh14GgoGeyLbd3gxLLgPS5f5k5dEcdMQc_ZsAy-42tyJg=s64",
      "userId": "18012903892325475989"
     },
     "user_tz": -540
    },
    "id": "54b643a9-eca7-4106-a1d6-2f447c86ddd8"
   },
   "outputs": [],
   "source": [
    "mean_df = missed_data.copy()"
   ]
  },
  {
   "cell_type": "code",
   "execution_count": 97,
   "id": "7ed0e7b7-d124-4665-84d4-f56d4fefdbfd",
   "metadata": {
    "colab": {
     "base_uri": "https://localhost:8080/"
    },
    "executionInfo": {
     "elapsed": 2,
     "status": "ok",
     "timestamp": 1627105952712,
     "user": {
      "displayName": "I'm so Seoli",
      "photoUrl": "https://lh3.googleusercontent.com/a-/AOh14GgoGeyLbd3gxLLgPS5f5k5dEcdMQc_ZsAy-42tyJg=s64",
      "userId": "18012903892325475989"
     },
     "user_tz": -540
    },
    "id": "7ed0e7b7-d124-4665-84d4-f56d4fefdbfd",
    "outputId": "4c906485-b4cb-4066-8935-ce9d09cc1b33"
   },
   "outputs": [
    {
     "data": {
      "text/plain": [
       "child_num        2645\n",
       "income_total     2645\n",
       "DAYS_BIRTH       2645\n",
       "DAYS_EMPLOYED    2645\n",
       "FLAG_MOBIL       2645\n",
       "work_phone       2645\n",
       "phone            2645\n",
       "email            2645\n",
       "family_size      2645\n",
       "begin_month      2645\n",
       "dtype: int64"
      ]
     },
     "execution_count": 97,
     "metadata": {},
     "output_type": "execute_result"
    }
   ],
   "source": [
    "pd.isna(mean_df[num_columns]).sum()"
   ]
  },
  {
   "cell_type": "code",
   "execution_count": 98,
   "id": "9d51f60d-eec3-4b55-a235-c4f5ef7880ed",
   "metadata": {
    "executionInfo": {
     "elapsed": 308,
     "status": "ok",
     "timestamp": 1627105270845,
     "user": {
      "displayName": "I'm so Seoli",
      "photoUrl": "https://lh3.googleusercontent.com/a-/AOh14GgoGeyLbd3gxLLgPS5f5k5dEcdMQc_ZsAy-42tyJg=s64",
      "userId": "18012903892325475989"
     },
     "user_tz": -540
    },
    "id": "9d51f60d-eec3-4b55-a235-c4f5ef7880ed"
   },
   "outputs": [],
   "source": [
    "imputer = SimpleImputer(strategy='mean')\n",
    "# mean_df[num_columns] = imputer.fit_transform(mean_df[num_columns])\n",
    "\n",
    "imputer.fit(mean_df[num_columns])\n",
    "mean_df[num_columns] = imputer.transform(mean_df[num_columns])"
   ]
  },
  {
   "cell_type": "code",
   "execution_count": 99,
   "id": "05a55168-f811-4f63-b5b4-629c5c754d57",
   "metadata": {
    "colab": {
     "base_uri": "https://localhost:8080/"
    },
    "executionInfo": {
     "elapsed": 285,
     "status": "ok",
     "timestamp": 1627105272692,
     "user": {
      "displayName": "I'm so Seoli",
      "photoUrl": "https://lh3.googleusercontent.com/a-/AOh14GgoGeyLbd3gxLLgPS5f5k5dEcdMQc_ZsAy-42tyJg=s64",
      "userId": "18012903892325475989"
     },
     "user_tz": -540
    },
    "id": "05a55168-f811-4f63-b5b4-629c5c754d57",
    "outputId": "5886f29b-5471-44b8-c518-0072d9b5029b"
   },
   "outputs": [
    {
     "data": {
      "text/plain": [
       "child_num        0\n",
       "income_total     0\n",
       "DAYS_BIRTH       0\n",
       "DAYS_EMPLOYED    0\n",
       "FLAG_MOBIL       0\n",
       "work_phone       0\n",
       "phone            0\n",
       "email            0\n",
       "family_size      0\n",
       "begin_month      0\n",
       "dtype: int64"
      ]
     },
     "execution_count": 99,
     "metadata": {},
     "output_type": "execute_result"
    }
   ],
   "source": [
    "pd.isna(mean_df[num_columns]).sum()"
   ]
  },
  {
   "cell_type": "code",
   "execution_count": 100,
   "id": "0d530123-b92a-49a2-9cb2-b74b24493413",
   "metadata": {},
   "outputs": [
    {
     "data": {
      "text/plain": [
       "array([ 4.28103477e-01,  1.87493641e+05, -1.59573547e+04,  5.92958093e+04,\n",
       "        1.00000000e+00,  2.23458760e-01,  2.93381488e-01,  9.18444482e-02,\n",
       "        2.19464976e+00, -2.61029733e+01])"
      ]
     },
     "execution_count": 100,
     "metadata": {},
     "output_type": "execute_result"
    }
   ],
   "source": [
    "imputer.statistics_"
   ]
  },
  {
   "cell_type": "markdown",
   "id": "1a329f34-eefe-442b-9a24-be9f8cc884a0",
   "metadata": {
    "id": "1a329f34-eefe-442b-9a24-be9f8cc884a0"
   },
   "source": [
    "### 2. Median(중간값) \n",
    "중간값은 데이터 샘플을 개수에 대해서 절반으로 나누는 위치의 값을 말합니다. <br>\n",
    "데이터 샘플의 수가 짝수개일 때에는 중간에 위치한 두 값의 평균을 사용합니다.<br>\n",
    "중간값은 모든 관측치의 값을 모두 반영하지 않으므로 `지나치게 작거나 큰 값(이상치)들의 영향을 덜` 받습니다.<br>\n",
    "중간값은 샘플을 값에 대해 정렬하고, 중앙에 위치한 값으로 구할 수 있습니다."
   ]
  },
  {
   "cell_type": "code",
   "execution_count": 86,
   "id": "1b43a68c-a6a2-48b2-85be-36330e42f575",
   "metadata": {
    "executionInfo": {
     "elapsed": 371,
     "status": "ok",
     "timestamp": 1627105400364,
     "user": {
      "displayName": "I'm so Seoli",
      "photoUrl": "https://lh3.googleusercontent.com/a-/AOh14GgoGeyLbd3gxLLgPS5f5k5dEcdMQc_ZsAy-42tyJg=s64",
      "userId": "18012903892325475989"
     },
     "user_tz": -540
    },
    "id": "1b43a68c-a6a2-48b2-85be-36330e42f575"
   },
   "outputs": [],
   "source": [
    "median_df = missed_data.copy()"
   ]
  },
  {
   "cell_type": "code",
   "execution_count": 87,
   "id": "8cdcda01-5dae-405e-b2b8-6b754021d210",
   "metadata": {
    "executionInfo": {
     "elapsed": 2,
     "status": "ok",
     "timestamp": 1627105401073,
     "user": {
      "displayName": "I'm so Seoli",
      "photoUrl": "https://lh3.googleusercontent.com/a-/AOh14GgoGeyLbd3gxLLgPS5f5k5dEcdMQc_ZsAy-42tyJg=s64",
      "userId": "18012903892325475989"
     },
     "user_tz": -540
    },
    "id": "8cdcda01-5dae-405e-b2b8-6b754021d210"
   },
   "outputs": [],
   "source": [
    "imputer = SimpleImputer(strategy='median')\n",
    "median_df[num_columns] = imputer.fit_transform(median_df[num_columns])"
   ]
  },
  {
   "cell_type": "code",
   "execution_count": 88,
   "id": "d8fa6a35-aaca-4e63-bd36-e6fc7ac73a0c",
   "metadata": {
    "colab": {
     "base_uri": "https://localhost:8080/"
    },
    "executionInfo": {
     "elapsed": 2,
     "status": "ok",
     "timestamp": 1627105401073,
     "user": {
      "displayName": "I'm so Seoli",
      "photoUrl": "https://lh3.googleusercontent.com/a-/AOh14GgoGeyLbd3gxLLgPS5f5k5dEcdMQc_ZsAy-42tyJg=s64",
      "userId": "18012903892325475989"
     },
     "user_tz": -540
    },
    "id": "d8fa6a35-aaca-4e63-bd36-e6fc7ac73a0c",
    "outputId": "7d88aa29-34fe-48f7-d835-787a880e5444"
   },
   "outputs": [
    {
     "data": {
      "text/plain": [
       "child_num        0\n",
       "income_total     0\n",
       "DAYS_BIRTH       0\n",
       "DAYS_EMPLOYED    0\n",
       "FLAG_MOBIL       0\n",
       "work_phone       0\n",
       "phone            0\n",
       "email            0\n",
       "family_size      0\n",
       "begin_month      0\n",
       "dtype: int64"
      ]
     },
     "execution_count": 88,
     "metadata": {},
     "output_type": "execute_result"
    }
   ],
   "source": [
    "pd.isna(median_df[num_columns]).sum()"
   ]
  },
  {
   "cell_type": "markdown",
   "id": "10ec0bc6-1035-4d4e-b0b9-38d497f77cc4",
   "metadata": {
    "id": "10ec0bc6-1035-4d4e-b0b9-38d497f77cc4"
   },
   "source": [
    "### 3. Iterative Impute (R 언어의 MICE 패키지)\n",
    "Round robin 방식으로 반복하여 결측값을 회귀하는 방식으로 결측치를 처리합니다. <br>\n",
    "결측값을 회귀하는 방식으로 처리하기 때문에 수치형 변수에만 적용할 수 있습니다.\n",
    "\n",
    "1. 각 결측치를 해당 변수의 평균으로 채워넣는다. \n",
    "2. 대체할 변수의 결측치는 제외한 상태로 해당 변수의 결측치를 회귀모델을 이용하여 예측한다.\n",
    "3. 다른 변수에서도 해당 방식을 반복한다.\n",
    "4. 모든 변수에 대해 반복 후 해당 이터레이션에서 이전 반복에서 할당했던 값과의 차이를 계산한다.\n",
    "5. 해당 값의 차이가 0이 될 때(수렴)까지 반복한다.\n",
    "\n",
    "MICE 알고리즘으로 결측치를 처리하는 IterativeImputer는 Scikit-Learn에서 impute 패키지에 있습니다.\n",
    "\n",
    "#### ref\n",
    "- [Scikit-Learn, Iterative Imputer (MICE)](https://scikit-learn.org/stable/modules/generated/sklearn.impute.IterativeImputer.html?highlight=mice)\n",
    "- [MICE 알고리즘 설명](https://ichi.pro/ko/deiteo-seteueseo-gyeol-cheuggabs-eul-daechihaneun-mice-algolijeum-217004654686142)"
   ]
  },
  {
   "cell_type": "code",
   "execution_count": 101,
   "id": "d1ef46e1-86bd-4b6c-98fd-992688fd7aaf",
   "metadata": {
    "executionInfo": {
     "elapsed": 314,
     "status": "ok",
     "timestamp": 1627105692073,
     "user": {
      "displayName": "I'm so Seoli",
      "photoUrl": "https://lh3.googleusercontent.com/a-/AOh14GgoGeyLbd3gxLLgPS5f5k5dEcdMQc_ZsAy-42tyJg=s64",
      "userId": "18012903892325475989"
     },
     "user_tz": -540
    },
    "id": "d1ef46e1-86bd-4b6c-98fd-992688fd7aaf"
   },
   "outputs": [],
   "source": [
    "from sklearn.experimental import enable_iterative_imputer\n",
    "from sklearn.impute import IterativeImputer"
   ]
  },
  {
   "cell_type": "code",
   "execution_count": 102,
   "id": "01493ded-3530-427e-b7bf-128e52c5426a",
   "metadata": {
    "executionInfo": {
     "elapsed": 317,
     "status": "ok",
     "timestamp": 1627105693613,
     "user": {
      "displayName": "I'm so Seoli",
      "photoUrl": "https://lh3.googleusercontent.com/a-/AOh14GgoGeyLbd3gxLLgPS5f5k5dEcdMQc_ZsAy-42tyJg=s64",
      "userId": "18012903892325475989"
     },
     "user_tz": -540
    },
    "id": "01493ded-3530-427e-b7bf-128e52c5426a"
   },
   "outputs": [],
   "source": [
    "impute_df = missed_data.copy()"
   ]
  },
  {
   "cell_type": "code",
   "execution_count": 103,
   "id": "ef73fd5d-0a98-4b01-ab98-e21ccf7f4d5d",
   "metadata": {
    "executionInfo": {
     "elapsed": 693,
     "status": "ok",
     "timestamp": 1627105862265,
     "user": {
      "displayName": "I'm so Seoli",
      "photoUrl": "https://lh3.googleusercontent.com/a-/AOh14GgoGeyLbd3gxLLgPS5f5k5dEcdMQc_ZsAy-42tyJg=s64",
      "userId": "18012903892325475989"
     },
     "user_tz": -540
    },
    "id": "ef73fd5d-0a98-4b01-ab98-e21ccf7f4d5d"
   },
   "outputs": [],
   "source": [
    "imp_mean = IterativeImputer(random_state=0)\n",
    "impute_df[num_columns] = imp_mean.fit_transform(impute_df[num_columns])"
   ]
  },
  {
   "cell_type": "code",
   "execution_count": 104,
   "id": "fb7ca8c7-84e5-497f-8761-a5dc8f38dcdc",
   "metadata": {
    "colab": {
     "base_uri": "https://localhost:8080/"
    },
    "executionInfo": {
     "elapsed": 291,
     "status": "ok",
     "timestamp": 1627105870086,
     "user": {
      "displayName": "I'm so Seoli",
      "photoUrl": "https://lh3.googleusercontent.com/a-/AOh14GgoGeyLbd3gxLLgPS5f5k5dEcdMQc_ZsAy-42tyJg=s64",
      "userId": "18012903892325475989"
     },
     "user_tz": -540
    },
    "id": "fb7ca8c7-84e5-497f-8761-a5dc8f38dcdc",
    "outputId": "615c1711-a545-4f66-a213-3eb4ce24d7de"
   },
   "outputs": [
    {
     "data": {
      "text/plain": [
       "child_num        0\n",
       "income_total     0\n",
       "DAYS_BIRTH       0\n",
       "DAYS_EMPLOYED    0\n",
       "FLAG_MOBIL       0\n",
       "work_phone       0\n",
       "phone            0\n",
       "email            0\n",
       "family_size      0\n",
       "begin_month      0\n",
       "dtype: int64"
      ]
     },
     "execution_count": 104,
     "metadata": {},
     "output_type": "execute_result"
    }
   ],
   "source": [
    "pd.isna(impute_df[num_columns]).sum()"
   ]
  },
  {
   "cell_type": "markdown",
   "id": "a7f78ca5-729e-4432-b24b-d90a8a589df6",
   "metadata": {
    "id": "a7f78ca5-729e-4432-b24b-d90a8a589df6"
   },
   "source": [
    "### 4. Mode(최빈값)\n",
    "최빈값은 범주형 변수에서 가장 자주 등장하는 값을 말합니다.<br>"
   ]
  },
  {
   "cell_type": "code",
   "execution_count": 89,
   "id": "20a49e69-1164-4b47-9f39-d0c761314a77",
   "metadata": {
    "executionInfo": {
     "elapsed": 270,
     "status": "ok",
     "timestamp": 1627105875623,
     "user": {
      "displayName": "I'm so Seoli",
      "photoUrl": "https://lh3.googleusercontent.com/a-/AOh14GgoGeyLbd3gxLLgPS5f5k5dEcdMQc_ZsAy-42tyJg=s64",
      "userId": "18012903892325475989"
     },
     "user_tz": -540
    },
    "id": "20a49e69-1164-4b47-9f39-d0c761314a77"
   },
   "outputs": [],
   "source": [
    "mode_df = missed_data.copy()"
   ]
  },
  {
   "cell_type": "code",
   "execution_count": 91,
   "id": "e9fdad3f-2ac5-42c4-b2ed-330991eb00be",
   "metadata": {},
   "outputs": [
    {
     "data": {
      "text/plain": [
       "gender          2645\n",
       "car             2645\n",
       "reality         2645\n",
       "income_type     2645\n",
       "edu_type        2645\n",
       "family_type     2645\n",
       "house_type      2645\n",
       "occyp_type     10005\n",
       "dtype: int64"
      ]
     },
     "execution_count": 91,
     "metadata": {},
     "output_type": "execute_result"
    }
   ],
   "source": [
    "pd.isna(mode_df[cat_columns]).sum()"
   ]
  },
  {
   "cell_type": "code",
   "execution_count": 92,
   "id": "6226f23e-716e-4e41-a57a-8c86f419318a",
   "metadata": {
    "executionInfo": {
     "elapsed": 1773,
     "status": "ok",
     "timestamp": 1627105879022,
     "user": {
      "displayName": "I'm so Seoli",
      "photoUrl": "https://lh3.googleusercontent.com/a-/AOh14GgoGeyLbd3gxLLgPS5f5k5dEcdMQc_ZsAy-42tyJg=s64",
      "userId": "18012903892325475989"
     },
     "user_tz": -540
    },
    "id": "6226f23e-716e-4e41-a57a-8c86f419318a"
   },
   "outputs": [],
   "source": [
    "imputer = SimpleImputer(strategy='most_frequent')\n",
    "mode_df[cat_columns] = imputer.fit_transform(mode_df[cat_columns])"
   ]
  },
  {
   "cell_type": "code",
   "execution_count": 93,
   "id": "63a53c41-5c6a-4603-8f0b-6eab62b16c6c",
   "metadata": {
    "colab": {
     "base_uri": "https://localhost:8080/"
    },
    "executionInfo": {
     "elapsed": 291,
     "status": "ok",
     "timestamp": 1627105881247,
     "user": {
      "displayName": "I'm so Seoli",
      "photoUrl": "https://lh3.googleusercontent.com/a-/AOh14GgoGeyLbd3gxLLgPS5f5k5dEcdMQc_ZsAy-42tyJg=s64",
      "userId": "18012903892325475989"
     },
     "user_tz": -540
    },
    "id": "63a53c41-5c6a-4603-8f0b-6eab62b16c6c",
    "outputId": "4cb3ce4a-f181-47cb-d1b7-361031aaecdf"
   },
   "outputs": [
    {
     "data": {
      "text/plain": [
       "gender         0\n",
       "car            0\n",
       "reality        0\n",
       "income_type    0\n",
       "edu_type       0\n",
       "family_type    0\n",
       "house_type     0\n",
       "occyp_type     0\n",
       "dtype: int64"
      ]
     },
     "execution_count": 93,
     "metadata": {},
     "output_type": "execute_result"
    }
   ],
   "source": [
    "pd.isna(mode_df[cat_columns]).sum()"
   ]
  },
  {
   "cell_type": "code",
   "execution_count": 94,
   "id": "AO9I7zO6N4D6",
   "metadata": {
    "colab": {
     "base_uri": "https://localhost:8080/"
    },
    "executionInfo": {
     "elapsed": 298,
     "status": "ok",
     "timestamp": 1627108392383,
     "user": {
      "displayName": "I'm so Seoli",
      "photoUrl": "https://lh3.googleusercontent.com/a-/AOh14GgoGeyLbd3gxLLgPS5f5k5dEcdMQc_ZsAy-42tyJg=s64",
      "userId": "18012903892325475989"
     },
     "user_tz": -540
    },
    "id": "AO9I7zO6N4D6",
    "outputId": "8bc72538-6034-458f-e8fb-60f8d1651e3a"
   },
   "outputs": [
    {
     "data": {
      "text/plain": [
       "array(['F', 'N', 'Y', 'Working', 'Secondary / secondary special',\n",
       "       'Married', 'House / apartment', 'Laborers'], dtype=object)"
      ]
     },
     "execution_count": 94,
     "metadata": {},
     "output_type": "execute_result"
    }
   ],
   "source": [
    "imputer.statistics_"
   ]
  },
  {
   "cell_type": "markdown",
   "id": "d72434b5-2a45-4ae1-815b-f3bfe3bce7eb",
   "metadata": {
    "id": "d72434b5-2a45-4ae1-815b-f3bfe3bce7eb"
   },
   "source": [
    "### 주의사항\n",
    "- 결측치 처리는 가능하면 스케일링 작업 이전에 해주는 것이 좋습니다. 예를 들어 특정 컬럼의 결측치를 평균 값으로 대치하려고할 때 Standard Scaling을 진행하게되면 해당 컬럼의 결측치는 모두 0으로 대치될 수 있기 때문입니다. "
   ]
  },
  {
   "cell_type": "markdown",
   "id": "88f10155-d742-4f8a-a7d6-a44da972320e",
   "metadata": {
    "id": "88f10155-d742-4f8a-a7d6-a44da972320e"
   },
   "source": [
    "# Categorical Variable to Numeric Variable \n",
    "이번에는 범주형 변수를 수치형 변수로 나타내는 방법에 대해 알아보겠습니다. <br>\n",
    "여기에서 범주형 변수란, 차의 등급을 나타내는 [소형, 중형, 대형] 처럼 표현되는 변수를 말합니다. <br>\n",
    "범주형 변수는 주로 데이터 상에서 문자열로 표현되는 경우가 많으며, 문자와 숫자가 매핑되는 형태로 표현되기도 합니다.<br>\n",
    "\n",
    "## 1. Label Encoding\n",
    "라벨 인코딩은 n개의 범주형 데이터를 0~n-1 의 연속적인 수치 데이터로 표현합니다.<br>\n",
    "예를 들어, 차의 등급 변수를 라벨 인코딩으로 변환하면 다음과 같이 표현할 수 있습니다.<br>\n",
    "소형 : 0 <br>\n",
    "중형 : 1 <br>\n",
    "대형 : 2 <br>\n",
    "라벨 인코딩은 간단한 방법이지만, '소형'과 '중형'이라는 범주형 데이터가 가지고 있는 차이가 0과 1의 수치적인 차이라는 의미가 아님을 주의하셔야 합니다. \n",
    "\n",
    "Label Encoding과 Scikit-Learn의 preprocessing 패키지에 있습니다.\n",
    "\n",
    "#### ref\n",
    "- [Scikit-Learn Label Encoder](https://scikit-learn.org/stable/modules/generated/sklearn.preprocessing.LabelEncoder.html?highlight=label%20encoder#sklearn.preprocessing.LabelEncoder)"
   ]
  },
  {
   "cell_type": "markdown",
   "id": "fbd81fae-d27f-4cc5-a033-dbdee4ecf403",
   "metadata": {
    "id": "fbd81fae-d27f-4cc5-a033-dbdee4ecf403"
   },
   "source": [
    "#### 1) 모델 불러오기 및 정의하기"
   ]
  },
  {
   "cell_type": "code",
   "execution_count": 105,
   "id": "f69d9592-c258-4b12-bff4-596746f76547",
   "metadata": {
    "executionInfo": {
     "elapsed": 310,
     "status": "ok",
     "timestamp": 1627109186849,
     "user": {
      "displayName": "I'm so Seoli",
      "photoUrl": "https://lh3.googleusercontent.com/a-/AOh14GgoGeyLbd3gxLLgPS5f5k5dEcdMQc_ZsAy-42tyJg=s64",
      "userId": "18012903892325475989"
     },
     "user_tz": -540
    },
    "id": "f69d9592-c258-4b12-bff4-596746f76547"
   },
   "outputs": [],
   "source": [
    "from sklearn.preprocessing import LabelEncoder\n",
    "le = LabelEncoder()"
   ]
  },
  {
   "cell_type": "markdown",
   "id": "b0b7cecd-4153-4c23-b799-73f7b3f2a8da",
   "metadata": {
    "id": "b0b7cecd-4153-4c23-b799-73f7b3f2a8da"
   },
   "source": [
    "#### 2) 데이터에서 특징 찾기 (범주의 수)"
   ]
  },
  {
   "cell_type": "code",
   "execution_count": 106,
   "id": "d0838cfd-4efc-4999-b2de-a23d26ade913",
   "metadata": {
    "colab": {
     "base_uri": "https://localhost:8080/"
    },
    "executionInfo": {
     "elapsed": 4,
     "status": "ok",
     "timestamp": 1627109187745,
     "user": {
      "displayName": "I'm so Seoli",
      "photoUrl": "https://lh3.googleusercontent.com/a-/AOh14GgoGeyLbd3gxLLgPS5f5k5dEcdMQc_ZsAy-42tyJg=s64",
      "userId": "18012903892325475989"
     },
     "user_tz": -540
    },
    "id": "d0838cfd-4efc-4999-b2de-a23d26ade913",
    "outputId": "0d438133-e8e6-4ee4-b24c-9188c8fe3d96"
   },
   "outputs": [
    {
     "data": {
      "text/plain": [
       "LabelEncoder()"
      ]
     },
     "execution_count": 106,
     "metadata": {},
     "output_type": "execute_result"
    }
   ],
   "source": [
    "le.fit(data['family_type'])"
   ]
  },
  {
   "cell_type": "code",
   "execution_count": 107,
   "id": "24606db8-1cc9-4203-a74a-83f0eab044c2",
   "metadata": {
    "colab": {
     "base_uri": "https://localhost:8080/"
    },
    "executionInfo": {
     "elapsed": 307,
     "status": "ok",
     "timestamp": 1627109193388,
     "user": {
      "displayName": "I'm so Seoli",
      "photoUrl": "https://lh3.googleusercontent.com/a-/AOh14GgoGeyLbd3gxLLgPS5f5k5dEcdMQc_ZsAy-42tyJg=s64",
      "userId": "18012903892325475989"
     },
     "user_tz": -540
    },
    "id": "24606db8-1cc9-4203-a74a-83f0eab044c2",
    "outputId": "cff1348b-2538-4ec3-8a30-c483e1d37857"
   },
   "outputs": [
    {
     "data": {
      "text/plain": [
       "array(['Civil marriage', 'Married', 'Separated', 'Single / not married',\n",
       "       'Widow'], dtype=object)"
      ]
     },
     "execution_count": 107,
     "metadata": {},
     "output_type": "execute_result"
    }
   ],
   "source": [
    "# classes_ 속성에 있는 순서(index)대로 라벨 번호가 부여됩니다.\n",
    "le.classes_"
   ]
  },
  {
   "cell_type": "markdown",
   "id": "5fc0ac0f-103c-44b3-a818-60b27972a6c0",
   "metadata": {
    "id": "5fc0ac0f-103c-44b3-a818-60b27972a6c0"
   },
   "source": [
    "#### 3) 데이터 변환 (범주형 변수를 수치형 변수로)"
   ]
  },
  {
   "cell_type": "code",
   "execution_count": 108,
   "id": "96232d1b-f56a-40f5-8ba3-6f55719ac428",
   "metadata": {
    "executionInfo": {
     "elapsed": 351,
     "status": "ok",
     "timestamp": 1627109212481,
     "user": {
      "displayName": "I'm so Seoli",
      "photoUrl": "https://lh3.googleusercontent.com/a-/AOh14GgoGeyLbd3gxLLgPS5f5k5dEcdMQc_ZsAy-42tyJg=s64",
      "userId": "18012903892325475989"
     },
     "user_tz": -540
    },
    "id": "96232d1b-f56a-40f5-8ba3-6f55719ac428"
   },
   "outputs": [],
   "source": [
    "label_encoded = le.transform(data['family_type'])"
   ]
  },
  {
   "cell_type": "markdown",
   "id": "ed82f175-24a5-4ab5-bdad-21153fbae9a9",
   "metadata": {
    "id": "ed82f175-24a5-4ab5-bdad-21153fbae9a9"
   },
   "source": [
    "#### 4) 결과 살펴보기"
   ]
  },
  {
   "cell_type": "code",
   "execution_count": 109,
   "id": "5412fa29-89e1-47e6-a92b-4e4b955bf8d2",
   "metadata": {
    "colab": {
     "base_uri": "https://localhost:8080/",
     "height": 676
    },
    "executionInfo": {
     "elapsed": 4,
     "status": "ok",
     "timestamp": 1627109213333,
     "user": {
      "displayName": "I'm so Seoli",
      "photoUrl": "https://lh3.googleusercontent.com/a-/AOh14GgoGeyLbd3gxLLgPS5f5k5dEcdMQc_ZsAy-42tyJg=s64",
      "userId": "18012903892325475989"
     },
     "user_tz": -540
    },
    "id": "5412fa29-89e1-47e6-a92b-4e4b955bf8d2",
    "outputId": "0b6ba10b-ce83-4c54-d96f-bc10cb5732cc"
   },
   "outputs": [
    {
     "data": {
      "text/html": [
       "<div>\n",
       "<style scoped>\n",
       "    .dataframe tbody tr th:only-of-type {\n",
       "        vertical-align: middle;\n",
       "    }\n",
       "\n",
       "    .dataframe tbody tr th {\n",
       "        vertical-align: top;\n",
       "    }\n",
       "\n",
       "    .dataframe thead th {\n",
       "        text-align: right;\n",
       "    }\n",
       "</style>\n",
       "<table border=\"1\" class=\"dataframe\">\n",
       "  <thead>\n",
       "    <tr style=\"text-align: right;\">\n",
       "      <th></th>\n",
       "      <th>label</th>\n",
       "      <th>label_encoded</th>\n",
       "    </tr>\n",
       "  </thead>\n",
       "  <tbody>\n",
       "    <tr>\n",
       "      <th>0</th>\n",
       "      <td>Married</td>\n",
       "      <td>1</td>\n",
       "    </tr>\n",
       "    <tr>\n",
       "      <th>1</th>\n",
       "      <td>Civil marriage</td>\n",
       "      <td>0</td>\n",
       "    </tr>\n",
       "    <tr>\n",
       "      <th>2</th>\n",
       "      <td>Married</td>\n",
       "      <td>1</td>\n",
       "    </tr>\n",
       "    <tr>\n",
       "      <th>3</th>\n",
       "      <td>Married</td>\n",
       "      <td>1</td>\n",
       "    </tr>\n",
       "    <tr>\n",
       "      <th>4</th>\n",
       "      <td>Married</td>\n",
       "      <td>1</td>\n",
       "    </tr>\n",
       "    <tr>\n",
       "      <th>5</th>\n",
       "      <td>Married</td>\n",
       "      <td>1</td>\n",
       "    </tr>\n",
       "    <tr>\n",
       "      <th>6</th>\n",
       "      <td>Separated</td>\n",
       "      <td>2</td>\n",
       "    </tr>\n",
       "    <tr>\n",
       "      <th>7</th>\n",
       "      <td>Married</td>\n",
       "      <td>1</td>\n",
       "    </tr>\n",
       "    <tr>\n",
       "      <th>8</th>\n",
       "      <td>Married</td>\n",
       "      <td>1</td>\n",
       "    </tr>\n",
       "    <tr>\n",
       "      <th>9</th>\n",
       "      <td>Married</td>\n",
       "      <td>1</td>\n",
       "    </tr>\n",
       "    <tr>\n",
       "      <th>10</th>\n",
       "      <td>Separated</td>\n",
       "      <td>2</td>\n",
       "    </tr>\n",
       "    <tr>\n",
       "      <th>11</th>\n",
       "      <td>Married</td>\n",
       "      <td>1</td>\n",
       "    </tr>\n",
       "    <tr>\n",
       "      <th>12</th>\n",
       "      <td>Married</td>\n",
       "      <td>1</td>\n",
       "    </tr>\n",
       "    <tr>\n",
       "      <th>13</th>\n",
       "      <td>Married</td>\n",
       "      <td>1</td>\n",
       "    </tr>\n",
       "    <tr>\n",
       "      <th>14</th>\n",
       "      <td>Single / not married</td>\n",
       "      <td>3</td>\n",
       "    </tr>\n",
       "    <tr>\n",
       "      <th>15</th>\n",
       "      <td>Married</td>\n",
       "      <td>1</td>\n",
       "    </tr>\n",
       "    <tr>\n",
       "      <th>16</th>\n",
       "      <td>Married</td>\n",
       "      <td>1</td>\n",
       "    </tr>\n",
       "    <tr>\n",
       "      <th>17</th>\n",
       "      <td>Civil marriage</td>\n",
       "      <td>0</td>\n",
       "    </tr>\n",
       "    <tr>\n",
       "      <th>18</th>\n",
       "      <td>Married</td>\n",
       "      <td>1</td>\n",
       "    </tr>\n",
       "    <tr>\n",
       "      <th>19</th>\n",
       "      <td>Married</td>\n",
       "      <td>1</td>\n",
       "    </tr>\n",
       "  </tbody>\n",
       "</table>\n",
       "</div>"
      ],
      "text/plain": [
       "                   label label_encoded\n",
       "0                Married             1\n",
       "1         Civil marriage             0\n",
       "2                Married             1\n",
       "3                Married             1\n",
       "4                Married             1\n",
       "5                Married             1\n",
       "6              Separated             2\n",
       "7                Married             1\n",
       "8                Married             1\n",
       "9                Married             1\n",
       "10             Separated             2\n",
       "11               Married             1\n",
       "12               Married             1\n",
       "13               Married             1\n",
       "14  Single / not married             3\n",
       "15               Married             1\n",
       "16               Married             1\n",
       "17        Civil marriage             0\n",
       "18               Married             1\n",
       "19               Married             1"
      ]
     },
     "execution_count": 109,
     "metadata": {},
     "output_type": "execute_result"
    }
   ],
   "source": [
    "result = pd.DataFrame(data = np.concatenate([data['family_type'].values.reshape((-1,1)), label_encoded.reshape((-1, 1))], axis=1), \n",
    "                      columns=['label', 'label_encoded'])\n",
    "result.head(20)"
   ]
  },
  {
   "cell_type": "markdown",
   "id": "ad111b3c-9114-4eaf-bc8d-974e616c5fab",
   "metadata": {
    "id": "ad111b3c-9114-4eaf-bc8d-974e616c5fab"
   },
   "source": [
    "## 2. One-hot Encoding\n",
    "원핫 인코딩은 n개의 범주형 데이터를 n개의 비트(0,1) 벡터로 표현합니다. <br>\n",
    "예를 들어, 위에서 언급한 소형, 중형, 대형으로 이루어진 범주형 변수를 원핫 인코딩을 통해 변환하면 다음과 같이 표현할 수 있습니다.<br>\n",
    "소형 : [1, 0, 0] <br>\n",
    "중형 : [0, 1, 0] <br>\n",
    "대형 : [0, 0, 1] <br>\n",
    "원핫 인코딩으로 범주형 데이터를 나타내게되면, 서로 다른 범주에 대해서는 벡터 내적을 취했을 때 내적 값이 0이 나오게 됩니다. <br> \n",
    "이는 서로 다른 범주 데이터는 독립적인 관계라는 것을 표현할 수 있게 됩니다.\n",
    "\n",
    "One-hot Encoding은 Scikit-Learn의 preprocessing 패키지에 있습니다.\n",
    "\n",
    "#### ref\n",
    "- [Scikit-Learn One-Hot Encoder](https://scikit-learn.org/stable/modules/generated/sklearn.preprocessing.OneHotEncoder.html#sklearn.preprocessing.OneHotEncoder)"
   ]
  },
  {
   "cell_type": "markdown",
   "id": "a1055697-7e11-4cee-9026-b1d4b3024dff",
   "metadata": {
    "id": "a1055697-7e11-4cee-9026-b1d4b3024dff"
   },
   "source": [
    "#### 1) 모델 불러오기 및 정의하기"
   ]
  },
  {
   "cell_type": "code",
   "execution_count": 110,
   "id": "cdcd7ffd-6d3f-4cbe-8459-be9b315e9292",
   "metadata": {
    "executionInfo": {
     "elapsed": 300,
     "status": "ok",
     "timestamp": 1627109435790,
     "user": {
      "displayName": "I'm so Seoli",
      "photoUrl": "https://lh3.googleusercontent.com/a-/AOh14GgoGeyLbd3gxLLgPS5f5k5dEcdMQc_ZsAy-42tyJg=s64",
      "userId": "18012903892325475989"
     },
     "user_tz": -540
    },
    "id": "cdcd7ffd-6d3f-4cbe-8459-be9b315e9292"
   },
   "outputs": [],
   "source": [
    "from sklearn.preprocessing import OneHotEncoder\n",
    "ohe = OneHotEncoder(sparse=False)"
   ]
  },
  {
   "cell_type": "markdown",
   "id": "2e4ef4a8-eedb-4f2f-9d34-92b340f97d14",
   "metadata": {
    "id": "2e4ef4a8-eedb-4f2f-9d34-92b340f97d14"
   },
   "source": [
    "#### 2) 데이터에서 특징 찾기 (범주의 수)"
   ]
  },
  {
   "cell_type": "code",
   "execution_count": 111,
   "id": "220f3c3b-42c1-4356-b3ef-4bd9f714e993",
   "metadata": {
    "colab": {
     "base_uri": "https://localhost:8080/"
    },
    "executionInfo": {
     "elapsed": 456,
     "status": "ok",
     "timestamp": 1627109507951,
     "user": {
      "displayName": "I'm so Seoli",
      "photoUrl": "https://lh3.googleusercontent.com/a-/AOh14GgoGeyLbd3gxLLgPS5f5k5dEcdMQc_ZsAy-42tyJg=s64",
      "userId": "18012903892325475989"
     },
     "user_tz": -540
    },
    "id": "220f3c3b-42c1-4356-b3ef-4bd9f714e993",
    "outputId": "a345b999-90ea-4cd7-82d7-22352b646b1e"
   },
   "outputs": [
    {
     "data": {
      "text/plain": [
       "OneHotEncoder(sparse=False)"
      ]
     },
     "execution_count": 111,
     "metadata": {},
     "output_type": "execute_result"
    }
   ],
   "source": [
    "ohe.fit(data[['family_type']])"
   ]
  },
  {
   "cell_type": "code",
   "execution_count": 112,
   "id": "84494b5b-846b-40a8-8164-b31212a1ce8f",
   "metadata": {
    "colab": {
     "base_uri": "https://localhost:8080/"
    },
    "executionInfo": {
     "elapsed": 3,
     "status": "ok",
     "timestamp": 1627109508383,
     "user": {
      "displayName": "I'm so Seoli",
      "photoUrl": "https://lh3.googleusercontent.com/a-/AOh14GgoGeyLbd3gxLLgPS5f5k5dEcdMQc_ZsAy-42tyJg=s64",
      "userId": "18012903892325475989"
     },
     "user_tz": -540
    },
    "id": "84494b5b-846b-40a8-8164-b31212a1ce8f",
    "outputId": "10ad3544-b6f7-4678-c03c-9c479d1a820a"
   },
   "outputs": [
    {
     "data": {
      "text/plain": [
       "[array(['Civil marriage', 'Married', 'Separated', 'Single / not married',\n",
       "        'Widow'], dtype=object)]"
      ]
     },
     "execution_count": 112,
     "metadata": {},
     "output_type": "execute_result"
    }
   ],
   "source": [
    "ohe.categories_"
   ]
  },
  {
   "cell_type": "markdown",
   "id": "17884825-9b7c-4ac8-a570-0a3ef8fa3038",
   "metadata": {
    "id": "17884825-9b7c-4ac8-a570-0a3ef8fa3038"
   },
   "source": [
    "#### 3) 데이터 변환 (범주형 변수를 수치형 변수로)"
   ]
  },
  {
   "cell_type": "code",
   "execution_count": 113,
   "id": "bd3583be-9aa3-4aec-b596-a2433f1ea48d",
   "metadata": {
    "executionInfo": {
     "elapsed": 2,
     "status": "ok",
     "timestamp": 1627109508741,
     "user": {
      "displayName": "I'm so Seoli",
      "photoUrl": "https://lh3.googleusercontent.com/a-/AOh14GgoGeyLbd3gxLLgPS5f5k5dEcdMQc_ZsAy-42tyJg=s64",
      "userId": "18012903892325475989"
     },
     "user_tz": -540
    },
    "id": "bd3583be-9aa3-4aec-b596-a2433f1ea48d"
   },
   "outputs": [],
   "source": [
    "one_hot_encoded = ohe.transform(data[['family_type']])"
   ]
  },
  {
   "cell_type": "code",
   "execution_count": 114,
   "id": "53e3290c-a435-4906-8a1d-7dc022286153",
   "metadata": {
    "colab": {
     "base_uri": "https://localhost:8080/"
    },
    "executionInfo": {
     "elapsed": 329,
     "status": "ok",
     "timestamp": 1627109510629,
     "user": {
      "displayName": "I'm so Seoli",
      "photoUrl": "https://lh3.googleusercontent.com/a-/AOh14GgoGeyLbd3gxLLgPS5f5k5dEcdMQc_ZsAy-42tyJg=s64",
      "userId": "18012903892325475989"
     },
     "user_tz": -540
    },
    "id": "53e3290c-a435-4906-8a1d-7dc022286153",
    "outputId": "c06e4d6c-0167-4d1a-b64c-aed4b75098f0"
   },
   "outputs": [
    {
     "data": {
      "text/plain": [
       "array([[0., 1., 0., 0., 0.],\n",
       "       [1., 0., 0., 0., 0.],\n",
       "       [0., 1., 0., 0., 0.],\n",
       "       ...,\n",
       "       [1., 0., 0., 0., 0.],\n",
       "       [0., 0., 0., 1., 0.],\n",
       "       [1., 0., 0., 0., 0.]])"
      ]
     },
     "execution_count": 114,
     "metadata": {},
     "output_type": "execute_result"
    }
   ],
   "source": [
    "# sparse matrix\n",
    "one_hot_encoded"
   ]
  },
  {
   "cell_type": "markdown",
   "id": "c05f6f9f-4611-41e3-9b5b-b33235f2a5a9",
   "metadata": {
    "id": "c05f6f9f-4611-41e3-9b5b-b33235f2a5a9"
   },
   "source": [
    "#### 4) 결과 살펴보기"
   ]
  },
  {
   "cell_type": "code",
   "execution_count": 115,
   "id": "d5623aad-740a-4f1e-9423-c50b7ce2a377",
   "metadata": {
    "colab": {
     "base_uri": "https://localhost:8080/",
     "height": 363
    },
    "executionInfo": {
     "elapsed": 6,
     "status": "ok",
     "timestamp": 1627109513375,
     "user": {
      "displayName": "I'm so Seoli",
      "photoUrl": "https://lh3.googleusercontent.com/a-/AOh14GgoGeyLbd3gxLLgPS5f5k5dEcdMQc_ZsAy-42tyJg=s64",
      "userId": "18012903892325475989"
     },
     "user_tz": -540
    },
    "id": "d5623aad-740a-4f1e-9423-c50b7ce2a377",
    "outputId": "2fc138e9-2f72-4071-ffdd-61bc47f74a82"
   },
   "outputs": [
    {
     "data": {
      "text/html": [
       "<div>\n",
       "<style scoped>\n",
       "    .dataframe tbody tr th:only-of-type {\n",
       "        vertical-align: middle;\n",
       "    }\n",
       "\n",
       "    .dataframe tbody tr th {\n",
       "        vertical-align: top;\n",
       "    }\n",
       "\n",
       "    .dataframe thead th {\n",
       "        text-align: right;\n",
       "    }\n",
       "</style>\n",
       "<table border=\"1\" class=\"dataframe\">\n",
       "  <thead>\n",
       "    <tr style=\"text-align: right;\">\n",
       "      <th></th>\n",
       "      <th>family_type</th>\n",
       "      <th>Civil marriage</th>\n",
       "      <th>Married</th>\n",
       "      <th>Separated</th>\n",
       "      <th>Single / not married</th>\n",
       "      <th>Widow</th>\n",
       "    </tr>\n",
       "  </thead>\n",
       "  <tbody>\n",
       "    <tr>\n",
       "      <th>0</th>\n",
       "      <td>Married</td>\n",
       "      <td>0.0</td>\n",
       "      <td>1.0</td>\n",
       "      <td>0.0</td>\n",
       "      <td>0.0</td>\n",
       "      <td>0.0</td>\n",
       "    </tr>\n",
       "    <tr>\n",
       "      <th>1</th>\n",
       "      <td>Civil marriage</td>\n",
       "      <td>1.0</td>\n",
       "      <td>0.0</td>\n",
       "      <td>0.0</td>\n",
       "      <td>0.0</td>\n",
       "      <td>0.0</td>\n",
       "    </tr>\n",
       "    <tr>\n",
       "      <th>2</th>\n",
       "      <td>Married</td>\n",
       "      <td>0.0</td>\n",
       "      <td>1.0</td>\n",
       "      <td>0.0</td>\n",
       "      <td>0.0</td>\n",
       "      <td>0.0</td>\n",
       "    </tr>\n",
       "    <tr>\n",
       "      <th>3</th>\n",
       "      <td>Married</td>\n",
       "      <td>0.0</td>\n",
       "      <td>1.0</td>\n",
       "      <td>0.0</td>\n",
       "      <td>0.0</td>\n",
       "      <td>0.0</td>\n",
       "    </tr>\n",
       "    <tr>\n",
       "      <th>4</th>\n",
       "      <td>Married</td>\n",
       "      <td>0.0</td>\n",
       "      <td>1.0</td>\n",
       "      <td>0.0</td>\n",
       "      <td>0.0</td>\n",
       "      <td>0.0</td>\n",
       "    </tr>\n",
       "    <tr>\n",
       "      <th>5</th>\n",
       "      <td>Married</td>\n",
       "      <td>0.0</td>\n",
       "      <td>1.0</td>\n",
       "      <td>0.0</td>\n",
       "      <td>0.0</td>\n",
       "      <td>0.0</td>\n",
       "    </tr>\n",
       "    <tr>\n",
       "      <th>6</th>\n",
       "      <td>Separated</td>\n",
       "      <td>0.0</td>\n",
       "      <td>0.0</td>\n",
       "      <td>1.0</td>\n",
       "      <td>0.0</td>\n",
       "      <td>0.0</td>\n",
       "    </tr>\n",
       "    <tr>\n",
       "      <th>7</th>\n",
       "      <td>Married</td>\n",
       "      <td>0.0</td>\n",
       "      <td>1.0</td>\n",
       "      <td>0.0</td>\n",
       "      <td>0.0</td>\n",
       "      <td>0.0</td>\n",
       "    </tr>\n",
       "    <tr>\n",
       "      <th>8</th>\n",
       "      <td>Married</td>\n",
       "      <td>0.0</td>\n",
       "      <td>1.0</td>\n",
       "      <td>0.0</td>\n",
       "      <td>0.0</td>\n",
       "      <td>0.0</td>\n",
       "    </tr>\n",
       "    <tr>\n",
       "      <th>9</th>\n",
       "      <td>Married</td>\n",
       "      <td>0.0</td>\n",
       "      <td>1.0</td>\n",
       "      <td>0.0</td>\n",
       "      <td>0.0</td>\n",
       "      <td>0.0</td>\n",
       "    </tr>\n",
       "  </tbody>\n",
       "</table>\n",
       "</div>"
      ],
      "text/plain": [
       "      family_type  Civil marriage  Married  Separated  Single / not married  \\\n",
       "0         Married             0.0      1.0        0.0                   0.0   \n",
       "1  Civil marriage             1.0      0.0        0.0                   0.0   \n",
       "2         Married             0.0      1.0        0.0                   0.0   \n",
       "3         Married             0.0      1.0        0.0                   0.0   \n",
       "4         Married             0.0      1.0        0.0                   0.0   \n",
       "5         Married             0.0      1.0        0.0                   0.0   \n",
       "6       Separated             0.0      0.0        1.0                   0.0   \n",
       "7         Married             0.0      1.0        0.0                   0.0   \n",
       "8         Married             0.0      1.0        0.0                   0.0   \n",
       "9         Married             0.0      1.0        0.0                   0.0   \n",
       "\n",
       "   Widow  \n",
       "0    0.0  \n",
       "1    0.0  \n",
       "2    0.0  \n",
       "3    0.0  \n",
       "4    0.0  \n",
       "5    0.0  \n",
       "6    0.0  \n",
       "7    0.0  \n",
       "8    0.0  \n",
       "9    0.0  "
      ]
     },
     "execution_count": 115,
     "metadata": {},
     "output_type": "execute_result"
    }
   ],
   "source": [
    "result = pd.concat([data['family_type'], pd.DataFrame(one_hot_encoded, columns=ohe.categories_[0])], axis=1)\n",
    "result.head(10)"
   ]
  }
 ],
 "metadata": {
  "colab": {
   "collapsed_sections": [
    "d72434b5-2a45-4ae1-815b-f3bfe3bce7eb"
   ],
   "name": "Lab_01)_data_preprocess.ipynb",
   "provenance": []
  },
  "kernelspec": {
   "display_name": "Kyle",
   "language": "python",
   "name": "kyle"
  },
  "language_info": {
   "codemirror_mode": {
    "name": "ipython",
    "version": 3
   },
   "file_extension": ".py",
   "mimetype": "text/x-python",
   "name": "python",
   "nbconvert_exporter": "python",
   "pygments_lexer": "ipython3",
   "version": "3.8.0"
  }
 },
 "nbformat": 4,
 "nbformat_minor": 5
}
