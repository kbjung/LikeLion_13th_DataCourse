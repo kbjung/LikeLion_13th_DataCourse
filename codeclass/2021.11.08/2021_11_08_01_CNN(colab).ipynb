{
  "nbformat": 4,
  "nbformat_minor": 0,
  "metadata": {
    "colab": {
      "name": "2021.11.08-01_CNN(colab).ipynb",
      "provenance": [],
      "collapsed_sections": []
    },
    "kernelspec": {
      "name": "python3",
      "display_name": "Python 3"
    },
    "language_info": {
      "name": "python"
    },
    "accelerator": "GPU"
  },
  "cells": [
    {
      "cell_type": "markdown",
      "metadata": {
        "id": "e0RjG1MA5or4"
      },
      "source": [
        "# CNN 알고리즘"
      ]
    },
    {
      "cell_type": "markdown",
      "metadata": {
        "id": "TW_UsWOxJF-z"
      },
      "source": [
        "* 입력 : 이미지 데이터\n",
        "* CNN\n",
        "  * Convolution 계층\n",
        "  * Pooling 계층\n",
        "  * FCL보다 성능 우수"
      ]
    },
    {
      "cell_type": "code",
      "metadata": {
        "id": "p3ppcKJ1LPrq"
      },
      "source": [
        "import tensorflow as tf\n",
        "from tensorflow.keras import models\n",
        "from tensorflow.keras import layers"
      ],
      "execution_count": null,
      "outputs": []
    },
    {
      "cell_type": "code",
      "metadata": {
        "colab": {
          "base_uri": "https://localhost:8080/"
        },
        "id": "lMxOfllsL0aR",
        "outputId": "ac465b15-2414-49aa-bd12-cbe21d060367"
      },
      "source": [
        "model = models.Sequential()\n",
        "model.add( layers.Conv2D( 32, (3,3), activation='relu', input_shape=(28,28,1) ) )\n",
        "model.add( layers.MaxPooling2D( (2,2) ) )\n",
        "model.add( layers.Flatten()) # 1차원으로 펼쳐준다\n",
        "model.add( layers.Dense(64, activation='relu'))\n",
        "model.add( layers.Dense(10, activation='softmax'))\n",
        "model.summary()"
      ],
      "execution_count": null,
      "outputs": [
        {
          "output_type": "stream",
          "name": "stdout",
          "text": [
            "Model: \"sequential_2\"\n",
            "_________________________________________________________________\n",
            "Layer (type)                 Output Shape              Param #   \n",
            "=================================================================\n",
            "conv2d_3 (Conv2D)            (None, 26, 26, 32)        320       \n",
            "_________________________________________________________________\n",
            "max_pooling2d_2 (MaxPooling2 (None, 13, 13, 32)        0         \n",
            "_________________________________________________________________\n",
            "flatten_2 (Flatten)          (None, 5408)              0         \n",
            "_________________________________________________________________\n",
            "dense_4 (Dense)              (None, 64)                346176    \n",
            "_________________________________________________________________\n",
            "dense_5 (Dense)              (None, 10)                650       \n",
            "=================================================================\n",
            "Total params: 347,146\n",
            "Trainable params: 347,146\n",
            "Non-trainable params: 0\n",
            "_________________________________________________________________\n"
          ]
        }
      ]
    },
    {
      "cell_type": "code",
      "metadata": {
        "id": "UWVt2MlRM_yi"
      },
      "source": [
        "#from keras.datasets import mnist\n",
        "#from keras.utils import to_categorical\n",
        "from tensorflow.keras.datasets import mnist\n",
        "from tensorflow.keras.utils import to_categorical\n",
        "\n",
        "(train_images, train_labels), (test_images, test_labels) = mnist.load_data()"
      ],
      "execution_count": null,
      "outputs": []
    },
    {
      "cell_type": "code",
      "metadata": {
        "colab": {
          "base_uri": "https://localhost:8080/"
        },
        "id": "1lpgJalHTqCU",
        "outputId": "3a291caa-61d3-434f-92d4-3ea326fc995f"
      },
      "source": [
        "train_images.shape, train_labels.shape"
      ],
      "execution_count": null,
      "outputs": [
        {
          "output_type": "execute_result",
          "data": {
            "text/plain": [
              "((60000, 28, 28), (60000,))"
            ]
          },
          "metadata": {},
          "execution_count": 24
        }
      ]
    },
    {
      "cell_type": "code",
      "metadata": {
        "colab": {
          "base_uri": "https://localhost:8080/"
        },
        "id": "n1TqzlXaTQqa",
        "outputId": "dca28162-6228-4c9a-ab6c-96745f7d51ed"
      },
      "source": [
        "train_images = train_images.reshape((60000, 28, 28, 1))\n",
        "train_images = train_images.astype('float32') / 255\n",
        "\n",
        "test_images = test_images.reshape((10000, 28, 28, 1))\n",
        "test_images = test_images.astype('float32') / 255\n",
        "\n",
        "print(train_labels[0:10])\n",
        "train_labels = to_categorical(train_labels)\n",
        "test_labels = to_categorical(test_labels)\n",
        "print(train_labels[0:10])"
      ],
      "execution_count": null,
      "outputs": [
        {
          "output_type": "stream",
          "name": "stdout",
          "text": [
            "[5 0 4 1 9 2 1 3 1 4]\n",
            "[[0. 0. 0. 0. 0. 1. 0. 0. 0. 0.]\n",
            " [1. 0. 0. 0. 0. 0. 0. 0. 0. 0.]\n",
            " [0. 0. 0. 0. 1. 0. 0. 0. 0. 0.]\n",
            " [0. 1. 0. 0. 0. 0. 0. 0. 0. 0.]\n",
            " [0. 0. 0. 0. 0. 0. 0. 0. 0. 1.]\n",
            " [0. 0. 1. 0. 0. 0. 0. 0. 0. 0.]\n",
            " [0. 1. 0. 0. 0. 0. 0. 0. 0. 0.]\n",
            " [0. 0. 0. 1. 0. 0. 0. 0. 0. 0.]\n",
            " [0. 1. 0. 0. 0. 0. 0. 0. 0. 0.]\n",
            " [0. 0. 0. 0. 1. 0. 0. 0. 0. 0.]]\n"
          ]
        }
      ]
    },
    {
      "cell_type": "code",
      "metadata": {
        "colab": {
          "base_uri": "https://localhost:8080/"
        },
        "id": "NiAa7yFvUR1B",
        "outputId": "0e551e50-f25f-4608-e7dc-cdbb6389ddbc"
      },
      "source": [
        "%%time\n",
        "\n",
        "model.compile(optimizer='sgd', loss='categorical_crossentropy', metrics=['accuracy'])\n",
        "model.fit(train_images, train_labels, epochs=20, batch_size=64)"
      ],
      "execution_count": null,
      "outputs": [
        {
          "output_type": "stream",
          "name": "stdout",
          "text": [
            "Epoch 1/20\n",
            "938/938 [==============================] - 6s 6ms/step - loss: 0.6739 - accuracy: 0.8190\n",
            "Epoch 2/20\n",
            "938/938 [==============================] - 5s 6ms/step - loss: 0.2977 - accuracy: 0.9135\n",
            "Epoch 3/20\n",
            "938/938 [==============================] - 5s 6ms/step - loss: 0.2495 - accuracy: 0.9271\n",
            "Epoch 4/20\n",
            "938/938 [==============================] - 5s 6ms/step - loss: 0.2156 - accuracy: 0.9366\n",
            "Epoch 5/20\n",
            "938/938 [==============================] - 5s 6ms/step - loss: 0.1903 - accuracy: 0.9432\n",
            "Epoch 6/20\n",
            "938/938 [==============================] - 5s 6ms/step - loss: 0.1705 - accuracy: 0.9498\n",
            "Epoch 7/20\n",
            "938/938 [==============================] - 5s 5ms/step - loss: 0.1550 - accuracy: 0.9543\n",
            "Epoch 8/20\n",
            "938/938 [==============================] - 5s 5ms/step - loss: 0.1416 - accuracy: 0.9584\n",
            "Epoch 9/20\n",
            "938/938 [==============================] - 5s 5ms/step - loss: 0.1311 - accuracy: 0.9616\n",
            "Epoch 10/20\n",
            "938/938 [==============================] - 5s 6ms/step - loss: 0.1215 - accuracy: 0.9639\n",
            "Epoch 11/20\n",
            "938/938 [==============================] - 5s 5ms/step - loss: 0.1138 - accuracy: 0.9662\n",
            "Epoch 12/20\n",
            "938/938 [==============================] - 5s 5ms/step - loss: 0.1061 - accuracy: 0.9679\n",
            "Epoch 13/20\n",
            "938/938 [==============================] - 5s 5ms/step - loss: 0.0993 - accuracy: 0.9704\n",
            "Epoch 14/20\n",
            "938/938 [==============================] - 5s 5ms/step - loss: 0.0937 - accuracy: 0.9723\n",
            "Epoch 15/20\n",
            "938/938 [==============================] - 5s 5ms/step - loss: 0.0888 - accuracy: 0.9735\n",
            "Epoch 16/20\n",
            "938/938 [==============================] - 5s 5ms/step - loss: 0.0842 - accuracy: 0.9749\n",
            "Epoch 17/20\n",
            "938/938 [==============================] - 5s 5ms/step - loss: 0.0799 - accuracy: 0.9760\n",
            "Epoch 18/20\n",
            "938/938 [==============================] - 5s 6ms/step - loss: 0.0760 - accuracy: 0.9768\n",
            "Epoch 19/20\n",
            "938/938 [==============================] - 5s 5ms/step - loss: 0.0721 - accuracy: 0.9789\n",
            "Epoch 20/20\n",
            "938/938 [==============================] - 5s 5ms/step - loss: 0.0690 - accuracy: 0.9793\n",
            "CPU times: user 1min 37s, sys: 13.9 s, total: 1min 51s\n",
            "Wall time: 2min 22s\n"
          ]
        }
      ]
    },
    {
      "cell_type": "code",
      "metadata": {
        "id": "spfKH728VNc_"
      },
      "source": [
        "# 2min 22s\n",
        "# loss: 0.0690 - accuracy: 0.9793"
      ],
      "execution_count": null,
      "outputs": []
    },
    {
      "cell_type": "code",
      "metadata": {
        "colab": {
          "base_uri": "https://localhost:8080/"
        },
        "id": "UScxDQy4XrRt",
        "outputId": "bd441166-0802-4d83-a686-aa530fe7ea10"
      },
      "source": [
        "%%time\n",
        "\n",
        "model.compile(optimizer='sgd', loss='categorical_crossentropy', metrics=['accuracy'])\n",
        "model.fit(train_images, train_labels, epochs=5, batch_size=64, validation_data=(test_images, test_labels))"
      ],
      "execution_count": null,
      "outputs": [
        {
          "output_type": "stream",
          "name": "stdout",
          "text": [
            "Epoch 1/5\n",
            "938/938 [==============================] - 6s 6ms/step - loss: 0.0659 - accuracy: 0.9804 - val_loss: 0.0806 - val_accuracy: 0.9738\n",
            "Epoch 2/5\n",
            "938/938 [==============================] - 6s 6ms/step - loss: 0.0632 - accuracy: 0.9814 - val_loss: 0.0782 - val_accuracy: 0.9746\n",
            "Epoch 3/5\n",
            "938/938 [==============================] - 6s 6ms/step - loss: 0.0608 - accuracy: 0.9817 - val_loss: 0.0699 - val_accuracy: 0.9782\n",
            "Epoch 4/5\n",
            "938/938 [==============================] - 6s 6ms/step - loss: 0.0584 - accuracy: 0.9825 - val_loss: 0.0692 - val_accuracy: 0.9763\n",
            "Epoch 5/5\n",
            "938/938 [==============================] - 6s 6ms/step - loss: 0.0564 - accuracy: 0.9832 - val_loss: 0.0692 - val_accuracy: 0.9765\n",
            "CPU times: user 27 s, sys: 4.09 s, total: 31.1 s\n",
            "Wall time: 29.4 s\n"
          ]
        }
      ]
    },
    {
      "cell_type": "code",
      "metadata": {
        "id": "pcp7NKFkXu2n"
      },
      "source": [
        "# 29.4 s\n",
        "# loss: 0.0564 - accuracy: 0.9832 - val_loss: 0.0692 - val_accuracy: 0.9765"
      ],
      "execution_count": null,
      "outputs": []
    },
    {
      "cell_type": "code",
      "metadata": {
        "colab": {
          "base_uri": "https://localhost:8080/"
        },
        "id": "xiolgGHWXVW_",
        "outputId": "576bd84e-4ad6-45ab-b7cb-ff0aafeb9796"
      },
      "source": [
        "model = models.Sequential()\n",
        "model.add( layers.Conv2D( 32, (3,3), activation='relu', input_shape=(28,28,1) ) )\n",
        "model.add( layers.Conv2D( 32, (3,3), activation='relu', input_shape=(28,28,1) ) )\n",
        "model.add( layers.MaxPooling2D( (2,2) ) )\n",
        "model.add( layers.Flatten()) # 1차원으로 펼쳐준다\n",
        "model.add( layers.Dense(64, activation='relu'))\n",
        "model.add( layers.Dense(10, activation='softmax'))\n",
        "model.summary()"
      ],
      "execution_count": null,
      "outputs": [
        {
          "output_type": "stream",
          "name": "stdout",
          "text": [
            "Model: \"sequential_3\"\n",
            "_________________________________________________________________\n",
            "Layer (type)                 Output Shape              Param #   \n",
            "=================================================================\n",
            "conv2d_4 (Conv2D)            (None, 26, 26, 32)        320       \n",
            "_________________________________________________________________\n",
            "conv2d_5 (Conv2D)            (None, 24, 24, 32)        9248      \n",
            "_________________________________________________________________\n",
            "max_pooling2d_3 (MaxPooling2 (None, 12, 12, 32)        0         \n",
            "_________________________________________________________________\n",
            "flatten_3 (Flatten)          (None, 4608)              0         \n",
            "_________________________________________________________________\n",
            "dense_6 (Dense)              (None, 64)                294976    \n",
            "_________________________________________________________________\n",
            "dense_7 (Dense)              (None, 10)                650       \n",
            "=================================================================\n",
            "Total params: 305,194\n",
            "Trainable params: 305,194\n",
            "Non-trainable params: 0\n",
            "_________________________________________________________________\n"
          ]
        }
      ]
    },
    {
      "cell_type": "code",
      "metadata": {
        "colab": {
          "base_uri": "https://localhost:8080/"
        },
        "id": "nbgng1ZiXYXf",
        "outputId": "92711b9d-3f83-4a08-b5a5-51268a2e0490"
      },
      "source": [
        "%%time\n",
        "\n",
        "model.compile(optimizer='sgd', loss='categorical_crossentropy', metrics=['accuracy'])\n",
        "model.fit(train_images, train_labels, epochs=25, batch_size=64, validation_data=(test_images, test_labels))"
      ],
      "execution_count": null,
      "outputs": [
        {
          "output_type": "stream",
          "name": "stdout",
          "text": [
            "Epoch 1/25\n",
            "938/938 [==============================] - 9s 9ms/step - loss: 0.6001 - accuracy: 0.8256 - val_loss: 0.4470 - val_accuracy: 0.8615\n",
            "Epoch 2/25\n",
            "938/938 [==============================] - 8s 8ms/step - loss: 0.2303 - accuracy: 0.9312 - val_loss: 0.1970 - val_accuracy: 0.9426\n",
            "Epoch 3/25\n",
            "938/938 [==============================] - 8s 8ms/step - loss: 0.1763 - accuracy: 0.9474 - val_loss: 0.1509 - val_accuracy: 0.9551\n",
            "Epoch 4/25\n",
            "938/938 [==============================] - 7s 8ms/step - loss: 0.1466 - accuracy: 0.9556 - val_loss: 0.1474 - val_accuracy: 0.9541\n",
            "Epoch 5/25\n",
            "938/938 [==============================] - 8s 8ms/step - loss: 0.1251 - accuracy: 0.9622 - val_loss: 0.1084 - val_accuracy: 0.9660\n",
            "Epoch 6/25\n",
            "938/938 [==============================] - 8s 8ms/step - loss: 0.1079 - accuracy: 0.9665 - val_loss: 0.1098 - val_accuracy: 0.9667\n",
            "Epoch 7/25\n",
            "938/938 [==============================] - 8s 8ms/step - loss: 0.0966 - accuracy: 0.9704 - val_loss: 0.0976 - val_accuracy: 0.9697\n",
            "Epoch 8/25\n",
            "938/938 [==============================] - 7s 8ms/step - loss: 0.0858 - accuracy: 0.9736 - val_loss: 0.0960 - val_accuracy: 0.9705\n",
            "Epoch 9/25\n",
            "938/938 [==============================] - 7s 8ms/step - loss: 0.0793 - accuracy: 0.9761 - val_loss: 0.0766 - val_accuracy: 0.9773\n",
            "Epoch 10/25\n",
            "938/938 [==============================] - 7s 8ms/step - loss: 0.0715 - accuracy: 0.9782 - val_loss: 0.0830 - val_accuracy: 0.9748\n",
            "Epoch 11/25\n",
            "938/938 [==============================] - 7s 8ms/step - loss: 0.0660 - accuracy: 0.9795 - val_loss: 0.0772 - val_accuracy: 0.9761\n",
            "Epoch 12/25\n",
            "938/938 [==============================] - 7s 8ms/step - loss: 0.0603 - accuracy: 0.9820 - val_loss: 0.0691 - val_accuracy: 0.9789\n",
            "Epoch 13/25\n",
            "938/938 [==============================] - 7s 8ms/step - loss: 0.0564 - accuracy: 0.9828 - val_loss: 0.0701 - val_accuracy: 0.9773\n",
            "Epoch 14/25\n",
            "938/938 [==============================] - 7s 8ms/step - loss: 0.0534 - accuracy: 0.9836 - val_loss: 0.0634 - val_accuracy: 0.9799\n",
            "Epoch 15/25\n",
            "938/938 [==============================] - 7s 8ms/step - loss: 0.0491 - accuracy: 0.9850 - val_loss: 0.0604 - val_accuracy: 0.9805\n",
            "Epoch 16/25\n",
            "938/938 [==============================] - 8s 8ms/step - loss: 0.0459 - accuracy: 0.9856 - val_loss: 0.0626 - val_accuracy: 0.9800\n",
            "Epoch 17/25\n",
            "938/938 [==============================] - 7s 8ms/step - loss: 0.0431 - accuracy: 0.9865 - val_loss: 0.0562 - val_accuracy: 0.9821\n",
            "Epoch 18/25\n",
            "938/938 [==============================] - 7s 8ms/step - loss: 0.0405 - accuracy: 0.9873 - val_loss: 0.0559 - val_accuracy: 0.9817\n",
            "Epoch 19/25\n",
            "938/938 [==============================] - 7s 8ms/step - loss: 0.0376 - accuracy: 0.9883 - val_loss: 0.0506 - val_accuracy: 0.9832\n",
            "Epoch 20/25\n",
            "938/938 [==============================] - 7s 8ms/step - loss: 0.0354 - accuracy: 0.9894 - val_loss: 0.0503 - val_accuracy: 0.9841\n",
            "Epoch 21/25\n",
            "938/938 [==============================] - 7s 8ms/step - loss: 0.0335 - accuracy: 0.9897 - val_loss: 0.0495 - val_accuracy: 0.9840\n",
            "Epoch 22/25\n",
            "938/938 [==============================] - 7s 8ms/step - loss: 0.0319 - accuracy: 0.9901 - val_loss: 0.0510 - val_accuracy: 0.9833\n",
            "Epoch 23/25\n",
            "938/938 [==============================] - 7s 8ms/step - loss: 0.0300 - accuracy: 0.9910 - val_loss: 0.0493 - val_accuracy: 0.9847\n",
            "Epoch 24/25\n",
            "938/938 [==============================] - 8s 8ms/step - loss: 0.0281 - accuracy: 0.9915 - val_loss: 0.0489 - val_accuracy: 0.9846\n",
            "Epoch 25/25\n",
            "938/938 [==============================] - 7s 8ms/step - loss: 0.0262 - accuracy: 0.9925 - val_loss: 0.0456 - val_accuracy: 0.9843\n",
            "CPU times: user 2min 51s, sys: 20.6 s, total: 3min 12s\n",
            "Wall time: 3min 22s\n"
          ]
        }
      ]
    },
    {
      "cell_type": "code",
      "metadata": {
        "id": "mqlVtg87Xgwf"
      },
      "source": [
        "# 3min 22s\n",
        "# loss: 0.0251 - accuracy: 0.9923 - val_loss: 0.0435 - val_accuracy: 0.9869"
      ],
      "execution_count": null,
      "outputs": []
    }
  ]
}