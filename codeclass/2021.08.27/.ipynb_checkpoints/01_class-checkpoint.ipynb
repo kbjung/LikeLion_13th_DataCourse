{
 "cells": [
  {
   "cell_type": "markdown",
   "id": "00198f2a",
   "metadata": {},
   "source": [
    "### print함수 설명"
   ]
  },
  {
   "cell_type": "code",
   "execution_count": 1,
   "id": "b121936e",
   "metadata": {},
   "outputs": [
    {
     "name": "stdout",
     "output_type": "stream",
     "text": [
      "A 20 B\n",
      "A 20 B\n",
      "A20B\n",
      "\n",
      "A 20 BA 20 B\n"
     ]
    }
   ],
   "source": [
    "age = 20\n",
    "print(\"A\", age, \"B\")\n",
    "print(\"A\", age, \"B\", sep=\" \") # sep : ,에 대한 설정. 기본은 \" \".\n",
    "print(\"A\", age, \"B\", sep=\"\")\n",
    "print()\n",
    "print(\"A\", age, \"B\", sep=\" \", end=\"\") # end : 문장 끝에 대한 설정. 기본은 /n(한줄 띄기).\n",
    "print(\"A\", age, \"B\", sep=\" \")\n",
    "# sep, end는 옵션."
   ]
  },
  {
   "cell_type": "markdown",
   "id": "1497a37f",
   "metadata": {},
   "source": [
    "### 조건문"
   ]
  },
  {
   "cell_type": "code",
   "execution_count": null,
   "id": "700d6188",
   "metadata": {},
   "outputs": [],
   "source": [
    "# if 조건문:"
   ]
  }
 ],
 "metadata": {
  "kernelspec": {
   "display_name": "Python 3",
   "language": "python",
   "name": "python3"
  },
  "language_info": {
   "codemirror_mode": {
    "name": "ipython",
    "version": 3
   },
   "file_extension": ".py",
   "mimetype": "text/x-python",
   "name": "python",
   "nbconvert_exporter": "python",
   "pygments_lexer": "ipython3",
   "version": "3.8.8"
  }
 },
 "nbformat": 4,
 "nbformat_minor": 5
}
