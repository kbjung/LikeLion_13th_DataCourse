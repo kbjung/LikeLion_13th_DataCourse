{
 "cells": [
  {
   "cell_type": "markdown",
   "id": "efe0de07",
   "metadata": {},
   "source": [
    "# 모델 선택 및 개선"
   ]
  },
  {
   "cell_type": "code",
   "execution_count": 56,
   "id": "3c28f8f7",
   "metadata": {},
   "outputs": [],
   "source": [
    "import os, warnings\n",
    "# 경고 메세지 무시하거나 숨길때(ignore), 다시보이게(default)\n",
    "# warnings.filterwarnings(action='ignore')\n",
    "warnings.filterwarnings(action='ignore')"
   ]
  },
  {
   "cell_type": "code",
   "execution_count": 57,
   "id": "f8fc443e",
   "metadata": {},
   "outputs": [],
   "source": [
    "import pandas as pd"
   ]
  },
  {
   "cell_type": "markdown",
   "id": "daf64e51",
   "metadata": {},
   "source": [
    "## 랜덤 포레스트 모델 선택"
   ]
  },
  {
   "cell_type": "code",
   "execution_count": 58,
   "id": "6bdac05a",
   "metadata": {},
   "outputs": [],
   "source": [
    "from sklearn.ensemble import RandomForestClassifier"
   ]
  },
  {
   "cell_type": "markdown",
   "id": "03a39371",
   "metadata": {},
   "source": [
    "### 교차 검증(KFold)"
   ]
  },
  {
   "cell_type": "code",
   "execution_count": 59,
   "id": "a4f6e0b0",
   "metadata": {},
   "outputs": [],
   "source": [
    "from sklearn.model_selection import cross_val_score, KFold"
   ]
  },
  {
   "cell_type": "markdown",
   "id": "7b1d38a2",
   "metadata": {},
   "source": [
    "### 데이터 확인 및 전처리"
   ]
  },
  {
   "cell_type": "code",
   "execution_count": 60,
   "id": "f9b11088",
   "metadata": {},
   "outputs": [],
   "source": [
    "# 데이터 읽기\n",
    "train = pd.read_csv('data/train.csv')\n",
    "test = pd.read_csv('data/test.csv')\n",
    "\n",
    "# 결측값 채우기(Age)\n",
    "train.Age = train.Age.fillna(train.Age.median())\n",
    "test.Age = test.Age.fillna(train.Age.median())\n",
    "# 결측값 채우고 숫자형으로 변환(Cabin)\n",
    "train['Cabin_n'] = train['Cabin'].notnull().astype(int)\n",
    "test['Cabin_n'] = test['Cabin'].notnull().astype(int)\n",
    "# 결측값 채우기(train.Embarked)\n",
    "train.Embarked = train.Embarked.fillna('S')\n",
    "# 결측값 채우기(test.Fare)\n",
    "test['Fare'] = test['Fare'].median()\n",
    "\n",
    "# 데이터 수치형으로 변환(Sex)\n",
    "train['Sex_n'] = train.Sex.map({'male':1, 'female':2})\n",
    "test['Sex_n'] = test.Sex.map({'male':1, 'female':2})\n",
    "# 데이터 수치형으로 변환(Embarked)\n",
    "train['Embarked_n'] = train['Embarked'].map({'S':1, 'C':2, 'Q':3})\n",
    "test['Embarked_n'] = test['Embarked'].map({'S':1, 'C':2, 'Q':3})\n",
    "\n",
    "# 데이터 특성 선택 및 분할\n",
    "sel = ['Pclass', 'Age', 'SibSp', 'Parch', 'Fare', 'Cabin_n', 'Sex_n', 'Embarked_n']\n",
    "X = train[sel]\n",
    "y = train['Survived']"
   ]
  },
  {
   "cell_type": "markdown",
   "id": "eecad20e",
   "metadata": {},
   "source": [
    "### 모델 객체화"
   ]
  },
  {
   "cell_type": "code",
   "execution_count": 65,
   "id": "5e93f167",
   "metadata": {},
   "outputs": [],
   "source": [
    "# 모델 생성\n",
    "rf_c = RandomForestClassifier(n_jobs=-1)"
   ]
  },
  {
   "cell_type": "markdown",
   "id": "b4205699",
   "metadata": {},
   "source": [
    "## 교차 검증 : LeaveOneOut"
   ]
  },
  {
   "cell_type": "code",
   "execution_count": 66,
   "id": "df1b4219",
   "metadata": {},
   "outputs": [
    {
     "name": "stdout",
     "output_type": "stream",
     "text": [
      "훈련 : 테스트 = 9 : 1\n",
      "교차 검증 점수 : [0.66666667 0.61111111 0.88888889 0.72222222 0.72222222]\n",
      "교차 검증 점수 평균 : 0.7222222222222222\n",
      "\n",
      "훈련 : 테스트 = 8 : 2\n",
      "교차 검증 점수 : [0.83333333 0.66666667 0.80555556 0.80555556 0.77142857]\n",
      "교차 검증 점수 평균 : 0.7765079365079364\n",
      "\n",
      "훈련 : 테스트 = 7 : 3\n",
      "교차 검증 점수 : [0.77777778 0.88888889 0.7037037  0.79245283 0.8490566 ]\n",
      "교차 검증 점수 평균 : 0.802375960866527\n",
      "\n",
      "훈련 : 테스트 = 6 : 4\n",
      "교차 검증 점수 : [0.73611111 0.88888889 0.71830986 0.83098592 0.71830986]\n",
      "교차 검증 점수 평균 : 0.7785211267605633\n",
      "\n",
      "훈련 : 테스트 = 5 : 5\n",
      "교차 검증 점수 : [0.77777778 0.79775281 0.76404494 0.76404494 0.75280899]\n",
      "교차 검증 점수 평균 : 0.7712858926342072\n",
      "\n"
     ]
    }
   ],
   "source": [
    "# test_size 변경\n",
    "for i in range(1, 6):\n",
    "    X_train, X_test, y_train, y_test = train_test_split(X, y, stratify =y, test_size = (i/10), random_state=0)\n",
    "    # 모델 훈련\n",
    "    rf_c.fit(X_train,  y_train)\n",
    "    # 교차검증\n",
    "    kfold = KFold(shuffle=True)\n",
    "    # scores = cross_val_score(모델 객체, 입력, 결과, cv = cross_validation)\n",
    "    score = cross_val_score(rf_c, X_test, y_test, cv=kfold)\n",
    "    print(f\"훈련 : 테스트 = {10-i} : {i}\")\n",
    "    print(f\"교차 검증 점수 : {score}\")\n",
    "    print(\"교차 검증 점수 평균 :\", score.mean())\n",
    "    print()"
   ]
  },
  {
   "cell_type": "markdown",
   "id": "b54317b8",
   "metadata": {},
   "source": [
    "## RandomForestClassifier 모델1\n",
    "* 'Age' : median\n",
    "* test.fare : median\n",
    "* statify 설정\n",
    "* 교차검증 : KFold(shuffle=True)\n",
    "* 점수\n",
    "    * 5:5 => 0.7983770287141073\n",
    "    * 9:1 => 0.6888888888888889"
   ]
  },
  {
   "cell_type": "markdown",
   "id": "2f73401e",
   "metadata": {},
   "source": [
    "### max_depth, test_size 조절"
   ]
  },
  {
   "cell_type": "code",
   "execution_count": 68,
   "id": "9509ed78",
   "metadata": {},
   "outputs": [
    {
     "name": "stdout",
     "output_type": "stream",
     "text": [
      "max_depth = 1\n",
      "훈련 : 테스트 = 9 : 1\n",
      "교차 검증 점수 : [0.66666667 0.66666667 0.66666667 0.72222222 0.77777778]\n",
      "교차 검증 점수 평균 : 0.7\n",
      "\n",
      "max_depth = 1\n",
      "훈련 : 테스트 = 8 : 2\n",
      "교차 검증 점수 : [0.72222222 0.69444444 0.88888889 0.72222222 0.77142857]\n",
      "교차 검증 점수 평균 : 0.7598412698412698\n",
      "\n",
      "max_depth = 1\n",
      "훈련 : 테스트 = 7 : 3\n",
      "교차 검증 점수 : [0.77777778 0.81481481 0.77777778 0.66037736 0.75471698]\n",
      "교차 검증 점수 평균 : 0.7570929419986024\n",
      "\n",
      "max_depth = 1\n",
      "훈련 : 테스트 = 6 : 4\n",
      "교차 검증 점수 : [0.77777778 0.70833333 0.8028169  0.70422535 0.70422535]\n",
      "교차 검증 점수 평균 : 0.7394757433489827\n",
      "\n",
      "max_depth = 1\n",
      "훈련 : 테스트 = 5 : 5\n",
      "교차 검증 점수 : [0.72222222 0.71910112 0.82022472 0.70786517 0.69662921]\n",
      "교차 검증 점수 평균 : 0.7332084893882647\n",
      "\n",
      "===================================================================\n",
      "max_depth = 2\n",
      "훈련 : 테스트 = 9 : 1\n",
      "교차 검증 점수 : [0.72222222 0.77777778 0.66666667 0.72222222 0.66666667]\n",
      "교차 검증 점수 평균 : 0.711111111111111\n",
      "\n",
      "max_depth = 2\n",
      "훈련 : 테스트 = 8 : 2\n",
      "교차 검증 점수 : [0.80555556 0.72222222 0.77777778 0.61111111 0.85714286]\n",
      "교차 검증 점수 평균 : 0.7547619047619047\n",
      "\n",
      "max_depth = 2\n",
      "훈련 : 테스트 = 7 : 3\n",
      "교차 검증 점수 : [0.85185185 0.7962963  0.81481481 0.79245283 0.77358491]\n",
      "교차 검증 점수 평균 : 0.8058001397624039\n",
      "\n",
      "max_depth = 2\n",
      "훈련 : 테스트 = 6 : 4\n",
      "교차 검증 점수 : [0.84722222 0.75       0.8028169  0.73239437 0.85915493]\n",
      "교차 검증 점수 평균 : 0.7983176838810643\n",
      "\n",
      "max_depth = 2\n",
      "훈련 : 테스트 = 5 : 5\n",
      "교차 검증 점수 : [0.8        0.70786517 0.86516854 0.80898876 0.74157303]\n",
      "교차 검증 점수 평균 : 0.7847191011235956\n",
      "\n",
      "===================================================================\n",
      "max_depth = 3\n",
      "훈련 : 테스트 = 9 : 1\n",
      "교차 검증 점수 : [0.77777778 0.88888889 0.55555556 0.94444444 0.72222222]\n",
      "교차 검증 점수 평균 : 0.7777777777777779\n",
      "\n",
      "max_depth = 3\n",
      "훈련 : 테스트 = 8 : 2\n",
      "교차 검증 점수 : [0.72222222 0.77777778 0.83333333 0.77777778 0.77142857]\n",
      "교차 검증 점수 평균 : 0.7765079365079365\n",
      "\n",
      "max_depth = 3\n",
      "훈련 : 테스트 = 7 : 3\n",
      "교차 검증 점수 : [0.7962963  0.81481481 0.85185185 0.79245283 0.79245283]\n",
      "교차 검증 점수 평균 : 0.8095737246680643\n",
      "\n",
      "max_depth = 3\n",
      "훈련 : 테스트 = 6 : 4\n",
      "교차 검증 점수 : [0.76388889 0.875      0.70422535 0.88732394 0.88732394]\n",
      "교차 검증 점수 평균 : 0.8235524256651017\n",
      "\n",
      "max_depth = 3\n",
      "훈련 : 테스트 = 5 : 5\n",
      "교차 검증 점수 : [0.83333333 0.78651685 0.78651685 0.83146067 0.7752809 ]\n",
      "교차 검증 점수 평균 : 0.802621722846442\n",
      "\n",
      "===================================================================\n",
      "max_depth = 4\n",
      "훈련 : 테스트 = 9 : 1\n",
      "교차 검증 점수 : [0.66666667 0.66666667 0.72222222 0.83333333 0.88888889]\n",
      "교차 검증 점수 평균 : 0.7555555555555555\n",
      "\n",
      "max_depth = 4\n",
      "훈련 : 테스트 = 8 : 2\n",
      "교차 검증 점수 : [0.86111111 0.75       0.69444444 0.75       0.85714286]\n",
      "교차 검증 점수 평균 : 0.7825396825396825\n",
      "\n",
      "max_depth = 4\n",
      "훈련 : 테스트 = 7 : 3\n",
      "교차 검증 점수 : [0.72222222 0.87037037 0.74074074 0.77358491 0.8490566 ]\n",
      "교차 검증 점수 평균 : 0.791194968553459\n",
      "\n",
      "max_depth = 4\n",
      "훈련 : 테스트 = 6 : 4\n",
      "교차 검증 점수 : [0.83333333 0.77777778 0.76056338 0.84507042 0.8028169 ]\n",
      "교차 검증 점수 평균 : 0.8039123630672927\n",
      "\n",
      "max_depth = 4\n",
      "훈련 : 테스트 = 5 : 5\n",
      "교차 검증 점수 : [0.76666667 0.7752809  0.79775281 0.78651685 0.87640449]\n",
      "교차 검증 점수 평균 : 0.8005243445692886\n",
      "\n",
      "===================================================================\n"
     ]
    }
   ],
   "source": [
    "for d in range(1, 5):\n",
    "    for i in range(1, 6):\n",
    "        # 모델 생성\n",
    "        rf_c = RandomForestClassifier(n_jobs=-1, max_depth=d)\n",
    "        # 데이터 셋 분할\n",
    "        X_train, X_test, y_train, y_test = train_test_split(X, y, stratify =y, test_size = (i/10), random_state=0)\n",
    "        # 모델 훈련\n",
    "        rf_c.fit(X_train,  y_train)\n",
    "        # 교차검증\n",
    "        kfold = KFold(shuffle=True)\n",
    "        # scores = cross_val_score(모델 객체, 입력, 결과, cv = cross_validation)\n",
    "        score = cross_val_score(rf_c, X_test, y_test, cv=kfold)\n",
    "        print(f\"max_depth = {d}\")\n",
    "        print(f\"훈련 : 테스트 = {10-i} : {i}\")\n",
    "        print(f\"교차 검증 점수 : {score}\")\n",
    "        print(\"교차 검증 점수 평균 :\", score.mean())\n",
    "        print()\n",
    "    print(\"===================================================================\")"
   ]
  },
  {
   "cell_type": "markdown",
   "id": "f26d2ee3",
   "metadata": {},
   "source": [
    "### 랜덤 포레스트 분류 모델 최적 하이퍼 파라미터\n",
    "* max_depth = 3, 4\n",
    "* test_size = 0.2, 0.3"
   ]
  },
  {
   "cell_type": "code",
   "execution_count": null,
   "id": "26a31e02",
   "metadata": {},
   "outputs": [],
   "source": []
  }
 ],
 "metadata": {
  "kernelspec": {
   "display_name": "Python 3",
   "language": "python",
   "name": "python3"
  },
  "language_info": {
   "codemirror_mode": {
    "name": "ipython",
    "version": 3
   },
   "file_extension": ".py",
   "mimetype": "text/x-python",
   "name": "python",
   "nbconvert_exporter": "python",
   "pygments_lexer": "ipython3",
   "version": "3.8.8"
  }
 },
 "nbformat": 4,
 "nbformat_minor": 5
}
