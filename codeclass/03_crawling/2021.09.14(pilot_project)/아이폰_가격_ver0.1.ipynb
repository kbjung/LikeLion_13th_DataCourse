{
 "cells": [
  {
   "cell_type": "code",
   "execution_count": null,
   "id": "95981e7b",
   "metadata": {},
   "outputs": [],
   "source": [
    "# 함수 로드\n",
    "from selenium import webdriver\n",
    "from bs4 import BeautifulSoup\n",
    "import time"
   ]
  },
  {
   "cell_type": "code",
   "execution_count": 1,
   "id": "79a2234c",
   "metadata": {
    "scrolled": true
   },
   "outputs": [
    {
     "ename": "NameError",
     "evalue": "name 'webdriver' is not defined",
     "output_type": "error",
     "traceback": [
      "\u001b[1;31m---------------------------------------------------------------------------\u001b[0m",
      "\u001b[1;31mNameError\u001b[0m                                 Traceback (most recent call last)",
      "\u001b[1;32m<ipython-input-1-fcde90dff16c>\u001b[0m in \u001b[0;36m<module>\u001b[1;34m\u001b[0m\n\u001b[0;32m      1\u001b[0m \u001b[1;31m# webdriver 불러오기, '네이버 쇼핑' 접속 확인\u001b[0m\u001b[1;33m\u001b[0m\u001b[1;33m\u001b[0m\u001b[1;33m\u001b[0m\u001b[0m\n\u001b[1;32m----> 2\u001b[1;33m \u001b[0mdriver\u001b[0m \u001b[1;33m=\u001b[0m \u001b[0mwebdriver\u001b[0m\u001b[1;33m.\u001b[0m\u001b[0mChrome\u001b[0m\u001b[1;33m(\u001b[0m\u001b[1;34m'chromedriver'\u001b[0m\u001b[1;33m)\u001b[0m\u001b[1;33m\u001b[0m\u001b[1;33m\u001b[0m\u001b[0m\n\u001b[0m\u001b[0;32m      3\u001b[0m \u001b[0murl\u001b[0m \u001b[1;33m=\u001b[0m \u001b[1;34m\"https://shopping.naver.com/home/p/index.naver\"\u001b[0m\u001b[1;33m\u001b[0m\u001b[1;33m\u001b[0m\u001b[0m\n\u001b[0;32m      4\u001b[0m \u001b[0mdriver\u001b[0m\u001b[1;33m.\u001b[0m\u001b[0mget\u001b[0m\u001b[1;33m(\u001b[0m\u001b[0murl\u001b[0m\u001b[1;33m)\u001b[0m\u001b[1;33m\u001b[0m\u001b[1;33m\u001b[0m\u001b[0m\n",
      "\u001b[1;31mNameError\u001b[0m: name 'webdriver' is not defined"
     ]
    }
   ],
   "source": [
    "# webdriver 불러오기, '네이버 쇼핑' 접속 확인\n",
    "driver = webdriver.Chrome('chromedriver')\n",
    "url = \"https://shopping.naver.com/home/p/index.naver\"\n",
    "driver.get(url)"
   ]
  },
  {
   "cell_type": "code",
   "execution_count": null,
   "id": "5c38e8a8",
   "metadata": {},
   "outputs": [],
   "source": [
    "# 네이버 쇼핑에 '아이폰 12 64GB' 검색\n",
    "# 검색 후 필요없는 단어 걸러내기 과정으로 진행\n",
    "\n",
    "# 검색어 설정\n",
    "search_name = \"아이폰 12 64GB\"\n",
    "\n",
    "# 검색창 xpath = '//*[@id=\"autocompleteWrapper\"]/input[1]'\n",
    "# 검색 버튼 xpath = '//*[@id=\"autocompleteWrapper\"]/a[2]'\n",
    "\n",
    "search_box = driver.find_element_by_xpath('//*[@id=\"autocompleteWrapper\"]/input[1]')\n",
    "search_button = driver.find_element_by_xpath('//*[@id=\"autocompleteWrapper\"]/a[2]')\n",
    "\n",
    "\n",
    "# 검색창에 검색어 입력\n",
    "search_box.send_keys(search_name)\n",
    "search_button.click()"
   ]
  }
 ],
 "metadata": {
  "kernelspec": {
   "display_name": "Python 3",
   "language": "python",
   "name": "python3"
  },
  "language_info": {
   "codemirror_mode": {
    "name": "ipython",
    "version": 3
   },
   "file_extension": ".py",
   "mimetype": "text/x-python",
   "name": "python",
   "nbconvert_exporter": "python",
   "pygments_lexer": "ipython3",
   "version": "3.8.8"
  }
 },
 "nbformat": 4,
 "nbformat_minor": 5
}
