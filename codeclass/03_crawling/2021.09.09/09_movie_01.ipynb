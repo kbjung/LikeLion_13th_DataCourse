{
 "cells": [
  {
   "cell_type": "code",
   "execution_count": 1,
   "metadata": {},
   "outputs": [],
   "source": [
    "from urllib.request import urlopen\n",
    "from bs4 import BeautifulSoup as bs"
   ]
  },
  {
   "cell_type": "code",
   "execution_count": 2,
   "metadata": {},
   "outputs": [
    {
     "data": {
      "text/plain": [
       "'현재 상영영화 : 네이버 영화'"
      ]
     },
     "execution_count": 2,
     "metadata": {},
     "output_type": "execute_result"
    }
   ],
   "source": [
    "url = 'https://movie.naver.com/movie/running/current.naver'\n",
    "page = urlopen(url)\n",
    "soup = bs(page, 'lxml')\n",
    "soup.title.text"
   ]
  },
  {
   "cell_type": "code",
   "execution_count": 13,
   "metadata": {},
   "outputs": [],
   "source": [
    "# 초기 정보 필터\n",
    "# 상영작/예정작 제목만 뽑기\n",
    "soup_ul_li = soup.find(\"ul\", class_=\"lst_detail_t1\").find_all(\"li\")"
   ]
  },
  {
   "cell_type": "code",
   "execution_count": 8,
   "metadata": {},
   "outputs": [
    {
     "name": "stdout",
     "output_type": "stream",
     "text": [
      "74\n",
      "아이를 위한 아이\n",
      "스파이형 모델\n",
      "레베카\n"
     ]
    }
   ],
   "source": [
    "# 영화 개수 확인\n",
    "print(len(soup_ul_li))\n",
    "# 1번째 영화 제목 출력 확인\n",
    "print(soup_ul_li[0].find(\"dt\", class_=\"tit\").a.text)\n",
    "# 5번째 영화 제목 출력 확인\n",
    "print(soup_ul_li[4].find(\"dt\", class_=\"tit\").a.text)\n",
    "# 73번째(마지막) 영화 제목 출력 확인\n",
    "print(soup_ul_li[-1].find(\"dt\", class_=\"tit\").a.text)"
   ]
  },
  {
   "cell_type": "code",
   "execution_count": 11,
   "metadata": {},
   "outputs": [
    {
     "name": "stdout",
     "output_type": "stream",
     "text": [
      "9.19\n",
      "31\n",
      "값이 없음. 0\n"
     ]
    }
   ],
   "source": [
    "# 평점\n",
    "# 출력 확인\n",
    "print(soup_ul_li[0].find(\"span\", class_=\"num\").text)\n",
    "\n",
    "# 참여 명수\n",
    "# 출력 확인\n",
    "print(soup_ul_li[0].find(\"em\").text)\n",
    "\n",
    "# 예매율\n",
    "# print(soup_ul_li[0].find(\"dl\", class_=\"info_exp\").span.text)\n",
    "temp = soup_ul_li[-1].find(\"dl\", class_=\"info_exp\")\n",
    "if temp is not None:\n",
    "\tt = temp.span.text\n",
    "\tprint(\"값이 있음.\", t)\n",
    "else:\n",
    "\tt = 0\n",
    "\tprint(\"값이 없음.\", t)"
   ]
  },
  {
   "cell_type": "code",
   "execution_count": 18,
   "metadata": {},
   "outputs": [
    {
     "name": "stdout",
     "output_type": "stream",
     "text": [
      "\n",
      "액션, \n",
      "\t\t\t\t\t\t\t\t\n",
      "\t\t\t\t\t\t\t\t\t판타지, \n",
      "\t\t\t\t\t\t\t\t\n",
      "\t\t\t\t\t\t\t\t\tSF\n",
      "\n",
      "액션, 판타지, SF\n"
     ]
    }
   ],
   "source": [
    "# 개요\n",
    "print(soup_ul_li[1].find(\"span\", class_=\"link_txt\").text)\n",
    "txt = soup_ul_li[1].find(\"span\", class_=\"link_txt\").text\n",
    "txt_last = txt.replace(\"\\n\", \"\")\n",
    "txt_last = txt_last.replace(\"\\t\", \"\")\n",
    "txt_last = txt_last.replace(\"\\r\", \"\")\n",
    "print(txt_last)"
   ]
  },
  {
   "cell_type": "code",
   "execution_count": 20,
   "metadata": {},
   "outputs": [
    {
     "name": "stdout",
     "output_type": "stream",
     "text": [
      "\n",
      "\n",
      "이승환\n",
      "\n",
      "\n",
      "\n",
      "\n",
      "오스틴 버틀러, \n",
      "\t\t\t\t\t\t\t\t\n",
      "\t\t\t\t\t\t\t\t\t톰 행크스\n",
      "\n",
      "\n"
     ]
    }
   ],
   "source": [
    "# 2-3 (추가) 기타 정보(감독, 출연, 상영시간) 추가 후 - 댓글 달기\n",
    "# 감독\n",
    "director = soup_ul_li[0].find(\"dl\", class_=\"info_txt1\").find_all(\"dd\")[1].text\n",
    "print(director)\n",
    "\n",
    "# 출연\n",
    "actor = soup_ul_li[10].find(\"dl\", class_=\"info_txt1\").find_all(\"dd\")[-1].text\n",
    "print(actor)"
   ]
  },
  {
   "cell_type": "code",
   "execution_count": 21,
   "metadata": {},
   "outputs": [
    {
     "name": "stdout",
     "output_type": "stream",
     "text": [
      "74\n"
     ]
    }
   ],
   "source": [
    "lst = []\n",
    "for one in soup_ul_li:\n",
    "\tactor = one.find(\"dl\", class_=\"info_txt1\").find_all(\"dd\")[-1].text\n",
    "\ttxt_a = actor.replace(\"\\n\", \"\")\n",
    "\ttxt_a = txt_a.replace(\"\\t\", \"\")\n",
    "\ttxt_a = txt_a.replace(\"\\r\", \"\")\n",
    "\tlst.append(txt_a)\n",
    "print(len(lst))"
   ]
  },
  {
   "cell_type": "code",
   "execution_count": 22,
   "metadata": {},
   "outputs": [
    {
     "name": "stdout",
     "output_type": "stream",
     "text": [
      "<list_iterator object at 0x000001E01F289B50>\n",
      "96분\n",
      "74\n"
     ]
    }
   ],
   "source": [
    "# 상영시간(...)\n",
    "info_set = soup_ul_li[0].find(\"dl\", class_=\"info_txt1\").find_all(\"dd\")[0].children\n",
    "time = list(info_set)[-3].strip()\n",
    "print(info_set)\n",
    "print(time)\n",
    "time_lst = []\n",
    "for i in soup_ul_li:\n",
    "\ttime = list(i.find(\"dl\", class_=\"info_txt1\").find_all(\"dd\")[0].children)[-3].strip()\n",
    "\ttime_lst.append(time)\n",
    "print(len(time_lst))"
   ]
  },
  {
   "cell_type": "markdown",
   "metadata": {},
   "source": [
    "## 코드 정리\n",
    "* 제목, 평점, 참여수, 개요, 감독, 출연"
   ]
  },
  {
   "cell_type": "code",
   "execution_count": 23,
   "metadata": {},
   "outputs": [
    {
     "name": "stdout",
     "output_type": "stream",
     "text": [
      "74 74 74 74 74 74 74 74\n"
     ]
    }
   ],
   "source": [
    "all_title = []\n",
    "all_score = []\n",
    "all_people = []\n",
    "all_rate = []\n",
    "all_category = []\n",
    "all_director = []\n",
    "all_actor = []\n",
    "all_time = []\n",
    "\n",
    "for one in soup_ul_li:\n",
    "\t# 제목, 평점, 참여수 텍스트화\n",
    "\ttitle = one.find(\"dt\", class_=\"tit\").a.text\n",
    "\tscore = one.find(\"span\", class_=\"num\").text\n",
    "\tnum_people = one.find(\"em\").text\n",
    "\n",
    "\t# 예매율(웹사이트ㅔ서 없어짐.)\n",
    "\ttmp = one.find(\"dl\", class_=\"info_exp\")\n",
    "\tif tmp is not None:\n",
    "\t\trate = tmp.span.text\n",
    "\telse:\n",
    "\t\trate = 0\n",
    "\n",
    "\t# 카테고리 빈공간 정리\n",
    "\tcategory = one.find(\"span\", class_=\"link_txt\").text\n",
    "\ttxt_last = category.replace(\"\\n\", \"\")\n",
    "\ttxt_last = txt_last.replace(\"\\t\", \"\")\n",
    "\ttxt_last = txt_last.replace(\"\\r\", \"\")\n",
    "\n",
    "\t# 감독 빈공간 정리\n",
    "\tdirector = one.find(\"dl\", class_=\"info_txt1\").find_all(\"dd\")[1].text\n",
    "\ttxt_d = director.replace(\"\\n\", \"\")\n",
    "\ttxt_d = txt_d.replace(\"\\t\", \"\")\n",
    "\ttxt_d = txt_d.replace(\"\\r\", \"\")\n",
    "\n",
    "\t# 상영 시간 텍스트 화\n",
    "\ttime = list(one.find(\"dl\", class_=\"info_txt1\").find_all(\"dd\")[0].children)[-3].strip()\n",
    "\n",
    "\t# 출연 빈공간 정리\n",
    "\tactor = one.find(\"dl\", class_=\"info_txt1\").find_all(\"dd\")[-1].text\n",
    "\ttxt_a = actor.replace(\"\\n\", \"\")\n",
    "\ttxt_a = txt_a.replace(\"\\t\", \"\")\n",
    "\ttxt_a = txt_a.replace(\"\\r\", \"\")\n",
    "\n",
    "\tall_title.append(title)\n",
    "\tall_score.append(score)\n",
    "\tall_people.append(num_people)\n",
    "\tall_rate.append(rate)\n",
    "\tall_category.append(txt_last)\n",
    "\tall_director.append(txt_d)\n",
    "\tall_actor.append(txt_a)\n",
    "\tall_time.append(time)\n",
    "\n",
    "print(len(all_title),len(all_score), len(all_people),len(all_rate), len(all_category), len(all_director), len(all_actor), len(all_time))"
   ]
  },
  {
   "cell_type": "code",
   "execution_count": 24,
   "metadata": {},
   "outputs": [],
   "source": [
    "import pandas as pd\n",
    "\n",
    "dat_dict = {\n",
    "\t\"제목\" : all_title, \"평점\" : all_score, \"참여 명수\" : all_people, \"예매율\" : all_rate, \"개요\" : all_category, \"감독\" : all_director, \"출연\" : all_actor, \"상영시간\" : all_time\n",
    "}\n",
    "dat = pd.DataFrame(dat_dict)"
   ]
  },
  {
   "cell_type": "code",
   "execution_count": 25,
   "metadata": {},
   "outputs": [
    {
     "data": {
      "text/plain": [
       "(74, 8)"
      ]
     },
     "execution_count": 25,
     "metadata": {},
     "output_type": "execute_result"
    }
   ],
   "source": [
    "dat.shape"
   ]
  },
  {
   "cell_type": "code",
   "execution_count": 26,
   "metadata": {},
   "outputs": [
    {
     "data": {
      "text/html": [
       "<div>\n",
       "<style scoped>\n",
       "    .dataframe tbody tr th:only-of-type {\n",
       "        vertical-align: middle;\n",
       "    }\n",
       "\n",
       "    .dataframe tbody tr th {\n",
       "        vertical-align: top;\n",
       "    }\n",
       "\n",
       "    .dataframe thead th {\n",
       "        text-align: right;\n",
       "    }\n",
       "</style>\n",
       "<table border=\"1\" class=\"dataframe\">\n",
       "  <thead>\n",
       "    <tr style=\"text-align: right;\">\n",
       "      <th></th>\n",
       "      <th>제목</th>\n",
       "      <th>평점</th>\n",
       "      <th>참여 명수</th>\n",
       "      <th>예매율</th>\n",
       "      <th>개요</th>\n",
       "      <th>감독</th>\n",
       "      <th>출연</th>\n",
       "      <th>상영시간</th>\n",
       "    </tr>\n",
       "  </thead>\n",
       "  <tbody>\n",
       "    <tr>\n",
       "      <th>0</th>\n",
       "      <td>아이를 위한 아이</td>\n",
       "      <td>9.19</td>\n",
       "      <td>31</td>\n",
       "      <td>0</td>\n",
       "      <td></td>\n",
       "      <td>이승환</td>\n",
       "      <td>현우석, 박상훈, 정웅인</td>\n",
       "      <td>96분</td>\n",
       "    </tr>\n",
       "    <tr>\n",
       "      <th>1</th>\n",
       "      <td>외계+인 1부</td>\n",
       "      <td>7.30</td>\n",
       "      <td>9,928</td>\n",
       "      <td>0</td>\n",
       "      <td>액션, 판타지, SF</td>\n",
       "      <td>최동훈</td>\n",
       "      <td>류준열, 김우빈, 김태리, 소지섭, 염정아, 조우진, 김의성</td>\n",
       "      <td>142분</td>\n",
       "    </tr>\n",
       "    <tr>\n",
       "      <th>2</th>\n",
       "      <td>미니언즈2</td>\n",
       "      <td>7.93</td>\n",
       "      <td>1,186</td>\n",
       "      <td>0</td>\n",
       "      <td>애니메이션, 모험, 코미디</td>\n",
       "      <td>카일 발다</td>\n",
       "      <td>스티브 카렐, 타라지 P. 헨슨, 양자경, 루시 로리스, 장 끌로드 반담</td>\n",
       "      <td>87분</td>\n",
       "    </tr>\n",
       "    <tr>\n",
       "      <th>3</th>\n",
       "      <td>썸머 필름을 타고!</td>\n",
       "      <td>7.77</td>\n",
       "      <td>120</td>\n",
       "      <td>0</td>\n",
       "      <td>멜로/로맨스, SF</td>\n",
       "      <td>마츠모토 소우시</td>\n",
       "      <td>이토 마리카, 카네코 다이치, 이노리 키라라, 카와이 유미</td>\n",
       "      <td>98분</td>\n",
       "    </tr>\n",
       "    <tr>\n",
       "      <th>4</th>\n",
       "      <td>스파이형 모델</td>\n",
       "      <td>7.75</td>\n",
       "      <td>12</td>\n",
       "      <td>0</td>\n",
       "      <td>SF</td>\n",
       "      <td>김영일</td>\n",
       "      <td>주종혁, 이아주, 장현동, 이병수, 박진수</td>\n",
       "      <td>86분</td>\n",
       "    </tr>\n",
       "  </tbody>\n",
       "</table>\n",
       "</div>"
      ],
      "text/plain": [
       "           제목    평점  참여 명수  예매율              개요        감독  \\\n",
       "0   아이를 위한 아이  9.19     31    0                       이승환   \n",
       "1     외계+인 1부  7.30  9,928    0     액션, 판타지, SF       최동훈   \n",
       "2       미니언즈2  7.93  1,186    0  애니메이션, 모험, 코미디     카일 발다   \n",
       "3  썸머 필름을 타고!  7.77    120    0      멜로/로맨스, SF  마츠모토 소우시   \n",
       "4     스파이형 모델  7.75     12    0              SF       김영일   \n",
       "\n",
       "                                         출연  상영시간  \n",
       "0                             현우석, 박상훈, 정웅인   96분  \n",
       "1         류준열, 김우빈, 김태리, 소지섭, 염정아, 조우진, 김의성  142분  \n",
       "2  스티브 카렐, 타라지 P. 헨슨, 양자경, 루시 로리스, 장 끌로드 반담   87분  \n",
       "3          이토 마리카, 카네코 다이치, 이노리 키라라, 카와이 유미   98분  \n",
       "4                   주종혁, 이아주, 장현동, 이병수, 박진수   86분  "
      ]
     },
     "execution_count": 26,
     "metadata": {},
     "output_type": "execute_result"
    }
   ],
   "source": [
    "dat.head()"
   ]
  }
 ],
 "metadata": {
  "interpreter": {
   "hash": "569b4317022eb29baeafb3d0f1f739310808ea28ce83ca127a35db1c01070585"
  },
  "kernelspec": {
   "display_name": "Python 3.9.12 ('base')",
   "language": "python",
   "name": "python3"
  },
  "language_info": {
   "codemirror_mode": {
    "name": "ipython",
    "version": 3
   },
   "file_extension": ".py",
   "mimetype": "text/x-python",
   "name": "python",
   "nbconvert_exporter": "python",
   "pygments_lexer": "ipython3",
   "version": "3.9.12"
  },
  "orig_nbformat": 4
 },
 "nbformat": 4,
 "nbformat_minor": 2
}
