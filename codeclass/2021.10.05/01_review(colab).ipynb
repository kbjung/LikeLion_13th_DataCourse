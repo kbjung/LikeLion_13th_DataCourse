{
  "nbformat": 4,
  "nbformat_minor": 0,
  "metadata": {
    "colab": {
      "name": "01_review(colab).ipynb",
      "provenance": [],
      "collapsed_sections": []
    },
    "kernelspec": {
      "name": "python3",
      "display_name": "Python 3"
    },
    "language_info": {
      "name": "python"
    }
  },
  "cells": [
    {
      "cell_type": "code",
      "metadata": {
        "id": "SgJqRoKvCbTh"
      },
      "source": [
        "# colob"
      ],
      "execution_count": 15,
      "outputs": []
    },
    {
      "cell_type": "code",
      "metadata": {
        "id": "0dCtazDZAlof"
      },
      "source": [
        "import pandas as pd\n",
        "from pandas import Series"
      ],
      "execution_count": 16,
      "outputs": []
    },
    {
      "cell_type": "code",
      "metadata": {
        "id": "RsFJaKkcoIgk",
        "colab": {
          "base_uri": "https://localhost:8080/"
        },
        "outputId": "d3ec74a5-f420-4528-d470-1621340cc7d8"
      },
      "source": [
        "myfood = ['banana', 'apple', 'candy']\n",
        "print(myfood[0])\n",
        "print(myfood[1])\n",
        "print(myfood[2])\n",
        "print(myfood[1:3])  # 첫번째 두번째 가져오기"
      ],
      "execution_count": 17,
      "outputs": [
        {
          "output_type": "stream",
          "name": "stdout",
          "text": [
            "banana\n",
            "apple\n",
            "candy\n",
            "['apple', 'candy']\n"
          ]
        }
      ]
    },
    {
      "cell_type": "code",
      "metadata": {
        "id": "dQVg642g1gEl"
      },
      "source": [
        "dict1 = {'one':'하나', 'two':\"둘\", 'three':'셋'}\n",
        "dict2 = {1:\"하나\", 2:\"둘\", 3:\"셋\"}\n",
        "dict3 = {'col1':[1,2,3], 'col2':['a','b','c']}"
      ],
      "execution_count": 18,
      "outputs": []
    },
    {
      "cell_type": "code",
      "metadata": {
        "colab": {
          "base_uri": "https://localhost:8080/"
        },
        "id": "lIC3ih2y1h3r",
        "outputId": "052bd6f3-40fd-455b-922b-f45e5efa25b6"
      },
      "source": [
        "print(dict1['one'])\n",
        "print(dict2[2])\n",
        "print(dict3['col2']) "
      ],
      "execution_count": 19,
      "outputs": [
        {
          "output_type": "stream",
          "name": "stdout",
          "text": [
            "하나\n",
            "둘\n",
            "['a', 'b', 'c']\n"
          ]
        }
      ]
    },
    {
      "cell_type": "code",
      "metadata": {
        "colab": {
          "base_uri": "https://localhost:8080/"
        },
        "id": "_9HYscAW1jG7",
        "outputId": "4405494d-4b9e-4452-8c33-95a6962fcb0b"
      },
      "source": [
        "score = Series( [1000, 14000, 3000, 3000, 1000] )\n",
        "print(score)\n",
        "print(\"자료형 확인 : \", type(score))"
      ],
      "execution_count": 20,
      "outputs": [
        {
          "output_type": "stream",
          "name": "stdout",
          "text": [
            "0     1000\n",
            "1    14000\n",
            "2     3000\n",
            "3     3000\n",
            "4     1000\n",
            "dtype: int64\n",
            "자료형 확인 :  <class 'pandas.core.series.Series'>\n"
          ]
        }
      ]
    },
    {
      "cell_type": "code",
      "metadata": {
        "colab": {
          "base_uri": "https://localhost:8080/"
        },
        "id": "mJpk_9vU1kaT",
        "outputId": "c5ce56e8-6b3b-4aa4-f63b-4392bb68158d"
      },
      "source": [
        "## Series 인덱스 확인\n",
        "print(score.index) \n",
        "\n",
        "# 인덱스를 리스트 자료형으로 변경 후, 확인하기\n",
        "print(list(score.index))   \n",
        "\n",
        "## Series 값 확인\n",
        "print(score.values) \n",
        "\n",
        "## Series 값 자료형 확인\n",
        "print(score.dtype)"
      ],
      "execution_count": 21,
      "outputs": [
        {
          "output_type": "stream",
          "name": "stdout",
          "text": [
            "RangeIndex(start=0, stop=5, step=1)\n",
            "[0, 1, 2, 3, 4]\n",
            "[ 1000 14000  3000  3000  1000]\n",
            "int64\n"
          ]
        }
      ]
    },
    {
      "cell_type": "code",
      "metadata": {
        "colab": {
          "base_uri": "https://localhost:8080/"
        },
        "id": "k6MuytsR1mJz",
        "outputId": "bafc586c-43ad-451a-d6d0-bef760304934"
      },
      "source": [
        "### 인덱스(index) 속성 이용 \n",
        "score = Series( [1000, 14000, 3000], \n",
        "               index = ['2019-05-01', '2019-05-02', '2019-05-03'] )\n",
        "\n",
        "print(score)"
      ],
      "execution_count": 22,
      "outputs": [
        {
          "output_type": "stream",
          "name": "stdout",
          "text": [
            "2019-05-01     1000\n",
            "2019-05-02    14000\n",
            "2019-05-03     3000\n",
            "dtype: int64\n"
          ]
        }
      ]
    },
    {
      "cell_type": "code",
      "metadata": {
        "id": "0fRtGPqu1njr"
      },
      "source": [
        "from pandas import Series"
      ],
      "execution_count": 23,
      "outputs": []
    },
    {
      "cell_type": "code",
      "metadata": {
        "id": "nZ2cSlg21pJD"
      },
      "source": [
        "gildong = Series([1500, 3000, 2500], \n",
        "                 index = ['2019-05-01', '2019-05-02', '2019-05-03'] )\n",
        "\n",
        "toto = Series([3000, 3000, 2000], \n",
        "              index = ['2019-05-01', '2019-05-03', '2019-05-02'] ) "
      ],
      "execution_count": 24,
      "outputs": []
    },
    {
      "cell_type": "code",
      "metadata": {
        "id": "iakDYrsk1qjj"
      },
      "source": [
        "from pandas import DataFrame"
      ],
      "execution_count": 25,
      "outputs": []
    },
    {
      "cell_type": "code",
      "metadata": {
        "colab": {
          "base_uri": "https://localhost:8080/",
          "height": 173
        },
        "id": "BsJWzdZi1rsc",
        "outputId": "3f73db36-6682-4da6-9cd3-8f1271972870"
      },
      "source": [
        "dat = { 'col1' : [1,2,3,4],\n",
        "        'col2' : [10,20,30,40],\n",
        "        'col3' : ['A', 'B', 'C', 'D'] }\n",
        "df = DataFrame(dat)\n",
        "df"
      ],
      "execution_count": 26,
      "outputs": [
        {
          "output_type": "execute_result",
          "data": {
            "text/html": [
              "<div>\n",
              "<style scoped>\n",
              "    .dataframe tbody tr th:only-of-type {\n",
              "        vertical-align: middle;\n",
              "    }\n",
              "\n",
              "    .dataframe tbody tr th {\n",
              "        vertical-align: top;\n",
              "    }\n",
              "\n",
              "    .dataframe thead th {\n",
              "        text-align: right;\n",
              "    }\n",
              "</style>\n",
              "<table border=\"1\" class=\"dataframe\">\n",
              "  <thead>\n",
              "    <tr style=\"text-align: right;\">\n",
              "      <th></th>\n",
              "      <th>col1</th>\n",
              "      <th>col2</th>\n",
              "      <th>col3</th>\n",
              "    </tr>\n",
              "  </thead>\n",
              "  <tbody>\n",
              "    <tr>\n",
              "      <th>0</th>\n",
              "      <td>1</td>\n",
              "      <td>10</td>\n",
              "      <td>A</td>\n",
              "    </tr>\n",
              "    <tr>\n",
              "      <th>1</th>\n",
              "      <td>2</td>\n",
              "      <td>20</td>\n",
              "      <td>B</td>\n",
              "    </tr>\n",
              "    <tr>\n",
              "      <th>2</th>\n",
              "      <td>3</td>\n",
              "      <td>30</td>\n",
              "      <td>C</td>\n",
              "    </tr>\n",
              "    <tr>\n",
              "      <th>3</th>\n",
              "      <td>4</td>\n",
              "      <td>40</td>\n",
              "      <td>D</td>\n",
              "    </tr>\n",
              "  </tbody>\n",
              "</table>\n",
              "</div>"
            ],
            "text/plain": [
              "   col1  col2 col3\n",
              "0     1    10    A\n",
              "1     2    20    B\n",
              "2     3    30    C\n",
              "3     4    40    D"
            ]
          },
          "metadata": {},
          "execution_count": 26
        }
      ]
    },
    {
      "cell_type": "code",
      "metadata": {
        "colab": {
          "base_uri": "https://localhost:8080/",
          "height": 204
        },
        "id": "7fyBmF7W1uZb",
        "outputId": "9c386254-a6cd-44e4-f663-cfcf7f48cc87"
      },
      "source": [
        "from pandas import DataFrame\n",
        "\n",
        "team_score = { \"toto\":[1500,3000,5000,7000,5500],\n",
        "               \"apple\":[4000,5000,6000,5500,4500],\n",
        "               \"gildong\":[2000,2500,3000,4000,3000],\n",
        "               \"catanddog\":[7000,5000,3000,5000,4000]}\n",
        "\n",
        "team_df = DataFrame(team_score)\n",
        "team_df"
      ],
      "execution_count": 27,
      "outputs": [
        {
          "output_type": "execute_result",
          "data": {
            "text/html": [
              "<div>\n",
              "<style scoped>\n",
              "    .dataframe tbody tr th:only-of-type {\n",
              "        vertical-align: middle;\n",
              "    }\n",
              "\n",
              "    .dataframe tbody tr th {\n",
              "        vertical-align: top;\n",
              "    }\n",
              "\n",
              "    .dataframe thead th {\n",
              "        text-align: right;\n",
              "    }\n",
              "</style>\n",
              "<table border=\"1\" class=\"dataframe\">\n",
              "  <thead>\n",
              "    <tr style=\"text-align: right;\">\n",
              "      <th></th>\n",
              "      <th>toto</th>\n",
              "      <th>apple</th>\n",
              "      <th>gildong</th>\n",
              "      <th>catanddog</th>\n",
              "    </tr>\n",
              "  </thead>\n",
              "  <tbody>\n",
              "    <tr>\n",
              "      <th>0</th>\n",
              "      <td>1500</td>\n",
              "      <td>4000</td>\n",
              "      <td>2000</td>\n",
              "      <td>7000</td>\n",
              "    </tr>\n",
              "    <tr>\n",
              "      <th>1</th>\n",
              "      <td>3000</td>\n",
              "      <td>5000</td>\n",
              "      <td>2500</td>\n",
              "      <td>5000</td>\n",
              "    </tr>\n",
              "    <tr>\n",
              "      <th>2</th>\n",
              "      <td>5000</td>\n",
              "      <td>6000</td>\n",
              "      <td>3000</td>\n",
              "      <td>3000</td>\n",
              "    </tr>\n",
              "    <tr>\n",
              "      <th>3</th>\n",
              "      <td>7000</td>\n",
              "      <td>5500</td>\n",
              "      <td>4000</td>\n",
              "      <td>5000</td>\n",
              "    </tr>\n",
              "    <tr>\n",
              "      <th>4</th>\n",
              "      <td>5500</td>\n",
              "      <td>4500</td>\n",
              "      <td>3000</td>\n",
              "      <td>4000</td>\n",
              "    </tr>\n",
              "  </tbody>\n",
              "</table>\n",
              "</div>"
            ],
            "text/plain": [
              "   toto  apple  gildong  catanddog\n",
              "0  1500   4000     2000       7000\n",
              "1  3000   5000     2500       5000\n",
              "2  5000   6000     3000       3000\n",
              "3  7000   5500     4000       5000\n",
              "4  5500   4500     3000       4000"
            ]
          },
          "metadata": {},
          "execution_count": 27
        }
      ]
    },
    {
      "cell_type": "code",
      "metadata": {
        "colab": {
          "base_uri": "https://localhost:8080/",
          "height": 204
        },
        "id": "wDCgLQ5i1u0z",
        "outputId": "a5aa3d2c-b76f-4b51-bb6f-3ea74ef37190"
      },
      "source": [
        "date = ['19-05-01','19-05-02', '19-05-03', '19-05-04', '19-05-05']\n",
        "team_df = DataFrame(team_score,\n",
        "                   columns=['catanddog', 'toto', 'apple', 'gildong'],\n",
        "                   index=date)\n",
        "team_df"
      ],
      "execution_count": 28,
      "outputs": [
        {
          "output_type": "execute_result",
          "data": {
            "text/html": [
              "<div>\n",
              "<style scoped>\n",
              "    .dataframe tbody tr th:only-of-type {\n",
              "        vertical-align: middle;\n",
              "    }\n",
              "\n",
              "    .dataframe tbody tr th {\n",
              "        vertical-align: top;\n",
              "    }\n",
              "\n",
              "    .dataframe thead th {\n",
              "        text-align: right;\n",
              "    }\n",
              "</style>\n",
              "<table border=\"1\" class=\"dataframe\">\n",
              "  <thead>\n",
              "    <tr style=\"text-align: right;\">\n",
              "      <th></th>\n",
              "      <th>catanddog</th>\n",
              "      <th>toto</th>\n",
              "      <th>apple</th>\n",
              "      <th>gildong</th>\n",
              "    </tr>\n",
              "  </thead>\n",
              "  <tbody>\n",
              "    <tr>\n",
              "      <th>19-05-01</th>\n",
              "      <td>7000</td>\n",
              "      <td>1500</td>\n",
              "      <td>4000</td>\n",
              "      <td>2000</td>\n",
              "    </tr>\n",
              "    <tr>\n",
              "      <th>19-05-02</th>\n",
              "      <td>5000</td>\n",
              "      <td>3000</td>\n",
              "      <td>5000</td>\n",
              "      <td>2500</td>\n",
              "    </tr>\n",
              "    <tr>\n",
              "      <th>19-05-03</th>\n",
              "      <td>3000</td>\n",
              "      <td>5000</td>\n",
              "      <td>6000</td>\n",
              "      <td>3000</td>\n",
              "    </tr>\n",
              "    <tr>\n",
              "      <th>19-05-04</th>\n",
              "      <td>5000</td>\n",
              "      <td>7000</td>\n",
              "      <td>5500</td>\n",
              "      <td>4000</td>\n",
              "    </tr>\n",
              "    <tr>\n",
              "      <th>19-05-05</th>\n",
              "      <td>4000</td>\n",
              "      <td>5500</td>\n",
              "      <td>4500</td>\n",
              "      <td>3000</td>\n",
              "    </tr>\n",
              "  </tbody>\n",
              "</table>\n",
              "</div>"
            ],
            "text/plain": [
              "          catanddog  toto  apple  gildong\n",
              "19-05-01       7000  1500   4000     2000\n",
              "19-05-02       5000  3000   5000     2500\n",
              "19-05-03       3000  5000   6000     3000\n",
              "19-05-04       5000  7000   5500     4000\n",
              "19-05-05       4000  5500   4500     3000"
            ]
          },
          "metadata": {},
          "execution_count": 28
        }
      ]
    },
    {
      "cell_type": "code",
      "metadata": {
        "colab": {
          "base_uri": "https://localhost:8080/"
        },
        "id": "qNmPQU8e1wCL",
        "outputId": "10a2cfef-0ad4-4153-b3ce-46fd55e911fb"
      },
      "source": [
        "team_df['toto'] "
      ],
      "execution_count": 29,
      "outputs": [
        {
          "output_type": "execute_result",
          "data": {
            "text/plain": [
              "19-05-01    1500\n",
              "19-05-02    3000\n",
              "19-05-03    5000\n",
              "19-05-04    7000\n",
              "19-05-05    5500\n",
              "Name: toto, dtype: int64"
            ]
          },
          "metadata": {},
          "execution_count": 29
        }
      ]
    },
    {
      "cell_type": "code",
      "metadata": {
        "colab": {
          "base_uri": "https://localhost:8080/",
          "height": 204
        },
        "id": "AgKsKFoV1xVD",
        "outputId": "b083df51-3530-4376-8f54-6c40e0bd42ce"
      },
      "source": [
        "team_df[ ['toto', 'gildong'] ] "
      ],
      "execution_count": 30,
      "outputs": [
        {
          "output_type": "execute_result",
          "data": {
            "text/html": [
              "<div>\n",
              "<style scoped>\n",
              "    .dataframe tbody tr th:only-of-type {\n",
              "        vertical-align: middle;\n",
              "    }\n",
              "\n",
              "    .dataframe tbody tr th {\n",
              "        vertical-align: top;\n",
              "    }\n",
              "\n",
              "    .dataframe thead th {\n",
              "        text-align: right;\n",
              "    }\n",
              "</style>\n",
              "<table border=\"1\" class=\"dataframe\">\n",
              "  <thead>\n",
              "    <tr style=\"text-align: right;\">\n",
              "      <th></th>\n",
              "      <th>toto</th>\n",
              "      <th>gildong</th>\n",
              "    </tr>\n",
              "  </thead>\n",
              "  <tbody>\n",
              "    <tr>\n",
              "      <th>19-05-01</th>\n",
              "      <td>1500</td>\n",
              "      <td>2000</td>\n",
              "    </tr>\n",
              "    <tr>\n",
              "      <th>19-05-02</th>\n",
              "      <td>3000</td>\n",
              "      <td>2500</td>\n",
              "    </tr>\n",
              "    <tr>\n",
              "      <th>19-05-03</th>\n",
              "      <td>5000</td>\n",
              "      <td>3000</td>\n",
              "    </tr>\n",
              "    <tr>\n",
              "      <th>19-05-04</th>\n",
              "      <td>7000</td>\n",
              "      <td>4000</td>\n",
              "    </tr>\n",
              "    <tr>\n",
              "      <th>19-05-05</th>\n",
              "      <td>5500</td>\n",
              "      <td>3000</td>\n",
              "    </tr>\n",
              "  </tbody>\n",
              "</table>\n",
              "</div>"
            ],
            "text/plain": [
              "          toto  gildong\n",
              "19-05-01  1500     2000\n",
              "19-05-02  3000     2500\n",
              "19-05-03  5000     3000\n",
              "19-05-04  7000     4000\n",
              "19-05-05  5500     3000"
            ]
          },
          "metadata": {},
          "execution_count": 30
        }
      ]
    },
    {
      "cell_type": "code",
      "metadata": {
        "colab": {
          "base_uri": "https://localhost:8080/"
        },
        "id": "yzU3_rVW1y0L",
        "outputId": "ac849d8d-8faa-408f-e04e-b74ef8e428ab"
      },
      "source": [
        "print(team_df.loc[ '19-05-02' ] ) # 19-05-02 일\n",
        "print(\"-----------\")\n",
        "print(team_df.loc[ ['19-05-02', '19-05-03'] ]) # 5월 2일, 3일 \n",
        "print(\"-----------\")\n",
        "print(team_df.loc[ '19-05-02': ])  # 5월 2일 이후 전체 데이터 가져오기"
      ],
      "execution_count": 31,
      "outputs": [
        {
          "output_type": "stream",
          "name": "stdout",
          "text": [
            "catanddog    5000\n",
            "toto         3000\n",
            "apple        5000\n",
            "gildong      2500\n",
            "Name: 19-05-02, dtype: int64\n",
            "-----------\n",
            "          catanddog  toto  apple  gildong\n",
            "19-05-02       5000  3000   5000     2500\n",
            "19-05-03       3000  5000   6000     3000\n",
            "-----------\n",
            "          catanddog  toto  apple  gildong\n",
            "19-05-02       5000  3000   5000     2500\n",
            "19-05-03       3000  5000   6000     3000\n",
            "19-05-04       5000  7000   5500     4000\n",
            "19-05-05       4000  5500   4500     3000\n"
          ]
        }
      ]
    },
    {
      "cell_type": "code",
      "metadata": {
        "colab": {
          "base_uri": "https://localhost:8080/"
        },
        "id": "Pf2mQtvZ10j7",
        "outputId": "21f5e6f2-9b1e-4390-c9a8-6fd871e49d72"
      },
      "source": [
        "## 컬럼명 확인 \n",
        "print(team_df.columns)\n",
        "print(\"-----\")\n",
        "print(team_df.loc[:, 'toto'])   # 전체행, toto팀 \n",
        "print(\"-----\")\n",
        "print(team_df.loc[:, ['toto', 'gildong'] ])   # 전체행, toto, gildong팀\n",
        "print(\"-----\")\n",
        "print(team_df.loc[:, 'toto': ])   # 전체행, toto 부터 끝까지"
      ],
      "execution_count": 32,
      "outputs": [
        {
          "output_type": "stream",
          "name": "stdout",
          "text": [
            "Index(['catanddog', 'toto', 'apple', 'gildong'], dtype='object')\n",
            "-----\n",
            "19-05-01    1500\n",
            "19-05-02    3000\n",
            "19-05-03    5000\n",
            "19-05-04    7000\n",
            "19-05-05    5500\n",
            "Name: toto, dtype: int64\n",
            "-----\n",
            "          toto  gildong\n",
            "19-05-01  1500     2000\n",
            "19-05-02  3000     2500\n",
            "19-05-03  5000     3000\n",
            "19-05-04  7000     4000\n",
            "19-05-05  5500     3000\n",
            "-----\n",
            "          toto  apple  gildong\n",
            "19-05-01  1500   4000     2000\n",
            "19-05-02  3000   5000     2500\n",
            "19-05-03  5000   6000     3000\n",
            "19-05-04  7000   5500     4000\n",
            "19-05-05  5500   4500     3000\n"
          ]
        }
      ]
    },
    {
      "cell_type": "code",
      "metadata": {
        "colab": {
          "base_uri": "https://localhost:8080/"
        },
        "id": "jsfZvNHr2Owz",
        "outputId": "17f57052-1d87-45ad-d650-53307fb99227"
      },
      "source": [
        "print(team_df.iloc[0])      # 첫번째 행 접근\n",
        "print(\"------\")\n",
        "print(team_df.iloc[ [0,1] ])  # 첫번째 두번째 행 접근\n",
        "print(\"------\")\n",
        "print(team_df.iloc[ 0:3:1] )  # 첫번째부터 세번째 행 접근\n",
        "print(\"------\")\n",
        "range_num = list(range(0,3,1))\n",
        "print(team_df.iloc[ range_num ] )  # 첫번째부터 세번째 행 접근 "
      ],
      "execution_count": 33,
      "outputs": [
        {
          "output_type": "stream",
          "name": "stdout",
          "text": [
            "catanddog    7000\n",
            "toto         1500\n",
            "apple        4000\n",
            "gildong      2000\n",
            "Name: 19-05-01, dtype: int64\n",
            "------\n",
            "          catanddog  toto  apple  gildong\n",
            "19-05-01       7000  1500   4000     2000\n",
            "19-05-02       5000  3000   5000     2500\n",
            "------\n",
            "          catanddog  toto  apple  gildong\n",
            "19-05-01       7000  1500   4000     2000\n",
            "19-05-02       5000  3000   5000     2500\n",
            "19-05-03       3000  5000   6000     3000\n",
            "------\n",
            "          catanddog  toto  apple  gildong\n",
            "19-05-01       7000  1500   4000     2000\n",
            "19-05-02       5000  3000   5000     2500\n",
            "19-05-03       3000  5000   6000     3000\n"
          ]
        }
      ]
    },
    {
      "cell_type": "code",
      "metadata": {
        "colab": {
          "base_uri": "https://localhost:8080/"
        },
        "id": "63CnerUT2QLa",
        "outputId": "c8b039e2-4df8-4170-b656-097186f3fb8d"
      },
      "source": [
        "print(team_df.iloc[:, 0])      # 첫번째 열 접근\n",
        "print(\"------\")\n",
        "print(team_df.iloc[:, [0,1] ])  # 첫번째 두번째 열 접근\n",
        "print(\"------\")\n",
        "print(team_df.iloc[:, 0:3:1] )  # 첫번째부터 세번째 열 접근\n",
        "print(\"------\")\n",
        "range_num = list(range(0,3,1))\n",
        "print(team_df.iloc[:, range_num ] )  # 첫번째부터 세번째 열 접근 "
      ],
      "execution_count": 34,
      "outputs": [
        {
          "output_type": "stream",
          "name": "stdout",
          "text": [
            "19-05-01    7000\n",
            "19-05-02    5000\n",
            "19-05-03    3000\n",
            "19-05-04    5000\n",
            "19-05-05    4000\n",
            "Name: catanddog, dtype: int64\n",
            "------\n",
            "          catanddog  toto\n",
            "19-05-01       7000  1500\n",
            "19-05-02       5000  3000\n",
            "19-05-03       3000  5000\n",
            "19-05-04       5000  7000\n",
            "19-05-05       4000  5500\n",
            "------\n",
            "          catanddog  toto  apple\n",
            "19-05-01       7000  1500   4000\n",
            "19-05-02       5000  3000   5000\n",
            "19-05-03       3000  5000   6000\n",
            "19-05-04       5000  7000   5500\n",
            "19-05-05       4000  5500   4500\n",
            "------\n",
            "          catanddog  toto  apple\n",
            "19-05-01       7000  1500   4000\n",
            "19-05-02       5000  3000   5000\n",
            "19-05-03       3000  5000   6000\n",
            "19-05-04       5000  7000   5500\n",
            "19-05-05       4000  5500   4500\n"
          ]
        }
      ]
    },
    {
      "cell_type": "code",
      "metadata": {
        "colab": {
          "base_uri": "https://localhost:8080/",
          "height": 204
        },
        "id": "-DOOSClC2li7",
        "outputId": "921a90b0-d6fe-484f-aebc-4284274aac32"
      },
      "source": [
        "team_df['rowsum'] = team_df.sum(axis=1)\n",
        "team_df"
      ],
      "execution_count": 35,
      "outputs": [
        {
          "output_type": "execute_result",
          "data": {
            "text/html": [
              "<div>\n",
              "<style scoped>\n",
              "    .dataframe tbody tr th:only-of-type {\n",
              "        vertical-align: middle;\n",
              "    }\n",
              "\n",
              "    .dataframe tbody tr th {\n",
              "        vertical-align: top;\n",
              "    }\n",
              "\n",
              "    .dataframe thead th {\n",
              "        text-align: right;\n",
              "    }\n",
              "</style>\n",
              "<table border=\"1\" class=\"dataframe\">\n",
              "  <thead>\n",
              "    <tr style=\"text-align: right;\">\n",
              "      <th></th>\n",
              "      <th>catanddog</th>\n",
              "      <th>toto</th>\n",
              "      <th>apple</th>\n",
              "      <th>gildong</th>\n",
              "      <th>rowsum</th>\n",
              "    </tr>\n",
              "  </thead>\n",
              "  <tbody>\n",
              "    <tr>\n",
              "      <th>19-05-01</th>\n",
              "      <td>7000</td>\n",
              "      <td>1500</td>\n",
              "      <td>4000</td>\n",
              "      <td>2000</td>\n",
              "      <td>14500</td>\n",
              "    </tr>\n",
              "    <tr>\n",
              "      <th>19-05-02</th>\n",
              "      <td>5000</td>\n",
              "      <td>3000</td>\n",
              "      <td>5000</td>\n",
              "      <td>2500</td>\n",
              "      <td>15500</td>\n",
              "    </tr>\n",
              "    <tr>\n",
              "      <th>19-05-03</th>\n",
              "      <td>3000</td>\n",
              "      <td>5000</td>\n",
              "      <td>6000</td>\n",
              "      <td>3000</td>\n",
              "      <td>17000</td>\n",
              "    </tr>\n",
              "    <tr>\n",
              "      <th>19-05-04</th>\n",
              "      <td>5000</td>\n",
              "      <td>7000</td>\n",
              "      <td>5500</td>\n",
              "      <td>4000</td>\n",
              "      <td>21500</td>\n",
              "    </tr>\n",
              "    <tr>\n",
              "      <th>19-05-05</th>\n",
              "      <td>4000</td>\n",
              "      <td>5500</td>\n",
              "      <td>4500</td>\n",
              "      <td>3000</td>\n",
              "      <td>17000</td>\n",
              "    </tr>\n",
              "  </tbody>\n",
              "</table>\n",
              "</div>"
            ],
            "text/plain": [
              "          catanddog  toto  apple  gildong  rowsum\n",
              "19-05-01       7000  1500   4000     2000   14500\n",
              "19-05-02       5000  3000   5000     2500   15500\n",
              "19-05-03       3000  5000   6000     3000   17000\n",
              "19-05-04       5000  7000   5500     4000   21500\n",
              "19-05-05       4000  5500   4500     3000   17000"
            ]
          },
          "metadata": {},
          "execution_count": 35
        }
      ]
    },
    {
      "cell_type": "code",
      "metadata": {
        "colab": {
          "base_uri": "https://localhost:8080/"
        },
        "id": "6zXD0KxL4OZS",
        "outputId": "5c933738-7f01-40fa-9e4b-a4221486f2a1"
      },
      "source": [
        "team_df.rowsum.sort_values(ascending=False)"
      ],
      "execution_count": 36,
      "outputs": [
        {
          "output_type": "execute_result",
          "data": {
            "text/plain": [
              "19-05-04    21500\n",
              "19-05-05    17000\n",
              "19-05-03    17000\n",
              "19-05-02    15500\n",
              "19-05-01    14500\n",
              "Name: rowsum, dtype: int64"
            ]
          },
          "metadata": {},
          "execution_count": 36
        }
      ]
    },
    {
      "cell_type": "code",
      "metadata": {
        "colab": {
          "base_uri": "https://localhost:8080/",
          "height": 204
        },
        "id": "yepnJQ714PhR",
        "outputId": "d75380bc-fede-4a3b-cbc8-77a646b21c9b"
      },
      "source": [
        "team_df.sort_values(by='rowsum', ascending=False)"
      ],
      "execution_count": 37,
      "outputs": [
        {
          "output_type": "execute_result",
          "data": {
            "text/html": [
              "<div>\n",
              "<style scoped>\n",
              "    .dataframe tbody tr th:only-of-type {\n",
              "        vertical-align: middle;\n",
              "    }\n",
              "\n",
              "    .dataframe tbody tr th {\n",
              "        vertical-align: top;\n",
              "    }\n",
              "\n",
              "    .dataframe thead th {\n",
              "        text-align: right;\n",
              "    }\n",
              "</style>\n",
              "<table border=\"1\" class=\"dataframe\">\n",
              "  <thead>\n",
              "    <tr style=\"text-align: right;\">\n",
              "      <th></th>\n",
              "      <th>catanddog</th>\n",
              "      <th>toto</th>\n",
              "      <th>apple</th>\n",
              "      <th>gildong</th>\n",
              "      <th>rowsum</th>\n",
              "    </tr>\n",
              "  </thead>\n",
              "  <tbody>\n",
              "    <tr>\n",
              "      <th>19-05-04</th>\n",
              "      <td>5000</td>\n",
              "      <td>7000</td>\n",
              "      <td>5500</td>\n",
              "      <td>4000</td>\n",
              "      <td>21500</td>\n",
              "    </tr>\n",
              "    <tr>\n",
              "      <th>19-05-03</th>\n",
              "      <td>3000</td>\n",
              "      <td>5000</td>\n",
              "      <td>6000</td>\n",
              "      <td>3000</td>\n",
              "      <td>17000</td>\n",
              "    </tr>\n",
              "    <tr>\n",
              "      <th>19-05-05</th>\n",
              "      <td>4000</td>\n",
              "      <td>5500</td>\n",
              "      <td>4500</td>\n",
              "      <td>3000</td>\n",
              "      <td>17000</td>\n",
              "    </tr>\n",
              "    <tr>\n",
              "      <th>19-05-02</th>\n",
              "      <td>5000</td>\n",
              "      <td>3000</td>\n",
              "      <td>5000</td>\n",
              "      <td>2500</td>\n",
              "      <td>15500</td>\n",
              "    </tr>\n",
              "    <tr>\n",
              "      <th>19-05-01</th>\n",
              "      <td>7000</td>\n",
              "      <td>1500</td>\n",
              "      <td>4000</td>\n",
              "      <td>2000</td>\n",
              "      <td>14500</td>\n",
              "    </tr>\n",
              "  </tbody>\n",
              "</table>\n",
              "</div>"
            ],
            "text/plain": [
              "          catanddog  toto  apple  gildong  rowsum\n",
              "19-05-04       5000  7000   5500     4000   21500\n",
              "19-05-03       3000  5000   6000     3000   17000\n",
              "19-05-05       4000  5500   4500     3000   17000\n",
              "19-05-02       5000  3000   5000     2500   15500\n",
              "19-05-01       7000  1500   4000     2000   14500"
            ]
          },
          "metadata": {},
          "execution_count": 37
        }
      ]
    },
    {
      "cell_type": "code",
      "metadata": {
        "colab": {
          "base_uri": "https://localhost:8080/",
          "height": 142
        },
        "id": "jUkkkDUF4Qh5",
        "outputId": "434253b6-3396-4654-c96a-368d5d28fd80"
      },
      "source": [
        "team_df[ team_df.rowsum >= 17000]"
      ],
      "execution_count": 38,
      "outputs": [
        {
          "output_type": "execute_result",
          "data": {
            "text/html": [
              "<div>\n",
              "<style scoped>\n",
              "    .dataframe tbody tr th:only-of-type {\n",
              "        vertical-align: middle;\n",
              "    }\n",
              "\n",
              "    .dataframe tbody tr th {\n",
              "        vertical-align: top;\n",
              "    }\n",
              "\n",
              "    .dataframe thead th {\n",
              "        text-align: right;\n",
              "    }\n",
              "</style>\n",
              "<table border=\"1\" class=\"dataframe\">\n",
              "  <thead>\n",
              "    <tr style=\"text-align: right;\">\n",
              "      <th></th>\n",
              "      <th>catanddog</th>\n",
              "      <th>toto</th>\n",
              "      <th>apple</th>\n",
              "      <th>gildong</th>\n",
              "      <th>rowsum</th>\n",
              "    </tr>\n",
              "  </thead>\n",
              "  <tbody>\n",
              "    <tr>\n",
              "      <th>19-05-03</th>\n",
              "      <td>3000</td>\n",
              "      <td>5000</td>\n",
              "      <td>6000</td>\n",
              "      <td>3000</td>\n",
              "      <td>17000</td>\n",
              "    </tr>\n",
              "    <tr>\n",
              "      <th>19-05-04</th>\n",
              "      <td>5000</td>\n",
              "      <td>7000</td>\n",
              "      <td>5500</td>\n",
              "      <td>4000</td>\n",
              "      <td>21500</td>\n",
              "    </tr>\n",
              "    <tr>\n",
              "      <th>19-05-05</th>\n",
              "      <td>4000</td>\n",
              "      <td>5500</td>\n",
              "      <td>4500</td>\n",
              "      <td>3000</td>\n",
              "      <td>17000</td>\n",
              "    </tr>\n",
              "  </tbody>\n",
              "</table>\n",
              "</div>"
            ],
            "text/plain": [
              "          catanddog  toto  apple  gildong  rowsum\n",
              "19-05-03       3000  5000   6000     3000   17000\n",
              "19-05-04       5000  7000   5500     4000   21500\n",
              "19-05-05       4000  5500   4500     3000   17000"
            ]
          },
          "metadata": {},
          "execution_count": 38
        }
      ]
    },
    {
      "cell_type": "code",
      "metadata": {
        "colab": {
          "base_uri": "https://localhost:8080/",
          "height": 204
        },
        "id": "1MFRZsi-4ayz",
        "outputId": "81c3bad5-3f47-4caa-ab2e-7211f75600f4"
      },
      "source": [
        "team_df.drop(['toto', 'gildong' ], axis=1)"
      ],
      "execution_count": 39,
      "outputs": [
        {
          "output_type": "execute_result",
          "data": {
            "text/html": [
              "<div>\n",
              "<style scoped>\n",
              "    .dataframe tbody tr th:only-of-type {\n",
              "        vertical-align: middle;\n",
              "    }\n",
              "\n",
              "    .dataframe tbody tr th {\n",
              "        vertical-align: top;\n",
              "    }\n",
              "\n",
              "    .dataframe thead th {\n",
              "        text-align: right;\n",
              "    }\n",
              "</style>\n",
              "<table border=\"1\" class=\"dataframe\">\n",
              "  <thead>\n",
              "    <tr style=\"text-align: right;\">\n",
              "      <th></th>\n",
              "      <th>catanddog</th>\n",
              "      <th>apple</th>\n",
              "      <th>rowsum</th>\n",
              "    </tr>\n",
              "  </thead>\n",
              "  <tbody>\n",
              "    <tr>\n",
              "      <th>19-05-01</th>\n",
              "      <td>7000</td>\n",
              "      <td>4000</td>\n",
              "      <td>14500</td>\n",
              "    </tr>\n",
              "    <tr>\n",
              "      <th>19-05-02</th>\n",
              "      <td>5000</td>\n",
              "      <td>5000</td>\n",
              "      <td>15500</td>\n",
              "    </tr>\n",
              "    <tr>\n",
              "      <th>19-05-03</th>\n",
              "      <td>3000</td>\n",
              "      <td>6000</td>\n",
              "      <td>17000</td>\n",
              "    </tr>\n",
              "    <tr>\n",
              "      <th>19-05-04</th>\n",
              "      <td>5000</td>\n",
              "      <td>5500</td>\n",
              "      <td>21500</td>\n",
              "    </tr>\n",
              "    <tr>\n",
              "      <th>19-05-05</th>\n",
              "      <td>4000</td>\n",
              "      <td>4500</td>\n",
              "      <td>17000</td>\n",
              "    </tr>\n",
              "  </tbody>\n",
              "</table>\n",
              "</div>"
            ],
            "text/plain": [
              "          catanddog  apple  rowsum\n",
              "19-05-01       7000   4000   14500\n",
              "19-05-02       5000   5000   15500\n",
              "19-05-03       3000   6000   17000\n",
              "19-05-04       5000   5500   21500\n",
              "19-05-05       4000   4500   17000"
            ]
          },
          "metadata": {},
          "execution_count": 39
        }
      ]
    },
    {
      "cell_type": "code",
      "metadata": {
        "colab": {
          "base_uri": "https://localhost:8080/",
          "height": 142
        },
        "id": "vT5-fQXt5cFi",
        "outputId": "524199d6-4514-4a0e-c884-b81682a825e1"
      },
      "source": [
        "team_df.drop(['19-05-01', '19-05-03' ])"
      ],
      "execution_count": 40,
      "outputs": [
        {
          "output_type": "execute_result",
          "data": {
            "text/html": [
              "<div>\n",
              "<style scoped>\n",
              "    .dataframe tbody tr th:only-of-type {\n",
              "        vertical-align: middle;\n",
              "    }\n",
              "\n",
              "    .dataframe tbody tr th {\n",
              "        vertical-align: top;\n",
              "    }\n",
              "\n",
              "    .dataframe thead th {\n",
              "        text-align: right;\n",
              "    }\n",
              "</style>\n",
              "<table border=\"1\" class=\"dataframe\">\n",
              "  <thead>\n",
              "    <tr style=\"text-align: right;\">\n",
              "      <th></th>\n",
              "      <th>catanddog</th>\n",
              "      <th>toto</th>\n",
              "      <th>apple</th>\n",
              "      <th>gildong</th>\n",
              "      <th>rowsum</th>\n",
              "    </tr>\n",
              "  </thead>\n",
              "  <tbody>\n",
              "    <tr>\n",
              "      <th>19-05-02</th>\n",
              "      <td>5000</td>\n",
              "      <td>3000</td>\n",
              "      <td>5000</td>\n",
              "      <td>2500</td>\n",
              "      <td>15500</td>\n",
              "    </tr>\n",
              "    <tr>\n",
              "      <th>19-05-04</th>\n",
              "      <td>5000</td>\n",
              "      <td>7000</td>\n",
              "      <td>5500</td>\n",
              "      <td>4000</td>\n",
              "      <td>21500</td>\n",
              "    </tr>\n",
              "    <tr>\n",
              "      <th>19-05-05</th>\n",
              "      <td>4000</td>\n",
              "      <td>5500</td>\n",
              "      <td>4500</td>\n",
              "      <td>3000</td>\n",
              "      <td>17000</td>\n",
              "    </tr>\n",
              "  </tbody>\n",
              "</table>\n",
              "</div>"
            ],
            "text/plain": [
              "          catanddog  toto  apple  gildong  rowsum\n",
              "19-05-02       5000  3000   5000     2500   15500\n",
              "19-05-04       5000  7000   5500     4000   21500\n",
              "19-05-05       4000  5500   4500     3000   17000"
            ]
          },
          "metadata": {},
          "execution_count": 40
        }
      ]
    },
    {
      "cell_type": "code",
      "metadata": {
        "id": "JiihQNmZ_vin"
      },
      "source": [
        "import seaborn as sns"
      ],
      "execution_count": 41,
      "outputs": []
    },
    {
      "cell_type": "code",
      "metadata": {
        "colab": {
          "base_uri": "https://localhost:8080/"
        },
        "id": "MQ7igwa263-h",
        "outputId": "0a505d28-cb79-44a3-8dbc-d4c4adc523ad"
      },
      "source": [
        "train = sns.load_dataset(\"titanic\")\n",
        "train.shape"
      ],
      "execution_count": 42,
      "outputs": [
        {
          "output_type": "execute_result",
          "data": {
            "text/plain": [
              "(891, 15)"
            ]
          },
          "metadata": {},
          "execution_count": 42
        }
      ]
    },
    {
      "cell_type": "code",
      "metadata": {
        "colab": {
          "base_uri": "https://localhost:8080/",
          "height": 173
        },
        "id": "8Ur24tum_s6g",
        "outputId": "43c3f4a4-bfb3-4547-97b1-e7ab2373378b"
      },
      "source": [
        "train.describe(include=['O'])"
      ],
      "execution_count": 43,
      "outputs": [
        {
          "output_type": "execute_result",
          "data": {
            "text/html": [
              "<div>\n",
              "<style scoped>\n",
              "    .dataframe tbody tr th:only-of-type {\n",
              "        vertical-align: middle;\n",
              "    }\n",
              "\n",
              "    .dataframe tbody tr th {\n",
              "        vertical-align: top;\n",
              "    }\n",
              "\n",
              "    .dataframe thead th {\n",
              "        text-align: right;\n",
              "    }\n",
              "</style>\n",
              "<table border=\"1\" class=\"dataframe\">\n",
              "  <thead>\n",
              "    <tr style=\"text-align: right;\">\n",
              "      <th></th>\n",
              "      <th>sex</th>\n",
              "      <th>embarked</th>\n",
              "      <th>who</th>\n",
              "      <th>embark_town</th>\n",
              "      <th>alive</th>\n",
              "    </tr>\n",
              "  </thead>\n",
              "  <tbody>\n",
              "    <tr>\n",
              "      <th>count</th>\n",
              "      <td>891</td>\n",
              "      <td>889</td>\n",
              "      <td>891</td>\n",
              "      <td>889</td>\n",
              "      <td>891</td>\n",
              "    </tr>\n",
              "    <tr>\n",
              "      <th>unique</th>\n",
              "      <td>2</td>\n",
              "      <td>3</td>\n",
              "      <td>3</td>\n",
              "      <td>3</td>\n",
              "      <td>2</td>\n",
              "    </tr>\n",
              "    <tr>\n",
              "      <th>top</th>\n",
              "      <td>male</td>\n",
              "      <td>S</td>\n",
              "      <td>man</td>\n",
              "      <td>Southampton</td>\n",
              "      <td>no</td>\n",
              "    </tr>\n",
              "    <tr>\n",
              "      <th>freq</th>\n",
              "      <td>577</td>\n",
              "      <td>644</td>\n",
              "      <td>537</td>\n",
              "      <td>644</td>\n",
              "      <td>549</td>\n",
              "    </tr>\n",
              "  </tbody>\n",
              "</table>\n",
              "</div>"
            ],
            "text/plain": [
              "         sex embarked  who  embark_town alive\n",
              "count    891      889  891          889   891\n",
              "unique     2        3    3            3     2\n",
              "top     male        S  man  Southampton    no\n",
              "freq     577      644  537          644   549"
            ]
          },
          "metadata": {},
          "execution_count": 43
        }
      ]
    },
    {
      "cell_type": "code",
      "metadata": {
        "colab": {
          "base_uri": "https://localhost:8080/",
          "height": 173
        },
        "id": "8AG3cO7-_uCo",
        "outputId": "ca6651b4-e0fd-4589-a1b7-2fba76d3c977"
      },
      "source": [
        "grp = train.groupby(['pclass'])\n",
        "grp.count()"
      ],
      "execution_count": 44,
      "outputs": [
        {
          "output_type": "execute_result",
          "data": {
            "text/html": [
              "<div>\n",
              "<style scoped>\n",
              "    .dataframe tbody tr th:only-of-type {\n",
              "        vertical-align: middle;\n",
              "    }\n",
              "\n",
              "    .dataframe tbody tr th {\n",
              "        vertical-align: top;\n",
              "    }\n",
              "\n",
              "    .dataframe thead th {\n",
              "        text-align: right;\n",
              "    }\n",
              "</style>\n",
              "<table border=\"1\" class=\"dataframe\">\n",
              "  <thead>\n",
              "    <tr style=\"text-align: right;\">\n",
              "      <th></th>\n",
              "      <th>survived</th>\n",
              "      <th>sex</th>\n",
              "      <th>age</th>\n",
              "      <th>sibsp</th>\n",
              "      <th>parch</th>\n",
              "      <th>fare</th>\n",
              "      <th>embarked</th>\n",
              "      <th>class</th>\n",
              "      <th>who</th>\n",
              "      <th>adult_male</th>\n",
              "      <th>deck</th>\n",
              "      <th>embark_town</th>\n",
              "      <th>alive</th>\n",
              "      <th>alone</th>\n",
              "    </tr>\n",
              "    <tr>\n",
              "      <th>pclass</th>\n",
              "      <th></th>\n",
              "      <th></th>\n",
              "      <th></th>\n",
              "      <th></th>\n",
              "      <th></th>\n",
              "      <th></th>\n",
              "      <th></th>\n",
              "      <th></th>\n",
              "      <th></th>\n",
              "      <th></th>\n",
              "      <th></th>\n",
              "      <th></th>\n",
              "      <th></th>\n",
              "      <th></th>\n",
              "    </tr>\n",
              "  </thead>\n",
              "  <tbody>\n",
              "    <tr>\n",
              "      <th>1</th>\n",
              "      <td>216</td>\n",
              "      <td>216</td>\n",
              "      <td>186</td>\n",
              "      <td>216</td>\n",
              "      <td>216</td>\n",
              "      <td>216</td>\n",
              "      <td>214</td>\n",
              "      <td>216</td>\n",
              "      <td>216</td>\n",
              "      <td>216</td>\n",
              "      <td>175</td>\n",
              "      <td>214</td>\n",
              "      <td>216</td>\n",
              "      <td>216</td>\n",
              "    </tr>\n",
              "    <tr>\n",
              "      <th>2</th>\n",
              "      <td>184</td>\n",
              "      <td>184</td>\n",
              "      <td>173</td>\n",
              "      <td>184</td>\n",
              "      <td>184</td>\n",
              "      <td>184</td>\n",
              "      <td>184</td>\n",
              "      <td>184</td>\n",
              "      <td>184</td>\n",
              "      <td>184</td>\n",
              "      <td>16</td>\n",
              "      <td>184</td>\n",
              "      <td>184</td>\n",
              "      <td>184</td>\n",
              "    </tr>\n",
              "    <tr>\n",
              "      <th>3</th>\n",
              "      <td>491</td>\n",
              "      <td>491</td>\n",
              "      <td>355</td>\n",
              "      <td>491</td>\n",
              "      <td>491</td>\n",
              "      <td>491</td>\n",
              "      <td>491</td>\n",
              "      <td>491</td>\n",
              "      <td>491</td>\n",
              "      <td>491</td>\n",
              "      <td>12</td>\n",
              "      <td>491</td>\n",
              "      <td>491</td>\n",
              "      <td>491</td>\n",
              "    </tr>\n",
              "  </tbody>\n",
              "</table>\n",
              "</div>"
            ],
            "text/plain": [
              "        survived  sex  age  sibsp  ...  deck  embark_town  alive  alone\n",
              "pclass                             ...                                 \n",
              "1            216  216  186    216  ...   175          214    216    216\n",
              "2            184  184  173    184  ...    16          184    184    184\n",
              "3            491  491  355    491  ...    12          491    491    491\n",
              "\n",
              "[3 rows x 14 columns]"
            ]
          },
          "metadata": {},
          "execution_count": 44
        }
      ]
    },
    {
      "cell_type": "code",
      "metadata": {
        "colab": {
          "base_uri": "https://localhost:8080/",
          "height": 266
        },
        "id": "8ZBXNTZe_0S6",
        "outputId": "c0d53788-d8bb-4fc7-9110-a747665852c3"
      },
      "source": [
        "grp = train.groupby(['pclass', 'sex'])\n",
        "grp.count()"
      ],
      "execution_count": 45,
      "outputs": [
        {
          "output_type": "execute_result",
          "data": {
            "text/html": [
              "<div>\n",
              "<style scoped>\n",
              "    .dataframe tbody tr th:only-of-type {\n",
              "        vertical-align: middle;\n",
              "    }\n",
              "\n",
              "    .dataframe tbody tr th {\n",
              "        vertical-align: top;\n",
              "    }\n",
              "\n",
              "    .dataframe thead th {\n",
              "        text-align: right;\n",
              "    }\n",
              "</style>\n",
              "<table border=\"1\" class=\"dataframe\">\n",
              "  <thead>\n",
              "    <tr style=\"text-align: right;\">\n",
              "      <th></th>\n",
              "      <th></th>\n",
              "      <th>survived</th>\n",
              "      <th>age</th>\n",
              "      <th>sibsp</th>\n",
              "      <th>parch</th>\n",
              "      <th>fare</th>\n",
              "      <th>embarked</th>\n",
              "      <th>class</th>\n",
              "      <th>who</th>\n",
              "      <th>adult_male</th>\n",
              "      <th>deck</th>\n",
              "      <th>embark_town</th>\n",
              "      <th>alive</th>\n",
              "      <th>alone</th>\n",
              "    </tr>\n",
              "    <tr>\n",
              "      <th>pclass</th>\n",
              "      <th>sex</th>\n",
              "      <th></th>\n",
              "      <th></th>\n",
              "      <th></th>\n",
              "      <th></th>\n",
              "      <th></th>\n",
              "      <th></th>\n",
              "      <th></th>\n",
              "      <th></th>\n",
              "      <th></th>\n",
              "      <th></th>\n",
              "      <th></th>\n",
              "      <th></th>\n",
              "      <th></th>\n",
              "    </tr>\n",
              "  </thead>\n",
              "  <tbody>\n",
              "    <tr>\n",
              "      <th rowspan=\"2\" valign=\"top\">1</th>\n",
              "      <th>female</th>\n",
              "      <td>94</td>\n",
              "      <td>85</td>\n",
              "      <td>94</td>\n",
              "      <td>94</td>\n",
              "      <td>94</td>\n",
              "      <td>92</td>\n",
              "      <td>94</td>\n",
              "      <td>94</td>\n",
              "      <td>94</td>\n",
              "      <td>81</td>\n",
              "      <td>92</td>\n",
              "      <td>94</td>\n",
              "      <td>94</td>\n",
              "    </tr>\n",
              "    <tr>\n",
              "      <th>male</th>\n",
              "      <td>122</td>\n",
              "      <td>101</td>\n",
              "      <td>122</td>\n",
              "      <td>122</td>\n",
              "      <td>122</td>\n",
              "      <td>122</td>\n",
              "      <td>122</td>\n",
              "      <td>122</td>\n",
              "      <td>122</td>\n",
              "      <td>94</td>\n",
              "      <td>122</td>\n",
              "      <td>122</td>\n",
              "      <td>122</td>\n",
              "    </tr>\n",
              "    <tr>\n",
              "      <th rowspan=\"2\" valign=\"top\">2</th>\n",
              "      <th>female</th>\n",
              "      <td>76</td>\n",
              "      <td>74</td>\n",
              "      <td>76</td>\n",
              "      <td>76</td>\n",
              "      <td>76</td>\n",
              "      <td>76</td>\n",
              "      <td>76</td>\n",
              "      <td>76</td>\n",
              "      <td>76</td>\n",
              "      <td>10</td>\n",
              "      <td>76</td>\n",
              "      <td>76</td>\n",
              "      <td>76</td>\n",
              "    </tr>\n",
              "    <tr>\n",
              "      <th>male</th>\n",
              "      <td>108</td>\n",
              "      <td>99</td>\n",
              "      <td>108</td>\n",
              "      <td>108</td>\n",
              "      <td>108</td>\n",
              "      <td>108</td>\n",
              "      <td>108</td>\n",
              "      <td>108</td>\n",
              "      <td>108</td>\n",
              "      <td>6</td>\n",
              "      <td>108</td>\n",
              "      <td>108</td>\n",
              "      <td>108</td>\n",
              "    </tr>\n",
              "    <tr>\n",
              "      <th rowspan=\"2\" valign=\"top\">3</th>\n",
              "      <th>female</th>\n",
              "      <td>144</td>\n",
              "      <td>102</td>\n",
              "      <td>144</td>\n",
              "      <td>144</td>\n",
              "      <td>144</td>\n",
              "      <td>144</td>\n",
              "      <td>144</td>\n",
              "      <td>144</td>\n",
              "      <td>144</td>\n",
              "      <td>6</td>\n",
              "      <td>144</td>\n",
              "      <td>144</td>\n",
              "      <td>144</td>\n",
              "    </tr>\n",
              "    <tr>\n",
              "      <th>male</th>\n",
              "      <td>347</td>\n",
              "      <td>253</td>\n",
              "      <td>347</td>\n",
              "      <td>347</td>\n",
              "      <td>347</td>\n",
              "      <td>347</td>\n",
              "      <td>347</td>\n",
              "      <td>347</td>\n",
              "      <td>347</td>\n",
              "      <td>6</td>\n",
              "      <td>347</td>\n",
              "      <td>347</td>\n",
              "      <td>347</td>\n",
              "    </tr>\n",
              "  </tbody>\n",
              "</table>\n",
              "</div>"
            ],
            "text/plain": [
              "               survived  age  sibsp  parch  ...  deck  embark_town  alive  alone\n",
              "pclass sex                                  ...                                 \n",
              "1      female        94   85     94     94  ...    81           92     94     94\n",
              "       male         122  101    122    122  ...    94          122    122    122\n",
              "2      female        76   74     76     76  ...    10           76     76     76\n",
              "       male         108   99    108    108  ...     6          108    108    108\n",
              "3      female       144  102    144    144  ...     6          144    144    144\n",
              "       male         347  253    347    347  ...     6          347    347    347\n",
              "\n",
              "[6 rows x 13 columns]"
            ]
          },
          "metadata": {},
          "execution_count": 45
        }
      ]
    },
    {
      "cell_type": "code",
      "metadata": {
        "colab": {
          "base_uri": "https://localhost:8080/"
        },
        "id": "QofzE4gk_2GY",
        "outputId": "fba9c028-de73-4864-802e-d0205c68db94"
      },
      "source": [
        "grp = train.groupby(['pclass', 'sex'])\n",
        "grp.mean()['survived']"
      ],
      "execution_count": 46,
      "outputs": [
        {
          "output_type": "execute_result",
          "data": {
            "text/plain": [
              "pclass  sex   \n",
              "1       female    0.968085\n",
              "        male      0.368852\n",
              "2       female    0.921053\n",
              "        male      0.157407\n",
              "3       female    0.500000\n",
              "        male      0.135447\n",
              "Name: survived, dtype: float64"
            ]
          },
          "metadata": {},
          "execution_count": 46
        }
      ]
    },
    {
      "cell_type": "code",
      "metadata": {
        "colab": {
          "base_uri": "https://localhost:8080/"
        },
        "id": "I_zW7TSN_9Wg",
        "outputId": "1aa58fa1-c587-477e-be47-6b0987215215"
      },
      "source": [
        "grp = train.groupby(['pclass', 'sex'], as_index=False)\n",
        "grp.mean()['survived']"
      ],
      "execution_count": 47,
      "outputs": [
        {
          "output_type": "execute_result",
          "data": {
            "text/plain": [
              "0    0.968085\n",
              "1    0.368852\n",
              "2    0.921053\n",
              "3    0.157407\n",
              "4    0.500000\n",
              "5    0.135447\n",
              "Name: survived, dtype: float64"
            ]
          },
          "metadata": {},
          "execution_count": 47
        }
      ]
    },
    {
      "cell_type": "code",
      "metadata": {
        "colab": {
          "base_uri": "https://localhost:8080/",
          "height": 419
        },
        "id": "bXPNGh6QAt0f",
        "outputId": "90e8b74c-c650-4f80-d8d6-ffbb970e87a6"
      },
      "source": [
        "train_df = train.drop(['deck', 'embark_town'], axis=1)\n",
        "train_df"
      ],
      "execution_count": 48,
      "outputs": [
        {
          "output_type": "execute_result",
          "data": {
            "text/html": [
              "<div>\n",
              "<style scoped>\n",
              "    .dataframe tbody tr th:only-of-type {\n",
              "        vertical-align: middle;\n",
              "    }\n",
              "\n",
              "    .dataframe tbody tr th {\n",
              "        vertical-align: top;\n",
              "    }\n",
              "\n",
              "    .dataframe thead th {\n",
              "        text-align: right;\n",
              "    }\n",
              "</style>\n",
              "<table border=\"1\" class=\"dataframe\">\n",
              "  <thead>\n",
              "    <tr style=\"text-align: right;\">\n",
              "      <th></th>\n",
              "      <th>survived</th>\n",
              "      <th>pclass</th>\n",
              "      <th>sex</th>\n",
              "      <th>age</th>\n",
              "      <th>sibsp</th>\n",
              "      <th>parch</th>\n",
              "      <th>fare</th>\n",
              "      <th>embarked</th>\n",
              "      <th>class</th>\n",
              "      <th>who</th>\n",
              "      <th>adult_male</th>\n",
              "      <th>alive</th>\n",
              "      <th>alone</th>\n",
              "    </tr>\n",
              "  </thead>\n",
              "  <tbody>\n",
              "    <tr>\n",
              "      <th>0</th>\n",
              "      <td>0</td>\n",
              "      <td>3</td>\n",
              "      <td>male</td>\n",
              "      <td>22.0</td>\n",
              "      <td>1</td>\n",
              "      <td>0</td>\n",
              "      <td>7.2500</td>\n",
              "      <td>S</td>\n",
              "      <td>Third</td>\n",
              "      <td>man</td>\n",
              "      <td>True</td>\n",
              "      <td>no</td>\n",
              "      <td>False</td>\n",
              "    </tr>\n",
              "    <tr>\n",
              "      <th>1</th>\n",
              "      <td>1</td>\n",
              "      <td>1</td>\n",
              "      <td>female</td>\n",
              "      <td>38.0</td>\n",
              "      <td>1</td>\n",
              "      <td>0</td>\n",
              "      <td>71.2833</td>\n",
              "      <td>C</td>\n",
              "      <td>First</td>\n",
              "      <td>woman</td>\n",
              "      <td>False</td>\n",
              "      <td>yes</td>\n",
              "      <td>False</td>\n",
              "    </tr>\n",
              "    <tr>\n",
              "      <th>2</th>\n",
              "      <td>1</td>\n",
              "      <td>3</td>\n",
              "      <td>female</td>\n",
              "      <td>26.0</td>\n",
              "      <td>0</td>\n",
              "      <td>0</td>\n",
              "      <td>7.9250</td>\n",
              "      <td>S</td>\n",
              "      <td>Third</td>\n",
              "      <td>woman</td>\n",
              "      <td>False</td>\n",
              "      <td>yes</td>\n",
              "      <td>True</td>\n",
              "    </tr>\n",
              "    <tr>\n",
              "      <th>3</th>\n",
              "      <td>1</td>\n",
              "      <td>1</td>\n",
              "      <td>female</td>\n",
              "      <td>35.0</td>\n",
              "      <td>1</td>\n",
              "      <td>0</td>\n",
              "      <td>53.1000</td>\n",
              "      <td>S</td>\n",
              "      <td>First</td>\n",
              "      <td>woman</td>\n",
              "      <td>False</td>\n",
              "      <td>yes</td>\n",
              "      <td>False</td>\n",
              "    </tr>\n",
              "    <tr>\n",
              "      <th>4</th>\n",
              "      <td>0</td>\n",
              "      <td>3</td>\n",
              "      <td>male</td>\n",
              "      <td>35.0</td>\n",
              "      <td>0</td>\n",
              "      <td>0</td>\n",
              "      <td>8.0500</td>\n",
              "      <td>S</td>\n",
              "      <td>Third</td>\n",
              "      <td>man</td>\n",
              "      <td>True</td>\n",
              "      <td>no</td>\n",
              "      <td>True</td>\n",
              "    </tr>\n",
              "    <tr>\n",
              "      <th>...</th>\n",
              "      <td>...</td>\n",
              "      <td>...</td>\n",
              "      <td>...</td>\n",
              "      <td>...</td>\n",
              "      <td>...</td>\n",
              "      <td>...</td>\n",
              "      <td>...</td>\n",
              "      <td>...</td>\n",
              "      <td>...</td>\n",
              "      <td>...</td>\n",
              "      <td>...</td>\n",
              "      <td>...</td>\n",
              "      <td>...</td>\n",
              "    </tr>\n",
              "    <tr>\n",
              "      <th>886</th>\n",
              "      <td>0</td>\n",
              "      <td>2</td>\n",
              "      <td>male</td>\n",
              "      <td>27.0</td>\n",
              "      <td>0</td>\n",
              "      <td>0</td>\n",
              "      <td>13.0000</td>\n",
              "      <td>S</td>\n",
              "      <td>Second</td>\n",
              "      <td>man</td>\n",
              "      <td>True</td>\n",
              "      <td>no</td>\n",
              "      <td>True</td>\n",
              "    </tr>\n",
              "    <tr>\n",
              "      <th>887</th>\n",
              "      <td>1</td>\n",
              "      <td>1</td>\n",
              "      <td>female</td>\n",
              "      <td>19.0</td>\n",
              "      <td>0</td>\n",
              "      <td>0</td>\n",
              "      <td>30.0000</td>\n",
              "      <td>S</td>\n",
              "      <td>First</td>\n",
              "      <td>woman</td>\n",
              "      <td>False</td>\n",
              "      <td>yes</td>\n",
              "      <td>True</td>\n",
              "    </tr>\n",
              "    <tr>\n",
              "      <th>888</th>\n",
              "      <td>0</td>\n",
              "      <td>3</td>\n",
              "      <td>female</td>\n",
              "      <td>NaN</td>\n",
              "      <td>1</td>\n",
              "      <td>2</td>\n",
              "      <td>23.4500</td>\n",
              "      <td>S</td>\n",
              "      <td>Third</td>\n",
              "      <td>woman</td>\n",
              "      <td>False</td>\n",
              "      <td>no</td>\n",
              "      <td>False</td>\n",
              "    </tr>\n",
              "    <tr>\n",
              "      <th>889</th>\n",
              "      <td>1</td>\n",
              "      <td>1</td>\n",
              "      <td>male</td>\n",
              "      <td>26.0</td>\n",
              "      <td>0</td>\n",
              "      <td>0</td>\n",
              "      <td>30.0000</td>\n",
              "      <td>C</td>\n",
              "      <td>First</td>\n",
              "      <td>man</td>\n",
              "      <td>True</td>\n",
              "      <td>yes</td>\n",
              "      <td>True</td>\n",
              "    </tr>\n",
              "    <tr>\n",
              "      <th>890</th>\n",
              "      <td>0</td>\n",
              "      <td>3</td>\n",
              "      <td>male</td>\n",
              "      <td>32.0</td>\n",
              "      <td>0</td>\n",
              "      <td>0</td>\n",
              "      <td>7.7500</td>\n",
              "      <td>Q</td>\n",
              "      <td>Third</td>\n",
              "      <td>man</td>\n",
              "      <td>True</td>\n",
              "      <td>no</td>\n",
              "      <td>True</td>\n",
              "    </tr>\n",
              "  </tbody>\n",
              "</table>\n",
              "<p>891 rows × 13 columns</p>\n",
              "</div>"
            ],
            "text/plain": [
              "     survived  pclass     sex   age  ...    who  adult_male  alive  alone\n",
              "0           0       3    male  22.0  ...    man        True     no  False\n",
              "1           1       1  female  38.0  ...  woman       False    yes  False\n",
              "2           1       3  female  26.0  ...  woman       False    yes   True\n",
              "3           1       1  female  35.0  ...  woman       False    yes  False\n",
              "4           0       3    male  35.0  ...    man        True     no   True\n",
              "..        ...     ...     ...   ...  ...    ...         ...    ...    ...\n",
              "886         0       2    male  27.0  ...    man        True     no   True\n",
              "887         1       1  female  19.0  ...  woman       False    yes   True\n",
              "888         0       3  female   NaN  ...  woman       False     no  False\n",
              "889         1       1    male  26.0  ...    man        True    yes   True\n",
              "890         0       3    male  32.0  ...    man        True     no   True\n",
              "\n",
              "[891 rows x 13 columns]"
            ]
          },
          "metadata": {},
          "execution_count": 48
        }
      ]
    },
    {
      "cell_type": "code",
      "metadata": {
        "colab": {
          "base_uri": "https://localhost:8080/",
          "height": 419
        },
        "id": "LGAeay21A0p6",
        "outputId": "898dc84c-7144-477d-da0c-6cb1e30c101e"
      },
      "source": [
        "train_df['embarked'] = train_df['embarked'].fillna('S')\n",
        "train_df['embarked'] = train_df['embarked'].map( {'S': 0, 'C': 1, 'Q': 2} ).astype(int)\n",
        "train_df"
      ],
      "execution_count": 49,
      "outputs": [
        {
          "output_type": "execute_result",
          "data": {
            "text/html": [
              "<div>\n",
              "<style scoped>\n",
              "    .dataframe tbody tr th:only-of-type {\n",
              "        vertical-align: middle;\n",
              "    }\n",
              "\n",
              "    .dataframe tbody tr th {\n",
              "        vertical-align: top;\n",
              "    }\n",
              "\n",
              "    .dataframe thead th {\n",
              "        text-align: right;\n",
              "    }\n",
              "</style>\n",
              "<table border=\"1\" class=\"dataframe\">\n",
              "  <thead>\n",
              "    <tr style=\"text-align: right;\">\n",
              "      <th></th>\n",
              "      <th>survived</th>\n",
              "      <th>pclass</th>\n",
              "      <th>sex</th>\n",
              "      <th>age</th>\n",
              "      <th>sibsp</th>\n",
              "      <th>parch</th>\n",
              "      <th>fare</th>\n",
              "      <th>embarked</th>\n",
              "      <th>class</th>\n",
              "      <th>who</th>\n",
              "      <th>adult_male</th>\n",
              "      <th>alive</th>\n",
              "      <th>alone</th>\n",
              "    </tr>\n",
              "  </thead>\n",
              "  <tbody>\n",
              "    <tr>\n",
              "      <th>0</th>\n",
              "      <td>0</td>\n",
              "      <td>3</td>\n",
              "      <td>male</td>\n",
              "      <td>22.0</td>\n",
              "      <td>1</td>\n",
              "      <td>0</td>\n",
              "      <td>7.2500</td>\n",
              "      <td>0</td>\n",
              "      <td>Third</td>\n",
              "      <td>man</td>\n",
              "      <td>True</td>\n",
              "      <td>no</td>\n",
              "      <td>False</td>\n",
              "    </tr>\n",
              "    <tr>\n",
              "      <th>1</th>\n",
              "      <td>1</td>\n",
              "      <td>1</td>\n",
              "      <td>female</td>\n",
              "      <td>38.0</td>\n",
              "      <td>1</td>\n",
              "      <td>0</td>\n",
              "      <td>71.2833</td>\n",
              "      <td>1</td>\n",
              "      <td>First</td>\n",
              "      <td>woman</td>\n",
              "      <td>False</td>\n",
              "      <td>yes</td>\n",
              "      <td>False</td>\n",
              "    </tr>\n",
              "    <tr>\n",
              "      <th>2</th>\n",
              "      <td>1</td>\n",
              "      <td>3</td>\n",
              "      <td>female</td>\n",
              "      <td>26.0</td>\n",
              "      <td>0</td>\n",
              "      <td>0</td>\n",
              "      <td>7.9250</td>\n",
              "      <td>0</td>\n",
              "      <td>Third</td>\n",
              "      <td>woman</td>\n",
              "      <td>False</td>\n",
              "      <td>yes</td>\n",
              "      <td>True</td>\n",
              "    </tr>\n",
              "    <tr>\n",
              "      <th>3</th>\n",
              "      <td>1</td>\n",
              "      <td>1</td>\n",
              "      <td>female</td>\n",
              "      <td>35.0</td>\n",
              "      <td>1</td>\n",
              "      <td>0</td>\n",
              "      <td>53.1000</td>\n",
              "      <td>0</td>\n",
              "      <td>First</td>\n",
              "      <td>woman</td>\n",
              "      <td>False</td>\n",
              "      <td>yes</td>\n",
              "      <td>False</td>\n",
              "    </tr>\n",
              "    <tr>\n",
              "      <th>4</th>\n",
              "      <td>0</td>\n",
              "      <td>3</td>\n",
              "      <td>male</td>\n",
              "      <td>35.0</td>\n",
              "      <td>0</td>\n",
              "      <td>0</td>\n",
              "      <td>8.0500</td>\n",
              "      <td>0</td>\n",
              "      <td>Third</td>\n",
              "      <td>man</td>\n",
              "      <td>True</td>\n",
              "      <td>no</td>\n",
              "      <td>True</td>\n",
              "    </tr>\n",
              "    <tr>\n",
              "      <th>...</th>\n",
              "      <td>...</td>\n",
              "      <td>...</td>\n",
              "      <td>...</td>\n",
              "      <td>...</td>\n",
              "      <td>...</td>\n",
              "      <td>...</td>\n",
              "      <td>...</td>\n",
              "      <td>...</td>\n",
              "      <td>...</td>\n",
              "      <td>...</td>\n",
              "      <td>...</td>\n",
              "      <td>...</td>\n",
              "      <td>...</td>\n",
              "    </tr>\n",
              "    <tr>\n",
              "      <th>886</th>\n",
              "      <td>0</td>\n",
              "      <td>2</td>\n",
              "      <td>male</td>\n",
              "      <td>27.0</td>\n",
              "      <td>0</td>\n",
              "      <td>0</td>\n",
              "      <td>13.0000</td>\n",
              "      <td>0</td>\n",
              "      <td>Second</td>\n",
              "      <td>man</td>\n",
              "      <td>True</td>\n",
              "      <td>no</td>\n",
              "      <td>True</td>\n",
              "    </tr>\n",
              "    <tr>\n",
              "      <th>887</th>\n",
              "      <td>1</td>\n",
              "      <td>1</td>\n",
              "      <td>female</td>\n",
              "      <td>19.0</td>\n",
              "      <td>0</td>\n",
              "      <td>0</td>\n",
              "      <td>30.0000</td>\n",
              "      <td>0</td>\n",
              "      <td>First</td>\n",
              "      <td>woman</td>\n",
              "      <td>False</td>\n",
              "      <td>yes</td>\n",
              "      <td>True</td>\n",
              "    </tr>\n",
              "    <tr>\n",
              "      <th>888</th>\n",
              "      <td>0</td>\n",
              "      <td>3</td>\n",
              "      <td>female</td>\n",
              "      <td>NaN</td>\n",
              "      <td>1</td>\n",
              "      <td>2</td>\n",
              "      <td>23.4500</td>\n",
              "      <td>0</td>\n",
              "      <td>Third</td>\n",
              "      <td>woman</td>\n",
              "      <td>False</td>\n",
              "      <td>no</td>\n",
              "      <td>False</td>\n",
              "    </tr>\n",
              "    <tr>\n",
              "      <th>889</th>\n",
              "      <td>1</td>\n",
              "      <td>1</td>\n",
              "      <td>male</td>\n",
              "      <td>26.0</td>\n",
              "      <td>0</td>\n",
              "      <td>0</td>\n",
              "      <td>30.0000</td>\n",
              "      <td>1</td>\n",
              "      <td>First</td>\n",
              "      <td>man</td>\n",
              "      <td>True</td>\n",
              "      <td>yes</td>\n",
              "      <td>True</td>\n",
              "    </tr>\n",
              "    <tr>\n",
              "      <th>890</th>\n",
              "      <td>0</td>\n",
              "      <td>3</td>\n",
              "      <td>male</td>\n",
              "      <td>32.0</td>\n",
              "      <td>0</td>\n",
              "      <td>0</td>\n",
              "      <td>7.7500</td>\n",
              "      <td>2</td>\n",
              "      <td>Third</td>\n",
              "      <td>man</td>\n",
              "      <td>True</td>\n",
              "      <td>no</td>\n",
              "      <td>True</td>\n",
              "    </tr>\n",
              "  </tbody>\n",
              "</table>\n",
              "<p>891 rows × 13 columns</p>\n",
              "</div>"
            ],
            "text/plain": [
              "     survived  pclass     sex   age  ...    who  adult_male  alive  alone\n",
              "0           0       3    male  22.0  ...    man        True     no  False\n",
              "1           1       1  female  38.0  ...  woman       False    yes  False\n",
              "2           1       3  female  26.0  ...  woman       False    yes   True\n",
              "3           1       1  female  35.0  ...  woman       False    yes  False\n",
              "4           0       3    male  35.0  ...    man        True     no   True\n",
              "..        ...     ...     ...   ...  ...    ...         ...    ...    ...\n",
              "886         0       2    male  27.0  ...    man        True     no   True\n",
              "887         1       1  female  19.0  ...  woman       False    yes   True\n",
              "888         0       3  female   NaN  ...  woman       False     no  False\n",
              "889         1       1    male  26.0  ...    man        True    yes   True\n",
              "890         0       3    male  32.0  ...    man        True     no   True\n",
              "\n",
              "[891 rows x 13 columns]"
            ]
          },
          "metadata": {},
          "execution_count": 49
        }
      ]
    },
    {
      "cell_type": "code",
      "metadata": {
        "id": "JWks0fSeAv0Q"
      },
      "source": [
        ""
      ],
      "execution_count": 49,
      "outputs": []
    }
  ]
}