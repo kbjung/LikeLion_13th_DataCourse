{
 "cells": [
  {
   "cell_type": "markdown",
   "id": "ef8feeb6",
   "metadata": {},
   "source": [
    "# 새로운 특성(feature)를 선택하는 방법\n",
    "* 01 일변량 통계(univariate statistics)\n",
    "* 02 모델 기반 선택(model-based selection)\n",
    "* 03 반복적 선택(iterative selection)"
   ]
  },
  {
   "cell_type": "markdown",
   "id": "329e94bf",
   "metadata": {},
   "source": [
    "## 일변량 통계"
   ]
  },
  {
   "cell_type": "code",
   "execution_count": 1,
   "id": "39c8da3a",
   "metadata": {},
   "outputs": [],
   "source": [
    "import warnings\n",
    "warnings.filterwarnings(action='ignore')\n",
    "# warnings.filterwarnings(action='default')"
   ]
  },
  {
   "cell_type": "code",
   "execution_count": 2,
   "id": "f4070d81",
   "metadata": {},
   "outputs": [],
   "source": [
    "from sklearn.datasets import load_breast_cancer\n",
    "from sklearn.feature_selection import SelectPercentile, f_classif\n",
    "from sklearn.model_selection import train_test_split\n",
    "import numpy as np"
   ]
  },
  {
   "cell_type": "code",
   "execution_count": 3,
   "id": "91449aa1",
   "metadata": {},
   "outputs": [
    {
     "name": "stdout",
     "output_type": "stream",
     "text": [
      "(569, 30)\n"
     ]
    }
   ],
   "source": [
    "cancer = load_breast_cancer()\n",
    "print(cancer.data.shape)"
   ]
  },
  {
   "cell_type": "code",
   "execution_count": 4,
   "id": "11449f0e",
   "metadata": {},
   "outputs": [
    {
     "data": {
      "text/plain": [
       "(569, 40)"
      ]
     },
     "execution_count": 4,
     "metadata": {},
     "output_type": "execute_result"
    }
   ],
   "source": [
    "# 고정된 난수를 발생\n",
    "rng = np.random.RandomState(42)\n",
    "noise = rng.normal(size=(len(cancer.data), 40))\n",
    "noise.shape"
   ]
  },
  {
   "cell_type": "code",
   "execution_count": 5,
   "id": "40076c85",
   "metadata": {},
   "outputs": [
    {
     "data": {
      "text/plain": [
       "(569, 70)"
      ]
     },
     "execution_count": 5,
     "metadata": {},
     "output_type": "execute_result"
    }
   ],
   "source": [
    "# 데이터 노이즈 특성 추가\n",
    "# 30개는 원본 특성, 다음 40개는 노이즈\n",
    "X_w_noise = np.hstack([cancer.data, noise])\n",
    "X_w_noise.shape"
   ]
  },
  {
   "cell_type": "code",
   "execution_count": 6,
   "id": "497e4d4c",
   "metadata": {},
   "outputs": [
    {
     "data": {
      "text/plain": [
       "SelectPercentile(percentile=50)"
      ]
     },
     "execution_count": 6,
     "metadata": {},
     "output_type": "execute_result"
    }
   ],
   "source": [
    "X = X_w_noise  # 입력\n",
    "y = cancer.target # 출력\n",
    "\n",
    "X_train, X_test, y_train, y_test = train_test_split(X, y, \n",
    "                                                    random_state=0,\n",
    "                                                    test_size=0.5)\n",
    "\n",
    "# 50%를 뽑는 것을 학습\n",
    "select = SelectPercentile(score_func=f_classif, percentile=50)\n",
    "select.fit(X_train, y_train)"
   ]
  },
  {
   "cell_type": "code",
   "execution_count": 7,
   "id": "255858cb",
   "metadata": {},
   "outputs": [
    {
     "name": "stdout",
     "output_type": "stream",
     "text": [
      "X_train.shape: (284, 70)\n",
      "X_train_selected.shape (284, 35)\n"
     ]
    }
   ],
   "source": [
    "## 학습 세트에 적용\n",
    "X_train_selected = select.transform(X_train)\n",
    "\n",
    "print( \"X_train.shape:\", X_train.shape)\n",
    "print( \"X_train_selected.shape\", X_train_selected.shape)"
   ]
  },
  {
   "cell_type": "code",
   "execution_count": 8,
   "id": "8a99a2ae",
   "metadata": {},
   "outputs": [],
   "source": [
    "import matplotlib.pyplot as plt"
   ]
  },
  {
   "cell_type": "code",
   "execution_count": 9,
   "id": "704c123d",
   "metadata": {},
   "outputs": [
    {
     "name": "stdout",
     "output_type": "stream",
     "text": [
      "[ True  True  True  True  True  True  True  True  True False  True False\n",
      "  True  True  True  True  True  True False False  True  True  True  True\n",
      "  True  True  True  True  True  True False False False  True False False\n",
      " False False  True False False False False False  True False False False\n",
      " False False False False  True False False False False  True False False\n",
      "  True False False False  True False False False  True  True]\n"
     ]
    },
    {
     "data": {
      "text/plain": [
       "<matplotlib.image.AxesImage at 0x1e3357b2b50>"
      ]
     },
     "execution_count": 9,
     "metadata": {},
     "output_type": "execute_result"
    },
    {
     "data": {
      "image/png": "[encoded data removed]",
      "text/plain": [
       "<Figure size 1152x144 with 1 Axes>"
      ]
     },
     "metadata": {
      "needs_background": "light"
     },
     "output_type": "display_data"
    }
   ],
   "source": [
    "### 어떤 특성이 선택되었는지 확인\n",
    "mask = select.get_support()\n",
    "print(mask)\n",
    "plt.matshow(mask.reshape(1, -1), cmap='gray_r')"
   ]
  },
  {
   "cell_type": "code",
   "execution_count": 10,
   "id": "a029495a",
   "metadata": {},
   "outputs": [
    {
     "name": "stdout",
     "output_type": "stream",
     "text": [
      "전체 특성 사용 : 0.937\n",
      "선택된 일부 특성 사용 : 0.919\n"
     ]
    }
   ],
   "source": [
    "from sklearn.linear_model import LogisticRegression\n",
    "\n",
    "# 테스트 데이터 변환 \n",
    "X_test_selected = select.transform(X_test)\n",
    "\n",
    "lr = LogisticRegression()\n",
    "lr.fit(X_train, y_train)\n",
    "print(\"전체 특성 사용 : {:.3f}\".format(lr.score(X_test, y_test)))\n",
    "\n",
    "lr.fit(X_train_selected, y_train)\n",
    "print(\"선택된 일부 특성 사용 : {:.3f}\".format(lr.score(X_test_selected, y_test)))"
   ]
  },
  {
   "cell_type": "markdown",
   "id": "ea0effdc",
   "metadata": {},
   "source": [
    "## 모델 기반 특성 선택"
   ]
  },
  {
   "cell_type": "code",
   "execution_count": 11,
   "id": "b01eb29c",
   "metadata": {},
   "outputs": [],
   "source": [
    "from sklearn.feature_selection import SelectFromModel\n",
    "from sklearn.ensemble import RandomForestClassifier\n",
    "select = SelectFromModel(RandomForestClassifier(n_estimators=100, \n",
    "                                               random_state=42),\n",
    "                                               threshold=\"median\")"
   ]
  },
  {
   "cell_type": "code",
   "execution_count": 12,
   "id": "964b3753",
   "metadata": {},
   "outputs": [
    {
     "name": "stdout",
     "output_type": "stream",
     "text": [
      "X_train.shape : (284, 70)\n",
      "X_train_l1.shape : (284, 35)\n"
     ]
    }
   ],
   "source": [
    "select.fit(X_train, y_train)\n",
    "X_train_l1 = select.transform(X_train)\n",
    "print(\"X_train.shape :\" , X_train.shape)\n",
    "print(\"X_train_l1.shape :\", X_train_l1.shape)"
   ]
  },
  {
   "cell_type": "code",
   "execution_count": 13,
   "id": "b32cd77d",
   "metadata": {},
   "outputs": [
    {
     "name": "stdout",
     "output_type": "stream",
     "text": [
      "[ True  True  True  True  True  True  True  True  True  True  True False\n",
      "  True  True False  True  True  True False  True  True  True  True  True\n",
      "  True  True  True  True  True  True False False False False False False\n",
      " False False False False False  True False False False  True False False\n",
      " False False False False  True False  True False False False False False\n",
      "  True False False  True  True False False False  True False]\n"
     ]
    },
    {
     "data": {
      "text/plain": [
       "Text(0.5, 0, '특성 번호')"
      ]
     },
     "execution_count": 13,
     "metadata": {},
     "output_type": "execute_result"
    },
    {
     "data": {
      "image/png": "[encoded data removed]",
      "text/plain": [
       "<Figure size 1152x144 with 1 Axes>"
      ]
     },
     "metadata": {
      "needs_background": "light"
     },
     "output_type": "display_data"
    }
   ],
   "source": [
    "### 어떤 특성이 선택되었는지 확인\n",
    "mask = select.get_support()\n",
    "print(mask)\n",
    "plt.matshow(mask.reshape(1, -1), cmap='gray_r')\n",
    "plt.xlabel(\"특성 번호\")"
   ]
  },
  {
   "cell_type": "code",
   "execution_count": 14,
   "id": "0e0b8915",
   "metadata": {},
   "outputs": [
    {
     "name": "stdout",
     "output_type": "stream",
     "text": [
      "전체 특성 사용 : 0.937\n"
     ]
    }
   ],
   "source": [
    "# 테스트 데이터 변환 \n",
    "X_test_l1 = select.transform(X_test)\n",
    "\n",
    "lr = LogisticRegression()\n",
    "lr.fit(X_train, y_train)\n",
    "print(\"전체 특성 사용 : {:.3f}\".format(lr.score(X_test, y_test)))\n",
    "\n",
    "# score = LogisticRegression().fit(X_train, y_train).score(X_test_l1, y_test)"
   ]
  },
  {
   "cell_type": "markdown",
   "id": "a6dfdc22",
   "metadata": {},
   "source": [
    "## 반복적 특성 선택"
   ]
  },
  {
   "cell_type": "code",
   "execution_count": 15,
   "id": "3f0ef266",
   "metadata": {},
   "outputs": [
    {
     "data": {
      "text/plain": [
       "Text(0.5, 0, '특성 번호')"
      ]
     },
     "execution_count": 15,
     "metadata": {},
     "output_type": "execute_result"
    },
    {
     "data": {
      "image/png": "[encoded data removed]",
      "text/plain": [
       "<Figure size 1152x144 with 1 Axes>"
      ]
     },
     "metadata": {
      "needs_background": "light"
     },
     "output_type": "display_data"
    }
   ],
   "source": [
    "from sklearn.feature_selection import RFE\n",
    "select = RFE(RandomForestClassifier(n_estimators=100, random_state=42),\n",
    "            n_features_to_select=40)\n",
    "\n",
    "select.fit(X_train, y_train)\n",
    "\n",
    "# 선택된 특성을 표시합니다.\n",
    "mask = select.get_support()\n",
    "plt.matshow(mask.reshape(1,-1), cmap='gray_r')\n",
    "plt.xlabel(\"특성 번호\")"
   ]
  },
  {
   "cell_type": "code",
   "execution_count": 16,
   "id": "79a4213a",
   "metadata": {},
   "outputs": [
    {
     "name": "stdout",
     "output_type": "stream",
     "text": [
      "테스트 점수 : 0.923\n"
     ]
    }
   ],
   "source": [
    "X_train_rfe = select.transform(X_train)\n",
    "X_test_rfe = select.transform(X_test)\n",
    "\n",
    "score = LogisticRegression().fit(X_train_rfe, y_train).score(X_test_rfe, y_test)\n",
    "print(\"테스트 점수 : {:.3f}\".format(score))"
   ]
  },
  {
   "cell_type": "code",
   "execution_count": 17,
   "id": "2555c794",
   "metadata": {},
   "outputs": [
    {
     "name": "stdout",
     "output_type": "stream",
     "text": [
      "테스트 점수 : 0.933\n"
     ]
    }
   ],
   "source": [
    "### RFE에서 사용된 모델로 예측\n",
    "print(\"테스트 점수 : {:.3f}\".format(select.score(X_test, y_test)))"
   ]
  },
  {
   "cell_type": "code",
   "execution_count": null,
   "id": "1faa1aac",
   "metadata": {},
   "outputs": [],
   "source": []
  }
 ],
 "metadata": {
  "kernelspec": {
   "display_name": "Python 3",
   "language": "python",
   "name": "python3"
  },
  "language_info": {
   "codemirror_mode": {
    "name": "ipython",
    "version": 3
   },
   "file_extension": ".py",
   "mimetype": "text/x-python",
   "name": "python",
   "nbconvert_exporter": "python",
   "pygments_lexer": "ipython3",
   "version": "3.8.8"
  }
 },
 "nbformat": 4,
 "nbformat_minor": 5
}
