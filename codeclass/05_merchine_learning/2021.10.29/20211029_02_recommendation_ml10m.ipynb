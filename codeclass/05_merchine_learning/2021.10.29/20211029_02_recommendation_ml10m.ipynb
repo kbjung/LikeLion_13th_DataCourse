{
 "cells": [
  {
   "cell_type": "markdown",
   "id": "7a8bd6a8",
   "metadata": {},
   "source": [
    "### 영화 리뷰 데이터를 이용한 추천 시스템 구현\n",
    " * 아이템 기반 협업 필터링\n",
    "    * 유사도 지표 : 상관계수 및 코사인 유사도 사용\n",
    " * 데이터 셋\n",
    "    * 다운로드 : https://grouplens.org/datasets/movielens/\n",
    "        * 파일명 : ml-10m.zip\n",
    "    * 데이터 설명 : file:///C:/Users/toto/Documents/Github/MachineLearning_Basic_Class/data/grouplens/ml-10m/ml-10M100K/README.html"
   ]
  },
  {
   "cell_type": "code",
   "execution_count": 1,
   "id": "fcae002d",
   "metadata": {},
   "outputs": [],
   "source": [
    "import pandas as pd\n",
    "import numpy as np\n",
    "import sklearn\n",
    "from sklearn.decomposition import TruncatedSVD"
   ]
  },
  {
   "cell_type": "code",
   "execution_count": 7,
   "id": "9cb572ce",
   "metadata": {},
   "outputs": [
    {
     "name": "stdout",
     "output_type": "stream",
     "text": [
      "현재 위치 :  C:\\Users\\toto\\Documents\\Github\\MachineLearning_Basic_Class\\class_code\n"
     ]
    }
   ],
   "source": [
    "import os \n",
    "print(\"현재 위치 : \", os.getcwd() )"
   ]
  },
  {
   "cell_type": "code",
   "execution_count": 6,
   "id": "ac43ae13",
   "metadata": {},
   "outputs": [
    {
     "name": "stderr",
     "output_type": "stream",
     "text": [
      "<ipython-input-6-bf7d8bf9304e>:2: ParserWarning: Falling back to the 'python' engine because the 'c' engine does not support regex separators (separators > 1 char and different from '\\s+' are interpreted as regex); you can avoid this warning by specifying engine='python'.\n",
      "  ratings = pd.read_csv(\"../../data/grouplens_ml_10m/ratings.dat\",\n"
     ]
    },
    {
     "name": "stdout",
     "output_type": "stream",
     "text": [
      "(10000054, 4)\n"
     ]
    }
   ],
   "source": [
    "col_name = [\"user_id\", \"movie_id\", \"rating\", 'timestamp']\n",
    "ratings = pd.read_csv(\"../../data/grouplens_ml_10m/ratings.dat\", \n",
    "                      sep=\"::\", names=col_name)\n",
    "print(ratings.shape)"
   ]
  },
  {
   "cell_type": "code",
   "execution_count": 9,
   "id": "0e7b6e6c",
   "metadata": {},
   "outputs": [
    {
     "name": "stdout",
     "output_type": "stream",
     "text": [
      "(10681, 3)\n"
     ]
    },
    {
     "name": "stderr",
     "output_type": "stream",
     "text": [
      "<ipython-input-9-be04bd604c03>:2: ParserWarning: Falling back to the 'python' engine because the 'c' engine does not support regex separators (separators > 1 char and different from '\\s+' are interpreted as regex); you can avoid this warning by specifying engine='python'.\n",
      "  movies = pd.read_csv(\"../../data/grouplens_ml_10m/movies.dat\",\n"
     ]
    }
   ],
   "source": [
    "col_name = [\"movie_id\", \"movie_title\", \"category\"]\n",
    "movies = pd.read_csv(\"../../data/grouplens_ml_10m/movies.dat\", \n",
    "                      sep=\"::\", names=col_name, encoding='latin-1')\n",
    "\n",
    "print(movies.shape)"
   ]
  },
  {
   "cell_type": "markdown",
   "id": "d1a773a3",
   "metadata": {},
   "source": [
    "* 총 리뷰 데이터 : 약 1000만건, 영화 정보 : 10681편"
   ]
  },
  {
   "cell_type": "code",
   "execution_count": 10,
   "id": "5108c78e",
   "metadata": {},
   "outputs": [
    {
     "name": "stdout",
     "output_type": "stream",
     "text": [
      "(10000054, 5)\n"
     ]
    },
    {
     "data": {
      "text/html": [
       "<div>\n",
       "<style scoped>\n",
       "    .dataframe tbody tr th:only-of-type {\n",
       "        vertical-align: middle;\n",
       "    }\n",
       "\n",
       "    .dataframe tbody tr th {\n",
       "        vertical-align: top;\n",
       "    }\n",
       "\n",
       "    .dataframe thead th {\n",
       "        text-align: right;\n",
       "    }\n",
       "</style>\n",
       "<table border=\"1\" class=\"dataframe\">\n",
       "  <thead>\n",
       "    <tr style=\"text-align: right;\">\n",
       "      <th></th>\n",
       "      <th>user_id</th>\n",
       "      <th>movie_id</th>\n",
       "      <th>rating</th>\n",
       "      <th>timestamp</th>\n",
       "      <th>movie_title</th>\n",
       "    </tr>\n",
       "  </thead>\n",
       "  <tbody>\n",
       "    <tr>\n",
       "      <th>0</th>\n",
       "      <td>1</td>\n",
       "      <td>122</td>\n",
       "      <td>5.0</td>\n",
       "      <td>838985046</td>\n",
       "      <td>Boomerang (1992)</td>\n",
       "    </tr>\n",
       "    <tr>\n",
       "      <th>1</th>\n",
       "      <td>139</td>\n",
       "      <td>122</td>\n",
       "      <td>3.0</td>\n",
       "      <td>974302621</td>\n",
       "      <td>Boomerang (1992)</td>\n",
       "    </tr>\n",
       "    <tr>\n",
       "      <th>2</th>\n",
       "      <td>149</td>\n",
       "      <td>122</td>\n",
       "      <td>2.5</td>\n",
       "      <td>1112342322</td>\n",
       "      <td>Boomerang (1992)</td>\n",
       "    </tr>\n",
       "    <tr>\n",
       "      <th>3</th>\n",
       "      <td>182</td>\n",
       "      <td>122</td>\n",
       "      <td>3.0</td>\n",
       "      <td>943458784</td>\n",
       "      <td>Boomerang (1992)</td>\n",
       "    </tr>\n",
       "    <tr>\n",
       "      <th>4</th>\n",
       "      <td>215</td>\n",
       "      <td>122</td>\n",
       "      <td>4.5</td>\n",
       "      <td>1102493547</td>\n",
       "      <td>Boomerang (1992)</td>\n",
       "    </tr>\n",
       "  </tbody>\n",
       "</table>\n",
       "</div>"
      ],
      "text/plain": [
       "   user_id  movie_id  rating   timestamp       movie_title\n",
       "0        1       122     5.0   838985046  Boomerang (1992)\n",
       "1      139       122     3.0   974302621  Boomerang (1992)\n",
       "2      149       122     2.5  1112342322  Boomerang (1992)\n",
       "3      182       122     3.0   943458784  Boomerang (1992)\n",
       "4      215       122     4.5  1102493547  Boomerang (1992)"
      ]
     },
     "execution_count": 10,
     "metadata": {},
     "output_type": "execute_result"
    }
   ],
   "source": [
    "movie_names = movies[['movie_id', 'movie_title']]\n",
    "c_movies_data = pd.merge(ratings, movie_names, on='movie_id')\n",
    "print(c_movies_data.shape)\n",
    "c_movies_data.head()"
   ]
  },
  {
   "cell_type": "code",
   "execution_count": 12,
   "id": "cb6a3539",
   "metadata": {},
   "outputs": [
    {
     "name": "stdout",
     "output_type": "stream",
     "text": [
      "<class 'pandas.core.frame.DataFrame'>\n",
      "RangeIndex: 10000054 entries, 0 to 10000053\n",
      "Data columns (total 4 columns):\n",
      " #   Column     Dtype  \n",
      "---  ------     -----  \n",
      " 0   user_id    int64  \n",
      " 1   movie_id   int64  \n",
      " 2   rating     float64\n",
      " 3   timestamp  int64  \n",
      "dtypes: float64(1), int64(3)\n",
      "memory usage: 305.2 MB\n"
     ]
    }
   ],
   "source": [
    "ratings.info()"
   ]
  },
  {
   "cell_type": "code",
   "execution_count": 13,
   "id": "54145562",
   "metadata": {},
   "outputs": [
    {
     "name": "stdout",
     "output_type": "stream",
     "text": [
      "<class 'pandas.core.frame.DataFrame'>\n",
      "RangeIndex: 10681 entries, 0 to 10680\n",
      "Data columns (total 3 columns):\n",
      " #   Column       Non-Null Count  Dtype \n",
      "---  ------       --------------  ----- \n",
      " 0   movie_id     10681 non-null  int64 \n",
      " 1   movie_title  10681 non-null  object\n",
      " 2   category     10681 non-null  object\n",
      "dtypes: int64(1), object(2)\n",
      "memory usage: 250.5+ KB\n"
     ]
    }
   ],
   "source": [
    "movies.info()"
   ]
  },
  {
   "cell_type": "code",
   "execution_count": 11,
   "id": "9a6a0860",
   "metadata": {},
   "outputs": [
    {
     "data": {
      "text/html": [
       "<div>\n",
       "<style scoped>\n",
       "    .dataframe tbody tr th:only-of-type {\n",
       "        vertical-align: middle;\n",
       "    }\n",
       "\n",
       "    .dataframe tbody tr th {\n",
       "        vertical-align: top;\n",
       "    }\n",
       "\n",
       "    .dataframe thead th {\n",
       "        text-align: right;\n",
       "    }\n",
       "</style>\n",
       "<table border=\"1\" class=\"dataframe\">\n",
       "  <thead>\n",
       "    <tr style=\"text-align: right;\">\n",
       "      <th>movie_title</th>\n",
       "      <th>\"Great Performances\" Cats (1998)</th>\n",
       "      <th>'Round Midnight (1986)</th>\n",
       "      <th>'Til There Was You (1997)</th>\n",
       "      <th>'burbs, The (1989)</th>\n",
       "      <th>'night Mother (1986)</th>\n",
       "      <th>*batteries not included (1987)</th>\n",
       "      <th>...All the Marbles (a.k.a. The California Dolls) (1981)</th>\n",
       "      <th>...And God Created Woman (Et Dieu... crÃ©a la femme) (1956)</th>\n",
       "      <th>...And God Spoke (1993)</th>\n",
       "      <th>...And Justice for All (1979)</th>\n",
       "      <th>...</th>\n",
       "      <th>Zorba the Greek (Alexis Zorbas) (1964)</th>\n",
       "      <th>Zorro, the Gay Blade (1981)</th>\n",
       "      <th>Zulu (1964)</th>\n",
       "      <th>Zus &amp; Zo (2001)</th>\n",
       "      <th>[Rec] (2007)</th>\n",
       "      <th>eXistenZ (1999)</th>\n",
       "      <th>ffolks (a.k.a. North Sea Hijack) (1980)</th>\n",
       "      <th>loudQUIETloud: A Film About the Pixies (2006)</th>\n",
       "      <th>xXx: State of the Union (2005)</th>\n",
       "      <th>Ãge d'or, L' (1930)</th>\n",
       "    </tr>\n",
       "    <tr>\n",
       "      <th>user_id</th>\n",
       "      <th></th>\n",
       "      <th></th>\n",
       "      <th></th>\n",
       "      <th></th>\n",
       "      <th></th>\n",
       "      <th></th>\n",
       "      <th></th>\n",
       "      <th></th>\n",
       "      <th></th>\n",
       "      <th></th>\n",
       "      <th></th>\n",
       "      <th></th>\n",
       "      <th></th>\n",
       "      <th></th>\n",
       "      <th></th>\n",
       "      <th></th>\n",
       "      <th></th>\n",
       "      <th></th>\n",
       "      <th></th>\n",
       "      <th></th>\n",
       "      <th></th>\n",
       "    </tr>\n",
       "  </thead>\n",
       "  <tbody>\n",
       "    <tr>\n",
       "      <th>1</th>\n",
       "      <td>0.0</td>\n",
       "      <td>0.0</td>\n",
       "      <td>0.0</td>\n",
       "      <td>0.0</td>\n",
       "      <td>0.0</td>\n",
       "      <td>0.0</td>\n",
       "      <td>0.0</td>\n",
       "      <td>0.0</td>\n",
       "      <td>0.0</td>\n",
       "      <td>0.0</td>\n",
       "      <td>...</td>\n",
       "      <td>0.0</td>\n",
       "      <td>0.0</td>\n",
       "      <td>0.0</td>\n",
       "      <td>0.0</td>\n",
       "      <td>0.0</td>\n",
       "      <td>0.0</td>\n",
       "      <td>0.0</td>\n",
       "      <td>0.0</td>\n",
       "      <td>0.0</td>\n",
       "      <td>0.0</td>\n",
       "    </tr>\n",
       "    <tr>\n",
       "      <th>2</th>\n",
       "      <td>0.0</td>\n",
       "      <td>0.0</td>\n",
       "      <td>0.0</td>\n",
       "      <td>0.0</td>\n",
       "      <td>0.0</td>\n",
       "      <td>0.0</td>\n",
       "      <td>0.0</td>\n",
       "      <td>0.0</td>\n",
       "      <td>0.0</td>\n",
       "      <td>0.0</td>\n",
       "      <td>...</td>\n",
       "      <td>0.0</td>\n",
       "      <td>0.0</td>\n",
       "      <td>0.0</td>\n",
       "      <td>0.0</td>\n",
       "      <td>0.0</td>\n",
       "      <td>0.0</td>\n",
       "      <td>0.0</td>\n",
       "      <td>0.0</td>\n",
       "      <td>0.0</td>\n",
       "      <td>0.0</td>\n",
       "    </tr>\n",
       "    <tr>\n",
       "      <th>3</th>\n",
       "      <td>0.0</td>\n",
       "      <td>0.0</td>\n",
       "      <td>0.0</td>\n",
       "      <td>0.0</td>\n",
       "      <td>0.0</td>\n",
       "      <td>0.0</td>\n",
       "      <td>0.0</td>\n",
       "      <td>0.0</td>\n",
       "      <td>0.0</td>\n",
       "      <td>0.0</td>\n",
       "      <td>...</td>\n",
       "      <td>0.0</td>\n",
       "      <td>0.0</td>\n",
       "      <td>0.0</td>\n",
       "      <td>0.0</td>\n",
       "      <td>0.0</td>\n",
       "      <td>0.0</td>\n",
       "      <td>0.0</td>\n",
       "      <td>0.0</td>\n",
       "      <td>0.0</td>\n",
       "      <td>0.0</td>\n",
       "    </tr>\n",
       "    <tr>\n",
       "      <th>4</th>\n",
       "      <td>0.0</td>\n",
       "      <td>0.0</td>\n",
       "      <td>0.0</td>\n",
       "      <td>0.0</td>\n",
       "      <td>0.0</td>\n",
       "      <td>0.0</td>\n",
       "      <td>0.0</td>\n",
       "      <td>0.0</td>\n",
       "      <td>0.0</td>\n",
       "      <td>0.0</td>\n",
       "      <td>...</td>\n",
       "      <td>0.0</td>\n",
       "      <td>0.0</td>\n",
       "      <td>0.0</td>\n",
       "      <td>0.0</td>\n",
       "      <td>0.0</td>\n",
       "      <td>0.0</td>\n",
       "      <td>0.0</td>\n",
       "      <td>0.0</td>\n",
       "      <td>0.0</td>\n",
       "      <td>0.0</td>\n",
       "    </tr>\n",
       "    <tr>\n",
       "      <th>5</th>\n",
       "      <td>0.0</td>\n",
       "      <td>0.0</td>\n",
       "      <td>0.0</td>\n",
       "      <td>0.0</td>\n",
       "      <td>0.0</td>\n",
       "      <td>0.0</td>\n",
       "      <td>0.0</td>\n",
       "      <td>0.0</td>\n",
       "      <td>0.0</td>\n",
       "      <td>0.0</td>\n",
       "      <td>...</td>\n",
       "      <td>0.0</td>\n",
       "      <td>0.0</td>\n",
       "      <td>0.0</td>\n",
       "      <td>0.0</td>\n",
       "      <td>0.0</td>\n",
       "      <td>0.0</td>\n",
       "      <td>0.0</td>\n",
       "      <td>0.0</td>\n",
       "      <td>0.0</td>\n",
       "      <td>0.0</td>\n",
       "    </tr>\n",
       "  </tbody>\n",
       "</table>\n",
       "<p>5 rows × 10676 columns</p>\n",
       "</div>"
      ],
      "text/plain": [
       "movie_title  \"Great Performances\" Cats (1998)  'Round Midnight (1986)  \\\n",
       "user_id                                                                 \n",
       "1                                         0.0                     0.0   \n",
       "2                                         0.0                     0.0   \n",
       "3                                         0.0                     0.0   \n",
       "4                                         0.0                     0.0   \n",
       "5                                         0.0                     0.0   \n",
       "\n",
       "movie_title  'Til There Was You (1997)  'burbs, The (1989)  \\\n",
       "user_id                                                      \n",
       "1                                  0.0                 0.0   \n",
       "2                                  0.0                 0.0   \n",
       "3                                  0.0                 0.0   \n",
       "4                                  0.0                 0.0   \n",
       "5                                  0.0                 0.0   \n",
       "\n",
       "movie_title  'night Mother (1986)  *batteries not included (1987)  \\\n",
       "user_id                                                             \n",
       "1                             0.0                             0.0   \n",
       "2                             0.0                             0.0   \n",
       "3                             0.0                             0.0   \n",
       "4                             0.0                             0.0   \n",
       "5                             0.0                             0.0   \n",
       "\n",
       "movie_title  ...All the Marbles (a.k.a. The California Dolls) (1981)  \\\n",
       "user_id                                                                \n",
       "1                                                          0.0         \n",
       "2                                                          0.0         \n",
       "3                                                          0.0         \n",
       "4                                                          0.0         \n",
       "5                                                          0.0         \n",
       "\n",
       "movie_title  ...And God Created Woman (Et Dieu... crÃ©a la femme) (1956)  \\\n",
       "user_id                                                                    \n",
       "1                                                          0.0             \n",
       "2                                                          0.0             \n",
       "3                                                          0.0             \n",
       "4                                                          0.0             \n",
       "5                                                          0.0             \n",
       "\n",
       "movie_title  ...And God Spoke (1993)  ...And Justice for All (1979)  ...  \\\n",
       "user_id                                                              ...   \n",
       "1                                0.0                            0.0  ...   \n",
       "2                                0.0                            0.0  ...   \n",
       "3                                0.0                            0.0  ...   \n",
       "4                                0.0                            0.0  ...   \n",
       "5                                0.0                            0.0  ...   \n",
       "\n",
       "movie_title  Zorba the Greek (Alexis Zorbas) (1964)  \\\n",
       "user_id                                               \n",
       "1                                               0.0   \n",
       "2                                               0.0   \n",
       "3                                               0.0   \n",
       "4                                               0.0   \n",
       "5                                               0.0   \n",
       "\n",
       "movie_title  Zorro, the Gay Blade (1981)  Zulu (1964)  Zus & Zo (2001)  \\\n",
       "user_id                                                                  \n",
       "1                                    0.0          0.0              0.0   \n",
       "2                                    0.0          0.0              0.0   \n",
       "3                                    0.0          0.0              0.0   \n",
       "4                                    0.0          0.0              0.0   \n",
       "5                                    0.0          0.0              0.0   \n",
       "\n",
       "movie_title  [Rec] (2007)  eXistenZ (1999)  \\\n",
       "user_id                                      \n",
       "1                     0.0              0.0   \n",
       "2                     0.0              0.0   \n",
       "3                     0.0              0.0   \n",
       "4                     0.0              0.0   \n",
       "5                     0.0              0.0   \n",
       "\n",
       "movie_title  ffolks (a.k.a. North Sea Hijack) (1980)  \\\n",
       "user_id                                                \n",
       "1                                                0.0   \n",
       "2                                                0.0   \n",
       "3                                                0.0   \n",
       "4                                                0.0   \n",
       "5                                                0.0   \n",
       "\n",
       "movie_title  loudQUIETloud: A Film About the Pixies (2006)  \\\n",
       "user_id                                                      \n",
       "1                                                      0.0   \n",
       "2                                                      0.0   \n",
       "3                                                      0.0   \n",
       "4                                                      0.0   \n",
       "5                                                      0.0   \n",
       "\n",
       "movie_title  xXx: State of the Union (2005)  Ãge d'or, L' (1930)  \n",
       "user_id                                                            \n",
       "1                                       0.0                   0.0  \n",
       "2                                       0.0                   0.0  \n",
       "3                                       0.0                   0.0  \n",
       "4                                       0.0                   0.0  \n",
       "5                                       0.0                   0.0  \n",
       "\n",
       "[5 rows x 10676 columns]"
      ]
     },
     "execution_count": 11,
     "metadata": {},
     "output_type": "execute_result"
    }
   ],
   "source": [
    "rating_crosstab = c_movies_data.pivot_table(values='rating', \n",
    "                                            index='user_id', \n",
    "                                            columns='movie_title', fill_value=0)\n",
    "rating_crosstab.head()"
   ]
  },
  {
   "cell_type": "code",
   "execution_count": 14,
   "id": "968b74d3",
   "metadata": {},
   "outputs": [
    {
     "name": "stdout",
     "output_type": "stream",
     "text": [
      "(10676, 69878)\n"
     ]
    }
   ],
   "source": [
    "X = rating_crosstab.T\n",
    "print(X.shape)"
   ]
  },
  {
   "cell_type": "code",
   "execution_count": 15,
   "id": "49757451",
   "metadata": {},
   "outputs": [
    {
     "data": {
      "text/plain": [
       "(10676, 12)"
      ]
     },
     "execution_count": 15,
     "metadata": {},
     "output_type": "execute_result"
    }
   ],
   "source": [
    "SVD = TruncatedSVD(n_components=12, random_state=5)\n",
    "resultant_matrix = SVD.fit_transform(X)\n",
    "resultant_matrix.shape"
   ]
  },
  {
   "cell_type": "code",
   "execution_count": 16,
   "id": "55e502b7",
   "metadata": {},
   "outputs": [
    {
     "name": "stdout",
     "output_type": "stream",
     "text": [
      "(10676, 10676)\n"
     ]
    },
    {
     "data": {
      "text/plain": [
       "array([[1.        , 0.91104477, 0.43040745, ..., 0.58091296, 0.51191829,\n",
       "        0.86042399],\n",
       "       [0.91104477, 1.        , 0.28779129, ..., 0.7131907 , 0.4264758 ,\n",
       "        0.9175588 ],\n",
       "       [0.43040745, 0.28779129, 1.        , ..., 0.05476156, 0.23606898,\n",
       "        0.11309555],\n",
       "       ...,\n",
       "       [0.58091296, 0.7131907 , 0.05476156, ..., 1.        , 0.45256165,\n",
       "        0.8176457 ],\n",
       "       [0.51191829, 0.4264758 , 0.23606898, ..., 0.45256165, 1.        ,\n",
       "        0.43937709],\n",
       "       [0.86042399, 0.9175588 , 0.11309555, ..., 0.8176457 , 0.43937709,\n",
       "        1.        ]])"
      ]
     },
     "execution_count": 16,
     "metadata": {},
     "output_type": "execute_result"
    }
   ],
   "source": [
    "### correlation matrix\n",
    "corr_mat = np.corrcoef(resultant_matrix)\n",
    "print( corr_mat.shape )\n",
    "corr_mat"
   ]
  },
  {
   "cell_type": "code",
   "execution_count": 18,
   "id": "a45d047f",
   "metadata": {},
   "outputs": [
    {
     "name": "stdout",
     "output_type": "stream",
     "text": [
      "(10676,)\n"
     ]
    }
   ],
   "source": [
    "col_idx = rating_crosstab.columns.get_loc(\"'burbs, The (1989)\")\n",
    "corr_specific = corr_mat[col_idx]    # Star Wars (1977)의 위치 행 획득\n",
    "print(corr_specific.shape) "
   ]
  },
  {
   "cell_type": "code",
   "execution_count": 19,
   "id": "37dc79f2",
   "metadata": {},
   "outputs": [
    {
     "name": "stdout",
     "output_type": "stream",
     "text": [
      "(10676, 2)\n"
     ]
    },
    {
     "data": {
      "text/html": [
       "<div>\n",
       "<style scoped>\n",
       "    .dataframe tbody tr th:only-of-type {\n",
       "        vertical-align: middle;\n",
       "    }\n",
       "\n",
       "    .dataframe tbody tr th {\n",
       "        vertical-align: top;\n",
       "    }\n",
       "\n",
       "    .dataframe thead th {\n",
       "        text-align: right;\n",
       "    }\n",
       "</style>\n",
       "<table border=\"1\" class=\"dataframe\">\n",
       "  <thead>\n",
       "    <tr style=\"text-align: right;\">\n",
       "      <th></th>\n",
       "      <th>corr_specific</th>\n",
       "      <th>Movies</th>\n",
       "    </tr>\n",
       "  </thead>\n",
       "  <tbody>\n",
       "    <tr>\n",
       "      <th>3</th>\n",
       "      <td>1.000000</td>\n",
       "      <td>'burbs, The (1989)</td>\n",
       "    </tr>\n",
       "    <tr>\n",
       "      <th>3065</th>\n",
       "      <td>0.982438</td>\n",
       "      <td>European Vacation (1985)</td>\n",
       "    </tr>\n",
       "    <tr>\n",
       "      <th>4195</th>\n",
       "      <td>0.976229</td>\n",
       "      <td>Harry and the Hendersons (1987)</td>\n",
       "    </tr>\n",
       "    <tr>\n",
       "      <th>8332</th>\n",
       "      <td>0.975343</td>\n",
       "      <td>Scrooged (1988)</td>\n",
       "    </tr>\n",
       "    <tr>\n",
       "      <th>10376</th>\n",
       "      <td>0.974636</td>\n",
       "      <td>Who's Harry Crumb? (1989)</td>\n",
       "    </tr>\n",
       "    <tr>\n",
       "      <th>2005</th>\n",
       "      <td>0.973486</td>\n",
       "      <td>Clue (1985)</td>\n",
       "    </tr>\n",
       "    <tr>\n",
       "      <th>3656</th>\n",
       "      <td>0.973419</td>\n",
       "      <td>Funny Farm (1988)</td>\n",
       "    </tr>\n",
       "    <tr>\n",
       "      <th>10262</th>\n",
       "      <td>0.973254</td>\n",
       "      <td>Weird Science (1985)</td>\n",
       "    </tr>\n",
       "    <tr>\n",
       "      <th>9548</th>\n",
       "      <td>0.971175</td>\n",
       "      <td>Three Amigos (1986)</td>\n",
       "    </tr>\n",
       "    <tr>\n",
       "      <th>6192</th>\n",
       "      <td>0.968956</td>\n",
       "      <td>Meatballs Part II (1984)</td>\n",
       "    </tr>\n",
       "  </tbody>\n",
       "</table>\n",
       "</div>"
      ],
      "text/plain": [
       "       corr_specific                           Movies\n",
       "3           1.000000               'burbs, The (1989)\n",
       "3065        0.982438         European Vacation (1985)\n",
       "4195        0.976229  Harry and the Hendersons (1987)\n",
       "8332        0.975343                  Scrooged (1988)\n",
       "10376       0.974636        Who's Harry Crumb? (1989)\n",
       "2005        0.973486                      Clue (1985)\n",
       "3656        0.973419                Funny Farm (1988)\n",
       "10262       0.973254             Weird Science (1985)\n",
       "9548        0.971175              Three Amigos (1986)\n",
       "6192        0.968956         Meatballs Part II (1984)"
      ]
     },
     "execution_count": 19,
     "metadata": {},
     "output_type": "execute_result"
    }
   ],
   "source": [
    "result = pd.DataFrame({'corr_specific':corr_specific, \n",
    "                       'Movies': rating_crosstab.columns})\n",
    "\n",
    "print(result.shape)\n",
    "result.sort_values('corr_specific', ascending=False).head(10)"
   ]
  },
  {
   "cell_type": "code",
   "execution_count": null,
   "id": "d8f2c091",
   "metadata": {},
   "outputs": [],
   "source": []
  }
 ],
 "metadata": {
  "kernelspec": {
   "display_name": "Python 3",
   "language": "python",
   "name": "python3"
  },
  "language_info": {
   "codemirror_mode": {
    "name": "ipython",
    "version": 3
   },
   "file_extension": ".py",
   "mimetype": "text/x-python",
   "name": "python",
   "nbconvert_exporter": "python",
   "pygments_lexer": "ipython3",
   "version": "3.8.8"
  }
 },
 "nbformat": 4,
 "nbformat_minor": 5
}
