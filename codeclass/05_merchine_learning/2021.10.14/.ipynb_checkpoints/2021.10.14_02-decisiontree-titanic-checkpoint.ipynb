{
 "cells": [
  {
   "cell_type": "code",
   "execution_count": 2,
   "id": "6eff1697",
   "metadata": {},
   "outputs": [],
   "source": [
    "import numpy as np # linear algebra\n",
    "import pandas as pd # data processing, CSV file I/O (e.g. pd.read_csv)"
   ]
  },
  {
   "cell_type": "code",
   "execution_count": 4,
   "id": "a13be7f3",
   "metadata": {},
   "outputs": [
    {
     "data": {
      "text/plain": [
       "((891, 12), (418, 11), (418, 2))"
      ]
     },
     "execution_count": 4,
     "metadata": {},
     "output_type": "execute_result"
    }
   ],
   "source": [
    "train = pd.read_csv('train.csv')\n",
    "test = pd.read_csv('test.csv')\n",
    "sub = pd.read_csv('gender_submission.csv')\n",
    "\n",
    "train.shape, test.shape, sub.shape"
   ]
  },
  {
   "cell_type": "code",
   "execution_count": 5,
   "id": "d397eb23",
   "metadata": {},
   "outputs": [
    {
     "name": "stdout",
     "output_type": "stream",
     "text": [
      "Index(['PassengerId', 'Survived', 'Pclass', 'Name', 'Sex', 'Age', 'SibSp',\n",
      "       'Parch', 'Ticket', 'Fare', 'Cabin', 'Embarked'],\n",
      "      dtype='object')\n",
      "Index(['PassengerId', 'Pclass', 'Name', 'Sex', 'Age', 'SibSp', 'Parch',\n",
      "       'Ticket', 'Fare', 'Cabin', 'Embarked'],\n",
      "      dtype='object')\n"
     ]
    }
   ],
   "source": [
    "print(train.columns)\n",
    "print(test.columns)"
   ]
  },
  {
   "cell_type": "code",
   "execution_count": 6,
   "id": "c1cf0bb3",
   "metadata": {
    "scrolled": true
   },
   "outputs": [
    {
     "name": "stdout",
     "output_type": "stream",
     "text": [
      "<class 'pandas.core.frame.DataFrame'>\n",
      "RangeIndex: 891 entries, 0 to 890\n",
      "Data columns (total 12 columns):\n",
      " #   Column       Non-Null Count  Dtype  \n",
      "---  ------       --------------  -----  \n",
      " 0   PassengerId  891 non-null    int64  \n",
      " 1   Survived     891 non-null    int64  \n",
      " 2   Pclass       891 non-null    int64  \n",
      " 3   Name         891 non-null    object \n",
      " 4   Sex          891 non-null    object \n",
      " 5   Age          714 non-null    float64\n",
      " 6   SibSp        891 non-null    int64  \n",
      " 7   Parch        891 non-null    int64  \n",
      " 8   Ticket       891 non-null    object \n",
      " 9   Fare         891 non-null    float64\n",
      " 10  Cabin        204 non-null    object \n",
      " 11  Embarked     889 non-null    object \n",
      "dtypes: float64(2), int64(5), object(5)\n",
      "memory usage: 83.7+ KB\n"
     ]
    }
   ],
   "source": [
    "train.info()"
   ]
  },
  {
   "cell_type": "markdown",
   "id": "853b699e",
   "metadata": {},
   "source": [
    "### 데이터 전처리(nan값 채우기)"
   ]
  },
  {
   "cell_type": "code",
   "execution_count": 7,
   "id": "36e540f3",
   "metadata": {},
   "outputs": [
    {
     "name": "stdout",
     "output_type": "stream",
     "text": [
      "<class 'pandas.core.frame.DataFrame'>\n",
      "RangeIndex: 891 entries, 0 to 890\n",
      "Data columns (total 12 columns):\n",
      " #   Column       Non-Null Count  Dtype  \n",
      "---  ------       --------------  -----  \n",
      " 0   PassengerId  891 non-null    int64  \n",
      " 1   Survived     891 non-null    int64  \n",
      " 2   Pclass       891 non-null    int64  \n",
      " 3   Name         891 non-null    object \n",
      " 4   Sex          891 non-null    object \n",
      " 5   Age          891 non-null    float64\n",
      " 6   SibSp        891 non-null    int64  \n",
      " 7   Parch        891 non-null    int64  \n",
      " 8   Ticket       891 non-null    object \n",
      " 9   Fare         891 non-null    float64\n",
      " 10  Cabin        204 non-null    object \n",
      " 11  Embarked     889 non-null    object \n",
      "dtypes: float64(2), int64(5), object(5)\n",
      "memory usage: 83.7+ KB\n"
     ]
    }
   ],
   "source": [
    "train['Age'] = train['Age'].fillna(train['Age'].mean())\n",
    "train.info()"
   ]
  },
  {
   "cell_type": "markdown",
   "id": "f2a7354c",
   "metadata": {},
   "source": [
    "# 의사결정 트리 모델"
   ]
  },
  {
   "cell_type": "code",
   "execution_count": 9,
   "id": "54f5d124",
   "metadata": {},
   "outputs": [],
   "source": [
    "from sklearn.model_selection import train_test_split\n",
    "from sklearn.tree import DecisionTreeClassifier"
   ]
  },
  {
   "cell_type": "code",
   "execution_count": 10,
   "id": "de756b7c",
   "metadata": {},
   "outputs": [
    {
     "data": {
      "text/plain": [
       "((623, 3), (268, 3), (623,), (268,))"
      ]
     },
     "execution_count": 10,
     "metadata": {},
     "output_type": "execute_result"
    }
   ],
   "source": [
    "# 특성 선택\n",
    "# 데이터 훈련용, 테스트용으로 나누기\n",
    "sel = ['Pclass', 'Age', 'SibSp']\n",
    "\n",
    "train_X = train[sel]\n",
    "train_y = train['Survived']\n",
    "\n",
    "test_X = test[sel]\n",
    "\n",
    "X_train, X_test, y_train, y_test = train_test_split(train_X, train_y, test_size=0.3, random_state=0)\n",
    "X_train.shape, X_test.shape, y_train.shape, y_test.shape"
   ]
  },
  {
   "cell_type": "markdown",
   "id": "29b2f534",
   "metadata": {},
   "source": [
    "### 모델 만들기"
   ]
  },
  {
   "cell_type": "code",
   "execution_count": 12,
   "id": "f142d38e",
   "metadata": {},
   "outputs": [
    {
     "data": {
      "text/plain": [
       "DecisionTreeClassifier(max_depth=2, random_state=0)"
      ]
     },
     "execution_count": 12,
     "metadata": {},
     "output_type": "execute_result"
    }
   ],
   "source": [
    "tree = DecisionTreeClassifier(max_depth=2, random_state=0)\n",
    "# 학습\n",
    "tree.fit(X_train, y_train)"
   ]
  },
  {
   "cell_type": "code",
   "execution_count": 13,
   "id": "e426998d",
   "metadata": {},
   "outputs": [
    {
     "name": "stdout",
     "output_type": "stream",
     "text": [
      "학습용 세트 정확도 : 0.666\n",
      "테스트용 세트 정확도 : 0.672\n"
     ]
    }
   ],
   "source": [
    "# 정확도 확인\n",
    "print(\"학습용 세트 정확도 : {:.3f}\".format(tree.score(X_train, y_train)))\n",
    "print(\"테스트용 세트 정확도 : {:.3f}\".format(tree.score(X_test, y_test)))"
   ]
  },
  {
   "cell_type": "markdown",
   "id": "0d2c0c54",
   "metadata": {},
   "source": [
    "### 데이터 전처리(성별 자료형 => 숫자형)"
   ]
  },
  {
   "cell_type": "code",
   "execution_count": 14,
   "id": "7fbc90e9",
   "metadata": {},
   "outputs": [
    {
     "name": "stdout",
     "output_type": "stream",
     "text": [
      "<class 'pandas.core.frame.DataFrame'>\n",
      "RangeIndex: 418 entries, 0 to 417\n",
      "Data columns (total 12 columns):\n",
      " #   Column       Non-Null Count  Dtype  \n",
      "---  ------       --------------  -----  \n",
      " 0   PassengerId  418 non-null    int64  \n",
      " 1   Pclass       418 non-null    int64  \n",
      " 2   Name         418 non-null    object \n",
      " 3   Sex          418 non-null    object \n",
      " 4   Age          332 non-null    float64\n",
      " 5   SibSp        418 non-null    int64  \n",
      " 6   Parch        418 non-null    int64  \n",
      " 7   Ticket       418 non-null    object \n",
      " 8   Fare         417 non-null    float64\n",
      " 9   Cabin        91 non-null     object \n",
      " 10  Embarked     418 non-null    object \n",
      " 11  Sex_num      418 non-null    int32  \n",
      "dtypes: float64(2), int32(1), int64(4), object(5)\n",
      "memory usage: 37.7+ KB\n",
      "None\n",
      "<class 'pandas.core.frame.DataFrame'>\n",
      "RangeIndex: 891 entries, 0 to 890\n",
      "Data columns (total 13 columns):\n",
      " #   Column       Non-Null Count  Dtype  \n",
      "---  ------       --------------  -----  \n",
      " 0   PassengerId  891 non-null    int64  \n",
      " 1   Survived     891 non-null    int64  \n",
      " 2   Pclass       891 non-null    int64  \n",
      " 3   Name         891 non-null    object \n",
      " 4   Sex          891 non-null    object \n",
      " 5   Age          891 non-null    float64\n",
      " 6   SibSp        891 non-null    int64  \n",
      " 7   Parch        891 non-null    int64  \n",
      " 8   Ticket       891 non-null    object \n",
      " 9   Fare         891 non-null    float64\n",
      " 10  Cabin        204 non-null    object \n",
      " 11  Embarked     889 non-null    object \n",
      " 12  Sex_num      891 non-null    int32  \n",
      "dtypes: float64(2), int32(1), int64(5), object(5)\n",
      "memory usage: 87.1+ KB\n",
      "None\n"
     ]
    }
   ],
   "source": [
    "# Sex mapping => male:1, female:2\n",
    "train['Sex_num'] = train['Sex'].map({'male':1, 'female':2 }).astype(int)\n",
    "test['Sex_num'] = test['Sex'].map({'male':1, 'female':2 }).astype(int)\n",
    "print(test.info())\n",
    "print(train.info())"
   ]
  },
  {
   "cell_type": "code",
   "execution_count": 15,
   "id": "81851473",
   "metadata": {},
   "outputs": [
    {
     "data": {
      "text/html": [
       "<div>\n",
       "<style scoped>\n",
       "    .dataframe tbody tr th:only-of-type {\n",
       "        vertical-align: middle;\n",
       "    }\n",
       "\n",
       "    .dataframe tbody tr th {\n",
       "        vertical-align: top;\n",
       "    }\n",
       "\n",
       "    .dataframe thead th {\n",
       "        text-align: right;\n",
       "    }\n",
       "</style>\n",
       "<table border=\"1\" class=\"dataframe\">\n",
       "  <thead>\n",
       "    <tr style=\"text-align: right;\">\n",
       "      <th></th>\n",
       "      <th>PassengerId</th>\n",
       "      <th>Survived</th>\n",
       "      <th>Pclass</th>\n",
       "      <th>Name</th>\n",
       "      <th>Sex</th>\n",
       "      <th>Age</th>\n",
       "      <th>SibSp</th>\n",
       "      <th>Parch</th>\n",
       "      <th>Ticket</th>\n",
       "      <th>Fare</th>\n",
       "      <th>Cabin</th>\n",
       "      <th>Embarked</th>\n",
       "      <th>Sex_num</th>\n",
       "    </tr>\n",
       "  </thead>\n",
       "  <tbody>\n",
       "    <tr>\n",
       "      <th>0</th>\n",
       "      <td>1</td>\n",
       "      <td>0</td>\n",
       "      <td>3</td>\n",
       "      <td>Braund, Mr. Owen Harris</td>\n",
       "      <td>male</td>\n",
       "      <td>22.0</td>\n",
       "      <td>1</td>\n",
       "      <td>0</td>\n",
       "      <td>A/5 21171</td>\n",
       "      <td>7.2500</td>\n",
       "      <td>NaN</td>\n",
       "      <td>S</td>\n",
       "      <td>1</td>\n",
       "    </tr>\n",
       "    <tr>\n",
       "      <th>1</th>\n",
       "      <td>2</td>\n",
       "      <td>1</td>\n",
       "      <td>1</td>\n",
       "      <td>Cumings, Mrs. John Bradley (Florence Briggs Th...</td>\n",
       "      <td>female</td>\n",
       "      <td>38.0</td>\n",
       "      <td>1</td>\n",
       "      <td>0</td>\n",
       "      <td>PC 17599</td>\n",
       "      <td>71.2833</td>\n",
       "      <td>C85</td>\n",
       "      <td>C</td>\n",
       "      <td>2</td>\n",
       "    </tr>\n",
       "    <tr>\n",
       "      <th>2</th>\n",
       "      <td>3</td>\n",
       "      <td>1</td>\n",
       "      <td>3</td>\n",
       "      <td>Heikkinen, Miss. Laina</td>\n",
       "      <td>female</td>\n",
       "      <td>26.0</td>\n",
       "      <td>0</td>\n",
       "      <td>0</td>\n",
       "      <td>STON/O2. 3101282</td>\n",
       "      <td>7.9250</td>\n",
       "      <td>NaN</td>\n",
       "      <td>S</td>\n",
       "      <td>2</td>\n",
       "    </tr>\n",
       "    <tr>\n",
       "      <th>3</th>\n",
       "      <td>4</td>\n",
       "      <td>1</td>\n",
       "      <td>1</td>\n",
       "      <td>Futrelle, Mrs. Jacques Heath (Lily May Peel)</td>\n",
       "      <td>female</td>\n",
       "      <td>35.0</td>\n",
       "      <td>1</td>\n",
       "      <td>0</td>\n",
       "      <td>113803</td>\n",
       "      <td>53.1000</td>\n",
       "      <td>C123</td>\n",
       "      <td>S</td>\n",
       "      <td>2</td>\n",
       "    </tr>\n",
       "    <tr>\n",
       "      <th>4</th>\n",
       "      <td>5</td>\n",
       "      <td>0</td>\n",
       "      <td>3</td>\n",
       "      <td>Allen, Mr. William Henry</td>\n",
       "      <td>male</td>\n",
       "      <td>35.0</td>\n",
       "      <td>0</td>\n",
       "      <td>0</td>\n",
       "      <td>373450</td>\n",
       "      <td>8.0500</td>\n",
       "      <td>NaN</td>\n",
       "      <td>S</td>\n",
       "      <td>1</td>\n",
       "    </tr>\n",
       "  </tbody>\n",
       "</table>\n",
       "</div>"
      ],
      "text/plain": [
       "   PassengerId  Survived  Pclass  \\\n",
       "0            1         0       3   \n",
       "1            2         1       1   \n",
       "2            3         1       3   \n",
       "3            4         1       1   \n",
       "4            5         0       3   \n",
       "\n",
       "                                                Name     Sex   Age  SibSp  \\\n",
       "0                            Braund, Mr. Owen Harris    male  22.0      1   \n",
       "1  Cumings, Mrs. John Bradley (Florence Briggs Th...  female  38.0      1   \n",
       "2                             Heikkinen, Miss. Laina  female  26.0      0   \n",
       "3       Futrelle, Mrs. Jacques Heath (Lily May Peel)  female  35.0      1   \n",
       "4                           Allen, Mr. William Henry    male  35.0      0   \n",
       "\n",
       "   Parch            Ticket     Fare Cabin Embarked  Sex_num  \n",
       "0      0         A/5 21171   7.2500   NaN        S        1  \n",
       "1      0          PC 17599  71.2833   C85        C        2  \n",
       "2      0  STON/O2. 3101282   7.9250   NaN        S        2  \n",
       "3      0            113803  53.1000  C123        S        2  \n",
       "4      0            373450   8.0500   NaN        S        1  "
      ]
     },
     "execution_count": 15,
     "metadata": {},
     "output_type": "execute_result"
    }
   ],
   "source": [
    "train.head()"
   ]
  },
  {
   "cell_type": "code",
   "execution_count": 16,
   "id": "c9a71762",
   "metadata": {
    "scrolled": true
   },
   "outputs": [
    {
     "data": {
      "text/html": [
       "<div>\n",
       "<style scoped>\n",
       "    .dataframe tbody tr th:only-of-type {\n",
       "        vertical-align: middle;\n",
       "    }\n",
       "\n",
       "    .dataframe tbody tr th {\n",
       "        vertical-align: top;\n",
       "    }\n",
       "\n",
       "    .dataframe thead th {\n",
       "        text-align: right;\n",
       "    }\n",
       "</style>\n",
       "<table border=\"1\" class=\"dataframe\">\n",
       "  <thead>\n",
       "    <tr style=\"text-align: right;\">\n",
       "      <th></th>\n",
       "      <th>PassengerId</th>\n",
       "      <th>Pclass</th>\n",
       "      <th>Name</th>\n",
       "      <th>Sex</th>\n",
       "      <th>Age</th>\n",
       "      <th>SibSp</th>\n",
       "      <th>Parch</th>\n",
       "      <th>Ticket</th>\n",
       "      <th>Fare</th>\n",
       "      <th>Cabin</th>\n",
       "      <th>Embarked</th>\n",
       "      <th>Sex_num</th>\n",
       "    </tr>\n",
       "  </thead>\n",
       "  <tbody>\n",
       "    <tr>\n",
       "      <th>0</th>\n",
       "      <td>892</td>\n",
       "      <td>3</td>\n",
       "      <td>Kelly, Mr. James</td>\n",
       "      <td>male</td>\n",
       "      <td>34.5</td>\n",
       "      <td>0</td>\n",
       "      <td>0</td>\n",
       "      <td>330911</td>\n",
       "      <td>7.8292</td>\n",
       "      <td>NaN</td>\n",
       "      <td>Q</td>\n",
       "      <td>1</td>\n",
       "    </tr>\n",
       "    <tr>\n",
       "      <th>1</th>\n",
       "      <td>893</td>\n",
       "      <td>3</td>\n",
       "      <td>Wilkes, Mrs. James (Ellen Needs)</td>\n",
       "      <td>female</td>\n",
       "      <td>47.0</td>\n",
       "      <td>1</td>\n",
       "      <td>0</td>\n",
       "      <td>363272</td>\n",
       "      <td>7.0000</td>\n",
       "      <td>NaN</td>\n",
       "      <td>S</td>\n",
       "      <td>2</td>\n",
       "    </tr>\n",
       "    <tr>\n",
       "      <th>2</th>\n",
       "      <td>894</td>\n",
       "      <td>2</td>\n",
       "      <td>Myles, Mr. Thomas Francis</td>\n",
       "      <td>male</td>\n",
       "      <td>62.0</td>\n",
       "      <td>0</td>\n",
       "      <td>0</td>\n",
       "      <td>240276</td>\n",
       "      <td>9.6875</td>\n",
       "      <td>NaN</td>\n",
       "      <td>Q</td>\n",
       "      <td>1</td>\n",
       "    </tr>\n",
       "    <tr>\n",
       "      <th>3</th>\n",
       "      <td>895</td>\n",
       "      <td>3</td>\n",
       "      <td>Wirz, Mr. Albert</td>\n",
       "      <td>male</td>\n",
       "      <td>27.0</td>\n",
       "      <td>0</td>\n",
       "      <td>0</td>\n",
       "      <td>315154</td>\n",
       "      <td>8.6625</td>\n",
       "      <td>NaN</td>\n",
       "      <td>S</td>\n",
       "      <td>1</td>\n",
       "    </tr>\n",
       "    <tr>\n",
       "      <th>4</th>\n",
       "      <td>896</td>\n",
       "      <td>3</td>\n",
       "      <td>Hirvonen, Mrs. Alexander (Helga E Lindqvist)</td>\n",
       "      <td>female</td>\n",
       "      <td>22.0</td>\n",
       "      <td>1</td>\n",
       "      <td>1</td>\n",
       "      <td>3101298</td>\n",
       "      <td>12.2875</td>\n",
       "      <td>NaN</td>\n",
       "      <td>S</td>\n",
       "      <td>2</td>\n",
       "    </tr>\n",
       "  </tbody>\n",
       "</table>\n",
       "</div>"
      ],
      "text/plain": [
       "   PassengerId  Pclass                                          Name     Sex  \\\n",
       "0          892       3                              Kelly, Mr. James    male   \n",
       "1          893       3              Wilkes, Mrs. James (Ellen Needs)  female   \n",
       "2          894       2                     Myles, Mr. Thomas Francis    male   \n",
       "3          895       3                              Wirz, Mr. Albert    male   \n",
       "4          896       3  Hirvonen, Mrs. Alexander (Helga E Lindqvist)  female   \n",
       "\n",
       "    Age  SibSp  Parch   Ticket     Fare Cabin Embarked  Sex_num  \n",
       "0  34.5      0      0   330911   7.8292   NaN        Q        1  \n",
       "1  47.0      1      0   363272   7.0000   NaN        S        2  \n",
       "2  62.0      0      0   240276   9.6875   NaN        Q        1  \n",
       "3  27.0      0      0   315154   8.6625   NaN        S        1  \n",
       "4  22.0      1      1  3101298  12.2875   NaN        S        2  "
      ]
     },
     "execution_count": 16,
     "metadata": {},
     "output_type": "execute_result"
    }
   ],
   "source": [
    "test.head()"
   ]
  },
  {
   "cell_type": "markdown",
   "id": "f04c6444",
   "metadata": {},
   "source": [
    "### 모델 학습\n",
    "* 정확도 측정"
   ]
  },
  {
   "cell_type": "code",
   "execution_count": 18,
   "id": "b7563eba",
   "metadata": {},
   "outputs": [
    {
     "name": "stdout",
     "output_type": "stream",
     "text": [
      "학습용 세트 정확도 : 0.791\n",
      "테스트용 세트 정확도 : 0.787\n"
     ]
    }
   ],
   "source": [
    "# ['Pclass', 'Age', 'SibSp', 'Sex_num']\n",
    "\n",
    "sel = ['Pclass', 'Age', 'SibSp', 'Sex_num']\n",
    "\n",
    "train_X = train[sel]\n",
    "train_y = train['Survived']\n",
    "\n",
    "test_X = test[sel]\n",
    "\n",
    "X_train, X_test, y_train, y_test = train_test_split(train_X, train_y, test_size=0.3, random_state=0)\n",
    "tree = DecisionTreeClassifier(max_depth=2, random_state=0)\n",
    "tree.fit(X_train, y_train)\n",
    "print(\"학습용 세트 정확도 : {:.3f}\".format(tree.score(X_train, y_train)))\n",
    "print(\"테스트용 세트 정확도 : {:.3f}\".format(tree.score(X_test, y_test)))"
   ]
  },
  {
   "cell_type": "code",
   "execution_count": 19,
   "id": "63707ccf",
   "metadata": {},
   "outputs": [
    {
     "name": "stdout",
     "output_type": "stream",
     "text": [
      "학습용 세트 정확도 : 0.791\n",
      "테스트용 세트 정확도 : 0.787\n"
     ]
    }
   ],
   "source": [
    "# ['Pclass', 'Age', 'SibSp', 'Sex_num', 'Parch', 'Fare']\n",
    "\n",
    "sel = ['Pclass', 'Age', 'SibSp', 'Sex_num', 'Parch', 'Fare']\n",
    "\n",
    "train_X = train[sel]\n",
    "train_y = train['Survived']\n",
    "\n",
    "test_X = test[sel]\n",
    "\n",
    "X_train, X_test, y_train, y_test = train_test_split(train_X, train_y, test_size=0.3, random_state=0)\n",
    "tree = DecisionTreeClassifier(max_depth=2, random_state=0)\n",
    "tree.fit(X_train, y_train)\n",
    "print(\"학습용 세트 정확도 : {:.3f}\".format(tree.score(X_train, y_train)))\n",
    "print(\"테스트용 세트 정확도 : {:.3f}\".format(tree.score(X_test, y_test)))"
   ]
  },
  {
   "cell_type": "markdown",
   "id": "bc57cc42",
   "metadata": {},
   "source": [
    "### test_size, max_depth 조정해서 정확도 측정"
   ]
  },
  {
   "cell_type": "code",
   "execution_count": 20,
   "id": "1f3b9651",
   "metadata": {},
   "outputs": [],
   "source": [
    "# \"의사결정 모델 생성, 정확도 출력\" 함수 만들기\n",
    "def tree_decision_model(testsize, maxdepth):\n",
    "    sel = ['Pclass', 'Age', 'SibSp', 'Sex_num', 'Parch', 'Fare']\n",
    "\n",
    "    train_X = train[sel]\n",
    "    train_y = train['Survived']\n",
    "\n",
    "    test_X = test[sel]\n",
    "\n",
    "    X_train, X_test, y_train, y_test = train_test_split(train_X, train_y, test_size=testsize, random_state=0)\n",
    "    tree = DecisionTreeClassifier(max_depth=maxdepth, random_state=0)\n",
    "    tree.fit(X_train, y_train)\n",
    "    print(f'test_size={testsize}, max_depth={maxdepth}')\n",
    "    print(\"학습용 세트 정확도 : {:.3f}\".format(tree.score(X_train, y_train)))\n",
    "    print(\"테스트용 세트 정확도 : {:.3f}\".format(tree.score(X_test, y_test)))\n",
    "    print()"
   ]
  },
  {
   "cell_type": "code",
   "execution_count": 21,
   "id": "5bc81fd9",
   "metadata": {
    "scrolled": false
   },
   "outputs": [
    {
     "name": "stdout",
     "output_type": "stream",
     "text": [
      "test_size=0.1, max_depth=1\n",
      "학습용 세트 정확도 : 0.785\n",
      "테스트용 세트 정확도 : 0.800\n",
      "\n",
      "test_size=0.1, max_depth=2\n",
      "학습용 세트 정확도 : 0.792\n",
      "테스트용 세트 정확도 : 0.800\n",
      "\n",
      "test_size=0.1, max_depth=3\n",
      "학습용 세트 정확도 : 0.831\n",
      "테스트용 세트 정확도 : 0.833\n",
      "\n",
      "test_size=0.1, max_depth=4\n",
      "학습용 세트 정확도 : 0.846\n",
      "테스트용 세트 정확도 : 0.811\n",
      "\n",
      "test_size=0.1, max_depth=5\n",
      "학습용 세트 정확도 : 0.855\n",
      "테스트용 세트 정확도 : 0.822\n",
      "\n",
      "test_size=0.1, max_depth=6\n",
      "학습용 세트 정확도 : 0.876\n",
      "테스트용 세트 정확도 : 0.811\n",
      "\n",
      "test_size=0.1, max_depth=7\n",
      "학습용 세트 정확도 : 0.896\n",
      "테스트용 세트 정확도 : 0.789\n",
      "\n",
      "test_size=0.2, max_depth=1\n",
      "학습용 세트 정확도 : 0.787\n",
      "테스트용 세트 정확도 : 0.788\n",
      "\n",
      "test_size=0.2, max_depth=2\n",
      "학습용 세트 정확도 : 0.792\n",
      "테스트용 세트 정확도 : 0.782\n",
      "\n",
      "test_size=0.2, max_depth=3\n",
      "학습용 세트 정확도 : 0.834\n",
      "테스트용 세트 정확도 : 0.821\n",
      "\n",
      "test_size=0.2, max_depth=4\n",
      "학습용 세트 정확도 : 0.843\n",
      "테스트용 세트 정확도 : 0.816\n",
      "\n",
      "test_size=0.2, max_depth=5\n",
      "학습용 세트 정확도 : 0.850\n",
      "테스트용 세트 정확도 : 0.816\n",
      "\n",
      "test_size=0.2, max_depth=6\n",
      "학습용 세트 정확도 : 0.872\n",
      "테스트용 세트 정확도 : 0.827\n",
      "\n",
      "test_size=0.2, max_depth=7\n",
      "학습용 세트 정확도 : 0.890\n",
      "테스트용 세트 정확도 : 0.804\n",
      "\n",
      "test_size=0.3, max_depth=1\n",
      "학습용 세트 정확도 : 0.787\n",
      "테스트용 세트 정확도 : 0.787\n",
      "\n",
      "test_size=0.3, max_depth=2\n",
      "학습용 세트 정확도 : 0.791\n",
      "테스트용 세트 정확도 : 0.787\n",
      "\n",
      "test_size=0.3, max_depth=3\n",
      "학습용 세트 정확도 : 0.836\n",
      "테스트용 세트 정확도 : 0.821\n",
      "\n",
      "test_size=0.3, max_depth=4\n",
      "학습용 세트 정확도 : 0.844\n",
      "테스트용 세트 정확도 : 0.821\n",
      "\n",
      "test_size=0.3, max_depth=5\n",
      "학습용 세트 정확도 : 0.859\n",
      "테스트용 세트 정확도 : 0.813\n",
      "\n",
      "test_size=0.3, max_depth=6\n",
      "학습용 세트 정확도 : 0.872\n",
      "테스트용 세트 정확도 : 0.795\n",
      "\n",
      "test_size=0.3, max_depth=7\n",
      "학습용 세트 정확도 : 0.881\n",
      "테스트용 세트 정확도 : 0.802\n",
      "\n",
      "test_size=0.4, max_depth=1\n",
      "학습용 세트 정확도 : 0.792\n",
      "테스트용 세트 정확도 : 0.779\n",
      "\n",
      "test_size=0.4, max_depth=2\n",
      "학습용 세트 정확도 : 0.800\n",
      "테스트용 세트 정확도 : 0.784\n",
      "\n",
      "test_size=0.4, max_depth=3\n",
      "학습용 세트 정확도 : 0.837\n",
      "테스트용 세트 정확도 : 0.812\n",
      "\n",
      "test_size=0.4, max_depth=4\n",
      "학습용 세트 정확도 : 0.848\n",
      "테스트용 세트 정확도 : 0.812\n",
      "\n",
      "test_size=0.4, max_depth=5\n",
      "학습용 세트 정확도 : 0.861\n",
      "테스트용 세트 정확도 : 0.796\n",
      "\n",
      "test_size=0.4, max_depth=6\n",
      "학습용 세트 정확도 : 0.871\n",
      "테스트용 세트 정확도 : 0.787\n",
      "\n",
      "test_size=0.4, max_depth=7\n",
      "학습용 세트 정확도 : 0.884\n",
      "테스트용 세트 정확도 : 0.801\n",
      "\n",
      "test_size=0.5, max_depth=1\n",
      "학습용 세트 정확도 : 0.791\n",
      "테스트용 세트 정확도 : 0.783\n",
      "\n",
      "test_size=0.5, max_depth=2\n",
      "학습용 세트 정확도 : 0.791\n",
      "테스트용 세트 정확도 : 0.783\n",
      "\n",
      "test_size=0.5, max_depth=3\n",
      "학습용 세트 정확도 : 0.827\n",
      "테스트용 세트 정확도 : 0.809\n",
      "\n",
      "test_size=0.5, max_depth=4\n",
      "학습용 세트 정확도 : 0.845\n",
      "테스트용 세트 정확도 : 0.821\n",
      "\n",
      "test_size=0.5, max_depth=5\n",
      "학습용 세트 정확도 : 0.856\n",
      "테스트용 세트 정확도 : 0.800\n",
      "\n",
      "test_size=0.5, max_depth=6\n",
      "학습용 세트 정확도 : 0.874\n",
      "테스트용 세트 정확도 : 0.785\n",
      "\n",
      "test_size=0.5, max_depth=7\n",
      "학습용 세트 정확도 : 0.879\n",
      "테스트용 세트 정확도 : 0.780\n",
      "\n"
     ]
    }
   ],
   "source": [
    "# test_size, max_depth 별 정확도 출력\n",
    "for s in range(1,6):\n",
    "    for d in range(1,8):\n",
    "        tree_decision_model(s/10, d)\n",
    "# 최고 정확도 : test_size = 0.1, max_depth = 3"
   ]
  },
  {
   "cell_type": "markdown",
   "id": "74d1b0ac",
   "metadata": {},
   "source": [
    "### 중요도 그래프 그리기"
   ]
  },
  {
   "cell_type": "code",
   "execution_count": 22,
   "id": "234a8b91",
   "metadata": {},
   "outputs": [
    {
     "data": {
      "image/png": "[encoded data removed]",
      "text/plain": [
       "<Figure size 432x288 with 1 Axes>"
      ]
     },
     "metadata": {
      "needs_background": "light"
     },
     "output_type": "display_data"
    },
    {
     "data": {
      "text/plain": [
       "<Figure size 864x864 with 0 Axes>"
      ]
     },
     "metadata": {},
     "output_type": "display_data"
    }
   ],
   "source": [
    "# 중요도 그래프 그리기\n",
    "\n",
    "import matplotlib.pyplot as plt\n",
    "\n",
    "imp = tree.feature_importances_\n",
    "plt.barh(sel, imp, align='center')\n",
    "\n",
    "plt.xlabel('feature importance')\n",
    "plt.ylabel('feature')\n",
    "    \n",
    "plt.figure(figsize=(12,12))\n",
    "plt.show()"
   ]
  },
  {
   "cell_type": "code",
   "execution_count": 23,
   "id": "21b90ad2",
   "metadata": {},
   "outputs": [
    {
     "data": {
      "image/png": "[encoded data removed]",
      "text/plain": [
       "<Figure size 432x288 with 1 Axes>"
      ]
     },
     "metadata": {
      "needs_background": "light"
     },
     "output_type": "display_data"
    },
    {
     "data": {
      "text/plain": [
       "<Figure size 864x864 with 0 Axes>"
      ]
     },
     "metadata": {},
     "output_type": "display_data"
    }
   ],
   "source": [
    "# 위와 동일한 그래프\n",
    "\n",
    "import matplotlib.pyplot as plt\n",
    "\n",
    "imp = tree.feature_importances_\n",
    "\n",
    "plt.barh( range(len(sel)), imp, align='center') # 다른 방식\n",
    "plt.yticks(np.arange(len(sel)), sel) # np이용\n",
    "\n",
    "plt.xlabel('feature importance')\n",
    "plt.ylabel('feature')\n",
    "    \n",
    "plt.figure(figsize=(12,12))\n",
    "plt.show()"
   ]
  },
  {
   "cell_type": "code",
   "execution_count": null,
   "id": "ab3d676a",
   "metadata": {},
   "outputs": [],
   "source": []
  }
 ],
 "metadata": {
  "kernelspec": {
   "display_name": "Python 3",
   "language": "python",
   "name": "python3"
  },
  "language_info": {
   "codemirror_mode": {
    "name": "ipython",
    "version": 3
   },
   "file_extension": ".py",
   "mimetype": "text/x-python",
   "name": "python",
   "nbconvert_exporter": "python",
   "pygments_lexer": "ipython3",
   "version": "3.8.8"
  }
 },
 "nbformat": 4,
 "nbformat_minor": 5
}
