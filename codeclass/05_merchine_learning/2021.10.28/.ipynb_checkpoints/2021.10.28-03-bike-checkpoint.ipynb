{
 "cells": [
  {
   "cell_type": "code",
   "execution_count": 1,
   "metadata": {
    "_cell_guid": "b1076dfc-b9ad-4769-8c92-a6c4dae69d19",
    "_uuid": "8f2839f25d086af736a60e9eeb907d3b93b6e0e5",
    "execution": {
     "iopub.execute_input": "2021-10-28T04:05:48.656195Z",
     "iopub.status.busy": "2021-10-28T04:05:48.655153Z",
     "iopub.status.idle": "2021-10-28T04:05:48.684954Z",
     "shell.execute_reply": "2021-10-28T04:05:48.683732Z",
     "shell.execute_reply.started": "2021-10-28T04:05:48.656062Z"
    }
   },
   "outputs": [],
   "source": [
    "import numpy as np\n",
    "import pandas as pd"
   ]
  },
  {
   "cell_type": "code",
   "execution_count": 2,
   "metadata": {
    "execution": {
     "iopub.execute_input": "2021-10-28T04:05:57.801664Z",
     "iopub.status.busy": "2021-10-28T04:05:57.801204Z",
     "iopub.status.idle": "2021-10-28T04:05:57.893227Z",
     "shell.execute_reply": "2021-10-28T04:05:57.892257Z",
     "shell.execute_reply.started": "2021-10-28T04:05:57.801618Z"
    }
   },
   "outputs": [
    {
     "data": {
      "text/plain": [
       "((10886, 12), (6493, 9), (6493, 2))"
      ]
     },
     "execution_count": 2,
     "metadata": {},
     "output_type": "execute_result"
    }
   ],
   "source": [
    "train = pd.read_csv('data/train.csv', parse_dates=['datetime'])\n",
    "test = pd.read_csv('data/test.csv', parse_dates=['datetime'])\n",
    "sub = pd.read_csv('data/sampleSubmission.csv')\n",
    "\n",
    "train.shape, test.shape, sub.shape"
   ]
  },
  {
   "cell_type": "code",
   "execution_count": 3,
   "metadata": {
    "execution": {
     "iopub.execute_input": "2021-10-28T04:15:04.974017Z",
     "iopub.status.busy": "2021-10-28T04:15:04.973648Z",
     "iopub.status.idle": "2021-10-28T04:15:06.009337Z",
     "shell.execute_reply": "2021-10-28T04:15:06.008724Z",
     "shell.execute_reply.started": "2021-10-28T04:15:04.973969Z"
    }
   },
   "outputs": [],
   "source": [
    "import pandas as pd\n",
    "import numpy as np\n",
    "import matplotlib.pyplot as plt\n",
    "import seaborn as sns"
   ]
  },
  {
   "cell_type": "code",
   "execution_count": 5,
   "metadata": {
    "execution": {
     "iopub.execute_input": "2021-10-28T04:15:51.148459Z",
     "iopub.status.busy": "2021-10-28T04:15:51.148015Z",
     "iopub.status.idle": "2021-10-28T04:15:51.159799Z",
     "shell.execute_reply": "2021-10-28T04:15:51.159123Z",
     "shell.execute_reply.started": "2021-10-28T04:15:51.148413Z"
    }
   },
   "outputs": [],
   "source": [
    "new_tr = train.copy()   # 데이터 백업\n",
    "new_test = test.copy()\n",
    "new_tr.columns"
   ]
  },
  {
   "cell_type": "code",
   "execution_count": 6,
   "metadata": {
    "execution": {
     "iopub.execute_input": "2021-10-28T04:15:51.399365Z",
     "iopub.status.busy": "2021-10-28T04:15:51.398948Z",
     "iopub.status.idle": "2021-10-28T04:15:51.446938Z",
     "shell.execute_reply": "2021-10-28T04:15:51.446011Z",
     "shell.execute_reply.started": "2021-10-28T04:15:51.399332Z"
    }
   },
   "outputs": [],
   "source": [
    "## 더미변수, 파생변수 생성\n",
    "new_tr['year'] = new_tr['datetime'].dt.year\n",
    "new_tr['month'] = new_tr['datetime'].dt.month\n",
    "new_tr['day'] = new_tr['datetime'].dt.day\n",
    "new_tr['hour'] = new_tr['datetime'].dt.hour\n",
    "new_tr['minute'] = new_tr['datetime'].dt.minute\n",
    "new_tr['second'] = new_tr['datetime'].dt.second\n",
    "new_tr['dayofweek'] = new_tr['datetime'].dt.dayofweek\n",
    "new_tr.head()"
   ]
  },
  {
   "cell_type": "code",
   "execution_count": 7,
   "metadata": {
    "execution": {
     "iopub.execute_input": "2021-10-28T04:16:00.853187Z",
     "iopub.status.busy": "2021-10-28T04:16:00.852634Z",
     "iopub.status.idle": "2021-10-28T04:16:00.871121Z",
     "shell.execute_reply": "2021-10-28T04:16:00.870012Z",
     "shell.execute_reply.started": "2021-10-28T04:16:00.853153Z"
    }
   },
   "outputs": [],
   "source": [
    "new_test['year'] = new_test['datetime'].dt.year\n",
    "new_test['month'] = new_test['datetime'].dt.month\n",
    "new_test['day'] = new_test['datetime'].dt.day\n",
    "new_test['hour'] = new_test['datetime'].dt.hour\n",
    "new_test['minute'] = new_test['datetime'].dt.minute\n",
    "new_test['second'] = new_test['datetime'].dt.second\n",
    "new_test['dayofweek'] = new_test['datetime'].dt.dayofweek"
   ]
  },
  {
   "cell_type": "code",
   "execution_count": 8,
   "metadata": {
    "execution": {
     "iopub.execute_input": "2021-10-28T04:16:08.347105Z",
     "iopub.status.busy": "2021-10-28T04:16:08.346800Z",
     "iopub.status.idle": "2021-10-28T04:16:10.318435Z",
     "shell.execute_reply": "2021-10-28T04:16:10.317293Z",
     "shell.execute_reply.started": "2021-10-28T04:16:08.347073Z"
    }
   },
   "outputs": [],
   "source": [
    "col_names = ['year','month','day','hour','dayofweek']\n",
    "i = 0\n",
    "plt.figure(figsize=(12,35))  ##전체 그래프 크기 지정\n",
    "\n",
    "for name in col_names: ## 컬럼명으로 반복\n",
    "  i = i+1\n",
    "  plt.subplot(6,2,i)  ##2행2열, i = 1,2,3,4 (왼쪽 상단부터 시계방향으로 순번 지정)\n",
    "  sns.countplot(x = name, data = new_tr)\n",
    "  plt.title(\"train feature\")\n",
    "    \n",
    "  i = i+1\n",
    "  plt.subplot(6,2,i)  ##2행2열, i = 1,2,3,4 (왼쪽 상단부터 시계방향으로 순번 지정)\n",
    "  sns.countplot(x = name, data = new_test)\n",
    "  plt.title(\"test feature\")\n",
    "plt.show()"
   ]
  },
  {
   "cell_type": "code",
   "execution_count": 9,
   "metadata": {
    "execution": {
     "iopub.execute_input": "2021-10-28T04:18:34.804828Z",
     "iopub.status.busy": "2021-10-28T04:18:34.803811Z",
     "iopub.status.idle": "2021-10-28T04:18:36.347131Z",
     "shell.execute_reply": "2021-10-28T04:18:36.346419Z",
     "shell.execute_reply.started": "2021-10-28T04:18:34.804788Z"
    }
   },
   "outputs": [],
   "source": [
    "plt.figure(figsize=(15,10))\n",
    "g = sns.heatmap(new_tr.corr(), annot=True, fmt=\".2f\", cmap=\"coolwarm\", cbar=False)"
   ]
  },
  {
   "cell_type": "markdown",
   "metadata": {},
   "source": [
    "### 특성 선택 X, y, 테스트 데이터 셋에 대해 데이터 나누기.\n",
    "* y에 대해 log_count 생성, 지정하기"
   ]
  },
  {
   "cell_type": "code",
   "execution_count": 15,
   "metadata": {
    "execution": {
     "iopub.execute_input": "2021-10-28T04:24:00.413191Z",
     "iopub.status.busy": "2021-10-28T04:24:00.412884Z",
     "iopub.status.idle": "2021-10-28T04:24:00.434665Z",
     "shell.execute_reply": "2021-10-28T04:24:00.434067Z",
     "shell.execute_reply.started": "2021-10-28T04:24:00.413162Z"
    }
   },
   "outputs": [],
   "source": [
    "new_tr['log_count'] = np.log1p(new_tr['count'])\n",
    "new_tr.head()"
   ]
  },
  {
   "cell_type": "code",
   "execution_count": 16,
   "metadata": {
    "execution": {
     "iopub.execute_input": "2021-10-28T04:24:02.998877Z",
     "iopub.status.busy": "2021-10-28T04:24:02.998462Z",
     "iopub.status.idle": "2021-10-28T04:24:03.002652Z",
     "shell.execute_reply": "2021-10-28T04:24:03.001503Z",
     "shell.execute_reply.started": "2021-10-28T04:24:02.998846Z"
    }
   },
   "outputs": [],
   "source": [
    "from sklearn.model_selection import train_test_split"
   ]
  },
  {
   "cell_type": "code",
   "execution_count": 23,
   "metadata": {
    "execution": {
     "iopub.execute_input": "2021-10-28T04:29:30.188254Z",
     "iopub.status.busy": "2021-10-28T04:29:30.187737Z",
     "iopub.status.idle": "2021-10-28T04:29:30.200415Z",
     "shell.execute_reply": "2021-10-28T04:29:30.199119Z",
     "shell.execute_reply.started": "2021-10-28T04:29:30.188211Z"
    }
   },
   "outputs": [],
   "source": [
    "# 훈련, 테스트 셋 분할\n",
    "feature_names = [ 'season', 'holiday', 'workingday', 'weather', \n",
    "                  'temp', 'atemp', 'humidity', 'windspeed', \n",
    "                  \"year\", \"hour\", \"dayofweek\"]  # 공통 변수\n",
    "\n",
    "X = new_tr[feature_names]\n",
    "y = new_tr['log_count']\n",
    "\n",
    "X_train, X_test, y_train, y_test = train_test_split(X, y, test_size=0.1, random_state=0)"
   ]
  },
  {
   "cell_type": "code",
   "execution_count": 24,
   "metadata": {
    "execution": {
     "iopub.execute_input": "2021-10-28T04:29:30.404736Z",
     "iopub.status.busy": "2021-10-28T04:29:30.404453Z",
     "iopub.status.idle": "2021-10-28T04:29:30.409726Z",
     "shell.execute_reply": "2021-10-28T04:29:30.408786Z",
     "shell.execute_reply.started": "2021-10-28T04:29:30.404708Z"
    }
   },
   "outputs": [],
   "source": [
    "# 최종 입력 값\n",
    "X_test_last = new_test[feature_names]"
   ]
  },
  {
   "cell_type": "code",
   "execution_count": 25,
   "metadata": {
    "execution": {
     "iopub.execute_input": "2021-10-28T04:29:39.965793Z",
     "iopub.status.busy": "2021-10-28T04:29:39.965405Z",
     "iopub.status.idle": "2021-10-28T04:29:41.361321Z",
     "shell.execute_reply": "2021-10-28T04:29:41.360330Z",
     "shell.execute_reply.started": "2021-10-28T04:29:39.965764Z"
    }
   },
   "outputs": [],
   "source": [
    "from sklearn.model_selection import cross_val_score\n",
    "from sklearn.ensemble import RandomForestRegressor\n",
    "import xgboost as xgb\n",
    "import lightgbm as lgb\n",
    "import time"
   ]
  },
  {
   "cell_type": "code",
   "execution_count": 26,
   "metadata": {
    "execution": {
     "iopub.execute_input": "2021-10-28T04:39:39.070889Z",
     "iopub.status.busy": "2021-10-28T04:39:39.070587Z",
     "iopub.status.idle": "2021-10-28T04:39:45.062925Z",
     "shell.execute_reply": "2021-10-28T04:39:45.061822Z",
     "shell.execute_reply.started": "2021-10-28T04:39:39.070856Z"
    }
   },
   "outputs": [],
   "source": [
    "model = RandomForestRegressor(n_jobs=-1)\n",
    "model.fit(X_train, y_train)\n",
    "\n",
    "# 교차 검증\n",
    "scores = cross_val_score(model, X_test, y_test, cv=5, scoring='neg_mean_squared_error')\n",
    "\n",
    "print('MSE 평균 :', np.abs(scores.mean()))"
   ]
  },
  {
   "cell_type": "code",
   "execution_count": 62,
   "metadata": {
    "execution": {
     "iopub.execute_input": "2021-10-28T05:34:35.047658Z",
     "iopub.status.busy": "2021-10-28T05:34:35.047350Z",
     "iopub.status.idle": "2021-10-28T05:34:35.054461Z",
     "shell.execute_reply": "2021-10-28T05:34:35.053303Z",
     "shell.execute_reply.started": "2021-10-28T05:34:35.047626Z"
    }
   },
   "outputs": [],
   "source": [
    "def model_val(model_name, model_obj):\n",
    "    now_time = time.time() # 시작시간\n",
    "    \n",
    "    model_obj.fit(X_train, y_train)\n",
    "\n",
    "    # 교차 검증\n",
    "    scores = cross_val_score(model_obj, X_test, y_test, cv=5, scoring='neg_mean_squared_error')\n",
    "    avg_score = np.abs(scores.mean())\n",
    "    print('MSE 평균 :', avg_score)\n",
    "    \n",
    "    pro_time = time.time() - now_time\n",
    "    print('수행 시잔 : {0:.3f}'.format(pro_time))\n",
    "    print(\"{} Score : {}\".format(model_name, avg_score))\n",
    "    \n",
    "    return avg_score, pro_time"
   ]
  },
  {
   "cell_type": "code",
   "execution_count": 63,
   "metadata": {
    "execution": {
     "iopub.execute_input": "2021-10-28T05:34:36.051116Z",
     "iopub.status.busy": "2021-10-28T05:34:36.050781Z",
     "iopub.status.idle": "2021-10-28T05:34:36.056147Z",
     "shell.execute_reply": "2021-10-28T05:34:36.054917Z",
     "shell.execute_reply.started": "2021-10-28T05:34:36.051081Z"
    }
   },
   "outputs": [],
   "source": [
    "model_list = [\"RandomForestRegressor\",  \"xgb_basic\", \n",
    "              \"lightgbm-model1\", \"lightgbm-model2\"]\n",
    "\n",
    "exe_model = []\n",
    "model_score = []\n",
    "model_time = []"
   ]
  },
  {
   "cell_type": "code",
   "execution_count": 64,
   "metadata": {
    "execution": {
     "iopub.execute_input": "2021-10-28T05:34:37.547182Z",
     "iopub.status.busy": "2021-10-28T05:34:37.546413Z",
     "iopub.status.idle": "2021-10-28T05:34:43.257924Z",
     "shell.execute_reply": "2021-10-28T05:34:43.256969Z",
     "shell.execute_reply.started": "2021-10-28T05:34:37.547142Z"
    }
   },
   "outputs": [],
   "source": [
    "# 랜덤 포레스트로 테스트\n",
    "m_name = model_list[0]\n",
    "\n",
    "if m_name not in exe_model:\n",
    "    model = RandomForestRegressor(random_state=30)\n",
    "    mse_score, p_time = model_val(m_name, model)\n",
    "    \n",
    "    exe_model.append(m_name) # 실행 완료\n",
    "    model_score.append(mse_score)\n",
    "    model_time.append(p_time)\n",
    "else:\n",
    "    print(f'{m_name} 이미 실행 완료')"
   ]
  },
  {
   "cell_type": "markdown",
   "metadata": {
    "execution": {
     "iopub.execute_input": "2021-10-28T05:06:44.532827Z",
     "iopub.status.busy": "2021-10-28T05:06:44.532018Z",
     "iopub.status.idle": "2021-10-28T05:06:44.536688Z",
     "shell.execute_reply": "2021-10-28T05:06:44.536047Z",
     "shell.execute_reply.started": "2021-10-28T05:06:44.532773Z"
    }
   },
   "source": [
    "### 실습"
   ]
  },
  {
   "cell_type": "code",
   "execution_count": 65,
   "metadata": {
    "execution": {
     "iopub.execute_input": "2021-10-28T05:34:44.323581Z",
     "iopub.status.busy": "2021-10-28T05:34:44.323320Z",
     "iopub.status.idle": "2021-10-28T05:34:44.330967Z",
     "shell.execute_reply": "2021-10-28T05:34:44.330096Z",
     "shell.execute_reply.started": "2021-10-28T05:34:44.323554Z"
    }
   },
   "outputs": [],
   "source": [
    "# 2번째 \n",
    "'''\n",
    "xg_reg = xgb.XGBRegressor(objective ='reg:linear', \n",
    "                colsample_bytree = 0.3, # 각나무마다 사용하는 feature 비율\n",
    "                learning_rate = 0.1,\n",
    "                max_depth = 3, \n",
    "                alpha = 0.1, \n",
    "                n_estimators = 1000)\n",
    "'''\n",
    "# 3번째 \n",
    "# m_lgbm1 = lgb.LGBMRegressor()\n",
    "# \n",
    "\n",
    "# 4번째\n",
    "'''\n",
    "hyperparameters = {'boosting_type': 'gbdt', \n",
    "                   'colsample_bytree': 0.7250136792694301, \n",
    "                   'is_unbalance': False, \n",
    "                   'learning_rate': 0.013227664889528229,\n",
    "                   'min_child_samples': 20, \n",
    "                   'num_leaves': 56, \n",
    "                   'reg_alpha': 0.7543896477745794, \n",
    "                   'reg_lambda': 0.07152751159655985, \n",
    "                   'subsample_for_bin': 240000, \n",
    "                   'subsample': 0.5233384321711397, \n",
    "                   'n_estimators': 2000}\n",
    "\n",
    "m_lgbm2 = lgb.LGBMRegressor(**hyperparameters)\n",
    "'''"
   ]
  },
  {
   "cell_type": "code",
   "execution_count": 66,
   "metadata": {
    "execution": {
     "iopub.execute_input": "2021-10-28T05:34:44.998186Z",
     "iopub.status.busy": "2021-10-28T05:34:44.997485Z",
     "iopub.status.idle": "2021-10-28T05:34:48.754343Z",
     "shell.execute_reply": "2021-10-28T05:34:48.753369Z",
     "shell.execute_reply.started": "2021-10-28T05:34:44.998147Z"
    }
   },
   "outputs": [],
   "source": [
    "# 2번째\n",
    "m_name = model_list[1]\n",
    "\n",
    "if m_name not in exe_model:\n",
    "    model = xgb.XGBRegressor(objective ='reg:linear', \n",
    "                colsample_bytree = 0.3, # 각나무마다 사용하는 feature 비율\n",
    "                learning_rate = 0.1,\n",
    "                max_depth = 3, \n",
    "                alpha = 0.1, \n",
    "                n_estimators = 1000)\n",
    "    mse_score, p_time = model_val(m_name, model)\n",
    "    \n",
    "    exe_model.append(m_name) # 실행 완료\n",
    "    model_score.append(mse_score)\n",
    "    model_time.append(p_time)\n",
    "else:\n",
    "    print(f'{m_name} 이미 실행 완료')"
   ]
  },
  {
   "cell_type": "code",
   "execution_count": 67,
   "metadata": {
    "execution": {
     "iopub.execute_input": "2021-10-28T05:34:51.074782Z",
     "iopub.status.busy": "2021-10-28T05:34:51.074139Z",
     "iopub.status.idle": "2021-10-28T05:34:51.615538Z",
     "shell.execute_reply": "2021-10-28T05:34:51.614864Z",
     "shell.execute_reply.started": "2021-10-28T05:34:51.074744Z"
    }
   },
   "outputs": [],
   "source": [
    "# 3번째 \n",
    "# m_lgbm1 = lgb.LGBMRegressor()\n",
    "m_name = model_list[2]\n",
    "\n",
    "if m_name not in exe_model:\n",
    "    model = lgb.LGBMRegressor()\n",
    "    mse_score, p_time = model_val(m_name, model)\n",
    "    \n",
    "    exe_model.append(m_name) # 실행 완료\n",
    "    model_score.append(mse_score)\n",
    "    model_time.append(p_time)\n",
    "else:\n",
    "    print(f'{m_name} 이미 실행 완료')"
   ]
  },
  {
   "cell_type": "code",
   "execution_count": 68,
   "metadata": {
    "execution": {
     "iopub.execute_input": "2021-10-28T05:34:51.997838Z",
     "iopub.status.busy": "2021-10-28T05:34:51.997109Z",
     "iopub.status.idle": "2021-10-28T05:35:01.051832Z",
     "shell.execute_reply": "2021-10-28T05:35:01.050739Z",
     "shell.execute_reply.started": "2021-10-28T05:34:51.997803Z"
    }
   },
   "outputs": [],
   "source": [
    "# 4번째\n",
    "m_name = model_list[3]\n",
    "\n",
    "if m_name not in exe_model:\n",
    "    hyperparameters = {'boosting_type': 'gbdt', \n",
    "                   'colsample_bytree': 0.7250136792694301, \n",
    "                   'is_unbalance': False, \n",
    "                   'learning_rate': 0.013227664889528229,\n",
    "                   'min_child_samples': 20, \n",
    "                   'num_leaves': 56, \n",
    "                   'reg_alpha': 0.7543896477745794, \n",
    "                   'reg_lambda': 0.07152751159655985, \n",
    "                   'subsample_for_bin': 240000, \n",
    "                   'subsample': 0.5233384321711397, \n",
    "                   'n_estimators': 2000}\n",
    "\n",
    "    model = lgb.LGBMRegressor(**hyperparameters)\n",
    "    mse_score, p_time = model_val(m_name, model)\n",
    "    \n",
    "    exe_model.append(m_name) # 실행 완료\n",
    "    model_score.append(mse_score)\n",
    "    model_time.append(p_time)\n",
    "else:\n",
    "    print(f'{m_name} 이미 실행 완료')"
   ]
  },
  {
   "cell_type": "code",
   "execution_count": 69,
   "metadata": {
    "execution": {
     "iopub.execute_input": "2021-10-28T05:35:01.054726Z",
     "iopub.status.busy": "2021-10-28T05:35:01.054295Z",
     "iopub.status.idle": "2021-10-28T05:35:01.061410Z",
     "shell.execute_reply": "2021-10-28T05:35:01.060247Z",
     "shell.execute_reply.started": "2021-10-28T05:35:01.054680Z"
    }
   },
   "outputs": [],
   "source": [
    "print(exe_model)\n",
    "print(model_score)\n",
    "print(model_time)"
   ]
  },
  {
   "cell_type": "code",
   "execution_count": 73,
   "metadata": {
    "execution": {
     "iopub.execute_input": "2021-10-28T05:36:05.115656Z",
     "iopub.status.busy": "2021-10-28T05:36:05.115329Z",
     "iopub.status.idle": "2021-10-28T05:36:05.463735Z",
     "shell.execute_reply": "2021-10-28T05:36:05.462968Z",
     "shell.execute_reply.started": "2021-10-28T05:36:05.115625Z"
    }
   },
   "outputs": [],
   "source": [
    "plt.figure(figsize=(10,6))\n",
    "plt.subplot(2,1,1)\n",
    "plt.title('MSE score')\n",
    "_ = sns.lineplot(x=exe_model, y=model_score)\n",
    "\n",
    "plt.subplot(2,1,2)\n",
    "plt.title('time')\n",
    "_ = sns.lineplot(x=exe_model, y=model_time)"
   ]
  },
  {
   "cell_type": "code",
   "execution_count": 71,
   "metadata": {
    "execution": {
     "iopub.execute_input": "2021-10-28T05:35:01.397325Z",
     "iopub.status.busy": "2021-10-28T05:35:01.396963Z",
     "iopub.status.idle": "2021-10-28T05:35:01.409061Z",
     "shell.execute_reply": "2021-10-28T05:35:01.407888Z",
     "shell.execute_reply.started": "2021-10-28T05:35:01.397296Z"
    }
   },
   "outputs": [],
   "source": [
    "dict_dat={'model_name':exe_model, 'score':model_score, 'time':model_time}\n",
    "dat = pd.DataFrame(dict_dat)\n",
    "dat"
   ]
  },
  {
   "cell_type": "code",
   "execution_count": 72,
   "metadata": {
    "execution": {
     "iopub.execute_input": "2021-10-28T05:35:01.410892Z",
     "iopub.status.busy": "2021-10-28T05:35:01.410579Z",
     "iopub.status.idle": "2021-10-28T05:35:01.746693Z",
     "shell.execute_reply": "2021-10-28T05:35:01.745867Z",
     "shell.execute_reply.started": "2021-10-28T05:35:01.410838Z"
    }
   },
   "outputs": [],
   "source": [
    "plt.figure(figsize=(12,8))\n",
    "plt.subplot(2,1,1)\n",
    "sns.barplot(x='score', y='model_name', data=dat)\n",
    "\n",
    "plt.subplot(2,1,2)\n",
    "sns.barplot(x='time', y='model_name', data=dat)"
   ]
  },
  {
   "cell_type": "code",
   "execution_count": 74,
   "metadata": {
    "execution": {
     "iopub.execute_input": "2021-10-28T05:36:33.566809Z",
     "iopub.status.busy": "2021-10-28T05:36:33.566161Z",
     "iopub.status.idle": "2021-10-28T05:36:37.784111Z",
     "shell.execute_reply": "2021-10-28T05:36:37.781975Z",
     "shell.execute_reply.started": "2021-10-28T05:36:33.566775Z"
    }
   },
   "outputs": [],
   "source": [
    "hyperparameters = {'boosting_type': 'gbdt', \n",
    "                   'colsample_bytree': 0.7250136792694301, \n",
    "                   'is_unbalance': False, \n",
    "                   'learning_rate': 0.013227664889528229,\n",
    "                   'min_child_samples': 20, \n",
    "                   'num_leaves': 56, \n",
    "                   'reg_alpha': 0.7543896477745794, \n",
    "                   'reg_lambda': 0.07152751159655985, \n",
    "                   'subsample_for_bin': 240000, \n",
    "                   'subsample': 0.5233384321711397, \n",
    "                   'n_estimators': 2000}\n",
    "\n",
    "# 최종 모델 선택 및 제출\n",
    "m_lgbm2 = lgb.LGBMRegressor(**hyperparameters)\n",
    "m_lgbm2.fit(X_train, y_train)\n",
    "\n",
    "pred = m_lgbm2.predict(X_test_last)\n",
    "sub['count'] = np.expm1(pred)\n",
    "sub.to_csv(\"sub_v04_lgbm_last.csv\", index=False)"
   ]
  },
  {
   "cell_type": "code",
   "execution_count": null,
   "metadata": {},
   "outputs": [],
   "source": []
  }
 ],
 "metadata": {
  "kernelspec": {
   "display_name": "Python 3",
   "language": "python",
   "name": "python3"
  },
  "language_info": {
   "codemirror_mode": {
    "name": "ipython",
    "version": 3
   },
   "file_extension": ".py",
   "mimetype": "text/x-python",
   "name": "python",
   "nbconvert_exporter": "python",
   "pygments_lexer": "ipython3",
   "version": "3.8.8"
  }
 },
 "nbformat": 4,
 "nbformat_minor": 4
}
