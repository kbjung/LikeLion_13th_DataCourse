{
 "cells": [
  {
   "cell_type": "markdown",
   "metadata": {
    "id": "Q6Rph7XF0cwT"
   },
   "source": [
    "## Cluster analysis(군집화 분석)\n",
    "\n",
    "* Cluster analysis(군집화 분석)이란 주어진 데이터들의 특성을 고려해 데이터 집단(Cluster)을 정의하고 데이터 집단의 대표할 수 있는 대표점을 찾는 것으로 데이터 마이닝의 한 방법이다. \n",
    "\n",
    "* Cluster란 비슷한 특성을 가진 데이터들의 집단. 반대로 데이터의 특성이 다르면 다른 클러스터에 속해야 한다.\n",
    "\n",
    "* 효율성 : Cluster 분석을 통해 수백만의 데이터를 직접 확인하지 않고 각각 Cluster의 대표값만 확인해 전체 데이터의 특성을 파악할 수 있다.\n",
    "\n",
    "출처 : [클러스터 분석 - 위키백과, 우리 모두의 백과사전](https://ko.wikipedia.org/wiki/%ED%81%B4%EB%9F%AC%EC%8A%A4%ED%84%B0_%EB%B6%84%EC%84%9D)\n",
    "\n",
    "\n",
    "## scikit-learn의 Clustering 알고리즘 비교\n",
    "<img src=\"https://scikit-learn.org/stable/_images/sphx_glr_plot_cluster_comparison_001.png\">\n",
    "\n",
    "출처 : [scikit-learn 2.3.1. Overview of clustering method](https://scikit-learn.org/stable/modules/clustering.html#clustering)\n",
    "\n",
    "\n",
    "## K-Means\n",
    "\n",
    "* 주어진 데이터를 k개의 클러스터로 묶는 알고리즘으로, 각 클러스터와 거리 차이의 분산을 최소화하는 방식으로 동작한다. \n",
    "\n",
    "* 이 알고리즘은 자율 학습의 일종으로, 레이블이 달려 있지 않은 입력 데이터에 레이블을 달아주는 역할을 수행한다.\n",
    "\n",
    "<img src=\"https://upload.wikimedia.org/wikipedia/commons/thumb/7/7b/Kmeans_animation_withoutWatermark.gif/220px-Kmeans_animation_withoutWatermark.gif\">\n",
    "\n",
    "출처 : [K-평균_알고리즘 - 위키백과, 우리 모두의 백과사전](https://ko.wikipedia.org/wiki/K-%ED%8F%89%EA%B7%A0_%EC%95%8C%EA%B3%A0%EB%A6%AC%EC%A6%98)"
   ]
  },
  {
   "cell_type": "markdown",
   "metadata": {
    "id": "ni5RxqMr0cwY"
   },
   "source": [
    "## 라이브러리 로드"
   ]
  },
  {
   "cell_type": "code",
   "execution_count": null,
   "metadata": {
    "id": "umI9pmZO0cwZ",
    "outputId": "29c677f6-5f55-4624-a1e2-63d473eefa5e"
   },
   "outputs": [],
   "source": [
    "import pandas as pd\n",
    "import numpy as np\n",
    "import seaborn as sns\n",
    "import matplotlib.pyplot as plt"
   ]
  },
  {
   "cell_type": "markdown",
   "metadata": {
    "id": "czK5ETHx0cwb"
   },
   "source": [
    "## 파일 불러오기"
   ]
  },
  {
   "cell_type": "code",
   "execution_count": null,
   "metadata": {
    "id": "efRS_US70cwb",
    "outputId": "943ff6df-858f-4c53-9756-313eff2bbb89"
   },
   "outputs": [],
   "source": [
    "# rfm.csv 파일을 읽어오고, index는 \"CustomerID\"로 설정해 줍니다.\n",
    "\n",
    "rfm = pd.read_csv(\"rfm.csv\")\n",
    "rfm = rfm._________(_________)\n",
    "rfm"
   ]
  },
  {
   "cell_type": "markdown",
   "metadata": {
    "id": "AhlTZyEe0cwc"
   },
   "source": [
    "## rfm_cluster 변수 생성"
   ]
  },
  {
   "cell_type": "code",
   "execution_count": null,
   "metadata": {
    "id": "glfaviN30cwc",
    "outputId": "5695c568-c819-4694-858e-1919097fba0c"
   },
   "outputs": [],
   "source": [
    "# iloc를 사용하여 Recency, Frequency, MonetaryValue 컬럼 데이터를 rfm_cluster 변수에 담습니다.\n",
    "\n",
    "# rfm_cluster"
   ]
  },
  {
   "cell_type": "markdown",
   "metadata": {
    "id": "odiY5V3m0cwd"
   },
   "source": [
    "## 정규화\n",
    "\n",
    "<img src=\"https://upload.wikimedia.org/wikipedia/commons/thumb/1/17/Binary_logarithm_plot_with_ticks.svg/1200px-Binary_logarithm_plot_with_ticks.svg.png\" width=\"300\">"
   ]
  },
  {
   "cell_type": "code",
   "execution_count": null,
   "metadata": {
    "id": "3OTRgQE10cwd",
    "outputId": "c9983fb7-75d3-459a-fb4b-b4e103848beb"
   },
   "outputs": [],
   "source": [
    "# np.log1p 메서드를 사용하여 값들을 정규화 시켜주고, rfm_cluster_log 변수에 담습니다.\n",
    "# 정규화시 np.log보다 np.log1p을 사용하는 이유는 x값이 1보다 작을 때, y값이 음의 무한대로 가는 것을 방지하기 위함입니다.\n",
    "# 정규화를 함으로써 각 속성별로 다양한 수의 범위를 줄여줄 수 있습니다.\n",
    "\n",
    "rfm_cluster_log = np._____(rfm_cluster)\n",
    "rfm_cluster_log"
   ]
  },
  {
   "cell_type": "markdown",
   "metadata": {
    "id": "jt7TwGY40cwe"
   },
   "source": [
    "## 스케일 조정하기"
   ]
  },
  {
   "cell_type": "code",
   "execution_count": null,
   "metadata": {
    "id": "TL_0r-e30cwf",
    "outputId": "6faf0c79-9c86-45e7-dada-336132377692"
   },
   "outputs": [],
   "source": [
    "# StandardScaler 메서드를 사용하여 속성 값의 범위가 크게 차이 나지 않도록 평균 0, 분산 1로 조정해 줍니다.\n",
    "\n",
    "from sklearn.preprocessing import StandardScaler\n",
    "scaler = StandardScaler()\n",
    "scaler.fit(rfm_cluster_log)"
   ]
  },
  {
   "cell_type": "code",
   "execution_count": null,
   "metadata": {
    "id": "UZY6fewH0cwf",
    "outputId": "30c1f26b-bb68-4ba3-a4ce-c504a64b3efc"
   },
   "outputs": [],
   "source": [
    "# fit_transform 메서드를 사용하여 rfm_cluster_log를 rfm_norm 변수에 담습니다.\n",
    "\n",
    "rfm_norm = scaler.________(________)\n",
    "rfm_norm"
   ]
  },
  {
   "cell_type": "markdown",
   "metadata": {
    "id": "oKN9MyjF0cwg"
   },
   "source": [
    "### K-Means 모델 학습"
   ]
  },
  {
   "cell_type": "code",
   "execution_count": null,
   "metadata": {
    "id": "qsraLt3j0cwg"
   },
   "outputs": [],
   "source": [
    "inertia = []\n",
    "# rfm_norm 값을 학습하고\n",
    "# 리스트에 inertia_ 값을 넣어 elbow 값을 봅니다.\n",
    "    "
   ]
  },
  {
   "cell_type": "markdown",
   "metadata": {
    "id": "X5wag0yO0cwg"
   },
   "source": [
    "## 시각화"
   ]
  },
  {
   "cell_type": "code",
   "execution_count": null,
   "metadata": {
    "id": "kVzwsUGd0cwg",
    "outputId": "d8d63e10-1077-4b43-b25e-99dedb67c680"
   },
   "outputs": [],
   "source": [
    "# The Elbow Method 그래프에서 급격히 떨어지는 구간을 확인하여, 적절한 K값을 확인해 봅니다.\n",
    "\n",
    "plt.figure(figsize=(15,4))\n",
    "plt.plot(range(1, 20), inertia)\n",
    "plt.title('The Elbow Method')\n",
    "plt.xlabel('Number of clusters')\n",
    "plt.ylabel('Within-Cluster Sum of Square')\n",
    "plt.xticks(range(1, 20))\n",
    "plt.grid(True)\n",
    "plt.show()"
   ]
  },
  {
   "cell_type": "code",
   "execution_count": null,
   "metadata": {
    "id": "SZweQF6M0cwh",
    "outputId": "a8d3abce-255c-445c-f794-77fa9a7e784e"
   },
   "outputs": [],
   "source": [
    "# n_clusters의 수를 늘려 봅니다.\n",
    "\n",
    "kmeans"
   ]
  },
  {
   "cell_type": "code",
   "execution_count": null,
   "metadata": {
    "id": "44gAcICN0cwh",
    "outputId": "289be557-a84a-478a-a41e-e3d57666db45"
   },
   "outputs": [],
   "source": [
    "# cluster_centers_를 통해서 좌표값을 출력해 봅니다.\n"
   ]
  },
  {
   "cell_type": "code",
   "execution_count": null,
   "metadata": {
    "id": "dgn8l6TF0cwi",
    "outputId": "daa72213-97fb-4a57-a923-068afe571d69"
   },
   "outputs": [],
   "source": [
    "# labels_를 통해서 어떤 클러스터에 속하는지 확인합니다.\n"
   ]
  },
  {
   "cell_type": "code",
   "execution_count": null,
   "metadata": {
    "id": "XU9N7JBI0cwi",
    "outputId": "8daabb48-5a32-41ad-a97e-4a0a79e88633"
   },
   "outputs": [],
   "source": [
    "# rfm['Cluster']에 kmeans.labels_ 값을 담아줍니다.\n",
    "\n",
    "rfm['Cluster']"
   ]
  },
  {
   "cell_type": "code",
   "execution_count": null,
   "metadata": {
    "id": "hogjNv450cwj",
    "outputId": "e5c89be1-7813-4e50-eca8-63bce8b2559b"
   },
   "outputs": [],
   "source": [
    "# Cluster와 RFM_score의 상관관계를 살펴보기 위해 scatterplot으로 산점도를 출력해 봅니다.(RFM_class를 통해 데이터를 구분할 수 있습니다.)\n"
   ]
  },
  {
   "cell_type": "code",
   "execution_count": null,
   "metadata": {
    "id": "UmClht0t0cwj",
    "outputId": "8c7e8e98-203b-45bc-8aea-6f4742d2f0b5"
   },
   "outputs": [],
   "source": [
    "# stripplot은 scatterplot과 유사하나 데이터가 겹치면 양 옆으로 흩어진 형태를 보입니다.\n"
   ]
  },
  {
   "cell_type": "code",
   "execution_count": null,
   "metadata": {
    "id": "v3pEF5d90cwj",
    "outputId": "857e4a98-52a4-4e92-90e1-1d6c1ffabf4c"
   },
   "outputs": [],
   "source": [
    "# MonetaryValue와 RFM_score의 상관관계를 살펴보기 위해 scatterplot으로 산점도를 출력해 봅니다.\n",
    "# RFM_class를 통해 데이터를 구분할 수 있습니다.\n"
   ]
  },
  {
   "cell_type": "code",
   "execution_count": null,
   "metadata": {
    "id": "UkFDNaAK0cwk",
    "outputId": "6c83eb1c-c9d8-4dca-bb81-8d7fbeba5816"
   },
   "outputs": [],
   "source": [
    "# Frequency와 RFM_score의 살펴보기 위해 산점도를 출력해 봅니다.\n",
    "# RFM_class를 통해 데이터를 구분할 수 있습니다.\n"
   ]
  },
  {
   "cell_type": "code",
   "execution_count": null,
   "metadata": {
    "id": "TJrO7giN0cwk",
    "outputId": "dd925ae6-4537-4a26-f7c2-15abd3bb0b49"
   },
   "outputs": [],
   "source": [
    "# pairplot을 통해 rfm의 데이터 중 무작위로 1000개의 데이터만을 추출해 pairplot을 시각화 합니다.\n",
    "# RFM_class를 통해 데이터를 구분할 수 있습니다.\n"
   ]
  }
 ],
 "metadata": {
  "colab": {
   "collapsed_sections": [],
   "name": "03-clustering.ipynb",
   "provenance": []
  },
  "kernelspec": {
   "display_name": "Python 3",
   "language": "python",
   "name": "python3"
  },
  "language_info": {
   "codemirror_mode": {
    "name": "ipython",
    "version": 3
   },
   "file_extension": ".py",
   "mimetype": "text/x-python",
   "name": "python",
   "nbconvert_exporter": "python",
   "pygments_lexer": "ipython3",
   "version": "3.7.6"
  },
  "toc": {
   "base_numbering": 1,
   "nav_menu": {},
   "number_sections": true,
   "sideBar": true,
   "skip_h1_title": false,
   "title_cell": "Table of Contents",
   "title_sidebar": "Contents",
   "toc_cell": false,
   "toc_position": {},
   "toc_section_display": true,
   "toc_window_display": false
  },
  "varInspector": {
   "cols": {
    "lenName": 16,
    "lenType": 16,
    "lenVar": 40
   },
   "kernels_config": {
    "python": {
     "delete_cmd_postfix": "",
     "delete_cmd_prefix": "del ",
     "library": "var_list.py",
     "varRefreshCmd": "print(var_dic_list())"
    },
    "r": {
     "delete_cmd_postfix": ") ",
     "delete_cmd_prefix": "rm(",
     "library": "var_list.r",
     "varRefreshCmd": "cat(var_dic_list()) "
    }
   },
   "types_to_exclude": [
    "module",
    "function",
    "builtin_function_or_method",
    "instance",
    "_Feature"
   ],
   "window_display": false
  }
 },
 "nbformat": 4,
 "nbformat_minor": 1
}
