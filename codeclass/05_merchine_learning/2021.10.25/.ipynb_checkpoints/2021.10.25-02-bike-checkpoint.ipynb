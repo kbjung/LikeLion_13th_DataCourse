{
 "cells": [
  {
   "cell_type": "code",
   "execution_count": 1,
   "metadata": {
    "_cell_guid": "b1076dfc-b9ad-4769-8c92-a6c4dae69d19",
    "_uuid": "8f2839f25d086af736a60e9eeb907d3b93b6e0e5",
    "execution": {
     "iopub.execute_input": "2021-10-25T05:53:52.613709Z",
     "iopub.status.busy": "2021-10-25T05:53:52.613405Z",
     "iopub.status.idle": "2021-10-25T05:53:52.623798Z",
     "shell.execute_reply": "2021-10-25T05:53:52.622861Z",
     "shell.execute_reply.started": "2021-10-25T05:53:52.613680Z"
    }
   },
   "outputs": [],
   "source": [
    "import numpy as np\n",
    "import pandas as pd"
   ]
  },
  {
   "cell_type": "code",
   "execution_count": 2,
   "metadata": {
    "execution": {
     "iopub.execute_input": "2021-10-25T05:53:52.626497Z",
     "iopub.status.busy": "2021-10-25T05:53:52.625956Z",
     "iopub.status.idle": "2021-10-25T05:53:52.729770Z",
     "shell.execute_reply": "2021-10-25T05:53:52.728892Z",
     "shell.execute_reply.started": "2021-10-25T05:53:52.626453Z"
    }
   },
   "outputs": [
    {
     "data": {
      "text/plain": [
       "((10886, 12), (6493, 9), (6493, 2))"
      ]
     },
     "execution_count": 2,
     "metadata": {},
     "output_type": "execute_result"
    }
   ],
   "source": [
    "train = pd.read_csv('data/train.csv', parse_dates=['datetime'])\n",
    "test = pd.read_csv('data/test.csv', parse_dates=['datetime'])\n",
    "sub = pd.read_csv('data/sampleSubmission.csv')\n",
    "\n",
    "train.shape, test.shape, sub.shape"
   ]
  },
  {
   "cell_type": "code",
   "execution_count": 3,
   "metadata": {
    "execution": {
     "iopub.execute_input": "2021-10-25T05:53:52.731020Z",
     "iopub.status.busy": "2021-10-25T05:53:52.730824Z",
     "iopub.status.idle": "2021-10-25T05:53:52.748296Z",
     "shell.execute_reply": "2021-10-25T05:53:52.747384Z",
     "shell.execute_reply.started": "2021-10-25T05:53:52.730995Z"
    }
   },
   "outputs": [],
   "source": [
    "f_names = ['temp', 'atemp']\n",
    "X_tr_all = train[f_names]         # 학습용 데이터의 변수 선택 \n",
    "last_X_test = test[f_names]       # 테스트 데이터의 변수 선택 \n",
    "y_tr_all = train['count']"
   ]
  },
  {
   "cell_type": "code",
   "execution_count": 4,
   "metadata": {
    "execution": {
     "iopub.execute_input": "2021-10-25T05:53:52.749721Z",
     "iopub.status.busy": "2021-10-25T05:53:52.749384Z",
     "iopub.status.idle": "2021-10-25T05:53:52.823992Z",
     "shell.execute_reply": "2021-10-25T05:53:52.823311Z",
     "shell.execute_reply.started": "2021-10-25T05:53:52.749693Z"
    }
   },
   "outputs": [],
   "source": [
    "from sklearn.model_selection import train_test_split\n",
    "\n",
    "X_train, X_test, y_train, y_test = train_test_split(X_tr_all, \n",
    "                                                    y_tr_all,\n",
    "                                                    test_size=0.3,\n",
    "                                                    random_state=77)"
   ]
  },
  {
   "cell_type": "code",
   "execution_count": 5,
   "metadata": {
    "execution": {
     "iopub.execute_input": "2021-10-25T05:53:52.826297Z",
     "iopub.status.busy": "2021-10-25T05:53:52.825996Z",
     "iopub.status.idle": "2021-10-25T05:53:52.911668Z",
     "shell.execute_reply": "2021-10-25T05:53:52.910899Z",
     "shell.execute_reply.started": "2021-10-25T05:53:52.826263Z"
    }
   },
   "outputs": [],
   "source": [
    "from sklearn.linear_model import LinearRegression"
   ]
  },
  {
   "cell_type": "code",
   "execution_count": 6,
   "metadata": {
    "execution": {
     "iopub.execute_input": "2021-10-25T05:53:52.913786Z",
     "iopub.status.busy": "2021-10-25T05:53:52.913051Z",
     "iopub.status.idle": "2021-10-25T05:53:52.956743Z",
     "shell.execute_reply": "2021-10-25T05:53:52.955860Z",
     "shell.execute_reply.started": "2021-10-25T05:53:52.913748Z"
    }
   },
   "outputs": [
    {
     "name": "stdout",
     "output_type": "stream",
     "text": [
      "학습용 세트 결정계수: 0.159\n",
      "테스트 세트 결정계수: 0.146\n"
     ]
    },
    {
     "data": {
      "text/plain": [
       "array([235.46986679, 151.05560946, 218.26182702, ..., 133.09294136,\n",
       "       151.05560946,  82.34013525])"
      ]
     },
     "execution_count": 6,
     "metadata": {},
     "output_type": "execute_result"
    }
   ],
   "source": [
    "model = LinearRegression()\n",
    "model.fit(X_train, y_train)\n",
    "# 정확도 확인\n",
    "print(\"학습용 세트 결정계수: {:.3f}\".format(model.score(X_train, y_train)))\n",
    "print(\"테스트 세트 결정계수: {:.3f}\".format(model.score(X_test, y_test)))\n",
    "\n",
    "model.predict(X_test)         # 예측(새로운 데이터로)"
   ]
  },
  {
   "cell_type": "markdown",
   "metadata": {
    "execution": {
     "iopub.execute_input": "2021-10-25T01:24:34.566296Z",
     "iopub.status.busy": "2021-10-25T01:24:34.56592Z",
     "iopub.status.idle": "2021-10-25T01:24:34.570665Z",
     "shell.execute_reply": "2021-10-25T01:24:34.569719Z",
     "shell.execute_reply.started": "2021-10-25T01:24:34.56626Z"
    }
   },
   "source": [
    "### 여러개의 변수를 사용해보기\n"
   ]
  },
  {
   "cell_type": "code",
   "execution_count": 7,
   "metadata": {
    "execution": {
     "iopub.execute_input": "2021-10-25T05:53:52.958832Z",
     "iopub.status.busy": "2021-10-25T05:53:52.958263Z",
     "iopub.status.idle": "2021-10-25T05:53:53.016181Z",
     "shell.execute_reply": "2021-10-25T05:53:53.015217Z",
     "shell.execute_reply.started": "2021-10-25T05:53:52.958786Z"
    }
   },
   "outputs": [
    {
     "data": {
      "text/html": [
       "<div>\n",
       "<style scoped>\n",
       "    .dataframe tbody tr th:only-of-type {\n",
       "        vertical-align: middle;\n",
       "    }\n",
       "\n",
       "    .dataframe tbody tr th {\n",
       "        vertical-align: top;\n",
       "    }\n",
       "\n",
       "    .dataframe thead th {\n",
       "        text-align: right;\n",
       "    }\n",
       "</style>\n",
       "<table border=\"1\" class=\"dataframe\">\n",
       "  <thead>\n",
       "    <tr style=\"text-align: right;\">\n",
       "      <th></th>\n",
       "      <th>season</th>\n",
       "      <th>holiday</th>\n",
       "      <th>workingday</th>\n",
       "      <th>weather</th>\n",
       "      <th>temp</th>\n",
       "      <th>atemp</th>\n",
       "      <th>humidity</th>\n",
       "      <th>windspeed</th>\n",
       "      <th>casual</th>\n",
       "      <th>registered</th>\n",
       "      <th>count</th>\n",
       "    </tr>\n",
       "  </thead>\n",
       "  <tbody>\n",
       "    <tr>\n",
       "      <th>season</th>\n",
       "      <td>1.000000</td>\n",
       "      <td>0.029368</td>\n",
       "      <td>-0.008126</td>\n",
       "      <td>0.008879</td>\n",
       "      <td>0.258689</td>\n",
       "      <td>0.264744</td>\n",
       "      <td>0.190610</td>\n",
       "      <td>-0.147121</td>\n",
       "      <td>0.096758</td>\n",
       "      <td>0.164011</td>\n",
       "      <td>0.163439</td>\n",
       "    </tr>\n",
       "    <tr>\n",
       "      <th>holiday</th>\n",
       "      <td>0.029368</td>\n",
       "      <td>1.000000</td>\n",
       "      <td>-0.250491</td>\n",
       "      <td>-0.007074</td>\n",
       "      <td>0.000295</td>\n",
       "      <td>-0.005215</td>\n",
       "      <td>0.001929</td>\n",
       "      <td>0.008409</td>\n",
       "      <td>0.043799</td>\n",
       "      <td>-0.020956</td>\n",
       "      <td>-0.005393</td>\n",
       "    </tr>\n",
       "    <tr>\n",
       "      <th>workingday</th>\n",
       "      <td>-0.008126</td>\n",
       "      <td>-0.250491</td>\n",
       "      <td>1.000000</td>\n",
       "      <td>0.033772</td>\n",
       "      <td>0.029966</td>\n",
       "      <td>0.024660</td>\n",
       "      <td>-0.010880</td>\n",
       "      <td>0.013373</td>\n",
       "      <td>-0.319111</td>\n",
       "      <td>0.119460</td>\n",
       "      <td>0.011594</td>\n",
       "    </tr>\n",
       "    <tr>\n",
       "      <th>weather</th>\n",
       "      <td>0.008879</td>\n",
       "      <td>-0.007074</td>\n",
       "      <td>0.033772</td>\n",
       "      <td>1.000000</td>\n",
       "      <td>-0.055035</td>\n",
       "      <td>-0.055376</td>\n",
       "      <td>0.406244</td>\n",
       "      <td>0.007261</td>\n",
       "      <td>-0.135918</td>\n",
       "      <td>-0.109340</td>\n",
       "      <td>-0.128655</td>\n",
       "    </tr>\n",
       "    <tr>\n",
       "      <th>temp</th>\n",
       "      <td>0.258689</td>\n",
       "      <td>0.000295</td>\n",
       "      <td>0.029966</td>\n",
       "      <td>-0.055035</td>\n",
       "      <td>1.000000</td>\n",
       "      <td>0.984948</td>\n",
       "      <td>-0.064949</td>\n",
       "      <td>-0.017852</td>\n",
       "      <td>0.467097</td>\n",
       "      <td>0.318571</td>\n",
       "      <td>0.394454</td>\n",
       "    </tr>\n",
       "    <tr>\n",
       "      <th>atemp</th>\n",
       "      <td>0.264744</td>\n",
       "      <td>-0.005215</td>\n",
       "      <td>0.024660</td>\n",
       "      <td>-0.055376</td>\n",
       "      <td>0.984948</td>\n",
       "      <td>1.000000</td>\n",
       "      <td>-0.043536</td>\n",
       "      <td>-0.057473</td>\n",
       "      <td>0.462067</td>\n",
       "      <td>0.314635</td>\n",
       "      <td>0.389784</td>\n",
       "    </tr>\n",
       "    <tr>\n",
       "      <th>humidity</th>\n",
       "      <td>0.190610</td>\n",
       "      <td>0.001929</td>\n",
       "      <td>-0.010880</td>\n",
       "      <td>0.406244</td>\n",
       "      <td>-0.064949</td>\n",
       "      <td>-0.043536</td>\n",
       "      <td>1.000000</td>\n",
       "      <td>-0.318607</td>\n",
       "      <td>-0.348187</td>\n",
       "      <td>-0.265458</td>\n",
       "      <td>-0.317371</td>\n",
       "    </tr>\n",
       "    <tr>\n",
       "      <th>windspeed</th>\n",
       "      <td>-0.147121</td>\n",
       "      <td>0.008409</td>\n",
       "      <td>0.013373</td>\n",
       "      <td>0.007261</td>\n",
       "      <td>-0.017852</td>\n",
       "      <td>-0.057473</td>\n",
       "      <td>-0.318607</td>\n",
       "      <td>1.000000</td>\n",
       "      <td>0.092276</td>\n",
       "      <td>0.091052</td>\n",
       "      <td>0.101369</td>\n",
       "    </tr>\n",
       "    <tr>\n",
       "      <th>casual</th>\n",
       "      <td>0.096758</td>\n",
       "      <td>0.043799</td>\n",
       "      <td>-0.319111</td>\n",
       "      <td>-0.135918</td>\n",
       "      <td>0.467097</td>\n",
       "      <td>0.462067</td>\n",
       "      <td>-0.348187</td>\n",
       "      <td>0.092276</td>\n",
       "      <td>1.000000</td>\n",
       "      <td>0.497250</td>\n",
       "      <td>0.690414</td>\n",
       "    </tr>\n",
       "    <tr>\n",
       "      <th>registered</th>\n",
       "      <td>0.164011</td>\n",
       "      <td>-0.020956</td>\n",
       "      <td>0.119460</td>\n",
       "      <td>-0.109340</td>\n",
       "      <td>0.318571</td>\n",
       "      <td>0.314635</td>\n",
       "      <td>-0.265458</td>\n",
       "      <td>0.091052</td>\n",
       "      <td>0.497250</td>\n",
       "      <td>1.000000</td>\n",
       "      <td>0.970948</td>\n",
       "    </tr>\n",
       "    <tr>\n",
       "      <th>count</th>\n",
       "      <td>0.163439</td>\n",
       "      <td>-0.005393</td>\n",
       "      <td>0.011594</td>\n",
       "      <td>-0.128655</td>\n",
       "      <td>0.394454</td>\n",
       "      <td>0.389784</td>\n",
       "      <td>-0.317371</td>\n",
       "      <td>0.101369</td>\n",
       "      <td>0.690414</td>\n",
       "      <td>0.970948</td>\n",
       "      <td>1.000000</td>\n",
       "    </tr>\n",
       "  </tbody>\n",
       "</table>\n",
       "</div>"
      ],
      "text/plain": [
       "              season   holiday  workingday   weather      temp     atemp  \\\n",
       "season      1.000000  0.029368   -0.008126  0.008879  0.258689  0.264744   \n",
       "holiday     0.029368  1.000000   -0.250491 -0.007074  0.000295 -0.005215   \n",
       "workingday -0.008126 -0.250491    1.000000  0.033772  0.029966  0.024660   \n",
       "weather     0.008879 -0.007074    0.033772  1.000000 -0.055035 -0.055376   \n",
       "temp        0.258689  0.000295    0.029966 -0.055035  1.000000  0.984948   \n",
       "atemp       0.264744 -0.005215    0.024660 -0.055376  0.984948  1.000000   \n",
       "humidity    0.190610  0.001929   -0.010880  0.406244 -0.064949 -0.043536   \n",
       "windspeed  -0.147121  0.008409    0.013373  0.007261 -0.017852 -0.057473   \n",
       "casual      0.096758  0.043799   -0.319111 -0.135918  0.467097  0.462067   \n",
       "registered  0.164011 -0.020956    0.119460 -0.109340  0.318571  0.314635   \n",
       "count       0.163439 -0.005393    0.011594 -0.128655  0.394454  0.389784   \n",
       "\n",
       "            humidity  windspeed    casual  registered     count  \n",
       "season      0.190610  -0.147121  0.096758    0.164011  0.163439  \n",
       "holiday     0.001929   0.008409  0.043799   -0.020956 -0.005393  \n",
       "workingday -0.010880   0.013373 -0.319111    0.119460  0.011594  \n",
       "weather     0.406244   0.007261 -0.135918   -0.109340 -0.128655  \n",
       "temp       -0.064949  -0.017852  0.467097    0.318571  0.394454  \n",
       "atemp      -0.043536  -0.057473  0.462067    0.314635  0.389784  \n",
       "humidity    1.000000  -0.318607 -0.348187   -0.265458 -0.317371  \n",
       "windspeed  -0.318607   1.000000  0.092276    0.091052  0.101369  \n",
       "casual     -0.348187   0.092276  1.000000    0.497250  0.690414  \n",
       "registered -0.265458   0.091052  0.497250    1.000000  0.970948  \n",
       "count      -0.317371   0.101369  0.690414    0.970948  1.000000  "
      ]
     },
     "execution_count": 7,
     "metadata": {},
     "output_type": "execute_result"
    }
   ],
   "source": [
    "train.corr()"
   ]
  },
  {
   "cell_type": "code",
   "execution_count": 8,
   "metadata": {
    "execution": {
     "iopub.execute_input": "2021-10-25T05:53:53.025370Z",
     "iopub.status.busy": "2021-10-25T05:53:53.022271Z",
     "iopub.status.idle": "2021-10-25T05:53:53.038337Z",
     "shell.execute_reply": "2021-10-25T05:53:53.037180Z",
     "shell.execute_reply.started": "2021-10-25T05:53:53.025299Z"
    }
   },
   "outputs": [],
   "source": [
    "f_names = ['season', 'holiday', 'workingday', 'weather', 'temp', 'atemp', 'humidity', 'windspeed']\n",
    "X_tr_all = train[f_names]         # 학습용 데이터의 변수 선택 \n",
    "last_X_test = test[f_names]       # 테스트 데이터의 변수 선택 \n",
    "\n",
    "y_tr_all = train['count']"
   ]
  },
  {
   "cell_type": "code",
   "execution_count": 9,
   "metadata": {
    "execution": {
     "iopub.execute_input": "2021-10-25T05:53:53.048419Z",
     "iopub.status.busy": "2021-10-25T05:53:53.045233Z",
     "iopub.status.idle": "2021-10-25T05:53:53.064158Z",
     "shell.execute_reply": "2021-10-25T05:53:53.062734Z",
     "shell.execute_reply.started": "2021-10-25T05:53:53.048348Z"
    }
   },
   "outputs": [],
   "source": [
    "from sklearn.model_selection import train_test_split\n",
    "\n",
    "X_train, X_test, y_train, y_test = train_test_split(X_tr_all, y_tr_all, test_size=0.3, random_state=77)"
   ]
  },
  {
   "cell_type": "code",
   "execution_count": 10,
   "metadata": {
    "execution": {
     "iopub.execute_input": "2021-10-25T05:53:53.070958Z",
     "iopub.status.busy": "2021-10-25T05:53:53.069086Z",
     "iopub.status.idle": "2021-10-25T05:53:53.095795Z",
     "shell.execute_reply": "2021-10-25T05:53:53.094669Z",
     "shell.execute_reply.started": "2021-10-25T05:53:53.070915Z"
    }
   },
   "outputs": [
    {
     "name": "stdout",
     "output_type": "stream",
     "text": [
      "학습용 세트 정확도: 0.262\n",
      "테스트 세트 정확도: 0.257\n"
     ]
    }
   ],
   "source": [
    "model = LinearRegression()\n",
    "model.fit(X_train, y_train)\n",
    "# 정확도 확인\n",
    "print(\"학습용 세트 정확도: {:.3f}\".format(model.score(X_train, y_train)))\n",
    "print(\"테스트 세트 정확도: {:.3f}\".format(model.score(X_test, y_test)))"
   ]
  },
  {
   "cell_type": "code",
   "execution_count": 11,
   "metadata": {
    "execution": {
     "iopub.execute_input": "2021-10-25T05:53:53.104785Z",
     "iopub.status.busy": "2021-10-25T05:53:53.101756Z",
     "iopub.status.idle": "2021-10-25T05:53:53.210070Z",
     "shell.execute_reply": "2021-10-25T05:53:53.209125Z",
     "shell.execute_reply.started": "2021-10-25T05:53:53.104719Z"
    }
   },
   "outputs": [
    {
     "data": {
      "text/html": [
       "<div>\n",
       "<style scoped>\n",
       "    .dataframe tbody tr th:only-of-type {\n",
       "        vertical-align: middle;\n",
       "    }\n",
       "\n",
       "    .dataframe tbody tr th {\n",
       "        vertical-align: top;\n",
       "    }\n",
       "\n",
       "    .dataframe thead th {\n",
       "        text-align: right;\n",
       "    }\n",
       "</style>\n",
       "<table border=\"1\" class=\"dataframe\">\n",
       "  <thead>\n",
       "    <tr style=\"text-align: right;\">\n",
       "      <th></th>\n",
       "      <th>훈련:테스트</th>\n",
       "      <th>train_score</th>\n",
       "      <th>test_score</th>\n",
       "    </tr>\n",
       "  </thead>\n",
       "  <tbody>\n",
       "    <tr>\n",
       "      <th>0</th>\n",
       "      <td>9:1</td>\n",
       "      <td>0.262330</td>\n",
       "      <td>0.246045</td>\n",
       "    </tr>\n",
       "    <tr>\n",
       "      <th>1</th>\n",
       "      <td>8:2</td>\n",
       "      <td>0.263240</td>\n",
       "      <td>0.249909</td>\n",
       "    </tr>\n",
       "    <tr>\n",
       "      <th>2</th>\n",
       "      <td>7:3</td>\n",
       "      <td>0.262026</td>\n",
       "      <td>0.256776</td>\n",
       "    </tr>\n",
       "    <tr>\n",
       "      <th>3</th>\n",
       "      <td>6:4</td>\n",
       "      <td>0.267504</td>\n",
       "      <td>0.248669</td>\n",
       "    </tr>\n",
       "    <tr>\n",
       "      <th>4</th>\n",
       "      <td>5:5</td>\n",
       "      <td>0.272523</td>\n",
       "      <td>0.247395</td>\n",
       "    </tr>\n",
       "  </tbody>\n",
       "</table>\n",
       "</div>"
      ],
      "text/plain": [
       "  훈련:테스트  train_score  test_score\n",
       "0    9:1     0.262330    0.246045\n",
       "1    8:2     0.263240    0.249909\n",
       "2    7:3     0.262026    0.256776\n",
       "3    6:4     0.267504    0.248669\n",
       "4    5:5     0.272523    0.247395"
      ]
     },
     "execution_count": 11,
     "metadata": {},
     "output_type": "execute_result"
    }
   ],
   "source": [
    "# 2-5 (추가) 7:3, 8:2, 9:1 결정계수 확인해 보기.\n",
    "from sklearn.model_selection import train_test_split\n",
    "\n",
    "train_list = []\n",
    "test_list = []\n",
    "num_list = []\n",
    "for i in range(1,6):\n",
    "    X_train, X_test, y_train, y_test = train_test_split(X_tr_all, y_tr_all, test_size=(i/10), random_state=77)\n",
    "    model = LinearRegression()\n",
    "    model.fit(X_train, y_train)\n",
    "    s1 = model.score(X_train, y_train)\n",
    "    s2 = model.score(X_test, y_test)\n",
    "    train_list.append(s1)\n",
    "    test_list.append(s2)\n",
    "    num_list.append(f\"{10-i}:{i}\")\n",
    "df = pd.DataFrame({'훈련:테스트':num_list,'train_score':train_list, 'test_score':test_list})\n",
    "df"
   ]
  },
  {
   "cell_type": "code",
   "execution_count": 12,
   "metadata": {
    "execution": {
     "iopub.execute_input": "2021-10-25T05:53:53.218568Z",
     "iopub.status.busy": "2021-10-25T05:53:53.215769Z",
     "iopub.status.idle": "2021-10-25T05:53:53.226142Z",
     "shell.execute_reply": "2021-10-25T05:53:53.225164Z",
     "shell.execute_reply.started": "2021-10-25T05:53:53.218506Z"
    }
   },
   "outputs": [],
   "source": [
    "###\n",
    "from sklearn.preprocessing import MinMaxScaler\n",
    "from sklearn.preprocessing import PolynomialFeatures"
   ]
  },
  {
   "cell_type": "code",
   "execution_count": 13,
   "metadata": {
    "execution": {
     "iopub.execute_input": "2021-10-25T05:53:53.235214Z",
     "iopub.status.busy": "2021-10-25T05:53:53.232035Z",
     "iopub.status.idle": "2021-10-25T05:53:53.245723Z",
     "shell.execute_reply": "2021-10-25T05:53:53.244682Z",
     "shell.execute_reply.started": "2021-10-25T05:53:53.235141Z"
    }
   },
   "outputs": [],
   "source": [
    "f_names = ['season', 'holiday', 'workingday', 'weather', 'temp', 'atemp', \n",
    "           'humidity', 'windspeed']\n",
    "X_tr_all = train[f_names]         # 학습용 데이터의 변수 선택"
   ]
  },
  {
   "cell_type": "code",
   "execution_count": 14,
   "metadata": {
    "execution": {
     "iopub.execute_input": "2021-10-25T05:53:53.259118Z",
     "iopub.status.busy": "2021-10-25T05:53:53.255866Z",
     "iopub.status.idle": "2021-10-25T05:53:53.278992Z",
     "shell.execute_reply": "2021-10-25T05:53:53.277212Z",
     "shell.execute_reply.started": "2021-10-25T05:53:53.259047Z"
    }
   },
   "outputs": [],
   "source": [
    "scaler = MinMaxScaler().fit(X_tr_all)\n",
    "nor_X_tr_all = scaler.transform(X_tr_all)\n",
    "X_test_all = test[f_names]\n",
    "\n",
    "y_tr_all = train['count']"
   ]
  },
  {
   "cell_type": "code",
   "execution_count": 15,
   "metadata": {
    "execution": {
     "iopub.execute_input": "2021-10-25T05:53:53.289120Z",
     "iopub.status.busy": "2021-10-25T05:53:53.286060Z",
     "iopub.status.idle": "2021-10-25T05:53:53.301767Z",
     "shell.execute_reply": "2021-10-25T05:53:53.300701Z",
     "shell.execute_reply.started": "2021-10-25T05:53:53.289052Z"
    }
   },
   "outputs": [],
   "source": [
    "X_train, X_test, y_train, y_test = train_test_split(nor_X_tr_all, y_tr_all, test_size=0.3, random_state=77)"
   ]
  },
  {
   "cell_type": "code",
   "execution_count": 16,
   "metadata": {
    "execution": {
     "iopub.execute_input": "2021-10-25T05:53:53.311732Z",
     "iopub.status.busy": "2021-10-25T05:53:53.308496Z",
     "iopub.status.idle": "2021-10-25T05:53:53.330235Z",
     "shell.execute_reply": "2021-10-25T05:53:53.329247Z",
     "shell.execute_reply.started": "2021-10-25T05:53:53.311664Z"
    }
   },
   "outputs": [
    {
     "name": "stdout",
     "output_type": "stream",
     "text": [
      "학습용 세트 정확도: 0.262\n",
      "테스트 세트 정확도: 0.257\n"
     ]
    }
   ],
   "source": [
    "model = LinearRegression()\n",
    "model.fit(X_train, y_train)\n",
    "# 정확도 확인\n",
    "print(\"학습용 세트 정확도: {:.3f}\".format(model.score(X_train, y_train)))\n",
    "print(\"테스트 세트 정확도: {:.3f}\".format(model.score(X_test, y_test)))"
   ]
  },
  {
   "cell_type": "code",
   "execution_count": 17,
   "metadata": {
    "execution": {
     "iopub.execute_input": "2021-10-25T05:53:53.332294Z",
     "iopub.status.busy": "2021-10-25T05:53:53.331769Z",
     "iopub.status.idle": "2021-10-25T05:53:53.336839Z",
     "shell.execute_reply": "2021-10-25T05:53:53.335875Z",
     "shell.execute_reply.started": "2021-10-25T05:53:53.332246Z"
    }
   },
   "outputs": [],
   "source": [
    "from sklearn.linear_model import Lasso, Ridge"
   ]
  },
  {
   "cell_type": "code",
   "execution_count": 18,
   "metadata": {
    "execution": {
     "iopub.execute_input": "2021-10-25T05:53:53.339143Z",
     "iopub.status.busy": "2021-10-25T05:53:53.338620Z",
     "iopub.status.idle": "2021-10-25T05:53:53.371028Z",
     "shell.execute_reply": "2021-10-25T05:53:53.370207Z",
     "shell.execute_reply.started": "2021-10-25T05:53:53.339098Z"
    }
   },
   "outputs": [
    {
     "name": "stdout",
     "output_type": "stream",
     "text": [
      "학습용 세트 정확도: 0.258\n",
      "테스트 세트 정확도: 0.254\n"
     ]
    }
   ],
   "source": [
    "model = Lasso()\n",
    "model.fit(X_train, y_train)\n",
    "# 정확도 확인\n",
    "print(\"학습용 세트 정확도: {:.3f}\".format(model.score(X_train, y_train)))\n",
    "print(\"테스트 세트 정확도: {:.3f}\".format(model.score(X_test, y_test)))"
   ]
  },
  {
   "cell_type": "code",
   "execution_count": 19,
   "metadata": {
    "execution": {
     "iopub.execute_input": "2021-10-25T05:53:53.373061Z",
     "iopub.status.busy": "2021-10-25T05:53:53.372569Z",
     "iopub.status.idle": "2021-10-25T05:53:53.392289Z",
     "shell.execute_reply": "2021-10-25T05:53:53.391436Z",
     "shell.execute_reply.started": "2021-10-25T05:53:53.373015Z"
    }
   },
   "outputs": [
    {
     "name": "stdout",
     "output_type": "stream",
     "text": [
      "학습용 세트 정확도: 0.262\n",
      "테스트 세트 정확도: 0.257\n"
     ]
    }
   ],
   "source": [
    "model = Ridge()\n",
    "model.fit(X_train, y_train)\n",
    "# 정확도 확인\n",
    "print(\"학습용 세트 정확도: {:.3f}\".format(model.score(X_train, y_train)))\n",
    "print(\"테스트 세트 정확도: {:.3f}\".format(model.score(X_test, y_test)))"
   ]
  },
  {
   "cell_type": "code",
   "execution_count": 20,
   "metadata": {
    "execution": {
     "iopub.execute_input": "2021-10-25T05:53:53.394326Z",
     "iopub.status.busy": "2021-10-25T05:53:53.393810Z",
     "iopub.status.idle": "2021-10-25T05:53:54.291649Z",
     "shell.execute_reply": "2021-10-25T05:53:54.290864Z",
     "shell.execute_reply.started": "2021-10-25T05:53:53.394279Z"
    }
   },
   "outputs": [
    {
     "data": {
      "text/plain": [
       "<AxesSubplot:>"
      ]
     },
     "execution_count": 20,
     "metadata": {},
     "output_type": "execute_result"
    },
    {
     "data": {
      "image/png": "[encoded data removed]",
      "text/plain": [
       "<Figure size 432x288 with 1 Axes>"
      ]
     },
     "metadata": {
      "needs_background": "light"
     },
     "output_type": "display_data"
    }
   ],
   "source": [
    "import seaborn as sns\n",
    "sns.heatmap(X_tr_all.corr(), annot=True, fmt=\".3f\", cbar=False)"
   ]
  },
  {
   "cell_type": "code",
   "execution_count": 21,
   "metadata": {
    "execution": {
     "iopub.execute_input": "2021-10-25T05:53:54.293494Z",
     "iopub.status.busy": "2021-10-25T05:53:54.292731Z",
     "iopub.status.idle": "2021-10-25T05:53:54.297143Z",
     "shell.execute_reply": "2021-10-25T05:53:54.296530Z",
     "shell.execute_reply.started": "2021-10-25T05:53:54.293453Z"
    }
   },
   "outputs": [],
   "source": [
    "# 상관관계가 높은 특성들은 모델 훈련시 최대한 제외한다.(예. temp, atemp)"
   ]
  },
  {
   "cell_type": "code",
   "execution_count": 22,
   "metadata": {
    "execution": {
     "iopub.execute_input": "2021-10-25T05:53:54.299042Z",
     "iopub.status.busy": "2021-10-25T05:53:54.298207Z",
     "iopub.status.idle": "2021-10-25T05:53:54.323411Z",
     "shell.execute_reply": "2021-10-25T05:53:54.322452Z",
     "shell.execute_reply.started": "2021-10-25T05:53:54.299002Z"
    }
   },
   "outputs": [
    {
     "name": "stdout",
     "output_type": "stream",
     "text": [
      "원래 데이터 :  (10886, 8)\n",
      "정규화, 추가 생성 :  (10886, 44) (10886,)\n",
      "<class 'pandas.core.frame.DataFrame'> <class 'numpy.ndarray'>\n"
     ]
    }
   ],
   "source": [
    "print(\"원래 데이터 : \", X_tr_all.shape)\n",
    "\n",
    "nor_X = MinMaxScaler().fit_transform(X_tr_all)  # 입력 데이터 정규화\n",
    "ex_X = PolynomialFeatures(degree=2, include_bias=False).fit_transform(nor_X)  # 데이터 feature 추가 생성\n",
    "\n",
    "print(\"정규화, 추가 생성 : \", ex_X.shape, y_tr_all.shape)\n",
    "print(type(X_tr_all), type(ex_X))"
   ]
  },
  {
   "cell_type": "code",
   "execution_count": 23,
   "metadata": {
    "execution": {
     "iopub.execute_input": "2021-10-25T05:53:54.324859Z",
     "iopub.status.busy": "2021-10-25T05:53:54.324618Z",
     "iopub.status.idle": "2021-10-25T05:53:54.335546Z",
     "shell.execute_reply": "2021-10-25T05:53:54.334532Z",
     "shell.execute_reply.started": "2021-10-25T05:53:54.324830Z"
    }
   },
   "outputs": [],
   "source": [
    "X_train, X_test, y_train, y_test = train_test_split(ex_X, \n",
    "                                                    y_tr_all,\n",
    "                                                    test_size=0.3,\n",
    "                                                    random_state=77)"
   ]
  },
  {
   "cell_type": "code",
   "execution_count": 24,
   "metadata": {
    "execution": {
     "iopub.execute_input": "2021-10-25T05:53:54.337014Z",
     "iopub.status.busy": "2021-10-25T05:53:54.336688Z",
     "iopub.status.idle": "2021-10-25T05:53:54.345386Z",
     "shell.execute_reply": "2021-10-25T05:53:54.344361Z",
     "shell.execute_reply.started": "2021-10-25T05:53:54.336972Z"
    }
   },
   "outputs": [],
   "source": [
    "model_list = [LinearRegression(), Ridge(), Lasso()]"
   ]
  },
  {
   "cell_type": "code",
   "execution_count": 25,
   "metadata": {
    "execution": {
     "iopub.execute_input": "2021-10-25T05:53:54.349836Z",
     "iopub.status.busy": "2021-10-25T05:53:54.349066Z",
     "iopub.status.idle": "2021-10-25T05:53:54.440639Z",
     "shell.execute_reply": "2021-10-25T05:53:54.439643Z",
     "shell.execute_reply.started": "2021-10-25T05:53:54.349793Z"
    }
   },
   "outputs": [
    {
     "name": "stdout",
     "output_type": "stream",
     "text": [
      "모델 :  LinearRegression()\n",
      "학습용 세트 정확도: 0.307\n",
      "테스트 세트 정확도: 0.306\n",
      "\n",
      "모델 :  Ridge()\n",
      "학습용 세트 정확도: 0.302\n",
      "테스트 세트 정확도: 0.304\n",
      "\n",
      "모델 :  Lasso()\n",
      "학습용 세트 정확도: 0.264\n",
      "테스트 세트 정확도: 0.260\n",
      "\n"
     ]
    }
   ],
   "source": [
    "for model in model_list:\n",
    "    model.fit(X_train, y_train)\n",
    "    \n",
    "    print(\"모델 : \", model)\n",
    "    # 정확도 확인\n",
    "    print(\"학습용 세트 정확도: {:.3f}\".format(model.score(X_train, y_train)))\n",
    "    print(\"테스트 세트 정확도: {:.3f}\".format(model.score(X_test, y_test)))\n",
    "    print()"
   ]
  },
  {
   "cell_type": "code",
   "execution_count": 26,
   "metadata": {
    "execution": {
     "iopub.execute_input": "2021-10-25T05:53:54.442918Z",
     "iopub.status.busy": "2021-10-25T05:53:54.442312Z",
     "iopub.status.idle": "2021-10-25T05:53:55.943973Z",
     "shell.execute_reply": "2021-10-25T05:53:55.942957Z",
     "shell.execute_reply.started": "2021-10-25T05:53:54.442864Z"
    }
   },
   "outputs": [
    {
     "name": "stdout",
     "output_type": "stream",
     "text": [
      "모델 :  KNeighborsRegressor()\n",
      "학습용 세트 정확도: 0.533\n",
      "테스트 세트 정확도: 0.302\n",
      "\n",
      "모델 :  LinearRegression()\n",
      "학습용 세트 정확도: 0.307\n",
      "테스트 세트 정확도: 0.306\n",
      "\n",
      "모델 :  Ridge()\n",
      "학습용 세트 정확도: 0.302\n",
      "테스트 세트 정확도: 0.304\n",
      "\n",
      "모델 :  Lasso()\n",
      "학습용 세트 정확도: 0.264\n",
      "테스트 세트 정확도: 0.260\n",
      "\n"
     ]
    }
   ],
   "source": [
    "# 3-2 (추가) knn 모델 추가(knn모델의 결정계수 값은?- 댓글)\n",
    "from sklearn.neighbors import KNeighborsRegressor\n",
    "model_list = [KNeighborsRegressor(), LinearRegression(), Ridge(), Lasso()]\n",
    "for model in model_list:\n",
    "    model.fit(X_train, y_train)\n",
    "    \n",
    "    print(\"모델 : \", model)\n",
    "    # 정확도 확인\n",
    "    print(\"학습용 세트 정확도: {:.3f}\".format(model.score(X_train, y_train)))\n",
    "    print(\"테스트 세트 정확도: {:.3f}\".format(model.score(X_test, y_test)))\n",
    "    print()"
   ]
  },
  {
   "cell_type": "code",
   "execution_count": 27,
   "metadata": {
    "execution": {
     "iopub.execute_input": "2021-10-25T05:53:55.953128Z",
     "iopub.status.busy": "2021-10-25T05:53:55.950103Z",
     "iopub.status.idle": "2021-10-25T05:53:55.994620Z",
     "shell.execute_reply": "2021-10-25T05:53:55.993446Z",
     "shell.execute_reply.started": "2021-10-25T05:53:55.953058Z"
    }
   },
   "outputs": [],
   "source": [
    "# 최종 모델 확인\n",
    "model = LinearRegression()\n",
    "model.fit(X_train, y_train)\n",
    "scaler = MinMaxScaler().fit(X_tr_all)\n",
    "nor_X_test_all = scaler.transform(X_test_all)\n",
    "ex_X = PolynomialFeatures(degree=2, include_bias=False).fit_transform(nor_X_test_all)"
   ]
  },
  {
   "cell_type": "code",
   "execution_count": 28,
   "metadata": {
    "execution": {
     "iopub.execute_input": "2021-10-25T05:53:56.004968Z",
     "iopub.status.busy": "2021-10-25T05:53:56.001524Z",
     "iopub.status.idle": "2021-10-25T05:53:56.019775Z",
     "shell.execute_reply": "2021-10-25T05:53:56.018376Z",
     "shell.execute_reply.started": "2021-10-25T05:53:56.004887Z"
    }
   },
   "outputs": [],
   "source": [
    "# kaggle에서 음수값은 오류 발생. 음수를 0으로 만든다.\n",
    "pred = model.predict(ex_X)\n",
    "sub['count'] = pred\n",
    "sub.loc[sub['count']<0, 'count'] = 0"
   ]
  },
  {
   "cell_type": "code",
   "execution_count": 29,
   "metadata": {
    "execution": {
     "iopub.execute_input": "2021-10-25T05:53:56.030570Z",
     "iopub.status.busy": "2021-10-25T05:53:56.027387Z",
     "iopub.status.idle": "2021-10-25T05:53:56.095656Z",
     "shell.execute_reply": "2021-10-25T05:53:56.094655Z",
     "shell.execute_reply.started": "2021-10-25T05:53:56.030497Z"
    }
   },
   "outputs": [],
   "source": [
    "sub.to_csv(\"pre_sub.csv\", index=False)"
   ]
  },
  {
   "cell_type": "code",
   "execution_count": 30,
   "metadata": {
    "execution": {
     "iopub.execute_input": "2021-10-25T05:54:26.987527Z",
     "iopub.status.busy": "2021-10-25T05:54:26.987161Z",
     "iopub.status.idle": "2021-10-25T05:54:26.999604Z",
     "shell.execute_reply": "2021-10-25T05:54:26.998930Z",
     "shell.execute_reply.started": "2021-10-25T05:54:26.987489Z"
    }
   },
   "outputs": [],
   "source": [
    "from sklearn.preprocessing import MinMaxScaler, PolynomialFeatures\n",
    "scaler = MinMaxScaler().fit(X_tr_all)\n",
    "\n",
    "nor_X_tr_all = scaler.transform(X_tr_all)\n",
    "ex_X_tr = PolynomialFeatures(degree=1, include_bias=False).fit_transform(nor_X_tr_all)\n",
    "\n",
    "y_tr_all = train['count']"
   ]
  },
  {
   "cell_type": "code",
   "execution_count": 31,
   "metadata": {
    "execution": {
     "iopub.execute_input": "2021-10-25T05:54:28.921033Z",
     "iopub.status.busy": "2021-10-25T05:54:28.920538Z",
     "iopub.status.idle": "2021-10-25T05:54:28.927496Z",
     "shell.execute_reply": "2021-10-25T05:54:28.926504Z",
     "shell.execute_reply.started": "2021-10-25T05:54:28.920995Z"
    }
   },
   "outputs": [],
   "source": [
    "X_train, X_test, y_train, y_test = train_test_split(ex_X_tr, \n",
    "                                                    y_tr_all,\n",
    "                                                    test_size=0.3,\n",
    "                                                    random_state=77)"
   ]
  },
  {
   "cell_type": "code",
   "execution_count": 32,
   "metadata": {
    "execution": {
     "iopub.execute_input": "2021-10-25T05:54:31.361721Z",
     "iopub.status.busy": "2021-10-25T05:54:31.361416Z",
     "iopub.status.idle": "2021-10-25T05:54:31.369724Z",
     "shell.execute_reply": "2021-10-25T05:54:31.368785Z",
     "shell.execute_reply.started": "2021-10-25T05:54:31.361687Z"
    }
   },
   "outputs": [],
   "source": [
    "nor_X_test_all = scaler.transform(X_test_all)\n",
    "ex_X_test = PolynomialFeatures(degree=1, include_bias=False).fit_transform(nor_X_test_all)"
   ]
  },
  {
   "cell_type": "code",
   "execution_count": 33,
   "metadata": {
    "execution": {
     "iopub.execute_input": "2021-10-25T05:54:33.072178Z",
     "iopub.status.busy": "2021-10-25T05:54:33.071345Z",
     "iopub.status.idle": "2021-10-25T05:54:33.772222Z",
     "shell.execute_reply": "2021-10-25T05:54:33.771256Z",
     "shell.execute_reply.started": "2021-10-25T05:54:33.072131Z"
    }
   },
   "outputs": [],
   "source": [
    "# 3-3 (추가) 앙상블 모델 추가.(댓글로 제출 점수 확인)\n",
    "from sklearn.ensemble import RandomForestRegressor\n",
    "rf = RandomForestRegressor(max_depth=4, random_state=0)\n",
    "rf.fit(X_train, y_train)\n",
    "pred = rf.predict(ex_X_test)\n",
    "sub['count'] = pred\n",
    "sub.loc[sub['count']<0, 'count'] = 0\n",
    "sub.to_csv('bike3.csv', index=False)"
   ]
  },
  {
   "cell_type": "code",
   "execution_count": null,
   "metadata": {},
   "outputs": [],
   "source": []
  }
 ],
 "metadata": {
  "kernelspec": {
   "display_name": "Python 3",
   "language": "python",
   "name": "python3"
  },
  "language_info": {
   "codemirror_mode": {
    "name": "ipython",
    "version": 3
   },
   "file_extension": ".py",
   "mimetype": "text/x-python",
   "name": "python",
   "nbconvert_exporter": "python",
   "pygments_lexer": "ipython3",
   "version": "3.8.8"
  }
 },
 "nbformat": 4,
 "nbformat_minor": 4
}
