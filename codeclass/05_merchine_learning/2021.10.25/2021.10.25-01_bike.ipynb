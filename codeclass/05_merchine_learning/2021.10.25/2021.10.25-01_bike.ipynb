{
 "cells": [
  {
   "cell_type": "code",
   "execution_count": null,
   "metadata": {
    "_cell_guid": "b1076dfc-b9ad-4769-8c92-a6c4dae69d19",
    "_uuid": "8f2839f25d086af736a60e9eeb907d3b93b6e0e5",
    "execution": {
     "iopub.execute_input": "2021-10-25T00:15:01.885099Z",
     "iopub.status.busy": "2021-10-25T00:15:01.884656Z",
     "iopub.status.idle": "2021-10-25T00:15:01.91618Z",
     "shell.execute_reply": "2021-10-25T00:15:01.915286Z",
     "shell.execute_reply.started": "2021-10-25T00:15:01.885001Z"
    }
   },
   "outputs": [],
   "source": [
    "# This Python 3 environment comes with many helpful analytics libraries installed\n",
    "# It is defined by the kaggle/python Docker image: https://github.com/kaggle/docker-python\n",
    "# For example, here's several helpful packages to load\n",
    "\n",
    "import numpy as np # linear algebra\n",
    "import pandas as pd # data processing, CSV file I/O (e.g. pd.read_csv)\n",
    "\n",
    "# Input data files are available in the read-only \"../input/\" directory\n",
    "# For example, running this (by clicking run or pressing Shift+Enter) will list all files under the input directory\n",
    "\n",
    "import os\n",
    "for dirname, _, filenames in os.walk('/kaggle/input'):\n",
    "    for filename in filenames:\n",
    "        print(os.path.join(dirname, filename))\n",
    "\n",
    "# You can write up to 20GB to the current directory (/kaggle/working/) that gets preserved as output when you create a version using \"Save & Run All\" \n",
    "# You can also write temporary files to /kaggle/temp/, but they won't be saved outside of the current session"
   ]
  },
  {
   "cell_type": "code",
   "execution_count": null,
   "metadata": {
    "execution": {
     "iopub.execute_input": "2021-10-25T00:30:51.157345Z",
     "iopub.status.busy": "2021-10-25T00:30:51.155768Z",
     "iopub.status.idle": "2021-10-25T00:30:51.277298Z",
     "shell.execute_reply": "2021-10-25T00:30:51.276342Z",
     "shell.execute_reply.started": "2021-10-25T00:30:51.157168Z"
    }
   },
   "outputs": [],
   "source": [
    "train = pd.read_csv('/kaggle/input/bike-sharing-demand/train.csv', parse_dates=['datetime'])\n",
    "test = pd.read_csv('/kaggle/input/bike-sharing-demand/test.csv', parse_dates=['datetime'])\n",
    "sub = pd.read_csv('/kaggle/input/bike-sharing-demand/sampleSubmission.csv')"
   ]
  },
  {
   "cell_type": "code",
   "execution_count": null,
   "metadata": {
    "execution": {
     "iopub.execute_input": "2021-10-25T00:31:03.650105Z",
     "iopub.status.busy": "2021-10-25T00:31:03.649817Z",
     "iopub.status.idle": "2021-10-25T00:31:03.656914Z",
     "shell.execute_reply": "2021-10-25T00:31:03.655902Z",
     "shell.execute_reply.started": "2021-10-25T00:31:03.650068Z"
    }
   },
   "outputs": [],
   "source": [
    "train.shape, test.shape, sub.shape"
   ]
  },
  {
   "cell_type": "code",
   "execution_count": null,
   "metadata": {
    "execution": {
     "iopub.execute_input": "2021-10-25T00:35:15.008967Z",
     "iopub.status.busy": "2021-10-25T00:35:15.00861Z",
     "iopub.status.idle": "2021-10-25T00:35:15.045577Z",
     "shell.execute_reply": "2021-10-25T00:35:15.044928Z",
     "shell.execute_reply.started": "2021-10-25T00:35:15.008932Z"
    }
   },
   "outputs": [],
   "source": [
    "train.info()"
   ]
  },
  {
   "cell_type": "code",
   "execution_count": null,
   "metadata": {
    "execution": {
     "iopub.execute_input": "2021-10-25T00:36:15.233762Z",
     "iopub.status.busy": "2021-10-25T00:36:15.232895Z",
     "iopub.status.idle": "2021-10-25T00:36:15.259577Z",
     "shell.execute_reply": "2021-10-25T00:36:15.258687Z",
     "shell.execute_reply.started": "2021-10-25T00:36:15.233725Z"
    }
   },
   "outputs": [],
   "source": [
    "train.head()"
   ]
  },
  {
   "cell_type": "code",
   "execution_count": null,
   "metadata": {
    "execution": {
     "iopub.execute_input": "2021-10-25T00:37:51.727358Z",
     "iopub.status.busy": "2021-10-25T00:37:51.726516Z",
     "iopub.status.idle": "2021-10-25T00:37:51.756846Z",
     "shell.execute_reply": "2021-10-25T00:37:51.756226Z",
     "shell.execute_reply.started": "2021-10-25T00:37:51.727311Z"
    }
   },
   "outputs": [],
   "source": [
    "train.corr()"
   ]
  },
  {
   "cell_type": "code",
   "execution_count": null,
   "metadata": {
    "execution": {
     "iopub.execute_input": "2021-10-25T00:39:21.352277Z",
     "iopub.status.busy": "2021-10-25T00:39:21.351928Z",
     "iopub.status.idle": "2021-10-25T00:39:21.362413Z",
     "shell.execute_reply": "2021-10-25T00:39:21.361649Z",
     "shell.execute_reply.started": "2021-10-25T00:39:21.352238Z"
    }
   },
   "outputs": [],
   "source": [
    "sel = ['temp','atemp']\n",
    "X_train = train[sel]\n",
    "X_test = test[sel]\n",
    "y_train = train['count']"
   ]
  },
  {
   "cell_type": "code",
   "execution_count": null,
   "metadata": {
    "execution": {
     "iopub.execute_input": "2021-10-25T00:42:03.942558Z",
     "iopub.status.busy": "2021-10-25T00:42:03.942229Z",
     "iopub.status.idle": "2021-10-25T00:42:05.019082Z",
     "shell.execute_reply": "2021-10-25T00:42:05.018015Z",
     "shell.execute_reply.started": "2021-10-25T00:42:03.942524Z"
    }
   },
   "outputs": [],
   "source": [
    "from sklearn.linear_model import LinearRegression"
   ]
  },
  {
   "cell_type": "code",
   "execution_count": null,
   "metadata": {
    "execution": {
     "iopub.execute_input": "2021-10-25T00:43:14.029192Z",
     "iopub.status.busy": "2021-10-25T00:43:14.028878Z",
     "iopub.status.idle": "2021-10-25T00:43:14.06065Z",
     "shell.execute_reply": "2021-10-25T00:43:14.059724Z",
     "shell.execute_reply.started": "2021-10-25T00:43:14.029153Z"
    }
   },
   "outputs": [],
   "source": [
    "### 모델을 선택하고, 학습을 시키고, 예측을 수행한다.\n",
    "model = LinearRegression()\n",
    "# model.fit(입력, 레이블)\n",
    "model.fit(X_train, y_train)\n",
    "pred = model.predict(X_test)\n",
    "pred[0:5]"
   ]
  },
  {
   "cell_type": "code",
   "execution_count": null,
   "metadata": {
    "execution": {
     "iopub.execute_input": "2021-10-25T01:02:04.696732Z",
     "iopub.status.busy": "2021-10-25T01:02:04.696391Z",
     "iopub.status.idle": "2021-10-25T01:02:04.7161Z",
     "shell.execute_reply": "2021-10-25T01:02:04.715033Z",
     "shell.execute_reply.started": "2021-10-25T01:02:04.696697Z"
    }
   },
   "outputs": [],
   "source": [
    "model.score(X_train, y_train)"
   ]
  },
  {
   "cell_type": "code",
   "execution_count": null,
   "metadata": {
    "execution": {
     "iopub.execute_input": "2021-10-25T01:03:38.462773Z",
     "iopub.status.busy": "2021-10-25T01:03:38.46245Z",
     "iopub.status.idle": "2021-10-25T01:03:38.46975Z",
     "shell.execute_reply": "2021-10-25T01:03:38.46884Z",
     "shell.execute_reply.started": "2021-10-25T01:03:38.462741Z"
    }
   },
   "outputs": [],
   "source": [
    "print(model.coef_)\n",
    "print(model.intercept_)"
   ]
  },
  {
   "cell_type": "code",
   "execution_count": null,
   "metadata": {
    "execution": {
     "iopub.execute_input": "2021-10-25T01:05:09.586926Z",
     "iopub.status.busy": "2021-10-25T01:05:09.586481Z",
     "iopub.status.idle": "2021-10-25T01:05:09.591283Z",
     "shell.execute_reply": "2021-10-25T01:05:09.590081Z",
     "shell.execute_reply.started": "2021-10-25T01:05:09.58683Z"
    }
   },
   "outputs": [],
   "source": [
    "## 우리가 만든 모델\n",
    "## 렌탈 대수 = temp * 8.20 + atemp * 0.91 + 4.25.."
   ]
  },
  {
   "cell_type": "code",
   "execution_count": null,
   "metadata": {},
   "outputs": [],
   "source": [
    "## MSE가 최소가 되는 계수를 구한다."
   ]
  },
  {
   "cell_type": "code",
   "execution_count": null,
   "metadata": {
    "execution": {
     "iopub.execute_input": "2021-10-25T01:06:37.933573Z",
     "iopub.status.busy": "2021-10-25T01:06:37.933247Z",
     "iopub.status.idle": "2021-10-25T01:06:37.951399Z",
     "shell.execute_reply": "2021-10-25T01:06:37.950386Z",
     "shell.execute_reply.started": "2021-10-25T01:06:37.933536Z"
    }
   },
   "outputs": [],
   "source": [
    "sub['count'] = pred\n",
    "sub"
   ]
  },
  {
   "cell_type": "code",
   "execution_count": null,
   "metadata": {
    "execution": {
     "iopub.execute_input": "2021-10-25T01:07:11.362817Z",
     "iopub.status.busy": "2021-10-25T01:07:11.362433Z",
     "iopub.status.idle": "2021-10-25T01:07:11.401222Z",
     "shell.execute_reply": "2021-10-25T01:07:11.400092Z",
     "shell.execute_reply.started": "2021-10-25T01:07:11.362766Z"
    }
   },
   "outputs": [],
   "source": [
    "sub.to_csv('baseline.csv', index=False)"
   ]
  },
  {
   "cell_type": "code",
   "execution_count": null,
   "metadata": {
    "execution": {
     "iopub.execute_input": "2021-10-25T01:13:30.197037Z",
     "iopub.status.busy": "2021-10-25T01:13:30.196461Z",
     "iopub.status.idle": "2021-10-25T01:13:30.231254Z",
     "shell.execute_reply": "2021-10-25T01:13:30.230185Z",
     "shell.execute_reply.started": "2021-10-25T01:13:30.196992Z"
    }
   },
   "outputs": [],
   "source": [
    "from sklearn.model_selection import cross_val_score, train_test_split\n",
    "scores = cross_val_score(model, X_train, y_train, scoring='neg_mean_squared_error')\n",
    "print('MSE =',-scores.mean())"
   ]
  },
  {
   "cell_type": "code",
   "execution_count": null,
   "metadata": {},
   "outputs": [],
   "source": []
  }
 ],
 "metadata": {
  "kernelspec": {
   "display_name": "Python 3",
   "language": "python",
   "name": "python3"
  },
  "language_info": {
   "codemirror_mode": {
    "name": "ipython",
    "version": 3
   },
   "file_extension": ".py",
   "mimetype": "text/x-python",
   "name": "python",
   "nbconvert_exporter": "python",
   "pygments_lexer": "ipython3",
   "version": "3.8.8"
  }
 },
 "nbformat": 4,
 "nbformat_minor": 4
}
