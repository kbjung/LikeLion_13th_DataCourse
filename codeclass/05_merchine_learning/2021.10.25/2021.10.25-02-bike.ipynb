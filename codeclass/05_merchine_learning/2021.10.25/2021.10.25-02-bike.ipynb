{
 "cells": [
  {
   "cell_type": "code",
   "execution_count": 2,
   "metadata": {
    "_cell_guid": "b1076dfc-b9ad-4769-8c92-a6c4dae69d19",
    "_uuid": "8f2839f25d086af736a60e9eeb907d3b93b6e0e5",
    "execution": {
     "iopub.execute_input": "2021-10-25T05:53:52.613709Z",
     "iopub.status.busy": "2021-10-25T05:53:52.613405Z",
     "iopub.status.idle": "2021-10-25T05:53:52.623798Z",
     "shell.execute_reply": "2021-10-25T05:53:52.622861Z",
     "shell.execute_reply.started": "2021-10-25T05:53:52.613680Z"
    }
   },
   "outputs": [],
   "source": [
    "# This Python 3 environment comes with many helpful analytics libraries installed\n",
    "# It is defined by the kaggle/python Docker image: https://github.com/kaggle/docker-python\n",
    "# For example, here's several helpful packages to load\n",
    "\n",
    "import numpy as np # linear algebra\n",
    "import pandas as pd # data processing, CSV file I/O (e.g. pd.read_csv)\n",
    "\n",
    "# Input data files are available in the read-only \"../input/\" directory\n",
    "# For example, running this (by clicking run or pressing Shift+Enter) will list all files under the input directory\n",
    "\n",
    "import os\n",
    "for dirname, _, filenames in os.walk('/kaggle/input'):\n",
    "    for filename in filenames:\n",
    "        print(os.path.join(dirname, filename))\n",
    "\n",
    "# You can write up to 20GB to the current directory (/kaggle/working/) that gets preserved as output when you create a version using \"Save & Run All\" \n",
    "# You can also write temporary files to /kaggle/temp/, but they won't be saved outside of the current session"
   ]
  },
  {
   "cell_type": "code",
   "execution_count": 3,
   "metadata": {
    "execution": {
     "iopub.execute_input": "2021-10-25T05:53:52.626497Z",
     "iopub.status.busy": "2021-10-25T05:53:52.625956Z",
     "iopub.status.idle": "2021-10-25T05:53:52.729770Z",
     "shell.execute_reply": "2021-10-25T05:53:52.728892Z",
     "shell.execute_reply.started": "2021-10-25T05:53:52.626453Z"
    }
   },
   "outputs": [],
   "source": [
    "train = pd.read_csv(\"/kaggle/input/bike-sharing-demand/train.csv\",parse_dates=['datetime'])\n",
    "test = pd.read_csv(\"/kaggle/input/bike-sharing-demand/test.csv\",parse_dates=['datetime'])\n",
    "sub = pd.read_csv(\"/kaggle/input/bike-sharing-demand/sampleSubmission.csv\")\n",
    "\n",
    "train.shape, test.shape, sub.shape"
   ]
  },
  {
   "cell_type": "code",
   "execution_count": 4,
   "metadata": {
    "execution": {
     "iopub.execute_input": "2021-10-25T05:53:52.731020Z",
     "iopub.status.busy": "2021-10-25T05:53:52.730824Z",
     "iopub.status.idle": "2021-10-25T05:53:52.748296Z",
     "shell.execute_reply": "2021-10-25T05:53:52.747384Z",
     "shell.execute_reply.started": "2021-10-25T05:53:52.730995Z"
    }
   },
   "outputs": [],
   "source": [
    "f_names = ['temp', 'atemp']\n",
    "X_tr_all = train[f_names]         # 학습용 데이터의 변수 선택 \n",
    "last_X_test = test[f_names]       # 테스트 데이터의 변수 선택 \n",
    "y_tr_all = train['count']"
   ]
  },
  {
   "cell_type": "code",
   "execution_count": 5,
   "metadata": {
    "execution": {
     "iopub.execute_input": "2021-10-25T05:53:52.749721Z",
     "iopub.status.busy": "2021-10-25T05:53:52.749384Z",
     "iopub.status.idle": "2021-10-25T05:53:52.823992Z",
     "shell.execute_reply": "2021-10-25T05:53:52.823311Z",
     "shell.execute_reply.started": "2021-10-25T05:53:52.749693Z"
    }
   },
   "outputs": [],
   "source": [
    "from sklearn.model_selection import train_test_split\n",
    "\n",
    "X_train, X_test, y_train, y_test = train_test_split(X_tr_all, \n",
    "                                                    y_tr_all,\n",
    "                                                    test_size=0.3,\n",
    "                                                    random_state=77)"
   ]
  },
  {
   "cell_type": "code",
   "execution_count": 6,
   "metadata": {
    "execution": {
     "iopub.execute_input": "2021-10-25T05:53:52.826297Z",
     "iopub.status.busy": "2021-10-25T05:53:52.825996Z",
     "iopub.status.idle": "2021-10-25T05:53:52.911668Z",
     "shell.execute_reply": "2021-10-25T05:53:52.910899Z",
     "shell.execute_reply.started": "2021-10-25T05:53:52.826263Z"
    }
   },
   "outputs": [],
   "source": [
    "from sklearn.linear_model import LinearRegression"
   ]
  },
  {
   "cell_type": "code",
   "execution_count": 7,
   "metadata": {
    "execution": {
     "iopub.execute_input": "2021-10-25T05:53:52.913786Z",
     "iopub.status.busy": "2021-10-25T05:53:52.913051Z",
     "iopub.status.idle": "2021-10-25T05:53:52.956743Z",
     "shell.execute_reply": "2021-10-25T05:53:52.955860Z",
     "shell.execute_reply.started": "2021-10-25T05:53:52.913748Z"
    }
   },
   "outputs": [],
   "source": [
    "model = LinearRegression()\n",
    "model.fit(X_train, y_train)\n",
    "# 정확도 확인\n",
    "print(\"학습용 세트 결정계수: {:.3f}\".format(model.score(X_train, y_train)))\n",
    "print(\"테스트 세트 결정계수: {:.3f}\".format(model.score(X_test, y_test)))\n",
    "\n",
    "model.predict(X_test)         # 예측(새로운 데이터로)"
   ]
  },
  {
   "cell_type": "markdown",
   "metadata": {
    "execution": {
     "iopub.execute_input": "2021-10-25T01:24:34.566296Z",
     "iopub.status.busy": "2021-10-25T01:24:34.56592Z",
     "iopub.status.idle": "2021-10-25T01:24:34.570665Z",
     "shell.execute_reply": "2021-10-25T01:24:34.569719Z",
     "shell.execute_reply.started": "2021-10-25T01:24:34.56626Z"
    }
   },
   "source": [
    "### 여러개의 변수를 사용해보기\n"
   ]
  },
  {
   "cell_type": "code",
   "execution_count": 8,
   "metadata": {
    "execution": {
     "iopub.execute_input": "2021-10-25T05:53:52.958832Z",
     "iopub.status.busy": "2021-10-25T05:53:52.958263Z",
     "iopub.status.idle": "2021-10-25T05:53:53.016181Z",
     "shell.execute_reply": "2021-10-25T05:53:53.015217Z",
     "shell.execute_reply.started": "2021-10-25T05:53:52.958786Z"
    }
   },
   "outputs": [],
   "source": [
    "train.corr()"
   ]
  },
  {
   "cell_type": "code",
   "execution_count": 9,
   "metadata": {
    "execution": {
     "iopub.execute_input": "2021-10-25T05:53:53.025370Z",
     "iopub.status.busy": "2021-10-25T05:53:53.022271Z",
     "iopub.status.idle": "2021-10-25T05:53:53.038337Z",
     "shell.execute_reply": "2021-10-25T05:53:53.037180Z",
     "shell.execute_reply.started": "2021-10-25T05:53:53.025299Z"
    }
   },
   "outputs": [],
   "source": [
    "f_names = ['season', 'holiday', 'workingday', 'weather', 'temp', 'atemp', 'humidity', 'windspeed']\n",
    "X_tr_all = train[f_names]         # 학습용 데이터의 변수 선택 \n",
    "last_X_test = test[f_names]       # 테스트 데이터의 변수 선택 \n",
    "\n",
    "y_tr_all = train['count']"
   ]
  },
  {
   "cell_type": "code",
   "execution_count": 10,
   "metadata": {
    "execution": {
     "iopub.execute_input": "2021-10-25T05:53:53.048419Z",
     "iopub.status.busy": "2021-10-25T05:53:53.045233Z",
     "iopub.status.idle": "2021-10-25T05:53:53.064158Z",
     "shell.execute_reply": "2021-10-25T05:53:53.062734Z",
     "shell.execute_reply.started": "2021-10-25T05:53:53.048348Z"
    }
   },
   "outputs": [],
   "source": [
    "from sklearn.model_selection import train_test_split\n",
    "\n",
    "X_train, X_test, y_train, y_test = train_test_split(X_tr_all, y_tr_all, test_size=0.3, random_state=77)"
   ]
  },
  {
   "cell_type": "code",
   "execution_count": 11,
   "metadata": {
    "execution": {
     "iopub.execute_input": "2021-10-25T05:53:53.070958Z",
     "iopub.status.busy": "2021-10-25T05:53:53.069086Z",
     "iopub.status.idle": "2021-10-25T05:53:53.095795Z",
     "shell.execute_reply": "2021-10-25T05:53:53.094669Z",
     "shell.execute_reply.started": "2021-10-25T05:53:53.070915Z"
    }
   },
   "outputs": [],
   "source": [
    "model = LinearRegression()\n",
    "model.fit(X_train, y_train)\n",
    "# 정확도 확인\n",
    "print(\"학습용 세트 정확도: {:.3f}\".format(model.score(X_train, y_train)))\n",
    "print(\"테스트 세트 정확도: {:.3f}\".format(model.score(X_test, y_test)))"
   ]
  },
  {
   "cell_type": "code",
   "execution_count": 12,
   "metadata": {
    "execution": {
     "iopub.execute_input": "2021-10-25T05:53:53.104785Z",
     "iopub.status.busy": "2021-10-25T05:53:53.101756Z",
     "iopub.status.idle": "2021-10-25T05:53:53.210070Z",
     "shell.execute_reply": "2021-10-25T05:53:53.209125Z",
     "shell.execute_reply.started": "2021-10-25T05:53:53.104719Z"
    }
   },
   "outputs": [],
   "source": [
    "# 2-5 (추가) 7:3, 8:2, 9:1 결정계수 확인해 보기.\n",
    "from sklearn.model_selection import train_test_split\n",
    "\n",
    "train_list = []\n",
    "test_list = []\n",
    "num_list = []\n",
    "for i in range(1,6):\n",
    "    X_train, X_test, y_train, y_test = train_test_split(X_tr_all, y_tr_all, test_size=(i/10), random_state=77)\n",
    "    model = LinearRegression()\n",
    "    model.fit(X_train, y_train)\n",
    "    s1 = model.score(X_train, y_train)\n",
    "    s2 = model.score(X_test, y_test)\n",
    "    train_list.append(s1)\n",
    "    test_list.append(s2)\n",
    "    num_list.append(f\"{10-i}:{i}\")\n",
    "df = pd.DataFrame({'훈련:테스트':num_list,'train_score':train_list, 'test_score':test_list})\n",
    "df"
   ]
  },
  {
   "cell_type": "code",
   "execution_count": 13,
   "metadata": {
    "execution": {
     "iopub.execute_input": "2021-10-25T05:53:53.218568Z",
     "iopub.status.busy": "2021-10-25T05:53:53.215769Z",
     "iopub.status.idle": "2021-10-25T05:53:53.226142Z",
     "shell.execute_reply": "2021-10-25T05:53:53.225164Z",
     "shell.execute_reply.started": "2021-10-25T05:53:53.218506Z"
    }
   },
   "outputs": [],
   "source": [
    "###\n",
    "from sklearn.preprocessing import MinMaxScaler\n",
    "from sklearn.preprocessing import PolynomialFeatures"
   ]
  },
  {
   "cell_type": "code",
   "execution_count": 14,
   "metadata": {
    "execution": {
     "iopub.execute_input": "2021-10-25T05:53:53.235214Z",
     "iopub.status.busy": "2021-10-25T05:53:53.232035Z",
     "iopub.status.idle": "2021-10-25T05:53:53.245723Z",
     "shell.execute_reply": "2021-10-25T05:53:53.244682Z",
     "shell.execute_reply.started": "2021-10-25T05:53:53.235141Z"
    }
   },
   "outputs": [],
   "source": [
    "f_names = ['season', 'holiday', 'workingday', 'weather', 'temp', 'atemp', \n",
    "           'humidity', 'windspeed']\n",
    "X_tr_all = train[f_names]         # 학습용 데이터의 변수 선택"
   ]
  },
  {
   "cell_type": "code",
   "execution_count": 15,
   "metadata": {
    "execution": {
     "iopub.execute_input": "2021-10-25T05:53:53.259118Z",
     "iopub.status.busy": "2021-10-25T05:53:53.255866Z",
     "iopub.status.idle": "2021-10-25T05:53:53.278992Z",
     "shell.execute_reply": "2021-10-25T05:53:53.277212Z",
     "shell.execute_reply.started": "2021-10-25T05:53:53.259047Z"
    }
   },
   "outputs": [],
   "source": [
    "scaler = MinMaxScaler().fit(X_tr_all)\n",
    "nor_X_tr_all = scaler.transform(X_tr_all)\n",
    "X_test_all = test[f_names]\n",
    "\n",
    "y_tr_all = train['count']"
   ]
  },
  {
   "cell_type": "code",
   "execution_count": 16,
   "metadata": {
    "execution": {
     "iopub.execute_input": "2021-10-25T05:53:53.289120Z",
     "iopub.status.busy": "2021-10-25T05:53:53.286060Z",
     "iopub.status.idle": "2021-10-25T05:53:53.301767Z",
     "shell.execute_reply": "2021-10-25T05:53:53.300701Z",
     "shell.execute_reply.started": "2021-10-25T05:53:53.289052Z"
    }
   },
   "outputs": [],
   "source": [
    "X_train, X_test, y_train, y_test = train_test_split(nor_X_tr_all, y_tr_all, test_size=0.3, random_state=77)"
   ]
  },
  {
   "cell_type": "code",
   "execution_count": 17,
   "metadata": {
    "execution": {
     "iopub.execute_input": "2021-10-25T05:53:53.311732Z",
     "iopub.status.busy": "2021-10-25T05:53:53.308496Z",
     "iopub.status.idle": "2021-10-25T05:53:53.330235Z",
     "shell.execute_reply": "2021-10-25T05:53:53.329247Z",
     "shell.execute_reply.started": "2021-10-25T05:53:53.311664Z"
    }
   },
   "outputs": [],
   "source": [
    "model = LinearRegression()\n",
    "model.fit(X_train, y_train)\n",
    "# 정확도 확인\n",
    "print(\"학습용 세트 정확도: {:.3f}\".format(model.score(X_train, y_train)))\n",
    "print(\"테스트 세트 정확도: {:.3f}\".format(model.score(X_test, y_test)))"
   ]
  },
  {
   "cell_type": "code",
   "execution_count": 18,
   "metadata": {
    "execution": {
     "iopub.execute_input": "2021-10-25T05:53:53.332294Z",
     "iopub.status.busy": "2021-10-25T05:53:53.331769Z",
     "iopub.status.idle": "2021-10-25T05:53:53.336839Z",
     "shell.execute_reply": "2021-10-25T05:53:53.335875Z",
     "shell.execute_reply.started": "2021-10-25T05:53:53.332246Z"
    }
   },
   "outputs": [],
   "source": [
    "from sklearn.linear_model import Lasso, Ridge"
   ]
  },
  {
   "cell_type": "code",
   "execution_count": 19,
   "metadata": {
    "execution": {
     "iopub.execute_input": "2021-10-25T05:53:53.339143Z",
     "iopub.status.busy": "2021-10-25T05:53:53.338620Z",
     "iopub.status.idle": "2021-10-25T05:53:53.371028Z",
     "shell.execute_reply": "2021-10-25T05:53:53.370207Z",
     "shell.execute_reply.started": "2021-10-25T05:53:53.339098Z"
    }
   },
   "outputs": [],
   "source": [
    "model = Lasso()\n",
    "model.fit(X_train, y_train)\n",
    "# 정확도 확인\n",
    "print(\"학습용 세트 정확도: {:.3f}\".format(model.score(X_train, y_train)))\n",
    "print(\"테스트 세트 정확도: {:.3f}\".format(model.score(X_test, y_test)))"
   ]
  },
  {
   "cell_type": "code",
   "execution_count": 20,
   "metadata": {
    "execution": {
     "iopub.execute_input": "2021-10-25T05:53:53.373061Z",
     "iopub.status.busy": "2021-10-25T05:53:53.372569Z",
     "iopub.status.idle": "2021-10-25T05:53:53.392289Z",
     "shell.execute_reply": "2021-10-25T05:53:53.391436Z",
     "shell.execute_reply.started": "2021-10-25T05:53:53.373015Z"
    }
   },
   "outputs": [],
   "source": [
    "model = Ridge()\n",
    "model.fit(X_train, y_train)\n",
    "# 정확도 확인\n",
    "print(\"학습용 세트 정확도: {:.3f}\".format(model.score(X_train, y_train)))\n",
    "print(\"테스트 세트 정확도: {:.3f}\".format(model.score(X_test, y_test)))"
   ]
  },
  {
   "cell_type": "code",
   "execution_count": 21,
   "metadata": {
    "execution": {
     "iopub.execute_input": "2021-10-25T05:53:53.394326Z",
     "iopub.status.busy": "2021-10-25T05:53:53.393810Z",
     "iopub.status.idle": "2021-10-25T05:53:54.291649Z",
     "shell.execute_reply": "2021-10-25T05:53:54.290864Z",
     "shell.execute_reply.started": "2021-10-25T05:53:53.394279Z"
    }
   },
   "outputs": [],
   "source": [
    "import seaborn as sns\n",
    "sns.heatmap(X_tr_all.corr(), annot=True, fmt=\".3f\", cbar=False)"
   ]
  },
  {
   "cell_type": "code",
   "execution_count": 22,
   "metadata": {
    "execution": {
     "iopub.execute_input": "2021-10-25T05:53:54.293494Z",
     "iopub.status.busy": "2021-10-25T05:53:54.292731Z",
     "iopub.status.idle": "2021-10-25T05:53:54.297143Z",
     "shell.execute_reply": "2021-10-25T05:53:54.296530Z",
     "shell.execute_reply.started": "2021-10-25T05:53:54.293453Z"
    }
   },
   "outputs": [],
   "source": [
    "# 상관관계가 높은 특성들은 모델 훈련시 최대한 제외한다.(예. temp, atemp)"
   ]
  },
  {
   "cell_type": "code",
   "execution_count": 23,
   "metadata": {
    "execution": {
     "iopub.execute_input": "2021-10-25T05:53:54.299042Z",
     "iopub.status.busy": "2021-10-25T05:53:54.298207Z",
     "iopub.status.idle": "2021-10-25T05:53:54.323411Z",
     "shell.execute_reply": "2021-10-25T05:53:54.322452Z",
     "shell.execute_reply.started": "2021-10-25T05:53:54.299002Z"
    }
   },
   "outputs": [],
   "source": [
    "print(\"원래 데이터 : \", X_tr_all.shape)\n",
    "\n",
    "nor_X = MinMaxScaler().fit_transform(X_tr_all)  # 입력 데이터 정규화\n",
    "ex_X = PolynomialFeatures(degree=2, include_bias=False).fit_transform(nor_X)  # 데이터 feature 추가 생성\n",
    "\n",
    "print(\"정규화, 추가 생성 : \", ex_X.shape, y_tr_all.shape)\n",
    "print(type(X_tr_all), type(ex_X))"
   ]
  },
  {
   "cell_type": "code",
   "execution_count": 24,
   "metadata": {
    "execution": {
     "iopub.execute_input": "2021-10-25T05:53:54.324859Z",
     "iopub.status.busy": "2021-10-25T05:53:54.324618Z",
     "iopub.status.idle": "2021-10-25T05:53:54.335546Z",
     "shell.execute_reply": "2021-10-25T05:53:54.334532Z",
     "shell.execute_reply.started": "2021-10-25T05:53:54.324830Z"
    }
   },
   "outputs": [],
   "source": [
    "X_train, X_test, y_train, y_test = train_test_split(ex_X, \n",
    "                                                    y_tr_all,\n",
    "                                                    test_size=0.3,\n",
    "                                                    random_state=77)"
   ]
  },
  {
   "cell_type": "code",
   "execution_count": 25,
   "metadata": {
    "execution": {
     "iopub.execute_input": "2021-10-25T05:53:54.337014Z",
     "iopub.status.busy": "2021-10-25T05:53:54.336688Z",
     "iopub.status.idle": "2021-10-25T05:53:54.345386Z",
     "shell.execute_reply": "2021-10-25T05:53:54.344361Z",
     "shell.execute_reply.started": "2021-10-25T05:53:54.336972Z"
    }
   },
   "outputs": [],
   "source": [
    "model_list = [LinearRegression(), Ridge(), Lasso()]"
   ]
  },
  {
   "cell_type": "code",
   "execution_count": 26,
   "metadata": {
    "execution": {
     "iopub.execute_input": "2021-10-25T05:53:54.349836Z",
     "iopub.status.busy": "2021-10-25T05:53:54.349066Z",
     "iopub.status.idle": "2021-10-25T05:53:54.440639Z",
     "shell.execute_reply": "2021-10-25T05:53:54.439643Z",
     "shell.execute_reply.started": "2021-10-25T05:53:54.349793Z"
    }
   },
   "outputs": [],
   "source": [
    "for model in model_list:\n",
    "    model.fit(X_train, y_train)\n",
    "    \n",
    "    print(\"모델 : \", model)\n",
    "    # 정확도 확인\n",
    "    print(\"학습용 세트 정확도: {:.3f}\".format(model.score(X_train, y_train)))\n",
    "    print(\"테스트 세트 정확도: {:.3f}\".format(model.score(X_test, y_test)))\n",
    "    print()"
   ]
  },
  {
   "cell_type": "code",
   "execution_count": 27,
   "metadata": {
    "execution": {
     "iopub.execute_input": "2021-10-25T05:53:54.442918Z",
     "iopub.status.busy": "2021-10-25T05:53:54.442312Z",
     "iopub.status.idle": "2021-10-25T05:53:55.943973Z",
     "shell.execute_reply": "2021-10-25T05:53:55.942957Z",
     "shell.execute_reply.started": "2021-10-25T05:53:54.442864Z"
    }
   },
   "outputs": [],
   "source": [
    "# 3-2 (추가) knn 모델 추가(knn모델의 결정계수 값은?- 댓글)\n",
    "from sklearn.neighbors import KNeighborsRegressor\n",
    "model_list = [KNeighborsRegressor(), LinearRegression(), Ridge(), Lasso()]\n",
    "for model in model_list:\n",
    "    model.fit(X_train, y_train)\n",
    "    \n",
    "    print(\"모델 : \", model)\n",
    "    # 정확도 확인\n",
    "    print(\"학습용 세트 정확도: {:.3f}\".format(model.score(X_train, y_train)))\n",
    "    print(\"테스트 세트 정확도: {:.3f}\".format(model.score(X_test, y_test)))\n",
    "    print()"
   ]
  },
  {
   "cell_type": "code",
   "execution_count": 28,
   "metadata": {
    "execution": {
     "iopub.execute_input": "2021-10-25T05:53:55.953128Z",
     "iopub.status.busy": "2021-10-25T05:53:55.950103Z",
     "iopub.status.idle": "2021-10-25T05:53:55.994620Z",
     "shell.execute_reply": "2021-10-25T05:53:55.993446Z",
     "shell.execute_reply.started": "2021-10-25T05:53:55.953058Z"
    }
   },
   "outputs": [],
   "source": [
    "# 최종 모델 확인\n",
    "model = LinearRegression()\n",
    "model.fit(X_train, y_train)\n",
    "scaler = MinMaxScaler().fit(X_tr_all)\n",
    "nor_X_test_all = scaler.transform(X_test_all)\n",
    "ex_X = PolynomialFeatures(degree=2, include_bias=False).fit_transform(nor_X_test_all)"
   ]
  },
  {
   "cell_type": "code",
   "execution_count": 29,
   "metadata": {
    "execution": {
     "iopub.execute_input": "2021-10-25T05:53:56.004968Z",
     "iopub.status.busy": "2021-10-25T05:53:56.001524Z",
     "iopub.status.idle": "2021-10-25T05:53:56.019775Z",
     "shell.execute_reply": "2021-10-25T05:53:56.018376Z",
     "shell.execute_reply.started": "2021-10-25T05:53:56.004887Z"
    }
   },
   "outputs": [],
   "source": [
    "# kaggle에서 음수값은 오류 발생. 음수를 0으로 만든다.\n",
    "pred = model.predict(ex_X)\n",
    "sub['count'] = pred\n",
    "sub.loc[sub['count']<0, 'count'] = 0"
   ]
  },
  {
   "cell_type": "code",
   "execution_count": 30,
   "metadata": {
    "execution": {
     "iopub.execute_input": "2021-10-25T05:53:56.030570Z",
     "iopub.status.busy": "2021-10-25T05:53:56.027387Z",
     "iopub.status.idle": "2021-10-25T05:53:56.095656Z",
     "shell.execute_reply": "2021-10-25T05:53:56.094655Z",
     "shell.execute_reply.started": "2021-10-25T05:53:56.030497Z"
    }
   },
   "outputs": [],
   "source": [
    "sub.to_csv(\"pre_sub.csv\", index=False)"
   ]
  },
  {
   "cell_type": "code",
   "execution_count": 32,
   "metadata": {
    "execution": {
     "iopub.execute_input": "2021-10-25T05:54:26.987527Z",
     "iopub.status.busy": "2021-10-25T05:54:26.987161Z",
     "iopub.status.idle": "2021-10-25T05:54:26.999604Z",
     "shell.execute_reply": "2021-10-25T05:54:26.998930Z",
     "shell.execute_reply.started": "2021-10-25T05:54:26.987489Z"
    }
   },
   "outputs": [],
   "source": [
    "from sklearn.preprocessing import MinMaxScaler, PolynomialFeatures\n",
    "scaler = MinMaxScaler().fit(X_tr_all)\n",
    "\n",
    "nor_X_tr_all = scaler.transform(X_tr_all)\n",
    "ex_X_tr = PolynomialFeatures(degree=1, include_bias=False).fit_transform(nor_X_tr_all)\n",
    "\n",
    "y_tr_all = train['count']"
   ]
  },
  {
   "cell_type": "code",
   "execution_count": 33,
   "metadata": {
    "execution": {
     "iopub.execute_input": "2021-10-25T05:54:28.921033Z",
     "iopub.status.busy": "2021-10-25T05:54:28.920538Z",
     "iopub.status.idle": "2021-10-25T05:54:28.927496Z",
     "shell.execute_reply": "2021-10-25T05:54:28.926504Z",
     "shell.execute_reply.started": "2021-10-25T05:54:28.920995Z"
    }
   },
   "outputs": [],
   "source": [
    "X_train, X_test, y_train, y_test = train_test_split(ex_X_tr, \n",
    "                                                    y_tr_all,\n",
    "                                                    test_size=0.3,\n",
    "                                                    random_state=77)"
   ]
  },
  {
   "cell_type": "code",
   "execution_count": 34,
   "metadata": {
    "execution": {
     "iopub.execute_input": "2021-10-25T05:54:31.361721Z",
     "iopub.status.busy": "2021-10-25T05:54:31.361416Z",
     "iopub.status.idle": "2021-10-25T05:54:31.369724Z",
     "shell.execute_reply": "2021-10-25T05:54:31.368785Z",
     "shell.execute_reply.started": "2021-10-25T05:54:31.361687Z"
    }
   },
   "outputs": [],
   "source": [
    "nor_X_test_all = scaler.transform(X_test_all)\n",
    "ex_X_test = PolynomialFeatures(degree=1, include_bias=False).fit_transform(nor_X_test_all)"
   ]
  },
  {
   "cell_type": "code",
   "execution_count": 35,
   "metadata": {
    "execution": {
     "iopub.execute_input": "2021-10-25T05:54:33.072178Z",
     "iopub.status.busy": "2021-10-25T05:54:33.071345Z",
     "iopub.status.idle": "2021-10-25T05:54:33.772222Z",
     "shell.execute_reply": "2021-10-25T05:54:33.771256Z",
     "shell.execute_reply.started": "2021-10-25T05:54:33.072131Z"
    }
   },
   "outputs": [],
   "source": [
    "# 3-3 (추가) 앙상블 모델 추가.(댓글로 제출 점수 확인)\n",
    "from sklearn.ensemble import RandomForestRegressor\n",
    "rf = RandomForestRegressor(max_depth=4, random_state=0)\n",
    "rf.fit(X_train, y_train)\n",
    "pred = rf.predict(ex_X_test)\n",
    "sub['count'] = pred\n",
    "sub.loc[sub['count']<0, 'count'] = 0\n",
    "sub.to_csv('bike3.csv', index=False)\n"
   ]
  },
  {
   "cell_type": "code",
   "execution_count": null,
   "metadata": {},
   "outputs": [],
   "source": []
  }
 ],
 "metadata": {
  "kernelspec": {
   "display_name": "Python 3",
   "language": "python",
   "name": "python3"
  },
  "language_info": {
   "codemirror_mode": {
    "name": "ipython",
    "version": 3
   },
   "file_extension": ".py",
   "mimetype": "text/x-python",
   "name": "python",
   "nbconvert_exporter": "python",
   "pygments_lexer": "ipython3",
   "version": "3.8.8"
  }
 },
 "nbformat": 4,
 "nbformat_minor": 4
}
