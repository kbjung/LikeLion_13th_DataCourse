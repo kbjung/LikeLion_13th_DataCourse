{
 "cells": [
  {
   "cell_type": "markdown",
   "id": "f3e084f1",
   "metadata": {},
   "source": [
    "# 모델 평가"
   ]
  },
  {
   "cell_type": "code",
   "execution_count": 5,
   "id": "11774fd9",
   "metadata": {},
   "outputs": [],
   "source": [
    "import os, warnings\n",
    "import numpy as np\n",
    "# 경고 메세지 무시하거나 숨길때(ignore), 다시보이게(default)\n",
    "# warnings.filterwarnings(action='ignore')\n",
    "warnings.filterwarnings(action='ignore')"
   ]
  },
  {
   "cell_type": "code",
   "execution_count": 2,
   "id": "850fdcaf",
   "metadata": {},
   "outputs": [
    {
     "data": {
      "image/png": "[encoded data removed]",
      "text/plain": [
       "<Figure size 864x144 with 1 Axes>"
      ]
     },
     "metadata": {
      "needs_background": "light"
     },
     "output_type": "display_data"
    }
   ],
   "source": [
    "import mglearn\n",
    "mglearn.plots.plot_cross_validation()"
   ]
  },
  {
   "cell_type": "markdown",
   "id": "1822949f",
   "metadata": {},
   "source": [
    "## 교차 검증 실습"
   ]
  },
  {
   "cell_type": "code",
   "execution_count": 17,
   "id": "0692123c",
   "metadata": {},
   "outputs": [],
   "source": [
    "from sklearn.datasets import load_iris\n",
    "from sklearn.model_selection import cross_val_score, train_test_split\n",
    "from sklearn.neighbors import KNeighborsClassifier\n",
    "from sklearn.linear_model import LogisticRegression"
   ]
  },
  {
   "cell_type": "code",
   "execution_count": 18,
   "id": "b84be8cd",
   "metadata": {
    "scrolled": false
   },
   "outputs": [],
   "source": [
    "iris = load_iris()\n",
    "knn = KNeighborsClassifier()\n",
    "\n",
    "X = iris.data\n",
    "y = iris.target\n",
    "\n",
    "X_train, X_test, y_train, y_test = train_test_split(X, y)"
   ]
  },
  {
   "cell_type": "code",
   "execution_count": 19,
   "id": "4fbdc795",
   "metadata": {},
   "outputs": [
    {
     "data": {
      "text/plain": [
       "array([0.98, 0.98, 0.98])"
      ]
     },
     "execution_count": 19,
     "metadata": {},
     "output_type": "execute_result"
    }
   ],
   "source": [
    "knn.fit(X_train,  y_train)\n",
    "# scores = cross_val_score(모델 객체, 입력, 결과, cv = cross_validation 개수)\n",
    "scores = cross_val_score(knn, iris.data, iris.target, cv=3)\n",
    "scores"
   ]
  },
  {
   "cell_type": "markdown",
   "id": "f890b561",
   "metadata": {},
   "source": [
    "### 데이터 셋 3겹 교차 검증"
   ]
  },
  {
   "cell_type": "code",
   "execution_count": 13,
   "id": "2089cb90",
   "metadata": {},
   "outputs": [],
   "source": [
    "from sklearn.model_selection import KFold"
   ]
  },
  {
   "cell_type": "code",
   "execution_count": 15,
   "id": "de110c46",
   "metadata": {},
   "outputs": [
    {
     "name": "stdout",
     "output_type": "stream",
     "text": [
      "교차 검증 점수 : \n",
      "[0. 0. 0.]\n"
     ]
    }
   ],
   "source": [
    "kfold = KFold(n_splits=3)\n",
    "print(\"교차 검증 점수 : \\n{}\".format(cross_val_score(knn, iris.data, iris.target, cv=kfold)))"
   ]
  },
  {
   "cell_type": "code",
   "execution_count": 59,
   "id": "042cf22b",
   "metadata": {},
   "outputs": [
    {
     "name": "stdout",
     "output_type": "stream",
     "text": [
      "교차 검증 점수 : \n",
      "[0.98 0.98 0.96]\n"
     ]
    }
   ],
   "source": [
    "# kfold = KFold(n_splits=cv 개수, shuffle=샘플을 섞는 여부)\n",
    "kfold = KFold(n_splits=3, shuffle=True)\n",
    "print(\"교차 검증 점수 : \\n{}\".format(cross_val_score(knn, iris.data, iris.target, cv=kfold)))"
   ]
  },
  {
   "cell_type": "code",
   "execution_count": null,
   "id": "865c1a72",
   "metadata": {},
   "outputs": [],
   "source": []
  }
 ],
 "metadata": {
  "kernelspec": {
   "display_name": "Python 3",
   "language": "python",
   "name": "python3"
  },
  "language_info": {
   "codemirror_mode": {
    "name": "ipython",
    "version": 3
   },
   "file_extension": ".py",
   "mimetype": "text/x-python",
   "name": "python",
   "nbconvert_exporter": "python",
   "pygments_lexer": "ipython3",
   "version": "3.8.8"
  }
 },
 "nbformat": 4,
 "nbformat_minor": 5
}
