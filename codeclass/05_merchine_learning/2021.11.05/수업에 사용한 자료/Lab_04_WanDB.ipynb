{
 "cells": [
  {
   "cell_type": "markdown",
   "metadata": {
    "id": "7fHL3ONZ55I-"
   },
   "source": [
    "# Lab 4\n",
    "### Context\n",
    "\n",
    "#### AutoML & Experiment Tools\n",
    "- WanDB"
   ]
  },
  {
   "cell_type": "code",
   "execution_count": null,
   "metadata": {
    "id": "vJz8Kvl8EDpR"
   },
   "outputs": [],
   "source": [
    "sweep_config = {\n",
    "  \"name\" : \"sweep_demo\",\n",
    "  \"method\" : \"bayes\",\n",
    "  \"parameters\" : {\n",
    "    \"max_depth\" : {\n",
    "      \"distribution\": \"int_uniform\",\n",
    "      \"min\":2,\n",
    "      \"max\":15\n",
    "    },\n",
    "    \"subsample\" :{\n",
    "      \"distribution\": \"uniform\",\n",
    "      \"min\": 0.5,\n",
    "      \"max\": 1.0\n",
    "    },\n",
    "    \"colsample_bytree\":{\n",
    "      \"distribution\": \"uniform\",\n",
    "      \"min\": 0.5,\n",
    "      \"max\": 1.0\n",
    "    }\n",
    "  },\n",
    "  \"metric\":{\n",
    "      \"name\": \"cv_loss\",\n",
    "      \"goal\": \"minimize\"\n",
    "  }\n",
    "}\n"
   ]
  },
  {
   "cell_type": "code",
   "execution_count": null,
   "metadata": {
    "id": "aAfXTYpj5ysB"
   },
   "outputs": [],
   "source": [
    "import os\n",
    "from os.path import join\n",
    "\n",
    "import multiprocessing\n",
    "import warnings\n",
    "warnings.filterwarnings('ignore')\n",
    "\n",
    "import numpy as np\n",
    "import pandas as pd\n",
    "\n",
    "import wandb\n",
    "\n",
    "sweep_id = wandb.sweep(sweep_config, \n",
    "                       project=\"wandb demo\")\n",
    "\n",
    "n_cpus = multiprocessing.cpu_count()"
   ]
  },
  {
   "cell_type": "code",
   "execution_count": null,
   "metadata": {
    "id": "gH-_VIMQEDpZ"
   },
   "outputs": [],
   "source": [
    "BASE_DIR = ''\n",
    "\n",
    "train_path = join(BASE_DIR, 'data', 'MDC14', 'train.csv')\n",
    "test_path  = join(BASE_DIR, 'data', 'MDC14', 'test.csv')\n",
    "\n",
    "data = pd.read_csv(train_path)\n",
    "test = pd.read_csv(test_path)\n",
    "\n",
    "label = data['credit']"
   ]
  },
  {
   "cell_type": "code",
   "execution_count": null,
   "metadata": {
    "id": "yZ9UxpS9EDpa"
   },
   "outputs": [],
   "source": [
    "# 불필요한 컬럼 제거\n",
    "data.drop(columns=['index', 'credit'], inplace=True)\n",
    "test.drop(columns=['index'],         inplace=True)"
   ]
  },
  {
   "cell_type": "code",
   "execution_count": null,
   "metadata": {
    "id": "7CrFI2GIEDpc"
   },
   "outputs": [],
   "source": [
    "cat_columns = [c for c, t in zip(data.dtypes.index, data.dtypes) if t == 'O'] \n",
    "num_columns = [c for c    in data.columns if c not in cat_columns]\n",
    "\n",
    "print('Categorical Columns: \\n{}\\n'.format(cat_columns))\n",
    "print('Numeric Columns: \\n{}'.format(num_columns))"
   ]
  },
  {
   "cell_type": "markdown",
   "metadata": {
    "id": "_N5-NlqOEDpe"
   },
   "source": [
    "#### 라벨 데이터 인코딩"
   ]
  },
  {
   "cell_type": "code",
   "execution_count": null,
   "metadata": {
    "id": "cRHtxFLCEDpf"
   },
   "outputs": [],
   "source": [
    "label = label.astype(int)"
   ]
  },
  {
   "cell_type": "markdown",
   "metadata": {
    "id": "lnoCcS0eEDph"
   },
   "source": [
    "#### 전처리 프로세스 함수로 작성"
   ]
  },
  {
   "cell_type": "code",
   "execution_count": null,
   "metadata": {
    "id": "mp0An34aEDpi"
   },
   "outputs": [],
   "source": [
    "from sklearn.impute import SimpleImputer\n",
    "from sklearn.preprocessing import StandardScaler, OneHotEncoder\n",
    "\n",
    "def preprocess(x_train, x_valid, x_test):\n",
    "    tmp_x_train = x_train.copy()\n",
    "    tmp_x_valid = x_valid.copy()\n",
    "    tmp_x_test  = x_test.copy()\n",
    "    \n",
    "    tmp_x_train.reset_index(drop=True, inplace=True)\n",
    "    tmp_x_valid.reset_index(drop=True, inplace=True)\n",
    "    \n",
    "    # 결측치 처리\n",
    "    imputer = SimpleImputer(strategy='most_frequent')\n",
    "    tmp_x_train[cat_columns] = imputer.fit_transform(tmp_x_train[cat_columns])\n",
    "    tmp_x_valid[cat_columns] = imputer.transform(tmp_x_valid[cat_columns])\n",
    "    tmp_x_test[cat_columns]  = imputer.transform(tmp_x_test[cat_columns])\n",
    "    \n",
    "    # 스케일링\n",
    "    scaler = StandardScaler()\n",
    "    tmp_x_train[num_columns] = scaler.fit_transform(tmp_x_train[num_columns])\n",
    "    tmp_x_valid[num_columns] = scaler.transform(tmp_x_valid[num_columns])\n",
    "    tmp_x_test[num_columns]  = scaler.transform(tmp_x_test[num_columns])\n",
    "\n",
    "    # 인코딩\n",
    "    ohe = OneHotEncoder(sparse=False)\n",
    "    ohe.fit(tmp_x_train[cat_columns])\n",
    "    \n",
    "    tmp_x_train_cat = pd.DataFrame(ohe.transform(tmp_x_train[cat_columns]))\n",
    "    tmp_x_valid_cat = pd.DataFrame(ohe.transform(tmp_x_valid[cat_columns]))\n",
    "    tmp_x_test_cat  = pd.DataFrame(ohe.transform(tmp_x_test[cat_columns]))\n",
    "    \n",
    "    tmp_x_train.drop(columns=cat_columns, inplace=True)\n",
    "    tmp_x_valid.drop(columns=cat_columns, inplace=True)\n",
    "    tmp_x_test.drop(columns=cat_columns, inplace=True)\n",
    "    \n",
    "    tmp_x_train = pd.concat([tmp_x_train, tmp_x_train_cat], axis=1)\n",
    "    tmp_x_valid = pd.concat([tmp_x_valid, tmp_x_valid_cat], axis=1)\n",
    "    tmp_x_test  = pd.concat([tmp_x_test, tmp_x_test_cat], axis=1)\n",
    "    \n",
    "    return tmp_x_train, tmp_x_valid, tmp_x_test"
   ]
  },
  {
   "cell_type": "markdown",
   "metadata": {
    "id": "d0YXWbF8EDpk"
   },
   "source": [
    "### Out-of-fold(OOF) Ensemble"
   ]
  },
  {
   "cell_type": "code",
   "execution_count": null,
   "metadata": {
    "id": "CUeRRPyDEDpl"
   },
   "outputs": [],
   "source": [
    "from sklearn.model_selection import StratifiedKFold\n",
    "from sklearn.metrics import log_loss\n",
    "from xgboost import XGBClassifier\n",
    "\n",
    "def train():\n",
    "    with wandb.init() as run:\n",
    "        params = wandb.config\n",
    "        \n",
    "        val_scores = list()\n",
    "        oof_pred = np.zeros((test.shape[0], 3))\n",
    "        n_splits = 5\n",
    "\n",
    "        skf = StratifiedKFold(n_splits=n_splits, shuffle=True, random_state=42)\n",
    "\n",
    "        for i, (trn_idx, val_idx) in enumerate(skf.split(data, label)):\n",
    "            x_train, y_train = data.iloc[trn_idx, :], label.iloc[trn_idx,]\n",
    "            x_valid, y_valid = data.iloc[val_idx, :], label.iloc[val_idx,]\n",
    "\n",
    "            # 전처리\n",
    "            x_train, x_valid, x_test = preprocess(x_train, x_valid, test)\n",
    "\n",
    "            # 모델 정의\n",
    "            model = XGBClassifier(n_estimators=1000,\n",
    "                                  max_depth=params['max_depth'],\n",
    "                                  subsample=params['subsample'],\n",
    "                                  colsample_bytree=params['colsample_bytree'],\n",
    "                                  n_jobs=n_cpus-1)\n",
    "\n",
    "            # 모델 학습\n",
    "            model.fit(x_train, y_train, \n",
    "                      eval_metric='mlogloss', \n",
    "                      eval_set=[[x_train, y_train], [x_valid, y_valid]],\n",
    "                      early_stopping_rounds=100,\n",
    "                      verbose=100)\n",
    "\n",
    "            # 훈련, 검증 데이터 log_loss 확인\n",
    "            trn_logloss = log_loss(y_train, model.predict_proba(x_train))\n",
    "            val_logloss = log_loss(y_valid, model.predict_proba(x_valid))\n",
    "            print('{} Fold, train logloss : {:.4f}4, validation logloss : {:.4f}'.format(i, trn_logloss, val_logloss))\n",
    "\n",
    "            val_scores.append(val_logloss)\n",
    "            \n",
    "        metrics = {\"cv_loss\": np.mean(val_scores)}\n",
    "        wandb.log(metrics)\n",
    "count = 5\n",
    "wandb.agent(sweep_id, function=train, count=count)"
   ]
  }
 ],
 "metadata": {
  "accelerator": "GPU",
  "colab": {
   "collapsed_sections": [],
   "name": "Lab_04) WanDB.ipynb",
   "provenance": []
  },
  "kernelspec": {
   "display_name": "Python 3",
   "language": "python",
   "name": "python3"
  },
  "language_info": {
   "codemirror_mode": {
    "name": "ipython",
    "version": 3
   },
   "file_extension": ".py",
   "mimetype": "text/x-python",
   "name": "python",
   "nbconvert_exporter": "python",
   "pygments_lexer": "ipython3",
   "version": "3.8.8"
  }
 },
 "nbformat": 4,
 "nbformat_minor": 4
}
