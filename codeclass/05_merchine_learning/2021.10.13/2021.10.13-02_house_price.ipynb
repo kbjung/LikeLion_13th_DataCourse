{
 "cells": [
  {
   "cell_type": "code",
   "execution_count": 1,
   "id": "1e272d77",
   "metadata": {},
   "outputs": [],
   "source": [
    "import numpy as np # linear algebra\n",
    "import pandas as pd # data processing, CSV file I/O (e.g. pd.read_csv)"
   ]
  },
  {
   "cell_type": "code",
   "execution_count": 2,
   "id": "fceac580",
   "metadata": {},
   "outputs": [
    {
     "data": {
      "text/plain": [
       "(15035, 21)"
      ]
     },
     "execution_count": 2,
     "metadata": {},
     "output_type": "execute_result"
    }
   ],
   "source": [
    "trdata = pd.read_csv('train.csv')\n",
    "trdata.shape"
   ]
  },
  {
   "cell_type": "code",
   "execution_count": 3,
   "id": "9f7dddf7",
   "metadata": {},
   "outputs": [
    {
     "name": "stdout",
     "output_type": "stream",
     "text": [
      "<class 'pandas.core.frame.DataFrame'>\n",
      "RangeIndex: 15035 entries, 0 to 15034\n",
      "Data columns (total 21 columns):\n",
      " #   Column         Non-Null Count  Dtype  \n",
      "---  ------         --------------  -----  \n",
      " 0   id             15035 non-null  int64  \n",
      " 1   date           15035 non-null  object \n",
      " 2   price          15035 non-null  float64\n",
      " 3   bedrooms       15035 non-null  int64  \n",
      " 4   bathrooms      15035 non-null  float64\n",
      " 5   sqft_living    15035 non-null  int64  \n",
      " 6   sqft_lot       15035 non-null  int64  \n",
      " 7   floors         15035 non-null  float64\n",
      " 8   waterfront     15035 non-null  int64  \n",
      " 9   view           15035 non-null  int64  \n",
      " 10  condition      15035 non-null  int64  \n",
      " 11  grade          15035 non-null  int64  \n",
      " 12  sqft_above     15035 non-null  int64  \n",
      " 13  sqft_basement  15035 non-null  int64  \n",
      " 14  yr_built       15035 non-null  int64  \n",
      " 15  yr_renovated   15035 non-null  int64  \n",
      " 16  zipcode        15035 non-null  int64  \n",
      " 17  lat            15035 non-null  float64\n",
      " 18  long           15035 non-null  float64\n",
      " 19  sqft_living15  15035 non-null  int64  \n",
      " 20  sqft_lot15     15035 non-null  int64  \n",
      "dtypes: float64(5), int64(15), object(1)\n",
      "memory usage: 2.4+ MB\n"
     ]
    }
   ],
   "source": [
    "trdata.info()"
   ]
  },
  {
   "cell_type": "code",
   "execution_count": 4,
   "id": "7e1eae56",
   "metadata": {},
   "outputs": [],
   "source": [
    "X = trdata[['bedrooms', 'bathrooms']]\n",
    "y = trdata['price']"
   ]
  },
  {
   "cell_type": "code",
   "execution_count": 5,
   "id": "e312a250",
   "metadata": {},
   "outputs": [],
   "source": [
    "from sklearn.linear_model import LinearRegression\n",
    "from sklearn.model_selection import train_test_split"
   ]
  },
  {
   "cell_type": "code",
   "execution_count": 6,
   "id": "f1add5d2",
   "metadata": {},
   "outputs": [
    {
     "name": "stdout",
     "output_type": "stream",
     "text": [
      "훈련:테스트 = 9:1\n",
      "훈련 : 0.2828325442141998, 테스트 : 0.24113791234549464\n",
      "MSE : 98696620244.87102\n",
      "RMSE : 314160.18246249954\n",
      "훈련:테스트 = 8:2\n",
      "훈련 : 0.2819303951015737, 테스트 : 0.26593134757000714\n",
      "MSE : 98892171119.93195\n",
      "RMSE : 314471.25642883795\n",
      "훈련:테스트 = 7:3\n",
      "훈련 : 0.2797526354307749, 테스트 : 0.2761055288831431\n",
      "MSE : 95122565125.29292\n",
      "RMSE : 308419.46294825966\n",
      "훈련:테스트 = 6:4\n",
      "훈련 : 0.2766129590781735, 테스트 : 0.28206387721336956\n",
      "MSE : 97765098849.84207\n",
      "RMSE : 312674.109657071\n",
      "훈련:테스트 = 5:5\n",
      "훈련 : 0.2828047626138598, 테스트 : 0.27423652098942164\n",
      "MSE : 99898843413.90175\n",
      "RMSE : 316067.7829420483\n"
     ]
    }
   ],
   "source": [
    "for i in range(1,6):\n",
    "    # 데이터 분할\n",
    "    X_train, X_test, y_train, y_test = train_test_split(X, y, test_size=(i/10), random_state=0)\n",
    "    # 모델 생성\n",
    "    model = LinearRegression().fit(X_train, y_train)\n",
    "    # 예측값 계산\n",
    "    pred = model.predict(X_test)\n",
    "    # df 만들기\n",
    "    dict_dat = {'실제값': y_test, '예측값':pred, '오차':y_test-pred}\n",
    "    dat = pd.DataFrame(dict_dat)\n",
    "    # score, MSE, RMSE 계산\n",
    "    tr_s = model.score(X_train, y_train)\n",
    "    te_s = model.score(X_test, y_test)\n",
    "    dat['오차제곱'] = dat['오차'] ** 2\n",
    "    mse = dat['오차제곱'].sum()/ dat.shape[0]\n",
    "    rmse = mse ** 0.5\n",
    "    # 데이터 분할 비율, 결정계수, MSE, RMSE 출력\n",
    "    print(f'훈련:테스트 = {10-i}:{i}')\n",
    "    print(f'훈련 : {tr_s}, 테스트 : {te_s}')\n",
    "    print(f'MSE : {mse}')\n",
    "    print(f'RMSE : {rmse}')"
   ]
  },
  {
   "cell_type": "code",
   "execution_count": 7,
   "id": "bd7199f1",
   "metadata": {},
   "outputs": [
    {
     "data": {
      "text/plain": [
       "((7518, 4), (7518,))"
      ]
     },
     "execution_count": 7,
     "metadata": {},
     "output_type": "execute_result"
    }
   ],
   "source": [
    "dat.shape, y_test.shape"
   ]
  },
  {
   "cell_type": "code",
   "execution_count": 8,
   "id": "4718ef86",
   "metadata": {},
   "outputs": [
    {
     "name": "stdout",
     "output_type": "stream",
     "text": [
      "훈련:테스트 = 9:1\n",
      "훈련 : 0.5135140650148664, 테스트 : 0.47478033353851323\n",
      "MSE : 68309389557.33906\n",
      "RMSE : 261360.65036140973\n",
      "훈련:테스트 = 8:2\n",
      "훈련 : 0.5107857459264851, 테스트 : 0.5059020950444377\n",
      "MSE : 66563821251.75313\n",
      "RMSE : 257999.65358843628\n",
      "훈련:테스트 = 7:3\n",
      "훈련 : 0.513357890312232, 테스트 : 0.4997421669512402\n",
      "MSE : 65735836095.28202\n",
      "RMSE : 256390.00779141535\n",
      "훈련:테스트 = 6:4\n",
      "훈련 : 0.5078104324884394, 테스트 : 0.5124772446858016\n",
      "MSE : 66388511250.61062\n",
      "RMSE : 257659.68107294285\n",
      "훈련:테스트 = 5:5\n",
      "훈련 : 0.5096227405457396, 테스트 : 0.5095288366260046\n",
      "MSE : 67511666494.61406\n",
      "RMSE : 259830.0723446269\n"
     ]
    }
   ],
   "source": [
    "X = trdata[['bedrooms', 'bathrooms','sqft_living', 'sqft_lot']]\n",
    "y = trdata['price']\n",
    "for i in range(1,6):\n",
    "    # 데이터 분할\n",
    "    X_train, X_test, y_train, y_test = train_test_split(X, y, test_size=(i/10), random_state=0)\n",
    "    # 모델 생성\n",
    "    model = LinearRegression().fit(X_train, y_train)\n",
    "    # 예측값 계산\n",
    "    pred = model.predict(X_test)\n",
    "    # df 만들기\n",
    "    dict_dat = {'실제값': y_test, '예측값':pred, '오차':y_test-pred}\n",
    "    dat = pd.DataFrame(dict_dat)\n",
    "    # score, MSE, RMSE 계산\n",
    "    tr_s = model.score(X_train, y_train)\n",
    "    te_s = model.score(X_test, y_test)\n",
    "    dat['오차제곱'] = dat['오차'] ** 2\n",
    "    mse = dat['오차제곱'].sum()/ dat.shape[0]\n",
    "    rmse = mse ** 0.5\n",
    "    # 데이터 분할 비율, 결정계수, MSE, RMSE 출력\n",
    "    print(f'훈련:테스트 = {10-i}:{i}')\n",
    "    print(f'훈련 : {tr_s}, 테스트 : {te_s}')\n",
    "    print(f'MSE : {mse}')\n",
    "    print(f'RMSE : {rmse}')"
   ]
  },
  {
   "cell_type": "code",
   "execution_count": 9,
   "id": "2c35fc68",
   "metadata": {},
   "outputs": [
    {
     "name": "stdout",
     "output_type": "stream",
     "text": [
      "훈련:테스트 = 9:1\n",
      "훈련 : 0.5657783132141775, 테스트 : 0.5374871541778283\n",
      "MSE : 60153821682.64054\n",
      "RMSE : 245262.76048891022\n",
      "훈련:테스트 = 8:2\n",
      "훈련 : 0.5594966447751242, 테스트 : 0.577527593815584\n",
      "MSE : 56914586050.68698\n",
      "RMSE : 238567.7808311235\n",
      "훈련:테스트 = 7:3\n",
      "훈련 : 0.5633721142153587, 테스트 : 0.5610709850208153\n",
      "MSE : 57676989504.17625\n",
      "RMSE : 240160.3412392984\n",
      "훈련:테스트 = 6:4\n",
      "훈련 : 0.5576484755840377, 테스트 : 0.5707643965967342\n",
      "MSE : 58451246377.89483\n",
      "RMSE : 241766.92573198435\n",
      "훈련:테스트 = 5:5\n",
      "훈련 : 0.5554876995968958, 테스트 : 0.5692541100419205\n",
      "MSE : 59290688298.0216\n",
      "RMSE : 243496.79319864072\n"
     ]
    }
   ],
   "source": [
    "X = trdata[['bedrooms', 'bathrooms','sqft_living', 'sqft_lot', 'waterfront','view']]\n",
    "y = trdata['price']\n",
    "for i in range(1,6):\n",
    "    # 데이터 분할\n",
    "    X_train, X_test, y_train, y_test = train_test_split(X, y, test_size=(i/10), random_state=0)\n",
    "    # 모델 생성\n",
    "    model = LinearRegression().fit(X_train, y_train)\n",
    "    # 예측값 계산\n",
    "    pred = model.predict(X_test)\n",
    "    # df 만들기\n",
    "    dict_dat = {'실제값': y_test, '예측값':pred, '오차':y_test-pred}\n",
    "    dat = pd.DataFrame(dict_dat)\n",
    "    # score, MSE, RMSE 계산\n",
    "    tr_s = model.score(X_train, y_train)\n",
    "    te_s = model.score(X_test, y_test)\n",
    "    dat['오차제곱'] = dat['오차'] ** 2\n",
    "    mse = dat['오차제곱'].sum()/ dat.shape[0]\n",
    "    rmse = mse ** 0.5\n",
    "    # 데이터 분할 비율, 결정계수, MSE, RMSE 출력\n",
    "    print(f'훈련:테스트 = {10-i}:{i}')\n",
    "    print(f'훈련 : {tr_s}, 테스트 : {te_s}')\n",
    "    print(f'MSE : {mse}')\n",
    "    print(f'RMSE : {rmse}')"
   ]
  },
  {
   "cell_type": "code",
   "execution_count": 10,
   "id": "f209f1fc",
   "metadata": {},
   "outputs": [
    {
     "name": "stdout",
     "output_type": "stream",
     "text": [
      "훈련 : 테스트 = 9 : 1\n",
      "훈련 : 0.5980707954492577, 테스트 : 0.5726552408251868\n",
      "MSE : 55579905882.865715\n",
      "RMSE : 235753.90958129562\n",
      "\n",
      "훈련 : 테스트 = 8 : 2\n",
      "훈련 : 0.5911454513677192, 테스트 : 0.6136568825546762\n",
      "MSE : 52047324940.16235\n",
      "RMSE : 228138.82821686086\n",
      "\n",
      "훈련 : 테스트 = 7 : 3\n",
      "훈련 : 0.5946106933302601, 테스트 : 0.5967381003187361\n",
      "MSE : 52990191036.820465\n",
      "RMSE : 230195.98397196346\n",
      "\n",
      "훈련 : 테스트 = 6 : 4\n",
      "훈련 : 0.5882604282645164, 테스트 : 0.6061591017187913\n",
      "MSE : 53631365144.46742\n",
      "RMSE : 231584.46654399647\n",
      "\n",
      "훈련 : 테스트 = 5 : 5\n",
      "훈련 : 0.5852221657504112, 테스트 : 0.6045577895091963\n",
      "MSE : 54431258402.42534\n",
      "RMSE : 233305.07581796273\n",
      "\n"
     ]
    }
   ],
   "source": [
    "X = trdata[['bedrooms', 'bathrooms', 'sqft_living', 'sqft_lot', 'waterfront', 'view', 'yr_built', 'yr_renovated']]\n",
    "y = trdata['price']\n",
    "for i in range(1,6):\n",
    "    # 데이터 분할\n",
    "    X_train, X_test, y_train, y_test = train_test_split(X, y, test_size=(i/10), random_state=0)\n",
    "    # 모델 생성\n",
    "    model = LinearRegression().fit(X_train, y_train)\n",
    "    # 예측값 계산\n",
    "    pred = model.predict(X_test)\n",
    "    # df 만들기\n",
    "    dict_dat = {'실제값': y_test, '예측값':pred, '오차':y_test-pred}\n",
    "    dat = pd.DataFrame(dict_dat)\n",
    "    # score, MSE, RMSE 계산\n",
    "    tr_s = model.score(X_train, y_train)\n",
    "    te_s = model.score(X_test, y_test)\n",
    "    dat['오차제곱'] = dat['오차'] ** 2\n",
    "    mse = dat['오차제곱'].sum()/ dat.shape[0]\n",
    "    rmse = mse ** 0.5\n",
    "    # 데이터 분할 비율, 결정계수, MSE, RMSE 출력\n",
    "    print(f'훈련 : 테스트 = {10-i} : {i}')\n",
    "    print(f'훈련 : {tr_s}, 테스트 : {te_s}')\n",
    "    print(f'MSE : {mse}')\n",
    "    print(f'RMSE : {rmse}')\n",
    "    print()"
   ]
  },
  {
   "cell_type": "code",
   "execution_count": 11,
   "id": "f7dad441",
   "metadata": {
    "scrolled": false
   },
   "outputs": [
    {
     "name": "stdout",
     "output_type": "stream",
     "text": [
      "<class 'pandas.core.frame.DataFrame'>\n",
      "RangeIndex: 15035 entries, 0 to 15034\n",
      "Data columns (total 21 columns):\n",
      " #   Column         Non-Null Count  Dtype  \n",
      "---  ------         --------------  -----  \n",
      " 0   id             15035 non-null  int64  \n",
      " 1   date           15035 non-null  object \n",
      " 2   price          15035 non-null  float64\n",
      " 3   bedrooms       15035 non-null  int64  \n",
      " 4   bathrooms      15035 non-null  float64\n",
      " 5   sqft_living    15035 non-null  int64  \n",
      " 6   sqft_lot       15035 non-null  int64  \n",
      " 7   floors         15035 non-null  float64\n",
      " 8   waterfront     15035 non-null  int64  \n",
      " 9   view           15035 non-null  int64  \n",
      " 10  condition      15035 non-null  int64  \n",
      " 11  grade          15035 non-null  int64  \n",
      " 12  sqft_above     15035 non-null  int64  \n",
      " 13  sqft_basement  15035 non-null  int64  \n",
      " 14  yr_built       15035 non-null  int64  \n",
      " 15  yr_renovated   15035 non-null  int64  \n",
      " 16  zipcode        15035 non-null  int64  \n",
      " 17  lat            15035 non-null  float64\n",
      " 18  long           15035 non-null  float64\n",
      " 19  sqft_living15  15035 non-null  int64  \n",
      " 20  sqft_lot15     15035 non-null  int64  \n",
      "dtypes: float64(5), int64(15), object(1)\n",
      "memory usage: 2.4+ MB\n"
     ]
    }
   ],
   "source": [
    "trdata.info()"
   ]
  },
  {
   "cell_type": "markdown",
   "id": "b163943e",
   "metadata": {},
   "source": [
    "### 과대적합 문제 해결 방법"
   ]
  },
  {
   "cell_type": "code",
   "execution_count": 12,
   "id": "a8ad8b91",
   "metadata": {},
   "outputs": [],
   "source": [
    "from sklearn.preprocessing import MinMaxScaler, PolynomialFeatures # PolynomialFeatures : 새로운 특성을 만들어 낸다.\n",
    "from sklearn.linear_model import Lasso, Ridge"
   ]
  },
  {
   "cell_type": "code",
   "execution_count": 13,
   "id": "4b7e5436",
   "metadata": {},
   "outputs": [
    {
     "name": "stdout",
     "output_type": "stream",
     "text": [
      "<class 'numpy.ndarray'>\n",
      "0.0 0.4782608695652186\n",
      "0.0 0.2869565217391319\n"
     ]
    }
   ],
   "source": [
    "# 정규화\n",
    "nor_X = MinMaxScaler().fit_transform(X)\n",
    "print(type(nor_X))\n",
    "print(np.min(nor_X[0]), np.max(nor_X[0]))\n",
    "print(np.min(nor_X[1]), np.max(nor_X[1]))"
   ]
  },
  {
   "cell_type": "code",
   "execution_count": 18,
   "id": "0025ab37",
   "metadata": {},
   "outputs": [
    {
     "name": "stdout",
     "output_type": "stream",
     "text": [
      "(15035, 44) (15035,)\n"
     ]
    }
   ],
   "source": [
    "# 특성 생성.(a, b, a*b,... 특성 추가)\n",
    "ex_X = PolynomialFeatures(degree=2, include_bias=False).fit_transform(nor_X)\n",
    "\n",
    "print(ex_X.shape, y.shape)"
   ]
  },
  {
   "cell_type": "code",
   "execution_count": 15,
   "id": "e5f40465",
   "metadata": {},
   "outputs": [],
   "source": [
    "# Lasso, Ridge 회귀 분석\n",
    "X_train, X_test, y_train, y_test = train_test_split(ex_X, y, random_state=42)"
   ]
  },
  {
   "cell_type": "code",
   "execution_count": 16,
   "id": "0590a71b",
   "metadata": {},
   "outputs": [
    {
     "name": "stdout",
     "output_type": "stream",
     "text": [
      "0.6727495574230302\n",
      "0.6028465688520928\n"
     ]
    },
    {
     "name": "stderr",
     "output_type": "stream",
     "text": [
      "C:\\Users\\kbjoo\\anaconda3\\lib\\site-packages\\sklearn\\linear_model\\_coordinate_descent.py:530: ConvergenceWarning: Objective did not converge. You might want to increase the number of iterations. Duality gap: 255911843854916.34, tolerance: 160896057996.96417\n",
      "  model = cd_fast.enet_coordinate_descent(\n"
     ]
    }
   ],
   "source": [
    "# Lasso\n",
    "lasso_model = Lasso(alpha=0.1).fit(X_train, y_train)\n",
    "print(lasso_model.score(X_train, y_train))\n",
    "print(lasso_model.score(X_test, y_test))"
   ]
  },
  {
   "cell_type": "code",
   "execution_count": 17,
   "id": "77580a4c",
   "metadata": {},
   "outputs": [
    {
     "name": "stdout",
     "output_type": "stream",
     "text": [
      "0.6722217394389477\n",
      "0.6053120326222973\n"
     ]
    }
   ],
   "source": [
    "# Ridge\n",
    "ridge_model = Ridge(alpha=0.01).fit(X_train, y_train)\n",
    "print(ridge_model.score(X_train, y_train))\n",
    "print(ridge_model.score(X_test, y_test))"
   ]
  },
  {
   "cell_type": "code",
   "execution_count": null,
   "id": "8442f7dd",
   "metadata": {},
   "outputs": [],
   "source": []
  }
 ],
 "metadata": {
  "kernelspec": {
   "display_name": "Python 3",
   "language": "python",
   "name": "python3"
  },
  "language_info": {
   "codemirror_mode": {
    "name": "ipython",
    "version": 3
   },
   "file_extension": ".py",
   "mimetype": "text/x-python",
   "name": "python",
   "nbconvert_exporter": "python",
   "pygments_lexer": "ipython3",
   "version": "3.8.8"
  }
 },
 "nbformat": 4,
 "nbformat_minor": 5
}
