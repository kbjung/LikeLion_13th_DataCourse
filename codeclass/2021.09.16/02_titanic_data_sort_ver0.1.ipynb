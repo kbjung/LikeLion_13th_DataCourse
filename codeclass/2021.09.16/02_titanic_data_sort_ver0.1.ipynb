{
 "cells": [
  {
   "cell_type": "code",
   "execution_count": 1,
   "id": "745b483c",
   "metadata": {},
   "outputs": [],
   "source": [
    "import seaborn as sns\n",
    "\n",
    "t = sns.load_dataset('titanic')"
   ]
  },
  {
   "cell_type": "code",
   "execution_count": 5,
   "id": "91e02f45",
   "metadata": {},
   "outputs": [
    {
     "data": {
      "text/plain": [
       "0      3\n",
       "1      1\n",
       "2      3\n",
       "3      1\n",
       "4      3\n",
       "      ..\n",
       "886    2\n",
       "887    1\n",
       "888    3\n",
       "889    1\n",
       "890    3\n",
       "Name: pclass, Length: 891, dtype: int64"
      ]
     },
     "execution_count": 5,
     "metadata": {},
     "output_type": "execute_result"
    }
   ],
   "source": [
    "cl = t['pclass']\n",
    "cl"
   ]
  },
  {
   "cell_type": "code",
   "execution_count": 3,
   "id": "2ccc34e0",
   "metadata": {},
   "outputs": [
    {
     "name": "stdout",
     "output_type": "stream",
     "text": [
      "1등석 승객수 : 216\n",
      "2등석 승객수 : 184\n",
      "3등석 승객수 : 491\n"
     ]
    }
   ],
   "source": [
    "# 등석별 승객수\n",
    "cl = t['pclass']\n",
    "\n",
    "cl_count1 = 0\n",
    "cl_count2 = 0\n",
    "cl_count3 = 0\n",
    "\n",
    "for i in range(cl.count()):\n",
    "    if cl[i] == 1:\n",
    "        cl_count1 += 1\n",
    "    elif cl[i] == 2:\n",
    "        cl_count2 += 1\n",
    "    elif cl[i] ==3:\n",
    "        cl_count3 += 1\n",
    "        \n",
    "print(f\"1등석 승객수 : {cl_count1}\")\n",
    "print(f\"2등석 승객수 : {cl_count2}\")\n",
    "print(f\"3등석 승객수 : {cl_count3}\")"
   ]
  },
  {
   "cell_type": "code",
   "execution_count": 4,
   "id": "f8428634",
   "metadata": {},
   "outputs": [
    {
     "name": "stdout",
     "output_type": "stream",
     "text": [
      "요금의 평균 : 32.2042079685746\n",
      "요금의 최대 : 512.3292\n",
      "요금의 최소 : 0.0\n"
     ]
    }
   ],
   "source": [
    "# 운임 가격의 평균, 최대, 최소값\n",
    "fare = t['fare']\n",
    "\n",
    "print(\"요금의 평균 :\", fare.mean())\n",
    "print(\"요금의 최대 :\", fare.max())\n",
    "print(\"요금의 최소 :\", fare.min())"
   ]
  },
  {
   "cell_type": "code",
   "execution_count": 6,
   "id": "de43ddc8",
   "metadata": {},
   "outputs": [
    {
     "data": {
      "text/html": [
       "<div>\n",
       "<style scoped>\n",
       "    .dataframe tbody tr th:only-of-type {\n",
       "        vertical-align: middle;\n",
       "    }\n",
       "\n",
       "    .dataframe tbody tr th {\n",
       "        vertical-align: top;\n",
       "    }\n",
       "\n",
       "    .dataframe thead th {\n",
       "        text-align: right;\n",
       "    }\n",
       "</style>\n",
       "<table border=\"1\" class=\"dataframe\">\n",
       "  <thead>\n",
       "    <tr style=\"text-align: right;\">\n",
       "      <th></th>\n",
       "      <th>pclass</th>\n",
       "      <th>fare</th>\n",
       "    </tr>\n",
       "  </thead>\n",
       "  <tbody>\n",
       "    <tr>\n",
       "      <th>0</th>\n",
       "      <td>3</td>\n",
       "      <td>7.2500</td>\n",
       "    </tr>\n",
       "    <tr>\n",
       "      <th>1</th>\n",
       "      <td>1</td>\n",
       "      <td>71.2833</td>\n",
       "    </tr>\n",
       "    <tr>\n",
       "      <th>2</th>\n",
       "      <td>3</td>\n",
       "      <td>7.9250</td>\n",
       "    </tr>\n",
       "    <tr>\n",
       "      <th>3</th>\n",
       "      <td>1</td>\n",
       "      <td>53.1000</td>\n",
       "    </tr>\n",
       "    <tr>\n",
       "      <th>4</th>\n",
       "      <td>3</td>\n",
       "      <td>8.0500</td>\n",
       "    </tr>\n",
       "    <tr>\n",
       "      <th>...</th>\n",
       "      <td>...</td>\n",
       "      <td>...</td>\n",
       "    </tr>\n",
       "    <tr>\n",
       "      <th>886</th>\n",
       "      <td>2</td>\n",
       "      <td>13.0000</td>\n",
       "    </tr>\n",
       "    <tr>\n",
       "      <th>887</th>\n",
       "      <td>1</td>\n",
       "      <td>30.0000</td>\n",
       "    </tr>\n",
       "    <tr>\n",
       "      <th>888</th>\n",
       "      <td>3</td>\n",
       "      <td>23.4500</td>\n",
       "    </tr>\n",
       "    <tr>\n",
       "      <th>889</th>\n",
       "      <td>1</td>\n",
       "      <td>30.0000</td>\n",
       "    </tr>\n",
       "    <tr>\n",
       "      <th>890</th>\n",
       "      <td>3</td>\n",
       "      <td>7.7500</td>\n",
       "    </tr>\n",
       "  </tbody>\n",
       "</table>\n",
       "<p>891 rows × 2 columns</p>\n",
       "</div>"
      ],
      "text/plain": [
       "     pclass     fare\n",
       "0         3   7.2500\n",
       "1         1  71.2833\n",
       "2         3   7.9250\n",
       "3         1  53.1000\n",
       "4         3   8.0500\n",
       "..      ...      ...\n",
       "886       2  13.0000\n",
       "887       1  30.0000\n",
       "888       3  23.4500\n",
       "889       1  30.0000\n",
       "890       3   7.7500\n",
       "\n",
       "[891 rows x 2 columns]"
      ]
     },
     "execution_count": 6,
     "metadata": {},
     "output_type": "execute_result"
    }
   ],
   "source": [
    "# 클래스별 운임의 평균, 최대, 최소값\n",
    "fare_by_class = t[['pclass', 'fare']]\n",
    "fare_by_class"
   ]
  },
  {
   "cell_type": "code",
   "execution_count": 7,
   "id": "5090a542",
   "metadata": {},
   "outputs": [
    {
     "name": "stdout",
     "output_type": "stream",
     "text": [
      "1등석 요금의 합계 : 18177.412499999984\n",
      "2등석 요금의 합계 : 3801.8416999999995\n",
      "3등석 요금의 합계 : 6714.695100000002\n"
     ]
    }
   ],
   "source": [
    "# 클래스 별 운임 합계\n",
    "sum_fare_by_class1 = 0\n",
    "sum_fare_by_class2 = 0\n",
    "sum_fare_by_class3 = 0\n",
    "\n",
    "for i in range(len(fare_by_class)):\n",
    "    if fare_by_class.iloc[i,0] == 1:\n",
    "        sum_fare_by_class1 += fare_by_class.iloc[i,1]\n",
    "        \n",
    "for i in range(len(fare_by_class)):\n",
    "    if fare_by_class.iloc[i,0] == 2:\n",
    "        sum_fare_by_class2 += fare_by_class.iloc[i,1]\n",
    "        \n",
    "for i in range(len(fare_by_class)):\n",
    "    if fare_by_class.iloc[i,0] == 3:\n",
    "        sum_fare_by_class3 += fare_by_class.iloc[i,1]\n",
    "        \n",
    "print(\"1등석 요금의 합계 :\", sum_fare_by_class1)\n",
    "print(\"2등석 요금의 합계 :\", sum_fare_by_class2)\n",
    "print(\"3등석 요금의 합계 :\", sum_fare_by_class3)"
   ]
  },
  {
   "cell_type": "code",
   "execution_count": 8,
   "id": "6a7f8f32",
   "metadata": {},
   "outputs": [
    {
     "name": "stdout",
     "output_type": "stream",
     "text": [
      "1등석 요금의 평균 : 84.15468749999992\n",
      "2등석 요금의 평균 : 20.66218315217391\n",
      "3등석 요금의 평균 : 13.675550101832997\n"
     ]
    }
   ],
   "source": [
    "# 클래스 별 운임 평균\n",
    "print(\"1등석 요금의 평균 :\", sum_fare_by_class1 / cl_count1)\n",
    "print(\"2등석 요금의 평균 :\", sum_fare_by_class2 / cl_count2)\n",
    "print(\"3등석 요금의 평균 :\", sum_fare_by_class3 / cl_count3)"
   ]
  }
 ],
 "metadata": {
  "kernelspec": {
   "display_name": "Python 3",
   "language": "python",
   "name": "python3"
  },
  "language_info": {
   "codemirror_mode": {
    "name": "ipython",
    "version": 3
   },
   "file_extension": ".py",
   "mimetype": "text/x-python",
   "name": "python",
   "nbconvert_exporter": "python",
   "pygments_lexer": "ipython3",
   "version": "3.8.8"
  }
 },
 "nbformat": 4,
 "nbformat_minor": 5
}
