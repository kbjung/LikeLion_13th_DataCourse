{
 "cells": [
  {
   "cell_type": "code",
   "execution_count": 1,
   "metadata": {
    "_cell_guid": "b1076dfc-b9ad-4769-8c92-a6c4dae69d19",
    "_uuid": "8f2839f25d086af736a60e9eeb907d3b93b6e0e5",
    "execution": {
     "iopub.execute_input": "2021-10-14T04:05:20.529142Z",
     "iopub.status.busy": "2021-10-14T04:05:20.528162Z",
     "iopub.status.idle": "2021-10-14T04:05:20.562558Z",
     "shell.execute_reply": "2021-10-14T04:05:20.561420Z",
     "shell.execute_reply.started": "2021-10-14T04:05:20.529015Z"
    }
   },
   "outputs": [],
   "source": [
    "# This Python 3 environment comes with many helpful analytics libraries installed\n",
    "# It is defined by the kaggle/python Docker image: https://github.com/kaggle/docker-python\n",
    "# For example, here's several helpful packages to load\n",
    "\n",
    "import numpy as np # linear algebra\n",
    "import pandas as pd # data processing, CSV file I/O (e.g. pd.read_csv)\n",
    "\n",
    "# Input data files are available in the read-only \"../input/\" directory\n",
    "# For example, running this (by clicking run or pressing Shift+Enter) will list all files under the input directory\n",
    "\n",
    "import os\n",
    "for dirname, _, filenames in os.walk('/kaggle/input'):\n",
    "    for filename in filenames:\n",
    "        print(os.path.join(dirname, filename))\n",
    "\n",
    "# You can write up to 20GB to the current directory (/kaggle/working/) that gets preserved as output when you create a version using \"Save & Run All\" \n",
    "# You can also write temporary files to /kaggle/temp/, but they won't be saved outside of the current session"
   ]
  },
  {
   "cell_type": "code",
   "execution_count": 2,
   "metadata": {
    "execution": {
     "iopub.execute_input": "2021-10-14T04:06:32.342845Z",
     "iopub.status.busy": "2021-10-14T04:06:32.342446Z",
     "iopub.status.idle": "2021-10-14T04:06:32.388222Z",
     "shell.execute_reply": "2021-10-14T04:06:32.387360Z",
     "shell.execute_reply.started": "2021-10-14T04:06:32.342809Z"
    }
   },
   "outputs": [],
   "source": [
    "train = pd.read_csv('/kaggle/input/titanic/train.csv')\n",
    "test = pd.read_csv('/kaggle/input/titanic/test.csv')\n",
    "sub = pd.read_csv('/kaggle/input/titanic/gender_submission.csv')\n",
    "\n",
    "train.shape, test.shape, sub.shape"
   ]
  },
  {
   "cell_type": "code",
   "execution_count": 16,
   "metadata": {
    "execution": {
     "iopub.execute_input": "2021-10-14T04:17:12.072874Z",
     "iopub.status.busy": "2021-10-14T04:17:12.072407Z",
     "iopub.status.idle": "2021-10-14T04:17:12.079866Z",
     "shell.execute_reply": "2021-10-14T04:17:12.079021Z",
     "shell.execute_reply.started": "2021-10-14T04:17:12.072843Z"
    }
   },
   "outputs": [],
   "source": [
    "print(train.columns)\n",
    "print(test.columns)"
   ]
  },
  {
   "cell_type": "code",
   "execution_count": 13,
   "metadata": {
    "execution": {
     "iopub.execute_input": "2021-10-14T04:16:20.228197Z",
     "iopub.status.busy": "2021-10-14T04:16:20.227898Z",
     "iopub.status.idle": "2021-10-14T04:16:20.250848Z",
     "shell.execute_reply": "2021-10-14T04:16:20.249841Z",
     "shell.execute_reply.started": "2021-10-14T04:16:20.228168Z"
    }
   },
   "outputs": [],
   "source": [
    "train.info()"
   ]
  },
  {
   "cell_type": "code",
   "execution_count": 14,
   "metadata": {
    "execution": {
     "iopub.execute_input": "2021-10-14T04:16:56.349214Z",
     "iopub.status.busy": "2021-10-14T04:16:56.348143Z",
     "iopub.status.idle": "2021-10-14T04:16:56.356711Z",
     "shell.execute_reply": "2021-10-14T04:16:56.355421Z",
     "shell.execute_reply.started": "2021-10-14T04:16:56.349155Z"
    }
   },
   "outputs": [],
   "source": [
    "train['Age'] = train['Age'].fillna(train['Age'].mean())"
   ]
  },
  {
   "cell_type": "code",
   "execution_count": 15,
   "metadata": {
    "execution": {
     "iopub.execute_input": "2021-10-14T04:17:05.406495Z",
     "iopub.status.busy": "2021-10-14T04:17:05.406071Z",
     "iopub.status.idle": "2021-10-14T04:17:05.421731Z",
     "shell.execute_reply": "2021-10-14T04:17:05.420709Z",
     "shell.execute_reply.started": "2021-10-14T04:17:05.406466Z"
    }
   },
   "outputs": [],
   "source": [
    "train.info()"
   ]
  },
  {
   "cell_type": "code",
   "execution_count": 18,
   "metadata": {
    "execution": {
     "iopub.execute_input": "2021-10-14T04:17:45.382943Z",
     "iopub.status.busy": "2021-10-14T04:17:45.382511Z",
     "iopub.status.idle": "2021-10-14T04:17:45.387637Z",
     "shell.execute_reply": "2021-10-14T04:17:45.386966Z",
     "shell.execute_reply.started": "2021-10-14T04:17:45.382895Z"
    }
   },
   "outputs": [],
   "source": [
    "from sklearn.model_selection import train_test_split\n",
    "from sklearn.tree import DecisionTreeClassifier"
   ]
  },
  {
   "cell_type": "code",
   "execution_count": 22,
   "metadata": {
    "execution": {
     "iopub.execute_input": "2021-10-14T04:22:23.752090Z",
     "iopub.status.busy": "2021-10-14T04:22:23.751747Z",
     "iopub.status.idle": "2021-10-14T04:22:23.769961Z",
     "shell.execute_reply": "2021-10-14T04:22:23.769191Z",
     "shell.execute_reply.started": "2021-10-14T04:22:23.752057Z"
    }
   },
   "outputs": [],
   "source": [
    "sel = ['Pclass', 'Age', 'SibSp']\n",
    "\n",
    "train_X = train[sel]\n",
    "train_y = train['Survived']\n",
    "\n",
    "test_X = test[sel]\n",
    "\n",
    "X_train, X_test, y_train, y_test = train_test_split(train_X, train_y, test_size=0.3, random_state=0)\n",
    "X_train.shape, X_test.shape, y_train.shape, y_test.shape"
   ]
  },
  {
   "cell_type": "code",
   "execution_count": 23,
   "metadata": {
    "execution": {
     "iopub.execute_input": "2021-10-14T04:22:25.148540Z",
     "iopub.status.busy": "2021-10-14T04:22:25.147918Z",
     "iopub.status.idle": "2021-10-14T04:22:25.158442Z",
     "shell.execute_reply": "2021-10-14T04:22:25.157620Z",
     "shell.execute_reply.started": "2021-10-14T04:22:25.148501Z"
    }
   },
   "outputs": [],
   "source": [
    "tree = DecisionTreeClassifier(max_depth=2, random_state=0)\n",
    "tree.fit(X_train, y_train)"
   ]
  },
  {
   "cell_type": "code",
   "execution_count": 24,
   "metadata": {
    "execution": {
     "iopub.execute_input": "2021-10-14T04:22:31.555249Z",
     "iopub.status.busy": "2021-10-14T04:22:31.554251Z",
     "iopub.status.idle": "2021-10-14T04:22:31.567643Z",
     "shell.execute_reply": "2021-10-14T04:22:31.566655Z",
     "shell.execute_reply.started": "2021-10-14T04:22:31.555187Z"
    }
   },
   "outputs": [],
   "source": [
    "print(\"학습용 세트 정확도 : {:.3f}\".format(tree.score(X_train, y_train)))\n",
    "print(\"테스트용 세트 정확도 : {:.3f}\".format(tree.score(X_test, y_test)))"
   ]
  },
  {
   "cell_type": "code",
   "execution_count": 36,
   "metadata": {
    "execution": {
     "iopub.execute_input": "2021-10-14T04:27:31.653033Z",
     "iopub.status.busy": "2021-10-14T04:27:31.652754Z",
     "iopub.status.idle": "2021-10-14T04:27:31.680723Z",
     "shell.execute_reply": "2021-10-14T04:27:31.679416Z",
     "shell.execute_reply.started": "2021-10-14T04:27:31.653008Z"
    }
   },
   "outputs": [],
   "source": [
    "# Sex mapping => male:0, female:1\n",
    "train['Sex_num'] = train['Sex'].map({'male':0, 'female':1 }).astype(int)\n",
    "test['Sex_num'] = test['Sex'].map({'male':0, 'female':1 }).astype(int)\n",
    "print(test.info())\n",
    "print(train.info())"
   ]
  },
  {
   "cell_type": "code",
   "execution_count": 76,
   "metadata": {
    "execution": {
     "iopub.execute_input": "2021-10-14T05:13:28.077632Z",
     "iopub.status.busy": "2021-10-14T05:13:28.077320Z",
     "iopub.status.idle": "2021-10-14T05:13:28.095306Z",
     "shell.execute_reply": "2021-10-14T05:13:28.094464Z",
     "shell.execute_reply.started": "2021-10-14T05:13:28.077603Z"
    }
   },
   "outputs": [],
   "source": [
    "train.head()"
   ]
  },
  {
   "cell_type": "code",
   "execution_count": 75,
   "metadata": {
    "execution": {
     "iopub.execute_input": "2021-10-14T05:13:25.078741Z",
     "iopub.status.busy": "2021-10-14T05:13:25.078388Z",
     "iopub.status.idle": "2021-10-14T05:13:25.095558Z",
     "shell.execute_reply": "2021-10-14T05:13:25.094741Z",
     "shell.execute_reply.started": "2021-10-14T05:13:25.078702Z"
    }
   },
   "outputs": [],
   "source": [
    "test.head()"
   ]
  },
  {
   "cell_type": "code",
   "execution_count": 70,
   "metadata": {
    "execution": {
     "iopub.execute_input": "2021-10-14T05:13:03.036647Z",
     "iopub.status.busy": "2021-10-14T05:13:03.036302Z",
     "iopub.status.idle": "2021-10-14T05:13:03.081006Z",
     "shell.execute_reply": "2021-10-14T05:13:03.080136Z",
     "shell.execute_reply.started": "2021-10-14T05:13:03.036606Z"
    }
   },
   "outputs": [],
   "source": [
    "# ['Pclass', 'Age', 'SibSp', 'Sex_num']\n",
    "\n",
    "# Sex mapping => male:1, female:2\n",
    "train['Sex_num'] = train['Sex'].map({'male':1, 'female':2 }).astype(int)\n",
    "test['Sex_num'] = test['Sex'].map({'male':1, 'female':2 }).astype(int)\n",
    "\n",
    "sel = ['Pclass', 'Age', 'SibSp', 'Sex_num']\n",
    "\n",
    "train_X = train[sel]\n",
    "train_y = train['Survived']\n",
    "\n",
    "test_X = test[sel]\n",
    "\n",
    "X_train, X_test, y_train, y_test = train_test_split(train_X, train_y, test_size=0.3, random_state=0)\n",
    "tree = DecisionTreeClassifier(max_depth=2, random_state=0)\n",
    "tree.fit(X_train, y_train)\n",
    "print(\"학습용 세트 정확도 : {:.3f}\".format(tree.score(X_train, y_train)))\n",
    "print(\"테스트용 세트 정확도 : {:.3f}\".format(tree.score(X_test, y_test)))"
   ]
  },
  {
   "cell_type": "code",
   "execution_count": 71,
   "metadata": {
    "execution": {
     "iopub.execute_input": "2021-10-14T05:13:04.808647Z",
     "iopub.status.busy": "2021-10-14T05:13:04.808302Z",
     "iopub.status.idle": "2021-10-14T05:13:04.829982Z",
     "shell.execute_reply": "2021-10-14T05:13:04.828986Z",
     "shell.execute_reply.started": "2021-10-14T05:13:04.808612Z"
    }
   },
   "outputs": [],
   "source": [
    "# ['Pclass', 'Age', 'SibSp', 'Sex_num', 'Parch', 'Fare']\n",
    "\n",
    "sel = ['Pclass', 'Age', 'SibSp', 'Sex_num', 'Parch', 'Fare']\n",
    "\n",
    "train_X = train[sel]\n",
    "train_y = train['Survived']\n",
    "\n",
    "test_X = test[sel]\n",
    "\n",
    "X_train, X_test, y_train, y_test = train_test_split(train_X, train_y, test_size=0.3, random_state=0)\n",
    "tree = DecisionTreeClassifier(max_depth=2, random_state=0)\n",
    "tree.fit(X_train, y_train)\n",
    "print(\"학습용 세트 정확도 : {:.3f}\".format(tree.score(X_train, y_train)))\n",
    "print(\"테스트용 세트 정확도 : {:.3f}\".format(tree.score(X_test, y_test)))"
   ]
  },
  {
   "cell_type": "code",
   "execution_count": 72,
   "metadata": {
    "execution": {
     "iopub.execute_input": "2021-10-14T05:13:08.036546Z",
     "iopub.status.busy": "2021-10-14T05:13:08.036209Z",
     "iopub.status.idle": "2021-10-14T05:13:08.044954Z",
     "shell.execute_reply": "2021-10-14T05:13:08.043844Z",
     "shell.execute_reply.started": "2021-10-14T05:13:08.036513Z"
    }
   },
   "outputs": [],
   "source": [
    "def tree_decision_model(testsize, maxdepth):\n",
    "    sel = ['Pclass', 'Age', 'SibSp', 'Sex_num', 'Parch', 'Fare']\n",
    "\n",
    "    train_X = train[sel]\n",
    "    train_y = train['Survived']\n",
    "\n",
    "    test_X = test[sel]\n",
    "\n",
    "    X_train, X_test, y_train, y_test = train_test_split(train_X, train_y, test_size=testsize, random_state=0)\n",
    "    tree = DecisionTreeClassifier(max_depth=maxdepth, random_state=0)\n",
    "    tree.fit(X_train, y_train)\n",
    "    print(f'test_size={testsize}, max_depth={maxdepth}')\n",
    "    print(\"학습용 세트 정확도 : {:.3f}\".format(tree.score(X_train, y_train)))\n",
    "    print(\"테스트용 세트 정확도 : {:.3f}\".format(tree.score(X_test, y_test)))\n",
    "    print()"
   ]
  },
  {
   "cell_type": "code",
   "execution_count": 73,
   "metadata": {
    "execution": {
     "iopub.execute_input": "2021-10-14T05:13:11.341756Z",
     "iopub.status.busy": "2021-10-14T05:13:11.341410Z",
     "iopub.status.idle": "2021-10-14T05:13:11.720092Z",
     "shell.execute_reply": "2021-10-14T05:13:11.718944Z",
     "shell.execute_reply.started": "2021-10-14T05:13:11.341716Z"
    }
   },
   "outputs": [],
   "source": [
    "for s in range(1,6):\n",
    "    for d in range(1,8):\n",
    "        tree_decision_model(s/10, d)\n",
    "# test_size = 0.1, max_depth = 3"
   ]
  },
  {
   "cell_type": "code",
   "execution_count": 74,
   "metadata": {
    "execution": {
     "iopub.execute_input": "2021-10-14T05:13:15.101612Z",
     "iopub.status.busy": "2021-10-14T05:13:15.101297Z",
     "iopub.status.idle": "2021-10-14T05:13:15.326267Z",
     "shell.execute_reply": "2021-10-14T05:13:15.325400Z",
     "shell.execute_reply.started": "2021-10-14T05:13:15.101581Z"
    }
   },
   "outputs": [],
   "source": [
    "# 중요도 그래프 그리기\n",
    "\n",
    "import matplotlib.pyplot as plt\n",
    "\n",
    "imp = tree.feature_importances_\n",
    "plt.barh(sel, imp, align='center')\n",
    "\n",
    "plt.xlabel('feature importance')\n",
    "plt.ylabel('feature')\n",
    "    \n",
    "plt.figure(figsize=(12,12))\n",
    "plt.show()"
   ]
  },
  {
   "cell_type": "code",
   "execution_count": null,
   "metadata": {},
   "outputs": [],
   "source": []
  }
 ],
 "metadata": {
  "kernelspec": {
   "display_name": "Python 3",
   "language": "python",
   "name": "python3"
  },
  "language_info": {
   "codemirror_mode": {
    "name": "ipython",
    "version": 3
   },
   "file_extension": ".py",
   "mimetype": "text/x-python",
   "name": "python",
   "nbconvert_exporter": "python",
   "pygments_lexer": "ipython3",
   "version": "3.8.8"
  }
 },
 "nbformat": 4,
 "nbformat_minor": 4
}
