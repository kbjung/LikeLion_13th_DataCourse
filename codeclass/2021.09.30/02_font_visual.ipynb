{
  "nbformat": 4,
  "nbformat_minor": 0,
  "metadata": {
    "colab": {
      "name": "02_font_visual.ipynb",
      "provenance": [],
      "collapsed_sections": []
    },
    "kernelspec": {
      "name": "python3",
      "display_name": "Python 3"
    },
    "language_info": {
      "name": "python"
    }
  },
  "cells": [
    {
      "cell_type": "markdown",
      "metadata": {
        "id": "bq9uINWW6Mx4"
      },
      "source": [
        "### 2021.09.30/data에서 파일가져와서 실행할 것."
      ]
    },
    {
      "cell_type": "markdown",
      "metadata": {
        "id": "2H2BJamgfYe9"
      },
      "source": [
        "# 한글 데이터 시각화"
      ]
    },
    {
      "cell_type": "code",
      "metadata": {
        "colab": {
          "base_uri": "https://localhost:8080/"
        },
        "id": "xETbfUiKf2Xs",
        "outputId": "132b0d93-b555-455d-d5b6-29b6f52e3204"
      },
      "source": [
        "# 한글 폰트 설치(9시간정도 지속)\n",
        "\n",
        "### 나눔 고딕 설치(리눅스 명령어)\n",
        "!apt-get update -qq   # 설치를 업데이트 \n",
        "!apt-get install fonts-nanum* -qq  # 설치한다. fonts-nanum*"
      ],
      "execution_count": null,
      "outputs": [
        {
          "output_type": "stream",
          "name": "stdout",
          "text": [
            "Selecting previously unselected package fonts-nanum.\n",
            "(Reading database ... 155013 files and directories currently installed.)\n",
            "Preparing to unpack .../fonts-nanum_20170925-1_all.deb ...\n",
            "Unpacking fonts-nanum (20170925-1) ...\n",
            "Selecting previously unselected package fonts-nanum-eco.\n",
            "Preparing to unpack .../fonts-nanum-eco_1.000-6_all.deb ...\n",
            "Unpacking fonts-nanum-eco (1.000-6) ...\n",
            "Selecting previously unselected package fonts-nanum-extra.\n",
            "Preparing to unpack .../fonts-nanum-extra_20170925-1_all.deb ...\n",
            "Unpacking fonts-nanum-extra (20170925-1) ...\n",
            "Selecting previously unselected package fonts-nanum-coding.\n",
            "Preparing to unpack .../fonts-nanum-coding_2.5-1_all.deb ...\n",
            "Unpacking fonts-nanum-coding (2.5-1) ...\n",
            "Setting up fonts-nanum-extra (20170925-1) ...\n",
            "Setting up fonts-nanum (20170925-1) ...\n",
            "Setting up fonts-nanum-coding (2.5-1) ...\n",
            "Setting up fonts-nanum-eco (1.000-6) ...\n",
            "Processing triggers for fontconfig (2.12.6-0ubuntu2) ...\n"
          ]
        }
      ]
    },
    {
      "cell_type": "code",
      "metadata": {
        "id": "3EzLxH35f29u"
      },
      "source": [
        "# 그래프 폰트를 나눔 고딕으로 설정\n",
        "\n",
        "import matplotlib.font_manager as fm # 폰트 관련 용도\n",
        "import matplotlib.pyplot as plt      # 그래프 그리는 용도\n",
        "\n",
        "path = '/usr/share/fonts/truetype/nanum/NanumGothicEco.ttf' # 설치된 나눔 글꼴중 원하는 녀석의 전체\n",
        "font_name = fm.FontProperties(fname=path, size=10).get_name()\n",
        "print(font_name)\n",
        "plt.rc('font', family=font_name)\n",
        "\n",
        "# 우선 fm._rebuild() 를 해주고 # 폰트 매니저 재빌드가 필요하다.(런타임 다시 시작)\n",
        "fm._rebuild()"
      ],
      "execution_count": null,
      "outputs": []
    },
    {
      "cell_type": "code",
      "metadata": {
        "id": "aWUB8f7wf6Mu"
      },
      "source": [
        "%matplotlib inline\n",
        "import matplotlib as mpl # 기본 설정 만지는 용도\n",
        "import matplotlib.pyplot as plt # 그래프 그리는 용도\n",
        "import matplotlib.font_manager as fm # 폰트 관련 용도\n",
        "import numpy as np\n",
        "\n",
        "path = '/usr/share/fonts/truetype/nanum/NanumGothicEco.ttf' # 설치된 나눔글꼴중 원하는 녀석의 전체\n",
        "font_name = fm.FontProperties(fname=path, size=10).get_name()\n",
        "print(font_name)\n",
        "plt.rc('font', family=font_name)\n",
        "\n",
        "## 음수 표시되도록 설정\n",
        "mpl.rcParams['axes.unicode_minus'] = False "
      ],
      "execution_count": null,
      "outputs": []
    },
    {
      "cell_type": "code",
      "metadata": {
        "id": "Sd5c1Z_qf70F"
      },
      "source": [
        "# 데이터 준비\n",
        "data = np.random.randint(-200, 100, 50).cumsum()\n",
        "\n",
        "# 그래프를 그려 한글 확인\n",
        "plt.plot(range(50), data, 'r')\n",
        "plt.title('시간별 가격 추이')"
      ],
      "execution_count": null,
      "outputs": []
    }
  ]
}