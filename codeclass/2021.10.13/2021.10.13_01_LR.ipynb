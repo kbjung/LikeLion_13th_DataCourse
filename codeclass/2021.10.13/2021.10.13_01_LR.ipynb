{
 "cells": [
  {
   "cell_type": "code",
   "execution_count": 1,
   "id": "5421efb0",
   "metadata": {},
   "outputs": [],
   "source": [
    "from IPython.display import display, Image"
   ]
  },
  {
   "cell_type": "code",
   "execution_count": 2,
   "id": "060d081a",
   "metadata": {},
   "outputs": [],
   "source": [
    "### 한글 폰트 설정\n",
    "import matplotlib\n",
    "from matplotlib import font_manager, rc\n",
    "import matplotlib.pyplot as plt\n",
    "import platform\n",
    "\n",
    "path = \"C:/Windows/Fonts/malgun.ttf\"\n",
    "if platform.system() == \"Windows\":\n",
    "    font_name = font_manager.FontProperties(fname=path).get_name()\n",
    "    rc('font', family=font_name)\n",
    "elif platform.system()==\"Darwin\":\n",
    "    rc('font', family='AppleGothic')\n",
    "else:\n",
    "    print(\"Unknown System\")\n",
    "    \n",
    "matplotlib.rcParams['axes.unicode_minus'] = False\n",
    "\n",
    "%matplotlib inline"
   ]
  },
  {
   "cell_type": "code",
   "execution_count": 4,
   "id": "f97768b9",
   "metadata": {},
   "outputs": [
    {
     "name": "stdout",
     "output_type": "stream",
     "text": [
      "1.20.1\n",
      "3.3.4\n"
     ]
    }
   ],
   "source": [
    "import numpy as np\n",
    "import matplotlib.pyplot as plt\n",
    "import matplotlib\n",
    "print(np.__version__)\n",
    "print(matplotlib.__version__)"
   ]
  },
  {
   "cell_type": "code",
   "execution_count": 5,
   "id": "67845907",
   "metadata": {},
   "outputs": [
    {
     "name": "stdout",
     "output_type": "stream",
     "text": [
      "0.24.1\n",
      "0.1.9\n"
     ]
    }
   ],
   "source": [
    "# 설치가 안되어 있을 경우, 설치 필요.\n",
    "import mglearn\n",
    "import sklearn\n",
    "print( sklearn.__version__)\n",
    "print( mglearn.__version__)\n",
    "from sklearn.model_selection import train_test_split\n",
    "from sklearn.linear_model import LinearRegression"
   ]
  },
  {
   "cell_type": "code",
   "execution_count": 6,
   "id": "8ff5fe25",
   "metadata": {
    "scrolled": false
   },
   "outputs": [
    {
     "name": "stdout",
     "output_type": "stream",
     "text": [
      "w[0]: 0.393906  b: -0.031804\n"
     ]
    },
    {
     "data": {
      "image/png": "[encoded data removed]",
      "text/plain": [
       "<Figure size 576x576 with 1 Axes>"
      ]
     },
     "metadata": {
      "needs_background": "light"
     },
     "output_type": "display_data"
    }
   ],
   "source": [
    "mglearn.plots.plot_linear_regression_wave()"
   ]
  },
  {
   "cell_type": "markdown",
   "id": "a052a9e2",
   "metadata": {},
   "source": [
    "### Boston 데이터 셋을 활용한 회귀 모델 만들어보기"
   ]
  },
  {
   "cell_type": "code",
   "execution_count": 7,
   "id": "02db74df",
   "metadata": {},
   "outputs": [],
   "source": [
    "from sklearn.linear_model import LinearRegression\n",
    "from sklearn.datasets import load_boston"
   ]
  },
  {
   "cell_type": "code",
   "execution_count": 8,
   "id": "0ad08d9f",
   "metadata": {},
   "outputs": [],
   "source": [
    "boston = load_boston()\n",
    "X = boston.data # 입력 데이터 - 문제\n",
    "y = boston.target # 출력 데이터 - 답"
   ]
  },
  {
   "cell_type": "markdown",
   "id": "8865b738",
   "metadata": {},
   "source": [
    "### 데이터 살펴보기"
   ]
  },
  {
   "cell_type": "code",
   "execution_count": 9,
   "id": "8343f1d1",
   "metadata": {},
   "outputs": [
    {
     "data": {
      "text/plain": [
       "(numpy.ndarray, numpy.ndarray)"
      ]
     },
     "execution_count": 9,
     "metadata": {},
     "output_type": "execute_result"
    }
   ],
   "source": [
    "type(X), type(y)"
   ]
  },
  {
   "cell_type": "code",
   "execution_count": 10,
   "id": "2ae0b07f",
   "metadata": {},
   "outputs": [
    {
     "data": {
      "text/plain": [
       "(array([ 21.,  55.,  82., 154.,  84.,  41.,  30.,   8.,  10.,  21.]),\n",
       " array([ 5. ,  9.5, 14. , 18.5, 23. , 27.5, 32. , 36.5, 41. , 45.5, 50. ]),\n",
       " <BarContainer object of 10 artists>)"
      ]
     },
     "execution_count": 10,
     "metadata": {},
     "output_type": "execute_result"
    },
    {
     "data": {
      "image/png": "[encoded data removed]",
      "text/plain": [
       "<Figure size 432x288 with 1 Axes>"
      ]
     },
     "metadata": {
      "needs_background": "light"
     },
     "output_type": "display_data"
    }
   ],
   "source": [
    "plt.hist(y)"
   ]
  },
  {
   "cell_type": "markdown",
   "id": "84ac8a1c",
   "metadata": {},
   "source": [
    "### 데이터 준비하기"
   ]
  },
  {
   "cell_type": "code",
   "execution_count": 11,
   "id": "9746ed14",
   "metadata": {},
   "outputs": [],
   "source": [
    "X_train, X_test, y_train, y_test = train_test_split(X, y, random_state=42)"
   ]
  },
  {
   "cell_type": "code",
   "execution_count": 12,
   "id": "633ebbef",
   "metadata": {},
   "outputs": [
    {
     "data": {
      "text/plain": [
       "array([28.83885359, 36.00783288, 15.08324755, 25.23090886, 18.87864064,\n",
       "       23.21398327, 17.5931124 , 14.30508093, 23.05438985, 20.62008346])"
      ]
     },
     "execution_count": 12,
     "metadata": {},
     "output_type": "execute_result"
    }
   ],
   "source": [
    "## model = 모델명()\n",
    "## model.fit( 입력, 레이블(답) )\n",
    "## pred = model.predict(새로운 데이터 입력)\n",
    "model = LinearRegression() # 학습\n",
    "model.fit(X_train, y_train)\n",
    "pred = model.predict(X_test)\n",
    "pred[0:10]"
   ]
  },
  {
   "cell_type": "code",
   "execution_count": 15,
   "id": "9584ace2",
   "metadata": {},
   "outputs": [],
   "source": [
    "import pandas as pd"
   ]
  },
  {
   "cell_type": "code",
   "execution_count": 31,
   "id": "b55bdc51",
   "metadata": {
    "scrolled": false
   },
   "outputs": [
    {
     "data": {
      "text/html": [
       "<div>\n",
       "<style scoped>\n",
       "    .dataframe tbody tr th:only-of-type {\n",
       "        vertical-align: middle;\n",
       "    }\n",
       "\n",
       "    .dataframe tbody tr th {\n",
       "        vertical-align: top;\n",
       "    }\n",
       "\n",
       "    .dataframe thead th {\n",
       "        text-align: right;\n",
       "    }\n",
       "</style>\n",
       "<table border=\"1\" class=\"dataframe\">\n",
       "  <thead>\n",
       "    <tr style=\"text-align: right;\">\n",
       "      <th></th>\n",
       "      <th>실제값</th>\n",
       "      <th>예측값</th>\n",
       "      <th>오차</th>\n",
       "    </tr>\n",
       "  </thead>\n",
       "  <tbody>\n",
       "    <tr>\n",
       "      <th>0</th>\n",
       "      <td>23.6</td>\n",
       "      <td>28.838854</td>\n",
       "      <td>-5.238854</td>\n",
       "    </tr>\n",
       "    <tr>\n",
       "      <th>1</th>\n",
       "      <td>32.4</td>\n",
       "      <td>36.007833</td>\n",
       "      <td>-3.607833</td>\n",
       "    </tr>\n",
       "    <tr>\n",
       "      <th>2</th>\n",
       "      <td>13.6</td>\n",
       "      <td>15.083248</td>\n",
       "      <td>-1.483248</td>\n",
       "    </tr>\n",
       "    <tr>\n",
       "      <th>3</th>\n",
       "      <td>22.8</td>\n",
       "      <td>25.230909</td>\n",
       "      <td>-2.430909</td>\n",
       "    </tr>\n",
       "    <tr>\n",
       "      <th>4</th>\n",
       "      <td>16.1</td>\n",
       "      <td>18.878641</td>\n",
       "      <td>-2.778641</td>\n",
       "    </tr>\n",
       "  </tbody>\n",
       "</table>\n",
       "</div>"
      ],
      "text/plain": [
       "    실제값        예측값        오차\n",
       "0  23.6  28.838854 -5.238854\n",
       "1  32.4  36.007833 -3.607833\n",
       "2  13.6  15.083248 -1.483248\n",
       "3  22.8  25.230909 -2.430909\n",
       "4  16.1  18.878641 -2.778641"
      ]
     },
     "execution_count": 31,
     "metadata": {},
     "output_type": "execute_result"
    }
   ],
   "source": [
    "dict_dat = {'실제값':y_test, '예측값':pred, '오차':y_test-pred}\n",
    "dat = pd.DataFrame(dict_dat)\n",
    "dat.head()"
   ]
  },
  {
   "cell_type": "markdown",
   "id": "247b35f4",
   "metadata": {},
   "source": [
    "### MSE"
   ]
  },
  {
   "cell_type": "code",
   "execution_count": 32,
   "id": "3c1b7215",
   "metadata": {},
   "outputs": [
    {
     "data": {
      "text/plain": [
       "22.098694827097933"
      ]
     },
     "execution_count": 32,
     "metadata": {},
     "output_type": "execute_result"
    }
   ],
   "source": [
    "dat['오차제곱'] = dat['오차'] * dat['오차']\n",
    "mse_val = dat['오차제곱'].sum() / dat.shape[0]\n",
    "mse_val"
   ]
  },
  {
   "cell_type": "code",
   "execution_count": 33,
   "id": "0d84cfb0",
   "metadata": {
    "scrolled": false
   },
   "outputs": [
    {
     "data": {
      "text/html": [
       "<div>\n",
       "<style scoped>\n",
       "    .dataframe tbody tr th:only-of-type {\n",
       "        vertical-align: middle;\n",
       "    }\n",
       "\n",
       "    .dataframe tbody tr th {\n",
       "        vertical-align: top;\n",
       "    }\n",
       "\n",
       "    .dataframe thead th {\n",
       "        text-align: right;\n",
       "    }\n",
       "</style>\n",
       "<table border=\"1\" class=\"dataframe\">\n",
       "  <thead>\n",
       "    <tr style=\"text-align: right;\">\n",
       "      <th></th>\n",
       "      <th>실제값</th>\n",
       "      <th>예측값</th>\n",
       "      <th>오차</th>\n",
       "      <th>오차제곱</th>\n",
       "    </tr>\n",
       "  </thead>\n",
       "  <tbody>\n",
       "    <tr>\n",
       "      <th>0</th>\n",
       "      <td>23.6</td>\n",
       "      <td>28.838854</td>\n",
       "      <td>-5.238854</td>\n",
       "      <td>27.445587</td>\n",
       "    </tr>\n",
       "    <tr>\n",
       "      <th>1</th>\n",
       "      <td>32.4</td>\n",
       "      <td>36.007833</td>\n",
       "      <td>-3.607833</td>\n",
       "      <td>13.016458</td>\n",
       "    </tr>\n",
       "    <tr>\n",
       "      <th>2</th>\n",
       "      <td>13.6</td>\n",
       "      <td>15.083248</td>\n",
       "      <td>-1.483248</td>\n",
       "      <td>2.200023</td>\n",
       "    </tr>\n",
       "    <tr>\n",
       "      <th>3</th>\n",
       "      <td>22.8</td>\n",
       "      <td>25.230909</td>\n",
       "      <td>-2.430909</td>\n",
       "      <td>5.909318</td>\n",
       "    </tr>\n",
       "    <tr>\n",
       "      <th>4</th>\n",
       "      <td>16.1</td>\n",
       "      <td>18.878641</td>\n",
       "      <td>-2.778641</td>\n",
       "      <td>7.720844</td>\n",
       "    </tr>\n",
       "  </tbody>\n",
       "</table>\n",
       "</div>"
      ],
      "text/plain": [
       "    실제값        예측값        오차       오차제곱\n",
       "0  23.6  28.838854 -5.238854  27.445587\n",
       "1  32.4  36.007833 -3.607833  13.016458\n",
       "2  13.6  15.083248 -1.483248   2.200023\n",
       "3  22.8  25.230909 -2.430909   5.909318\n",
       "4  16.1  18.878641 -2.778641   7.720844"
      ]
     },
     "execution_count": 33,
     "metadata": {},
     "output_type": "execute_result"
    }
   ],
   "source": [
    "dat.head()"
   ]
  },
  {
   "cell_type": "markdown",
   "id": "88561429",
   "metadata": {},
   "source": [
    "### MAE"
   ]
  },
  {
   "cell_type": "code",
   "execution_count": 34,
   "id": "4f67f196",
   "metadata": {},
   "outputs": [
    {
     "data": {
      "text/plain": [
       "3.0609395954370147"
      ]
     },
     "execution_count": 34,
     "metadata": {},
     "output_type": "execute_result"
    }
   ],
   "source": [
    "dat['오차절대값'] = abs(dat['오차'])\n",
    "mae = dat['오차절대값'].sum() / dat.shape[0]\n",
    "mae"
   ]
  },
  {
   "cell_type": "code",
   "execution_count": 35,
   "id": "480fd136",
   "metadata": {
    "scrolled": false
   },
   "outputs": [
    {
     "data": {
      "text/html": [
       "<div>\n",
       "<style scoped>\n",
       "    .dataframe tbody tr th:only-of-type {\n",
       "        vertical-align: middle;\n",
       "    }\n",
       "\n",
       "    .dataframe tbody tr th {\n",
       "        vertical-align: top;\n",
       "    }\n",
       "\n",
       "    .dataframe thead th {\n",
       "        text-align: right;\n",
       "    }\n",
       "</style>\n",
       "<table border=\"1\" class=\"dataframe\">\n",
       "  <thead>\n",
       "    <tr style=\"text-align: right;\">\n",
       "      <th></th>\n",
       "      <th>실제값</th>\n",
       "      <th>예측값</th>\n",
       "      <th>오차</th>\n",
       "      <th>오차제곱</th>\n",
       "      <th>오차절대값</th>\n",
       "    </tr>\n",
       "  </thead>\n",
       "  <tbody>\n",
       "    <tr>\n",
       "      <th>0</th>\n",
       "      <td>23.6</td>\n",
       "      <td>28.838854</td>\n",
       "      <td>-5.238854</td>\n",
       "      <td>27.445587</td>\n",
       "      <td>5.238854</td>\n",
       "    </tr>\n",
       "    <tr>\n",
       "      <th>1</th>\n",
       "      <td>32.4</td>\n",
       "      <td>36.007833</td>\n",
       "      <td>-3.607833</td>\n",
       "      <td>13.016458</td>\n",
       "      <td>3.607833</td>\n",
       "    </tr>\n",
       "    <tr>\n",
       "      <th>2</th>\n",
       "      <td>13.6</td>\n",
       "      <td>15.083248</td>\n",
       "      <td>-1.483248</td>\n",
       "      <td>2.200023</td>\n",
       "      <td>1.483248</td>\n",
       "    </tr>\n",
       "    <tr>\n",
       "      <th>3</th>\n",
       "      <td>22.8</td>\n",
       "      <td>25.230909</td>\n",
       "      <td>-2.430909</td>\n",
       "      <td>5.909318</td>\n",
       "      <td>2.430909</td>\n",
       "    </tr>\n",
       "    <tr>\n",
       "      <th>4</th>\n",
       "      <td>16.1</td>\n",
       "      <td>18.878641</td>\n",
       "      <td>-2.778641</td>\n",
       "      <td>7.720844</td>\n",
       "      <td>2.778641</td>\n",
       "    </tr>\n",
       "  </tbody>\n",
       "</table>\n",
       "</div>"
      ],
      "text/plain": [
       "    실제값        예측값        오차       오차제곱     오차절대값\n",
       "0  23.6  28.838854 -5.238854  27.445587  5.238854\n",
       "1  32.4  36.007833 -3.607833  13.016458  3.607833\n",
       "2  13.6  15.083248 -1.483248   2.200023  1.483248\n",
       "3  22.8  25.230909 -2.430909   5.909318  2.430909\n",
       "4  16.1  18.878641 -2.778641   7.720844  2.778641"
      ]
     },
     "execution_count": 35,
     "metadata": {},
     "output_type": "execute_result"
    }
   ],
   "source": [
    "dat.head()"
   ]
  },
  {
   "cell_type": "markdown",
   "id": "34c5b494",
   "metadata": {},
   "source": [
    "### RMSE"
   ]
  },
  {
   "cell_type": "code",
   "execution_count": 36,
   "id": "1c950830",
   "metadata": {
    "scrolled": true
   },
   "outputs": [
    {
     "data": {
      "text/plain": [
       "4.700924890603756"
      ]
     },
     "execution_count": 36,
     "metadata": {},
     "output_type": "execute_result"
    }
   ],
   "source": [
    "mse_val = dat['오차제곱'].sum() / dat.shape[0]\n",
    "rmse = mse_val**(1/2)\n",
    "rmse"
   ]
  },
  {
   "cell_type": "markdown",
   "id": "a6fb30ce",
   "metadata": {},
   "source": [
    "### MSE"
   ]
  },
  {
   "cell_type": "code",
   "execution_count": 37,
   "id": "58fe541c",
   "metadata": {},
   "outputs": [
    {
     "data": {
      "text/plain": [
       "22.098694827097933"
      ]
     },
     "execution_count": 37,
     "metadata": {},
     "output_type": "execute_result"
    }
   ],
   "source": [
    "from sklearn.metrics import mean_squared_error\n",
    "mean_squared_error(y_test, pred)"
   ]
  },
  {
   "cell_type": "markdown",
   "id": "4d1a2838",
   "metadata": {},
   "source": [
    "## 평가 지표\n",
    "* MSE : (실제값 - 예측값)^2 전체합 / 데이터 개수 \n",
    "* RMSE : MSE^(1/2)\n",
    "* MAE : ㅣ실제값 - 예측값ㅣ 전체합 / 데이터 개수\n",
    "* RMLSE : RMSE에 실제값과 예측값을 log 처리해 준것.\n",
    "    * ( log(실제값+1) - lof(예측값+1) )"
   ]
  },
  {
   "cell_type": "code",
   "execution_count": 39,
   "id": "dbbbbe3b",
   "metadata": {},
   "outputs": [
    {
     "name": "stdout",
     "output_type": "stream",
     "text": [
      "학습용 데이터에 대한 결정 계수 : 0.75\n",
      "테스트 데이터에 대한 결정 계수 : 0.68\n"
     ]
    }
   ],
   "source": [
    "print(\"학습용 데이터에 대한 결정 계수 : {:.2f}\".format(model.score(X_train, y_train)))\n",
    "print(\"테스트 데이터에 대한 결정 계수 : {:.2f}\".format(model.score(X_test, y_test)))"
   ]
  },
  {
   "cell_type": "markdown",
   "id": "f06b6f2b",
   "metadata": {},
   "source": [
    "#### 2-8 (추가) test_size별 model.score를 구하기(8:2, 9:1, 7:3)-댓글"
   ]
  },
  {
   "cell_type": "code",
   "execution_count": 40,
   "id": "ed001ed3",
   "metadata": {},
   "outputs": [],
   "source": [
    "# 9:1\n",
    "X_train, X_test, y_train, y_test = train_test_split(X, y,test_size=0.1, random_state=42)"
   ]
  },
  {
   "cell_type": "code",
   "execution_count": 41,
   "id": "21141cd9",
   "metadata": {},
   "outputs": [
    {
     "data": {
      "text/plain": [
       "array([29.3639579 , 36.18916482, 14.05923305, 24.76681233, 18.79788306,\n",
       "       23.24853399, 17.67925163, 13.52689687, 23.47852891, 20.64157306])"
      ]
     },
     "execution_count": 41,
     "metadata": {},
     "output_type": "execute_result"
    }
   ],
   "source": [
    "model = LinearRegression() # 학습\n",
    "model.fit(X_train, y_train)\n",
    "pred = model.predict(X_test)\n",
    "pred[0:10]"
   ]
  },
  {
   "cell_type": "code",
   "execution_count": 42,
   "id": "6edfe9b5",
   "metadata": {
    "scrolled": true
   },
   "outputs": [
    {
     "name": "stdout",
     "output_type": "stream",
     "text": [
      "학습용 데이터에 대한 결정 계수 : 0.74\n",
      "테스트 데이터에 대한 결정 계수 : 0.76\n"
     ]
    }
   ],
   "source": [
    "print(\"학습용 데이터에 대한 결정 계수 : {:.2f}\".format(model.score(X_train, y_train)))\n",
    "print(\"테스트 데이터에 대한 결정 계수 : {:.2f}\".format(model.score(X_test, y_test)))"
   ]
  },
  {
   "cell_type": "code",
   "execution_count": 43,
   "id": "5e01993f",
   "metadata": {},
   "outputs": [],
   "source": [
    "# 8:2\n",
    "X_train, X_test, y_train, y_test = train_test_split(X, y,test_size=0.2, random_state=42)"
   ]
  },
  {
   "cell_type": "code",
   "execution_count": 44,
   "id": "1ea57e67",
   "metadata": {
    "scrolled": true
   },
   "outputs": [
    {
     "name": "stdout",
     "output_type": "stream",
     "text": [
      "학습용 데이터에 대한 결정 계수 : 0.75\n",
      "테스트 데이터에 대한 결정 계수 : 0.67\n"
     ]
    }
   ],
   "source": [
    "model = LinearRegression() # 학습\n",
    "model.fit(X_train, y_train)\n",
    "pred = model.predict(X_test)\n",
    "print(\"학습용 데이터에 대한 결정 계수 : {:.2f}\".format(model.score(X_train, y_train)))\n",
    "print(\"테스트 데이터에 대한 결정 계수 : {:.2f}\".format(model.score(X_test, y_test)))"
   ]
  },
  {
   "cell_type": "code",
   "execution_count": 45,
   "id": "39250956",
   "metadata": {},
   "outputs": [],
   "source": [
    "# 7:3\n",
    "X_train, X_test, y_train, y_test = train_test_split(X, y,test_size=0.3, random_state=42)"
   ]
  },
  {
   "cell_type": "code",
   "execution_count": 46,
   "id": "8238db16",
   "metadata": {
    "scrolled": true
   },
   "outputs": [
    {
     "name": "stdout",
     "output_type": "stream",
     "text": [
      "학습용 데이터에 대한 결정 계수 : 0.74\n",
      "테스트 데이터에 대한 결정 계수 : 0.71\n"
     ]
    }
   ],
   "source": [
    "model = LinearRegression() # 학습\n",
    "model.fit(X_train, y_train)\n",
    "pred = model.predict(X_test)\n",
    "print(\"학습용 데이터에 대한 결정 계수 : {:.2f}\".format(model.score(X_train, y_train)))\n",
    "print(\"테스트 데이터에 대한 결정 계수 : {:.2f}\".format(model.score(X_test, y_test)))"
   ]
  },
  {
   "cell_type": "markdown",
   "id": "938febed",
   "metadata": {},
   "source": [
    "### 2-8 풀이"
   ]
  },
  {
   "cell_type": "code",
   "execution_count": 47,
   "id": "5a1c5b4b",
   "metadata": {},
   "outputs": [
    {
     "name": "stdout",
     "output_type": "stream",
     "text": [
      "학습용 : 0.7434997532004697, 테스트용 : 0.7112260057484878\n"
     ]
    }
   ],
   "source": [
    "# 7:3 \n",
    "X_train, X_test, y_train, y_test = train_test_split(X, y , test_size=0.3, random_state=42)\n",
    "model = LinearRegression().fit(X_train, y_train)\n",
    "tr_score = model.score(X_train, y_train)\n",
    "test_score = model.score(X_test, y_test)\n",
    "print('학습용 : {}, 테스트용 : {}'.format(tr_score, test_score))"
   ]
  },
  {
   "cell_type": "code",
   "execution_count": 48,
   "id": "1dfb117f",
   "metadata": {},
   "outputs": [
    {
     "name": "stdout",
     "output_type": "stream",
     "text": [
      "학습용 : 0.7508856358979673, 테스트용 : 0.6687594935356365\n"
     ]
    }
   ],
   "source": [
    "# 8:2\n",
    "X_train, X_test, y_train, y_test = train_test_split(X, y , test_size=0.2, random_state=42)\n",
    "model = LinearRegression().fit(X_train, y_train)\n",
    "tr_score = model.score(X_train, y_train)\n",
    "test_score = model.score(X_test, y_test)\n",
    "print('학습용 : {}, 테스트용 : {}'.format(tr_score, test_score))"
   ]
  },
  {
   "cell_type": "code",
   "execution_count": 49,
   "id": "dd3d8192",
   "metadata": {},
   "outputs": [
    {
     "name": "stdout",
     "output_type": "stream",
     "text": [
      "학습용 : 0.7375152736886281, 테스트용 : 0.7598135533532432\n"
     ]
    }
   ],
   "source": [
    "# 9:1\n",
    "X_train, X_test, y_train, y_test = train_test_split(X, y , test_size=0.1, random_state=42)\n",
    "model = LinearRegression().fit(X_train, y_train)\n",
    "tr_score = model.score(X_train, y_train)\n",
    "test_score = model.score(X_test, y_test)\n",
    "print('학습용 : {}, 테스트용 : {}'.format(tr_score, test_score))"
   ]
  },
  {
   "cell_type": "code",
   "execution_count": 51,
   "id": "124ecf82",
   "metadata": {},
   "outputs": [
    {
     "name": "stdout",
     "output_type": "stream",
     "text": [
      "학습용:테스트용 = 9:1\n",
      "학습용 : 0.7375152736886281, 테스트용 : 0.7598135533532432\n",
      "학습용:테스트용 = 8:2\n",
      "학습용 : 0.7508856358979673, 테스트용 : 0.6687594935356365\n",
      "학습용:테스트용 = 7:3\n",
      "학습용 : 0.7434997532004697, 테스트용 : 0.7112260057484878\n",
      "학습용:테스트용 = 6:4\n",
      "학습용 : 0.747199884740759, 테스트용 : 0.7125140936111214\n",
      "학습용:테스트용 = 5:5\n",
      "학습용 : 0.7719887864238001, 테스트용 : 0.6896917482875745\n"
     ]
    }
   ],
   "source": [
    "## 9:1, 8:2, 7:3, 6:4, 5:5\n",
    "for i in range(1,6):\n",
    "    X_train, X_test, y_train, y_test = train_test_split(X, y , test_size=(i/10), random_state=42)\n",
    "    model = LinearRegression().fit(X_train, y_train)\n",
    "    tr_score = model.score(X_train, y_train)\n",
    "    test_score = model.score(X_test, y_test)\n",
    "    print(f'학습용:테스트용 = {10-i}:{i}')\n",
    "    print('학습용 : {}, 테스트용 : {}'.format(tr_score, test_score))"
   ]
  },
  {
   "cell_type": "markdown",
   "id": "9b2bc3f4",
   "metadata": {},
   "source": [
    "### 3-2 (추가) mse를 구하기"
   ]
  },
  {
   "cell_type": "code",
   "execution_count": 55,
   "id": "476b76dd",
   "metadata": {
    "scrolled": true
   },
   "outputs": [
    {
     "name": "stdout",
     "output_type": "stream",
     "text": [
      "학습용:테스트용 = 9:1\n",
      "학습용 : 0.7375152736886281, 테스트용 : 0.7598135533532432\n",
      "MSE : 14.995852876582909\n",
      "RMSE : 3.8724479178657663\n",
      "학습용:테스트용 = 8:2\n",
      "학습용 : 0.7508856358979673, 테스트용 : 0.6687594935356365\n",
      "MSE : 24.291119474973193\n",
      "RMSE : 4.928602182665303\n",
      "학습용:테스트용 = 7:3\n",
      "학습용 : 0.7434997532004697, 테스트용 : 0.7112260057484878\n",
      "MSE : 21.517444231177606\n",
      "RMSE : 4.638689926172863\n",
      "학습용:테스트용 = 6:4\n",
      "학습용 : 0.747199884740759, 테스트용 : 0.7125140936111214\n",
      "MSE : 21.832709989577502\n",
      "RMSE : 4.672548554009632\n",
      "학습용:테스트용 = 5:5\n",
      "학습용 : 0.7719887864238001, 테스트용 : 0.6896917482875745\n",
      "MSE : 25.175390536117042\n",
      "RMSE : 5.017508399207424\n"
     ]
    }
   ],
   "source": [
    "## 9:1, 8:2, 7:3, 6:4, 5:5\n",
    "# MSE 값이 작고, 학습용 결정계수 크면서 테스트 결정계수와 큰 차이가 없는 자료분류가 적절.\n",
    "# 9:1, 6:4 가 적합해 보인다.\n",
    "for i in range(1,6):\n",
    "    X_train, X_test, y_train, y_test = train_test_split(X, y , test_size=(i/10), random_state=42)\n",
    "    model = LinearRegression().fit(X_train, y_train)\n",
    "    # 예측\n",
    "    pred = model.predict(X_test)\n",
    "    dict_dat = {'실제값':y_test, '예측값':pred, '오차':y_test-pred}\n",
    "    dat = pd.DataFrame(dict_dat)\n",
    "    # MSE 계산\n",
    "    dat['오차제곱'] = dat['오차'] * dat['오차']\n",
    "    mse_val = dat['오차제곱'].sum() / dat.shape[0]\n",
    "    tr_score = model.score(X_train, y_train)\n",
    "    test_score = model.score(X_test, y_test)\n",
    "    # RMSE 계산\n",
    "    rmse_val = mse_val ** 0.5\n",
    "    # 데이터 분할 비율, 결정계수, MSE\n",
    "    print(f'학습용:테스트용 = {10-i}:{i}')\n",
    "    print('학습용 : {}, 테스트용 : {}'.format(tr_score, test_score))\n",
    "    print(f'MSE : {mse_val}')\n",
    "    print(f'RMSE : {rmse_val}')"
   ]
  },
  {
   "cell_type": "markdown",
   "id": "5dc5caf3",
   "metadata": {},
   "source": [
    "# Lasso, Ridge 실습"
   ]
  },
  {
   "cell_type": "code",
   "execution_count": 153,
   "id": "90ee4cb7",
   "metadata": {},
   "outputs": [],
   "source": [
    "import mglearn"
   ]
  },
  {
   "cell_type": "code",
   "execution_count": 152,
   "id": "d6a0894a",
   "metadata": {},
   "outputs": [],
   "source": [
    "from sklearn.linear_model import LinearRegression\n",
    "from sklearn.linear_model import Lasso, Ridge\n",
    "from sklearn.datasets import load_boston\n",
    "from sklearn.model_selection import train_test_split\n",
    "from sklearn.preprocessing import MinMaxScaler, PolynomialFeatures # PolynomialFeatures : 새로운 특성을 만들어 낸다.\n",
    "\n",
    "import pandas as pd"
   ]
  },
  {
   "cell_type": "code",
   "execution_count": 154,
   "id": "9aa137de",
   "metadata": {},
   "outputs": [],
   "source": [
    "### 한글 폰트 설정\n",
    "import matplotlib\n",
    "from matplotlib import font_manager, rc\n",
    "import matplotlib.pyplot as plt\n",
    "import platform\n",
    "\n",
    "path = \"C:/Windows/Fonts/malgun.ttf\"\n",
    "if platform.system() == \"Windows\":\n",
    "    font_name = font_manager.FontProperties(fname=path).get_name()\n",
    "    rc('font', family=font_name)\n",
    "elif platform.system()==\"Darwin\":\n",
    "    rc('font', family='AppleGothic')\n",
    "else:\n",
    "    print(\"Unknown System\")\n",
    "    \n",
    "matplotlib.rcParams['axes.unicode_minus'] = False\n",
    "\n",
    "%matplotlib inline"
   ]
  },
  {
   "cell_type": "markdown",
   "id": "45c648c8",
   "metadata": {},
   "source": [
    "### 데이터 프레임으로 만들기"
   ]
  },
  {
   "cell_type": "code",
   "execution_count": 155,
   "id": "6b6ad214",
   "metadata": {},
   "outputs": [
    {
     "name": "stdout",
     "output_type": "stream",
     "text": [
      "<class 'numpy.ndarray'> <class 'numpy.ndarray'>\n"
     ]
    }
   ],
   "source": [
    "boston = load_boston()\n",
    "print(type(boston.data), type(boston.target))"
   ]
  },
  {
   "cell_type": "code",
   "execution_count": 156,
   "id": "aeb4eec6",
   "metadata": {},
   "outputs": [
    {
     "data": {
      "text/html": [
       "<div>\n",
       "<style scoped>\n",
       "    .dataframe tbody tr th:only-of-type {\n",
       "        vertical-align: middle;\n",
       "    }\n",
       "\n",
       "    .dataframe tbody tr th {\n",
       "        vertical-align: top;\n",
       "    }\n",
       "\n",
       "    .dataframe thead th {\n",
       "        text-align: right;\n",
       "    }\n",
       "</style>\n",
       "<table border=\"1\" class=\"dataframe\">\n",
       "  <thead>\n",
       "    <tr style=\"text-align: right;\">\n",
       "      <th></th>\n",
       "      <th>CRIM</th>\n",
       "      <th>ZN</th>\n",
       "      <th>INDUS</th>\n",
       "      <th>CHAS</th>\n",
       "      <th>NOX</th>\n",
       "      <th>RM</th>\n",
       "      <th>AGE</th>\n",
       "      <th>DIS</th>\n",
       "      <th>RAD</th>\n",
       "      <th>TAX</th>\n",
       "      <th>PTRATIO</th>\n",
       "      <th>B</th>\n",
       "      <th>LSTAT</th>\n",
       "      <th>price</th>\n",
       "    </tr>\n",
       "  </thead>\n",
       "  <tbody>\n",
       "    <tr>\n",
       "      <th>0</th>\n",
       "      <td>0.00632</td>\n",
       "      <td>18.0</td>\n",
       "      <td>2.31</td>\n",
       "      <td>0.0</td>\n",
       "      <td>0.538</td>\n",
       "      <td>6.575</td>\n",
       "      <td>65.2</td>\n",
       "      <td>4.0900</td>\n",
       "      <td>1.0</td>\n",
       "      <td>296.0</td>\n",
       "      <td>15.3</td>\n",
       "      <td>396.90</td>\n",
       "      <td>4.98</td>\n",
       "      <td>24.0</td>\n",
       "    </tr>\n",
       "    <tr>\n",
       "      <th>1</th>\n",
       "      <td>0.02731</td>\n",
       "      <td>0.0</td>\n",
       "      <td>7.07</td>\n",
       "      <td>0.0</td>\n",
       "      <td>0.469</td>\n",
       "      <td>6.421</td>\n",
       "      <td>78.9</td>\n",
       "      <td>4.9671</td>\n",
       "      <td>2.0</td>\n",
       "      <td>242.0</td>\n",
       "      <td>17.8</td>\n",
       "      <td>396.90</td>\n",
       "      <td>9.14</td>\n",
       "      <td>21.6</td>\n",
       "    </tr>\n",
       "    <tr>\n",
       "      <th>2</th>\n",
       "      <td>0.02729</td>\n",
       "      <td>0.0</td>\n",
       "      <td>7.07</td>\n",
       "      <td>0.0</td>\n",
       "      <td>0.469</td>\n",
       "      <td>7.185</td>\n",
       "      <td>61.1</td>\n",
       "      <td>4.9671</td>\n",
       "      <td>2.0</td>\n",
       "      <td>242.0</td>\n",
       "      <td>17.8</td>\n",
       "      <td>392.83</td>\n",
       "      <td>4.03</td>\n",
       "      <td>34.7</td>\n",
       "    </tr>\n",
       "    <tr>\n",
       "      <th>3</th>\n",
       "      <td>0.03237</td>\n",
       "      <td>0.0</td>\n",
       "      <td>2.18</td>\n",
       "      <td>0.0</td>\n",
       "      <td>0.458</td>\n",
       "      <td>6.998</td>\n",
       "      <td>45.8</td>\n",
       "      <td>6.0622</td>\n",
       "      <td>3.0</td>\n",
       "      <td>222.0</td>\n",
       "      <td>18.7</td>\n",
       "      <td>394.63</td>\n",
       "      <td>2.94</td>\n",
       "      <td>33.4</td>\n",
       "    </tr>\n",
       "    <tr>\n",
       "      <th>4</th>\n",
       "      <td>0.06905</td>\n",
       "      <td>0.0</td>\n",
       "      <td>2.18</td>\n",
       "      <td>0.0</td>\n",
       "      <td>0.458</td>\n",
       "      <td>7.147</td>\n",
       "      <td>54.2</td>\n",
       "      <td>6.0622</td>\n",
       "      <td>3.0</td>\n",
       "      <td>222.0</td>\n",
       "      <td>18.7</td>\n",
       "      <td>396.90</td>\n",
       "      <td>5.33</td>\n",
       "      <td>36.2</td>\n",
       "    </tr>\n",
       "  </tbody>\n",
       "</table>\n",
       "</div>"
      ],
      "text/plain": [
       "      CRIM    ZN  INDUS  CHAS    NOX     RM   AGE     DIS  RAD    TAX  \\\n",
       "0  0.00632  18.0   2.31   0.0  0.538  6.575  65.2  4.0900  1.0  296.0   \n",
       "1  0.02731   0.0   7.07   0.0  0.469  6.421  78.9  4.9671  2.0  242.0   \n",
       "2  0.02729   0.0   7.07   0.0  0.469  7.185  61.1  4.9671  2.0  242.0   \n",
       "3  0.03237   0.0   2.18   0.0  0.458  6.998  45.8  6.0622  3.0  222.0   \n",
       "4  0.06905   0.0   2.18   0.0  0.458  7.147  54.2  6.0622  3.0  222.0   \n",
       "\n",
       "   PTRATIO       B  LSTAT  price  \n",
       "0     15.3  396.90   4.98   24.0  \n",
       "1     17.8  396.90   9.14   21.6  \n",
       "2     17.8  392.83   4.03   34.7  \n",
       "3     18.7  394.63   2.94   33.4  \n",
       "4     18.7  396.90   5.33   36.2  "
      ]
     },
     "execution_count": 156,
     "metadata": {},
     "output_type": "execute_result"
    }
   ],
   "source": [
    "df_boston = pd.DataFrame(boston.data, columns=boston.feature_names)\n",
    "df_boston['price'] = pd.Series(boston.target)\n",
    "df_boston.head()"
   ]
  },
  {
   "cell_type": "code",
   "execution_count": 157,
   "id": "530f5484",
   "metadata": {
    "scrolled": false
   },
   "outputs": [
    {
     "name": "stdout",
     "output_type": "stream",
     "text": [
      "<class 'pandas.core.frame.DataFrame'>\n",
      "RangeIndex: 506 entries, 0 to 505\n",
      "Data columns (total 14 columns):\n",
      " #   Column   Non-Null Count  Dtype  \n",
      "---  ------   --------------  -----  \n",
      " 0   CRIM     506 non-null    float64\n",
      " 1   ZN       506 non-null    float64\n",
      " 2   INDUS    506 non-null    float64\n",
      " 3   CHAS     506 non-null    float64\n",
      " 4   NOX      506 non-null    float64\n",
      " 5   RM       506 non-null    float64\n",
      " 6   AGE      506 non-null    float64\n",
      " 7   DIS      506 non-null    float64\n",
      " 8   RAD      506 non-null    float64\n",
      " 9   TAX      506 non-null    float64\n",
      " 10  PTRATIO  506 non-null    float64\n",
      " 11  B        506 non-null    float64\n",
      " 12  LSTAT    506 non-null    float64\n",
      " 13  price    506 non-null    float64\n",
      "dtypes: float64(14)\n",
      "memory usage: 55.5 KB\n"
     ]
    }
   ],
   "source": [
    "df_boston.info()"
   ]
  },
  {
   "cell_type": "markdown",
   "id": "d27de1b8",
   "metadata": {},
   "source": [
    "### 회귀 분석"
   ]
  },
  {
   "cell_type": "code",
   "execution_count": 158,
   "id": "37f782e0",
   "metadata": {},
   "outputs": [
    {
     "data": {
      "text/plain": [
       "Index(['CRIM', 'ZN', 'INDUS', 'CHAS', 'NOX', 'RM', 'AGE', 'DIS', 'RAD', 'TAX',\n",
       "       'PTRATIO', 'B', 'LSTAT', 'price'],\n",
       "      dtype='object')"
      ]
     },
     "execution_count": 158,
     "metadata": {},
     "output_type": "execute_result"
    }
   ],
   "source": [
    "df_boston.columns"
   ]
  },
  {
   "cell_type": "code",
   "execution_count": 159,
   "id": "9fe38309",
   "metadata": {},
   "outputs": [
    {
     "name": "stdout",
     "output_type": "stream",
     "text": [
      "(506, 13) (506,)\n"
     ]
    }
   ],
   "source": [
    "# 입력과 출력 : X, y\n",
    "X = df_boston.loc[:, 'CRIM':'LSTAT']\n",
    "y = df_boston['price']\n",
    "print(X.shape, y.shape)"
   ]
  },
  {
   "cell_type": "markdown",
   "id": "6a5bd82c",
   "metadata": {},
   "source": [
    "### 데이터 정규화\n",
    "* 데이터의 값의 범위 => 0-1 사이로 변환"
   ]
  },
  {
   "cell_type": "code",
   "execution_count": 160,
   "id": "de287948",
   "metadata": {
    "scrolled": true
   },
   "outputs": [
    {
     "name": "stdout",
     "output_type": "stream",
     "text": [
      "0.00632 88.9762\n",
      "0.385 0.871\n",
      "0.46 27.74\n"
     ]
    }
   ],
   "source": [
    "print(df_boston['CRIM'].min(), df_boston['CRIM'].max())\n",
    "print(df_boston['NOX'].min(), df_boston['NOX'].max())\n",
    "print(df_boston['INDUS'].min(), df_boston['INDUS'].max())"
   ]
  },
  {
   "cell_type": "code",
   "execution_count": 161,
   "id": "172922d3",
   "metadata": {},
   "outputs": [
    {
     "name": "stdout",
     "output_type": "stream",
     "text": [
      "<class 'numpy.ndarray'>\n",
      "0.0 0.9999999999999999\n",
      "0.0 0.9999999999999999\n"
     ]
    }
   ],
   "source": [
    "# 정규화\n",
    "nor_X = MinMaxScaler().fit_transform(X)\n",
    "print(type(nor_X))\n",
    "print(np.min(nor_X[0]), np.max(nor_X[0]))\n",
    "print(np.min(nor_X[1]), np.max(nor_X[1]))"
   ]
  },
  {
   "cell_type": "markdown",
   "id": "3c90dde5",
   "metadata": {},
   "source": [
    "### 많은 특성 생성"
   ]
  },
  {
   "cell_type": "code",
   "execution_count": 163,
   "id": "ca646b5e",
   "metadata": {},
   "outputs": [
    {
     "name": "stdout",
     "output_type": "stream",
     "text": [
      "(506, 13) (506,)\n"
     ]
    }
   ],
   "source": [
    "print(X.shape, y.shape)"
   ]
  },
  {
   "cell_type": "code",
   "execution_count": 164,
   "id": "6381a1c6",
   "metadata": {
    "scrolled": true
   },
   "outputs": [
    {
     "name": "stdout",
     "output_type": "stream",
     "text": [
      "(506, 104) (506,)\n"
     ]
    }
   ],
   "source": [
    "ex_X = PolynomialFeatures(degree=2, include_bias=False).fit_transform(nor_X)\n",
    "\n",
    "print(ex_X.shape, y.shape)"
   ]
  },
  {
   "cell_type": "code",
   "execution_count": 169,
   "id": "a5408096",
   "metadata": {},
   "outputs": [
    {
     "name": "stdout",
     "output_type": "stream",
     "text": [
      "0.9448313975211592\n",
      "0.7758378393351775\n"
     ]
    }
   ],
   "source": [
    "# LinearRegression회귀 모델 적용\n",
    "X_train, X_test, y_train, y_test = train_test_split(ex_X, y, random_state=42)\n",
    "\n",
    "ex_model = LinearRegression().fit(X_train, y_train)\n",
    "# 과대적합 발생\n",
    "print(ex_model.score(X_train, y_train))\n",
    "print(ex_model.score(X_test, y_test))"
   ]
  },
  {
   "cell_type": "code",
   "execution_count": 170,
   "id": "07272445",
   "metadata": {},
   "outputs": [
    {
     "name": "stdout",
     "output_type": "stream",
     "text": [
      "0.8865033777946089\n",
      "0.8035922576420698\n"
     ]
    },
    {
     "name": "stderr",
     "output_type": "stream",
     "text": [
      "C:\\Users\\kbjoo\\anaconda3\\lib\\site-packages\\sklearn\\linear_model\\_coordinate_descent.py:530: ConvergenceWarning: Objective did not converge. You might want to increase the number of iterations. Duality gap: 6.8481333641557285, tolerance: 3.361037625329815\n",
      "  model = cd_fast.enet_coordinate_descent(\n"
     ]
    }
   ],
   "source": [
    "# Lasso회귀 모델 적용\n",
    "lasso_model = Lasso(alpha=0.01).fit(X_train, y_train)\n",
    "print(lasso_model.score(X_train, y_train))\n",
    "print(lasso_model.score(X_test, y_test))"
   ]
  },
  {
   "cell_type": "code",
   "execution_count": 171,
   "id": "0c515342",
   "metadata": {},
   "outputs": [
    {
     "name": "stdout",
     "output_type": "stream",
     "text": [
      "0.9357645261988821\n",
      "0.8144760713008234\n"
     ]
    }
   ],
   "source": [
    "# Ridge회귀 모델 적용\n",
    "ridge_model = Ridge(alpha=0.01).fit(X_train, y_train)\n",
    "print(ridge_model.score(X_train, y_train))\n",
    "print(ridge_model.score(X_test, y_test))"
   ]
  },
  {
   "cell_type": "markdown",
   "id": "f49a9752",
   "metadata": {},
   "source": [
    "#### 4-7 Lasso, Ridge의 가장 좋은 alpha 값과 그때의 결과 출력 - 댓글"
   ]
  },
  {
   "cell_type": "code",
   "execution_count": 172,
   "id": "e2f1ac32",
   "metadata": {
    "scrolled": false
   },
   "outputs": [
    {
     "name": "stdout",
     "output_type": "stream",
     "text": [
      "Lasso Alpha = 0.1\n",
      "0.7471467575228325\n",
      "0.6986891802234085\n",
      "\n",
      "Lasso Alpha = 0.01\n",
      "0.8865033777946089\n",
      "0.8035922576420698\n",
      "\n",
      "Lasso Alpha = 0.001\n",
      "0.9296864690381806\n",
      "0.8141500652221195\n",
      "\n",
      "Lasso Alpha = 0.0001\n",
      "0.937433072538205\n",
      "0.7764741268470525\n",
      "\n",
      "Lasso Alpha = 1e-05\n",
      "0.9377934581406826\n",
      "0.7588385308697614\n",
      "\n"
     ]
    },
    {
     "name": "stderr",
     "output_type": "stream",
     "text": [
      "C:\\Users\\kbjoo\\anaconda3\\lib\\site-packages\\sklearn\\linear_model\\_coordinate_descent.py:530: ConvergenceWarning: Objective did not converge. You might want to increase the number of iterations. Duality gap: 6.8481333641557285, tolerance: 3.361037625329815\n",
      "  model = cd_fast.enet_coordinate_descent(\n",
      "C:\\Users\\kbjoo\\anaconda3\\lib\\site-packages\\sklearn\\linear_model\\_coordinate_descent.py:530: ConvergenceWarning: Objective did not converge. You might want to increase the number of iterations. Duality gap: 864.3796550249897, tolerance: 3.361037625329815\n",
      "  model = cd_fast.enet_coordinate_descent(\n",
      "C:\\Users\\kbjoo\\anaconda3\\lib\\site-packages\\sklearn\\linear_model\\_coordinate_descent.py:530: ConvergenceWarning: Objective did not converge. You might want to increase the number of iterations. Duality gap: 1061.5581359471491, tolerance: 3.361037625329815\n",
      "  model = cd_fast.enet_coordinate_descent(\n",
      "C:\\Users\\kbjoo\\anaconda3\\lib\\site-packages\\sklearn\\linear_model\\_coordinate_descent.py:530: ConvergenceWarning: Objective did not converge. You might want to increase the number of iterations. Duality gap: 1047.2462432849743, tolerance: 3.361037625329815\n",
      "  model = cd_fast.enet_coordinate_descent(\n",
      "C:\\Users\\kbjoo\\anaconda3\\lib\\site-packages\\sklearn\\linear_model\\_coordinate_descent.py:530: ConvergenceWarning: Objective did not converge. You might want to increase the number of iterations. Duality gap: 1044.3858107616247, tolerance: 3.361037625329815\n",
      "  model = cd_fast.enet_coordinate_descent(\n"
     ]
    },
    {
     "name": "stdout",
     "output_type": "stream",
     "text": [
      "Lasso Alpha = 1e-06\n",
      "0.9378835586212978\n",
      "0.758748228969544\n",
      "\n",
      "Lasso Alpha = 1e-07\n",
      "0.9378868418808644\n",
      "0.7588603652564908\n",
      "\n",
      "Lasso Alpha = 1e-08\n",
      "0.9378870184537398\n",
      "0.7588712710503821\n",
      "\n",
      "Lasso Alpha = 1e-09\n",
      "0.9378870346323096\n",
      "0.7588723595141612\n",
      "\n",
      "Lasso Alpha = 1e-10\n",
      "0.9378870362353142\n",
      "0.7588724683357471\n",
      "\n"
     ]
    },
    {
     "name": "stderr",
     "output_type": "stream",
     "text": [
      "C:\\Users\\kbjoo\\anaconda3\\lib\\site-packages\\sklearn\\linear_model\\_coordinate_descent.py:530: ConvergenceWarning: Objective did not converge. You might want to increase the number of iterations. Duality gap: 1043.879054642427, tolerance: 3.361037625329815\n",
      "  model = cd_fast.enet_coordinate_descent(\n",
      "C:\\Users\\kbjoo\\anaconda3\\lib\\site-packages\\sklearn\\linear_model\\_coordinate_descent.py:530: ConvergenceWarning: Objective did not converge. You might want to increase the number of iterations. Duality gap: 1043.8259648090723, tolerance: 3.361037625329815\n",
      "  model = cd_fast.enet_coordinate_descent(\n",
      "C:\\Users\\kbjoo\\anaconda3\\lib\\site-packages\\sklearn\\linear_model\\_coordinate_descent.py:530: ConvergenceWarning: Objective did not converge. You might want to increase the number of iterations. Duality gap: 1043.8206310906562, tolerance: 3.361037625329815\n",
      "  model = cd_fast.enet_coordinate_descent(\n",
      "C:\\Users\\kbjoo\\anaconda3\\lib\\site-packages\\sklearn\\linear_model\\_coordinate_descent.py:530: ConvergenceWarning: Objective did not converge. You might want to increase the number of iterations. Duality gap: 1043.8200974725496, tolerance: 3.361037625329815\n",
      "  model = cd_fast.enet_coordinate_descent(\n"
     ]
    }
   ],
   "source": [
    "# Lasso\n",
    "alpha = []\n",
    "train_score = []\n",
    "test_score = []\n",
    "for a in range(1,11):\n",
    "    d = 10 ** a\n",
    "    lasso_model = Lasso(alpha=1/d).fit(X_train, y_train)\n",
    "    alpha.append(1/d)\n",
    "    train_score.append(lasso_model.score(X_train, y_train))\n",
    "    test_score.append(lasso_model.score(X_test, y_test))\n",
    "    print(f'Lasso Alpha = {1/d}')\n",
    "    print(lasso_model.score(X_train, y_train))\n",
    "    print(lasso_model.score(X_test, y_test))\n",
    "    print()"
   ]
  },
  {
   "cell_type": "code",
   "execution_count": 173,
   "id": "5d962778",
   "metadata": {},
   "outputs": [
    {
     "data": {
      "text/plain": [
       "<AxesSubplot:>"
      ]
     },
     "execution_count": 173,
     "metadata": {},
     "output_type": "execute_result"
    },
    {
     "data": {
      "image/png": "[encoded data removed]",
      "text/plain": [
       "<Figure size 432x288 with 1 Axes>"
      ]
     },
     "metadata": {
      "needs_background": "light"
     },
     "output_type": "display_data"
    }
   ],
   "source": [
    "import seaborn as sns\n",
    "# lasso train\n",
    "sns.lineplot(x=alpha, y=train_score)\n",
    "# lasso test\n",
    "sns.lineplot(x=alpha, y=test_score)"
   ]
  },
  {
   "cell_type": "code",
   "execution_count": 174,
   "id": "b963b57e",
   "metadata": {},
   "outputs": [
    {
     "name": "stdout",
     "output_type": "stream",
     "text": [
      "Ridge Alpha = 0.1\n",
      "0.9174870139232206\n",
      "0.824649187531465\n",
      "\n",
      "Ridge Alpha = 0.01\n",
      "0.9357645261988821\n",
      "0.8144760713008234\n",
      "\n",
      "Ridge Alpha = 0.001\n",
      "0.9433698748903485\n",
      "0.806037499405526\n",
      "\n",
      "Ridge Alpha = 0.0001\n",
      "0.9443664169210898\n",
      "0.7883384563739017\n",
      "\n",
      "Ridge Alpha = 1e-05\n",
      "0.9446636823847012\n",
      "0.779841430062861\n",
      "\n",
      "Ridge Alpha = 1e-06\n",
      "0.9447831093919923\n",
      "0.777068914235134\n",
      "\n",
      "Ridge Alpha = 1e-07\n",
      "0.9448295349841365\n",
      "0.7760634890093735\n",
      "\n",
      "Ridge Alpha = 1e-08\n",
      "0.9448313746736842\n",
      "0.7758627770327594\n",
      "\n",
      "Ridge Alpha = 1e-09\n",
      "0.9448313972876858\n",
      "0.7758403599606468\n",
      "\n",
      "Ridge Alpha = 1e-10\n",
      "0.9448313975188195\n",
      "0.7758380916694559\n",
      "\n"
     ]
    }
   ],
   "source": [
    "# Ridge\n",
    "r_alpha = []\n",
    "r_train_score = []\n",
    "r_test_score = []\n",
    "for a in range(1,11):\n",
    "    d = 10 ** a\n",
    "    ridge_model = Ridge(alpha=1/d).fit(X_train, y_train)\n",
    "    r_alpha.append(1/d)\n",
    "    r_train_score.append(ridge_model.score(X_train, y_train))\n",
    "    r_test_score.append(ridge_model.score(X_test, y_test))\n",
    "    print(f'Ridge Alpha = {1/d}')\n",
    "    print(ridge_model.score(X_train, y_train))\n",
    "    print(ridge_model.score(X_test, y_test))\n",
    "    print()"
   ]
  },
  {
   "cell_type": "code",
   "execution_count": 175,
   "id": "9cf4a7fb",
   "metadata": {},
   "outputs": [
    {
     "data": {
      "text/plain": [
       "<AxesSubplot:>"
      ]
     },
     "execution_count": 175,
     "metadata": {},
     "output_type": "execute_result"
    },
    {
     "data": {
      "image/png": "[encoded data removed]",
      "text/plain": [
       "<Figure size 432x288 with 1 Axes>"
      ]
     },
     "metadata": {
      "needs_background": "light"
     },
     "output_type": "display_data"
    }
   ],
   "source": [
    "import seaborn as sns\n",
    "# ridge train\n",
    "sns.lineplot(x=r_alpha, y=r_train_score)\n",
    "# ridge test\n",
    "sns.lineplot(x=r_alpha, y=r_test_score)"
   ]
  },
  {
   "cell_type": "markdown",
   "id": "b55e291e",
   "metadata": {},
   "source": [
    "### Lasso regression - w값을 0으로 가까이, 0이 되기도 한다."
   ]
  },
  {
   "cell_type": "code",
   "execution_count": 178,
   "id": "87cf719d",
   "metadata": {},
   "outputs": [
    {
     "name": "stdout",
     "output_type": "stream",
     "text": [
      "학습용 데이터 세트 점수 : 0.27\n",
      "테스트 데이터 세트 점수 : 0.26\n",
      "사용한 특성의 수 :  102\n"
     ]
    }
   ],
   "source": [
    "lasso = Lasso(alpha=1).fit(X_train, y_train)\n",
    "print(\"학습용 데이터 세트 점수 : {:.2f}\".format(lasso.score(X_train, y_train)))\n",
    "print(\"테스트 데이터 세트 점수 : {:.2f}\".format(lasso.score(X_test, y_test)))\n",
    "print(\"사용한 특성의 수 : \", np.sum(lasso00001.coef_ != 0))"
   ]
  },
  {
   "cell_type": "code",
   "execution_count": 179,
   "id": "44b6ec58",
   "metadata": {},
   "outputs": [
    {
     "name": "stdout",
     "output_type": "stream",
     "text": [
      "학습용 데이터 점수 : 0.94\n",
      "테스트 데이터 점수 : 0.78\n",
      "사용한 특성의 수 :  102\n"
     ]
    },
    {
     "name": "stderr",
     "output_type": "stream",
     "text": [
      "C:\\Users\\kbjoo\\anaconda3\\lib\\site-packages\\sklearn\\linear_model\\_coordinate_descent.py:530: ConvergenceWarning: Objective did not converge. You might want to increase the number of iterations. Duality gap: 1061.5581359471491, tolerance: 3.361037625329815\n",
      "  model = cd_fast.enet_coordinate_descent(\n"
     ]
    }
   ],
   "source": [
    "lasso00001 = Lasso(alpha=0.0001).fit(X_train, y_train)\n",
    "print(\"학습용 데이터 점수 : {:.2f}\".format(lasso00001.score(X_train, y_train)))\n",
    "print(\"테스트 데이터 점수 : {:.2f}\".format(lasso00001.score(X_test, y_test)))\n",
    "print(\"사용한 특성의 수 : \", np.sum(lasso00001.coef_ != 0))"
   ]
  },
  {
   "cell_type": "code",
   "execution_count": 180,
   "id": "15c224cf",
   "metadata": {},
   "outputs": [
    {
     "name": "stdout",
     "output_type": "stream",
     "text": [
      "학습용 데이터 세트 점수 :  0.8864717420585478\n",
      "테스트 데이터 세트 점수 :  0.8036004116583613\n",
      "사용한 특성의 수 :  34\n"
     ]
    }
   ],
   "source": [
    "lasso001 = Lasso(alpha=0.01, max_iter=100000).fit(X_train, y_train)\n",
    "print(\"학습용 데이터 세트 점수 : \",lasso001.score(X_train, y_train))\n",
    "print(\"테스트 데이터 세트 점수 : \",lasso001.score(X_test, y_test))\n",
    "print(\"사용한 특성의 수 : \", np.sum(lasso001.coef_ != 0))"
   ]
  },
  {
   "cell_type": "code",
   "execution_count": 181,
   "id": "626f5380",
   "metadata": {},
   "outputs": [
    {
     "name": "stdout",
     "output_type": "stream",
     "text": [
      "학습용 데이터 세트 점수 :  0.7471467575228325\n",
      "테스트 데이터 세트 점수 :  0.6986891802234085\n",
      "사용한 특성의 수 :  12\n"
     ]
    }
   ],
   "source": [
    "lasso01 = Lasso(alpha=0.1, max_iter=100000).fit(X_train, y_train)\n",
    "print(\"학습용 데이터 세트 점수 : \",lasso01.score(X_train, y_train))\n",
    "print(\"테스트 데이터 세트 점수 : \",lasso01.score(X_test, y_test))\n",
    "print(\"사용한 특성의 수 : \", np.sum(lasso01.coef_ != 0))"
   ]
  },
  {
   "cell_type": "code",
   "execution_count": 182,
   "id": "e72abd43",
   "metadata": {},
   "outputs": [
    {
     "name": "stdout",
     "output_type": "stream",
     "text": [
      "학습용 데이터 세트 점수 :  0.0\n",
      "테스트 데이터 세트 점수 :  -0.03189647654769301\n",
      "사용한 특성의 수 :  0\n"
     ]
    }
   ],
   "source": [
    "lasso10 = Lasso(alpha=10, max_iter=100000).fit(X_train, y_train)\n",
    "print(\"학습용 데이터 세트 점수 : \",lasso10.score(X_train, y_train))\n",
    "print(\"테스트 데이터 세트 점수 : \",lasso10.score(X_test, y_test))\n",
    "print(\"사용한 특성의 수 : \", np.sum(lasso10.coef_ != 0))"
   ]
  },
  {
   "cell_type": "code",
   "execution_count": 183,
   "id": "2c397504",
   "metadata": {
    "scrolled": false
   },
   "outputs": [
    {
     "data": {
      "image/png": "[encoded data removed]",
      "text/plain": [
       "<Figure size 720x432 with 1 Axes>"
      ]
     },
     "metadata": {
      "needs_background": "light"
     },
     "output_type": "display_data"
    }
   ],
   "source": [
    "# 그래프\n",
    "lasso = Lasso(alpha=1).fit(X_train, y_train)\n",
    "plt.figure(figsize=(10,6))\n",
    "plt.plot(lasso00001.coef_, \"r^\", label=\"Lasso alpha=0.0001\")\n",
    "plt.plot(lasso001.coef_, 'go', label=\"Lasso alpha=0.01\")\n",
    "plt.plot(lasso01.coef_, 'yv', label=\"Lasso alpha=0.1\")\n",
    "plt.plot(lasso.coef_, 'k^', label=\"Lasso alpha=1\")\n",
    "plt.plot(lasso10.coef_, \"bs\", label=\"Lasso alpha=10\")\n",
    "\n",
    "plt.xlabel(\"계수 목록\")\n",
    "plt.ylabel(\"계수 크기\")\n",
    "# plt.ylim(-25, 25)\n",
    "plt.legend(ncol=2, loc=(0,1.05))\n",
    "plt.show()"
   ]
  },
  {
   "cell_type": "markdown",
   "id": "b153b740",
   "metadata": {},
   "source": [
    "### Ridge Regression - w 값을 0으로 가깝게 만든다."
   ]
  },
  {
   "cell_type": "code",
   "execution_count": 184,
   "id": "285b7f4f",
   "metadata": {},
   "outputs": [
    {
     "name": "stdout",
     "output_type": "stream",
     "text": [
      "학습용 데이터 세트 점수 : 0.77\n",
      "테스트 데이터 세트 점수 : 0.73\n",
      "사용한 특성의 수 :  104\n"
     ]
    }
   ],
   "source": [
    "ridge10 = Ridge(alpha=10).fit(X_train, y_train)\n",
    "print(\"학습용 데이터 세트 점수 : {:.2f}\".format(ridge10.score(X_train, y_train)))\n",
    "print(\"테스트 데이터 세트 점수 : {:.2f}\".format(ridge10.score(X_test, y_test)))\n",
    "print(\"사용한 특성의 수 : \", np.sum(ridge10.coef_ != 0))"
   ]
  },
  {
   "cell_type": "code",
   "execution_count": 185,
   "id": "65cb4e09",
   "metadata": {},
   "outputs": [
    {
     "name": "stdout",
     "output_type": "stream",
     "text": [
      "학습용 데이터 세트 점수 : 0.87\n",
      "테스트 데이터 세트 점수 : 0.81\n",
      "사용한 특성의 수 :  104\n"
     ]
    }
   ],
   "source": [
    "ridge = Ridge(alpha=1).fit(X_train, y_train)\n",
    "print(\"학습용 데이터 세트 점수 : {:.2f}\".format(ridge.score(X_train, y_train)))\n",
    "print(\"테스트 데이터 세트 점수 : {:.2f}\".format(ridge.score(X_test, y_test)))\n",
    "print(\"사용한 특성의 수 : \", np.sum(ridge.coef_ != 0))"
   ]
  },
  {
   "cell_type": "code",
   "execution_count": 186,
   "id": "27e56931",
   "metadata": {},
   "outputs": [
    {
     "name": "stdout",
     "output_type": "stream",
     "text": [
      "학습용 데이터 세트 점수 : 0.92\n",
      "테스트 데이터 세트 점수 : 0.82\n",
      "사용한 특성의 수 :  104\n"
     ]
    }
   ],
   "source": [
    "ridge01 = Ridge(alpha=0.1).fit(X_train, y_train)\n",
    "print(\"학습용 데이터 세트 점수 : {:.2f}\".format(ridge01.score(X_train, y_train)))\n",
    "print(\"테스트 데이터 세트 점수 : {:.2f}\".format(ridge01.score(X_test, y_test)))\n",
    "print(\"사용한 특성의 수 : \", np.sum(ridge01.coef_ != 0))"
   ]
  },
  {
   "cell_type": "code",
   "execution_count": 187,
   "id": "756f21bc",
   "metadata": {},
   "outputs": [
    {
     "name": "stdout",
     "output_type": "stream",
     "text": [
      "학습용 데이터 세트 점수 : 0.94\n",
      "테스트 데이터 세트 점수 : 0.81\n",
      "사용한 특성의 수 :  104\n"
     ]
    }
   ],
   "source": [
    "ridge001 = Ridge(alpha=0.01).fit(X_train, y_train)\n",
    "print(\"학습용 데이터 세트 점수 : {:.2f}\".format(ridge001.score(X_train, y_train)))\n",
    "print(\"테스트 데이터 세트 점수 : {:.2f}\".format(ridge001.score(X_test, y_test)))\n",
    "print(\"사용한 특성의 수 : \", np.sum(ridge001.coef_ != 0))"
   ]
  },
  {
   "cell_type": "code",
   "execution_count": 188,
   "id": "6f1caea1",
   "metadata": {},
   "outputs": [
    {
     "name": "stdout",
     "output_type": "stream",
     "text": [
      "학습용 데이터 세트 점수 : 0.94\n",
      "테스트 데이터 세트 점수 : 0.81\n",
      "사용한 특성의 수 :  104\n"
     ]
    }
   ],
   "source": [
    "ridge0001 = Ridge(alpha=0.001).fit(X_train, y_train)\n",
    "print(\"학습용 데이터 세트 점수 : {:.2f}\".format(ridge0001.score(X_train, y_train)))\n",
    "print(\"테스트 데이터 세트 점수 : {:.2f}\".format(ridge0001.score(X_test, y_test)))\n",
    "print(\"사용한 특성의 수 : \", np.sum(ridge0001.coef_ != 0))"
   ]
  },
  {
   "cell_type": "code",
   "execution_count": 189,
   "id": "9eb8f5fa",
   "metadata": {},
   "outputs": [
    {
     "name": "stdout",
     "output_type": "stream",
     "text": [
      "학습용 데이터 세트 점수 : 0.94\n",
      "테스트 데이터 세트 점수 : 0.79\n",
      "사용한 특성의 수 :  104\n"
     ]
    }
   ],
   "source": [
    "ridge00001 = Ridge(alpha=0.0001).fit(X_train, y_train)\n",
    "print(\"학습용 데이터 세트 점수 : {:.2f}\".format(ridge00001.score(X_train, y_train)))\n",
    "print(\"테스트 데이터 세트 점수 : {:.2f}\".format(ridge00001.score(X_test, y_test)))\n",
    "print(\"사용한 특성의 수 : \", np.sum(ridge00001.coef_ != 0))"
   ]
  },
  {
   "cell_type": "markdown",
   "id": "62e5009b",
   "metadata": {},
   "source": [
    "### 그래프 그리기"
   ]
  },
  {
   "cell_type": "code",
   "execution_count": 190,
   "id": "cfd11570",
   "metadata": {},
   "outputs": [],
   "source": [
    "ridge10 = Ridge(alpha=10).fit(X_train, y_train)\n",
    "ridge = Ridge(alpha=1).fit(X_train, y_train)\n",
    "ridge01 = Ridge(alpha=0.1).fit(X_train, y_train)\n",
    "ridge001 = Ridge(alpha=0.01).fit(X_train, y_train)\n",
    "ridge0001 = Ridge(alpha=0.001).fit(X_train, y_train)\n",
    "ridge00001 = Ridge(alpha=0.0001).fit(X_train, y_train)"
   ]
  },
  {
   "cell_type": "code",
   "execution_count": 191,
   "id": "41f5ffe5",
   "metadata": {
    "scrolled": false
   },
   "outputs": [
    {
     "data": {
      "image/png": "[encoded data removed]",
      "text/plain": [
       "<Figure size 720x432 with 1 Axes>"
      ]
     },
     "metadata": {
      "needs_background": "light"
     },
     "output_type": "display_data"
    }
   ],
   "source": [
    "# 그래프\n",
    "ridge = Ridge(alpha=1).fit(X_train, y_train)\n",
    "plt.figure(figsize=(10,6))\n",
    "plt.plot(ridge00001.coef_, \"r^\", label=\"Ridge alpha=0.0001\")\n",
    "plt.plot(ridge0001.coef_, 'ko', label=\"Ridge alpha=0.001\")\n",
    "plt.plot(ridge001.coef_, 'go', label=\"Ridge alpha=0.01\")\n",
    "plt.plot(ridge01.coef_, 'yv', label=\"Ridge alpha=0.1\")\n",
    "plt.plot(ridge.coef_, 'c^', label=\"Ridge alpha=1\")\n",
    "plt.plot(ridge10.coef_, \"bs\", label=\"Ridge alpha=10\")\n",
    "\n",
    "plt.xlabel(\"계수 목록\")\n",
    "plt.ylabel(\"계수 크기\")\n",
    "plt.ylim(-25, 25)\n",
    "plt.legend(ncol=2, loc=(0,1.05))\n",
    "plt.show()"
   ]
  },
  {
   "cell_type": "code",
   "execution_count": null,
   "id": "27d30e07",
   "metadata": {},
   "outputs": [],
   "source": []
  }
 ],
 "metadata": {
  "kernelspec": {
   "display_name": "Python 3",
   "language": "python",
   "name": "python3"
  },
  "language_info": {
   "codemirror_mode": {
    "name": "ipython",
    "version": 3
   },
   "file_extension": ".py",
   "mimetype": "text/x-python",
   "name": "python",
   "nbconvert_exporter": "python",
   "pygments_lexer": "ipython3",
   "version": "3.8.8"
  }
 },
 "nbformat": 4,
 "nbformat_minor": 5
}
