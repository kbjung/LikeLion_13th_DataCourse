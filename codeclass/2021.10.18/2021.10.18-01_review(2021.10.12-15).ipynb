{
 "cells": [
  {
   "cell_type": "markdown",
   "id": "b3e7f807",
   "metadata": {},
   "source": [
    "# 지난 주 리뷰(2021.10.12-15)"
   ]
  },
  {
   "cell_type": "markdown",
   "id": "e2ec6065",
   "metadata": {},
   "source": [
    "# 머신러닝\n",
    "* os\n",
    "    * os.listdir()\n",
    "    * os.getcwd() : 현재 작업 디렉토리 확인\n",
    "\n",
    "* 시각화 : matplotlib, seaborn, folium, plotly\n",
    "* 데이터 처리 : pandas\n",
    "* 선형대수, 난수 발생, 수학함수... 딥러닝 라이브러리 : numpy\n",
    "* scikit-learn : sklearn\n",
    "* SciPy\n",
    "* mglearn : 저자가 제작한 라이브러리."
   ]
  },
  {
   "cell_type": "markdown",
   "id": "24667405",
   "metadata": {},
   "source": [
    "## 학습용 데이터와 테스트 데이터를 나눈이유"
   ]
  },
  {
   "cell_type": "markdown",
   "id": "a5bf07d2",
   "metadata": {},
   "source": [
    "* 기본으로 75% : 25%\n",
    "* 학습용으로는 머신을 학습시키고, 테스트용으로는 머신을 평가한다.\n",
    "    * 분류 모델의 model.score() : 정확도\n",
    "    * 회귀 모델의 model.score() : 결정계수(적합도) 0-1\n",
    "* from sklearn.model_selection import train_test_split\n",
    "    * 레이블이 불균형한 데이터가 있어서, stratify = cancer.target\n",
    "* 5:5, 6:4, 7:3, 8:2, 9:1 비율별 성능 평가"
   ]
  },
  {
   "cell_type": "markdown",
   "id": "e8dbd13e",
   "metadata": {},
   "source": [
    "## 머신러닝(큰 범주)\n",
    "* 지도학습\n",
    "* 비지도학습\n",
    "* 강화학습\n",
    "* 준지도학습\n",
    "* 지도학습과 비지도학습\n",
    "    * 차이점 : target이 존재하는가 존재하지 않는가?\n",
    "* 지도학습\n",
    "    * 분류(classification)\n",
    "    * 회귀(Regression)\n",
    "        * 어떤 것을 판단 할 수 있을까? 우리가 예측하고자 하는 레이블이 연속형인지 범주형인지 판단."
   ]
  },
  {
   "cell_type": "markdown",
   "id": "bd3f60da",
   "metadata": {},
   "source": [
    "## 분류와 회귀의 머신러닝 알고리즘\n",
    "* knn 모델 - 분류\n",
    "    * 기본 설명\n",
    "        * 01 k를 지정한다.\n",
    "        * 02 분류 모델에 사용될 경우, 가까운 것으로 분류한다. 거리가 가까운 k개의 이웃을 찾고, 가장 많은 것으로 분류한다."
   ]
  },
  {
   "cell_type": "markdown",
   "id": "652cd9bd",
   "metadata": {},
   "source": [
    "* knn 모델 - 회귀\n",
    "    * 기본 설명\n",
    "        * 01 k를 지정한다.\n",
    "        * 02 회귀 모델 : 거리상 가장 가까운 k개의 이웃을 찾고, 이웃이 가르키는 예측값(y)의 평균으로 예측한다."
   ]
  },
  {
   "cell_type": "markdown",
   "id": "dd051dad",
   "metadata": {},
   "source": [
    "## 모델 파라미터, 하이퍼 파라미터\n",
    "* 모델 파라미터 : 모델이 정해주는 파라미터.\n",
    "    * 선형회귀 : 모델이 학습해서 정해주는 가중치나 편향이 될 수 있다.\n",
    "* 하이퍼 파라미터 : 사용자가 지정해 주는 파라미터"
   ]
  },
  {
   "cell_type": "markdown",
   "id": "eb8407d5",
   "metadata": {},
   "source": [
    "## 머신러닝 모델 만들기\n",
    "* from sklearn.neighbors import KNeighborsClassifier\n",
    "* from sklearn.neighbors import KNeighborsRegressor\n",
    "* from sklearn.linear_model import LinearRegression\n",
    "* from sklearn.linear_model import Lasso, Ridge\n",
    "* from sklearn.tree import DecisionTreeClassifier\n",
    "* from sklearn.tree import DecisionTreeRegression\n",
    "* from sklearn.ensemble import RandomForestClassifier\n",
    "* from sklearn.ensemble import RandomForestRegressor\n",
    "* 모델 선택 및 지정 : model = 모델명(매개변수=0...)\n",
    "* 모델 학습 : model.fit(X_train, y_train)\n",
    "* 모델 예측 : model.predict(X_test), y_test 비교해서 평가한다."
   ]
  },
  {
   "cell_type": "markdown",
   "id": "00811f3b",
   "metadata": {},
   "source": [
    "## 라쏘와 릿지의 공통점\n",
    "* 선형 회귀에서 가중치를 제한을 둔다. w의 값을 0에 가깝게 만든다.\n",
    "* 과대적합을 일반화시켜준다.\n",
    "* 매개변수(alpha)\n",
    "    * 크면 클수록 - 0에 가깝게 된다. 제한이 크다.\n",
    "    * 작으면 작을수록 - 제한이 줄어들어서... 0에 가까워지는 것이 줄어든다.\n",
    "* 라쏘와 릿지(Ridge)\n",
    "    * 라쏘 : w의 제한을 둔다. L1, 어떤 가중치(w)을 0으로 만든다.\n",
    "    * 릿지 : w의 제한을 둔다. L2, 가중치(w)가 0이 되는 것이 없다."
   ]
  },
  {
   "cell_type": "markdown",
   "id": "fc961cac",
   "metadata": {},
   "source": [
    "## 모델 평가지표\n",
    "* 분류 :  model.score() - 정확도(accuracy)\n",
    "* 회귀 : 결정계수(0-1), MSE(평균제곱오차), RMSE, MAE, RMLSE    "
   ]
  },
  {
   "cell_type": "markdown",
   "id": "b74bf363",
   "metadata": {},
   "source": [
    "## 의사 결정 트리\n",
    "* 2가지로 분류한다.\n",
    "* 노드가 분기할 때, 엔트로피/지니계수가 최대한 낮아지도록 모델을 만들어간다.\n",
    "* 장점 : 시각화를 통해 쉽게 이해가 가능하다.\n",
    "* 단점 : 과대적합이 일어날 수 있다.\n",
    "    * 과대적합을 어떻게 일어날 수 있을까?\n",
    "        * 첫번째 방법 : RandomForest 등의 앙상블 이용하기\n",
    "        * 두번째 방법 : max_depth에 제한을 둔다.(사전 가지치기)"
   ]
  },
  {
   "cell_type": "markdown",
   "id": "df94cfa1",
   "metadata": {},
   "source": [
    "## 앙상블 기법의 RandomForest에 대해 알아보기\n",
    "* 여러 머신러닝 모델을 연결하여 만드는 기법의 대표적인 알고리즘이다.\n",
    "* 여러개의 결정 트리를 사용하여 만드는 알고리즘이다.\n",
    "    * 트리를 만드는 2가지 방법\n",
    "        * 랜덤하게 변수를 선택한다.\n",
    "        * 중복을 허용한 데이터를 추출한다.(배깅)\n",
    "            * 약간의 다른 트리를 생성하게 된다."
   ]
  },
  {
   "cell_type": "code",
   "execution_count": null,
   "id": "aba4b59a",
   "metadata": {},
   "outputs": [],
   "source": []
  }
 ],
 "metadata": {
  "kernelspec": {
   "display_name": "Python 3",
   "language": "python",
   "name": "python3"
  },
  "language_info": {
   "codemirror_mode": {
    "name": "ipython",
    "version": 3
   },
   "file_extension": ".py",
   "mimetype": "text/x-python",
   "name": "python",
   "nbconvert_exporter": "python",
   "pygments_lexer": "ipython3",
   "version": "3.8.8"
  }
 },
 "nbformat": 4,
 "nbformat_minor": 5
}
