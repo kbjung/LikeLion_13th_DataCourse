{
 "cells": [
  {
   "cell_type": "code",
   "execution_count": 1,
   "id": "cc9502b5",
   "metadata": {},
   "outputs": [],
   "source": [
    "import os"
   ]
  },
  {
   "cell_type": "code",
   "execution_count": 3,
   "id": "b549419d",
   "metadata": {},
   "outputs": [
    {
     "data": {
      "text/plain": [
       "'D:\\\\Data\\\\문서\\\\GitHub\\\\LikeLion_13th_DataCourse\\\\codeclass\\\\2021.09.10'"
      ]
     },
     "execution_count": 3,
     "metadata": {},
     "output_type": "execute_result"
    }
   ],
   "source": [
    "### 작업 디렉토리\n",
    "os.getcwd()"
   ]
  },
  {
   "cell_type": "code",
   "execution_count": 84,
   "id": "4d4496a5",
   "metadata": {},
   "outputs": [
    {
     "name": "stdout",
     "output_type": "stream",
     "text": [
      "Requirement already satisfied: selenium in c:\\users\\kbjoo\\anaconda3\\lib\\site-packages (3.141.0)Note: you may need to restart the kernel to use updated packages.\n",
      "\n",
      "Requirement already satisfied: urllib3 in c:\\users\\kbjoo\\anaconda3\\lib\\site-packages (from selenium) (1.26.4)\n"
     ]
    }
   ],
   "source": [
    "pip install selenium"
   ]
  },
  {
   "cell_type": "code",
   "execution_count": 23,
   "id": "1c15fd95",
   "metadata": {},
   "outputs": [],
   "source": [
    "from selenium import webdriver\n",
    "from bs4 import BeautifulSoup"
   ]
  },
  {
   "cell_type": "code",
   "execution_count": 24,
   "id": "e042bea2",
   "metadata": {},
   "outputs": [],
   "source": [
    "import time\n",
    "\n",
    "url = 'https://pythonstart.github.io/web/'\n",
    "start = time.time()\n",
    "driver = webdriver.Chrome('chromedriver')\n",
    "driver.get(url)"
   ]
  },
  {
   "cell_type": "code",
   "execution_count": 25,
   "id": "cbc8eaf1",
   "metadata": {},
   "outputs": [
    {
     "data": {
      "text/plain": [
       "<selenium.webdriver.remote.webelement.WebElement (session=\"75cd7849c0481df9a0f65380ca2d630a\", element=\"88b9ebc8-7fee-49c5-a7d9-44bdef9b26ca\")>"
      ]
     },
     "execution_count": 25,
     "metadata": {},
     "output_type": "execute_result"
    }
   ],
   "source": [
    "a_tag = driver.find_element_by_tag_name(\"a\")\n",
    "a_tag"
   ]
  },
  {
   "cell_type": "code",
   "execution_count": 26,
   "id": "d3b4e54d",
   "metadata": {},
   "outputs": [
    {
     "name": "stdout",
     "output_type": "stream",
     "text": [
      "01. 제목 가져오기(title)\n",
      "a\n"
     ]
    }
   ],
   "source": [
    "## 내용을 보고 싶다.\n",
    "print(a_tag.text)\n",
    "\n",
    "## 가져온 정보의 tag를 보고 싶다.\n",
    "print(a_tag.tag_name)"
   ]
  },
  {
   "cell_type": "code",
   "execution_count": 27,
   "id": "28d603fd",
   "metadata": {},
   "outputs": [],
   "source": [
    "## 클릭을 하고 싶다.\n",
    "a_tag.click()"
   ]
  },
  {
   "cell_type": "code",
   "execution_count": 28,
   "id": "11319c8d",
   "metadata": {},
   "outputs": [
    {
     "data": {
      "text/plain": [
       "<selenium.webdriver.remote.webelement.WebElement (session=\"75cd7849c0481df9a0f65380ca2d630a\", element=\"cdae8665-0407-4ae2-ae3d-4627f694fffd\")>"
      ]
     },
     "execution_count": 28,
     "metadata": {},
     "output_type": "execute_result"
    }
   ],
   "source": [
    "a_tag = driver.find_element_by_name(\"text_get\")\n",
    "a_tag"
   ]
  },
  {
   "cell_type": "code",
   "execution_count": 29,
   "id": "7b75c8ca",
   "metadata": {},
   "outputs": [],
   "source": [
    "## 클릭을 하고 싶다.\n",
    "a_tag.click()"
   ]
  },
  {
   "cell_type": "code",
   "execution_count": 30,
   "id": "6c45734a",
   "metadata": {},
   "outputs": [
    {
     "data": {
      "text/plain": [
       "[<selenium.webdriver.remote.webelement.WebElement (session=\"75cd7849c0481df9a0f65380ca2d630a\", element=\"88b9ebc8-7fee-49c5-a7d9-44bdef9b26ca\")>,\n",
       " <selenium.webdriver.remote.webelement.WebElement (session=\"75cd7849c0481df9a0f65380ca2d630a\", element=\"cdae8665-0407-4ae2-ae3d-4627f694fffd\")>,\n",
       " <selenium.webdriver.remote.webelement.WebElement (session=\"75cd7849c0481df9a0f65380ca2d630a\", element=\"33c5409a-c57b-423a-905d-17f8caa31196\")>,\n",
       " <selenium.webdriver.remote.webelement.WebElement (session=\"75cd7849c0481df9a0f65380ca2d630a\", element=\"568577c0-dc0a-4590-ac15-cefefa78c191\")>,\n",
       " <selenium.webdriver.remote.webelement.WebElement (session=\"75cd7849c0481df9a0f65380ca2d630a\", element=\"2635b40a-c566-409f-8580-f61892fb6454\")>,\n",
       " <selenium.webdriver.remote.webelement.WebElement (session=\"75cd7849c0481df9a0f65380ca2d630a\", element=\"4a3e6092-5959-4662-b107-3ea87fb5a991\")>,\n",
       " <selenium.webdriver.remote.webelement.WebElement (session=\"75cd7849c0481df9a0f65380ca2d630a\", element=\"3f501434-7d74-4c81-b753-6007f719dea9\")>,\n",
       " <selenium.webdriver.remote.webelement.WebElement (session=\"75cd7849c0481df9a0f65380ca2d630a\", element=\"7febeffc-713c-44d8-b3c2-b0fe6f8e67fa\")>,\n",
       " <selenium.webdriver.remote.webelement.WebElement (session=\"75cd7849c0481df9a0f65380ca2d630a\", element=\"ffe6feeb-767e-4b26-b9ac-834d306dd6c5\")>,\n",
       " <selenium.webdriver.remote.webelement.WebElement (session=\"75cd7849c0481df9a0f65380ca2d630a\", element=\"a714b29c-ee30-43a7-9086-779e1621ffc8\")>]"
      ]
     },
     "execution_count": 30,
     "metadata": {},
     "output_type": "execute_result"
    }
   ],
   "source": [
    "all_tag = driver.find_elements_by_tag_name(\"a\")\n",
    "all_tag"
   ]
  },
  {
   "cell_type": "code",
   "execution_count": 31,
   "id": "b3c84193",
   "metadata": {},
   "outputs": [
    {
     "name": "stdout",
     "output_type": "stream",
     "text": [
      "01. 제목 가져오기(title)\n",
      "02. 텍스트 가져오기(p)\n",
      "03. 링크 가져오기(a)\n",
      "04. 이미지 정보 가져오기(img)\n",
      "05. 리스트 정보 가져오기(ul,ol)\n",
      "06. id를 활용한 정보 획득\n",
      "07. class를 활용한 정보 획득\n",
      "08. 하나의 이미지 다운로드\n",
      "09. 여러개의 이미지 다운로드\n",
      "10. 랭킹 정보 가져오기(웹 크롤링)\n"
     ]
    }
   ],
   "source": [
    "for one in all_tag:\n",
    "    print(one.text)"
   ]
  },
  {
   "cell_type": "code",
   "execution_count": 36,
   "id": "0510e883",
   "metadata": {},
   "outputs": [
    {
     "data": {
      "text/plain": [
       "'a714b29c-ee30-43a7-9086-779e1621ffc8'"
      ]
     },
     "execution_count": 36,
     "metadata": {},
     "output_type": "execute_result"
    }
   ],
   "source": [
    "all_tag = driver.find_elements_by_tag_name(\"a\")\n",
    "all_tag[9].id"
   ]
  },
  {
   "cell_type": "code",
   "execution_count": 37,
   "id": "164ba0c1",
   "metadata": {},
   "outputs": [
    {
     "name": "stdout",
     "output_type": "stream",
     "text": [
      "01. 제목 가져오기(title)\n",
      "03. 링크 가져오기(a)\n"
     ]
    }
   ],
   "source": [
    "name_tag = driver.find_elements_by_name(\"link_get\")\n",
    "for one in name_tag:\n",
    "    print(one.text)"
   ]
  },
  {
   "cell_type": "code",
   "execution_count": 41,
   "id": "6b11162d",
   "metadata": {
    "scrolled": true
   },
   "outputs": [
    {
     "data": {
      "text/plain": [
       "'10. 랭킹 정보 가져오기(웹 크롤링)'"
      ]
     },
     "execution_count": 41,
     "metadata": {},
     "output_type": "execute_result"
    }
   ],
   "source": [
    "# 3-4 (추가) id를 가져오기(10번째) a요소\n",
    "\n",
    "a_tag = driver.find_element_by_id(\"rank\")\n",
    "a_tag.text"
   ]
  },
  {
   "cell_type": "code",
   "execution_count": 42,
   "id": "8cd91d0f",
   "metadata": {},
   "outputs": [
    {
     "name": "stdout",
     "output_type": "stream",
     "text": [
      "01. 제목 가져오기(title)\n",
      "03. 링크 가져오기(a)\n"
     ]
    }
   ],
   "source": [
    "# 3-4 (추가) name를 이용해서 1,3번째 요소 가져와서 텍스트 출력해 보기\n",
    "\n",
    "a_tag = driver.find_elements_by_name(\"link_get\")\n",
    "for one in a_tag:\n",
    "    print(one.text)"
   ]
  },
  {
   "cell_type": "code",
   "execution_count": 44,
   "id": "c6fe1265",
   "metadata": {},
   "outputs": [
    {
     "data": {
      "text/plain": [
       "'10. 랭킹 정보 가져오기(웹 크롤링)'"
      ]
     },
     "execution_count": 44,
     "metadata": {},
     "output_type": "execute_result"
    }
   ],
   "source": [
    "content = driver.find_element_by_css_selector(\"body ul a#rank\")\n",
    "content.text"
   ]
  },
  {
   "cell_type": "code",
   "execution_count": 45,
   "id": "02edc269",
   "metadata": {},
   "outputs": [
    {
     "data": {
      "text/plain": [
       "'my web page'"
      ]
     },
     "execution_count": 45,
     "metadata": {},
     "output_type": "execute_result"
    }
   ],
   "source": [
    "content = driver.find_element_by_css_selector(\"body h1\")\n",
    "content.text"
   ]
  },
  {
   "cell_type": "code",
   "execution_count": 46,
   "id": "559a340b",
   "metadata": {},
   "outputs": [
    {
     "data": {
      "text/plain": [
       "'01. 제목 가져오기(title)'"
      ]
     },
     "execution_count": 46,
     "metadata": {},
     "output_type": "execute_result"
    }
   ],
   "source": [
    "content = driver.find_element_by_css_selector(\"ul a\")\n",
    "content.text"
   ]
  },
  {
   "cell_type": "code",
   "execution_count": 47,
   "id": "c1b324b9",
   "metadata": {},
   "outputs": [
    {
     "name": "stdout",
     "output_type": "stream",
     "text": [
      "01. 제목 가져오기(title)\n",
      "02. 텍스트 가져오기(p)\n",
      "03. 링크 가져오기(a)\n",
      "04. 이미지 정보 가져오기(img)\n",
      "05. 리스트 정보 가져오기(ul,ol)\n",
      "06. id를 활용한 정보 획득\n",
      "07. class를 활용한 정보 획득\n",
      "08. 하나의 이미지 다운로드\n",
      "09. 여러개의 이미지 다운로드\n",
      "10. 랭킹 정보 가져오기(웹 크롤링)\n"
     ]
    }
   ],
   "source": [
    "content = driver.find_elements_by_css_selector(\"ul a\")\n",
    "for one in content:\n",
    "    print(one.text)"
   ]
  },
  {
   "cell_type": "code",
   "execution_count": 48,
   "id": "7e192749",
   "metadata": {},
   "outputs": [
    {
     "data": {
      "text/plain": [
       "'01. 제목 가져오기(title)'"
      ]
     },
     "execution_count": 48,
     "metadata": {},
     "output_type": "execute_result"
    }
   ],
   "source": [
    "content = driver.find_element_by_link_text(\"01. 제목 가져오기(title)\")\n",
    "content.text"
   ]
  },
  {
   "cell_type": "markdown",
   "id": "a919662d",
   "metadata": {},
   "source": [
    "### 네이버 웹 페이지를 띄우고, 검색한 이후에, 정보를 확인하기"
   ]
  },
  {
   "cell_type": "code",
   "execution_count": 43,
   "id": "c8be7938",
   "metadata": {},
   "outputs": [],
   "source": [
    "from selenium import webdriver\n",
    "from bs4 import BeautifulSoup"
   ]
  },
  {
   "cell_type": "code",
   "execution_count": 50,
   "id": "fe657f3c",
   "metadata": {},
   "outputs": [],
   "source": [
    "url = \"http://news.naver.com\"\n",
    "driver = webdriver.Chrome(\"chromedriver\")\n",
    "driver.get(url)"
   ]
  },
  {
   "cell_type": "code",
   "execution_count": 45,
   "id": "fb95883a",
   "metadata": {},
   "outputs": [],
   "source": [
    "## 검색 입력창 xpath : //*[@id=\"lnb.searchForm\"]/fieldset/input[1]\n",
    "## 검색 버튼 xpath : //*[@id=\"lnb.searchForm\"]/fieldset/button"
   ]
  },
  {
   "cell_type": "code",
   "execution_count": 51,
   "id": "3afa574e",
   "metadata": {},
   "outputs": [],
   "source": [
    "sel_a = driver.find_element_by_xpath('//*[@id=\"lnb.searchForm\"]/fieldset/input[1]')\n",
    "sel_b = driver.find_element_by_xpath('//*[@id=\"lnb.searchForm\"]/fieldset/button')"
   ]
  },
  {
   "cell_type": "code",
   "execution_count": 52,
   "id": "497c5def",
   "metadata": {},
   "outputs": [],
   "source": [
    "# 검색시키기\n",
    "sel_a.send_keys('미세먼지')\n",
    "sel_b.click()"
   ]
  },
  {
   "cell_type": "code",
   "execution_count": 53,
   "id": "67b32b83",
   "metadata": {},
   "outputs": [
    {
     "data": {
      "text/plain": [
       "<title>네이버 뉴스</title>"
      ]
     },
     "execution_count": 53,
     "metadata": {},
     "output_type": "execute_result"
    }
   ],
   "source": [
    "page = driver.page_source\n",
    "soup = BeautifulSoup(page, \"lxml\")\n",
    "soup.title"
   ]
  },
  {
   "cell_type": "code",
   "execution_count": 54,
   "id": "ef76d2d3",
   "metadata": {},
   "outputs": [],
   "source": [
    "all_news = soup.find(\"li\", id=\"sp_nws1\").find(\"a\")\n",
    "all_news"
   ]
  },
  {
   "cell_type": "markdown",
   "id": "d5041e7a",
   "metadata": {},
   "source": [
    "### 4-4 (추가) 다음페이지 검색해보기"
   ]
  },
  {
   "cell_type": "code",
   "execution_count": 29,
   "id": "a4842663",
   "metadata": {},
   "outputs": [],
   "source": [
    "url = \"https://www.daum.net/\"\n",
    "driver = webdriver.Chrome(\"chromedriver\")\n",
    "driver.get(url)"
   ]
  },
  {
   "cell_type": "code",
   "execution_count": 30,
   "id": "61437b74",
   "metadata": {},
   "outputs": [],
   "source": [
    "## 검색 입력창 xpath : //*[@id=\"q\"]\n",
    "## 검색 버튼 xpath : //*[@id=\"daumSearch\"]/fieldset/div/div/button[2]"
   ]
  },
  {
   "cell_type": "code",
   "execution_count": 31,
   "id": "f788b97a",
   "metadata": {},
   "outputs": [],
   "source": [
    "sel_a = driver.find_element_by_xpath('//*[@id=\"q\"]')\n",
    "sel_b = driver.find_element_by_xpath('//*[@id=\"daumSearch\"]/fieldset/div/div/button[2]')"
   ]
  },
  {
   "cell_type": "code",
   "execution_count": 32,
   "id": "e98b05a4",
   "metadata": {},
   "outputs": [],
   "source": [
    "# 검색시키기\n",
    "sel_a.send_keys('미세먼지')\n",
    "sel_b.click()"
   ]
  },
  {
   "cell_type": "markdown",
   "id": "094dba8d",
   "metadata": {},
   "source": [
    "### 4-4 (추가) 다른 페이지에서 검색해보고, 원하는 정보 가져와 보기"
   ]
  },
  {
   "cell_type": "code",
   "execution_count": 34,
   "id": "c9c400df",
   "metadata": {},
   "outputs": [],
   "source": [
    "url = \"https://www.google.com/\"\n",
    "driver = webdriver.Chrome(\"chromedriver\")\n",
    "driver.get(url)"
   ]
  },
  {
   "cell_type": "code",
   "execution_count": 35,
   "id": "e217ffb6",
   "metadata": {},
   "outputs": [],
   "source": [
    "## 검색 입력창 xpath : /html/body/div[1]/div[3]/form/div[1]/div[1]/div[1]/div/div[2]/input\n",
    "## 검색 버튼 xpath : /html/body/div[1]/div[3]/form/div[1]/div[1]/div[3]/center/input[1]"
   ]
  },
  {
   "cell_type": "code",
   "execution_count": 36,
   "id": "6e83b8be",
   "metadata": {},
   "outputs": [],
   "source": [
    "sel_a = driver.find_element_by_xpath('/html/body/div[1]/div[3]/form/div[1]/div[1]/div[1]/div/div[2]/input')\n",
    "sel_b = driver.find_element_by_xpath('/html/body/div[1]/div[3]/form/div[1]/div[1]/div[3]/center/input[1]')"
   ]
  },
  {
   "cell_type": "code",
   "execution_count": 37,
   "id": "38694238",
   "metadata": {},
   "outputs": [],
   "source": [
    "# 검색시키기\n",
    "sel_a.send_keys('미세먼지')\n",
    "sel_b.click()"
   ]
  },
  {
   "cell_type": "code",
   "execution_count": null,
   "id": "58d081e1",
   "metadata": {},
   "outputs": [],
   "source": []
  }
 ],
 "metadata": {
  "kernelspec": {
   "display_name": "Python 3",
   "language": "python",
   "name": "python3"
  },
  "language_info": {
   "codemirror_mode": {
    "name": "ipython",
    "version": 3
   },
   "file_extension": ".py",
   "mimetype": "text/x-python",
   "name": "python",
   "nbconvert_exporter": "python",
   "pygments_lexer": "ipython3",
   "version": "3.8.8"
  }
 },
 "nbformat": 4,
 "nbformat_minor": 5
}
