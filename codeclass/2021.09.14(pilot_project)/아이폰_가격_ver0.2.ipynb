{
 "cells": [
  {
   "cell_type": "markdown",
   "id": "f5882931",
   "metadata": {},
   "source": [
    "# 아이폰 가격 추이"
   ]
  },
  {
   "cell_type": "code",
   "execution_count": 132,
   "id": "388288a3",
   "metadata": {},
   "outputs": [],
   "source": [
    "# 함수 로드\n",
    "from selenium import webdriver\n",
    "from bs4 import BeautifulSoup\n",
    "import time"
   ]
  },
  {
   "cell_type": "code",
   "execution_count": 133,
   "id": "7515f4a1",
   "metadata": {},
   "outputs": [],
   "source": [
    "# webdriver 불러오기, '네이버 쇼핑' 접속 확인\n",
    "driver = webdriver.Chrome('chromedriver')\n",
    "url = \"https://shopping.naver.com/home/p/index.naver\"\n",
    "driver.get(url)"
   ]
  },
  {
   "cell_type": "markdown",
   "id": "939de1db",
   "metadata": {},
   "source": [
    "### 아이폰 12 64GB"
   ]
  },
  {
   "cell_type": "code",
   "execution_count": 134,
   "id": "0ed3b303",
   "metadata": {},
   "outputs": [],
   "source": [
    "# 네이버 쇼핑에 '아이폰 12 64GB' 검색\n",
    "# 상세 검색으로 필요없는 단어 설정해서 검색하기 과정\n",
    "\n",
    "# 검색어 설정\n",
    "search_name = \"아이폰 12 64GB\"\n",
    "search_except_name = \"미니, 프로\""
   ]
  },
  {
   "cell_type": "code",
   "execution_count": null,
   "id": "ad1b093a",
   "metadata": {},
   "outputs": [],
   "source": [
    "# 상세 검색 여는 버튼 xpath = '//*[@id=\"_detailSearchButton\"]'\n",
    "# 상세 검색의 기본검색 창 xpath = '//*[@id=\"lb_srh_basis\"]'\n",
    "# 제외하는 단어 검색창 xpath= '//*[@id=\"lb_srh_exclude\"]'\n",
    "# 상세 검색 버튼 xpath = '//*[@id=\"_detailSearchDiv\"]/div/div[2]/a[3]'\n",
    "# 정확히 검색창 xpath = '//*[@id=\"lb_srh_exact\"]'\n",
    "to_detail_search_button = driver.find_element_by_xpath('//*[@id=\"_detailSearchButton\"]')\n",
    "detail_search_basic_search = driver.find_element_by_xpath('//*[@id=\"lb_srh_basis\"]')\n",
    "except_word = driver.find_element_by_xpath('//*[@id=\"lb_srh_exclude\"]')\n",
    "detail_search_button = driver.find_element_by_xpath('//*[@id=\"_detailSearchDiv\"]/div/div[2]/a[3]')\n",
    "exact_search = driver.find_element_by_xpath('//*[@id=\"lb_srh_exact\"]')\n",
    "\n",
    "# 상세 검색창에 검색어 입력\n",
    "to_detail_search_button.click()\n",
    "time.sleep(3)\n",
    "detail_search_basic_search.send_keys(search_name)\n",
    "exact_search.send_keys(search_name)\n",
    "\n",
    "# 상세 검색에 제외 단어 입력하기\n",
    "except_word.send_keys(search_except_name)\n",
    "detail_search_button.click()"
   ]
  },
  {
   "cell_type": "code",
   "execution_count": 25,
   "id": "a37e1e2b",
   "metadata": {},
   "outputs": [],
   "source": [
    "# '아이폰 12 64GB'의 가격 수집(xpath)\n",
    "# 1번째 상품 가격 xpath : '//*[@id=\"__next\"]/div/div[2]/div/div[3]/div[1]/ul/div/div[1]/li/div/div[2]/div[2]/strong/span/span[2]'\n",
    "# 2번째 상품 가격 xpath : '//*[@id=\"__next\"]/div/div[2]/div/div[3]/div[1]/ul/div/div[2]/li/div/div[2]/div[2]/strong/span/span'\n",
    "# 3번째 상품 가격 xpath : '//*[@id=\"__next\"]/div/div[2]/div/div[3]/div[1]/ul/div/div[3]/li/div/div[2]/div[2]/strong/span/span'\n",
    "# xpath는 '최저' 문자열의 존재 여부에 따라 규칙이 또 바뀜 => BS로 정리"
   ]
  },
  {
   "cell_type": "code",
   "execution_count": 135,
   "id": "b2ae9e84",
   "metadata": {},
   "outputs": [],
   "source": [
    "# '아이폰 12 64GB'의 가격 수집(BS)\n",
    "page = driver.page_source\n",
    "soup = BeautifulSoup(page, 'lxml')\n",
    "# 페이지 BS에 담김 확인\n",
    "# soup.title.text"
   ]
  },
  {
   "cell_type": "code",
   "execution_count": 136,
   "id": "98e4ffc1",
   "metadata": {},
   "outputs": [],
   "source": [
    "# 전체 상품 리스트 담기 태그 : 'ul', class_='list_basis'\n",
    "all_mer_list = soup.find('ul', class_='list_basis')\n",
    "# all_mer_list # 확인"
   ]
  },
  {
   "cell_type": "code",
   "execution_count": 137,
   "id": "2e8ff1ab",
   "metadata": {},
   "outputs": [],
   "source": [
    "# 가격표시 강조 부분 태그 : 'strong', class_='basicList_price__2r23_'\n",
    "basiclist_price = all_mer_list.find_all('strong', class_='basicList_price__2r23_')\n",
    "# 확인\n",
    "# print(len(basiclist_price))\n",
    "# basiclist_price[2] # 확인"
   ]
  },
  {
   "cell_type": "code",
   "execution_count": 138,
   "id": "25c8c32e",
   "metadata": {},
   "outputs": [
    {
     "data": {
      "text/plain": [
       "<span class=\"price_num__2WUXn\">924,990원</span>"
      ]
     },
     "execution_count": 138,
     "metadata": {},
     "output_type": "execute_result"
    }
   ],
   "source": [
    "# 가격 표시 부분 태그 : 'span', class_='price_num__2WUXn'\n",
    "price = basiclist_price[1].find('span', class_='price_num__2WUXn')\n",
    "price # 확인"
   ]
  },
  {
   "cell_type": "code",
   "execution_count": 139,
   "id": "35a9c3fa",
   "metadata": {},
   "outputs": [],
   "source": [
    "# 상품별 가격 모으기\n",
    "price_list = []\n",
    "for one in basiclist_price:\n",
    "    tmp = one.find('span', class_='price_num__2WUXn').text\n",
    "    #print(tmp) # 확인\n",
    "    price_list.append(tmp)\n",
    "# print(len(price_list), price_list) # 35개 확인"
   ]
  },
  {
   "cell_type": "code",
   "execution_count": 140,
   "id": "ecadade8",
   "metadata": {},
   "outputs": [],
   "source": [
    "# '아이폰 12 64GB'의 평균, 최소, 최대값 구하기\n",
    "mod_price_list = []\n",
    "for i in list(price_list):\n",
    "    tmp = i.replace(\"원\", \"\")\n",
    "    tmp = tmp.replace(\",\",\"\")\n",
    "    tmp = int(tmp)\n",
    "    # print(tmp)\n",
    "    mod_price_list.append(tmp)\n",
    "# print(mod_price_list)"
   ]
  },
  {
   "cell_type": "code",
   "execution_count": 141,
   "id": "97e59895",
   "metadata": {},
   "outputs": [
    {
     "name": "stdout",
     "output_type": "stream",
     "text": [
      "아이폰 12 64GB의 평균가격 : 1068236 원\n",
      "아이폰 12 64GB의 최고가격 : 1393580 원\n",
      "아이폰 12 64GB의 최저가격 : 552490 원\n"
     ]
    }
   ],
   "source": [
    "# 평균, 최고, 최저가 출력\n",
    "mean = int(sum(mod_price_list) / len(mod_price_list))\n",
    "maxium = max(mod_price_list)\n",
    "minium = min(mod_price_list)\n",
    "\n",
    "print('아이폰 12 64GB의 평균가격 :', mean,'원')\n",
    "print('아이폰 12 64GB의 최고가격 :', maxium,'원')\n",
    "print('아이폰 12 64GB의 최저가격 :', minium,'원')"
   ]
  },
  {
   "cell_type": "code",
   "execution_count": 142,
   "id": "82a0e5b6",
   "metadata": {},
   "outputs": [],
   "source": [
    "# 평균, 최고, 최저가 순서대로 리스트로 만들기\n",
    "mod_price = []\n",
    "mod_price.append(mean)\n",
    "mod_price.append(maxium)\n",
    "mod_price.append(minium)"
   ]
  },
  {
   "cell_type": "code",
   "execution_count": 143,
   "id": "577398ee",
   "metadata": {},
   "outputs": [],
   "source": [
    "# 파일로 만들기\n",
    "import pandas as pd\n",
    "dict_dat = {search_name : mod_price}\n",
    "dat = pd.DataFrame(dict_dat)\n",
    "dat.to_csv(\"iphone_12_64GB_price.csv\",index=False)\n",
    "dat.to_excel(\"iphone_12_64GB_price.xlsx\",index=False)"
   ]
  },
  {
   "cell_type": "markdown",
   "id": "fb609522",
   "metadata": {},
   "source": [
    "### 아이폰 12 128GB"
   ]
  },
  {
   "cell_type": "code",
   "execution_count": 144,
   "id": "9142e798",
   "metadata": {},
   "outputs": [],
   "source": [
    "# webdriver 불러오기, '네이버 쇼핑' 접속\n",
    "time.sleep(3)\n",
    "url = \"https://shopping.naver.com/home/p/index.naver\"\n",
    "driver.get(url)\n",
    "time.sleep(3)"
   ]
  },
  {
   "cell_type": "code",
   "execution_count": 145,
   "id": "0852528d",
   "metadata": {},
   "outputs": [],
   "source": [
    "# 네이버 쇼핑에 '아이폰 12 128GB' 검색\n",
    "# 상세 검색으로 필요없는 단어 설정해서 검색하기 과정\n",
    "\n",
    "# 검색어 설정\n",
    "search_name = \"아이폰 12 128GB\"\n",
    "search_except_name = \"미니, 프로\"\n",
    "\n",
    "# 상세 검색 여는 버튼 xpath = '//*[@id=\"_detailSearchButton\"]'\n",
    "# 상세 검색의 기본검색 창 xpath = '//*[@id=\"lb_srh_basis\"]'\n",
    "# 제외하는 단어 검색창 xpath= '//*[@id=\"lb_srh_exclude\"]'\n",
    "# 상세 검색 버튼 xpath = '//*[@id=\"_detailSearchDiv\"]/div/div[2]/a[3]'\n",
    "# 정확히 검색창 xpath = '//*[@id=\"lb_srh_exact\"]'\n",
    "to_detail_search_button = driver.find_element_by_xpath('//*[@id=\"_detailSearchButton\"]')\n",
    "detail_search_basic_search = driver.find_element_by_xpath('//*[@id=\"lb_srh_basis\"]')\n",
    "except_word = driver.find_element_by_xpath('//*[@id=\"lb_srh_exclude\"]')\n",
    "detail_search_button = driver.find_element_by_xpath('//*[@id=\"_detailSearchDiv\"]/div/div[2]/a[3]')\n",
    "exact_search = driver.find_element_by_xpath('//*[@id=\"lb_srh_exact\"]')\n",
    "\n",
    "# 상세 검색창에 검색어 입력\n",
    "to_detail_search_button.click()\n",
    "time.sleep(3)\n",
    "detail_search_basic_search.send_keys(search_name)\n",
    "exact_search.send_keys(search_name)\n",
    "# 상세 검색에 제외 단어 입력하기\n",
    "except_word.send_keys(search_except_name)\n",
    "detail_search_button.click()"
   ]
  },
  {
   "cell_type": "code",
   "execution_count": 146,
   "id": "912a24a4",
   "metadata": {},
   "outputs": [],
   "source": [
    "# '아이폰 12 128GB'의 가격 수집(BS)\n",
    "page = driver.page_source\n",
    "soup = BeautifulSoup(page, 'lxml')\n",
    "# 페이지 BS에 담김 확인\n",
    "# soup.title.text"
   ]
  },
  {
   "cell_type": "code",
   "execution_count": 147,
   "id": "102cfd74",
   "metadata": {
    "scrolled": true
   },
   "outputs": [],
   "source": [
    "# 전체 상품 리스트 담기 태그 : 'ul', class_='list_basis'\n",
    "all_mer_list = soup.find('ul', class_='list_basis')\n",
    "# all_mer_list # 확인"
   ]
  },
  {
   "cell_type": "code",
   "execution_count": 148,
   "id": "3189da5d",
   "metadata": {},
   "outputs": [],
   "source": [
    "# 가격표시 강조 부분 태그 : 'strong', class_='basicList_price__2r23_'\n",
    "basiclist_price = all_mer_list.find_all('strong', class_='basicList_price__2r23_')\n",
    "# 확인\n",
    "# print(len(basiclist_price))\n",
    "# basiclist_price[2] # 확인"
   ]
  },
  {
   "cell_type": "code",
   "execution_count": 149,
   "id": "2a94e0a3",
   "metadata": {},
   "outputs": [],
   "source": [
    "# 상품별 가격 모으기\n",
    "price_list = []\n",
    "for one in basiclist_price:\n",
    "    tmp = one.find('span', class_='price_num__2WUXn').text\n",
    "    #print(tmp) # 확인\n",
    "    price_list.append(tmp)\n",
    "# print(len(price_list), price_list) # 35개 확인"
   ]
  },
  {
   "cell_type": "code",
   "execution_count": 150,
   "id": "9ba24b5f",
   "metadata": {},
   "outputs": [],
   "source": [
    "# '아이폰 12 128GB'의 평균, 최소, 최대값 구하기\n",
    "mod_price_list = []\n",
    "for i in list(price_list):\n",
    "    tmp = i.replace(\"원\", \"\")\n",
    "    tmp = tmp.replace(\",\",\"\")\n",
    "    tmp = int(tmp)\n",
    "    # print(tmp)\n",
    "    mod_price_list.append(tmp)\n",
    "# print(mod_price_list)"
   ]
  },
  {
   "cell_type": "code",
   "execution_count": 151,
   "id": "fbd8241b",
   "metadata": {},
   "outputs": [
    {
     "name": "stdout",
     "output_type": "stream",
     "text": [
      "아이폰 12 128GB의 평균가격 : 997956 원\n",
      "아이폰 12 128GB의 최고가격 : 1299980 원\n",
      "아이폰 12 128GB의 최저가격 : 305490 원\n"
     ]
    }
   ],
   "source": [
    "# 평균, 최고, 최저가 출력\n",
    "mean = int(sum(mod_price_list) / len(mod_price_list))\n",
    "maxium = max(mod_price_list)\n",
    "minium = min(mod_price_list)\n",
    "\n",
    "print('아이폰 12 128GB의 평균가격 :', mean,'원')\n",
    "print('아이폰 12 128GB의 최고가격 :', maxium,'원')\n",
    "print('아이폰 12 128GB의 최저가격 :', minium,'원')"
   ]
  },
  {
   "cell_type": "code",
   "execution_count": 152,
   "id": "089f4aa7",
   "metadata": {},
   "outputs": [],
   "source": [
    "# 평균, 최고, 최저가 순서대로 리스트로 만들기\n",
    "mod_price = []\n",
    "mod_price.append(mean)\n",
    "mod_price.append(maxium)\n",
    "mod_price.append(minium)"
   ]
  },
  {
   "cell_type": "code",
   "execution_count": 153,
   "id": "0909309a",
   "metadata": {},
   "outputs": [],
   "source": [
    "# 파일로 만들기\n",
    "import pandas as pd\n",
    "dict_dat = {search_name : mod_price}\n",
    "dat = pd.DataFrame(dict_dat)\n",
    "dat.to_csv(\"iphone_12_128GB_price.csv\",index=False)\n",
    "dat.to_excel(\"iphone_12_128GB_price.xlsx\",index=False)"
   ]
  },
  {
   "cell_type": "markdown",
   "id": "e682fcab",
   "metadata": {},
   "source": [
    "### 아이폰 12 256GB"
   ]
  },
  {
   "cell_type": "code",
   "execution_count": 131,
   "id": "13e47de8",
   "metadata": {},
   "outputs": [
    {
     "name": "stdout",
     "output_type": "stream",
     "text": [
      "아이폰_12_256GB의 평균가격 : 974034 원\n",
      "아이폰_12_256GB의 최고가격 : 1261000 원\n",
      "아이폰_12_256GB의 최저가격 : 359000 원\n"
     ]
    }
   ],
   "source": [
    "# webdriver 불러오기, '네이버 쇼핑' 접속\n",
    "time.sleep(3)\n",
    "url = \"https://shopping.naver.com/home/p/index.naver\"\n",
    "driver.get(url)\n",
    "time.sleep(3)\n",
    "\n",
    "# 네이버 쇼핑에 '아이폰 12 256GB' 검색\n",
    "# 상세 검색으로 필요없는 단어 설정해서 검색하기 과정\n",
    "\n",
    "# 검색어 설정\n",
    "search_name = \"아이폰_12_256GB\"\n",
    "search_except_name = \"미니, 프로\"\n",
    "\n",
    "# 상세 검색 여는 버튼 xpath = '//*[@id=\"_detailSearchButton\"]'\n",
    "# 상세 검색의 기본검색 창 xpath = '//*[@id=\"lb_srh_basis\"]'\n",
    "# 제외하는 단어 검색창 xpath= '//*[@id=\"lb_srh_exclude\"]'\n",
    "# 상세 검색 버튼 xpath = '//*[@id=\"_detailSearchDiv\"]/div/div[2]/a[3]'\n",
    "to_detail_search_button = driver.find_element_by_xpath('//*[@id=\"_detailSearchButton\"]')\n",
    "detail_search_basic_search = driver.find_element_by_xpath('//*[@id=\"lb_srh_basis\"]')\n",
    "except_word = driver.find_element_by_xpath('//*[@id=\"lb_srh_exclude\"]')\n",
    "detail_search_button = driver.find_element_by_xpath('//*[@id=\"_detailSearchDiv\"]/div/div[2]/a[3]')\n",
    "\n",
    "# 상세 검색창에 검색어 입력\n",
    "to_detail_search_button.click()\n",
    "time.sleep(3)\n",
    "detail_search_basic_search.send_keys(search_name)\n",
    "# 상세 검색에 제외 단어 입력하기\n",
    "except_word.send_keys(search_except_name)\n",
    "detail_search_button.click()\n",
    "\n",
    "# '아이폰 12 256GB'의 가격 수집(BS)\n",
    "page = driver.page_source\n",
    "soup = BeautifulSoup(page, 'lxml')\n",
    "\n",
    "# 전체 상품 리스트 담기 태그 : 'ul', class_='list_basis'\n",
    "all_mer_list = soup.find('ul', class_='list_basis')\n",
    "\n",
    "# 가격표시 강조 부분 태그 : 'strong', class_='basicList_price__2r23_'\n",
    "basiclist_price = all_mer_list.find_all('strong', class_='basicList_price__2r23_')\n",
    "\n",
    "# 상품별 가격 모으기\n",
    "price_list = []\n",
    "for one in basiclist_price:\n",
    "    tmp = one.find('span', class_='price_num__2WUXn').text\n",
    "    price_list.append(tmp)\n",
    "\n",
    "# '아이폰 12 256GB'의 평균, 최소, 최대값 구하기\n",
    "mod_price_list = []\n",
    "for i in list(price_list):\n",
    "    tmp = i.replace(\"원\", \"\")\n",
    "    tmp = tmp.replace(\",\",\"\")\n",
    "    tmp = int(tmp)\n",
    "    mod_price_list.append(tmp)\n",
    "\n",
    "# 평균, 최고, 최저가 출력\n",
    "mean = int(sum(mod_price_list) / len(mod_price_list))\n",
    "maxium = max(mod_price_list)\n",
    "minium = min(mod_price_list)\n",
    "\n",
    "print('아이폰_12_256GB의 평균가격 :', mean,'원')\n",
    "print('아이폰_12_256GB의 최고가격 :', maxium,'원')\n",
    "print('아이폰_12_256GB의 최저가격 :', minium,'원')\n",
    "\n",
    "# 평균, 최고, 최저가 순서대로 리스트로 만들기\n",
    "mod_price = []\n",
    "mod_price.append(mean)\n",
    "mod_price.append(maxium)\n",
    "mod_price.append(minium)\n",
    "\n",
    "# 파일로 만들기\n",
    "import pandas as pd\n",
    "dict_dat = {search_name : mod_price}\n",
    "dat = pd.DataFrame(dict_dat)\n",
    "dat.to_csv(\"아이폰_12_256GB_price.csv\",index=False)\n",
    "dat.to_excel(\"아이폰_12_256GB_price.xlsx\",index=False)"
   ]
  },
  {
   "cell_type": "code",
   "execution_count": null,
   "id": "0a8010a2",
   "metadata": {},
   "outputs": [],
   "source": []
  }
 ],
 "metadata": {
  "kernelspec": {
   "display_name": "Python 3",
   "language": "python",
   "name": "python3"
  },
  "language_info": {
   "codemirror_mode": {
    "name": "ipython",
    "version": 3
   },
   "file_extension": ".py",
   "mimetype": "text/x-python",
   "name": "python",
   "nbconvert_exporter": "python",
   "pygments_lexer": "ipython3",
   "version": "3.8.8"
  }
 },
 "nbformat": 4,
 "nbformat_minor": 5
}
