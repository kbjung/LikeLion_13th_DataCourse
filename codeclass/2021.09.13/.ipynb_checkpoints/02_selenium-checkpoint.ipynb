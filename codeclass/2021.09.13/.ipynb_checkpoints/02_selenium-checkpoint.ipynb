{
 "cells": [
  {
   "cell_type": "code",
   "execution_count": 66,
   "id": "12f03312",
   "metadata": {},
   "outputs": [],
   "source": [
    "from selenium import webdriver\n",
    "from bs4 import BeautifulSoup"
   ]
  },
  {
   "cell_type": "code",
   "execution_count": 67,
   "id": "e53dfd94",
   "metadata": {},
   "outputs": [],
   "source": [
    "import time\n",
    "import lxml\n",
    "\n",
    "url = 'https://pythonstart.github.io/web/'\n",
    "start = time.time()\n",
    "driver = webdriver.Chrome('chromedriver')\n",
    "driver.get(url)"
   ]
  },
  {
   "cell_type": "code",
   "execution_count": 20,
   "id": "8028f964",
   "metadata": {},
   "outputs": [
    {
     "data": {
      "text/plain": [
       "[<selenium.webdriver.remote.webelement.WebElement (session=\"953bdf0229e6879d778d85f030fb7e29\", element=\"7eaa9c2d-468b-4cd2-bbd1-7f1dbdc7e723\")>,\n",
       " <selenium.webdriver.remote.webelement.WebElement (session=\"953bdf0229e6879d778d85f030fb7e29\", element=\"1035c9a9-1fb2-4425-b194-b8cab031865d\")>,\n",
       " <selenium.webdriver.remote.webelement.WebElement (session=\"953bdf0229e6879d778d85f030fb7e29\", element=\"ed1bb0c1-8577-4b57-b0e4-048a59786e57\")>,\n",
       " <selenium.webdriver.remote.webelement.WebElement (session=\"953bdf0229e6879d778d85f030fb7e29\", element=\"121da6f8-526f-41a5-ba04-eb38c6eba0fe\")>,\n",
       " <selenium.webdriver.remote.webelement.WebElement (session=\"953bdf0229e6879d778d85f030fb7e29\", element=\"abf28a7c-259e-4438-a748-0e7b3752c8fb\")>,\n",
       " <selenium.webdriver.remote.webelement.WebElement (session=\"953bdf0229e6879d778d85f030fb7e29\", element=\"3495ce72-2878-43d6-bc8f-8a79daeb5fbb\")>,\n",
       " <selenium.webdriver.remote.webelement.WebElement (session=\"953bdf0229e6879d778d85f030fb7e29\", element=\"bf724ee7-8c2e-42f5-98ee-edcfee73dc4f\")>,\n",
       " <selenium.webdriver.remote.webelement.WebElement (session=\"953bdf0229e6879d778d85f030fb7e29\", element=\"6a7be377-fd18-431e-ad80-27a7f80791b5\")>,\n",
       " <selenium.webdriver.remote.webelement.WebElement (session=\"953bdf0229e6879d778d85f030fb7e29\", element=\"b8adf11a-14c4-4b49-941b-319ba51f8162\")>,\n",
       " <selenium.webdriver.remote.webelement.WebElement (session=\"953bdf0229e6879d778d85f030fb7e29\", element=\"da81ac27-5617-48e8-a784-7ad15311d5e5\")>]"
      ]
     },
     "execution_count": 20,
     "metadata": {},
     "output_type": "execute_result"
    }
   ],
   "source": [
    "# ul 밑에 a 태그들 선택(전부)\n",
    "a_tag = driver.find_elements_by_css_selector(\"ul a\")\n",
    "a_tag"
   ]
  },
  {
   "cell_type": "code",
   "execution_count": 21,
   "id": "a4be972e",
   "metadata": {},
   "outputs": [
    {
     "data": {
      "text/plain": [
       "'01. 제목 가져오기(title)'"
      ]
     },
     "execution_count": 21,
     "metadata": {},
     "output_type": "execute_result"
    }
   ],
   "source": [
    "# ul 밑에 a 태그 선택(첫번째 하나)\n",
    "a_tag = driver.find_element_by_css_selector(\"ul a\")\n",
    "a_tag.text"
   ]
  },
  {
   "cell_type": "code",
   "execution_count": 22,
   "id": "15925dbf",
   "metadata": {},
   "outputs": [
    {
     "data": {
      "text/plain": [
       "'my web page'"
      ]
     },
     "execution_count": 22,
     "metadata": {},
     "output_type": "execute_result"
    }
   ],
   "source": [
    "# body 밑에 h1 태그 선택\n",
    "a_tag = driver.find_element_by_css_selector(\"body h1\")\n",
    "a_tag.text"
   ]
  },
  {
   "cell_type": "code",
   "execution_count": 23,
   "id": "6c6030f6",
   "metadata": {},
   "outputs": [
    {
     "data": {
      "text/plain": [
       "'10. 랭킹 정보 가져오기(웹 크롤링)'"
      ]
     },
     "execution_count": 23,
     "metadata": {},
     "output_type": "execute_result"
    }
   ],
   "source": [
    "# id가 rank 인 태그 선택\n",
    "a_tag = driver.find_element_by_css_selector(\"#rank\")\n",
    "a_tag.text"
   ]
  },
  {
   "cell_type": "code",
   "execution_count": 24,
   "id": "36177793",
   "metadata": {},
   "outputs": [
    {
     "data": {
      "text/plain": [
       "'10. 랭킹 정보 가져오기(웹 크롤링)'"
      ]
     },
     "execution_count": 24,
     "metadata": {},
     "output_type": "execute_result"
    }
   ],
   "source": [
    "# a태그 중 id가 rank인 태그 선택\n",
    "a_tag = driver.find_element_by_css_selector(\"a#rank\")\n",
    "a_tag.text"
   ]
  },
  {
   "cell_type": "code",
   "execution_count": 25,
   "id": "db77efe6",
   "metadata": {},
   "outputs": [
    {
     "data": {
      "text/plain": [
       "'10. 랭킹 정보 가져오기(웹 크롤링)'"
      ]
     },
     "execution_count": 25,
     "metadata": {},
     "output_type": "execute_result"
    }
   ],
   "source": [
    "# a태그 중 id가 rank인 태그 선택\n",
    "a_tag = driver.find_element_by_css_selector(\"body ul a#rank\")\n",
    "a_tag.text"
   ]
  },
  {
   "cell_type": "code",
   "execution_count": 26,
   "id": "5de0773b",
   "metadata": {},
   "outputs": [
    {
     "name": "stdout",
     "output_type": "stream",
     "text": [
      "my web page\n",
      "01. 제목 가져오기(title)\n",
      "02. 텍스트 가져오기(p)\n",
      "03. 링크 가져오기(a)\n",
      "04. 이미지 정보 가져오기(img)\n",
      "05. 리스트 정보 가져오기(ul,ol)\n",
      "06. id를 활용한 정보 획득\n",
      "07. class를 활용한 정보 획득\n",
      "08. 하나의 이미지 다운로드\n",
      "09. 여러개의 이미지 다운로드\n",
      "10. 랭킹 정보 가져오기(웹 크롤링)\n"
     ]
    }
   ],
   "source": [
    "# h1, a 태그 전체 선택\n",
    "a_tag = driver.find_elements_by_css_selector(\"h1, a\")\n",
    "for one in a_tag:\n",
    "    print(one.text)"
   ]
  },
  {
   "cell_type": "code",
   "execution_count": 34,
   "id": "16b137ac",
   "metadata": {},
   "outputs": [],
   "source": [
    "## 주어진 페이지 구조화\n",
    "soup = BeautifulSoup(driver.page_source, 'lxml')\n",
    "soup.title"
   ]
  },
  {
   "cell_type": "code",
   "execution_count": 35,
   "id": "23deb4c9",
   "metadata": {},
   "outputs": [
    {
     "data": {
      "text/plain": [
       "[<ul>\n",
       " <li class=\"game\">파이터</li>\n",
       " <li class=\"game\">솔루히</li>\n",
       " <li class=\"game\">무적대장</li>\n",
       " <li class=\"game\">수호대장</li>\n",
       " </ul>,\n",
       " <ul>\n",
       " <li class=\"kw\">냉면</li>\n",
       " <li class=\"kw\">감자</li>\n",
       " <li class=\"kw\">오늘의 영화</li>\n",
       " <li class=\"kw\">할수있어</li>\n",
       " </ul>,\n",
       " <ul>\n",
       " <li>냉면이 맛있어 보인다.</li>\n",
       " <li>연기가 조금 어색해.</li>\n",
       " <li>오늘의 영화로서 손색이 없어.</li>\n",
       " <li>할수 있다는 맘이 생겨.</li>\n",
       " </ul>]"
      ]
     },
     "execution_count": 35,
     "metadata": {},
     "output_type": "execute_result"
    }
   ],
   "source": [
    "soup.select(\"ul\")"
   ]
  },
  {
   "cell_type": "code",
   "execution_count": 36,
   "id": "6670c4fa",
   "metadata": {},
   "outputs": [],
   "source": [
    "driver.get(\"https://pythonstart.github.io/web/07.html\")"
   ]
  },
  {
   "cell_type": "code",
   "execution_count": 37,
   "id": "9dc19314",
   "metadata": {},
   "outputs": [],
   "source": [
    "## 주어진 페이지 구조화\n",
    "soup = BeautifulSoup(driver.page_source, 'lxml')\n",
    "soup.title"
   ]
  },
  {
   "cell_type": "code",
   "execution_count": 39,
   "id": "4d225528",
   "metadata": {},
   "outputs": [
    {
     "data": {
      "text/plain": [
       "[<div class=\"word\">\n",
       " 오늘의 인기 키워드\n",
       " <ul>\n",
       " <li class=\"kw\">냉면</li>\n",
       " <li class=\"kw\">감자</li>\n",
       " <li class=\"kw\">오늘의 영화</li>\n",
       " <li class=\"kw\">할수있어</li>\n",
       " </ul>\n",
       " </div>]"
      ]
     },
     "execution_count": 39,
     "metadata": {},
     "output_type": "execute_result"
    }
   ],
   "source": [
    "soup.select(\"div.word\")"
   ]
  },
  {
   "cell_type": "code",
   "execution_count": 57,
   "id": "043b2fb9",
   "metadata": {},
   "outputs": [
    {
     "data": {
      "text/plain": [
       "[<div class=\"comment\">\n",
       " 오늘의 인기 댓글\n",
       " <ul>\n",
       " <li>냉면이 맛있어 보인다.</li>\n",
       " <li>연기가 조금 어색해.</li>\n",
       " <li>오늘의 영화로서 손색이 없어.</li>\n",
       " <li>할수 있다는 맘이 생겨.</li>\n",
       " </ul>\n",
       " </div>]"
      ]
     },
     "execution_count": 57,
     "metadata": {},
     "output_type": "execute_result"
    }
   ],
   "source": [
    "# 4-3 실습 - 아래 내용 가져오기\n",
    "# <ul>\n",
    "# <li class=\"kw\">냉면</li>\n",
    "# <li class=\"kw\">감자</li>\n",
    "# <li class=\"kw\">오늘의 영화</li>\n",
    "# <li class=\"kw\">할수있어</li>\n",
    "# </ul>\n",
    "soup.select(\".comment\")"
   ]
  },
  {
   "cell_type": "code",
   "execution_count": 47,
   "id": "58610e48",
   "metadata": {},
   "outputs": [
    {
     "data": {
      "text/plain": [
       "[<li class=\"kw\">냉면</li>,\n",
       " <li class=\"kw\">감자</li>,\n",
       " <li class=\"kw\">오늘의 영화</li>,\n",
       " <li class=\"kw\">할수있어</li>]"
      ]
     },
     "execution_count": 47,
     "metadata": {},
     "output_type": "execute_result"
    }
   ],
   "source": [
    "# 4-3 (추가) 실습 - li안의 내용 가져오기 - 댓글 달기\n",
    "# <ul>\n",
    "# <li class=\"kw\">냉면</li>\n",
    "# <li class=\"kw\">감자</li>\n",
    "# <li class=\"kw\">오늘의 영화</li>\n",
    "# <li class=\"kw\">할수있어</li>\n",
    "# </ul>\n",
    "soup.select(\"li.kw\")"
   ]
  },
  {
   "cell_type": "code",
   "execution_count": 58,
   "id": "995bc28e",
   "metadata": {},
   "outputs": [],
   "source": [
    "# 4-4 (추가) https://pythonstart.github.io/web/의 웹의 url을 selenium을 이용해서 가져오기 - 댓글 달기"
   ]
  },
  {
   "cell_type": "code",
   "execution_count": 59,
   "id": "4fd1ac2f",
   "metadata": {},
   "outputs": [],
   "source": [
    "url = \"https://pythonstart.github.io/web/\"\n",
    "driver = webdriver.Chrome(\"chromedriver\")\n",
    "page = driver.get(url)"
   ]
  },
  {
   "cell_type": "code",
   "execution_count": 60,
   "id": "c8452e0a",
   "metadata": {},
   "outputs": [
    {
     "data": {
      "text/plain": [
       "'https://pythonstart.github.io/web/'"
      ]
     },
     "execution_count": 60,
     "metadata": {},
     "output_type": "execute_result"
    }
   ],
   "source": [
    "current_url = driver.current_url\n",
    "current_url"
   ]
  },
  {
   "cell_type": "code",
   "execution_count": null,
   "id": "38b09522",
   "metadata": {},
   "outputs": [],
   "source": [
    "# 4-4 (추가) https://pythonstart.github.io/web/의 10개의 링크에 대한 웹의 url을 selenium을 이용해서 가져오기 - 댓글 달기"
   ]
  },
  {
   "cell_type": "code",
   "execution_count": 1,
   "id": "5096a832",
   "metadata": {},
   "outputs": [],
   "source": [
    "from selenium import webdriver\n",
    "from bs4 import BeautifulSoup"
   ]
  },
  {
   "cell_type": "code",
   "execution_count": 2,
   "id": "d94a6e13",
   "metadata": {},
   "outputs": [],
   "source": [
    "import time\n",
    "import lxml\n",
    "\n",
    "url = 'https://pythonstart.github.io/web/'\n",
    "start = time.time()\n",
    "driver = webdriver.Chrome('chromedriver')\n",
    "driver.get(url)"
   ]
  },
  {
   "cell_type": "code",
   "execution_count": 3,
   "id": "ae7450b0",
   "metadata": {},
   "outputs": [],
   "source": [
    "a_tags = driver.find_elements_by_css_selector(\"a\")\n",
    "# a_tags[0].get_attribute(\"href\")"
   ]
  },
  {
   "cell_type": "code",
   "execution_count": 4,
   "id": "379ff5f8",
   "metadata": {},
   "outputs": [
    {
     "name": "stdout",
     "output_type": "stream",
     "text": [
      "https://pythonstart.github.io/web/01.html\n",
      "https://pythonstart.github.io/web/02.html\n",
      "https://pythonstart.github.io/web/03.html\n",
      "https://pythonstart.github.io/web/04.html\n",
      "https://pythonstart.github.io/web/05.html\n",
      "https://pythonstart.github.io/web/06.html\n",
      "https://pythonstart.github.io/web/07.html\n",
      "https://pythonstart.github.io/web/08.html\n",
      "https://pythonstart.github.io/web/09.html\n",
      "https://pythonstart.github.io/web/10.html\n"
     ]
    }
   ],
   "source": [
    "# webdriver에서 링크 가져오기\n",
    "for one in a_tags:\n",
    "    tmp = one.get_attribute(\"href\")\n",
    "    print(tmp)"
   ]
  },
  {
   "cell_type": "code",
   "execution_count": 6,
   "id": "a591364a",
   "metadata": {},
   "outputs": [
    {
     "name": "stdout",
     "output_type": "stream",
     "text": [
      "./01.html\n",
      "./02.html\n",
      "./03.html\n",
      "https://pythonstart.github.io/web/04.html\n",
      "./05.html\n",
      "./06.html\n",
      "./07.html\n",
      "./08.html\n",
      "https://pythonstart.github.io/web/09.html\n",
      "./10.html\n"
     ]
    }
   ],
   "source": [
    "# BS에서 링크 가져오기\n",
    "page = driver.page_source\n",
    "soup = BeautifulSoup(page, 'lxml')\n",
    "a_tags = soup.find_all('a')\n",
    "for one in a_tags:\n",
    "    print(one[\"href\"])"
   ]
  },
  {
   "cell_type": "code",
   "execution_count": 86,
   "id": "fc55505b",
   "metadata": {},
   "outputs": [],
   "source": [
    "# 4-5 (추가) for문을 이용해서 각 URL을 방문하면서 해당 페이지를 title을 리스트화 시키기 - (댓글)"
   ]
  },
  {
   "cell_type": "code",
   "execution_count": null,
   "id": "733a1c48",
   "metadata": {},
   "outputs": [],
   "source": []
  }
 ],
 "metadata": {
  "kernelspec": {
   "display_name": "Python 3",
   "language": "python",
   "name": "python3"
  },
  "language_info": {
   "codemirror_mode": {
    "name": "ipython",
    "version": 3
   },
   "file_extension": ".py",
   "mimetype": "text/x-python",
   "name": "python",
   "nbconvert_exporter": "python",
   "pygments_lexer": "ipython3",
   "version": "3.8.8"
  }
 },
 "nbformat": 4,
 "nbformat_minor": 5
}
