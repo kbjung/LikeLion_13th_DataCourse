{
 "cells": [
  {
   "cell_type": "markdown",
   "id": "6fa1e598",
   "metadata": {},
   "source": [
    "### CSS"
   ]
  },
  {
   "cell_type": "code",
   "execution_count": 5,
   "id": "42fe2ab5",
   "metadata": {
    "scrolled": true
   },
   "outputs": [
    {
     "ename": "SyntaxError",
     "evalue": "invalid syntax (<ipython-input-5-0c91d20e98e0>, line 1)",
     "output_type": "error",
     "traceback": [
      "\u001b[1;36m  File \u001b[1;32m\"<ipython-input-5-0c91d20e98e0>\"\u001b[1;36m, line \u001b[1;32m1\u001b[0m\n\u001b[1;33m    * CSS 넣는 3가지 방법\u001b[0m\n\u001b[1;37m          ^\u001b[0m\n\u001b[1;31mSyntaxError\u001b[0m\u001b[1;31m:\u001b[0m invalid syntax\n"
     ]
    }
   ],
   "source": [
    "* CSS 넣는 3가지 방법\n",
    "    * inline\n",
    "    * internal\n",
    "    * external"
   ]
  },
  {
   "cell_type": "code",
   "execution_count": 6,
   "id": "af2a4c00",
   "metadata": {},
   "outputs": [
    {
     "ename": "IndentationError",
     "evalue": "unexpected indent (<ipython-input-6-140b844e1fe4>, line 2)",
     "output_type": "error",
     "traceback": [
      "\u001b[1;36m  File \u001b[1;32m\"<ipython-input-6-140b844e1fe4>\"\u001b[1;36m, line \u001b[1;32m2\u001b[0m\n\u001b[1;33m    * <a style=\"\"> </a>\u001b[0m\n\u001b[1;37m    ^\u001b[0m\n\u001b[1;31mIndentationError\u001b[0m\u001b[1;31m:\u001b[0m unexpected indent\n"
     ]
    }
   ],
   "source": [
    "* inline\n",
    "    * <a style=\"\"> </a>"
   ]
  },
  {
   "cell_type": "markdown",
   "id": "e81fc723",
   "metadata": {},
   "source": [
    "* internal\n",
    "    * \\<style>__\\</style>"
   ]
  },
  {
   "cell_type": "code",
   "execution_count": 8,
   "id": "2b4181c7",
   "metadata": {},
   "outputs": [],
   "source": [
    "### CSS selector"
   ]
  },
  {
   "cell_type": "code",
   "execution_count": 9,
   "id": "6f96e42d",
   "metadata": {},
   "outputs": [
    {
     "ename": "SyntaxError",
     "evalue": "invalid syntax (<ipython-input-9-f5b4f3a3c04a>, line 1)",
     "output_type": "error",
     "traceback": [
      "\u001b[1;36m  File \u001b[1;32m\"<ipython-input-9-f5b4f3a3c04a>\"\u001b[1;36m, line \u001b[1;32m1\u001b[0m\n\u001b[1;33m    * id => #id\u001b[0m\n\u001b[1;37m          ^\u001b[0m\n\u001b[1;31mSyntaxError\u001b[0m\u001b[1;31m:\u001b[0m invalid syntax\n"
     ]
    }
   ],
   "source": [
    "* id => #id\n",
    "* html tag => tag명\n",
    "* class => .class명"
   ]
  },
  {
   "cell_type": "code",
   "execution_count": 10,
   "id": "0fd30ae8",
   "metadata": {},
   "outputs": [
    {
     "ename": "SyntaxError",
     "evalue": "invalid syntax (<ipython-input-10-63337b3573a1>, line 1)",
     "output_type": "error",
     "traceback": [
      "\u001b[1;36m  File \u001b[1;32m\"<ipython-input-10-63337b3573a1>\"\u001b[1;36m, line \u001b[1;32m1\u001b[0m\n\u001b[1;33m    * text-align : center: # left, right, center(문자 정렬)\u001b[0m\n\u001b[1;37m                         ^\u001b[0m\n\u001b[1;31mSyntaxError\u001b[0m\u001b[1;31m:\u001b[0m invalid syntax\n"
     ]
    }
   ],
   "source": [
    "* text-align : center: # left, right, center(문자 정렬)"
   ]
  },
  {
   "cell_type": "code",
   "execution_count": 11,
   "id": "b3cb0f4f",
   "metadata": {},
   "outputs": [
    {
     "ename": "IndentationError",
     "evalue": "unexpected indent (<ipython-input-11-b06cb73a693e>, line 2)",
     "output_type": "error",
     "traceback": [
      "\u001b[1;36m  File \u001b[1;32m\"<ipython-input-11-b06cb73a693e>\"\u001b[1;36m, line \u001b[1;32m2\u001b[0m\n\u001b[1;33m    * <link rel=\"stylesheet\" href=\"파일명.css\">\u001b[0m\n\u001b[1;37m    ^\u001b[0m\n\u001b[1;31mIndentationError\u001b[0m\u001b[1;31m:\u001b[0m unexpected indent\n"
     ]
    }
   ],
   "source": [
    "* external(외부연결)\n",
    "    * <link rel=\"stylesheet\" href=\"파일명.css\">"
   ]
  },
  {
   "cell_type": "code",
   "execution_count": 12,
   "id": "fa3bce74",
   "metadata": {},
   "outputs": [
    {
     "ename": "SyntaxError",
     "evalue": "invalid syntax (<ipython-input-12-ee68f1ae8a59>, line 1)",
     "output_type": "error",
     "traceback": [
      "\u001b[1;36m  File \u001b[1;32m\"<ipython-input-12-ee68f1ae8a59>\"\u001b[1;36m, line \u001b[1;32m1\u001b[0m\n\u001b[1;33m    h1, p {color:red;}\u001b[0m\n\u001b[1;37m          ^\u001b[0m\n\u001b[1;31mSyntaxError\u001b[0m\u001b[1;31m:\u001b[0m invalid syntax\n"
     ]
    }
   ],
   "source": [
    "h1, p {color:red;}\n",
    "h1과 p를 선택해서 스타일을 적용시켜라는 의미."
   ]
  },
  {
   "cell_type": "code",
   "execution_count": 13,
   "id": "c5890aef",
   "metadata": {},
   "outputs": [
    {
     "ename": "SyntaxError",
     "evalue": "invalid syntax (<ipython-input-13-7e83b5ff7717>, line 1)",
     "output_type": "error",
     "traceback": [
      "\u001b[1;36m  File \u001b[1;32m\"<ipython-input-13-7e83b5ff7717>\"\u001b[1;36m, line \u001b[1;32m1\u001b[0m\n\u001b[1;33m    h1 p {color:red;}\u001b[0m\n\u001b[1;37m       ^\u001b[0m\n\u001b[1;31mSyntaxError\u001b[0m\u001b[1;31m:\u001b[0m invalid syntax\n"
     ]
    }
   ],
   "source": [
    "h1 p {color:red;}\n",
    "h1 태그에 속하는 p태그에 스타일을 적용."
   ]
  },
  {
   "cell_type": "code",
   "execution_count": 14,
   "id": "f89083b4",
   "metadata": {},
   "outputs": [
    {
     "ename": "SyntaxError",
     "evalue": "invalid syntax (<ipython-input-14-d8804e5b27a4>, line 1)",
     "output_type": "error",
     "traceback": [
      "\u001b[1;36m  File \u001b[1;32m\"<ipython-input-14-d8804e5b27a4>\"\u001b[1;36m, line \u001b[1;32m1\u001b[0m\n\u001b[1;33m    * css의 파일 내용\u001b[0m\n\u001b[1;37m           ^\u001b[0m\n\u001b[1;31mSyntaxError\u001b[0m\u001b[1;31m:\u001b[0m invalid syntax\n"
     ]
    }
   ],
   "source": [
    "* css의 파일 내용\n",
    "    * html 파일의 style태그의 내용을 css파일로 만들어 준다."
   ]
  },
  {
   "cell_type": "code",
   "execution_count": 15,
   "id": "7cb9095c",
   "metadata": {},
   "outputs": [
    {
     "ename": "SyntaxError",
     "evalue": "invalid syntax (<ipython-input-15-0ac7b5e5189b>, line 1)",
     "output_type": "error",
     "traceback": [
      "\u001b[1;36m  File \u001b[1;32m\"<ipython-input-15-0ac7b5e5189b>\"\u001b[1;36m, line \u001b[1;32m1\u001b[0m\n\u001b[1;33m    <button type=\"button\"\u001b[0m\n\u001b[1;37m    ^\u001b[0m\n\u001b[1;31mSyntaxError\u001b[0m\u001b[1;31m:\u001b[0m invalid syntax\n"
     ]
    }
   ],
   "source": [
    "<button type=\"button\"\n",
    "onclick=\"document.getElementById('p_date').innerHTML = Date()\">\n",
    "Click me to display Date and Time.</button>\n",
    "<p id=\"p_date\"></p>\n",
    "* 버튼을 클릭하면 id=p_date인 태그에 Date() 값을 가져와준다."
   ]
  },
  {
   "cell_type": "code",
   "execution_count": 17,
   "id": "bd7e287a",
   "metadata": {},
   "outputs": [
    {
     "ename": "IndentationError",
     "evalue": "unexpected indent (<ipython-input-17-1dbc931229ae>, line 2)",
     "output_type": "error",
     "traceback": [
      "\u001b[1;36m  File \u001b[1;32m\"<ipython-input-17-1dbc931229ae>\"\u001b[1;36m, line \u001b[1;32m2\u001b[0m\n\u001b[1;33m    * markup 내용이 출력.\u001b[0m\n\u001b[1;37m    ^\u001b[0m\n\u001b[1;31mIndentationError\u001b[0m\u001b[1;31m:\u001b[0m unexpected indent\n"
     ]
    }
   ],
   "source": [
    " * document.write(markup);\n",
    "   * markup 내용이 출력."
   ]
  },
  {
   "cell_type": "code",
   "execution_count": 18,
   "id": "7daf1e7b",
   "metadata": {},
   "outputs": [],
   "source": [
    "### BS4"
   ]
  },
  {
   "cell_type": "code",
   "execution_count": 19,
   "id": "d0d717f5",
   "metadata": {},
   "outputs": [
    {
     "ename": "SyntaxError",
     "evalue": "invalid syntax (<ipython-input-19-633a1225ad88>, line 1)",
     "output_type": "error",
     "traceback": [
      "\u001b[1;36m  File \u001b[1;32m\"<ipython-input-19-633a1225ad88>\"\u001b[1;36m, line \u001b[1;32m1\u001b[0m\n\u001b[1;33m    * urlopen 함수\u001b[0m\n\u001b[1;37m              ^\u001b[0m\n\u001b[1;31mSyntaxError\u001b[0m\u001b[1;31m:\u001b[0m invalid syntax\n"
     ]
    }
   ],
   "source": [
    "* urlopen 함수\n",
    "    * urlopen(url) : 해당 웹서버에 요청하여 html 소스코드 얻기"
   ]
  },
  {
   "cell_type": "code",
   "execution_count": 21,
   "id": "b24e364c",
   "metadata": {},
   "outputs": [
    {
     "ename": "IndentationError",
     "evalue": "unexpected indent (<ipython-input-21-bb1e4c7233ce>, line 2)",
     "output_type": "error",
     "traceback": [
      "\u001b[1;36m  File \u001b[1;32m\"<ipython-input-21-bb1e4c7233ce>\"\u001b[1;36m, line \u001b[1;32m2\u001b[0m\n\u001b[1;33m    * 데이터를 수집할때 사용한다.\u001b[0m\n\u001b[1;37m    ^\u001b[0m\n\u001b[1;31mIndentationError\u001b[0m\u001b[1;31m:\u001b[0m unexpected indent\n"
     ]
    }
   ],
   "source": [
    "* BeautifulSoup\n",
    "    * 데이터를 수집할때 사용한다.\n",
    "    * 파이썬 라이브러리\n",
    "    * html를 파싱하여 BeautifulSoup 자료형 구조로 만든다. 우리가 쉽게 정보를 가져올 수 있도록 하기 위해"
   ]
  },
  {
   "cell_type": "code",
   "execution_count": 22,
   "id": "bfec2646",
   "metadata": {},
   "outputs": [
    {
     "ename": "NameError",
     "evalue": "name 'BeaufifulSoup' is not defined",
     "output_type": "error",
     "traceback": [
      "\u001b[1;31m---------------------------------------------------------------------------\u001b[0m",
      "\u001b[1;31mNameError\u001b[0m                                 Traceback (most recent call last)",
      "\u001b[1;32m<ipython-input-22-dfb7231914be>\u001b[0m in \u001b[0;36m<module>\u001b[1;34m\u001b[0m\n\u001b[1;32m----> 1\u001b[1;33m \u001b[0msoup\u001b[0m \u001b[1;33m=\u001b[0m \u001b[0mBeaufifulSoup\u001b[0m\u001b[1;33m(\u001b[0m\u001b[1;33m(\u001b[0m\u001b[0mhtml\u001b[0m\u001b[1;33m,\u001b[0m \u001b[1;34m''\u001b[0m\u001b[1;33m)\u001b[0m\u001b[1;33m)\u001b[0m\u001b[1;33m\u001b[0m\u001b[1;33m\u001b[0m\u001b[0m\n\u001b[0m",
      "\u001b[1;31mNameError\u001b[0m: name 'BeaufifulSoup' is not defined"
     ]
    }
   ],
   "source": [
    "soup = BeaufifulSoup((html, ''))"
   ]
  },
  {
   "cell_type": "code",
   "execution_count": 23,
   "id": "ad617f70",
   "metadata": {},
   "outputs": [
    {
     "ename": "IndentationError",
     "evalue": "unexpected indent (<ipython-input-23-73e4191107bb>, line 8)",
     "output_type": "error",
     "traceback": [
      "\u001b[1;36m  File \u001b[1;32m\"<ipython-input-23-73e4191107bb>\"\u001b[1;36m, line \u001b[1;32m8\u001b[0m\n\u001b[1;33m    * 저장되는 자료형 BS 리스트 형태로 가져오게 된다.\u001b[0m\n\u001b[1;37m    ^\u001b[0m\n\u001b[1;31mIndentationError\u001b[0m\u001b[1;31m:\u001b[0m unexpected indent\n"
     ]
    }
   ],
   "source": [
    "* soup.find('태그명')\n",
    "* soup.find('태그명', id=\"\")\n",
    "* soup.find('태그명', class_=\"\")\n",
    "\n",
    "* soup.find_all('태그명')\n",
    "* soup.find_all('태그명', id=\"\")\n",
    "* soup.find_all('태그명', class_=\"\")\n",
    "    * 저장되는 자료형 BS 리스트 형태로 가져오게 된다.\n",
    "    * for문을 이용해서 하나씩 원하는 분석을 수행한다."
   ]
  },
  {
   "cell_type": "code",
   "execution_count": 25,
   "id": "54e8afbb",
   "metadata": {},
   "outputs": [
    {
     "ename": "IndentationError",
     "evalue": "unexpected indent (<ipython-input-25-75f0623c0850>, line 2)",
     "output_type": "error",
     "traceback": [
      "\u001b[1;36m  File \u001b[1;32m\"<ipython-input-25-75f0623c0850>\"\u001b[1;36m, line \u001b[1;32m2\u001b[0m\n\u001b[1;33m    * [태그명].children\u001b[0m\n\u001b[1;37m    ^\u001b[0m\n\u001b[1;31mIndentationError\u001b[0m\u001b[1;31m:\u001b[0m unexpected indent\n"
     ]
    }
   ],
   "source": [
    "* children\n",
    "    * [태그명].children\n",
    "        * 태그명 하위의 요소를 리스트 형태로 가져온다."
   ]
  },
  {
   "cell_type": "code",
   "execution_count": 26,
   "id": "7338b563",
   "metadata": {},
   "outputs": [],
   "source": [
    "### Selenium"
   ]
  },
  {
   "cell_type": "code",
   "execution_count": 27,
   "id": "4ae6f7ca",
   "metadata": {},
   "outputs": [
    {
     "ename": "SyntaxError",
     "evalue": "invalid syntax (<ipython-input-27-e2a8a6681fb1>, line 1)",
     "output_type": "error",
     "traceback": [
      "\u001b[1;36m  File \u001b[1;32m\"<ipython-input-27-e2a8a6681fb1>\"\u001b[1;36m, line \u001b[1;32m1\u001b[0m\n\u001b[1;33m    * pip install selenium\u001b[0m\n\u001b[1;37m          ^\u001b[0m\n\u001b[1;31mSyntaxError\u001b[0m\u001b[1;31m:\u001b[0m invalid syntax\n"
     ]
    }
   ],
   "source": [
    "* pip install selenium"
   ]
  },
  {
   "cell_type": "code",
   "execution_count": 28,
   "id": "9784a7a2",
   "metadata": {},
   "outputs": [
    {
     "ename": "SyntaxError",
     "evalue": "invalid syntax (<ipython-input-28-c3d22cb6cc2f>, line 2)",
     "output_type": "error",
     "traceback": [
      "\u001b[1;36m  File \u001b[1;32m\"<ipython-input-28-c3d22cb6cc2f>\"\u001b[1;36m, line \u001b[1;32m2\u001b[0m\n\u001b[1;33m    * GUI, CLI 환경\u001b[0m\n\u001b[1;37m               ^\u001b[0m\n\u001b[1;31mSyntaxError\u001b[0m\u001b[1;31m:\u001b[0m invalid syntax\n"
     ]
    }
   ],
   "source": [
    "#### 참고.\n",
    "* GUI, CLI 환경\n",
    "    * GUI : graphic user interface\n",
    "    * CLI : command line interface"
   ]
  },
  {
   "cell_type": "code",
   "execution_count": 37,
   "id": "dd494352",
   "metadata": {},
   "outputs": [
    {
     "name": "stdout",
     "output_type": "stream",
     "text": [
      "Requirement already satisfied: selenium in c:\\users\\kbjoo\\anaconda3\\lib\\site-packages (3.141.0)Note: you may need to restart the kernel to use updated packages.\n",
      "\n",
      "Requirement already satisfied: urllib3 in c:\\users\\kbjoo\\anaconda3\\lib\\site-packages (from selenium) (1.26.4)\n"
     ]
    }
   ],
   "source": [
    "pip install selenium"
   ]
  },
  {
   "cell_type": "code",
   "execution_count": 98,
   "id": "ec0ac7f9",
   "metadata": {},
   "outputs": [],
   "source": [
    "from selenium import webdriver\n",
    "from bs4 import BeautifulSoup"
   ]
  },
  {
   "cell_type": "code",
   "execution_count": 99,
   "id": "23f43d07",
   "metadata": {},
   "outputs": [],
   "source": [
    "driver = webdriver.Chrome(\"chromedriver\")"
   ]
  },
  {
   "cell_type": "code",
   "execution_count": 100,
   "id": "47be83f7",
   "metadata": {},
   "outputs": [],
   "source": [
    "### 웹페이지 접속\n",
    "### url = https://www.naver.com/\n",
    "url = \"https://www.naver.com/\"\n",
    "driver.get(url)"
   ]
  },
  {
   "cell_type": "code",
   "execution_count": 101,
   "id": "b9039998",
   "metadata": {},
   "outputs": [
    {
     "data": {
      "text/plain": [
       "<title>네이버 뉴스</title>"
      ]
     },
     "execution_count": 101,
     "metadata": {},
     "output_type": "execute_result"
    }
   ],
   "source": [
    "### 웹 페이지로부터 html source 코드를 넘겨받을 수 있다.\n",
    "page = driver.page_source\n",
    "soup = BeautifulSoup(page, \"lxml\")\n",
    "soup.title"
   ]
  },
  {
   "cell_type": "code",
   "execution_count": 102,
   "id": "395d9748",
   "metadata": {},
   "outputs": [],
   "source": [
    "### driver가 가깆고 있는 웹 요소를 선택해서 가져올 수 있다.\n",
    "### xpath : 웹 페이지의 유일한 주소"
   ]
  },
  {
   "cell_type": "code",
   "execution_count": 103,
   "id": "5925dc4e",
   "metadata": {},
   "outputs": [],
   "source": [
    "### 검색 : //*[@id=\"query\"]\n",
    "### 버튼 : //*[@id=\"search_btn\"]"
   ]
  },
  {
   "cell_type": "code",
   "execution_count": 104,
   "id": "f132d0c3",
   "metadata": {},
   "outputs": [],
   "source": [
    "### 검색과 버튼을 선택\n",
    "sel_search = driver.find_element_by_xpath('/*[@id=\"query\"]')\n",
    "sel_btn = driver.find_element_by_xpath('//*[@id=\"search_btn\"]')"
   ]
  },
  {
   "cell_type": "code",
   "execution_count": 105,
   "id": "7c95cf85",
   "metadata": {},
   "outputs": [
    {
     "data": {
      "text/plain": [
       "(<selenium.webdriver.remote.webelement.WebElement (session=\"51b723faacd970d0301a59378b6583ce\", element=\"45eefbec-1d11-49dd-9bec-336075389067\")>,\n",
       " <selenium.webdriver.remote.webelement.WebElement (session=\"51b723faacd970d0301a59378b6583ce\", element=\"31edb85b-8ecd-416d-be89-32066b6c9de0\")>)"
      ]
     },
     "execution_count": 105,
     "metadata": {},
     "output_type": "execute_result"
    }
   ],
   "source": [
    "sel_search, sel_btn"
   ]
  },
  {
   "cell_type": "code",
   "execution_count": 106,
   "id": "f2f5fce4",
   "metadata": {},
   "outputs": [
    {
     "data": {
      "text/plain": [
       "<selenium.webdriver.remote.webelement.WebElement (session=\"51b723faacd970d0301a59378b6583ce\", element=\"45eefbec-1d11-49dd-9bec-336075389067\")>"
      ]
     },
     "execution_count": 106,
     "metadata": {},
     "output_type": "execute_result"
    }
   ],
   "source": [
    "sel_search"
   ]
  },
  {
   "cell_type": "code",
   "execution_count": 107,
   "id": "3a2f1514",
   "metadata": {},
   "outputs": [
    {
     "data": {
      "text/plain": [
       "''"
      ]
     },
     "execution_count": 107,
     "metadata": {},
     "output_type": "execute_result"
    }
   ],
   "source": [
    "sel_search.text"
   ]
  },
  {
   "cell_type": "code",
   "execution_count": 108,
   "id": "71e34a7d",
   "metadata": {},
   "outputs": [
    {
     "data": {
      "text/plain": [
       "'검색'"
      ]
     },
     "execution_count": 108,
     "metadata": {},
     "output_type": "execute_result"
    }
   ],
   "source": [
    "sel_btn.text"
   ]
  },
  {
   "cell_type": "code",
   "execution_count": 109,
   "id": "125d72e3",
   "metadata": {},
   "outputs": [],
   "source": [
    "sel_search.send_keys('핫이슈')\n",
    "sel_btn.click()"
   ]
  },
  {
   "cell_type": "code",
   "execution_count": 110,
   "id": "21979c29",
   "metadata": {},
   "outputs": [
    {
     "data": {
      "text/plain": [
       "<title>네이버 뉴스</title>"
      ]
     },
     "execution_count": 110,
     "metadata": {},
     "output_type": "execute_result"
    }
   ],
   "source": [
    "#### 현재 링크 가져오기\n",
    "psite1 = driver.page_source\n",
    "soup = BeautifulSoup(psite1, 'lxml')\n",
    "soup.title"
   ]
  },
  {
   "cell_type": "code",
   "execution_count": 111,
   "id": "0fd741e8",
   "metadata": {},
   "outputs": [
    {
     "data": {
      "text/plain": [
       "<a href=\"#lnb\" tabindex=\"1\"><span>메인 메뉴로 바로가기</span></a>"
      ]
     },
     "execution_count": 111,
     "metadata": {},
     "output_type": "execute_result"
    }
   ],
   "source": [
    "soup.find(\"a\")"
   ]
  },
  {
   "cell_type": "code",
   "execution_count": null,
   "id": "efc0fbed",
   "metadata": {},
   "outputs": [],
   "source": []
  }
 ],
 "metadata": {
  "kernelspec": {
   "display_name": "Python 3",
   "language": "python",
   "name": "python3"
  },
  "language_info": {
   "codemirror_mode": {
    "name": "ipython",
    "version": 3
   },
   "file_extension": ".py",
   "mimetype": "text/x-python",
   "name": "python",
   "nbconvert_exporter": "python",
   "pygments_lexer": "ipython3",
   "version": "3.8.8"
  }
 },
 "nbformat": 4,
 "nbformat_minor": 5
}
