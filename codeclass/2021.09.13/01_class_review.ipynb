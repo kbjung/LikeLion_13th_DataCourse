{
 "cells": [
  {
   "cell_type": "markdown",
   "id": "845fd57d",
   "metadata": {},
   "source": [
    "### CSS"
   ]
  },
  {
   "cell_type": "markdown",
   "id": "f88d6875",
   "metadata": {
    "scrolled": true
   },
   "source": [
    "* CSS 넣는 3가지 방법\n",
    "    * inline\n",
    "    * internal\n",
    "    * external"
   ]
  },
  {
   "cell_type": "markdown",
   "id": "fc61e160",
   "metadata": {},
   "source": [
    "* inline\n",
    "    * \\<a style=\"\"> \\</a>"
   ]
  },
  {
   "cell_type": "markdown",
   "id": "6f8704aa",
   "metadata": {},
   "source": [
    "* internal\n",
    "    * \\<style>__\\</style>"
   ]
  },
  {
   "cell_type": "markdown",
   "id": "afdcf70b",
   "metadata": {},
   "source": [
    "### CSS selector"
   ]
  },
  {
   "cell_type": "markdown",
   "id": "78badc48",
   "metadata": {},
   "source": [
    "* id => #id\n",
    "* html tag => tag명\n",
    "* class => .class명"
   ]
  },
  {
   "cell_type": "markdown",
   "id": "dc3f9011",
   "metadata": {},
   "source": [
    "* text-align : center: # left, right, center(문자 정렬)"
   ]
  },
  {
   "cell_type": "markdown",
   "id": "d673b66b",
   "metadata": {},
   "source": [
    "* external(외부연결)\n",
    "    * \\<link rel=\"stylesheet\" href=\"파일명.css\">"
   ]
  },
  {
   "cell_type": "markdown",
   "id": "6ad12856",
   "metadata": {},
   "source": [
    "* h1, p {color:red;}\n",
    "* h1과 p를 선택해서 스타일을 적용시켜라는 의미."
   ]
  },
  {
   "cell_type": "markdown",
   "id": "760ba0d5",
   "metadata": {},
   "source": [
    "* h1 p {color:red;}\n",
    "* h1 태그에 속하는 p태그에 스타일을 적용."
   ]
  },
  {
   "cell_type": "markdown",
   "id": "1f802f93",
   "metadata": {},
   "source": [
    "* css의 파일 내용\n",
    "    * html 파일의 style태그의 내용을 css파일로 만들어 준다."
   ]
  },
  {
   "cell_type": "markdown",
   "id": "c387b86d",
   "metadata": {},
   "source": [
    "* <button type=\"button\"\n",
    "* onclick=\"document.getElementById('p_date').innerHTML = Date()\">\n",
    "* Click me to display Date and Time.</button>\n",
    "* \\<p id=\"p_date\"></p>\n",
    "* 버튼을 클릭하면 id=p_date인 태그에 Date() 값을 가져와준다."
   ]
  },
  {
   "cell_type": "markdown",
   "id": "17618757",
   "metadata": {},
   "source": [
    " * document.write(markup);\n",
    "   * markup 내용이 출력."
   ]
  },
  {
   "cell_type": "markdown",
   "id": "c7a75976",
   "metadata": {},
   "source": [
    "### BS4"
   ]
  },
  {
   "cell_type": "markdown",
   "id": "1be61bf2",
   "metadata": {},
   "source": [
    "* urlopen 함수\n",
    "    * urlopen(url) : 해당 웹서버에 요청하여 html 소스코드 얻기"
   ]
  },
  {
   "cell_type": "markdown",
   "id": "bc218cdb",
   "metadata": {},
   "source": [
    "* BeautifulSoup\n",
    "    * 데이터를 수집할때 사용한다.\n",
    "    * 파이썬 라이브러리\n",
    "    * html를 파싱하여 BeautifulSoup 자료형 구조로 만든다. 우리가 쉽게 정보를 가져올 수 있도록 하기 위해"
   ]
  },
  {
   "cell_type": "markdown",
   "id": "89ce1b59",
   "metadata": {},
   "source": [
    "* soup.find('태그명')\n",
    "* soup.find('태그명', id=\"\")\n",
    "* soup.find('태그명', class_=\"\")\n",
    "\n",
    "* soup.find_all('태그명')\n",
    "* soup.find_all('태그명', id=\"\")\n",
    "* soup.find_all('태그명', class_=\"\")\n",
    "    * 저장되는 자료형 BS 리스트 형태로 가져오게 된다.\n",
    "    * for문을 이용해서 하나씩 원하는 분석을 수행한다."
   ]
  },
  {
   "cell_type": "markdown",
   "id": "406e148e",
   "metadata": {},
   "source": [
    "* children\n",
    "    * [태그명].children\n",
    "        * 태그명 하위의 요소를 리스트 형태로 가져온다."
   ]
  },
  {
   "cell_type": "markdown",
   "id": "75ebc38a",
   "metadata": {},
   "source": [
    "### Selenium"
   ]
  },
  {
   "cell_type": "markdown",
   "id": "e7f3706d",
   "metadata": {},
   "source": [
    "* pip install selenium"
   ]
  },
  {
   "cell_type": "markdown",
   "id": "8dec661c",
   "metadata": {},
   "source": [
    "#### 참고.\n",
    "* GUI, CLI 환경\n",
    "    * GUI : graphic user interface\n",
    "    * CLI : command line interface"
   ]
  },
  {
   "cell_type": "code",
   "execution_count": 37,
   "id": "e70e2669",
   "metadata": {},
   "outputs": [
    {
     "name": "stdout",
     "output_type": "stream",
     "text": [
      "Requirement already satisfied: selenium in c:\\users\\kbjoo\\anaconda3\\lib\\site-packages (3.141.0)Note: you may need to restart the kernel to use updated packages.\n",
      "\n",
      "Requirement already satisfied: urllib3 in c:\\users\\kbjoo\\anaconda3\\lib\\site-packages (from selenium) (1.26.4)\n"
     ]
    }
   ],
   "source": [
    "pip install selenium"
   ]
  },
  {
   "cell_type": "code",
   "execution_count": 122,
   "id": "067298c2",
   "metadata": {},
   "outputs": [],
   "source": [
    "from selenium import webdriver\n",
    "from bs4 import BeautifulSoup"
   ]
  },
  {
   "cell_type": "code",
   "execution_count": 123,
   "id": "ebc56e36",
   "metadata": {},
   "outputs": [],
   "source": [
    "driver = webdriver.Chrome(\"chromedriver\")"
   ]
  },
  {
   "cell_type": "code",
   "execution_count": 124,
   "id": "faa7dbd2",
   "metadata": {},
   "outputs": [],
   "source": [
    "### 웹페이지 접속\n",
    "### url = https://www.naver.com/\n",
    "url = \"https://www.naver.com/\"\n",
    "driver.get(url)"
   ]
  },
  {
   "cell_type": "code",
   "execution_count": 125,
   "id": "d5c3177c",
   "metadata": {},
   "outputs": [
    {
     "data": {
      "text/plain": [
       "<title>NAVER</title>"
      ]
     },
     "execution_count": 125,
     "metadata": {},
     "output_type": "execute_result"
    }
   ],
   "source": [
    "### 웹 페이지로부터 html source 코드를 넘겨받을 수 있다.\n",
    "page = driver.page_source\n",
    "soup = BeautifulSoup(page, \"lxml\")\n",
    "soup.title"
   ]
  },
  {
   "cell_type": "code",
   "execution_count": 126,
   "id": "863d6a47",
   "metadata": {},
   "outputs": [],
   "source": [
    "### driver가 가깆고 있는 웹 요소를 선택해서 가져올 수 있다.\n",
    "### xpath : 웹 페이지의 유일한 주소"
   ]
  },
  {
   "cell_type": "code",
   "execution_count": 127,
   "id": "9399825e",
   "metadata": {},
   "outputs": [],
   "source": [
    "### 검색 : //*[@id=\"query\"]\n",
    "### 버튼 : //*[@id=\"search_btn\"]"
   ]
  },
  {
   "cell_type": "code",
   "execution_count": 129,
   "id": "e931d302",
   "metadata": {},
   "outputs": [],
   "source": [
    "### 검색과 버튼을 선택\n",
    "sel_search = driver.find_element_by_xpath('//*[@id=\"query\"]')\n",
    "sel_btn = driver.find_element_by_xpath('//*[@id=\"search_btn\"]')"
   ]
  },
  {
   "cell_type": "code",
   "execution_count": 130,
   "id": "475dbc47",
   "metadata": {},
   "outputs": [
    {
     "data": {
      "text/plain": [
       "(<selenium.webdriver.remote.webelement.WebElement (session=\"917208cb1315e949906819c9a2c92a51\", element=\"e3080af4-87e4-49e2-a7c5-44d0d747aea7\")>,\n",
       " <selenium.webdriver.remote.webelement.WebElement (session=\"917208cb1315e949906819c9a2c92a51\", element=\"d2e2ec89-6e6f-4a86-8de8-f1f2a1a0efe6\")>)"
      ]
     },
     "execution_count": 130,
     "metadata": {},
     "output_type": "execute_result"
    }
   ],
   "source": [
    "sel_search, sel_btn"
   ]
  },
  {
   "cell_type": "code",
   "execution_count": 131,
   "id": "0ef21051",
   "metadata": {},
   "outputs": [
    {
     "data": {
      "text/plain": [
       "<selenium.webdriver.remote.webelement.WebElement (session=\"917208cb1315e949906819c9a2c92a51\", element=\"e3080af4-87e4-49e2-a7c5-44d0d747aea7\")>"
      ]
     },
     "execution_count": 131,
     "metadata": {},
     "output_type": "execute_result"
    }
   ],
   "source": [
    "sel_search"
   ]
  },
  {
   "cell_type": "code",
   "execution_count": 132,
   "id": "28a9cdd3",
   "metadata": {},
   "outputs": [
    {
     "data": {
      "text/plain": [
       "''"
      ]
     },
     "execution_count": 132,
     "metadata": {},
     "output_type": "execute_result"
    }
   ],
   "source": [
    "sel_search.text"
   ]
  },
  {
   "cell_type": "code",
   "execution_count": 133,
   "id": "b9574d8e",
   "metadata": {},
   "outputs": [
    {
     "data": {
      "text/plain": [
       "'검색'"
      ]
     },
     "execution_count": 133,
     "metadata": {},
     "output_type": "execute_result"
    }
   ],
   "source": [
    "sel_btn.text"
   ]
  },
  {
   "cell_type": "code",
   "execution_count": 134,
   "id": "c59d0b61",
   "metadata": {},
   "outputs": [],
   "source": [
    "sel_search.send_keys('핫이슈')\n",
    "sel_btn.click()"
   ]
  }
 ],
 "metadata": {
  "kernelspec": {
   "display_name": "Python 3",
   "language": "python",
   "name": "python3"
  },
  "language_info": {
   "codemirror_mode": {
    "name": "ipython",
    "version": 3
   },
   "file_extension": ".py",
   "mimetype": "text/x-python",
   "name": "python",
   "nbconvert_exporter": "python",
   "pygments_lexer": "ipython3",
   "version": "3.8.8"
  }
 },
 "nbformat": 4,
 "nbformat_minor": 5
}
