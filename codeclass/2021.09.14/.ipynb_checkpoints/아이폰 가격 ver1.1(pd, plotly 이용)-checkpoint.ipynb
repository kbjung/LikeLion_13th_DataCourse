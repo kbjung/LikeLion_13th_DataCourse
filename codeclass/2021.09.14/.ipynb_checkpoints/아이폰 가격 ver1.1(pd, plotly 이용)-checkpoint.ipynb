{
 "cells": [
  {
   "cell_type": "markdown",
   "id": "1272cdd6",
   "metadata": {},
   "source": [
    "# 아이폰 가격 통계"
   ]
  },
  {
   "cell_type": "markdown",
   "id": "df68a446",
   "metadata": {},
   "source": [
    "### 필요한 라이브러리 로드"
   ]
  },
  {
   "cell_type": "code",
   "execution_count": 24,
   "id": "943bbeba",
   "metadata": {},
   "outputs": [],
   "source": [
    "# 라이브러리 로드\n",
    "from selenium import webdriver\n",
    "from bs4 import BeautifulSoup\n",
    "import time"
   ]
  },
  {
   "cell_type": "markdown",
   "id": "cb5c9d1f",
   "metadata": {},
   "source": [
    "### 네이버 쇼핑 상세검색 이용"
   ]
  },
  {
   "cell_type": "code",
   "execution_count": 25,
   "id": "902d969e",
   "metadata": {},
   "outputs": [
    {
     "name": "stdout",
     "output_type": "stream",
     "text": [
      "12\n",
      "12\n"
     ]
    }
   ],
   "source": [
    "# 검색어와 제외 검색어 리스트(영문 입력)\n",
    "search_name_list = [\"iphone_12_mini_64GB\", \"iphone_12_mini_128GB\", \"iphone_12_mini_256GB\",\n",
    "                    \"iphone_12_64GB\", \"iphone_12_128GB\", \"iphone_12_256GB\",\n",
    "                    \"iphone_12_pro_128GB\", \"iphone_12_pro_256GB\", \"iphone_12_pro_512GB\",\n",
    "                    \"iphone_12_pro_max_128GB\", \"iphone_12_pro_max_256GB\", \"iphone_12_pro_max_512GB\"]\n",
    "search_except_name_list = [\"128GB, 256GB, pro, max\",\"64GB, 256GB, pro, max\", \"64GB, 128GB, pro, max\",\n",
    "                           \"128GB, 256GB, mini, pro\", \"64GB, 256GB, mini, pro\", \"64GB, 128GB, mini, pro\",\n",
    "                           \"256GB, 512GB, mini, max\", \"128GB, 512GB, mini, max\", \"128GB, 256GB, mini, max\",\n",
    "                           \"256GB, 512GB, mini\", \"128GB, 512GB, mini\",\"128GB, 256GB, mini\"]\n",
    "num = len(search_name_list)\n",
    "print(len(search_name_list))\n",
    "print(len(search_except_name_list))"
   ]
  },
  {
   "cell_type": "markdown",
   "id": "c7e98b8f",
   "metadata": {},
   "source": [
    "### 아이폰 모델, 용량 별 가격 모아 파일로 출력하기"
   ]
  },
  {
   "cell_type": "code",
   "execution_count": 26,
   "id": "3c98371b",
   "metadata": {},
   "outputs": [
    {
     "name": "stdout",
     "output_type": "stream",
     "text": [
      "iphone_12_mini_64GB의 평균가격 : 866130 원\n",
      "iphone_12_mini_64GB의 최고가격 : 1330000 원\n",
      "iphone_12_mini_64GB의 최저가격 : 559000 원\n",
      "총 37개\n",
      "iphone_12_mini_128GB의 평균가격 : 1107784 원\n",
      "iphone_12_mini_128GB의 최고가격 : 1530000 원\n",
      "iphone_12_mini_128GB의 최저가격 : 529000 원\n",
      "총 37개\n",
      "iphone_12_mini_256GB의 평균가격 : 1300857 원\n",
      "iphone_12_mini_256GB의 최고가격 : 1910000 원\n",
      "iphone_12_mini_256GB의 최저가격 : 672000 원\n",
      "총 38개\n",
      "iphone_12_64GB의 평균가격 : 1163326 원\n",
      "iphone_12_64GB의 최고가격 : 1420000 원\n",
      "iphone_12_64GB의 최저가격 : 875990 원\n",
      "총 40개\n",
      "iphone_12_128GB의 평균가격 : 1290010 원\n",
      "iphone_12_128GB의 최고가격 : 1740000 원\n",
      "iphone_12_128GB의 최저가격 : 516300 원\n",
      "총 39개\n",
      "iphone_12_256GB의 평균가격 : 1416152 원\n",
      "iphone_12_256GB의 최고가격 : 1950000 원\n",
      "iphone_12_256GB의 최저가격 : 799900 원\n",
      "총 39개\n",
      "iphone_12_pro_128GB의 평균가격 : 1258209 원\n",
      "iphone_12_pro_128GB의 최고가격 : 1470000 원\n",
      "iphone_12_pro_128GB의 최저가격 : 571300 원\n",
      "총 39개\n",
      "iphone_12_pro_256GB의 평균가격 : 1468485 원\n",
      "iphone_12_pro_256GB의 최고가격 : 1690000 원\n",
      "iphone_12_pro_256GB의 최저가격 : 835300 원\n",
      "총 38개\n",
      "iphone_12_pro_512GB의 평균가격 : 1815493 원\n",
      "iphone_12_pro_512GB의 최고가격 : 1990000 원\n",
      "iphone_12_pro_512GB의 최저가격 : 1409000 원\n",
      "총 39개\n",
      "iphone_12_pro_max_128GB의 평균가격 : 1082486 원\n",
      "iphone_12_pro_max_128GB의 최고가격 : 1474000 원\n",
      "iphone_12_pro_max_128GB의 최저가격 : 605760 원\n",
      "총 39개\n",
      "iphone_12_pro_max_256GB의 평균가격 : 1199708 원\n",
      "iphone_12_pro_max_256GB의 최고가격 : 1606000 원\n",
      "iphone_12_pro_max_256GB의 최저가격 : 798060 원\n",
      "총 39개\n",
      "iphone_12_pro_max_512GB의 평균가격 : 1467542 원\n",
      "iphone_12_pro_max_512GB의 최고가격 : 1870000 원\n",
      "iphone_12_pro_max_512GB의 최저가격 : 1090400 원\n",
      "총 39개\n"
     ]
    }
   ],
   "source": [
    "# 평균, 최고, 최소값 행 표시\n",
    "price_index = [\"평균가\", \"최고가\", \"최소가\", \"자료 개수\"]\n",
    "# 모든 상품 가격 리스트\n",
    "all_price = []\n",
    "# 모든 상품 가격과 행 정보 리스트\n",
    "all_info = []\n",
    "\n",
    "# 상품 별 가격 리스트화 하기\n",
    "driver = webdriver.Chrome('chromedriver')\n",
    "time.sleep(1)\n",
    "\n",
    "for i in range(num):\n",
    "    # webdriver 불러오기, '네이버 쇼핑' 접속\n",
    "    url = \"https://shopping.naver.com/home/p/index.naver\"\n",
    "    driver.get(url)\n",
    "    time.sleep(2)\n",
    "    \n",
    "    # 네이버 쇼핑에 search_name_list의 요소들 하나씩 검색\n",
    "    # 상세 검색으로 필요없는 단어 설정해서 검색하기 과정\n",
    "    search_name = search_name_list[i]\n",
    "    search_except_name = search_except_name_list[i]\n",
    "    \n",
    "    # 상세 검색 여는 버튼 xpath = '//*[@id=\"_detailSearchButton\"]'\n",
    "    # 상세 검색의 기본검색 창 xpath = '//*[@id=\"lb_srh_basis\"]'\n",
    "    # 제외하는 단어 검색창 xpath= '//*[@id=\"lb_srh_exclude\"]'\n",
    "    # 상세 검색 버튼 xpath = '//*[@id=\"_detailSearchDiv\"]/div/div[2]/a[3]'\n",
    "    # 정확히 검색창 xpath = '//*[@id=\"lb_srh_exact\"]'\n",
    "    to_detail_search_button = driver.find_element_by_xpath('//*[@id=\"_detailSearchButton\"]')\n",
    "    detail_search_basic_search = driver.find_element_by_xpath('//*[@id=\"lb_srh_basis\"]')\n",
    "    except_word = driver.find_element_by_xpath('//*[@id=\"lb_srh_exclude\"]')\n",
    "    detail_search_button = driver.find_element_by_xpath('//*[@id=\"_detailSearchDiv\"]/div/div[2]/a[3]')\n",
    "    exact_search = driver.find_element_by_xpath('//*[@id=\"lb_srh_exact\"]')\n",
    "    \n",
    "    # 상세 검색창 클릭\n",
    "    to_detail_search_button.click()\n",
    "    time.sleep(1)\n",
    "    # 상세 검색창에 검색어 입력\n",
    "    detail_search_basic_search.send_keys(search_name)\n",
    "    time.sleep(0.5)\n",
    "    exact_search.send_keys(search_name)\n",
    "    time.sleep(0.5)\n",
    "    \n",
    "    # 상세 검색에 제외 단어 입력하기\n",
    "    except_word.send_keys(search_except_name)\n",
    "    time.sleep(0.5)\n",
    "    detail_search_button.click()\n",
    "    time.sleep(2)\n",
    "    \n",
    "    # 페이지 스크롤 맨밑까지 내리기\n",
    "    # 스크롤 높이 가져옴\n",
    "    last_height = driver.execute_script(\"return document.body.scrollHeight\")\n",
    "\n",
    "    while True:\n",
    "        # 끝까지 스크롤 다운\n",
    "        driver.execute_script(\"window.scrollTo(0, document.body.scrollHeight);\")\n",
    "        time.sleep(1)\n",
    "\n",
    "        # 스크롤 다운 후 스크롤 높이 다시 가져옴\n",
    "        new_height = driver.execute_script(\"return document.body.scrollHeight\")\n",
    "        if new_height == last_height:\n",
    "            break\n",
    "        last_height = new_height\n",
    "    \n",
    "    # 상품의 가격 수집(BS)\n",
    "    page = driver.page_source\n",
    "    soup = BeautifulSoup(page, 'lxml')\n",
    "    \n",
    "    # 전체 상품 리스트 담기 태그 : 'ul', class_='list_basis'\n",
    "    all_mer_list = soup.find('ul', class_='list_basis')\n",
    "    \n",
    "    # 가격표시 강조 부분 태그 : 'strong', class_='basicList_price__2r23_'\n",
    "    basiclist_price = all_mer_list.find_all('strong', class_='basicList_price__2r23_')\n",
    "    \n",
    "    # 상품별 가격 모으기\n",
    "    price_list = []\n",
    "    for one in basiclist_price:\n",
    "        tmp = one.find('span', class_='price_num__2WUXn').text\n",
    "        price_list.append(tmp)\n",
    "        \n",
    "    # 가격을 숫자 형태로 변환\n",
    "    int_price_list = []\n",
    "    for i in list(price_list):\n",
    "        tmp = i.replace(\"원\", \"\")\n",
    "        tmp = tmp.replace(\",\",\"\")\n",
    "        tmp = int(tmp)\n",
    "        int_price_list.append(tmp)\n",
    "        \n",
    "    # 극단값 제거\n",
    "    mod_price_list = []\n",
    "    for i in int_price_list:\n",
    "        if i >= 500000 and i <= 2000000:\n",
    "            mod_price_list.append(i)\n",
    "        \n",
    "    # 평균, 최고, 최저가 출력\n",
    "    mean = int(sum(mod_price_list) / len(mod_price_list)) # 정수값으로 출력\n",
    "    maxium = max(mod_price_list)\n",
    "    minium = min(mod_price_list)\n",
    "    num_mod_price_list = len(mod_price_list) # 크롤링한 자료 개수\n",
    "    # 확인\n",
    "    print(f'{search_name}의 평균가격 :', mean,'원')\n",
    "    print(f'{search_name}의 최고가격 :', maxium,'원')\n",
    "    print(f'{search_name}의 최저가격 :', minium,'원')\n",
    "    print(f\"총 {num_mod_price_list}개\")\n",
    "    \n",
    "    # 평균, 최고, 최저가 순서대로 리스트로 만들기\n",
    "    mod_price = []\n",
    "    mod_price.append(mean)\n",
    "    mod_price.append(maxium)\n",
    "    mod_price.append(minium)\n",
    "    mod_price.append(num_mod_price_list)\n",
    "       \n",
    "    # 여러 상품의 가격을 하나로 모아 리스트 만들기\n",
    "    all_price.append(mod_price)\n",
    "    time.sleep(2)\n",
    "    \n",
    "# 여러 상품의 가격과 행 정보를 모아 파일로 만들기\n",
    "import pandas as pd\n",
    "dict_dat = {}\n",
    "dict_dat[\"정보\"] = price_index\n",
    "for i in range(num):\n",
    "    dict_dat[search_name_list[i]] = all_price[i]\n",
    "dat = pd.DataFrame(dict_dat)\n",
    "dat.to_csv(\"iphone_price_by_model.csv\", index=False)\n",
    "dat.to_excel(\"iphone_price_by_model.xlsx\", index=False)"
   ]
  },
  {
   "cell_type": "markdown",
   "id": "ab71e41d",
   "metadata": {},
   "source": [
    "### csv 파일을 읽어 막대그래프 만들기(pandas, plotly 이용)"
   ]
  },
  {
   "cell_type": "code",
   "execution_count": 27,
   "id": "4b121af1",
   "metadata": {},
   "outputs": [],
   "source": [
    "# pandas 로드\n",
    "import pandas as pd"
   ]
  },
  {
   "cell_type": "code",
   "execution_count": 9,
   "id": "1b6f2e77",
   "metadata": {
    "scrolled": true
   },
   "outputs": [
    {
     "data": {
      "text/html": [
       "<div>\n",
       "<style scoped>\n",
       "    .dataframe tbody tr th:only-of-type {\n",
       "        vertical-align: middle;\n",
       "    }\n",
       "\n",
       "    .dataframe tbody tr th {\n",
       "        vertical-align: top;\n",
       "    }\n",
       "\n",
       "    .dataframe thead th {\n",
       "        text-align: right;\n",
       "    }\n",
       "</style>\n",
       "<table border=\"1\" class=\"dataframe\">\n",
       "  <thead>\n",
       "    <tr style=\"text-align: right;\">\n",
       "      <th></th>\n",
       "      <th>정보</th>\n",
       "      <th>iphone_12_mini_64GB</th>\n",
       "      <th>iphone_12_mini_128GB</th>\n",
       "      <th>iphone_12_mini_256GB</th>\n",
       "      <th>iphone_12_64GB</th>\n",
       "      <th>iphone_12_128GB</th>\n",
       "      <th>iphone_12_256GB</th>\n",
       "      <th>iphone_12_pro_128GB</th>\n",
       "      <th>iphone_12_pro_256GB</th>\n",
       "      <th>iphone_12_pro_512GB</th>\n",
       "      <th>iphone_12_pro_max_128GB</th>\n",
       "      <th>iphone_12_pro_max_256GB</th>\n",
       "      <th>iphone_12_pro_max_512GB</th>\n",
       "    </tr>\n",
       "  </thead>\n",
       "  <tbody>\n",
       "    <tr>\n",
       "      <th>0</th>\n",
       "      <td>평균가</td>\n",
       "      <td>866130</td>\n",
       "      <td>1107784</td>\n",
       "      <td>1300857</td>\n",
       "      <td>1163326</td>\n",
       "      <td>1290010</td>\n",
       "      <td>1416152</td>\n",
       "      <td>1258209</td>\n",
       "      <td>1468485</td>\n",
       "      <td>1815493</td>\n",
       "      <td>1082486</td>\n",
       "      <td>1199708</td>\n",
       "      <td>1467542</td>\n",
       "    </tr>\n",
       "    <tr>\n",
       "      <th>1</th>\n",
       "      <td>최고가</td>\n",
       "      <td>1330000</td>\n",
       "      <td>1530000</td>\n",
       "      <td>1910000</td>\n",
       "      <td>1420000</td>\n",
       "      <td>1740000</td>\n",
       "      <td>1950000</td>\n",
       "      <td>1470000</td>\n",
       "      <td>1690000</td>\n",
       "      <td>1990000</td>\n",
       "      <td>1474000</td>\n",
       "      <td>1606000</td>\n",
       "      <td>1870000</td>\n",
       "    </tr>\n",
       "    <tr>\n",
       "      <th>2</th>\n",
       "      <td>최소가</td>\n",
       "      <td>559000</td>\n",
       "      <td>529000</td>\n",
       "      <td>672000</td>\n",
       "      <td>875990</td>\n",
       "      <td>516300</td>\n",
       "      <td>799900</td>\n",
       "      <td>571300</td>\n",
       "      <td>835300</td>\n",
       "      <td>1409000</td>\n",
       "      <td>605760</td>\n",
       "      <td>798060</td>\n",
       "      <td>1090400</td>\n",
       "    </tr>\n",
       "    <tr>\n",
       "      <th>3</th>\n",
       "      <td>자료 개수</td>\n",
       "      <td>37</td>\n",
       "      <td>37</td>\n",
       "      <td>38</td>\n",
       "      <td>40</td>\n",
       "      <td>39</td>\n",
       "      <td>39</td>\n",
       "      <td>39</td>\n",
       "      <td>38</td>\n",
       "      <td>39</td>\n",
       "      <td>39</td>\n",
       "      <td>39</td>\n",
       "      <td>39</td>\n",
       "    </tr>\n",
       "  </tbody>\n",
       "</table>\n",
       "</div>"
      ],
      "text/plain": [
       "      정보  iphone_12_mini_64GB  iphone_12_mini_128GB  iphone_12_mini_256GB  \\\n",
       "0    평균가               866130               1107784               1300857   \n",
       "1    최고가              1330000               1530000               1910000   \n",
       "2    최소가               559000                529000                672000   \n",
       "3  자료 개수                   37                    37                    38   \n",
       "\n",
       "   iphone_12_64GB  iphone_12_128GB  iphone_12_256GB  iphone_12_pro_128GB  \\\n",
       "0         1163326          1290010          1416152              1258209   \n",
       "1         1420000          1740000          1950000              1470000   \n",
       "2          875990           516300           799900               571300   \n",
       "3              40               39               39                   39   \n",
       "\n",
       "   iphone_12_pro_256GB  iphone_12_pro_512GB  iphone_12_pro_max_128GB  \\\n",
       "0              1468485              1815493                  1082486   \n",
       "1              1690000              1990000                  1474000   \n",
       "2               835300              1409000                   605760   \n",
       "3                   38                   39                       39   \n",
       "\n",
       "   iphone_12_pro_max_256GB  iphone_12_pro_max_512GB  \n",
       "0                  1199708                  1467542  \n",
       "1                  1606000                  1870000  \n",
       "2                   798060                  1090400  \n",
       "3                       39                       39  "
      ]
     },
     "execution_count": 9,
     "metadata": {},
     "output_type": "execute_result"
    }
   ],
   "source": [
    "# csv 파일 읽어오기\n",
    "ipp = pd.read_csv(\"iphone_price_by_model.csv\")\n",
    "ipp.head()"
   ]
  },
  {
   "cell_type": "code",
   "execution_count": 28,
   "id": "63bf8b44",
   "metadata": {},
   "outputs": [
    {
     "name": "stdout",
     "output_type": "stream",
     "text": [
      "<class 'pandas.core.frame.DataFrame'>\n",
      "RangeIndex: 4 entries, 0 to 3\n",
      "Data columns (total 13 columns):\n",
      " #   Column                   Non-Null Count  Dtype \n",
      "---  ------                   --------------  ----- \n",
      " 0   정보                       4 non-null      object\n",
      " 1   iphone_12_mini_64GB      4 non-null      int64 \n",
      " 2   iphone_12_mini_128GB     4 non-null      int64 \n",
      " 3   iphone_12_mini_256GB     4 non-null      int64 \n",
      " 4   iphone_12_64GB           4 non-null      int64 \n",
      " 5   iphone_12_128GB          4 non-null      int64 \n",
      " 6   iphone_12_256GB          4 non-null      int64 \n",
      " 7   iphone_12_pro_128GB      4 non-null      int64 \n",
      " 8   iphone_12_pro_256GB      4 non-null      int64 \n",
      " 9   iphone_12_pro_512GB      4 non-null      int64 \n",
      " 10  iphone_12_pro_max_128GB  4 non-null      int64 \n",
      " 11  iphone_12_pro_max_256GB  4 non-null      int64 \n",
      " 12  iphone_12_pro_max_512GB  4 non-null      int64 \n",
      "dtypes: int64(12), object(1)\n",
      "memory usage: 544.0+ bytes\n"
     ]
    }
   ],
   "source": [
    "ipp.info()"
   ]
  },
  {
   "cell_type": "code",
   "execution_count": 29,
   "id": "6b8f10dc",
   "metadata": {},
   "outputs": [],
   "source": [
    "# plotly, cufflinks 로드\n",
    "import plotly\n",
    "import cufflinks as cf"
   ]
  },
  {
   "cell_type": "code",
   "execution_count": 30,
   "id": "d60accff",
   "metadata": {},
   "outputs": [
    {
     "data": {
      "text/html": [
       "        <script type=\"text/javascript\">\n",
       "        window.PlotlyConfig = {MathJaxConfig: 'local'};\n",
       "        if (window.MathJax) {MathJax.Hub.Config({SVG: {font: \"STIX-Web\"}});}\n",
       "        if (typeof require !== 'undefined') {\n",
       "        require.undef(\"plotly\");\n",
       "        requirejs.config({\n",
       "            paths: {\n",
       "                'plotly': ['https://cdn.plot.ly/plotly-2.4.2.min']\n",
       "            }\n",
       "        });\n",
       "        require(['plotly'], function(Plotly) {\n",
       "            window._Plotly = Plotly;\n",
       "        });\n",
       "        }\n",
       "        </script>\n",
       "        "
      ]
     },
     "metadata": {},
     "output_type": "display_data"
    },
    {
     "data": {
      "text/html": [
       "        <script type=\"text/javascript\">\n",
       "        window.PlotlyConfig = {MathJaxConfig: 'local'};\n",
       "        if (window.MathJax) {MathJax.Hub.Config({SVG: {font: \"STIX-Web\"}});}\n",
       "        if (typeof require !== 'undefined') {\n",
       "        require.undef(\"plotly\");\n",
       "        requirejs.config({\n",
       "            paths: {\n",
       "                'plotly': ['https://cdn.plot.ly/plotly-2.4.2.min']\n",
       "            }\n",
       "        });\n",
       "        require(['plotly'], function(Plotly) {\n",
       "            window._Plotly = Plotly;\n",
       "        });\n",
       "        }\n",
       "        </script>\n",
       "        "
      ]
     },
     "metadata": {},
     "output_type": "display_data"
    }
   ],
   "source": [
    "# 오프라인 모드에서도 인터렉티브한 그래픽을 가능하도록 하기\n",
    "# Enabling the offline mode for interactive plotting locally\n",
    "from plotly.offline import download_plotlyjs,init_notebook_mode,plot,iplot\n",
    "init_notebook_mode(connected=True)\n",
    "cf.go_offline()"
   ]
  },
  {
   "cell_type": "code",
   "execution_count": 31,
   "id": "ba133455",
   "metadata": {},
   "outputs": [
    {
     "data": {
      "application/vnd.plotly.v1+json": {
       "config": {
        "linkText": "Export to plot.ly",
        "plotlyServerURL": "https://plot.ly",
        "showLink": true
       },
       "data": [
        {
         "marker": {
          "color": "rgba(255, 153, 51, 0.6)",
          "line": {
           "color": "rgba(255, 153, 51, 1.0)",
           "width": 1
          }
         },
         "name": "iphone_12_mini_64GB",
         "orientation": "v",
         "text": "",
         "type": "bar",
         "x": [
          "평균가",
          "최고가",
          "최소가"
         ],
         "y": [
          866130,
          1330000,
          559000
         ]
        },
        {
         "marker": {
          "color": "rgba(55, 128, 191, 0.6)",
          "line": {
           "color": "rgba(55, 128, 191, 1.0)",
           "width": 1
          }
         },
         "name": "iphone_12_mini_128GB",
         "orientation": "v",
         "text": "",
         "type": "bar",
         "x": [
          "평균가",
          "최고가",
          "최소가"
         ],
         "y": [
          1107784,
          1530000,
          529000
         ]
        },
        {
         "marker": {
          "color": "rgba(50, 171, 96, 0.6)",
          "line": {
           "color": "rgba(50, 171, 96, 1.0)",
           "width": 1
          }
         },
         "name": "iphone_12_mini_256GB",
         "orientation": "v",
         "text": "",
         "type": "bar",
         "x": [
          "평균가",
          "최고가",
          "최소가"
         ],
         "y": [
          1300857,
          1910000,
          672000
         ]
        },
        {
         "marker": {
          "color": "rgba(128, 0, 128, 0.6)",
          "line": {
           "color": "rgba(128, 0, 128, 1.0)",
           "width": 1
          }
         },
         "name": "iphone_12_64GB",
         "orientation": "v",
         "text": "",
         "type": "bar",
         "x": [
          "평균가",
          "최고가",
          "최소가"
         ],
         "y": [
          1163326,
          1420000,
          875990
         ]
        },
        {
         "marker": {
          "color": "rgba(219, 64, 82, 0.6)",
          "line": {
           "color": "rgba(219, 64, 82, 1.0)",
           "width": 1
          }
         },
         "name": "iphone_12_128GB",
         "orientation": "v",
         "text": "",
         "type": "bar",
         "x": [
          "평균가",
          "최고가",
          "최소가"
         ],
         "y": [
          1290010,
          1740000,
          516300
         ]
        },
        {
         "marker": {
          "color": "rgba(0, 128, 128, 0.6)",
          "line": {
           "color": "rgba(0, 128, 128, 1.0)",
           "width": 1
          }
         },
         "name": "iphone_12_256GB",
         "orientation": "v",
         "text": "",
         "type": "bar",
         "x": [
          "평균가",
          "최고가",
          "최소가"
         ],
         "y": [
          1416152,
          1950000,
          799900
         ]
        },
        {
         "marker": {
          "color": "rgba(255, 255, 51, 0.6)",
          "line": {
           "color": "rgba(255, 255, 51, 1.0)",
           "width": 1
          }
         },
         "name": "iphone_12_pro_128GB",
         "orientation": "v",
         "text": "",
         "type": "bar",
         "x": [
          "평균가",
          "최고가",
          "최소가"
         ],
         "y": [
          1258209,
          1470000,
          571300
         ]
        },
        {
         "marker": {
          "color": "rgba(128, 128, 0, 0.6)",
          "line": {
           "color": "rgba(128, 128, 0, 1.0)",
           "width": 1
          }
         },
         "name": "iphone_12_pro_256GB",
         "orientation": "v",
         "text": "",
         "type": "bar",
         "x": [
          "평균가",
          "최고가",
          "최소가"
         ],
         "y": [
          1468485,
          1690000,
          835300
         ]
        },
        {
         "marker": {
          "color": "rgba(251, 128, 114, 0.6)",
          "line": {
           "color": "rgba(251, 128, 114, 1.0)",
           "width": 1
          }
         },
         "name": "iphone_12_pro_512GB",
         "orientation": "v",
         "text": "",
         "type": "bar",
         "x": [
          "평균가",
          "최고가",
          "최소가"
         ],
         "y": [
          1815493,
          1990000,
          1409000
         ]
        },
        {
         "marker": {
          "color": "rgba(128, 177, 211, 0.6)",
          "line": {
           "color": "rgba(128, 177, 211, 1.0)",
           "width": 1
          }
         },
         "name": "iphone_12_pro_max_128GB",
         "orientation": "v",
         "text": "",
         "type": "bar",
         "x": [
          "평균가",
          "최고가",
          "최소가"
         ],
         "y": [
          1082486,
          1474000,
          605760
         ]
        },
        {
         "marker": {
          "color": "rgba(128, 177, 211, 0.6)",
          "line": {
           "color": "rgba(128, 177, 211, 0.8999999999999999)",
           "width": 1
          }
         },
         "name": "iphone_12_pro_max_256GB",
         "orientation": "v",
         "text": "",
         "type": "bar",
         "x": [
          "평균가",
          "최고가",
          "최소가"
         ],
         "y": [
          1199708,
          1606000,
          798060
         ]
        },
        {
         "marker": {
          "color": "rgba(255, 153, 51, 0.6)",
          "line": {
           "color": "rgba(255, 153, 51, 0.8999999999999999)",
           "width": 1
          }
         },
         "name": "iphone_12_pro_max_512GB",
         "orientation": "v",
         "text": "",
         "type": "bar",
         "x": [
          "평균가",
          "최고가",
          "최소가"
         ],
         "y": [
          1467542,
          1870000,
          1090400
         ]
        }
       ],
       "layout": {
        "legend": {
         "bgcolor": "#F5F6F9",
         "font": {
          "color": "#4D5663"
         }
        },
        "paper_bgcolor": "#F5F6F9",
        "plot_bgcolor": "#F5F6F9",
        "template": {
         "data": {
          "bar": [
           {
            "error_x": {
             "color": "#2a3f5f"
            },
            "error_y": {
             "color": "#2a3f5f"
            },
            "marker": {
             "line": {
              "color": "#E5ECF6",
              "width": 0.5
             },
             "pattern": {
              "fillmode": "overlay",
              "size": 10,
              "solidity": 0.2
             }
            },
            "type": "bar"
           }
          ],
          "barpolar": [
           {
            "marker": {
             "line": {
              "color": "#E5ECF6",
              "width": 0.5
             },
             "pattern": {
              "fillmode": "overlay",
              "size": 10,
              "solidity": 0.2
             }
            },
            "type": "barpolar"
           }
          ],
          "carpet": [
           {
            "aaxis": {
             "endlinecolor": "#2a3f5f",
             "gridcolor": "white",
             "linecolor": "white",
             "minorgridcolor": "white",
             "startlinecolor": "#2a3f5f"
            },
            "baxis": {
             "endlinecolor": "#2a3f5f",
             "gridcolor": "white",
             "linecolor": "white",
             "minorgridcolor": "white",
             "startlinecolor": "#2a3f5f"
            },
            "type": "carpet"
           }
          ],
          "choropleth": [
           {
            "colorbar": {
             "outlinewidth": 0,
             "ticks": ""
            },
            "type": "choropleth"
           }
          ],
          "contour": [
           {
            "colorbar": {
             "outlinewidth": 0,
             "ticks": ""
            },
            "colorscale": [
             [
              0,
              "#0d0887"
             ],
             [
              0.1111111111111111,
              "#46039f"
             ],
             [
              0.2222222222222222,
              "#7201a8"
             ],
             [
              0.3333333333333333,
              "#9c179e"
             ],
             [
              0.4444444444444444,
              "#bd3786"
             ],
             [
              0.5555555555555556,
              "#d8576b"
             ],
             [
              0.6666666666666666,
              "#ed7953"
             ],
             [
              0.7777777777777778,
              "#fb9f3a"
             ],
             [
              0.8888888888888888,
              "#fdca26"
             ],
             [
              1,
              "#f0f921"
             ]
            ],
            "type": "contour"
           }
          ],
          "contourcarpet": [
           {
            "colorbar": {
             "outlinewidth": 0,
             "ticks": ""
            },
            "type": "contourcarpet"
           }
          ],
          "heatmap": [
           {
            "colorbar": {
             "outlinewidth": 0,
             "ticks": ""
            },
            "colorscale": [
             [
              0,
              "#0d0887"
             ],
             [
              0.1111111111111111,
              "#46039f"
             ],
             [
              0.2222222222222222,
              "#7201a8"
             ],
             [
              0.3333333333333333,
              "#9c179e"
             ],
             [
              0.4444444444444444,
              "#bd3786"
             ],
             [
              0.5555555555555556,
              "#d8576b"
             ],
             [
              0.6666666666666666,
              "#ed7953"
             ],
             [
              0.7777777777777778,
              "#fb9f3a"
             ],
             [
              0.8888888888888888,
              "#fdca26"
             ],
             [
              1,
              "#f0f921"
             ]
            ],
            "type": "heatmap"
           }
          ],
          "heatmapgl": [
           {
            "colorbar": {
             "outlinewidth": 0,
             "ticks": ""
            },
            "colorscale": [
             [
              0,
              "#0d0887"
             ],
             [
              0.1111111111111111,
              "#46039f"
             ],
             [
              0.2222222222222222,
              "#7201a8"
             ],
             [
              0.3333333333333333,
              "#9c179e"
             ],
             [
              0.4444444444444444,
              "#bd3786"
             ],
             [
              0.5555555555555556,
              "#d8576b"
             ],
             [
              0.6666666666666666,
              "#ed7953"
             ],
             [
              0.7777777777777778,
              "#fb9f3a"
             ],
             [
              0.8888888888888888,
              "#fdca26"
             ],
             [
              1,
              "#f0f921"
             ]
            ],
            "type": "heatmapgl"
           }
          ],
          "histogram": [
           {
            "marker": {
             "pattern": {
              "fillmode": "overlay",
              "size": 10,
              "solidity": 0.2
             }
            },
            "type": "histogram"
           }
          ],
          "histogram2d": [
           {
            "colorbar": {
             "outlinewidth": 0,
             "ticks": ""
            },
            "colorscale": [
             [
              0,
              "#0d0887"
             ],
             [
              0.1111111111111111,
              "#46039f"
             ],
             [
              0.2222222222222222,
              "#7201a8"
             ],
             [
              0.3333333333333333,
              "#9c179e"
             ],
             [
              0.4444444444444444,
              "#bd3786"
             ],
             [
              0.5555555555555556,
              "#d8576b"
             ],
             [
              0.6666666666666666,
              "#ed7953"
             ],
             [
              0.7777777777777778,
              "#fb9f3a"
             ],
             [
              0.8888888888888888,
              "#fdca26"
             ],
             [
              1,
              "#f0f921"
             ]
            ],
            "type": "histogram2d"
           }
          ],
          "histogram2dcontour": [
           {
            "colorbar": {
             "outlinewidth": 0,
             "ticks": ""
            },
            "colorscale": [
             [
              0,
              "#0d0887"
             ],
             [
              0.1111111111111111,
              "#46039f"
             ],
             [
              0.2222222222222222,
              "#7201a8"
             ],
             [
              0.3333333333333333,
              "#9c179e"
             ],
             [
              0.4444444444444444,
              "#bd3786"
             ],
             [
              0.5555555555555556,
              "#d8576b"
             ],
             [
              0.6666666666666666,
              "#ed7953"
             ],
             [
              0.7777777777777778,
              "#fb9f3a"
             ],
             [
              0.8888888888888888,
              "#fdca26"
             ],
             [
              1,
              "#f0f921"
             ]
            ],
            "type": "histogram2dcontour"
           }
          ],
          "mesh3d": [
           {
            "colorbar": {
             "outlinewidth": 0,
             "ticks": ""
            },
            "type": "mesh3d"
           }
          ],
          "parcoords": [
           {
            "line": {
             "colorbar": {
              "outlinewidth": 0,
              "ticks": ""
             }
            },
            "type": "parcoords"
           }
          ],
          "pie": [
           {
            "automargin": true,
            "type": "pie"
           }
          ],
          "scatter": [
           {
            "marker": {
             "colorbar": {
              "outlinewidth": 0,
              "ticks": ""
             }
            },
            "type": "scatter"
           }
          ],
          "scatter3d": [
           {
            "line": {
             "colorbar": {
              "outlinewidth": 0,
              "ticks": ""
             }
            },
            "marker": {
             "colorbar": {
              "outlinewidth": 0,
              "ticks": ""
             }
            },
            "type": "scatter3d"
           }
          ],
          "scattercarpet": [
           {
            "marker": {
             "colorbar": {
              "outlinewidth": 0,
              "ticks": ""
             }
            },
            "type": "scattercarpet"
           }
          ],
          "scattergeo": [
           {
            "marker": {
             "colorbar": {
              "outlinewidth": 0,
              "ticks": ""
             }
            },
            "type": "scattergeo"
           }
          ],
          "scattergl": [
           {
            "marker": {
             "colorbar": {
              "outlinewidth": 0,
              "ticks": ""
             }
            },
            "type": "scattergl"
           }
          ],
          "scattermapbox": [
           {
            "marker": {
             "colorbar": {
              "outlinewidth": 0,
              "ticks": ""
             }
            },
            "type": "scattermapbox"
           }
          ],
          "scatterpolar": [
           {
            "marker": {
             "colorbar": {
              "outlinewidth": 0,
              "ticks": ""
             }
            },
            "type": "scatterpolar"
           }
          ],
          "scatterpolargl": [
           {
            "marker": {
             "colorbar": {
              "outlinewidth": 0,
              "ticks": ""
             }
            },
            "type": "scatterpolargl"
           }
          ],
          "scatterternary": [
           {
            "marker": {
             "colorbar": {
              "outlinewidth": 0,
              "ticks": ""
             }
            },
            "type": "scatterternary"
           }
          ],
          "surface": [
           {
            "colorbar": {
             "outlinewidth": 0,
             "ticks": ""
            },
            "colorscale": [
             [
              0,
              "#0d0887"
             ],
             [
              0.1111111111111111,
              "#46039f"
             ],
             [
              0.2222222222222222,
              "#7201a8"
             ],
             [
              0.3333333333333333,
              "#9c179e"
             ],
             [
              0.4444444444444444,
              "#bd3786"
             ],
             [
              0.5555555555555556,
              "#d8576b"
             ],
             [
              0.6666666666666666,
              "#ed7953"
             ],
             [
              0.7777777777777778,
              "#fb9f3a"
             ],
             [
              0.8888888888888888,
              "#fdca26"
             ],
             [
              1,
              "#f0f921"
             ]
            ],
            "type": "surface"
           }
          ],
          "table": [
           {
            "cells": {
             "fill": {
              "color": "#EBF0F8"
             },
             "line": {
              "color": "white"
             }
            },
            "header": {
             "fill": {
              "color": "#C8D4E3"
             },
             "line": {
              "color": "white"
             }
            },
            "type": "table"
           }
          ]
         },
         "layout": {
          "annotationdefaults": {
           "arrowcolor": "#2a3f5f",
           "arrowhead": 0,
           "arrowwidth": 1
          },
          "autotypenumbers": "strict",
          "coloraxis": {
           "colorbar": {
            "outlinewidth": 0,
            "ticks": ""
           }
          },
          "colorscale": {
           "diverging": [
            [
             0,
             "#8e0152"
            ],
            [
             0.1,
             "#c51b7d"
            ],
            [
             0.2,
             "#de77ae"
            ],
            [
             0.3,
             "#f1b6da"
            ],
            [
             0.4,
             "#fde0ef"
            ],
            [
             0.5,
             "#f7f7f7"
            ],
            [
             0.6,
             "#e6f5d0"
            ],
            [
             0.7,
             "#b8e186"
            ],
            [
             0.8,
             "#7fbc41"
            ],
            [
             0.9,
             "#4d9221"
            ],
            [
             1,
             "#276419"
            ]
           ],
           "sequential": [
            [
             0,
             "#0d0887"
            ],
            [
             0.1111111111111111,
             "#46039f"
            ],
            [
             0.2222222222222222,
             "#7201a8"
            ],
            [
             0.3333333333333333,
             "#9c179e"
            ],
            [
             0.4444444444444444,
             "#bd3786"
            ],
            [
             0.5555555555555556,
             "#d8576b"
            ],
            [
             0.6666666666666666,
             "#ed7953"
            ],
            [
             0.7777777777777778,
             "#fb9f3a"
            ],
            [
             0.8888888888888888,
             "#fdca26"
            ],
            [
             1,
             "#f0f921"
            ]
           ],
           "sequentialminus": [
            [
             0,
             "#0d0887"
            ],
            [
             0.1111111111111111,
             "#46039f"
            ],
            [
             0.2222222222222222,
             "#7201a8"
            ],
            [
             0.3333333333333333,
             "#9c179e"
            ],
            [
             0.4444444444444444,
             "#bd3786"
            ],
            [
             0.5555555555555556,
             "#d8576b"
            ],
            [
             0.6666666666666666,
             "#ed7953"
            ],
            [
             0.7777777777777778,
             "#fb9f3a"
            ],
            [
             0.8888888888888888,
             "#fdca26"
            ],
            [
             1,
             "#f0f921"
            ]
           ]
          },
          "colorway": [
           "#636efa",
           "#EF553B",
           "#00cc96",
           "#ab63fa",
           "#FFA15A",
           "#19d3f3",
           "#FF6692",
           "#B6E880",
           "#FF97FF",
           "#FECB52"
          ],
          "font": {
           "color": "#2a3f5f"
          },
          "geo": {
           "bgcolor": "white",
           "lakecolor": "white",
           "landcolor": "#E5ECF6",
           "showlakes": true,
           "showland": true,
           "subunitcolor": "white"
          },
          "hoverlabel": {
           "align": "left"
          },
          "hovermode": "closest",
          "mapbox": {
           "style": "light"
          },
          "paper_bgcolor": "white",
          "plot_bgcolor": "#E5ECF6",
          "polar": {
           "angularaxis": {
            "gridcolor": "white",
            "linecolor": "white",
            "ticks": ""
           },
           "bgcolor": "#E5ECF6",
           "radialaxis": {
            "gridcolor": "white",
            "linecolor": "white",
            "ticks": ""
           }
          },
          "scene": {
           "xaxis": {
            "backgroundcolor": "#E5ECF6",
            "gridcolor": "white",
            "gridwidth": 2,
            "linecolor": "white",
            "showbackground": true,
            "ticks": "",
            "zerolinecolor": "white"
           },
           "yaxis": {
            "backgroundcolor": "#E5ECF6",
            "gridcolor": "white",
            "gridwidth": 2,
            "linecolor": "white",
            "showbackground": true,
            "ticks": "",
            "zerolinecolor": "white"
           },
           "zaxis": {
            "backgroundcolor": "#E5ECF6",
            "gridcolor": "white",
            "gridwidth": 2,
            "linecolor": "white",
            "showbackground": true,
            "ticks": "",
            "zerolinecolor": "white"
           }
          },
          "shapedefaults": {
           "line": {
            "color": "#2a3f5f"
           }
          },
          "ternary": {
           "aaxis": {
            "gridcolor": "white",
            "linecolor": "white",
            "ticks": ""
           },
           "baxis": {
            "gridcolor": "white",
            "linecolor": "white",
            "ticks": ""
           },
           "bgcolor": "#E5ECF6",
           "caxis": {
            "gridcolor": "white",
            "linecolor": "white",
            "ticks": ""
           }
          },
          "title": {
           "x": 0.05
          },
          "xaxis": {
           "automargin": true,
           "gridcolor": "white",
           "linecolor": "white",
           "ticks": "",
           "title": {
            "standoff": 15
           },
           "zerolinecolor": "white",
           "zerolinewidth": 2
          },
          "yaxis": {
           "automargin": true,
           "gridcolor": "white",
           "linecolor": "white",
           "ticks": "",
           "title": {
            "standoff": 15
           },
           "zerolinecolor": "white",
           "zerolinewidth": 2
          }
         }
        },
        "title": {
         "font": {
          "color": "#4D5663"
         }
        },
        "xaxis": {
         "gridcolor": "#E1E5ED",
         "showgrid": true,
         "tickfont": {
          "color": "#4D5663"
         },
         "title": {
          "font": {
           "color": "#4D5663"
          },
          "text": ""
         },
         "zerolinecolor": "#E1E5ED"
        },
        "yaxis": {
         "gridcolor": "#E1E5ED",
         "showgrid": true,
         "tickfont": {
          "color": "#4D5663"
         },
         "title": {
          "font": {
           "color": "#4D5663"
          },
          "text": ""
         },
         "zerolinecolor": "#E1E5ED"
        }
       }
      },
      "text/html": [
       "<div>                            <div id=\"9f8ee2e5-c678-4124-9218-e7890516540f\" class=\"plotly-graph-div\" style=\"height:525px; width:100%;\"></div>            <script type=\"text/javascript\">                require([\"plotly\"], function(Plotly) {                    window.PLOTLYENV=window.PLOTLYENV || {};\n",
       "                    window.PLOTLYENV.BASE_URL='https://plot.ly';                                    if (document.getElementById(\"9f8ee2e5-c678-4124-9218-e7890516540f\")) {                    Plotly.newPlot(                        \"9f8ee2e5-c678-4124-9218-e7890516540f\",                        [{\"marker\":{\"color\":\"rgba(255, 153, 51, 0.6)\",\"line\":{\"color\":\"rgba(255, 153, 51, 1.0)\",\"width\":1}},\"name\":\"iphone_12_mini_64GB\",\"orientation\":\"v\",\"text\":\"\",\"type\":\"bar\",\"x\":[\"\\ud3c9\\uade0\\uac00\",\"\\ucd5c\\uace0\\uac00\",\"\\ucd5c\\uc18c\\uac00\"],\"y\":[866130,1330000,559000]},{\"marker\":{\"color\":\"rgba(55, 128, 191, 0.6)\",\"line\":{\"color\":\"rgba(55, 128, 191, 1.0)\",\"width\":1}},\"name\":\"iphone_12_mini_128GB\",\"orientation\":\"v\",\"text\":\"\",\"type\":\"bar\",\"x\":[\"\\ud3c9\\uade0\\uac00\",\"\\ucd5c\\uace0\\uac00\",\"\\ucd5c\\uc18c\\uac00\"],\"y\":[1107784,1530000,529000]},{\"marker\":{\"color\":\"rgba(50, 171, 96, 0.6)\",\"line\":{\"color\":\"rgba(50, 171, 96, 1.0)\",\"width\":1}},\"name\":\"iphone_12_mini_256GB\",\"orientation\":\"v\",\"text\":\"\",\"type\":\"bar\",\"x\":[\"\\ud3c9\\uade0\\uac00\",\"\\ucd5c\\uace0\\uac00\",\"\\ucd5c\\uc18c\\uac00\"],\"y\":[1300857,1910000,672000]},{\"marker\":{\"color\":\"rgba(128, 0, 128, 0.6)\",\"line\":{\"color\":\"rgba(128, 0, 128, 1.0)\",\"width\":1}},\"name\":\"iphone_12_64GB\",\"orientation\":\"v\",\"text\":\"\",\"type\":\"bar\",\"x\":[\"\\ud3c9\\uade0\\uac00\",\"\\ucd5c\\uace0\\uac00\",\"\\ucd5c\\uc18c\\uac00\"],\"y\":[1163326,1420000,875990]},{\"marker\":{\"color\":\"rgba(219, 64, 82, 0.6)\",\"line\":{\"color\":\"rgba(219, 64, 82, 1.0)\",\"width\":1}},\"name\":\"iphone_12_128GB\",\"orientation\":\"v\",\"text\":\"\",\"type\":\"bar\",\"x\":[\"\\ud3c9\\uade0\\uac00\",\"\\ucd5c\\uace0\\uac00\",\"\\ucd5c\\uc18c\\uac00\"],\"y\":[1290010,1740000,516300]},{\"marker\":{\"color\":\"rgba(0, 128, 128, 0.6)\",\"line\":{\"color\":\"rgba(0, 128, 128, 1.0)\",\"width\":1}},\"name\":\"iphone_12_256GB\",\"orientation\":\"v\",\"text\":\"\",\"type\":\"bar\",\"x\":[\"\\ud3c9\\uade0\\uac00\",\"\\ucd5c\\uace0\\uac00\",\"\\ucd5c\\uc18c\\uac00\"],\"y\":[1416152,1950000,799900]},{\"marker\":{\"color\":\"rgba(255, 255, 51, 0.6)\",\"line\":{\"color\":\"rgba(255, 255, 51, 1.0)\",\"width\":1}},\"name\":\"iphone_12_pro_128GB\",\"orientation\":\"v\",\"text\":\"\",\"type\":\"bar\",\"x\":[\"\\ud3c9\\uade0\\uac00\",\"\\ucd5c\\uace0\\uac00\",\"\\ucd5c\\uc18c\\uac00\"],\"y\":[1258209,1470000,571300]},{\"marker\":{\"color\":\"rgba(128, 128, 0, 0.6)\",\"line\":{\"color\":\"rgba(128, 128, 0, 1.0)\",\"width\":1}},\"name\":\"iphone_12_pro_256GB\",\"orientation\":\"v\",\"text\":\"\",\"type\":\"bar\",\"x\":[\"\\ud3c9\\uade0\\uac00\",\"\\ucd5c\\uace0\\uac00\",\"\\ucd5c\\uc18c\\uac00\"],\"y\":[1468485,1690000,835300]},{\"marker\":{\"color\":\"rgba(251, 128, 114, 0.6)\",\"line\":{\"color\":\"rgba(251, 128, 114, 1.0)\",\"width\":1}},\"name\":\"iphone_12_pro_512GB\",\"orientation\":\"v\",\"text\":\"\",\"type\":\"bar\",\"x\":[\"\\ud3c9\\uade0\\uac00\",\"\\ucd5c\\uace0\\uac00\",\"\\ucd5c\\uc18c\\uac00\"],\"y\":[1815493,1990000,1409000]},{\"marker\":{\"color\":\"rgba(128, 177, 211, 0.6)\",\"line\":{\"color\":\"rgba(128, 177, 211, 1.0)\",\"width\":1}},\"name\":\"iphone_12_pro_max_128GB\",\"orientation\":\"v\",\"text\":\"\",\"type\":\"bar\",\"x\":[\"\\ud3c9\\uade0\\uac00\",\"\\ucd5c\\uace0\\uac00\",\"\\ucd5c\\uc18c\\uac00\"],\"y\":[1082486,1474000,605760]},{\"marker\":{\"color\":\"rgba(128, 177, 211, 0.6)\",\"line\":{\"color\":\"rgba(128, 177, 211, 0.8999999999999999)\",\"width\":1}},\"name\":\"iphone_12_pro_max_256GB\",\"orientation\":\"v\",\"text\":\"\",\"type\":\"bar\",\"x\":[\"\\ud3c9\\uade0\\uac00\",\"\\ucd5c\\uace0\\uac00\",\"\\ucd5c\\uc18c\\uac00\"],\"y\":[1199708,1606000,798060]},{\"marker\":{\"color\":\"rgba(255, 153, 51, 0.6)\",\"line\":{\"color\":\"rgba(255, 153, 51, 0.8999999999999999)\",\"width\":1}},\"name\":\"iphone_12_pro_max_512GB\",\"orientation\":\"v\",\"text\":\"\",\"type\":\"bar\",\"x\":[\"\\ud3c9\\uade0\\uac00\",\"\\ucd5c\\uace0\\uac00\",\"\\ucd5c\\uc18c\\uac00\"],\"y\":[1467542,1870000,1090400]}],                        {\"legend\":{\"bgcolor\":\"#F5F6F9\",\"font\":{\"color\":\"#4D5663\"}},\"paper_bgcolor\":\"#F5F6F9\",\"plot_bgcolor\":\"#F5F6F9\",\"template\":{\"data\":{\"bar\":[{\"error_x\":{\"color\":\"#2a3f5f\"},\"error_y\":{\"color\":\"#2a3f5f\"},\"marker\":{\"line\":{\"color\":\"#E5ECF6\",\"width\":0.5},\"pattern\":{\"fillmode\":\"overlay\",\"size\":10,\"solidity\":0.2}},\"type\":\"bar\"}],\"barpolar\":[{\"marker\":{\"line\":{\"color\":\"#E5ECF6\",\"width\":0.5},\"pattern\":{\"fillmode\":\"overlay\",\"size\":10,\"solidity\":0.2}},\"type\":\"barpolar\"}],\"carpet\":[{\"aaxis\":{\"endlinecolor\":\"#2a3f5f\",\"gridcolor\":\"white\",\"linecolor\":\"white\",\"minorgridcolor\":\"white\",\"startlinecolor\":\"#2a3f5f\"},\"baxis\":{\"endlinecolor\":\"#2a3f5f\",\"gridcolor\":\"white\",\"linecolor\":\"white\",\"minorgridcolor\":\"white\",\"startlinecolor\":\"#2a3f5f\"},\"type\":\"carpet\"}],\"choropleth\":[{\"colorbar\":{\"outlinewidth\":0,\"ticks\":\"\"},\"type\":\"choropleth\"}],\"contour\":[{\"colorbar\":{\"outlinewidth\":0,\"ticks\":\"\"},\"colorscale\":[[0.0,\"#0d0887\"],[0.1111111111111111,\"#46039f\"],[0.2222222222222222,\"#7201a8\"],[0.3333333333333333,\"#9c179e\"],[0.4444444444444444,\"#bd3786\"],[0.5555555555555556,\"#d8576b\"],[0.6666666666666666,\"#ed7953\"],[0.7777777777777778,\"#fb9f3a\"],[0.8888888888888888,\"#fdca26\"],[1.0,\"#f0f921\"]],\"type\":\"contour\"}],\"contourcarpet\":[{\"colorbar\":{\"outlinewidth\":0,\"ticks\":\"\"},\"type\":\"contourcarpet\"}],\"heatmap\":[{\"colorbar\":{\"outlinewidth\":0,\"ticks\":\"\"},\"colorscale\":[[0.0,\"#0d0887\"],[0.1111111111111111,\"#46039f\"],[0.2222222222222222,\"#7201a8\"],[0.3333333333333333,\"#9c179e\"],[0.4444444444444444,\"#bd3786\"],[0.5555555555555556,\"#d8576b\"],[0.6666666666666666,\"#ed7953\"],[0.7777777777777778,\"#fb9f3a\"],[0.8888888888888888,\"#fdca26\"],[1.0,\"#f0f921\"]],\"type\":\"heatmap\"}],\"heatmapgl\":[{\"colorbar\":{\"outlinewidth\":0,\"ticks\":\"\"},\"colorscale\":[[0.0,\"#0d0887\"],[0.1111111111111111,\"#46039f\"],[0.2222222222222222,\"#7201a8\"],[0.3333333333333333,\"#9c179e\"],[0.4444444444444444,\"#bd3786\"],[0.5555555555555556,\"#d8576b\"],[0.6666666666666666,\"#ed7953\"],[0.7777777777777778,\"#fb9f3a\"],[0.8888888888888888,\"#fdca26\"],[1.0,\"#f0f921\"]],\"type\":\"heatmapgl\"}],\"histogram\":[{\"marker\":{\"pattern\":{\"fillmode\":\"overlay\",\"size\":10,\"solidity\":0.2}},\"type\":\"histogram\"}],\"histogram2d\":[{\"colorbar\":{\"outlinewidth\":0,\"ticks\":\"\"},\"colorscale\":[[0.0,\"#0d0887\"],[0.1111111111111111,\"#46039f\"],[0.2222222222222222,\"#7201a8\"],[0.3333333333333333,\"#9c179e\"],[0.4444444444444444,\"#bd3786\"],[0.5555555555555556,\"#d8576b\"],[0.6666666666666666,\"#ed7953\"],[0.7777777777777778,\"#fb9f3a\"],[0.8888888888888888,\"#fdca26\"],[1.0,\"#f0f921\"]],\"type\":\"histogram2d\"}],\"histogram2dcontour\":[{\"colorbar\":{\"outlinewidth\":0,\"ticks\":\"\"},\"colorscale\":[[0.0,\"#0d0887\"],[0.1111111111111111,\"#46039f\"],[0.2222222222222222,\"#7201a8\"],[0.3333333333333333,\"#9c179e\"],[0.4444444444444444,\"#bd3786\"],[0.5555555555555556,\"#d8576b\"],[0.6666666666666666,\"#ed7953\"],[0.7777777777777778,\"#fb9f3a\"],[0.8888888888888888,\"#fdca26\"],[1.0,\"#f0f921\"]],\"type\":\"histogram2dcontour\"}],\"mesh3d\":[{\"colorbar\":{\"outlinewidth\":0,\"ticks\":\"\"},\"type\":\"mesh3d\"}],\"parcoords\":[{\"line\":{\"colorbar\":{\"outlinewidth\":0,\"ticks\":\"\"}},\"type\":\"parcoords\"}],\"pie\":[{\"automargin\":true,\"type\":\"pie\"}],\"scatter\":[{\"marker\":{\"colorbar\":{\"outlinewidth\":0,\"ticks\":\"\"}},\"type\":\"scatter\"}],\"scatter3d\":[{\"line\":{\"colorbar\":{\"outlinewidth\":0,\"ticks\":\"\"}},\"marker\":{\"colorbar\":{\"outlinewidth\":0,\"ticks\":\"\"}},\"type\":\"scatter3d\"}],\"scattercarpet\":[{\"marker\":{\"colorbar\":{\"outlinewidth\":0,\"ticks\":\"\"}},\"type\":\"scattercarpet\"}],\"scattergeo\":[{\"marker\":{\"colorbar\":{\"outlinewidth\":0,\"ticks\":\"\"}},\"type\":\"scattergeo\"}],\"scattergl\":[{\"marker\":{\"colorbar\":{\"outlinewidth\":0,\"ticks\":\"\"}},\"type\":\"scattergl\"}],\"scattermapbox\":[{\"marker\":{\"colorbar\":{\"outlinewidth\":0,\"ticks\":\"\"}},\"type\":\"scattermapbox\"}],\"scatterpolar\":[{\"marker\":{\"colorbar\":{\"outlinewidth\":0,\"ticks\":\"\"}},\"type\":\"scatterpolar\"}],\"scatterpolargl\":[{\"marker\":{\"colorbar\":{\"outlinewidth\":0,\"ticks\":\"\"}},\"type\":\"scatterpolargl\"}],\"scatterternary\":[{\"marker\":{\"colorbar\":{\"outlinewidth\":0,\"ticks\":\"\"}},\"type\":\"scatterternary\"}],\"surface\":[{\"colorbar\":{\"outlinewidth\":0,\"ticks\":\"\"},\"colorscale\":[[0.0,\"#0d0887\"],[0.1111111111111111,\"#46039f\"],[0.2222222222222222,\"#7201a8\"],[0.3333333333333333,\"#9c179e\"],[0.4444444444444444,\"#bd3786\"],[0.5555555555555556,\"#d8576b\"],[0.6666666666666666,\"#ed7953\"],[0.7777777777777778,\"#fb9f3a\"],[0.8888888888888888,\"#fdca26\"],[1.0,\"#f0f921\"]],\"type\":\"surface\"}],\"table\":[{\"cells\":{\"fill\":{\"color\":\"#EBF0F8\"},\"line\":{\"color\":\"white\"}},\"header\":{\"fill\":{\"color\":\"#C8D4E3\"},\"line\":{\"color\":\"white\"}},\"type\":\"table\"}]},\"layout\":{\"annotationdefaults\":{\"arrowcolor\":\"#2a3f5f\",\"arrowhead\":0,\"arrowwidth\":1},\"autotypenumbers\":\"strict\",\"coloraxis\":{\"colorbar\":{\"outlinewidth\":0,\"ticks\":\"\"}},\"colorscale\":{\"diverging\":[[0,\"#8e0152\"],[0.1,\"#c51b7d\"],[0.2,\"#de77ae\"],[0.3,\"#f1b6da\"],[0.4,\"#fde0ef\"],[0.5,\"#f7f7f7\"],[0.6,\"#e6f5d0\"],[0.7,\"#b8e186\"],[0.8,\"#7fbc41\"],[0.9,\"#4d9221\"],[1,\"#276419\"]],\"sequential\":[[0.0,\"#0d0887\"],[0.1111111111111111,\"#46039f\"],[0.2222222222222222,\"#7201a8\"],[0.3333333333333333,\"#9c179e\"],[0.4444444444444444,\"#bd3786\"],[0.5555555555555556,\"#d8576b\"],[0.6666666666666666,\"#ed7953\"],[0.7777777777777778,\"#fb9f3a\"],[0.8888888888888888,\"#fdca26\"],[1.0,\"#f0f921\"]],\"sequentialminus\":[[0.0,\"#0d0887\"],[0.1111111111111111,\"#46039f\"],[0.2222222222222222,\"#7201a8\"],[0.3333333333333333,\"#9c179e\"],[0.4444444444444444,\"#bd3786\"],[0.5555555555555556,\"#d8576b\"],[0.6666666666666666,\"#ed7953\"],[0.7777777777777778,\"#fb9f3a\"],[0.8888888888888888,\"#fdca26\"],[1.0,\"#f0f921\"]]},\"colorway\":[\"#636efa\",\"#EF553B\",\"#00cc96\",\"#ab63fa\",\"#FFA15A\",\"#19d3f3\",\"#FF6692\",\"#B6E880\",\"#FF97FF\",\"#FECB52\"],\"font\":{\"color\":\"#2a3f5f\"},\"geo\":{\"bgcolor\":\"white\",\"lakecolor\":\"white\",\"landcolor\":\"#E5ECF6\",\"showlakes\":true,\"showland\":true,\"subunitcolor\":\"white\"},\"hoverlabel\":{\"align\":\"left\"},\"hovermode\":\"closest\",\"mapbox\":{\"style\":\"light\"},\"paper_bgcolor\":\"white\",\"plot_bgcolor\":\"#E5ECF6\",\"polar\":{\"angularaxis\":{\"gridcolor\":\"white\",\"linecolor\":\"white\",\"ticks\":\"\"},\"bgcolor\":\"#E5ECF6\",\"radialaxis\":{\"gridcolor\":\"white\",\"linecolor\":\"white\",\"ticks\":\"\"}},\"scene\":{\"xaxis\":{\"backgroundcolor\":\"#E5ECF6\",\"gridcolor\":\"white\",\"gridwidth\":2,\"linecolor\":\"white\",\"showbackground\":true,\"ticks\":\"\",\"zerolinecolor\":\"white\"},\"yaxis\":{\"backgroundcolor\":\"#E5ECF6\",\"gridcolor\":\"white\",\"gridwidth\":2,\"linecolor\":\"white\",\"showbackground\":true,\"ticks\":\"\",\"zerolinecolor\":\"white\"},\"zaxis\":{\"backgroundcolor\":\"#E5ECF6\",\"gridcolor\":\"white\",\"gridwidth\":2,\"linecolor\":\"white\",\"showbackground\":true,\"ticks\":\"\",\"zerolinecolor\":\"white\"}},\"shapedefaults\":{\"line\":{\"color\":\"#2a3f5f\"}},\"ternary\":{\"aaxis\":{\"gridcolor\":\"white\",\"linecolor\":\"white\",\"ticks\":\"\"},\"baxis\":{\"gridcolor\":\"white\",\"linecolor\":\"white\",\"ticks\":\"\"},\"bgcolor\":\"#E5ECF6\",\"caxis\":{\"gridcolor\":\"white\",\"linecolor\":\"white\",\"ticks\":\"\"}},\"title\":{\"x\":0.05},\"xaxis\":{\"automargin\":true,\"gridcolor\":\"white\",\"linecolor\":\"white\",\"ticks\":\"\",\"title\":{\"standoff\":15},\"zerolinecolor\":\"white\",\"zerolinewidth\":2},\"yaxis\":{\"automargin\":true,\"gridcolor\":\"white\",\"linecolor\":\"white\",\"ticks\":\"\",\"title\":{\"standoff\":15},\"zerolinecolor\":\"white\",\"zerolinewidth\":2}}},\"title\":{\"font\":{\"color\":\"#4D5663\"}},\"xaxis\":{\"gridcolor\":\"#E1E5ED\",\"showgrid\":true,\"tickfont\":{\"color\":\"#4D5663\"},\"title\":{\"font\":{\"color\":\"#4D5663\"},\"text\":\"\"},\"zerolinecolor\":\"#E1E5ED\"},\"yaxis\":{\"gridcolor\":\"#E1E5ED\",\"showgrid\":true,\"tickfont\":{\"color\":\"#4D5663\"},\"title\":{\"font\":{\"color\":\"#4D5663\"},\"text\":\"\"},\"zerolinecolor\":\"#E1E5ED\"}},                        {\"showLink\": true, \"linkText\": \"Export to plot.ly\", \"plotlyServerURL\": \"https://plot.ly\", \"responsive\": true}                    ).then(function(){\n",
       "                            \n",
       "var gd = document.getElementById('9f8ee2e5-c678-4124-9218-e7890516540f');\n",
       "var x = new MutationObserver(function (mutations, observer) {{\n",
       "        var display = window.getComputedStyle(gd).display;\n",
       "        if (!display || display === 'none') {{\n",
       "            console.log([gd, 'removed!']);\n",
       "            Plotly.purge(gd);\n",
       "            observer.disconnect();\n",
       "        }}\n",
       "}});\n",
       "\n",
       "// Listen for the removal of the full notebook cells\n",
       "var notebookContainer = gd.closest('#notebook-container');\n",
       "if (notebookContainer) {{\n",
       "    x.observe(notebookContainer, {childList: true});\n",
       "}}\n",
       "\n",
       "// Listen for the clearing of the current output cell\n",
       "var outputEl = gd.closest('.output');\n",
       "if (outputEl) {{\n",
       "    x.observe(outputEl, {childList: true});\n",
       "}}\n",
       "\n",
       "                        })                };                });            </script>        </div>"
      ]
     },
     "metadata": {},
     "output_type": "display_data"
    }
   ],
   "source": [
    "# plotly 이용 막대 그래프 그리기\n",
    "ipp.iloc[0:3].iplot(kind='bar', x=\"정보\")"
   ]
  }
 ],
 "metadata": {
  "kernelspec": {
   "display_name": "Python 3",
   "language": "python",
   "name": "python3"
  },
  "language_info": {
   "codemirror_mode": {
    "name": "ipython",
    "version": 3
   },
   "file_extension": ".py",
   "mimetype": "text/x-python",
   "name": "python",
   "nbconvert_exporter": "python",
   "pygments_lexer": "ipython3",
   "version": "3.8.8"
  }
 },
 "nbformat": 4,
 "nbformat_minor": 5
}
