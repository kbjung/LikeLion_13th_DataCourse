{
 "cells": [
  {
   "cell_type": "code",
   "execution_count": 6,
   "id": "523eaf17",
   "metadata": {},
   "outputs": [],
   "source": [
    "# 함수 로드\n",
    "from selenium import webdriver\n",
    "from bs4 import BeautifulSoup\n",
    "import time"
   ]
  },
  {
   "cell_type": "code",
   "execution_count": 16,
   "id": "dcd65a5a",
   "metadata": {},
   "outputs": [],
   "source": [
    "# 검색어와 제외 검색어 리스트\n",
    "search_name_list = [\"아이폰_12_64GB\", \"아이폰_12_128GB\", \"아이폰_12_256GB\"]\n",
    "search_except_name_list = [\"미니, 프로\", \"미니, 프로\", \"미니, 프로\"]\n",
    "num = len(search_name_list)"
   ]
  },
  {
   "cell_type": "code",
   "execution_count": 17,
   "id": "83fa3532",
   "metadata": {},
   "outputs": [
    {
     "name": "stdout",
     "output_type": "stream",
     "text": [
      "아이폰_12_64GB의 평균가격 : 709894 원\n",
      "아이폰_12_64GB의 최고가격 : 924990 원\n",
      "아이폰_12_64GB의 최저가격 : 359000 원\n",
      "아이폰_12_128GB의 평균가격 : 687726 원\n",
      "아이폰_12_128GB의 최고가격 : 1142600 원\n",
      "아이폰_12_128GB의 최저가격 : 305490 원\n",
      "아이폰_12_256GB의 평균가격 : 974034 원\n",
      "아이폰_12_256GB의 최고가격 : 1261000 원\n",
      "아이폰_12_256GB의 최저가격 : 359000 원\n"
     ]
    }
   ],
   "source": [
    "for i in range(num):\n",
    "    time.sleep(3)\n",
    "    # webdriver 불러오기, '네이버 쇼핑' 접속\n",
    "    driver = webdriver.Chrome('chromedriver')\n",
    "    url = \"https://shopping.naver.com/home/p/index.naver\"\n",
    "    driver.get(url)\n",
    "    time.sleep(3)\n",
    "    \n",
    "    # 네이버 쇼핑에 search_name_list의 요소들 하나씩 검색\n",
    "    # 상세 검색으로 필요없는 단어 설정해서 검색하기 과정\n",
    "    search_name = search_name_list[i]\n",
    "    search_except_name = search_except_name_list[i]\n",
    "    \n",
    "    # 상세 검색 여는 버튼 xpath = '//*[@id=\"_detailSearchButton\"]'\n",
    "    # 상세 검색의 기본검색 창 xpath = '//*[@id=\"lb_srh_basis\"]'\n",
    "    # 제외하는 단어 검색창 xpath= '//*[@id=\"lb_srh_exclude\"]'\n",
    "    # 상세 검색 버튼 xpath = '//*[@id=\"_detailSearchDiv\"]/div/div[2]/a[3]'\n",
    "    # 정확히 검색창 xpath = '//*[@id=\"lb_srh_exact\"]'\n",
    "    to_detail_search_button = driver.find_element_by_xpath('//*[@id=\"_detailSearchButton\"]')\n",
    "    detail_search_basic_search = driver.find_element_by_xpath('//*[@id=\"lb_srh_basis\"]')\n",
    "    except_word = driver.find_element_by_xpath('//*[@id=\"lb_srh_exclude\"]')\n",
    "    detail_search_button = driver.find_element_by_xpath('//*[@id=\"_detailSearchDiv\"]/div/div[2]/a[3]')\n",
    "    exact_search = driver.find_element_by_xpath('//*[@id=\"lb_srh_exact\"]')\n",
    "    \n",
    "    # 상세 검색창에 검색어 입력\n",
    "    to_detail_search_button.click()\n",
    "    time.sleep(3)\n",
    "    detail_search_basic_search.send_keys(search_name)\n",
    "    exact_search.send_keys(search_name)\n",
    "    \n",
    "    # 상세 검색에 제외 단어 입력하기\n",
    "    except_word.send_keys(search_except_name)\n",
    "    detail_search_button.click()\n",
    "    \n",
    "    # 상품의 가격 수집(BS)\n",
    "    page = driver.page_source\n",
    "    soup = BeautifulSoup(page, 'lxml')\n",
    "    \n",
    "    # 전체 상품 리스트 담기 태그 : 'ul', class_='list_basis'\n",
    "    all_mer_list = soup.find('ul', class_='list_basis')\n",
    "    \n",
    "    # 가격표시 강조 부분 태그 : 'strong', class_='basicList_price__2r23_'\n",
    "    basiclist_price = all_mer_list.find_all('strong', class_='basicList_price__2r23_')\n",
    "    \n",
    "    # 상품별 가격 모으기\n",
    "    price_list = []\n",
    "    for one in basiclist_price:\n",
    "        tmp = one.find('span', class_='price_num__2WUXn').text\n",
    "        price_list.append(tmp)\n",
    "        \n",
    "    # 선택된 상품의 평균, 최소, 최대값 구하기\n",
    "    mod_price_list = []\n",
    "    for i in list(price_list):\n",
    "        tmp = i.replace(\"원\", \"\")\n",
    "        tmp = tmp.replace(\",\",\"\")\n",
    "        tmp = int(tmp)\n",
    "        mod_price_list.append(tmp)\n",
    "        \n",
    "    # 평균, 최고, 최저가 출력\n",
    "    mean = int(sum(mod_price_list) / len(mod_price_list))\n",
    "    maxium = max(mod_price_list)\n",
    "    minium = min(mod_price_list)\n",
    "    print(f'{search_name}의 평균가격 :', mean,'원')\n",
    "    print(f'{search_name}의 최고가격 :', maxium,'원')\n",
    "    print(f'{search_name}의 최저가격 :', minium,'원')\n",
    "    \n",
    "    # 평균, 최고, 최저가 순서대로 리스트로 만들기\n",
    "    mod_price = []\n",
    "    mod_price.append(mean)\n",
    "    mod_price.append(maxium)\n",
    "    mod_price.append(minium)\n",
    "    \n",
    "    # 파일로 만들기\n",
    "    import pandas as pd\n",
    "    dict_dat = {search_name : mod_price}\n",
    "    dat = pd.DataFrame(dict_dat)\n",
    "    dat.to_csv(f\"{search_name}_price.csv\",index=False)\n",
    "    dat.to_excel(f\"{search_name}_price.xlsx\",index=False)"
   ]
  },
  {
   "cell_type": "code",
   "execution_count": null,
   "id": "f133473f",
   "metadata": {},
   "outputs": [],
   "source": []
  }
 ],
 "metadata": {
  "kernelspec": {
   "display_name": "Python 3",
   "language": "python",
   "name": "python3"
  },
  "language_info": {
   "codemirror_mode": {
    "name": "ipython",
    "version": 3
   },
   "file_extension": ".py",
   "mimetype": "text/x-python",
   "name": "python",
   "nbconvert_exporter": "python",
   "pygments_lexer": "ipython3",
   "version": "3.8.8"
  }
 },
 "nbformat": 4,
 "nbformat_minor": 5
}
