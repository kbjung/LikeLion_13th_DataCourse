{
 "cells": [
  {
   "cell_type": "markdown",
   "id": "1272cdd6",
   "metadata": {},
   "source": [
    "# 아이폰 가격 통계"
   ]
  },
  {
   "cell_type": "markdown",
   "id": "df68a446",
   "metadata": {},
   "source": [
    "### 필요한 라이브러리 로드"
   ]
  },
  {
   "cell_type": "code",
   "execution_count": 5,
   "id": "943bbeba",
   "metadata": {},
   "outputs": [],
   "source": [
    "# 라이브러리 로드\n",
    "from selenium import webdriver\n",
    "from bs4 import BeautifulSoup\n",
    "import time"
   ]
  },
  {
   "cell_type": "markdown",
   "id": "cb5c9d1f",
   "metadata": {},
   "source": [
    "### 네이버 쇼핑 상세검색 이용"
   ]
  },
  {
   "cell_type": "code",
   "execution_count": 6,
   "id": "902d969e",
   "metadata": {},
   "outputs": [
    {
     "name": "stdout",
     "output_type": "stream",
     "text": [
      "12\n",
      "12\n"
     ]
    }
   ],
   "source": [
    "# 검색어와 제외 검색어 리스트\n",
    "search_name_list = [\"아이폰_12_미니_64GB\", \"아이폰_12_미니_128GB\", \"아이폰_12_미니_256GB\", \"아이폰_12_64GB\", \"아이폰_12_128GB\", \"아이폰_12_256GB\", \"아이폰_12_pro_128GB\", \"아이폰_12_pro_256GB\", \"아이폰_12_pro_512GB\", \"아이폰_12_pro_max_128GB\", \"아이폰_12_pro_max_256GB\", \"아이폰_12_pro_max_512GB\"]\n",
    "search_except_name_list = [\"128GB, 256GB, pro, max\",\"64GB, 256GB, pro, max\", \"64GB, 128GB, pro, max\", \"128GB, 256GB, 미니, pro\", \"64GB, 256GB, 미니, pro\", \"64GB, 128GB, 미니, pro\", \"256GB, 512GB, 미니, max\", \"128GB, 512GB, 미니, max\", \"128GB, 256GB, 미니, max\", \"256GB, 512GB, 미니\", \"128GB, 512GB, 미니\",\"128GB, 256GB, 미니\"]\n",
    "num = len(search_name_list)\n",
    "print(len(search_name_list))\n",
    "print(len(search_except_name_list))"
   ]
  },
  {
   "cell_type": "markdown",
   "id": "c7e98b8f",
   "metadata": {},
   "source": [
    "### 아이폰 모델, 용량 별 가격 모아 파일로 출력하기"
   ]
  },
  {
   "cell_type": "code",
   "execution_count": 7,
   "id": "3c98371b",
   "metadata": {},
   "outputs": [
    {
     "name": "stdout",
     "output_type": "stream",
     "text": [
      "아이폰_12_미니_64GB의 평균가격 : 946389 원\n",
      "아이폰_12_미니_64GB의 최고가격 : 1500000 원\n",
      "아이폰_12_미니_64GB의 최저가격 : 582000 원\n",
      "총 37개\n",
      "아이폰_12_미니_128GB의 평균가격 : 1108524 원\n",
      "아이폰_12_미니_128GB의 최고가격 : 1530000 원\n",
      "아이폰_12_미니_128GB의 최저가격 : 529000 원\n",
      "총 37개\n",
      "아이폰_12_미니_256GB의 평균가격 : 1274655 원\n",
      "아이폰_12_미니_256GB의 최고가격 : 1910000 원\n",
      "아이폰_12_미니_256GB의 최저가격 : 555000 원\n",
      "총 38개\n",
      "아이폰_12_64GB의 평균가격 : 1148300 원\n",
      "아이폰_12_64GB의 최고가격 : 1420000 원\n",
      "아이폰_12_64GB의 최저가격 : 552490 원\n",
      "총 39개\n",
      "아이폰_12_128GB의 평균가격 : 1281273 원\n",
      "아이폰_12_128GB의 최고가격 : 1600000 원\n",
      "아이폰_12_128GB의 최저가격 : 599710 원\n",
      "총 38개\n",
      "아이폰_12_256GB의 평균가격 : 1426629 원\n",
      "아이폰_12_256GB의 최고가격 : 1950000 원\n",
      "아이폰_12_256GB의 최저가격 : 799900 원\n",
      "총 39개\n",
      "아이폰_12_pro_128GB의 평균가격 : 1259572 원\n",
      "아이폰_12_pro_128GB의 최고가격 : 1490000 원\n",
      "아이폰_12_pro_128GB의 최저가격 : 571300 원\n",
      "총 38개\n",
      "아이폰_12_pro_256GB의 평균가격 : 1451876 원\n",
      "아이폰_12_pro_256GB의 최고가격 : 1758930 원\n",
      "아이폰_12_pro_256GB의 최저가격 : 894400 원\n",
      "총 38개\n",
      "아이폰_12_pro_512GB의 평균가격 : 1835393 원\n",
      "아이폰_12_pro_512GB의 최고가격 : 1990000 원\n",
      "아이폰_12_pro_512GB의 최저가격 : 1548350 원\n",
      "총 39개\n",
      "아이폰_12_pro_max_128GB의 평균가격 : 1109760 원\n",
      "아이폰_12_pro_max_128GB의 최고가격 : 1474000 원\n",
      "아이폰_12_pro_max_128GB의 최저가격 : 605760 원\n",
      "총 39개\n",
      "아이폰_12_pro_max_256GB의 평균가격 : 1218915 원\n",
      "아이폰_12_pro_max_256GB의 최고가격 : 1606000 원\n",
      "아이폰_12_pro_max_256GB의 최저가격 : 798060 원\n",
      "총 40개\n",
      "아이폰_12_pro_max_512GB의 평균가격 : 1470637 원\n",
      "아이폰_12_pro_max_512GB의 최고가격 : 1870000 원\n",
      "아이폰_12_pro_max_512GB의 최저가격 : 1090400 원\n",
      "총 40개\n"
     ]
    }
   ],
   "source": [
    "# 평균, 최고, 최소값 행 표시\n",
    "price_index = [\"평균가\", \"최고가\", \"최소가\", \"자료 개수\"]\n",
    "# 모든 상품 가격 리스트\n",
    "all_price = []\n",
    "# 모든 상품 가격과 행 정보 리스트\n",
    "all_info = []\n",
    "\n",
    "# 상품 별 가격 리스트화 하기\n",
    "driver = webdriver.Chrome('chromedriver')\n",
    "time.sleep(1)\n",
    "\n",
    "for i in range(num):\n",
    "    # webdriver 불러오기, '네이버 쇼핑' 접속\n",
    "    url = \"https://shopping.naver.com/home/p/index.naver\"\n",
    "    driver.get(url)\n",
    "    time.sleep(2)\n",
    "    \n",
    "    # 네이버 쇼핑에 search_name_list의 요소들 하나씩 검색\n",
    "    # 상세 검색으로 필요없는 단어 설정해서 검색하기 과정\n",
    "    search_name = search_name_list[i]\n",
    "    search_except_name = search_except_name_list[i]\n",
    "    \n",
    "    # 상세 검색 여는 버튼 xpath = '//*[@id=\"_detailSearchButton\"]'\n",
    "    # 상세 검색의 기본검색 창 xpath = '//*[@id=\"lb_srh_basis\"]'\n",
    "    # 제외하는 단어 검색창 xpath= '//*[@id=\"lb_srh_exclude\"]'\n",
    "    # 상세 검색 버튼 xpath = '//*[@id=\"_detailSearchDiv\"]/div/div[2]/a[3]'\n",
    "    # 정확히 검색창 xpath = '//*[@id=\"lb_srh_exact\"]'\n",
    "    to_detail_search_button = driver.find_element_by_xpath('//*[@id=\"_detailSearchButton\"]')\n",
    "    detail_search_basic_search = driver.find_element_by_xpath('//*[@id=\"lb_srh_basis\"]')\n",
    "    except_word = driver.find_element_by_xpath('//*[@id=\"lb_srh_exclude\"]')\n",
    "    detail_search_button = driver.find_element_by_xpath('//*[@id=\"_detailSearchDiv\"]/div/div[2]/a[3]')\n",
    "    exact_search = driver.find_element_by_xpath('//*[@id=\"lb_srh_exact\"]')\n",
    "    \n",
    "    # 상세 검색창 클릭\n",
    "    to_detail_search_button.click()\n",
    "    time.sleep(1)\n",
    "    # 상세 검색창에 검색어 입력\n",
    "    detail_search_basic_search.send_keys(search_name)\n",
    "    time.sleep(0.5)\n",
    "    exact_search.send_keys(search_name)\n",
    "    time.sleep(0.5)\n",
    "    \n",
    "    # 상세 검색에 제외 단어 입력하기\n",
    "    except_word.send_keys(search_except_name)\n",
    "    time.sleep(0.5)\n",
    "    detail_search_button.click()\n",
    "    time.sleep(2)\n",
    "    \n",
    "    # 페이지 스크롤 맨밑까지 내리기\n",
    "    # 스크롤 높이 가져옴\n",
    "    last_height = driver.execute_script(\"return document.body.scrollHeight\")\n",
    "\n",
    "    while True:\n",
    "        # 끝까지 스크롤 다운\n",
    "        driver.execute_script(\"window.scrollTo(0, document.body.scrollHeight);\")\n",
    "        time.sleep(1)\n",
    "\n",
    "        # 스크롤 다운 후 스크롤 높이 다시 가져옴\n",
    "        new_height = driver.execute_script(\"return document.body.scrollHeight\")\n",
    "        if new_height == last_height:\n",
    "            break\n",
    "        last_height = new_height\n",
    "    \n",
    "    # 상품의 가격 수집(BS)\n",
    "    page = driver.page_source\n",
    "    soup = BeautifulSoup(page, 'lxml')\n",
    "    \n",
    "    # 전체 상품 리스트 담기 태그 : 'ul', class_='list_basis'\n",
    "    all_mer_list = soup.find('ul', class_='list_basis')\n",
    "    \n",
    "    # 가격표시 강조 부분 태그 : 'strong', class_='basicList_price__2r23_'\n",
    "    basiclist_price = all_mer_list.find_all('strong', class_='basicList_price__2r23_')\n",
    "    \n",
    "    # 상품별 가격 모으기\n",
    "    price_list = []\n",
    "    for one in basiclist_price:\n",
    "        tmp = one.find('span', class_='price_num__2WUXn').text\n",
    "        price_list.append(tmp)\n",
    "        \n",
    "    # 가격을 숫자 형태로 변환\n",
    "    int_price_list = []\n",
    "    for i in list(price_list):\n",
    "        tmp = i.replace(\"원\", \"\")\n",
    "        tmp = tmp.replace(\",\",\"\")\n",
    "        tmp = int(tmp)\n",
    "        int_price_list.append(tmp)\n",
    "        \n",
    "    # 극단값 제거\n",
    "    mod_price_list = []\n",
    "    for i in int_price_list:\n",
    "        if i >= 500000 and i <= 2000000:\n",
    "            mod_price_list.append(i)\n",
    "        \n",
    "    # 평균, 최고, 최저가 출력\n",
    "    mean = int(sum(mod_price_list) / len(mod_price_list)) # 정수값으로 출력\n",
    "    maxium = max(mod_price_list)\n",
    "    minium = min(mod_price_list)\n",
    "    num_mod_price_list = len(mod_price_list) # 크롤링한 자료 개수\n",
    "    # 확인\n",
    "    print(f'{search_name}의 평균가격 :', mean,'원')\n",
    "    print(f'{search_name}의 최고가격 :', maxium,'원')\n",
    "    print(f'{search_name}의 최저가격 :', minium,'원')\n",
    "    print(f\"총 {num_mod_price_list}개\")\n",
    "    \n",
    "    # 평균, 최고, 최저가 순서대로 리스트로 만들기\n",
    "    mod_price = []\n",
    "    mod_price.append(mean)\n",
    "    mod_price.append(maxium)\n",
    "    mod_price.append(minium)\n",
    "    mod_price.append(num_mod_price_list)\n",
    "       \n",
    "    # 여러 상품의 가격을 하나로 모아 리스트 만들기\n",
    "    all_price.append(mod_price)\n",
    "    time.sleep(2)\n",
    "    \n",
    "# 여러 상품의 가격과 행 정보를 모아 파일로 만들기\n",
    "import pandas as pd\n",
    "dict_dat = {}\n",
    "dict_dat[\"정보\"] = price_index\n",
    "for i in range(num):\n",
    "    dict_dat[search_name_list[i]] = all_price[i]\n",
    "dat = pd.DataFrame(dict_dat)\n",
    "dat.to_csv(\"아이폰_모델별_가격.csv\", index=False)\n",
    "dat.to_excel(\"아이폰_모델별_가격.xlsx\", index=False)"
   ]
  },
  {
   "cell_type": "markdown",
   "id": "ab71e41d",
   "metadata": {},
   "source": [
    "### csv 파일을 읽어 막대그래프 만들기"
   ]
  },
  {
   "cell_type": "code",
   "execution_count": 49,
   "id": "1b6f2e77",
   "metadata": {},
   "outputs": [],
   "source": [
    "import csv\n",
    "\n",
    "# 각 행을 리스트로 만들기\n",
    "index = []\n",
    "f = open('아이폰_모델별_가격.csv', 'r', encoding='utf-8')\n",
    "rdr = csv.reader(f)\n",
    "for line in rdr:\n",
    "    index.append(line)\n",
    "f.close()"
   ]
  },
  {
   "cell_type": "code",
   "execution_count": 50,
   "id": "8719d3ce",
   "metadata": {},
   "outputs": [
    {
     "name": "stdout",
     "output_type": "stream",
     "text": [
      "<class 'list'> ['아이폰_12_미니_64GB', '아이폰_12_미니_128GB', '아이폰_12_미니_256GB', '아이폰_12_64GB', '아이폰_12_128GB', '아이폰_12_256GB', '아이폰_12_pro_128GB', '아이폰_12_pro_256GB', '아이폰_12_pro_512GB', '아이폰_12_pro_max_128GB', '아이폰_12_pro_max_256GB', '아이폰_12_pro_max_512GB']\n",
      "<class 'list'> ['946389', '1108524', '1274655', '1148300', '1281273', '1426629', '1259572', '1451876', '1835393', '1109760', '1218915', '1470637']\n"
     ]
    }
   ],
   "source": [
    "print(type(x_mer), x_mer)\n",
    "print(type(x_price), x_price)"
   ]
  },
  {
   "cell_type": "markdown",
   "id": "c2ab09d0",
   "metadata": {},
   "source": [
    "### 데이터 프레임으로 만들어 그래프 그리기"
   ]
  },
  {
   "cell_type": "code",
   "execution_count": 11,
   "id": "6e883d91",
   "metadata": {},
   "outputs": [],
   "source": [
    "import seaborn as sns"
   ]
  },
  {
   "cell_type": "code",
   "execution_count": 27,
   "id": "f700e41c",
   "metadata": {},
   "outputs": [
    {
     "data": {
      "text/plain": [
       "{'mean': ['946389',\n",
       "  '1108524',\n",
       "  '1274655',\n",
       "  '1148300',\n",
       "  '1281273',\n",
       "  '1426629',\n",
       "  '1259572',\n",
       "  '1451876',\n",
       "  '1835393',\n",
       "  '1109760',\n",
       "  '1218915',\n",
       "  '1470637']}"
      ]
     },
     "execution_count": 27,
     "metadata": {},
     "output_type": "execute_result"
    }
   ],
   "source": [
    "basic = {\"mean\": x_price}\n",
    "basic"
   ]
  },
  {
   "cell_type": "code",
   "execution_count": 28,
   "id": "428669d0",
   "metadata": {},
   "outputs": [
    {
     "data": {
      "text/html": [
       "<div>\n",
       "<style scoped>\n",
       "    .dataframe tbody tr th:only-of-type {\n",
       "        vertical-align: middle;\n",
       "    }\n",
       "\n",
       "    .dataframe tbody tr th {\n",
       "        vertical-align: top;\n",
       "    }\n",
       "\n",
       "    .dataframe thead th {\n",
       "        text-align: right;\n",
       "    }\n",
       "</style>\n",
       "<table border=\"1\" class=\"dataframe\">\n",
       "  <thead>\n",
       "    <tr style=\"text-align: right;\">\n",
       "      <th></th>\n",
       "      <th>mean</th>\n",
       "    </tr>\n",
       "  </thead>\n",
       "  <tbody>\n",
       "    <tr>\n",
       "      <th>아이폰_12_미니_64GB</th>\n",
       "      <td>946389</td>\n",
       "    </tr>\n",
       "    <tr>\n",
       "      <th>아이폰_12_미니_128GB</th>\n",
       "      <td>1108524</td>\n",
       "    </tr>\n",
       "    <tr>\n",
       "      <th>아이폰_12_미니_256GB</th>\n",
       "      <td>1274655</td>\n",
       "    </tr>\n",
       "    <tr>\n",
       "      <th>아이폰_12_64GB</th>\n",
       "      <td>1148300</td>\n",
       "    </tr>\n",
       "    <tr>\n",
       "      <th>아이폰_12_128GB</th>\n",
       "      <td>1281273</td>\n",
       "    </tr>\n",
       "    <tr>\n",
       "      <th>아이폰_12_256GB</th>\n",
       "      <td>1426629</td>\n",
       "    </tr>\n",
       "    <tr>\n",
       "      <th>아이폰_12_pro_128GB</th>\n",
       "      <td>1259572</td>\n",
       "    </tr>\n",
       "    <tr>\n",
       "      <th>아이폰_12_pro_256GB</th>\n",
       "      <td>1451876</td>\n",
       "    </tr>\n",
       "    <tr>\n",
       "      <th>아이폰_12_pro_512GB</th>\n",
       "      <td>1835393</td>\n",
       "    </tr>\n",
       "    <tr>\n",
       "      <th>아이폰_12_pro_max_128GB</th>\n",
       "      <td>1109760</td>\n",
       "    </tr>\n",
       "    <tr>\n",
       "      <th>아이폰_12_pro_max_256GB</th>\n",
       "      <td>1218915</td>\n",
       "    </tr>\n",
       "    <tr>\n",
       "      <th>아이폰_12_pro_max_512GB</th>\n",
       "      <td>1470637</td>\n",
       "    </tr>\n",
       "  </tbody>\n",
       "</table>\n",
       "</div>"
      ],
      "text/plain": [
       "                         mean\n",
       "아이폰_12_미니_64GB         946389\n",
       "아이폰_12_미니_128GB       1108524\n",
       "아이폰_12_미니_256GB       1274655\n",
       "아이폰_12_64GB           1148300\n",
       "아이폰_12_128GB          1281273\n",
       "아이폰_12_256GB          1426629\n",
       "아이폰_12_pro_128GB      1259572\n",
       "아이폰_12_pro_256GB      1451876\n",
       "아이폰_12_pro_512GB      1835393\n",
       "아이폰_12_pro_max_128GB  1109760\n",
       "아이폰_12_pro_max_256GB  1218915\n",
       "아이폰_12_pro_max_512GB  1470637"
      ]
     },
     "execution_count": 28,
     "metadata": {},
     "output_type": "execute_result"
    }
   ],
   "source": [
    "df = pd.DataFrame(basic, index=x_mer)\n",
    "df"
   ]
  },
  {
   "cell_type": "code",
   "execution_count": 36,
   "id": "de7734d8",
   "metadata": {},
   "outputs": [
    {
     "ename": "TypeError",
     "evalue": "Neither the `x` nor `y` variable appears to be numeric.",
     "output_type": "error",
     "traceback": [
      "\u001b[1;31m---------------------------------------------------------------------------\u001b[0m",
      "\u001b[1;31mTypeError\u001b[0m                                 Traceback (most recent call last)",
      "\u001b[1;32m<ipython-input-36-3f48090993b1>\u001b[0m in \u001b[0;36m<module>\u001b[1;34m\u001b[0m\n\u001b[1;32m----> 1\u001b[1;33m \u001b[0msns\u001b[0m\u001b[1;33m.\u001b[0m\u001b[0mbarplot\u001b[0m\u001b[1;33m(\u001b[0m\u001b[0mx\u001b[0m\u001b[1;33m=\u001b[0m\u001b[0mdf\u001b[0m\u001b[1;33m.\u001b[0m\u001b[0mindex\u001b[0m\u001b[1;33m,\u001b[0m\u001b[0my\u001b[0m\u001b[1;33m=\u001b[0m\u001b[1;34m'mean'\u001b[0m\u001b[1;33m,\u001b[0m\u001b[0mdata\u001b[0m\u001b[1;33m=\u001b[0m\u001b[0mdf\u001b[0m\u001b[1;33m)\u001b[0m\u001b[1;33m\u001b[0m\u001b[1;33m\u001b[0m\u001b[0m\n\u001b[0m",
      "\u001b[1;32m~\\anaconda3\\lib\\site-packages\\seaborn\\_decorators.py\u001b[0m in \u001b[0;36minner_f\u001b[1;34m(*args, **kwargs)\u001b[0m\n\u001b[0;32m     44\u001b[0m             )\n\u001b[0;32m     45\u001b[0m         \u001b[0mkwargs\u001b[0m\u001b[1;33m.\u001b[0m\u001b[0mupdate\u001b[0m\u001b[1;33m(\u001b[0m\u001b[1;33m{\u001b[0m\u001b[0mk\u001b[0m\u001b[1;33m:\u001b[0m \u001b[0marg\u001b[0m \u001b[1;32mfor\u001b[0m \u001b[0mk\u001b[0m\u001b[1;33m,\u001b[0m \u001b[0marg\u001b[0m \u001b[1;32min\u001b[0m \u001b[0mzip\u001b[0m\u001b[1;33m(\u001b[0m\u001b[0msig\u001b[0m\u001b[1;33m.\u001b[0m\u001b[0mparameters\u001b[0m\u001b[1;33m,\u001b[0m \u001b[0margs\u001b[0m\u001b[1;33m)\u001b[0m\u001b[1;33m}\u001b[0m\u001b[1;33m)\u001b[0m\u001b[1;33m\u001b[0m\u001b[1;33m\u001b[0m\u001b[0m\n\u001b[1;32m---> 46\u001b[1;33m         \u001b[1;32mreturn\u001b[0m \u001b[0mf\u001b[0m\u001b[1;33m(\u001b[0m\u001b[1;33m**\u001b[0m\u001b[0mkwargs\u001b[0m\u001b[1;33m)\u001b[0m\u001b[1;33m\u001b[0m\u001b[1;33m\u001b[0m\u001b[0m\n\u001b[0m\u001b[0;32m     47\u001b[0m     \u001b[1;32mreturn\u001b[0m \u001b[0minner_f\u001b[0m\u001b[1;33m\u001b[0m\u001b[1;33m\u001b[0m\u001b[0m\n\u001b[0;32m     48\u001b[0m \u001b[1;33m\u001b[0m\u001b[0m\n",
      "\u001b[1;32m~\\anaconda3\\lib\\site-packages\\seaborn\\categorical.py\u001b[0m in \u001b[0;36mbarplot\u001b[1;34m(x, y, hue, data, order, hue_order, estimator, ci, n_boot, units, seed, orient, color, palette, saturation, errcolor, errwidth, capsize, dodge, ax, **kwargs)\u001b[0m\n\u001b[0;32m   3177\u001b[0m ):\n\u001b[0;32m   3178\u001b[0m \u001b[1;33m\u001b[0m\u001b[0m\n\u001b[1;32m-> 3179\u001b[1;33m     plotter = _BarPlotter(x, y, hue, data, order, hue_order,\n\u001b[0m\u001b[0;32m   3180\u001b[0m                           \u001b[0mestimator\u001b[0m\u001b[1;33m,\u001b[0m \u001b[0mci\u001b[0m\u001b[1;33m,\u001b[0m \u001b[0mn_boot\u001b[0m\u001b[1;33m,\u001b[0m \u001b[0munits\u001b[0m\u001b[1;33m,\u001b[0m \u001b[0mseed\u001b[0m\u001b[1;33m,\u001b[0m\u001b[1;33m\u001b[0m\u001b[1;33m\u001b[0m\u001b[0m\n\u001b[0;32m   3181\u001b[0m                           \u001b[0morient\u001b[0m\u001b[1;33m,\u001b[0m \u001b[0mcolor\u001b[0m\u001b[1;33m,\u001b[0m \u001b[0mpalette\u001b[0m\u001b[1;33m,\u001b[0m \u001b[0msaturation\u001b[0m\u001b[1;33m,\u001b[0m\u001b[1;33m\u001b[0m\u001b[1;33m\u001b[0m\u001b[0m\n",
      "\u001b[1;32m~\\anaconda3\\lib\\site-packages\\seaborn\\categorical.py\u001b[0m in \u001b[0;36m__init__\u001b[1;34m(self, x, y, hue, data, order, hue_order, estimator, ci, n_boot, units, seed, orient, color, palette, saturation, errcolor, errwidth, capsize, dodge)\u001b[0m\n\u001b[0;32m   1582\u001b[0m                  errwidth, capsize, dodge):\n\u001b[0;32m   1583\u001b[0m         \u001b[1;34m\"\"\"Initialize the plotter.\"\"\"\u001b[0m\u001b[1;33m\u001b[0m\u001b[1;33m\u001b[0m\u001b[0m\n\u001b[1;32m-> 1584\u001b[1;33m         self.establish_variables(x, y, hue, data, orient,\n\u001b[0m\u001b[0;32m   1585\u001b[0m                                  order, hue_order, units)\n\u001b[0;32m   1586\u001b[0m         \u001b[0mself\u001b[0m\u001b[1;33m.\u001b[0m\u001b[0mestablish_colors\u001b[0m\u001b[1;33m(\u001b[0m\u001b[0mcolor\u001b[0m\u001b[1;33m,\u001b[0m \u001b[0mpalette\u001b[0m\u001b[1;33m,\u001b[0m \u001b[0msaturation\u001b[0m\u001b[1;33m)\u001b[0m\u001b[1;33m\u001b[0m\u001b[1;33m\u001b[0m\u001b[0m\n",
      "\u001b[1;32m~\\anaconda3\\lib\\site-packages\\seaborn\\categorical.py\u001b[0m in \u001b[0;36mestablish_variables\u001b[1;34m(self, x, y, hue, data, orient, order, hue_order, units)\u001b[0m\n\u001b[0;32m    154\u001b[0m \u001b[1;33m\u001b[0m\u001b[0m\n\u001b[0;32m    155\u001b[0m             \u001b[1;31m# Figure out the plotting orientation\u001b[0m\u001b[1;33m\u001b[0m\u001b[1;33m\u001b[0m\u001b[1;33m\u001b[0m\u001b[0m\n\u001b[1;32m--> 156\u001b[1;33m             orient = infer_orient(\n\u001b[0m\u001b[0;32m    157\u001b[0m                 \u001b[0mx\u001b[0m\u001b[1;33m,\u001b[0m \u001b[0my\u001b[0m\u001b[1;33m,\u001b[0m \u001b[0morient\u001b[0m\u001b[1;33m,\u001b[0m \u001b[0mrequire_numeric\u001b[0m\u001b[1;33m=\u001b[0m\u001b[0mself\u001b[0m\u001b[1;33m.\u001b[0m\u001b[0mrequire_numeric\u001b[0m\u001b[1;33m\u001b[0m\u001b[1;33m\u001b[0m\u001b[0m\n\u001b[0;32m    158\u001b[0m             )\n",
      "\u001b[1;32m~\\anaconda3\\lib\\site-packages\\seaborn\\_core.py\u001b[0m in \u001b[0;36minfer_orient\u001b[1;34m(x, y, orient, require_numeric)\u001b[0m\n\u001b[0;32m   1343\u001b[0m     \u001b[1;32melif\u001b[0m \u001b[0mrequire_numeric\u001b[0m \u001b[1;32mand\u001b[0m \u001b[1;34m\"numeric\"\u001b[0m \u001b[1;32mnot\u001b[0m \u001b[1;32min\u001b[0m \u001b[1;33m(\u001b[0m\u001b[0mx_type\u001b[0m\u001b[1;33m,\u001b[0m \u001b[0my_type\u001b[0m\u001b[1;33m)\u001b[0m\u001b[1;33m:\u001b[0m\u001b[1;33m\u001b[0m\u001b[1;33m\u001b[0m\u001b[0m\n\u001b[0;32m   1344\u001b[0m         \u001b[0merr\u001b[0m \u001b[1;33m=\u001b[0m \u001b[1;34m\"Neither the `x` nor `y` variable appears to be numeric.\"\u001b[0m\u001b[1;33m\u001b[0m\u001b[1;33m\u001b[0m\u001b[0m\n\u001b[1;32m-> 1345\u001b[1;33m         \u001b[1;32mraise\u001b[0m \u001b[0mTypeError\u001b[0m\u001b[1;33m(\u001b[0m\u001b[0merr\u001b[0m\u001b[1;33m)\u001b[0m\u001b[1;33m\u001b[0m\u001b[1;33m\u001b[0m\u001b[0m\n\u001b[0m\u001b[0;32m   1346\u001b[0m \u001b[1;33m\u001b[0m\u001b[0m\n\u001b[0;32m   1347\u001b[0m     \u001b[1;32melse\u001b[0m\u001b[1;33m:\u001b[0m\u001b[1;33m\u001b[0m\u001b[1;33m\u001b[0m\u001b[0m\n",
      "\u001b[1;31mTypeError\u001b[0m: Neither the `x` nor `y` variable appears to be numeric."
     ]
    }
   ],
   "source": [
    "sns.barplot(x=df.index,y='mean',data=df)"
   ]
  },
  {
   "cell_type": "code",
   "execution_count": 44,
   "id": "d262ddf1",
   "metadata": {},
   "outputs": [
    {
     "data": {
      "text/plain": [
       "{'model': ['아이폰_12_미니_64GB',\n",
       "  '아이폰_12_미니_128GB',\n",
       "  '아이폰_12_미니_256GB',\n",
       "  '아이폰_12_64GB',\n",
       "  '아이폰_12_128GB',\n",
       "  '아이폰_12_256GB',\n",
       "  '아이폰_12_pro_128GB',\n",
       "  '아이폰_12_pro_256GB',\n",
       "  '아이폰_12_pro_512GB',\n",
       "  '아이폰_12_pro_max_128GB',\n",
       "  '아이폰_12_pro_max_256GB',\n",
       "  '아이폰_12_pro_max_512GB'],\n",
       " 'mean_price': ['946389',\n",
       "  '1108524',\n",
       "  '1274655',\n",
       "  '1148300',\n",
       "  '1281273',\n",
       "  '1426629',\n",
       "  '1259572',\n",
       "  '1451876',\n",
       "  '1835393',\n",
       "  '1109760',\n",
       "  '1218915',\n",
       "  '1470637']}"
      ]
     },
     "execution_count": 44,
     "metadata": {},
     "output_type": "execute_result"
    }
   ],
   "source": [
    "basic2 = {\"model\": x_mer, \"mean_price\":x_price}\n",
    "\n",
    "basic2"
   ]
  },
  {
   "cell_type": "code",
   "execution_count": 45,
   "id": "a5bd1633",
   "metadata": {},
   "outputs": [
    {
     "data": {
      "text/html": [
       "<div>\n",
       "<style scoped>\n",
       "    .dataframe tbody tr th:only-of-type {\n",
       "        vertical-align: middle;\n",
       "    }\n",
       "\n",
       "    .dataframe tbody tr th {\n",
       "        vertical-align: top;\n",
       "    }\n",
       "\n",
       "    .dataframe thead th {\n",
       "        text-align: right;\n",
       "    }\n",
       "</style>\n",
       "<table border=\"1\" class=\"dataframe\">\n",
       "  <thead>\n",
       "    <tr style=\"text-align: right;\">\n",
       "      <th></th>\n",
       "      <th>model</th>\n",
       "      <th>mean_price</th>\n",
       "    </tr>\n",
       "  </thead>\n",
       "  <tbody>\n",
       "    <tr>\n",
       "      <th>0</th>\n",
       "      <td>아이폰_12_미니_64GB</td>\n",
       "      <td>946389</td>\n",
       "    </tr>\n",
       "    <tr>\n",
       "      <th>1</th>\n",
       "      <td>아이폰_12_미니_128GB</td>\n",
       "      <td>1108524</td>\n",
       "    </tr>\n",
       "    <tr>\n",
       "      <th>2</th>\n",
       "      <td>아이폰_12_미니_256GB</td>\n",
       "      <td>1274655</td>\n",
       "    </tr>\n",
       "    <tr>\n",
       "      <th>3</th>\n",
       "      <td>아이폰_12_64GB</td>\n",
       "      <td>1148300</td>\n",
       "    </tr>\n",
       "    <tr>\n",
       "      <th>4</th>\n",
       "      <td>아이폰_12_128GB</td>\n",
       "      <td>1281273</td>\n",
       "    </tr>\n",
       "    <tr>\n",
       "      <th>5</th>\n",
       "      <td>아이폰_12_256GB</td>\n",
       "      <td>1426629</td>\n",
       "    </tr>\n",
       "    <tr>\n",
       "      <th>6</th>\n",
       "      <td>아이폰_12_pro_128GB</td>\n",
       "      <td>1259572</td>\n",
       "    </tr>\n",
       "    <tr>\n",
       "      <th>7</th>\n",
       "      <td>아이폰_12_pro_256GB</td>\n",
       "      <td>1451876</td>\n",
       "    </tr>\n",
       "    <tr>\n",
       "      <th>8</th>\n",
       "      <td>아이폰_12_pro_512GB</td>\n",
       "      <td>1835393</td>\n",
       "    </tr>\n",
       "    <tr>\n",
       "      <th>9</th>\n",
       "      <td>아이폰_12_pro_max_128GB</td>\n",
       "      <td>1109760</td>\n",
       "    </tr>\n",
       "    <tr>\n",
       "      <th>10</th>\n",
       "      <td>아이폰_12_pro_max_256GB</td>\n",
       "      <td>1218915</td>\n",
       "    </tr>\n",
       "    <tr>\n",
       "      <th>11</th>\n",
       "      <td>아이폰_12_pro_max_512GB</td>\n",
       "      <td>1470637</td>\n",
       "    </tr>\n",
       "  </tbody>\n",
       "</table>\n",
       "</div>"
      ],
      "text/plain": [
       "                   model mean_price\n",
       "0         아이폰_12_미니_64GB     946389\n",
       "1        아이폰_12_미니_128GB    1108524\n",
       "2        아이폰_12_미니_256GB    1274655\n",
       "3            아이폰_12_64GB    1148300\n",
       "4           아이폰_12_128GB    1281273\n",
       "5           아이폰_12_256GB    1426629\n",
       "6       아이폰_12_pro_128GB    1259572\n",
       "7       아이폰_12_pro_256GB    1451876\n",
       "8       아이폰_12_pro_512GB    1835393\n",
       "9   아이폰_12_pro_max_128GB    1109760\n",
       "10  아이폰_12_pro_max_256GB    1218915\n",
       "11  아이폰_12_pro_max_512GB    1470637"
      ]
     },
     "execution_count": 45,
     "metadata": {},
     "output_type": "execute_result"
    }
   ],
   "source": [
    "df2 = pd.DataFrame(basic2)\n",
    "df2"
   ]
  },
  {
   "cell_type": "code",
   "execution_count": 48,
   "id": "1eee2b05",
   "metadata": {
    "scrolled": false
   },
   "outputs": [
    {
     "ename": "UFuncTypeError",
     "evalue": "ufunc 'multiply' did not contain a loop with signature matching types (dtype('<U32'), dtype('<U32')) -> dtype('<U32')",
     "output_type": "error",
     "traceback": [
      "\u001b[1;31m---------------------------------------------------------------------------\u001b[0m",
      "\u001b[1;31mUFuncTypeError\u001b[0m                            Traceback (most recent call last)",
      "\u001b[1;32m<ipython-input-48-373360b9bc90>\u001b[0m in \u001b[0;36m<module>\u001b[1;34m\u001b[0m\n\u001b[1;32m----> 1\u001b[1;33m \u001b[0msns\u001b[0m\u001b[1;33m.\u001b[0m\u001b[0mlmplot\u001b[0m\u001b[1;33m(\u001b[0m\u001b[0mx\u001b[0m\u001b[1;33m=\u001b[0m\u001b[1;34m'model'\u001b[0m\u001b[1;33m,\u001b[0m \u001b[0my\u001b[0m\u001b[1;33m=\u001b[0m\u001b[1;34m\"mean_price\"\u001b[0m\u001b[1;33m,\u001b[0m \u001b[0mdata\u001b[0m\u001b[1;33m=\u001b[0m\u001b[0mdf2\u001b[0m\u001b[1;33m,\u001b[0m \u001b[0mheight\u001b[0m\u001b[1;33m=\u001b[0m\u001b[1;36m7\u001b[0m\u001b[1;33m)\u001b[0m\u001b[1;33m\u001b[0m\u001b[1;33m\u001b[0m\u001b[0m\n\u001b[0m",
      "\u001b[1;32m~\\anaconda3\\lib\\site-packages\\seaborn\\_decorators.py\u001b[0m in \u001b[0;36minner_f\u001b[1;34m(*args, **kwargs)\u001b[0m\n\u001b[0;32m     44\u001b[0m             )\n\u001b[0;32m     45\u001b[0m         \u001b[0mkwargs\u001b[0m\u001b[1;33m.\u001b[0m\u001b[0mupdate\u001b[0m\u001b[1;33m(\u001b[0m\u001b[1;33m{\u001b[0m\u001b[0mk\u001b[0m\u001b[1;33m:\u001b[0m \u001b[0marg\u001b[0m \u001b[1;32mfor\u001b[0m \u001b[0mk\u001b[0m\u001b[1;33m,\u001b[0m \u001b[0marg\u001b[0m \u001b[1;32min\u001b[0m \u001b[0mzip\u001b[0m\u001b[1;33m(\u001b[0m\u001b[0msig\u001b[0m\u001b[1;33m.\u001b[0m\u001b[0mparameters\u001b[0m\u001b[1;33m,\u001b[0m \u001b[0margs\u001b[0m\u001b[1;33m)\u001b[0m\u001b[1;33m}\u001b[0m\u001b[1;33m)\u001b[0m\u001b[1;33m\u001b[0m\u001b[1;33m\u001b[0m\u001b[0m\n\u001b[1;32m---> 46\u001b[1;33m         \u001b[1;32mreturn\u001b[0m \u001b[0mf\u001b[0m\u001b[1;33m(\u001b[0m\u001b[1;33m**\u001b[0m\u001b[0mkwargs\u001b[0m\u001b[1;33m)\u001b[0m\u001b[1;33m\u001b[0m\u001b[1;33m\u001b[0m\u001b[0m\n\u001b[0m\u001b[0;32m     47\u001b[0m     \u001b[1;32mreturn\u001b[0m \u001b[0minner_f\u001b[0m\u001b[1;33m\u001b[0m\u001b[1;33m\u001b[0m\u001b[0m\n\u001b[0;32m     48\u001b[0m \u001b[1;33m\u001b[0m\u001b[0m\n",
      "\u001b[1;32m~\\anaconda3\\lib\\site-packages\\seaborn\\regression.py\u001b[0m in \u001b[0;36mlmplot\u001b[1;34m(x, y, data, hue, col, row, palette, col_wrap, height, aspect, markers, sharex, sharey, hue_order, col_order, row_order, legend, legend_out, x_estimator, x_bins, x_ci, scatter, fit_reg, ci, n_boot, units, seed, order, logistic, lowess, robust, logx, x_partial, y_partial, truncate, x_jitter, y_jitter, scatter_kws, line_kws, size)\u001b[0m\n\u001b[0;32m    626\u001b[0m         \u001b[0mscatter_kws\u001b[0m\u001b[1;33m=\u001b[0m\u001b[0mscatter_kws\u001b[0m\u001b[1;33m,\u001b[0m \u001b[0mline_kws\u001b[0m\u001b[1;33m=\u001b[0m\u001b[0mline_kws\u001b[0m\u001b[1;33m,\u001b[0m\u001b[1;33m\u001b[0m\u001b[1;33m\u001b[0m\u001b[0m\n\u001b[0;32m    627\u001b[0m     )\n\u001b[1;32m--> 628\u001b[1;33m     \u001b[0mfacets\u001b[0m\u001b[1;33m.\u001b[0m\u001b[0mmap_dataframe\u001b[0m\u001b[1;33m(\u001b[0m\u001b[0mregplot\u001b[0m\u001b[1;33m,\u001b[0m \u001b[0mx\u001b[0m\u001b[1;33m=\u001b[0m\u001b[0mx\u001b[0m\u001b[1;33m,\u001b[0m \u001b[0my\u001b[0m\u001b[1;33m=\u001b[0m\u001b[0my\u001b[0m\u001b[1;33m,\u001b[0m \u001b[1;33m**\u001b[0m\u001b[0mregplot_kws\u001b[0m\u001b[1;33m)\u001b[0m\u001b[1;33m\u001b[0m\u001b[1;33m\u001b[0m\u001b[0m\n\u001b[0m\u001b[0;32m    629\u001b[0m \u001b[1;33m\u001b[0m\u001b[0m\n\u001b[0;32m    630\u001b[0m     \u001b[1;31m# TODO this will need to change when we relax string requirement\u001b[0m\u001b[1;33m\u001b[0m\u001b[1;33m\u001b[0m\u001b[1;33m\u001b[0m\u001b[0m\n",
      "\u001b[1;32m~\\anaconda3\\lib\\site-packages\\seaborn\\axisgrid.py\u001b[0m in \u001b[0;36mmap_dataframe\u001b[1;34m(self, func, *args, **kwargs)\u001b[0m\n\u001b[0;32m    748\u001b[0m \u001b[1;33m\u001b[0m\u001b[0m\n\u001b[0;32m    749\u001b[0m             \u001b[1;31m# Draw the plot\u001b[0m\u001b[1;33m\u001b[0m\u001b[1;33m\u001b[0m\u001b[1;33m\u001b[0m\u001b[0m\n\u001b[1;32m--> 750\u001b[1;33m             \u001b[0mself\u001b[0m\u001b[1;33m.\u001b[0m\u001b[0m_facet_plot\u001b[0m\u001b[1;33m(\u001b[0m\u001b[0mfunc\u001b[0m\u001b[1;33m,\u001b[0m \u001b[0max\u001b[0m\u001b[1;33m,\u001b[0m \u001b[0margs\u001b[0m\u001b[1;33m,\u001b[0m \u001b[0mkwargs\u001b[0m\u001b[1;33m)\u001b[0m\u001b[1;33m\u001b[0m\u001b[1;33m\u001b[0m\u001b[0m\n\u001b[0m\u001b[0;32m    751\u001b[0m \u001b[1;33m\u001b[0m\u001b[0m\n\u001b[0;32m    752\u001b[0m         \u001b[1;31m# Finalize the annotations and layout\u001b[0m\u001b[1;33m\u001b[0m\u001b[1;33m\u001b[0m\u001b[1;33m\u001b[0m\u001b[0m\n",
      "\u001b[1;32m~\\anaconda3\\lib\\site-packages\\seaborn\\axisgrid.py\u001b[0m in \u001b[0;36m_facet_plot\u001b[1;34m(self, func, ax, plot_args, plot_kwargs)\u001b[0m\n\u001b[0;32m    773\u001b[0m             \u001b[0mplot_args\u001b[0m \u001b[1;33m=\u001b[0m \u001b[1;33m[\u001b[0m\u001b[1;33m]\u001b[0m\u001b[1;33m\u001b[0m\u001b[1;33m\u001b[0m\u001b[0m\n\u001b[0;32m    774\u001b[0m             \u001b[0mplot_kwargs\u001b[0m\u001b[1;33m[\u001b[0m\u001b[1;34m\"ax\"\u001b[0m\u001b[1;33m]\u001b[0m \u001b[1;33m=\u001b[0m \u001b[0max\u001b[0m\u001b[1;33m\u001b[0m\u001b[1;33m\u001b[0m\u001b[0m\n\u001b[1;32m--> 775\u001b[1;33m         \u001b[0mfunc\u001b[0m\u001b[1;33m(\u001b[0m\u001b[1;33m*\u001b[0m\u001b[0mplot_args\u001b[0m\u001b[1;33m,\u001b[0m \u001b[1;33m**\u001b[0m\u001b[0mplot_kwargs\u001b[0m\u001b[1;33m)\u001b[0m\u001b[1;33m\u001b[0m\u001b[1;33m\u001b[0m\u001b[0m\n\u001b[0m\u001b[0;32m    776\u001b[0m \u001b[1;33m\u001b[0m\u001b[0m\n\u001b[0;32m    777\u001b[0m         \u001b[1;31m# Sort out the supporting information\u001b[0m\u001b[1;33m\u001b[0m\u001b[1;33m\u001b[0m\u001b[1;33m\u001b[0m\u001b[0m\n",
      "\u001b[1;32m~\\anaconda3\\lib\\site-packages\\seaborn\\_decorators.py\u001b[0m in \u001b[0;36minner_f\u001b[1;34m(*args, **kwargs)\u001b[0m\n\u001b[0;32m     44\u001b[0m             )\n\u001b[0;32m     45\u001b[0m         \u001b[0mkwargs\u001b[0m\u001b[1;33m.\u001b[0m\u001b[0mupdate\u001b[0m\u001b[1;33m(\u001b[0m\u001b[1;33m{\u001b[0m\u001b[0mk\u001b[0m\u001b[1;33m:\u001b[0m \u001b[0marg\u001b[0m \u001b[1;32mfor\u001b[0m \u001b[0mk\u001b[0m\u001b[1;33m,\u001b[0m \u001b[0marg\u001b[0m \u001b[1;32min\u001b[0m \u001b[0mzip\u001b[0m\u001b[1;33m(\u001b[0m\u001b[0msig\u001b[0m\u001b[1;33m.\u001b[0m\u001b[0mparameters\u001b[0m\u001b[1;33m,\u001b[0m \u001b[0margs\u001b[0m\u001b[1;33m)\u001b[0m\u001b[1;33m}\u001b[0m\u001b[1;33m)\u001b[0m\u001b[1;33m\u001b[0m\u001b[1;33m\u001b[0m\u001b[0m\n\u001b[1;32m---> 46\u001b[1;33m         \u001b[1;32mreturn\u001b[0m \u001b[0mf\u001b[0m\u001b[1;33m(\u001b[0m\u001b[1;33m**\u001b[0m\u001b[0mkwargs\u001b[0m\u001b[1;33m)\u001b[0m\u001b[1;33m\u001b[0m\u001b[1;33m\u001b[0m\u001b[0m\n\u001b[0m\u001b[0;32m     47\u001b[0m     \u001b[1;32mreturn\u001b[0m \u001b[0minner_f\u001b[0m\u001b[1;33m\u001b[0m\u001b[1;33m\u001b[0m\u001b[0m\n\u001b[0;32m     48\u001b[0m \u001b[1;33m\u001b[0m\u001b[0m\n",
      "\u001b[1;32m~\\anaconda3\\lib\\site-packages\\seaborn\\regression.py\u001b[0m in \u001b[0;36mregplot\u001b[1;34m(x, y, data, x_estimator, x_bins, x_ci, scatter, fit_reg, ci, n_boot, units, seed, order, logistic, lowess, robust, logx, x_partial, y_partial, truncate, dropna, x_jitter, y_jitter, label, color, marker, scatter_kws, line_kws, ax)\u001b[0m\n\u001b[0;32m    836\u001b[0m     \u001b[0mscatter_kws\u001b[0m\u001b[1;33m[\u001b[0m\u001b[1;34m\"marker\"\u001b[0m\u001b[1;33m]\u001b[0m \u001b[1;33m=\u001b[0m \u001b[0mmarker\u001b[0m\u001b[1;33m\u001b[0m\u001b[1;33m\u001b[0m\u001b[0m\n\u001b[0;32m    837\u001b[0m     \u001b[0mline_kws\u001b[0m \u001b[1;33m=\u001b[0m \u001b[1;33m{\u001b[0m\u001b[1;33m}\u001b[0m \u001b[1;32mif\u001b[0m \u001b[0mline_kws\u001b[0m \u001b[1;32mis\u001b[0m \u001b[1;32mNone\u001b[0m \u001b[1;32melse\u001b[0m \u001b[0mcopy\u001b[0m\u001b[1;33m.\u001b[0m\u001b[0mcopy\u001b[0m\u001b[1;33m(\u001b[0m\u001b[0mline_kws\u001b[0m\u001b[1;33m)\u001b[0m\u001b[1;33m\u001b[0m\u001b[1;33m\u001b[0m\u001b[0m\n\u001b[1;32m--> 838\u001b[1;33m     \u001b[0mplotter\u001b[0m\u001b[1;33m.\u001b[0m\u001b[0mplot\u001b[0m\u001b[1;33m(\u001b[0m\u001b[0max\u001b[0m\u001b[1;33m,\u001b[0m \u001b[0mscatter_kws\u001b[0m\u001b[1;33m,\u001b[0m \u001b[0mline_kws\u001b[0m\u001b[1;33m)\u001b[0m\u001b[1;33m\u001b[0m\u001b[1;33m\u001b[0m\u001b[0m\n\u001b[0m\u001b[0;32m    839\u001b[0m     \u001b[1;32mreturn\u001b[0m \u001b[0max\u001b[0m\u001b[1;33m\u001b[0m\u001b[1;33m\u001b[0m\u001b[0m\n\u001b[0;32m    840\u001b[0m \u001b[1;33m\u001b[0m\u001b[0m\n",
      "\u001b[1;32m~\\anaconda3\\lib\\site-packages\\seaborn\\regression.py\u001b[0m in \u001b[0;36mplot\u001b[1;34m(self, ax, scatter_kws, line_kws)\u001b[0m\n\u001b[0;32m    368\u001b[0m \u001b[1;33m\u001b[0m\u001b[0m\n\u001b[0;32m    369\u001b[0m         \u001b[1;32mif\u001b[0m \u001b[0mself\u001b[0m\u001b[1;33m.\u001b[0m\u001b[0mfit_reg\u001b[0m\u001b[1;33m:\u001b[0m\u001b[1;33m\u001b[0m\u001b[1;33m\u001b[0m\u001b[0m\n\u001b[1;32m--> 370\u001b[1;33m             \u001b[0mself\u001b[0m\u001b[1;33m.\u001b[0m\u001b[0mlineplot\u001b[0m\u001b[1;33m(\u001b[0m\u001b[0max\u001b[0m\u001b[1;33m,\u001b[0m \u001b[0mline_kws\u001b[0m\u001b[1;33m)\u001b[0m\u001b[1;33m\u001b[0m\u001b[1;33m\u001b[0m\u001b[0m\n\u001b[0m\u001b[0;32m    371\u001b[0m \u001b[1;33m\u001b[0m\u001b[0m\n\u001b[0;32m    372\u001b[0m         \u001b[1;31m# Label the axes\u001b[0m\u001b[1;33m\u001b[0m\u001b[1;33m\u001b[0m\u001b[1;33m\u001b[0m\u001b[0m\n",
      "\u001b[1;32m~\\anaconda3\\lib\\site-packages\\seaborn\\regression.py\u001b[0m in \u001b[0;36mlineplot\u001b[1;34m(self, ax, kws)\u001b[0m\n\u001b[0;32m    411\u001b[0m         \u001b[1;34m\"\"\"Draw the model.\"\"\"\u001b[0m\u001b[1;33m\u001b[0m\u001b[1;33m\u001b[0m\u001b[0m\n\u001b[0;32m    412\u001b[0m         \u001b[1;31m# Fit the regression model\u001b[0m\u001b[1;33m\u001b[0m\u001b[1;33m\u001b[0m\u001b[1;33m\u001b[0m\u001b[0m\n\u001b[1;32m--> 413\u001b[1;33m         \u001b[0mgrid\u001b[0m\u001b[1;33m,\u001b[0m \u001b[0myhat\u001b[0m\u001b[1;33m,\u001b[0m \u001b[0merr_bands\u001b[0m \u001b[1;33m=\u001b[0m \u001b[0mself\u001b[0m\u001b[1;33m.\u001b[0m\u001b[0mfit_regression\u001b[0m\u001b[1;33m(\u001b[0m\u001b[0max\u001b[0m\u001b[1;33m)\u001b[0m\u001b[1;33m\u001b[0m\u001b[1;33m\u001b[0m\u001b[0m\n\u001b[0m\u001b[0;32m    414\u001b[0m         \u001b[0medges\u001b[0m \u001b[1;33m=\u001b[0m \u001b[0mgrid\u001b[0m\u001b[1;33m[\u001b[0m\u001b[1;36m0\u001b[0m\u001b[1;33m]\u001b[0m\u001b[1;33m,\u001b[0m \u001b[0mgrid\u001b[0m\u001b[1;33m[\u001b[0m\u001b[1;33m-\u001b[0m\u001b[1;36m1\u001b[0m\u001b[1;33m]\u001b[0m\u001b[1;33m\u001b[0m\u001b[1;33m\u001b[0m\u001b[0m\n\u001b[0;32m    415\u001b[0m \u001b[1;33m\u001b[0m\u001b[0m\n",
      "\u001b[1;32m~\\anaconda3\\lib\\site-packages\\seaborn\\regression.py\u001b[0m in \u001b[0;36mfit_regression\u001b[1;34m(self, ax, x_range, grid)\u001b[0m\n\u001b[0;32m    199\u001b[0m                 \u001b[1;32melse\u001b[0m\u001b[1;33m:\u001b[0m\u001b[1;33m\u001b[0m\u001b[1;33m\u001b[0m\u001b[0m\n\u001b[0;32m    200\u001b[0m                     \u001b[0mx_min\u001b[0m\u001b[1;33m,\u001b[0m \u001b[0mx_max\u001b[0m \u001b[1;33m=\u001b[0m \u001b[0max\u001b[0m\u001b[1;33m.\u001b[0m\u001b[0mget_xlim\u001b[0m\u001b[1;33m(\u001b[0m\u001b[1;33m)\u001b[0m\u001b[1;33m\u001b[0m\u001b[1;33m\u001b[0m\u001b[0m\n\u001b[1;32m--> 201\u001b[1;33m             \u001b[0mgrid\u001b[0m \u001b[1;33m=\u001b[0m \u001b[0mnp\u001b[0m\u001b[1;33m.\u001b[0m\u001b[0mlinspace\u001b[0m\u001b[1;33m(\u001b[0m\u001b[0mx_min\u001b[0m\u001b[1;33m,\u001b[0m \u001b[0mx_max\u001b[0m\u001b[1;33m,\u001b[0m \u001b[1;36m100\u001b[0m\u001b[1;33m)\u001b[0m\u001b[1;33m\u001b[0m\u001b[1;33m\u001b[0m\u001b[0m\n\u001b[0m\u001b[0;32m    202\u001b[0m         \u001b[0mci\u001b[0m \u001b[1;33m=\u001b[0m \u001b[0mself\u001b[0m\u001b[1;33m.\u001b[0m\u001b[0mci\u001b[0m\u001b[1;33m\u001b[0m\u001b[1;33m\u001b[0m\u001b[0m\n\u001b[0;32m    203\u001b[0m \u001b[1;33m\u001b[0m\u001b[0m\n",
      "\u001b[1;32m<__array_function__ internals>\u001b[0m in \u001b[0;36mlinspace\u001b[1;34m(*args, **kwargs)\u001b[0m\n",
      "\u001b[1;32m~\\anaconda3\\lib\\site-packages\\numpy\\core\\function_base.py\u001b[0m in \u001b[0;36mlinspace\u001b[1;34m(start, stop, num, endpoint, retstep, dtype, axis)\u001b[0m\n\u001b[0;32m    125\u001b[0m     \u001b[1;31m# Convert float/complex array scalars to float, gh-3504\u001b[0m\u001b[1;33m\u001b[0m\u001b[1;33m\u001b[0m\u001b[1;33m\u001b[0m\u001b[0m\n\u001b[0;32m    126\u001b[0m     \u001b[1;31m# and make sure one can use variables that have an __array_interface__, gh-6634\u001b[0m\u001b[1;33m\u001b[0m\u001b[1;33m\u001b[0m\u001b[1;33m\u001b[0m\u001b[0m\n\u001b[1;32m--> 127\u001b[1;33m     \u001b[0mstart\u001b[0m \u001b[1;33m=\u001b[0m \u001b[0masanyarray\u001b[0m\u001b[1;33m(\u001b[0m\u001b[0mstart\u001b[0m\u001b[1;33m)\u001b[0m \u001b[1;33m*\u001b[0m \u001b[1;36m1.0\u001b[0m\u001b[1;33m\u001b[0m\u001b[1;33m\u001b[0m\u001b[0m\n\u001b[0m\u001b[0;32m    128\u001b[0m     \u001b[0mstop\u001b[0m  \u001b[1;33m=\u001b[0m \u001b[0masanyarray\u001b[0m\u001b[1;33m(\u001b[0m\u001b[0mstop\u001b[0m\u001b[1;33m)\u001b[0m  \u001b[1;33m*\u001b[0m \u001b[1;36m1.0\u001b[0m\u001b[1;33m\u001b[0m\u001b[1;33m\u001b[0m\u001b[0m\n\u001b[0;32m    129\u001b[0m \u001b[1;33m\u001b[0m\u001b[0m\n",
      "\u001b[1;31mUFuncTypeError\u001b[0m: ufunc 'multiply' did not contain a loop with signature matching types (dtype('<U32'), dtype('<U32')) -> dtype('<U32')"
     ]
    },
    {
     "data": {
      "image/png": "[encoded data removed]",
      "text/plain": [
       "<Figure size 504x504 with 1 Axes>"
      ]
     },
     "metadata": {
      "needs_background": "light"
     },
     "output_type": "display_data"
    }
   ],
   "source": [
    "sns.lmplot(x='model', y=\"mean_price\", data=df2, height=7)"
   ]
  },
  {
   "cell_type": "code",
   "execution_count": null,
   "id": "6b8f10dc",
   "metadata": {},
   "outputs": [],
   "source": []
  }
 ],
 "metadata": {
  "kernelspec": {
   "display_name": "Python 3",
   "language": "python",
   "name": "python3"
  },
  "language_info": {
   "codemirror_mode": {
    "name": "ipython",
    "version": 3
   },
   "file_extension": ".py",
   "mimetype": "text/x-python",
   "name": "python",
   "nbconvert_exporter": "python",
   "pygments_lexer": "ipython3",
   "version": "3.8.8"
  }
 },
 "nbformat": 4,
 "nbformat_minor": 5
}
