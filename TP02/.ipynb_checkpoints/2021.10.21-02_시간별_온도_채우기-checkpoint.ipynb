{
 "cells": [
  {
   "cell_type": "code",
   "execution_count": 5,
   "id": "73a5cdc5",
   "metadata": {},
   "outputs": [],
   "source": [
    "import pandas as pd\n",
    "from numpy import nan"
   ]
  },
  {
   "cell_type": "code",
   "execution_count": 6,
   "id": "a5847ec5",
   "metadata": {},
   "outputs": [
    {
     "data": {
      "text/html": [
       "<div>\n",
       "<style scoped>\n",
       "    .dataframe tbody tr th:only-of-type {\n",
       "        vertical-align: middle;\n",
       "    }\n",
       "\n",
       "    .dataframe tbody tr th {\n",
       "        vertical-align: top;\n",
       "    }\n",
       "\n",
       "    .dataframe thead th {\n",
       "        text-align: right;\n",
       "    }\n",
       "</style>\n",
       "<table border=\"1\" class=\"dataframe\">\n",
       "  <thead>\n",
       "    <tr style=\"text-align: right;\">\n",
       "      <th></th>\n",
       "      <th>0</th>\n",
       "    </tr>\n",
       "  </thead>\n",
       "  <tbody>\n",
       "    <tr>\n",
       "      <th>0</th>\n",
       "      <td>NaN</td>\n",
       "    </tr>\n",
       "    <tr>\n",
       "      <th>1</th>\n",
       "      <td>NaN</td>\n",
       "    </tr>\n",
       "    <tr>\n",
       "      <th>2</th>\n",
       "      <td>NaN</td>\n",
       "    </tr>\n",
       "    <tr>\n",
       "      <th>3</th>\n",
       "      <td>NaN</td>\n",
       "    </tr>\n",
       "    <tr>\n",
       "      <th>4</th>\n",
       "      <td>NaN</td>\n",
       "    </tr>\n",
       "    <tr>\n",
       "      <th>5</th>\n",
       "      <td>NaN</td>\n",
       "    </tr>\n",
       "    <tr>\n",
       "      <th>6</th>\n",
       "      <td>-9.1</td>\n",
       "    </tr>\n",
       "    <tr>\n",
       "      <th>7</th>\n",
       "      <td>NaN</td>\n",
       "    </tr>\n",
       "    <tr>\n",
       "      <th>8</th>\n",
       "      <td>NaN</td>\n",
       "    </tr>\n",
       "    <tr>\n",
       "      <th>9</th>\n",
       "      <td>NaN</td>\n",
       "    </tr>\n",
       "    <tr>\n",
       "      <th>10</th>\n",
       "      <td>NaN</td>\n",
       "    </tr>\n",
       "    <tr>\n",
       "      <th>11</th>\n",
       "      <td>NaN</td>\n",
       "    </tr>\n",
       "    <tr>\n",
       "      <th>12</th>\n",
       "      <td>NaN</td>\n",
       "    </tr>\n",
       "    <tr>\n",
       "      <th>13</th>\n",
       "      <td>NaN</td>\n",
       "    </tr>\n",
       "    <tr>\n",
       "      <th>14</th>\n",
       "      <td>2.6</td>\n",
       "    </tr>\n",
       "    <tr>\n",
       "      <th>15</th>\n",
       "      <td>NaN</td>\n",
       "    </tr>\n",
       "    <tr>\n",
       "      <th>16</th>\n",
       "      <td>NaN</td>\n",
       "    </tr>\n",
       "    <tr>\n",
       "      <th>17</th>\n",
       "      <td>NaN</td>\n",
       "    </tr>\n",
       "    <tr>\n",
       "      <th>18</th>\n",
       "      <td>NaN</td>\n",
       "    </tr>\n",
       "    <tr>\n",
       "      <th>19</th>\n",
       "      <td>NaN</td>\n",
       "    </tr>\n",
       "    <tr>\n",
       "      <th>20</th>\n",
       "      <td>NaN</td>\n",
       "    </tr>\n",
       "    <tr>\n",
       "      <th>21</th>\n",
       "      <td>NaN</td>\n",
       "    </tr>\n",
       "    <tr>\n",
       "      <th>22</th>\n",
       "      <td>NaN</td>\n",
       "    </tr>\n",
       "    <tr>\n",
       "      <th>23</th>\n",
       "      <td>NaN</td>\n",
       "    </tr>\n",
       "    <tr>\n",
       "      <th>24</th>\n",
       "      <td>NaN</td>\n",
       "    </tr>\n",
       "  </tbody>\n",
       "</table>\n",
       "</div>"
      ],
      "text/plain": [
       "      0\n",
       "0   NaN\n",
       "1   NaN\n",
       "2   NaN\n",
       "3   NaN\n",
       "4   NaN\n",
       "5   NaN\n",
       "6  -9.1\n",
       "7   NaN\n",
       "8   NaN\n",
       "9   NaN\n",
       "10  NaN\n",
       "11  NaN\n",
       "12  NaN\n",
       "13  NaN\n",
       "14  2.6\n",
       "15  NaN\n",
       "16  NaN\n",
       "17  NaN\n",
       "18  NaN\n",
       "19  NaN\n",
       "20  NaN\n",
       "21  NaN\n",
       "22  NaN\n",
       "23  NaN\n",
       "24  NaN"
      ]
     },
     "execution_count": 6,
     "metadata": {},
     "output_type": "execute_result"
    }
   ],
   "source": [
    "test = [nan, nan, nan, nan, nan, nan, -9.1, nan, nan, nan, nan, nan, nan, nan, 2.6, nan, nan, nan, nan, nan, nan, nan, nan, nan, nan]\n",
    "df = pd.DataFrame(test)\n",
    "df"
   ]
  },
  {
   "cell_type": "code",
   "execution_count": 7,
   "id": "52720b8d",
   "metadata": {},
   "outputs": [
    {
     "data": {
      "text/html": [
       "<div>\n",
       "<style scoped>\n",
       "    .dataframe tbody tr th:only-of-type {\n",
       "        vertical-align: middle;\n",
       "    }\n",
       "\n",
       "    .dataframe tbody tr th {\n",
       "        vertical-align: top;\n",
       "    }\n",
       "\n",
       "    .dataframe thead th {\n",
       "        text-align: right;\n",
       "    }\n",
       "</style>\n",
       "<table border=\"1\" class=\"dataframe\">\n",
       "  <thead>\n",
       "    <tr style=\"text-align: right;\">\n",
       "      <th></th>\n",
       "      <th>0</th>\n",
       "    </tr>\n",
       "  </thead>\n",
       "  <tbody>\n",
       "    <tr>\n",
       "      <th>0</th>\n",
       "      <td>-9.1000</td>\n",
       "    </tr>\n",
       "    <tr>\n",
       "      <th>1</th>\n",
       "      <td>-9.1000</td>\n",
       "    </tr>\n",
       "    <tr>\n",
       "      <th>2</th>\n",
       "      <td>-9.1000</td>\n",
       "    </tr>\n",
       "    <tr>\n",
       "      <th>3</th>\n",
       "      <td>-9.1000</td>\n",
       "    </tr>\n",
       "    <tr>\n",
       "      <th>4</th>\n",
       "      <td>-9.1000</td>\n",
       "    </tr>\n",
       "    <tr>\n",
       "      <th>5</th>\n",
       "      <td>-9.1000</td>\n",
       "    </tr>\n",
       "    <tr>\n",
       "      <th>6</th>\n",
       "      <td>-9.1000</td>\n",
       "    </tr>\n",
       "    <tr>\n",
       "      <th>7</th>\n",
       "      <td>-7.6375</td>\n",
       "    </tr>\n",
       "    <tr>\n",
       "      <th>8</th>\n",
       "      <td>-6.1750</td>\n",
       "    </tr>\n",
       "    <tr>\n",
       "      <th>9</th>\n",
       "      <td>-4.7125</td>\n",
       "    </tr>\n",
       "    <tr>\n",
       "      <th>10</th>\n",
       "      <td>-3.2500</td>\n",
       "    </tr>\n",
       "    <tr>\n",
       "      <th>11</th>\n",
       "      <td>-1.7875</td>\n",
       "    </tr>\n",
       "    <tr>\n",
       "      <th>12</th>\n",
       "      <td>-0.3250</td>\n",
       "    </tr>\n",
       "    <tr>\n",
       "      <th>13</th>\n",
       "      <td>1.1375</td>\n",
       "    </tr>\n",
       "    <tr>\n",
       "      <th>14</th>\n",
       "      <td>2.6000</td>\n",
       "    </tr>\n",
       "    <tr>\n",
       "      <th>15</th>\n",
       "      <td>2.6000</td>\n",
       "    </tr>\n",
       "    <tr>\n",
       "      <th>16</th>\n",
       "      <td>2.6000</td>\n",
       "    </tr>\n",
       "    <tr>\n",
       "      <th>17</th>\n",
       "      <td>2.6000</td>\n",
       "    </tr>\n",
       "    <tr>\n",
       "      <th>18</th>\n",
       "      <td>2.6000</td>\n",
       "    </tr>\n",
       "    <tr>\n",
       "      <th>19</th>\n",
       "      <td>2.6000</td>\n",
       "    </tr>\n",
       "    <tr>\n",
       "      <th>20</th>\n",
       "      <td>2.6000</td>\n",
       "    </tr>\n",
       "    <tr>\n",
       "      <th>21</th>\n",
       "      <td>2.6000</td>\n",
       "    </tr>\n",
       "    <tr>\n",
       "      <th>22</th>\n",
       "      <td>2.6000</td>\n",
       "    </tr>\n",
       "    <tr>\n",
       "      <th>23</th>\n",
       "      <td>2.6000</td>\n",
       "    </tr>\n",
       "    <tr>\n",
       "      <th>24</th>\n",
       "      <td>2.6000</td>\n",
       "    </tr>\n",
       "  </tbody>\n",
       "</table>\n",
       "</div>"
      ],
      "text/plain": [
       "         0\n",
       "0  -9.1000\n",
       "1  -9.1000\n",
       "2  -9.1000\n",
       "3  -9.1000\n",
       "4  -9.1000\n",
       "5  -9.1000\n",
       "6  -9.1000\n",
       "7  -7.6375\n",
       "8  -6.1750\n",
       "9  -4.7125\n",
       "10 -3.2500\n",
       "11 -1.7875\n",
       "12 -0.3250\n",
       "13  1.1375\n",
       "14  2.6000\n",
       "15  2.6000\n",
       "16  2.6000\n",
       "17  2.6000\n",
       "18  2.6000\n",
       "19  2.6000\n",
       "20  2.6000\n",
       "21  2.6000\n",
       "22  2.6000\n",
       "23  2.6000\n",
       "24  2.6000"
      ]
     },
     "execution_count": 7,
     "metadata": {},
     "output_type": "execute_result"
    }
   ],
   "source": [
    "df.interpolate(method='linear',limit_direction='both')"
   ]
  },
  {
   "cell_type": "markdown",
   "id": "4a1bddc7",
   "metadata": {},
   "source": [
    "## 나주시 농업기상정보시스템\n",
    "* 주소 : https://weather.naju.go.kr/"
   ]
  },
  {
   "cell_type": "markdown",
   "id": "79933ead",
   "metadata": {},
   "source": [
    "### selenium 이용 웹 크롤링 테스트"
   ]
  },
  {
   "cell_type": "code",
   "execution_count": 8,
   "id": "979c6dbd",
   "metadata": {},
   "outputs": [],
   "source": [
    "from selenium import webdriver\n",
    "from bs4 import BeautifulSoup"
   ]
  },
  {
   "cell_type": "code",
   "execution_count": 9,
   "id": "24b643a9",
   "metadata": {},
   "outputs": [],
   "source": [
    "import time"
   ]
  },
  {
   "cell_type": "code",
   "execution_count": null,
   "id": "bab0152a",
   "metadata": {},
   "outputs": [],
   "source": [
    "driver = webdriver.Chrome(\"chromedriver_94\")\n",
    "url = \"https://weather.naju.go.kr/agri_meteo/agri_time.html\"\n",
    "driver.get(url)"
   ]
  },
  {
   "cell_type": "code",
   "execution_count": null,
   "id": "97ddb791",
   "metadata": {},
   "outputs": [],
   "source": [
    "# 관측기간 xpath : //*[@id=\"timed_date\"]\n",
    "# 조회 버튼 xpath : //*[@id=\"contents\"]/ul/li[2]/form/div/ul[2]/li/img\n",
    "search = driver.find_element_by_xpath('//*[@id=\"timed_date\"]')\n",
    "button = driver.find_element_by_xpath('//*[@id=\"contents\"]/ul/li[2]/form/div/ul[2]/li/img')\n",
    "\n",
    "search.click()\n",
    "search.clear()\n",
    "search.send_keys(\"20131001\")\n",
    "button.click()"
   ]
  },
  {
   "cell_type": "code",
   "execution_count": null,
   "id": "304ba555",
   "metadata": {},
   "outputs": [],
   "source": [
    "page = driver.page_source\n",
    "soup = BeautifulSoup(page, 'lxml')\n",
    "soup.title"
   ]
  },
  {
   "cell_type": "code",
   "execution_count": null,
   "id": "6d7c70c3",
   "metadata": {},
   "outputs": [],
   "source": [
    "th = soup.find_all('th')"
   ]
  },
  {
   "cell_type": "code",
   "execution_count": null,
   "id": "e662fb04",
   "metadata": {
    "scrolled": false
   },
   "outputs": [],
   "source": [
    "th"
   ]
  },
  {
   "cell_type": "code",
   "execution_count": null,
   "id": "12e66ecc",
   "metadata": {},
   "outputs": [],
   "source": [
    "### 관측시간 행 xpath 값\n",
    "# //*[@id=\"content_lists\"]/table/tbody/tr[2]/td[1]\n",
    "# //*[@id=\"content_lists\"]/table/tbody/tr[3]/td[1]\n",
    "# ...\n",
    "# //*[@id=\"content_lists\"]/table/tbody/tr[25]/td[1]"
   ]
  },
  {
   "cell_type": "code",
   "execution_count": null,
   "id": "f80d29b3",
   "metadata": {},
   "outputs": [],
   "source": [
    "for i in range(2, 26):\n",
    "    p = f'//*[@id=\"content_lists\"]/table/tbody/tr[{i}]/td[1]'\n",
    "    tmp = driver.find_element_by_xpath(p)\n",
    "    print(tmp.text)"
   ]
  },
  {
   "cell_type": "code",
   "execution_count": null,
   "id": "cc75031f",
   "metadata": {},
   "outputs": [],
   "source": [
    "### 기온 행 xpath 값\n",
    "# //*[@id=\"content_lists\"]/table/tbody/tr[2]/td[2]\n",
    "# //*[@id=\"content_lists\"]/table/tbody/tr[3]/td[2]\n",
    "# ...\n",
    "# //*[@id=\"content_lists\"]/table/tbody/tr[25]/td[2]"
   ]
  },
  {
   "cell_type": "code",
   "execution_count": null,
   "id": "eaa2cc62",
   "metadata": {
    "scrolled": false
   },
   "outputs": [],
   "source": [
    "for i in range(2, 26):\n",
    "    p = f'//*[@id=\"content_lists\"]/table/tbody/tr[{i}]/td[2]'\n",
    "    tmp = driver.find_element_by_xpath(p)\n",
    "    print(tmp.text)"
   ]
  },
  {
   "cell_type": "code",
   "execution_count": 19,
   "id": "5abc8b6f",
   "metadata": {},
   "outputs": [
    {
     "name": "stdout",
     "output_type": "stream",
     "text": [
      "20160611\n"
     ]
    }
   ],
   "source": [
    "y=16\n",
    "m=6\n",
    "d=11\n",
    "print(f\"20{y}{m:0>2}{d:0>2}\")"
   ]
  },
  {
   "cell_type": "code",
   "execution_count": null,
   "id": "9446bf2d",
   "metadata": {},
   "outputs": [],
   "source": [
    "# 2016년 2월 : 29일\n",
    "# 나머지 2월 : 28일\n",
    "\n",
    "# 1,3,5,7,8,10,12 : 31일\n",
    "# 4,6,9,11 : 30일"
   ]
  },
  {
   "cell_type": "code",
   "execution_count": null,
   "id": "b508e9cb",
   "metadata": {},
   "outputs": [],
   "source": [
    "# 2013-2015년\n",
    "# 리스트 길이(날짜, 온도) : 25585, 25584\n",
    "driver = webdriver.Chrome(\"chromedriver_94\")\n",
    "url = \"https://weather.naju.go.kr/agri_meteo/agri_time.html\"\n",
    "driver.get(url)\n",
    "\n",
    "# 관측기간 xpath : //*[@id=\"timed_date\"]\n",
    "# 조회 버튼 xpath : //*[@id=\"contents\"]/ul/li[2]/form/div/ul[2]/li/img\n",
    "search = driver.find_element_by_xpath('//*[@id=\"timed_date\"]')\n",
    "button = driver.find_element_by_xpath('//*[@id=\"contents\"]/ul/li[2]/form/div/ul[2]/li/img')\n",
    "\n",
    "date_list_1315 = []\n",
    "tp_list_1315 = []\n",
    "for y in range(13,16):\n",
    "    for m in range(1, 13):\n",
    "        if m == 2:\n",
    "            for d in range(1, 29):\n",
    "                search = driver.find_element_by_xpath('//*[@id=\"timed_date\"]')\n",
    "                button = driver.find_element_by_xpath('//*[@id=\"contents\"]/ul/li[2]/form/div/ul[2]/li/img')\n",
    "                date = f\"20{y}{m:0>2}{d:0>2}\"\n",
    "                search.click()\n",
    "                search.clear()\n",
    "                search.send_keys(date)\n",
    "                button.click()\n",
    "                time.sleep(0.5)\n",
    "                # 날짜 가져오기\n",
    "                for i in range(2, 26):\n",
    "                    p = f'//*[@id=\"content_lists\"]/table/tbody/tr[{i}]/td[1]'\n",
    "                    try:\n",
    "                        tmp = driver.find_element_by_xpath(p)\n",
    "                        date_list_1315.append(tmp)\n",
    "                    except:\n",
    "                        pass\n",
    "                # 기온 가져오기\n",
    "                for i in range(2, 26):\n",
    "                    p = f'//*[@id=\"content_lists\"]/table/tbody/tr[{i}]/td[2]'\n",
    "                    try:\n",
    "                        tmp = driver.find_element_by_xpath(p)\n",
    "                        tp_list_1315.append(tmp)\n",
    "                    except:\n",
    "                        pass\n",
    "        # 1,3,5,7,8,10,12 : 31일\n",
    "        if m in [1,3,5,7,8,10,12]:\n",
    "            for d in range(1, 32):\n",
    "                search = driver.find_element_by_xpath('//*[@id=\"timed_date\"]')\n",
    "                button = driver.find_element_by_xpath('//*[@id=\"contents\"]/ul/li[2]/form/div/ul[2]/li/img')\n",
    "                date = f\"20{y}{m:0>2}{d:0>2}\"\n",
    "                search.click()\n",
    "                search.clear()\n",
    "                search.send_keys(date)\n",
    "                button.click()\n",
    "                time.sleep(0.5)\n",
    "                # 날짜 가져오기\n",
    "                for i in range(2, 26):\n",
    "                    p = f'//*[@id=\"content_lists\"]/table/tbody/tr[{i}]/td[1]'\n",
    "                    try:\n",
    "                        tmp = driver.find_element_by_xpath(p)\n",
    "                        date_list_1315.append(tmp)\n",
    "                    except:\n",
    "                        pass\n",
    "                # 기온 가져오기\n",
    "                for i in range(2, 26):\n",
    "                    p = f'//*[@id=\"content_lists\"]/table/tbody/tr[{i}]/td[2]'\n",
    "                    try:\n",
    "                        tmp = driver.find_element_by_xpath(p)\n",
    "                        tp_list_1315.append(tmp)\n",
    "                    except:\n",
    "                        pass\n",
    "        # 4,6,9,11 : 30일\n",
    "        if m in [4,6,9,11]:\n",
    "            for d in range(1, 31):\n",
    "                search = driver.find_element_by_xpath('//*[@id=\"timed_date\"]')\n",
    "                button = driver.find_element_by_xpath('//*[@id=\"contents\"]/ul/li[2]/form/div/ul[2]/li/img')\n",
    "                date = f\"20{y}{m:0>2}{d:0>2}\"\n",
    "                search.click()\n",
    "                search.clear()\n",
    "                search.send_keys(date)\n",
    "                button.click()\n",
    "                time.sleep(0.5)\n",
    "                # 날짜 가져오기\n",
    "                for i in range(2, 26):\n",
    "                    p = f'//*[@id=\"content_lists\"]/table/tbody/tr[{i}]/td[1]'\n",
    "                    try:\n",
    "                        tmp = driver.find_element_by_xpath(p)\n",
    "                        date_list_1315.append(tmp)\n",
    "                    except:\n",
    "                        pass\n",
    "                # 기온 가져오기\n",
    "                for i in range(2, 26):\n",
    "                    p = f'//*[@id=\"content_lists\"]/table/tbody/tr[{i}]/td[2]'\n",
    "                    try:\n",
    "                        tmp = driver.find_element_by_xpath(p)\n",
    "                        tp_list_1315.append(tmp)\n",
    "                    except:\n",
    "                        pass\n",
    "\n",
    "print(len(date_list_1315), len(tp_list_1315))"
   ]
  },
  {
   "cell_type": "code",
   "execution_count": 23,
   "id": "0635e7a4",
   "metadata": {},
   "outputs": [],
   "source": [
    "# 한해 시간별 온도 크롤링 함수\n",
    "\n",
    "def year_temp(year):\n",
    "    # chromedriver 로드\n",
    "    driver = webdriver.Chrome(\"chromedriver_94\")\n",
    "    url = \"https://weather.naju.go.kr/agri_meteo/agri_time.html\"\n",
    "    driver.get(url)\n",
    "    time.sleep(1)\n",
    "    # 날짜, 온도 리스트 준비\n",
    "    date_list = []\n",
    "    tp_list = []\n",
    "    # 웹 크롤링\n",
    "    for m in range(1, 13):\n",
    "        if m == 2:\n",
    "            for d in range(1, 29):\n",
    "                search = driver.find_element_by_xpath('//*[@id=\"timed_date\"]')\n",
    "                button = driver.find_element_by_xpath('//*[@id=\"contents\"]/ul/li[2]/form/div/ul[2]/li/img')\n",
    "                date = f\"{year}{m:0>2}{d:0>2}\"\n",
    "                search.click()\n",
    "                search.clear()\n",
    "                search.send_keys(date)\n",
    "                button.click()\n",
    "                time.sleep(0.5)\n",
    "                # 날짜 가져오기\n",
    "                for i in range(2, 26):\n",
    "                    p = f'//*[@id=\"content_lists\"]/table/tbody/tr[{i}]/td[1]'\n",
    "                    try:\n",
    "                        tmp = driver.find_element_by_xpath(p)\n",
    "                        date_list.append(tmp)\n",
    "                    except:\n",
    "                        pass\n",
    "                # 기온 가져오기\n",
    "                for i in range(2, 26):\n",
    "                    p = f'//*[@id=\"content_lists\"]/table/tbody/tr[{i}]/td[2]'\n",
    "                    try:\n",
    "                        tmp = driver.find_element_by_xpath(p)\n",
    "                        tp_list.append(tmp)\n",
    "                    except:\n",
    "                        pass\n",
    "        # 1,3,5,7,8,10,12 : 31일\n",
    "        if m in [1,3,5,7,8,10,12]:\n",
    "            for d in range(1, 32):\n",
    "                search = driver.find_element_by_xpath('//*[@id=\"timed_date\"]')\n",
    "                button = driver.find_element_by_xpath('//*[@id=\"contents\"]/ul/li[2]/form/div/ul[2]/li/img')\n",
    "                date = f\"{year}{m:0>2}{d:0>2}\"\n",
    "                search.click()\n",
    "                search.clear()\n",
    "                search.send_keys(date)\n",
    "                button.click()\n",
    "                time.sleep(0.5)\n",
    "                # 날짜 가져오기\n",
    "                for i in range(2, 26):\n",
    "                    p = f'//*[@id=\"content_lists\"]/table/tbody/tr[{i}]/td[1]'\n",
    "                    try:\n",
    "                        tmp = driver.find_element_by_xpath(p)\n",
    "                        date_list.append(tmp)\n",
    "                    except:\n",
    "                        pass\n",
    "                # 기온 가져오기\n",
    "                for i in range(2, 26):\n",
    "                    p = f'//*[@id=\"content_lists\"]/table/tbody/tr[{i}]/td[2]'\n",
    "                    try:\n",
    "                        tmp = driver.find_element_by_xpath(p)\n",
    "                        tp_list.append(tmp)\n",
    "                    except:\n",
    "                        pass\n",
    "        # 4,6,9,11 : 30일\n",
    "        if m in [4,6,9,11]:\n",
    "            for d in range(1, 31):\n",
    "                search = driver.find_element_by_xpath('//*[@id=\"timed_date\"]')\n",
    "                button = driver.find_element_by_xpath('//*[@id=\"contents\"]/ul/li[2]/form/div/ul[2]/li/img')\n",
    "                date = f\"{year}{m:0>2}{d:0>2}\"\n",
    "                search.click()\n",
    "                search.clear()\n",
    "                search.send_keys(date)\n",
    "                button.click()\n",
    "                time.sleep(0.5)\n",
    "                # 날짜 가져오기\n",
    "                for i in range(2, 26):\n",
    "                    p = f'//*[@id=\"content_lists\"]/table/tbody/tr[{i}]/td[1]'\n",
    "                    try:\n",
    "                        tmp = driver.find_element_by_xpath(p)\n",
    "                        date_list.append(tmp)\n",
    "                    except:\n",
    "                        pass\n",
    "                # 기온 가져오기\n",
    "                for i in range(2, 26):\n",
    "                    p = f'//*[@id=\"content_lists\"]/table/tbody/tr[{i}]/td[2]'\n",
    "                    try:\n",
    "                        tmp = driver.find_element_by_xpath(p)\n",
    "                        tp_list.append(tmp)\n",
    "                    except:\n",
    "                        pass\n",
    "    a = date_list\n",
    "    b = tp_list\n",
    "    print(len(date_list), len(tp_list))\n",
    "    return a, b"
   ]
  },
  {
   "cell_type": "code",
   "execution_count": 27,
   "id": "a5c92bfa",
   "metadata": {},
   "outputs": [
    {
     "name": "stdout",
     "output_type": "stream",
     "text": [
      "8660 8659\n"
     ]
    }
   ],
   "source": [
    "# 2013년\n",
    "date13, temp13 = year_temp(2013)"
   ]
  },
  {
   "cell_type": "markdown",
   "id": "be3273b0",
   "metadata": {},
   "source": [
    "### 2013년 날짜수와 온도 수 맞지 않음.\n",
    "* bs 이용"
   ]
  },
  {
   "cell_type": "code",
   "execution_count": 28,
   "id": "48426063",
   "metadata": {},
   "outputs": [
    {
     "name": "stdout",
     "output_type": "stream",
     "text": [
      "8660 8659\n"
     ]
    }
   ],
   "source": [
    "print(len(date13), len(temp13))"
   ]
  },
  {
   "cell_type": "code",
   "execution_count": 24,
   "id": "32c7dc43",
   "metadata": {},
   "outputs": [],
   "source": [
    "def t(year):\n",
    "    a = f'{year}년도'\n",
    "    b = f'{year+1}년도'\n",
    "    return a, b\n",
    "a, b = t(2020)"
   ]
  },
  {
   "cell_type": "code",
   "execution_count": 25,
   "id": "d198ef98",
   "metadata": {},
   "outputs": [
    {
     "data": {
      "text/plain": [
       "'2021년도'"
      ]
     },
     "execution_count": 25,
     "metadata": {},
     "output_type": "execute_result"
    }
   ],
   "source": [
    "b"
   ]
  },
  {
   "cell_type": "code",
   "execution_count": 26,
   "id": "1802d5dd",
   "metadata": {},
   "outputs": [
    {
     "data": {
      "text/plain": [
       "'2020년도'"
      ]
     },
     "execution_count": 26,
     "metadata": {},
     "output_type": "execute_result"
    }
   ],
   "source": [
    "a"
   ]
  },
  {
   "cell_type": "code",
   "execution_count": 29,
   "id": "8b6e873a",
   "metadata": {},
   "outputs": [
    {
     "name": "stdout",
     "output_type": "stream",
     "text": [
      "Wall time: 0 ns\n",
      "8531 8531\n"
     ]
    }
   ],
   "source": [
    "# 2014년\n",
    "%time\n",
    "date14, temp14 = year_temp(2014)"
   ]
  },
  {
   "cell_type": "markdown",
   "id": "531508df",
   "metadata": {},
   "source": [
    "### bs로 크롤링하기"
   ]
  },
  {
   "cell_type": "code",
   "execution_count": null,
   "id": "5f282a0c",
   "metadata": {},
   "outputs": [],
   "source": [
    "from bs4 import BeautifulSoup"
   ]
  },
  {
   "cell_type": "code",
   "execution_count": 30,
   "id": "d58ec40e",
   "metadata": {},
   "outputs": [],
   "source": [
    "driver = webdriver.Chrome(\"chromedriver_94\")\n",
    "url = \"https://weather.naju.go.kr/agri_meteo/agri_time.html\"\n",
    "driver.get(url)"
   ]
  },
  {
   "cell_type": "code",
   "execution_count": 31,
   "id": "2e9e7a6d",
   "metadata": {},
   "outputs": [],
   "source": [
    "# 관측기간 xpath : //*[@id=\"timed_date\"]\n",
    "# 조회 버튼 xpath : //*[@id=\"contents\"]/ul/li[2]/form/div/ul[2]/li/img\n",
    "search = driver.find_element_by_xpath('//*[@id=\"timed_date\"]')\n",
    "button = driver.find_element_by_xpath('//*[@id=\"contents\"]/ul/li[2]/form/div/ul[2]/li/img')\n",
    "\n",
    "search.click()\n",
    "search.clear()\n",
    "search.send_keys(\"20131001\")\n",
    "button.click()"
   ]
  },
  {
   "cell_type": "code",
   "execution_count": 33,
   "id": "fe839e22",
   "metadata": {},
   "outputs": [
    {
     "data": {
      "text/plain": [
       "<title>:::나주시 농업기상정보시스템:::</title>"
      ]
     },
     "execution_count": 33,
     "metadata": {},
     "output_type": "execute_result"
    }
   ],
   "source": [
    "page = driver.page_source\n",
    "soup = BeautifulSoup(page, 'lxml')\n",
    "soup.title"
   ]
  },
  {
   "cell_type": "code",
   "execution_count": 68,
   "id": "06bdcb28",
   "metadata": {},
   "outputs": [],
   "source": [
    "th = soup.find_all('th')"
   ]
  },
  {
   "cell_type": "code",
   "execution_count": 69,
   "id": "dc134adc",
   "metadata": {},
   "outputs": [
    {
     "name": "stdout",
     "output_type": "stream",
     "text": [
      "관측시간(년-월-일 시:분)\n",
      "기온(℃)\n",
      "습도(%)\n",
      "풍향\n",
      "\n",
      "\n",
      "풍속(km/h)\n",
      "풍속(m/s)\n",
      "\n",
      "\n",
      "기압(hPa)\n",
      "강수량(mm)\n",
      "이슬유무\n",
      "일사량(W/㎡)\n",
      "지중온도(%)\n",
      "초상온도(℃)\n",
      "토양수분(%)\n",
      "관측시간(년-월-일 시:분)\n",
      "기온(℃)\n",
      "습도(%)\n",
      "풍향\n",
      "풍속(m/s)\n",
      "기압(hPa)\n",
      "강수량(mm)\n",
      "이슬유무\n",
      "일사량(W/㎡)\n",
      "지중온도(%)\n",
      "초상온도(℃)\n",
      "토양수분(%)\n"
     ]
    }
   ],
   "source": [
    "for one in th:\n",
    "    print(one.text)"
   ]
  },
  {
   "cell_type": "code",
   "execution_count": 70,
   "id": "bb88e15a",
   "metadata": {},
   "outputs": [],
   "source": [
    "td = soup.find_all('td')"
   ]
  },
  {
   "cell_type": "code",
   "execution_count": 71,
   "id": "97f3d0e9",
   "metadata": {},
   "outputs": [
    {
     "data": {
      "text/plain": [
       "600"
      ]
     },
     "execution_count": 71,
     "metadata": {},
     "output_type": "execute_result"
    }
   ],
   "source": [
    "len(td)"
   ]
  },
  {
   "cell_type": "code",
   "execution_count": 72,
   "id": "4948e22d",
   "metadata": {},
   "outputs": [
    {
     "data": {
      "text/plain": [
       "46.15384615384615"
      ]
     },
     "execution_count": 72,
     "metadata": {},
     "output_type": "execute_result"
    }
   ],
   "source": [
    "len(td)/13"
   ]
  },
  {
   "cell_type": "code",
   "execution_count": 83,
   "id": "54e23af2",
   "metadata": {},
   "outputs": [
    {
     "data": {
      "text/plain": [
       "46"
      ]
     },
     "execution_count": 83,
     "metadata": {},
     "output_type": "execute_result"
    }
   ],
   "source": [
    "int(len(td)/13)"
   ]
  },
  {
   "cell_type": "code",
   "execution_count": 73,
   "id": "c899426b",
   "metadata": {},
   "outputs": [
    {
     "data": {
      "text/plain": [
       "<td>21.7</td>"
      ]
     },
     "execution_count": 73,
     "metadata": {},
     "output_type": "execute_result"
    }
   ],
   "source": [
    "td[597]"
   ]
  },
  {
   "cell_type": "code",
   "execution_count": 74,
   "id": "a1310014",
   "metadata": {},
   "outputs": [
    {
     "data": {
      "text/plain": [
       "[<td>2013-10-02 00:00</td>, <td>19.8</td>]"
      ]
     },
     "execution_count": 74,
     "metadata": {},
     "output_type": "execute_result"
    }
   ],
   "source": [
    "td[0:2]"
   ]
  },
  {
   "cell_type": "code",
   "execution_count": 75,
   "id": "d89687be",
   "metadata": {},
   "outputs": [
    {
     "data": {
      "text/plain": [
       "[<td>2013-10-01 23:00</td>, <td>20.0</td>]"
      ]
     },
     "execution_count": 75,
     "metadata": {},
     "output_type": "execute_result"
    }
   ],
   "source": [
    "td[13:15]"
   ]
  },
  {
   "cell_type": "code",
   "execution_count": 76,
   "id": "df36df42",
   "metadata": {
    "scrolled": false
   },
   "outputs": [
    {
     "name": "stdout",
     "output_type": "stream",
     "text": [
      "2013-10-02 00:00\n",
      "2013-10-01 23:00\n",
      "2013-10-01 22:00\n",
      "2013-10-01 21:00\n",
      "2013-10-01 20:00\n",
      "2013-10-01 19:00\n",
      "2013-10-01 18:00\n",
      "2013-10-01 17:00\n",
      "2013-10-01 16:00\n",
      "2013-10-01 15:00\n",
      "2013-10-01 14:00\n",
      "2013-10-01 13:00\n",
      "2013-10-01 12:00\n",
      "2013-10-01 11:00\n",
      "2013-10-01 10:00\n",
      "2013-10-01 09:00\n",
      "2013-10-01 08:00\n",
      "2013-10-01 07:00\n",
      "2013-10-01 06:00\n",
      "2013-10-01 05:00\n",
      "2013-10-01 04:00\n",
      "2013-10-01 03:00\n",
      "2013-10-01 02:00\n",
      "2013-10-01 01:00\n",
      "2013-10-02 00:00\n",
      "20.0\n",
      "91.0\n",
      "서\n",
      "0.5\n",
      "-\n",
      "3.0\n",
      "\n",
      "-\n",
      "22.8\n",
      "33.1\n",
      "33.0\n",
      "2013-10-01 11:00\n",
      "21.1\n",
      "90.1\n",
      "북북서\n",
      "0.0\n",
      "-\n",
      "0.0\n",
      "\n",
      "-\n",
      "21.5\n",
      "17.5\n"
     ]
    }
   ],
   "source": [
    "for i in range(47):\n",
    "    print(td[i*13].text)"
   ]
  },
  {
   "cell_type": "code",
   "execution_count": null,
   "id": "56cb1979",
   "metadata": {},
   "outputs": [],
   "source": []
  },
  {
   "cell_type": "code",
   "execution_count": 77,
   "id": "07a90910",
   "metadata": {
    "scrolled": false
   },
   "outputs": [
    {
     "name": "stdout",
     "output_type": "stream",
     "text": [
      "2013-10-02 00:00\n",
      "2013-10-01 23:00\n",
      "2013-10-01 22:00\n",
      "2013-10-01 21:00\n",
      "2013-10-01 20:00\n",
      "2013-10-01 19:00\n",
      "2013-10-01 18:00\n",
      "2013-10-01 17:00\n",
      "2013-10-01 16:00\n",
      "2013-10-01 15:00\n",
      "2013-10-01 14:00\n",
      "2013-10-01 13:00\n",
      "2013-10-01 12:00\n",
      "2013-10-01 11:00\n",
      "2013-10-01 10:00\n",
      "2013-10-01 09:00\n",
      "2013-10-01 08:00\n",
      "2013-10-01 07:00\n",
      "2013-10-01 06:00\n",
      "2013-10-01 05:00\n",
      "2013-10-01 04:00\n",
      "2013-10-01 03:00\n",
      "2013-10-01 02:00\n",
      "2013-10-01 01:00\n",
      "2013-10-02 00:00\n",
      "2013-10-01 11:00\n"
     ]
    }
   ],
   "source": [
    "for i in range(47):\n",
    "    if len(td[i*13].text) == 16:\n",
    "        print(td[i*13].text)"
   ]
  },
  {
   "cell_type": "code",
   "execution_count": 78,
   "id": "a5817e9a",
   "metadata": {},
   "outputs": [
    {
     "data": {
      "text/plain": [
       "['2013-10-01 03:00',\n",
       " '2013-10-01 05:00',\n",
       " '2013-10-02 00:00',\n",
       " '2013-10-01 01:00',\n",
       " '2013-10-01 14:00',\n",
       " '2013-10-01 06:00',\n",
       " '2013-10-01 23:00',\n",
       " '2013-10-01 17:00',\n",
       " '2013-10-01 10:00',\n",
       " '2013-10-01 09:00',\n",
       " '2013-10-01 16:00',\n",
       " '2013-10-01 07:00',\n",
       " '2013-10-01 04:00',\n",
       " '2013-10-01 08:00',\n",
       " '2013-10-01 02:00',\n",
       " '2013-10-01 13:00',\n",
       " '2013-10-01 19:00',\n",
       " '2013-10-01 21:00',\n",
       " '2013-10-01 15:00',\n",
       " '2013-10-01 18:00',\n",
       " '2013-10-01 11:00',\n",
       " '2013-10-01 12:00',\n",
       " '2013-10-01 22:00',\n",
       " '2013-10-01 20:00']"
      ]
     },
     "execution_count": 78,
     "metadata": {},
     "output_type": "execute_result"
    }
   ],
   "source": [
    "test_date_list = []\n",
    "for i in range(47):\n",
    "    if len(td[i*13].text) == 16:\n",
    "        test_date_list.append(td[i*13].text)\n",
    "        test_date_list = set(test_date_list)\n",
    "        test_date_list = list(test_date_list)\n",
    "test_date_list"
   ]
  },
  {
   "cell_type": "code",
   "execution_count": 79,
   "id": "5ede1b90",
   "metadata": {},
   "outputs": [
    {
     "data": {
      "text/plain": [
       "24"
      ]
     },
     "execution_count": 79,
     "metadata": {},
     "output_type": "execute_result"
    }
   ],
   "source": [
    "len(test_date_list)"
   ]
  },
  {
   "cell_type": "code",
   "execution_count": 80,
   "id": "eb4703af",
   "metadata": {},
   "outputs": [],
   "source": [
    "test_date_list.sort()"
   ]
  },
  {
   "cell_type": "code",
   "execution_count": 81,
   "id": "85acd955",
   "metadata": {
    "scrolled": false
   },
   "outputs": [
    {
     "data": {
      "text/plain": [
       "['2013-10-01 01:00',\n",
       " '2013-10-01 02:00',\n",
       " '2013-10-01 03:00',\n",
       " '2013-10-01 04:00',\n",
       " '2013-10-01 05:00',\n",
       " '2013-10-01 06:00',\n",
       " '2013-10-01 07:00',\n",
       " '2013-10-01 08:00',\n",
       " '2013-10-01 09:00',\n",
       " '2013-10-01 10:00',\n",
       " '2013-10-01 11:00',\n",
       " '2013-10-01 12:00',\n",
       " '2013-10-01 13:00',\n",
       " '2013-10-01 14:00',\n",
       " '2013-10-01 15:00',\n",
       " '2013-10-01 16:00',\n",
       " '2013-10-01 17:00',\n",
       " '2013-10-01 18:00',\n",
       " '2013-10-01 19:00',\n",
       " '2013-10-01 20:00',\n",
       " '2013-10-01 21:00',\n",
       " '2013-10-01 22:00',\n",
       " '2013-10-01 23:00',\n",
       " '2013-10-02 00:00']"
      ]
     },
     "execution_count": 81,
     "metadata": {},
     "output_type": "execute_result"
    }
   ],
   "source": [
    "test_date_list"
   ]
  },
  {
   "cell_type": "code",
   "execution_count": 82,
   "id": "433c3613",
   "metadata": {
    "scrolled": false
   },
   "outputs": [
    {
     "data": {
      "text/plain": [
       "['2013-10-01 01:00',\n",
       " '2013-10-01 02:00',\n",
       " '2013-10-01 03:00',\n",
       " '2013-10-01 04:00',\n",
       " '2013-10-01 05:00',\n",
       " '2013-10-01 06:00',\n",
       " '2013-10-01 07:00',\n",
       " '2013-10-01 08:00',\n",
       " '2013-10-01 09:00',\n",
       " '2013-10-01 10:00',\n",
       " '2013-10-01 11:00',\n",
       " '2013-10-01 12:00',\n",
       " '2013-10-01 13:00',\n",
       " '2013-10-01 14:00',\n",
       " '2013-10-01 15:00',\n",
       " '2013-10-01 16:00',\n",
       " '2013-10-01 17:00',\n",
       " '2013-10-01 18:00',\n",
       " '2013-10-01 19:00',\n",
       " '2013-10-01 20:00',\n",
       " '2013-10-01 21:00',\n",
       " '2013-10-01 22:00',\n",
       " '2013-10-01 23:00',\n",
       " '2013-10-01 24:00']"
      ]
     },
     "execution_count": 82,
     "metadata": {},
     "output_type": "execute_result"
    }
   ],
   "source": [
    "a = test_date_list.index(\"2013-10-02 00:00\")\n",
    "test_date_list[a] = \"2013-10-01 24:00\"\n",
    "test_date_list"
   ]
  },
  {
   "cell_type": "code",
   "execution_count": 86,
   "id": "d11ca8bc",
   "metadata": {},
   "outputs": [
    {
     "name": "stdout",
     "output_type": "stream",
     "text": [
      "19.8\n",
      "20.0\n",
      "20.0\n",
      "20.6\n",
      "21.0\n",
      "21.5\n",
      "22.0\n",
      "23.8\n",
      "26.1\n",
      "29.3\n",
      "30.4\n",
      "29.0\n",
      "28.1\n",
      "25.5\n",
      "21.1\n",
      "19.4\n",
      "18.7\n",
      "17.8\n",
      "17.1\n",
      "16.2\n",
      "16.3\n",
      "16.7\n",
      "17.1\n",
      "17.5\n",
      "19.8\n",
      "90.2\n",
      "북북서\n",
      "0.1\n",
      "3.0\n",
      "23.3\n",
      "31.5\n",
      "33.0\n",
      "25.5\n",
      "86.2\n",
      "0.0\n",
      "0.0\n",
      "21.3\n",
      "17.0\n",
      "33.2\n"
     ]
    }
   ],
   "source": [
    "for i in range(47):\n",
    "    j = i*13 +1\n",
    "    if len(td[j].text) == 3 or len(td[j].text) == 4 or len(td[j].text) == 5:\n",
    "        print(td[j].text)"
   ]
  },
  {
   "cell_type": "code",
   "execution_count": 88,
   "id": "ae5dba27",
   "metadata": {},
   "outputs": [
    {
     "data": {
      "text/plain": [
       "['19.8',\n",
       " '20.0',\n",
       " '20.0',\n",
       " '20.6',\n",
       " '21.0',\n",
       " '21.5',\n",
       " '22.0',\n",
       " '23.8',\n",
       " '26.1',\n",
       " '29.3',\n",
       " '30.4',\n",
       " '29.0',\n",
       " '28.1',\n",
       " '25.5',\n",
       " '21.1',\n",
       " '19.4',\n",
       " '18.7',\n",
       " '17.8',\n",
       " '17.1',\n",
       " '16.2',\n",
       " '16.3',\n",
       " '16.7',\n",
       " '17.1',\n",
       " '17.5']"
      ]
     },
     "execution_count": 88,
     "metadata": {},
     "output_type": "execute_result"
    }
   ],
   "source": [
    "test_tp_list = []\n",
    "for i in range(len(test_date_list)):\n",
    "    j = i * 13 + 1\n",
    "    if len(td[j].text) == 3 or len(td[j].text) == 4 or len(td[j].text) == 5:\n",
    "        test_tp_list.append(td[j].text)\n",
    "test_tp_list"
   ]
  },
  {
   "cell_type": "code",
   "execution_count": 89,
   "id": "7e230fed",
   "metadata": {},
   "outputs": [
    {
     "data": {
      "text/plain": [
       "24"
      ]
     },
     "execution_count": 89,
     "metadata": {},
     "output_type": "execute_result"
    }
   ],
   "source": [
    "len(test_tp_list)"
   ]
  },
  {
   "cell_type": "code",
   "execution_count": 91,
   "id": "d71855cb",
   "metadata": {},
   "outputs": [
    {
     "name": "stdout",
     "output_type": "stream",
     "text": [
      "23\n",
      "22\n",
      "21\n",
      "20\n",
      "19\n",
      "18\n",
      "17\n",
      "16\n",
      "15\n",
      "14\n",
      "13\n",
      "12\n",
      "11\n",
      "10\n",
      "9\n",
      "8\n",
      "7\n",
      "6\n",
      "5\n",
      "4\n",
      "3\n",
      "2\n",
      "1\n",
      "0\n"
     ]
    }
   ],
   "source": [
    "for i in range(23,-1,-1):\n",
    "    print(i)"
   ]
  },
  {
   "cell_type": "code",
   "execution_count": 93,
   "id": "f08a5134",
   "metadata": {
    "scrolled": false
   },
   "outputs": [
    {
     "data": {
      "text/plain": [
       "['17.5',\n",
       " '17.1',\n",
       " '16.7',\n",
       " '16.3',\n",
       " '16.2',\n",
       " '17.1',\n",
       " '17.8',\n",
       " '18.7',\n",
       " '19.4',\n",
       " '21.1',\n",
       " '25.5',\n",
       " '28.1',\n",
       " '29.0',\n",
       " '30.4',\n",
       " '29.3',\n",
       " '26.1',\n",
       " '23.8',\n",
       " '22.0',\n",
       " '21.5',\n",
       " '21.0',\n",
       " '20.6',\n",
       " '20.0',\n",
       " '20.0',\n",
       " '19.8']"
      ]
     },
     "execution_count": 93,
     "metadata": {},
     "output_type": "execute_result"
    }
   ],
   "source": [
    "new_test_tp_list = []\n",
    "for i in range(23,-1,-1):\n",
    "    tmp = test_tp_list[i]\n",
    "    new_test_tp_list.append(tmp)\n",
    "new_test_tp_list"
   ]
  },
  {
   "cell_type": "code",
   "execution_count": 138,
   "id": "61a8292e",
   "metadata": {},
   "outputs": [],
   "source": [
    "# webdriver로 페이지 접속\n",
    "driver = webdriver.Chrome(\"chromedriver_94\")\n",
    "url = \"https://weather.naju.go.kr/agri_meteo/agri_time.html\"\n",
    "driver.get(url)\n",
    "time.sleep(1)\n",
    "search = driver.find_element_by_xpath('//*[@id=\"timed_date\"]')\n",
    "button = driver.find_element_by_xpath('//*[@id=\"contents\"]/ul/li[2]/form/div/ul[2]/li/img')\n",
    "# 입력창 클릭 후 내용 지우고 입력하기\n",
    "search.click()\n",
    "search.clear()\n",
    "search.send_keys(\"20130309\")\n",
    "button.click()\n",
    "time.sleep(0.5)\n",
    "# bs에 담기\n",
    "page = driver.page_source\n",
    "soup = BeautifulSoup(page, 'lxml')\n",
    "td = soup.find_all('td')"
   ]
  },
  {
   "cell_type": "code",
   "execution_count": 139,
   "id": "ab86aed7",
   "metadata": {},
   "outputs": [
    {
     "data": {
      "text/plain": [
       "[<td>2013-03-10 00:00</td>,\n",
       " <td>12.9</td>,\n",
       " <td>73.8</td>,\n",
       " <td>서북서</td>,\n",
       " <td class=\"m\" style=\"display: none;\">3.8</td>,\n",
       " <td class=\"km\" style=\"display: table-cell;\">13.7</td>]"
      ]
     },
     "execution_count": 139,
     "metadata": {},
     "output_type": "execute_result"
    }
   ],
   "source": [
    "td[:6]"
   ]
  },
  {
   "cell_type": "code",
   "execution_count": 140,
   "id": "02b40943",
   "metadata": {
    "scrolled": false
   },
   "outputs": [
    {
     "data": {
      "text/plain": [
       "['2013-03-09 01:00',\n",
       " '2013-03-09 02:00',\n",
       " '2013-03-09 03:00',\n",
       " '2013-03-09 04:00',\n",
       " '2013-03-09 05:00',\n",
       " '2013-03-09 06:00',\n",
       " '2013-03-09 07:00',\n",
       " '2013-03-09 08:00',\n",
       " '2013-03-09 09:00',\n",
       " '2013-03-09 10:00',\n",
       " '2013-03-09 11:00',\n",
       " '2013-03-09 12:00',\n",
       " '2013-03-09 13:00',\n",
       " '2013-03-09 14:00',\n",
       " '2013-03-09 15:00',\n",
       " '2013-03-09 16:00',\n",
       " '2013-03-09 17:00',\n",
       " '2013-03-09 18:00',\n",
       " '2013-03-09 19:00',\n",
       " '2013-03-09 20:00',\n",
       " '2013-03-09 21:00',\n",
       " '2013-03-09 22:00',\n",
       " '2013-03-09 23:00',\n",
       " '2013-03-10 00:00']"
      ]
     },
     "execution_count": 140,
     "metadata": {},
     "output_type": "execute_result"
    }
   ],
   "source": [
    "num = int(len(td)/13)\n",
    "date_list = []\n",
    "for i in range(num):\n",
    "    if len(td[i*13].text) == 16:\n",
    "        date_list.append(td[i*13].text)\n",
    "        date_list = set(date_list)\n",
    "        date_list = list(date_list)\n",
    "# 날짜 순서 정렬 및 24시날짜 하루 당기기\n",
    "# 각 달 마지막 날짜 처리 문제\n",
    "date_list.sort()\n",
    "e = d+1\n",
    "n = m+1\n",
    "if f\"2013-{m:0>2}-{e:0>2} 00:00\" in date_list:\n",
    "    a = date_list.index(f\"2013-{m:0>2}-{e:0>2} 00:00\")\n",
    "    date_list[a] = f\"2013-{m:0>2}-{d:0>2} 24:00\"\n",
    "if f\"2013-{n:0>2}-01 00:00\" in date_list:\n",
    "    a = date_list.index(f\"2013-{n:0>2}-01 00:00\")\n",
    "    date_list[a] = f\"2013-{m:0>2}-{d:0>2} 24:00\"\n",
    "length = len(date_list)\n",
    "date_list"
   ]
  },
  {
   "cell_type": "code",
   "execution_count": 141,
   "id": "547b3cca",
   "metadata": {},
   "outputs": [],
   "source": [
    "from numpy import nan"
   ]
  },
  {
   "cell_type": "code",
   "execution_count": 143,
   "id": "3a33a3b9",
   "metadata": {},
   "outputs": [
    {
     "data": {
      "text/plain": [
       "12.5"
      ]
     },
     "execution_count": 143,
     "metadata": {},
     "output_type": "execute_result"
    }
   ],
   "source": [
    "float('12.5')"
   ]
  },
  {
   "cell_type": "code",
   "execution_count": 142,
   "id": "d894a235",
   "metadata": {},
   "outputs": [
    {
     "ename": "ValueError",
     "evalue": "could not convert string to float: '-'",
     "output_type": "error",
     "traceback": [
      "\u001b[1;31m---------------------------------------------------------------------------\u001b[0m",
      "\u001b[1;31mValueError\u001b[0m                                Traceback (most recent call last)",
      "\u001b[1;32m<ipython-input-142-799f0218fb58>\u001b[0m in \u001b[0;36m<module>\u001b[1;34m\u001b[0m\n\u001b[0;32m      7\u001b[0m         \u001b[0mtp_list\u001b[0m\u001b[1;33m.\u001b[0m\u001b[0mappend\u001b[0m\u001b[1;33m(\u001b[0m\u001b[0mnan\u001b[0m\u001b[1;33m)\u001b[0m\u001b[1;33m\u001b[0m\u001b[1;33m\u001b[0m\u001b[0m\n\u001b[0;32m      8\u001b[0m     \u001b[1;32melse\u001b[0m\u001b[1;33m:\u001b[0m\u001b[1;33m\u001b[0m\u001b[1;33m\u001b[0m\u001b[0m\n\u001b[1;32m----> 9\u001b[1;33m         \u001b[0mtp_list\u001b[0m\u001b[1;33m.\u001b[0m\u001b[0mappend\u001b[0m\u001b[1;33m(\u001b[0m\u001b[0mfloat\u001b[0m\u001b[1;33m(\u001b[0m\u001b[0mtd\u001b[0m\u001b[1;33m[\u001b[0m\u001b[0mj\u001b[0m\u001b[1;33m]\u001b[0m\u001b[1;33m.\u001b[0m\u001b[0mtext\u001b[0m\u001b[1;33m)\u001b[0m\u001b[1;33m)\u001b[0m\u001b[1;33m\u001b[0m\u001b[1;33m\u001b[0m\u001b[0m\n\u001b[0m\u001b[0;32m     10\u001b[0m \u001b[0mtp_list\u001b[0m\u001b[1;33m\u001b[0m\u001b[1;33m\u001b[0m\u001b[0m\n",
      "\u001b[1;31mValueError\u001b[0m: could not convert string to float: '-'"
     ]
    }
   ],
   "source": [
    "# 온도 기록\n",
    "# 날짜 만큼만 온도 가져오기\n",
    "tp_list = []\n",
    "for i in range(length):\n",
    "    j = i * 13 + 1\n",
    "    if td[j] == nan:\n",
    "        tp_list.append(nan)\n",
    "    else:\n",
    "        tp_list.append(td[j].text)\n",
    "tp_list"
   ]
  },
  {
   "cell_type": "code",
   "execution_count": 127,
   "id": "bdb14b0e",
   "metadata": {},
   "outputs": [
    {
     "data": {
      "text/plain": [
       "24"
      ]
     },
     "execution_count": 127,
     "metadata": {},
     "output_type": "execute_result"
    }
   ],
   "source": [
    "len(tp_list)"
   ]
  },
  {
   "cell_type": "code",
   "execution_count": 129,
   "id": "84216f3e",
   "metadata": {},
   "outputs": [
    {
     "name": "stdout",
     "output_type": "stream",
     "text": [
      "yes\n"
     ]
    }
   ],
   "source": [
    "if '-' in tp_list:\n",
    "    print(\"yes\")"
   ]
  },
  {
   "cell_type": "code",
   "execution_count": 130,
   "id": "84a94ad4",
   "metadata": {
    "scrolled": false
   },
   "outputs": [
    {
     "data": {
      "text/html": [
       "<div>\n",
       "<style scoped>\n",
       "    .dataframe tbody tr th:only-of-type {\n",
       "        vertical-align: middle;\n",
       "    }\n",
       "\n",
       "    .dataframe tbody tr th {\n",
       "        vertical-align: top;\n",
       "    }\n",
       "\n",
       "    .dataframe thead th {\n",
       "        text-align: right;\n",
       "    }\n",
       "</style>\n",
       "<table border=\"1\" class=\"dataframe\">\n",
       "  <thead>\n",
       "    <tr style=\"text-align: right;\">\n",
       "      <th></th>\n",
       "      <th>연-월-일 시간</th>\n",
       "      <th>기온</th>\n",
       "    </tr>\n",
       "  </thead>\n",
       "  <tbody>\n",
       "    <tr>\n",
       "      <th>0</th>\n",
       "      <td>2013-03-09 01:00</td>\n",
       "      <td>12.9</td>\n",
       "    </tr>\n",
       "    <tr>\n",
       "      <th>1</th>\n",
       "      <td>2013-03-09 02:00</td>\n",
       "      <td>13.7</td>\n",
       "    </tr>\n",
       "    <tr>\n",
       "      <th>2</th>\n",
       "      <td>2013-03-09 03:00</td>\n",
       "      <td>15.5</td>\n",
       "    </tr>\n",
       "    <tr>\n",
       "      <th>3</th>\n",
       "      <td>2013-03-09 04:00</td>\n",
       "      <td>14.8</td>\n",
       "    </tr>\n",
       "    <tr>\n",
       "      <th>4</th>\n",
       "      <td>2013-03-09 05:00</td>\n",
       "      <td>16.1</td>\n",
       "    </tr>\n",
       "    <tr>\n",
       "      <th>5</th>\n",
       "      <td>2013-03-09 06:00</td>\n",
       "      <td>16.7</td>\n",
       "    </tr>\n",
       "    <tr>\n",
       "      <th>6</th>\n",
       "      <td>2013-03-09 07:00</td>\n",
       "      <td>19.1</td>\n",
       "    </tr>\n",
       "    <tr>\n",
       "      <th>7</th>\n",
       "      <td>2013-03-09 08:00</td>\n",
       "      <td>21.4</td>\n",
       "    </tr>\n",
       "    <tr>\n",
       "      <th>8</th>\n",
       "      <td>2013-03-09 09:00</td>\n",
       "      <td>22.9</td>\n",
       "    </tr>\n",
       "    <tr>\n",
       "      <th>9</th>\n",
       "      <td>2013-03-09 10:00</td>\n",
       "      <td>24.2</td>\n",
       "    </tr>\n",
       "    <tr>\n",
       "      <th>10</th>\n",
       "      <td>2013-03-09 11:00</td>\n",
       "      <td>-</td>\n",
       "    </tr>\n",
       "    <tr>\n",
       "      <th>11</th>\n",
       "      <td>2013-03-09 12:00</td>\n",
       "      <td>-</td>\n",
       "    </tr>\n",
       "    <tr>\n",
       "      <th>12</th>\n",
       "      <td>2013-03-09 13:00</td>\n",
       "      <td>20.8</td>\n",
       "    </tr>\n",
       "    <tr>\n",
       "      <th>13</th>\n",
       "      <td>2013-03-09 14:00</td>\n",
       "      <td>16.2</td>\n",
       "    </tr>\n",
       "    <tr>\n",
       "      <th>14</th>\n",
       "      <td>2013-03-09 15:00</td>\n",
       "      <td>9.8</td>\n",
       "    </tr>\n",
       "    <tr>\n",
       "      <th>15</th>\n",
       "      <td>2013-03-09 16:00</td>\n",
       "      <td>3.9</td>\n",
       "    </tr>\n",
       "    <tr>\n",
       "      <th>16</th>\n",
       "      <td>2013-03-09 17:00</td>\n",
       "      <td>0.6</td>\n",
       "    </tr>\n",
       "    <tr>\n",
       "      <th>17</th>\n",
       "      <td>2013-03-09 18:00</td>\n",
       "      <td>0.5</td>\n",
       "    </tr>\n",
       "    <tr>\n",
       "      <th>18</th>\n",
       "      <td>2013-03-09 19:00</td>\n",
       "      <td>0.8</td>\n",
       "    </tr>\n",
       "    <tr>\n",
       "      <th>19</th>\n",
       "      <td>2013-03-09 20:00</td>\n",
       "      <td>1.4</td>\n",
       "    </tr>\n",
       "    <tr>\n",
       "      <th>20</th>\n",
       "      <td>2013-03-09 21:00</td>\n",
       "      <td>1.1</td>\n",
       "    </tr>\n",
       "    <tr>\n",
       "      <th>21</th>\n",
       "      <td>2013-03-09 22:00</td>\n",
       "      <td>0.7</td>\n",
       "    </tr>\n",
       "    <tr>\n",
       "      <th>22</th>\n",
       "      <td>2013-03-09 23:00</td>\n",
       "      <td>1.5</td>\n",
       "    </tr>\n",
       "    <tr>\n",
       "      <th>23</th>\n",
       "      <td>2013-03-10 00:00</td>\n",
       "      <td>1.7</td>\n",
       "    </tr>\n",
       "  </tbody>\n",
       "</table>\n",
       "</div>"
      ],
      "text/plain": [
       "            연-월-일 시간    기온\n",
       "0   2013-03-09 01:00  12.9\n",
       "1   2013-03-09 02:00  13.7\n",
       "2   2013-03-09 03:00  15.5\n",
       "3   2013-03-09 04:00  14.8\n",
       "4   2013-03-09 05:00  16.1\n",
       "5   2013-03-09 06:00  16.7\n",
       "6   2013-03-09 07:00  19.1\n",
       "7   2013-03-09 08:00  21.4\n",
       "8   2013-03-09 09:00  22.9\n",
       "9   2013-03-09 10:00  24.2\n",
       "10  2013-03-09 11:00     -\n",
       "11  2013-03-09 12:00     -\n",
       "12  2013-03-09 13:00  20.8\n",
       "13  2013-03-09 14:00  16.2\n",
       "14  2013-03-09 15:00   9.8\n",
       "15  2013-03-09 16:00   3.9\n",
       "16  2013-03-09 17:00   0.6\n",
       "17  2013-03-09 18:00   0.5\n",
       "18  2013-03-09 19:00   0.8\n",
       "19  2013-03-09 20:00   1.4\n",
       "20  2013-03-09 21:00   1.1\n",
       "21  2013-03-09 22:00   0.7\n",
       "22  2013-03-09 23:00   1.5\n",
       "23  2013-03-10 00:00   1.7"
      ]
     },
     "execution_count": 130,
     "metadata": {},
     "output_type": "execute_result"
    }
   ],
   "source": [
    "test_sr = pd.DataFrame({\"연-월-일 시간\":date_list,\"기온\":tp_list})\n",
    "test_sr"
   ]
  },
  {
   "cell_type": "code",
   "execution_count": 131,
   "id": "f6e90c92",
   "metadata": {
    "scrolled": true
   },
   "outputs": [
    {
     "name": "stdout",
     "output_type": "stream",
     "text": [
      "<class 'pandas.core.frame.DataFrame'>\n",
      "RangeIndex: 24 entries, 0 to 23\n",
      "Data columns (total 2 columns):\n",
      " #   Column    Non-Null Count  Dtype \n",
      "---  ------    --------------  ----- \n",
      " 0   연-월-일 시간  24 non-null     object\n",
      " 1   기온        24 non-null     object\n",
      "dtypes: object(2)\n",
      "memory usage: 512.0+ bytes\n"
     ]
    }
   ],
   "source": [
    "test_sr.info()"
   ]
  },
  {
   "cell_type": "code",
   "execution_count": 135,
   "id": "629443fb",
   "metadata": {},
   "outputs": [
    {
     "data": {
      "text/plain": [
       "10    -\n",
       "11    -\n",
       "Name: 기온, dtype: object"
      ]
     },
     "execution_count": 135,
     "metadata": {},
     "output_type": "execute_result"
    }
   ],
   "source": [
    "test_sr.loc[test_sr['기온']=='-','기온']"
   ]
  },
  {
   "cell_type": "code",
   "execution_count": 136,
   "id": "6d073355",
   "metadata": {
    "scrolled": true
   },
   "outputs": [
    {
     "data": {
      "text/html": [
       "<div>\n",
       "<style scoped>\n",
       "    .dataframe tbody tr th:only-of-type {\n",
       "        vertical-align: middle;\n",
       "    }\n",
       "\n",
       "    .dataframe tbody tr th {\n",
       "        vertical-align: top;\n",
       "    }\n",
       "\n",
       "    .dataframe thead th {\n",
       "        text-align: right;\n",
       "    }\n",
       "</style>\n",
       "<table border=\"1\" class=\"dataframe\">\n",
       "  <thead>\n",
       "    <tr style=\"text-align: right;\">\n",
       "      <th></th>\n",
       "      <th>연-월-일 시간</th>\n",
       "      <th>기온</th>\n",
       "    </tr>\n",
       "  </thead>\n",
       "  <tbody>\n",
       "    <tr>\n",
       "      <th>0</th>\n",
       "      <td>2013-03-09 01:00</td>\n",
       "      <td>12.9</td>\n",
       "    </tr>\n",
       "    <tr>\n",
       "      <th>1</th>\n",
       "      <td>2013-03-09 02:00</td>\n",
       "      <td>13.7</td>\n",
       "    </tr>\n",
       "    <tr>\n",
       "      <th>2</th>\n",
       "      <td>2013-03-09 03:00</td>\n",
       "      <td>15.5</td>\n",
       "    </tr>\n",
       "    <tr>\n",
       "      <th>3</th>\n",
       "      <td>2013-03-09 04:00</td>\n",
       "      <td>14.8</td>\n",
       "    </tr>\n",
       "    <tr>\n",
       "      <th>4</th>\n",
       "      <td>2013-03-09 05:00</td>\n",
       "      <td>16.1</td>\n",
       "    </tr>\n",
       "    <tr>\n",
       "      <th>5</th>\n",
       "      <td>2013-03-09 06:00</td>\n",
       "      <td>16.7</td>\n",
       "    </tr>\n",
       "    <tr>\n",
       "      <th>6</th>\n",
       "      <td>2013-03-09 07:00</td>\n",
       "      <td>19.1</td>\n",
       "    </tr>\n",
       "    <tr>\n",
       "      <th>7</th>\n",
       "      <td>2013-03-09 08:00</td>\n",
       "      <td>21.4</td>\n",
       "    </tr>\n",
       "    <tr>\n",
       "      <th>8</th>\n",
       "      <td>2013-03-09 09:00</td>\n",
       "      <td>22.9</td>\n",
       "    </tr>\n",
       "    <tr>\n",
       "      <th>9</th>\n",
       "      <td>2013-03-09 10:00</td>\n",
       "      <td>24.2</td>\n",
       "    </tr>\n",
       "    <tr>\n",
       "      <th>10</th>\n",
       "      <td>2013-03-09 11:00</td>\n",
       "      <td>NaN</td>\n",
       "    </tr>\n",
       "    <tr>\n",
       "      <th>11</th>\n",
       "      <td>2013-03-09 12:00</td>\n",
       "      <td>NaN</td>\n",
       "    </tr>\n",
       "    <tr>\n",
       "      <th>12</th>\n",
       "      <td>2013-03-09 13:00</td>\n",
       "      <td>20.8</td>\n",
       "    </tr>\n",
       "    <tr>\n",
       "      <th>13</th>\n",
       "      <td>2013-03-09 14:00</td>\n",
       "      <td>16.2</td>\n",
       "    </tr>\n",
       "    <tr>\n",
       "      <th>14</th>\n",
       "      <td>2013-03-09 15:00</td>\n",
       "      <td>9.8</td>\n",
       "    </tr>\n",
       "    <tr>\n",
       "      <th>15</th>\n",
       "      <td>2013-03-09 16:00</td>\n",
       "      <td>3.9</td>\n",
       "    </tr>\n",
       "    <tr>\n",
       "      <th>16</th>\n",
       "      <td>2013-03-09 17:00</td>\n",
       "      <td>0.6</td>\n",
       "    </tr>\n",
       "    <tr>\n",
       "      <th>17</th>\n",
       "      <td>2013-03-09 18:00</td>\n",
       "      <td>0.5</td>\n",
       "    </tr>\n",
       "    <tr>\n",
       "      <th>18</th>\n",
       "      <td>2013-03-09 19:00</td>\n",
       "      <td>0.8</td>\n",
       "    </tr>\n",
       "    <tr>\n",
       "      <th>19</th>\n",
       "      <td>2013-03-09 20:00</td>\n",
       "      <td>1.4</td>\n",
       "    </tr>\n",
       "    <tr>\n",
       "      <th>20</th>\n",
       "      <td>2013-03-09 21:00</td>\n",
       "      <td>1.1</td>\n",
       "    </tr>\n",
       "    <tr>\n",
       "      <th>21</th>\n",
       "      <td>2013-03-09 22:00</td>\n",
       "      <td>0.7</td>\n",
       "    </tr>\n",
       "    <tr>\n",
       "      <th>22</th>\n",
       "      <td>2013-03-09 23:00</td>\n",
       "      <td>1.5</td>\n",
       "    </tr>\n",
       "    <tr>\n",
       "      <th>23</th>\n",
       "      <td>2013-03-10 00:00</td>\n",
       "      <td>1.7</td>\n",
       "    </tr>\n",
       "  </tbody>\n",
       "</table>\n",
       "</div>"
      ],
      "text/plain": [
       "            연-월-일 시간    기온\n",
       "0   2013-03-09 01:00  12.9\n",
       "1   2013-03-09 02:00  13.7\n",
       "2   2013-03-09 03:00  15.5\n",
       "3   2013-03-09 04:00  14.8\n",
       "4   2013-03-09 05:00  16.1\n",
       "5   2013-03-09 06:00  16.7\n",
       "6   2013-03-09 07:00  19.1\n",
       "7   2013-03-09 08:00  21.4\n",
       "8   2013-03-09 09:00  22.9\n",
       "9   2013-03-09 10:00  24.2\n",
       "10  2013-03-09 11:00   NaN\n",
       "11  2013-03-09 12:00   NaN\n",
       "12  2013-03-09 13:00  20.8\n",
       "13  2013-03-09 14:00  16.2\n",
       "14  2013-03-09 15:00   9.8\n",
       "15  2013-03-09 16:00   3.9\n",
       "16  2013-03-09 17:00   0.6\n",
       "17  2013-03-09 18:00   0.5\n",
       "18  2013-03-09 19:00   0.8\n",
       "19  2013-03-09 20:00   1.4\n",
       "20  2013-03-09 21:00   1.1\n",
       "21  2013-03-09 22:00   0.7\n",
       "22  2013-03-09 23:00   1.5\n",
       "23  2013-03-10 00:00   1.7"
      ]
     },
     "execution_count": 136,
     "metadata": {},
     "output_type": "execute_result"
    }
   ],
   "source": [
    "test_sr.loc[test_sr['기온']=='-','기온'] = nan\n",
    "test_sr"
   ]
  },
  {
   "cell_type": "code",
   "execution_count": 137,
   "id": "f9c30edb",
   "metadata": {},
   "outputs": [
    {
     "name": "stdout",
     "output_type": "stream",
     "text": [
      "<class 'pandas.core.frame.DataFrame'>\n",
      "RangeIndex: 24 entries, 0 to 23\n",
      "Data columns (total 2 columns):\n",
      " #   Column    Non-Null Count  Dtype \n",
      "---  ------    --------------  ----- \n",
      " 0   연-월-일 시간  24 non-null     object\n",
      " 1   기온        22 non-null     object\n",
      "dtypes: object(2)\n",
      "memory usage: 512.0+ bytes\n"
     ]
    }
   ],
   "source": [
    "test_sr.info()"
   ]
  },
  {
   "cell_type": "code",
   "execution_count": 148,
   "id": "148a1970",
   "metadata": {},
   "outputs": [],
   "source": [
    "# webdriver로 페이지 접속\n",
    "driver = webdriver.Chrome(\"chromedriver_94\")\n",
    "url = \"https://weather.naju.go.kr/agri_meteo/agri_time.html\"\n",
    "driver.get(url)\n",
    "time.sleep(1)\n",
    "\n",
    "all_date_list = []\n",
    "all_tp_list = []\n",
    "for m in [1,3]:\n",
    "    for d in range(1,32):\n",
    "        # 관측기간 xpath : //*[@id=\"timed_date\"]\n",
    "        # 조회 버튼 xpath : //*[@id=\"contents\"]/ul/li[2]/form/div/ul[2]/li/img\n",
    "        search = driver.find_element_by_xpath('//*[@id=\"timed_date\"]')\n",
    "        button = driver.find_element_by_xpath('//*[@id=\"contents\"]/ul/li[2]/form/div/ul[2]/li/img')\n",
    "        # 입력창 클릭 후 내용 지우고 입력하기\n",
    "        search.click()\n",
    "        search.clear()\n",
    "        search.send_keys(f\"2013{m:0>2}{d:0>2}\")\n",
    "        button.click()\n",
    "        time.sleep(0.5)\n",
    "        # bs에 담기\n",
    "        page = driver.page_source\n",
    "        soup = BeautifulSoup(page, 'lxml')\n",
    "        \n",
    "        # 시간, 기온 기록\n",
    "        td = soup.find_all('td')\n",
    "        \n",
    "        # 시간 기록\n",
    "        # 날짜만 가져오기\n",
    "        num = int(len(td)/13)\n",
    "        date_list = []\n",
    "        for i in range(num):\n",
    "            if len(td[i*13].text) == 16:\n",
    "                date_list.append(td[i*13].text)\n",
    "                date_list = set(date_list)\n",
    "                date_list = list(date_list)\n",
    "        # 날짜 순서 정렬 및 24시날짜 하루 당기기\n",
    "        # 각 달 마지막 날짜 처리 문제\n",
    "        date_list.sort()\n",
    "        e = d+1\n",
    "        n = m+1\n",
    "        if f\"2013-{m:0>2}-{e:0>2} 00:00\" in date_list:\n",
    "            a = date_list.index(f\"2013-{m:0>2}-{e:0>2} 00:00\")\n",
    "            date_list[a] = f\"2013-{m:0>2}-{d:0>2} 24:00\"\n",
    "        if f\"2013-{n:0>2}-01 00:00\" in date_list:\n",
    "            a = date_list.index(f\"2013-{n:0>2}-01 00:00\")\n",
    "            date_list[a] = f\"2013-{m:0>2}-{d:0>2} 24:00\"\n",
    "        length = len(date_list)\n",
    "        \n",
    "        # 온도 기록\n",
    "        # 날짜 만큼만 온도 가져오기\n",
    "        tp_list = []\n",
    "        for i in range(length):\n",
    "            j = i * 13 + 1\n",
    "            if td[j] == nan:\n",
    "                tp_list.append(nan)\n",
    "            else:\n",
    "                tp_list.append(td[j].text)\n",
    "        # 날짜에 맞춰 온도 순서 뒤집기\n",
    "        new_tp_list = []\n",
    "        for i in range(length-1,-1,-1):\n",
    "            tmp = tp_list[i]\n",
    "            new_tp_list.append(tmp)\n",
    "        \n",
    "        # 날짜, 온도 리스트에 추가\n",
    "        all_date_list.extend(date_list)\n",
    "        all_tp_list.extend(new_tp_list)"
   ]
  },
  {
   "cell_type": "code",
   "execution_count": 149,
   "id": "4b6e81db",
   "metadata": {},
   "outputs": [
    {
     "name": "stdout",
     "output_type": "stream",
     "text": [
      "1474 1474\n"
     ]
    }
   ],
   "source": [
    "print(len(all_date_list), len(all_tp_list))"
   ]
  },
  {
   "cell_type": "code",
   "execution_count": 150,
   "id": "fd7f753a",
   "metadata": {},
   "outputs": [
    {
     "data": {
      "text/html": [
       "<div>\n",
       "<style scoped>\n",
       "    .dataframe tbody tr th:only-of-type {\n",
       "        vertical-align: middle;\n",
       "    }\n",
       "\n",
       "    .dataframe tbody tr th {\n",
       "        vertical-align: top;\n",
       "    }\n",
       "\n",
       "    .dataframe thead th {\n",
       "        text-align: right;\n",
       "    }\n",
       "</style>\n",
       "<table border=\"1\" class=\"dataframe\">\n",
       "  <thead>\n",
       "    <tr style=\"text-align: right;\">\n",
       "      <th></th>\n",
       "      <th>연-월-일 시간</th>\n",
       "      <th>기온</th>\n",
       "    </tr>\n",
       "  </thead>\n",
       "  <tbody>\n",
       "    <tr>\n",
       "      <th>0</th>\n",
       "      <td>2013-01-01 01:00</td>\n",
       "      <td>-6.4</td>\n",
       "    </tr>\n",
       "    <tr>\n",
       "      <th>1</th>\n",
       "      <td>2013-01-01 02:00</td>\n",
       "      <td>-6.0</td>\n",
       "    </tr>\n",
       "    <tr>\n",
       "      <th>2</th>\n",
       "      <td>2013-01-01 03:00</td>\n",
       "      <td>-5.7</td>\n",
       "    </tr>\n",
       "    <tr>\n",
       "      <th>3</th>\n",
       "      <td>2013-01-01 04:00</td>\n",
       "      <td>-5.8</td>\n",
       "    </tr>\n",
       "    <tr>\n",
       "      <th>4</th>\n",
       "      <td>2013-01-01 05:00</td>\n",
       "      <td>-6.3</td>\n",
       "    </tr>\n",
       "    <tr>\n",
       "      <th>...</th>\n",
       "      <td>...</td>\n",
       "      <td>...</td>\n",
       "    </tr>\n",
       "    <tr>\n",
       "      <th>1469</th>\n",
       "      <td>2013-03-31 20:00</td>\n",
       "      <td>7.1</td>\n",
       "    </tr>\n",
       "    <tr>\n",
       "      <th>1470</th>\n",
       "      <td>2013-03-31 21:00</td>\n",
       "      <td>6.2</td>\n",
       "    </tr>\n",
       "    <tr>\n",
       "      <th>1471</th>\n",
       "      <td>2013-03-31 22:00</td>\n",
       "      <td>3.8</td>\n",
       "    </tr>\n",
       "    <tr>\n",
       "      <th>1472</th>\n",
       "      <td>2013-03-31 23:00</td>\n",
       "      <td>3.0</td>\n",
       "    </tr>\n",
       "    <tr>\n",
       "      <th>1473</th>\n",
       "      <td>2013-03-31 24:00</td>\n",
       "      <td>2.3</td>\n",
       "    </tr>\n",
       "  </tbody>\n",
       "</table>\n",
       "<p>1474 rows × 2 columns</p>\n",
       "</div>"
      ],
      "text/plain": [
       "              연-월-일 시간    기온\n",
       "0     2013-01-01 01:00  -6.4\n",
       "1     2013-01-01 02:00  -6.0\n",
       "2     2013-01-01 03:00  -5.7\n",
       "3     2013-01-01 04:00  -5.8\n",
       "4     2013-01-01 05:00  -6.3\n",
       "...                ...   ...\n",
       "1469  2013-03-31 20:00   7.1\n",
       "1470  2013-03-31 21:00   6.2\n",
       "1471  2013-03-31 22:00   3.8\n",
       "1472  2013-03-31 23:00   3.0\n",
       "1473  2013-03-31 24:00   2.3\n",
       "\n",
       "[1474 rows x 2 columns]"
      ]
     },
     "execution_count": 150,
     "metadata": {},
     "output_type": "execute_result"
    }
   ],
   "source": [
    "df = pd.DataFrame({\"연-월-일 시간\":all_date_list, \"기온\":all_tp_list})\n",
    "df"
   ]
  },
  {
   "cell_type": "code",
   "execution_count": 151,
   "id": "e11f697d",
   "metadata": {
    "scrolled": true
   },
   "outputs": [
    {
     "name": "stdout",
     "output_type": "stream",
     "text": [
      "<class 'pandas.core.frame.DataFrame'>\n",
      "RangeIndex: 1474 entries, 0 to 1473\n",
      "Data columns (total 2 columns):\n",
      " #   Column    Non-Null Count  Dtype \n",
      "---  ------    --------------  ----- \n",
      " 0   연-월-일 시간  1474 non-null   object\n",
      " 1   기온        1474 non-null   object\n",
      "dtypes: object(2)\n",
      "memory usage: 23.2+ KB\n"
     ]
    }
   ],
   "source": [
    "df.info()"
   ]
  },
  {
   "cell_type": "code",
   "execution_count": 152,
   "id": "1850049e",
   "metadata": {},
   "outputs": [
    {
     "data": {
      "text/html": [
       "<div>\n",
       "<style scoped>\n",
       "    .dataframe tbody tr th:only-of-type {\n",
       "        vertical-align: middle;\n",
       "    }\n",
       "\n",
       "    .dataframe tbody tr th {\n",
       "        vertical-align: top;\n",
       "    }\n",
       "\n",
       "    .dataframe thead th {\n",
       "        text-align: right;\n",
       "    }\n",
       "</style>\n",
       "<table border=\"1\" class=\"dataframe\">\n",
       "  <thead>\n",
       "    <tr style=\"text-align: right;\">\n",
       "      <th></th>\n",
       "      <th>연-월-일 시간</th>\n",
       "      <th>기온</th>\n",
       "    </tr>\n",
       "  </thead>\n",
       "  <tbody>\n",
       "    <tr>\n",
       "      <th>934</th>\n",
       "      <td>2013-03-09 13:00</td>\n",
       "      <td>-</td>\n",
       "    </tr>\n",
       "    <tr>\n",
       "      <th>935</th>\n",
       "      <td>2013-03-09 14:00</td>\n",
       "      <td>-</td>\n",
       "    </tr>\n",
       "    <tr>\n",
       "      <th>987</th>\n",
       "      <td>2013-03-11 18:00</td>\n",
       "      <td>-</td>\n",
       "    </tr>\n",
       "    <tr>\n",
       "      <th>1056</th>\n",
       "      <td>2013-03-14 15:00</td>\n",
       "      <td>-</td>\n",
       "    </tr>\n",
       "    <tr>\n",
       "      <th>1057</th>\n",
       "      <td>2013-03-14 16:00</td>\n",
       "      <td>-</td>\n",
       "    </tr>\n",
       "    <tr>\n",
       "      <th>1058</th>\n",
       "      <td>2013-03-14 17:00</td>\n",
       "      <td>-</td>\n",
       "    </tr>\n",
       "    <tr>\n",
       "      <th>1075</th>\n",
       "      <td>2013-03-15 10:00</td>\n",
       "      <td>-</td>\n",
       "    </tr>\n",
       "  </tbody>\n",
       "</table>\n",
       "</div>"
      ],
      "text/plain": [
       "              연-월-일 시간 기온\n",
       "934   2013-03-09 13:00  -\n",
       "935   2013-03-09 14:00  -\n",
       "987   2013-03-11 18:00  -\n",
       "1056  2013-03-14 15:00  -\n",
       "1057  2013-03-14 16:00  -\n",
       "1058  2013-03-14 17:00  -\n",
       "1075  2013-03-15 10:00  -"
      ]
     },
     "execution_count": 152,
     "metadata": {},
     "output_type": "execute_result"
    }
   ],
   "source": [
    "df[df['기온']=='-']"
   ]
  },
  {
   "cell_type": "code",
   "execution_count": 153,
   "id": "4c2a67c2",
   "metadata": {},
   "outputs": [],
   "source": [
    "df.loc[df['기온']=='-', '기온'] = nan"
   ]
  },
  {
   "cell_type": "code",
   "execution_count": 154,
   "id": "be38769f",
   "metadata": {},
   "outputs": [
    {
     "name": "stdout",
     "output_type": "stream",
     "text": [
      "<class 'pandas.core.frame.DataFrame'>\n",
      "RangeIndex: 1474 entries, 0 to 1473\n",
      "Data columns (total 2 columns):\n",
      " #   Column    Non-Null Count  Dtype \n",
      "---  ------    --------------  ----- \n",
      " 0   연-월-일 시간  1474 non-null   object\n",
      " 1   기온        1467 non-null   object\n",
      "dtypes: object(2)\n",
      "memory usage: 23.2+ KB\n"
     ]
    }
   ],
   "source": [
    "df.info()"
   ]
  },
  {
   "cell_type": "code",
   "execution_count": null,
   "id": "8ad493d4",
   "metadata": {},
   "outputs": [],
   "source": []
  }
 ],
 "metadata": {
  "kernelspec": {
   "display_name": "Python 3",
   "language": "python",
   "name": "python3"
  },
  "language_info": {
   "codemirror_mode": {
    "name": "ipython",
    "version": 3
   },
   "file_extension": ".py",
   "mimetype": "text/x-python",
   "name": "python",
   "nbconvert_exporter": "python",
   "pygments_lexer": "ipython3",
   "version": "3.8.8"
  }
 },
 "nbformat": 4,
 "nbformat_minor": 5
}
