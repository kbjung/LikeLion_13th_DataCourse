{
 "cells": [
  {
   "cell_type": "markdown",
   "id": "d2c93d66",
   "metadata": {},
   "source": [
    "# 평가지표 함수화"
   ]
  },
  {
   "cell_type": "code",
   "execution_count": 1,
   "id": "ca243a87",
   "metadata": {},
   "outputs": [],
   "source": [
    "import pandas as pd\n",
    "import numpy as np\n",
    "import matplotlib.pyplot as plt\n",
    "import lightgbm as lgb"
   ]
  },
  {
   "cell_type": "code",
   "execution_count": 2,
   "id": "21274695",
   "metadata": {},
   "outputs": [],
   "source": [
    "total = pd.read_csv('data/한국가스공사_시간별 공급량_20181231.csv', encoding='cp949')"
   ]
  },
  {
   "cell_type": "code",
   "execution_count": 3,
   "id": "8f91fabf",
   "metadata": {},
   "outputs": [],
   "source": [
    "# 구분 열을 숫자로 바꾸기\n",
    "d_map = {}\n",
    "for i, d in enumerate(total['구분'].unique()):\n",
    "    d_map[d] = i\n",
    "total['구분'] = total['구분'].map(d_map)"
   ]
  },
  {
   "cell_type": "code",
   "execution_count": 4,
   "id": "4301c65e",
   "metadata": {},
   "outputs": [],
   "source": [
    "# 연월일 열은 object형이므로 년, 월, 일로 나눈다.\n",
    "total['연월일'] = pd.to_datetime(total['연월일'])\n",
    "total['year'] = total['연월일'].dt.year\n",
    "total['month'] = total['연월일'].dt.month\n",
    "total['day'] = total['연월일'].dt.day\n",
    "total['weekday'] = total['연월일'].dt.weekday"
   ]
  },
  {
   "cell_type": "markdown",
   "id": "5b11268f",
   "metadata": {},
   "source": [
    "## 훈련용 테스트용 데이터 분류하기\n"
   ]
  },
  {
   "cell_type": "code",
   "execution_count": 5,
   "id": "eb21e2d9",
   "metadata": {},
   "outputs": [],
   "source": [
    "train_years = [2013,2014,2015,2016,2017] \n",
    "val_years = [2018]\n",
    "\n",
    "train = total[total['year'].isin(train_years)] # 훈련용 데이터\n",
    "val = total[total['year'].isin(val_years)] # 테스트용 데이터"
   ]
  },
  {
   "cell_type": "code",
   "execution_count": 6,
   "id": "36471d3d",
   "metadata": {},
   "outputs": [],
   "source": [
    "features = ['구분', 'month', 'day', 'weekday', '시간']\n",
    "\n",
    "# 훈련용 데이터\n",
    "train_x = train[features]\n",
    "train_y = train['공급량']\n",
    "# 테스트용 데이터\n",
    "val_x = val[features]\n",
    "val_y = val['공급량']"
   ]
  },
  {
   "cell_type": "markdown",
   "id": "bc4354ab",
   "metadata": {},
   "source": [
    "# LGBM(ensemble 모델) 학습"
   ]
  },
  {
   "cell_type": "code",
   "execution_count": 7,
   "id": "a96e5686",
   "metadata": {
    "scrolled": false
   },
   "outputs": [
    {
     "name": "stderr",
     "output_type": "stream",
     "text": [
      "C:\\Users\\kbjoo\\anaconda3\\lib\\site-packages\\lightgbm\\engine.py:181: UserWarning: 'early_stopping_rounds' argument is deprecated and will be removed in a future release of LightGBM. Pass 'early_stopping()' callback via 'callbacks' argument instead.\n",
      "  _log_warning(\"'early_stopping_rounds' argument is deprecated and will be removed in a future release of LightGBM. \"\n",
      "C:\\Users\\kbjoo\\anaconda3\\lib\\site-packages\\lightgbm\\engine.py:240: UserWarning: 'verbose_eval' argument is deprecated and will be removed in a future release of LightGBM. Pass 'log_evaluation()' callback via 'callbacks' argument instead.\n",
      "  _log_warning(\"'verbose_eval' argument is deprecated and will be removed in a future release of LightGBM. \"\n"
     ]
    },
    {
     "name": "stdout",
     "output_type": "stream",
     "text": [
      "[LightGBM] [Warning] Auto-choosing row-wise multi-threading, the overhead of testing was 0.003664 seconds.\n",
      "You can set `force_row_wise=true` to remove the overhead.\n",
      "And if memory is not enough, you can set `force_col_wise=true`.\n",
      "[LightGBM] [Info] Total Bins 84\n",
      "[LightGBM] [Info] Number of data points in the train set: 306768, number of used features: 5\n",
      "[LightGBM] [Info] Start training from score 934.864036\n",
      "Training until validation scores don't improve for 10 rounds\n",
      "[20]\tvalid_0's l1: 244.857\n",
      "[40]\tvalid_0's l1: 174.855\n",
      "[60]\tvalid_0's l1: 158.739\n",
      "[80]\tvalid_0's l1: 153.323\n",
      "[100]\tvalid_0's l1: 150.948\n",
      "[120]\tvalid_0's l1: 150.463\n",
      "Early stopping, best iteration is:\n",
      "[112]\tvalid_0's l1: 150.297\n"
     ]
    }
   ],
   "source": [
    "d_train = lgb.Dataset(train_x, train_y)\n",
    "d_val = lgb.Dataset(val_x, val_y)\n",
    "\n",
    "params = {\n",
    "    'objective': 'regression',\n",
    "    'metric':'mae',\n",
    "    'seed':42\n",
    "}\n",
    "\n",
    "model = lgb.train(params, d_train, 500, d_val, verbose_eval=20, early_stopping_rounds=10)"
   ]
  },
  {
   "cell_type": "markdown",
   "id": "f11e15fb",
   "metadata": {},
   "source": [
    "### 추론 및 결과"
   ]
  },
  {
   "cell_type": "code",
   "execution_count": 8,
   "id": "ce955237",
   "metadata": {},
   "outputs": [],
   "source": [
    "test = pd.read_csv('data/test.csv')\n",
    "submission = pd.read_csv('data/sample_submission.csv')"
   ]
  },
  {
   "cell_type": "code",
   "execution_count": 9,
   "id": "0ad005d8",
   "metadata": {},
   "outputs": [],
   "source": [
    "test['일자'] = test['일자|시간|구분'].str.split(' ').str[0]\n",
    "test['시간'] = test['일자|시간|구분'].str.split(' ').str[1].astype(int)\n",
    "test['구분'] = test['일자|시간|구분'].str.split(' ').str[2]"
   ]
  },
  {
   "cell_type": "code",
   "execution_count": 10,
   "id": "2af96ba7",
   "metadata": {},
   "outputs": [],
   "source": [
    "test['일자'] = pd.to_datetime(test['일자'])\n",
    "test['year'] = test['일자'].dt.year\n",
    "test['month'] = test['일자'].dt.month\n",
    "test['day'] = test['일자'].dt.day\n",
    "test['weekday'] = test['일자'].dt.weekday"
   ]
  },
  {
   "cell_type": "code",
   "execution_count": 11,
   "id": "fcb67b8d",
   "metadata": {},
   "outputs": [],
   "source": [
    "test['구분'] = test['구분'].map(d_map)"
   ]
  },
  {
   "cell_type": "code",
   "execution_count": 12,
   "id": "49c74cb1",
   "metadata": {},
   "outputs": [],
   "source": [
    "test_x = test[features]"
   ]
  },
  {
   "cell_type": "code",
   "execution_count": 13,
   "id": "a4657222",
   "metadata": {},
   "outputs": [],
   "source": [
    "preds = model.predict(test_x)"
   ]
  },
  {
   "cell_type": "markdown",
   "id": "6ba88627",
   "metadata": {},
   "source": [
    "# 평가지표"
   ]
  },
  {
   "cell_type": "code",
   "execution_count": 14,
   "id": "0fa099a1",
   "metadata": {
    "scrolled": false
   },
   "outputs": [
    {
     "data": {
      "text/plain": [
       "306768    1765.008\n",
       "306769    1679.186\n",
       "306770    1610.885\n",
       "306771    1604.123\n",
       "306772    1711.506\n",
       "            ...   \n",
       "368083     681.033\n",
       "368084     669.961\n",
       "368085     657.941\n",
       "368086     610.953\n",
       "368087     560.896\n",
       "Name: 공급량, Length: 61320, dtype: float64"
      ]
     },
     "execution_count": 14,
     "metadata": {},
     "output_type": "execute_result"
    }
   ],
   "source": [
    "val_y"
   ]
  },
  {
   "cell_type": "code",
   "execution_count": 15,
   "id": "c8cb8ab3",
   "metadata": {
    "scrolled": false
   },
   "outputs": [
    {
     "data": {
      "text/plain": [
       "306768    1765.008\n",
       "306769    1679.186\n",
       "306770    1610.885\n",
       "306771    1604.123\n",
       "306772    1711.506\n",
       "            ...   \n",
       "368083     681.033\n",
       "368084     669.961\n",
       "368085     657.941\n",
       "368086     610.953\n",
       "368087     560.896\n",
       "Name: 공급량, Length: 61320, dtype: float64"
      ]
     },
     "execution_count": 15,
     "metadata": {},
     "output_type": "execute_result"
    }
   ],
   "source": [
    "prac = val_y.copy()\n",
    "prac"
   ]
  },
  {
   "cell_type": "code",
   "execution_count": 16,
   "id": "985431b8",
   "metadata": {
    "scrolled": true
   },
   "outputs": [],
   "source": [
    "# prac['공급량'] # KeyError: '공급량'"
   ]
  },
  {
   "cell_type": "code",
   "execution_count": 17,
   "id": "15b5258d",
   "metadata": {
    "scrolled": false
   },
   "outputs": [
    {
     "data": {
      "text/html": [
       "<div>\n",
       "<style scoped>\n",
       "    .dataframe tbody tr th:only-of-type {\n",
       "        vertical-align: middle;\n",
       "    }\n",
       "\n",
       "    .dataframe tbody tr th {\n",
       "        vertical-align: top;\n",
       "    }\n",
       "\n",
       "    .dataframe thead th {\n",
       "        text-align: right;\n",
       "    }\n",
       "</style>\n",
       "<table border=\"1\" class=\"dataframe\">\n",
       "  <thead>\n",
       "    <tr style=\"text-align: right;\">\n",
       "      <th></th>\n",
       "      <th>index</th>\n",
       "      <th>공급량</th>\n",
       "    </tr>\n",
       "  </thead>\n",
       "  <tbody>\n",
       "    <tr>\n",
       "      <th>0</th>\n",
       "      <td>306768</td>\n",
       "      <td>1765.008</td>\n",
       "    </tr>\n",
       "    <tr>\n",
       "      <th>1</th>\n",
       "      <td>306769</td>\n",
       "      <td>1679.186</td>\n",
       "    </tr>\n",
       "    <tr>\n",
       "      <th>2</th>\n",
       "      <td>306770</td>\n",
       "      <td>1610.885</td>\n",
       "    </tr>\n",
       "    <tr>\n",
       "      <th>3</th>\n",
       "      <td>306771</td>\n",
       "      <td>1604.123</td>\n",
       "    </tr>\n",
       "    <tr>\n",
       "      <th>4</th>\n",
       "      <td>306772</td>\n",
       "      <td>1711.506</td>\n",
       "    </tr>\n",
       "    <tr>\n",
       "      <th>...</th>\n",
       "      <td>...</td>\n",
       "      <td>...</td>\n",
       "    </tr>\n",
       "    <tr>\n",
       "      <th>61315</th>\n",
       "      <td>368083</td>\n",
       "      <td>681.033</td>\n",
       "    </tr>\n",
       "    <tr>\n",
       "      <th>61316</th>\n",
       "      <td>368084</td>\n",
       "      <td>669.961</td>\n",
       "    </tr>\n",
       "    <tr>\n",
       "      <th>61317</th>\n",
       "      <td>368085</td>\n",
       "      <td>657.941</td>\n",
       "    </tr>\n",
       "    <tr>\n",
       "      <th>61318</th>\n",
       "      <td>368086</td>\n",
       "      <td>610.953</td>\n",
       "    </tr>\n",
       "    <tr>\n",
       "      <th>61319</th>\n",
       "      <td>368087</td>\n",
       "      <td>560.896</td>\n",
       "    </tr>\n",
       "  </tbody>\n",
       "</table>\n",
       "<p>61320 rows × 2 columns</p>\n",
       "</div>"
      ],
      "text/plain": [
       "        index       공급량\n",
       "0      306768  1765.008\n",
       "1      306769  1679.186\n",
       "2      306770  1610.885\n",
       "3      306771  1604.123\n",
       "4      306772  1711.506\n",
       "...       ...       ...\n",
       "61315  368083   681.033\n",
       "61316  368084   669.961\n",
       "61317  368085   657.941\n",
       "61318  368086   610.953\n",
       "61319  368087   560.896\n",
       "\n",
       "[61320 rows x 2 columns]"
      ]
     },
     "execution_count": 17,
     "metadata": {},
     "output_type": "execute_result"
    }
   ],
   "source": [
    "prac = prac.reset_index()\n",
    "prac"
   ]
  },
  {
   "cell_type": "code",
   "execution_count": 18,
   "id": "f8c35aa6",
   "metadata": {},
   "outputs": [
    {
     "data": {
      "text/plain": [
       "681.033"
      ]
     },
     "execution_count": 18,
     "metadata": {},
     "output_type": "execute_result"
    }
   ],
   "source": [
    "prac.loc[61315, '공급량']"
   ]
  },
  {
   "cell_type": "code",
   "execution_count": 19,
   "id": "898c402a",
   "metadata": {},
   "outputs": [
    {
     "data": {
      "text/plain": [
       "681.033"
      ]
     },
     "execution_count": 19,
     "metadata": {},
     "output_type": "execute_result"
    }
   ],
   "source": [
    "prac.iloc[61315,1]"
   ]
  },
  {
   "cell_type": "code",
   "execution_count": 20,
   "id": "004fb5b3",
   "metadata": {},
   "outputs": [
    {
     "data": {
      "text/plain": [
       "1014.3163017123462"
      ]
     },
     "execution_count": 20,
     "metadata": {},
     "output_type": "execute_result"
    }
   ],
   "source": [
    "prac_mean = prac['공급량'].mean()\n",
    "prac_mean"
   ]
  },
  {
   "cell_type": "code",
   "execution_count": 21,
   "id": "4b6b9226",
   "metadata": {},
   "outputs": [
    {
     "data": {
      "text/plain": [
       "0        750.691698\n",
       "1        664.869698\n",
       "2        596.568698\n",
       "3        589.806698\n",
       "4        697.189698\n",
       "            ...    \n",
       "61315   -333.283302\n",
       "61316   -344.355302\n",
       "61317   -356.375302\n",
       "61318   -403.363302\n",
       "61319   -453.420302\n",
       "Name: 공급량, Length: 61320, dtype: float64"
      ]
     },
     "execution_count": 21,
     "metadata": {},
     "output_type": "execute_result"
    }
   ],
   "source": [
    "result = prac['공급량'] - prac_mean\n",
    "result"
   ]
  },
  {
   "cell_type": "markdown",
   "id": "69395ec2",
   "metadata": {},
   "source": [
    "### 평가 지표 함수화"
   ]
  },
  {
   "cell_type": "code",
   "execution_count": 22,
   "id": "85d7da06",
   "metadata": {},
   "outputs": [],
   "source": [
    "def evaluation_index(model, x, y):\n",
    "    y = y.reset_index()\n",
    "    # 예측값\n",
    "    pred = model.predict(x)\n",
    "    # MSE\n",
    "    mse = ( (y['공급량'] - pred) ** 2 ).sum() / len(pred)\n",
    "        \n",
    "    # RMSE\n",
    "    rmse = mse ** (1/2)\n",
    "    \n",
    "    # MAE\n",
    "    mae = ( abs( y['공급량'] - pred ) ).sum() / len(pred)\n",
    "    \n",
    "    # R2\n",
    "    y_mean = y['공급량'].mean()\n",
    "    upper = ( (y['공급량'] - pred) ** 2 ).sum()\n",
    "    lower = ( (y['공급량'] - y_mean) ** 2 ).sum()\n",
    "    fraction = upper / lower\n",
    "    r2 = 1 - fraction\n",
    "    \n",
    "    #NMAE(Normalized Mean Absolute Error)-정규화 평균 절대 오차 척도\n",
    "    nmae = ( abs( y['공급량'] - pred ) / y['공급량'] ).sum() / len(pred)\n",
    "    \n",
    "    # 평가지표 출력\n",
    "    print(f\"R2 = {r2}\")\n",
    "    print(f\"MSE = {mse}\")\n",
    "    print(f\"RMSE = {rmse}\")\n",
    "    print(f\"MAE = {mae}\")\n",
    "    print(f\"NMAE = {nmae}\")"
   ]
  },
  {
   "cell_type": "code",
   "execution_count": 24,
   "id": "a765184c",
   "metadata": {},
   "outputs": [
    {
     "name": "stdout",
     "output_type": "stream",
     "text": [
      "R2 = 0.932846749359134\n",
      "MSE = 68453.67846858544\n",
      "RMSE = 261.63653886371725\n",
      "MAE = 150.29651193751076\n",
      "NMAE = 0.5161785945623045\n"
     ]
    }
   ],
   "source": [
    "evaluation_index(model, val_x, val_y)"
   ]
  },
  {
   "cell_type": "code",
   "execution_count": null,
   "id": "16570e06",
   "metadata": {},
   "outputs": [],
   "source": []
  }
 ],
 "metadata": {
  "kernelspec": {
   "display_name": "Python 3",
   "language": "python",
   "name": "python3"
  },
  "language_info": {
   "codemirror_mode": {
    "name": "ipython",
    "version": 3
   },
   "file_extension": ".py",
   "mimetype": "text/x-python",
   "name": "python",
   "nbconvert_exporter": "python",
   "pygments_lexer": "ipython3",
   "version": "3.8.8"
  }
 },
 "nbformat": 4,
 "nbformat_minor": 5
}
