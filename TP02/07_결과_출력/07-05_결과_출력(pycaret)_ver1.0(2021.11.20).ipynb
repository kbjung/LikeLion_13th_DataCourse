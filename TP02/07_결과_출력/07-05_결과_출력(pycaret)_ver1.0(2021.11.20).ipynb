{
 "cells": [
  {
   "cell_type": "markdown",
   "metadata": {
    "id": "GnXkCAcw5x8x"
   },
   "source": [
    "# pycaret을 이용한 가스공급량 예측\n",
    "* 2019년 test 데이터 : '../data/test.csv'\n",
    "* 2019년 제출 파일 : '../data/sample_submission.csv'\n",
    "* 2013-2018년 가스공급량과 기온 자료 : '../2013-2018년_가스공급량_기온_습도_기압01.csv'\n",
    "* 특성\n",
    "    * 습도, 기압(3개) : 'month', 'weekday', '시간'\n",
    "    * 기온(5개) : 'month', 'weekday', '시간', '습도', '기압'\n",
    "    * 공급량 예측(7개) : 'month', 'weekday', '시간', '구분', '기온', '습도', '기압'\n",
    "    * PCA 적용\n",
    "* 공급량 log적용\n",
    "* 2개 모델('lightgbm', 'catboost') 예측 평균"
   ]
  },
  {
   "cell_type": "code",
   "execution_count": null,
   "metadata": {},
   "outputs": [],
   "source": [
    "# 제출 파일명 : sub19_pycaret07.csv\n",
    "# 제출 점수 : "
   ]
  },
  {
   "cell_type": "markdown",
   "metadata": {
    "id": "16ZiSomL5x80"
   },
   "source": [
    "## 데이터 가져오기\n",
    "* 2019년 test 데이터 : '../data/test.csv'\n",
    "* 2019년 제출 파일 : '../data/sample_submission.csv'\n",
    "* 2013-2018년 가스공급량과 기온 자료 : '../2013-2018년_가스공급량_기온_습도_기압01.csv'"
   ]
  },
  {
   "cell_type": "code",
   "execution_count": 1,
   "metadata": {
    "id": "FTnvRLPV5x82"
   },
   "outputs": [],
   "source": [
    "import time\n",
    "import datetime\n",
    "import pandas as pd"
   ]
  },
  {
   "cell_type": "markdown",
   "metadata": {
    "id": "i7yr0PMRF8gg"
   },
   "source": [
    "### 2013-2018년 가스공급량과 기온 자료"
   ]
  },
  {
   "cell_type": "code",
   "execution_count": 2,
   "metadata": {
    "colab": {
     "base_uri": "https://localhost:8080/",
     "height": 204
    },
    "id": "R6jfsZloGBYJ",
    "outputId": "c9e0872c-2476-41eb-dea4-231eff0dddff"
   },
   "outputs": [
    {
     "data": {
      "text/html": [
       "<div>\n",
       "<style scoped>\n",
       "    .dataframe tbody tr th:only-of-type {\n",
       "        vertical-align: middle;\n",
       "    }\n",
       "\n",
       "    .dataframe tbody tr th {\n",
       "        vertical-align: top;\n",
       "    }\n",
       "\n",
       "    .dataframe thead th {\n",
       "        text-align: right;\n",
       "    }\n",
       "</style>\n",
       "<table border=\"1\" class=\"dataframe\">\n",
       "  <thead>\n",
       "    <tr style=\"text-align: right;\">\n",
       "      <th></th>\n",
       "      <th>year</th>\n",
       "      <th>month</th>\n",
       "      <th>day</th>\n",
       "      <th>weekday</th>\n",
       "      <th>시간</th>\n",
       "      <th>구분</th>\n",
       "      <th>공급량</th>\n",
       "      <th>기온</th>\n",
       "      <th>습도</th>\n",
       "      <th>기압</th>\n",
       "    </tr>\n",
       "  </thead>\n",
       "  <tbody>\n",
       "    <tr>\n",
       "      <th>0</th>\n",
       "      <td>2013</td>\n",
       "      <td>1</td>\n",
       "      <td>1</td>\n",
       "      <td>1</td>\n",
       "      <td>1</td>\n",
       "      <td>0</td>\n",
       "      <td>2497.129</td>\n",
       "      <td>-8.5</td>\n",
       "      <td>57.0</td>\n",
       "      <td>1010.0</td>\n",
       "    </tr>\n",
       "    <tr>\n",
       "      <th>1</th>\n",
       "      <td>2013</td>\n",
       "      <td>1</td>\n",
       "      <td>1</td>\n",
       "      <td>1</td>\n",
       "      <td>1</td>\n",
       "      <td>1</td>\n",
       "      <td>2169.093</td>\n",
       "      <td>-8.5</td>\n",
       "      <td>57.0</td>\n",
       "      <td>1010.0</td>\n",
       "    </tr>\n",
       "    <tr>\n",
       "      <th>2</th>\n",
       "      <td>2013</td>\n",
       "      <td>1</td>\n",
       "      <td>1</td>\n",
       "      <td>1</td>\n",
       "      <td>1</td>\n",
       "      <td>2</td>\n",
       "      <td>226.178</td>\n",
       "      <td>-8.5</td>\n",
       "      <td>57.0</td>\n",
       "      <td>1010.0</td>\n",
       "    </tr>\n",
       "    <tr>\n",
       "      <th>3</th>\n",
       "      <td>2013</td>\n",
       "      <td>1</td>\n",
       "      <td>1</td>\n",
       "      <td>1</td>\n",
       "      <td>1</td>\n",
       "      <td>3</td>\n",
       "      <td>1434.516</td>\n",
       "      <td>-8.5</td>\n",
       "      <td>57.0</td>\n",
       "      <td>1010.0</td>\n",
       "    </tr>\n",
       "    <tr>\n",
       "      <th>4</th>\n",
       "      <td>2013</td>\n",
       "      <td>1</td>\n",
       "      <td>1</td>\n",
       "      <td>1</td>\n",
       "      <td>1</td>\n",
       "      <td>4</td>\n",
       "      <td>3272.837</td>\n",
       "      <td>-8.5</td>\n",
       "      <td>57.0</td>\n",
       "      <td>1010.0</td>\n",
       "    </tr>\n",
       "  </tbody>\n",
       "</table>\n",
       "</div>"
      ],
      "text/plain": [
       "   year  month  day  weekday  시간  구분       공급량   기온    습도      기압\n",
       "0  2013      1    1        1   1   0  2497.129 -8.5  57.0  1010.0\n",
       "1  2013      1    1        1   1   1  2169.093 -8.5  57.0  1010.0\n",
       "2  2013      1    1        1   1   2   226.178 -8.5  57.0  1010.0\n",
       "3  2013      1    1        1   1   3  1434.516 -8.5  57.0  1010.0\n",
       "4  2013      1    1        1   1   4  3272.837 -8.5  57.0  1010.0"
      ]
     },
     "execution_count": 2,
     "metadata": {},
     "output_type": "execute_result"
    }
   ],
   "source": [
    "total = pd.read_csv('../2013-2018년_가스공급량_기온_습도_기압01.csv')\n",
    "total.head()"
   ]
  },
  {
   "cell_type": "markdown",
   "metadata": {
    "id": "MIccTiyE5x8-"
   },
   "source": [
    "#### 2019년 데이터"
   ]
  },
  {
   "cell_type": "code",
   "execution_count": 3,
   "metadata": {
    "colab": {
     "base_uri": "https://localhost:8080/",
     "height": 204
    },
    "id": "-xMapLxr5x8_",
    "outputId": "380d50c2-5c1a-424a-9d70-873e3923c1e6"
   },
   "outputs": [
    {
     "data": {
      "text/html": [
       "<div>\n",
       "<style scoped>\n",
       "    .dataframe tbody tr th:only-of-type {\n",
       "        vertical-align: middle;\n",
       "    }\n",
       "\n",
       "    .dataframe tbody tr th {\n",
       "        vertical-align: top;\n",
       "    }\n",
       "\n",
       "    .dataframe thead th {\n",
       "        text-align: right;\n",
       "    }\n",
       "</style>\n",
       "<table border=\"1\" class=\"dataframe\">\n",
       "  <thead>\n",
       "    <tr style=\"text-align: right;\">\n",
       "      <th></th>\n",
       "      <th>일자|시간|구분</th>\n",
       "    </tr>\n",
       "  </thead>\n",
       "  <tbody>\n",
       "    <tr>\n",
       "      <th>0</th>\n",
       "      <td>2019-01-01 01 A</td>\n",
       "    </tr>\n",
       "    <tr>\n",
       "      <th>1</th>\n",
       "      <td>2019-01-01 02 A</td>\n",
       "    </tr>\n",
       "    <tr>\n",
       "      <th>2</th>\n",
       "      <td>2019-01-01 03 A</td>\n",
       "    </tr>\n",
       "    <tr>\n",
       "      <th>3</th>\n",
       "      <td>2019-01-01 04 A</td>\n",
       "    </tr>\n",
       "    <tr>\n",
       "      <th>4</th>\n",
       "      <td>2019-01-01 05 A</td>\n",
       "    </tr>\n",
       "  </tbody>\n",
       "</table>\n",
       "</div>"
      ],
      "text/plain": [
       "          일자|시간|구분\n",
       "0  2019-01-01 01 A\n",
       "1  2019-01-01 02 A\n",
       "2  2019-01-01 03 A\n",
       "3  2019-01-01 04 A\n",
       "4  2019-01-01 05 A"
      ]
     },
     "execution_count": 3,
     "metadata": {},
     "output_type": "execute_result"
    }
   ],
   "source": [
    "test2019 = pd.read_csv('../data/test.csv')\n",
    "test2019.head()"
   ]
  },
  {
   "cell_type": "code",
   "execution_count": 4,
   "metadata": {
    "colab": {
     "base_uri": "https://localhost:8080/",
     "height": 204
    },
    "id": "7zvz9lBj5x8_",
    "outputId": "8d7844d6-3d74-4ebe-c582-f611774fe64f"
   },
   "outputs": [
    {
     "data": {
      "text/html": [
       "<div>\n",
       "<style scoped>\n",
       "    .dataframe tbody tr th:only-of-type {\n",
       "        vertical-align: middle;\n",
       "    }\n",
       "\n",
       "    .dataframe tbody tr th {\n",
       "        vertical-align: top;\n",
       "    }\n",
       "\n",
       "    .dataframe thead th {\n",
       "        text-align: right;\n",
       "    }\n",
       "</style>\n",
       "<table border=\"1\" class=\"dataframe\">\n",
       "  <thead>\n",
       "    <tr style=\"text-align: right;\">\n",
       "      <th></th>\n",
       "      <th>일자|시간|구분</th>\n",
       "      <th>연월일</th>\n",
       "      <th>시간</th>\n",
       "      <th>구분</th>\n",
       "    </tr>\n",
       "  </thead>\n",
       "  <tbody>\n",
       "    <tr>\n",
       "      <th>0</th>\n",
       "      <td>2019-01-01 01 A</td>\n",
       "      <td>2019-01-01</td>\n",
       "      <td>01</td>\n",
       "      <td>A</td>\n",
       "    </tr>\n",
       "    <tr>\n",
       "      <th>1</th>\n",
       "      <td>2019-01-01 02 A</td>\n",
       "      <td>2019-01-01</td>\n",
       "      <td>02</td>\n",
       "      <td>A</td>\n",
       "    </tr>\n",
       "    <tr>\n",
       "      <th>2</th>\n",
       "      <td>2019-01-01 03 A</td>\n",
       "      <td>2019-01-01</td>\n",
       "      <td>03</td>\n",
       "      <td>A</td>\n",
       "    </tr>\n",
       "    <tr>\n",
       "      <th>3</th>\n",
       "      <td>2019-01-01 04 A</td>\n",
       "      <td>2019-01-01</td>\n",
       "      <td>04</td>\n",
       "      <td>A</td>\n",
       "    </tr>\n",
       "    <tr>\n",
       "      <th>4</th>\n",
       "      <td>2019-01-01 05 A</td>\n",
       "      <td>2019-01-01</td>\n",
       "      <td>05</td>\n",
       "      <td>A</td>\n",
       "    </tr>\n",
       "  </tbody>\n",
       "</table>\n",
       "</div>"
      ],
      "text/plain": [
       "          일자|시간|구분         연월일  시간 구분\n",
       "0  2019-01-01 01 A  2019-01-01  01  A\n",
       "1  2019-01-01 02 A  2019-01-01  02  A\n",
       "2  2019-01-01 03 A  2019-01-01  03  A\n",
       "3  2019-01-01 04 A  2019-01-01  04  A\n",
       "4  2019-01-01 05 A  2019-01-01  05  A"
      ]
     },
     "execution_count": 4,
     "metadata": {},
     "output_type": "execute_result"
    }
   ],
   "source": [
    "test2019[['연월일', '시간', '구분']] = test2019['일자|시간|구분'].str.split(' ').tolist()\n",
    "test2019.head()"
   ]
  },
  {
   "cell_type": "code",
   "execution_count": 5,
   "metadata": {
    "colab": {
     "base_uri": "https://localhost:8080/",
     "height": 204
    },
    "id": "UTn5RBlz5x9A",
    "outputId": "317ee17f-1d25-4cb3-c916-f100f0402147"
   },
   "outputs": [
    {
     "data": {
      "text/html": [
       "<div>\n",
       "<style scoped>\n",
       "    .dataframe tbody tr th:only-of-type {\n",
       "        vertical-align: middle;\n",
       "    }\n",
       "\n",
       "    .dataframe tbody tr th {\n",
       "        vertical-align: top;\n",
       "    }\n",
       "\n",
       "    .dataframe thead th {\n",
       "        text-align: right;\n",
       "    }\n",
       "</style>\n",
       "<table border=\"1\" class=\"dataframe\">\n",
       "  <thead>\n",
       "    <tr style=\"text-align: right;\">\n",
       "      <th></th>\n",
       "      <th>일자|시간|구분</th>\n",
       "      <th>연월일</th>\n",
       "      <th>시간</th>\n",
       "      <th>구분</th>\n",
       "    </tr>\n",
       "  </thead>\n",
       "  <tbody>\n",
       "    <tr>\n",
       "      <th>0</th>\n",
       "      <td>2019-01-01 01 A</td>\n",
       "      <td>2019-01-01</td>\n",
       "      <td>01</td>\n",
       "      <td>0</td>\n",
       "    </tr>\n",
       "    <tr>\n",
       "      <th>1</th>\n",
       "      <td>2019-01-01 02 A</td>\n",
       "      <td>2019-01-01</td>\n",
       "      <td>02</td>\n",
       "      <td>0</td>\n",
       "    </tr>\n",
       "    <tr>\n",
       "      <th>2</th>\n",
       "      <td>2019-01-01 03 A</td>\n",
       "      <td>2019-01-01</td>\n",
       "      <td>03</td>\n",
       "      <td>0</td>\n",
       "    </tr>\n",
       "    <tr>\n",
       "      <th>3</th>\n",
       "      <td>2019-01-01 04 A</td>\n",
       "      <td>2019-01-01</td>\n",
       "      <td>04</td>\n",
       "      <td>0</td>\n",
       "    </tr>\n",
       "    <tr>\n",
       "      <th>4</th>\n",
       "      <td>2019-01-01 05 A</td>\n",
       "      <td>2019-01-01</td>\n",
       "      <td>05</td>\n",
       "      <td>0</td>\n",
       "    </tr>\n",
       "  </tbody>\n",
       "</table>\n",
       "</div>"
      ],
      "text/plain": [
       "          일자|시간|구분         연월일  시간  구분\n",
       "0  2019-01-01 01 A  2019-01-01  01   0\n",
       "1  2019-01-01 02 A  2019-01-01  02   0\n",
       "2  2019-01-01 03 A  2019-01-01  03   0\n",
       "3  2019-01-01 04 A  2019-01-01  04   0\n",
       "4  2019-01-01 05 A  2019-01-01  05   0"
      ]
     },
     "execution_count": 5,
     "metadata": {},
     "output_type": "execute_result"
    }
   ],
   "source": [
    "# 구분 열을 숫자로 바꾸기\n",
    "d_map = {}\n",
    "for i, d in enumerate(test2019['구분'].unique()):\n",
    "    d_map[d] = i\n",
    "test2019['구분'] = test2019['구분'].map(d_map)\n",
    "test2019.head()"
   ]
  },
  {
   "cell_type": "code",
   "execution_count": 6,
   "metadata": {
    "colab": {
     "base_uri": "https://localhost:8080/",
     "height": 204
    },
    "id": "NDxAX6jU5x9A",
    "outputId": "f1cab0b4-d3cc-4b87-abdc-ac852c9c4e69",
    "scrolled": true
   },
   "outputs": [
    {
     "data": {
      "text/html": [
       "<div>\n",
       "<style scoped>\n",
       "    .dataframe tbody tr th:only-of-type {\n",
       "        vertical-align: middle;\n",
       "    }\n",
       "\n",
       "    .dataframe tbody tr th {\n",
       "        vertical-align: top;\n",
       "    }\n",
       "\n",
       "    .dataframe thead th {\n",
       "        text-align: right;\n",
       "    }\n",
       "</style>\n",
       "<table border=\"1\" class=\"dataframe\">\n",
       "  <thead>\n",
       "    <tr style=\"text-align: right;\">\n",
       "      <th></th>\n",
       "      <th>일자|시간|구분</th>\n",
       "      <th>연월일</th>\n",
       "      <th>시간</th>\n",
       "      <th>구분</th>\n",
       "      <th>year</th>\n",
       "      <th>month</th>\n",
       "      <th>day</th>\n",
       "      <th>weekday</th>\n",
       "    </tr>\n",
       "  </thead>\n",
       "  <tbody>\n",
       "    <tr>\n",
       "      <th>0</th>\n",
       "      <td>2019-01-01 01 A</td>\n",
       "      <td>2019-01-01</td>\n",
       "      <td>01</td>\n",
       "      <td>0</td>\n",
       "      <td>2019</td>\n",
       "      <td>1</td>\n",
       "      <td>1</td>\n",
       "      <td>1</td>\n",
       "    </tr>\n",
       "    <tr>\n",
       "      <th>1</th>\n",
       "      <td>2019-01-01 02 A</td>\n",
       "      <td>2019-01-01</td>\n",
       "      <td>02</td>\n",
       "      <td>0</td>\n",
       "      <td>2019</td>\n",
       "      <td>1</td>\n",
       "      <td>1</td>\n",
       "      <td>1</td>\n",
       "    </tr>\n",
       "    <tr>\n",
       "      <th>2</th>\n",
       "      <td>2019-01-01 03 A</td>\n",
       "      <td>2019-01-01</td>\n",
       "      <td>03</td>\n",
       "      <td>0</td>\n",
       "      <td>2019</td>\n",
       "      <td>1</td>\n",
       "      <td>1</td>\n",
       "      <td>1</td>\n",
       "    </tr>\n",
       "    <tr>\n",
       "      <th>3</th>\n",
       "      <td>2019-01-01 04 A</td>\n",
       "      <td>2019-01-01</td>\n",
       "      <td>04</td>\n",
       "      <td>0</td>\n",
       "      <td>2019</td>\n",
       "      <td>1</td>\n",
       "      <td>1</td>\n",
       "      <td>1</td>\n",
       "    </tr>\n",
       "    <tr>\n",
       "      <th>4</th>\n",
       "      <td>2019-01-01 05 A</td>\n",
       "      <td>2019-01-01</td>\n",
       "      <td>05</td>\n",
       "      <td>0</td>\n",
       "      <td>2019</td>\n",
       "      <td>1</td>\n",
       "      <td>1</td>\n",
       "      <td>1</td>\n",
       "    </tr>\n",
       "  </tbody>\n",
       "</table>\n",
       "</div>"
      ],
      "text/plain": [
       "          일자|시간|구분        연월일  시간  구분  year  month  day  weekday\n",
       "0  2019-01-01 01 A 2019-01-01  01   0  2019      1    1        1\n",
       "1  2019-01-01 02 A 2019-01-01  02   0  2019      1    1        1\n",
       "2  2019-01-01 03 A 2019-01-01  03   0  2019      1    1        1\n",
       "3  2019-01-01 04 A 2019-01-01  04   0  2019      1    1        1\n",
       "4  2019-01-01 05 A 2019-01-01  05   0  2019      1    1        1"
      ]
     },
     "execution_count": 6,
     "metadata": {},
     "output_type": "execute_result"
    }
   ],
   "source": [
    "# 연월일 열은 object형이므로 년, 월, 일로 나눈다.\n",
    "test2019['연월일'] = pd.to_datetime(test2019['연월일'])\n",
    "test2019['year'] = test2019['연월일'].dt.year\n",
    "test2019['month'] = test2019['연월일'].dt.month\n",
    "test2019['day'] = test2019['연월일'].dt.day\n",
    "test2019['weekday'] = test2019['연월일'].dt.weekday\n",
    "test2019.head()"
   ]
  },
  {
   "cell_type": "markdown",
   "metadata": {},
   "source": [
    "### 상관계수 확인"
   ]
  },
  {
   "cell_type": "code",
   "execution_count": 7,
   "metadata": {},
   "outputs": [],
   "source": [
    "import seaborn as sns\n",
    "import matplotlib.pyplot as plt\n",
    "\n",
    "import platform\n",
    "from matplotlib import font_manager, rc\n",
    "\n",
    "path = \"C:/Windows/Fonts/malgun.ttf\"\n",
    "if platform.system() == \"Windows\":\n",
    "    font_name = font_manager.FontProperties(fname=path).get_name()\n",
    "    rc('font', family=font_name)\n",
    "elif platform.system()==\"Darwin\":\n",
    "    rc('font', family='AppleGothic')\n",
    "else:\n",
    "    print(\"Unknown System\")"
   ]
  },
  {
   "cell_type": "code",
   "execution_count": 8,
   "metadata": {
    "scrolled": false
   },
   "outputs": [
    {
     "data": {
      "text/plain": [
       "<AxesSubplot:>"
      ]
     },
     "execution_count": 8,
     "metadata": {},
     "output_type": "execute_result"
    },
    {
     "data": {
      "image/png": "[encoded data removed]",
      "text/plain": [
       "<Figure size 864x720 with 1 Axes>"
      ]
     },
     "metadata": {
      "needs_background": "light"
     },
     "output_type": "display_data"
    }
   ],
   "source": [
    "plt.figure(figsize=(12,10))\n",
    "plt.xticks(fontsize=15)\n",
    "plt.yticks(fontsize=15)\n",
    "sns.heatmap(total[['year','month', 'day', 'weekday', '시간', '구분', '기온','습도','기압','공급량']].corr(), cmap='Blues', annot=True, fmt='.2f', cbar=False, annot_kws={\"size\": 20})"
   ]
  },
  {
   "cell_type": "code",
   "execution_count": 9,
   "metadata": {
    "scrolled": false
   },
   "outputs": [
    {
     "data": {
      "text/plain": [
       "(array([ 1631., 12285., 32193., 47222., 53382., 56679., 58002., 46487.,\n",
       "        38262., 21945.]),\n",
       " array([  7. ,  16.3,  25.6,  34.9,  44.2,  53.5,  62.8,  72.1,  81.4,\n",
       "         90.7, 100. ]),\n",
       " <BarContainer object of 10 artists>)"
      ]
     },
     "execution_count": 9,
     "metadata": {},
     "output_type": "execute_result"
    },
    {
     "data": {
      "image/png": "[encoded data removed]",
      "text/plain": [
       "<Figure size 720x576 with 1 Axes>"
      ]
     },
     "metadata": {
      "needs_background": "light"
     },
     "output_type": "display_data"
    }
   ],
   "source": [
    "plt.figure(figsize=(10,8))\n",
    "plt.xticks(fontsize=15)\n",
    "plt.yticks(fontsize=15)\n",
    "plt.hist(x='습도', data=total)"
   ]
  },
  {
   "cell_type": "code",
   "execution_count": 10,
   "metadata": {},
   "outputs": [
    {
     "data": {
      "text/plain": [
       "(array([  420.,  1414.,  9597., 43568., 77329., 70378., 79037., 60480.,\n",
       "        23170.,  2695.]),\n",
       " array([ 976.5 ,  981.68,  986.86,  992.04,  997.22, 1002.4 , 1007.58,\n",
       "        1012.76, 1017.94, 1023.12, 1028.3 ]),\n",
       " <BarContainer object of 10 artists>)"
      ]
     },
     "execution_count": 10,
     "metadata": {},
     "output_type": "execute_result"
    },
    {
     "data": {
      "image/png": "[encoded data removed]",
      "text/plain": [
       "<Figure size 720x576 with 1 Axes>"
      ]
     },
     "metadata": {
      "needs_background": "light"
     },
     "output_type": "display_data"
    }
   ],
   "source": [
    "plt.figure(figsize=(10,8))\n",
    "plt.xticks(fontsize=15)\n",
    "plt.yticks(fontsize=15)\n",
    "plt.hist(x='기압', data=total)"
   ]
  },
  {
   "cell_type": "code",
   "execution_count": 11,
   "metadata": {
    "scrolled": false
   },
   "outputs": [
    {
     "data": {
      "text/plain": [
       "(array([ 1708., 12180., 36729., 52906., 48832., 49889., 64701., 73080.,\n",
       "        26040.,  2023.]),\n",
       " array([-18.  , -12.26,  -6.52,  -0.78,   4.96,  10.7 ,  16.44,  22.18,\n",
       "         27.92,  33.66,  39.4 ]),\n",
       " <BarContainer object of 10 artists>)"
      ]
     },
     "execution_count": 11,
     "metadata": {},
     "output_type": "execute_result"
    },
    {
     "name": "stderr",
     "output_type": "stream",
     "text": [
      "C:\\Users\\kbjoo\\anaconda3\\lib\\site-packages\\matplotlib\\backends\\backend_agg.py:238: RuntimeWarning: Glyph 8722 missing from current font.\n",
      "  font.set_text(s, 0.0, flags=flags)\n",
      "C:\\Users\\kbjoo\\anaconda3\\lib\\site-packages\\matplotlib\\backends\\backend_agg.py:201: RuntimeWarning: Glyph 8722 missing from current font.\n",
      "  font.set_text(s, 0, flags=flags)\n"
     ]
    },
    {
     "data": {
      "image/png": "[encoded data removed]",
      "text/plain": [
       "<Figure size 720x576 with 1 Axes>"
      ]
     },
     "metadata": {
      "needs_background": "light"
     },
     "output_type": "display_data"
    }
   ],
   "source": [
    "plt.figure(figsize=(10,8))\n",
    "plt.xticks(fontsize=15)\n",
    "plt.yticks(fontsize=15)\n",
    "plt.hist(x='기온', data=total)"
   ]
  },
  {
   "cell_type": "code",
   "execution_count": 12,
   "metadata": {
    "scrolled": false
   },
   "outputs": [
    {
     "data": {
      "text/plain": [
       "(array([2.56069e+05, 7.60110e+04, 2.76280e+04, 7.43600e+03, 8.86000e+02,\n",
       "        5.30000e+01, 2.00000e+00, 0.00000e+00, 2.00000e+00, 1.00000e+00]),\n",
       " array([1.37800000e+00, 1.16060190e+03, 2.31982580e+03, 3.47904970e+03,\n",
       "        4.63827360e+03, 5.79749750e+03, 6.95672140e+03, 8.11594530e+03,\n",
       "        9.27516920e+03, 1.04343931e+04, 1.15936170e+04]),\n",
       " <BarContainer object of 10 artists>)"
      ]
     },
     "execution_count": 12,
     "metadata": {},
     "output_type": "execute_result"
    },
    {
     "data": {
      "image/png": "[encoded data removed]",
      "text/plain": [
       "<Figure size 720x576 with 1 Axes>"
      ]
     },
     "metadata": {
      "needs_background": "light"
     },
     "output_type": "display_data"
    }
   ],
   "source": [
    "plt.figure(figsize=(10,8))\n",
    "plt.xticks(fontsize=15)\n",
    "plt.yticks(fontsize=15)\n",
    "plt.hist(x='공급량', data=total)"
   ]
  },
  {
   "cell_type": "code",
   "execution_count": 13,
   "metadata": {},
   "outputs": [
    {
     "name": "stderr",
     "output_type": "stream",
     "text": [
      "C:\\Users\\kbjoo\\anaconda3\\lib\\site-packages\\matplotlib\\backends\\backend_agg.py:238: RuntimeWarning: Glyph 8722 missing from current font.\n",
      "  font.set_text(s, 0.0, flags=flags)\n",
      "C:\\Users\\kbjoo\\anaconda3\\lib\\site-packages\\matplotlib\\backends\\backend_agg.py:201: RuntimeWarning: Glyph 8722 missing from current font.\n",
      "  font.set_text(s, 0, flags=flags)\n"
     ]
    },
    {
     "data": {
      "text/plain": [
       "<seaborn.axisgrid.FacetGrid at 0x2583e8ea9d0>"
      ]
     },
     "execution_count": 13,
     "metadata": {},
     "output_type": "execute_result"
    },
    {
     "data": {
      "text/plain": [
       "<Figure size 864x576 with 0 Axes>"
      ]
     },
     "metadata": {},
     "output_type": "display_data"
    },
    {
     "data": {
      "image/png": "[encoded data removed]",
      "text/plain": [
       "<Figure size 401.5x360 with 1 Axes>"
      ]
     },
     "metadata": {
      "needs_background": "light"
     },
     "output_type": "display_data"
    }
   ],
   "source": [
    "plt.figure(figsize=(12,8))\n",
    "sns.lmplot(x='기온', y='공급량', hue='구분', data=total)"
   ]
  },
  {
   "cell_type": "markdown",
   "metadata": {
    "id": "qXW3KfV55x9I"
   },
   "source": [
    "# 2019년 기온 예측하기\n",
    "* 습도 예측\n",
    "* 기압 예측"
   ]
  },
  {
   "cell_type": "code",
   "execution_count": 14,
   "metadata": {},
   "outputs": [],
   "source": [
    "# !pip install pycaret"
   ]
  },
  {
   "cell_type": "code",
   "execution_count": 15,
   "metadata": {
    "id": "Y3QaSwRf5x9J"
   },
   "outputs": [],
   "source": [
    "from pycaret.regression import *"
   ]
  },
  {
   "cell_type": "markdown",
   "metadata": {
    "id": "4WR7R1x95x9J"
   },
   "source": [
    "## 습도(Humidity) 예측"
   ]
  },
  {
   "cell_type": "code",
   "execution_count": 16,
   "metadata": {
    "scrolled": false
   },
   "outputs": [
    {
     "data": {
      "text/html": [
       "<style  type=\"text/css\" >\n",
       "#T_8ad87_row31_col1,#T_8ad87_row42_col1,#T_8ad87_row45_col1{\n",
       "            background-color:  lightgreen;\n",
       "        }</style><table id=\"T_8ad87_\" ><thead>    <tr>        <th class=\"blank level0\" ></th>        <th class=\"col_heading level0 col0\" >Description</th>        <th class=\"col_heading level0 col1\" >Value</th>    </tr></thead><tbody>\n",
       "                <tr>\n",
       "                        <th id=\"T_8ad87_level0_row0\" class=\"row_heading level0 row0\" >0</th>\n",
       "                        <td id=\"T_8ad87_row0_col0\" class=\"data row0 col0\" >session_id</td>\n",
       "                        <td id=\"T_8ad87_row0_col1\" class=\"data row0 col1\" >427</td>\n",
       "            </tr>\n",
       "            <tr>\n",
       "                        <th id=\"T_8ad87_level0_row1\" class=\"row_heading level0 row1\" >1</th>\n",
       "                        <td id=\"T_8ad87_row1_col0\" class=\"data row1 col0\" >Target</td>\n",
       "                        <td id=\"T_8ad87_row1_col1\" class=\"data row1 col1\" >습도</td>\n",
       "            </tr>\n",
       "            <tr>\n",
       "                        <th id=\"T_8ad87_level0_row2\" class=\"row_heading level0 row2\" >2</th>\n",
       "                        <td id=\"T_8ad87_row2_col0\" class=\"data row2 col0\" >Original Data</td>\n",
       "                        <td id=\"T_8ad87_row2_col1\" class=\"data row2 col1\" >(368088, 10)</td>\n",
       "            </tr>\n",
       "            <tr>\n",
       "                        <th id=\"T_8ad87_level0_row3\" class=\"row_heading level0 row3\" >3</th>\n",
       "                        <td id=\"T_8ad87_row3_col0\" class=\"data row3 col0\" >Missing Values</td>\n",
       "                        <td id=\"T_8ad87_row3_col1\" class=\"data row3 col1\" >False</td>\n",
       "            </tr>\n",
       "            <tr>\n",
       "                        <th id=\"T_8ad87_level0_row4\" class=\"row_heading level0 row4\" >4</th>\n",
       "                        <td id=\"T_8ad87_row4_col0\" class=\"data row4 col0\" >Numeric Features</td>\n",
       "                        <td id=\"T_8ad87_row4_col1\" class=\"data row4 col1\" >1</td>\n",
       "            </tr>\n",
       "            <tr>\n",
       "                        <th id=\"T_8ad87_level0_row5\" class=\"row_heading level0 row5\" >5</th>\n",
       "                        <td id=\"T_8ad87_row5_col0\" class=\"data row5 col0\" >Categorical Features</td>\n",
       "                        <td id=\"T_8ad87_row5_col1\" class=\"data row5 col1\" >2</td>\n",
       "            </tr>\n",
       "            <tr>\n",
       "                        <th id=\"T_8ad87_level0_row6\" class=\"row_heading level0 row6\" >6</th>\n",
       "                        <td id=\"T_8ad87_row6_col0\" class=\"data row6 col0\" >Ordinal Features</td>\n",
       "                        <td id=\"T_8ad87_row6_col1\" class=\"data row6 col1\" >False</td>\n",
       "            </tr>\n",
       "            <tr>\n",
       "                        <th id=\"T_8ad87_level0_row7\" class=\"row_heading level0 row7\" >7</th>\n",
       "                        <td id=\"T_8ad87_row7_col0\" class=\"data row7 col0\" >High Cardinality Features</td>\n",
       "                        <td id=\"T_8ad87_row7_col1\" class=\"data row7 col1\" >False</td>\n",
       "            </tr>\n",
       "            <tr>\n",
       "                        <th id=\"T_8ad87_level0_row8\" class=\"row_heading level0 row8\" >8</th>\n",
       "                        <td id=\"T_8ad87_row8_col0\" class=\"data row8 col0\" >High Cardinality Method</td>\n",
       "                        <td id=\"T_8ad87_row8_col1\" class=\"data row8 col1\" >None</td>\n",
       "            </tr>\n",
       "            <tr>\n",
       "                        <th id=\"T_8ad87_level0_row9\" class=\"row_heading level0 row9\" >9</th>\n",
       "                        <td id=\"T_8ad87_row9_col0\" class=\"data row9 col0\" >Transformed Train Set</td>\n",
       "                        <td id=\"T_8ad87_row9_col1\" class=\"data row9 col1\" >(257661, 1)</td>\n",
       "            </tr>\n",
       "            <tr>\n",
       "                        <th id=\"T_8ad87_level0_row10\" class=\"row_heading level0 row10\" >10</th>\n",
       "                        <td id=\"T_8ad87_row10_col0\" class=\"data row10 col0\" >Transformed Test Set</td>\n",
       "                        <td id=\"T_8ad87_row10_col1\" class=\"data row10 col1\" >(110427, 1)</td>\n",
       "            </tr>\n",
       "            <tr>\n",
       "                        <th id=\"T_8ad87_level0_row11\" class=\"row_heading level0 row11\" >11</th>\n",
       "                        <td id=\"T_8ad87_row11_col0\" class=\"data row11 col0\" >Shuffle Train-Test</td>\n",
       "                        <td id=\"T_8ad87_row11_col1\" class=\"data row11 col1\" >True</td>\n",
       "            </tr>\n",
       "            <tr>\n",
       "                        <th id=\"T_8ad87_level0_row12\" class=\"row_heading level0 row12\" >12</th>\n",
       "                        <td id=\"T_8ad87_row12_col0\" class=\"data row12 col0\" >Stratify Train-Test</td>\n",
       "                        <td id=\"T_8ad87_row12_col1\" class=\"data row12 col1\" >False</td>\n",
       "            </tr>\n",
       "            <tr>\n",
       "                        <th id=\"T_8ad87_level0_row13\" class=\"row_heading level0 row13\" >13</th>\n",
       "                        <td id=\"T_8ad87_row13_col0\" class=\"data row13 col0\" >Fold Generator</td>\n",
       "                        <td id=\"T_8ad87_row13_col1\" class=\"data row13 col1\" >KFold</td>\n",
       "            </tr>\n",
       "            <tr>\n",
       "                        <th id=\"T_8ad87_level0_row14\" class=\"row_heading level0 row14\" >14</th>\n",
       "                        <td id=\"T_8ad87_row14_col0\" class=\"data row14 col0\" >Fold Number</td>\n",
       "                        <td id=\"T_8ad87_row14_col1\" class=\"data row14 col1\" >10</td>\n",
       "            </tr>\n",
       "            <tr>\n",
       "                        <th id=\"T_8ad87_level0_row15\" class=\"row_heading level0 row15\" >15</th>\n",
       "                        <td id=\"T_8ad87_row15_col0\" class=\"data row15 col0\" >CPU Jobs</td>\n",
       "                        <td id=\"T_8ad87_row15_col1\" class=\"data row15 col1\" >-1</td>\n",
       "            </tr>\n",
       "            <tr>\n",
       "                        <th id=\"T_8ad87_level0_row16\" class=\"row_heading level0 row16\" >16</th>\n",
       "                        <td id=\"T_8ad87_row16_col0\" class=\"data row16 col0\" >Use GPU</td>\n",
       "                        <td id=\"T_8ad87_row16_col1\" class=\"data row16 col1\" >False</td>\n",
       "            </tr>\n",
       "            <tr>\n",
       "                        <th id=\"T_8ad87_level0_row17\" class=\"row_heading level0 row17\" >17</th>\n",
       "                        <td id=\"T_8ad87_row17_col0\" class=\"data row17 col0\" >Log Experiment</td>\n",
       "                        <td id=\"T_8ad87_row17_col1\" class=\"data row17 col1\" >False</td>\n",
       "            </tr>\n",
       "            <tr>\n",
       "                        <th id=\"T_8ad87_level0_row18\" class=\"row_heading level0 row18\" >18</th>\n",
       "                        <td id=\"T_8ad87_row18_col0\" class=\"data row18 col0\" >Experiment Name</td>\n",
       "                        <td id=\"T_8ad87_row18_col1\" class=\"data row18 col1\" >reg-default-name</td>\n",
       "            </tr>\n",
       "            <tr>\n",
       "                        <th id=\"T_8ad87_level0_row19\" class=\"row_heading level0 row19\" >19</th>\n",
       "                        <td id=\"T_8ad87_row19_col0\" class=\"data row19 col0\" >USI</td>\n",
       "                        <td id=\"T_8ad87_row19_col1\" class=\"data row19 col1\" >f080</td>\n",
       "            </tr>\n",
       "            <tr>\n",
       "                        <th id=\"T_8ad87_level0_row20\" class=\"row_heading level0 row20\" >20</th>\n",
       "                        <td id=\"T_8ad87_row20_col0\" class=\"data row20 col0\" >Imputation Type</td>\n",
       "                        <td id=\"T_8ad87_row20_col1\" class=\"data row20 col1\" >simple</td>\n",
       "            </tr>\n",
       "            <tr>\n",
       "                        <th id=\"T_8ad87_level0_row21\" class=\"row_heading level0 row21\" >21</th>\n",
       "                        <td id=\"T_8ad87_row21_col0\" class=\"data row21 col0\" >Iterative Imputation Iteration</td>\n",
       "                        <td id=\"T_8ad87_row21_col1\" class=\"data row21 col1\" >None</td>\n",
       "            </tr>\n",
       "            <tr>\n",
       "                        <th id=\"T_8ad87_level0_row22\" class=\"row_heading level0 row22\" >22</th>\n",
       "                        <td id=\"T_8ad87_row22_col0\" class=\"data row22 col0\" >Numeric Imputer</td>\n",
       "                        <td id=\"T_8ad87_row22_col1\" class=\"data row22 col1\" >mean</td>\n",
       "            </tr>\n",
       "            <tr>\n",
       "                        <th id=\"T_8ad87_level0_row23\" class=\"row_heading level0 row23\" >23</th>\n",
       "                        <td id=\"T_8ad87_row23_col0\" class=\"data row23 col0\" >Iterative Imputation Numeric Model</td>\n",
       "                        <td id=\"T_8ad87_row23_col1\" class=\"data row23 col1\" >None</td>\n",
       "            </tr>\n",
       "            <tr>\n",
       "                        <th id=\"T_8ad87_level0_row24\" class=\"row_heading level0 row24\" >24</th>\n",
       "                        <td id=\"T_8ad87_row24_col0\" class=\"data row24 col0\" >Categorical Imputer</td>\n",
       "                        <td id=\"T_8ad87_row24_col1\" class=\"data row24 col1\" >constant</td>\n",
       "            </tr>\n",
       "            <tr>\n",
       "                        <th id=\"T_8ad87_level0_row25\" class=\"row_heading level0 row25\" >25</th>\n",
       "                        <td id=\"T_8ad87_row25_col0\" class=\"data row25 col0\" >Iterative Imputation Categorical Model</td>\n",
       "                        <td id=\"T_8ad87_row25_col1\" class=\"data row25 col1\" >None</td>\n",
       "            </tr>\n",
       "            <tr>\n",
       "                        <th id=\"T_8ad87_level0_row26\" class=\"row_heading level0 row26\" >26</th>\n",
       "                        <td id=\"T_8ad87_row26_col0\" class=\"data row26 col0\" >Unknown Categoricals Handling</td>\n",
       "                        <td id=\"T_8ad87_row26_col1\" class=\"data row26 col1\" >least_frequent</td>\n",
       "            </tr>\n",
       "            <tr>\n",
       "                        <th id=\"T_8ad87_level0_row27\" class=\"row_heading level0 row27\" >27</th>\n",
       "                        <td id=\"T_8ad87_row27_col0\" class=\"data row27 col0\" >Normalize</td>\n",
       "                        <td id=\"T_8ad87_row27_col1\" class=\"data row27 col1\" >False</td>\n",
       "            </tr>\n",
       "            <tr>\n",
       "                        <th id=\"T_8ad87_level0_row28\" class=\"row_heading level0 row28\" >28</th>\n",
       "                        <td id=\"T_8ad87_row28_col0\" class=\"data row28 col0\" >Normalize Method</td>\n",
       "                        <td id=\"T_8ad87_row28_col1\" class=\"data row28 col1\" >None</td>\n",
       "            </tr>\n",
       "            <tr>\n",
       "                        <th id=\"T_8ad87_level0_row29\" class=\"row_heading level0 row29\" >29</th>\n",
       "                        <td id=\"T_8ad87_row29_col0\" class=\"data row29 col0\" >Transformation</td>\n",
       "                        <td id=\"T_8ad87_row29_col1\" class=\"data row29 col1\" >False</td>\n",
       "            </tr>\n",
       "            <tr>\n",
       "                        <th id=\"T_8ad87_level0_row30\" class=\"row_heading level0 row30\" >30</th>\n",
       "                        <td id=\"T_8ad87_row30_col0\" class=\"data row30 col0\" >Transformation Method</td>\n",
       "                        <td id=\"T_8ad87_row30_col1\" class=\"data row30 col1\" >None</td>\n",
       "            </tr>\n",
       "            <tr>\n",
       "                        <th id=\"T_8ad87_level0_row31\" class=\"row_heading level0 row31\" >31</th>\n",
       "                        <td id=\"T_8ad87_row31_col0\" class=\"data row31 col0\" >PCA</td>\n",
       "                        <td id=\"T_8ad87_row31_col1\" class=\"data row31 col1\" >True</td>\n",
       "            </tr>\n",
       "            <tr>\n",
       "                        <th id=\"T_8ad87_level0_row32\" class=\"row_heading level0 row32\" >32</th>\n",
       "                        <td id=\"T_8ad87_row32_col0\" class=\"data row32 col0\" >PCA Method</td>\n",
       "                        <td id=\"T_8ad87_row32_col1\" class=\"data row32 col1\" >linear</td>\n",
       "            </tr>\n",
       "            <tr>\n",
       "                        <th id=\"T_8ad87_level0_row33\" class=\"row_heading level0 row33\" >33</th>\n",
       "                        <td id=\"T_8ad87_row33_col0\" class=\"data row33 col0\" >PCA Components</td>\n",
       "                        <td id=\"T_8ad87_row33_col1\" class=\"data row33 col1\" >0.990000</td>\n",
       "            </tr>\n",
       "            <tr>\n",
       "                        <th id=\"T_8ad87_level0_row34\" class=\"row_heading level0 row34\" >34</th>\n",
       "                        <td id=\"T_8ad87_row34_col0\" class=\"data row34 col0\" >Ignore Low Variance</td>\n",
       "                        <td id=\"T_8ad87_row34_col1\" class=\"data row34 col1\" >False</td>\n",
       "            </tr>\n",
       "            <tr>\n",
       "                        <th id=\"T_8ad87_level0_row35\" class=\"row_heading level0 row35\" >35</th>\n",
       "                        <td id=\"T_8ad87_row35_col0\" class=\"data row35 col0\" >Combine Rare Levels</td>\n",
       "                        <td id=\"T_8ad87_row35_col1\" class=\"data row35 col1\" >False</td>\n",
       "            </tr>\n",
       "            <tr>\n",
       "                        <th id=\"T_8ad87_level0_row36\" class=\"row_heading level0 row36\" >36</th>\n",
       "                        <td id=\"T_8ad87_row36_col0\" class=\"data row36 col0\" >Rare Level Threshold</td>\n",
       "                        <td id=\"T_8ad87_row36_col1\" class=\"data row36 col1\" >None</td>\n",
       "            </tr>\n",
       "            <tr>\n",
       "                        <th id=\"T_8ad87_level0_row37\" class=\"row_heading level0 row37\" >37</th>\n",
       "                        <td id=\"T_8ad87_row37_col0\" class=\"data row37 col0\" >Numeric Binning</td>\n",
       "                        <td id=\"T_8ad87_row37_col1\" class=\"data row37 col1\" >False</td>\n",
       "            </tr>\n",
       "            <tr>\n",
       "                        <th id=\"T_8ad87_level0_row38\" class=\"row_heading level0 row38\" >38</th>\n",
       "                        <td id=\"T_8ad87_row38_col0\" class=\"data row38 col0\" >Remove Outliers</td>\n",
       "                        <td id=\"T_8ad87_row38_col1\" class=\"data row38 col1\" >False</td>\n",
       "            </tr>\n",
       "            <tr>\n",
       "                        <th id=\"T_8ad87_level0_row39\" class=\"row_heading level0 row39\" >39</th>\n",
       "                        <td id=\"T_8ad87_row39_col0\" class=\"data row39 col0\" >Outliers Threshold</td>\n",
       "                        <td id=\"T_8ad87_row39_col1\" class=\"data row39 col1\" >None</td>\n",
       "            </tr>\n",
       "            <tr>\n",
       "                        <th id=\"T_8ad87_level0_row40\" class=\"row_heading level0 row40\" >40</th>\n",
       "                        <td id=\"T_8ad87_row40_col0\" class=\"data row40 col0\" >Remove Multicollinearity</td>\n",
       "                        <td id=\"T_8ad87_row40_col1\" class=\"data row40 col1\" >False</td>\n",
       "            </tr>\n",
       "            <tr>\n",
       "                        <th id=\"T_8ad87_level0_row41\" class=\"row_heading level0 row41\" >41</th>\n",
       "                        <td id=\"T_8ad87_row41_col0\" class=\"data row41 col0\" >Multicollinearity Threshold</td>\n",
       "                        <td id=\"T_8ad87_row41_col1\" class=\"data row41 col1\" >None</td>\n",
       "            </tr>\n",
       "            <tr>\n",
       "                        <th id=\"T_8ad87_level0_row42\" class=\"row_heading level0 row42\" >42</th>\n",
       "                        <td id=\"T_8ad87_row42_col0\" class=\"data row42 col0\" >Remove Perfect Collinearity</td>\n",
       "                        <td id=\"T_8ad87_row42_col1\" class=\"data row42 col1\" >True</td>\n",
       "            </tr>\n",
       "            <tr>\n",
       "                        <th id=\"T_8ad87_level0_row43\" class=\"row_heading level0 row43\" >43</th>\n",
       "                        <td id=\"T_8ad87_row43_col0\" class=\"data row43 col0\" >Clustering</td>\n",
       "                        <td id=\"T_8ad87_row43_col1\" class=\"data row43 col1\" >False</td>\n",
       "            </tr>\n",
       "            <tr>\n",
       "                        <th id=\"T_8ad87_level0_row44\" class=\"row_heading level0 row44\" >44</th>\n",
       "                        <td id=\"T_8ad87_row44_col0\" class=\"data row44 col0\" >Clustering Iteration</td>\n",
       "                        <td id=\"T_8ad87_row44_col1\" class=\"data row44 col1\" >None</td>\n",
       "            </tr>\n",
       "            <tr>\n",
       "                        <th id=\"T_8ad87_level0_row45\" class=\"row_heading level0 row45\" >45</th>\n",
       "                        <td id=\"T_8ad87_row45_col0\" class=\"data row45 col0\" >Polynomial Features</td>\n",
       "                        <td id=\"T_8ad87_row45_col1\" class=\"data row45 col1\" >True</td>\n",
       "            </tr>\n",
       "            <tr>\n",
       "                        <th id=\"T_8ad87_level0_row46\" class=\"row_heading level0 row46\" >46</th>\n",
       "                        <td id=\"T_8ad87_row46_col0\" class=\"data row46 col0\" >Polynomial Degree</td>\n",
       "                        <td id=\"T_8ad87_row46_col1\" class=\"data row46 col1\" >2</td>\n",
       "            </tr>\n",
       "            <tr>\n",
       "                        <th id=\"T_8ad87_level0_row47\" class=\"row_heading level0 row47\" >47</th>\n",
       "                        <td id=\"T_8ad87_row47_col0\" class=\"data row47 col0\" >Trignometry Features</td>\n",
       "                        <td id=\"T_8ad87_row47_col1\" class=\"data row47 col1\" >False</td>\n",
       "            </tr>\n",
       "            <tr>\n",
       "                        <th id=\"T_8ad87_level0_row48\" class=\"row_heading level0 row48\" >48</th>\n",
       "                        <td id=\"T_8ad87_row48_col0\" class=\"data row48 col0\" >Polynomial Threshold</td>\n",
       "                        <td id=\"T_8ad87_row48_col1\" class=\"data row48 col1\" >0.100000</td>\n",
       "            </tr>\n",
       "            <tr>\n",
       "                        <th id=\"T_8ad87_level0_row49\" class=\"row_heading level0 row49\" >49</th>\n",
       "                        <td id=\"T_8ad87_row49_col0\" class=\"data row49 col0\" >Group Features</td>\n",
       "                        <td id=\"T_8ad87_row49_col1\" class=\"data row49 col1\" >False</td>\n",
       "            </tr>\n",
       "            <tr>\n",
       "                        <th id=\"T_8ad87_level0_row50\" class=\"row_heading level0 row50\" >50</th>\n",
       "                        <td id=\"T_8ad87_row50_col0\" class=\"data row50 col0\" >Feature Selection</td>\n",
       "                        <td id=\"T_8ad87_row50_col1\" class=\"data row50 col1\" >False</td>\n",
       "            </tr>\n",
       "            <tr>\n",
       "                        <th id=\"T_8ad87_level0_row51\" class=\"row_heading level0 row51\" >51</th>\n",
       "                        <td id=\"T_8ad87_row51_col0\" class=\"data row51 col0\" >Feature Selection Method</td>\n",
       "                        <td id=\"T_8ad87_row51_col1\" class=\"data row51 col1\" >classic</td>\n",
       "            </tr>\n",
       "            <tr>\n",
       "                        <th id=\"T_8ad87_level0_row52\" class=\"row_heading level0 row52\" >52</th>\n",
       "                        <td id=\"T_8ad87_row52_col0\" class=\"data row52 col0\" >Features Selection Threshold</td>\n",
       "                        <td id=\"T_8ad87_row52_col1\" class=\"data row52 col1\" >None</td>\n",
       "            </tr>\n",
       "            <tr>\n",
       "                        <th id=\"T_8ad87_level0_row53\" class=\"row_heading level0 row53\" >53</th>\n",
       "                        <td id=\"T_8ad87_row53_col0\" class=\"data row53 col0\" >Feature Interaction</td>\n",
       "                        <td id=\"T_8ad87_row53_col1\" class=\"data row53 col1\" >False</td>\n",
       "            </tr>\n",
       "            <tr>\n",
       "                        <th id=\"T_8ad87_level0_row54\" class=\"row_heading level0 row54\" >54</th>\n",
       "                        <td id=\"T_8ad87_row54_col0\" class=\"data row54 col0\" >Feature Ratio</td>\n",
       "                        <td id=\"T_8ad87_row54_col1\" class=\"data row54 col1\" >False</td>\n",
       "            </tr>\n",
       "            <tr>\n",
       "                        <th id=\"T_8ad87_level0_row55\" class=\"row_heading level0 row55\" >55</th>\n",
       "                        <td id=\"T_8ad87_row55_col0\" class=\"data row55 col0\" >Interaction Threshold</td>\n",
       "                        <td id=\"T_8ad87_row55_col1\" class=\"data row55 col1\" >None</td>\n",
       "            </tr>\n",
       "            <tr>\n",
       "                        <th id=\"T_8ad87_level0_row56\" class=\"row_heading level0 row56\" >56</th>\n",
       "                        <td id=\"T_8ad87_row56_col0\" class=\"data row56 col0\" >Transform Target</td>\n",
       "                        <td id=\"T_8ad87_row56_col1\" class=\"data row56 col1\" >False</td>\n",
       "            </tr>\n",
       "            <tr>\n",
       "                        <th id=\"T_8ad87_level0_row57\" class=\"row_heading level0 row57\" >57</th>\n",
       "                        <td id=\"T_8ad87_row57_col0\" class=\"data row57 col0\" >Transform Target Method</td>\n",
       "                        <td id=\"T_8ad87_row57_col1\" class=\"data row57 col1\" >box-cox</td>\n",
       "            </tr>\n",
       "    </tbody></table>"
      ],
      "text/plain": [
       "<pandas.io.formats.style.Styler at 0x2584de48610>"
      ]
     },
     "metadata": {},
     "output_type": "display_data"
    }
   ],
   "source": [
    "# 학습 특성 : 'month', 'weekday', '시간'\n",
    "# 타겟 특성 : '습도'\n",
    "\n",
    "# 적용 특성 설정\n",
    "exp = setup(total, target='습도', ignore_features=['공급량', 'year', 'day', '기온', '기압', '구분'],\n",
    "            pca=True,\n",
    "            polynomial_features=True, polynomial_degree=2)"
   ]
  },
  {
   "cell_type": "code",
   "execution_count": 17,
   "metadata": {},
   "outputs": [
    {
     "data": {
      "text/html": [
       "<style  type=\"text/css\" >\n",
       "    #T_30d12_ th {\n",
       "          text-align: left;\n",
       "    }#T_30d12_row0_col0,#T_30d12_row0_col1,#T_30d12_row0_col2,#T_30d12_row1_col0,#T_30d12_row1_col1,#T_30d12_row1_col2,#T_30d12_row2_col0,#T_30d12_row3_col0,#T_30d12_row3_col1,#T_30d12_row3_col2,#T_30d12_row4_col0,#T_30d12_row4_col1,#T_30d12_row4_col2,#T_30d12_row5_col0,#T_30d12_row5_col1,#T_30d12_row5_col2,#T_30d12_row5_col3,#T_30d12_row5_col4,#T_30d12_row5_col6,#T_30d12_row6_col0,#T_30d12_row6_col1,#T_30d12_row6_col2,#T_30d12_row6_col3,#T_30d12_row6_col4,#T_30d12_row6_col5,#T_30d12_row6_col6,#T_30d12_row7_col0,#T_30d12_row7_col1,#T_30d12_row7_col2,#T_30d12_row7_col3,#T_30d12_row7_col4,#T_30d12_row7_col5,#T_30d12_row7_col6,#T_30d12_row8_col0,#T_30d12_row8_col1,#T_30d12_row8_col2,#T_30d12_row8_col3,#T_30d12_row8_col4,#T_30d12_row8_col5,#T_30d12_row8_col6,#T_30d12_row9_col0,#T_30d12_row9_col1,#T_30d12_row9_col2,#T_30d12_row9_col3,#T_30d12_row9_col4,#T_30d12_row9_col5,#T_30d12_row9_col6,#T_30d12_row10_col0,#T_30d12_row10_col1,#T_30d12_row10_col2,#T_30d12_row10_col3,#T_30d12_row10_col4,#T_30d12_row10_col5,#T_30d12_row10_col6,#T_30d12_row11_col0,#T_30d12_row11_col1,#T_30d12_row11_col2,#T_30d12_row11_col3,#T_30d12_row11_col4,#T_30d12_row11_col5,#T_30d12_row11_col6,#T_30d12_row12_col0,#T_30d12_row12_col1,#T_30d12_row12_col2,#T_30d12_row12_col3,#T_30d12_row12_col4,#T_30d12_row12_col5,#T_30d12_row12_col6,#T_30d12_row13_col0,#T_30d12_row13_col1,#T_30d12_row13_col2,#T_30d12_row13_col3,#T_30d12_row13_col4,#T_30d12_row13_col5,#T_30d12_row13_col6,#T_30d12_row14_col0,#T_30d12_row14_col1,#T_30d12_row14_col2,#T_30d12_row14_col3,#T_30d12_row14_col4,#T_30d12_row14_col5,#T_30d12_row14_col6,#T_30d12_row15_col0,#T_30d12_row15_col1,#T_30d12_row15_col2,#T_30d12_row15_col3,#T_30d12_row15_col4,#T_30d12_row15_col5,#T_30d12_row15_col6,#T_30d12_row16_col0,#T_30d12_row16_col1,#T_30d12_row16_col2,#T_30d12_row16_col3,#T_30d12_row16_col4,#T_30d12_row16_col5,#T_30d12_row16_col6,#T_30d12_row17_col0,#T_30d12_row17_col1,#T_30d12_row17_col2,#T_30d12_row17_col3,#T_30d12_row17_col4,#T_30d12_row17_col5,#T_30d12_row17_col6,#T_30d12_row18_col0,#T_30d12_row18_col1,#T_30d12_row18_col2,#T_30d12_row18_col3,#T_30d12_row18_col4,#T_30d12_row18_col5,#T_30d12_row18_col6{\n",
       "            text-align:  left;\n",
       "            text-align:  left;\n",
       "        }#T_30d12_row0_col3,#T_30d12_row0_col4,#T_30d12_row0_col5,#T_30d12_row0_col6,#T_30d12_row1_col3,#T_30d12_row1_col4,#T_30d12_row1_col5,#T_30d12_row1_col6,#T_30d12_row2_col1,#T_30d12_row2_col2,#T_30d12_row2_col3,#T_30d12_row2_col4,#T_30d12_row2_col5,#T_30d12_row2_col6,#T_30d12_row3_col3,#T_30d12_row3_col4,#T_30d12_row3_col5,#T_30d12_row3_col6,#T_30d12_row4_col3,#T_30d12_row4_col4,#T_30d12_row4_col5,#T_30d12_row4_col6,#T_30d12_row5_col5{\n",
       "            text-align:  left;\n",
       "            text-align:  left;\n",
       "            background-color:  yellow;\n",
       "        }#T_30d12_row0_col7,#T_30d12_row1_col7,#T_30d12_row2_col7,#T_30d12_row3_col7,#T_30d12_row4_col7,#T_30d12_row5_col7,#T_30d12_row6_col7,#T_30d12_row7_col7,#T_30d12_row8_col7,#T_30d12_row9_col7,#T_30d12_row10_col7,#T_30d12_row11_col7,#T_30d12_row12_col7,#T_30d12_row14_col7,#T_30d12_row15_col7,#T_30d12_row16_col7,#T_30d12_row17_col7,#T_30d12_row18_col7{\n",
       "            text-align:  left;\n",
       "            text-align:  left;\n",
       "            background-color:  lightgrey;\n",
       "        }#T_30d12_row13_col7{\n",
       "            text-align:  left;\n",
       "            text-align:  left;\n",
       "            background-color:  yellow;\n",
       "            background-color:  lightgrey;\n",
       "        }</style><table id=\"T_30d12_\" ><thead>    <tr>        <th class=\"blank level0\" ></th>        <th class=\"col_heading level0 col0\" >Model</th>        <th class=\"col_heading level0 col1\" >MAE</th>        <th class=\"col_heading level0 col2\" >MSE</th>        <th class=\"col_heading level0 col3\" >RMSE</th>        <th class=\"col_heading level0 col4\" >R2</th>        <th class=\"col_heading level0 col5\" >RMSLE</th>        <th class=\"col_heading level0 col6\" >MAPE</th>        <th class=\"col_heading level0 col7\" >TT (Sec)</th>    </tr></thead><tbody>\n",
       "                <tr>\n",
       "                        <th id=\"T_30d12_level0_row0\" class=\"row_heading level0 row0\" >dt</th>\n",
       "                        <td id=\"T_30d12_row0_col0\" class=\"data row0 col0\" >Decision Tree Regressor</td>\n",
       "                        <td id=\"T_30d12_row0_col1\" class=\"data row0 col1\" >14.3646</td>\n",
       "                        <td id=\"T_30d12_row0_col2\" class=\"data row0 col2\" >311.3889</td>\n",
       "                        <td id=\"T_30d12_row0_col3\" class=\"data row0 col3\" >17.6461</td>\n",
       "                        <td id=\"T_30d12_row0_col4\" class=\"data row0 col4\" >0.2158</td>\n",
       "                        <td id=\"T_30d12_row0_col5\" class=\"data row0 col5\" >0.3315</td>\n",
       "                        <td id=\"T_30d12_row0_col6\" class=\"data row0 col6\" >0.2990</td>\n",
       "                        <td id=\"T_30d12_row0_col7\" class=\"data row0 col7\" >0.0810</td>\n",
       "            </tr>\n",
       "            <tr>\n",
       "                        <th id=\"T_30d12_level0_row1\" class=\"row_heading level0 row1\" >et</th>\n",
       "                        <td id=\"T_30d12_row1_col0\" class=\"data row1 col0\" >Extra Trees Regressor</td>\n",
       "                        <td id=\"T_30d12_row1_col1\" class=\"data row1 col1\" >14.3646</td>\n",
       "                        <td id=\"T_30d12_row1_col2\" class=\"data row1 col2\" >311.3889</td>\n",
       "                        <td id=\"T_30d12_row1_col3\" class=\"data row1 col3\" >17.6461</td>\n",
       "                        <td id=\"T_30d12_row1_col4\" class=\"data row1 col4\" >0.2158</td>\n",
       "                        <td id=\"T_30d12_row1_col5\" class=\"data row1 col5\" >0.3315</td>\n",
       "                        <td id=\"T_30d12_row1_col6\" class=\"data row1 col6\" >0.2990</td>\n",
       "                        <td id=\"T_30d12_row1_col7\" class=\"data row1 col7\" >2.2310</td>\n",
       "            </tr>\n",
       "            <tr>\n",
       "                        <th id=\"T_30d12_level0_row2\" class=\"row_heading level0 row2\" >rf</th>\n",
       "                        <td id=\"T_30d12_row2_col0\" class=\"data row2 col0\" >Random Forest Regressor</td>\n",
       "                        <td id=\"T_30d12_row2_col1\" class=\"data row2 col1\" >14.3644</td>\n",
       "                        <td id=\"T_30d12_row2_col2\" class=\"data row2 col2\" >311.3885</td>\n",
       "                        <td id=\"T_30d12_row2_col3\" class=\"data row2 col3\" >17.6461</td>\n",
       "                        <td id=\"T_30d12_row2_col4\" class=\"data row2 col4\" >0.2158</td>\n",
       "                        <td id=\"T_30d12_row2_col5\" class=\"data row2 col5\" >0.3315</td>\n",
       "                        <td id=\"T_30d12_row2_col6\" class=\"data row2 col6\" >0.2990</td>\n",
       "                        <td id=\"T_30d12_row2_col7\" class=\"data row2 col7\" >5.9270</td>\n",
       "            </tr>\n",
       "            <tr>\n",
       "                        <th id=\"T_30d12_level0_row3\" class=\"row_heading level0 row3\" >lightgbm</th>\n",
       "                        <td id=\"T_30d12_row3_col0\" class=\"data row3 col0\" >Light Gradient Boosting Machine</td>\n",
       "                        <td id=\"T_30d12_row3_col1\" class=\"data row3 col1\" >14.3646</td>\n",
       "                        <td id=\"T_30d12_row3_col2\" class=\"data row3 col2\" >311.3889</td>\n",
       "                        <td id=\"T_30d12_row3_col3\" class=\"data row3 col3\" >17.6461</td>\n",
       "                        <td id=\"T_30d12_row3_col4\" class=\"data row3 col4\" >0.2158</td>\n",
       "                        <td id=\"T_30d12_row3_col5\" class=\"data row3 col5\" >0.3315</td>\n",
       "                        <td id=\"T_30d12_row3_col6\" class=\"data row3 col6\" >0.2990</td>\n",
       "                        <td id=\"T_30d12_row3_col7\" class=\"data row3 col7\" >0.9730</td>\n",
       "            </tr>\n",
       "            <tr>\n",
       "                        <th id=\"T_30d12_level0_row4\" class=\"row_heading level0 row4\" >xgboost</th>\n",
       "                        <td id=\"T_30d12_row4_col0\" class=\"data row4 col0\" >Extreme Gradient Boosting</td>\n",
       "                        <td id=\"T_30d12_row4_col1\" class=\"data row4 col1\" >14.3646</td>\n",
       "                        <td id=\"T_30d12_row4_col2\" class=\"data row4 col2\" >311.3889</td>\n",
       "                        <td id=\"T_30d12_row4_col3\" class=\"data row4 col3\" >17.6461</td>\n",
       "                        <td id=\"T_30d12_row4_col4\" class=\"data row4 col4\" >0.2158</td>\n",
       "                        <td id=\"T_30d12_row4_col5\" class=\"data row4 col5\" >0.3315</td>\n",
       "                        <td id=\"T_30d12_row4_col6\" class=\"data row4 col6\" >0.2990</td>\n",
       "                        <td id=\"T_30d12_row4_col7\" class=\"data row4 col7\" >3.2270</td>\n",
       "            </tr>\n",
       "            <tr>\n",
       "                        <th id=\"T_30d12_level0_row5\" class=\"row_heading level0 row5\" >gbr</th>\n",
       "                        <td id=\"T_30d12_row5_col0\" class=\"data row5 col0\" >Gradient Boosting Regressor</td>\n",
       "                        <td id=\"T_30d12_row5_col1\" class=\"data row5 col1\" >14.3685</td>\n",
       "                        <td id=\"T_30d12_row5_col2\" class=\"data row5 col2\" >311.4224</td>\n",
       "                        <td id=\"T_30d12_row5_col3\" class=\"data row5 col3\" >17.6471</td>\n",
       "                        <td id=\"T_30d12_row5_col4\" class=\"data row5 col4\" >0.2157</td>\n",
       "                        <td id=\"T_30d12_row5_col5\" class=\"data row5 col5\" >0.3315</td>\n",
       "                        <td id=\"T_30d12_row5_col6\" class=\"data row5 col6\" >0.2991</td>\n",
       "                        <td id=\"T_30d12_row5_col7\" class=\"data row5 col7\" >5.2170</td>\n",
       "            </tr>\n",
       "            <tr>\n",
       "                        <th id=\"T_30d12_level0_row6\" class=\"row_heading level0 row6\" >catboost</th>\n",
       "                        <td id=\"T_30d12_row6_col0\" class=\"data row6 col0\" >CatBoost Regressor</td>\n",
       "                        <td id=\"T_30d12_row6_col1\" class=\"data row6 col1\" >14.3722</td>\n",
       "                        <td id=\"T_30d12_row6_col2\" class=\"data row6 col2\" >311.6234</td>\n",
       "                        <td id=\"T_30d12_row6_col3\" class=\"data row6 col3\" >17.6527</td>\n",
       "                        <td id=\"T_30d12_row6_col4\" class=\"data row6 col4\" >0.2152</td>\n",
       "                        <td id=\"T_30d12_row6_col5\" class=\"data row6 col5\" >0.3316</td>\n",
       "                        <td id=\"T_30d12_row6_col6\" class=\"data row6 col6\" >0.2992</td>\n",
       "                        <td id=\"T_30d12_row6_col7\" class=\"data row6 col7\" >17.5940</td>\n",
       "            </tr>\n",
       "            <tr>\n",
       "                        <th id=\"T_30d12_level0_row7\" class=\"row_heading level0 row7\" >ada</th>\n",
       "                        <td id=\"T_30d12_row7_col0\" class=\"data row7 col0\" >AdaBoost Regressor</td>\n",
       "                        <td id=\"T_30d12_row7_col1\" class=\"data row7 col1\" >14.8250</td>\n",
       "                        <td id=\"T_30d12_row7_col2\" class=\"data row7 col2\" >322.1379</td>\n",
       "                        <td id=\"T_30d12_row7_col3\" class=\"data row7 col3\" >17.9481</td>\n",
       "                        <td id=\"T_30d12_row7_col4\" class=\"data row7 col4\" >0.1887</td>\n",
       "                        <td id=\"T_30d12_row7_col5\" class=\"data row7 col5\" >0.3440</td>\n",
       "                        <td id=\"T_30d12_row7_col6\" class=\"data row7 col6\" >0.3198</td>\n",
       "                        <td id=\"T_30d12_row7_col7\" class=\"data row7 col7\" >2.4350</td>\n",
       "            </tr>\n",
       "            <tr>\n",
       "                        <th id=\"T_30d12_level0_row8\" class=\"row_heading level0 row8\" >knn</th>\n",
       "                        <td id=\"T_30d12_row8_col0\" class=\"data row8 col0\" >K Neighbors Regressor</td>\n",
       "                        <td id=\"T_30d12_row8_col1\" class=\"data row8 col1\" >15.7183</td>\n",
       "                        <td id=\"T_30d12_row8_col2\" class=\"data row8 col2\" >379.3993</td>\n",
       "                        <td id=\"T_30d12_row8_col3\" class=\"data row8 col3\" >19.4745</td>\n",
       "                        <td id=\"T_30d12_row8_col4\" class=\"data row8 col4\" >0.0443</td>\n",
       "                        <td id=\"T_30d12_row8_col5\" class=\"data row8 col5\" >0.3619</td>\n",
       "                        <td id=\"T_30d12_row8_col6\" class=\"data row8 col6\" >0.3235</td>\n",
       "                        <td id=\"T_30d12_row8_col7\" class=\"data row8 col7\" >5.9100</td>\n",
       "            </tr>\n",
       "            <tr>\n",
       "                        <th id=\"T_30d12_level0_row9\" class=\"row_heading level0 row9\" >lr</th>\n",
       "                        <td id=\"T_30d12_row9_col0\" class=\"data row9 col0\" >Linear Regression</td>\n",
       "                        <td id=\"T_30d12_row9_col1\" class=\"data row9 col1\" >16.5378</td>\n",
       "                        <td id=\"T_30d12_row9_col2\" class=\"data row9 col2\" >390.8147</td>\n",
       "                        <td id=\"T_30d12_row9_col3\" class=\"data row9 col3\" >19.7689</td>\n",
       "                        <td id=\"T_30d12_row9_col4\" class=\"data row9 col4\" >0.0157</td>\n",
       "                        <td id=\"T_30d12_row9_col5\" class=\"data row9 col5\" >0.3752</td>\n",
       "                        <td id=\"T_30d12_row9_col6\" class=\"data row9 col6\" >0.3565</td>\n",
       "                        <td id=\"T_30d12_row9_col7\" class=\"data row9 col7\" >0.6450</td>\n",
       "            </tr>\n",
       "            <tr>\n",
       "                        <th id=\"T_30d12_level0_row10\" class=\"row_heading level0 row10\" >lar</th>\n",
       "                        <td id=\"T_30d12_row10_col0\" class=\"data row10 col0\" >Least Angle Regression</td>\n",
       "                        <td id=\"T_30d12_row10_col1\" class=\"data row10 col1\" >16.5378</td>\n",
       "                        <td id=\"T_30d12_row10_col2\" class=\"data row10 col2\" >390.8147</td>\n",
       "                        <td id=\"T_30d12_row10_col3\" class=\"data row10 col3\" >19.7689</td>\n",
       "                        <td id=\"T_30d12_row10_col4\" class=\"data row10 col4\" >0.0157</td>\n",
       "                        <td id=\"T_30d12_row10_col5\" class=\"data row10 col5\" >0.3752</td>\n",
       "                        <td id=\"T_30d12_row10_col6\" class=\"data row10 col6\" >0.3565</td>\n",
       "                        <td id=\"T_30d12_row10_col7\" class=\"data row10 col7\" >0.0260</td>\n",
       "            </tr>\n",
       "            <tr>\n",
       "                        <th id=\"T_30d12_level0_row11\" class=\"row_heading level0 row11\" >omp</th>\n",
       "                        <td id=\"T_30d12_row11_col0\" class=\"data row11 col0\" >Orthogonal Matching Pursuit</td>\n",
       "                        <td id=\"T_30d12_row11_col1\" class=\"data row11 col1\" >16.5378</td>\n",
       "                        <td id=\"T_30d12_row11_col2\" class=\"data row11 col2\" >390.8147</td>\n",
       "                        <td id=\"T_30d12_row11_col3\" class=\"data row11 col3\" >19.7689</td>\n",
       "                        <td id=\"T_30d12_row11_col4\" class=\"data row11 col4\" >0.0157</td>\n",
       "                        <td id=\"T_30d12_row11_col5\" class=\"data row11 col5\" >0.3752</td>\n",
       "                        <td id=\"T_30d12_row11_col6\" class=\"data row11 col6\" >0.3565</td>\n",
       "                        <td id=\"T_30d12_row11_col7\" class=\"data row11 col7\" >0.0330</td>\n",
       "            </tr>\n",
       "            <tr>\n",
       "                        <th id=\"T_30d12_level0_row12\" class=\"row_heading level0 row12\" >br</th>\n",
       "                        <td id=\"T_30d12_row12_col0\" class=\"data row12 col0\" >Bayesian Ridge</td>\n",
       "                        <td id=\"T_30d12_row12_col1\" class=\"data row12 col1\" >16.5378</td>\n",
       "                        <td id=\"T_30d12_row12_col2\" class=\"data row12 col2\" >390.8147</td>\n",
       "                        <td id=\"T_30d12_row12_col3\" class=\"data row12 col3\" >19.7689</td>\n",
       "                        <td id=\"T_30d12_row12_col4\" class=\"data row12 col4\" >0.0157</td>\n",
       "                        <td id=\"T_30d12_row12_col5\" class=\"data row12 col5\" >0.3752</td>\n",
       "                        <td id=\"T_30d12_row12_col6\" class=\"data row12 col6\" >0.3565</td>\n",
       "                        <td id=\"T_30d12_row12_col7\" class=\"data row12 col7\" >0.0460</td>\n",
       "            </tr>\n",
       "            <tr>\n",
       "                        <th id=\"T_30d12_level0_row13\" class=\"row_heading level0 row13\" >ridge</th>\n",
       "                        <td id=\"T_30d12_row13_col0\" class=\"data row13 col0\" >Ridge Regression</td>\n",
       "                        <td id=\"T_30d12_row13_col1\" class=\"data row13 col1\" >16.5378</td>\n",
       "                        <td id=\"T_30d12_row13_col2\" class=\"data row13 col2\" >390.8147</td>\n",
       "                        <td id=\"T_30d12_row13_col3\" class=\"data row13 col3\" >19.7689</td>\n",
       "                        <td id=\"T_30d12_row13_col4\" class=\"data row13 col4\" >0.0157</td>\n",
       "                        <td id=\"T_30d12_row13_col5\" class=\"data row13 col5\" >0.3752</td>\n",
       "                        <td id=\"T_30d12_row13_col6\" class=\"data row13 col6\" >0.3565</td>\n",
       "                        <td id=\"T_30d12_row13_col7\" class=\"data row13 col7\" >0.0230</td>\n",
       "            </tr>\n",
       "            <tr>\n",
       "                        <th id=\"T_30d12_level0_row14\" class=\"row_heading level0 row14\" >en</th>\n",
       "                        <td id=\"T_30d12_row14_col0\" class=\"data row14 col0\" >Elastic Net</td>\n",
       "                        <td id=\"T_30d12_row14_col1\" class=\"data row14 col1\" >16.5378</td>\n",
       "                        <td id=\"T_30d12_row14_col2\" class=\"data row14 col2\" >390.8147</td>\n",
       "                        <td id=\"T_30d12_row14_col3\" class=\"data row14 col3\" >19.7689</td>\n",
       "                        <td id=\"T_30d12_row14_col4\" class=\"data row14 col4\" >0.0157</td>\n",
       "                        <td id=\"T_30d12_row14_col5\" class=\"data row14 col5\" >0.3752</td>\n",
       "                        <td id=\"T_30d12_row14_col6\" class=\"data row14 col6\" >0.3565</td>\n",
       "                        <td id=\"T_30d12_row14_col7\" class=\"data row14 col7\" >0.0260</td>\n",
       "            </tr>\n",
       "            <tr>\n",
       "                        <th id=\"T_30d12_level0_row15\" class=\"row_heading level0 row15\" >lasso</th>\n",
       "                        <td id=\"T_30d12_row15_col0\" class=\"data row15 col0\" >Lasso Regression</td>\n",
       "                        <td id=\"T_30d12_row15_col1\" class=\"data row15 col1\" >16.5379</td>\n",
       "                        <td id=\"T_30d12_row15_col2\" class=\"data row15 col2\" >390.8147</td>\n",
       "                        <td id=\"T_30d12_row15_col3\" class=\"data row15 col3\" >19.7689</td>\n",
       "                        <td id=\"T_30d12_row15_col4\" class=\"data row15 col4\" >0.0157</td>\n",
       "                        <td id=\"T_30d12_row15_col5\" class=\"data row15 col5\" >0.3752</td>\n",
       "                        <td id=\"T_30d12_row15_col6\" class=\"data row15 col6\" >0.3565</td>\n",
       "                        <td id=\"T_30d12_row15_col7\" class=\"data row15 col7\" >0.0280</td>\n",
       "            </tr>\n",
       "            <tr>\n",
       "                        <th id=\"T_30d12_level0_row16\" class=\"row_heading level0 row16\" >huber</th>\n",
       "                        <td id=\"T_30d12_row16_col0\" class=\"data row16 col0\" >Huber Regressor</td>\n",
       "                        <td id=\"T_30d12_row16_col1\" class=\"data row16 col1\" >16.5350</td>\n",
       "                        <td id=\"T_30d12_row16_col2\" class=\"data row16 col2\" >390.9470</td>\n",
       "                        <td id=\"T_30d12_row16_col3\" class=\"data row16 col3\" >19.7723</td>\n",
       "                        <td id=\"T_30d12_row16_col4\" class=\"data row16 col4\" >0.0154</td>\n",
       "                        <td id=\"T_30d12_row16_col5\" class=\"data row16 col5\" >0.3755</td>\n",
       "                        <td id=\"T_30d12_row16_col6\" class=\"data row16 col6\" >0.3569</td>\n",
       "                        <td id=\"T_30d12_row16_col7\" class=\"data row16 col7\" >0.2630</td>\n",
       "            </tr>\n",
       "            <tr>\n",
       "                        <th id=\"T_30d12_level0_row17\" class=\"row_heading level0 row17\" >llar</th>\n",
       "                        <td id=\"T_30d12_row17_col0\" class=\"data row17 col0\" >Lasso Least Angle Regression</td>\n",
       "                        <td id=\"T_30d12_row17_col1\" class=\"data row17 col1\" >16.6934</td>\n",
       "                        <td id=\"T_30d12_row17_col2\" class=\"data row17 col2\" >397.1035</td>\n",
       "                        <td id=\"T_30d12_row17_col3\" class=\"data row17 col3\" >19.9273</td>\n",
       "                        <td id=\"T_30d12_row17_col4\" class=\"data row17 col4\" >-0.0001</td>\n",
       "                        <td id=\"T_30d12_row17_col5\" class=\"data row17 col5\" >0.3776</td>\n",
       "                        <td id=\"T_30d12_row17_col6\" class=\"data row17 col6\" >0.3599</td>\n",
       "                        <td id=\"T_30d12_row17_col7\" class=\"data row17 col7\" >0.0250</td>\n",
       "            </tr>\n",
       "            <tr>\n",
       "                        <th id=\"T_30d12_level0_row18\" class=\"row_heading level0 row18\" >par</th>\n",
       "                        <td id=\"T_30d12_row18_col0\" class=\"data row18 col0\" >Passive Aggressive Regressor</td>\n",
       "                        <td id=\"T_30d12_row18_col1\" class=\"data row18 col1\" >51.1589</td>\n",
       "                        <td id=\"T_30d12_row18_col2\" class=\"data row18 col2\" >5449.5739</td>\n",
       "                        <td id=\"T_30d12_row18_col3\" class=\"data row18 col3\" >60.2095</td>\n",
       "                        <td id=\"T_30d12_row18_col4\" class=\"data row18 col4\" >-12.7012</td>\n",
       "                        <td id=\"T_30d12_row18_col5\" class=\"data row18 col5\" >0.7184</td>\n",
       "                        <td id=\"T_30d12_row18_col6\" class=\"data row18 col6\" >0.9012</td>\n",
       "                        <td id=\"T_30d12_row18_col7\" class=\"data row18 col7\" >0.1500</td>\n",
       "            </tr>\n",
       "    </tbody></table>"
      ],
      "text/plain": [
       "<pandas.io.formats.style.Styler at 0x2583e92ad30>"
      ]
     },
     "metadata": {},
     "output_type": "display_data"
    },
    {
     "name": "stdout",
     "output_type": "stream",
     "text": [
      "0:07:35\n"
     ]
    }
   ],
   "source": [
    "# 모델 비교\n",
    "start = time.time()\n",
    "\n",
    "compare_models()\n",
    "\n",
    "end = time.time()\n",
    "sec = end - start\n",
    "result = datetime.timedelta(seconds=sec)\n",
    "print(str(result).split('.')[0])"
   ]
  },
  {
   "cell_type": "markdown",
   "metadata": {},
   "source": [
    "### Top2 모델\n",
    "* catboost\n",
    "* lightgbm"
   ]
  },
  {
   "cell_type": "code",
   "execution_count": null,
   "metadata": {},
   "outputs": [],
   "source": [
    "# lightgbm 모델 생성\n",
    "start = time.time()\n",
    "\n",
    "lgbm = create_model('lightgbm')\n",
    "\n",
    "end = time.time()\n",
    "sec = end - start\n",
    "result = datetime.timedelta(seconds=sec)\n",
    "print(str(result).split('.')[0])"
   ]
  },
  {
   "cell_type": "code",
   "execution_count": null,
   "metadata": {
    "scrolled": false
   },
   "outputs": [],
   "source": [
    "# catboost 모델 생성\n",
    "start = time.time()\n",
    "\n",
    "cat = create_model('catboost')\n",
    "\n",
    "end = time.time()\n",
    "sec = end - start\n",
    "result = datetime.timedelta(seconds=sec)\n",
    "print(str(result).split('.')[0])"
   ]
  },
  {
   "cell_type": "code",
   "execution_count": null,
   "metadata": {
    "scrolled": false
   },
   "outputs": [],
   "source": [
    "# lightgbm 모델 하이퍼파라미터 튜닝\n",
    "start = time.time()\n",
    "\n",
    "tuned_lgbm = tune_model(lgbm)\n",
    "\n",
    "end = time.time()\n",
    "sec = end - start\n",
    "result = datetime.timedelta(seconds=sec)\n",
    "print(str(result).split('.')[0])"
   ]
  },
  {
   "cell_type": "code",
   "execution_count": null,
   "metadata": {},
   "outputs": [],
   "source": [
    "# catboost 모델 하이퍼파라미터 튜닝\n",
    "start = time.time()\n",
    "\n",
    "tuned_cat = tune_model(cat)\n",
    "\n",
    "end = time.time()\n",
    "sec = end - start\n",
    "result = datetime.timedelta(seconds=sec)\n",
    "print(str(result).split('.')[0])"
   ]
  },
  {
   "cell_type": "code",
   "execution_count": null,
   "metadata": {},
   "outputs": [],
   "source": [
    "# lgbm 모델 훈련 완료(모든 샘플에 대해 재훈련)\n",
    "start = time.time()\n",
    "\n",
    "humidity_prediction_lgbm = finalize_model(tuned_lgbm)\n",
    "\n",
    "end = time.time()\n",
    "sec = end - start\n",
    "result = datetime.timedelta(seconds=sec)\n",
    "print(str(result).split('.')[0])"
   ]
  },
  {
   "cell_type": "code",
   "execution_count": null,
   "metadata": {},
   "outputs": [],
   "source": [
    "# cat 모델 훈련 완료(모든 샘플에 대해 재훈련)\n",
    "start = time.time()\n",
    "\n",
    "humidity_prediction_cat = finalize_model(tuned_cat)\n",
    "\n",
    "end = time.time()\n",
    "sec = end - start\n",
    "result = datetime.timedelta(seconds=sec)\n",
    "print(str(result).split('.')[0])"
   ]
  },
  {
   "cell_type": "code",
   "execution_count": null,
   "metadata": {
    "colab": {
     "base_uri": "https://localhost:8080/"
    },
    "id": "m56hcn4s5x9L",
    "outputId": "579564cb-8c83-4f5d-d4e0-201b7d9a4a26"
   },
   "outputs": [],
   "source": [
    "# lgbm 모델 습도 예측\n",
    "start = time.time()\n",
    "\n",
    "df = test2019[['month', 'weekday', '시간']]\n",
    "humidity2019_pred_lgbm = predict_model(humidity_prediction_lgbm, data=df)\n",
    "\n",
    "end = time.time()\n",
    "sec = end - start\n",
    "result = datetime.timedelta(seconds=sec)\n",
    "print(str(result).split('.')[0])"
   ]
  },
  {
   "cell_type": "code",
   "execution_count": null,
   "metadata": {
    "scrolled": true
   },
   "outputs": [],
   "source": [
    "# cat 모델 습도 예측\n",
    "start = time.time()\n",
    "\n",
    "df = test2019[['month', 'weekday', '시간']]\n",
    "humidity2019_pred_cat = predict_model(humidity_prediction_cat, data=df)\n",
    "\n",
    "end = time.time()\n",
    "sec = end - start\n",
    "result = datetime.timedelta(seconds=sec)\n",
    "print(str(result).split('.')[0])"
   ]
  },
  {
   "cell_type": "code",
   "execution_count": null,
   "metadata": {
    "scrolled": true
   },
   "outputs": [],
   "source": [
    "humidity2019_pred_lgbm.head()"
   ]
  },
  {
   "cell_type": "code",
   "execution_count": null,
   "metadata": {},
   "outputs": [],
   "source": [
    "humidity2019_pred_cat.head()"
   ]
  },
  {
   "cell_type": "code",
   "execution_count": null,
   "metadata": {
    "colab": {
     "base_uri": "https://localhost:8080/",
     "height": 204
    },
    "id": "bMCFAjs-5x9L",
    "outputId": "2141d4ae-fd67-47e4-cc28-8a65ff25582c"
   },
   "outputs": [],
   "source": [
    "# 두 모델 습도 예측 평균\n",
    "humidity2019_pred = (humidity2019_pred_lgbm['Label'] + humidity2019_pred_cat['Label']) / 2\n",
    "humidity2019_pred.head()"
   ]
  },
  {
   "cell_type": "code",
   "execution_count": null,
   "metadata": {
    "colab": {
     "base_uri": "https://localhost:8080/",
     "height": 204
    },
    "id": "iqKzrtVO5x9M",
    "outputId": "9a869ab3-4fae-4cb6-9b84-e158ad514abd"
   },
   "outputs": [],
   "source": [
    "test2019.head()"
   ]
  },
  {
   "cell_type": "code",
   "execution_count": null,
   "metadata": {
    "id": "P50WJWRF5x9P"
   },
   "outputs": [],
   "source": [
    "# 2019년 예측 습도 열 추가\n",
    "test2019['습도'] = humidity2019_pred\n",
    "test2019.head()"
   ]
  },
  {
   "cell_type": "markdown",
   "metadata": {},
   "source": [
    "## 기압 예측"
   ]
  },
  {
   "cell_type": "code",
   "execution_count": null,
   "metadata": {},
   "outputs": [],
   "source": [
    "# 학습 특성 : 'month', 'weekday', '시간'\n",
    "# 타겟 특성 : '기압'\n",
    "\n",
    "exp = setup(total, target='기압', ignore_features=['공급량', 'year', 'day', '기온', '습도', '구분'])"
   ]
  },
  {
   "cell_type": "code",
   "execution_count": null,
   "metadata": {},
   "outputs": [],
   "source": [
    "# 모델 비교\n",
    "start = time.time()\n",
    "\n",
    "compare_models()\n",
    "\n",
    "end = time.time()\n",
    "sec = end - start\n",
    "result = datetime.timedelta(seconds=sec)\n",
    "print(str(result).split('.')[0])"
   ]
  },
  {
   "cell_type": "code",
   "execution_count": null,
   "metadata": {
    "scrolled": false
   },
   "outputs": [],
   "source": [
    "# lightgbm 모델 생성\n",
    "start = time.time()\n",
    "\n",
    "lgbm = create_model('lightgbm')\n",
    "\n",
    "end = time.time()\n",
    "sec = end - start\n",
    "result = datetime.timedelta(seconds=sec)\n",
    "print(str(result).split('.')[0])"
   ]
  },
  {
   "cell_type": "code",
   "execution_count": null,
   "metadata": {},
   "outputs": [],
   "source": [
    "# catboost 모델 생성\n",
    "start = time.time()\n",
    "\n",
    "cat = create_model('catboost')\n",
    "\n",
    "end = time.time()\n",
    "sec = end - start\n",
    "result = datetime.timedelta(seconds=sec)\n",
    "print(str(result).split('.')[0])"
   ]
  },
  {
   "cell_type": "code",
   "execution_count": null,
   "metadata": {
    "scrolled": false
   },
   "outputs": [],
   "source": [
    "# lightgbm 모델 하이퍼파라미터 튜닝\n",
    "start = time.time()\n",
    "\n",
    "tuned_lgbm = tune_model(lgbm)\n",
    "\n",
    "end = time.time()\n",
    "sec = end - start\n",
    "result = datetime.timedelta(seconds=sec)\n",
    "print(str(result).split('.')[0])"
   ]
  },
  {
   "cell_type": "code",
   "execution_count": null,
   "metadata": {},
   "outputs": [],
   "source": [
    "# cat 모델 하이퍼파라미터 튜닝\n",
    "start = time.time()\n",
    "\n",
    "tuned_cat = tune_model(cat)\n",
    "\n",
    "end = time.time()\n",
    "sec = end - start\n",
    "result = datetime.timedelta(seconds=sec)\n",
    "print(str(result).split('.')[0])"
   ]
  },
  {
   "cell_type": "code",
   "execution_count": null,
   "metadata": {},
   "outputs": [],
   "source": [
    "# lgbm 모델 훈련 완료(모든 샘플에 대해 재훈련)\n",
    "start = time.time()\n",
    "\n",
    "pressure_prediction_lgbm = finalize_model(tuned_lgbm)\n",
    "\n",
    "end = time.time()\n",
    "sec = end - start\n",
    "result = datetime.timedelta(seconds=sec)\n",
    "print(str(result).split('.')[0])"
   ]
  },
  {
   "cell_type": "code",
   "execution_count": null,
   "metadata": {},
   "outputs": [],
   "source": [
    "# cat 모델 훈련 완료(모든 샘플에 대해 재훈련)\n",
    "start = time.time()\n",
    "\n",
    "pressure_prediction_cat = finalize_model(tuned_cat)\n",
    "\n",
    "end = time.time()\n",
    "sec = end - start\n",
    "result = datetime.timedelta(seconds=sec)\n",
    "print(str(result).split('.')[0])"
   ]
  },
  {
   "cell_type": "code",
   "execution_count": null,
   "metadata": {},
   "outputs": [],
   "source": [
    "# lgbm 모델 기압 예측\n",
    "start = time.time()\n",
    "\n",
    "df = test2019[['month', 'weekday', '시간']]\n",
    "pressure2019_pred_lgbm = predict_model(pressure_prediction_lgbm, data=df)\n",
    "\n",
    "end = time.time()\n",
    "sec = end - start\n",
    "result = datetime.timedelta(seconds=sec)\n",
    "print(str(result).split('.')[0])"
   ]
  },
  {
   "cell_type": "code",
   "execution_count": null,
   "metadata": {},
   "outputs": [],
   "source": [
    "# cat 모델 기압 예측\n",
    "start = time.time()\n",
    "\n",
    "df = test2019[['month', 'weekday', '시간']]\n",
    "pressure2019_pred_cat = predict_model(pressure_prediction_cat, data=df)\n",
    "\n",
    "end = time.time()\n",
    "sec = end - start\n",
    "result = datetime.timedelta(seconds=sec)\n",
    "print(str(result).split('.')[0])"
   ]
  },
  {
   "cell_type": "code",
   "execution_count": null,
   "metadata": {
    "scrolled": true
   },
   "outputs": [],
   "source": [
    "pressure2019_pred_lgbm.head()"
   ]
  },
  {
   "cell_type": "code",
   "execution_count": null,
   "metadata": {},
   "outputs": [],
   "source": [
    "pressure2019_pred_cat.head()"
   ]
  },
  {
   "cell_type": "code",
   "execution_count": null,
   "metadata": {},
   "outputs": [],
   "source": [
    "# 두 모델 기압 예측 평균\n",
    "pressure2019_pred = (pressure2019_pred_lgbm['Label'] + pressure2019_pred_cat['Label']) / 2"
   ]
  },
  {
   "cell_type": "code",
   "execution_count": null,
   "metadata": {},
   "outputs": [],
   "source": [
    "pressure2019_pred.head()"
   ]
  },
  {
   "cell_type": "code",
   "execution_count": null,
   "metadata": {},
   "outputs": [],
   "source": [
    "test2019.head()"
   ]
  },
  {
   "cell_type": "code",
   "execution_count": null,
   "metadata": {},
   "outputs": [],
   "source": [
    "# 2019년 예측 기압 열 추가\n",
    "test2019['기압'] = pressure2019_pred\n",
    "test2019.head()"
   ]
  },
  {
   "cell_type": "markdown",
   "metadata": {},
   "source": [
    "## 기온예측"
   ]
  },
  {
   "cell_type": "code",
   "execution_count": null,
   "metadata": {
    "scrolled": false
   },
   "outputs": [],
   "source": [
    "# 학습 특성 : 'month', 'weekday', '시간', '습도', '기압'\n",
    "# 타겟 특성 : '기온'\n",
    "\n",
    "exp = setup(total, target='기온', ignore_features=['공급량', 'year', 'day', '구분'])"
   ]
  },
  {
   "cell_type": "code",
   "execution_count": null,
   "metadata": {},
   "outputs": [],
   "source": [
    "# 모델 비교\n",
    "start = time.time()\n",
    "\n",
    "compare_models()\n",
    "\n",
    "end = time.time()\n",
    "sec = end - start\n",
    "result = datetime.timedelta(seconds=sec)\n",
    "print(str(result).split('.')[0])"
   ]
  },
  {
   "cell_type": "code",
   "execution_count": null,
   "metadata": {},
   "outputs": [],
   "source": [
    "# lgbm 모델 생성\n",
    "start = time.time()\n",
    "\n",
    "lgbm = create_model('lightgbm')\n",
    "\n",
    "end = time.time()\n",
    "sec = end - start\n",
    "result = datetime.timedelta(seconds=sec)\n",
    "print(str(result).split('.')[0])"
   ]
  },
  {
   "cell_type": "code",
   "execution_count": null,
   "metadata": {},
   "outputs": [],
   "source": [
    "# cat 모델 생성\n",
    "start = time.time()\n",
    "\n",
    "cat = create_model('catboost')\n",
    "\n",
    "end = time.time()\n",
    "sec = end - start\n",
    "result = datetime.timedelta(seconds=sec)\n",
    "print(str(result).split('.')[0])"
   ]
  },
  {
   "cell_type": "code",
   "execution_count": null,
   "metadata": {},
   "outputs": [],
   "source": [
    "# lgbm 모델 하이퍼파라미터 튜닝\n",
    "start = time.time()\n",
    "\n",
    "tuned_lgbm = tune_model(lgbm)\n",
    "\n",
    "end = time.time()\n",
    "sec = end - start\n",
    "result = datetime.timedelta(seconds=sec)\n",
    "print(str(result).split('.')[0])"
   ]
  },
  {
   "cell_type": "code",
   "execution_count": null,
   "metadata": {},
   "outputs": [],
   "source": [
    "# cat 모델 하이퍼파라미터 튜닝\n",
    "start = time.time()\n",
    "\n",
    "tuned_cat = tune_model(cat)\n",
    "\n",
    "end = time.time()\n",
    "sec = end - start\n",
    "result = datetime.timedelta(seconds=sec)\n",
    "print(str(result).split('.')[0])"
   ]
  },
  {
   "cell_type": "code",
   "execution_count": null,
   "metadata": {},
   "outputs": [],
   "source": [
    "# lgbm 훈련 완료(모든 샘플에 대한 재훈련)\n",
    "start = time.time()\n",
    "\n",
    "temp_prediction_lgbm = finalize_model(tuned_lgbm)\n",
    "\n",
    "end = time.time()\n",
    "sec = end - start\n",
    "result = datetime.timedelta(seconds=sec)\n",
    "print(str(result).split('.')[0])"
   ]
  },
  {
   "cell_type": "code",
   "execution_count": null,
   "metadata": {},
   "outputs": [],
   "source": [
    "# cat 훈련 완료(모든 샘플에 대한 재훈련)\n",
    "start = time.time()\n",
    "\n",
    "temp_prediction_cat = finalize_model(tuned_cat)\n",
    "\n",
    "end = time.time()\n",
    "sec = end - start\n",
    "result = datetime.timedelta(seconds=sec)\n",
    "print(str(result).split('.')[0])"
   ]
  },
  {
   "cell_type": "code",
   "execution_count": null,
   "metadata": {},
   "outputs": [],
   "source": [
    "# lgbm 기온 예측\n",
    "start = time.time()\n",
    "\n",
    "df = test2019[['month', 'weekday', '시간', '습도', '기압']]\n",
    "temp2019_pred_lgbm = predict_model(temp_prediction_lgbm, data=df)\n",
    "\n",
    "end = time.time()\n",
    "sec = end - start\n",
    "result = datetime.timedelta(seconds=sec)\n",
    "print(str(result).split('.')[0])"
   ]
  },
  {
   "cell_type": "code",
   "execution_count": null,
   "metadata": {},
   "outputs": [],
   "source": [
    "# cat 기온 예측\n",
    "start = time.time()\n",
    "\n",
    "df = test2019[['month', 'weekday', '시간', '습도', '기압']]\n",
    "temp2019_pred_cat = predict_model(temp_prediction_cat, data=df)\n",
    "\n",
    "end = time.time()\n",
    "sec = end - start\n",
    "result = datetime.timedelta(seconds=sec)\n",
    "print(str(result).split('.')[0])"
   ]
  },
  {
   "cell_type": "code",
   "execution_count": null,
   "metadata": {},
   "outputs": [],
   "source": [
    "temp2019_pred_lgbm.head()"
   ]
  },
  {
   "cell_type": "code",
   "execution_count": null,
   "metadata": {},
   "outputs": [],
   "source": [
    "temp2019_pred_cat.head()"
   ]
  },
  {
   "cell_type": "code",
   "execution_count": null,
   "metadata": {},
   "outputs": [],
   "source": [
    "# 두 모델 기온 예측 평균\n",
    "temp2019_pred = (temp2019_pred_lgbm['Label'] + temp2019_pred_cat['Label']) / 2"
   ]
  },
  {
   "cell_type": "code",
   "execution_count": null,
   "metadata": {},
   "outputs": [],
   "source": [
    "test2019.head()"
   ]
  },
  {
   "cell_type": "code",
   "execution_count": null,
   "metadata": {},
   "outputs": [],
   "source": [
    "# 2019년 예측 기온 열 추가\n",
    "test2019['기온'] = temp2019_pred\n",
    "test2019.head()"
   ]
  },
  {
   "cell_type": "markdown",
   "metadata": {},
   "source": [
    "### 가스 공급량 예측"
   ]
  },
  {
   "cell_type": "code",
   "execution_count": null,
   "metadata": {},
   "outputs": [],
   "source": [
    "import numpy as np"
   ]
  },
  {
   "cell_type": "code",
   "execution_count": null,
   "metadata": {},
   "outputs": [],
   "source": [
    "total['log_공급량'] = np.log1p(total['공급량'])\n",
    "total.head()"
   ]
  },
  {
   "cell_type": "code",
   "execution_count": null,
   "metadata": {},
   "outputs": [],
   "source": [
    "# 학습 특성 : 'month', 'weekday', '시간', '구분', '습도', '기압', '기온'\n",
    "exp = setup(total, target='log_공급량', ignore_features=['year', '공급량', 'day'])"
   ]
  },
  {
   "cell_type": "code",
   "execution_count": null,
   "metadata": {
    "scrolled": false
   },
   "outputs": [],
   "source": [
    "# lgbm 모델 생성\n",
    "start = time.time()\n",
    "\n",
    "lgbm = create_model('lightgbm')\n",
    "\n",
    "end = time.time()\n",
    "sec = end - start\n",
    "result = datetime.timedelta(seconds=sec)\n",
    "print(str(result).split('.')[0])"
   ]
  },
  {
   "cell_type": "code",
   "execution_count": null,
   "metadata": {},
   "outputs": [],
   "source": [
    "# cat 모델 생성\n",
    "start = time.time()\n",
    "\n",
    "cat = create_model('catboost')\n",
    "\n",
    "end = time.time()\n",
    "sec = end - start\n",
    "result = datetime.timedelta(seconds=sec)\n",
    "print(str(result).split('.')[0])"
   ]
  },
  {
   "cell_type": "code",
   "execution_count": null,
   "metadata": {},
   "outputs": [],
   "source": [
    "# lgbm 튜닝\n",
    "start = time.time()\n",
    "\n",
    "tuned_lgbm = tune_model(lgbm)\n",
    "\n",
    "end = time.time()\n",
    "sec = end - start\n",
    "result = datetime.timedelta(seconds=sec)\n",
    "print(str(result).split('.')[0])"
   ]
  },
  {
   "cell_type": "code",
   "execution_count": null,
   "metadata": {},
   "outputs": [],
   "source": [
    "# cat 튜닝\n",
    "start = time.time()\n",
    "\n",
    "tuned_cat = tune_model(cat)\n",
    "\n",
    "end = time.time()\n",
    "sec = end - start\n",
    "result = datetime.timedelta(seconds=sec)\n",
    "print(str(result).split('.')[0])"
   ]
  },
  {
   "cell_type": "code",
   "execution_count": null,
   "metadata": {},
   "outputs": [],
   "source": [
    "# lgbm 훈련 완료\n",
    "start = time.time()\n",
    "\n",
    "gas_prediction_lgbm = finalize_model(tuned_lgbm)\n",
    "\n",
    "end = time.time()\n",
    "sec = end - start\n",
    "result = datetime.timedelta(seconds=sec)\n",
    "print(str(result).split('.')[0])"
   ]
  },
  {
   "cell_type": "code",
   "execution_count": null,
   "metadata": {},
   "outputs": [],
   "source": [
    "# cat 훈련 완료\n",
    "start = time.time()\n",
    "\n",
    "gas_prediction_cat = finalize_model(tuned_cat)\n",
    "\n",
    "end = time.time()\n",
    "sec = end - start\n",
    "result = datetime.timedelta(seconds=sec)\n",
    "print(str(result).split('.')[0])"
   ]
  },
  {
   "cell_type": "code",
   "execution_count": null,
   "metadata": {},
   "outputs": [],
   "source": [
    "# lgbm log_공급량 예측\n",
    "start = time.time()\n",
    "\n",
    "df = test2019[['month', 'weekday', '시간', '구분', '습도', '기압', '기온']]\n",
    "log_gas2019_pred_lgbm = predict_model(gas_prediction_lgbm, data=df)\n",
    "\n",
    "end = time.time()\n",
    "sec = end - start\n",
    "result = datetime.timedelta(seconds=sec)\n",
    "print(str(result).split('.')[0])"
   ]
  },
  {
   "cell_type": "code",
   "execution_count": null,
   "metadata": {},
   "outputs": [],
   "source": [
    "# cat log_공급량 예측\n",
    "start = time.time()\n",
    "\n",
    "df = test2019[['month', 'weekday', '시간', '구분', '습도', '기압', '기온']]\n",
    "log_gas2019_pred_cat = predict_model(gas_prediction_cat, data=df)\n",
    "\n",
    "end = time.time()\n",
    "sec = end - start\n",
    "result = datetime.timedelta(seconds=sec)\n",
    "print(str(result).split('.')[0])"
   ]
  },
  {
   "cell_type": "code",
   "execution_count": null,
   "metadata": {
    "scrolled": true
   },
   "outputs": [],
   "source": [
    "log_gas2019_pred_lgbm.head()"
   ]
  },
  {
   "cell_type": "code",
   "execution_count": null,
   "metadata": {},
   "outputs": [],
   "source": [
    "log_gas2019_pred_cat.head()"
   ]
  },
  {
   "cell_type": "code",
   "execution_count": null,
   "metadata": {},
   "outputs": [],
   "source": [
    "# lgbm log_공급량 값을 공급량 값으로 변환\n",
    "gas_pred2019_lgbm = np.expm1(log_gas2019_pred_lgbm['Label'])\n",
    "gas_pred2019_lgbm.head()"
   ]
  },
  {
   "cell_type": "code",
   "execution_count": null,
   "metadata": {},
   "outputs": [],
   "source": [
    "# cat log_공급량 값을 공급량 값으로 변환\n",
    "gas_pred2019_cat = np.expm1(log_gas2019_pred_cat['Label'])\n",
    "gas_pred2019_cat.head()"
   ]
  },
  {
   "cell_type": "code",
   "execution_count": null,
   "metadata": {},
   "outputs": [],
   "source": [
    "# 두 모델 공급량 예측 평균\n",
    "gas2019_pred = (gas_pred2019_lgbm + gas_pred2019_cat) / 2\n",
    "gas2019_pred.head()"
   ]
  },
  {
   "cell_type": "markdown",
   "metadata": {},
   "source": [
    "### 제출 파일 만들기"
   ]
  },
  {
   "cell_type": "code",
   "execution_count": null,
   "metadata": {},
   "outputs": [],
   "source": [
    "sub = pd.read_csv('../data/sample_submission.csv')\n",
    "sub.head()"
   ]
  },
  {
   "cell_type": "code",
   "execution_count": null,
   "metadata": {},
   "outputs": [],
   "source": [
    "sub['공급량'] = gas2019_pred\n",
    "sub.head()"
   ]
  },
  {
   "cell_type": "code",
   "execution_count": null,
   "metadata": {},
   "outputs": [],
   "source": [
    "sub.info()"
   ]
  },
  {
   "cell_type": "code",
   "execution_count": null,
   "metadata": {},
   "outputs": [],
   "source": [
    "sub.to_csv(\"sub18_pycaret06.csv\", index=False)"
   ]
  },
  {
   "cell_type": "code",
   "execution_count": null,
   "metadata": {},
   "outputs": [],
   "source": []
  }
 ],
 "metadata": {
  "accelerator": "GPU",
  "colab": {
   "collapsed_sections": [],
   "name": "07-05_결과_출력(pycaret)_ver0.3(colab)(2021.11.15).ipynb",
   "provenance": []
  },
  "interpreter": {
   "hash": "8ae3dcd19c82398a5ce067019491007897b01e5b53746170904cf60dcf0d8fb4"
  },
  "kernelspec": {
   "display_name": "Python 3",
   "language": "python",
   "name": "python3"
  },
  "language_info": {
   "codemirror_mode": {
    "name": "ipython",
    "version": 3
   },
   "file_extension": ".py",
   "mimetype": "text/x-python",
   "name": "python",
   "nbconvert_exporter": "python",
   "pygments_lexer": "ipython3",
   "version": "3.8.8"
  },
  "widgets": {
   "application/vnd.jupyter.widget-state+json": {
    "0dfda2d6e1c047969ace33597985f5d4": {
     "model_module": "@jupyter-widgets/controls",
     "model_module_version": "1.5.0",
     "model_name": "ProgressStyleModel",
     "state": {
      "_model_module": "@jupyter-widgets/controls",
      "_model_module_version": "1.5.0",
      "_model_name": "ProgressStyleModel",
      "_view_count": null,
      "_view_module": "@jupyter-widgets/base",
      "_view_module_version": "1.2.0",
      "_view_name": "StyleView",
      "bar_color": null,
      "description_width": ""
     }
    },
    "1543c106c29f4fdfad2256da68d0cac8": {
     "model_module": "@jupyter-widgets/controls",
     "model_module_version": "1.5.0",
     "model_name": "IntProgressModel",
     "state": {
      "_dom_classes": [],
      "_model_module": "@jupyter-widgets/controls",
      "_model_module_version": "1.5.0",
      "_model_name": "IntProgressModel",
      "_view_count": null,
      "_view_module": "@jupyter-widgets/controls",
      "_view_module_version": "1.5.0",
      "_view_name": "ProgressView",
      "bar_style": "",
      "description": "Processing: ",
      "description_tooltip": null,
      "layout": "IPY_MODEL_c6781d11fb5342fbaac85b7b115a3adb",
      "max": 6,
      "min": 0,
      "orientation": "horizontal",
      "style": "IPY_MODEL_3a5a03037eab49b981ee2b994e7677a7",
      "value": 6
     }
    },
    "1a635f6748e04609a3c81be1cf5e101a": {
     "model_module": "@jupyter-widgets/base",
     "model_module_version": "1.2.0",
     "model_name": "LayoutModel",
     "state": {
      "_model_module": "@jupyter-widgets/base",
      "_model_module_version": "1.2.0",
      "_model_name": "LayoutModel",
      "_view_count": null,
      "_view_module": "@jupyter-widgets/base",
      "_view_module_version": "1.2.0",
      "_view_name": "LayoutView",
      "align_content": null,
      "align_items": null,
      "align_self": null,
      "border": null,
      "bottom": null,
      "display": null,
      "flex": null,
      "flex_flow": null,
      "grid_area": null,
      "grid_auto_columns": null,
      "grid_auto_flow": null,
      "grid_auto_rows": null,
      "grid_column": null,
      "grid_gap": null,
      "grid_row": null,
      "grid_template_areas": null,
      "grid_template_columns": null,
      "grid_template_rows": null,
      "height": null,
      "justify_content": null,
      "justify_items": null,
      "left": null,
      "margin": null,
      "max_height": null,
      "max_width": null,
      "min_height": null,
      "min_width": null,
      "object_fit": null,
      "object_position": null,
      "order": null,
      "overflow": null,
      "overflow_x": null,
      "overflow_y": null,
      "padding": null,
      "right": null,
      "top": null,
      "visibility": null,
      "width": null
     }
    },
    "2c2c3af0928e4e868c3a13fb788bdb28": {
     "model_module": "@jupyter-widgets/controls",
     "model_module_version": "1.5.0",
     "model_name": "IntProgressModel",
     "state": {
      "_dom_classes": [],
      "_model_module": "@jupyter-widgets/controls",
      "_model_module_version": "1.5.0",
      "_model_name": "IntProgressModel",
      "_view_count": null,
      "_view_module": "@jupyter-widgets/controls",
      "_view_module_version": "1.5.0",
      "_view_name": "ProgressView",
      "bar_style": "",
      "description": "Processing: ",
      "description_tooltip": null,
      "layout": "IPY_MODEL_5ce3de3bedd54a64b96920252688f412",
      "max": 7,
      "min": 0,
      "orientation": "horizontal",
      "style": "IPY_MODEL_efd69c09a44f4466877b876942632abc",
      "value": 7
     }
    },
    "3a5a03037eab49b981ee2b994e7677a7": {
     "model_module": "@jupyter-widgets/controls",
     "model_module_version": "1.5.0",
     "model_name": "ProgressStyleModel",
     "state": {
      "_model_module": "@jupyter-widgets/controls",
      "_model_module_version": "1.5.0",
      "_model_name": "ProgressStyleModel",
      "_view_count": null,
      "_view_module": "@jupyter-widgets/base",
      "_view_module_version": "1.2.0",
      "_view_name": "StyleView",
      "bar_color": null,
      "description_width": ""
     }
    },
    "42f4e92cbf5d4f698cd96b06b4b2321c": {
     "model_module": "@jupyter-widgets/base",
     "model_module_version": "1.2.0",
     "model_name": "LayoutModel",
     "state": {
      "_model_module": "@jupyter-widgets/base",
      "_model_module_version": "1.2.0",
      "_model_name": "LayoutModel",
      "_view_count": null,
      "_view_module": "@jupyter-widgets/base",
      "_view_module_version": "1.2.0",
      "_view_name": "LayoutView",
      "align_content": null,
      "align_items": null,
      "align_self": null,
      "border": null,
      "bottom": null,
      "display": null,
      "flex": null,
      "flex_flow": null,
      "grid_area": null,
      "grid_auto_columns": null,
      "grid_auto_flow": null,
      "grid_auto_rows": null,
      "grid_column": null,
      "grid_gap": null,
      "grid_row": null,
      "grid_template_areas": null,
      "grid_template_columns": null,
      "grid_template_rows": null,
      "height": null,
      "justify_content": null,
      "justify_items": null,
      "left": null,
      "margin": null,
      "max_height": null,
      "max_width": null,
      "min_height": null,
      "min_width": null,
      "object_fit": null,
      "object_position": null,
      "order": null,
      "overflow": null,
      "overflow_x": null,
      "overflow_y": null,
      "padding": null,
      "right": null,
      "top": null,
      "visibility": null,
      "width": null
     }
    },
    "5a38e19f1f70403ea0fc61cd8ec4081b": {
     "model_module": "@jupyter-widgets/controls",
     "model_module_version": "1.5.0",
     "model_name": "DescriptionStyleModel",
     "state": {
      "_model_module": "@jupyter-widgets/controls",
      "_model_module_version": "1.5.0",
      "_model_name": "DescriptionStyleModel",
      "_view_count": null,
      "_view_module": "@jupyter-widgets/base",
      "_view_module_version": "1.2.0",
      "_view_name": "StyleView",
      "description_width": ""
     }
    },
    "5ce3de3bedd54a64b96920252688f412": {
     "model_module": "@jupyter-widgets/base",
     "model_module_version": "1.2.0",
     "model_name": "LayoutModel",
     "state": {
      "_model_module": "@jupyter-widgets/base",
      "_model_module_version": "1.2.0",
      "_model_name": "LayoutModel",
      "_view_count": null,
      "_view_module": "@jupyter-widgets/base",
      "_view_module_version": "1.2.0",
      "_view_name": "LayoutView",
      "align_content": null,
      "align_items": null,
      "align_self": null,
      "border": null,
      "bottom": null,
      "display": null,
      "flex": null,
      "flex_flow": null,
      "grid_area": null,
      "grid_auto_columns": null,
      "grid_auto_flow": null,
      "grid_auto_rows": null,
      "grid_column": null,
      "grid_gap": null,
      "grid_row": null,
      "grid_template_areas": null,
      "grid_template_columns": null,
      "grid_template_rows": null,
      "height": null,
      "justify_content": null,
      "justify_items": null,
      "left": null,
      "margin": null,
      "max_height": null,
      "max_width": null,
      "min_height": null,
      "min_width": null,
      "object_fit": null,
      "object_position": null,
      "order": null,
      "overflow": null,
      "overflow_x": null,
      "overflow_y": null,
      "padding": null,
      "right": null,
      "top": null,
      "visibility": null,
      "width": null
     }
    },
    "602e491e345f48b9bd0e830a4cbd9d4a": {
     "model_module": "@jupyter-widgets/controls",
     "model_module_version": "1.5.0",
     "model_name": "IntProgressModel",
     "state": {
      "_dom_classes": [],
      "_model_module": "@jupyter-widgets/controls",
      "_model_module_version": "1.5.0",
      "_model_name": "IntProgressModel",
      "_view_count": null,
      "_view_module": "@jupyter-widgets/controls",
      "_view_module_version": "1.5.0",
      "_view_name": "ProgressView",
      "bar_style": "",
      "description": "Processing: ",
      "description_tooltip": null,
      "layout": "IPY_MODEL_fa67740a5b7c4441bef0d04fd248ed19",
      "max": 7,
      "min": 0,
      "orientation": "horizontal",
      "style": "IPY_MODEL_0dfda2d6e1c047969ace33597985f5d4",
      "value": 7
     }
    },
    "8495d42a106c4e16be85ddbc434c3cb2": {
     "model_module": "@jupyter-widgets/base",
     "model_module_version": "1.2.0",
     "model_name": "LayoutModel",
     "state": {
      "_model_module": "@jupyter-widgets/base",
      "_model_module_version": "1.2.0",
      "_model_name": "LayoutModel",
      "_view_count": null,
      "_view_module": "@jupyter-widgets/base",
      "_view_module_version": "1.2.0",
      "_view_name": "LayoutView",
      "align_content": null,
      "align_items": null,
      "align_self": null,
      "border": null,
      "bottom": null,
      "display": null,
      "flex": null,
      "flex_flow": null,
      "grid_area": null,
      "grid_auto_columns": null,
      "grid_auto_flow": null,
      "grid_auto_rows": null,
      "grid_column": null,
      "grid_gap": null,
      "grid_row": null,
      "grid_template_areas": null,
      "grid_template_columns": null,
      "grid_template_rows": null,
      "height": null,
      "justify_content": null,
      "justify_items": null,
      "left": null,
      "margin": null,
      "max_height": null,
      "max_width": null,
      "min_height": null,
      "min_width": null,
      "object_fit": null,
      "object_position": null,
      "order": null,
      "overflow": null,
      "overflow_x": null,
      "overflow_y": null,
      "padding": null,
      "right": null,
      "top": null,
      "visibility": null,
      "width": "100%"
     }
    },
    "a8672f47e0c344cd8e7cb62189e79cef": {
     "model_module": "@jupyter-widgets/controls",
     "model_module_version": "1.5.0",
     "model_name": "ProgressStyleModel",
     "state": {
      "_model_module": "@jupyter-widgets/controls",
      "_model_module_version": "1.5.0",
      "_model_name": "ProgressStyleModel",
      "_view_count": null,
      "_view_module": "@jupyter-widgets/base",
      "_view_module_version": "1.2.0",
      "_view_name": "StyleView",
      "bar_color": null,
      "description_width": ""
     }
    },
    "a99169000106463db05bd70cbc58cdb9": {
     "model_module": "@jupyter-widgets/controls",
     "model_module_version": "1.5.0",
     "model_name": "TextModel",
     "state": {
      "_dom_classes": [],
      "_model_module": "@jupyter-widgets/controls",
      "_model_module_version": "1.5.0",
      "_model_name": "TextModel",
      "_view_count": null,
      "_view_module": "@jupyter-widgets/controls",
      "_view_module_version": "1.5.0",
      "_view_name": "TextView",
      "continuous_update": true,
      "description": "",
      "description_tooltip": null,
      "disabled": false,
      "layout": "IPY_MODEL_8495d42a106c4e16be85ddbc434c3cb2",
      "placeholder": "​",
      "style": "IPY_MODEL_5a38e19f1f70403ea0fc61cd8ec4081b",
      "value": "Following data types have been inferred automatically, if they are correct press enter to continue or type 'quit' otherwise."
     }
    },
    "b2612ed4920e425490cb761f24655726": {
     "model_module": "@jupyter-widgets/controls",
     "model_module_version": "1.5.0",
     "model_name": "ProgressStyleModel",
     "state": {
      "_model_module": "@jupyter-widgets/controls",
      "_model_module_version": "1.5.0",
      "_model_name": "ProgressStyleModel",
      "_view_count": null,
      "_view_module": "@jupyter-widgets/base",
      "_view_module_version": "1.2.0",
      "_view_name": "StyleView",
      "bar_color": null,
      "description_width": ""
     }
    },
    "c6781d11fb5342fbaac85b7b115a3adb": {
     "model_module": "@jupyter-widgets/base",
     "model_module_version": "1.2.0",
     "model_name": "LayoutModel",
     "state": {
      "_model_module": "@jupyter-widgets/base",
      "_model_module_version": "1.2.0",
      "_model_name": "LayoutModel",
      "_view_count": null,
      "_view_module": "@jupyter-widgets/base",
      "_view_module_version": "1.2.0",
      "_view_name": "LayoutView",
      "align_content": null,
      "align_items": null,
      "align_self": null,
      "border": null,
      "bottom": null,
      "display": null,
      "flex": null,
      "flex_flow": null,
      "grid_area": null,
      "grid_auto_columns": null,
      "grid_auto_flow": null,
      "grid_auto_rows": null,
      "grid_column": null,
      "grid_gap": null,
      "grid_row": null,
      "grid_template_areas": null,
      "grid_template_columns": null,
      "grid_template_rows": null,
      "height": null,
      "justify_content": null,
      "justify_items": null,
      "left": null,
      "margin": null,
      "max_height": null,
      "max_width": null,
      "min_height": null,
      "min_width": null,
      "object_fit": null,
      "object_position": null,
      "order": null,
      "overflow": null,
      "overflow_x": null,
      "overflow_y": null,
      "padding": null,
      "right": null,
      "top": null,
      "visibility": null,
      "width": null
     }
    },
    "d0e1106e1dda4fef8908571bc67d4491": {
     "model_module": "@jupyter-widgets/controls",
     "model_module_version": "1.5.0",
     "model_name": "IntProgressModel",
     "state": {
      "_dom_classes": [],
      "_model_module": "@jupyter-widgets/controls",
      "_model_module_version": "1.5.0",
      "_model_name": "IntProgressModel",
      "_view_count": null,
      "_view_module": "@jupyter-widgets/controls",
      "_view_module_version": "1.5.0",
      "_view_name": "ProgressView",
      "bar_style": "",
      "description": "Processing: ",
      "description_tooltip": null,
      "layout": "IPY_MODEL_42f4e92cbf5d4f698cd96b06b4b2321c",
      "max": 19,
      "min": 0,
      "orientation": "horizontal",
      "style": "IPY_MODEL_d75feba4bba040cd84114163522cfd9b",
      "value": 19
     }
    },
    "d75feba4bba040cd84114163522cfd9b": {
     "model_module": "@jupyter-widgets/controls",
     "model_module_version": "1.5.0",
     "model_name": "ProgressStyleModel",
     "state": {
      "_model_module": "@jupyter-widgets/controls",
      "_model_module_version": "1.5.0",
      "_model_name": "ProgressStyleModel",
      "_view_count": null,
      "_view_module": "@jupyter-widgets/base",
      "_view_module_version": "1.2.0",
      "_view_name": "StyleView",
      "bar_color": null,
      "description_width": ""
     }
    },
    "dad96c96ec614c41a39a6c50d00ba4ff": {
     "model_module": "@jupyter-widgets/base",
     "model_module_version": "1.2.0",
     "model_name": "LayoutModel",
     "state": {
      "_model_module": "@jupyter-widgets/base",
      "_model_module_version": "1.2.0",
      "_model_name": "LayoutModel",
      "_view_count": null,
      "_view_module": "@jupyter-widgets/base",
      "_view_module_version": "1.2.0",
      "_view_name": "LayoutView",
      "align_content": null,
      "align_items": null,
      "align_self": null,
      "border": null,
      "bottom": null,
      "display": null,
      "flex": null,
      "flex_flow": null,
      "grid_area": null,
      "grid_auto_columns": null,
      "grid_auto_flow": null,
      "grid_auto_rows": null,
      "grid_column": null,
      "grid_gap": null,
      "grid_row": null,
      "grid_template_areas": null,
      "grid_template_columns": null,
      "grid_template_rows": null,
      "height": null,
      "justify_content": null,
      "justify_items": null,
      "left": null,
      "margin": null,
      "max_height": null,
      "max_width": null,
      "min_height": null,
      "min_width": null,
      "object_fit": null,
      "object_position": null,
      "order": null,
      "overflow": null,
      "overflow_x": null,
      "overflow_y": null,
      "padding": null,
      "right": null,
      "top": null,
      "visibility": null,
      "width": null
     }
    },
    "ed44dece678e4fe08dd0263c97c86a7d": {
     "model_module": "@jupyter-widgets/controls",
     "model_module_version": "1.5.0",
     "model_name": "IntProgressModel",
     "state": {
      "_dom_classes": [],
      "_model_module": "@jupyter-widgets/controls",
      "_model_module_version": "1.5.0",
      "_model_name": "IntProgressModel",
      "_view_count": null,
      "_view_module": "@jupyter-widgets/controls",
      "_view_module_version": "1.5.0",
      "_view_name": "ProgressView",
      "bar_style": "",
      "description": "Processing: ",
      "description_tooltip": null,
      "layout": "IPY_MODEL_1a635f6748e04609a3c81be1cf5e101a",
      "max": 3,
      "min": 0,
      "orientation": "horizontal",
      "style": "IPY_MODEL_a8672f47e0c344cd8e7cb62189e79cef",
      "value": 3
     }
    },
    "efd69c09a44f4466877b876942632abc": {
     "model_module": "@jupyter-widgets/controls",
     "model_module_version": "1.5.0",
     "model_name": "ProgressStyleModel",
     "state": {
      "_model_module": "@jupyter-widgets/controls",
      "_model_module_version": "1.5.0",
      "_model_name": "ProgressStyleModel",
      "_view_count": null,
      "_view_module": "@jupyter-widgets/base",
      "_view_module_version": "1.2.0",
      "_view_name": "StyleView",
      "bar_color": null,
      "description_width": ""
     }
    },
    "f97faa9d773749f5958780fae246f2f5": {
     "model_module": "@jupyter-widgets/controls",
     "model_module_version": "1.5.0",
     "model_name": "IntProgressModel",
     "state": {
      "_dom_classes": [],
      "_model_module": "@jupyter-widgets/controls",
      "_model_module_version": "1.5.0",
      "_model_name": "IntProgressModel",
      "_view_count": null,
      "_view_module": "@jupyter-widgets/controls",
      "_view_module_version": "1.5.0",
      "_view_name": "ProgressView",
      "bar_style": "",
      "description": "Processing: ",
      "description_tooltip": null,
      "layout": "IPY_MODEL_dad96c96ec614c41a39a6c50d00ba4ff",
      "max": 7,
      "min": 0,
      "orientation": "horizontal",
      "style": "IPY_MODEL_b2612ed4920e425490cb761f24655726",
      "value": 7
     }
    },
    "fa67740a5b7c4441bef0d04fd248ed19": {
     "model_module": "@jupyter-widgets/base",
     "model_module_version": "1.2.0",
     "model_name": "LayoutModel",
     "state": {
      "_model_module": "@jupyter-widgets/base",
      "_model_module_version": "1.2.0",
      "_model_name": "LayoutModel",
      "_view_count": null,
      "_view_module": "@jupyter-widgets/base",
      "_view_module_version": "1.2.0",
      "_view_name": "LayoutView",
      "align_content": null,
      "align_items": null,
      "align_self": null,
      "border": null,
      "bottom": null,
      "display": null,
      "flex": null,
      "flex_flow": null,
      "grid_area": null,
      "grid_auto_columns": null,
      "grid_auto_flow": null,
      "grid_auto_rows": null,
      "grid_column": null,
      "grid_gap": null,
      "grid_row": null,
      "grid_template_areas": null,
      "grid_template_columns": null,
      "grid_template_rows": null,
      "height": null,
      "justify_content": null,
      "justify_items": null,
      "left": null,
      "margin": null,
      "max_height": null,
      "max_width": null,
      "min_height": null,
      "min_width": null,
      "object_fit": null,
      "object_position": null,
      "order": null,
      "overflow": null,
      "overflow_x": null,
      "overflow_y": null,
      "padding": null,
      "right": null,
      "top": null,
      "visibility": null,
      "width": null
     }
    }
   }
  }
 },
 "nbformat": 4,
 "nbformat_minor": 1
}
