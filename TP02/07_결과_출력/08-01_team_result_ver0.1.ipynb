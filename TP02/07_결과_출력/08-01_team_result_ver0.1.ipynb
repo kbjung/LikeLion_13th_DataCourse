{
 "cells": [
  {
   "cell_type": "markdown",
   "id": "434cf777",
   "metadata": {},
   "source": [
    "# 설명\n",
    "* 모델\n",
    "    * 랜덤포레스트 회귀(기본), 캣부스트 회귀(기본)\n",
    "    * pycaret을 활용한 lightgbm, knn 하이퍼파라미터 튜닝(팀원 김진연님)\n",
    "* 선택 특성\n",
    "    * 기온 예측 : ['month', '구분', '시간']\n",
    "    * 가스공급량 예측 : ['month', '시간', '구분', '기온']\n",
    "* 두 모델의 결과값 평균과 다른 두 모델의 평균의 평균으로 제출\n",
    "* 데이콘 점수 : 0.1110990574(2021.11.10 제출)(46등)"
   ]
  },
  {
   "cell_type": "code",
   "execution_count": 1,
   "id": "9546bbd5",
   "metadata": {},
   "outputs": [],
   "source": [
    "import pandas as pd"
   ]
  },
  {
   "cell_type": "code",
   "execution_count": 4,
   "id": "6211bc8f",
   "metadata": {},
   "outputs": [],
   "source": [
    "sub3 = pd.read_csv('sub03_rf_cat_01.csv')\n",
    "pycaret_lk = pd.read_csv('pycaret_lightbgm&knn.csv')"
   ]
  },
  {
   "cell_type": "code",
   "execution_count": 3,
   "id": "cc5bbf33",
   "metadata": {},
   "outputs": [
    {
     "data": {
      "text/html": [
       "<div>\n",
       "<style scoped>\n",
       "    .dataframe tbody tr th:only-of-type {\n",
       "        vertical-align: middle;\n",
       "    }\n",
       "\n",
       "    .dataframe tbody tr th {\n",
       "        vertical-align: top;\n",
       "    }\n",
       "\n",
       "    .dataframe thead th {\n",
       "        text-align: right;\n",
       "    }\n",
       "</style>\n",
       "<table border=\"1\" class=\"dataframe\">\n",
       "  <thead>\n",
       "    <tr style=\"text-align: right;\">\n",
       "      <th></th>\n",
       "      <th>일자|시간|구분</th>\n",
       "      <th>공급량</th>\n",
       "    </tr>\n",
       "  </thead>\n",
       "  <tbody>\n",
       "    <tr>\n",
       "      <th>0</th>\n",
       "      <td>2019-01-01 01 A</td>\n",
       "      <td>1940.815498</td>\n",
       "    </tr>\n",
       "    <tr>\n",
       "      <th>1</th>\n",
       "      <td>2019-01-01 02 A</td>\n",
       "      <td>1695.954464</td>\n",
       "    </tr>\n",
       "    <tr>\n",
       "      <th>2</th>\n",
       "      <td>2019-01-01 03 A</td>\n",
       "      <td>1665.638221</td>\n",
       "    </tr>\n",
       "    <tr>\n",
       "      <th>3</th>\n",
       "      <td>2019-01-01 04 A</td>\n",
       "      <td>1829.480644</td>\n",
       "    </tr>\n",
       "    <tr>\n",
       "      <th>4</th>\n",
       "      <td>2019-01-01 05 A</td>\n",
       "      <td>1821.860354</td>\n",
       "    </tr>\n",
       "  </tbody>\n",
       "</table>\n",
       "</div>"
      ],
      "text/plain": [
       "          일자|시간|구분          공급량\n",
       "0  2019-01-01 01 A  1940.815498\n",
       "1  2019-01-01 02 A  1695.954464\n",
       "2  2019-01-01 03 A  1665.638221\n",
       "3  2019-01-01 04 A  1829.480644\n",
       "4  2019-01-01 05 A  1821.860354"
      ]
     },
     "execution_count": 3,
     "metadata": {},
     "output_type": "execute_result"
    }
   ],
   "source": [
    "sub3.head()"
   ]
  },
  {
   "cell_type": "code",
   "execution_count": 5,
   "id": "f7da76a6",
   "metadata": {},
   "outputs": [
    {
     "data": {
      "text/html": [
       "<div>\n",
       "<style scoped>\n",
       "    .dataframe tbody tr th:only-of-type {\n",
       "        vertical-align: middle;\n",
       "    }\n",
       "\n",
       "    .dataframe tbody tr th {\n",
       "        vertical-align: top;\n",
       "    }\n",
       "\n",
       "    .dataframe thead th {\n",
       "        text-align: right;\n",
       "    }\n",
       "</style>\n",
       "<table border=\"1\" class=\"dataframe\">\n",
       "  <thead>\n",
       "    <tr style=\"text-align: right;\">\n",
       "      <th></th>\n",
       "      <th>일자|시간|구분</th>\n",
       "      <th>공급량</th>\n",
       "    </tr>\n",
       "  </thead>\n",
       "  <tbody>\n",
       "    <tr>\n",
       "      <th>0</th>\n",
       "      <td>2019-01-01 01 A</td>\n",
       "      <td>1949.708511</td>\n",
       "    </tr>\n",
       "    <tr>\n",
       "      <th>1</th>\n",
       "      <td>2019-01-01 02 A</td>\n",
       "      <td>1700.517868</td>\n",
       "    </tr>\n",
       "    <tr>\n",
       "      <th>2</th>\n",
       "      <td>2019-01-01 03 A</td>\n",
       "      <td>1641.867839</td>\n",
       "    </tr>\n",
       "    <tr>\n",
       "      <th>3</th>\n",
       "      <td>2019-01-01 04 A</td>\n",
       "      <td>1675.174498</td>\n",
       "    </tr>\n",
       "    <tr>\n",
       "      <th>4</th>\n",
       "      <td>2019-01-01 05 A</td>\n",
       "      <td>1916.342483</td>\n",
       "    </tr>\n",
       "  </tbody>\n",
       "</table>\n",
       "</div>"
      ],
      "text/plain": [
       "          일자|시간|구분          공급량\n",
       "0  2019-01-01 01 A  1949.708511\n",
       "1  2019-01-01 02 A  1700.517868\n",
       "2  2019-01-01 03 A  1641.867839\n",
       "3  2019-01-01 04 A  1675.174498\n",
       "4  2019-01-01 05 A  1916.342483"
      ]
     },
     "execution_count": 5,
     "metadata": {},
     "output_type": "execute_result"
    }
   ],
   "source": [
    "pycaret_lk.head()"
   ]
  },
  {
   "cell_type": "code",
   "execution_count": 10,
   "id": "abf5fce1",
   "metadata": {},
   "outputs": [
    {
     "data": {
      "text/plain": [
       "0        1945.262004\n",
       "1        1698.236166\n",
       "2        1653.753030\n",
       "3        1752.327571\n",
       "4        1869.101418\n",
       "            ...     \n",
       "15115     410.973245\n",
       "15116     459.131524\n",
       "15117     382.514282\n",
       "15118     368.672417\n",
       "15119     349.966637\n",
       "Name: 공급량, Length: 15120, dtype: float64"
      ]
     },
     "execution_count": 10,
     "metadata": {},
     "output_type": "execute_result"
    }
   ],
   "source": [
    "sub3_pycaret = (sub3['공급량'] + pycaret_lk['공급량']) / 2\n",
    "sub3_pycaret"
   ]
  },
  {
   "cell_type": "markdown",
   "id": "e1b2ba65",
   "metadata": {},
   "source": [
    "# 제출 파일 만들기"
   ]
  },
  {
   "cell_type": "code",
   "execution_count": 7,
   "id": "915b6330",
   "metadata": {},
   "outputs": [
    {
     "data": {
      "text/html": [
       "<div>\n",
       "<style scoped>\n",
       "    .dataframe tbody tr th:only-of-type {\n",
       "        vertical-align: middle;\n",
       "    }\n",
       "\n",
       "    .dataframe tbody tr th {\n",
       "        vertical-align: top;\n",
       "    }\n",
       "\n",
       "    .dataframe thead th {\n",
       "        text-align: right;\n",
       "    }\n",
       "</style>\n",
       "<table border=\"1\" class=\"dataframe\">\n",
       "  <thead>\n",
       "    <tr style=\"text-align: right;\">\n",
       "      <th></th>\n",
       "      <th>일자|시간|구분</th>\n",
       "      <th>공급량</th>\n",
       "    </tr>\n",
       "  </thead>\n",
       "  <tbody>\n",
       "    <tr>\n",
       "      <th>0</th>\n",
       "      <td>2019-01-01 01 A</td>\n",
       "      <td>0</td>\n",
       "    </tr>\n",
       "    <tr>\n",
       "      <th>1</th>\n",
       "      <td>2019-01-01 02 A</td>\n",
       "      <td>0</td>\n",
       "    </tr>\n",
       "    <tr>\n",
       "      <th>2</th>\n",
       "      <td>2019-01-01 03 A</td>\n",
       "      <td>0</td>\n",
       "    </tr>\n",
       "    <tr>\n",
       "      <th>3</th>\n",
       "      <td>2019-01-01 04 A</td>\n",
       "      <td>0</td>\n",
       "    </tr>\n",
       "    <tr>\n",
       "      <th>4</th>\n",
       "      <td>2019-01-01 05 A</td>\n",
       "      <td>0</td>\n",
       "    </tr>\n",
       "  </tbody>\n",
       "</table>\n",
       "</div>"
      ],
      "text/plain": [
       "          일자|시간|구분  공급량\n",
       "0  2019-01-01 01 A    0\n",
       "1  2019-01-01 02 A    0\n",
       "2  2019-01-01 03 A    0\n",
       "3  2019-01-01 04 A    0\n",
       "4  2019-01-01 05 A    0"
      ]
     },
     "execution_count": 7,
     "metadata": {},
     "output_type": "execute_result"
    }
   ],
   "source": [
    "# 제출 파일 불러오기\n",
    "sub = pd.read_csv('../data/sample_submission.csv')\n",
    "sub.head()"
   ]
  },
  {
   "cell_type": "code",
   "execution_count": 11,
   "id": "89ce6bb7",
   "metadata": {},
   "outputs": [
    {
     "data": {
      "text/html": [
       "<div>\n",
       "<style scoped>\n",
       "    .dataframe tbody tr th:only-of-type {\n",
       "        vertical-align: middle;\n",
       "    }\n",
       "\n",
       "    .dataframe tbody tr th {\n",
       "        vertical-align: top;\n",
       "    }\n",
       "\n",
       "    .dataframe thead th {\n",
       "        text-align: right;\n",
       "    }\n",
       "</style>\n",
       "<table border=\"1\" class=\"dataframe\">\n",
       "  <thead>\n",
       "    <tr style=\"text-align: right;\">\n",
       "      <th></th>\n",
       "      <th>일자|시간|구분</th>\n",
       "      <th>공급량</th>\n",
       "    </tr>\n",
       "  </thead>\n",
       "  <tbody>\n",
       "    <tr>\n",
       "      <th>0</th>\n",
       "      <td>2019-01-01 01 A</td>\n",
       "      <td>1945.262004</td>\n",
       "    </tr>\n",
       "    <tr>\n",
       "      <th>1</th>\n",
       "      <td>2019-01-01 02 A</td>\n",
       "      <td>1698.236166</td>\n",
       "    </tr>\n",
       "    <tr>\n",
       "      <th>2</th>\n",
       "      <td>2019-01-01 03 A</td>\n",
       "      <td>1653.753030</td>\n",
       "    </tr>\n",
       "    <tr>\n",
       "      <th>3</th>\n",
       "      <td>2019-01-01 04 A</td>\n",
       "      <td>1752.327571</td>\n",
       "    </tr>\n",
       "    <tr>\n",
       "      <th>4</th>\n",
       "      <td>2019-01-01 05 A</td>\n",
       "      <td>1869.101418</td>\n",
       "    </tr>\n",
       "  </tbody>\n",
       "</table>\n",
       "</div>"
      ],
      "text/plain": [
       "          일자|시간|구분          공급량\n",
       "0  2019-01-01 01 A  1945.262004\n",
       "1  2019-01-01 02 A  1698.236166\n",
       "2  2019-01-01 03 A  1653.753030\n",
       "3  2019-01-01 04 A  1752.327571\n",
       "4  2019-01-01 05 A  1869.101418"
      ]
     },
     "execution_count": 11,
     "metadata": {},
     "output_type": "execute_result"
    }
   ],
   "source": [
    "sub['공급량'] = sub3_pycaret\n",
    "sub.head()"
   ]
  },
  {
   "cell_type": "code",
   "execution_count": 12,
   "id": "1a9cd65b",
   "metadata": {},
   "outputs": [],
   "source": [
    "sub.to_csv(\"sub09_rc_lk_01.csv\", index=False)"
   ]
  },
  {
   "cell_type": "code",
   "execution_count": null,
   "id": "978b231f",
   "metadata": {},
   "outputs": [],
   "source": [
    "# 'month', '시간', '구분', '기온', rf기본 ,catboost 기본, 예측 평균 + lgbm, knn 하이퍼파라미터 튜닝 예측 평균(팀원 김진연님)\n",
    "# 데이콘 점수 : 0.1110990574(2021.11.10)(46등)"
   ]
  }
 ],
 "metadata": {
  "kernelspec": {
   "display_name": "Python 3",
   "language": "python",
   "name": "python3"
  },
  "language_info": {
   "codemirror_mode": {
    "name": "ipython",
    "version": 3
   },
   "file_extension": ".py",
   "mimetype": "text/x-python",
   "name": "python",
   "nbconvert_exporter": "python",
   "pygments_lexer": "ipython3",
   "version": "3.8.8"
  }
 },
 "nbformat": 4,
 "nbformat_minor": 5
}
