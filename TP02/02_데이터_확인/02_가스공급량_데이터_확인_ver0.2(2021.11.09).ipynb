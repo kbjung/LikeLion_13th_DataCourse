{
 "cells": [
  {
   "cell_type": "code",
   "execution_count": 66,
   "id": "3596ef97",
   "metadata": {},
   "outputs": [],
   "source": [
    "import platform\n",
    "from matplotlib import font_manager, rc"
   ]
  },
  {
   "cell_type": "code",
   "execution_count": 67,
   "id": "14042f31",
   "metadata": {},
   "outputs": [],
   "source": [
    "path = \"C:/Windows/Fonts/malgun.ttf\"\n",
    "if platform.system() == \"Windows\":\n",
    "    font_name = font_manager.FontProperties(fname=path).get_name()\n",
    "    rc('font', family=font_name)\n",
    "elif platform.system()==\"Darwin\":\n",
    "    rc('font', family='AppleGothic')\n",
    "else:\n",
    "    print(\"Unknown System\")"
   ]
  },
  {
   "cell_type": "code",
   "execution_count": 68,
   "id": "8a69dc54",
   "metadata": {},
   "outputs": [],
   "source": [
    "import pandas as pd\n",
    "import numpy as np"
   ]
  },
  {
   "cell_type": "code",
   "execution_count": 69,
   "id": "bce08ece",
   "metadata": {},
   "outputs": [],
   "source": [
    "pd.options.display.float_format = '{:.3f}'.format"
   ]
  },
  {
   "cell_type": "code",
   "execution_count": 70,
   "id": "6b0e3d9d",
   "metadata": {},
   "outputs": [
    {
     "data": {
      "text/html": [
       "<div>\n",
       "<style scoped>\n",
       "    .dataframe tbody tr th:only-of-type {\n",
       "        vertical-align: middle;\n",
       "    }\n",
       "\n",
       "    .dataframe tbody tr th {\n",
       "        vertical-align: top;\n",
       "    }\n",
       "\n",
       "    .dataframe thead th {\n",
       "        text-align: right;\n",
       "    }\n",
       "</style>\n",
       "<table border=\"1\" class=\"dataframe\">\n",
       "  <thead>\n",
       "    <tr style=\"text-align: right;\">\n",
       "      <th></th>\n",
       "      <th>연월일</th>\n",
       "      <th>시간</th>\n",
       "      <th>구분</th>\n",
       "      <th>공급량</th>\n",
       "    </tr>\n",
       "  </thead>\n",
       "  <tbody>\n",
       "    <tr>\n",
       "      <th>0</th>\n",
       "      <td>2013-01-01</td>\n",
       "      <td>1</td>\n",
       "      <td>A</td>\n",
       "      <td>2497.129</td>\n",
       "    </tr>\n",
       "    <tr>\n",
       "      <th>1</th>\n",
       "      <td>2013-01-01</td>\n",
       "      <td>2</td>\n",
       "      <td>A</td>\n",
       "      <td>2363.265</td>\n",
       "    </tr>\n",
       "    <tr>\n",
       "      <th>2</th>\n",
       "      <td>2013-01-01</td>\n",
       "      <td>3</td>\n",
       "      <td>A</td>\n",
       "      <td>2258.505</td>\n",
       "    </tr>\n",
       "    <tr>\n",
       "      <th>3</th>\n",
       "      <td>2013-01-01</td>\n",
       "      <td>4</td>\n",
       "      <td>A</td>\n",
       "      <td>2243.969</td>\n",
       "    </tr>\n",
       "    <tr>\n",
       "      <th>4</th>\n",
       "      <td>2013-01-01</td>\n",
       "      <td>5</td>\n",
       "      <td>A</td>\n",
       "      <td>2344.105</td>\n",
       "    </tr>\n",
       "  </tbody>\n",
       "</table>\n",
       "</div>"
      ],
      "text/plain": [
       "          연월일  시간 구분      공급량\n",
       "0  2013-01-01   1  A 2497.129\n",
       "1  2013-01-01   2  A 2363.265\n",
       "2  2013-01-01   3  A 2258.505\n",
       "3  2013-01-01   4  A 2243.969\n",
       "4  2013-01-01   5  A 2344.105"
      ]
     },
     "execution_count": 70,
     "metadata": {},
     "output_type": "execute_result"
    }
   ],
   "source": [
    "total = pd.read_csv('../data/한국가스공사_시간별 공급량_20181231.csv', encoding='cp949')\n",
    "total.head()"
   ]
  },
  {
   "cell_type": "code",
   "execution_count": 71,
   "id": "1fe61e80",
   "metadata": {},
   "outputs": [
    {
     "data": {
      "text/html": [
       "<div>\n",
       "<style scoped>\n",
       "    .dataframe tbody tr th:only-of-type {\n",
       "        vertical-align: middle;\n",
       "    }\n",
       "\n",
       "    .dataframe tbody tr th {\n",
       "        vertical-align: top;\n",
       "    }\n",
       "\n",
       "    .dataframe thead th {\n",
       "        text-align: right;\n",
       "    }\n",
       "</style>\n",
       "<table border=\"1\" class=\"dataframe\">\n",
       "  <thead>\n",
       "    <tr style=\"text-align: right;\">\n",
       "      <th></th>\n",
       "      <th>연월일</th>\n",
       "      <th>시간</th>\n",
       "      <th>구분</th>\n",
       "      <th>공급량</th>\n",
       "    </tr>\n",
       "  </thead>\n",
       "  <tbody>\n",
       "    <tr>\n",
       "      <th>0</th>\n",
       "      <td>2013-01-01</td>\n",
       "      <td>1</td>\n",
       "      <td>A</td>\n",
       "      <td>2497.129</td>\n",
       "    </tr>\n",
       "    <tr>\n",
       "      <th>1</th>\n",
       "      <td>2013-01-01</td>\n",
       "      <td>2</td>\n",
       "      <td>A</td>\n",
       "      <td>2363.265</td>\n",
       "    </tr>\n",
       "    <tr>\n",
       "      <th>2</th>\n",
       "      <td>2013-01-01</td>\n",
       "      <td>3</td>\n",
       "      <td>A</td>\n",
       "      <td>2258.505</td>\n",
       "    </tr>\n",
       "    <tr>\n",
       "      <th>3</th>\n",
       "      <td>2013-01-01</td>\n",
       "      <td>4</td>\n",
       "      <td>A</td>\n",
       "      <td>2243.969</td>\n",
       "    </tr>\n",
       "    <tr>\n",
       "      <th>4</th>\n",
       "      <td>2013-01-01</td>\n",
       "      <td>5</td>\n",
       "      <td>A</td>\n",
       "      <td>2344.105</td>\n",
       "    </tr>\n",
       "    <tr>\n",
       "      <th>...</th>\n",
       "      <td>...</td>\n",
       "      <td>...</td>\n",
       "      <td>...</td>\n",
       "      <td>...</td>\n",
       "    </tr>\n",
       "    <tr>\n",
       "      <th>368083</th>\n",
       "      <td>2018-12-31</td>\n",
       "      <td>20</td>\n",
       "      <td>H</td>\n",
       "      <td>681.033</td>\n",
       "    </tr>\n",
       "    <tr>\n",
       "      <th>368084</th>\n",
       "      <td>2018-12-31</td>\n",
       "      <td>21</td>\n",
       "      <td>H</td>\n",
       "      <td>669.961</td>\n",
       "    </tr>\n",
       "    <tr>\n",
       "      <th>368085</th>\n",
       "      <td>2018-12-31</td>\n",
       "      <td>22</td>\n",
       "      <td>H</td>\n",
       "      <td>657.941</td>\n",
       "    </tr>\n",
       "    <tr>\n",
       "      <th>368086</th>\n",
       "      <td>2018-12-31</td>\n",
       "      <td>23</td>\n",
       "      <td>H</td>\n",
       "      <td>610.953</td>\n",
       "    </tr>\n",
       "    <tr>\n",
       "      <th>368087</th>\n",
       "      <td>2018-12-31</td>\n",
       "      <td>24</td>\n",
       "      <td>H</td>\n",
       "      <td>560.896</td>\n",
       "    </tr>\n",
       "  </tbody>\n",
       "</table>\n",
       "<p>368088 rows × 4 columns</p>\n",
       "</div>"
      ],
      "text/plain": [
       "               연월일  시간 구분      공급량\n",
       "0       2013-01-01   1  A 2497.129\n",
       "1       2013-01-01   2  A 2363.265\n",
       "2       2013-01-01   3  A 2258.505\n",
       "3       2013-01-01   4  A 2243.969\n",
       "4       2013-01-01   5  A 2344.105\n",
       "...            ...  .. ..      ...\n",
       "368083  2018-12-31  20  H  681.033\n",
       "368084  2018-12-31  21  H  669.961\n",
       "368085  2018-12-31  22  H  657.941\n",
       "368086  2018-12-31  23  H  610.953\n",
       "368087  2018-12-31  24  H  560.896\n",
       "\n",
       "[368088 rows x 4 columns]"
      ]
     },
     "execution_count": 71,
     "metadata": {},
     "output_type": "execute_result"
    }
   ],
   "source": [
    "total"
   ]
  },
  {
   "cell_type": "code",
   "execution_count": 72,
   "id": "c42e23c1",
   "metadata": {},
   "outputs": [],
   "source": [
    "# 연월일 열은 object형이므로 년, 월, 일로 나눈다.\n",
    "total['연월일'] = pd.to_datetime(total['연월일'])\n",
    "total['year'] = total['연월일'].dt.year\n",
    "total['month'] = total['연월일'].dt.month\n",
    "total['day'] = total['연월일'].dt.day\n",
    "total['weekday'] = total['연월일'].dt.weekday"
   ]
  },
  {
   "cell_type": "code",
   "execution_count": 73,
   "id": "6c51e78a",
   "metadata": {
    "scrolled": true
   },
   "outputs": [
    {
     "data": {
      "text/html": [
       "<div>\n",
       "<style scoped>\n",
       "    .dataframe tbody tr th:only-of-type {\n",
       "        vertical-align: middle;\n",
       "    }\n",
       "\n",
       "    .dataframe tbody tr th {\n",
       "        vertical-align: top;\n",
       "    }\n",
       "\n",
       "    .dataframe thead th {\n",
       "        text-align: right;\n",
       "    }\n",
       "</style>\n",
       "<table border=\"1\" class=\"dataframe\">\n",
       "  <thead>\n",
       "    <tr style=\"text-align: right;\">\n",
       "      <th></th>\n",
       "      <th>연월일</th>\n",
       "      <th>시간</th>\n",
       "      <th>구분</th>\n",
       "      <th>공급량</th>\n",
       "      <th>year</th>\n",
       "      <th>month</th>\n",
       "      <th>day</th>\n",
       "      <th>weekday</th>\n",
       "    </tr>\n",
       "  </thead>\n",
       "  <tbody>\n",
       "    <tr>\n",
       "      <th>0</th>\n",
       "      <td>2013-01-01</td>\n",
       "      <td>1</td>\n",
       "      <td>A</td>\n",
       "      <td>2497.129</td>\n",
       "      <td>2013</td>\n",
       "      <td>1</td>\n",
       "      <td>1</td>\n",
       "      <td>1</td>\n",
       "    </tr>\n",
       "    <tr>\n",
       "      <th>1</th>\n",
       "      <td>2013-01-01</td>\n",
       "      <td>2</td>\n",
       "      <td>A</td>\n",
       "      <td>2363.265</td>\n",
       "      <td>2013</td>\n",
       "      <td>1</td>\n",
       "      <td>1</td>\n",
       "      <td>1</td>\n",
       "    </tr>\n",
       "    <tr>\n",
       "      <th>2</th>\n",
       "      <td>2013-01-01</td>\n",
       "      <td>3</td>\n",
       "      <td>A</td>\n",
       "      <td>2258.505</td>\n",
       "      <td>2013</td>\n",
       "      <td>1</td>\n",
       "      <td>1</td>\n",
       "      <td>1</td>\n",
       "    </tr>\n",
       "    <tr>\n",
       "      <th>3</th>\n",
       "      <td>2013-01-01</td>\n",
       "      <td>4</td>\n",
       "      <td>A</td>\n",
       "      <td>2243.969</td>\n",
       "      <td>2013</td>\n",
       "      <td>1</td>\n",
       "      <td>1</td>\n",
       "      <td>1</td>\n",
       "    </tr>\n",
       "    <tr>\n",
       "      <th>4</th>\n",
       "      <td>2013-01-01</td>\n",
       "      <td>5</td>\n",
       "      <td>A</td>\n",
       "      <td>2344.105</td>\n",
       "      <td>2013</td>\n",
       "      <td>1</td>\n",
       "      <td>1</td>\n",
       "      <td>1</td>\n",
       "    </tr>\n",
       "  </tbody>\n",
       "</table>\n",
       "</div>"
      ],
      "text/plain": [
       "         연월일  시간 구분      공급량  year  month  day  weekday\n",
       "0 2013-01-01   1  A 2497.129  2013      1    1        1\n",
       "1 2013-01-01   2  A 2363.265  2013      1    1        1\n",
       "2 2013-01-01   3  A 2258.505  2013      1    1        1\n",
       "3 2013-01-01   4  A 2243.969  2013      1    1        1\n",
       "4 2013-01-01   5  A 2344.105  2013      1    1        1"
      ]
     },
     "execution_count": 73,
     "metadata": {},
     "output_type": "execute_result"
    }
   ],
   "source": [
    "total.head()"
   ]
  },
  {
   "cell_type": "code",
   "execution_count": 74,
   "id": "6af95f9e",
   "metadata": {},
   "outputs": [
    {
     "name": "stdout",
     "output_type": "stream",
     "text": [
      "<class 'pandas.core.frame.DataFrame'>\n",
      "RangeIndex: 368088 entries, 0 to 368087\n",
      "Data columns (total 8 columns):\n",
      " #   Column   Non-Null Count   Dtype         \n",
      "---  ------   --------------   -----         \n",
      " 0   연월일      368088 non-null  datetime64[ns]\n",
      " 1   시간       368088 non-null  int64         \n",
      " 2   구분       368088 non-null  object        \n",
      " 3   공급량      368088 non-null  float64       \n",
      " 4   year     368088 non-null  int64         \n",
      " 5   month    368088 non-null  int64         \n",
      " 6   day      368088 non-null  int64         \n",
      " 7   weekday  368088 non-null  int64         \n",
      "dtypes: datetime64[ns](1), float64(1), int64(5), object(1)\n",
      "memory usage: 22.5+ MB\n"
     ]
    }
   ],
   "source": [
    "total.info()"
   ]
  },
  {
   "cell_type": "markdown",
   "id": "f41d6863",
   "metadata": {},
   "source": [
    "# 그래프 찍어보기"
   ]
  },
  {
   "cell_type": "code",
   "execution_count": 75,
   "id": "20500e6a",
   "metadata": {},
   "outputs": [],
   "source": [
    "import seaborn as sns\n",
    "import matplotlib.pyplot as plt"
   ]
  },
  {
   "cell_type": "code",
   "execution_count": 76,
   "id": "bd39c5d1",
   "metadata": {
    "scrolled": true
   },
   "outputs": [
    {
     "data": {
      "text/plain": [
       "구분\n",
       "A    61366289.574\n",
       "B    50405162.046\n",
       "C     6919290.914\n",
       "D    34948717.369\n",
       "E    73373435.269\n",
       "G   108884947.375\n",
       "H    13086403.736\n",
       "Name: 공급량, dtype: float64"
      ]
     },
     "execution_count": 76,
     "metadata": {},
     "output_type": "execute_result"
    }
   ],
   "source": [
    "total.groupby('구분')['공급량'].sum()"
   ]
  },
  {
   "cell_type": "code",
   "execution_count": 77,
   "id": "ac1884f1",
   "metadata": {},
   "outputs": [
    {
     "data": {
      "text/plain": [
       "array(['A', 'B', 'C', 'D', 'E', 'G', 'H'], dtype=object)"
      ]
     },
     "execution_count": 77,
     "metadata": {},
     "output_type": "execute_result"
    }
   ],
   "source": [
    "total['구분'].unique()"
   ]
  },
  {
   "cell_type": "code",
   "execution_count": 83,
   "id": "5528f10b",
   "metadata": {},
   "outputs": [
    {
     "data": {
      "text/plain": [
       "Text(0.5, 1.0, '2013~2018년 구분별 공급량')"
      ]
     },
     "execution_count": 83,
     "metadata": {},
     "output_type": "execute_result"
    },
    {
     "data": {
      "image/png": "[encoded data removed]",
      "text/plain": [
       "<Figure size 864x576 with 1 Axes>"
      ]
     },
     "metadata": {
      "needs_background": "light"
     },
     "output_type": "display_data"
    }
   ],
   "source": [
    "plt.figure(figsize=(12,8))\n",
    "ax = plt.bar(total['구분'].unique(), total.groupby('구분')['공급량'].sum())\n",
    "plt.xlabel('구분', fontdict={'fontsize':13})\n",
    "plt.xticks(fontsize=15)\n",
    "plt.ylabel('공급량', fontdict={'fontsize':13})\n",
    "plt.yticks(fontsize=15)\n",
    "plt.title('2013~2018년 구분별 공급량', fontdict={'fontsize':17})"
   ]
  },
  {
   "cell_type": "code",
   "execution_count": 18,
   "id": "79d41681",
   "metadata": {
    "scrolled": true
   },
   "outputs": [
    {
     "data": {
      "text/plain": [
       "array(['A', 'B', 'C', 'D', 'E', 'G', 'H'], dtype=object)"
      ]
     },
     "execution_count": 18,
     "metadata": {},
     "output_type": "execute_result"
    }
   ],
   "source": [
    "total['구분'].unique()"
   ]
  },
  {
   "cell_type": "code",
   "execution_count": 19,
   "id": "2885b253",
   "metadata": {},
   "outputs": [],
   "source": [
    "# 구분 열을 숫자로 바꾸기\n",
    "d_map = {}\n",
    "for i, d in enumerate(total['구분'].unique()):\n",
    "    d_map[d] = i\n",
    "total['구분'] = total['구분'].map(d_map)"
   ]
  },
  {
   "cell_type": "code",
   "execution_count": 20,
   "id": "76c0fc68",
   "metadata": {
    "scrolled": false
   },
   "outputs": [
    {
     "data": {
      "text/plain": [
       "<AxesSubplot:>"
      ]
     },
     "execution_count": 20,
     "metadata": {},
     "output_type": "execute_result"
    },
    {
     "data": {
      "image/png": "[encoded data removed]",
      "text/plain": [
       "<Figure size 720x720 with 1 Axes>"
      ]
     },
     "metadata": {
      "needs_background": "light"
     },
     "output_type": "display_data"
    }
   ],
   "source": [
    "plt.figure(figsize=(10,10))\n",
    "sns.heatmap(total[['year', 'month', 'day', 'weekday', '시간', '구분', '공급량']].corr(), cmap='Blues', annot=True, fmt='.2f', cbar=False)"
   ]
  },
  {
   "cell_type": "code",
   "execution_count": 33,
   "id": "868ce3ce",
   "metadata": {},
   "outputs": [
    {
     "data": {
      "text/plain": [
       "year\n",
       "2013    6.143709e+07\n",
       "2014    5.619031e+07\n",
       "2015    5.436822e+07\n",
       "2016    5.568865e+07\n",
       "2017    5.910210e+07\n",
       "2018    6.219788e+07\n",
       "Name: 공급량, dtype: float64"
      ]
     },
     "execution_count": 33,
     "metadata": {},
     "output_type": "execute_result"
    }
   ],
   "source": [
    "total.groupby('year')['공급량'].sum()"
   ]
  },
  {
   "cell_type": "code",
   "execution_count": 34,
   "id": "07dd4454",
   "metadata": {
    "scrolled": true
   },
   "outputs": [
    {
     "data": {
      "text/plain": [
       "array([2013, 2014, 2015, 2016, 2017, 2018], dtype=int64)"
      ]
     },
     "execution_count": 34,
     "metadata": {},
     "output_type": "execute_result"
    }
   ],
   "source": [
    "total['year'].unique()"
   ]
  },
  {
   "cell_type": "code",
   "execution_count": 53,
   "id": "d3dd92e3",
   "metadata": {},
   "outputs": [
    {
     "data": {
      "image/png": "[encoded data removed]",
      "text/plain": [
       "<Figure size 864x576 with 1 Axes>"
      ]
     },
     "metadata": {
      "needs_background": "light"
     },
     "output_type": "display_data"
    }
   ],
   "source": [
    "plt.figure(figsize=(12,8))\n",
    "plt.bar(total['year'].unique(), total.groupby('year')['공급량'].sum())\n",
    "plt.xlabel('연도', fontdict={'fontsize':13})\n",
    "plt.xticks(fontsize=15)\n",
    "plt.ylabel('공급량', fontdict={'fontsize':13})\n",
    "plt.yticks(fontsize=15)\n",
    "plt.title('연도별 공급량', fontdict={'fontsize':17})\n",
    "plt.show()"
   ]
  },
  {
   "cell_type": "code",
   "execution_count": 25,
   "id": "ad687db5",
   "metadata": {},
   "outputs": [
    {
     "data": {
      "text/plain": [
       "month\n",
       "1     5.728711e+07\n",
       "2     4.724445e+07\n",
       "3     3.777986e+07\n",
       "4     2.436471e+07\n",
       "5     1.730688e+07\n",
       "6     1.460154e+07\n",
       "7     1.486180e+07\n",
       "8     1.402840e+07\n",
       "9     1.410133e+07\n",
       "10    1.991565e+07\n",
       "11    3.437039e+07\n",
       "12    5.312212e+07\n",
       "Name: 공급량, dtype: float64"
      ]
     },
     "execution_count": 25,
     "metadata": {},
     "output_type": "execute_result"
    }
   ],
   "source": [
    "total.groupby(['month'])['공급량'].sum()"
   ]
  },
  {
   "cell_type": "code",
   "execution_count": 26,
   "id": "a38de740",
   "metadata": {},
   "outputs": [
    {
     "data": {
      "text/plain": [
       "array([ 1,  2,  3,  4,  5,  6,  7,  8,  9, 10, 11, 12], dtype=int64)"
      ]
     },
     "execution_count": 26,
     "metadata": {},
     "output_type": "execute_result"
    }
   ],
   "source": [
    "total['month'].unique()"
   ]
  },
  {
   "cell_type": "code",
   "execution_count": 50,
   "id": "d45e276b",
   "metadata": {},
   "outputs": [
    {
     "data": {
      "text/plain": [
       "Text(0.5, 1.0, '2013~2018년 월별 공급량')"
      ]
     },
     "execution_count": 50,
     "metadata": {},
     "output_type": "execute_result"
    },
    {
     "data": {
      "image/png": "[encoded data removed]",
      "text/plain": [
       "<Figure size 864x576 with 1 Axes>"
      ]
     },
     "metadata": {
      "needs_background": "light"
     },
     "output_type": "display_data"
    }
   ],
   "source": [
    "plt.figure(figsize=(12,8))\n",
    "plt.bar(total['month'].unique(), total.groupby(['month'])['공급량'].sum())\n",
    "plt.xlabel('월', fontdict={'fontsize':13})\n",
    "plt.xticks(total['month'].unique(), fontsize=15)\n",
    "plt.ylabel('공급량', fontdict={'fontsize':13})\n",
    "plt.yticks(fontsize=15)\n",
    "plt.title('2013~2018년 월별 공급량', fontdict={'fontsize':17})"
   ]
  },
  {
   "cell_type": "code",
   "execution_count": 38,
   "id": "14a4f9b4",
   "metadata": {},
   "outputs": [
    {
     "data": {
      "text/html": [
       "<div>\n",
       "<style scoped>\n",
       "    .dataframe tbody tr th:only-of-type {\n",
       "        vertical-align: middle;\n",
       "    }\n",
       "\n",
       "    .dataframe tbody tr th {\n",
       "        vertical-align: top;\n",
       "    }\n",
       "\n",
       "    .dataframe thead th {\n",
       "        text-align: right;\n",
       "    }\n",
       "</style>\n",
       "<table border=\"1\" class=\"dataframe\">\n",
       "  <thead>\n",
       "    <tr style=\"text-align: right;\">\n",
       "      <th></th>\n",
       "      <th>구분</th>\n",
       "      <th>공급량</th>\n",
       "      <th>year</th>\n",
       "      <th>month</th>\n",
       "      <th>day</th>\n",
       "      <th>weekday</th>\n",
       "    </tr>\n",
       "    <tr>\n",
       "      <th>시간</th>\n",
       "      <th></th>\n",
       "      <th></th>\n",
       "      <th></th>\n",
       "      <th></th>\n",
       "      <th></th>\n",
       "      <th></th>\n",
       "    </tr>\n",
       "  </thead>\n",
       "  <tbody>\n",
       "    <tr>\n",
       "      <th>1</th>\n",
       "      <td>46011</td>\n",
       "      <td>1.259606e+07</td>\n",
       "      <td>30911727</td>\n",
       "      <td>100058</td>\n",
       "      <td>241199</td>\n",
       "      <td>46011</td>\n",
       "    </tr>\n",
       "    <tr>\n",
       "      <th>2</th>\n",
       "      <td>46011</td>\n",
       "      <td>1.048120e+07</td>\n",
       "      <td>30911727</td>\n",
       "      <td>100058</td>\n",
       "      <td>241199</td>\n",
       "      <td>46011</td>\n",
       "    </tr>\n",
       "    <tr>\n",
       "      <th>3</th>\n",
       "      <td>46011</td>\n",
       "      <td>9.391255e+06</td>\n",
       "      <td>30911727</td>\n",
       "      <td>100058</td>\n",
       "      <td>241199</td>\n",
       "      <td>46011</td>\n",
       "    </tr>\n",
       "    <tr>\n",
       "      <th>4</th>\n",
       "      <td>46011</td>\n",
       "      <td>9.672189e+06</td>\n",
       "      <td>30911727</td>\n",
       "      <td>100058</td>\n",
       "      <td>241199</td>\n",
       "      <td>46011</td>\n",
       "    </tr>\n",
       "    <tr>\n",
       "      <th>5</th>\n",
       "      <td>46011</td>\n",
       "      <td>1.097503e+07</td>\n",
       "      <td>30911727</td>\n",
       "      <td>100058</td>\n",
       "      <td>241199</td>\n",
       "      <td>46011</td>\n",
       "    </tr>\n",
       "    <tr>\n",
       "      <th>6</th>\n",
       "      <td>46011</td>\n",
       "      <td>1.208791e+07</td>\n",
       "      <td>30911727</td>\n",
       "      <td>100058</td>\n",
       "      <td>241199</td>\n",
       "      <td>46011</td>\n",
       "    </tr>\n",
       "    <tr>\n",
       "      <th>7</th>\n",
       "      <td>46011</td>\n",
       "      <td>1.465347e+07</td>\n",
       "      <td>30911727</td>\n",
       "      <td>100058</td>\n",
       "      <td>241199</td>\n",
       "      <td>46011</td>\n",
       "    </tr>\n",
       "    <tr>\n",
       "      <th>8</th>\n",
       "      <td>46011</td>\n",
       "      <td>1.794221e+07</td>\n",
       "      <td>30911727</td>\n",
       "      <td>100058</td>\n",
       "      <td>241199</td>\n",
       "      <td>46011</td>\n",
       "    </tr>\n",
       "    <tr>\n",
       "      <th>9</th>\n",
       "      <td>46011</td>\n",
       "      <td>1.822454e+07</td>\n",
       "      <td>30911727</td>\n",
       "      <td>100058</td>\n",
       "      <td>241199</td>\n",
       "      <td>46011</td>\n",
       "    </tr>\n",
       "    <tr>\n",
       "      <th>10</th>\n",
       "      <td>46011</td>\n",
       "      <td>1.754094e+07</td>\n",
       "      <td>30911727</td>\n",
       "      <td>100058</td>\n",
       "      <td>241199</td>\n",
       "      <td>46011</td>\n",
       "    </tr>\n",
       "    <tr>\n",
       "      <th>11</th>\n",
       "      <td>46011</td>\n",
       "      <td>1.713771e+07</td>\n",
       "      <td>30911727</td>\n",
       "      <td>100058</td>\n",
       "      <td>241199</td>\n",
       "      <td>46011</td>\n",
       "    </tr>\n",
       "    <tr>\n",
       "      <th>12</th>\n",
       "      <td>46011</td>\n",
       "      <td>1.579213e+07</td>\n",
       "      <td>30911727</td>\n",
       "      <td>100058</td>\n",
       "      <td>241199</td>\n",
       "      <td>46011</td>\n",
       "    </tr>\n",
       "    <tr>\n",
       "      <th>13</th>\n",
       "      <td>46011</td>\n",
       "      <td>1.497871e+07</td>\n",
       "      <td>30911727</td>\n",
       "      <td>100058</td>\n",
       "      <td>241199</td>\n",
       "      <td>46011</td>\n",
       "    </tr>\n",
       "    <tr>\n",
       "      <th>14</th>\n",
       "      <td>46011</td>\n",
       "      <td>1.444757e+07</td>\n",
       "      <td>30911727</td>\n",
       "      <td>100058</td>\n",
       "      <td>241199</td>\n",
       "      <td>46011</td>\n",
       "    </tr>\n",
       "    <tr>\n",
       "      <th>15</th>\n",
       "      <td>46011</td>\n",
       "      <td>1.358338e+07</td>\n",
       "      <td>30911727</td>\n",
       "      <td>100058</td>\n",
       "      <td>241199</td>\n",
       "      <td>46011</td>\n",
       "    </tr>\n",
       "    <tr>\n",
       "      <th>16</th>\n",
       "      <td>46011</td>\n",
       "      <td>1.314654e+07</td>\n",
       "      <td>30911727</td>\n",
       "      <td>100058</td>\n",
       "      <td>241199</td>\n",
       "      <td>46011</td>\n",
       "    </tr>\n",
       "    <tr>\n",
       "      <th>17</th>\n",
       "      <td>46011</td>\n",
       "      <td>1.348978e+07</td>\n",
       "      <td>30911727</td>\n",
       "      <td>100058</td>\n",
       "      <td>241199</td>\n",
       "      <td>46011</td>\n",
       "    </tr>\n",
       "    <tr>\n",
       "      <th>18</th>\n",
       "      <td>46011</td>\n",
       "      <td>1.489065e+07</td>\n",
       "      <td>30911727</td>\n",
       "      <td>100058</td>\n",
       "      <td>241199</td>\n",
       "      <td>46011</td>\n",
       "    </tr>\n",
       "    <tr>\n",
       "      <th>19</th>\n",
       "      <td>46011</td>\n",
       "      <td>1.685981e+07</td>\n",
       "      <td>30911727</td>\n",
       "      <td>100058</td>\n",
       "      <td>241199</td>\n",
       "      <td>46011</td>\n",
       "    </tr>\n",
       "    <tr>\n",
       "      <th>20</th>\n",
       "      <td>46011</td>\n",
       "      <td>1.747239e+07</td>\n",
       "      <td>30911727</td>\n",
       "      <td>100058</td>\n",
       "      <td>241199</td>\n",
       "      <td>46011</td>\n",
       "    </tr>\n",
       "    <tr>\n",
       "      <th>21</th>\n",
       "      <td>46011</td>\n",
       "      <td>1.714348e+07</td>\n",
       "      <td>30911727</td>\n",
       "      <td>100058</td>\n",
       "      <td>241199</td>\n",
       "      <td>46011</td>\n",
       "    </tr>\n",
       "    <tr>\n",
       "      <th>22</th>\n",
       "      <td>46011</td>\n",
       "      <td>1.655743e+07</td>\n",
       "      <td>30911727</td>\n",
       "      <td>100058</td>\n",
       "      <td>241199</td>\n",
       "      <td>46011</td>\n",
       "    </tr>\n",
       "    <tr>\n",
       "      <th>23</th>\n",
       "      <td>46011</td>\n",
       "      <td>1.551152e+07</td>\n",
       "      <td>30911727</td>\n",
       "      <td>100058</td>\n",
       "      <td>241199</td>\n",
       "      <td>46011</td>\n",
       "    </tr>\n",
       "    <tr>\n",
       "      <th>24</th>\n",
       "      <td>46011</td>\n",
       "      <td>1.440836e+07</td>\n",
       "      <td>30911727</td>\n",
       "      <td>100058</td>\n",
       "      <td>241199</td>\n",
       "      <td>46011</td>\n",
       "    </tr>\n",
       "  </tbody>\n",
       "</table>\n",
       "</div>"
      ],
      "text/plain": [
       "       구분           공급량      year   month     day  weekday\n",
       "시간                                                        \n",
       "1   46011  1.259606e+07  30911727  100058  241199    46011\n",
       "2   46011  1.048120e+07  30911727  100058  241199    46011\n",
       "3   46011  9.391255e+06  30911727  100058  241199    46011\n",
       "4   46011  9.672189e+06  30911727  100058  241199    46011\n",
       "5   46011  1.097503e+07  30911727  100058  241199    46011\n",
       "6   46011  1.208791e+07  30911727  100058  241199    46011\n",
       "7   46011  1.465347e+07  30911727  100058  241199    46011\n",
       "8   46011  1.794221e+07  30911727  100058  241199    46011\n",
       "9   46011  1.822454e+07  30911727  100058  241199    46011\n",
       "10  46011  1.754094e+07  30911727  100058  241199    46011\n",
       "11  46011  1.713771e+07  30911727  100058  241199    46011\n",
       "12  46011  1.579213e+07  30911727  100058  241199    46011\n",
       "13  46011  1.497871e+07  30911727  100058  241199    46011\n",
       "14  46011  1.444757e+07  30911727  100058  241199    46011\n",
       "15  46011  1.358338e+07  30911727  100058  241199    46011\n",
       "16  46011  1.314654e+07  30911727  100058  241199    46011\n",
       "17  46011  1.348978e+07  30911727  100058  241199    46011\n",
       "18  46011  1.489065e+07  30911727  100058  241199    46011\n",
       "19  46011  1.685981e+07  30911727  100058  241199    46011\n",
       "20  46011  1.747239e+07  30911727  100058  241199    46011\n",
       "21  46011  1.714348e+07  30911727  100058  241199    46011\n",
       "22  46011  1.655743e+07  30911727  100058  241199    46011\n",
       "23  46011  1.551152e+07  30911727  100058  241199    46011\n",
       "24  46011  1.440836e+07  30911727  100058  241199    46011"
      ]
     },
     "execution_count": 38,
     "metadata": {},
     "output_type": "execute_result"
    }
   ],
   "source": [
    "total.groupby(['시간']).sum()"
   ]
  },
  {
   "cell_type": "code",
   "execution_count": 39,
   "id": "e5533766",
   "metadata": {},
   "outputs": [
    {
     "data": {
      "text/plain": [
       "array([ 1,  2,  3,  4,  5,  6,  7,  8,  9, 10, 11, 12, 13, 14, 15, 16, 17,\n",
       "       18, 19, 20, 21, 22, 23, 24], dtype=int64)"
      ]
     },
     "execution_count": 39,
     "metadata": {},
     "output_type": "execute_result"
    }
   ],
   "source": [
    "total['시간'].unique()"
   ]
  },
  {
   "cell_type": "code",
   "execution_count": 51,
   "id": "44fd69da",
   "metadata": {},
   "outputs": [
    {
     "data": {
      "text/plain": [
       "Text(0.5, 1.0, '2013~2018년 시간별 공급량')"
      ]
     },
     "execution_count": 51,
     "metadata": {},
     "output_type": "execute_result"
    },
    {
     "data": {
      "image/png": "[encoded data removed]",
      "text/plain": [
       "<Figure size 1008x576 with 1 Axes>"
      ]
     },
     "metadata": {
      "needs_background": "light"
     },
     "output_type": "display_data"
    }
   ],
   "source": [
    "plt.figure(figsize=(14,8))\n",
    "plt.bar(total['시간'].unique(), total.groupby(['시간'])['공급량'].sum())\n",
    "plt.xlabel('시간', fontdict={'fontsize':13})\n",
    "plt.xticks(total['시간'].unique(), fontsize=15)\n",
    "plt.ylabel('공급량', fontdict={'fontsize':13})\n",
    "plt.yticks(fontsize=15)\n",
    "plt.title('2013~2018년 시간별 공급량', fontdict={'fontsize':17})"
   ]
  },
  {
   "cell_type": "code",
   "execution_count": 68,
   "id": "3f417ad7",
   "metadata": {},
   "outputs": [
    {
     "data": {
      "text/html": [
       "<div>\n",
       "<style scoped>\n",
       "    .dataframe tbody tr th:only-of-type {\n",
       "        vertical-align: middle;\n",
       "    }\n",
       "\n",
       "    .dataframe tbody tr th {\n",
       "        vertical-align: top;\n",
       "    }\n",
       "\n",
       "    .dataframe thead th {\n",
       "        text-align: right;\n",
       "    }\n",
       "</style>\n",
       "<table border=\"1\" class=\"dataframe\">\n",
       "  <thead>\n",
       "    <tr style=\"text-align: right;\">\n",
       "      <th></th>\n",
       "      <th>시간</th>\n",
       "      <th>구분</th>\n",
       "      <th>공급량</th>\n",
       "      <th>year</th>\n",
       "      <th>month</th>\n",
       "      <th>day</th>\n",
       "    </tr>\n",
       "    <tr>\n",
       "      <th>weekday</th>\n",
       "      <th></th>\n",
       "      <th></th>\n",
       "      <th></th>\n",
       "      <th></th>\n",
       "      <th></th>\n",
       "      <th></th>\n",
       "    </tr>\n",
       "  </thead>\n",
       "  <tbody>\n",
       "    <tr>\n",
       "      <th>0</th>\n",
       "      <td>657300</td>\n",
       "      <td>157752</td>\n",
       "      <td>5.049367e+07</td>\n",
       "      <td>105983472</td>\n",
       "      <td>343392</td>\n",
       "      <td>825384</td>\n",
       "    </tr>\n",
       "    <tr>\n",
       "      <th>1</th>\n",
       "      <td>657300</td>\n",
       "      <td>157752</td>\n",
       "      <td>5.170760e+07</td>\n",
       "      <td>105982632</td>\n",
       "      <td>343056</td>\n",
       "      <td>826896</td>\n",
       "    </tr>\n",
       "    <tr>\n",
       "      <th>2</th>\n",
       "      <td>657300</td>\n",
       "      <td>157752</td>\n",
       "      <td>5.164574e+07</td>\n",
       "      <td>105982800</td>\n",
       "      <td>342720</td>\n",
       "      <td>828408</td>\n",
       "    </tr>\n",
       "    <tr>\n",
       "      <th>3</th>\n",
       "      <td>657300</td>\n",
       "      <td>157752</td>\n",
       "      <td>5.192765e+07</td>\n",
       "      <td>105982968</td>\n",
       "      <td>342384</td>\n",
       "      <td>829920</td>\n",
       "    </tr>\n",
       "    <tr>\n",
       "      <th>4</th>\n",
       "      <td>657300</td>\n",
       "      <td>157752</td>\n",
       "      <td>5.148174e+07</td>\n",
       "      <td>105983136</td>\n",
       "      <td>342216</td>\n",
       "      <td>826224</td>\n",
       "    </tr>\n",
       "    <tr>\n",
       "      <th>5</th>\n",
       "      <td>657300</td>\n",
       "      <td>157752</td>\n",
       "      <td>4.707048e+07</td>\n",
       "      <td>105983136</td>\n",
       "      <td>343896</td>\n",
       "      <td>827736</td>\n",
       "    </tr>\n",
       "    <tr>\n",
       "      <th>6</th>\n",
       "      <td>657300</td>\n",
       "      <td>157752</td>\n",
       "      <td>4.465737e+07</td>\n",
       "      <td>105983304</td>\n",
       "      <td>343728</td>\n",
       "      <td>824208</td>\n",
       "    </tr>\n",
       "  </tbody>\n",
       "</table>\n",
       "</div>"
      ],
      "text/plain": [
       "             시간      구분           공급량       year   month     day\n",
       "weekday                                                         \n",
       "0        657300  157752  5.049367e+07  105983472  343392  825384\n",
       "1        657300  157752  5.170760e+07  105982632  343056  826896\n",
       "2        657300  157752  5.164574e+07  105982800  342720  828408\n",
       "3        657300  157752  5.192765e+07  105982968  342384  829920\n",
       "4        657300  157752  5.148174e+07  105983136  342216  826224\n",
       "5        657300  157752  4.707048e+07  105983136  343896  827736\n",
       "6        657300  157752  4.465737e+07  105983304  343728  824208"
      ]
     },
     "execution_count": 68,
     "metadata": {},
     "output_type": "execute_result"
    }
   ],
   "source": [
    "total.groupby(['weekday']).sum()"
   ]
  },
  {
   "cell_type": "code",
   "execution_count": 52,
   "id": "52e5e139",
   "metadata": {},
   "outputs": [
    {
     "data": {
      "text/plain": [
       "Text(0.5, 1.0, '2013~2018년 요일별 공급량')"
      ]
     },
     "execution_count": 52,
     "metadata": {},
     "output_type": "execute_result"
    },
    {
     "data": {
      "image/png": "[encoded data removed]",
      "text/plain": [
       "<Figure size 864x576 with 1 Axes>"
      ]
     },
     "metadata": {
      "needs_background": "light"
     },
     "output_type": "display_data"
    }
   ],
   "source": [
    "plt.figure(figsize=(12,8))\n",
    "plt.bar(total['weekday'].unique(), total.groupby(['weekday'])['공급량'].sum())\n",
    "plt.xlabel('weekday', fontdict={'fontsize':13})\n",
    "plt.xticks(total['weekday'].unique(), fontsize=15)\n",
    "plt.ylabel('공급량', fontdict={'fontsize':13})\n",
    "plt.yticks(fontsize=15)\n",
    "plt.title('2013~2018년 요일별 공급량', fontdict={'fontsize':17})"
   ]
  },
  {
   "cell_type": "code",
   "execution_count": null,
   "id": "36b4e0f0",
   "metadata": {},
   "outputs": [],
   "source": []
  }
 ],
 "metadata": {
  "kernelspec": {
   "display_name": "Python 3",
   "language": "python",
   "name": "python3"
  },
  "language_info": {
   "codemirror_mode": {
    "name": "ipython",
    "version": 3
   },
   "file_extension": ".py",
   "mimetype": "text/x-python",
   "name": "python",
   "nbconvert_exporter": "python",
   "pygments_lexer": "ipython3",
   "version": "3.8.8"
  }
 },
 "nbformat": 4,
 "nbformat_minor": 5
}
