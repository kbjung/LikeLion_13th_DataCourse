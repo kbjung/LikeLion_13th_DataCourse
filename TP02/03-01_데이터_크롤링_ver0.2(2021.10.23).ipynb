{
 "cells": [
  {
   "cell_type": "markdown",
   "id": "4a1bddc7",
   "metadata": {},
   "source": [
    "## 나주시 농업기상정보시스템\n",
    "* 주소 : https://weather.naju.go.kr/"
   ]
  },
  {
   "cell_type": "code",
   "execution_count": 3,
   "id": "0fa03873",
   "metadata": {},
   "outputs": [],
   "source": [
    "import pandas as pd\n",
    "from numpy import nan\n",
    "import time"
   ]
  },
  {
   "cell_type": "markdown",
   "id": "531508df",
   "metadata": {},
   "source": [
    "### bs로 크롤링하기"
   ]
  },
  {
   "cell_type": "code",
   "execution_count": 4,
   "id": "5f282a0c",
   "metadata": {},
   "outputs": [],
   "source": [
    "from selenium import webdriver\n",
    "from bs4 import BeautifulSoup"
   ]
  },
  {
   "cell_type": "code",
   "execution_count": 10,
   "id": "d58ec40e",
   "metadata": {},
   "outputs": [],
   "source": [
    "driver = webdriver.Chrome(\"chromedriver_94\")\n",
    "url = \"https://weather.naju.go.kr/agri_meteo/agri_time.html\"\n",
    "driver.get(url)"
   ]
  },
  {
   "cell_type": "code",
   "execution_count": 11,
   "id": "2e9e7a6d",
   "metadata": {},
   "outputs": [],
   "source": [
    "# 관측기간 xpath : //*[@id=\"timed_date\"]\n",
    "# 조회 버튼 xpath : //*[@id=\"contents\"]/ul/li[2]/form/div/ul[2]/li/img\n",
    "search = driver.find_element_by_xpath('//*[@id=\"timed_date\"]')\n",
    "button = driver.find_element_by_xpath('//*[@id=\"contents\"]/ul/li[2]/form/div/ul[2]/li/img')\n",
    "\n",
    "search.click()\n",
    "search.clear()\n",
    "search.send_keys(\"20131001\")\n",
    "button.click()"
   ]
  },
  {
   "cell_type": "code",
   "execution_count": 12,
   "id": "fe839e22",
   "metadata": {},
   "outputs": [
    {
     "data": {
      "text/plain": [
       "<title>:::나주시 농업기상정보시스템:::</title>"
      ]
     },
     "execution_count": 12,
     "metadata": {},
     "output_type": "execute_result"
    }
   ],
   "source": [
    "page = driver.page_source\n",
    "soup = BeautifulSoup(page, 'lxml')\n",
    "soup.title"
   ]
  },
  {
   "cell_type": "code",
   "execution_count": 13,
   "id": "bb88e15a",
   "metadata": {},
   "outputs": [],
   "source": [
    "td = soup.find_all('td')"
   ]
  },
  {
   "cell_type": "code",
   "execution_count": 14,
   "id": "97f3d0e9",
   "metadata": {},
   "outputs": [
    {
     "data": {
      "text/plain": [
       "600"
      ]
     },
     "execution_count": 14,
     "metadata": {},
     "output_type": "execute_result"
    }
   ],
   "source": [
    "len(td)"
   ]
  },
  {
   "cell_type": "code",
   "execution_count": 15,
   "id": "4948e22d",
   "metadata": {},
   "outputs": [
    {
     "data": {
      "text/plain": [
       "46.15384615384615"
      ]
     },
     "execution_count": 15,
     "metadata": {},
     "output_type": "execute_result"
    }
   ],
   "source": [
    "len(td)/13"
   ]
  },
  {
   "cell_type": "code",
   "execution_count": 16,
   "id": "54e23af2",
   "metadata": {},
   "outputs": [
    {
     "data": {
      "text/plain": [
       "46"
      ]
     },
     "execution_count": 16,
     "metadata": {},
     "output_type": "execute_result"
    }
   ],
   "source": [
    "int(len(td)/13)"
   ]
  },
  {
   "cell_type": "code",
   "execution_count": 17,
   "id": "c899426b",
   "metadata": {},
   "outputs": [
    {
     "data": {
      "text/plain": [
       "<td>21.7</td>"
      ]
     },
     "execution_count": 17,
     "metadata": {},
     "output_type": "execute_result"
    }
   ],
   "source": [
    "td[597]"
   ]
  },
  {
   "cell_type": "code",
   "execution_count": 18,
   "id": "a1310014",
   "metadata": {},
   "outputs": [
    {
     "data": {
      "text/plain": [
       "[<td>2013-10-02 00:00</td>, <td>19.8</td>]"
      ]
     },
     "execution_count": 18,
     "metadata": {},
     "output_type": "execute_result"
    }
   ],
   "source": [
    "td[0:2]"
   ]
  },
  {
   "cell_type": "code",
   "execution_count": 19,
   "id": "d89687be",
   "metadata": {},
   "outputs": [
    {
     "data": {
      "text/plain": [
       "[<td>2013-10-01 23:00</td>, <td>20.0</td>]"
      ]
     },
     "execution_count": 19,
     "metadata": {},
     "output_type": "execute_result"
    }
   ],
   "source": [
    "td[13:15]"
   ]
  },
  {
   "cell_type": "code",
   "execution_count": 20,
   "id": "df36df42",
   "metadata": {
    "scrolled": false
   },
   "outputs": [
    {
     "name": "stdout",
     "output_type": "stream",
     "text": [
      "2013-10-02 00:00\n",
      "2013-10-01 23:00\n",
      "2013-10-01 22:00\n",
      "2013-10-01 21:00\n",
      "2013-10-01 20:00\n",
      "2013-10-01 19:00\n",
      "2013-10-01 18:00\n",
      "2013-10-01 17:00\n",
      "2013-10-01 16:00\n",
      "2013-10-01 15:00\n",
      "2013-10-01 14:00\n",
      "2013-10-01 13:00\n",
      "2013-10-01 12:00\n",
      "2013-10-01 11:00\n",
      "2013-10-01 10:00\n",
      "2013-10-01 09:00\n",
      "2013-10-01 08:00\n",
      "2013-10-01 07:00\n",
      "2013-10-01 06:00\n",
      "2013-10-01 05:00\n",
      "2013-10-01 04:00\n",
      "2013-10-01 03:00\n",
      "2013-10-01 02:00\n",
      "2013-10-01 01:00\n",
      "2013-10-02 00:00\n",
      "20.0\n",
      "91.0\n",
      "서\n",
      "0.5\n",
      "-\n",
      "3.0\n",
      "\n",
      "-\n",
      "22.8\n",
      "33.1\n",
      "33.0\n",
      "2013-10-01 11:00\n",
      "21.1\n",
      "90.1\n",
      "북북서\n",
      "0.0\n",
      "-\n",
      "0.0\n",
      "\n",
      "-\n",
      "21.5\n",
      "17.5\n"
     ]
    }
   ],
   "source": [
    "for i in range(47):\n",
    "    print(td[i*13].text)"
   ]
  },
  {
   "cell_type": "code",
   "execution_count": 21,
   "id": "07a90910",
   "metadata": {
    "scrolled": false
   },
   "outputs": [
    {
     "name": "stdout",
     "output_type": "stream",
     "text": [
      "2013-10-02 00:00\n",
      "2013-10-01 23:00\n",
      "2013-10-01 22:00\n",
      "2013-10-01 21:00\n",
      "2013-10-01 20:00\n",
      "2013-10-01 19:00\n",
      "2013-10-01 18:00\n",
      "2013-10-01 17:00\n",
      "2013-10-01 16:00\n",
      "2013-10-01 15:00\n",
      "2013-10-01 14:00\n",
      "2013-10-01 13:00\n",
      "2013-10-01 12:00\n",
      "2013-10-01 11:00\n",
      "2013-10-01 10:00\n",
      "2013-10-01 09:00\n",
      "2013-10-01 08:00\n",
      "2013-10-01 07:00\n",
      "2013-10-01 06:00\n",
      "2013-10-01 05:00\n",
      "2013-10-01 04:00\n",
      "2013-10-01 03:00\n",
      "2013-10-01 02:00\n",
      "2013-10-01 01:00\n",
      "2013-10-02 00:00\n",
      "2013-10-01 11:00\n"
     ]
    }
   ],
   "source": [
    "for i in range(47):\n",
    "    if len(td[i*13].text) == 16:\n",
    "        print(td[i*13].text)"
   ]
  },
  {
   "cell_type": "code",
   "execution_count": 22,
   "id": "a5817e9a",
   "metadata": {},
   "outputs": [
    {
     "data": {
      "text/plain": [
       "['2013-10-01 19:00',\n",
       " '2013-10-01 06:00',\n",
       " '2013-10-01 07:00',\n",
       " '2013-10-01 16:00',\n",
       " '2013-10-01 17:00',\n",
       " '2013-10-02 00:00',\n",
       " '2013-10-01 22:00',\n",
       " '2013-10-01 11:00',\n",
       " '2013-10-01 09:00',\n",
       " '2013-10-01 12:00',\n",
       " '2013-10-01 04:00',\n",
       " '2013-10-01 18:00',\n",
       " '2013-10-01 08:00',\n",
       " '2013-10-01 05:00',\n",
       " '2013-10-01 21:00',\n",
       " '2013-10-01 20:00',\n",
       " '2013-10-01 15:00',\n",
       " '2013-10-01 23:00',\n",
       " '2013-10-01 01:00',\n",
       " '2013-10-01 14:00',\n",
       " '2013-10-01 13:00',\n",
       " '2013-10-01 02:00',\n",
       " '2013-10-01 03:00',\n",
       " '2013-10-01 10:00']"
      ]
     },
     "execution_count": 22,
     "metadata": {},
     "output_type": "execute_result"
    }
   ],
   "source": [
    "test_date_list = []\n",
    "for i in range(47):\n",
    "    if len(td[i*13].text) == 16:\n",
    "        test_date_list.append(td[i*13].text)\n",
    "        test_date_list = set(test_date_list)\n",
    "        test_date_list = list(test_date_list)\n",
    "test_date_list"
   ]
  },
  {
   "cell_type": "code",
   "execution_count": 23,
   "id": "5ede1b90",
   "metadata": {},
   "outputs": [
    {
     "data": {
      "text/plain": [
       "24"
      ]
     },
     "execution_count": 23,
     "metadata": {},
     "output_type": "execute_result"
    }
   ],
   "source": [
    "len(test_date_list)"
   ]
  },
  {
   "cell_type": "code",
   "execution_count": 24,
   "id": "eb4703af",
   "metadata": {},
   "outputs": [],
   "source": [
    "test_date_list.sort()"
   ]
  },
  {
   "cell_type": "code",
   "execution_count": 25,
   "id": "85acd955",
   "metadata": {
    "scrolled": false
   },
   "outputs": [
    {
     "data": {
      "text/plain": [
       "['2013-10-01 01:00',\n",
       " '2013-10-01 02:00',\n",
       " '2013-10-01 03:00',\n",
       " '2013-10-01 04:00',\n",
       " '2013-10-01 05:00',\n",
       " '2013-10-01 06:00',\n",
       " '2013-10-01 07:00',\n",
       " '2013-10-01 08:00',\n",
       " '2013-10-01 09:00',\n",
       " '2013-10-01 10:00',\n",
       " '2013-10-01 11:00',\n",
       " '2013-10-01 12:00',\n",
       " '2013-10-01 13:00',\n",
       " '2013-10-01 14:00',\n",
       " '2013-10-01 15:00',\n",
       " '2013-10-01 16:00',\n",
       " '2013-10-01 17:00',\n",
       " '2013-10-01 18:00',\n",
       " '2013-10-01 19:00',\n",
       " '2013-10-01 20:00',\n",
       " '2013-10-01 21:00',\n",
       " '2013-10-01 22:00',\n",
       " '2013-10-01 23:00',\n",
       " '2013-10-02 00:00']"
      ]
     },
     "execution_count": 25,
     "metadata": {},
     "output_type": "execute_result"
    }
   ],
   "source": [
    "test_date_list"
   ]
  },
  {
   "cell_type": "code",
   "execution_count": 26,
   "id": "433c3613",
   "metadata": {
    "scrolled": false
   },
   "outputs": [
    {
     "data": {
      "text/plain": [
       "['2013-10-01 01:00',\n",
       " '2013-10-01 02:00',\n",
       " '2013-10-01 03:00',\n",
       " '2013-10-01 04:00',\n",
       " '2013-10-01 05:00',\n",
       " '2013-10-01 06:00',\n",
       " '2013-10-01 07:00',\n",
       " '2013-10-01 08:00',\n",
       " '2013-10-01 09:00',\n",
       " '2013-10-01 10:00',\n",
       " '2013-10-01 11:00',\n",
       " '2013-10-01 12:00',\n",
       " '2013-10-01 13:00',\n",
       " '2013-10-01 14:00',\n",
       " '2013-10-01 15:00',\n",
       " '2013-10-01 16:00',\n",
       " '2013-10-01 17:00',\n",
       " '2013-10-01 18:00',\n",
       " '2013-10-01 19:00',\n",
       " '2013-10-01 20:00',\n",
       " '2013-10-01 21:00',\n",
       " '2013-10-01 22:00',\n",
       " '2013-10-01 23:00',\n",
       " '2013-10-01 24:00']"
      ]
     },
     "execution_count": 26,
     "metadata": {},
     "output_type": "execute_result"
    }
   ],
   "source": [
    "a = test_date_list.index(\"2013-10-02 00:00\")\n",
    "test_date_list[a] = \"2013-10-01 24:00\"\n",
    "test_date_list"
   ]
  },
  {
   "cell_type": "code",
   "execution_count": 29,
   "id": "7407b811",
   "metadata": {},
   "outputs": [
    {
     "name": "stdout",
     "output_type": "stream",
     "text": [
      "yes\n"
     ]
    }
   ],
   "source": [
    "if '2013-10-01 13:00' in test_date_list:\n",
    "    print('yes')"
   ]
  },
  {
   "cell_type": "code",
   "execution_count": 30,
   "id": "d11ca8bc",
   "metadata": {},
   "outputs": [
    {
     "name": "stdout",
     "output_type": "stream",
     "text": [
      "19.8\n",
      "20.0\n",
      "20.0\n",
      "20.6\n",
      "21.0\n",
      "21.5\n",
      "22.0\n",
      "23.8\n",
      "26.1\n",
      "29.3\n",
      "30.4\n",
      "29.0\n",
      "28.1\n",
      "25.5\n",
      "21.1\n",
      "19.4\n",
      "18.7\n",
      "17.8\n",
      "17.1\n",
      "16.2\n",
      "16.3\n",
      "16.7\n",
      "17.1\n",
      "17.5\n",
      "19.8\n",
      "90.2\n",
      "북북서\n",
      "0.1\n",
      "3.0\n",
      "23.3\n",
      "31.5\n",
      "33.0\n",
      "25.5\n",
      "86.2\n",
      "0.0\n",
      "0.0\n",
      "21.3\n",
      "17.0\n",
      "33.2\n"
     ]
    }
   ],
   "source": [
    "for i in range(47):\n",
    "    j = i*13 +1\n",
    "    if len(td[j].text) == 3 or len(td[j].text) == 4 or len(td[j].text) == 5:\n",
    "        print(td[j].text)"
   ]
  },
  {
   "cell_type": "code",
   "execution_count": 31,
   "id": "ae5dba27",
   "metadata": {},
   "outputs": [
    {
     "data": {
      "text/plain": [
       "['19.8',\n",
       " '20.0',\n",
       " '20.0',\n",
       " '20.6',\n",
       " '21.0',\n",
       " '21.5',\n",
       " '22.0',\n",
       " '23.8',\n",
       " '26.1',\n",
       " '29.3',\n",
       " '30.4',\n",
       " '29.0',\n",
       " '28.1',\n",
       " '25.5',\n",
       " '21.1',\n",
       " '19.4',\n",
       " '18.7',\n",
       " '17.8',\n",
       " '17.1',\n",
       " '16.2',\n",
       " '16.3',\n",
       " '16.7',\n",
       " '17.1',\n",
       " '17.5']"
      ]
     },
     "execution_count": 31,
     "metadata": {},
     "output_type": "execute_result"
    }
   ],
   "source": [
    "test_tp_list = []\n",
    "for i in range(len(test_date_list)):\n",
    "    j = i * 13 + 1\n",
    "    if len(td[j].text) == 3 or len(td[j].text) == 4 or len(td[j].text) == 5:\n",
    "        test_tp_list.append(td[j].text)\n",
    "test_tp_list"
   ]
  },
  {
   "cell_type": "code",
   "execution_count": 32,
   "id": "7e230fed",
   "metadata": {},
   "outputs": [
    {
     "data": {
      "text/plain": [
       "24"
      ]
     },
     "execution_count": 32,
     "metadata": {},
     "output_type": "execute_result"
    }
   ],
   "source": [
    "len(test_tp_list)"
   ]
  },
  {
   "cell_type": "code",
   "execution_count": 33,
   "id": "d71855cb",
   "metadata": {},
   "outputs": [
    {
     "name": "stdout",
     "output_type": "stream",
     "text": [
      "23\n",
      "22\n",
      "21\n",
      "20\n",
      "19\n",
      "18\n",
      "17\n",
      "16\n",
      "15\n",
      "14\n",
      "13\n",
      "12\n",
      "11\n",
      "10\n",
      "9\n",
      "8\n",
      "7\n",
      "6\n",
      "5\n",
      "4\n",
      "3\n",
      "2\n",
      "1\n",
      "0\n"
     ]
    }
   ],
   "source": [
    "for i in range(23,-1,-1):\n",
    "    print(i)"
   ]
  },
  {
   "cell_type": "code",
   "execution_count": 34,
   "id": "f08a5134",
   "metadata": {
    "scrolled": false
   },
   "outputs": [
    {
     "data": {
      "text/plain": [
       "['17.5',\n",
       " '17.1',\n",
       " '16.7',\n",
       " '16.3',\n",
       " '16.2',\n",
       " '17.1',\n",
       " '17.8',\n",
       " '18.7',\n",
       " '19.4',\n",
       " '21.1',\n",
       " '25.5',\n",
       " '28.1',\n",
       " '29.0',\n",
       " '30.4',\n",
       " '29.3',\n",
       " '26.1',\n",
       " '23.8',\n",
       " '22.0',\n",
       " '21.5',\n",
       " '21.0',\n",
       " '20.6',\n",
       " '20.0',\n",
       " '20.0',\n",
       " '19.8']"
      ]
     },
     "execution_count": 34,
     "metadata": {},
     "output_type": "execute_result"
    }
   ],
   "source": [
    "new_test_tp_list = []\n",
    "for i in range(23,-1,-1):\n",
    "    tmp = test_tp_list[i]\n",
    "    new_test_tp_list.append(tmp)\n",
    "new_test_tp_list"
   ]
  },
  {
   "cell_type": "code",
   "execution_count": 53,
   "id": "61a8292e",
   "metadata": {},
   "outputs": [],
   "source": [
    "# webdriver로 페이지 접속\n",
    "driver = webdriver.Chrome(\"chromedriver_94\")\n",
    "url = \"https://weather.naju.go.kr/agri_meteo/agri_time.html\"\n",
    "driver.get(url)\n",
    "time.sleep(1)\n",
    "search = driver.find_element_by_xpath('//*[@id=\"timed_date\"]')\n",
    "button = driver.find_element_by_xpath('//*[@id=\"contents\"]/ul/li[2]/form/div/ul[2]/li/img')\n",
    "# 입력창 클릭 후 내용 지우고 입력하기\n",
    "search.click()\n",
    "search.clear()\n",
    "search.send_keys(\"20130309\")\n",
    "button.click()\n",
    "time.sleep(0.5)\n",
    "# bs에 담기\n",
    "page = driver.page_source\n",
    "soup = BeautifulSoup(page, 'lxml')\n",
    "td = soup.find_all('td')"
   ]
  },
  {
   "cell_type": "code",
   "execution_count": 54,
   "id": "ab86aed7",
   "metadata": {},
   "outputs": [
    {
     "data": {
      "text/plain": [
       "[<td>2013-03-10 00:00</td>,\n",
       " <td>12.9</td>,\n",
       " <td>73.8</td>,\n",
       " <td>서북서</td>,\n",
       " <td class=\"m\" style=\"display: none;\">3.8</td>,\n",
       " <td class=\"km\" style=\"display: table-cell;\">13.7</td>]"
      ]
     },
     "execution_count": 54,
     "metadata": {},
     "output_type": "execute_result"
    }
   ],
   "source": [
    "td[:6]"
   ]
  },
  {
   "cell_type": "code",
   "execution_count": 57,
   "id": "02b40943",
   "metadata": {
    "scrolled": false
   },
   "outputs": [
    {
     "data": {
      "text/plain": [
       "['2013-03-09 01:00',\n",
       " '2013-03-09 02:00',\n",
       " '2013-03-09 03:00',\n",
       " '2013-03-09 04:00',\n",
       " '2013-03-09 05:00',\n",
       " '2013-03-09 06:00',\n",
       " '2013-03-09 07:00',\n",
       " '2013-03-09 08:00',\n",
       " '2013-03-09 09:00',\n",
       " '2013-03-09 10:00',\n",
       " '2013-03-09 11:00',\n",
       " '2013-03-09 12:00',\n",
       " '2013-03-09 13:00',\n",
       " '2013-03-09 14:00',\n",
       " '2013-03-09 15:00',\n",
       " '2013-03-09 16:00',\n",
       " '2013-03-09 17:00',\n",
       " '2013-03-09 18:00',\n",
       " '2013-03-09 19:00',\n",
       " '2013-03-09 20:00',\n",
       " '2013-03-09 21:00',\n",
       " '2013-03-09 22:00',\n",
       " '2013-03-09 23:00',\n",
       " '2013-03-09 24:00']"
      ]
     },
     "execution_count": 57,
     "metadata": {},
     "output_type": "execute_result"
    }
   ],
   "source": [
    "m = 3\n",
    "d = 9\n",
    "num = int(len(td)/13)\n",
    "date_list = []\n",
    "for i in range(num):\n",
    "    if len(td[i*13].text) == 16:\n",
    "        date_list.append(td[i*13].text)\n",
    "        date_list = set(date_list)\n",
    "        date_list = list(date_list)\n",
    "# 날짜 순서 정렬 및 24시날짜 하루 당기기\n",
    "# 각 달 마지막 날짜 처리 문제\n",
    "date_list.sort()\n",
    "e = d+1\n",
    "n = m+1\n",
    "# 각 day 24:00 하루 당기기\n",
    "if f\"2013-{m:0>2}-{e:0>2} 00:00\" in date_list:\n",
    "    a = date_list.index(f\"2013-{m:0>2}-{e:0>2} 00:00\")\n",
    "    date_list[a] = f\"2013-{m:0>2}-{d:0>2} 24:00\"\n",
    "# 각 month 24:00 하루 당기기\n",
    "if f\"2013-{n:0>2}-01 00:00\" in date_list:\n",
    "    a = date_list.index(f\"2013-{n:0>2}-01 00:00\")\n",
    "    date_list[a] = f\"2013-{m:0>2}-{d:0>2} 24:00\"\n",
    "length = len(date_list)\n",
    "date_list"
   ]
  },
  {
   "cell_type": "code",
   "execution_count": 58,
   "id": "95a1cc5f",
   "metadata": {},
   "outputs": [],
   "source": [
    "# webdriver로 페이지 접속\n",
    "driver = webdriver.Chrome(\"chromedriver_94\")\n",
    "url = \"https://weather.naju.go.kr/agri_meteo/agri_time.html\"\n",
    "driver.get(url)\n",
    "time.sleep(1)\n",
    "search = driver.find_element_by_xpath('//*[@id=\"timed_date\"]')\n",
    "button = driver.find_element_by_xpath('//*[@id=\"contents\"]/ul/li[2]/form/div/ul[2]/li/img')\n",
    "# 입력창 클릭 후 내용 지우고 입력하기\n",
    "search.click()\n",
    "search.clear()\n",
    "search.send_keys(\"20130331\")\n",
    "button.click()\n",
    "time.sleep(0.5)\n",
    "# bs에 담기\n",
    "page = driver.page_source\n",
    "soup = BeautifulSoup(page, 'lxml')\n",
    "td = soup.find_all('td')"
   ]
  },
  {
   "cell_type": "code",
   "execution_count": 59,
   "id": "4868a218",
   "metadata": {},
   "outputs": [
    {
     "data": {
      "text/plain": [
       "['2013-03-31 01:00',\n",
       " '2013-03-31 02:00',\n",
       " '2013-03-31 03:00',\n",
       " '2013-03-31 04:00',\n",
       " '2013-03-31 05:00',\n",
       " '2013-03-31 06:00',\n",
       " '2013-03-31 07:00',\n",
       " '2013-03-31 08:00',\n",
       " '2013-03-31 09:00',\n",
       " '2013-03-31 10:00',\n",
       " '2013-03-31 11:00',\n",
       " '2013-03-31 12:00',\n",
       " '2013-03-31 13:00',\n",
       " '2013-03-31 14:00',\n",
       " '2013-03-31 15:00',\n",
       " '2013-03-31 16:00',\n",
       " '2013-03-31 17:00',\n",
       " '2013-03-31 18:00',\n",
       " '2013-03-31 19:00',\n",
       " '2013-03-31 20:00',\n",
       " '2013-03-31 21:00',\n",
       " '2013-03-31 22:00',\n",
       " '2013-03-31 23:00',\n",
       " '2013-03-31 24:00']"
      ]
     },
     "execution_count": 59,
     "metadata": {},
     "output_type": "execute_result"
    }
   ],
   "source": [
    "m = 3\n",
    "d = 31\n",
    "num = int(len(td)/13)\n",
    "date_list = []\n",
    "for i in range(num):\n",
    "    if len(td[i*13].text) == 16:\n",
    "        date_list.append(td[i*13].text)\n",
    "        date_list = set(date_list)\n",
    "        date_list = list(date_list)\n",
    "# 날짜 순서 정렬 및 24시날짜 하루 당기기\n",
    "# 각 달 마지막 날짜 처리 문제\n",
    "date_list.sort()\n",
    "e = d+1\n",
    "n = m+1\n",
    "# 각 day 24:00 하루 당기기\n",
    "if f\"2013-{m:0>2}-{e:0>2} 00:00\" in date_list:\n",
    "    a = date_list.index(f\"2013-{m:0>2}-{e:0>2} 00:00\")\n",
    "    date_list[a] = f\"2013-{m:0>2}-{d:0>2} 24:00\"\n",
    "# 각 month 24:00 하루 당기기\n",
    "if f\"2013-{n:0>2}-01 00:00\" in date_list:\n",
    "    a = date_list.index(f\"2013-{n:0>2}-01 00:00\")\n",
    "    date_list[a] = f\"2013-{m:0>2}-{d:0>2} 24:00\"\n",
    "length = len(date_list)\n",
    "date_list"
   ]
  },
  {
   "cell_type": "code",
   "execution_count": 39,
   "id": "3a33a3b9",
   "metadata": {},
   "outputs": [
    {
     "data": {
      "text/plain": [
       "12.5"
      ]
     },
     "execution_count": 39,
     "metadata": {},
     "output_type": "execute_result"
    }
   ],
   "source": [
    "float('12.5')"
   ]
  },
  {
   "cell_type": "code",
   "execution_count": 40,
   "id": "d894a235",
   "metadata": {},
   "outputs": [
    {
     "data": {
      "text/plain": [
       "['12.9',\n",
       " '13.7',\n",
       " '15.5',\n",
       " '14.8',\n",
       " '16.1',\n",
       " '16.7',\n",
       " '19.1',\n",
       " '21.4',\n",
       " '22.9',\n",
       " '24.2',\n",
       " '-',\n",
       " '-',\n",
       " '20.8',\n",
       " '16.2',\n",
       " '9.8',\n",
       " '3.9',\n",
       " '0.6',\n",
       " '0.5',\n",
       " '0.8',\n",
       " '1.4',\n",
       " '1.1',\n",
       " '0.7',\n",
       " '1.5',\n",
       " '1.7']"
      ]
     },
     "execution_count": 40,
     "metadata": {},
     "output_type": "execute_result"
    }
   ],
   "source": [
    "# 온도 기록\n",
    "# 날짜 만큼만 온도 가져오기\n",
    "tp_list = []\n",
    "for i in range(length):\n",
    "    j = i * 13 + 1\n",
    "    if td[j] == nan:\n",
    "        tp_list.append(nan)\n",
    "    else:\n",
    "        tp_list.append(td[j].text)\n",
    "tp_list"
   ]
  },
  {
   "cell_type": "code",
   "execution_count": 41,
   "id": "bdb14b0e",
   "metadata": {},
   "outputs": [
    {
     "data": {
      "text/plain": [
       "24"
      ]
     },
     "execution_count": 41,
     "metadata": {},
     "output_type": "execute_result"
    }
   ],
   "source": [
    "len(tp_list)"
   ]
  },
  {
   "cell_type": "code",
   "execution_count": 42,
   "id": "84216f3e",
   "metadata": {},
   "outputs": [
    {
     "name": "stdout",
     "output_type": "stream",
     "text": [
      "yes\n"
     ]
    }
   ],
   "source": [
    "if '-' in tp_list:\n",
    "    print(\"yes\")"
   ]
  },
  {
   "cell_type": "code",
   "execution_count": 43,
   "id": "84a94ad4",
   "metadata": {
    "scrolled": false
   },
   "outputs": [
    {
     "data": {
      "text/html": [
       "<div>\n",
       "<style scoped>\n",
       "    .dataframe tbody tr th:only-of-type {\n",
       "        vertical-align: middle;\n",
       "    }\n",
       "\n",
       "    .dataframe tbody tr th {\n",
       "        vertical-align: top;\n",
       "    }\n",
       "\n",
       "    .dataframe thead th {\n",
       "        text-align: right;\n",
       "    }\n",
       "</style>\n",
       "<table border=\"1\" class=\"dataframe\">\n",
       "  <thead>\n",
       "    <tr style=\"text-align: right;\">\n",
       "      <th></th>\n",
       "      <th>연-월-일 시간</th>\n",
       "      <th>기온</th>\n",
       "    </tr>\n",
       "  </thead>\n",
       "  <tbody>\n",
       "    <tr>\n",
       "      <th>0</th>\n",
       "      <td>2013-03-09 01:00</td>\n",
       "      <td>12.9</td>\n",
       "    </tr>\n",
       "    <tr>\n",
       "      <th>1</th>\n",
       "      <td>2013-03-09 02:00</td>\n",
       "      <td>13.7</td>\n",
       "    </tr>\n",
       "    <tr>\n",
       "      <th>2</th>\n",
       "      <td>2013-03-09 03:00</td>\n",
       "      <td>15.5</td>\n",
       "    </tr>\n",
       "    <tr>\n",
       "      <th>3</th>\n",
       "      <td>2013-03-09 04:00</td>\n",
       "      <td>14.8</td>\n",
       "    </tr>\n",
       "    <tr>\n",
       "      <th>4</th>\n",
       "      <td>2013-03-09 05:00</td>\n",
       "      <td>16.1</td>\n",
       "    </tr>\n",
       "    <tr>\n",
       "      <th>5</th>\n",
       "      <td>2013-03-09 06:00</td>\n",
       "      <td>16.7</td>\n",
       "    </tr>\n",
       "    <tr>\n",
       "      <th>6</th>\n",
       "      <td>2013-03-09 07:00</td>\n",
       "      <td>19.1</td>\n",
       "    </tr>\n",
       "    <tr>\n",
       "      <th>7</th>\n",
       "      <td>2013-03-09 08:00</td>\n",
       "      <td>21.4</td>\n",
       "    </tr>\n",
       "    <tr>\n",
       "      <th>8</th>\n",
       "      <td>2013-03-09 09:00</td>\n",
       "      <td>22.9</td>\n",
       "    </tr>\n",
       "    <tr>\n",
       "      <th>9</th>\n",
       "      <td>2013-03-09 10:00</td>\n",
       "      <td>24.2</td>\n",
       "    </tr>\n",
       "    <tr>\n",
       "      <th>10</th>\n",
       "      <td>2013-03-09 11:00</td>\n",
       "      <td>-</td>\n",
       "    </tr>\n",
       "    <tr>\n",
       "      <th>11</th>\n",
       "      <td>2013-03-09 12:00</td>\n",
       "      <td>-</td>\n",
       "    </tr>\n",
       "    <tr>\n",
       "      <th>12</th>\n",
       "      <td>2013-03-09 13:00</td>\n",
       "      <td>20.8</td>\n",
       "    </tr>\n",
       "    <tr>\n",
       "      <th>13</th>\n",
       "      <td>2013-03-09 14:00</td>\n",
       "      <td>16.2</td>\n",
       "    </tr>\n",
       "    <tr>\n",
       "      <th>14</th>\n",
       "      <td>2013-03-09 15:00</td>\n",
       "      <td>9.8</td>\n",
       "    </tr>\n",
       "    <tr>\n",
       "      <th>15</th>\n",
       "      <td>2013-03-09 16:00</td>\n",
       "      <td>3.9</td>\n",
       "    </tr>\n",
       "    <tr>\n",
       "      <th>16</th>\n",
       "      <td>2013-03-09 17:00</td>\n",
       "      <td>0.6</td>\n",
       "    </tr>\n",
       "    <tr>\n",
       "      <th>17</th>\n",
       "      <td>2013-03-09 18:00</td>\n",
       "      <td>0.5</td>\n",
       "    </tr>\n",
       "    <tr>\n",
       "      <th>18</th>\n",
       "      <td>2013-03-09 19:00</td>\n",
       "      <td>0.8</td>\n",
       "    </tr>\n",
       "    <tr>\n",
       "      <th>19</th>\n",
       "      <td>2013-03-09 20:00</td>\n",
       "      <td>1.4</td>\n",
       "    </tr>\n",
       "    <tr>\n",
       "      <th>20</th>\n",
       "      <td>2013-03-09 21:00</td>\n",
       "      <td>1.1</td>\n",
       "    </tr>\n",
       "    <tr>\n",
       "      <th>21</th>\n",
       "      <td>2013-03-09 22:00</td>\n",
       "      <td>0.7</td>\n",
       "    </tr>\n",
       "    <tr>\n",
       "      <th>22</th>\n",
       "      <td>2013-03-09 23:00</td>\n",
       "      <td>1.5</td>\n",
       "    </tr>\n",
       "    <tr>\n",
       "      <th>23</th>\n",
       "      <td>2013-03-10 00:00</td>\n",
       "      <td>1.7</td>\n",
       "    </tr>\n",
       "  </tbody>\n",
       "</table>\n",
       "</div>"
      ],
      "text/plain": [
       "            연-월-일 시간    기온\n",
       "0   2013-03-09 01:00  12.9\n",
       "1   2013-03-09 02:00  13.7\n",
       "2   2013-03-09 03:00  15.5\n",
       "3   2013-03-09 04:00  14.8\n",
       "4   2013-03-09 05:00  16.1\n",
       "5   2013-03-09 06:00  16.7\n",
       "6   2013-03-09 07:00  19.1\n",
       "7   2013-03-09 08:00  21.4\n",
       "8   2013-03-09 09:00  22.9\n",
       "9   2013-03-09 10:00  24.2\n",
       "10  2013-03-09 11:00     -\n",
       "11  2013-03-09 12:00     -\n",
       "12  2013-03-09 13:00  20.8\n",
       "13  2013-03-09 14:00  16.2\n",
       "14  2013-03-09 15:00   9.8\n",
       "15  2013-03-09 16:00   3.9\n",
       "16  2013-03-09 17:00   0.6\n",
       "17  2013-03-09 18:00   0.5\n",
       "18  2013-03-09 19:00   0.8\n",
       "19  2013-03-09 20:00   1.4\n",
       "20  2013-03-09 21:00   1.1\n",
       "21  2013-03-09 22:00   0.7\n",
       "22  2013-03-09 23:00   1.5\n",
       "23  2013-03-10 00:00   1.7"
      ]
     },
     "execution_count": 43,
     "metadata": {},
     "output_type": "execute_result"
    }
   ],
   "source": [
    "test_sr = pd.DataFrame({\"연-월-일 시간\":date_list,\"기온\":tp_list})\n",
    "test_sr"
   ]
  },
  {
   "cell_type": "code",
   "execution_count": 44,
   "id": "f6e90c92",
   "metadata": {
    "scrolled": true
   },
   "outputs": [
    {
     "name": "stdout",
     "output_type": "stream",
     "text": [
      "<class 'pandas.core.frame.DataFrame'>\n",
      "RangeIndex: 24 entries, 0 to 23\n",
      "Data columns (total 2 columns):\n",
      " #   Column    Non-Null Count  Dtype \n",
      "---  ------    --------------  ----- \n",
      " 0   연-월-일 시간  24 non-null     object\n",
      " 1   기온        24 non-null     object\n",
      "dtypes: object(2)\n",
      "memory usage: 512.0+ bytes\n"
     ]
    }
   ],
   "source": [
    "test_sr.info()"
   ]
  },
  {
   "cell_type": "code",
   "execution_count": 45,
   "id": "629443fb",
   "metadata": {},
   "outputs": [
    {
     "data": {
      "text/plain": [
       "10    -\n",
       "11    -\n",
       "Name: 기온, dtype: object"
      ]
     },
     "execution_count": 45,
     "metadata": {},
     "output_type": "execute_result"
    }
   ],
   "source": [
    "test_sr.loc[test_sr['기온']=='-','기온']"
   ]
  },
  {
   "cell_type": "code",
   "execution_count": 46,
   "id": "6d073355",
   "metadata": {
    "scrolled": false
   },
   "outputs": [
    {
     "data": {
      "text/html": [
       "<div>\n",
       "<style scoped>\n",
       "    .dataframe tbody tr th:only-of-type {\n",
       "        vertical-align: middle;\n",
       "    }\n",
       "\n",
       "    .dataframe tbody tr th {\n",
       "        vertical-align: top;\n",
       "    }\n",
       "\n",
       "    .dataframe thead th {\n",
       "        text-align: right;\n",
       "    }\n",
       "</style>\n",
       "<table border=\"1\" class=\"dataframe\">\n",
       "  <thead>\n",
       "    <tr style=\"text-align: right;\">\n",
       "      <th></th>\n",
       "      <th>연-월-일 시간</th>\n",
       "      <th>기온</th>\n",
       "    </tr>\n",
       "  </thead>\n",
       "  <tbody>\n",
       "    <tr>\n",
       "      <th>0</th>\n",
       "      <td>2013-03-09 01:00</td>\n",
       "      <td>12.9</td>\n",
       "    </tr>\n",
       "    <tr>\n",
       "      <th>1</th>\n",
       "      <td>2013-03-09 02:00</td>\n",
       "      <td>13.7</td>\n",
       "    </tr>\n",
       "    <tr>\n",
       "      <th>2</th>\n",
       "      <td>2013-03-09 03:00</td>\n",
       "      <td>15.5</td>\n",
       "    </tr>\n",
       "    <tr>\n",
       "      <th>3</th>\n",
       "      <td>2013-03-09 04:00</td>\n",
       "      <td>14.8</td>\n",
       "    </tr>\n",
       "    <tr>\n",
       "      <th>4</th>\n",
       "      <td>2013-03-09 05:00</td>\n",
       "      <td>16.1</td>\n",
       "    </tr>\n",
       "    <tr>\n",
       "      <th>5</th>\n",
       "      <td>2013-03-09 06:00</td>\n",
       "      <td>16.7</td>\n",
       "    </tr>\n",
       "    <tr>\n",
       "      <th>6</th>\n",
       "      <td>2013-03-09 07:00</td>\n",
       "      <td>19.1</td>\n",
       "    </tr>\n",
       "    <tr>\n",
       "      <th>7</th>\n",
       "      <td>2013-03-09 08:00</td>\n",
       "      <td>21.4</td>\n",
       "    </tr>\n",
       "    <tr>\n",
       "      <th>8</th>\n",
       "      <td>2013-03-09 09:00</td>\n",
       "      <td>22.9</td>\n",
       "    </tr>\n",
       "    <tr>\n",
       "      <th>9</th>\n",
       "      <td>2013-03-09 10:00</td>\n",
       "      <td>24.2</td>\n",
       "    </tr>\n",
       "    <tr>\n",
       "      <th>10</th>\n",
       "      <td>2013-03-09 11:00</td>\n",
       "      <td>NaN</td>\n",
       "    </tr>\n",
       "    <tr>\n",
       "      <th>11</th>\n",
       "      <td>2013-03-09 12:00</td>\n",
       "      <td>NaN</td>\n",
       "    </tr>\n",
       "    <tr>\n",
       "      <th>12</th>\n",
       "      <td>2013-03-09 13:00</td>\n",
       "      <td>20.8</td>\n",
       "    </tr>\n",
       "    <tr>\n",
       "      <th>13</th>\n",
       "      <td>2013-03-09 14:00</td>\n",
       "      <td>16.2</td>\n",
       "    </tr>\n",
       "    <tr>\n",
       "      <th>14</th>\n",
       "      <td>2013-03-09 15:00</td>\n",
       "      <td>9.8</td>\n",
       "    </tr>\n",
       "    <tr>\n",
       "      <th>15</th>\n",
       "      <td>2013-03-09 16:00</td>\n",
       "      <td>3.9</td>\n",
       "    </tr>\n",
       "    <tr>\n",
       "      <th>16</th>\n",
       "      <td>2013-03-09 17:00</td>\n",
       "      <td>0.6</td>\n",
       "    </tr>\n",
       "    <tr>\n",
       "      <th>17</th>\n",
       "      <td>2013-03-09 18:00</td>\n",
       "      <td>0.5</td>\n",
       "    </tr>\n",
       "    <tr>\n",
       "      <th>18</th>\n",
       "      <td>2013-03-09 19:00</td>\n",
       "      <td>0.8</td>\n",
       "    </tr>\n",
       "    <tr>\n",
       "      <th>19</th>\n",
       "      <td>2013-03-09 20:00</td>\n",
       "      <td>1.4</td>\n",
       "    </tr>\n",
       "    <tr>\n",
       "      <th>20</th>\n",
       "      <td>2013-03-09 21:00</td>\n",
       "      <td>1.1</td>\n",
       "    </tr>\n",
       "    <tr>\n",
       "      <th>21</th>\n",
       "      <td>2013-03-09 22:00</td>\n",
       "      <td>0.7</td>\n",
       "    </tr>\n",
       "    <tr>\n",
       "      <th>22</th>\n",
       "      <td>2013-03-09 23:00</td>\n",
       "      <td>1.5</td>\n",
       "    </tr>\n",
       "    <tr>\n",
       "      <th>23</th>\n",
       "      <td>2013-03-10 00:00</td>\n",
       "      <td>1.7</td>\n",
       "    </tr>\n",
       "  </tbody>\n",
       "</table>\n",
       "</div>"
      ],
      "text/plain": [
       "            연-월-일 시간    기온\n",
       "0   2013-03-09 01:00  12.9\n",
       "1   2013-03-09 02:00  13.7\n",
       "2   2013-03-09 03:00  15.5\n",
       "3   2013-03-09 04:00  14.8\n",
       "4   2013-03-09 05:00  16.1\n",
       "5   2013-03-09 06:00  16.7\n",
       "6   2013-03-09 07:00  19.1\n",
       "7   2013-03-09 08:00  21.4\n",
       "8   2013-03-09 09:00  22.9\n",
       "9   2013-03-09 10:00  24.2\n",
       "10  2013-03-09 11:00   NaN\n",
       "11  2013-03-09 12:00   NaN\n",
       "12  2013-03-09 13:00  20.8\n",
       "13  2013-03-09 14:00  16.2\n",
       "14  2013-03-09 15:00   9.8\n",
       "15  2013-03-09 16:00   3.9\n",
       "16  2013-03-09 17:00   0.6\n",
       "17  2013-03-09 18:00   0.5\n",
       "18  2013-03-09 19:00   0.8\n",
       "19  2013-03-09 20:00   1.4\n",
       "20  2013-03-09 21:00   1.1\n",
       "21  2013-03-09 22:00   0.7\n",
       "22  2013-03-09 23:00   1.5\n",
       "23  2013-03-10 00:00   1.7"
      ]
     },
     "execution_count": 46,
     "metadata": {},
     "output_type": "execute_result"
    }
   ],
   "source": [
    "test_sr.loc[test_sr['기온']=='-','기온'] = nan\n",
    "test_sr"
   ]
  },
  {
   "cell_type": "code",
   "execution_count": 47,
   "id": "f9c30edb",
   "metadata": {
    "scrolled": true
   },
   "outputs": [
    {
     "name": "stdout",
     "output_type": "stream",
     "text": [
      "<class 'pandas.core.frame.DataFrame'>\n",
      "RangeIndex: 24 entries, 0 to 23\n",
      "Data columns (total 2 columns):\n",
      " #   Column    Non-Null Count  Dtype \n",
      "---  ------    --------------  ----- \n",
      " 0   연-월-일 시간  24 non-null     object\n",
      " 1   기온        22 non-null     object\n",
      "dtypes: object(2)\n",
      "memory usage: 512.0+ bytes\n"
     ]
    }
   ],
   "source": [
    "test_sr.info()"
   ]
  },
  {
   "cell_type": "code",
   "execution_count": 69,
   "id": "65faf314",
   "metadata": {},
   "outputs": [
    {
     "name": "stdout",
     "output_type": "stream",
     "text": [
      "관측시간(년-월-일 시:분)\n",
      "기온(℃)\n",
      "습도(%)\n",
      "풍향\n",
      "\n",
      "\n",
      "풍속(km/h)\n",
      "풍속(m/s)\n",
      "\n",
      "\n",
      "기압(hPa)\n",
      "강수량(mm)\n",
      "이슬유무\n",
      "일사량(W/㎡)\n",
      "지중온도(%)\n",
      "초상온도(℃)\n",
      "토양수분(%)\n",
      "관측시간(년-월-일 시:분)\n",
      "기온(℃)\n",
      "습도(%)\n",
      "풍향\n",
      "풍속(m/s)\n",
      "기압(hPa)\n",
      "강수량(mm)\n",
      "이슬유무\n",
      "일사량(W/㎡)\n",
      "지중온도(%)\n",
      "초상온도(℃)\n",
      "토양수분(%)\n"
     ]
    }
   ],
   "source": [
    "for one in th:\n",
    "    print(one.text)"
   ]
  },
  {
   "cell_type": "code",
   "execution_count": 48,
   "id": "7af74c0e",
   "metadata": {},
   "outputs": [
    {
     "name": "stdout",
     "output_type": "stream",
     "text": [
      "2013-01-01 01:00\n",
      "2013-01-01 02:00\n",
      "2013-01-01 03:00\n",
      "2013-01-01 04:00\n",
      "2013-01-01 05:00\n",
      "2013-01-01 06:00\n",
      "2013-01-01 07:00\n",
      "2013-01-01 08:00\n",
      "2013-01-01 09:00\n",
      "2013-01-01 10:00\n",
      "2013-01-01 11:00\n",
      "2013-01-01 12:00\n",
      "2013-01-01 13:00\n",
      "2013-01-01 14:00\n",
      "2013-01-01 15:00\n",
      "2013-01-01 16:00\n",
      "2013-01-01 17:00\n",
      "2013-01-01 18:00\n",
      "2013-01-01 19:00\n",
      "2013-01-01 20:00\n",
      "2013-01-01 21:00\n",
      "2013-01-01 22:00\n",
      "2013-01-01 23:00\n",
      "2013-01-01 24:00\n"
     ]
    }
   ],
   "source": [
    "# 시간 샘플\n",
    "for i in range(1,25):\n",
    "    tmp = f'2013-01-01 {i:0>2}:00'\n",
    "    print(tmp)"
   ]
  },
  {
   "cell_type": "code",
   "execution_count": 10,
   "id": "148a1970",
   "metadata": {},
   "outputs": [],
   "source": [
    "# webdriver로 페이지 접속\n",
    "driver = webdriver.Chrome(\"chromedriver_94\")\n",
    "url = \"https://weather.naju.go.kr/agri_meteo/agri_time.html\"\n",
    "driver.get(url)\n",
    "time.sleep(1)\n",
    "\n",
    "all_date_list = []\n",
    "all_tp_list = []\n",
    "for m in [1,3]:\n",
    "    for d in range(1,32):\n",
    "        # 관측기간 xpath : //*[@id=\"timed_date\"]\n",
    "        # 조회 버튼 xpath : //*[@id=\"contents\"]/ul/li[2]/form/div/ul[2]/li/img\n",
    "        search = driver.find_element_by_xpath('//*[@id=\"timed_date\"]')\n",
    "        button = driver.find_element_by_xpath('//*[@id=\"contents\"]/ul/li[2]/form/div/ul[2]/li/img')\n",
    "        # 입력창 클릭 후 내용 지우고 입력하기\n",
    "        search.click()\n",
    "        search.clear()\n",
    "        search.send_keys(f\"2013{m:0>2}{d:0>2}\")\n",
    "        button.click()\n",
    "        time.sleep(0.5)\n",
    "        # bs에 담기\n",
    "        page = driver.page_source\n",
    "        soup = BeautifulSoup(page, 'lxml')\n",
    "        \n",
    "        # 시간, 기온 기록\n",
    "        td = soup.find_all('td')\n",
    "        \n",
    "        # 시간 기록\n",
    "        # 날짜만 가져오기\n",
    "        num = int(len(td)/13)\n",
    "        date_list = []\n",
    "        for i in range(num):\n",
    "            if len(td[i*13].text) == 16:\n",
    "                date_list.append(td[i*13].text)\n",
    "                date_list = set(date_list)\n",
    "                date_list = list(date_list)\n",
    "        # 날짜 순서 정렬 및 24시날짜 하루 당기기\n",
    "        # 각 달 마지막 날짜 처리 문제\n",
    "        date_list.sort()\n",
    "        e = d+1\n",
    "        n = m+1\n",
    "        if f\"2013-{m:0>2}-{e:0>2} 00:00\" in date_list:\n",
    "            a = date_list.index(f\"2013-{m:0>2}-{e:0>2} 00:00\")\n",
    "            date_list[a] = f\"2013-{m:0>2}-{d:0>2} 24:00\"\n",
    "        if f\"2013-{n:0>2}-01 00:00\" in date_list:\n",
    "            a = date_list.index(f\"2013-{n:0>2}-01 00:00\")\n",
    "            date_list[a] = f\"2013-{m:0>2}-{d:0>2} 24:00\"\n",
    "        length = len(date_list)\n",
    "        \n",
    "        # 시간 샘플이 비어있는 부분 확인하기\n",
    "        # 시간 샘플\n",
    "        sample_date = []\n",
    "        for i in range(1,25):\n",
    "            tmp = f'2013-{m:0>2}-{e:0>2} {i:0>2}:00'\n",
    "            sample_date.append(tmp)\n",
    "        # 비어 있는 부분 확인\n",
    "        empty_index_list = []\n",
    "        if length < 24:\n",
    "            for i, one in enumerate(sample_date):\n",
    "                if one not in date_list:\n",
    "                    empty_index_list.append(i)\n",
    "            \n",
    "            # 온도 기록\n",
    "            # 날짜 만큼만 온도 가져오기\n",
    "            tp_list = []\n",
    "            for i in range(length):\n",
    "                j = i * 13 + 1\n",
    "                if td[j] == nan:\n",
    "                    tp_list.append(nan)\n",
    "                else:\n",
    "                    tp_list.append(td[j].text)\n",
    "            # 날짜에 맞춰 온도 순서 뒤집기\n",
    "            new_tp_list = []\n",
    "            for i in range(length-1,-1,-1):\n",
    "                tmp = tp_list[i]\n",
    "                new_tp_list.append(tmp)\n",
    "            \n",
    "            # 비어 있는 날짜, 시간 nan으로 채우기\n",
    "            for i in empty_index_list:\n",
    "                date_list.insert(i, sample_date[i])\n",
    "                new_tp_list.insert(i, nan)\n",
    "            \n",
    "        else:\n",
    "            # 온도 기록\n",
    "            # 날짜 만큼만 온도 가져오기\n",
    "            tp_list = []\n",
    "            for i in range(length):\n",
    "                j = i * 13 + 1\n",
    "                if td[j] == nan:\n",
    "                    tp_list.append(nan)\n",
    "                else:\n",
    "                    tp_list.append(td[j].text)\n",
    "            # 날짜에 맞춰 온도 순서 뒤집기\n",
    "            new_tp_list = []\n",
    "            for i in range(length-1,-1,-1):\n",
    "                tmp = tp_list[i]\n",
    "                new_tp_list.append(tmp)\n",
    "        \n",
    "        # 날짜, 온도 리스트에 추가\n",
    "        all_date_list.extend(date_list)\n",
    "        all_tp_list.extend(new_tp_list)"
   ]
  },
  {
   "cell_type": "code",
   "execution_count": 11,
   "id": "4b6e81db",
   "metadata": {
    "scrolled": true
   },
   "outputs": [
    {
     "name": "stdout",
     "output_type": "stream",
     "text": [
      "1546 1546\n"
     ]
    }
   ],
   "source": [
    "print(len(all_date_list), len(all_tp_list))"
   ]
  },
  {
   "cell_type": "markdown",
   "id": "ee4d66cf",
   "metadata": {},
   "source": [
    "### 데이터 셋으로 만들기\n",
    "* '-' => nan"
   ]
  },
  {
   "cell_type": "code",
   "execution_count": 150,
   "id": "fd7f753a",
   "metadata": {},
   "outputs": [
    {
     "data": {
      "text/html": [
       "<div>\n",
       "<style scoped>\n",
       "    .dataframe tbody tr th:only-of-type {\n",
       "        vertical-align: middle;\n",
       "    }\n",
       "\n",
       "    .dataframe tbody tr th {\n",
       "        vertical-align: top;\n",
       "    }\n",
       "\n",
       "    .dataframe thead th {\n",
       "        text-align: right;\n",
       "    }\n",
       "</style>\n",
       "<table border=\"1\" class=\"dataframe\">\n",
       "  <thead>\n",
       "    <tr style=\"text-align: right;\">\n",
       "      <th></th>\n",
       "      <th>연-월-일 시간</th>\n",
       "      <th>기온</th>\n",
       "    </tr>\n",
       "  </thead>\n",
       "  <tbody>\n",
       "    <tr>\n",
       "      <th>0</th>\n",
       "      <td>2013-01-01 01:00</td>\n",
       "      <td>-6.4</td>\n",
       "    </tr>\n",
       "    <tr>\n",
       "      <th>1</th>\n",
       "      <td>2013-01-01 02:00</td>\n",
       "      <td>-6.0</td>\n",
       "    </tr>\n",
       "    <tr>\n",
       "      <th>2</th>\n",
       "      <td>2013-01-01 03:00</td>\n",
       "      <td>-5.7</td>\n",
       "    </tr>\n",
       "    <tr>\n",
       "      <th>3</th>\n",
       "      <td>2013-01-01 04:00</td>\n",
       "      <td>-5.8</td>\n",
       "    </tr>\n",
       "    <tr>\n",
       "      <th>4</th>\n",
       "      <td>2013-01-01 05:00</td>\n",
       "      <td>-6.3</td>\n",
       "    </tr>\n",
       "    <tr>\n",
       "      <th>...</th>\n",
       "      <td>...</td>\n",
       "      <td>...</td>\n",
       "    </tr>\n",
       "    <tr>\n",
       "      <th>1469</th>\n",
       "      <td>2013-03-31 20:00</td>\n",
       "      <td>7.1</td>\n",
       "    </tr>\n",
       "    <tr>\n",
       "      <th>1470</th>\n",
       "      <td>2013-03-31 21:00</td>\n",
       "      <td>6.2</td>\n",
       "    </tr>\n",
       "    <tr>\n",
       "      <th>1471</th>\n",
       "      <td>2013-03-31 22:00</td>\n",
       "      <td>3.8</td>\n",
       "    </tr>\n",
       "    <tr>\n",
       "      <th>1472</th>\n",
       "      <td>2013-03-31 23:00</td>\n",
       "      <td>3.0</td>\n",
       "    </tr>\n",
       "    <tr>\n",
       "      <th>1473</th>\n",
       "      <td>2013-03-31 24:00</td>\n",
       "      <td>2.3</td>\n",
       "    </tr>\n",
       "  </tbody>\n",
       "</table>\n",
       "<p>1474 rows × 2 columns</p>\n",
       "</div>"
      ],
      "text/plain": [
       "              연-월-일 시간    기온\n",
       "0     2013-01-01 01:00  -6.4\n",
       "1     2013-01-01 02:00  -6.0\n",
       "2     2013-01-01 03:00  -5.7\n",
       "3     2013-01-01 04:00  -5.8\n",
       "4     2013-01-01 05:00  -6.3\n",
       "...                ...   ...\n",
       "1469  2013-03-31 20:00   7.1\n",
       "1470  2013-03-31 21:00   6.2\n",
       "1471  2013-03-31 22:00   3.8\n",
       "1472  2013-03-31 23:00   3.0\n",
       "1473  2013-03-31 24:00   2.3\n",
       "\n",
       "[1474 rows x 2 columns]"
      ]
     },
     "execution_count": 150,
     "metadata": {},
     "output_type": "execute_result"
    }
   ],
   "source": [
    "df = pd.DataFrame({\"연-월-일 시간\":all_date_list, \"기온\":all_tp_list})\n",
    "df"
   ]
  },
  {
   "cell_type": "code",
   "execution_count": 151,
   "id": "e11f697d",
   "metadata": {
    "scrolled": true
   },
   "outputs": [
    {
     "name": "stdout",
     "output_type": "stream",
     "text": [
      "<class 'pandas.core.frame.DataFrame'>\n",
      "RangeIndex: 1474 entries, 0 to 1473\n",
      "Data columns (total 2 columns):\n",
      " #   Column    Non-Null Count  Dtype \n",
      "---  ------    --------------  ----- \n",
      " 0   연-월-일 시간  1474 non-null   object\n",
      " 1   기온        1474 non-null   object\n",
      "dtypes: object(2)\n",
      "memory usage: 23.2+ KB\n"
     ]
    }
   ],
   "source": [
    "df.info()"
   ]
  },
  {
   "cell_type": "code",
   "execution_count": 152,
   "id": "1850049e",
   "metadata": {},
   "outputs": [
    {
     "data": {
      "text/html": [
       "<div>\n",
       "<style scoped>\n",
       "    .dataframe tbody tr th:only-of-type {\n",
       "        vertical-align: middle;\n",
       "    }\n",
       "\n",
       "    .dataframe tbody tr th {\n",
       "        vertical-align: top;\n",
       "    }\n",
       "\n",
       "    .dataframe thead th {\n",
       "        text-align: right;\n",
       "    }\n",
       "</style>\n",
       "<table border=\"1\" class=\"dataframe\">\n",
       "  <thead>\n",
       "    <tr style=\"text-align: right;\">\n",
       "      <th></th>\n",
       "      <th>연-월-일 시간</th>\n",
       "      <th>기온</th>\n",
       "    </tr>\n",
       "  </thead>\n",
       "  <tbody>\n",
       "    <tr>\n",
       "      <th>934</th>\n",
       "      <td>2013-03-09 13:00</td>\n",
       "      <td>-</td>\n",
       "    </tr>\n",
       "    <tr>\n",
       "      <th>935</th>\n",
       "      <td>2013-03-09 14:00</td>\n",
       "      <td>-</td>\n",
       "    </tr>\n",
       "    <tr>\n",
       "      <th>987</th>\n",
       "      <td>2013-03-11 18:00</td>\n",
       "      <td>-</td>\n",
       "    </tr>\n",
       "    <tr>\n",
       "      <th>1056</th>\n",
       "      <td>2013-03-14 15:00</td>\n",
       "      <td>-</td>\n",
       "    </tr>\n",
       "    <tr>\n",
       "      <th>1057</th>\n",
       "      <td>2013-03-14 16:00</td>\n",
       "      <td>-</td>\n",
       "    </tr>\n",
       "    <tr>\n",
       "      <th>1058</th>\n",
       "      <td>2013-03-14 17:00</td>\n",
       "      <td>-</td>\n",
       "    </tr>\n",
       "    <tr>\n",
       "      <th>1075</th>\n",
       "      <td>2013-03-15 10:00</td>\n",
       "      <td>-</td>\n",
       "    </tr>\n",
       "  </tbody>\n",
       "</table>\n",
       "</div>"
      ],
      "text/plain": [
       "              연-월-일 시간 기온\n",
       "934   2013-03-09 13:00  -\n",
       "935   2013-03-09 14:00  -\n",
       "987   2013-03-11 18:00  -\n",
       "1056  2013-03-14 15:00  -\n",
       "1057  2013-03-14 16:00  -\n",
       "1058  2013-03-14 17:00  -\n",
       "1075  2013-03-15 10:00  -"
      ]
     },
     "execution_count": 152,
     "metadata": {},
     "output_type": "execute_result"
    }
   ],
   "source": [
    "df[df['기온']=='-']"
   ]
  },
  {
   "cell_type": "code",
   "execution_count": 153,
   "id": "4c2a67c2",
   "metadata": {},
   "outputs": [],
   "source": [
    "df.loc[df['기온']=='-', '기온'] = nan"
   ]
  },
  {
   "cell_type": "code",
   "execution_count": 154,
   "id": "be38769f",
   "metadata": {
    "scrolled": true
   },
   "outputs": [
    {
     "name": "stdout",
     "output_type": "stream",
     "text": [
      "<class 'pandas.core.frame.DataFrame'>\n",
      "RangeIndex: 1474 entries, 0 to 1473\n",
      "Data columns (total 2 columns):\n",
      " #   Column    Non-Null Count  Dtype \n",
      "---  ------    --------------  ----- \n",
      " 0   연-월-일 시간  1474 non-null   object\n",
      " 1   기온        1467 non-null   object\n",
      "dtypes: object(2)\n",
      "memory usage: 23.2+ KB\n"
     ]
    }
   ],
   "source": [
    "df.info()"
   ]
  },
  {
   "cell_type": "markdown",
   "id": "ff8b7abd",
   "metadata": {},
   "source": [
    "# 날짜, 온도 빈값 처리 확인 테스트\n",
    "* 2013년 1월"
   ]
  },
  {
   "cell_type": "code",
   "execution_count": 12,
   "id": "8ad493d4",
   "metadata": {},
   "outputs": [],
   "source": [
    "# webdriver로 페이지 접속\n",
    "driver = webdriver.Chrome(\"chromedriver_94\")\n",
    "url = \"https://weather.naju.go.kr/agri_meteo/agri_time.html\"\n",
    "driver.get(url)\n",
    "time.sleep(1)\n",
    "\n",
    "all_date_list = []\n",
    "all_tp_list = []\n",
    "for m in [1]:\n",
    "    for d in range(1,32):\n",
    "        # 관측기간 xpath : //*[@id=\"timed_date\"]\n",
    "        # 조회 버튼 xpath : //*[@id=\"contents\"]/ul/li[2]/form/div/ul[2]/li/img\n",
    "        search = driver.find_element_by_xpath('//*[@id=\"timed_date\"]')\n",
    "        button = driver.find_element_by_xpath('//*[@id=\"contents\"]/ul/li[2]/form/div/ul[2]/li/img')\n",
    "        # 입력창 클릭 후 내용 지우고 입력하기\n",
    "        search.click()\n",
    "        search.clear()\n",
    "        search.send_keys(f\"2013{m:0>2}{d:0>2}\")\n",
    "        button.click()\n",
    "        time.sleep(0.5)\n",
    "        # bs에 담기\n",
    "        page = driver.page_source\n",
    "        soup = BeautifulSoup(page, 'lxml')\n",
    "        \n",
    "        # 시간, 기온 기록\n",
    "        td = soup.find_all('td')\n",
    "        \n",
    "        # 시간 기록\n",
    "        # 날짜만 가져오기\n",
    "        num = int(len(td)/13)\n",
    "        date_list = []\n",
    "        for i in range(num):\n",
    "            if len(td[i*13].text) == 16:\n",
    "                date_list.append(td[i*13].text)\n",
    "                date_list = set(date_list)\n",
    "                date_list = list(date_list)\n",
    "        # 날짜 순서 정렬 및 24시날짜 하루 당기기\n",
    "        # 각 달 마지막 날짜 처리\n",
    "        date_list.sort()\n",
    "        e = d+1\n",
    "        n = m+1\n",
    "        if f\"2013-{m:0>2}-{e:0>2} 00:00\" in date_list:\n",
    "            a = date_list.index(f\"2013-{m:0>2}-{e:0>2} 00:00\")\n",
    "            date_list[a] = f\"2013-{m:0>2}-{d:0>2} 24:00\"\n",
    "        if f\"2013-{n:0>2}-01 00:00\" in date_list:\n",
    "            a = date_list.index(f\"2013-{n:0>2}-01 00:00\")\n",
    "            date_list[a] = f\"2013-{m:0>2}-{d:0>2} 24:00\"\n",
    "        length = len(date_list)\n",
    "        \n",
    "        # 시간 샘플이 비어있는 부분 확인하기\n",
    "        # 시간 샘플\n",
    "        sample_date = []\n",
    "        for i in range(1,25):\n",
    "            tmp = f'2013-{m:0>2}-{e:0>2} {i:0>2}:00'\n",
    "            sample_date.append(tmp)\n",
    "            \n",
    "        # 비어 있는 부분 확인\n",
    "        empty_index_list = []\n",
    "        if length < 24:\n",
    "            for i, one in enumerate(sample_date):\n",
    "                if one not in date_list:\n",
    "                    empty_index_list.append(i)\n",
    "            \n",
    "            # 온도 기록\n",
    "            # 날짜 만큼만 온도 가져오기\n",
    "            tp_list = []\n",
    "            for i in range(length):\n",
    "                j = i * 13 + 1\n",
    "                if td[j] == nan:\n",
    "                    tp_list.append(nan)\n",
    "                else:\n",
    "                    tp_list.append(td[j].text)\n",
    "            # 날짜에 맞춰 온도 순서 뒤집기\n",
    "            new_tp_list = []\n",
    "            for i in range(length-1,-1,-1):\n",
    "                tmp = tp_list[i]\n",
    "                new_tp_list.append(tmp)\n",
    "            \n",
    "            # 비어 있는 날짜 삽입, 해당 날짜 온도 nan 삽입\n",
    "            for i in empty_index_list:\n",
    "                date_list.insert(i, sample_date[i])\n",
    "                new_tp_list.insert(i, nan)\n",
    "            \n",
    "        else:\n",
    "            # 온도 기록\n",
    "            # 날짜 만큼만 온도 가져오기\n",
    "            tp_list = []\n",
    "            for i in range(length):\n",
    "                j = i * 13 + 1\n",
    "                if td[j] == nan:\n",
    "                    tp_list.append(nan)\n",
    "                else:\n",
    "                    tp_list.append(td[j].text)\n",
    "            # 날짜에 맞춰 온도 순서 뒤집기\n",
    "            new_tp_list = []\n",
    "            for i in range(length-1,-1,-1):\n",
    "                tmp = tp_list[i]\n",
    "                new_tp_list.append(tmp)\n",
    "        \n",
    "        # 날짜, 온도 리스트에 추가\n",
    "        all_date_list.extend(date_list)\n",
    "        all_tp_list.extend(new_tp_list)"
   ]
  },
  {
   "cell_type": "code",
   "execution_count": 13,
   "id": "67243915",
   "metadata": {},
   "outputs": [
    {
     "name": "stdout",
     "output_type": "stream",
     "text": [
      "802 802\n"
     ]
    }
   ],
   "source": [
    "print(len(all_date_list), len(all_tp_list))"
   ]
  },
  {
   "cell_type": "code",
   "execution_count": 14,
   "id": "e647cc31",
   "metadata": {
    "scrolled": false
   },
   "outputs": [],
   "source": [
    "# 데이터 셋 만들기\n",
    "df = pd.DataFrame({\"연-월-일 시간\":all_date_list, \"기온\":all_tp_list})\n",
    "df.loc[df['기온']=='-', '기온'] = nan"
   ]
  },
  {
   "cell_type": "code",
   "execution_count": 15,
   "id": "23453d97",
   "metadata": {},
   "outputs": [],
   "source": [
    "df2 = pd.DataFrame({\"연-월-일 시간\":all_date_list, \"기온\":all_tp_list})"
   ]
  },
  {
   "cell_type": "code",
   "execution_count": 18,
   "id": "ca9473b7",
   "metadata": {
    "scrolled": false
   },
   "outputs": [
    {
     "data": {
      "text/html": [
       "<div>\n",
       "<style scoped>\n",
       "    .dataframe tbody tr th:only-of-type {\n",
       "        vertical-align: middle;\n",
       "    }\n",
       "\n",
       "    .dataframe tbody tr th {\n",
       "        vertical-align: top;\n",
       "    }\n",
       "\n",
       "    .dataframe thead th {\n",
       "        text-align: right;\n",
       "    }\n",
       "</style>\n",
       "<table border=\"1\" class=\"dataframe\">\n",
       "  <thead>\n",
       "    <tr style=\"text-align: right;\">\n",
       "      <th></th>\n",
       "      <th>연-월-일 시간</th>\n",
       "      <th>기온</th>\n",
       "    </tr>\n",
       "  </thead>\n",
       "  <tbody>\n",
       "    <tr>\n",
       "      <th>0</th>\n",
       "      <td>2013-01-01 01:00</td>\n",
       "      <td>-6.4</td>\n",
       "    </tr>\n",
       "    <tr>\n",
       "      <th>1</th>\n",
       "      <td>2013-01-01 02:00</td>\n",
       "      <td>-6.0</td>\n",
       "    </tr>\n",
       "    <tr>\n",
       "      <th>2</th>\n",
       "      <td>2013-01-01 03:00</td>\n",
       "      <td>-5.7</td>\n",
       "    </tr>\n",
       "    <tr>\n",
       "      <th>3</th>\n",
       "      <td>2013-01-01 04:00</td>\n",
       "      <td>-5.8</td>\n",
       "    </tr>\n",
       "    <tr>\n",
       "      <th>4</th>\n",
       "      <td>2013-01-01 05:00</td>\n",
       "      <td>-6.3</td>\n",
       "    </tr>\n",
       "    <tr>\n",
       "      <th>...</th>\n",
       "      <td>...</td>\n",
       "      <td>...</td>\n",
       "    </tr>\n",
       "    <tr>\n",
       "      <th>797</th>\n",
       "      <td>2013-01-31 20:00</td>\n",
       "      <td>10.6</td>\n",
       "    </tr>\n",
       "    <tr>\n",
       "      <th>798</th>\n",
       "      <td>2013-01-31 21:00</td>\n",
       "      <td>10.7</td>\n",
       "    </tr>\n",
       "    <tr>\n",
       "      <th>799</th>\n",
       "      <td>2013-01-31 22:00</td>\n",
       "      <td>10.5</td>\n",
       "    </tr>\n",
       "    <tr>\n",
       "      <th>800</th>\n",
       "      <td>2013-01-31 23:00</td>\n",
       "      <td>9.6</td>\n",
       "    </tr>\n",
       "    <tr>\n",
       "      <th>801</th>\n",
       "      <td>2013-01-31 24:00</td>\n",
       "      <td>9.2</td>\n",
       "    </tr>\n",
       "  </tbody>\n",
       "</table>\n",
       "<p>802 rows × 2 columns</p>\n",
       "</div>"
      ],
      "text/plain": [
       "             연-월-일 시간    기온\n",
       "0    2013-01-01 01:00  -6.4\n",
       "1    2013-01-01 02:00  -6.0\n",
       "2    2013-01-01 03:00  -5.7\n",
       "3    2013-01-01 04:00  -5.8\n",
       "4    2013-01-01 05:00  -6.3\n",
       "..                ...   ...\n",
       "797  2013-01-31 20:00  10.6\n",
       "798  2013-01-31 21:00  10.7\n",
       "799  2013-01-31 22:00  10.5\n",
       "800  2013-01-31 23:00   9.6\n",
       "801  2013-01-31 24:00   9.2\n",
       "\n",
       "[802 rows x 2 columns]"
      ]
     },
     "execution_count": 18,
     "metadata": {},
     "output_type": "execute_result"
    }
   ],
   "source": [
    "df"
   ]
  },
  {
   "cell_type": "code",
   "execution_count": 17,
   "id": "2196bd98",
   "metadata": {
    "scrolled": false
   },
   "outputs": [
    {
     "data": {
      "text/html": [
       "<div>\n",
       "<style scoped>\n",
       "    .dataframe tbody tr th:only-of-type {\n",
       "        vertical-align: middle;\n",
       "    }\n",
       "\n",
       "    .dataframe tbody tr th {\n",
       "        vertical-align: top;\n",
       "    }\n",
       "\n",
       "    .dataframe thead th {\n",
       "        text-align: right;\n",
       "    }\n",
       "</style>\n",
       "<table border=\"1\" class=\"dataframe\">\n",
       "  <thead>\n",
       "    <tr style=\"text-align: right;\">\n",
       "      <th></th>\n",
       "      <th>연-월-일 시간</th>\n",
       "      <th>기온</th>\n",
       "    </tr>\n",
       "  </thead>\n",
       "  <tbody>\n",
       "    <tr>\n",
       "      <th>0</th>\n",
       "      <td>2013-01-01 01:00</td>\n",
       "      <td>-6.4</td>\n",
       "    </tr>\n",
       "    <tr>\n",
       "      <th>1</th>\n",
       "      <td>2013-01-01 02:00</td>\n",
       "      <td>-6.0</td>\n",
       "    </tr>\n",
       "    <tr>\n",
       "      <th>2</th>\n",
       "      <td>2013-01-01 03:00</td>\n",
       "      <td>-5.7</td>\n",
       "    </tr>\n",
       "    <tr>\n",
       "      <th>3</th>\n",
       "      <td>2013-01-01 04:00</td>\n",
       "      <td>-5.8</td>\n",
       "    </tr>\n",
       "    <tr>\n",
       "      <th>4</th>\n",
       "      <td>2013-01-01 05:00</td>\n",
       "      <td>-6.3</td>\n",
       "    </tr>\n",
       "    <tr>\n",
       "      <th>...</th>\n",
       "      <td>...</td>\n",
       "      <td>...</td>\n",
       "    </tr>\n",
       "    <tr>\n",
       "      <th>797</th>\n",
       "      <td>2013-01-31 20:00</td>\n",
       "      <td>10.6</td>\n",
       "    </tr>\n",
       "    <tr>\n",
       "      <th>798</th>\n",
       "      <td>2013-01-31 21:00</td>\n",
       "      <td>10.7</td>\n",
       "    </tr>\n",
       "    <tr>\n",
       "      <th>799</th>\n",
       "      <td>2013-01-31 22:00</td>\n",
       "      <td>10.5</td>\n",
       "    </tr>\n",
       "    <tr>\n",
       "      <th>800</th>\n",
       "      <td>2013-01-31 23:00</td>\n",
       "      <td>9.6</td>\n",
       "    </tr>\n",
       "    <tr>\n",
       "      <th>801</th>\n",
       "      <td>2013-01-31 24:00</td>\n",
       "      <td>9.2</td>\n",
       "    </tr>\n",
       "  </tbody>\n",
       "</table>\n",
       "<p>802 rows × 2 columns</p>\n",
       "</div>"
      ],
      "text/plain": [
       "             연-월-일 시간    기온\n",
       "0    2013-01-01 01:00  -6.4\n",
       "1    2013-01-01 02:00  -6.0\n",
       "2    2013-01-01 03:00  -5.7\n",
       "3    2013-01-01 04:00  -5.8\n",
       "4    2013-01-01 05:00  -6.3\n",
       "..                ...   ...\n",
       "797  2013-01-31 20:00  10.6\n",
       "798  2013-01-31 21:00  10.7\n",
       "799  2013-01-31 22:00  10.5\n",
       "800  2013-01-31 23:00   9.6\n",
       "801  2013-01-31 24:00   9.2\n",
       "\n",
       "[802 rows x 2 columns]"
      ]
     },
     "execution_count": 17,
     "metadata": {},
     "output_type": "execute_result"
    }
   ],
   "source": [
    "df2"
   ]
  },
  {
   "cell_type": "markdown",
   "id": "5c1467d7",
   "metadata": {},
   "source": [
    "# 날짜, 온도 빈값 처리 확인 테스트\n",
    "* 2013년 3월"
   ]
  },
  {
   "cell_type": "code",
   "execution_count": 19,
   "id": "867a4115",
   "metadata": {},
   "outputs": [],
   "source": [
    "# webdriver로 페이지 접속\n",
    "driver = webdriver.Chrome(\"chromedriver_94\")\n",
    "url = \"https://weather.naju.go.kr/agri_meteo/agri_time.html\"\n",
    "driver.get(url)\n",
    "time.sleep(1)\n",
    "\n",
    "all_date_list = []\n",
    "all_tp_list = []\n",
    "for m in [3]:\n",
    "    for d in range(1,32):\n",
    "        # 관측기간 xpath : //*[@id=\"timed_date\"]\n",
    "        # 조회 버튼 xpath : //*[@id=\"contents\"]/ul/li[2]/form/div/ul[2]/li/img\n",
    "        search = driver.find_element_by_xpath('//*[@id=\"timed_date\"]')\n",
    "        button = driver.find_element_by_xpath('//*[@id=\"contents\"]/ul/li[2]/form/div/ul[2]/li/img')\n",
    "        # 입력창 클릭 후 내용 지우고 입력하기\n",
    "        search.click()\n",
    "        search.clear()\n",
    "        search.send_keys(f\"2013{m:0>2}{d:0>2}\")\n",
    "        button.click()\n",
    "        time.sleep(0.5)\n",
    "        # bs에 담기\n",
    "        page = driver.page_source\n",
    "        soup = BeautifulSoup(page, 'lxml')\n",
    "        \n",
    "        # 시간, 기온 기록\n",
    "        td = soup.find_all('td')\n",
    "        \n",
    "        # 시간 기록\n",
    "        # 날짜만 가져오기\n",
    "        num = int(len(td)/13)\n",
    "        date_list = []\n",
    "        for i in range(num):\n",
    "            if len(td[i*13].text) == 16:\n",
    "                date_list.append(td[i*13].text)\n",
    "                date_list = set(date_list)\n",
    "                date_list = list(date_list)\n",
    "        # 날짜 순서 정렬 및 24시날짜 하루 당기기\n",
    "        # 각 달 마지막 날짜 처리\n",
    "        date_list.sort()\n",
    "        e = d+1\n",
    "        n = m+1\n",
    "        if f\"2013-{m:0>2}-{e:0>2} 00:00\" in date_list:\n",
    "            a = date_list.index(f\"2013-{m:0>2}-{e:0>2} 00:00\")\n",
    "            date_list[a] = f\"2013-{m:0>2}-{d:0>2} 24:00\"\n",
    "        if f\"2013-{n:0>2}-01 00:00\" in date_list:\n",
    "            a = date_list.index(f\"2013-{n:0>2}-01 00:00\")\n",
    "            date_list[a] = f\"2013-{m:0>2}-{d:0>2} 24:00\"\n",
    "        length = len(date_list)\n",
    "        \n",
    "        # 시간 샘플이 비어있는 부분 확인하기\n",
    "        # 시간 샘플\n",
    "        sample_date = []\n",
    "        for i in range(1,25):\n",
    "            tmp = f'2013-{m:0>2}-{e:0>2} {i:0>2}:00'\n",
    "            sample_date.append(tmp)\n",
    "            \n",
    "        # 비어 있는 부분 확인\n",
    "        if length < 24:\n",
    "            empty_index_list = []\n",
    "            for i, one in enumerate(sample_date):\n",
    "                if one not in date_list:\n",
    "                    empty_index_list.append(i)\n",
    "            \n",
    "            # 온도 기록\n",
    "            # 날짜 만큼만 온도 가져오기\n",
    "            tp_list = []\n",
    "            for i in range(length):\n",
    "                j = i * 13 + 1\n",
    "                if td[j] == nan:\n",
    "                    tp_list.append(nan)\n",
    "                else:\n",
    "                    tp_list.append(td[j].text)\n",
    "            # 날짜에 맞춰 온도 순서 뒤집기\n",
    "            new_tp_list = []\n",
    "            for i in range(length-1,-1,-1):\n",
    "                tmp = tp_list[i]\n",
    "                new_tp_list.append(tmp)\n",
    "            \n",
    "            # 비어 있는 날짜 삽입, 해당 날짜 온도 nan 삽입\n",
    "            for i in empty_index_list:\n",
    "                date_list.insert(i, sample_date[i])\n",
    "                new_tp_list.insert(i, nan)\n",
    "            \n",
    "        if length == 24:\n",
    "            # 온도 기록\n",
    "            # 날짜 만큼만 온도 가져오기\n",
    "            tp_list = []\n",
    "            for i in range(length):\n",
    "                j = i * 13 + 1\n",
    "                if td[j] == nan:\n",
    "                    tp_list.append(nan)\n",
    "                else:\n",
    "                    tp_list.append(td[j].text)\n",
    "            # 날짜에 맞춰 온도 순서 뒤집기\n",
    "            new_tp_list = []\n",
    "            for i in range(length-1,-1,-1):\n",
    "                tmp = tp_list[i]\n",
    "                new_tp_list.append(tmp)\n",
    "        \n",
    "        # 날짜, 온도 리스트에 추가\n",
    "        all_date_list.extend(date_list)\n",
    "        all_tp_list.extend(new_tp_list)"
   ]
  },
  {
   "cell_type": "code",
   "execution_count": 20,
   "id": "51f6691c",
   "metadata": {},
   "outputs": [
    {
     "name": "stdout",
     "output_type": "stream",
     "text": [
      "744 744\n"
     ]
    }
   ],
   "source": [
    "print(len(all_date_list), len(all_tp_list))"
   ]
  },
  {
   "cell_type": "code",
   "execution_count": 21,
   "id": "cde0895d",
   "metadata": {},
   "outputs": [],
   "source": [
    "# 데이터 셋 만들기\n",
    "df2 = pd.DataFrame({\"연-월-일 시간\":all_date_list, \"기온\":all_tp_list})"
   ]
  },
  {
   "cell_type": "code",
   "execution_count": 22,
   "id": "5d2d08b0",
   "metadata": {},
   "outputs": [],
   "source": [
    "# 데이터 셋 만들기\n",
    "df = pd.DataFrame({\"연-월-일 시간\":all_date_list, \"기온\":all_tp_list})\n",
    "df.loc[df['기온']=='-', '기온'] = nan"
   ]
  },
  {
   "cell_type": "code",
   "execution_count": 23,
   "id": "104296c6",
   "metadata": {},
   "outputs": [
    {
     "data": {
      "text/html": [
       "<div>\n",
       "<style scoped>\n",
       "    .dataframe tbody tr th:only-of-type {\n",
       "        vertical-align: middle;\n",
       "    }\n",
       "\n",
       "    .dataframe tbody tr th {\n",
       "        vertical-align: top;\n",
       "    }\n",
       "\n",
       "    .dataframe thead th {\n",
       "        text-align: right;\n",
       "    }\n",
       "</style>\n",
       "<table border=\"1\" class=\"dataframe\">\n",
       "  <thead>\n",
       "    <tr style=\"text-align: right;\">\n",
       "      <th></th>\n",
       "      <th>연-월-일 시간</th>\n",
       "      <th>기온</th>\n",
       "    </tr>\n",
       "  </thead>\n",
       "  <tbody>\n",
       "    <tr>\n",
       "      <th>0</th>\n",
       "      <td>2013-03-01 01:00</td>\n",
       "      <td>10.6</td>\n",
       "    </tr>\n",
       "    <tr>\n",
       "      <th>1</th>\n",
       "      <td>2013-03-01 02:00</td>\n",
       "      <td>10.5</td>\n",
       "    </tr>\n",
       "    <tr>\n",
       "      <th>2</th>\n",
       "      <td>2013-03-01 03:00</td>\n",
       "      <td>11.0</td>\n",
       "    </tr>\n",
       "    <tr>\n",
       "      <th>3</th>\n",
       "      <td>2013-03-01 04:00</td>\n",
       "      <td>10.3</td>\n",
       "    </tr>\n",
       "    <tr>\n",
       "      <th>4</th>\n",
       "      <td>2013-03-01 05:00</td>\n",
       "      <td>9.6</td>\n",
       "    </tr>\n",
       "    <tr>\n",
       "      <th>...</th>\n",
       "      <td>...</td>\n",
       "      <td>...</td>\n",
       "    </tr>\n",
       "    <tr>\n",
       "      <th>739</th>\n",
       "      <td>2013-03-31 20:00</td>\n",
       "      <td>7.1</td>\n",
       "    </tr>\n",
       "    <tr>\n",
       "      <th>740</th>\n",
       "      <td>2013-03-31 21:00</td>\n",
       "      <td>6.2</td>\n",
       "    </tr>\n",
       "    <tr>\n",
       "      <th>741</th>\n",
       "      <td>2013-03-31 22:00</td>\n",
       "      <td>3.8</td>\n",
       "    </tr>\n",
       "    <tr>\n",
       "      <th>742</th>\n",
       "      <td>2013-03-31 23:00</td>\n",
       "      <td>3.0</td>\n",
       "    </tr>\n",
       "    <tr>\n",
       "      <th>743</th>\n",
       "      <td>2013-03-31 24:00</td>\n",
       "      <td>2.3</td>\n",
       "    </tr>\n",
       "  </tbody>\n",
       "</table>\n",
       "<p>744 rows × 2 columns</p>\n",
       "</div>"
      ],
      "text/plain": [
       "             연-월-일 시간    기온\n",
       "0    2013-03-01 01:00  10.6\n",
       "1    2013-03-01 02:00  10.5\n",
       "2    2013-03-01 03:00  11.0\n",
       "3    2013-03-01 04:00  10.3\n",
       "4    2013-03-01 05:00   9.6\n",
       "..                ...   ...\n",
       "739  2013-03-31 20:00   7.1\n",
       "740  2013-03-31 21:00   6.2\n",
       "741  2013-03-31 22:00   3.8\n",
       "742  2013-03-31 23:00   3.0\n",
       "743  2013-03-31 24:00   2.3\n",
       "\n",
       "[744 rows x 2 columns]"
      ]
     },
     "execution_count": 23,
     "metadata": {},
     "output_type": "execute_result"
    }
   ],
   "source": [
    "df2"
   ]
  },
  {
   "cell_type": "code",
   "execution_count": 24,
   "id": "fef29118",
   "metadata": {},
   "outputs": [
    {
     "data": {
      "text/html": [
       "<div>\n",
       "<style scoped>\n",
       "    .dataframe tbody tr th:only-of-type {\n",
       "        vertical-align: middle;\n",
       "    }\n",
       "\n",
       "    .dataframe tbody tr th {\n",
       "        vertical-align: top;\n",
       "    }\n",
       "\n",
       "    .dataframe thead th {\n",
       "        text-align: right;\n",
       "    }\n",
       "</style>\n",
       "<table border=\"1\" class=\"dataframe\">\n",
       "  <thead>\n",
       "    <tr style=\"text-align: right;\">\n",
       "      <th></th>\n",
       "      <th>연-월-일 시간</th>\n",
       "      <th>기온</th>\n",
       "    </tr>\n",
       "  </thead>\n",
       "  <tbody>\n",
       "    <tr>\n",
       "      <th>0</th>\n",
       "      <td>2013-03-01 01:00</td>\n",
       "      <td>10.6</td>\n",
       "    </tr>\n",
       "    <tr>\n",
       "      <th>1</th>\n",
       "      <td>2013-03-01 02:00</td>\n",
       "      <td>10.5</td>\n",
       "    </tr>\n",
       "    <tr>\n",
       "      <th>2</th>\n",
       "      <td>2013-03-01 03:00</td>\n",
       "      <td>11.0</td>\n",
       "    </tr>\n",
       "    <tr>\n",
       "      <th>3</th>\n",
       "      <td>2013-03-01 04:00</td>\n",
       "      <td>10.3</td>\n",
       "    </tr>\n",
       "    <tr>\n",
       "      <th>4</th>\n",
       "      <td>2013-03-01 05:00</td>\n",
       "      <td>9.6</td>\n",
       "    </tr>\n",
       "    <tr>\n",
       "      <th>...</th>\n",
       "      <td>...</td>\n",
       "      <td>...</td>\n",
       "    </tr>\n",
       "    <tr>\n",
       "      <th>739</th>\n",
       "      <td>2013-03-31 20:00</td>\n",
       "      <td>7.1</td>\n",
       "    </tr>\n",
       "    <tr>\n",
       "      <th>740</th>\n",
       "      <td>2013-03-31 21:00</td>\n",
       "      <td>6.2</td>\n",
       "    </tr>\n",
       "    <tr>\n",
       "      <th>741</th>\n",
       "      <td>2013-03-31 22:00</td>\n",
       "      <td>3.8</td>\n",
       "    </tr>\n",
       "    <tr>\n",
       "      <th>742</th>\n",
       "      <td>2013-03-31 23:00</td>\n",
       "      <td>3.0</td>\n",
       "    </tr>\n",
       "    <tr>\n",
       "      <th>743</th>\n",
       "      <td>2013-03-31 24:00</td>\n",
       "      <td>2.3</td>\n",
       "    </tr>\n",
       "  </tbody>\n",
       "</table>\n",
       "<p>744 rows × 2 columns</p>\n",
       "</div>"
      ],
      "text/plain": [
       "             연-월-일 시간    기온\n",
       "0    2013-03-01 01:00  10.6\n",
       "1    2013-03-01 02:00  10.5\n",
       "2    2013-03-01 03:00  11.0\n",
       "3    2013-03-01 04:00  10.3\n",
       "4    2013-03-01 05:00   9.6\n",
       "..                ...   ...\n",
       "739  2013-03-31 20:00   7.1\n",
       "740  2013-03-31 21:00   6.2\n",
       "741  2013-03-31 22:00   3.8\n",
       "742  2013-03-31 23:00   3.0\n",
       "743  2013-03-31 24:00   2.3\n",
       "\n",
       "[744 rows x 2 columns]"
      ]
     },
     "execution_count": 24,
     "metadata": {},
     "output_type": "execute_result"
    }
   ],
   "source": [
    "df"
   ]
  },
  {
   "cell_type": "markdown",
   "id": "9bf159ab",
   "metadata": {},
   "source": [
    "# 2014년 6월부터 체크"
   ]
  },
  {
   "cell_type": "markdown",
   "id": "ce67b550",
   "metadata": {},
   "source": [
    "### 2014년 6월 13일"
   ]
  },
  {
   "cell_type": "code",
   "execution_count": 25,
   "id": "557611f8",
   "metadata": {},
   "outputs": [],
   "source": [
    "# webdriver로 페이지 접속\n",
    "driver = webdriver.Chrome(\"chromedriver_94\")\n",
    "url = \"https://weather.naju.go.kr/agri_meteo/agri_time.html\"\n",
    "driver.get(url)\n",
    "driver.implicitly_wait(5)\n",
    "\n",
    "# 관측기간 xpath : //*[@id=\"timed_date\"]\n",
    "# 조회 버튼 xpath : //*[@id=\"contents\"]/ul/li[2]/form/div/ul[2]/li/img\n",
    "search = driver.find_element_by_xpath('//*[@id=\"timed_date\"]')\n",
    "button = driver.find_element_by_xpath('//*[@id=\"contents\"]/ul/li[2]/form/div/ul[2]/li/img')\n",
    "# 입력창 클릭 후 내용 지우고 입력하기\n",
    "search.click()\n",
    "search.clear()\n",
    "search.send_keys(f\"20140613\")\n",
    "button.click()\n",
    "driver.implicitly_wait(5)\n",
    "\n",
    "# bs에 담기\n",
    "page = driver.page_source\n",
    "soup = BeautifulSoup(page, 'lxml')\n",
    "\n",
    "# 시간, 기온 기록\n",
    "td = soup.find_all('td')        "
   ]
  },
  {
   "cell_type": "code",
   "execution_count": 26,
   "id": "09673057",
   "metadata": {},
   "outputs": [
    {
     "data": {
      "text/plain": [
       "':::나주시 농업기상정보시스템:::'"
      ]
     },
     "execution_count": 26,
     "metadata": {},
     "output_type": "execute_result"
    }
   ],
   "source": [
    "soup.title.text"
   ]
  },
  {
   "cell_type": "code",
   "execution_count": 30,
   "id": "ff4ace9d",
   "metadata": {},
   "outputs": [
    {
     "data": {
      "text/plain": [
       "[<td>2014-06-14 00:00</td>,\n",
       " <td>19.1</td>,\n",
       " <td>87.2</td>,\n",
       " <td>북서</td>,\n",
       " <td class=\"m\" style=\"display: none;\">0.2</td>,\n",
       " <td class=\"km\" style=\"display: table-cell;\">0.7</td>,\n",
       " <td class=\"m\" style=\"display: none;\">2.1</td>,\n",
       " <td class=\"km\" style=\"display: table-cell;\">7.6</td>,\n",
       " <td>-</td>,\n",
       " <td>0.0</td>,\n",
       " <td></td>,\n",
       " <td>-</td>,\n",
       " <td>23.3</td>,\n",
       " <td>19.5</td>,\n",
       " <td>32.6</td>,\n",
       " <td>2014-06-13 23:00</td>,\n",
       " <td>19.0</td>,\n",
       " <td>87.2</td>,\n",
       " <td>북</td>,\n",
       " <td class=\"m\" style=\"display: none;\">0.2</td>,\n",
       " <td class=\"km\" style=\"display: table-cell;\">0.7</td>,\n",
       " <td class=\"m\" style=\"display: none;\">2.6</td>,\n",
       " <td class=\"km\" style=\"display: table-cell;\">9.4</td>,\n",
       " <td>-</td>]"
      ]
     },
     "execution_count": 30,
     "metadata": {},
     "output_type": "execute_result"
    }
   ],
   "source": [
    "td[:24]"
   ]
  },
  {
   "cell_type": "code",
   "execution_count": 31,
   "id": "fcaedc3c",
   "metadata": {},
   "outputs": [
    {
     "data": {
      "text/plain": [
       "<td>2014-06-14 00:00</td>"
      ]
     },
     "execution_count": 31,
     "metadata": {},
     "output_type": "execute_result"
    }
   ],
   "source": [
    "td[0]"
   ]
  },
  {
   "cell_type": "code",
   "execution_count": 32,
   "id": "6d5dc780",
   "metadata": {},
   "outputs": [
    {
     "data": {
      "text/plain": [
       "<td>19.1</td>"
      ]
     },
     "execution_count": 32,
     "metadata": {},
     "output_type": "execute_result"
    }
   ],
   "source": [
    "td[1]"
   ]
  },
  {
   "cell_type": "code",
   "execution_count": 33,
   "id": "52abfb84",
   "metadata": {},
   "outputs": [
    {
     "data": {
      "text/plain": [
       "<td>19.5</td>"
      ]
     },
     "execution_count": 33,
     "metadata": {},
     "output_type": "execute_result"
    }
   ],
   "source": [
    "td[13]"
   ]
  },
  {
   "cell_type": "code",
   "execution_count": 34,
   "id": "63dc4552",
   "metadata": {},
   "outputs": [
    {
     "data": {
      "text/plain": [
       "<td>2014-06-13 23:00</td>"
      ]
     },
     "execution_count": 34,
     "metadata": {},
     "output_type": "execute_result"
    }
   ],
   "source": [
    "td[15]"
   ]
  },
  {
   "cell_type": "code",
   "execution_count": 35,
   "id": "4c876f29",
   "metadata": {},
   "outputs": [
    {
     "data": {
      "text/plain": [
       "<td>19.0</td>"
      ]
     },
     "execution_count": 35,
     "metadata": {},
     "output_type": "execute_result"
    }
   ],
   "source": [
    "td[16]"
   ]
  },
  {
   "cell_type": "code",
   "execution_count": 36,
   "id": "e323baf7",
   "metadata": {},
   "outputs": [
    {
     "name": "stdout",
     "output_type": "stream",
     "text": [
      "2014-06-14 00:00\n",
      "2014-06-13 23:00\n",
      "2014-06-13 22:00\n",
      "2014-06-13 21:00\n",
      "2014-06-13 20:00\n",
      "2014-06-13 19:00\n",
      "2014-06-13 18:00\n",
      "2014-06-13 17:00\n",
      "2014-06-13 16:00\n",
      "2014-06-13 15:00\n",
      "2014-06-13 14:00\n",
      "2014-06-13 13:00\n",
      "2014-06-13 12:00\n",
      "2014-06-13 11:00\n",
      "2014-06-13 10:00\n",
      "2014-06-13 09:00\n",
      "2014-06-13 08:00\n",
      "2014-06-13 07:00\n",
      "2014-06-13 06:00\n",
      "2014-06-13 05:00\n",
      "2014-06-13 04:00\n",
      "2014-06-13 03:00\n",
      "2014-06-13 02:00\n",
      "2014-06-13 01:00\n",
      "2014-06-14 00:00\n",
      "2014-06-13 23:00\n",
      "2014-06-13 22:00\n",
      "2014-06-13 21:00\n",
      "2014-06-13 20:00\n",
      "2014-06-13 19:00\n",
      "2014-06-13 18:00\n",
      "2014-06-13 17:00\n",
      "2014-06-13 16:00\n",
      "2014-06-13 15:00\n",
      "2014-06-13 14:00\n",
      "2014-06-13 13:00\n",
      "2014-06-13 12:00\n",
      "2014-06-13 11:00\n",
      "2014-06-13 10:00\n",
      "2014-06-13 09:00\n",
      "2014-06-13 08:00\n",
      "2014-06-13 07:00\n",
      "2014-06-13 06:00\n",
      "2014-06-13 05:00\n",
      "2014-06-13 04:00\n",
      "2014-06-13 03:00\n",
      "2014-06-13 02:00\n",
      "2014-06-13 01:00\n"
     ]
    }
   ],
   "source": [
    "for one in td:\n",
    "    if len(one.text) == 16:\n",
    "        print(one.text)"
   ]
  },
  {
   "cell_type": "code",
   "execution_count": 39,
   "id": "40a03159",
   "metadata": {},
   "outputs": [
    {
     "name": "stdout",
     "output_type": "stream",
     "text": [
      "2014-06-14 00:00\n",
      "2014-06-13 23:00\n",
      "2014-06-13 22:00\n",
      "2014-06-13 21:00\n",
      "2014-06-13 20:00\n",
      "2014-06-13 19:00\n",
      "2014-06-13 18:00\n",
      "2014-06-13 17:00\n",
      "2014-06-13 16:00\n",
      "2014-06-13 15:00\n",
      "2014-06-13 14:00\n",
      "2014-06-13 13:00\n",
      "2014-06-13 12:00\n",
      "2014-06-13 11:00\n",
      "2014-06-13 10:00\n",
      "2014-06-13 09:00\n",
      "2014-06-13 08:00\n",
      "2014-06-13 07:00\n",
      "2014-06-13 06:00\n",
      "2014-06-13 05:00\n",
      "2014-06-13 04:00\n",
      "2014-06-13 03:00\n",
      "2014-06-13 02:00\n",
      "2014-06-13 01:00\n"
     ]
    }
   ],
   "source": [
    "for i in range(24):\n",
    "    if len(td[i*15].text) == 16:\n",
    "        print(td[i*15].text)"
   ]
  },
  {
   "cell_type": "code",
   "execution_count": 40,
   "id": "1aa7c497",
   "metadata": {},
   "outputs": [
    {
     "name": "stdout",
     "output_type": "stream",
     "text": [
      "19.1\n",
      "19.0\n",
      "19.3\n",
      "20.6\n",
      "22.1\n",
      "23.8\n",
      "25.9\n",
      "27.0\n",
      "28.1\n",
      "28.6\n",
      "28.3\n",
      "28.3\n",
      "28.2\n",
      "26.0\n",
      "24.5\n",
      "22.3\n",
      "19.5\n",
      "17.7\n",
      "16.9\n",
      "16.0\n",
      "16.1\n",
      "16.5\n",
      "15.9\n",
      "16.3\n"
     ]
    }
   ],
   "source": [
    "for i in range(24):\n",
    "    j = i*15+1\n",
    "    if td[j] == nan:\n",
    "        print(nan)\n",
    "    else:\n",
    "        print(td[j].text)"
   ]
  },
  {
   "cell_type": "markdown",
   "id": "691043a0",
   "metadata": {},
   "source": [
    "### 2013년 1월 4일 18시 없음 확인"
   ]
  },
  {
   "cell_type": "code",
   "execution_count": 41,
   "id": "6744da35",
   "metadata": {},
   "outputs": [],
   "source": [
    "# webdriver로 페이지 접속\n",
    "driver = webdriver.Chrome(\"chromedriver_94\")\n",
    "url = \"https://weather.naju.go.kr/agri_meteo/agri_time.html\"\n",
    "driver.get(url)\n",
    "driver.implicitly_wait(5)\n",
    "\n",
    "# 관측기간 xpath : //*[@id=\"timed_date\"]\n",
    "# 조회 버튼 xpath : //*[@id=\"contents\"]/ul/li[2]/form/div/ul[2]/li/img\n",
    "search = driver.find_element_by_xpath('//*[@id=\"timed_date\"]')\n",
    "button = driver.find_element_by_xpath('//*[@id=\"contents\"]/ul/li[2]/form/div/ul[2]/li/img')\n",
    "# 입력창 클릭 후 내용 지우고 입력하기\n",
    "search.click()\n",
    "search.clear()\n",
    "search.send_keys(f\"20130104\")\n",
    "button.click()\n",
    "driver.implicitly_wait(5)\n",
    "\n",
    "# bs에 담기\n",
    "page = driver.page_source\n",
    "soup = BeautifulSoup(page, 'lxml')\n",
    "\n",
    "# 시간, 기온 기록\n",
    "td = soup.find_all('td')        "
   ]
  },
  {
   "cell_type": "code",
   "execution_count": 42,
   "id": "422494ad",
   "metadata": {},
   "outputs": [
    {
     "data": {
      "text/plain": [
       "':::나주시 농업기상정보시스템:::'"
      ]
     },
     "execution_count": 42,
     "metadata": {},
     "output_type": "execute_result"
    }
   ],
   "source": [
    "soup.title.text"
   ]
  },
  {
   "cell_type": "code",
   "execution_count": 43,
   "id": "38352d50",
   "metadata": {},
   "outputs": [
    {
     "data": {
      "text/plain": [
       "[<td>2013-01-05 00:00</td>,\n",
       " <td>-10.9</td>,\n",
       " <td>83.9</td>,\n",
       " <td>동</td>,\n",
       " <td class=\"m\" style=\"display: none;\">0.1</td>,\n",
       " <td class=\"km\" style=\"display: table-cell;\">0.4</td>,\n",
       " <td>1027.1</td>,\n",
       " <td>0.0</td>,\n",
       " <td></td>,\n",
       " <td>-</td>,\n",
       " <td>-</td>,\n",
       " <td>-</td>,\n",
       " <td>-</td>,\n",
       " <td>2013-01-04 23:00</td>,\n",
       " <td>-8.6</td>,\n",
       " <td>77.6</td>,\n",
       " <td>북</td>,\n",
       " <td class=\"m\" style=\"display: none;\">1.7</td>,\n",
       " <td class=\"km\" style=\"display: table-cell;\">6.1</td>,\n",
       " <td>1027.7</td>,\n",
       " <td>0.0</td>,\n",
       " <td></td>,\n",
       " <td>-</td>,\n",
       " <td>-</td>]"
      ]
     },
     "execution_count": 43,
     "metadata": {},
     "output_type": "execute_result"
    }
   ],
   "source": [
    "td[:24]"
   ]
  },
  {
   "cell_type": "code",
   "execution_count": 44,
   "id": "6a449068",
   "metadata": {},
   "outputs": [
    {
     "name": "stdout",
     "output_type": "stream",
     "text": [
      "2013-01-05 00:00\n",
      "2013-01-04 23:00\n",
      "2013-01-04 22:00\n",
      "2013-01-04 21:00\n",
      "2013-01-04 20:00\n",
      "2013-01-04 19:00\n",
      "2013-01-04 17:00\n",
      "2013-01-04 16:00\n",
      "2013-01-04 15:00\n",
      "2013-01-04 14:00\n",
      "2013-01-04 13:00\n",
      "2013-01-04 12:00\n",
      "2013-01-04 11:00\n",
      "2013-01-04 10:00\n",
      "2013-01-04 09:00\n",
      "2013-01-04 08:00\n",
      "2013-01-04 07:00\n",
      "2013-01-04 06:00\n",
      "2013-01-04 05:00\n",
      "2013-01-04 04:00\n",
      "2013-01-04 03:00\n",
      "2013-01-04 02:00\n",
      "2013-01-04 01:00\n",
      "2013-01-05 00:00\n"
     ]
    }
   ],
   "source": [
    "for i in range(24):\n",
    "    if len(td[i*13].text) == 16:\n",
    "        print(td[i*13].text)"
   ]
  },
  {
   "cell_type": "code",
   "execution_count": 128,
   "id": "4ee44e0d",
   "metadata": {},
   "outputs": [
    {
     "name": "stdout",
     "output_type": "stream",
     "text": [
      "-10.9\n",
      "-8.6\n",
      "-8.0\n",
      "-7.0\n",
      "-6.5\n",
      "-6.0\n",
      "-3.2\n",
      "-1.8\n",
      "-1.6\n",
      "-2.1\n",
      "-2.4\n",
      "-3.3\n",
      "-4.5\n",
      "-6.3\n",
      "-8.0\n",
      "-10.3\n",
      "-10.5\n",
      "-9.8\n",
      "-11.6\n",
      "-11.2\n",
      "-11.1\n",
      "-10.6\n",
      "-9.1\n",
      "-10.9\n"
     ]
    }
   ],
   "source": [
    "for i in range(24):\n",
    "    j = i*13+1\n",
    "    if td[j] == nan:\n",
    "        print(nan)\n",
    "    else:\n",
    "        print(td[j].text)"
   ]
  },
  {
   "cell_type": "code",
   "execution_count": null,
   "id": "49fbb1b8",
   "metadata": {},
   "outputs": [],
   "source": []
  }
 ],
 "metadata": {
  "kernelspec": {
   "display_name": "Python 3",
   "language": "python",
   "name": "python3"
  },
  "language_info": {
   "codemirror_mode": {
    "name": "ipython",
    "version": 3
   },
   "file_extension": ".py",
   "mimetype": "text/x-python",
   "name": "python",
   "nbconvert_exporter": "python",
   "pygments_lexer": "ipython3",
   "version": "3.8.8"
  }
 },
 "nbformat": 4,
 "nbformat_minor": 5
}
