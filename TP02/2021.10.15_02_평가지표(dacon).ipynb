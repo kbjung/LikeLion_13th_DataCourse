{
 "cells": [
  {
   "cell_type": "markdown",
   "id": "d2c93d66",
   "metadata": {},
   "source": [
    "# 평가지표 함수화"
   ]
  },
  {
   "cell_type": "code",
   "execution_count": 17,
   "id": "ca243a87",
   "metadata": {},
   "outputs": [],
   "source": [
    "import pandas as pd\n",
    "import numpy as np\n",
    "import matplotlib.pyplot as plt\n",
    "import lightgbm as lgb"
   ]
  },
  {
   "cell_type": "code",
   "execution_count": 18,
   "id": "21274695",
   "metadata": {},
   "outputs": [],
   "source": [
    "total = pd.read_csv('data/한국가스공사_시간별 공급량_20181231.csv', encoding='cp949')"
   ]
  },
  {
   "cell_type": "code",
   "execution_count": 19,
   "id": "8f91fabf",
   "metadata": {},
   "outputs": [],
   "source": [
    "# 구분 열을 숫자로 바꾸기\n",
    "d_map = {}\n",
    "for i, d in enumerate(total['구분'].unique()):\n",
    "    d_map[d] = i\n",
    "total['구분'] = total['구분'].map(d_map)"
   ]
  },
  {
   "cell_type": "code",
   "execution_count": 20,
   "id": "4301c65e",
   "metadata": {},
   "outputs": [],
   "source": [
    "# 연월일 열은 object형이므로 년, 월, 일로 나눈다.\n",
    "total['연월일'] = pd.to_datetime(total['연월일'])\n",
    "total['year'] = total['연월일'].dt.year\n",
    "total['month'] = total['연월일'].dt.month\n",
    "total['day'] = total['연월일'].dt.day\n",
    "total['weekday'] = total['연월일'].dt.weekday"
   ]
  },
  {
   "cell_type": "markdown",
   "id": "5b11268f",
   "metadata": {},
   "source": [
    "## 훈련용 테스트용 데이터 분류하기\n"
   ]
  },
  {
   "cell_type": "code",
   "execution_count": 21,
   "id": "eb21e2d9",
   "metadata": {},
   "outputs": [],
   "source": [
    "train_years = [2013,2014,2015,2016,2017] \n",
    "val_years = [2018]\n",
    "\n",
    "train = total[total['year'].isin(train_years)] # 훈련용 데이터\n",
    "val = total[total['year'].isin(val_years)] # 테스트용 데이터"
   ]
  },
  {
   "cell_type": "code",
   "execution_count": 22,
   "id": "36471d3d",
   "metadata": {},
   "outputs": [],
   "source": [
    "features = ['구분', 'month', 'day', 'weekday', '시간']\n",
    "\n",
    "# 훈련용 데이터\n",
    "train_x = train[features]\n",
    "train_y = train['공급량']\n",
    "# 테스트용 데이터\n",
    "val_x = val[features]\n",
    "val_y = val['공급량']"
   ]
  },
  {
   "cell_type": "markdown",
   "id": "bc4354ab",
   "metadata": {},
   "source": [
    "# LGBM(ensemble 모델) 학습"
   ]
  },
  {
   "cell_type": "code",
   "execution_count": 23,
   "id": "a96e5686",
   "metadata": {},
   "outputs": [
    {
     "name": "stdout",
     "output_type": "stream",
     "text": [
      "[LightGBM] [Warning] Auto-choosing row-wise multi-threading, the overhead of testing was 0.003702 seconds.\n",
      "You can set `force_row_wise=true` to remove the overhead.\n",
      "And if memory is not enough, you can set `force_col_wise=true`.\n",
      "[LightGBM] [Info] Total Bins 84\n",
      "[LightGBM] [Info] Number of data points in the train set: 306768, number of used features: 5\n",
      "[LightGBM] [Info] Start training from score 934.864036\n",
      "Training until validation scores don't improve for 10 rounds\n",
      "[20]\tvalid_0's l1: 244.857\n",
      "[40]\tvalid_0's l1: 174.855\n",
      "[60]\tvalid_0's l1: 158.739\n",
      "[80]\tvalid_0's l1: 153.323\n",
      "[100]\tvalid_0's l1: 150.948\n",
      "[120]\tvalid_0's l1: 150.463\n",
      "Early stopping, best iteration is:\n",
      "[112]\tvalid_0's l1: 150.297\n"
     ]
    }
   ],
   "source": [
    "d_train = lgb.Dataset(train_x, train_y)\n",
    "d_val = lgb.Dataset(val_x, val_y)\n",
    "\n",
    "params = {\n",
    "    'objective': 'regression',\n",
    "    'metric':'mae',\n",
    "    'seed':42\n",
    "}\n",
    "\n",
    "model = lgb.train(params, d_train, 500, d_val, verbose_eval=20, early_stopping_rounds=10)"
   ]
  },
  {
   "cell_type": "markdown",
   "id": "f11e15fb",
   "metadata": {},
   "source": [
    "### 추론 및 결과"
   ]
  },
  {
   "cell_type": "code",
   "execution_count": 24,
   "id": "ce955237",
   "metadata": {},
   "outputs": [],
   "source": [
    "test = pd.read_csv('data/test.csv')\n",
    "submission = pd.read_csv('data/sample_submission.csv')"
   ]
  },
  {
   "cell_type": "code",
   "execution_count": 25,
   "id": "0ad005d8",
   "metadata": {},
   "outputs": [],
   "source": [
    "test['일자'] = test['일자|시간|구분'].str.split(' ').str[0]\n",
    "test['시간'] = test['일자|시간|구분'].str.split(' ').str[1].astype(int)\n",
    "test['구분'] = test['일자|시간|구분'].str.split(' ').str[2]"
   ]
  },
  {
   "cell_type": "code",
   "execution_count": 26,
   "id": "2af96ba7",
   "metadata": {},
   "outputs": [],
   "source": [
    "test['일자'] = pd.to_datetime(test['일자'])\n",
    "test['year'] = test['일자'].dt.year\n",
    "test['month'] = test['일자'].dt.month\n",
    "test['day'] = test['일자'].dt.day\n",
    "test['weekday'] = test['일자'].dt.weekday"
   ]
  },
  {
   "cell_type": "code",
   "execution_count": 27,
   "id": "fcb67b8d",
   "metadata": {},
   "outputs": [],
   "source": [
    "test['구분'] = test['구분'].map(d_map)"
   ]
  },
  {
   "cell_type": "code",
   "execution_count": 28,
   "id": "49c74cb1",
   "metadata": {},
   "outputs": [],
   "source": [
    "test_x = test[features]"
   ]
  },
  {
   "cell_type": "code",
   "execution_count": 29,
   "id": "a4657222",
   "metadata": {},
   "outputs": [],
   "source": [
    "preds = model.predict(test_x)"
   ]
  },
  {
   "cell_type": "markdown",
   "id": "6ba88627",
   "metadata": {},
   "source": [
    "# 평가지표"
   ]
  },
  {
   "cell_type": "markdown",
   "id": "69395ec2",
   "metadata": {},
   "source": [
    "### 평가 지표 함수화"
   ]
  },
  {
   "cell_type": "code",
   "execution_count": 34,
   "id": "85d7da06",
   "metadata": {},
   "outputs": [],
   "source": [
    "def evaluation_index(x, y):\n",
    "    y = y.reset_index()\n",
    "    pred = model.predict(x)\n",
    "    # MSE\n",
    "    s = 0\n",
    "    for i in range(len(pred)):\n",
    "        minus = y.iloc[i,1] - pred[i]\n",
    "        sq = minus ** 2\n",
    "        s += sq\n",
    "    mse = s / len(pred)\n",
    "    \n",
    "    # RMSE\n",
    "    rmse = mse **(1/2)\n",
    "    \n",
    "    # MAE\n",
    "    s = 0\n",
    "    for i in range(len(pred)):\n",
    "        minus = y.iloc[i,1] - pred[i]\n",
    "        a = abs(minus)\n",
    "        s += a\n",
    "    mae = s / len(pred)\n",
    "    \n",
    "    # R2\n",
    "    y_mean = y['공급량'].mean()\n",
    "    lower_s = 0\n",
    "    upper_s = 0\n",
    "    for i in range(len(pred)):\n",
    "        lower_minus = y.iloc[i,1] - y_mean\n",
    "        lower_sq = lower_minus ** 2\n",
    "        lower_s += lower_sq\n",
    "        upper_minus = y.iloc[i,1] - pred[i]\n",
    "        upper_sq = upper_minus ** 2\n",
    "        upper_s += upper_sq\n",
    "    fraction = upper_s / lower_s\n",
    "    r2 = 1 - fraction\n",
    "    \n",
    "    print(f\"R2 = {r2}\")\n",
    "    print(f\"MSE = {mse}\")\n",
    "    print(f\"RMSE = {rmse}\")\n",
    "    print(f\"MAE = {mae}\")"
   ]
  },
  {
   "cell_type": "code",
   "execution_count": 35,
   "id": "a765184c",
   "metadata": {},
   "outputs": [
    {
     "name": "stdout",
     "output_type": "stream",
     "text": [
      "R2 = 0.9328467493591341\n",
      "MSE = 68453.67846858497\n",
      "RMSE = 261.6365388637164\n",
      "MAE = 150.29651193751283\n"
     ]
    }
   ],
   "source": [
    "evaluation_index(val_x, val_y)"
   ]
  },
  {
   "cell_type": "code",
   "execution_count": null,
   "id": "16570e06",
   "metadata": {},
   "outputs": [],
   "source": []
  }
 ],
 "metadata": {
  "kernelspec": {
   "display_name": "Python 3",
   "language": "python",
   "name": "python3"
  },
  "language_info": {
   "codemirror_mode": {
    "name": "ipython",
    "version": 3
   },
   "file_extension": ".py",
   "mimetype": "text/x-python",
   "name": "python",
   "nbconvert_exporter": "python",
   "pygments_lexer": "ipython3",
   "version": "3.8.8"
  }
 },
 "nbformat": 4,
 "nbformat_minor": 5
}
