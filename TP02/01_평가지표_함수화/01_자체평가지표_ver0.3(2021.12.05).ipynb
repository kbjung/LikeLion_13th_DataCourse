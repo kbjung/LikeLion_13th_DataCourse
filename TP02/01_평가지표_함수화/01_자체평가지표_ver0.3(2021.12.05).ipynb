{
 "cells": [
  {
   "cell_type": "markdown",
   "id": "d2c93d66",
   "metadata": {},
   "source": [
    "# 자체 평가지표\n",
    "* 가지고 있는 제출 파일과 비교"
   ]
  },
  {
   "cell_type": "code",
   "execution_count": 8,
   "id": "ca243a87",
   "metadata": {},
   "outputs": [],
   "source": [
    "import pandas as pd\n",
    "from tqdm import tqdm"
   ]
  },
  {
   "cell_type": "code",
   "execution_count": 9,
   "id": "ea12c3b8",
   "metadata": {},
   "outputs": [],
   "source": [
    "# 판다스 라이브러리에서 과학적 표기 사용 안하기\n",
    "pd.options.display.float_format = '{:.5f}'.format\n",
    "# 리셋 \n",
    "# pd.reset_option('display.float_format')"
   ]
  },
  {
   "cell_type": "code",
   "execution_count": 10,
   "id": "0d53cbff",
   "metadata": {},
   "outputs": [],
   "source": [
    "import platform\n",
    "from matplotlib import font_manager, rc\n",
    "import matplotlib.pyplot as plt\n",
    "import seaborn as sns\n",
    "\n",
    "path = \"C:/Windows/Fonts/malgun.ttf\"\n",
    "if platform.system() == \"Windows\":\n",
    "    font_name = font_manager.FontProperties(fname=path).get_name()\n",
    "    rc('font', family=font_name)\n",
    "elif platform.system()==\"Darwin\":\n",
    "    rc('font', family='AppleGothic')\n",
    "else:\n",
    "    print(\"Unknown System\")"
   ]
  },
  {
   "cell_type": "markdown",
   "id": "69395ec2",
   "metadata": {},
   "source": [
    "### 평가 지표 함수화"
   ]
  },
  {
   "cell_type": "code",
   "execution_count": 11,
   "id": "85d7da06",
   "metadata": {},
   "outputs": [],
   "source": [
    "def evaluation_index(before_sub, present_sub):\n",
    "    # 전 최고 제출 파일 열 정리\n",
    "    before_sub[['일자', '시간', '구분']] = before_sub['일자|시간|구분'].str.split(' ').to_list()\n",
    "    before_sub = before_sub.drop('일자|시간|구분', axis=1)\n",
    "    before_sub = before_sub[['일자', '시간', '구분', '공급량']]\n",
    "    # 현재 제출 파일 열 정리\n",
    "    present_sub[['일자', '시간', '구분']] = present_sub['일자|시간|구분'].str.split(' ').to_list()\n",
    "    present_sub = present_sub.drop('일자|시간|구분', axis=1)\n",
    "    present_sub = present_sub[['일자', '시간', '구분', '공급량']]\n",
    "\n",
    "    eval_set = pd.DataFrame(['MSE','RMSE', 'MAE', 'R2','NMAE'], columns=['평가지표'])\n",
    "    for division in tqdm(present_sub['구분'].unique()):\n",
    "        temp_before_sub = before_sub[before_sub['구분'] == division]\n",
    "        temp_present_sub = present_sub[present_sub['구분'] == division]\n",
    "\n",
    "        # 전 제출 값 = 실제값 취급\n",
    "        # 현제 제출 값 = 예측값\n",
    "        y = temp_before_sub['공급량']\n",
    "        pred = temp_present_sub['공급량']\n",
    "        y_mean = y.mean()\n",
    "\n",
    "        # MSE\n",
    "        mse = ( ( y - pred) ** 2 ).sum() / len(pred)\n",
    "            \n",
    "        # RMSE\n",
    "        rmse = mse ** (1/2)\n",
    "        \n",
    "        # MAE\n",
    "        mae = ( abs( y - pred ) ).sum() / len(pred)\n",
    "        \n",
    "        # R2\n",
    "        upper = ( (y - pred) ** 2 ).sum()\n",
    "        lower = ( (y - y_mean) ** 2 ).sum()\n",
    "        if lower == 0:\n",
    "            fraction = 0\n",
    "        else:\n",
    "            fraction = upper / lower\n",
    "        r2 = 1 - fraction\n",
    "        \n",
    "        #NMAE(Normalized Mean Absolute Error)-정규화 평균 절대 오차 척도\n",
    "        nmae = ( abs( y - pred ) / y ).sum() / len(pred)\n",
    "        \n",
    "        # 평가지표 리스트\n",
    "        one_eval_set = [mse, rmse, mae, r2, nmae]\n",
    "        \n",
    "        # 평가지표 셋에 담기\n",
    "        eval_set[division] = one_eval_set\n",
    "\n",
    "    # 평가지표 평균 구하기\n",
    "    eval_set['평가지표_평균'] = eval_set.mean(axis=1)\n",
    "\n",
    "    # 평가지표 평균 출력\n",
    "    print(eval_set[['평가지표', '평가지표_평균']])\n",
    "    \n",
    "    return eval_set"
   ]
  },
  {
   "cell_type": "markdown",
   "id": "1f7c2af6",
   "metadata": {},
   "source": [
    "## NAE 평가 지표 셋 함수화"
   ]
  },
  {
   "cell_type": "code",
   "execution_count": 12,
   "id": "f56a5fda",
   "metadata": {},
   "outputs": [],
   "source": [
    "def nae_set(before_sub, present_sub):\n",
    "    # 일자 시간을 한번에 지정할 수 있게 편집\n",
    "    before_sub[['일자', '시간', '구분']] = before_sub['일자|시간|구분'].str.split(' ').tolist()\n",
    "    before_sub['일자|시간'] = before_sub['일자'] + ' ' + before_sub['시간']\n",
    "    before_sub['예측공급량'] = present_sub['공급량']\n",
    "\n",
    "    eval_set = pd.DataFrame()\n",
    "    # 예측 값 구분별로 평가하기\n",
    "    for division in tqdm(before_sub['구분'].unique()):\n",
    "        # 구분별로 데이터 가져오기\n",
    "        temp_before_sub = before_sub[before_sub['구분'] == division]\n",
    "\n",
    "        # 전 최고 제출 값 = 실제값 취급\n",
    "        # 현재 제출 값 = 예측값\n",
    "        y = temp_before_sub['공급량']\n",
    "        pred = temp_before_sub['예측공급량']\n",
    "        \n",
    "        #NAE(Normalized Absolute Error)-정규화 절대 오차 척도(NMAE에서 평균을 취하지 않음)\n",
    "        temp_before_sub['NAE'] = abs( y - pred ) / y \n",
    "        \n",
    "        # 평가지표 셋에 담기\n",
    "        eval_set = pd.concat([eval_set, temp_before_sub], ignore_index=True)\n",
    "    \n",
    "        # 평가지표 셋의 열 정리\n",
    "        eval_set = eval_set[['일자|시간', '구분', '공급량', '예측공급량', 'NAE']]\n",
    "    return eval_set"
   ]
  },
  {
   "cell_type": "markdown",
   "id": "01613305",
   "metadata": {},
   "source": [
    "## NAE 조건에 따른 샘플 시각화 "
   ]
  },
  {
   "cell_type": "code",
   "execution_count": 13,
   "id": "e04630e7",
   "metadata": {},
   "outputs": [],
   "source": [
    "def vis_nae(res_df, res_num):\n",
    "    # 얼마 이상의 NAE 샘플을 설정\n",
    "    num = res_num\n",
    "    res_df = all_nae[all_nae['NAE'] >= num]\n",
    "    print(f\"총 NAE {num}이상 샘플 개수 :\",len(res_df['NAE']))\n",
    "\n",
    "    # 구분별로 그래프(총 구분 7개 : 'A', 'B', 'C', 'D', 'E', 'G', 'H')\n",
    "    for div in tqdm(res_df['구분'].unique()):\n",
    "        temp = res_df[res_df['구분']==div]\n",
    "        print(f\"구분 {div}의 NAE {num}이상 샘플 개수 :\",len(temp['NAE']))\n",
    "        \n",
    "        plt.figure(figsize=(16,10))\n",
    "        plt.title(f'구분 : {div} NAE : {num}이상', fontdict={'size':20})\n",
    "        plt.xticks(fontsize=15, rotation=90)\n",
    "        plt.yticks(fontsize=15)\n",
    "        x = temp['일자|시간']\n",
    "        y1 = temp['공급량']\n",
    "        y2 = temp['예측공급량']\n",
    "        plt.plot(x, y1, 'b', label='공급량')\n",
    "        plt.plot(x, y2, 'r', label='예측공급량')\n",
    "        plt.legend(loc='upper right', fontsize=15)"
   ]
  },
  {
   "cell_type": "markdown",
   "id": "04fe7669",
   "metadata": {},
   "source": [
    "# 데이터 가져오기"
   ]
  },
  {
   "cell_type": "code",
   "execution_count": 14,
   "id": "21274695",
   "metadata": {},
   "outputs": [],
   "source": [
    "# team_sub_ver0.4.csv\n",
    "\n",
    "# 최고점 제출 파일\n",
    "before_sub = pd.read_csv('../08_종합/team_sub_ver0.4.csv')\n",
    "# 현재 제출 파일\n",
    "present_sub = pd.read_csv('../07_결과_출력/pycaret_robust_transformation_blender.csv')"
   ]
  },
  {
   "cell_type": "markdown",
   "id": "03432a60",
   "metadata": {},
   "source": [
    "# 평가지표 평균 출력"
   ]
  },
  {
   "cell_type": "code",
   "execution_count": 15,
   "id": "a765184c",
   "metadata": {},
   "outputs": [
    {
     "name": "stderr",
     "output_type": "stream",
     "text": [
      "100%|██████████| 7/7 [00:00<00:00, 45.28it/s]"
     ]
    },
    {
     "name": "stdout",
     "output_type": "stream",
     "text": [
      "   평가지표   평가지표_평균\n",
      "0   MSE 216.24319\n",
      "1  RMSE  12.55097\n",
      "2   MAE   9.50348\n",
      "3    R2   0.99871\n",
      "4  NMAE   0.00640\n"
     ]
    },
    {
     "name": "stderr",
     "output_type": "stream",
     "text": [
      "\n"
     ]
    }
   ],
   "source": [
    "# 구분별 계산된 평가지표 셋 = evaluation_index(최고점 제출 셋, 현재 제출 셋)\n",
    "set = evaluation_index(before_sub, present_sub)"
   ]
  },
  {
   "cell_type": "code",
   "execution_count": 16,
   "id": "16570e06",
   "metadata": {},
   "outputs": [
    {
     "data": {
      "text/html": [
       "<div>\n",
       "<style scoped>\n",
       "    .dataframe tbody tr th:only-of-type {\n",
       "        vertical-align: middle;\n",
       "    }\n",
       "\n",
       "    .dataframe tbody tr th {\n",
       "        vertical-align: top;\n",
       "    }\n",
       "\n",
       "    .dataframe thead th {\n",
       "        text-align: right;\n",
       "    }\n",
       "</style>\n",
       "<table border=\"1\" class=\"dataframe\">\n",
       "  <thead>\n",
       "    <tr style=\"text-align: right;\">\n",
       "      <th></th>\n",
       "      <th>평가지표</th>\n",
       "      <th>A</th>\n",
       "      <th>B</th>\n",
       "      <th>C</th>\n",
       "      <th>D</th>\n",
       "      <th>E</th>\n",
       "      <th>G</th>\n",
       "      <th>H</th>\n",
       "      <th>평가지표_평균</th>\n",
       "    </tr>\n",
       "  </thead>\n",
       "  <tbody>\n",
       "    <tr>\n",
       "      <th>0</th>\n",
       "      <td>MSE</td>\n",
       "      <td>300.81428</td>\n",
       "      <td>165.52735</td>\n",
       "      <td>2.73255</td>\n",
       "      <td>87.80110</td>\n",
       "      <td>443.09622</td>\n",
       "      <td>503.96677</td>\n",
       "      <td>9.76408</td>\n",
       "      <td>216.24319</td>\n",
       "    </tr>\n",
       "    <tr>\n",
       "      <th>1</th>\n",
       "      <td>RMSE</td>\n",
       "      <td>17.34400</td>\n",
       "      <td>12.86574</td>\n",
       "      <td>1.65304</td>\n",
       "      <td>9.37022</td>\n",
       "      <td>21.04985</td>\n",
       "      <td>22.44920</td>\n",
       "      <td>3.12475</td>\n",
       "      <td>12.55097</td>\n",
       "    </tr>\n",
       "    <tr>\n",
       "      <th>2</th>\n",
       "      <td>MAE</td>\n",
       "      <td>13.13433</td>\n",
       "      <td>10.00198</td>\n",
       "      <td>1.29681</td>\n",
       "      <td>7.18628</td>\n",
       "      <td>15.86643</td>\n",
       "      <td>16.61302</td>\n",
       "      <td>2.42553</td>\n",
       "      <td>9.50348</td>\n",
       "    </tr>\n",
       "    <tr>\n",
       "      <th>3</th>\n",
       "      <td>R2</td>\n",
       "      <td>0.99872</td>\n",
       "      <td>0.99915</td>\n",
       "      <td>0.99735</td>\n",
       "      <td>0.99887</td>\n",
       "      <td>0.99880</td>\n",
       "      <td>0.99887</td>\n",
       "      <td>0.99922</td>\n",
       "      <td>0.99871</td>\n",
       "    </tr>\n",
       "    <tr>\n",
       "      <th>4</th>\n",
       "      <td>NMAE</td>\n",
       "      <td>0.00687</td>\n",
       "      <td>0.00631</td>\n",
       "      <td>0.00714</td>\n",
       "      <td>0.00656</td>\n",
       "      <td>0.00678</td>\n",
       "      <td>0.00543</td>\n",
       "      <td>0.00572</td>\n",
       "      <td>0.00640</td>\n",
       "    </tr>\n",
       "  </tbody>\n",
       "</table>\n",
       "</div>"
      ],
      "text/plain": [
       "   평가지표         A         B       C        D         E         G       H  \\\n",
       "0   MSE 300.81428 165.52735 2.73255 87.80110 443.09622 503.96677 9.76408   \n",
       "1  RMSE  17.34400  12.86574 1.65304  9.37022  21.04985  22.44920 3.12475   \n",
       "2   MAE  13.13433  10.00198 1.29681  7.18628  15.86643  16.61302 2.42553   \n",
       "3    R2   0.99872   0.99915 0.99735  0.99887   0.99880   0.99887 0.99922   \n",
       "4  NMAE   0.00687   0.00631 0.00714  0.00656   0.00678   0.00543 0.00572   \n",
       "\n",
       "    평가지표_평균  \n",
       "0 216.24319  \n",
       "1  12.55097  \n",
       "2   9.50348  \n",
       "3   0.99871  \n",
       "4   0.00640  "
      ]
     },
     "execution_count": 16,
     "metadata": {},
     "output_type": "execute_result"
    }
   ],
   "source": [
    "set"
   ]
  },
  {
   "cell_type": "markdown",
   "id": "2bee9c2a",
   "metadata": {},
   "source": [
    "# NAE 셋 출력"
   ]
  },
  {
   "cell_type": "code",
   "execution_count": 17,
   "id": "c071f538",
   "metadata": {},
   "outputs": [
    {
     "name": "stderr",
     "output_type": "stream",
     "text": [
      "  0%|          | 0/7 [00:00<?, ?it/s]<ipython-input-12-3c612ab38485>:19: SettingWithCopyWarning: \n",
      "A value is trying to be set on a copy of a slice from a DataFrame.\n",
      "Try using .loc[row_indexer,col_indexer] = value instead\n",
      "\n",
      "See the caveats in the documentation: https://pandas.pydata.org/pandas-docs/stable/user_guide/indexing.html#returning-a-view-versus-a-copy\n",
      "  temp_before_sub['NAE'] = abs( y - pred ) / y\n",
      "100%|██████████| 7/7 [00:00<00:00, 118.96it/s]\n"
     ]
    },
    {
     "data": {
      "text/html": [
       "<div>\n",
       "<style scoped>\n",
       "    .dataframe tbody tr th:only-of-type {\n",
       "        vertical-align: middle;\n",
       "    }\n",
       "\n",
       "    .dataframe tbody tr th {\n",
       "        vertical-align: top;\n",
       "    }\n",
       "\n",
       "    .dataframe thead th {\n",
       "        text-align: right;\n",
       "    }\n",
       "</style>\n",
       "<table border=\"1\" class=\"dataframe\">\n",
       "  <thead>\n",
       "    <tr style=\"text-align: right;\">\n",
       "      <th></th>\n",
       "      <th>일자|시간</th>\n",
       "      <th>구분</th>\n",
       "      <th>공급량</th>\n",
       "      <th>예측공급량</th>\n",
       "      <th>NAE</th>\n",
       "    </tr>\n",
       "  </thead>\n",
       "  <tbody>\n",
       "    <tr>\n",
       "      <th>0</th>\n",
       "      <td>2019-01-01 01</td>\n",
       "      <td>A</td>\n",
       "      <td>1949.27983</td>\n",
       "      <td>1969.20170</td>\n",
       "      <td>0.01022</td>\n",
       "    </tr>\n",
       "    <tr>\n",
       "      <th>1</th>\n",
       "      <td>2019-01-01 02</td>\n",
       "      <td>A</td>\n",
       "      <td>1833.49026</td>\n",
       "      <td>1800.89594</td>\n",
       "      <td>0.01778</td>\n",
       "    </tr>\n",
       "    <tr>\n",
       "      <th>2</th>\n",
       "      <td>2019-01-01 03</td>\n",
       "      <td>A</td>\n",
       "      <td>1744.56689</td>\n",
       "      <td>1741.78783</td>\n",
       "      <td>0.00159</td>\n",
       "    </tr>\n",
       "    <tr>\n",
       "      <th>3</th>\n",
       "      <td>2019-01-01 04</td>\n",
       "      <td>A</td>\n",
       "      <td>1756.34447</td>\n",
       "      <td>1742.54084</td>\n",
       "      <td>0.00786</td>\n",
       "    </tr>\n",
       "    <tr>\n",
       "      <th>4</th>\n",
       "      <td>2019-01-01 05</td>\n",
       "      <td>A</td>\n",
       "      <td>1889.02308</td>\n",
       "      <td>1897.16565</td>\n",
       "      <td>0.00431</td>\n",
       "    </tr>\n",
       "  </tbody>\n",
       "</table>\n",
       "</div>"
      ],
      "text/plain": [
       "           일자|시간 구분        공급량      예측공급량     NAE\n",
       "0  2019-01-01 01  A 1949.27983 1969.20170 0.01022\n",
       "1  2019-01-01 02  A 1833.49026 1800.89594 0.01778\n",
       "2  2019-01-01 03  A 1744.56689 1741.78783 0.00159\n",
       "3  2019-01-01 04  A 1756.34447 1742.54084 0.00786\n",
       "4  2019-01-01 05  A 1889.02308 1897.16565 0.00431"
      ]
     },
     "execution_count": 17,
     "metadata": {},
     "output_type": "execute_result"
    }
   ],
   "source": [
    "# NAE값 계산된 셋 = nae_set(최고점 제출 셋, 현재 제출 셋)\n",
    "all_nae = nae_set(before_sub, present_sub)\n",
    "all_nae.head()"
   ]
  },
  {
   "cell_type": "markdown",
   "id": "61b6155c",
   "metadata": {},
   "source": [
    "## NAE 특정 조건 이상 그래프 시각화"
   ]
  },
  {
   "cell_type": "code",
   "execution_count": 21,
   "id": "e69dd9b2",
   "metadata": {},
   "outputs": [
    {
     "name": "stderr",
     "output_type": "stream",
     "text": [
      "0it [00:00, ?it/s]"
     ]
    },
    {
     "name": "stdout",
     "output_type": "stream",
     "text": [
      "총 NAE 0.05이상 샘플 개수 : 0\n"
     ]
    },
    {
     "name": "stderr",
     "output_type": "stream",
     "text": [
      "\n"
     ]
    }
   ],
   "source": [
    "# vis_nae(NAE 셋, NAE 조건 값(NAE >= 값))\n",
    "# NAE 0.05이상인 샘플 시각화\n",
    "vis_nae(all_nae, 0.05)"
   ]
  },
  {
   "cell_type": "code",
   "execution_count": null,
   "id": "90d3f69c",
   "metadata": {},
   "outputs": [],
   "source": []
  }
 ],
 "metadata": {
  "kernelspec": {
   "display_name": "Python 3",
   "language": "python",
   "name": "python3"
  },
  "language_info": {
   "codemirror_mode": {
    "name": "ipython",
    "version": 3
   },
   "file_extension": ".py",
   "mimetype": "text/x-python",
   "name": "python",
   "nbconvert_exporter": "python",
   "pygments_lexer": "ipython3",
   "version": "3.8.8"
  }
 },
 "nbformat": 4,
 "nbformat_minor": 5
}
