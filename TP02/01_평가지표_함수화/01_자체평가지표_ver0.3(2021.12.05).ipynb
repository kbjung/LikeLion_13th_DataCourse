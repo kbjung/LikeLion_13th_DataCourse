{
 "cells": [
  {
   "cell_type": "markdown",
   "id": "d2c93d66",
   "metadata": {},
   "source": [
    "# 자체 평가지표\n",
    "* 가지고 있는 제출 파일과 비교"
   ]
  },
  {
   "cell_type": "code",
   "execution_count": 135,
   "id": "ca243a87",
   "metadata": {},
   "outputs": [],
   "source": [
    "import pandas as pd\n",
    "from tqdm import tqdm"
   ]
  },
  {
   "cell_type": "code",
   "execution_count": 136,
   "id": "ea12c3b8",
   "metadata": {},
   "outputs": [],
   "source": [
    "# 판다스 라이브러리에서 과학적 표기 사용 안하기\n",
    "pd.options.display.float_format = '{:.5f}'.format\n",
    "# 리셋 \n",
    "# pd.reset_option('display.float_format')"
   ]
  },
  {
   "cell_type": "code",
   "execution_count": 137,
   "id": "0d53cbff",
   "metadata": {},
   "outputs": [],
   "source": [
    "import platform\n",
    "from matplotlib import font_manager, rc\n",
    "import matplotlib.pyplot as plt\n",
    "import seaborn as sns\n",
    "\n",
    "path = \"C:/Windows/Fonts/malgun.ttf\"\n",
    "if platform.system() == \"Windows\":\n",
    "    font_name = font_manager.FontProperties(fname=path).get_name()\n",
    "    rc('font', family=font_name)\n",
    "elif platform.system()==\"Darwin\":\n",
    "    rc('font', family='AppleGothic')\n",
    "else:\n",
    "    print(\"Unknown System\")"
   ]
  },
  {
   "cell_type": "markdown",
   "id": "69395ec2",
   "metadata": {},
   "source": [
    "### 평가 지표 함수화"
   ]
  },
  {
   "cell_type": "code",
   "execution_count": 138,
   "id": "85d7da06",
   "metadata": {},
   "outputs": [],
   "source": [
    "def evaluation_index(before_sub, present_sub):\n",
    "    # 전 최고 제출 파일 열 정리\n",
    "    before_sub[['일자', '시간', '구분']] = before_sub['일자|시간|구분'].str.split(' ').to_list()\n",
    "    before_sub = before_sub.drop('일자|시간|구분', axis=1)\n",
    "    before_sub = before_sub[['일자', '시간', '구분', '공급량']]\n",
    "    # 현재 제출 파일 열 정리\n",
    "    present_sub[['일자', '시간', '구분']] = present_sub['일자|시간|구분'].str.split(' ').to_list()\n",
    "    present_sub = present_sub.drop('일자|시간|구분', axis=1)\n",
    "    present_sub = present_sub[['일자', '시간', '구분', '공급량']]\n",
    "\n",
    "    eval_set = pd.DataFrame(['MSE','RMSE', 'MAE', 'R2','NMAE'], columns=['평가지표'])\n",
    "    for division in tqdm(present_sub['구분'].unique()):\n",
    "        temp_before_sub = before_sub[before_sub['구분'] == division]\n",
    "        temp_present_sub = present_sub[present_sub['구분'] == division]\n",
    "\n",
    "        # 전 제출 값 = 실제값 취급\n",
    "        # 현제 제출 값 = 예측값\n",
    "        y = temp_before_sub['공급량']\n",
    "        pred = temp_present_sub['공급량']\n",
    "        y_mean = y.mean()\n",
    "\n",
    "        # MSE\n",
    "        mse = ( ( y - pred) ** 2 ).sum() / len(pred)\n",
    "            \n",
    "        # RMSE\n",
    "        rmse = mse ** (1/2)\n",
    "        \n",
    "        # MAE\n",
    "        mae = ( abs( y - pred ) ).sum() / len(pred)\n",
    "        \n",
    "        # R2\n",
    "        upper = ( (y - pred) ** 2 ).sum()\n",
    "        lower = ( (y - y_mean) ** 2 ).sum()\n",
    "        if lower == 0:\n",
    "            fraction = 0\n",
    "        else:\n",
    "            fraction = upper / lower\n",
    "        r2 = 1 - fraction\n",
    "        \n",
    "        #NMAE(Normalized Mean Absolute Error)-정규화 평균 절대 오차 척도\n",
    "        nmae = ( abs( y - pred ) / y ).sum() / len(pred)\n",
    "        \n",
    "        # 평가지표 리스트\n",
    "        one_eval_set = [mse, rmse, mae, r2, nmae]\n",
    "        \n",
    "        # 평가지표 셋에 담기\n",
    "        eval_set[division] = one_eval_set\n",
    "\n",
    "    # 평가지표 평균 구하기\n",
    "    eval_set['평가지표_평균'] = eval_set.mean(axis=1)\n",
    "\n",
    "    # 평가지표 평균 출력\n",
    "    print(eval_set[['평가지표', '평가지표_평균']])\n",
    "    \n",
    "    return eval_set"
   ]
  },
  {
   "cell_type": "markdown",
   "id": "1f7c2af6",
   "metadata": {},
   "source": [
    "## NAE 평가 지표 셋 함수화"
   ]
  },
  {
   "cell_type": "code",
   "execution_count": 139,
   "id": "f56a5fda",
   "metadata": {},
   "outputs": [],
   "source": [
    "def nae_set(before_sub, present_sub):\n",
    "    # 일자 시간을 한번에 지정할 수 있게 편집\n",
    "    before_sub[['일자', '시간', '구분']] = before_sub['일자|시간|구분'].str.split(' ').tolist()\n",
    "    before_sub['일자|시간'] = before_sub['일자'] + ' ' + before_sub['시간']\n",
    "    before_sub['예측공급량'] = present_sub['공급량']\n",
    "\n",
    "    eval_set = pd.DataFrame()\n",
    "    # 예측 값 구분별로 평가하기\n",
    "    for division in tqdm(before_sub['구분'].unique()):\n",
    "        # 구분별로 데이터 가져오기\n",
    "        temp_before_sub = before_sub[before_sub['구분'] == division]\n",
    "\n",
    "        # 전 최고 제출 값 = 실제값 취급\n",
    "        # 현재 제출 값 = 예측값\n",
    "        y = temp_before_sub['공급량']\n",
    "        pred = temp_before_sub['예측공급량']\n",
    "        \n",
    "        #NAE(Normalized Absolute Error)-정규화 절대 오차 척도(NMAE에서 평균을 취하지 않음)\n",
    "        temp_before_sub['NAE'] = abs( y - pred ) / y \n",
    "        \n",
    "        # 평가지표 셋에 담기\n",
    "        eval_set = pd.concat([eval_set, temp_before_sub], ignore_index=True)\n",
    "    \n",
    "        # 평가지표 셋의 열 정리\n",
    "        eval_set = eval_set[['일자|시간', '구분', '공급량', '예측공급량', 'NAE']]\n",
    "    return eval_set"
   ]
  },
  {
   "cell_type": "markdown",
   "id": "01613305",
   "metadata": {},
   "source": [
    "## NAE 조건에 따른 샘플 시각화 "
   ]
  },
  {
   "cell_type": "code",
   "execution_count": 140,
   "id": "e04630e7",
   "metadata": {},
   "outputs": [],
   "source": [
    "def vis_nae(res_df, res_num):\n",
    "    # 얼마 이상의 NAE 샘플을 설정\n",
    "    num = res_num\n",
    "    res_df = all_nae[all_nae['NAE'] >= num]\n",
    "    print(f\"총 NAE {num}이상 샘플 개수 :\",len(res_df['NAE']))\n",
    "\n",
    "    # 구분별로 그래프(총 구분 7개 : 'A', 'B', 'C', 'D', 'E', 'G', 'H')\n",
    "    for div in tqdm(res_df['구분'].unique()):\n",
    "        temp = res_df[res_df['구분']==div]\n",
    "        print(f\"구분 {div}의 NAE {num}이상 샘플 개수 :\",len(temp['NAE']))\n",
    "        \n",
    "        plt.figure(figsize=(16,10))\n",
    "        plt.title(f'구분 : {div} NAE : {num}이상', fontdict={'size':20})\n",
    "        plt.xticks(fontsize=15, rotation=90)\n",
    "        plt.yticks(fontsize=15)\n",
    "        x = temp['일자|시간']\n",
    "        y1 = temp['공급량']\n",
    "        y2 = temp['예측공급량']\n",
    "        plt.plot(x, y1, 'b', label='공급량')\n",
    "        plt.plot(x, y2, 'r', label='예측공급량')\n",
    "        plt.legend(loc='upper right', fontsize=15)"
   ]
  },
  {
   "cell_type": "markdown",
   "id": "04fe7669",
   "metadata": {},
   "source": [
    "# 데이터 가져오기"
   ]
  },
  {
   "cell_type": "code",
   "execution_count": 141,
   "id": "21274695",
   "metadata": {},
   "outputs": [],
   "source": [
    "# sub48_ver3.9.csv\n",
    "# pycaret_robust_finalized.csv\n",
    "\n",
    "# 최고점 제출 파일\n",
    "before_sub = pd.read_csv('../07_결과_출력/sub48_ver3.9.csv')\n",
    "# 현재 제출 파일\n",
    "present_sub = pd.read_csv('../07_결과_출력/sub51_ver4.2.csv')"
   ]
  },
  {
   "cell_type": "markdown",
   "id": "03432a60",
   "metadata": {},
   "source": [
    "# 평가지표 평균 출력"
   ]
  },
  {
   "cell_type": "code",
   "execution_count": 142,
   "id": "a765184c",
   "metadata": {},
   "outputs": [
    {
     "name": "stderr",
     "output_type": "stream",
     "text": [
      "100%|██████████| 7/7 [00:00<00:00, 72.36it/s]"
     ]
    },
    {
     "name": "stdout",
     "output_type": "stream",
     "text": [
      "   평가지표   평가지표_평균\n",
      "0   MSE 556.61894\n",
      "1  RMSE  20.10796\n",
      "2   MAE  15.79519\n",
      "3    R2   0.99693\n",
      "4  NMAE   0.01052\n"
     ]
    },
    {
     "name": "stderr",
     "output_type": "stream",
     "text": [
      "\n"
     ]
    }
   ],
   "source": [
    "# 구분별 계산된 평가지표 셋 = evaluation_index(최고점 제출 셋, 현재 제출 셋)\n",
    "set = evaluation_index(before_sub, present_sub)"
   ]
  },
  {
   "cell_type": "code",
   "execution_count": 143,
   "id": "16570e06",
   "metadata": {},
   "outputs": [
    {
     "data": {
      "text/html": [
       "<div>\n",
       "<style scoped>\n",
       "    .dataframe tbody tr th:only-of-type {\n",
       "        vertical-align: middle;\n",
       "    }\n",
       "\n",
       "    .dataframe tbody tr th {\n",
       "        vertical-align: top;\n",
       "    }\n",
       "\n",
       "    .dataframe thead th {\n",
       "        text-align: right;\n",
       "    }\n",
       "</style>\n",
       "<table border=\"1\" class=\"dataframe\">\n",
       "  <thead>\n",
       "    <tr style=\"text-align: right;\">\n",
       "      <th></th>\n",
       "      <th>평가지표</th>\n",
       "      <th>A</th>\n",
       "      <th>B</th>\n",
       "      <th>C</th>\n",
       "      <th>D</th>\n",
       "      <th>E</th>\n",
       "      <th>G</th>\n",
       "      <th>H</th>\n",
       "      <th>평가지표_평균</th>\n",
       "    </tr>\n",
       "  </thead>\n",
       "  <tbody>\n",
       "    <tr>\n",
       "      <th>0</th>\n",
       "      <td>MSE</td>\n",
       "      <td>690.03077</td>\n",
       "      <td>467.78350</td>\n",
       "      <td>5.41579</td>\n",
       "      <td>216.54703</td>\n",
       "      <td>1087.03495</td>\n",
       "      <td>1400.04833</td>\n",
       "      <td>29.47223</td>\n",
       "      <td>556.61894</td>\n",
       "    </tr>\n",
       "    <tr>\n",
       "      <th>1</th>\n",
       "      <td>RMSE</td>\n",
       "      <td>26.26844</td>\n",
       "      <td>21.62830</td>\n",
       "      <td>2.32719</td>\n",
       "      <td>14.71554</td>\n",
       "      <td>32.97021</td>\n",
       "      <td>37.41722</td>\n",
       "      <td>5.42883</td>\n",
       "      <td>20.10796</td>\n",
       "    </tr>\n",
       "    <tr>\n",
       "      <th>2</th>\n",
       "      <td>MAE</td>\n",
       "      <td>20.36035</td>\n",
       "      <td>17.26297</td>\n",
       "      <td>1.79031</td>\n",
       "      <td>11.53022</td>\n",
       "      <td>26.12643</td>\n",
       "      <td>29.25066</td>\n",
       "      <td>4.24541</td>\n",
       "      <td>15.79519</td>\n",
       "    </tr>\n",
       "    <tr>\n",
       "      <th>3</th>\n",
       "      <td>R2</td>\n",
       "      <td>0.99708</td>\n",
       "      <td>0.99761</td>\n",
       "      <td>0.99500</td>\n",
       "      <td>0.99726</td>\n",
       "      <td>0.99708</td>\n",
       "      <td>0.99685</td>\n",
       "      <td>0.99764</td>\n",
       "      <td>0.99693</td>\n",
       "    </tr>\n",
       "    <tr>\n",
       "      <th>4</th>\n",
       "      <td>NMAE</td>\n",
       "      <td>0.01083</td>\n",
       "      <td>0.01106</td>\n",
       "      <td>0.00955</td>\n",
       "      <td>0.01081</td>\n",
       "      <td>0.01143</td>\n",
       "      <td>0.00978</td>\n",
       "      <td>0.01021</td>\n",
       "      <td>0.01052</td>\n",
       "    </tr>\n",
       "  </tbody>\n",
       "</table>\n",
       "</div>"
      ],
      "text/plain": [
       "   평가지표         A         B       C         D          E          G        H  \\\n",
       "0   MSE 690.03077 467.78350 5.41579 216.54703 1087.03495 1400.04833 29.47223   \n",
       "1  RMSE  26.26844  21.62830 2.32719  14.71554   32.97021   37.41722  5.42883   \n",
       "2   MAE  20.36035  17.26297 1.79031  11.53022   26.12643   29.25066  4.24541   \n",
       "3    R2   0.99708   0.99761 0.99500   0.99726    0.99708    0.99685  0.99764   \n",
       "4  NMAE   0.01083   0.01106 0.00955   0.01081    0.01143    0.00978  0.01021   \n",
       "\n",
       "    평가지표_평균  \n",
       "0 556.61894  \n",
       "1  20.10796  \n",
       "2  15.79519  \n",
       "3   0.99693  \n",
       "4   0.01052  "
      ]
     },
     "execution_count": 143,
     "metadata": {},
     "output_type": "execute_result"
    }
   ],
   "source": [
    "set"
   ]
  },
  {
   "cell_type": "markdown",
   "id": "2bee9c2a",
   "metadata": {},
   "source": [
    "# NAE 셋 출력"
   ]
  },
  {
   "cell_type": "code",
   "execution_count": 144,
   "id": "c071f538",
   "metadata": {},
   "outputs": [
    {
     "name": "stderr",
     "output_type": "stream",
     "text": [
      "  0%|          | 0/7 [00:00<?, ?it/s]<ipython-input-139-3c612ab38485>:19: SettingWithCopyWarning: \n",
      "A value is trying to be set on a copy of a slice from a DataFrame.\n",
      "Try using .loc[row_indexer,col_indexer] = value instead\n",
      "\n",
      "See the caveats in the documentation: https://pandas.pydata.org/pandas-docs/stable/user_guide/indexing.html#returning-a-view-versus-a-copy\n",
      "  temp_before_sub['NAE'] = abs( y - pred ) / y\n",
      "100%|██████████| 7/7 [00:00<00:00, 116.97it/s]\n"
     ]
    },
    {
     "data": {
      "text/html": [
       "<div>\n",
       "<style scoped>\n",
       "    .dataframe tbody tr th:only-of-type {\n",
       "        vertical-align: middle;\n",
       "    }\n",
       "\n",
       "    .dataframe tbody tr th {\n",
       "        vertical-align: top;\n",
       "    }\n",
       "\n",
       "    .dataframe thead th {\n",
       "        text-align: right;\n",
       "    }\n",
       "</style>\n",
       "<table border=\"1\" class=\"dataframe\">\n",
       "  <thead>\n",
       "    <tr style=\"text-align: right;\">\n",
       "      <th></th>\n",
       "      <th>일자|시간</th>\n",
       "      <th>구분</th>\n",
       "      <th>공급량</th>\n",
       "      <th>예측공급량</th>\n",
       "      <th>NAE</th>\n",
       "    </tr>\n",
       "  </thead>\n",
       "  <tbody>\n",
       "    <tr>\n",
       "      <th>0</th>\n",
       "      <td>2019-01-01 01</td>\n",
       "      <td>A</td>\n",
       "      <td>1989.12356</td>\n",
       "      <td>1966.56417</td>\n",
       "      <td>0.01134</td>\n",
       "    </tr>\n",
       "    <tr>\n",
       "      <th>1</th>\n",
       "      <td>2019-01-01 02</td>\n",
       "      <td>A</td>\n",
       "      <td>1768.30162</td>\n",
       "      <td>1784.83987</td>\n",
       "      <td>0.00935</td>\n",
       "    </tr>\n",
       "    <tr>\n",
       "      <th>2</th>\n",
       "      <td>2019-01-01 03</td>\n",
       "      <td>A</td>\n",
       "      <td>1739.00878</td>\n",
       "      <td>1723.09145</td>\n",
       "      <td>0.00915</td>\n",
       "    </tr>\n",
       "    <tr>\n",
       "      <th>3</th>\n",
       "      <td>2019-01-01 04</td>\n",
       "      <td>A</td>\n",
       "      <td>1728.73720</td>\n",
       "      <td>1761.40480</td>\n",
       "      <td>0.01890</td>\n",
       "    </tr>\n",
       "    <tr>\n",
       "      <th>4</th>\n",
       "      <td>2019-01-01 05</td>\n",
       "      <td>A</td>\n",
       "      <td>1905.30822</td>\n",
       "      <td>1904.03783</td>\n",
       "      <td>0.00067</td>\n",
       "    </tr>\n",
       "  </tbody>\n",
       "</table>\n",
       "</div>"
      ],
      "text/plain": [
       "           일자|시간 구분        공급량      예측공급량     NAE\n",
       "0  2019-01-01 01  A 1989.12356 1966.56417 0.01134\n",
       "1  2019-01-01 02  A 1768.30162 1784.83987 0.00935\n",
       "2  2019-01-01 03  A 1739.00878 1723.09145 0.00915\n",
       "3  2019-01-01 04  A 1728.73720 1761.40480 0.01890\n",
       "4  2019-01-01 05  A 1905.30822 1904.03783 0.00067"
      ]
     },
     "execution_count": 144,
     "metadata": {},
     "output_type": "execute_result"
    }
   ],
   "source": [
    "# NAE값 계산된 셋 = nae_set(최고점 제출 셋, 현재 제출 셋)\n",
    "all_nae = nae_set(before_sub, present_sub)\n",
    "all_nae.head()"
   ]
  },
  {
   "cell_type": "markdown",
   "id": "61b6155c",
   "metadata": {},
   "source": [
    "## NAE 특정 조건 이상 그래프 시각화"
   ]
  },
  {
   "cell_type": "code",
   "execution_count": 145,
   "id": "e69dd9b2",
   "metadata": {},
   "outputs": [
    {
     "name": "stderr",
     "output_type": "stream",
     "text": [
      "100%|██████████| 3/3 [00:00<00:00, 22.79it/s]\n"
     ]
    },
    {
     "name": "stdout",
     "output_type": "stream",
     "text": [
      "총 NAE 0.05이상 샘플 개수 : 14\n",
      "구분 A의 NAE 0.05이상 샘플 개수 : 5\n",
      "구분 C의 NAE 0.05이상 샘플 개수 : 4\n",
      "구분 E의 NAE 0.05이상 샘플 개수 : 5\n"
     ]
    },
    {
     "data": {
      "image/png": "[encoded data removed]",
      "text/plain": [
       "<Figure size 1152x720 with 1 Axes>"
      ]
     },
     "metadata": {
      "needs_background": "light"
     },
     "output_type": "display_data"
    },
    {
     "data": {
      "image/png": "[encoded data removed]",
      "text/plain": [
       "<Figure size 1152x720 with 1 Axes>"
      ]
     },
     "metadata": {
      "needs_background": "light"
     },
     "output_type": "display_data"
    },
    {
     "data": {
      "image/png": "[encoded data removed]",
      "text/plain": [
       "<Figure size 1152x720 with 1 Axes>"
      ]
     },
     "metadata": {
      "needs_background": "light"
     },
     "output_type": "display_data"
    }
   ],
   "source": [
    "# vis_nae(NAE 셋, NAE 조건 값(NAE >= 값))\n",
    "# NAE 0.05이상인 샘플 시각화\n",
    "vis_nae(all_nae, 0.05)"
   ]
  },
  {
   "cell_type": "code",
   "execution_count": null,
   "id": "90d3f69c",
   "metadata": {},
   "outputs": [],
   "source": []
  }
 ],
 "metadata": {
  "kernelspec": {
   "display_name": "Python 3",
   "language": "python",
   "name": "python3"
  },
  "language_info": {
   "codemirror_mode": {
    "name": "ipython",
    "version": 3
   },
   "file_extension": ".py",
   "mimetype": "text/x-python",
   "name": "python",
   "nbconvert_exporter": "python",
   "pygments_lexer": "ipython3",
   "version": "3.8.8"
  }
 },
 "nbformat": 4,
 "nbformat_minor": 5
}
