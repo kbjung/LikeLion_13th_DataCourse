{
 "cells": [
  {
   "cell_type": "markdown",
   "id": "d2c93d66",
   "metadata": {},
   "source": [
    "# 자체 평가지표\n",
    "* 가지고 있는 제출 파일과 비교"
   ]
  },
  {
   "cell_type": "markdown",
   "id": "04fe7669",
   "metadata": {},
   "source": [
    "## 데이터 가져오기"
   ]
  },
  {
   "cell_type": "code",
   "execution_count": 131,
   "id": "ca243a87",
   "metadata": {},
   "outputs": [],
   "source": [
    "import pandas as pd\n",
    "from tqdm import tqdm"
   ]
  },
  {
   "cell_type": "code",
   "execution_count": 132,
   "id": "ea12c3b8",
   "metadata": {},
   "outputs": [],
   "source": [
    "# 판다스 라이브러리에서 과학적 표기 사용 안하기\n",
    "pd.options.display.float_format = '{:.5f}'.format"
   ]
  },
  {
   "cell_type": "code",
   "execution_count": 133,
   "id": "21274695",
   "metadata": {},
   "outputs": [],
   "source": [
    "# sub24_pycaret12.csv 제출 점수 : 0.1032155541\n",
    "before_sub = pd.read_csv('../07_결과_출력/sub24_pycaret12.csv')\n",
    "present_sub = pd.read_csv('../07_결과_출력/sub29_pycaret17.csv')"
   ]
  },
  {
   "cell_type": "markdown",
   "id": "53076471",
   "metadata": {},
   "source": [
    "## 열을 일자, 시간, 구분 열 분해"
   ]
  },
  {
   "cell_type": "code",
   "execution_count": 134,
   "id": "8f91fabf",
   "metadata": {},
   "outputs": [],
   "source": [
    "# 전 체출 파일 열 정리\n",
    "before_sub[['일자', '시간', '구분']] = before_sub['일자|시간|구분'].str.split(' ').to_list()\n",
    "before_sub = before_sub.drop('일자|시간|구분', axis=1)\n",
    "before_sub = before_sub[['일자', '시간', '구분', '공급량']]\n",
    "# 현재 체출 파일 열 정리\n",
    "present_sub[['일자', '시간', '구분']] = present_sub['일자|시간|구분'].str.split(' ').to_list()\n",
    "present_sub = present_sub.drop('일자|시간|구분', axis=1)\n",
    "present_sub = present_sub[['일자', '시간', '구분', '공급량']]"
   ]
  },
  {
   "cell_type": "markdown",
   "id": "69395ec2",
   "metadata": {},
   "source": [
    "### 평가 지표 함수화"
   ]
  },
  {
   "cell_type": "code",
   "execution_count": 135,
   "id": "85d7da06",
   "metadata": {},
   "outputs": [],
   "source": [
    "def evaluation_index(before_sub, present_sub):\n",
    "    eval_set = pd.DataFrame(['MSE','RMSE', 'MAE', 'R2','NMAE'], columns=['평가지표'])\n",
    "    for division in tqdm(present_sub['구분'].unique()):\n",
    "        temp_before_sub = before_sub[before_sub['구분'] == division]\n",
    "        temp_present_sub = present_sub[present_sub['구분'] == division]\n",
    "\n",
    "        # 전 제출 값 = 실제값 취급\n",
    "        # 현제 제출 값 = 예측값\n",
    "        y = temp_before_sub['공급량']\n",
    "        pred = temp_present_sub['공급량']\n",
    "        y_mean = y.mean()\n",
    "\n",
    "        # MSE\n",
    "        mse = ( ( y - pred) ** 2 ).sum() / len(pred)\n",
    "            \n",
    "        # RMSE\n",
    "        rmse = mse ** (1/2)\n",
    "        \n",
    "        # MAE\n",
    "        mae = ( abs( y - pred ) ).sum() / len(pred)\n",
    "        \n",
    "        # R2\n",
    "        upper = ( (y - pred) ** 2 ).sum()\n",
    "        lower = ( (y - y_mean) ** 2 ).sum()\n",
    "        if lower == 0:\n",
    "            fraction = 0\n",
    "        else:\n",
    "            fraction = upper / lower\n",
    "        r2 = 1 - fraction\n",
    "        \n",
    "        #NMAE(Normalized Mean Absolute Error)-정규화 평균 절대 오차 척도\n",
    "        nmae = ( abs( y - pred ) / y ).sum() / len(pred)\n",
    "        \n",
    "        # 평가지표 리스트\n",
    "        one_eval_set = [mse, rmse, mae, r2, nmae]\n",
    "        \n",
    "        # 평가지표 셋에 담기\n",
    "        eval_set[division] = one_eval_set\n",
    "\n",
    "    # 평가지표 평균 구하기\n",
    "    eval_set['평가지표_평균'] = eval_set.mean(axis=1)\n",
    "\n",
    "    # 평가지표 평균 출력\n",
    "    print(eval_set[['평가지표', '평가지표_평균']])\n",
    "    \n",
    "    return eval_set"
   ]
  },
  {
   "cell_type": "code",
   "execution_count": 136,
   "id": "a765184c",
   "metadata": {},
   "outputs": [
    {
     "name": "stderr",
     "output_type": "stream",
     "text": [
      "100%|██████████| 7/7 [00:00<00:00, 86.65it/s]"
     ]
    },
    {
     "name": "stdout",
     "output_type": "stream",
     "text": [
      "   평가지표     평가지표_평균\n",
      "0   MSE 12855.27267\n",
      "1  RMSE    87.75098\n",
      "2   MAE    67.37401\n",
      "3    R2     0.95271\n",
      "4  NMAE     0.03793\n"
     ]
    },
    {
     "name": "stderr",
     "output_type": "stream",
     "text": [
      "\n"
     ]
    }
   ],
   "source": [
    "set = evaluation_index(before_sub, present_sub)"
   ]
  },
  {
   "cell_type": "code",
   "execution_count": 137,
   "id": "16570e06",
   "metadata": {},
   "outputs": [
    {
     "data": {
      "text/html": [
       "<div>\n",
       "<style scoped>\n",
       "    .dataframe tbody tr th:only-of-type {\n",
       "        vertical-align: middle;\n",
       "    }\n",
       "\n",
       "    .dataframe tbody tr th {\n",
       "        vertical-align: top;\n",
       "    }\n",
       "\n",
       "    .dataframe thead th {\n",
       "        text-align: right;\n",
       "    }\n",
       "</style>\n",
       "<table border=\"1\" class=\"dataframe\">\n",
       "  <thead>\n",
       "    <tr style=\"text-align: right;\">\n",
       "      <th></th>\n",
       "      <th>평가지표</th>\n",
       "      <th>A</th>\n",
       "      <th>B</th>\n",
       "      <th>C</th>\n",
       "      <th>D</th>\n",
       "      <th>E</th>\n",
       "      <th>G</th>\n",
       "      <th>H</th>\n",
       "      <th>평가지표_평균</th>\n",
       "    </tr>\n",
       "  </thead>\n",
       "  <tbody>\n",
       "    <tr>\n",
       "      <th>0</th>\n",
       "      <td>MSE</td>\n",
       "      <td>12823.15557</td>\n",
       "      <td>8210.36372</td>\n",
       "      <td>22.92648</td>\n",
       "      <td>2342.07455</td>\n",
       "      <td>10540.93628</td>\n",
       "      <td>55703.80745</td>\n",
       "      <td>343.64468</td>\n",
       "      <td>12855.27267</td>\n",
       "    </tr>\n",
       "    <tr>\n",
       "      <th>1</th>\n",
       "      <td>RMSE</td>\n",
       "      <td>113.23937</td>\n",
       "      <td>90.61106</td>\n",
       "      <td>4.78816</td>\n",
       "      <td>48.39498</td>\n",
       "      <td>102.66906</td>\n",
       "      <td>236.01654</td>\n",
       "      <td>18.53766</td>\n",
       "      <td>87.75098</td>\n",
       "    </tr>\n",
       "    <tr>\n",
       "      <th>2</th>\n",
       "      <td>MAE</td>\n",
       "      <td>85.72759</td>\n",
       "      <td>61.75866</td>\n",
       "      <td>3.72033</td>\n",
       "      <td>34.55622</td>\n",
       "      <td>72.60595</td>\n",
       "      <td>199.74442</td>\n",
       "      <td>13.50490</td>\n",
       "      <td>67.37401</td>\n",
       "    </tr>\n",
       "    <tr>\n",
       "      <th>3</th>\n",
       "      <td>R2</td>\n",
       "      <td>0.94563</td>\n",
       "      <td>0.95805</td>\n",
       "      <td>0.97685</td>\n",
       "      <td>0.97020</td>\n",
       "      <td>0.97166</td>\n",
       "      <td>0.87397</td>\n",
       "      <td>0.97263</td>\n",
       "      <td>0.95271</td>\n",
       "    </tr>\n",
       "    <tr>\n",
       "      <th>4</th>\n",
       "      <td>NMAE</td>\n",
       "      <td>0.04569</td>\n",
       "      <td>0.03827</td>\n",
       "      <td>0.02009</td>\n",
       "      <td>0.03183</td>\n",
       "      <td>0.03098</td>\n",
       "      <td>0.06692</td>\n",
       "      <td>0.03176</td>\n",
       "      <td>0.03793</td>\n",
       "    </tr>\n",
       "  </tbody>\n",
       "</table>\n",
       "</div>"
      ],
      "text/plain": [
       "   평가지표           A          B        C          D           E           G  \\\n",
       "0   MSE 12823.15557 8210.36372 22.92648 2342.07455 10540.93628 55703.80745   \n",
       "1  RMSE   113.23937   90.61106  4.78816   48.39498   102.66906   236.01654   \n",
       "2   MAE    85.72759   61.75866  3.72033   34.55622    72.60595   199.74442   \n",
       "3    R2     0.94563    0.95805  0.97685    0.97020     0.97166     0.87397   \n",
       "4  NMAE     0.04569    0.03827  0.02009    0.03183     0.03098     0.06692   \n",
       "\n",
       "          H     평가지표_평균  \n",
       "0 343.64468 12855.27267  \n",
       "1  18.53766    87.75098  \n",
       "2  13.50490    67.37401  \n",
       "3   0.97263     0.95271  \n",
       "4   0.03176     0.03793  "
      ]
     },
     "execution_count": 137,
     "metadata": {},
     "output_type": "execute_result"
    }
   ],
   "source": [
    "set"
   ]
  },
  {
   "cell_type": "code",
   "execution_count": null,
   "id": "c071f538",
   "metadata": {},
   "outputs": [],
   "source": []
  }
 ],
 "metadata": {
  "kernelspec": {
   "display_name": "Python 3",
   "language": "python",
   "name": "python3"
  },
  "language_info": {
   "codemirror_mode": {
    "name": "ipython",
    "version": 3
   },
   "file_extension": ".py",
   "mimetype": "text/x-python",
   "name": "python",
   "nbconvert_exporter": "python",
   "pygments_lexer": "ipython3",
   "version": "3.8.8"
  }
 },
 "nbformat": 4,
 "nbformat_minor": 5
}
