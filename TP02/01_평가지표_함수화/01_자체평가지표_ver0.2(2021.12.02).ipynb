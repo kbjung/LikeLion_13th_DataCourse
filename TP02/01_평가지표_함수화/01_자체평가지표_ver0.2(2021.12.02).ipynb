{
 "cells": [
  {
   "cell_type": "markdown",
   "id": "d2c93d66",
   "metadata": {},
   "source": [
    "# 자체 평가지표\n",
    "* 가지고 있는 제출 파일과 비교"
   ]
  },
  {
   "cell_type": "markdown",
   "id": "04fe7669",
   "metadata": {},
   "source": [
    "## 데이터 가져오기"
   ]
  },
  {
   "cell_type": "code",
   "execution_count": 13,
   "id": "ca243a87",
   "metadata": {},
   "outputs": [],
   "source": [
    "import pandas as pd\n",
    "from tqdm import tqdm"
   ]
  },
  {
   "cell_type": "code",
   "execution_count": 14,
   "id": "ea12c3b8",
   "metadata": {},
   "outputs": [],
   "source": [
    "# 판다스 라이브러리에서 과학적 표기 사용 안하기\n",
    "pd.options.display.float_format = '{:.5f}'.format"
   ]
  },
  {
   "cell_type": "code",
   "execution_count": 15,
   "id": "21274695",
   "metadata": {},
   "outputs": [],
   "source": [
    "# sub24_pycaret12.csv 제출 점수 : 0.1032155541\n",
    "before_sub = pd.read_csv('../07_결과_출력/sub24_pycaret12.csv')\n",
    "present_sub = pd.read_csv('../07_결과_출력/sub23_pycaret11.csv')"
   ]
  },
  {
   "cell_type": "markdown",
   "id": "53076471",
   "metadata": {},
   "source": [
    "## 열을 일자, 시간, 구분 열 분해"
   ]
  },
  {
   "cell_type": "code",
   "execution_count": 16,
   "id": "8f91fabf",
   "metadata": {},
   "outputs": [],
   "source": [
    "# 전 체출 파일 열 정리\n",
    "before_sub[['일자', '시간', '구분']] = before_sub['일자|시간|구분'].str.split(' ').to_list()\n",
    "before_sub = before_sub.drop('일자|시간|구분', axis=1)\n",
    "before_sub = before_sub[['일자', '시간', '구분', '공급량']]\n",
    "# 현재 체출 파일 열 정리\n",
    "present_sub[['일자', '시간', '구분']] = present_sub['일자|시간|구분'].str.split(' ').to_list()\n",
    "present_sub = present_sub.drop('일자|시간|구분', axis=1)\n",
    "present_sub = present_sub[['일자', '시간', '구분', '공급량']]"
   ]
  },
  {
   "cell_type": "markdown",
   "id": "69395ec2",
   "metadata": {},
   "source": [
    "### 평가 지표 함수화"
   ]
  },
  {
   "cell_type": "code",
   "execution_count": 17,
   "id": "85d7da06",
   "metadata": {},
   "outputs": [],
   "source": [
    "def evaluation_index(before_sub, present_sub):\n",
    "    eval_set = pd.DataFrame(['MSE','RMSE', 'MAE', 'R2','NMAE'], columns=['평가지표'])\n",
    "    for division in tqdm(present_sub['구분'].unique()):\n",
    "        temp_before_sub = before_sub[before_sub['구분'] == division]\n",
    "        temp_present_sub = present_sub[present_sub['구분'] == division]\n",
    "\n",
    "        # 전 제출 값 = 실제값 취급\n",
    "        # 현제 제출 값 = 예측값\n",
    "        y = temp_before_sub['공급량']\n",
    "        pred = temp_present_sub['공급량']\n",
    "        y_mean = y.mean()\n",
    "\n",
    "        # MSE\n",
    "        mse = ( ( y - pred) ** 2 ).sum() / len(pred)\n",
    "            \n",
    "        # RMSE\n",
    "        rmse = mse ** (1/2)\n",
    "        \n",
    "        # MAE\n",
    "        mae = ( abs( y - pred ) ).sum() / len(pred)\n",
    "        \n",
    "        # R2\n",
    "        upper = ( (y - pred) ** 2 ).sum()\n",
    "        lower = ( (y - y_mean) ** 2 ).sum()\n",
    "        if lower == 0:\n",
    "            fraction = 0\n",
    "        else:\n",
    "            fraction = upper / lower\n",
    "        r2 = 1 - fraction\n",
    "        \n",
    "        #NMAE(Normalized Mean Absolute Error)-정규화 평균 절대 오차 척도\n",
    "        nmae = ( abs( y - pred ) / y ).sum() / len(pred)\n",
    "        \n",
    "        # 평가지표 리스트\n",
    "        one_eval_set = [mse, rmse, mae, r2, nmae]\n",
    "        \n",
    "        # 평가지표 셋에 담기\n",
    "        eval_set[division] = one_eval_set\n",
    "\n",
    "    # 평가지표 평균 구하기\n",
    "    eval_set['평가지표_평균'] = eval_set.mean(axis=1)\n",
    "\n",
    "    # 평가지표 평균 출력\n",
    "    print(eval_set[['평가지표', '평가지표_평균']])\n",
    "    \n",
    "    return eval_set"
   ]
  },
  {
   "cell_type": "code",
   "execution_count": 18,
   "id": "a765184c",
   "metadata": {},
   "outputs": [
    {
     "name": "stderr",
     "output_type": "stream",
     "text": [
      "100%|██████████| 7/7 [00:00<00:00, 79.76it/s]"
     ]
    },
    {
     "name": "stdout",
     "output_type": "stream",
     "text": [
      "   평가지표    평가지표_평균\n",
      "0   MSE 2190.05414\n",
      "1  RMSE   40.38706\n",
      "2   MAE   32.22400\n",
      "3    R2    0.98544\n",
      "4  NMAE    0.02240\n"
     ]
    },
    {
     "name": "stderr",
     "output_type": "stream",
     "text": [
      "\n"
     ]
    }
   ],
   "source": [
    "set = evaluation_index(before_sub, present_sub)"
   ]
  },
  {
   "cell_type": "code",
   "execution_count": 19,
   "id": "16570e06",
   "metadata": {},
   "outputs": [
    {
     "data": {
      "text/html": [
       "<div>\n",
       "<style scoped>\n",
       "    .dataframe tbody tr th:only-of-type {\n",
       "        vertical-align: middle;\n",
       "    }\n",
       "\n",
       "    .dataframe tbody tr th {\n",
       "        vertical-align: top;\n",
       "    }\n",
       "\n",
       "    .dataframe thead th {\n",
       "        text-align: right;\n",
       "    }\n",
       "</style>\n",
       "<table border=\"1\" class=\"dataframe\">\n",
       "  <thead>\n",
       "    <tr style=\"text-align: right;\">\n",
       "      <th></th>\n",
       "      <th>평가지표</th>\n",
       "      <th>A</th>\n",
       "      <th>B</th>\n",
       "      <th>C</th>\n",
       "      <th>D</th>\n",
       "      <th>E</th>\n",
       "      <th>G</th>\n",
       "      <th>H</th>\n",
       "      <th>평가지표_평균</th>\n",
       "    </tr>\n",
       "  </thead>\n",
       "  <tbody>\n",
       "    <tr>\n",
       "      <th>0</th>\n",
       "      <td>MSE</td>\n",
       "      <td>3026.85151</td>\n",
       "      <td>1658.51080</td>\n",
       "      <td>33.13807</td>\n",
       "      <td>1234.06690</td>\n",
       "      <td>3771.75035</td>\n",
       "      <td>5494.98687</td>\n",
       "      <td>111.07448</td>\n",
       "      <td>2190.05414</td>\n",
       "    </tr>\n",
       "    <tr>\n",
       "      <th>1</th>\n",
       "      <td>RMSE</td>\n",
       "      <td>55.01683</td>\n",
       "      <td>40.72482</td>\n",
       "      <td>5.75657</td>\n",
       "      <td>35.12929</td>\n",
       "      <td>61.41458</td>\n",
       "      <td>74.12818</td>\n",
       "      <td>10.53919</td>\n",
       "      <td>40.38706</td>\n",
       "    </tr>\n",
       "    <tr>\n",
       "      <th>2</th>\n",
       "      <td>MAE</td>\n",
       "      <td>43.45209</td>\n",
       "      <td>32.71982</td>\n",
       "      <td>4.48817</td>\n",
       "      <td>27.92288</td>\n",
       "      <td>49.48874</td>\n",
       "      <td>59.12160</td>\n",
       "      <td>8.37471</td>\n",
       "      <td>32.22400</td>\n",
       "    </tr>\n",
       "    <tr>\n",
       "      <th>3</th>\n",
       "      <td>R2</td>\n",
       "      <td>0.98717</td>\n",
       "      <td>0.99153</td>\n",
       "      <td>0.96654</td>\n",
       "      <td>0.98430</td>\n",
       "      <td>0.98986</td>\n",
       "      <td>0.98757</td>\n",
       "      <td>0.99115</td>\n",
       "      <td>0.98544</td>\n",
       "    </tr>\n",
       "    <tr>\n",
       "      <th>4</th>\n",
       "      <td>NMAE</td>\n",
       "      <td>0.02271</td>\n",
       "      <td>0.02097</td>\n",
       "      <td>0.02499</td>\n",
       "      <td>0.02655</td>\n",
       "      <td>0.02162</td>\n",
       "      <td>0.01960</td>\n",
       "      <td>0.02038</td>\n",
       "      <td>0.02240</td>\n",
       "    </tr>\n",
       "  </tbody>\n",
       "</table>\n",
       "</div>"
      ],
      "text/plain": [
       "   평가지표          A          B        C          D          E          G  \\\n",
       "0   MSE 3026.85151 1658.51080 33.13807 1234.06690 3771.75035 5494.98687   \n",
       "1  RMSE   55.01683   40.72482  5.75657   35.12929   61.41458   74.12818   \n",
       "2   MAE   43.45209   32.71982  4.48817   27.92288   49.48874   59.12160   \n",
       "3    R2    0.98717    0.99153  0.96654    0.98430    0.98986    0.98757   \n",
       "4  NMAE    0.02271    0.02097  0.02499    0.02655    0.02162    0.01960   \n",
       "\n",
       "          H    평가지표_평균  \n",
       "0 111.07448 2190.05414  \n",
       "1  10.53919   40.38706  \n",
       "2   8.37471   32.22400  \n",
       "3   0.99115    0.98544  \n",
       "4   0.02038    0.02240  "
      ]
     },
     "execution_count": 19,
     "metadata": {},
     "output_type": "execute_result"
    }
   ],
   "source": [
    "set"
   ]
  },
  {
   "cell_type": "code",
   "execution_count": null,
   "id": "c071f538",
   "metadata": {},
   "outputs": [],
   "source": []
  }
 ],
 "metadata": {
  "kernelspec": {
   "display_name": "Python 3",
   "language": "python",
   "name": "python3"
  },
  "language_info": {
   "codemirror_mode": {
    "name": "ipython",
    "version": 3
   },
   "file_extension": ".py",
   "mimetype": "text/x-python",
   "name": "python",
   "nbconvert_exporter": "python",
   "pygments_lexer": "ipython3",
   "version": "3.8.8"
  }
 },
 "nbformat": 4,
 "nbformat_minor": 5
}
