{
 "cells": [
  {
   "cell_type": "markdown",
   "id": "d2c93d66",
   "metadata": {},
   "source": [
    "# 자체 평가지표\n",
    "* 가지고 있는 제출 파일과 비교"
   ]
  },
  {
   "cell_type": "markdown",
   "id": "69395ec2",
   "metadata": {},
   "source": [
    "### 평가 지표 함수화"
   ]
  },
  {
   "cell_type": "code",
   "execution_count": 15,
   "id": "85d7da06",
   "metadata": {},
   "outputs": [],
   "source": [
    "def evaluation_index(before_sub, present_sub):\n",
    "    eval_set = pd.DataFrame(['MSE','RMSE', 'MAE', 'R2','NMAE'], columns=['평가지표'])\n",
    "    for division in tqdm(present_sub['구분'].unique()):\n",
    "        temp_before_sub = before_sub[before_sub['구분'] == division]\n",
    "        temp_present_sub = present_sub[present_sub['구분'] == division]\n",
    "\n",
    "        # 전 제출 값 = 실제값 취급\n",
    "        # 현제 제출 값 = 예측값\n",
    "        y = temp_before_sub['공급량']\n",
    "        pred = temp_present_sub['공급량']\n",
    "        y_mean = y.mean()\n",
    "\n",
    "        # MSE\n",
    "        mse = ( ( y - pred) ** 2 ).sum() / len(pred)\n",
    "            \n",
    "        # RMSE\n",
    "        rmse = mse ** (1/2)\n",
    "        \n",
    "        # MAE\n",
    "        mae = ( abs( y - pred ) ).sum() / len(pred)\n",
    "        \n",
    "        # R2\n",
    "        upper = ( (y - pred) ** 2 ).sum()\n",
    "        lower = ( (y - y_mean) ** 2 ).sum()\n",
    "        if lower == 0:\n",
    "            fraction = 0\n",
    "        else:\n",
    "            fraction = upper / lower\n",
    "        r2 = 1 - fraction\n",
    "        \n",
    "        #NMAE(Normalized Mean Absolute Error)-정규화 평균 절대 오차 척도\n",
    "        nmae = ( abs( y - pred ) / y ).sum() / len(pred)\n",
    "        \n",
    "        # 평가지표 리스트\n",
    "        one_eval_set = [mse, rmse, mae, r2, nmae]\n",
    "        \n",
    "        # 평가지표 셋에 담기\n",
    "        eval_set[division] = one_eval_set\n",
    "\n",
    "    # 평가지표 평균 구하기\n",
    "    eval_set['평가지표_평균'] = eval_set.mean(axis=1)\n",
    "\n",
    "    # 평가지표 평균 출력\n",
    "    print(eval_set[['평가지표', '평가지표_평균']])\n",
    "    \n",
    "    return eval_set"
   ]
  },
  {
   "cell_type": "markdown",
   "id": "04fe7669",
   "metadata": {},
   "source": [
    "# 데이터 가져오기"
   ]
  },
  {
   "cell_type": "code",
   "execution_count": 16,
   "id": "ca243a87",
   "metadata": {},
   "outputs": [],
   "source": [
    "import pandas as pd\n",
    "from tqdm import tqdm"
   ]
  },
  {
   "cell_type": "code",
   "execution_count": 17,
   "id": "ea12c3b8",
   "metadata": {},
   "outputs": [],
   "source": [
    "# 판다스 라이브러리에서 과학적 표기 사용 안하기\n",
    "pd.options.display.float_format = '{:.5f}'.format"
   ]
  },
  {
   "cell_type": "code",
   "execution_count": 18,
   "id": "21274695",
   "metadata": {},
   "outputs": [],
   "source": [
    "# sub24_pycaret12.csv 제출 점수 : 0.1032155541\n",
    "before_sub = pd.read_csv('../07_결과_출력/sub24_pycaret12.csv')\n",
    "present_sub = pd.read_csv('../07_결과_출력/sub32_pycaret20.csv')"
   ]
  },
  {
   "cell_type": "markdown",
   "id": "53076471",
   "metadata": {},
   "source": [
    "## 열을 일자, 시간, 구분 열 분해"
   ]
  },
  {
   "cell_type": "code",
   "execution_count": 19,
   "id": "8f91fabf",
   "metadata": {},
   "outputs": [],
   "source": [
    "# 전 체출 파일 열 정리\n",
    "before_sub[['일자', '시간', '구분']] = before_sub['일자|시간|구분'].str.split(' ').to_list()\n",
    "before_sub = before_sub.drop('일자|시간|구분', axis=1)\n",
    "before_sub = before_sub[['일자', '시간', '구분', '공급량']]\n",
    "# 현재 체출 파일 열 정리\n",
    "present_sub[['일자', '시간', '구분']] = present_sub['일자|시간|구분'].str.split(' ').to_list()\n",
    "present_sub = present_sub.drop('일자|시간|구분', axis=1)\n",
    "present_sub = present_sub[['일자', '시간', '구분', '공급량']]"
   ]
  },
  {
   "cell_type": "markdown",
   "id": "03432a60",
   "metadata": {},
   "source": [
    "# 평가지표 평균 출력"
   ]
  },
  {
   "cell_type": "code",
   "execution_count": 20,
   "id": "a765184c",
   "metadata": {},
   "outputs": [
    {
     "name": "stderr",
     "output_type": "stream",
     "text": [
      "100%|██████████| 7/7 [00:00<00:00, 60.79it/s]"
     ]
    },
    {
     "name": "stdout",
     "output_type": "stream",
     "text": [
      "   평가지표   평가지표_평균\n",
      "0   MSE 836.85087\n",
      "1  RMSE  24.52475\n",
      "2   MAE  19.08664\n",
      "3    R2   0.99540\n",
      "4  NMAE   0.01250\n"
     ]
    },
    {
     "name": "stderr",
     "output_type": "stream",
     "text": [
      "\n"
     ]
    }
   ],
   "source": [
    "set = evaluation_index(before_sub, present_sub)"
   ]
  },
  {
   "cell_type": "code",
   "execution_count": 21,
   "id": "16570e06",
   "metadata": {},
   "outputs": [
    {
     "data": {
      "text/html": [
       "<div>\n",
       "<style scoped>\n",
       "    .dataframe tbody tr th:only-of-type {\n",
       "        vertical-align: middle;\n",
       "    }\n",
       "\n",
       "    .dataframe tbody tr th {\n",
       "        vertical-align: top;\n",
       "    }\n",
       "\n",
       "    .dataframe thead th {\n",
       "        text-align: right;\n",
       "    }\n",
       "</style>\n",
       "<table border=\"1\" class=\"dataframe\">\n",
       "  <thead>\n",
       "    <tr style=\"text-align: right;\">\n",
       "      <th></th>\n",
       "      <th>평가지표</th>\n",
       "      <th>A</th>\n",
       "      <th>B</th>\n",
       "      <th>C</th>\n",
       "      <th>D</th>\n",
       "      <th>E</th>\n",
       "      <th>G</th>\n",
       "      <th>H</th>\n",
       "      <th>평가지표_평균</th>\n",
       "    </tr>\n",
       "  </thead>\n",
       "  <tbody>\n",
       "    <tr>\n",
       "      <th>0</th>\n",
       "      <td>MSE</td>\n",
       "      <td>1069.49685</td>\n",
       "      <td>681.24015</td>\n",
       "      <td>7.94814</td>\n",
       "      <td>292.97927</td>\n",
       "      <td>1621.76622</td>\n",
       "      <td>2144.10047</td>\n",
       "      <td>40.42497</td>\n",
       "      <td>836.85087</td>\n",
       "    </tr>\n",
       "    <tr>\n",
       "      <th>1</th>\n",
       "      <td>RMSE</td>\n",
       "      <td>32.70316</td>\n",
       "      <td>26.10058</td>\n",
       "      <td>2.81924</td>\n",
       "      <td>17.11664</td>\n",
       "      <td>40.27116</td>\n",
       "      <td>46.30443</td>\n",
       "      <td>6.35806</td>\n",
       "      <td>24.52475</td>\n",
       "    </tr>\n",
       "    <tr>\n",
       "      <th>2</th>\n",
       "      <td>MAE</td>\n",
       "      <td>25.09502</td>\n",
       "      <td>20.80415</td>\n",
       "      <td>2.19561</td>\n",
       "      <td>13.00782</td>\n",
       "      <td>32.08702</td>\n",
       "      <td>35.65680</td>\n",
       "      <td>4.76004</td>\n",
       "      <td>19.08664</td>\n",
       "    </tr>\n",
       "    <tr>\n",
       "      <th>3</th>\n",
       "      <td>R2</td>\n",
       "      <td>0.99547</td>\n",
       "      <td>0.99652</td>\n",
       "      <td>0.99197</td>\n",
       "      <td>0.99627</td>\n",
       "      <td>0.99564</td>\n",
       "      <td>0.99515</td>\n",
       "      <td>0.99678</td>\n",
       "      <td>0.99540</td>\n",
       "    </tr>\n",
       "    <tr>\n",
       "      <th>4</th>\n",
       "      <td>NMAE</td>\n",
       "      <td>0.01328</td>\n",
       "      <td>0.01311</td>\n",
       "      <td>0.01214</td>\n",
       "      <td>0.01181</td>\n",
       "      <td>0.01418</td>\n",
       "      <td>0.01163</td>\n",
       "      <td>0.01135</td>\n",
       "      <td>0.01250</td>\n",
       "    </tr>\n",
       "  </tbody>\n",
       "</table>\n",
       "</div>"
      ],
      "text/plain": [
       "   평가지표          A         B       C         D          E          G        H  \\\n",
       "0   MSE 1069.49685 681.24015 7.94814 292.97927 1621.76622 2144.10047 40.42497   \n",
       "1  RMSE   32.70316  26.10058 2.81924  17.11664   40.27116   46.30443  6.35806   \n",
       "2   MAE   25.09502  20.80415 2.19561  13.00782   32.08702   35.65680  4.76004   \n",
       "3    R2    0.99547   0.99652 0.99197   0.99627    0.99564    0.99515  0.99678   \n",
       "4  NMAE    0.01328   0.01311 0.01214   0.01181    0.01418    0.01163  0.01135   \n",
       "\n",
       "    평가지표_평균  \n",
       "0 836.85087  \n",
       "1  24.52475  \n",
       "2  19.08664  \n",
       "3   0.99540  \n",
       "4   0.01250  "
      ]
     },
     "execution_count": 21,
     "metadata": {},
     "output_type": "execute_result"
    }
   ],
   "source": [
    "set"
   ]
  },
  {
   "cell_type": "code",
   "execution_count": null,
   "id": "c071f538",
   "metadata": {},
   "outputs": [],
   "source": []
  }
 ],
 "metadata": {
  "kernelspec": {
   "display_name": "Python 3",
   "language": "python",
   "name": "python3"
  },
  "language_info": {
   "codemirror_mode": {
    "name": "ipython",
    "version": 3
   },
   "file_extension": ".py",
   "mimetype": "text/x-python",
   "name": "python",
   "nbconvert_exporter": "python",
   "pygments_lexer": "ipython3",
   "version": "3.8.8"
  }
 },
 "nbformat": 4,
 "nbformat_minor": 5
}
