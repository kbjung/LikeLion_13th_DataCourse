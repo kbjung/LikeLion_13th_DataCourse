{
 "cells": [
  {
   "cell_type": "markdown",
   "id": "d2c93d66",
   "metadata": {},
   "source": [
    "# 자체 평가지표\n",
    "* 가지고 있는 제출 파일과 비교"
   ]
  },
  {
   "cell_type": "markdown",
   "id": "04fe7669",
   "metadata": {},
   "source": [
    "## 데이터 가져오기"
   ]
  },
  {
   "cell_type": "code",
   "execution_count": 40,
   "id": "ca243a87",
   "metadata": {},
   "outputs": [],
   "source": [
    "import pandas as pd\n",
    "from tqdm import tqdm"
   ]
  },
  {
   "cell_type": "code",
   "execution_count": 41,
   "id": "21274695",
   "metadata": {},
   "outputs": [],
   "source": [
    "before_sub = pd.read_csv('../07_결과_출력/sub23_pycaret11.csv')\n",
    "present_sub = pd.read_csv('../07_결과_출력/sub24_pycaret12.csv')"
   ]
  },
  {
   "cell_type": "code",
   "execution_count": 42,
   "id": "0ed246f1",
   "metadata": {},
   "outputs": [
    {
     "name": "stdout",
     "output_type": "stream",
     "text": [
      "<class 'pandas.core.frame.DataFrame'>\n",
      "RangeIndex: 15120 entries, 0 to 15119\n",
      "Data columns (total 2 columns):\n",
      " #   Column    Non-Null Count  Dtype  \n",
      "---  ------    --------------  -----  \n",
      " 0   일자|시간|구분  15120 non-null  object \n",
      " 1   공급량       15120 non-null  float64\n",
      "dtypes: float64(1), object(1)\n",
      "memory usage: 236.4+ KB\n"
     ]
    }
   ],
   "source": [
    "before_sub.info()"
   ]
  },
  {
   "cell_type": "code",
   "execution_count": 43,
   "id": "cf699355",
   "metadata": {},
   "outputs": [
    {
     "name": "stdout",
     "output_type": "stream",
     "text": [
      "<class 'pandas.core.frame.DataFrame'>\n",
      "RangeIndex: 15120 entries, 0 to 15119\n",
      "Data columns (total 2 columns):\n",
      " #   Column    Non-Null Count  Dtype  \n",
      "---  ------    --------------  -----  \n",
      " 0   일자|시간|구분  15120 non-null  object \n",
      " 1   공급량       15120 non-null  float64\n",
      "dtypes: float64(1), object(1)\n",
      "memory usage: 236.4+ KB\n"
     ]
    }
   ],
   "source": [
    "present_sub.info()"
   ]
  },
  {
   "cell_type": "code",
   "execution_count": 44,
   "id": "70f8fb0c",
   "metadata": {},
   "outputs": [
    {
     "data": {
      "text/html": [
       "<div>\n",
       "<style scoped>\n",
       "    .dataframe tbody tr th:only-of-type {\n",
       "        vertical-align: middle;\n",
       "    }\n",
       "\n",
       "    .dataframe tbody tr th {\n",
       "        vertical-align: top;\n",
       "    }\n",
       "\n",
       "    .dataframe thead th {\n",
       "        text-align: right;\n",
       "    }\n",
       "</style>\n",
       "<table border=\"1\" class=\"dataframe\">\n",
       "  <thead>\n",
       "    <tr style=\"text-align: right;\">\n",
       "      <th></th>\n",
       "      <th>일자|시간|구분</th>\n",
       "      <th>공급량</th>\n",
       "    </tr>\n",
       "  </thead>\n",
       "  <tbody>\n",
       "    <tr>\n",
       "      <th>0</th>\n",
       "      <td>2019-01-01 01 A</td>\n",
       "      <td>1986.488313</td>\n",
       "    </tr>\n",
       "    <tr>\n",
       "      <th>1</th>\n",
       "      <td>2019-01-01 02 A</td>\n",
       "      <td>1777.625538</td>\n",
       "    </tr>\n",
       "    <tr>\n",
       "      <th>2</th>\n",
       "      <td>2019-01-01 03 A</td>\n",
       "      <td>1710.387693</td>\n",
       "    </tr>\n",
       "    <tr>\n",
       "      <th>3</th>\n",
       "      <td>2019-01-01 04 A</td>\n",
       "      <td>1777.399099</td>\n",
       "    </tr>\n",
       "    <tr>\n",
       "      <th>4</th>\n",
       "      <td>2019-01-01 05 A</td>\n",
       "      <td>1936.957736</td>\n",
       "    </tr>\n",
       "  </tbody>\n",
       "</table>\n",
       "</div>"
      ],
      "text/plain": [
       "          일자|시간|구분          공급량\n",
       "0  2019-01-01 01 A  1986.488313\n",
       "1  2019-01-01 02 A  1777.625538\n",
       "2  2019-01-01 03 A  1710.387693\n",
       "3  2019-01-01 04 A  1777.399099\n",
       "4  2019-01-01 05 A  1936.957736"
      ]
     },
     "execution_count": 44,
     "metadata": {},
     "output_type": "execute_result"
    }
   ],
   "source": [
    "before_sub.head()"
   ]
  },
  {
   "cell_type": "markdown",
   "id": "53076471",
   "metadata": {},
   "source": [
    "## 열을 일자, 시간, 구분 열 분해"
   ]
  },
  {
   "cell_type": "code",
   "execution_count": 45,
   "id": "8f91fabf",
   "metadata": {},
   "outputs": [
    {
     "data": {
      "text/html": [
       "<div>\n",
       "<style scoped>\n",
       "    .dataframe tbody tr th:only-of-type {\n",
       "        vertical-align: middle;\n",
       "    }\n",
       "\n",
       "    .dataframe tbody tr th {\n",
       "        vertical-align: top;\n",
       "    }\n",
       "\n",
       "    .dataframe thead th {\n",
       "        text-align: right;\n",
       "    }\n",
       "</style>\n",
       "<table border=\"1\" class=\"dataframe\">\n",
       "  <thead>\n",
       "    <tr style=\"text-align: right;\">\n",
       "      <th></th>\n",
       "      <th>일자|시간|구분</th>\n",
       "      <th>공급량</th>\n",
       "      <th>일자</th>\n",
       "      <th>시간</th>\n",
       "      <th>구분</th>\n",
       "    </tr>\n",
       "  </thead>\n",
       "  <tbody>\n",
       "    <tr>\n",
       "      <th>0</th>\n",
       "      <td>2019-01-01 01 A</td>\n",
       "      <td>1986.488313</td>\n",
       "      <td>2019-01-01</td>\n",
       "      <td>01</td>\n",
       "      <td>A</td>\n",
       "    </tr>\n",
       "    <tr>\n",
       "      <th>1</th>\n",
       "      <td>2019-01-01 02 A</td>\n",
       "      <td>1777.625538</td>\n",
       "      <td>2019-01-01</td>\n",
       "      <td>02</td>\n",
       "      <td>A</td>\n",
       "    </tr>\n",
       "    <tr>\n",
       "      <th>2</th>\n",
       "      <td>2019-01-01 03 A</td>\n",
       "      <td>1710.387693</td>\n",
       "      <td>2019-01-01</td>\n",
       "      <td>03</td>\n",
       "      <td>A</td>\n",
       "    </tr>\n",
       "    <tr>\n",
       "      <th>3</th>\n",
       "      <td>2019-01-01 04 A</td>\n",
       "      <td>1777.399099</td>\n",
       "      <td>2019-01-01</td>\n",
       "      <td>04</td>\n",
       "      <td>A</td>\n",
       "    </tr>\n",
       "    <tr>\n",
       "      <th>4</th>\n",
       "      <td>2019-01-01 05 A</td>\n",
       "      <td>1936.957736</td>\n",
       "      <td>2019-01-01</td>\n",
       "      <td>05</td>\n",
       "      <td>A</td>\n",
       "    </tr>\n",
       "  </tbody>\n",
       "</table>\n",
       "</div>"
      ],
      "text/plain": [
       "          일자|시간|구분          공급량          일자  시간 구분\n",
       "0  2019-01-01 01 A  1986.488313  2019-01-01  01  A\n",
       "1  2019-01-01 02 A  1777.625538  2019-01-01  02  A\n",
       "2  2019-01-01 03 A  1710.387693  2019-01-01  03  A\n",
       "3  2019-01-01 04 A  1777.399099  2019-01-01  04  A\n",
       "4  2019-01-01 05 A  1936.957736  2019-01-01  05  A"
      ]
     },
     "execution_count": 45,
     "metadata": {},
     "output_type": "execute_result"
    }
   ],
   "source": [
    "# 열 정리\n",
    "before_sub[['일자', '시간', '구분']] = before_sub['일자|시간|구분'].str.split(' ').to_list()\n",
    "before_sub.head()"
   ]
  },
  {
   "cell_type": "code",
   "execution_count": 46,
   "id": "c3151404",
   "metadata": {},
   "outputs": [
    {
     "data": {
      "text/html": [
       "<div>\n",
       "<style scoped>\n",
       "    .dataframe tbody tr th:only-of-type {\n",
       "        vertical-align: middle;\n",
       "    }\n",
       "\n",
       "    .dataframe tbody tr th {\n",
       "        vertical-align: top;\n",
       "    }\n",
       "\n",
       "    .dataframe thead th {\n",
       "        text-align: right;\n",
       "    }\n",
       "</style>\n",
       "<table border=\"1\" class=\"dataframe\">\n",
       "  <thead>\n",
       "    <tr style=\"text-align: right;\">\n",
       "      <th></th>\n",
       "      <th>일자</th>\n",
       "      <th>시간</th>\n",
       "      <th>구분</th>\n",
       "      <th>공급량</th>\n",
       "    </tr>\n",
       "  </thead>\n",
       "  <tbody>\n",
       "    <tr>\n",
       "      <th>0</th>\n",
       "      <td>2019-01-01</td>\n",
       "      <td>01</td>\n",
       "      <td>A</td>\n",
       "      <td>1986.488313</td>\n",
       "    </tr>\n",
       "    <tr>\n",
       "      <th>1</th>\n",
       "      <td>2019-01-01</td>\n",
       "      <td>02</td>\n",
       "      <td>A</td>\n",
       "      <td>1777.625538</td>\n",
       "    </tr>\n",
       "    <tr>\n",
       "      <th>2</th>\n",
       "      <td>2019-01-01</td>\n",
       "      <td>03</td>\n",
       "      <td>A</td>\n",
       "      <td>1710.387693</td>\n",
       "    </tr>\n",
       "    <tr>\n",
       "      <th>3</th>\n",
       "      <td>2019-01-01</td>\n",
       "      <td>04</td>\n",
       "      <td>A</td>\n",
       "      <td>1777.399099</td>\n",
       "    </tr>\n",
       "    <tr>\n",
       "      <th>4</th>\n",
       "      <td>2019-01-01</td>\n",
       "      <td>05</td>\n",
       "      <td>A</td>\n",
       "      <td>1936.957736</td>\n",
       "    </tr>\n",
       "  </tbody>\n",
       "</table>\n",
       "</div>"
      ],
      "text/plain": [
       "           일자  시간 구분          공급량\n",
       "0  2019-01-01  01  A  1986.488313\n",
       "1  2019-01-01  02  A  1777.625538\n",
       "2  2019-01-01  03  A  1710.387693\n",
       "3  2019-01-01  04  A  1777.399099\n",
       "4  2019-01-01  05  A  1936.957736"
      ]
     },
     "execution_count": 46,
     "metadata": {},
     "output_type": "execute_result"
    }
   ],
   "source": [
    "before_sub = before_sub.drop('일자|시간|구분', axis=1)\n",
    "before_sub = before_sub[['일자', '시간', '구분', '공급량']]\n",
    "before_sub.head()"
   ]
  },
  {
   "cell_type": "code",
   "execution_count": 47,
   "id": "5bd0b4c7",
   "metadata": {},
   "outputs": [
    {
     "data": {
      "text/html": [
       "<div>\n",
       "<style scoped>\n",
       "    .dataframe tbody tr th:only-of-type {\n",
       "        vertical-align: middle;\n",
       "    }\n",
       "\n",
       "    .dataframe tbody tr th {\n",
       "        vertical-align: top;\n",
       "    }\n",
       "\n",
       "    .dataframe thead th {\n",
       "        text-align: right;\n",
       "    }\n",
       "</style>\n",
       "<table border=\"1\" class=\"dataframe\">\n",
       "  <thead>\n",
       "    <tr style=\"text-align: right;\">\n",
       "      <th></th>\n",
       "      <th>일자</th>\n",
       "      <th>시간</th>\n",
       "      <th>구분</th>\n",
       "      <th>공급량</th>\n",
       "    </tr>\n",
       "  </thead>\n",
       "  <tbody>\n",
       "    <tr>\n",
       "      <th>0</th>\n",
       "      <td>2019-01-01</td>\n",
       "      <td>01</td>\n",
       "      <td>A</td>\n",
       "      <td>2066.196096</td>\n",
       "    </tr>\n",
       "    <tr>\n",
       "      <th>1</th>\n",
       "      <td>2019-01-01</td>\n",
       "      <td>02</td>\n",
       "      <td>A</td>\n",
       "      <td>1830.912959</td>\n",
       "    </tr>\n",
       "    <tr>\n",
       "      <th>2</th>\n",
       "      <td>2019-01-01</td>\n",
       "      <td>03</td>\n",
       "      <td>A</td>\n",
       "      <td>1757.392366</td>\n",
       "    </tr>\n",
       "    <tr>\n",
       "      <th>3</th>\n",
       "      <td>2019-01-01</td>\n",
       "      <td>04</td>\n",
       "      <td>A</td>\n",
       "      <td>1771.582285</td>\n",
       "    </tr>\n",
       "    <tr>\n",
       "      <th>4</th>\n",
       "      <td>2019-01-01</td>\n",
       "      <td>05</td>\n",
       "      <td>A</td>\n",
       "      <td>1992.175751</td>\n",
       "    </tr>\n",
       "  </tbody>\n",
       "</table>\n",
       "</div>"
      ],
      "text/plain": [
       "           일자  시간 구분          공급량\n",
       "0  2019-01-01  01  A  2066.196096\n",
       "1  2019-01-01  02  A  1830.912959\n",
       "2  2019-01-01  03  A  1757.392366\n",
       "3  2019-01-01  04  A  1771.582285\n",
       "4  2019-01-01  05  A  1992.175751"
      ]
     },
     "execution_count": 47,
     "metadata": {},
     "output_type": "execute_result"
    }
   ],
   "source": [
    "# 열 정리\n",
    "present_sub[['일자', '시간', '구분']] = present_sub['일자|시간|구분'].str.split(' ').to_list()\n",
    "present_sub = present_sub.drop('일자|시간|구분', axis=1)\n",
    "present_sub = present_sub[['일자', '시간', '구분', '공급량']]\n",
    "present_sub.head()"
   ]
  },
  {
   "cell_type": "code",
   "execution_count": 48,
   "id": "edadb56e",
   "metadata": {},
   "outputs": [
    {
     "name": "stdout",
     "output_type": "stream",
     "text": [
      "<class 'pandas.core.frame.DataFrame'>\n",
      "RangeIndex: 15120 entries, 0 to 15119\n",
      "Data columns (total 4 columns):\n",
      " #   Column  Non-Null Count  Dtype  \n",
      "---  ------  --------------  -----  \n",
      " 0   일자      15120 non-null  object \n",
      " 1   시간      15120 non-null  object \n",
      " 2   구분      15120 non-null  object \n",
      " 3   공급량     15120 non-null  float64\n",
      "dtypes: float64(1), object(3)\n",
      "memory usage: 472.6+ KB\n"
     ]
    }
   ],
   "source": [
    "before_sub.info()"
   ]
  },
  {
   "cell_type": "code",
   "execution_count": 49,
   "id": "0d1655fa",
   "metadata": {},
   "outputs": [
    {
     "name": "stdout",
     "output_type": "stream",
     "text": [
      "<class 'pandas.core.frame.DataFrame'>\n",
      "RangeIndex: 15120 entries, 0 to 15119\n",
      "Data columns (total 4 columns):\n",
      " #   Column  Non-Null Count  Dtype  \n",
      "---  ------  --------------  -----  \n",
      " 0   일자      15120 non-null  object \n",
      " 1   시간      15120 non-null  object \n",
      " 2   구분      15120 non-null  object \n",
      " 3   공급량     15120 non-null  float64\n",
      "dtypes: float64(1), object(3)\n",
      "memory usage: 472.6+ KB\n"
     ]
    }
   ],
   "source": [
    "present_sub.info()"
   ]
  },
  {
   "cell_type": "code",
   "execution_count": 50,
   "id": "d5de008d",
   "metadata": {},
   "outputs": [
    {
     "data": {
      "text/plain": [
       "array(['A', 'B', 'C', 'D', 'E', 'G', 'H'], dtype=object)"
      ]
     },
     "execution_count": 50,
     "metadata": {},
     "output_type": "execute_result"
    }
   ],
   "source": [
    "present_sub['구분'].unique()"
   ]
  },
  {
   "cell_type": "code",
   "execution_count": 51,
   "id": "46375ecd",
   "metadata": {},
   "outputs": [
    {
     "name": "stdout",
     "output_type": "stream",
     "text": [
      "   평가지표      평가지표_평균\n",
      "0   MSE  2190.054139\n",
      "1  RMSE    40.387064\n",
      "2   MAE    32.224002\n",
      "3    R2     0.985171\n",
      "4  NMAE     0.022305\n"
     ]
    }
   ],
   "source": [
    "eval_set = pd.DataFrame(['MSE','RMSE','MAE', 'R2','NMAE'], columns=['평가지표'])\n",
    "for division in present_sub['구분'].unique():\n",
    "    temp_before_sub = before_sub[before_sub['구분'] == division]\n",
    "    temp_present_sub = present_sub[present_sub['구분'] == division]\n",
    "\n",
    "    # 전 제출 값 = 실제값 취급\n",
    "    # 현제 제출 값 = 예측값\n",
    "    y = temp_before_sub['공급량']\n",
    "    pred = temp_present_sub['공급량']\n",
    "    y_mean = y.mean()\n",
    "\n",
    "    # MSE\n",
    "    mse = ( ( y - pred) ** 2 ).sum() / len(pred)\n",
    "        \n",
    "    # RMSE\n",
    "    rmse = mse ** (1/2)\n",
    "    \n",
    "    # MAE\n",
    "    mae = ( abs( y - pred ) ).sum() / len(pred)\n",
    "    \n",
    "    # R2\n",
    "    upper = ( (y - pred) ** 2 ).sum()\n",
    "    lower = ( (y - y_mean) ** 2 ).sum()\n",
    "    if lower == 0:\n",
    "        fraction = 0\n",
    "    else:\n",
    "        fraction = upper / lower\n",
    "    r2 = 1 - fraction\n",
    "    \n",
    "    #NMAE(Normalized Mean Absolute Error)-정규화 평균 절대 오차 척도\n",
    "    nmae = ( abs( y - pred ) / y ).sum() / len(pred)\n",
    "    \n",
    "    # 평가지표 리스트\n",
    "    one_eval_set = [mse, rmse, mae, r2, nmae]\n",
    "    \n",
    "    # 평가지표 셋에 담기\n",
    "    eval_set[division] = one_eval_set\n",
    "\n",
    "# 평가지표 평균 구하기\n",
    "eval_set['평가지표_평균'] = eval_set.mean(axis=1)\n",
    "\n",
    "# 평가지표 평균 출력\n",
    "print(eval_set[['평가지표', '평가지표_평균']])"
   ]
  },
  {
   "cell_type": "code",
   "execution_count": 52,
   "id": "71535856",
   "metadata": {},
   "outputs": [
    {
     "data": {
      "text/html": [
       "<div>\n",
       "<style scoped>\n",
       "    .dataframe tbody tr th:only-of-type {\n",
       "        vertical-align: middle;\n",
       "    }\n",
       "\n",
       "    .dataframe tbody tr th {\n",
       "        vertical-align: top;\n",
       "    }\n",
       "\n",
       "    .dataframe thead th {\n",
       "        text-align: right;\n",
       "    }\n",
       "</style>\n",
       "<table border=\"1\" class=\"dataframe\">\n",
       "  <thead>\n",
       "    <tr style=\"text-align: right;\">\n",
       "      <th></th>\n",
       "      <th>평가지표</th>\n",
       "      <th>A</th>\n",
       "      <th>B</th>\n",
       "      <th>C</th>\n",
       "      <th>D</th>\n",
       "      <th>E</th>\n",
       "      <th>G</th>\n",
       "      <th>H</th>\n",
       "      <th>평가지표_평균</th>\n",
       "    </tr>\n",
       "  </thead>\n",
       "  <tbody>\n",
       "    <tr>\n",
       "      <th>0</th>\n",
       "      <td>MSE</td>\n",
       "      <td>3026.851511</td>\n",
       "      <td>1658.510802</td>\n",
       "      <td>33.138067</td>\n",
       "      <td>1234.066896</td>\n",
       "      <td>3771.750348</td>\n",
       "      <td>5494.986871</td>\n",
       "      <td>111.074476</td>\n",
       "      <td>2190.054139</td>\n",
       "    </tr>\n",
       "    <tr>\n",
       "      <th>1</th>\n",
       "      <td>RMSE</td>\n",
       "      <td>55.016829</td>\n",
       "      <td>40.724818</td>\n",
       "      <td>5.756567</td>\n",
       "      <td>35.129288</td>\n",
       "      <td>61.414578</td>\n",
       "      <td>74.128179</td>\n",
       "      <td>10.539188</td>\n",
       "      <td>40.387064</td>\n",
       "    </tr>\n",
       "    <tr>\n",
       "      <th>2</th>\n",
       "      <td>MAE</td>\n",
       "      <td>43.452089</td>\n",
       "      <td>32.719819</td>\n",
       "      <td>4.488172</td>\n",
       "      <td>27.922885</td>\n",
       "      <td>49.488741</td>\n",
       "      <td>59.121603</td>\n",
       "      <td>8.374707</td>\n",
       "      <td>32.224002</td>\n",
       "    </tr>\n",
       "    <tr>\n",
       "      <th>3</th>\n",
       "      <td>R2</td>\n",
       "      <td>0.986514</td>\n",
       "      <td>0.991228</td>\n",
       "      <td>0.968960</td>\n",
       "      <td>0.983622</td>\n",
       "      <td>0.989088</td>\n",
       "      <td>0.986463</td>\n",
       "      <td>0.990322</td>\n",
       "      <td>0.985171</td>\n",
       "    </tr>\n",
       "    <tr>\n",
       "      <th>4</th>\n",
       "      <td>NMAE</td>\n",
       "      <td>0.022617</td>\n",
       "      <td>0.020674</td>\n",
       "      <td>0.025357</td>\n",
       "      <td>0.025959</td>\n",
       "      <td>0.021699</td>\n",
       "      <td>0.019575</td>\n",
       "      <td>0.020256</td>\n",
       "      <td>0.022305</td>\n",
       "    </tr>\n",
       "  </tbody>\n",
       "</table>\n",
       "</div>"
      ],
      "text/plain": [
       "   평가지표            A            B          C            D            E  \\\n",
       "0   MSE  3026.851511  1658.510802  33.138067  1234.066896  3771.750348   \n",
       "1  RMSE    55.016829    40.724818   5.756567    35.129288    61.414578   \n",
       "2   MAE    43.452089    32.719819   4.488172    27.922885    49.488741   \n",
       "3    R2     0.986514     0.991228   0.968960     0.983622     0.989088   \n",
       "4  NMAE     0.022617     0.020674   0.025357     0.025959     0.021699   \n",
       "\n",
       "             G           H      평가지표_평균  \n",
       "0  5494.986871  111.074476  2190.054139  \n",
       "1    74.128179   10.539188    40.387064  \n",
       "2    59.121603    8.374707    32.224002  \n",
       "3     0.986463    0.990322     0.985171  \n",
       "4     0.019575    0.020256     0.022305  "
      ]
     },
     "execution_count": 52,
     "metadata": {},
     "output_type": "execute_result"
    }
   ],
   "source": [
    "eval_set"
   ]
  },
  {
   "cell_type": "markdown",
   "id": "69395ec2",
   "metadata": {},
   "source": [
    "### 평가 지표 함수화"
   ]
  },
  {
   "cell_type": "code",
   "execution_count": 53,
   "id": "85d7da06",
   "metadata": {},
   "outputs": [],
   "source": [
    "def evaluation_index(before_sub, present_sub):\n",
    "    eval_set = pd.DataFrame(['MSE','RMSE', 'MAE', 'R2','NMAE'], columns=['평가지표'])\n",
    "    for division in tqdm(present_sub['구분'].unique()):\n",
    "        temp_before_sub = before_sub[before_sub['구분'] == division]\n",
    "        temp_present_sub = present_sub[present_sub['구분'] == division]\n",
    "\n",
    "        # 전 제출 값 = 실제값 취급\n",
    "        # 현제 제출 값 = 예측값\n",
    "        y = temp_before_sub['공급량']\n",
    "        pred = temp_present_sub['공급량']\n",
    "        y_mean = y.mean()\n",
    "\n",
    "        # MSE\n",
    "        mse = ( ( y - pred) ** 2 ).sum() / len(pred)\n",
    "            \n",
    "        # RMSE\n",
    "        rmse = mse ** (1/2)\n",
    "        \n",
    "        # MAE\n",
    "        mae = ( abs( y - pred ) ).sum() / len(pred)\n",
    "        \n",
    "        # R2\n",
    "        upper = ( (y - pred) ** 2 ).sum()\n",
    "        lower = ( (y - y_mean) ** 2 ).sum()\n",
    "        if lower == 0:\n",
    "            fraction = 0\n",
    "        else:\n",
    "            fraction = upper / lower\n",
    "        r2 = 1 - fraction\n",
    "        \n",
    "        #NMAE(Normalized Mean Absolute Error)-정규화 평균 절대 오차 척도\n",
    "        nmae = ( abs( y - pred ) / y ).sum() / len(pred)\n",
    "        \n",
    "        # 평가지표 리스트\n",
    "        one_eval_set = [mse, rmse, mae, r2, nmae]\n",
    "        \n",
    "        # 평가지표 셋에 담기\n",
    "        eval_set[division] = one_eval_set\n",
    "\n",
    "    # 평가지표 평균 구하기\n",
    "    eval_set['평가지표_평균'] = eval_set.mean(axis=1)\n",
    "\n",
    "    # 평가지표 평균 출력\n",
    "    print(eval_set[['평가지표', '평가지표_평균']])\n",
    "    \n",
    "    return eval_set"
   ]
  },
  {
   "cell_type": "code",
   "execution_count": 54,
   "id": "a765184c",
   "metadata": {},
   "outputs": [
    {
     "name": "stderr",
     "output_type": "stream",
     "text": [
      "100%|██████████| 7/7 [00:00<00:00, 143.25it/s]"
     ]
    },
    {
     "name": "stdout",
     "output_type": "stream",
     "text": [
      "   평가지표      평가지표_평균\n",
      "0   MSE  2190.054139\n",
      "1  RMSE    40.387064\n",
      "2   MAE    32.224002\n",
      "3    R2     0.985171\n",
      "4  NMAE     0.022305\n"
     ]
    },
    {
     "name": "stderr",
     "output_type": "stream",
     "text": [
      "\n"
     ]
    }
   ],
   "source": [
    "set = evaluation_index(before_sub, present_sub)"
   ]
  },
  {
   "cell_type": "code",
   "execution_count": 55,
   "id": "16570e06",
   "metadata": {},
   "outputs": [
    {
     "data": {
      "text/html": [
       "<div>\n",
       "<style scoped>\n",
       "    .dataframe tbody tr th:only-of-type {\n",
       "        vertical-align: middle;\n",
       "    }\n",
       "\n",
       "    .dataframe tbody tr th {\n",
       "        vertical-align: top;\n",
       "    }\n",
       "\n",
       "    .dataframe thead th {\n",
       "        text-align: right;\n",
       "    }\n",
       "</style>\n",
       "<table border=\"1\" class=\"dataframe\">\n",
       "  <thead>\n",
       "    <tr style=\"text-align: right;\">\n",
       "      <th></th>\n",
       "      <th>평가지표</th>\n",
       "      <th>A</th>\n",
       "      <th>B</th>\n",
       "      <th>C</th>\n",
       "      <th>D</th>\n",
       "      <th>E</th>\n",
       "      <th>G</th>\n",
       "      <th>H</th>\n",
       "      <th>평가지표_평균</th>\n",
       "    </tr>\n",
       "  </thead>\n",
       "  <tbody>\n",
       "    <tr>\n",
       "      <th>0</th>\n",
       "      <td>MSE</td>\n",
       "      <td>3026.851511</td>\n",
       "      <td>1658.510802</td>\n",
       "      <td>33.138067</td>\n",
       "      <td>1234.066896</td>\n",
       "      <td>3771.750348</td>\n",
       "      <td>5494.986871</td>\n",
       "      <td>111.074476</td>\n",
       "      <td>2190.054139</td>\n",
       "    </tr>\n",
       "    <tr>\n",
       "      <th>1</th>\n",
       "      <td>RMSE</td>\n",
       "      <td>55.016829</td>\n",
       "      <td>40.724818</td>\n",
       "      <td>5.756567</td>\n",
       "      <td>35.129288</td>\n",
       "      <td>61.414578</td>\n",
       "      <td>74.128179</td>\n",
       "      <td>10.539188</td>\n",
       "      <td>40.387064</td>\n",
       "    </tr>\n",
       "    <tr>\n",
       "      <th>2</th>\n",
       "      <td>MAE</td>\n",
       "      <td>43.452089</td>\n",
       "      <td>32.719819</td>\n",
       "      <td>4.488172</td>\n",
       "      <td>27.922885</td>\n",
       "      <td>49.488741</td>\n",
       "      <td>59.121603</td>\n",
       "      <td>8.374707</td>\n",
       "      <td>32.224002</td>\n",
       "    </tr>\n",
       "    <tr>\n",
       "      <th>3</th>\n",
       "      <td>R2</td>\n",
       "      <td>0.986514</td>\n",
       "      <td>0.991228</td>\n",
       "      <td>0.968960</td>\n",
       "      <td>0.983622</td>\n",
       "      <td>0.989088</td>\n",
       "      <td>0.986463</td>\n",
       "      <td>0.990322</td>\n",
       "      <td>0.985171</td>\n",
       "    </tr>\n",
       "    <tr>\n",
       "      <th>4</th>\n",
       "      <td>NMAE</td>\n",
       "      <td>0.022617</td>\n",
       "      <td>0.020674</td>\n",
       "      <td>0.025357</td>\n",
       "      <td>0.025959</td>\n",
       "      <td>0.021699</td>\n",
       "      <td>0.019575</td>\n",
       "      <td>0.020256</td>\n",
       "      <td>0.022305</td>\n",
       "    </tr>\n",
       "  </tbody>\n",
       "</table>\n",
       "</div>"
      ],
      "text/plain": [
       "   평가지표            A            B          C            D            E  \\\n",
       "0   MSE  3026.851511  1658.510802  33.138067  1234.066896  3771.750348   \n",
       "1  RMSE    55.016829    40.724818   5.756567    35.129288    61.414578   \n",
       "2   MAE    43.452089    32.719819   4.488172    27.922885    49.488741   \n",
       "3    R2     0.986514     0.991228   0.968960     0.983622     0.989088   \n",
       "4  NMAE     0.022617     0.020674   0.025357     0.025959     0.021699   \n",
       "\n",
       "             G           H      평가지표_평균  \n",
       "0  5494.986871  111.074476  2190.054139  \n",
       "1    74.128179   10.539188    40.387064  \n",
       "2    59.121603    8.374707    32.224002  \n",
       "3     0.986463    0.990322     0.985171  \n",
       "4     0.019575    0.020256     0.022305  "
      ]
     },
     "execution_count": 55,
     "metadata": {},
     "output_type": "execute_result"
    }
   ],
   "source": [
    "set"
   ]
  },
  {
   "cell_type": "code",
   "execution_count": null,
   "id": "c071f538",
   "metadata": {},
   "outputs": [],
   "source": []
  }
 ],
 "metadata": {
  "kernelspec": {
   "display_name": "Python 3",
   "language": "python",
   "name": "python3"
  },
  "language_info": {
   "codemirror_mode": {
    "name": "ipython",
    "version": 3
   },
   "file_extension": ".py",
   "mimetype": "text/x-python",
   "name": "python",
   "nbconvert_exporter": "python",
   "pygments_lexer": "ipython3",
   "version": "3.8.8"
  }
 },
 "nbformat": 4,
 "nbformat_minor": 5
}
