{
 "cells": [
  {
   "cell_type": "code",
   "execution_count": 1,
   "id": "628ef57b",
   "metadata": {},
   "outputs": [],
   "source": [
    "import pandas as pd"
   ]
  },
  {
   "cell_type": "code",
   "execution_count": 2,
   "id": "c65f3d05",
   "metadata": {},
   "outputs": [],
   "source": [
    "from sklearn.model_selection import train_test_split\n",
    "from sklearn.preprocessing import MinMaxScaler, StandardScaler\n",
    "from sklearn.linear_model import LinearRegression\n",
    "from sklearn.model_selection import cross_val_score, KFold"
   ]
  },
  {
   "cell_type": "code",
   "execution_count": 3,
   "id": "074ef3b4",
   "metadata": {},
   "outputs": [
    {
     "data": {
      "text/html": [
       "<div>\n",
       "<style scoped>\n",
       "    .dataframe tbody tr th:only-of-type {\n",
       "        vertical-align: middle;\n",
       "    }\n",
       "\n",
       "    .dataframe tbody tr th {\n",
       "        vertical-align: top;\n",
       "    }\n",
       "\n",
       "    .dataframe thead th {\n",
       "        text-align: right;\n",
       "    }\n",
       "</style>\n",
       "<table border=\"1\" class=\"dataframe\">\n",
       "  <thead>\n",
       "    <tr style=\"text-align: right;\">\n",
       "      <th></th>\n",
       "      <th>Unnamed: 0</th>\n",
       "      <th>Unnamed: 0.1</th>\n",
       "      <th>연월일</th>\n",
       "      <th>시간</th>\n",
       "      <th>구분</th>\n",
       "      <th>공급량</th>\n",
       "      <th>year</th>\n",
       "      <th>month</th>\n",
       "      <th>day</th>\n",
       "      <th>weekday</th>\n",
       "      <th>기온</th>\n",
       "    </tr>\n",
       "  </thead>\n",
       "  <tbody>\n",
       "    <tr>\n",
       "      <th>0</th>\n",
       "      <td>0</td>\n",
       "      <td>0</td>\n",
       "      <td>2013-01-01</td>\n",
       "      <td>1</td>\n",
       "      <td>0</td>\n",
       "      <td>2497.129</td>\n",
       "      <td>2013</td>\n",
       "      <td>1</td>\n",
       "      <td>1</td>\n",
       "      <td>1</td>\n",
       "      <td>-6.4</td>\n",
       "    </tr>\n",
       "    <tr>\n",
       "      <th>1</th>\n",
       "      <td>1</td>\n",
       "      <td>1</td>\n",
       "      <td>2013-01-01</td>\n",
       "      <td>1</td>\n",
       "      <td>1</td>\n",
       "      <td>2169.093</td>\n",
       "      <td>2013</td>\n",
       "      <td>1</td>\n",
       "      <td>1</td>\n",
       "      <td>1</td>\n",
       "      <td>-6.4</td>\n",
       "    </tr>\n",
       "    <tr>\n",
       "      <th>2</th>\n",
       "      <td>2</td>\n",
       "      <td>2</td>\n",
       "      <td>2013-01-01</td>\n",
       "      <td>1</td>\n",
       "      <td>2</td>\n",
       "      <td>226.178</td>\n",
       "      <td>2013</td>\n",
       "      <td>1</td>\n",
       "      <td>1</td>\n",
       "      <td>1</td>\n",
       "      <td>-6.4</td>\n",
       "    </tr>\n",
       "    <tr>\n",
       "      <th>3</th>\n",
       "      <td>3</td>\n",
       "      <td>3</td>\n",
       "      <td>2013-01-01</td>\n",
       "      <td>1</td>\n",
       "      <td>3</td>\n",
       "      <td>1434.516</td>\n",
       "      <td>2013</td>\n",
       "      <td>1</td>\n",
       "      <td>1</td>\n",
       "      <td>1</td>\n",
       "      <td>-6.4</td>\n",
       "    </tr>\n",
       "    <tr>\n",
       "      <th>4</th>\n",
       "      <td>4</td>\n",
       "      <td>4</td>\n",
       "      <td>2013-01-01</td>\n",
       "      <td>1</td>\n",
       "      <td>4</td>\n",
       "      <td>3272.837</td>\n",
       "      <td>2013</td>\n",
       "      <td>1</td>\n",
       "      <td>1</td>\n",
       "      <td>1</td>\n",
       "      <td>-6.4</td>\n",
       "    </tr>\n",
       "  </tbody>\n",
       "</table>\n",
       "</div>"
      ],
      "text/plain": [
       "   Unnamed: 0  Unnamed: 0.1         연월일  시간  구분       공급량  year  month  day  \\\n",
       "0           0             0  2013-01-01   1   0  2497.129  2013      1    1   \n",
       "1           1             1  2013-01-01   1   1  2169.093  2013      1    1   \n",
       "2           2             2  2013-01-01   1   2   226.178  2013      1    1   \n",
       "3           3             3  2013-01-01   1   3  1434.516  2013      1    1   \n",
       "4           4             4  2013-01-01   1   4  3272.837  2013      1    1   \n",
       "\n",
       "   weekday   기온  \n",
       "0        1 -6.4  \n",
       "1        1 -6.4  \n",
       "2        1 -6.4  \n",
       "3        1 -6.4  \n",
       "4        1 -6.4  "
      ]
     },
     "execution_count": 3,
     "metadata": {},
     "output_type": "execute_result"
    }
   ],
   "source": [
    "df = pd.read_csv('2013-2018년_가스공급량과_기온2.csv')\n",
    "df.head()"
   ]
  },
  {
   "cell_type": "code",
   "execution_count": 4,
   "id": "56f71f3b",
   "metadata": {},
   "outputs": [],
   "source": [
    "# col 선택 : year, month, day, 시간, 구분, 기온\n",
    "# 타겟 : 공급량"
   ]
  },
  {
   "cell_type": "markdown",
   "id": "ed629800",
   "metadata": {},
   "source": [
    "# 데이터 확인 "
   ]
  },
  {
   "cell_type": "code",
   "execution_count": 5,
   "id": "3a2c1f9f",
   "metadata": {
    "scrolled": true
   },
   "outputs": [
    {
     "data": {
      "text/html": [
       "<div>\n",
       "<style scoped>\n",
       "    .dataframe tbody tr th:only-of-type {\n",
       "        vertical-align: middle;\n",
       "    }\n",
       "\n",
       "    .dataframe tbody tr th {\n",
       "        vertical-align: top;\n",
       "    }\n",
       "\n",
       "    .dataframe thead th {\n",
       "        text-align: right;\n",
       "    }\n",
       "</style>\n",
       "<table border=\"1\" class=\"dataframe\">\n",
       "  <thead>\n",
       "    <tr style=\"text-align: right;\">\n",
       "      <th></th>\n",
       "      <th>year</th>\n",
       "      <th>month</th>\n",
       "      <th>day</th>\n",
       "      <th>시간</th>\n",
       "      <th>기온</th>\n",
       "      <th>구분</th>\n",
       "      <th>공급량</th>\n",
       "    </tr>\n",
       "  </thead>\n",
       "  <tbody>\n",
       "    <tr>\n",
       "      <th>0</th>\n",
       "      <td>2013</td>\n",
       "      <td>1</td>\n",
       "      <td>1</td>\n",
       "      <td>1</td>\n",
       "      <td>-6.4</td>\n",
       "      <td>0</td>\n",
       "      <td>2497.129</td>\n",
       "    </tr>\n",
       "    <tr>\n",
       "      <th>1</th>\n",
       "      <td>2013</td>\n",
       "      <td>1</td>\n",
       "      <td>1</td>\n",
       "      <td>1</td>\n",
       "      <td>-6.4</td>\n",
       "      <td>1</td>\n",
       "      <td>2169.093</td>\n",
       "    </tr>\n",
       "    <tr>\n",
       "      <th>2</th>\n",
       "      <td>2013</td>\n",
       "      <td>1</td>\n",
       "      <td>1</td>\n",
       "      <td>1</td>\n",
       "      <td>-6.4</td>\n",
       "      <td>2</td>\n",
       "      <td>226.178</td>\n",
       "    </tr>\n",
       "    <tr>\n",
       "      <th>3</th>\n",
       "      <td>2013</td>\n",
       "      <td>1</td>\n",
       "      <td>1</td>\n",
       "      <td>1</td>\n",
       "      <td>-6.4</td>\n",
       "      <td>3</td>\n",
       "      <td>1434.516</td>\n",
       "    </tr>\n",
       "    <tr>\n",
       "      <th>4</th>\n",
       "      <td>2013</td>\n",
       "      <td>1</td>\n",
       "      <td>1</td>\n",
       "      <td>1</td>\n",
       "      <td>-6.4</td>\n",
       "      <td>4</td>\n",
       "      <td>3272.837</td>\n",
       "    </tr>\n",
       "  </tbody>\n",
       "</table>\n",
       "</div>"
      ],
      "text/plain": [
       "   year  month  day  시간   기온  구분       공급량\n",
       "0  2013      1    1   1 -6.4   0  2497.129\n",
       "1  2013      1    1   1 -6.4   1  2169.093\n",
       "2  2013      1    1   1 -6.4   2   226.178\n",
       "3  2013      1    1   1 -6.4   3  1434.516\n",
       "4  2013      1    1   1 -6.4   4  3272.837"
      ]
     },
     "execution_count": 5,
     "metadata": {},
     "output_type": "execute_result"
    }
   ],
   "source": [
    "col = ['year', 'month', 'day', '시간', '기온', '구분', '공급량']\n",
    "df_col = df[col]\n",
    "df_col.head()"
   ]
  },
  {
   "cell_type": "markdown",
   "id": "9882e802",
   "metadata": {},
   "source": [
    "# 모델 평가"
   ]
  },
  {
   "cell_type": "code",
   "execution_count": 6,
   "id": "d01bcabf",
   "metadata": {},
   "outputs": [],
   "source": [
    "col = ['month', '구분', '시간']\n",
    "X = df[col]\n",
    "y = df['공급량']"
   ]
  },
  {
   "cell_type": "markdown",
   "id": "d4cf9b5c",
   "metadata": {},
   "source": [
    "### 데이터 분할"
   ]
  },
  {
   "cell_type": "code",
   "execution_count": 7,
   "id": "1a0ae7f7",
   "metadata": {},
   "outputs": [
    {
     "data": {
      "text/plain": [
       "((276066, 3), (92022, 3), (276066,), (92022,))"
      ]
     },
     "execution_count": 7,
     "metadata": {},
     "output_type": "execute_result"
    }
   ],
   "source": [
    "X_train, X_test, y_train, y_test = train_test_split(X, y, random_state=0)\n",
    "X_train.shape, X_test.shape, y_train.shape, y_test.shape"
   ]
  },
  {
   "cell_type": "markdown",
   "id": "c4114cde",
   "metadata": {},
   "source": [
    "### 선형회귀 모델 구축"
   ]
  },
  {
   "cell_type": "code",
   "execution_count": 8,
   "id": "f08669d3",
   "metadata": {},
   "outputs": [
    {
     "data": {
      "text/plain": [
       "LinearRegression()"
      ]
     },
     "execution_count": 8,
     "metadata": {},
     "output_type": "execute_result"
    }
   ],
   "source": [
    "model = LinearRegression()\n",
    "model.fit(X_train, y_train)"
   ]
  },
  {
   "cell_type": "markdown",
   "id": "08b10d3d",
   "metadata": {},
   "source": [
    "### 교차 검증"
   ]
  },
  {
   "cell_type": "code",
   "execution_count": 9,
   "id": "83f23c43",
   "metadata": {},
   "outputs": [
    {
     "name": "stdout",
     "output_type": "stream",
     "text": [
      "훈련 결정계수 = 0.03674484183915494\n",
      "테스트 결정계수 = 0.03766013631444798\n",
      "결정계수 평균 = 0.037429753622295704\n"
     ]
    }
   ],
   "source": [
    "kfold = KFold(shuffle=True)\n",
    "scores = cross_val_score(model, X_test, y_test, cv=kfold, scoring='r2')\n",
    "\n",
    "print(f\"훈련 결정계수 = {model.score(X_train, y_train)}\")\n",
    "print(f\"테스트 결정계수 = {model.score(X_test, y_test)}\")\n",
    "print(f\"결정계수 평균 = {scores.mean()}\")"
   ]
  },
  {
   "cell_type": "markdown",
   "id": "509a6c79",
   "metadata": {},
   "source": [
    "### Lasso 모델 구축 및 평가"
   ]
  },
  {
   "cell_type": "code",
   "execution_count": 10,
   "id": "c6b4de4e",
   "metadata": {},
   "outputs": [],
   "source": [
    "from sklearn.linear_model import Lasso"
   ]
  },
  {
   "cell_type": "code",
   "execution_count": 11,
   "id": "fff38d3f",
   "metadata": {},
   "outputs": [
    {
     "name": "stdout",
     "output_type": "stream",
     "text": [
      "훈련 결정계수 = 0.036744841797822225\n",
      "테스트 결정계수 = 0.037660096922887965\n",
      "결정계수 평균 = 0.03758034031209308\n"
     ]
    }
   ],
   "source": [
    "lasso = Lasso(alpha=0.01, random_state=0)\n",
    "lasso.fit(X_train, y_train)\n",
    "\n",
    "kfold = KFold(shuffle=True)\n",
    "scores = cross_val_score(lasso, X_test, y_test, cv=kfold, scoring='r2')\n",
    "\n",
    "print(f\"훈련 결정계수 = {lasso.score(X_train, y_train)}\")\n",
    "print(f\"테스트 결정계수 = {lasso.score(X_test, y_test)}\")\n",
    "print(f\"결정계수 평균 = {scores.mean()}\")"
   ]
  },
  {
   "cell_type": "markdown",
   "id": "3ce04b77",
   "metadata": {},
   "source": [
    "### Ridge 모델 구축 및 평가"
   ]
  },
  {
   "cell_type": "code",
   "execution_count": 12,
   "id": "18d02f9c",
   "metadata": {},
   "outputs": [],
   "source": [
    "from sklearn.linear_model import Ridge"
   ]
  },
  {
   "cell_type": "code",
   "execution_count": 13,
   "id": "1a3eb7e2",
   "metadata": {},
   "outputs": [
    {
     "name": "stdout",
     "output_type": "stream",
     "text": [
      "훈련 결정계수 = 0.03674484183915494\n",
      "테스트 결정계수 = 0.03766013630974652\n",
      "결정계수 평균 = 0.03758092041837313\n"
     ]
    }
   ],
   "source": [
    "ridge = Ridge(alpha=0.01, random_state=0)\n",
    "ridge.fit(X_train, y_train)\n",
    "\n",
    "kfold = KFold(shuffle=True)\n",
    "scores = cross_val_score(ridge, X_test, y_test, cv=kfold, scoring='r2')\n",
    "\n",
    "print(f\"훈련 결정계수 = {ridge.score(X_train, y_train)}\")\n",
    "print(f\"테스트 결정계수 = {ridge.score(X_test, y_test)}\")\n",
    "print(f\"결정계수 평균 = {scores.mean()}\")"
   ]
  },
  {
   "cell_type": "markdown",
   "id": "a7541965",
   "metadata": {},
   "source": [
    "# 기온 데이터 포함 모델 평가"
   ]
  },
  {
   "cell_type": "markdown",
   "id": "9789b755",
   "metadata": {},
   "source": [
    "### 데이터 정규화, 표준화"
   ]
  },
  {
   "cell_type": "code",
   "execution_count": 14,
   "id": "7223251c",
   "metadata": {},
   "outputs": [],
   "source": [
    "### 정규화, 표준화\n",
    "col = ['month', '시간', '구분', '기온']\n",
    "X = df[col]\n",
    "y = df['공급량']\n",
    "\n",
    "# 정규화\n",
    "mmscaler = MinMaxScaler()\n",
    "m_X = mmscaler.fit_transform(X)\n",
    "# 표준화\n",
    "sscaler = StandardScaler()\n",
    "s_m_X = sscaler.fit_transform(m_X)"
   ]
  },
  {
   "cell_type": "markdown",
   "id": "df5497e9",
   "metadata": {},
   "source": [
    "### 데이터 분할"
   ]
  },
  {
   "cell_type": "code",
   "execution_count": 15,
   "id": "401e34ea",
   "metadata": {
    "scrolled": true
   },
   "outputs": [
    {
     "data": {
      "text/plain": [
       "((276066, 4), (92022, 4), (276066,), (92022,))"
      ]
     },
     "execution_count": 15,
     "metadata": {},
     "output_type": "execute_result"
    }
   ],
   "source": [
    "X_train, X_test, y_train, y_test = train_test_split(s_m_X, y, random_state=0)\n",
    "X_train.shape, X_test.shape, y_train.shape, y_test.shape"
   ]
  },
  {
   "cell_type": "code",
   "execution_count": 16,
   "id": "ae975597",
   "metadata": {},
   "outputs": [
    {
     "data": {
      "text/plain": [
       "array([[ 1.00800907, -0.79454663, -1.5       , -0.44903736],\n",
       "       [-0.73191835,  0.07223151,  1.5       ,  0.35597757],\n",
       "       [ 0.13804536,  1.2279357 , -1.5       ,  1.02682335],\n",
       "       [ 0.13804536,  0.79454663, -0.5       ,  1.11307495],\n",
       "       [-0.73191835,  1.37239873, -0.5       , -0.32445172],\n",
       "       [-0.73191835,  0.79454663, -1.5       , -0.51612194],\n",
       "       [ 0.13804536, -0.50562058,  0.5       ,  1.03640686],\n",
       "       [ 1.58798488,  0.65008361,  0.        , -0.8323778 ],\n",
       "       [-1.02190626, -1.37239873,  1.5       , -1.18696772],\n",
       "       [ 1.00800907, -1.2279357 ,  1.        ,  0.10680628]])"
      ]
     },
     "execution_count": 16,
     "metadata": {},
     "output_type": "execute_result"
    }
   ],
   "source": [
    "X_train[:10]"
   ]
  },
  {
   "cell_type": "markdown",
   "id": "a95a5500",
   "metadata": {},
   "source": [
    "### 선형회귀 모델 구축"
   ]
  },
  {
   "cell_type": "code",
   "execution_count": 17,
   "id": "a1db4eb9",
   "metadata": {},
   "outputs": [
    {
     "data": {
      "text/plain": [
       "LinearRegression()"
      ]
     },
     "execution_count": 17,
     "metadata": {},
     "output_type": "execute_result"
    }
   ],
   "source": [
    "model = LinearRegression()\n",
    "model.fit(X_train, y_train)"
   ]
  },
  {
   "cell_type": "markdown",
   "id": "f642352a",
   "metadata": {},
   "source": [
    "### 교차 검증"
   ]
  },
  {
   "cell_type": "code",
   "execution_count": 18,
   "id": "d61a69d2",
   "metadata": {},
   "outputs": [
    {
     "name": "stdout",
     "output_type": "stream",
     "text": [
      "훈련 결정계수 = 0.26871582014508144\n",
      "테스트 결정계수 = 0.2669328616443105\n",
      "결정계수 평균 = 0.2667243233333138\n"
     ]
    }
   ],
   "source": [
    "kfold = KFold(shuffle=True)\n",
    "scores = cross_val_score(model, X_test, y_test, cv=kfold, scoring='r2')\n",
    "\n",
    "print(f\"훈련 결정계수 = {model.score(X_train, y_train)}\")\n",
    "print(f\"테스트 결정계수 = {model.score(X_test, y_test)}\")\n",
    "print(f\"결정계수 평균 = {scores.mean()}\")"
   ]
  },
  {
   "cell_type": "markdown",
   "id": "e4f59c97",
   "metadata": {},
   "source": [
    "### Lasso 모델 구축 및 평가"
   ]
  },
  {
   "cell_type": "code",
   "execution_count": 19,
   "id": "98e4dbbc",
   "metadata": {},
   "outputs": [
    {
     "name": "stdout",
     "output_type": "stream",
     "text": [
      "훈련 결정계수 = 0.26871581969393865\n",
      "테스트 결정계수 = 0.26693281459126084\n",
      "결정계수 평균 = 0.2665266806476183\n"
     ]
    }
   ],
   "source": [
    "lasso = Lasso(alpha=0.01, random_state=0)\n",
    "lasso.fit(X_train, y_train)\n",
    "\n",
    "kfold = KFold(shuffle=True)\n",
    "scores = cross_val_score(lasso, X_test, y_test, cv=kfold, scoring='r2')\n",
    "\n",
    "print(f\"훈련 결정계수 = {lasso.score(X_train, y_train)}\")\n",
    "print(f\"테스트 결정계수 = {lasso.score(X_test, y_test)}\")\n",
    "print(f\"결정계수 평균 = {scores.mean()}\")"
   ]
  },
  {
   "cell_type": "markdown",
   "id": "c24af4d1",
   "metadata": {},
   "source": [
    "### Ridge 모델 구축 및 평가"
   ]
  },
  {
   "cell_type": "code",
   "execution_count": 20,
   "id": "fbaff413",
   "metadata": {},
   "outputs": [
    {
     "name": "stdout",
     "output_type": "stream",
     "text": [
      "훈련 결정계수 = 0.2687158201450809\n",
      "테스트 결정계수 = 0.2669328617160599\n",
      "결정계수 평균 = 0.26658412126434766\n"
     ]
    }
   ],
   "source": [
    "ridge = Ridge(alpha=0.01, random_state=0)\n",
    "ridge.fit(X_train, y_train)\n",
    "\n",
    "kfold = KFold(shuffle=True)\n",
    "scores = cross_val_score(ridge, X_test, y_test, cv=kfold, scoring='r2')\n",
    "\n",
    "print(f\"훈련 결정계수 = {ridge.score(X_train, y_train)}\")\n",
    "print(f\"테스트 결정계수 = {ridge.score(X_test, y_test)}\")\n",
    "print(f\"결정계수 평균 = {scores.mean()}\")"
   ]
  },
  {
   "cell_type": "code",
   "execution_count": null,
   "id": "a872c01c",
   "metadata": {},
   "outputs": [],
   "source": []
  }
 ],
 "metadata": {
  "kernelspec": {
   "display_name": "Python 3",
   "language": "python",
   "name": "python3"
  },
  "language_info": {
   "codemirror_mode": {
    "name": "ipython",
    "version": 3
   },
   "file_extension": ".py",
   "mimetype": "text/x-python",
   "name": "python",
   "nbconvert_exporter": "python",
   "pygments_lexer": "ipython3",
   "version": "3.8.8"
  }
 },
 "nbformat": 4,
 "nbformat_minor": 5
}
