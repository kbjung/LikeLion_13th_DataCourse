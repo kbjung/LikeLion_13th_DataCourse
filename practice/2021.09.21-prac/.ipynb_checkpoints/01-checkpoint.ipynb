{
 "cells": [
  {
   "cell_type": "markdown",
   "id": "2a991aca",
   "metadata": {},
   "source": [
    "### 정렬"
   ]
  },
  {
   "cell_type": "markdown",
   "id": "feb5f9cf",
   "metadata": {},
   "source": [
    "* 인덱스:^ : 가운데 정렬\n",
    "* 인덱스:< : 왼쪽 정렬\n",
    "* 인덱스:> : 오른쪽 정렬\n",
    "* index:a^num\n",
    "    * a : 채우고 싶은 문자\n",
    "    * num : index 내용 포함 전체 문자열 자리수"
   ]
  },
  {
   "cell_type": "code",
   "execution_count": 6,
   "id": "9cbe6f4e",
   "metadata": {},
   "outputs": [
    {
     "name": "stdout",
     "output_type": "stream",
     "text": [
      "=========hi=========\n"
     ]
    }
   ],
   "source": [
    "print(\"{0:=^20}\".format(\"hi\")) # 가운데 정렬"
   ]
  },
  {
   "cell_type": "code",
   "execution_count": 7,
   "id": "e1344e0a",
   "metadata": {},
   "outputs": [
    {
     "name": "stdout",
     "output_type": "stream",
     "text": [
      "hi==================\n"
     ]
    }
   ],
   "source": [
    "print(\"{0:=<20}\".format(\"hi\")) # 왼쪽 정렬"
   ]
  },
  {
   "cell_type": "code",
   "execution_count": 8,
   "id": "acbe1d63",
   "metadata": {},
   "outputs": [
    {
     "name": "stdout",
     "output_type": "stream",
     "text": [
      "==================hi\n"
     ]
    }
   ],
   "source": [
    "print(\"{0:=>20}\".format(\"hi\")) # 오른쪽 정렬"
   ]
  },
  {
   "cell_type": "code",
   "execution_count": 11,
   "id": "f68ae854",
   "metadata": {},
   "outputs": [
    {
     "name": "stdout",
     "output_type": "stream",
     "text": [
      "---------hi---------\n",
      "hi%%%%%%%%%%%%%%%%%%\n",
      "******************hi\n"
     ]
    }
   ],
   "source": [
    "t = \"hi\"\n",
    "print(f\"{t:-^20}\") # 가운데 정렬\n",
    "print(f\"{t:%<20}\") # 왼쪽 정렬\n",
    "print(f\"{t:*>20}\") # 오른쪽 정렬"
   ]
  },
  {
   "cell_type": "markdown",
   "id": "f26ed57f",
   "metadata": {},
   "source": [
    "### 문자열 나누기\n",
    "* 문자열.split(\"값\") : \"값\"을 기준으로 문자열을 나누어 리스트로 저장"
   ]
  },
  {
   "cell_type": "code",
   "execution_count": 12,
   "id": "0e8108a3",
   "metadata": {},
   "outputs": [
    {
     "data": {
      "text/plain": [
       "['This', 'is', 'jupyter!', 'Hello', 'World']"
      ]
     },
     "execution_count": 12,
     "metadata": {},
     "output_type": "execute_result"
    }
   ],
   "source": [
    "a = \"This is jupyter! Hello World\"\n",
    "a.split(\" \")"
   ]
  }
 ],
 "metadata": {
  "kernelspec": {
   "display_name": "Python 3",
   "language": "python",
   "name": "python3"
  },
  "language_info": {
   "codemirror_mode": {
    "name": "ipython",
    "version": 3
   },
   "file_extension": ".py",
   "mimetype": "text/x-python",
   "name": "python",
   "nbconvert_exporter": "python",
   "pygments_lexer": "ipython3",
   "version": "3.8.8"
  }
 },
 "nbformat": 4,
 "nbformat_minor": 5
}
