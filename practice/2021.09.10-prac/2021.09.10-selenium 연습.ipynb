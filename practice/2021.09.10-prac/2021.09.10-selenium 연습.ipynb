{
 "cells": [
  {
   "cell_type": "code",
   "execution_count": 1,
   "id": "6417000a",
   "metadata": {},
   "outputs": [],
   "source": [
    "# 셀리니움과 bs 라이브러리 불러오기\n",
    "from selenium import webdriver\n",
    "from bs4 import BeautifulSoup"
   ]
  },
  {
   "cell_type": "code",
   "execution_count": 2,
   "id": "91c2a76a",
   "metadata": {},
   "outputs": [],
   "source": [
    "# 셀레니움으로 웹페이지 담기\n",
    "driver = webdriver.Chrome('chromedriver') # 웹 드라이버 담기\n",
    "url = \"https://www.amazon.com/\"\n",
    "driver.get(url) # 크롬웹드라이버로 웹페이지 실행"
   ]
  },
  {
   "cell_type": "code",
   "execution_count": 3,
   "id": "a4e75530",
   "metadata": {},
   "outputs": [],
   "source": [
    "# 특정 단어 검색(xpath이용)\n",
    "# 검색어 입력(xpath) : //*[@id=\"twotabsearchtextbox\"]\n",
    "# 검색 버튼(xpath) : //*[@id=\"nav-search-submit-button\"]\n",
    "sel_1 = driver.find_element_by_xpath('//*[@id=\"twotabsearchtextbox\"]')\n",
    "sel_2 = driver.find_element_by_xpath('//*[@id=\"nav-search-submit-button\"]')"
   ]
  },
  {
   "cell_type": "code",
   "execution_count": 4,
   "id": "bccd4836",
   "metadata": {},
   "outputs": [],
   "source": [
    "sel_1.send_keys(\"iphone 12\") # 검색창에 검색어 iphone 12 입력\n",
    "sel_2.click() # 버튼 클릭"
   ]
  },
  {
   "cell_type": "code",
   "execution_count": 5,
   "id": "2a03f353",
   "metadata": {},
   "outputs": [
    {
     "data": {
      "text/plain": [
       "<title>Amazon.com : iphone 12</title>"
      ]
     },
     "execution_count": 5,
     "metadata": {},
     "output_type": "execute_result"
    }
   ],
   "source": [
    "# 현재 페이지 담기\n",
    "page = driver.page_source\n",
    "# bs에 담기(parser : lxml)\n",
    "soup = BeautifulSoup(page, \"lxml\")\n",
    "# 잘 담겼는지 title로 확인\n",
    "soup.title"
   ]
  },
  {
   "cell_type": "code",
   "execution_count": 7,
   "id": "3a1e25c3",
   "metadata": {},
   "outputs": [
    {
     "data": {
      "text/plain": [
       "'Apple iPhone 12, 64GB, Black - Fully Unlocked (Renewed)'"
      ]
     },
     "execution_count": 7,
     "metadata": {},
     "output_type": "execute_result"
    }
   ],
   "source": [
    "# 상품 목록 태그 확인\n",
    "h2_list = soup.find_all(\"h2\", class_=\"a-size-mini a-spacing-none a-color-base s-line-clamp-2\")\n",
    "h2_list[0].find(\"span\", class_=\"a-size-medium a-color-base a-text-normal\").text"
   ]
  },
  {
   "cell_type": "code",
   "execution_count": 8,
   "id": "159b4a53",
   "metadata": {},
   "outputs": [
    {
     "data": {
      "text/plain": [
       "['Apple iPhone 12, 64GB, Black - Fully Unlocked (Renewed)',\n",
       " 'Apple iPhone 12 Mini, 64GB, Blue - Fully Unlocked (Renewed)',\n",
       " 'Apple iPhone 12, 64GB, White - T-Mobile (Renewed)',\n",
       " 'Apple iPhone 12, 64GB, (Product)Red - T-Mobile (Renewed)',\n",
       " 'Apple iPhone 12, 64GB, Black - T-Mobile (Renewed)',\n",
       " '(Refurbished) Apple iPhone 11 Pro, US Version, 64GB, Space Gray - Unlocked',\n",
       " 'Samsung Galaxy Note20 Ultra (N986B-DS), 5G, International Version (No US Warranty), 256GB 12GB RAM, Mystic Bronze - GSM Unlocked',\n",
       " 'Samsung Galaxy S8 64GB Phone- 5.8\" display - AT&T Unlocked (Midnight Black)',\n",
       " 'Apple iPhone 11 [128GB, Purple] + Carrier Subscription [Cricket Wireless]',\n",
       " 'Galaxy Z Fold 2 5G | SM-F916 256GB | Factory Unlocked - International Version (Mystic Black)',\n",
       " 'SAMSUNG Galaxy S21 Ultra 5G Factory Unlocked Android Cell Phone 128GB US Version Smartphone Pro-Grade Camera 8K Video 108MP High Res, Phantom Silver',\n",
       " 'Asus ROG Phone 3 512GB 12GB RAM 5G ZS661KS / I003DD SD865+ Global Version - Black Glare',\n",
       " 'Simple Mobile Prepaid - Apple iPhone X (64GB) - Silver [Locked to Carrier – Simple Mobile]',\n",
       " 'Samsung Galaxy A12 (64GB, 4GB) 6.5\" HD+, Quad Camera, 5000mAh Battery, Dual SIM GSM Unlocked Global 4G Volte (T-Mobile, AT&T, Metro) International Model A125M/DS (64GB SD Bundle, Blue)',\n",
       " 'Samsung Galaxy S20+ Plus 6.7\" SM-G986B/DS 5G 128GB 12GB RAM (GSM Only, No CDMA) International Version - (Cloud Blue)',\n",
       " '(Refurbished) Apple iPhone XR, US Version, 64GB, Red - Unlocked',\n",
       " 'Magnetic Wireless Car Charger, RAMPOW 15W Fast Charging 360° Rotation Air Vent Mount Mag-Safe Car Charging Holder Compatible with iPhone 12/12 Pro/12 Pro Max/12 Mini',\n",
       " 'iPhone Charger,2Pack 6FT MFi Certified Lightning Cable Data Sync Charging Cords with 2Pack USB Wall Charger Travel Plug Adapter Compatible iPhone 12 Pro/11 Pro/Xs/XR/X/8/8Plus and More',\n",
       " 'Long Apple iPhone Charger 10ft, 2Pack 10 Foot Lightning Cables, Nylon Data Sync Long 10 Feet iPhone USB Charging Cable Cord for Apple iPhone 11/11 Pro / 11 Pro Max/XS/XS Max/XR/X / 8,iPad, Slive']"
      ]
     },
     "execution_count": 8,
     "metadata": {},
     "output_type": "execute_result"
    }
   ],
   "source": [
    "# 상품 목록 리스트로 만들기\n",
    "mer_list = []\n",
    "for one in h2_list:\n",
    "    temp = one.find(\"span\", class_=\"a-size-medium a-color-base a-text-normal\").text\n",
    "    mer_list.append(temp)\n",
    "mer_list"
   ]
  },
  {
   "cell_type": "code",
   "execution_count": 9,
   "id": "643916a6",
   "metadata": {},
   "outputs": [],
   "source": [
    "# 상품 리스트 파일로 만들기\n",
    "import pandas as pd"
   ]
  },
  {
   "cell_type": "code",
   "execution_count": 10,
   "id": "5cf3f59e",
   "metadata": {},
   "outputs": [],
   "source": [
    "dict_dat = {\"상품명\" : mer_list}\n",
    "dat = pd.DataFrame(dict_dat)\n",
    "dat.to_csv(\"아마존 iphone 검색 리스트.csv\", index=False)\n",
    "dat.to_excel(\"아마존 iphone 검색 리스트.xlsx\", index=False)"
   ]
  },
  {
   "cell_type": "code",
   "execution_count": null,
   "id": "bef1b913",
   "metadata": {},
   "outputs": [],
   "source": []
  }
 ],
 "metadata": {
  "kernelspec": {
   "display_name": "Python 3",
   "language": "python",
   "name": "python3"
  },
  "language_info": {
   "codemirror_mode": {
    "name": "ipython",
    "version": 3
   },
   "file_extension": ".py",
   "mimetype": "text/x-python",
   "name": "python",
   "nbconvert_exporter": "python",
   "pygments_lexer": "ipython3",
   "version": "3.8.8"
  }
 },
 "nbformat": 4,
 "nbformat_minor": 5
}
