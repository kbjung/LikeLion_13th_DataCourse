{
 "cells": [
  {
   "cell_type": "code",
   "execution_count": 1,
   "id": "d364221f",
   "metadata": {},
   "outputs": [],
   "source": [
    "import pandas as pd\n",
    "import numpy as np\n",
    "import seaborn as sns\n",
    "import datetime as dt\n",
    "import matplotlib.pyplot as plt"
   ]
  },
  {
   "cell_type": "code",
   "execution_count": 2,
   "id": "7933561f",
   "metadata": {},
   "outputs": [],
   "source": [
    "def get_font_family():\n",
    "    \"\"\"\n",
    "    시스템 환경에 따른 기본 폰트명을 반환하는 함수\n",
    "    \"\"\"\n",
    "    import platform\n",
    "    system_name = platform.system()\n",
    "    # colab 사용자는 system_name이 'Linux'로 확인\n",
    "\n",
    "    if system_name == \"Darwin\" :\n",
    "        font_family = \"AppleGothic\"\n",
    "    elif system_name == \"Windows\":\n",
    "        font_family = \"Malgun Gothic\"\n",
    "    else:\n",
    "        # Linux\n",
    "        !apt-get install fonts-nanum -qq  > /dev/null\n",
    "        !fc-cache -fv\n",
    "\n",
    "        import matplotlib as mpl\n",
    "        mpl.font_manager._rebuild()\n",
    "        findfont = mpl.font_manager.fontManager.findfont\n",
    "        mpl.font_manager.findfont = findfont\n",
    "        mpl.backends.backend_agg.findfont = findfont\n",
    "        \n",
    "        font_family = \"NanumBarunGothic\"\n",
    "    return font_family\n",
    "\n",
    "plt.rc(\"font\", family=get_font_family())\n",
    "plt.rc(\"axes\", unicode_minus=False)"
   ]
  },
  {
   "cell_type": "code",
   "execution_count": 3,
   "id": "d60370fb",
   "metadata": {},
   "outputs": [
    {
     "data": {
      "text/plain": [
       "(541909, 8)"
      ]
     },
     "execution_count": 3,
     "metadata": {},
     "output_type": "execute_result"
    }
   ],
   "source": [
    "df = pd.read_csv('online_retail.csv')\n",
    "df.shape"
   ]
  },
  {
   "cell_type": "code",
   "execution_count": 4,
   "id": "efe0d28d",
   "metadata": {},
   "outputs": [
    {
     "data": {
      "text/html": [
       "<div>\n",
       "<style scoped>\n",
       "    .dataframe tbody tr th:only-of-type {\n",
       "        vertical-align: middle;\n",
       "    }\n",
       "\n",
       "    .dataframe tbody tr th {\n",
       "        vertical-align: top;\n",
       "    }\n",
       "\n",
       "    .dataframe thead th {\n",
       "        text-align: right;\n",
       "    }\n",
       "</style>\n",
       "<table border=\"1\" class=\"dataframe\">\n",
       "  <thead>\n",
       "    <tr style=\"text-align: right;\">\n",
       "      <th></th>\n",
       "      <th>InvoiceNo</th>\n",
       "      <th>StockCode</th>\n",
       "      <th>Description</th>\n",
       "      <th>Quantity</th>\n",
       "      <th>InvoiceDate</th>\n",
       "      <th>UnitPrice</th>\n",
       "      <th>CustomerID</th>\n",
       "      <th>Country</th>\n",
       "    </tr>\n",
       "  </thead>\n",
       "  <tbody>\n",
       "    <tr>\n",
       "      <th>0</th>\n",
       "      <td>536365</td>\n",
       "      <td>85123A</td>\n",
       "      <td>WHITE HANGING HEART T-LIGHT HOLDER</td>\n",
       "      <td>6</td>\n",
       "      <td>2010-12-01 08:26:00</td>\n",
       "      <td>2.55</td>\n",
       "      <td>17850.0</td>\n",
       "      <td>United Kingdom</td>\n",
       "    </tr>\n",
       "    <tr>\n",
       "      <th>1</th>\n",
       "      <td>536365</td>\n",
       "      <td>71053</td>\n",
       "      <td>WHITE METAL LANTERN</td>\n",
       "      <td>6</td>\n",
       "      <td>2010-12-01 08:26:00</td>\n",
       "      <td>3.39</td>\n",
       "      <td>17850.0</td>\n",
       "      <td>United Kingdom</td>\n",
       "    </tr>\n",
       "    <tr>\n",
       "      <th>2</th>\n",
       "      <td>536365</td>\n",
       "      <td>84406B</td>\n",
       "      <td>CREAM CUPID HEARTS COAT HANGER</td>\n",
       "      <td>8</td>\n",
       "      <td>2010-12-01 08:26:00</td>\n",
       "      <td>2.75</td>\n",
       "      <td>17850.0</td>\n",
       "      <td>United Kingdom</td>\n",
       "    </tr>\n",
       "    <tr>\n",
       "      <th>3</th>\n",
       "      <td>536365</td>\n",
       "      <td>84029G</td>\n",
       "      <td>KNITTED UNION FLAG HOT WATER BOTTLE</td>\n",
       "      <td>6</td>\n",
       "      <td>2010-12-01 08:26:00</td>\n",
       "      <td>3.39</td>\n",
       "      <td>17850.0</td>\n",
       "      <td>United Kingdom</td>\n",
       "    </tr>\n",
       "    <tr>\n",
       "      <th>4</th>\n",
       "      <td>536365</td>\n",
       "      <td>84029E</td>\n",
       "      <td>RED WOOLLY HOTTIE WHITE HEART.</td>\n",
       "      <td>6</td>\n",
       "      <td>2010-12-01 08:26:00</td>\n",
       "      <td>3.39</td>\n",
       "      <td>17850.0</td>\n",
       "      <td>United Kingdom</td>\n",
       "    </tr>\n",
       "  </tbody>\n",
       "</table>\n",
       "</div>"
      ],
      "text/plain": [
       "  InvoiceNo StockCode                          Description  Quantity  \\\n",
       "0    536365    85123A   WHITE HANGING HEART T-LIGHT HOLDER         6   \n",
       "1    536365     71053                  WHITE METAL LANTERN         6   \n",
       "2    536365    84406B       CREAM CUPID HEARTS COAT HANGER         8   \n",
       "3    536365    84029G  KNITTED UNION FLAG HOT WATER BOTTLE         6   \n",
       "4    536365    84029E       RED WOOLLY HOTTIE WHITE HEART.         6   \n",
       "\n",
       "           InvoiceDate  UnitPrice  CustomerID         Country  \n",
       "0  2010-12-01 08:26:00       2.55     17850.0  United Kingdom  \n",
       "1  2010-12-01 08:26:00       3.39     17850.0  United Kingdom  \n",
       "2  2010-12-01 08:26:00       2.75     17850.0  United Kingdom  \n",
       "3  2010-12-01 08:26:00       3.39     17850.0  United Kingdom  \n",
       "4  2010-12-01 08:26:00       3.39     17850.0  United Kingdom  "
      ]
     },
     "execution_count": 4,
     "metadata": {},
     "output_type": "execute_result"
    }
   ],
   "source": [
    "df.head()"
   ]
  },
  {
   "cell_type": "code",
   "execution_count": 5,
   "id": "b969c229",
   "metadata": {},
   "outputs": [
    {
     "name": "stdout",
     "output_type": "stream",
     "text": [
      "<class 'pandas.core.frame.DataFrame'>\n",
      "RangeIndex: 541909 entries, 0 to 541908\n",
      "Data columns (total 8 columns):\n",
      " #   Column       Non-Null Count   Dtype  \n",
      "---  ------       --------------   -----  \n",
      " 0   InvoiceNo    541909 non-null  object \n",
      " 1   StockCode    541909 non-null  object \n",
      " 2   Description  540455 non-null  object \n",
      " 3   Quantity     541909 non-null  int64  \n",
      " 4   InvoiceDate  541909 non-null  object \n",
      " 5   UnitPrice    541909 non-null  float64\n",
      " 6   CustomerID   406829 non-null  float64\n",
      " 7   Country      541909 non-null  object \n",
      "dtypes: float64(2), int64(1), object(5)\n",
      "memory usage: 33.1+ MB\n"
     ]
    }
   ],
   "source": [
    "df.info()"
   ]
  },
  {
   "cell_type": "code",
   "execution_count": 15,
   "id": "b0908b45",
   "metadata": {},
   "outputs": [
    {
     "data": {
      "text/html": [
       "<div>\n",
       "<style scoped>\n",
       "    .dataframe tbody tr th:only-of-type {\n",
       "        vertical-align: middle;\n",
       "    }\n",
       "\n",
       "    .dataframe tbody tr th {\n",
       "        vertical-align: top;\n",
       "    }\n",
       "\n",
       "    .dataframe thead th {\n",
       "        text-align: right;\n",
       "    }\n",
       "</style>\n",
       "<table border=\"1\" class=\"dataframe\">\n",
       "  <thead>\n",
       "    <tr style=\"text-align: right;\">\n",
       "      <th></th>\n",
       "      <th>Quantity</th>\n",
       "      <th>UnitPrice</th>\n",
       "      <th>CustomerID</th>\n",
       "    </tr>\n",
       "  </thead>\n",
       "  <tbody>\n",
       "    <tr>\n",
       "      <th>count</th>\n",
       "      <td>541909.000000</td>\n",
       "      <td>541909.000000</td>\n",
       "      <td>406829.000000</td>\n",
       "    </tr>\n",
       "    <tr>\n",
       "      <th>mean</th>\n",
       "      <td>9.552250</td>\n",
       "      <td>4.611114</td>\n",
       "      <td>15287.690570</td>\n",
       "    </tr>\n",
       "    <tr>\n",
       "      <th>std</th>\n",
       "      <td>218.081158</td>\n",
       "      <td>96.759853</td>\n",
       "      <td>1713.600303</td>\n",
       "    </tr>\n",
       "    <tr>\n",
       "      <th>min</th>\n",
       "      <td>-80995.000000</td>\n",
       "      <td>-11062.060000</td>\n",
       "      <td>12346.000000</td>\n",
       "    </tr>\n",
       "    <tr>\n",
       "      <th>25%</th>\n",
       "      <td>1.000000</td>\n",
       "      <td>1.250000</td>\n",
       "      <td>13953.000000</td>\n",
       "    </tr>\n",
       "    <tr>\n",
       "      <th>50%</th>\n",
       "      <td>3.000000</td>\n",
       "      <td>2.080000</td>\n",
       "      <td>15152.000000</td>\n",
       "    </tr>\n",
       "    <tr>\n",
       "      <th>75%</th>\n",
       "      <td>10.000000</td>\n",
       "      <td>4.130000</td>\n",
       "      <td>16791.000000</td>\n",
       "    </tr>\n",
       "    <tr>\n",
       "      <th>max</th>\n",
       "      <td>80995.000000</td>\n",
       "      <td>38970.000000</td>\n",
       "      <td>18287.000000</td>\n",
       "    </tr>\n",
       "  </tbody>\n",
       "</table>\n",
       "</div>"
      ],
      "text/plain": [
       "            Quantity      UnitPrice     CustomerID\n",
       "count  541909.000000  541909.000000  406829.000000\n",
       "mean        9.552250       4.611114   15287.690570\n",
       "std       218.081158      96.759853    1713.600303\n",
       "min    -80995.000000  -11062.060000   12346.000000\n",
       "25%         1.000000       1.250000   13953.000000\n",
       "50%         3.000000       2.080000   15152.000000\n",
       "75%        10.000000       4.130000   16791.000000\n",
       "max     80995.000000   38970.000000   18287.000000"
      ]
     },
     "execution_count": 15,
     "metadata": {},
     "output_type": "execute_result"
    }
   ],
   "source": [
    "df.describe()"
   ]
  },
  {
   "cell_type": "code",
   "execution_count": 6,
   "id": "0a61998f",
   "metadata": {},
   "outputs": [
    {
     "data": {
      "text/html": [
       "<div>\n",
       "<style scoped>\n",
       "    .dataframe tbody tr th:only-of-type {\n",
       "        vertical-align: middle;\n",
       "    }\n",
       "\n",
       "    .dataframe tbody tr th {\n",
       "        vertical-align: top;\n",
       "    }\n",
       "\n",
       "    .dataframe thead th {\n",
       "        text-align: right;\n",
       "    }\n",
       "</style>\n",
       "<table border=\"1\" class=\"dataframe\">\n",
       "  <thead>\n",
       "    <tr style=\"text-align: right;\">\n",
       "      <th></th>\n",
       "      <th>InvoiceNo</th>\n",
       "      <th>StockCode</th>\n",
       "      <th>Description</th>\n",
       "      <th>InvoiceDate</th>\n",
       "      <th>Country</th>\n",
       "    </tr>\n",
       "  </thead>\n",
       "  <tbody>\n",
       "    <tr>\n",
       "      <th>count</th>\n",
       "      <td>541909</td>\n",
       "      <td>541909</td>\n",
       "      <td>540455</td>\n",
       "      <td>541909</td>\n",
       "      <td>541909</td>\n",
       "    </tr>\n",
       "    <tr>\n",
       "      <th>unique</th>\n",
       "      <td>25900</td>\n",
       "      <td>4070</td>\n",
       "      <td>4223</td>\n",
       "      <td>23260</td>\n",
       "      <td>38</td>\n",
       "    </tr>\n",
       "    <tr>\n",
       "      <th>top</th>\n",
       "      <td>573585</td>\n",
       "      <td>85123A</td>\n",
       "      <td>WHITE HANGING HEART T-LIGHT HOLDER</td>\n",
       "      <td>2011-10-31 14:41:00</td>\n",
       "      <td>United Kingdom</td>\n",
       "    </tr>\n",
       "    <tr>\n",
       "      <th>freq</th>\n",
       "      <td>1114</td>\n",
       "      <td>2313</td>\n",
       "      <td>2369</td>\n",
       "      <td>1114</td>\n",
       "      <td>495478</td>\n",
       "    </tr>\n",
       "  </tbody>\n",
       "</table>\n",
       "</div>"
      ],
      "text/plain": [
       "       InvoiceNo StockCode                         Description  \\\n",
       "count     541909    541909                              540455   \n",
       "unique     25900      4070                                4223   \n",
       "top       573585    85123A  WHITE HANGING HEART T-LIGHT HOLDER   \n",
       "freq        1114      2313                                2369   \n",
       "\n",
       "                InvoiceDate         Country  \n",
       "count                541909          541909  \n",
       "unique                23260              38  \n",
       "top     2011-10-31 14:41:00  United Kingdom  \n",
       "freq                   1114          495478  "
      ]
     },
     "execution_count": 6,
     "metadata": {},
     "output_type": "execute_result"
    }
   ],
   "source": [
    "df.describe(include='O')"
   ]
  },
  {
   "cell_type": "code",
   "execution_count": 12,
   "id": "3df2b89f",
   "metadata": {},
   "outputs": [
    {
     "data": {
      "text/plain": [
       "InvoiceNo      1114\n",
       "StockCode      1114\n",
       "Description    1114\n",
       "Quantity       1114\n",
       "InvoiceDate    1114\n",
       "UnitPrice      1114\n",
       "CustomerID        0\n",
       "Country        1114\n",
       "dtype: int64"
      ]
     },
     "execution_count": 12,
     "metadata": {},
     "output_type": "execute_result"
    }
   ],
   "source": [
    "df.loc[df['InvoiceNo']=='573585'].count()"
   ]
  },
  {
   "cell_type": "code",
   "execution_count": 13,
   "id": "435e941e",
   "metadata": {},
   "outputs": [
    {
     "data": {
      "text/plain": [
       "InvoiceNo      2313\n",
       "StockCode      2313\n",
       "Description    2313\n",
       "Quantity       2313\n",
       "InvoiceDate    2313\n",
       "UnitPrice      2313\n",
       "CustomerID     2077\n",
       "Country        2313\n",
       "dtype: int64"
      ]
     },
     "execution_count": 13,
     "metadata": {},
     "output_type": "execute_result"
    }
   ],
   "source": [
    "df.loc[df['StockCode']=='85123A'].count()"
   ]
  },
  {
   "cell_type": "code",
   "execution_count": 14,
   "id": "aded3b53",
   "metadata": {},
   "outputs": [
    {
     "data": {
      "text/plain": [
       "InvoiceNo      2369\n",
       "StockCode      2369\n",
       "Description    2369\n",
       "Quantity       2369\n",
       "InvoiceDate    2369\n",
       "UnitPrice      2369\n",
       "CustomerID     2070\n",
       "Country        2369\n",
       "dtype: int64"
      ]
     },
     "execution_count": 14,
     "metadata": {},
     "output_type": "execute_result"
    }
   ],
   "source": [
    "df.loc[df['Description']=='WHITE HANGING HEART T-LIGHT HOLDER'].count()"
   ]
  },
  {
   "cell_type": "code",
   "execution_count": 17,
   "id": "ae41d112",
   "metadata": {},
   "outputs": [
    {
     "data": {
      "text/plain": [
       "InvoiceNo           0\n",
       "StockCode           0\n",
       "Description      1454\n",
       "Quantity            0\n",
       "InvoiceDate         0\n",
       "UnitPrice           0\n",
       "CustomerID     135080\n",
       "Country             0\n",
       "dtype: int64"
      ]
     },
     "execution_count": 17,
     "metadata": {},
     "output_type": "execute_result"
    }
   ],
   "source": [
    "df.isnull().sum()"
   ]
  },
  {
   "cell_type": "code",
   "execution_count": 22,
   "id": "f633ac68",
   "metadata": {},
   "outputs": [
    {
     "data": {
      "image/png": "[encoded data removed]",
      "text/plain": [
       "<Figure size 864x288 with 2 Axes>"
      ]
     },
     "metadata": {
      "needs_background": "light"
     },
     "output_type": "display_data"
    }
   ],
   "source": [
    "plt.figure(figsize=(12,4))\n",
    "_ = sns.heatmap(df.isnull())"
   ]
  },
  {
   "cell_type": "code",
   "execution_count": 19,
   "id": "ed38b317",
   "metadata": {},
   "outputs": [
    {
     "data": {
      "text/plain": [
       "InvoiceNo           0\n",
       "StockCode           0\n",
       "Description      1454\n",
       "Quantity            0\n",
       "InvoiceDate         0\n",
       "UnitPrice           0\n",
       "CustomerID     135080\n",
       "Country             0\n",
       "dtype: int64"
      ]
     },
     "execution_count": 19,
     "metadata": {},
     "output_type": "execute_result"
    }
   ],
   "source": [
    "df.isnull().sum()"
   ]
  },
  {
   "cell_type": "code",
   "execution_count": 21,
   "id": "8633a14f",
   "metadata": {},
   "outputs": [
    {
     "data": {
      "text/plain": [
       "InvoiceNo       0.000000\n",
       "StockCode       0.000000\n",
       "Description     0.268311\n",
       "Quantity        0.000000\n",
       "InvoiceDate     0.000000\n",
       "UnitPrice       0.000000\n",
       "CustomerID     24.926694\n",
       "Country         0.000000\n",
       "dtype: float64"
      ]
     },
     "execution_count": 21,
     "metadata": {},
     "output_type": "execute_result"
    }
   ],
   "source": [
    "df.isnull().mean() * 100"
   ]
  },
  {
   "cell_type": "code",
   "execution_count": 23,
   "id": "2caa8c5f",
   "metadata": {},
   "outputs": [
    {
     "data": {
      "text/plain": [
       "count    541909.000000\n",
       "mean         17.987795\n",
       "std         378.810824\n",
       "min     -168469.600000\n",
       "25%           3.400000\n",
       "50%           9.750000\n",
       "75%          17.400000\n",
       "max      168469.600000\n",
       "Name: TotalPrice, dtype: float64"
      ]
     },
     "execution_count": 23,
     "metadata": {},
     "output_type": "execute_result"
    }
   ],
   "source": [
    "# 파생변수 생성\n",
    "df['TotalPrice'] = df['Quantity'] * df['UnitPrice']\n",
    "df['TotalPrice'].describe()"
   ]
  },
  {
   "cell_type": "code",
   "execution_count": 25,
   "id": "63ffe419",
   "metadata": {},
   "outputs": [
    {
     "data": {
      "text/plain": [
       "United Kingdom    133600\n",
       "EIRE                 711\n",
       "Hong Kong            288\n",
       "Unspecified          202\n",
       "Switzerland          125\n",
       "France                66\n",
       "Israel                47\n",
       "Portugal              39\n",
       "Bahrain                2\n",
       "Name: Country, dtype: int64"
      ]
     },
     "execution_count": 25,
     "metadata": {},
     "output_type": "execute_result"
    }
   ],
   "source": [
    "df.loc[df['CustomerID'].isnull(),'Country'].value_counts()"
   ]
  },
  {
   "cell_type": "code",
   "execution_count": 27,
   "id": "2653fb47",
   "metadata": {},
   "outputs": [
    {
     "data": {
      "text/html": [
       "<div>\n",
       "<style scoped>\n",
       "    .dataframe tbody tr th:only-of-type {\n",
       "        vertical-align: middle;\n",
       "    }\n",
       "\n",
       "    .dataframe tbody tr th {\n",
       "        vertical-align: top;\n",
       "    }\n",
       "\n",
       "    .dataframe thead th {\n",
       "        text-align: right;\n",
       "    }\n",
       "</style>\n",
       "<table border=\"1\" class=\"dataframe\">\n",
       "  <thead>\n",
       "    <tr style=\"text-align: right;\">\n",
       "      <th></th>\n",
       "      <th>InvoiceNo</th>\n",
       "      <th>StockCode</th>\n",
       "      <th>Description</th>\n",
       "      <th>Quantity</th>\n",
       "      <th>InvoiceDate</th>\n",
       "      <th>UnitPrice</th>\n",
       "      <th>CustomerID</th>\n",
       "      <th>Country</th>\n",
       "      <th>TotalPrice</th>\n",
       "      <th>Id_null</th>\n",
       "    </tr>\n",
       "  </thead>\n",
       "  <tbody>\n",
       "    <tr>\n",
       "      <th>0</th>\n",
       "      <td>536365</td>\n",
       "      <td>85123A</td>\n",
       "      <td>WHITE HANGING HEART T-LIGHT HOLDER</td>\n",
       "      <td>6</td>\n",
       "      <td>2010-12-01 08:26:00</td>\n",
       "      <td>2.55</td>\n",
       "      <td>17850.0</td>\n",
       "      <td>United Kingdom</td>\n",
       "      <td>15.30</td>\n",
       "      <td>False</td>\n",
       "    </tr>\n",
       "    <tr>\n",
       "      <th>1</th>\n",
       "      <td>536365</td>\n",
       "      <td>71053</td>\n",
       "      <td>WHITE METAL LANTERN</td>\n",
       "      <td>6</td>\n",
       "      <td>2010-12-01 08:26:00</td>\n",
       "      <td>3.39</td>\n",
       "      <td>17850.0</td>\n",
       "      <td>United Kingdom</td>\n",
       "      <td>20.34</td>\n",
       "      <td>False</td>\n",
       "    </tr>\n",
       "    <tr>\n",
       "      <th>2</th>\n",
       "      <td>536365</td>\n",
       "      <td>84406B</td>\n",
       "      <td>CREAM CUPID HEARTS COAT HANGER</td>\n",
       "      <td>8</td>\n",
       "      <td>2010-12-01 08:26:00</td>\n",
       "      <td>2.75</td>\n",
       "      <td>17850.0</td>\n",
       "      <td>United Kingdom</td>\n",
       "      <td>22.00</td>\n",
       "      <td>False</td>\n",
       "    </tr>\n",
       "    <tr>\n",
       "      <th>3</th>\n",
       "      <td>536365</td>\n",
       "      <td>84029G</td>\n",
       "      <td>KNITTED UNION FLAG HOT WATER BOTTLE</td>\n",
       "      <td>6</td>\n",
       "      <td>2010-12-01 08:26:00</td>\n",
       "      <td>3.39</td>\n",
       "      <td>17850.0</td>\n",
       "      <td>United Kingdom</td>\n",
       "      <td>20.34</td>\n",
       "      <td>False</td>\n",
       "    </tr>\n",
       "    <tr>\n",
       "      <th>4</th>\n",
       "      <td>536365</td>\n",
       "      <td>84029E</td>\n",
       "      <td>RED WOOLLY HOTTIE WHITE HEART.</td>\n",
       "      <td>6</td>\n",
       "      <td>2010-12-01 08:26:00</td>\n",
       "      <td>3.39</td>\n",
       "      <td>17850.0</td>\n",
       "      <td>United Kingdom</td>\n",
       "      <td>20.34</td>\n",
       "      <td>False</td>\n",
       "    </tr>\n",
       "  </tbody>\n",
       "</table>\n",
       "</div>"
      ],
      "text/plain": [
       "  InvoiceNo StockCode                          Description  Quantity  \\\n",
       "0    536365    85123A   WHITE HANGING HEART T-LIGHT HOLDER         6   \n",
       "1    536365     71053                  WHITE METAL LANTERN         6   \n",
       "2    536365    84406B       CREAM CUPID HEARTS COAT HANGER         8   \n",
       "3    536365    84029G  KNITTED UNION FLAG HOT WATER BOTTLE         6   \n",
       "4    536365    84029E       RED WOOLLY HOTTIE WHITE HEART.         6   \n",
       "\n",
       "           InvoiceDate  UnitPrice  CustomerID         Country  TotalPrice  \\\n",
       "0  2010-12-01 08:26:00       2.55     17850.0  United Kingdom       15.30   \n",
       "1  2010-12-01 08:26:00       3.39     17850.0  United Kingdom       20.34   \n",
       "2  2010-12-01 08:26:00       2.75     17850.0  United Kingdom       22.00   \n",
       "3  2010-12-01 08:26:00       3.39     17850.0  United Kingdom       20.34   \n",
       "4  2010-12-01 08:26:00       3.39     17850.0  United Kingdom       20.34   \n",
       "\n",
       "   Id_null  \n",
       "0    False  \n",
       "1    False  \n",
       "2    False  \n",
       "3    False  \n",
       "4    False  "
      ]
     },
     "execution_count": 27,
     "metadata": {},
     "output_type": "execute_result"
    }
   ],
   "source": [
    "df['Id_null'] = df['CustomerID'].isnull()\n",
    "df.head()"
   ]
  },
  {
   "cell_type": "code",
   "execution_count": 29,
   "id": "c229973a",
   "metadata": {},
   "outputs": [
    {
     "data": {
      "text/plain": [
       "False    0.750733\n",
       "True     0.249267\n",
       "Name: Id_null, dtype: float64"
      ]
     },
     "execution_count": 29,
     "metadata": {},
     "output_type": "execute_result"
    }
   ],
   "source": [
    "df['Id_null'].value_counts(normalize=True)"
   ]
  },
  {
   "cell_type": "code",
   "execution_count": 36,
   "id": "7b143075",
   "metadata": {},
   "outputs": [
    {
     "data": {
      "text/html": [
       "<style  type=\"text/css\" >\n",
       "</style><table id=\"T_6467b_\" ><thead>    <tr>        <th class=\"blank level0\" ></th>        <th class=\"col_heading level0 col0\" >mean</th>        <th class=\"col_heading level0 col1\" >sum</th>    </tr>    <tr>        <th class=\"index_name level0\" >Country</th>        <th class=\"blank\" ></th>        <th class=\"blank\" ></th>    </tr></thead><tbody>\n",
       "                <tr>\n",
       "                        <th id=\"T_6467b_level0_row0\" class=\"row_heading level0 row0\" >United Kingdom</th>\n",
       "                        <td id=\"T_6467b_row0_col0\" class=\"data row0 col0\" >16.53</td>\n",
       "                        <td id=\"T_6467b_row0_col1\" class=\"data row0 col1\" >8,187,806.36</td>\n",
       "            </tr>\n",
       "            <tr>\n",
       "                        <th id=\"T_6467b_level0_row1\" class=\"row_heading level0 row1\" >Netherlands</th>\n",
       "                        <td id=\"T_6467b_row1_col0\" class=\"data row1 col0\" >120.06</td>\n",
       "                        <td id=\"T_6467b_row1_col1\" class=\"data row1 col1\" >284,661.54</td>\n",
       "            </tr>\n",
       "            <tr>\n",
       "                        <th id=\"T_6467b_level0_row2\" class=\"row_heading level0 row2\" >EIRE</th>\n",
       "                        <td id=\"T_6467b_row2_col0\" class=\"data row2 col0\" >32.12</td>\n",
       "                        <td id=\"T_6467b_row2_col1\" class=\"data row2 col1\" >263,276.82</td>\n",
       "            </tr>\n",
       "            <tr>\n",
       "                        <th id=\"T_6467b_level0_row3\" class=\"row_heading level0 row3\" >Germany</th>\n",
       "                        <td id=\"T_6467b_row3_col0\" class=\"data row3 col0\" >23.35</td>\n",
       "                        <td id=\"T_6467b_row3_col1\" class=\"data row3 col1\" >221,698.21</td>\n",
       "            </tr>\n",
       "            <tr>\n",
       "                        <th id=\"T_6467b_level0_row4\" class=\"row_heading level0 row4\" >France</th>\n",
       "                        <td id=\"T_6467b_row4_col0\" class=\"data row4 col0\" >23.07</td>\n",
       "                        <td id=\"T_6467b_row4_col1\" class=\"data row4 col1\" >197,403.90</td>\n",
       "            </tr>\n",
       "            <tr>\n",
       "                        <th id=\"T_6467b_level0_row5\" class=\"row_heading level0 row5\" >Australia</th>\n",
       "                        <td id=\"T_6467b_row5_col0\" class=\"data row5 col0\" >108.88</td>\n",
       "                        <td id=\"T_6467b_row5_col1\" class=\"data row5 col1\" >137,077.27</td>\n",
       "            </tr>\n",
       "            <tr>\n",
       "                        <th id=\"T_6467b_level0_row6\" class=\"row_heading level0 row6\" >Switzerland</th>\n",
       "                        <td id=\"T_6467b_row6_col0\" class=\"data row6 col0\" >28.16</td>\n",
       "                        <td id=\"T_6467b_row6_col1\" class=\"data row6 col1\" >56,385.35</td>\n",
       "            </tr>\n",
       "            <tr>\n",
       "                        <th id=\"T_6467b_level0_row7\" class=\"row_heading level0 row7\" >Spain</th>\n",
       "                        <td id=\"T_6467b_row7_col0\" class=\"data row7 col0\" >21.62</td>\n",
       "                        <td id=\"T_6467b_row7_col1\" class=\"data row7 col1\" >54,774.58</td>\n",
       "            </tr>\n",
       "            <tr>\n",
       "                        <th id=\"T_6467b_level0_row8\" class=\"row_heading level0 row8\" >Belgium</th>\n",
       "                        <td id=\"T_6467b_row8_col0\" class=\"data row8 col0\" >19.77</td>\n",
       "                        <td id=\"T_6467b_row8_col1\" class=\"data row8 col1\" >40,910.96</td>\n",
       "            </tr>\n",
       "            <tr>\n",
       "                        <th id=\"T_6467b_level0_row9\" class=\"row_heading level0 row9\" >Sweden</th>\n",
       "                        <td id=\"T_6467b_row9_col0\" class=\"data row9 col0\" >79.21</td>\n",
       "                        <td id=\"T_6467b_row9_col1\" class=\"data row9 col1\" >36,595.91</td>\n",
       "            </tr>\n",
       "            <tr>\n",
       "                        <th id=\"T_6467b_level0_row10\" class=\"row_heading level0 row10\" >Japan</th>\n",
       "                        <td id=\"T_6467b_row10_col0\" class=\"data row10 col0\" >98.72</td>\n",
       "                        <td id=\"T_6467b_row10_col1\" class=\"data row10 col1\" >35,340.62</td>\n",
       "            </tr>\n",
       "            <tr>\n",
       "                        <th id=\"T_6467b_level0_row11\" class=\"row_heading level0 row11\" >Norway</th>\n",
       "                        <td id=\"T_6467b_row11_col0\" class=\"data row11 col0\" >32.38</td>\n",
       "                        <td id=\"T_6467b_row11_col1\" class=\"data row11 col1\" >35,163.46</td>\n",
       "            </tr>\n",
       "            <tr>\n",
       "                        <th id=\"T_6467b_level0_row12\" class=\"row_heading level0 row12\" >Portugal</th>\n",
       "                        <td id=\"T_6467b_row12_col0\" class=\"data row12 col0\" >19.33</td>\n",
       "                        <td id=\"T_6467b_row12_col1\" class=\"data row12 col1\" >29,367.02</td>\n",
       "            </tr>\n",
       "            <tr>\n",
       "                        <th id=\"T_6467b_level0_row13\" class=\"row_heading level0 row13\" >Finland</th>\n",
       "                        <td id=\"T_6467b_row13_col0\" class=\"data row13 col0\" >32.12</td>\n",
       "                        <td id=\"T_6467b_row13_col1\" class=\"data row13 col1\" >22,326.74</td>\n",
       "            </tr>\n",
       "            <tr>\n",
       "                        <th id=\"T_6467b_level0_row14\" class=\"row_heading level0 row14\" >Channel Islands</th>\n",
       "                        <td id=\"T_6467b_row14_col0\" class=\"data row14 col0\" >26.50</td>\n",
       "                        <td id=\"T_6467b_row14_col1\" class=\"data row14 col1\" >20,086.29</td>\n",
       "            </tr>\n",
       "            <tr>\n",
       "                        <th id=\"T_6467b_level0_row15\" class=\"row_heading level0 row15\" >Denmark</th>\n",
       "                        <td id=\"T_6467b_row15_col0\" class=\"data row15 col0\" >48.25</td>\n",
       "                        <td id=\"T_6467b_row15_col1\" class=\"data row15 col1\" >18,768.14</td>\n",
       "            </tr>\n",
       "            <tr>\n",
       "                        <th id=\"T_6467b_level0_row16\" class=\"row_heading level0 row16\" >Italy</th>\n",
       "                        <td id=\"T_6467b_row16_col0\" class=\"data row16 col0\" >21.03</td>\n",
       "                        <td id=\"T_6467b_row16_col1\" class=\"data row16 col1\" >16,890.51</td>\n",
       "            </tr>\n",
       "            <tr>\n",
       "                        <th id=\"T_6467b_level0_row17\" class=\"row_heading level0 row17\" >Cyprus</th>\n",
       "                        <td id=\"T_6467b_row17_col0\" class=\"data row17 col0\" >20.81</td>\n",
       "                        <td id=\"T_6467b_row17_col1\" class=\"data row17 col1\" >12,946.29</td>\n",
       "            </tr>\n",
       "            <tr>\n",
       "                        <th id=\"T_6467b_level0_row18\" class=\"row_heading level0 row18\" >Austria</th>\n",
       "                        <td id=\"T_6467b_row18_col0\" class=\"data row18 col0\" >25.32</td>\n",
       "                        <td id=\"T_6467b_row18_col1\" class=\"data row18 col1\" >10,154.32</td>\n",
       "            </tr>\n",
       "            <tr>\n",
       "                        <th id=\"T_6467b_level0_row19\" class=\"row_heading level0 row19\" >Hong Kong</th>\n",
       "                        <td id=\"T_6467b_row19_col0\" class=\"data row19 col0\" >35.13</td>\n",
       "                        <td id=\"T_6467b_row19_col1\" class=\"data row19 col1\" >10,117.04</td>\n",
       "            </tr>\n",
       "            <tr>\n",
       "                        <th id=\"T_6467b_level0_row20\" class=\"row_heading level0 row20\" >Singapore</th>\n",
       "                        <td id=\"T_6467b_row20_col0\" class=\"data row20 col0\" >39.83</td>\n",
       "                        <td id=\"T_6467b_row20_col1\" class=\"data row20 col1\" >9,120.39</td>\n",
       "            </tr>\n",
       "            <tr>\n",
       "                        <th id=\"T_6467b_level0_row21\" class=\"row_heading level0 row21\" >Israel</th>\n",
       "                        <td id=\"T_6467b_row21_col0\" class=\"data row21 col0\" >26.63</td>\n",
       "                        <td id=\"T_6467b_row21_col1\" class=\"data row21 col1\" >7,907.82</td>\n",
       "            </tr>\n",
       "            <tr>\n",
       "                        <th id=\"T_6467b_level0_row22\" class=\"row_heading level0 row22\" >Poland</th>\n",
       "                        <td id=\"T_6467b_row22_col0\" class=\"data row22 col0\" >21.15</td>\n",
       "                        <td id=\"T_6467b_row22_col1\" class=\"data row22 col1\" >7,213.14</td>\n",
       "            </tr>\n",
       "            <tr>\n",
       "                        <th id=\"T_6467b_level0_row23\" class=\"row_heading level0 row23\" >Unspecified</th>\n",
       "                        <td id=\"T_6467b_row23_col0\" class=\"data row23 col0\" >10.65</td>\n",
       "                        <td id=\"T_6467b_row23_col1\" class=\"data row23 col1\" >4,749.79</td>\n",
       "            </tr>\n",
       "            <tr>\n",
       "                        <th id=\"T_6467b_level0_row24\" class=\"row_heading level0 row24\" >Greece</th>\n",
       "                        <td id=\"T_6467b_row24_col0\" class=\"data row24 col0\" >32.26</td>\n",
       "                        <td id=\"T_6467b_row24_col1\" class=\"data row24 col1\" >4,710.52</td>\n",
       "            </tr>\n",
       "            <tr>\n",
       "                        <th id=\"T_6467b_level0_row25\" class=\"row_heading level0 row25\" >Iceland</th>\n",
       "                        <td id=\"T_6467b_row25_col0\" class=\"data row25 col0\" >23.68</td>\n",
       "                        <td id=\"T_6467b_row25_col1\" class=\"data row25 col1\" >4,310.00</td>\n",
       "            </tr>\n",
       "            <tr>\n",
       "                        <th id=\"T_6467b_level0_row26\" class=\"row_heading level0 row26\" >Canada</th>\n",
       "                        <td id=\"T_6467b_row26_col0\" class=\"data row26 col0\" >24.28</td>\n",
       "                        <td id=\"T_6467b_row26_col1\" class=\"data row26 col1\" >3,666.38</td>\n",
       "            </tr>\n",
       "            <tr>\n",
       "                        <th id=\"T_6467b_level0_row27\" class=\"row_heading level0 row27\" >Malta</th>\n",
       "                        <td id=\"T_6467b_row27_col0\" class=\"data row27 col0\" >19.73</td>\n",
       "                        <td id=\"T_6467b_row27_col1\" class=\"data row27 col1\" >2,505.47</td>\n",
       "            </tr>\n",
       "            <tr>\n",
       "                        <th id=\"T_6467b_level0_row28\" class=\"row_heading level0 row28\" >United Arab Emirates</th>\n",
       "                        <td id=\"T_6467b_row28_col0\" class=\"data row28 col0\" >27.97</td>\n",
       "                        <td id=\"T_6467b_row28_col1\" class=\"data row28 col1\" >1,902.28</td>\n",
       "            </tr>\n",
       "            <tr>\n",
       "                        <th id=\"T_6467b_level0_row29\" class=\"row_heading level0 row29\" >USA</th>\n",
       "                        <td id=\"T_6467b_row29_col0\" class=\"data row29 col0\" >5.95</td>\n",
       "                        <td id=\"T_6467b_row29_col1\" class=\"data row29 col1\" >1,730.92</td>\n",
       "            </tr>\n",
       "            <tr>\n",
       "                        <th id=\"T_6467b_level0_row30\" class=\"row_heading level0 row30\" >Lebanon</th>\n",
       "                        <td id=\"T_6467b_row30_col0\" class=\"data row30 col0\" >37.64</td>\n",
       "                        <td id=\"T_6467b_row30_col1\" class=\"data row30 col1\" >1,693.88</td>\n",
       "            </tr>\n",
       "            <tr>\n",
       "                        <th id=\"T_6467b_level0_row31\" class=\"row_heading level0 row31\" >Lithuania</th>\n",
       "                        <td id=\"T_6467b_row31_col0\" class=\"data row31 col0\" >47.46</td>\n",
       "                        <td id=\"T_6467b_row31_col1\" class=\"data row31 col1\" >1,661.06</td>\n",
       "            </tr>\n",
       "            <tr>\n",
       "                        <th id=\"T_6467b_level0_row32\" class=\"row_heading level0 row32\" >European Community</th>\n",
       "                        <td id=\"T_6467b_row32_col0\" class=\"data row32 col0\" >21.18</td>\n",
       "                        <td id=\"T_6467b_row32_col1\" class=\"data row32 col1\" >1,291.75</td>\n",
       "            </tr>\n",
       "            <tr>\n",
       "                        <th id=\"T_6467b_level0_row33\" class=\"row_heading level0 row33\" >Brazil</th>\n",
       "                        <td id=\"T_6467b_row33_col0\" class=\"data row33 col0\" >35.74</td>\n",
       "                        <td id=\"T_6467b_row33_col1\" class=\"data row33 col1\" >1,143.60</td>\n",
       "            </tr>\n",
       "            <tr>\n",
       "                        <th id=\"T_6467b_level0_row34\" class=\"row_heading level0 row34\" >RSA</th>\n",
       "                        <td id=\"T_6467b_row34_col0\" class=\"data row34 col0\" >17.28</td>\n",
       "                        <td id=\"T_6467b_row34_col1\" class=\"data row34 col1\" >1,002.31</td>\n",
       "            </tr>\n",
       "            <tr>\n",
       "                        <th id=\"T_6467b_level0_row35\" class=\"row_heading level0 row35\" >Czech Republic</th>\n",
       "                        <td id=\"T_6467b_row35_col0\" class=\"data row35 col0\" >23.59</td>\n",
       "                        <td id=\"T_6467b_row35_col1\" class=\"data row35 col1\" >707.72</td>\n",
       "            </tr>\n",
       "            <tr>\n",
       "                        <th id=\"T_6467b_level0_row36\" class=\"row_heading level0 row36\" >Bahrain</th>\n",
       "                        <td id=\"T_6467b_row36_col0\" class=\"data row36 col0\" >28.86</td>\n",
       "                        <td id=\"T_6467b_row36_col1\" class=\"data row36 col1\" >548.40</td>\n",
       "            </tr>\n",
       "            <tr>\n",
       "                        <th id=\"T_6467b_level0_row37\" class=\"row_heading level0 row37\" >Saudi Arabia</th>\n",
       "                        <td id=\"T_6467b_row37_col0\" class=\"data row37 col0\" >13.12</td>\n",
       "                        <td id=\"T_6467b_row37_col1\" class=\"data row37 col1\" >131.17</td>\n",
       "            </tr>\n",
       "    </tbody></table>"
      ],
      "text/plain": [
       "<pandas.io.formats.style.Styler at 0x22a1dac8bb0>"
      ]
     },
     "execution_count": 36,
     "metadata": {},
     "output_type": "execute_result"
    }
   ],
   "source": [
    "df.groupby('Country')['TotalPrice'].agg(['mean','sum']).sort_values('sum', ascending=False).style.format(\"{:,.2f}\")"
   ]
  },
  {
   "cell_type": "code",
   "execution_count": null,
   "id": "4c0dfcc5",
   "metadata": {},
   "outputs": [],
   "source": []
  }
 ],
 "metadata": {
  "kernelspec": {
   "display_name": "Python 3",
   "language": "python",
   "name": "python3"
  },
  "language_info": {
   "codemirror_mode": {
    "name": "ipython",
    "version": 3
   },
   "file_extension": ".py",
   "mimetype": "text/x-python",
   "name": "python",
   "nbconvert_exporter": "python",
   "pygments_lexer": "ipython3",
   "version": "3.8.8"
  }
 },
 "nbformat": 4,
 "nbformat_minor": 5
}
