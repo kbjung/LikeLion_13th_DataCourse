{
 "cells": [
  {
   "cell_type": "markdown",
   "id": "85f02246",
   "metadata": {},
   "source": [
    "# test"
   ]
  },
  {
   "cell_type": "code",
   "execution_count": null,
   "id": "a2a1af2e",
   "metadata": {},
   "outputs": [],
   "source": [
    "### 정리\n",
    "* .astype()은 원소에 적용되는가? \n",
    "    * No. 데이터셋 전체가 변환 가능한 자료형인 경우는 가능.\n",
    "* .dtype 은 원소에 적용되는가?\n",
    "    * No\n",
    "* 열 원소 중에 하나라도 문자열이 있으면 그 열의 타입은 object로 나온다."
   ]
  },
  {
   "cell_type": "code",
   "execution_count": 74,
   "id": "44e25f6b",
   "metadata": {},
   "outputs": [],
   "source": [
    "import pandas as pd"
   ]
  },
  {
   "cell_type": "code",
   "execution_count": 116,
   "id": "822ddff7",
   "metadata": {},
   "outputs": [],
   "source": [
    "fruits = ['apple', 'tomato', 'pineapple', 'watermelon', 'grape']\n",
    "price = ['5,000', '7000', '12,000', '15,000', '-']\n",
    "count = [5, 3, 1, 2, 1]\n",
    "etc = ['맛있다', '건강에 좋다', '-', '시원하다', 2]"
   ]
  },
  {
   "cell_type": "code",
   "execution_count": 117,
   "id": "cfc8ca54",
   "metadata": {},
   "outputs": [],
   "source": [
    "dat = {'price': price, 'count' : count, 'etc' : etc}\n",
    "dataset = pd.DataFrame(dat, index=fruits)"
   ]
  },
  {
   "cell_type": "code",
   "execution_count": 118,
   "id": "f1ca898f",
   "metadata": {},
   "outputs": [
    {
     "data": {
      "text/html": [
       "<div>\n",
       "<style scoped>\n",
       "    .dataframe tbody tr th:only-of-type {\n",
       "        vertical-align: middle;\n",
       "    }\n",
       "\n",
       "    .dataframe tbody tr th {\n",
       "        vertical-align: top;\n",
       "    }\n",
       "\n",
       "    .dataframe thead th {\n",
       "        text-align: right;\n",
       "    }\n",
       "</style>\n",
       "<table border=\"1\" class=\"dataframe\">\n",
       "  <thead>\n",
       "    <tr style=\"text-align: right;\">\n",
       "      <th></th>\n",
       "      <th>price</th>\n",
       "      <th>count</th>\n",
       "      <th>etc</th>\n",
       "    </tr>\n",
       "  </thead>\n",
       "  <tbody>\n",
       "    <tr>\n",
       "      <th>apple</th>\n",
       "      <td>5,000</td>\n",
       "      <td>5</td>\n",
       "      <td>맛있다</td>\n",
       "    </tr>\n",
       "    <tr>\n",
       "      <th>tomato</th>\n",
       "      <td>7000</td>\n",
       "      <td>3</td>\n",
       "      <td>건강에 좋다</td>\n",
       "    </tr>\n",
       "    <tr>\n",
       "      <th>pineapple</th>\n",
       "      <td>12,000</td>\n",
       "      <td>1</td>\n",
       "      <td>-</td>\n",
       "    </tr>\n",
       "    <tr>\n",
       "      <th>watermelon</th>\n",
       "      <td>15,000</td>\n",
       "      <td>2</td>\n",
       "      <td>시원하다</td>\n",
       "    </tr>\n",
       "    <tr>\n",
       "      <th>grape</th>\n",
       "      <td>-</td>\n",
       "      <td>1</td>\n",
       "      <td>2</td>\n",
       "    </tr>\n",
       "  </tbody>\n",
       "</table>\n",
       "</div>"
      ],
      "text/plain": [
       "             price  count     etc\n",
       "apple        5,000      5     맛있다\n",
       "tomato        7000      3  건강에 좋다\n",
       "pineapple   12,000      1       -\n",
       "watermelon  15,000      2    시원하다\n",
       "grape            -      1       2"
      ]
     },
     "execution_count": 118,
     "metadata": {},
     "output_type": "execute_result"
    }
   ],
   "source": [
    "dataset"
   ]
  },
  {
   "cell_type": "code",
   "execution_count": 119,
   "id": "603e1f33",
   "metadata": {},
   "outputs": [
    {
     "name": "stdout",
     "output_type": "stream",
     "text": [
      "<class 'pandas.core.frame.DataFrame'>\n",
      "Index: 5 entries, apple to grape\n",
      "Data columns (total 3 columns):\n",
      " #   Column  Non-Null Count  Dtype \n",
      "---  ------  --------------  ----- \n",
      " 0   price   5 non-null      object\n",
      " 1   count   5 non-null      int64 \n",
      " 2   etc     5 non-null      object\n",
      "dtypes: int64(1), object(2)\n",
      "memory usage: 160.0+ bytes\n"
     ]
    }
   ],
   "source": [
    "dataset.info()"
   ]
  },
  {
   "cell_type": "code",
   "execution_count": 120,
   "id": "9fe22b39",
   "metadata": {},
   "outputs": [
    {
     "data": {
      "text/plain": [
       "2"
      ]
     },
     "execution_count": 120,
     "metadata": {},
     "output_type": "execute_result"
    }
   ],
   "source": [
    "dataset.iloc[4,2]"
   ]
  },
  {
   "cell_type": "code",
   "execution_count": 121,
   "id": "371bbbad",
   "metadata": {},
   "outputs": [
    {
     "data": {
      "text/plain": [
       "dtype('O')"
      ]
     },
     "execution_count": 121,
     "metadata": {},
     "output_type": "execute_result"
    }
   ],
   "source": [
    "dataset['etc'].dtype"
   ]
  },
  {
   "cell_type": "code",
   "execution_count": 122,
   "id": "71570502",
   "metadata": {},
   "outputs": [
    {
     "data": {
      "text/plain": [
       "int"
      ]
     },
     "execution_count": 122,
     "metadata": {},
     "output_type": "execute_result"
    }
   ],
   "source": [
    "type(dataset.iloc[4,2])"
   ]
  },
  {
   "cell_type": "code",
   "execution_count": 123,
   "id": "479119e5",
   "metadata": {},
   "outputs": [
    {
     "data": {
      "text/plain": [
       "'7000'"
      ]
     },
     "execution_count": 123,
     "metadata": {},
     "output_type": "execute_result"
    }
   ],
   "source": [
    "dataset.iloc[1,0]"
   ]
  },
  {
   "cell_type": "code",
   "execution_count": 98,
   "id": "fcfa793f",
   "metadata": {},
   "outputs": [
    {
     "data": {
      "text/plain": [
       "7000"
      ]
     },
     "execution_count": 98,
     "metadata": {},
     "output_type": "execute_result"
    }
   ],
   "source": [
    "int(dataset.iloc[1,0])"
   ]
  },
  {
   "cell_type": "code",
   "execution_count": 99,
   "id": "1730c5e7",
   "metadata": {},
   "outputs": [],
   "source": [
    "dataset.iloc[1,0] = int(dataset.iloc[1,0])"
   ]
  },
  {
   "cell_type": "code",
   "execution_count": 100,
   "id": "611921bf",
   "metadata": {},
   "outputs": [
    {
     "data": {
      "text/plain": [
       "int"
      ]
     },
     "execution_count": 100,
     "metadata": {},
     "output_type": "execute_result"
    }
   ],
   "source": [
    "type(dataset.iloc[1,0])"
   ]
  },
  {
   "cell_type": "code",
   "execution_count": 101,
   "id": "eb4b4d04",
   "metadata": {
    "scrolled": false
   },
   "outputs": [
    {
     "data": {
      "text/plain": [
       "apple          5,000\n",
       "tomato          7000\n",
       "pineapple     12,000\n",
       "watermelon    15,000\n",
       "grape               \n",
       "Name: price, dtype: object"
      ]
     },
     "execution_count": 101,
     "metadata": {},
     "output_type": "execute_result"
    }
   ],
   "source": [
    "dataset['price']"
   ]
  },
  {
   "cell_type": "code",
   "execution_count": 113,
   "id": "0f4f7891",
   "metadata": {},
   "outputs": [
    {
     "data": {
      "text/html": [
       "<div>\n",
       "<style scoped>\n",
       "    .dataframe tbody tr th:only-of-type {\n",
       "        vertical-align: middle;\n",
       "    }\n",
       "\n",
       "    .dataframe tbody tr th {\n",
       "        vertical-align: top;\n",
       "    }\n",
       "\n",
       "    .dataframe thead th {\n",
       "        text-align: right;\n",
       "    }\n",
       "</style>\n",
       "<table border=\"1\" class=\"dataframe\">\n",
       "  <thead>\n",
       "    <tr style=\"text-align: right;\">\n",
       "      <th></th>\n",
       "      <th>price</th>\n",
       "      <th>count</th>\n",
       "      <th>etc</th>\n",
       "    </tr>\n",
       "  </thead>\n",
       "  <tbody>\n",
       "    <tr>\n",
       "      <th>apple</th>\n",
       "      <td>5,000</td>\n",
       "      <td>5</td>\n",
       "      <td>맛있다</td>\n",
       "    </tr>\n",
       "    <tr>\n",
       "      <th>tomato</th>\n",
       "      <td>7000</td>\n",
       "      <td>3</td>\n",
       "      <td>건강에 좋다</td>\n",
       "    </tr>\n",
       "    <tr>\n",
       "      <th>pineapple</th>\n",
       "      <td>12,000</td>\n",
       "      <td>1</td>\n",
       "      <td></td>\n",
       "    </tr>\n",
       "    <tr>\n",
       "      <th>watermelon</th>\n",
       "      <td>15,000</td>\n",
       "      <td>2</td>\n",
       "      <td>시원하다</td>\n",
       "    </tr>\n",
       "    <tr>\n",
       "      <th>grape</th>\n",
       "      <td></td>\n",
       "      <td>1</td>\n",
       "      <td>2</td>\n",
       "    </tr>\n",
       "  </tbody>\n",
       "</table>\n",
       "</div>"
      ],
      "text/plain": [
       "             price  count     etc\n",
       "apple        5,000      5     맛있다\n",
       "tomato        7000      3  건강에 좋다\n",
       "pineapple   12,000      1        \n",
       "watermelon  15,000      2    시원하다\n",
       "grape                   1       2"
      ]
     },
     "execution_count": 113,
     "metadata": {},
     "output_type": "execute_result"
    }
   ],
   "source": [
    "dataset2 = dataset.copy()\n",
    "dataset2"
   ]
  },
  {
   "cell_type": "code",
   "execution_count": 114,
   "id": "38b9b580",
   "metadata": {},
   "outputs": [
    {
     "data": {
      "text/plain": [
       "array(['5,000', 7000, '12,000', '15,000', ''], dtype=object)"
      ]
     },
     "execution_count": 114,
     "metadata": {},
     "output_type": "execute_result"
    }
   ],
   "source": [
    "dataset2['price'].unique()"
   ]
  },
  {
   "cell_type": "code",
   "execution_count": 115,
   "id": "383355a3",
   "metadata": {
    "scrolled": true
   },
   "outputs": [
    {
     "data": {
      "text/plain": [
       "apple          5000\n",
       "tomato          NaN\n",
       "pineapple     12000\n",
       "watermelon    15000\n",
       "grape              \n",
       "Name: price, dtype: object"
      ]
     },
     "execution_count": 115,
     "metadata": {},
     "output_type": "execute_result"
    }
   ],
   "source": [
    "dataset2['price'] = dataset2['price'].str.replace(',','')\n",
    "dataset2['price']"
   ]
  },
  {
   "cell_type": "markdown",
   "id": "272ba4d8",
   "metadata": {},
   "source": [
    "### 문자열 교체와 자료형 변환 연습"
   ]
  },
  {
   "cell_type": "code",
   "execution_count": 140,
   "id": "74d682fc",
   "metadata": {},
   "outputs": [],
   "source": [
    "fruits = ['apple', 'tomato', 'pineapple', 'watermelon', 'grape']\n",
    "price = ['5,000', '7000', '12,000', '15,000', '-']\n",
    "count = [5, 3, 1, 2, 1]\n",
    "etc = ['맛있다', '건강에 좋다', '-', '시원하다', 2]"
   ]
  },
  {
   "cell_type": "code",
   "execution_count": 141,
   "id": "1f234348",
   "metadata": {},
   "outputs": [],
   "source": [
    "dat = {'price': price, 'count' : count, 'etc' : etc}\n",
    "df = pd.DataFrame(dat, index=fruits)"
   ]
  },
  {
   "cell_type": "code",
   "execution_count": 142,
   "id": "33a7ec9e",
   "metadata": {
    "scrolled": true
   },
   "outputs": [
    {
     "data": {
      "text/html": [
       "<div>\n",
       "<style scoped>\n",
       "    .dataframe tbody tr th:only-of-type {\n",
       "        vertical-align: middle;\n",
       "    }\n",
       "\n",
       "    .dataframe tbody tr th {\n",
       "        vertical-align: top;\n",
       "    }\n",
       "\n",
       "    .dataframe thead th {\n",
       "        text-align: right;\n",
       "    }\n",
       "</style>\n",
       "<table border=\"1\" class=\"dataframe\">\n",
       "  <thead>\n",
       "    <tr style=\"text-align: right;\">\n",
       "      <th></th>\n",
       "      <th>price</th>\n",
       "      <th>count</th>\n",
       "      <th>etc</th>\n",
       "    </tr>\n",
       "  </thead>\n",
       "  <tbody>\n",
       "    <tr>\n",
       "      <th>apple</th>\n",
       "      <td>5,000</td>\n",
       "      <td>5</td>\n",
       "      <td>맛있다</td>\n",
       "    </tr>\n",
       "    <tr>\n",
       "      <th>tomato</th>\n",
       "      <td>7000</td>\n",
       "      <td>3</td>\n",
       "      <td>건강에 좋다</td>\n",
       "    </tr>\n",
       "    <tr>\n",
       "      <th>pineapple</th>\n",
       "      <td>12,000</td>\n",
       "      <td>1</td>\n",
       "      <td>-</td>\n",
       "    </tr>\n",
       "    <tr>\n",
       "      <th>watermelon</th>\n",
       "      <td>15,000</td>\n",
       "      <td>2</td>\n",
       "      <td>시원하다</td>\n",
       "    </tr>\n",
       "    <tr>\n",
       "      <th>grape</th>\n",
       "      <td>-</td>\n",
       "      <td>1</td>\n",
       "      <td>2</td>\n",
       "    </tr>\n",
       "  </tbody>\n",
       "</table>\n",
       "</div>"
      ],
      "text/plain": [
       "             price  count     etc\n",
       "apple        5,000      5     맛있다\n",
       "tomato        7000      3  건강에 좋다\n",
       "pineapple   12,000      1       -\n",
       "watermelon  15,000      2    시원하다\n",
       "grape            -      1       2"
      ]
     },
     "execution_count": 142,
     "metadata": {},
     "output_type": "execute_result"
    }
   ],
   "source": [
    "df"
   ]
  },
  {
   "cell_type": "code",
   "execution_count": 145,
   "id": "3c600fbf",
   "metadata": {},
   "outputs": [
    {
     "data": {
      "text/plain": [
       "array(['5,000', '7000', '12,000', '15,000', '-'], dtype=object)"
      ]
     },
     "execution_count": 145,
     "metadata": {},
     "output_type": "execute_result"
    }
   ],
   "source": [
    "df['price'].unique()"
   ]
  },
  {
   "cell_type": "code",
   "execution_count": 147,
   "id": "01770ac6",
   "metadata": {
    "scrolled": true
   },
   "outputs": [
    {
     "data": {
      "text/html": [
       "<div>\n",
       "<style scoped>\n",
       "    .dataframe tbody tr th:only-of-type {\n",
       "        vertical-align: middle;\n",
       "    }\n",
       "\n",
       "    .dataframe tbody tr th {\n",
       "        vertical-align: top;\n",
       "    }\n",
       "\n",
       "    .dataframe thead th {\n",
       "        text-align: right;\n",
       "    }\n",
       "</style>\n",
       "<table border=\"1\" class=\"dataframe\">\n",
       "  <thead>\n",
       "    <tr style=\"text-align: right;\">\n",
       "      <th></th>\n",
       "      <th>price</th>\n",
       "      <th>count</th>\n",
       "      <th>etc</th>\n",
       "    </tr>\n",
       "  </thead>\n",
       "  <tbody>\n",
       "    <tr>\n",
       "      <th>grape</th>\n",
       "      <td>-</td>\n",
       "      <td>1</td>\n",
       "      <td>2</td>\n",
       "    </tr>\n",
       "  </tbody>\n",
       "</table>\n",
       "</div>"
      ],
      "text/plain": [
       "      price  count etc\n",
       "grape     -      1   2"
      ]
     },
     "execution_count": 147,
     "metadata": {},
     "output_type": "execute_result"
    }
   ],
   "source": [
    "df[df['price'] == '-']"
   ]
  },
  {
   "cell_type": "code",
   "execution_count": 148,
   "id": "380e942b",
   "metadata": {},
   "outputs": [
    {
     "data": {
      "text/plain": [
       "apple          5,000\n",
       "tomato          7000\n",
       "pineapple     12,000\n",
       "watermelon    15,000\n",
       "grape              0\n",
       "Name: price, dtype: object"
      ]
     },
     "execution_count": 148,
     "metadata": {},
     "output_type": "execute_result"
    }
   ],
   "source": [
    "df['price'] = df['price'].str.replace('-', '0')\n",
    "df['price']"
   ]
  },
  {
   "cell_type": "code",
   "execution_count": 149,
   "id": "a96a3581",
   "metadata": {
    "scrolled": true
   },
   "outputs": [
    {
     "data": {
      "text/plain": [
       "apple          5000\n",
       "tomato         7000\n",
       "pineapple     12000\n",
       "watermelon    15000\n",
       "grape             0\n",
       "Name: price, dtype: object"
      ]
     },
     "execution_count": 149,
     "metadata": {},
     "output_type": "execute_result"
    }
   ],
   "source": [
    "df['price'] = df['price'].str.replace(',','')\n",
    "df['price']"
   ]
  },
  {
   "cell_type": "code",
   "execution_count": 150,
   "id": "d95de4dc",
   "metadata": {},
   "outputs": [
    {
     "data": {
      "text/plain": [
       "apple          5000\n",
       "tomato         7000\n",
       "pineapple     12000\n",
       "watermelon    15000\n",
       "grape             0\n",
       "Name: price, dtype: int64"
      ]
     },
     "execution_count": 150,
     "metadata": {},
     "output_type": "execute_result"
    }
   ],
   "source": [
    "df['price'] = df['price'].astype('int64')\n",
    "df['price']"
   ]
  },
  {
   "cell_type": "code",
   "execution_count": 151,
   "id": "c32a7a48",
   "metadata": {},
   "outputs": [
    {
     "name": "stdout",
     "output_type": "stream",
     "text": [
      "<class 'pandas.core.frame.DataFrame'>\n",
      "Index: 5 entries, apple to grape\n",
      "Data columns (total 3 columns):\n",
      " #   Column  Non-Null Count  Dtype \n",
      "---  ------  --------------  ----- \n",
      " 0   price   5 non-null      int64 \n",
      " 1   count   5 non-null      int64 \n",
      " 2   etc     5 non-null      object\n",
      "dtypes: int64(2), object(1)\n",
      "memory usage: 332.0+ bytes\n"
     ]
    }
   ],
   "source": [
    "df.info()"
   ]
  },
  {
   "cell_type": "markdown",
   "id": "622851fb",
   "metadata": {},
   "source": [
    "### 변환 가능한 자료로만 이루어진 데이터 셋 변환 연습"
   ]
  },
  {
   "cell_type": "code",
   "execution_count": 34,
   "id": "b1f5e574",
   "metadata": {},
   "outputs": [],
   "source": [
    "num = ['1', '2', '3', '4', '5']\n",
    "num2 = ['10', '20', '30', '40', '50']\n",
    "num_dat = {'num':num, 'num2': num2}\n",
    "num_df = pd.DataFrame(num_dat)"
   ]
  },
  {
   "cell_type": "code",
   "execution_count": 35,
   "id": "f4d9a315",
   "metadata": {},
   "outputs": [
    {
     "data": {
      "text/html": [
       "<div>\n",
       "<style scoped>\n",
       "    .dataframe tbody tr th:only-of-type {\n",
       "        vertical-align: middle;\n",
       "    }\n",
       "\n",
       "    .dataframe tbody tr th {\n",
       "        vertical-align: top;\n",
       "    }\n",
       "\n",
       "    .dataframe thead th {\n",
       "        text-align: right;\n",
       "    }\n",
       "</style>\n",
       "<table border=\"1\" class=\"dataframe\">\n",
       "  <thead>\n",
       "    <tr style=\"text-align: right;\">\n",
       "      <th></th>\n",
       "      <th>num</th>\n",
       "      <th>num2</th>\n",
       "    </tr>\n",
       "  </thead>\n",
       "  <tbody>\n",
       "    <tr>\n",
       "      <th>0</th>\n",
       "      <td>1</td>\n",
       "      <td>10</td>\n",
       "    </tr>\n",
       "    <tr>\n",
       "      <th>1</th>\n",
       "      <td>2</td>\n",
       "      <td>20</td>\n",
       "    </tr>\n",
       "    <tr>\n",
       "      <th>2</th>\n",
       "      <td>3</td>\n",
       "      <td>30</td>\n",
       "    </tr>\n",
       "    <tr>\n",
       "      <th>3</th>\n",
       "      <td>4</td>\n",
       "      <td>40</td>\n",
       "    </tr>\n",
       "    <tr>\n",
       "      <th>4</th>\n",
       "      <td>5</td>\n",
       "      <td>50</td>\n",
       "    </tr>\n",
       "  </tbody>\n",
       "</table>\n",
       "</div>"
      ],
      "text/plain": [
       "  num num2\n",
       "0   1   10\n",
       "1   2   20\n",
       "2   3   30\n",
       "3   4   40\n",
       "4   5   50"
      ]
     },
     "execution_count": 35,
     "metadata": {},
     "output_type": "execute_result"
    }
   ],
   "source": [
    "num_df"
   ]
  },
  {
   "cell_type": "code",
   "execution_count": 36,
   "id": "65e3a420",
   "metadata": {},
   "outputs": [
    {
     "name": "stdout",
     "output_type": "stream",
     "text": [
      "<class 'pandas.core.frame.DataFrame'>\n",
      "RangeIndex: 5 entries, 0 to 4\n",
      "Data columns (total 2 columns):\n",
      " #   Column  Non-Null Count  Dtype \n",
      "---  ------  --------------  ----- \n",
      " 0   num     5 non-null      object\n",
      " 1   num2    5 non-null      object\n",
      "dtypes: object(2)\n",
      "memory usage: 208.0+ bytes\n"
     ]
    }
   ],
   "source": [
    "num_df.info()"
   ]
  },
  {
   "cell_type": "code",
   "execution_count": 43,
   "id": "2899447e",
   "metadata": {},
   "outputs": [
    {
     "data": {
      "text/html": [
       "<div>\n",
       "<style scoped>\n",
       "    .dataframe tbody tr th:only-of-type {\n",
       "        vertical-align: middle;\n",
       "    }\n",
       "\n",
       "    .dataframe tbody tr th {\n",
       "        vertical-align: top;\n",
       "    }\n",
       "\n",
       "    .dataframe thead th {\n",
       "        text-align: right;\n",
       "    }\n",
       "</style>\n",
       "<table border=\"1\" class=\"dataframe\">\n",
       "  <thead>\n",
       "    <tr style=\"text-align: right;\">\n",
       "      <th></th>\n",
       "      <th>num</th>\n",
       "      <th>num2</th>\n",
       "    </tr>\n",
       "  </thead>\n",
       "  <tbody>\n",
       "    <tr>\n",
       "      <th>0</th>\n",
       "      <td>1</td>\n",
       "      <td>10</td>\n",
       "    </tr>\n",
       "    <tr>\n",
       "      <th>1</th>\n",
       "      <td>2</td>\n",
       "      <td>20</td>\n",
       "    </tr>\n",
       "    <tr>\n",
       "      <th>2</th>\n",
       "      <td>3</td>\n",
       "      <td>30</td>\n",
       "    </tr>\n",
       "    <tr>\n",
       "      <th>3</th>\n",
       "      <td>4</td>\n",
       "      <td>40</td>\n",
       "    </tr>\n",
       "    <tr>\n",
       "      <th>4</th>\n",
       "      <td>5</td>\n",
       "      <td>50</td>\n",
       "    </tr>\n",
       "  </tbody>\n",
       "</table>\n",
       "</div>"
      ],
      "text/plain": [
       "   num  num2\n",
       "0    1    10\n",
       "1    2    20\n",
       "2    3    30\n",
       "3    4    40\n",
       "4    5    50"
      ]
     },
     "execution_count": 43,
     "metadata": {},
     "output_type": "execute_result"
    }
   ],
   "source": [
    "num_df = num_df.astype('int64')\n",
    "num_df"
   ]
  },
  {
   "cell_type": "code",
   "execution_count": 42,
   "id": "b2e31f06",
   "metadata": {},
   "outputs": [
    {
     "name": "stdout",
     "output_type": "stream",
     "text": [
      "<class 'pandas.core.frame.DataFrame'>\n",
      "RangeIndex: 5 entries, 0 to 4\n",
      "Data columns (total 2 columns):\n",
      " #   Column  Non-Null Count  Dtype\n",
      "---  ------  --------------  -----\n",
      " 0   num     5 non-null      int64\n",
      " 1   num2    5 non-null      int64\n",
      "dtypes: int64(2)\n",
      "memory usage: 208.0 bytes\n"
     ]
    }
   ],
   "source": [
    "num_df.info()"
   ]
  },
  {
   "cell_type": "markdown",
   "id": "8a15b7e6",
   "metadata": {},
   "source": [
    "### 원소 하나씩 자료형 바꾸기 연습"
   ]
  },
  {
   "cell_type": "code",
   "execution_count": 197,
   "id": "25d24abc",
   "metadata": {},
   "outputs": [
    {
     "data": {
      "text/html": [
       "<div>\n",
       "<style scoped>\n",
       "    .dataframe tbody tr th:only-of-type {\n",
       "        vertical-align: middle;\n",
       "    }\n",
       "\n",
       "    .dataframe tbody tr th {\n",
       "        vertical-align: top;\n",
       "    }\n",
       "\n",
       "    .dataframe thead th {\n",
       "        text-align: right;\n",
       "    }\n",
       "</style>\n",
       "<table border=\"1\" class=\"dataframe\">\n",
       "  <thead>\n",
       "    <tr style=\"text-align: right;\">\n",
       "      <th></th>\n",
       "      <th>num</th>\n",
       "      <th>num2</th>\n",
       "    </tr>\n",
       "  </thead>\n",
       "  <tbody>\n",
       "    <tr>\n",
       "      <th>0</th>\n",
       "      <td>1</td>\n",
       "      <td>10</td>\n",
       "    </tr>\n",
       "    <tr>\n",
       "      <th>1</th>\n",
       "      <td>2</td>\n",
       "      <td>20</td>\n",
       "    </tr>\n",
       "    <tr>\n",
       "      <th>2</th>\n",
       "      <td>3</td>\n",
       "      <td>30</td>\n",
       "    </tr>\n",
       "    <tr>\n",
       "      <th>3</th>\n",
       "      <td>4</td>\n",
       "      <td>40</td>\n",
       "    </tr>\n",
       "    <tr>\n",
       "      <th>4</th>\n",
       "      <td>5</td>\n",
       "      <td>50</td>\n",
       "    </tr>\n",
       "  </tbody>\n",
       "</table>\n",
       "</div>"
      ],
      "text/plain": [
       "  num num2\n",
       "0   1   10\n",
       "1   2   20\n",
       "2   3   30\n",
       "3   4   40\n",
       "4   5   50"
      ]
     },
     "execution_count": 197,
     "metadata": {},
     "output_type": "execute_result"
    }
   ],
   "source": [
    "num = ['1', '2', '3', 4, '5']\n",
    "num2 = ['10', '20', 30, '40', '50']\n",
    "num_dat = {'num':num, 'num2': num2}\n",
    "num_df = pd.DataFrame(num_dat)\n",
    "num_df"
   ]
  },
  {
   "cell_type": "code",
   "execution_count": 198,
   "id": "4e0633ac",
   "metadata": {},
   "outputs": [
    {
     "name": "stdout",
     "output_type": "stream",
     "text": [
      "<class 'pandas.core.frame.DataFrame'>\n",
      "RangeIndex: 5 entries, 0 to 4\n",
      "Data columns (total 2 columns):\n",
      " #   Column  Non-Null Count  Dtype \n",
      "---  ------  --------------  ----- \n",
      " 0   num     5 non-null      object\n",
      " 1   num2    5 non-null      object\n",
      "dtypes: object(2)\n",
      "memory usage: 208.0+ bytes\n"
     ]
    }
   ],
   "source": [
    "num_df.info()"
   ]
  },
  {
   "cell_type": "code",
   "execution_count": 199,
   "id": "e1261e8e",
   "metadata": {
    "scrolled": true
   },
   "outputs": [
    {
     "data": {
      "text/plain": [
       "(array(['1', '2', '3', 4, '5'], dtype=object),\n",
       " array(['10', '20', 30, '40', '50'], dtype=object))"
      ]
     },
     "execution_count": 199,
     "metadata": {},
     "output_type": "execute_result"
    }
   ],
   "source": [
    "num_df['num'].unique(), num_df['num2'].unique()"
   ]
  },
  {
   "cell_type": "code",
   "execution_count": 200,
   "id": "ca49c6b8",
   "metadata": {},
   "outputs": [
    {
     "name": "stdout",
     "output_type": "stream",
     "text": [
      "1\n"
     ]
    }
   ],
   "source": [
    "a = int(1)\n",
    "print(a)"
   ]
  },
  {
   "cell_type": "code",
   "execution_count": 201,
   "id": "604bd429",
   "metadata": {},
   "outputs": [
    {
     "data": {
      "text/plain": [
       "(array([1, 2, 3, 4, 5], dtype=object),\n",
       " array([10, 20, 30, 40, 50], dtype=object))"
      ]
     },
     "execution_count": 201,
     "metadata": {},
     "output_type": "execute_result"
    }
   ],
   "source": [
    "# 4와 30을 문자형으로 변환\n",
    "cols = num_df.columns\n",
    "for i in range(len(cols)):\n",
    "    for j in range(len(num_df.iloc[:, i])):\n",
    "        # print(j, type(j))\n",
    "        num_df.iloc[j, i] = int(num_df.iloc[j, i])\n",
    "\n",
    "num_df['num'].unique(), num_df['num2'].unique()"
   ]
  },
  {
   "cell_type": "code",
   "execution_count": 202,
   "id": "0dc39d84",
   "metadata": {},
   "outputs": [],
   "source": [
    "num_df['num'] = num_df['num'].astype(int)"
   ]
  },
  {
   "cell_type": "code",
   "execution_count": 203,
   "id": "affa116a",
   "metadata": {
    "scrolled": true
   },
   "outputs": [
    {
     "name": "stdout",
     "output_type": "stream",
     "text": [
      "<class 'pandas.core.frame.DataFrame'>\n",
      "RangeIndex: 5 entries, 0 to 4\n",
      "Data columns (total 2 columns):\n",
      " #   Column  Non-Null Count  Dtype \n",
      "---  ------  --------------  ----- \n",
      " 0   num     5 non-null      int32 \n",
      " 1   num2    5 non-null      object\n",
      "dtypes: int32(1), object(1)\n",
      "memory usage: 188.0+ bytes\n"
     ]
    }
   ],
   "source": [
    "num_df.info()"
   ]
  },
  {
   "cell_type": "markdown",
   "id": "648d6a49",
   "metadata": {},
   "source": [
    "### 소수인 문자형, 숫자형 혼합 데이터 처리 연습"
   ]
  },
  {
   "cell_type": "code",
   "execution_count": 208,
   "id": "bc2998aa",
   "metadata": {},
   "outputs": [
    {
     "data": {
      "text/html": [
       "<div>\n",
       "<style scoped>\n",
       "    .dataframe tbody tr th:only-of-type {\n",
       "        vertical-align: middle;\n",
       "    }\n",
       "\n",
       "    .dataframe tbody tr th {\n",
       "        vertical-align: top;\n",
       "    }\n",
       "\n",
       "    .dataframe thead th {\n",
       "        text-align: right;\n",
       "    }\n",
       "</style>\n",
       "<table border=\"1\" class=\"dataframe\">\n",
       "  <thead>\n",
       "    <tr style=\"text-align: right;\">\n",
       "      <th></th>\n",
       "      <th>f</th>\n",
       "      <th>f2</th>\n",
       "    </tr>\n",
       "  </thead>\n",
       "  <tbody>\n",
       "    <tr>\n",
       "      <th>0</th>\n",
       "      <td>1.5</td>\n",
       "      <td>10.5</td>\n",
       "    </tr>\n",
       "    <tr>\n",
       "      <th>1</th>\n",
       "      <td>2.5</td>\n",
       "      <td>20.5</td>\n",
       "    </tr>\n",
       "    <tr>\n",
       "      <th>2</th>\n",
       "      <td>3.5</td>\n",
       "      <td>30.5</td>\n",
       "    </tr>\n",
       "    <tr>\n",
       "      <th>3</th>\n",
       "      <td>4.5</td>\n",
       "      <td>40.5</td>\n",
       "    </tr>\n",
       "    <tr>\n",
       "      <th>4</th>\n",
       "      <td>5.5</td>\n",
       "      <td>50.5</td>\n",
       "    </tr>\n",
       "  </tbody>\n",
       "</table>\n",
       "</div>"
      ],
      "text/plain": [
       "     f    f2\n",
       "0  1.5  10.5\n",
       "1  2.5  20.5\n",
       "2  3.5  30.5\n",
       "3  4.5  40.5\n",
       "4  5.5  50.5"
      ]
     },
     "execution_count": 208,
     "metadata": {},
     "output_type": "execute_result"
    }
   ],
   "source": [
    "f = ['1.5', '2.5', '3.5', 4.5, '5.5']\n",
    "f2 = ['10.5', '20.5', 30.5, '40.5', '50.5']\n",
    "num_dat = {'f':f, 'f2': f2}\n",
    "num_df = pd.DataFrame(num_dat)\n",
    "num_df"
   ]
  },
  {
   "cell_type": "code",
   "execution_count": 212,
   "id": "cd4e9912",
   "metadata": {},
   "outputs": [
    {
     "data": {
      "text/plain": [
       "(array([1.5, 2.5, 3.5, 4.5, 5.5]),\n",
       " dtype('float64'),\n",
       " array([10.5, 20.5, 30.5, 40.5, 50.5]),\n",
       " dtype('float64'))"
      ]
     },
     "execution_count": 212,
     "metadata": {},
     "output_type": "execute_result"
    }
   ],
   "source": [
    "for col in num_df.columns:\n",
    "    num_df[col] = num_df[col].astype(float)\n",
    "\n",
    "num_df['f'].unique(), num_df['f'].dtype, num_df['f2'].unique(), num_df['f2'].dtype"
   ]
  }
 ],
 "metadata": {
  "kernelspec": {
   "display_name": "Python 3",
   "language": "python",
   "name": "python3"
  },
  "language_info": {
   "codemirror_mode": {
    "name": "ipython",
    "version": 3
   },
   "file_extension": ".py",
   "mimetype": "text/x-python",
   "name": "python",
   "nbconvert_exporter": "python",
   "pygments_lexer": "ipython3",
   "version": "3.8.8"
  }
 },
 "nbformat": 4,
 "nbformat_minor": 5
}
