{
 "cells": [
  {
   "cell_type": "code",
   "execution_count": 167,
   "id": "53ce654c",
   "metadata": {},
   "outputs": [],
   "source": [
    "import pandas as pd"
   ]
  },
  {
   "cell_type": "code",
   "execution_count": 168,
   "id": "94c86f2b",
   "metadata": {
    "scrolled": true
   },
   "outputs": [
    {
     "data": {
      "text/html": [
       "<div>\n",
       "<style scoped>\n",
       "    .dataframe tbody tr th:only-of-type {\n",
       "        vertical-align: middle;\n",
       "    }\n",
       "\n",
       "    .dataframe tbody tr th {\n",
       "        vertical-align: top;\n",
       "    }\n",
       "\n",
       "    .dataframe thead th {\n",
       "        text-align: right;\n",
       "    }\n",
       "</style>\n",
       "<table border=\"1\" class=\"dataframe\">\n",
       "  <thead>\n",
       "    <tr style=\"text-align: right;\">\n",
       "      <th></th>\n",
       "      <th>대여일자</th>\n",
       "      <th>대여소번호</th>\n",
       "      <th>대여소명</th>\n",
       "      <th>대여구분코드</th>\n",
       "      <th>성별</th>\n",
       "      <th>연령대코드</th>\n",
       "      <th>이용건수</th>\n",
       "      <th>운동량</th>\n",
       "      <th>탄소량</th>\n",
       "      <th>이동거리</th>\n",
       "      <th>...</th>\n",
       "      <th>총 이용건수</th>\n",
       "      <th>AGE_001</th>\n",
       "      <th>AGE_002</th>\n",
       "      <th>AGE_003</th>\n",
       "      <th>AGE_004</th>\n",
       "      <th>AGE_005</th>\n",
       "      <th>AGE_006</th>\n",
       "      <th>AGE_007</th>\n",
       "      <th>AGE_008</th>\n",
       "      <th>AGE_009</th>\n",
       "    </tr>\n",
       "  </thead>\n",
       "  <tbody>\n",
       "    <tr>\n",
       "      <th>0</th>\n",
       "      <td>20-Jan</td>\n",
       "      <td>3.0</td>\n",
       "      <td>중랑센터</td>\n",
       "      <td>일일(회원)</td>\n",
       "      <td>M</td>\n",
       "      <td>AGE_003</td>\n",
       "      <td>3.0</td>\n",
       "      <td>61.82</td>\n",
       "      <td>0.52</td>\n",
       "      <td>2230.0</td>\n",
       "      <td>...</td>\n",
       "      <td>794162.0</td>\n",
       "      <td>28787.0</td>\n",
       "      <td>326277.0</td>\n",
       "      <td>187520.0</td>\n",
       "      <td>127519.0</td>\n",
       "      <td>79939.0</td>\n",
       "      <td>23260.0</td>\n",
       "      <td>5060.0</td>\n",
       "      <td>15800.0</td>\n",
       "      <td>0.0</td>\n",
       "    </tr>\n",
       "    <tr>\n",
       "      <th>1</th>\n",
       "      <td>20-Jan</td>\n",
       "      <td>3.0</td>\n",
       "      <td>중랑센터</td>\n",
       "      <td>일일(회원)</td>\n",
       "      <td>M</td>\n",
       "      <td>AGE_004</td>\n",
       "      <td>1.0</td>\n",
       "      <td>39.62</td>\n",
       "      <td>0.28</td>\n",
       "      <td>1220.0</td>\n",
       "      <td>...</td>\n",
       "      <td>NaN</td>\n",
       "      <td>NaN</td>\n",
       "      <td>NaN</td>\n",
       "      <td>NaN</td>\n",
       "      <td>NaN</td>\n",
       "      <td>NaN</td>\n",
       "      <td>NaN</td>\n",
       "      <td>NaN</td>\n",
       "      <td>NaN</td>\n",
       "      <td>NaN</td>\n",
       "    </tr>\n",
       "    <tr>\n",
       "      <th>2</th>\n",
       "      <td>20-Jan</td>\n",
       "      <td>3.0</td>\n",
       "      <td>중랑센터</td>\n",
       "      <td>정기</td>\n",
       "      <td>M</td>\n",
       "      <td>AGE_005</td>\n",
       "      <td>3.0</td>\n",
       "      <td>430.85</td>\n",
       "      <td>4.01</td>\n",
       "      <td>17270.0</td>\n",
       "      <td>...</td>\n",
       "      <td>NaN</td>\n",
       "      <td>NaN</td>\n",
       "      <td>NaN</td>\n",
       "      <td>NaN</td>\n",
       "      <td>NaN</td>\n",
       "      <td>NaN</td>\n",
       "      <td>NaN</td>\n",
       "      <td>NaN</td>\n",
       "      <td>NaN</td>\n",
       "      <td>NaN</td>\n",
       "    </tr>\n",
       "    <tr>\n",
       "      <th>3</th>\n",
       "      <td>20-Jan</td>\n",
       "      <td>5.0</td>\n",
       "      <td>상암센터 정비실</td>\n",
       "      <td>일일(회원)</td>\n",
       "      <td>\\N</td>\n",
       "      <td>AGE_005</td>\n",
       "      <td>2.0</td>\n",
       "      <td>1.79</td>\n",
       "      <td>0.02</td>\n",
       "      <td>90.0</td>\n",
       "      <td>...</td>\n",
       "      <td>NaN</td>\n",
       "      <td>NaN</td>\n",
       "      <td>NaN</td>\n",
       "      <td>NaN</td>\n",
       "      <td>NaN</td>\n",
       "      <td>NaN</td>\n",
       "      <td>NaN</td>\n",
       "      <td>NaN</td>\n",
       "      <td>NaN</td>\n",
       "      <td>NaN</td>\n",
       "    </tr>\n",
       "    <tr>\n",
       "      <th>4</th>\n",
       "      <td>20-Jan</td>\n",
       "      <td>5.0</td>\n",
       "      <td>상암센터 정비실</td>\n",
       "      <td>정기</td>\n",
       "      <td>F</td>\n",
       "      <td>AGE_003</td>\n",
       "      <td>1.0</td>\n",
       "      <td>4501.96</td>\n",
       "      <td>45.47</td>\n",
       "      <td>196010.0</td>\n",
       "      <td>...</td>\n",
       "      <td>NaN</td>\n",
       "      <td>NaN</td>\n",
       "      <td>NaN</td>\n",
       "      <td>NaN</td>\n",
       "      <td>NaN</td>\n",
       "      <td>NaN</td>\n",
       "      <td>NaN</td>\n",
       "      <td>NaN</td>\n",
       "      <td>NaN</td>\n",
       "      <td>NaN</td>\n",
       "    </tr>\n",
       "  </tbody>\n",
       "</table>\n",
       "<p>5 rows × 24 columns</p>\n",
       "</div>"
      ],
      "text/plain": [
       "     대여일자  대여소번호      대여소명  대여구분코드  성별    연령대코드  이용건수      운동량    탄소량  \\\n",
       "0  20-Jan    3.0      중랑센터  일일(회원)   M  AGE_003   3.0    61.82   0.52   \n",
       "1  20-Jan    3.0      중랑센터  일일(회원)   M  AGE_004   1.0    39.62   0.28   \n",
       "2  20-Jan    3.0      중랑센터      정기   M  AGE_005   3.0   430.85   4.01   \n",
       "3  20-Jan    5.0  상암센터 정비실  일일(회원)  \\N  AGE_005   2.0     1.79   0.02   \n",
       "4  20-Jan    5.0  상암센터 정비실      정기   F  AGE_003   1.0  4501.96  45.47   \n",
       "\n",
       "       이동거리  ...    총 이용건수  AGE_001   AGE_002   AGE_003   AGE_004  AGE_005  \\\n",
       "0    2230.0  ...  794162.0  28787.0  326277.0  187520.0  127519.0  79939.0   \n",
       "1    1220.0  ...       NaN      NaN       NaN       NaN       NaN      NaN   \n",
       "2   17270.0  ...       NaN      NaN       NaN       NaN       NaN      NaN   \n",
       "3      90.0  ...       NaN      NaN       NaN       NaN       NaN      NaN   \n",
       "4  196010.0  ...       NaN      NaN       NaN       NaN       NaN      NaN   \n",
       "\n",
       "   AGE_006  AGE_007  AGE_008  AGE_009  \n",
       "0  23260.0   5060.0  15800.0      0.0  \n",
       "1      NaN      NaN      NaN      NaN  \n",
       "2      NaN      NaN      NaN      NaN  \n",
       "3      NaN      NaN      NaN      NaN  \n",
       "4      NaN      NaN      NaN      NaN  \n",
       "\n",
       "[5 rows x 24 columns]"
      ]
     },
     "execution_count": 168,
     "metadata": {},
     "output_type": "execute_result"
    }
   ],
   "source": [
    "bike = pd.read_csv('공공자전거 이용정보(2020년 전월).csv', encoding='cp949')\n",
    "bike.head()"
   ]
  },
  {
   "cell_type": "code",
   "execution_count": 169,
   "id": "2f3dc632",
   "metadata": {},
   "outputs": [
    {
     "name": "stdout",
     "output_type": "stream",
     "text": [
      "<class 'pandas.core.frame.DataFrame'>\n",
      "RangeIndex: 948888 entries, 0 to 948887\n",
      "Data columns (total 24 columns):\n",
      " #   Column   Non-Null Count   Dtype  \n",
      "---  ------   --------------   -----  \n",
      " 0   대여일자     948887 non-null  object \n",
      " 1   대여소번호    948887 non-null  float64\n",
      " 2   대여소명     948887 non-null  object \n",
      " 3   대여구분코드   948887 non-null  object \n",
      " 4   성별       798225 non-null  object \n",
      " 5   연령대코드    948887 non-null  object \n",
      " 6   이용건수     948887 non-null  float64\n",
      " 7   운동량      948887 non-null  object \n",
      " 8   탄소량      948887 non-null  object \n",
      " 9   이동거리     948887 non-null  float64\n",
      " 10  이용시간     948887 non-null  float64\n",
      " 11  여성       13 non-null      float64\n",
      " 12  남성       13 non-null      float64\n",
      " 13  미상       13 non-null      float64\n",
      " 14  총 이용건수   13 non-null      float64\n",
      " 15  AGE_001  13 non-null      float64\n",
      " 16  AGE_002  13 non-null      float64\n",
      " 17  AGE_003  13 non-null      float64\n",
      " 18  AGE_004  13 non-null      float64\n",
      " 19  AGE_005  13 non-null      float64\n",
      " 20  AGE_006  13 non-null      float64\n",
      " 21  AGE_007  13 non-null      float64\n",
      " 22  AGE_008  13 non-null      float64\n",
      " 23  AGE_009  13 non-null      float64\n",
      "dtypes: float64(17), object(7)\n",
      "memory usage: 173.7+ MB\n"
     ]
    }
   ],
   "source": [
    "bike.info()"
   ]
  },
  {
   "cell_type": "markdown",
   "id": "0f6240a7",
   "metadata": {},
   "source": [
    "### 성별 결측치 처리"
   ]
  },
  {
   "cell_type": "code",
   "execution_count": 170,
   "id": "87f889a2",
   "metadata": {},
   "outputs": [
    {
     "data": {
      "text/plain": [
       "array(['M', '\\\\N', 'F', nan, 'm', 'f'], dtype=object)"
      ]
     },
     "execution_count": 170,
     "metadata": {},
     "output_type": "execute_result"
    }
   ],
   "source": [
    "bike['성별'].unique()"
   ]
  },
  {
   "cell_type": "code",
   "execution_count": 171,
   "id": "16459068",
   "metadata": {
    "scrolled": false
   },
   "outputs": [
    {
     "data": {
      "text/plain": [
       "\\N    321970\n",
       "M     250865\n",
       "F     224989\n",
       "m        243\n",
       "f        158\n",
       "Name: 성별, dtype: int64"
      ]
     },
     "execution_count": 171,
     "metadata": {},
     "output_type": "execute_result"
    }
   ],
   "source": [
    "bike['성별'].value_counts()"
   ]
  },
  {
   "cell_type": "code",
   "execution_count": 172,
   "id": "ecbdff65",
   "metadata": {},
   "outputs": [
    {
     "data": {
      "text/plain": [
       "array(['M', '\\\\N', 'F', 'nan', 'm', 'f'], dtype=object)"
      ]
     },
     "execution_count": 172,
     "metadata": {},
     "output_type": "execute_result"
    }
   ],
   "source": [
    "# nan 값을 다른 값으로 채우기\n",
    "bike['성별'] = bike['성별'].fillna('nan')\n",
    "bike['성별'].unique()"
   ]
  },
  {
   "cell_type": "code",
   "execution_count": 173,
   "id": "bdf22ede",
   "metadata": {},
   "outputs": [
    {
     "data": {
      "text/plain": [
       "\\N     321970\n",
       "M      250865\n",
       "F      224989\n",
       "nan    150663\n",
       "m         243\n",
       "f         158\n",
       "Name: 성별, dtype: int64"
      ]
     },
     "execution_count": 173,
     "metadata": {},
     "output_type": "execute_result"
    }
   ],
   "source": [
    "bike['성별'].value_counts()"
   ]
  },
  {
   "cell_type": "code",
   "execution_count": 174,
   "id": "29094f98",
   "metadata": {},
   "outputs": [
    {
     "data": {
      "text/plain": [
       "array([1, 2, 0], dtype=int64)"
      ]
     },
     "execution_count": 174,
     "metadata": {},
     "output_type": "execute_result"
    }
   ],
   "source": [
    "# unique 값 (f, F) => 0, (m, M) => 1, (\\\\N, nan) => 2 로 지정\n",
    "bike['성별'] = bike['성별'].map({'M':1, 'F':0, 'm':1,'f':0,'\\\\N':2, 'nan':2 })\n",
    "bike['성별'].unique()"
   ]
  },
  {
   "cell_type": "markdown",
   "id": "6706386e",
   "metadata": {},
   "source": [
    "### 운동량 결측값 처리확인"
   ]
  },
  {
   "cell_type": "code",
   "execution_count": 175,
   "id": "d1291583",
   "metadata": {},
   "outputs": [
    {
     "name": "stdout",
     "output_type": "stream",
     "text": [
      "<class 'pandas.core.frame.DataFrame'>\n",
      "RangeIndex: 948888 entries, 0 to 948887\n",
      "Data columns (total 24 columns):\n",
      " #   Column   Non-Null Count   Dtype  \n",
      "---  ------   --------------   -----  \n",
      " 0   대여일자     948887 non-null  object \n",
      " 1   대여소번호    948887 non-null  float64\n",
      " 2   대여소명     948887 non-null  object \n",
      " 3   대여구분코드   948887 non-null  object \n",
      " 4   성별       948888 non-null  int64  \n",
      " 5   연령대코드    948887 non-null  object \n",
      " 6   이용건수     948887 non-null  float64\n",
      " 7   운동량      948887 non-null  object \n",
      " 8   탄소량      948887 non-null  object \n",
      " 9   이동거리     948887 non-null  float64\n",
      " 10  이용시간     948887 non-null  float64\n",
      " 11  여성       13 non-null      float64\n",
      " 12  남성       13 non-null      float64\n",
      " 13  미상       13 non-null      float64\n",
      " 14  총 이용건수   13 non-null      float64\n",
      " 15  AGE_001  13 non-null      float64\n",
      " 16  AGE_002  13 non-null      float64\n",
      " 17  AGE_003  13 non-null      float64\n",
      " 18  AGE_004  13 non-null      float64\n",
      " 19  AGE_005  13 non-null      float64\n",
      " 20  AGE_006  13 non-null      float64\n",
      " 21  AGE_007  13 non-null      float64\n",
      " 22  AGE_008  13 non-null      float64\n",
      " 23  AGE_009  13 non-null      float64\n",
      "dtypes: float64(17), int64(1), object(6)\n",
      "memory usage: 173.7+ MB\n"
     ]
    }
   ],
   "source": [
    "bike.info()"
   ]
  },
  {
   "cell_type": "code",
   "execution_count": 176,
   "id": "e37400b7",
   "metadata": {},
   "outputs": [
    {
     "data": {
      "text/plain": [
       "2    472633\n",
       "1    251108\n",
       "0    225147\n",
       "Name: 성별, dtype: int64"
      ]
     },
     "execution_count": 176,
     "metadata": {},
     "output_type": "execute_result"
    }
   ],
   "source": [
    "bike['성별'].value_counts()"
   ]
  },
  {
   "cell_type": "code",
   "execution_count": 177,
   "id": "ac3d63eb",
   "metadata": {
    "scrolled": false
   },
   "outputs": [
    {
     "data": {
      "text/plain": [
       "0    1\n",
       "1    1\n",
       "2    1\n",
       "3    2\n",
       "4    0\n",
       "Name: 성별, dtype: int64"
      ]
     },
     "execution_count": 177,
     "metadata": {},
     "output_type": "execute_result"
    }
   ],
   "source": [
    "bike['성별'].head()"
   ]
  },
  {
   "cell_type": "markdown",
   "id": "2f2fe1e1",
   "metadata": {},
   "source": [
    "### 운동량 문자값 처리"
   ]
  },
  {
   "cell_type": "code",
   "execution_count": 178,
   "id": "0de860ba",
   "metadata": {},
   "outputs": [],
   "source": [
    "bike2 = bike.copy()"
   ]
  },
  {
   "cell_type": "code",
   "execution_count": 179,
   "id": "36443f0b",
   "metadata": {
    "scrolled": true
   },
   "outputs": [
    {
     "data": {
      "text/plain": [
       "0          290817\n",
       "\\N           1441\n",
       "43.24         147\n",
       "46.33         138\n",
       "36.04         130\n",
       "            ...  \n",
       "9168.41         1\n",
       "4507.85         1\n",
       "2139.22         1\n",
       "7260.52         1\n",
       "1415.2          1\n",
       "Name: 운동량, Length: 279972, dtype: int64"
      ]
     },
     "execution_count": 179,
     "metadata": {},
     "output_type": "execute_result"
    }
   ],
   "source": [
    "# 값 확인\n",
    "bike2['운동량'].value_counts()"
   ]
  },
  {
   "cell_type": "code",
   "execution_count": 180,
   "id": "9e8fa572",
   "metadata": {},
   "outputs": [],
   "source": [
    "# \\\\N => 0으로 지정\n",
    "# .replace('\\\\N', '0') => 오류 발생. '\\'를 인식하는데 문제 발생.\n",
    "# 정규표현식 사용해서 변환\n",
    "bike2['운동량'] = bike2['운동량'].str.replace(pat=r'\\\\N', repl=r'0', regex=True)"
   ]
  },
  {
   "cell_type": "markdown",
   "id": "d03bcfde",
   "metadata": {},
   "source": [
    "### 운동량 문자열 처리 확인"
   ]
  },
  {
   "cell_type": "code",
   "execution_count": 181,
   "id": "431f2031",
   "metadata": {},
   "outputs": [
    {
     "data": {
      "text/plain": [
       "0           292258\n",
       "43.24          147\n",
       "46.33          138\n",
       "36.04          130\n",
       "21.62          126\n",
       "             ...  \n",
       "2139.22          1\n",
       "3262.95          1\n",
       "14570.78         1\n",
       "1618.8           1\n",
       "6753.14          1\n",
       "Name: 운동량, Length: 279971, dtype: int64"
      ]
     },
     "execution_count": 181,
     "metadata": {},
     "output_type": "execute_result"
    }
   ],
   "source": [
    "bike2['운동량'].value_counts()"
   ]
  },
  {
   "cell_type": "code",
   "execution_count": 182,
   "id": "a9aa4cee",
   "metadata": {
    "scrolled": true
   },
   "outputs": [
    {
     "name": "stdout",
     "output_type": "stream",
     "text": [
      "<class 'pandas.core.frame.DataFrame'>\n",
      "RangeIndex: 948888 entries, 0 to 948887\n",
      "Data columns (total 24 columns):\n",
      " #   Column   Non-Null Count   Dtype  \n",
      "---  ------   --------------   -----  \n",
      " 0   대여일자     948887 non-null  object \n",
      " 1   대여소번호    948887 non-null  float64\n",
      " 2   대여소명     948887 non-null  object \n",
      " 3   대여구분코드   948887 non-null  object \n",
      " 4   성별       948888 non-null  int64  \n",
      " 5   연령대코드    948887 non-null  object \n",
      " 6   이용건수     948887 non-null  float64\n",
      " 7   운동량      948887 non-null  object \n",
      " 8   탄소량      948887 non-null  object \n",
      " 9   이동거리     948887 non-null  float64\n",
      " 10  이용시간     948887 non-null  float64\n",
      " 11  여성       13 non-null      float64\n",
      " 12  남성       13 non-null      float64\n",
      " 13  미상       13 non-null      float64\n",
      " 14  총 이용건수   13 non-null      float64\n",
      " 15  AGE_001  13 non-null      float64\n",
      " 16  AGE_002  13 non-null      float64\n",
      " 17  AGE_003  13 non-null      float64\n",
      " 18  AGE_004  13 non-null      float64\n",
      " 19  AGE_005  13 non-null      float64\n",
      " 20  AGE_006  13 non-null      float64\n",
      " 21  AGE_007  13 non-null      float64\n",
      " 22  AGE_008  13 non-null      float64\n",
      " 23  AGE_009  13 non-null      float64\n",
      "dtypes: float64(17), int64(1), object(6)\n",
      "memory usage: 173.7+ MB\n"
     ]
    }
   ],
   "source": [
    "bike2.info()"
   ]
  },
  {
   "cell_type": "markdown",
   "id": "e63e561f",
   "metadata": {},
   "source": [
    "## 실수형으로 변환시 NaN 값 생성. 해결 중..."
   ]
  },
  {
   "cell_type": "code",
   "execution_count": 183,
   "id": "8eb8285d",
   "metadata": {},
   "outputs": [
    {
     "data": {
      "text/plain": [
       "0           61.82\n",
       "1           39.62\n",
       "2          430.85\n",
       "3            1.79\n",
       "4         4501.96\n",
       "           ...   \n",
       "948883       0.00\n",
       "948884       0.00\n",
       "948885       0.00\n",
       "948886       0.00\n",
       "948887        NaN\n",
       "Name: 운동량, Length: 948888, dtype: float64"
      ]
     },
     "execution_count": 183,
     "metadata": {},
     "output_type": "execute_result"
    }
   ],
   "source": [
    "# 운동량 값 숫자형으로 변환\n",
    "bike2['운동량'].astype(float)"
   ]
  },
  {
   "cell_type": "code",
   "execution_count": 187,
   "id": "d31bee3e",
   "metadata": {},
   "outputs": [
    {
     "name": "stdout",
     "output_type": "stream",
     "text": [
      "<class 'pandas.core.frame.DataFrame'>\n",
      "RangeIndex: 948888 entries, 0 to 948887\n",
      "Data columns (total 24 columns):\n",
      " #   Column   Non-Null Count   Dtype  \n",
      "---  ------   --------------   -----  \n",
      " 0   대여일자     948887 non-null  object \n",
      " 1   대여소번호    948887 non-null  float64\n",
      " 2   대여소명     948887 non-null  object \n",
      " 3   대여구분코드   948887 non-null  object \n",
      " 4   성별       948888 non-null  int64  \n",
      " 5   연령대코드    948887 non-null  object \n",
      " 6   이용건수     948887 non-null  float64\n",
      " 7   운동량      948887 non-null  object \n",
      " 8   탄소량      948887 non-null  object \n",
      " 9   이동거리     948887 non-null  float64\n",
      " 10  이용시간     948887 non-null  float64\n",
      " 11  여성       13 non-null      float64\n",
      " 12  남성       13 non-null      float64\n",
      " 13  미상       13 non-null      float64\n",
      " 14  총 이용건수   13 non-null      float64\n",
      " 15  AGE_001  13 non-null      float64\n",
      " 16  AGE_002  13 non-null      float64\n",
      " 17  AGE_003  13 non-null      float64\n",
      " 18  AGE_004  13 non-null      float64\n",
      " 19  AGE_005  13 non-null      float64\n",
      " 20  AGE_006  13 non-null      float64\n",
      " 21  AGE_007  13 non-null      float64\n",
      " 22  AGE_008  13 non-null      float64\n",
      " 23  AGE_009  13 non-null      float64\n",
      "dtypes: float64(17), int64(1), object(6)\n",
      "memory usage: 173.7+ MB\n"
     ]
    }
   ],
   "source": [
    "bike2.info()"
   ]
  },
  {
   "cell_type": "code",
   "execution_count": null,
   "id": "6ed31201",
   "metadata": {},
   "outputs": [],
   "source": []
  }
 ],
 "metadata": {
  "kernelspec": {
   "display_name": "Python 3",
   "language": "python",
   "name": "python3"
  },
  "language_info": {
   "codemirror_mode": {
    "name": "ipython",
    "version": 3
   },
   "file_extension": ".py",
   "mimetype": "text/x-python",
   "name": "python",
   "nbconvert_exporter": "python",
   "pygments_lexer": "ipython3",
   "version": "3.8.8"
  }
 },
 "nbformat": 4,
 "nbformat_minor": 5
}
