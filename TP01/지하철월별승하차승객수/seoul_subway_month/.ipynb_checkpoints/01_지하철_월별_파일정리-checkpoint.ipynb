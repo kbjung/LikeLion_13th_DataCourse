{
 "cells": [
  {
   "cell_type": "code",
   "execution_count": null,
   "id": "95f8aab1",
   "metadata": {},
   "outputs": [],
   "source": [
    "# 파일을 순차적으로 불러오기\n",
    "# 월별 승하차 인원 합계 구하기\n",
    "# 월별로 데이터 셋으로 만들기 \n",
    "# 월별 데이터셋 하나로 합치기\n",
    "# csv 파일로 만들기"
   ]
  },
  {
   "cell_type": "code",
   "execution_count": 1,
   "id": "837dfaec",
   "metadata": {},
   "outputs": [],
   "source": [
    "import pandas as pd"
   ]
  },
  {
   "cell_type": "code",
   "execution_count": 2,
   "id": "93d000f6",
   "metadata": {
    "scrolled": false
   },
   "outputs": [],
   "source": [
    "# 파일 불러오기\n",
    "# 파일을 순차적으로 불러오기\n",
    "# 월별 승하차 인원 합계 구하기\n",
    "# 월별로 데이터 셋으로 만들기 \n",
    "\n",
    "# 2015\n",
    "sub_in_month_2015 = []\n",
    "sub_out_month_2015 = []\n",
    "for i in range(1,13):\n",
    "    tmp_csv = pd.read_csv(f'./2015/CARD_SUBWAY_MONTH_2015{i:0>2}.csv', encoding='cp949')\n",
    "    tmp_sum1 = tmp_csv['승차총승객수'].sum()\n",
    "    tmp_sum2 = tmp_csv['하차총승객수'].sum()\n",
    "    sub_in_month_2015.append(tmp_sum1)\n",
    "    sub_out_month_2015.append(tmp_sum2)\n",
    "\n",
    "# print(len(sub_in_month_2015))\n",
    "# print(len(sub_out_month_2015))\n",
    "# sub_in_month_2015"
   ]
  },
  {
   "cell_type": "code",
   "execution_count": 3,
   "id": "4d87e16f",
   "metadata": {},
   "outputs": [],
   "source": [
    "# 2016\n",
    "sub_in_month_2016 = []\n",
    "sub_out_month_2016 = []\n",
    "for i in range(1,13):\n",
    "    tmp_csv = pd.read_csv(f'./2016/CARD_SUBWAY_MONTH_2016{i:0>2}.csv', encoding='cp949')\n",
    "    tmp_sum1 = tmp_csv['승차총승객수'].sum()\n",
    "    tmp_sum2 = tmp_csv['하차총승객수'].sum()\n",
    "    sub_in_month_2016.append(tmp_sum1)\n",
    "    sub_out_month_2016.append(tmp_sum2)"
   ]
  },
  {
   "cell_type": "code",
   "execution_count": 5,
   "id": "1f4035be",
   "metadata": {},
   "outputs": [],
   "source": [
    "# 2017\n",
    "sub_in_month_2017 = []\n",
    "sub_out_month_2017 = []\n",
    "for i in range(1,13):\n",
    "    tmp_csv = pd.read_csv(f'./2017/CARD_SUBWAY_MONTH_2017{i:0>2}.csv', encoding='cp949')\n",
    "    tmp_sum1 = tmp_csv['승차총승객수'].sum()\n",
    "    tmp_sum2 = tmp_csv['하차총승객수'].sum()\n",
    "    sub_in_month_2017.append(tmp_sum1)\n",
    "    sub_out_month_2017.append(tmp_sum2)"
   ]
  },
  {
   "cell_type": "code",
   "execution_count": null,
   "id": "9f4c825f",
   "metadata": {},
   "outputs": [],
   "source": [
    "# 2018\n",
    "sub_in_month_2018 = []\n",
    "sub_out_month_2018 = []\n",
    "for i in range(1,13):\n",
    "    tmp_csv = pd.read_csv(f'./2018/CARD_SUBWAY_MONTH_2018{i:0>2}.csv', encoding='cp949')\n",
    "    tmp_sum1 = tmp_csv['승차총승객수'].sum()\n",
    "    tmp_sum2 = tmp_csv['하차총승객수'].sum()\n",
    "    sub_in_month_2018.append(tmp_sum1)\n",
    "    sub_out_month_2018.append(tmp_sum2)"
   ]
  }
 ],
 "metadata": {
  "kernelspec": {
   "display_name": "Python 3",
   "language": "python",
   "name": "python3"
  },
  "language_info": {
   "codemirror_mode": {
    "name": "ipython",
    "version": 3
   },
   "file_extension": ".py",
   "mimetype": "text/x-python",
   "name": "python",
   "nbconvert_exporter": "python",
   "pygments_lexer": "ipython3",
   "version": "3.8.8"
  }
 },
 "nbformat": 4,
 "nbformat_minor": 5
}
