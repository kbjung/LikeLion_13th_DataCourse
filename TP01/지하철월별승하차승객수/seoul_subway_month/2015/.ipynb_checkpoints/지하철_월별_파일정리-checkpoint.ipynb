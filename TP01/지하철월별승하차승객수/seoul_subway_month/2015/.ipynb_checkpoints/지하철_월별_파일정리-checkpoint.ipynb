{
 "cells": [
  {
   "cell_type": "code",
   "execution_count": 1,
   "id": "04966b22",
   "metadata": {},
   "outputs": [],
   "source": [
    "# 파일을 순차적으로 불러오기\n",
    "# 월별 승하차 인원 합계 구하기\n",
    "# 월별로 데이터 셋으로 만들기 \n",
    "# 월별 데이터셋 하나로 합치기\n",
    "# csv 파일로 만들기"
   ]
  },
  {
   "cell_type": "code",
   "execution_count": 33,
   "id": "95049673",
   "metadata": {},
   "outputs": [],
   "source": [
    "import pandas as pd"
   ]
  },
  {
   "cell_type": "code",
   "execution_count": 39,
   "id": "2bc11a8f",
   "metadata": {
    "scrolled": false
   },
   "outputs": [],
   "source": [
    "# 파일 불러오기\n",
    "\n",
    "sub_2015_01 = pd.read_csv('CARD_SUBWAY_MONTH_201501.csv', encoding='cp949')\n",
    "sub_2015_02 = pd.read_csv('CARD_SUBWAY_MONTH_201502.csv', encoding='cp949')\n",
    "sub_2015_03 = pd.read_csv('CARD_SUBWAY_MONTH_201503.csv', encoding='cp949')\n",
    "sub_2015_04 = pd.read_csv('CARD_SUBWAY_MONTH_201504.csv', encoding='cp949')\n",
    "sub_2015_05 = pd.read_csv('CARD_SUBWAY_MONTH_201505.csv', encoding='cp949')\n",
    "sub_2015_06 = pd.read_csv('CARD_SUBWAY_MONTH_201506.csv', encoding='cp949')\n",
    "sub_2015_07 = pd.read_csv('CARD_SUBWAY_MONTH_201507.csv', encoding='cp949')\n",
    "sub_2015_08 = pd.read_csv('CARD_SUBWAY_MONTH_201508.csv', encoding='cp949')\n",
    "sub_2015_09 = pd.read_csv('CARD_SUBWAY_MONTH_201509.csv', encoding='cp949')\n",
    "sub_2015_10 = pd.read_csv('CARD_SUBWAY_MONTH_201510.csv', encoding='cp949')\n",
    "sub_2015_11 = pd.read_csv('CARD_SUBWAY_MONTH_201511.csv', encoding='cp949')\n",
    "sub_2015_12 = pd.read_csv('CARD_SUBWAY_MONTH_201512.csv', encoding='cp949')"
   ]
  },
  {
   "cell_type": "code",
   "execution_count": 40,
   "id": "94a56184",
   "metadata": {},
   "outputs": [],
   "source": [
    "# 월별 승하차 인원 합계 구하기\n",
    "month_2015_01 = sub_2015_01[['승차총승객수', '하차총승객수']].sum()\n",
    "month_2015_02 = sub_2015_02[['승차총승객수', '하차총승객수']].sum()\n",
    "month_2015_03 = sub_2015_03[['승차총승객수', '하차총승객수']].sum()\n",
    "month_2015_04 = sub_2015_04[['승차총승객수', '하차총승객수']].sum()\n",
    "month_2015_05 = sub_2015_05[['승차총승객수', '하차총승객수']].sum()\n",
    "month_2015_06 = sub_2015_06[['승차총승객수', '하차총승객수']].sum()\n",
    "month_2015_07 = sub_2015_07[['승차총승객수', '하차총승객수']].sum()\n",
    "month_2015_08 = sub_2015_08[['승차총승객수', '하차총승객수']].sum()\n",
    "month_2015_09 = sub_2015_09[['승차총승객수', '하차총승객수']].sum()\n",
    "month_2015_10 = sub_2015_10[['승차총승객수', '하차총승객수']].sum()\n",
    "month_2015_11 = sub_2015_11[['승차총승객수', '하차총승객수']].sum()\n",
    "month_2015_12 = sub_2015_12[['승차총승객수', '하차총승객수']].sum()"
   ]
  },
  {
   "cell_type": "code",
   "execution_count": 41,
   "id": "1b72d857",
   "metadata": {},
   "outputs": [],
   "source": [
    "# 월별 데이터 셋 하나로 합치기\n",
    "sub_month = {'승차총승객수':month_2015_01['승차총승객수'], '하차총승객수':month_2015_01['하차총승객수'],\n",
    "             '승차총승객수':month_2015_02['승차총승객수'], '하차총승객수':month_2015_02['하차총승객수'],\n",
    "             '승차총승객수':month_2015_03['승차총승객수'], '하차총승객수':month_2015_03['하차총승객수'],\n",
    "             '승차총승객수':month_2015_04['승차총승객수'], '하차총승객수':month_2015_04['하차총승객수'],\n",
    "             '승차총승객수':month_2015_05['승차총승객수'], '하차총승객수':month_2015_05['하차총승객수'],\n",
    "             '승차총승객수':month_2015_06['승차총승객수'], '하차총승객수':month_2015_06['하차총승객수'],\n",
    "             '승차총승객수':month_2015_07['승차총승객수'], '하차총승객수':month_2015_07['하차총승객수'],\n",
    "             '승차총승객수':month_2015_08['승차총승객수'], '하차총승객수':month_2015_08['하차총승객수'],\n",
    "             '승차총승객수':month_2015_09['승차총승객수'], '하차총승객수':month_2015_09['하차총승객수'],\n",
    "             '승차총승객수':month_2015_10['승차총승객수'], '하차총승객수':month_2015_10['하차총승객수'],\n",
    "             '승차총승객수':month_2015_11['승차총승객수'], '하차총승객수':month_2015_11['하차총승객수'],\n",
    "             '승차총승객수':month_2015_12['승차총승객수'], '하차총승객수':month_2015_12['하차총승객수'],\n",
    "}\n",
    "sub_month_f = pd.DataFrame(sub_month, index=['2015-01', '2015-02', '2015-03', '2015-04', '2015-05', '2015-06',\n",
    "                    '2015-07', '2015-08', '2015-09', '2015-10', '2015-11', '2015-12'])"
   ]
  },
  {
   "cell_type": "code",
   "execution_count": 42,
   "id": "1e3a4462",
   "metadata": {},
   "outputs": [
    {
     "data": {
      "text/plain": [
       "{'승차총승객수': 233155014.0, '하차총승객수': 232154505.0}"
      ]
     },
     "execution_count": 42,
     "metadata": {},
     "output_type": "execute_result"
    }
   ],
   "source": [
    "sub_month"
   ]
  },
  {
   "cell_type": "code",
   "execution_count": null,
   "id": "e66041b7",
   "metadata": {},
   "outputs": [],
   "source": []
  }
 ],
 "metadata": {
  "kernelspec": {
   "display_name": "Python 3",
   "language": "python",
   "name": "python3"
  },
  "language_info": {
   "codemirror_mode": {
    "name": "ipython",
    "version": 3
   },
   "file_extension": ".py",
   "mimetype": "text/x-python",
   "name": "python",
   "nbconvert_exporter": "python",
   "pygments_lexer": "ipython3",
   "version": "3.8.8"
  }
 },
 "nbformat": 4,
 "nbformat_minor": 5
}
