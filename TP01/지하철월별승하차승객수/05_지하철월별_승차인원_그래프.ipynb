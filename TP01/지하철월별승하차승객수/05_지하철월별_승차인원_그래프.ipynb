{
 "cells": [
  {
   "cell_type": "markdown",
   "id": "a2a445c3",
   "metadata": {},
   "source": [
    "### 년도 별 파일 불러와 월별 합계 구하기\n",
    "* 파일을 순차적으로 불러오기\n",
    "* 월별 승하차 인원 합계 구하기\n",
    "* 월별로 데이터 셋으로 만들기 \n",
    "* 월별 데이터셋 하나로 합치기\n",
    "* csv 파일로 만들기"
   ]
  },
  {
   "cell_type": "markdown",
   "id": "5a889e41",
   "metadata": {},
   "source": [
    "### 파일 불러오기\n",
    "* 경로 : ./seoul_subway_month/년도/CARD_SUBWAY_MONTH_년도월.csv"
   ]
  },
  {
   "cell_type": "code",
   "execution_count": 63,
   "id": "623b7d90",
   "metadata": {},
   "outputs": [],
   "source": [
    "import pandas as pd"
   ]
  },
  {
   "cell_type": "code",
   "execution_count": 64,
   "id": "2bff44d4",
   "metadata": {
    "scrolled": true
   },
   "outputs": [
    {
     "name": "stdout",
     "output_type": "stream",
     "text": [
      "80\n",
      "80\n"
     ]
    },
    {
     "data": {
      "text/plain": [
       "[437278792,\n",
       " 376783122,\n",
       " 478541350,\n",
       " 236022558.0,\n",
       " 234296965.0,\n",
       " 203119706.0,\n",
       " 218172679.0,\n",
       " 210102718.0,\n",
       " 214486255.0,\n",
       " 234349102.0,\n",
       " 223497154.0,\n",
       " 233155014.0,\n",
       " 209273211.0,\n",
       " 193647156.0,\n",
       " 236377700.0,\n",
       " 228348725.0,\n",
       " 234166653.0,\n",
       " 222611572.0,\n",
       " 219465787.0,\n",
       " 214193213.0,\n",
       " 210698312.0,\n",
       " 229681635.0,\n",
       " 228122715.0,\n",
       " 231777262.0,\n",
       " 205502324.0,\n",
       " 204936457.0,\n",
       " 237179303.0,\n",
       " 227780690.0,\n",
       " 227836340.0,\n",
       " 221308605.0,\n",
       " 214815271.0,\n",
       " 213776584.0,\n",
       " 228240103.0,\n",
       " 208204249.0,\n",
       " 228254078.0,\n",
       " 228619448.0,\n",
       " 213710722.0,\n",
       " 189110822.0,\n",
       " 235296346.0,\n",
       " 228971702.0,\n",
       " 235253127.0,\n",
       " 219426719.0,\n",
       " 221632774.0,\n",
       " 214216200.0,\n",
       " 208561416.0,\n",
       " 235739024.0,\n",
       " 232960426.0,\n",
       " 227834001.0,\n",
       " 221848014.0,\n",
       " 190335812.0,\n",
       " 233813277.0,\n",
       " 235928571.0,\n",
       " 243338053.0,\n",
       " 221547039.0,\n",
       " 229254848.0,\n",
       " 219672653.0,\n",
       " 214006728.0,\n",
       " 240101848.0,\n",
       " 232284482.0,\n",
       " 234574904.0,\n",
       " 207743593.0,\n",
       " 169582542.0,\n",
       " 139686779.0,\n",
       " 149118804.0,\n",
       " 164531970,\n",
       " 171605690,\n",
       " 183490485,\n",
       " 152989131,\n",
       " 144602055,\n",
       " 169231365,\n",
       " 171847194,\n",
       " 139666561,\n",
       " 142178674,\n",
       " 142994483,\n",
       " 179109500,\n",
       " 177677244,\n",
       " 174157717,\n",
       " 179060211,\n",
       " 159645605,\n",
       " 152911075]"
      ]
     },
     "execution_count": 64,
     "metadata": {},
     "output_type": "execute_result"
    }
   ],
   "source": [
    "# 2020년 4월까지 인코딩이 ANSI\n",
    "# 2020년 5월부터 8월까지 UTF-8(ROM)\n",
    "# 2020년 9월 ANSI\n",
    "# 2020년 10월 UTF-8(ROM)\n",
    "# csv 파일 인코딩을 메모장으로 변경\n",
    "\n",
    "#2021년은 8월까지만 파일 존재\n",
    "\n",
    "# 파일 불러와 년도 별 승차, 하차 각각 월별 총 승객수 리스트로 만들기\n",
    "sub_in_month = []\n",
    "sub_out_month = []\n",
    "\n",
    "# 2015-2019년 1-12월, 인코딩 'cp949'\n",
    "for y in range(15, 20):\n",
    "    for i in range(1,13):\n",
    "        tmp_csv = pd.read_csv(f'./seoul_subway_month/20{y}/CARD_SUBWAY_MONTH_20{y}{i:0>2}.csv', encoding='cp949')\n",
    "        tmp_sum1 = tmp_csv['승차총승객수'].sum()\n",
    "        tmp_sum2 = tmp_csv['하차총승객수'].sum()\n",
    "        sub_in_month.append(tmp_sum1)\n",
    "        sub_out_month.append(tmp_sum2)\n",
    "\n",
    "#2020년 인코딩 'utf-8'\n",
    "for i in range(1,13):\n",
    "    tmp_csv = pd.read_csv(f'./seoul_subway_month/2020/CARD_SUBWAY_MONTH_2020{i:0>2}.csv', encoding='utf-8')\n",
    "    tmp_sum1 = tmp_csv['승차총승객수'].sum()\n",
    "    tmp_sum2 = tmp_csv['하차총승객수'].sum()\n",
    "    sub_in_month.append(tmp_sum1)\n",
    "    sub_out_month.append(tmp_sum2)\n",
    "\n",
    "    # 2021년 1-8월\n",
    "for i in range(1,9):\n",
    "    tmp_csv = pd.read_csv(f'./seoul_subway_month/2021/CARD_SUBWAY_MONTH_2021{i:0>2}.csv', encoding='utf-8')\n",
    "    tmp_sum1 = tmp_csv['승차총승객수'].sum()\n",
    "    tmp_sum2 = tmp_csv['하차총승객수'].sum()\n",
    "    sub_in_month.append(tmp_sum1)\n",
    "    sub_out_month.append(tmp_sum2)\n",
    "        \n",
    "print(len(sub_in_month))\n",
    "print(len(sub_out_month))\n",
    "sub_in_month"
   ]
  },
  {
   "cell_type": "code",
   "execution_count": 65,
   "id": "fe85b63f",
   "metadata": {
    "scrolled": true
   },
   "outputs": [
    {
     "data": {
      "text/plain": [
       "[\"'2015-01\", \"'2015-02\", \"'2015-03\", \"'2015-04\", \"'2015-05\"]"
      ]
     },
     "execution_count": 65,
     "metadata": {},
     "output_type": "execute_result"
    }
   ],
   "source": [
    "# index 만들기\n",
    "index = []\n",
    "# 2015-2020년 1-12월\n",
    "for y in range(15, 21):\n",
    "    for m in range(1, 13):\n",
    "        tmp = f\"'20{y}-{m:0>2}\"\n",
    "        index.append(tmp)\n",
    "# 2021년 1-8월\n",
    "for m in range(1, 9):\n",
    "    tmp = f\"'2021-{m:0>2}\"\n",
    "    index.append(tmp)\n",
    "index[:5]"
   ]
  },
  {
   "cell_type": "code",
   "execution_count": 66,
   "id": "77306ad9",
   "metadata": {
    "scrolled": false
   },
   "outputs": [
    {
     "data": {
      "text/html": [
       "<div>\n",
       "<style scoped>\n",
       "    .dataframe tbody tr th:only-of-type {\n",
       "        vertical-align: middle;\n",
       "    }\n",
       "\n",
       "    .dataframe tbody tr th {\n",
       "        vertical-align: top;\n",
       "    }\n",
       "\n",
       "    .dataframe thead th {\n",
       "        text-align: right;\n",
       "    }\n",
       "</style>\n",
       "<table border=\"1\" class=\"dataframe\">\n",
       "  <thead>\n",
       "    <tr style=\"text-align: right;\">\n",
       "      <th></th>\n",
       "      <th>월별승차총승객수</th>\n",
       "      <th>월별하차총승객수</th>\n",
       "    </tr>\n",
       "  </thead>\n",
       "  <tbody>\n",
       "    <tr>\n",
       "      <th>'2015-01</th>\n",
       "      <td>437278792.0</td>\n",
       "      <td>4.350668e+08</td>\n",
       "    </tr>\n",
       "    <tr>\n",
       "      <th>'2015-02</th>\n",
       "      <td>376783122.0</td>\n",
       "      <td>3.748843e+08</td>\n",
       "    </tr>\n",
       "    <tr>\n",
       "      <th>'2015-03</th>\n",
       "      <td>478541350.0</td>\n",
       "      <td>4.764516e+08</td>\n",
       "    </tr>\n",
       "    <tr>\n",
       "      <th>'2015-04</th>\n",
       "      <td>236022558.0</td>\n",
       "      <td>2.348989e+08</td>\n",
       "    </tr>\n",
       "    <tr>\n",
       "      <th>'2015-05</th>\n",
       "      <td>234296965.0</td>\n",
       "      <td>2.331702e+08</td>\n",
       "    </tr>\n",
       "    <tr>\n",
       "      <th>'2015-06</th>\n",
       "      <td>203119706.0</td>\n",
       "      <td>2.023999e+08</td>\n",
       "    </tr>\n",
       "    <tr>\n",
       "      <th>'2015-07</th>\n",
       "      <td>218172679.0</td>\n",
       "      <td>2.172651e+08</td>\n",
       "    </tr>\n",
       "    <tr>\n",
       "      <th>'2015-08</th>\n",
       "      <td>210102718.0</td>\n",
       "      <td>2.091306e+08</td>\n",
       "    </tr>\n",
       "    <tr>\n",
       "      <th>'2015-09</th>\n",
       "      <td>214486255.0</td>\n",
       "      <td>2.135781e+08</td>\n",
       "    </tr>\n",
       "    <tr>\n",
       "      <th>'2015-10</th>\n",
       "      <td>234349102.0</td>\n",
       "      <td>2.333415e+08</td>\n",
       "    </tr>\n",
       "    <tr>\n",
       "      <th>'2015-11</th>\n",
       "      <td>223497154.0</td>\n",
       "      <td>2.226006e+08</td>\n",
       "    </tr>\n",
       "    <tr>\n",
       "      <th>'2015-12</th>\n",
       "      <td>233155014.0</td>\n",
       "      <td>2.321545e+08</td>\n",
       "    </tr>\n",
       "    <tr>\n",
       "      <th>'2016-01</th>\n",
       "      <td>209273211.0</td>\n",
       "      <td>2.083183e+08</td>\n",
       "    </tr>\n",
       "    <tr>\n",
       "      <th>'2016-02</th>\n",
       "      <td>193647156.0</td>\n",
       "      <td>1.927735e+08</td>\n",
       "    </tr>\n",
       "    <tr>\n",
       "      <th>'2016-03</th>\n",
       "      <td>236377700.0</td>\n",
       "      <td>2.354281e+08</td>\n",
       "    </tr>\n",
       "    <tr>\n",
       "      <th>'2016-04</th>\n",
       "      <td>228348725.0</td>\n",
       "      <td>2.274314e+08</td>\n",
       "    </tr>\n",
       "    <tr>\n",
       "      <th>'2016-05</th>\n",
       "      <td>234166653.0</td>\n",
       "      <td>2.331757e+08</td>\n",
       "    </tr>\n",
       "    <tr>\n",
       "      <th>'2016-06</th>\n",
       "      <td>222611572.0</td>\n",
       "      <td>2.216888e+08</td>\n",
       "    </tr>\n",
       "    <tr>\n",
       "      <th>'2016-07</th>\n",
       "      <td>219465787.0</td>\n",
       "      <td>2.184620e+08</td>\n",
       "    </tr>\n",
       "    <tr>\n",
       "      <th>'2016-08</th>\n",
       "      <td>214193213.0</td>\n",
       "      <td>2.132246e+08</td>\n",
       "    </tr>\n",
       "    <tr>\n",
       "      <th>'2016-09</th>\n",
       "      <td>210698312.0</td>\n",
       "      <td>2.098050e+08</td>\n",
       "    </tr>\n",
       "    <tr>\n",
       "      <th>'2016-10</th>\n",
       "      <td>229681635.0</td>\n",
       "      <td>2.286361e+08</td>\n",
       "    </tr>\n",
       "    <tr>\n",
       "      <th>'2016-11</th>\n",
       "      <td>228122715.0</td>\n",
       "      <td>2.271226e+08</td>\n",
       "    </tr>\n",
       "    <tr>\n",
       "      <th>'2016-12</th>\n",
       "      <td>231777262.0</td>\n",
       "      <td>2.307244e+08</td>\n",
       "    </tr>\n",
       "    <tr>\n",
       "      <th>'2017-01</th>\n",
       "      <td>205502324.0</td>\n",
       "      <td>2.045320e+08</td>\n",
       "    </tr>\n",
       "    <tr>\n",
       "      <th>'2017-02</th>\n",
       "      <td>204936457.0</td>\n",
       "      <td>2.039852e+08</td>\n",
       "    </tr>\n",
       "    <tr>\n",
       "      <th>'2017-03</th>\n",
       "      <td>237179303.0</td>\n",
       "      <td>2.362040e+08</td>\n",
       "    </tr>\n",
       "    <tr>\n",
       "      <th>'2017-04</th>\n",
       "      <td>227780690.0</td>\n",
       "      <td>2.267899e+08</td>\n",
       "    </tr>\n",
       "    <tr>\n",
       "      <th>'2017-05</th>\n",
       "      <td>227836340.0</td>\n",
       "      <td>2.267997e+08</td>\n",
       "    </tr>\n",
       "    <tr>\n",
       "      <th>'2017-06</th>\n",
       "      <td>221308605.0</td>\n",
       "      <td>2.203622e+08</td>\n",
       "    </tr>\n",
       "    <tr>\n",
       "      <th>'2017-07</th>\n",
       "      <td>214815271.0</td>\n",
       "      <td>2.138586e+08</td>\n",
       "    </tr>\n",
       "    <tr>\n",
       "      <th>'2017-08</th>\n",
       "      <td>213776584.0</td>\n",
       "      <td>2.128094e+08</td>\n",
       "    </tr>\n",
       "    <tr>\n",
       "      <th>'2017-09</th>\n",
       "      <td>228240103.0</td>\n",
       "      <td>2.271700e+08</td>\n",
       "    </tr>\n",
       "    <tr>\n",
       "      <th>'2017-10</th>\n",
       "      <td>208204249.0</td>\n",
       "      <td>2.071961e+08</td>\n",
       "    </tr>\n",
       "    <tr>\n",
       "      <th>'2017-11</th>\n",
       "      <td>228254078.0</td>\n",
       "      <td>2.272788e+08</td>\n",
       "    </tr>\n",
       "    <tr>\n",
       "      <th>'2017-12</th>\n",
       "      <td>228619448.0</td>\n",
       "      <td>2.276694e+08</td>\n",
       "    </tr>\n",
       "    <tr>\n",
       "      <th>'2018-01</th>\n",
       "      <td>213710722.0</td>\n",
       "      <td>2.128495e+08</td>\n",
       "    </tr>\n",
       "    <tr>\n",
       "      <th>'2018-02</th>\n",
       "      <td>189110822.0</td>\n",
       "      <td>1.883409e+08</td>\n",
       "    </tr>\n",
       "    <tr>\n",
       "      <th>'2018-03</th>\n",
       "      <td>235296346.0</td>\n",
       "      <td>2.344100e+08</td>\n",
       "    </tr>\n",
       "    <tr>\n",
       "      <th>'2018-04</th>\n",
       "      <td>228971702.0</td>\n",
       "      <td>2.280969e+08</td>\n",
       "    </tr>\n",
       "    <tr>\n",
       "      <th>'2018-05</th>\n",
       "      <td>235253127.0</td>\n",
       "      <td>2.343147e+08</td>\n",
       "    </tr>\n",
       "    <tr>\n",
       "      <th>'2018-06</th>\n",
       "      <td>219426719.0</td>\n",
       "      <td>2.185427e+08</td>\n",
       "    </tr>\n",
       "    <tr>\n",
       "      <th>'2018-07</th>\n",
       "      <td>221632774.0</td>\n",
       "      <td>2.207464e+08</td>\n",
       "    </tr>\n",
       "    <tr>\n",
       "      <th>'2018-08</th>\n",
       "      <td>214216200.0</td>\n",
       "      <td>2.133305e+08</td>\n",
       "    </tr>\n",
       "    <tr>\n",
       "      <th>'2018-09</th>\n",
       "      <td>208561416.0</td>\n",
       "      <td>2.077422e+08</td>\n",
       "    </tr>\n",
       "    <tr>\n",
       "      <th>'2018-10</th>\n",
       "      <td>235739024.0</td>\n",
       "      <td>2.348376e+08</td>\n",
       "    </tr>\n",
       "    <tr>\n",
       "      <th>'2018-11</th>\n",
       "      <td>232960426.0</td>\n",
       "      <td>2.320968e+08</td>\n",
       "    </tr>\n",
       "    <tr>\n",
       "      <th>'2018-12</th>\n",
       "      <td>227834001.0</td>\n",
       "      <td>2.268266e+08</td>\n",
       "    </tr>\n",
       "    <tr>\n",
       "      <th>'2019-01</th>\n",
       "      <td>221848014.0</td>\n",
       "      <td>2.208984e+08</td>\n",
       "    </tr>\n",
       "    <tr>\n",
       "      <th>'2019-02</th>\n",
       "      <td>190335812.0</td>\n",
       "      <td>1.895002e+08</td>\n",
       "    </tr>\n",
       "    <tr>\n",
       "      <th>'2019-03</th>\n",
       "      <td>233813277.0</td>\n",
       "      <td>2.328795e+08</td>\n",
       "    </tr>\n",
       "    <tr>\n",
       "      <th>'2019-04</th>\n",
       "      <td>235928571.0</td>\n",
       "      <td>2.350058e+08</td>\n",
       "    </tr>\n",
       "    <tr>\n",
       "      <th>'2019-05</th>\n",
       "      <td>243338053.0</td>\n",
       "      <td>2.423805e+08</td>\n",
       "    </tr>\n",
       "    <tr>\n",
       "      <th>'2019-06</th>\n",
       "      <td>221547039.0</td>\n",
       "      <td>2.206636e+08</td>\n",
       "    </tr>\n",
       "    <tr>\n",
       "      <th>'2019-07</th>\n",
       "      <td>229254848.0</td>\n",
       "      <td>2.283540e+08</td>\n",
       "    </tr>\n",
       "    <tr>\n",
       "      <th>'2019-08</th>\n",
       "      <td>219672653.0</td>\n",
       "      <td>2.187592e+08</td>\n",
       "    </tr>\n",
       "    <tr>\n",
       "      <th>'2019-09</th>\n",
       "      <td>214006728.0</td>\n",
       "      <td>2.131706e+08</td>\n",
       "    </tr>\n",
       "    <tr>\n",
       "      <th>'2019-10</th>\n",
       "      <td>240101848.0</td>\n",
       "      <td>2.391459e+08</td>\n",
       "    </tr>\n",
       "    <tr>\n",
       "      <th>'2019-11</th>\n",
       "      <td>232284482.0</td>\n",
       "      <td>2.314299e+08</td>\n",
       "    </tr>\n",
       "    <tr>\n",
       "      <th>'2019-12</th>\n",
       "      <td>234574904.0</td>\n",
       "      <td>2.336736e+08</td>\n",
       "    </tr>\n",
       "    <tr>\n",
       "      <th>'2020-01</th>\n",
       "      <td>207743593.0</td>\n",
       "      <td>2.069391e+08</td>\n",
       "    </tr>\n",
       "    <tr>\n",
       "      <th>'2020-02</th>\n",
       "      <td>169582542.0</td>\n",
       "      <td>1.690586e+08</td>\n",
       "    </tr>\n",
       "    <tr>\n",
       "      <th>'2020-03</th>\n",
       "      <td>139686779.0</td>\n",
       "      <td>1.393088e+08</td>\n",
       "    </tr>\n",
       "    <tr>\n",
       "      <th>'2020-04</th>\n",
       "      <td>149118804.0</td>\n",
       "      <td>1.486839e+08</td>\n",
       "    </tr>\n",
       "    <tr>\n",
       "      <th>'2020-05</th>\n",
       "      <td>164531970.0</td>\n",
       "      <td>3.702150e+11</td>\n",
       "    </tr>\n",
       "    <tr>\n",
       "      <th>'2020-06</th>\n",
       "      <td>171605690.0</td>\n",
       "      <td>3.583389e+11</td>\n",
       "    </tr>\n",
       "    <tr>\n",
       "      <th>'2020-07</th>\n",
       "      <td>183490485.0</td>\n",
       "      <td>3.702591e+11</td>\n",
       "    </tr>\n",
       "    <tr>\n",
       "      <th>'2020-08</th>\n",
       "      <td>152989131.0</td>\n",
       "      <td>3.709478e+11</td>\n",
       "    </tr>\n",
       "    <tr>\n",
       "      <th>'2020-09</th>\n",
       "      <td>144602055.0</td>\n",
       "      <td>3.612330e+11</td>\n",
       "    </tr>\n",
       "    <tr>\n",
       "      <th>'2020-10</th>\n",
       "      <td>169231365.0</td>\n",
       "      <td>3.744664e+11</td>\n",
       "    </tr>\n",
       "    <tr>\n",
       "      <th>'2020-11</th>\n",
       "      <td>171847194.0</td>\n",
       "      <td>3.624688e+11</td>\n",
       "    </tr>\n",
       "    <tr>\n",
       "      <th>'2020-12</th>\n",
       "      <td>139666561.0</td>\n",
       "      <td>3.741021e+11</td>\n",
       "    </tr>\n",
       "    <tr>\n",
       "      <th>'2021-01</th>\n",
       "      <td>142178674.0</td>\n",
       "      <td>3.746351e+11</td>\n",
       "    </tr>\n",
       "    <tr>\n",
       "      <th>'2021-02</th>\n",
       "      <td>142994483.0</td>\n",
       "      <td>3.385415e+11</td>\n",
       "    </tr>\n",
       "    <tr>\n",
       "      <th>'2021-03</th>\n",
       "      <td>179109500.0</td>\n",
       "      <td>3.750228e+11</td>\n",
       "    </tr>\n",
       "    <tr>\n",
       "      <th>'2021-04</th>\n",
       "      <td>177677244.0</td>\n",
       "      <td>3.646163e+11</td>\n",
       "    </tr>\n",
       "    <tr>\n",
       "      <th>'2021-05</th>\n",
       "      <td>174157717.0</td>\n",
       "      <td>3.765625e+11</td>\n",
       "    </tr>\n",
       "    <tr>\n",
       "      <th>'2021-06</th>\n",
       "      <td>179060211.0</td>\n",
       "      <td>3.644986e+11</td>\n",
       "    </tr>\n",
       "    <tr>\n",
       "      <th>'2021-07</th>\n",
       "      <td>159645605.0</td>\n",
       "      <td>3.765662e+11</td>\n",
       "    </tr>\n",
       "    <tr>\n",
       "      <th>'2021-08</th>\n",
       "      <td>152911075.0</td>\n",
       "      <td>3.766894e+11</td>\n",
       "    </tr>\n",
       "  </tbody>\n",
       "</table>\n",
       "</div>"
      ],
      "text/plain": [
       "             월별승차총승객수      월별하차총승객수\n",
       "'2015-01  437278792.0  4.350668e+08\n",
       "'2015-02  376783122.0  3.748843e+08\n",
       "'2015-03  478541350.0  4.764516e+08\n",
       "'2015-04  236022558.0  2.348989e+08\n",
       "'2015-05  234296965.0  2.331702e+08\n",
       "'2015-06  203119706.0  2.023999e+08\n",
       "'2015-07  218172679.0  2.172651e+08\n",
       "'2015-08  210102718.0  2.091306e+08\n",
       "'2015-09  214486255.0  2.135781e+08\n",
       "'2015-10  234349102.0  2.333415e+08\n",
       "'2015-11  223497154.0  2.226006e+08\n",
       "'2015-12  233155014.0  2.321545e+08\n",
       "'2016-01  209273211.0  2.083183e+08\n",
       "'2016-02  193647156.0  1.927735e+08\n",
       "'2016-03  236377700.0  2.354281e+08\n",
       "'2016-04  228348725.0  2.274314e+08\n",
       "'2016-05  234166653.0  2.331757e+08\n",
       "'2016-06  222611572.0  2.216888e+08\n",
       "'2016-07  219465787.0  2.184620e+08\n",
       "'2016-08  214193213.0  2.132246e+08\n",
       "'2016-09  210698312.0  2.098050e+08\n",
       "'2016-10  229681635.0  2.286361e+08\n",
       "'2016-11  228122715.0  2.271226e+08\n",
       "'2016-12  231777262.0  2.307244e+08\n",
       "'2017-01  205502324.0  2.045320e+08\n",
       "'2017-02  204936457.0  2.039852e+08\n",
       "'2017-03  237179303.0  2.362040e+08\n",
       "'2017-04  227780690.0  2.267899e+08\n",
       "'2017-05  227836340.0  2.267997e+08\n",
       "'2017-06  221308605.0  2.203622e+08\n",
       "'2017-07  214815271.0  2.138586e+08\n",
       "'2017-08  213776584.0  2.128094e+08\n",
       "'2017-09  228240103.0  2.271700e+08\n",
       "'2017-10  208204249.0  2.071961e+08\n",
       "'2017-11  228254078.0  2.272788e+08\n",
       "'2017-12  228619448.0  2.276694e+08\n",
       "'2018-01  213710722.0  2.128495e+08\n",
       "'2018-02  189110822.0  1.883409e+08\n",
       "'2018-03  235296346.0  2.344100e+08\n",
       "'2018-04  228971702.0  2.280969e+08\n",
       "'2018-05  235253127.0  2.343147e+08\n",
       "'2018-06  219426719.0  2.185427e+08\n",
       "'2018-07  221632774.0  2.207464e+08\n",
       "'2018-08  214216200.0  2.133305e+08\n",
       "'2018-09  208561416.0  2.077422e+08\n",
       "'2018-10  235739024.0  2.348376e+08\n",
       "'2018-11  232960426.0  2.320968e+08\n",
       "'2018-12  227834001.0  2.268266e+08\n",
       "'2019-01  221848014.0  2.208984e+08\n",
       "'2019-02  190335812.0  1.895002e+08\n",
       "'2019-03  233813277.0  2.328795e+08\n",
       "'2019-04  235928571.0  2.350058e+08\n",
       "'2019-05  243338053.0  2.423805e+08\n",
       "'2019-06  221547039.0  2.206636e+08\n",
       "'2019-07  229254848.0  2.283540e+08\n",
       "'2019-08  219672653.0  2.187592e+08\n",
       "'2019-09  214006728.0  2.131706e+08\n",
       "'2019-10  240101848.0  2.391459e+08\n",
       "'2019-11  232284482.0  2.314299e+08\n",
       "'2019-12  234574904.0  2.336736e+08\n",
       "'2020-01  207743593.0  2.069391e+08\n",
       "'2020-02  169582542.0  1.690586e+08\n",
       "'2020-03  139686779.0  1.393088e+08\n",
       "'2020-04  149118804.0  1.486839e+08\n",
       "'2020-05  164531970.0  3.702150e+11\n",
       "'2020-06  171605690.0  3.583389e+11\n",
       "'2020-07  183490485.0  3.702591e+11\n",
       "'2020-08  152989131.0  3.709478e+11\n",
       "'2020-09  144602055.0  3.612330e+11\n",
       "'2020-10  169231365.0  3.744664e+11\n",
       "'2020-11  171847194.0  3.624688e+11\n",
       "'2020-12  139666561.0  3.741021e+11\n",
       "'2021-01  142178674.0  3.746351e+11\n",
       "'2021-02  142994483.0  3.385415e+11\n",
       "'2021-03  179109500.0  3.750228e+11\n",
       "'2021-04  177677244.0  3.646163e+11\n",
       "'2021-05  174157717.0  3.765625e+11\n",
       "'2021-06  179060211.0  3.644986e+11\n",
       "'2021-07  159645605.0  3.765662e+11\n",
       "'2021-08  152911075.0  3.766894e+11"
      ]
     },
     "execution_count": 66,
     "metadata": {},
     "output_type": "execute_result"
    }
   ],
   "source": [
    "all_sub_month = {'월별승차총승객수':sub_in_month, '월별하차총승객수':sub_out_month}\n",
    "# csv 파일에서 날짜서식으로 자동변환 문제 발생.\n",
    "# ' 년도-월'로 입력. 앞 한칸 띄우기 => 자동변환 문제 해결 => 그래프에서 날짜 정상 인식 실패.\n",
    "# \"'년도-월\"로 입력. 앞에 '(작은 따옴표) 붙이기 => 자동변환 문제 해결 => 그래프에서 날짜 정상 인식.\n",
    "sub_month_dat = pd.DataFrame(all_sub_month, index=index)\n",
    "sub_month_dat"
   ]
  },
  {
   "cell_type": "code",
   "execution_count": 67,
   "id": "0ddda490",
   "metadata": {},
   "outputs": [
    {
     "name": "stdout",
     "output_type": "stream",
     "text": [
      "<class 'pandas.core.frame.DataFrame'>\n",
      "Index: 80 entries, '2015-01 to '2021-08\n",
      "Data columns (total 2 columns):\n",
      " #   Column    Non-Null Count  Dtype  \n",
      "---  ------    --------------  -----  \n",
      " 0   월별승차총승객수  80 non-null     float64\n",
      " 1   월별하차총승객수  80 non-null     float64\n",
      "dtypes: float64(2)\n",
      "memory usage: 1.9+ KB\n"
     ]
    }
   ],
   "source": [
    "sub_month_dat.info()"
   ]
  },
  {
   "cell_type": "code",
   "execution_count": 68,
   "id": "8508a654",
   "metadata": {},
   "outputs": [],
   "source": [
    "# csv 파일 만들기\n",
    "sub_month_dat.to_csv('sub_month_2015-20b21.csv', index=True)"
   ]
  },
  {
   "cell_type": "markdown",
   "id": "b58efd80",
   "metadata": {},
   "source": [
    "# 그래프 그리기"
   ]
  },
  {
   "cell_type": "code",
   "execution_count": 69,
   "id": "3f84ab2d",
   "metadata": {},
   "outputs": [],
   "source": [
    "import plotly\n",
    "import cufflinks as cf"
   ]
  },
  {
   "cell_type": "code",
   "execution_count": 70,
   "id": "e6793b21",
   "metadata": {},
   "outputs": [
    {
     "data": {
      "text/html": [
       "        <script type=\"text/javascript\">\n",
       "        window.PlotlyConfig = {MathJaxConfig: 'local'};\n",
       "        if (window.MathJax) {MathJax.Hub.Config({SVG: {font: \"STIX-Web\"}});}\n",
       "        if (typeof require !== 'undefined') {\n",
       "        require.undef(\"plotly\");\n",
       "        requirejs.config({\n",
       "            paths: {\n",
       "                'plotly': ['https://cdn.plot.ly/plotly-2.4.2.min']\n",
       "            }\n",
       "        });\n",
       "        require(['plotly'], function(Plotly) {\n",
       "            window._Plotly = Plotly;\n",
       "        });\n",
       "        }\n",
       "        </script>\n",
       "        "
      ]
     },
     "metadata": {},
     "output_type": "display_data"
    },
    {
     "data": {
      "text/html": [
       "        <script type=\"text/javascript\">\n",
       "        window.PlotlyConfig = {MathJaxConfig: 'local'};\n",
       "        if (window.MathJax) {MathJax.Hub.Config({SVG: {font: \"STIX-Web\"}});}\n",
       "        if (typeof require !== 'undefined') {\n",
       "        require.undef(\"plotly\");\n",
       "        requirejs.config({\n",
       "            paths: {\n",
       "                'plotly': ['https://cdn.plot.ly/plotly-2.4.2.min']\n",
       "            }\n",
       "        });\n",
       "        require(['plotly'], function(Plotly) {\n",
       "            window._Plotly = Plotly;\n",
       "        });\n",
       "        }\n",
       "        </script>\n",
       "        "
      ]
     },
     "metadata": {},
     "output_type": "display_data"
    }
   ],
   "source": [
    "# 오프라인 모드에서도 인터렉티브한 그래픽을 가능하도록 하기\n",
    "# Enabling the offline mode for interactive plotting locally\n",
    "from plotly.offline import download_plotlyjs,init_notebook_mode,plot,iplot\n",
    "init_notebook_mode(connected=True)\n",
    "cf.go_offline()"
   ]
  },
  {
   "cell_type": "markdown",
   "id": "d3734d00",
   "metadata": {},
   "source": [
    "### 'sub_month_2015-2021.csv' 날짜 자동변환 테스트"
   ]
  },
  {
   "cell_type": "code",
   "execution_count": 71,
   "id": "0f5d82a0",
   "metadata": {},
   "outputs": [
    {
     "data": {
      "text/html": [
       "<div>\n",
       "<style scoped>\n",
       "    .dataframe tbody tr th:only-of-type {\n",
       "        vertical-align: middle;\n",
       "    }\n",
       "\n",
       "    .dataframe tbody tr th {\n",
       "        vertical-align: top;\n",
       "    }\n",
       "\n",
       "    .dataframe thead th {\n",
       "        text-align: right;\n",
       "    }\n",
       "</style>\n",
       "<table border=\"1\" class=\"dataframe\">\n",
       "  <thead>\n",
       "    <tr style=\"text-align: right;\">\n",
       "      <th></th>\n",
       "      <th>Unnamed: 0</th>\n",
       "      <th>월별승차총승객수</th>\n",
       "      <th>월별하차총승객수</th>\n",
       "    </tr>\n",
       "  </thead>\n",
       "  <tbody>\n",
       "    <tr>\n",
       "      <th>0</th>\n",
       "      <td>'2015-01</td>\n",
       "      <td>437278792.0</td>\n",
       "      <td>435066846.0</td>\n",
       "    </tr>\n",
       "    <tr>\n",
       "      <th>1</th>\n",
       "      <td>'2015-02</td>\n",
       "      <td>376783122.0</td>\n",
       "      <td>374884262.0</td>\n",
       "    </tr>\n",
       "    <tr>\n",
       "      <th>2</th>\n",
       "      <td>'2015-03</td>\n",
       "      <td>478541350.0</td>\n",
       "      <td>476451614.0</td>\n",
       "    </tr>\n",
       "    <tr>\n",
       "      <th>3</th>\n",
       "      <td>'2015-04</td>\n",
       "      <td>236022558.0</td>\n",
       "      <td>234898916.0</td>\n",
       "    </tr>\n",
       "    <tr>\n",
       "      <th>4</th>\n",
       "      <td>'2015-05</td>\n",
       "      <td>234296965.0</td>\n",
       "      <td>233170178.0</td>\n",
       "    </tr>\n",
       "  </tbody>\n",
       "</table>\n",
       "</div>"
      ],
      "text/plain": [
       "  Unnamed: 0     월별승차총승객수     월별하차총승객수\n",
       "0   '2015-01  437278792.0  435066846.0\n",
       "1   '2015-02  376783122.0  374884262.0\n",
       "2   '2015-03  478541350.0  476451614.0\n",
       "3   '2015-04  236022558.0  234898916.0\n",
       "4   '2015-05  234296965.0  233170178.0"
      ]
     },
     "execution_count": 71,
     "metadata": {},
     "output_type": "execute_result"
    }
   ],
   "source": [
    "sub_test = pd.read_csv('sub_month_2015-2021.csv', encoding='utf-8')\n",
    "sub_test.head()"
   ]
  },
  {
   "cell_type": "code",
   "execution_count": 72,
   "id": "ff345c3d",
   "metadata": {},
   "outputs": [
    {
     "data": {
      "text/plain": [
       "Index(['date', '월별승차총승객수', '월별하차총승객수'], dtype='object')"
      ]
     },
     "execution_count": 72,
     "metadata": {},
     "output_type": "execute_result"
    }
   ],
   "source": [
    "sub_test.columns = ['date', '월별승차총승객수', '월별하차총승객수']\n",
    "sub_test.columns"
   ]
  },
  {
   "cell_type": "code",
   "execution_count": 73,
   "id": "36a99d15",
   "metadata": {
    "scrolled": false
   },
   "outputs": [
    {
     "data": {
      "application/vnd.plotly.v1+json": {
       "config": {
        "linkText": "Export to plot.ly",
        "plotlyServerURL": "https://plot.ly",
        "showLink": true
       },
       "data": [
        {
         "marker": {
          "color": "rgba(255, 153, 51, 0.6)",
          "line": {
           "color": "rgba(255, 153, 51, 1.0)",
           "width": 1
          }
         },
         "name": "월별승차총승객수",
         "orientation": "v",
         "text": "",
         "type": "bar",
         "x": [
          "'2015-01",
          "'2015-02",
          "'2015-03",
          "'2015-04",
          "'2015-05",
          "'2015-06",
          "'2015-07",
          "'2015-08",
          "'2015-09",
          "'2015-10",
          "'2015-11",
          "'2015-12",
          "'2016-01"
         ],
         "y": [
          437278792,
          376783122,
          478541350,
          236022558,
          234296965,
          203119706,
          218172679,
          210102718,
          214486255,
          234349102,
          223497154,
          233155014,
          209273211
         ]
        }
       ],
       "layout": {
        "legend": {
         "bgcolor": "#F5F6F9",
         "font": {
          "color": "#4D5663"
         }
        },
        "paper_bgcolor": "#F5F6F9",
        "plot_bgcolor": "#F5F6F9",
        "template": {
         "data": {
          "bar": [
           {
            "error_x": {
             "color": "#2a3f5f"
            },
            "error_y": {
             "color": "#2a3f5f"
            },
            "marker": {
             "line": {
              "color": "#E5ECF6",
              "width": 0.5
             },
             "pattern": {
              "fillmode": "overlay",
              "size": 10,
              "solidity": 0.2
             }
            },
            "type": "bar"
           }
          ],
          "barpolar": [
           {
            "marker": {
             "line": {
              "color": "#E5ECF6",
              "width": 0.5
             },
             "pattern": {
              "fillmode": "overlay",
              "size": 10,
              "solidity": 0.2
             }
            },
            "type": "barpolar"
           }
          ],
          "carpet": [
           {
            "aaxis": {
             "endlinecolor": "#2a3f5f",
             "gridcolor": "white",
             "linecolor": "white",
             "minorgridcolor": "white",
             "startlinecolor": "#2a3f5f"
            },
            "baxis": {
             "endlinecolor": "#2a3f5f",
             "gridcolor": "white",
             "linecolor": "white",
             "minorgridcolor": "white",
             "startlinecolor": "#2a3f5f"
            },
            "type": "carpet"
           }
          ],
          "choropleth": [
           {
            "colorbar": {
             "outlinewidth": 0,
             "ticks": ""
            },
            "type": "choropleth"
           }
          ],
          "contour": [
           {
            "colorbar": {
             "outlinewidth": 0,
             "ticks": ""
            },
            "colorscale": [
             [
              0,
              "#0d0887"
             ],
             [
              0.1111111111111111,
              "#46039f"
             ],
             [
              0.2222222222222222,
              "#7201a8"
             ],
             [
              0.3333333333333333,
              "#9c179e"
             ],
             [
              0.4444444444444444,
              "#bd3786"
             ],
             [
              0.5555555555555556,
              "#d8576b"
             ],
             [
              0.6666666666666666,
              "#ed7953"
             ],
             [
              0.7777777777777778,
              "#fb9f3a"
             ],
             [
              0.8888888888888888,
              "#fdca26"
             ],
             [
              1,
              "#f0f921"
             ]
            ],
            "type": "contour"
           }
          ],
          "contourcarpet": [
           {
            "colorbar": {
             "outlinewidth": 0,
             "ticks": ""
            },
            "type": "contourcarpet"
           }
          ],
          "heatmap": [
           {
            "colorbar": {
             "outlinewidth": 0,
             "ticks": ""
            },
            "colorscale": [
             [
              0,
              "#0d0887"
             ],
             [
              0.1111111111111111,
              "#46039f"
             ],
             [
              0.2222222222222222,
              "#7201a8"
             ],
             [
              0.3333333333333333,
              "#9c179e"
             ],
             [
              0.4444444444444444,
              "#bd3786"
             ],
             [
              0.5555555555555556,
              "#d8576b"
             ],
             [
              0.6666666666666666,
              "#ed7953"
             ],
             [
              0.7777777777777778,
              "#fb9f3a"
             ],
             [
              0.8888888888888888,
              "#fdca26"
             ],
             [
              1,
              "#f0f921"
             ]
            ],
            "type": "heatmap"
           }
          ],
          "heatmapgl": [
           {
            "colorbar": {
             "outlinewidth": 0,
             "ticks": ""
            },
            "colorscale": [
             [
              0,
              "#0d0887"
             ],
             [
              0.1111111111111111,
              "#46039f"
             ],
             [
              0.2222222222222222,
              "#7201a8"
             ],
             [
              0.3333333333333333,
              "#9c179e"
             ],
             [
              0.4444444444444444,
              "#bd3786"
             ],
             [
              0.5555555555555556,
              "#d8576b"
             ],
             [
              0.6666666666666666,
              "#ed7953"
             ],
             [
              0.7777777777777778,
              "#fb9f3a"
             ],
             [
              0.8888888888888888,
              "#fdca26"
             ],
             [
              1,
              "#f0f921"
             ]
            ],
            "type": "heatmapgl"
           }
          ],
          "histogram": [
           {
            "marker": {
             "pattern": {
              "fillmode": "overlay",
              "size": 10,
              "solidity": 0.2
             }
            },
            "type": "histogram"
           }
          ],
          "histogram2d": [
           {
            "colorbar": {
             "outlinewidth": 0,
             "ticks": ""
            },
            "colorscale": [
             [
              0,
              "#0d0887"
             ],
             [
              0.1111111111111111,
              "#46039f"
             ],
             [
              0.2222222222222222,
              "#7201a8"
             ],
             [
              0.3333333333333333,
              "#9c179e"
             ],
             [
              0.4444444444444444,
              "#bd3786"
             ],
             [
              0.5555555555555556,
              "#d8576b"
             ],
             [
              0.6666666666666666,
              "#ed7953"
             ],
             [
              0.7777777777777778,
              "#fb9f3a"
             ],
             [
              0.8888888888888888,
              "#fdca26"
             ],
             [
              1,
              "#f0f921"
             ]
            ],
            "type": "histogram2d"
           }
          ],
          "histogram2dcontour": [
           {
            "colorbar": {
             "outlinewidth": 0,
             "ticks": ""
            },
            "colorscale": [
             [
              0,
              "#0d0887"
             ],
             [
              0.1111111111111111,
              "#46039f"
             ],
             [
              0.2222222222222222,
              "#7201a8"
             ],
             [
              0.3333333333333333,
              "#9c179e"
             ],
             [
              0.4444444444444444,
              "#bd3786"
             ],
             [
              0.5555555555555556,
              "#d8576b"
             ],
             [
              0.6666666666666666,
              "#ed7953"
             ],
             [
              0.7777777777777778,
              "#fb9f3a"
             ],
             [
              0.8888888888888888,
              "#fdca26"
             ],
             [
              1,
              "#f0f921"
             ]
            ],
            "type": "histogram2dcontour"
           }
          ],
          "mesh3d": [
           {
            "colorbar": {
             "outlinewidth": 0,
             "ticks": ""
            },
            "type": "mesh3d"
           }
          ],
          "parcoords": [
           {
            "line": {
             "colorbar": {
              "outlinewidth": 0,
              "ticks": ""
             }
            },
            "type": "parcoords"
           }
          ],
          "pie": [
           {
            "automargin": true,
            "type": "pie"
           }
          ],
          "scatter": [
           {
            "marker": {
             "colorbar": {
              "outlinewidth": 0,
              "ticks": ""
             }
            },
            "type": "scatter"
           }
          ],
          "scatter3d": [
           {
            "line": {
             "colorbar": {
              "outlinewidth": 0,
              "ticks": ""
             }
            },
            "marker": {
             "colorbar": {
              "outlinewidth": 0,
              "ticks": ""
             }
            },
            "type": "scatter3d"
           }
          ],
          "scattercarpet": [
           {
            "marker": {
             "colorbar": {
              "outlinewidth": 0,
              "ticks": ""
             }
            },
            "type": "scattercarpet"
           }
          ],
          "scattergeo": [
           {
            "marker": {
             "colorbar": {
              "outlinewidth": 0,
              "ticks": ""
             }
            },
            "type": "scattergeo"
           }
          ],
          "scattergl": [
           {
            "marker": {
             "colorbar": {
              "outlinewidth": 0,
              "ticks": ""
             }
            },
            "type": "scattergl"
           }
          ],
          "scattermapbox": [
           {
            "marker": {
             "colorbar": {
              "outlinewidth": 0,
              "ticks": ""
             }
            },
            "type": "scattermapbox"
           }
          ],
          "scatterpolar": [
           {
            "marker": {
             "colorbar": {
              "outlinewidth": 0,
              "ticks": ""
             }
            },
            "type": "scatterpolar"
           }
          ],
          "scatterpolargl": [
           {
            "marker": {
             "colorbar": {
              "outlinewidth": 0,
              "ticks": ""
             }
            },
            "type": "scatterpolargl"
           }
          ],
          "scatterternary": [
           {
            "marker": {
             "colorbar": {
              "outlinewidth": 0,
              "ticks": ""
             }
            },
            "type": "scatterternary"
           }
          ],
          "surface": [
           {
            "colorbar": {
             "outlinewidth": 0,
             "ticks": ""
            },
            "colorscale": [
             [
              0,
              "#0d0887"
             ],
             [
              0.1111111111111111,
              "#46039f"
             ],
             [
              0.2222222222222222,
              "#7201a8"
             ],
             [
              0.3333333333333333,
              "#9c179e"
             ],
             [
              0.4444444444444444,
              "#bd3786"
             ],
             [
              0.5555555555555556,
              "#d8576b"
             ],
             [
              0.6666666666666666,
              "#ed7953"
             ],
             [
              0.7777777777777778,
              "#fb9f3a"
             ],
             [
              0.8888888888888888,
              "#fdca26"
             ],
             [
              1,
              "#f0f921"
             ]
            ],
            "type": "surface"
           }
          ],
          "table": [
           {
            "cells": {
             "fill": {
              "color": "#EBF0F8"
             },
             "line": {
              "color": "white"
             }
            },
            "header": {
             "fill": {
              "color": "#C8D4E3"
             },
             "line": {
              "color": "white"
             }
            },
            "type": "table"
           }
          ]
         },
         "layout": {
          "annotationdefaults": {
           "arrowcolor": "#2a3f5f",
           "arrowhead": 0,
           "arrowwidth": 1
          },
          "autotypenumbers": "strict",
          "coloraxis": {
           "colorbar": {
            "outlinewidth": 0,
            "ticks": ""
           }
          },
          "colorscale": {
           "diverging": [
            [
             0,
             "#8e0152"
            ],
            [
             0.1,
             "#c51b7d"
            ],
            [
             0.2,
             "#de77ae"
            ],
            [
             0.3,
             "#f1b6da"
            ],
            [
             0.4,
             "#fde0ef"
            ],
            [
             0.5,
             "#f7f7f7"
            ],
            [
             0.6,
             "#e6f5d0"
            ],
            [
             0.7,
             "#b8e186"
            ],
            [
             0.8,
             "#7fbc41"
            ],
            [
             0.9,
             "#4d9221"
            ],
            [
             1,
             "#276419"
            ]
           ],
           "sequential": [
            [
             0,
             "#0d0887"
            ],
            [
             0.1111111111111111,
             "#46039f"
            ],
            [
             0.2222222222222222,
             "#7201a8"
            ],
            [
             0.3333333333333333,
             "#9c179e"
            ],
            [
             0.4444444444444444,
             "#bd3786"
            ],
            [
             0.5555555555555556,
             "#d8576b"
            ],
            [
             0.6666666666666666,
             "#ed7953"
            ],
            [
             0.7777777777777778,
             "#fb9f3a"
            ],
            [
             0.8888888888888888,
             "#fdca26"
            ],
            [
             1,
             "#f0f921"
            ]
           ],
           "sequentialminus": [
            [
             0,
             "#0d0887"
            ],
            [
             0.1111111111111111,
             "#46039f"
            ],
            [
             0.2222222222222222,
             "#7201a8"
            ],
            [
             0.3333333333333333,
             "#9c179e"
            ],
            [
             0.4444444444444444,
             "#bd3786"
            ],
            [
             0.5555555555555556,
             "#d8576b"
            ],
            [
             0.6666666666666666,
             "#ed7953"
            ],
            [
             0.7777777777777778,
             "#fb9f3a"
            ],
            [
             0.8888888888888888,
             "#fdca26"
            ],
            [
             1,
             "#f0f921"
            ]
           ]
          },
          "colorway": [
           "#636efa",
           "#EF553B",
           "#00cc96",
           "#ab63fa",
           "#FFA15A",
           "#19d3f3",
           "#FF6692",
           "#B6E880",
           "#FF97FF",
           "#FECB52"
          ],
          "font": {
           "color": "#2a3f5f"
          },
          "geo": {
           "bgcolor": "white",
           "lakecolor": "white",
           "landcolor": "#E5ECF6",
           "showlakes": true,
           "showland": true,
           "subunitcolor": "white"
          },
          "hoverlabel": {
           "align": "left"
          },
          "hovermode": "closest",
          "mapbox": {
           "style": "light"
          },
          "paper_bgcolor": "white",
          "plot_bgcolor": "#E5ECF6",
          "polar": {
           "angularaxis": {
            "gridcolor": "white",
            "linecolor": "white",
            "ticks": ""
           },
           "bgcolor": "#E5ECF6",
           "radialaxis": {
            "gridcolor": "white",
            "linecolor": "white",
            "ticks": ""
           }
          },
          "scene": {
           "xaxis": {
            "backgroundcolor": "#E5ECF6",
            "gridcolor": "white",
            "gridwidth": 2,
            "linecolor": "white",
            "showbackground": true,
            "ticks": "",
            "zerolinecolor": "white"
           },
           "yaxis": {
            "backgroundcolor": "#E5ECF6",
            "gridcolor": "white",
            "gridwidth": 2,
            "linecolor": "white",
            "showbackground": true,
            "ticks": "",
            "zerolinecolor": "white"
           },
           "zaxis": {
            "backgroundcolor": "#E5ECF6",
            "gridcolor": "white",
            "gridwidth": 2,
            "linecolor": "white",
            "showbackground": true,
            "ticks": "",
            "zerolinecolor": "white"
           }
          },
          "shapedefaults": {
           "line": {
            "color": "#2a3f5f"
           }
          },
          "ternary": {
           "aaxis": {
            "gridcolor": "white",
            "linecolor": "white",
            "ticks": ""
           },
           "baxis": {
            "gridcolor": "white",
            "linecolor": "white",
            "ticks": ""
           },
           "bgcolor": "#E5ECF6",
           "caxis": {
            "gridcolor": "white",
            "linecolor": "white",
            "ticks": ""
           }
          },
          "title": {
           "x": 0.05
          },
          "xaxis": {
           "automargin": true,
           "gridcolor": "white",
           "linecolor": "white",
           "ticks": "",
           "title": {
            "standoff": 15
           },
           "zerolinecolor": "white",
           "zerolinewidth": 2
          },
          "yaxis": {
           "automargin": true,
           "gridcolor": "white",
           "linecolor": "white",
           "ticks": "",
           "title": {
            "standoff": 15
           },
           "zerolinecolor": "white",
           "zerolinewidth": 2
          }
         }
        },
        "title": {
         "font": {
          "color": "#4D5663"
         }
        },
        "xaxis": {
         "gridcolor": "#E1E5ED",
         "showgrid": true,
         "tickfont": {
          "color": "#4D5663"
         },
         "title": {
          "font": {
           "color": "#4D5663"
          },
          "text": ""
         },
         "zerolinecolor": "#E1E5ED"
        },
        "yaxis": {
         "gridcolor": "#E1E5ED",
         "showgrid": true,
         "tickfont": {
          "color": "#4D5663"
         },
         "title": {
          "font": {
           "color": "#4D5663"
          },
          "text": ""
         },
         "zerolinecolor": "#E1E5ED"
        }
       }
      },
      "text/html": [
       "<div>                            <div id=\"25b27d96-49ea-42ad-a653-0c43bdf98e6c\" class=\"plotly-graph-div\" style=\"height:525px; width:100%;\"></div>            <script type=\"text/javascript\">                require([\"plotly\"], function(Plotly) {                    window.PLOTLYENV=window.PLOTLYENV || {};\n",
       "                    window.PLOTLYENV.BASE_URL='https://plot.ly';                                    if (document.getElementById(\"25b27d96-49ea-42ad-a653-0c43bdf98e6c\")) {                    Plotly.newPlot(                        \"25b27d96-49ea-42ad-a653-0c43bdf98e6c\",                        [{\"marker\":{\"color\":\"rgba(255, 153, 51, 0.6)\",\"line\":{\"color\":\"rgba(255, 153, 51, 1.0)\",\"width\":1}},\"name\":\"\\uc6d4\\ubcc4\\uc2b9\\ucc28\\ucd1d\\uc2b9\\uac1d\\uc218\",\"orientation\":\"v\",\"text\":\"\",\"type\":\"bar\",\"x\":[\"'2015-01\",\"'2015-02\",\"'2015-03\",\"'2015-04\",\"'2015-05\",\"'2015-06\",\"'2015-07\",\"'2015-08\",\"'2015-09\",\"'2015-10\",\"'2015-11\",\"'2015-12\",\"'2016-01\"],\"y\":[437278792.0,376783122.0,478541350.0,236022558.0,234296965.0,203119706.0,218172679.0,210102718.0,214486255.0,234349102.0,223497154.0,233155014.0,209273211.0]}],                        {\"legend\":{\"bgcolor\":\"#F5F6F9\",\"font\":{\"color\":\"#4D5663\"}},\"paper_bgcolor\":\"#F5F6F9\",\"plot_bgcolor\":\"#F5F6F9\",\"template\":{\"data\":{\"bar\":[{\"error_x\":{\"color\":\"#2a3f5f\"},\"error_y\":{\"color\":\"#2a3f5f\"},\"marker\":{\"line\":{\"color\":\"#E5ECF6\",\"width\":0.5},\"pattern\":{\"fillmode\":\"overlay\",\"size\":10,\"solidity\":0.2}},\"type\":\"bar\"}],\"barpolar\":[{\"marker\":{\"line\":{\"color\":\"#E5ECF6\",\"width\":0.5},\"pattern\":{\"fillmode\":\"overlay\",\"size\":10,\"solidity\":0.2}},\"type\":\"barpolar\"}],\"carpet\":[{\"aaxis\":{\"endlinecolor\":\"#2a3f5f\",\"gridcolor\":\"white\",\"linecolor\":\"white\",\"minorgridcolor\":\"white\",\"startlinecolor\":\"#2a3f5f\"},\"baxis\":{\"endlinecolor\":\"#2a3f5f\",\"gridcolor\":\"white\",\"linecolor\":\"white\",\"minorgridcolor\":\"white\",\"startlinecolor\":\"#2a3f5f\"},\"type\":\"carpet\"}],\"choropleth\":[{\"colorbar\":{\"outlinewidth\":0,\"ticks\":\"\"},\"type\":\"choropleth\"}],\"contour\":[{\"colorbar\":{\"outlinewidth\":0,\"ticks\":\"\"},\"colorscale\":[[0.0,\"#0d0887\"],[0.1111111111111111,\"#46039f\"],[0.2222222222222222,\"#7201a8\"],[0.3333333333333333,\"#9c179e\"],[0.4444444444444444,\"#bd3786\"],[0.5555555555555556,\"#d8576b\"],[0.6666666666666666,\"#ed7953\"],[0.7777777777777778,\"#fb9f3a\"],[0.8888888888888888,\"#fdca26\"],[1.0,\"#f0f921\"]],\"type\":\"contour\"}],\"contourcarpet\":[{\"colorbar\":{\"outlinewidth\":0,\"ticks\":\"\"},\"type\":\"contourcarpet\"}],\"heatmap\":[{\"colorbar\":{\"outlinewidth\":0,\"ticks\":\"\"},\"colorscale\":[[0.0,\"#0d0887\"],[0.1111111111111111,\"#46039f\"],[0.2222222222222222,\"#7201a8\"],[0.3333333333333333,\"#9c179e\"],[0.4444444444444444,\"#bd3786\"],[0.5555555555555556,\"#d8576b\"],[0.6666666666666666,\"#ed7953\"],[0.7777777777777778,\"#fb9f3a\"],[0.8888888888888888,\"#fdca26\"],[1.0,\"#f0f921\"]],\"type\":\"heatmap\"}],\"heatmapgl\":[{\"colorbar\":{\"outlinewidth\":0,\"ticks\":\"\"},\"colorscale\":[[0.0,\"#0d0887\"],[0.1111111111111111,\"#46039f\"],[0.2222222222222222,\"#7201a8\"],[0.3333333333333333,\"#9c179e\"],[0.4444444444444444,\"#bd3786\"],[0.5555555555555556,\"#d8576b\"],[0.6666666666666666,\"#ed7953\"],[0.7777777777777778,\"#fb9f3a\"],[0.8888888888888888,\"#fdca26\"],[1.0,\"#f0f921\"]],\"type\":\"heatmapgl\"}],\"histogram\":[{\"marker\":{\"pattern\":{\"fillmode\":\"overlay\",\"size\":10,\"solidity\":0.2}},\"type\":\"histogram\"}],\"histogram2d\":[{\"colorbar\":{\"outlinewidth\":0,\"ticks\":\"\"},\"colorscale\":[[0.0,\"#0d0887\"],[0.1111111111111111,\"#46039f\"],[0.2222222222222222,\"#7201a8\"],[0.3333333333333333,\"#9c179e\"],[0.4444444444444444,\"#bd3786\"],[0.5555555555555556,\"#d8576b\"],[0.6666666666666666,\"#ed7953\"],[0.7777777777777778,\"#fb9f3a\"],[0.8888888888888888,\"#fdca26\"],[1.0,\"#f0f921\"]],\"type\":\"histogram2d\"}],\"histogram2dcontour\":[{\"colorbar\":{\"outlinewidth\":0,\"ticks\":\"\"},\"colorscale\":[[0.0,\"#0d0887\"],[0.1111111111111111,\"#46039f\"],[0.2222222222222222,\"#7201a8\"],[0.3333333333333333,\"#9c179e\"],[0.4444444444444444,\"#bd3786\"],[0.5555555555555556,\"#d8576b\"],[0.6666666666666666,\"#ed7953\"],[0.7777777777777778,\"#fb9f3a\"],[0.8888888888888888,\"#fdca26\"],[1.0,\"#f0f921\"]],\"type\":\"histogram2dcontour\"}],\"mesh3d\":[{\"colorbar\":{\"outlinewidth\":0,\"ticks\":\"\"},\"type\":\"mesh3d\"}],\"parcoords\":[{\"line\":{\"colorbar\":{\"outlinewidth\":0,\"ticks\":\"\"}},\"type\":\"parcoords\"}],\"pie\":[{\"automargin\":true,\"type\":\"pie\"}],\"scatter\":[{\"marker\":{\"colorbar\":{\"outlinewidth\":0,\"ticks\":\"\"}},\"type\":\"scatter\"}],\"scatter3d\":[{\"line\":{\"colorbar\":{\"outlinewidth\":0,\"ticks\":\"\"}},\"marker\":{\"colorbar\":{\"outlinewidth\":0,\"ticks\":\"\"}},\"type\":\"scatter3d\"}],\"scattercarpet\":[{\"marker\":{\"colorbar\":{\"outlinewidth\":0,\"ticks\":\"\"}},\"type\":\"scattercarpet\"}],\"scattergeo\":[{\"marker\":{\"colorbar\":{\"outlinewidth\":0,\"ticks\":\"\"}},\"type\":\"scattergeo\"}],\"scattergl\":[{\"marker\":{\"colorbar\":{\"outlinewidth\":0,\"ticks\":\"\"}},\"type\":\"scattergl\"}],\"scattermapbox\":[{\"marker\":{\"colorbar\":{\"outlinewidth\":0,\"ticks\":\"\"}},\"type\":\"scattermapbox\"}],\"scatterpolar\":[{\"marker\":{\"colorbar\":{\"outlinewidth\":0,\"ticks\":\"\"}},\"type\":\"scatterpolar\"}],\"scatterpolargl\":[{\"marker\":{\"colorbar\":{\"outlinewidth\":0,\"ticks\":\"\"}},\"type\":\"scatterpolargl\"}],\"scatterternary\":[{\"marker\":{\"colorbar\":{\"outlinewidth\":0,\"ticks\":\"\"}},\"type\":\"scatterternary\"}],\"surface\":[{\"colorbar\":{\"outlinewidth\":0,\"ticks\":\"\"},\"colorscale\":[[0.0,\"#0d0887\"],[0.1111111111111111,\"#46039f\"],[0.2222222222222222,\"#7201a8\"],[0.3333333333333333,\"#9c179e\"],[0.4444444444444444,\"#bd3786\"],[0.5555555555555556,\"#d8576b\"],[0.6666666666666666,\"#ed7953\"],[0.7777777777777778,\"#fb9f3a\"],[0.8888888888888888,\"#fdca26\"],[1.0,\"#f0f921\"]],\"type\":\"surface\"}],\"table\":[{\"cells\":{\"fill\":{\"color\":\"#EBF0F8\"},\"line\":{\"color\":\"white\"}},\"header\":{\"fill\":{\"color\":\"#C8D4E3\"},\"line\":{\"color\":\"white\"}},\"type\":\"table\"}]},\"layout\":{\"annotationdefaults\":{\"arrowcolor\":\"#2a3f5f\",\"arrowhead\":0,\"arrowwidth\":1},\"autotypenumbers\":\"strict\",\"coloraxis\":{\"colorbar\":{\"outlinewidth\":0,\"ticks\":\"\"}},\"colorscale\":{\"diverging\":[[0,\"#8e0152\"],[0.1,\"#c51b7d\"],[0.2,\"#de77ae\"],[0.3,\"#f1b6da\"],[0.4,\"#fde0ef\"],[0.5,\"#f7f7f7\"],[0.6,\"#e6f5d0\"],[0.7,\"#b8e186\"],[0.8,\"#7fbc41\"],[0.9,\"#4d9221\"],[1,\"#276419\"]],\"sequential\":[[0.0,\"#0d0887\"],[0.1111111111111111,\"#46039f\"],[0.2222222222222222,\"#7201a8\"],[0.3333333333333333,\"#9c179e\"],[0.4444444444444444,\"#bd3786\"],[0.5555555555555556,\"#d8576b\"],[0.6666666666666666,\"#ed7953\"],[0.7777777777777778,\"#fb9f3a\"],[0.8888888888888888,\"#fdca26\"],[1.0,\"#f0f921\"]],\"sequentialminus\":[[0.0,\"#0d0887\"],[0.1111111111111111,\"#46039f\"],[0.2222222222222222,\"#7201a8\"],[0.3333333333333333,\"#9c179e\"],[0.4444444444444444,\"#bd3786\"],[0.5555555555555556,\"#d8576b\"],[0.6666666666666666,\"#ed7953\"],[0.7777777777777778,\"#fb9f3a\"],[0.8888888888888888,\"#fdca26\"],[1.0,\"#f0f921\"]]},\"colorway\":[\"#636efa\",\"#EF553B\",\"#00cc96\",\"#ab63fa\",\"#FFA15A\",\"#19d3f3\",\"#FF6692\",\"#B6E880\",\"#FF97FF\",\"#FECB52\"],\"font\":{\"color\":\"#2a3f5f\"},\"geo\":{\"bgcolor\":\"white\",\"lakecolor\":\"white\",\"landcolor\":\"#E5ECF6\",\"showlakes\":true,\"showland\":true,\"subunitcolor\":\"white\"},\"hoverlabel\":{\"align\":\"left\"},\"hovermode\":\"closest\",\"mapbox\":{\"style\":\"light\"},\"paper_bgcolor\":\"white\",\"plot_bgcolor\":\"#E5ECF6\",\"polar\":{\"angularaxis\":{\"gridcolor\":\"white\",\"linecolor\":\"white\",\"ticks\":\"\"},\"bgcolor\":\"#E5ECF6\",\"radialaxis\":{\"gridcolor\":\"white\",\"linecolor\":\"white\",\"ticks\":\"\"}},\"scene\":{\"xaxis\":{\"backgroundcolor\":\"#E5ECF6\",\"gridcolor\":\"white\",\"gridwidth\":2,\"linecolor\":\"white\",\"showbackground\":true,\"ticks\":\"\",\"zerolinecolor\":\"white\"},\"yaxis\":{\"backgroundcolor\":\"#E5ECF6\",\"gridcolor\":\"white\",\"gridwidth\":2,\"linecolor\":\"white\",\"showbackground\":true,\"ticks\":\"\",\"zerolinecolor\":\"white\"},\"zaxis\":{\"backgroundcolor\":\"#E5ECF6\",\"gridcolor\":\"white\",\"gridwidth\":2,\"linecolor\":\"white\",\"showbackground\":true,\"ticks\":\"\",\"zerolinecolor\":\"white\"}},\"shapedefaults\":{\"line\":{\"color\":\"#2a3f5f\"}},\"ternary\":{\"aaxis\":{\"gridcolor\":\"white\",\"linecolor\":\"white\",\"ticks\":\"\"},\"baxis\":{\"gridcolor\":\"white\",\"linecolor\":\"white\",\"ticks\":\"\"},\"bgcolor\":\"#E5ECF6\",\"caxis\":{\"gridcolor\":\"white\",\"linecolor\":\"white\",\"ticks\":\"\"}},\"title\":{\"x\":0.05},\"xaxis\":{\"automargin\":true,\"gridcolor\":\"white\",\"linecolor\":\"white\",\"ticks\":\"\",\"title\":{\"standoff\":15},\"zerolinecolor\":\"white\",\"zerolinewidth\":2},\"yaxis\":{\"automargin\":true,\"gridcolor\":\"white\",\"linecolor\":\"white\",\"ticks\":\"\",\"title\":{\"standoff\":15},\"zerolinecolor\":\"white\",\"zerolinewidth\":2}}},\"title\":{\"font\":{\"color\":\"#4D5663\"}},\"xaxis\":{\"gridcolor\":\"#E1E5ED\",\"showgrid\":true,\"tickfont\":{\"color\":\"#4D5663\"},\"title\":{\"font\":{\"color\":\"#4D5663\"},\"text\":\"\"},\"zerolinecolor\":\"#E1E5ED\"},\"yaxis\":{\"gridcolor\":\"#E1E5ED\",\"showgrid\":true,\"tickfont\":{\"color\":\"#4D5663\"},\"title\":{\"font\":{\"color\":\"#4D5663\"},\"text\":\"\"},\"zerolinecolor\":\"#E1E5ED\"}},                        {\"showLink\": true, \"linkText\": \"Export to plot.ly\", \"plotlyServerURL\": \"https://plot.ly\", \"responsive\": true}                    ).then(function(){\n",
       "                            \n",
       "var gd = document.getElementById('25b27d96-49ea-42ad-a653-0c43bdf98e6c');\n",
       "var x = new MutationObserver(function (mutations, observer) {{\n",
       "        var display = window.getComputedStyle(gd).display;\n",
       "        if (!display || display === 'none') {{\n",
       "            console.log([gd, 'removed!']);\n",
       "            Plotly.purge(gd);\n",
       "            observer.disconnect();\n",
       "        }}\n",
       "}});\n",
       "\n",
       "// Listen for the removal of the full notebook cells\n",
       "var notebookContainer = gd.closest('#notebook-container');\n",
       "if (notebookContainer) {{\n",
       "    x.observe(notebookContainer, {childList: true});\n",
       "}}\n",
       "\n",
       "// Listen for the clearing of the current output cell\n",
       "var outputEl = gd.closest('.output');\n",
       "if (outputEl) {{\n",
       "    x.observe(outputEl, {childList: true});\n",
       "}}\n",
       "\n",
       "                        })                };                });            </script>        </div>"
      ]
     },
     "metadata": {},
     "output_type": "display_data"
    }
   ],
   "source": [
    "sub_test[:13].iplot(kind='bar', x='date', y='월별승차총승객수')"
   ]
  },
  {
   "cell_type": "code",
   "execution_count": 74,
   "id": "3890a976",
   "metadata": {},
   "outputs": [
    {
     "data": {
      "text/plain": [
       "0     '2015-01\n",
       "1     '2015-02\n",
       "2     '2015-03\n",
       "3     '2015-04\n",
       "4     '2015-05\n",
       "5     '2015-06\n",
       "6     '2015-07\n",
       "7     '2015-08\n",
       "8     '2015-09\n",
       "9     '2015-10\n",
       "10    '2015-11\n",
       "11    '2015-12\n",
       "12    '2016-01\n",
       "13    '2016-02\n",
       "14    '2016-03\n",
       "15    '2016-04\n",
       "16    '2016-05\n",
       "17    '2016-06\n",
       "18    '2016-07\n",
       "19    '2016-08\n",
       "20    '2016-09\n",
       "21    '2016-10\n",
       "22    '2016-11\n",
       "23    '2016-12\n",
       "24    '2017-01\n",
       "25    '2017-02\n",
       "26    '2017-03\n",
       "27    '2017-04\n",
       "28    '2017-05\n",
       "29    '2017-06\n",
       "30    '2017-07\n",
       "31    '2017-08\n",
       "32    '2017-09\n",
       "33    '2017-10\n",
       "34    '2017-11\n",
       "35    '2017-12\n",
       "36    '2018-01\n",
       "37    '2018-02\n",
       "38    '2018-03\n",
       "39    '2018-04\n",
       "40    '2018-05\n",
       "41    '2018-06\n",
       "42    '2018-07\n",
       "43    '2018-08\n",
       "44    '2018-09\n",
       "45    '2018-10\n",
       "46    '2018-11\n",
       "47    '2018-12\n",
       "48    '2019-01\n",
       "49    '2019-02\n",
       "50    '2019-03\n",
       "51    '2019-04\n",
       "52    '2019-05\n",
       "53    '2019-06\n",
       "54    '2019-07\n",
       "55    '2019-08\n",
       "56    '2019-09\n",
       "57    '2019-10\n",
       "58    '2019-11\n",
       "59    '2019-12\n",
       "60    '2020-01\n",
       "61    '2020-02\n",
       "62    '2020-03\n",
       "63    '2020-04\n",
       "64    '2020-05\n",
       "65    '2020-06\n",
       "66    '2020-07\n",
       "67    '2020-08\n",
       "68    '2020-09\n",
       "69    '2020-10\n",
       "70    '2020-11\n",
       "71    '2020-12\n",
       "72    '2021-01\n",
       "73    '2021-02\n",
       "74    '2021-03\n",
       "75    '2021-04\n",
       "76    '2021-05\n",
       "77    '2021-06\n",
       "78    '2021-07\n",
       "79    '2021-08\n",
       "Name: date, dtype: object"
      ]
     },
     "execution_count": 74,
     "metadata": {},
     "output_type": "execute_result"
    }
   ],
   "source": [
    "# ' 없애기 시도중...\n",
    "sub_test['date'].str.replace(pat=r\"[']\",repl=r\"\",regex=True)\n",
    "sub_test['date']"
   ]
  },
  {
   "cell_type": "code",
   "execution_count": 75,
   "id": "f998d786",
   "metadata": {
    "scrolled": true
   },
   "outputs": [
    {
     "data": {
      "text/html": [
       "<div>\n",
       "<style scoped>\n",
       "    .dataframe tbody tr th:only-of-type {\n",
       "        vertical-align: middle;\n",
       "    }\n",
       "\n",
       "    .dataframe tbody tr th {\n",
       "        vertical-align: top;\n",
       "    }\n",
       "\n",
       "    .dataframe thead th {\n",
       "        text-align: right;\n",
       "    }\n",
       "</style>\n",
       "<table border=\"1\" class=\"dataframe\">\n",
       "  <thead>\n",
       "    <tr style=\"text-align: right;\">\n",
       "      <th></th>\n",
       "      <th>Unnamed: 0</th>\n",
       "      <th>월별승차총승객수</th>\n",
       "      <th>월별하차총승객수</th>\n",
       "    </tr>\n",
       "  </thead>\n",
       "  <tbody>\n",
       "    <tr>\n",
       "      <th>0</th>\n",
       "      <td>'2015-01</td>\n",
       "      <td>437278792.0</td>\n",
       "      <td>435066846.0</td>\n",
       "    </tr>\n",
       "    <tr>\n",
       "      <th>1</th>\n",
       "      <td>'2015-02</td>\n",
       "      <td>376783122.0</td>\n",
       "      <td>374884262.0</td>\n",
       "    </tr>\n",
       "    <tr>\n",
       "      <th>2</th>\n",
       "      <td>'2015-03</td>\n",
       "      <td>478541350.0</td>\n",
       "      <td>476451614.0</td>\n",
       "    </tr>\n",
       "    <tr>\n",
       "      <th>3</th>\n",
       "      <td>'2015-04</td>\n",
       "      <td>236022558.0</td>\n",
       "      <td>234898916.0</td>\n",
       "    </tr>\n",
       "    <tr>\n",
       "      <th>4</th>\n",
       "      <td>'2015-05</td>\n",
       "      <td>234296965.0</td>\n",
       "      <td>233170178.0</td>\n",
       "    </tr>\n",
       "  </tbody>\n",
       "</table>\n",
       "</div>"
      ],
      "text/plain": [
       "  Unnamed: 0     월별승차총승객수     월별하차총승객수\n",
       "0   '2015-01  437278792.0  435066846.0\n",
       "1   '2015-02  376783122.0  374884262.0\n",
       "2   '2015-03  478541350.0  476451614.0\n",
       "3   '2015-04  236022558.0  234898916.0\n",
       "4   '2015-05  234296965.0  233170178.0"
      ]
     },
     "execution_count": 75,
     "metadata": {},
     "output_type": "execute_result"
    }
   ],
   "source": [
    "sub = pd.read_csv('sub_month_2015-2021.csv', encoding='utf-8')\n",
    "sub.head()"
   ]
  },
  {
   "cell_type": "code",
   "execution_count": 76,
   "id": "499f0153",
   "metadata": {
    "scrolled": true
   },
   "outputs": [
    {
     "data": {
      "text/plain": [
       "Index(['date', '월별승차총승객수', '월별하차총승객수'], dtype='object')"
      ]
     },
     "execution_count": 76,
     "metadata": {},
     "output_type": "execute_result"
    }
   ],
   "source": [
    "sub.columns = ['date', '월별승차총승객수', '월별하차총승객수']\n",
    "sub.columns"
   ]
  },
  {
   "cell_type": "markdown",
   "id": "c6fc4d6b",
   "metadata": {},
   "source": [
    "### 승하차 승객 수 그래프 그리기 "
   ]
  },
  {
   "cell_type": "code",
   "execution_count": 77,
   "id": "eaca033d",
   "metadata": {
    "scrolled": false
   },
   "outputs": [
    {
     "data": {
      "application/vnd.plotly.v1+json": {
       "config": {
        "linkText": "Export to plot.ly",
        "plotlyServerURL": "https://plot.ly",
        "showLink": true
       },
       "data": [
        {
         "marker": {
          "color": "rgba(255, 153, 51, 0.6)",
          "line": {
           "color": "rgba(255, 153, 51, 1.0)",
           "width": 1
          }
         },
         "name": "월별승차총승객수",
         "orientation": "v",
         "text": "",
         "type": "bar",
         "x": [
          "'2015-01",
          "'2015-02",
          "'2015-03",
          "'2015-04",
          "'2015-05",
          "'2015-06",
          "'2015-07",
          "'2015-08",
          "'2015-09",
          "'2015-10",
          "'2015-11",
          "'2015-12",
          "'2016-01",
          "'2016-02",
          "'2016-03",
          "'2016-04",
          "'2016-05",
          "'2016-06",
          "'2016-07",
          "'2016-08",
          "'2016-09",
          "'2016-10",
          "'2016-11",
          "'2016-12",
          "'2017-01",
          "'2017-02",
          "'2017-03",
          "'2017-04",
          "'2017-05",
          "'2017-06",
          "'2017-07",
          "'2017-08",
          "'2017-09",
          "'2017-10",
          "'2017-11",
          "'2017-12",
          "'2018-01",
          "'2018-02",
          "'2018-03",
          "'2018-04",
          "'2018-05",
          "'2018-06",
          "'2018-07",
          "'2018-08",
          "'2018-09",
          "'2018-10",
          "'2018-11",
          "'2018-12",
          "'2019-01",
          "'2019-02",
          "'2019-03",
          "'2019-04",
          "'2019-05",
          "'2019-06",
          "'2019-07",
          "'2019-08",
          "'2019-09",
          "'2019-10",
          "'2019-11",
          "'2019-12",
          "'2020-01",
          "'2020-02",
          "'2020-03",
          "'2020-04",
          "'2020-05",
          "'2020-06",
          "'2020-07",
          "'2020-08",
          "'2020-09",
          "'2020-10",
          "'2020-11",
          "'2020-12",
          "'2021-01",
          "'2021-02",
          "'2021-03",
          "'2021-04",
          "'2021-05",
          "'2021-06",
          "'2021-07",
          "'2021-08"
         ],
         "y": [
          437278792,
          376783122,
          478541350,
          236022558,
          234296965,
          203119706,
          218172679,
          210102718,
          214486255,
          234349102,
          223497154,
          233155014,
          209273211,
          193647156,
          236377700,
          228348725,
          234166653,
          222611572,
          219465787,
          214193213,
          210698312,
          229681635,
          228122715,
          231777262,
          205502324,
          204936457,
          237179303,
          227780690,
          227836340,
          221308605,
          214815271,
          213776584,
          228240103,
          208204249,
          228254078,
          228619448,
          213710722,
          189110822,
          235296346,
          228971702,
          235253127,
          219426719,
          221632774,
          214216200,
          208561416,
          235739024,
          232960426,
          227834001,
          221848014,
          190335812,
          233813277,
          235928571,
          243338053,
          221547039,
          229254848,
          219672653,
          214006728,
          240101848,
          232284482,
          234574904,
          207743593,
          169582542,
          139686779,
          149118804,
          164531970,
          171605690,
          183490485,
          152989131,
          144602055,
          169231365,
          171847194,
          139666561,
          142178674,
          142994483,
          179109500,
          177677244,
          174157717,
          179060211,
          159645605,
          152911075
         ]
        },
        {
         "marker": {
          "color": "rgba(55, 128, 191, 0.6)",
          "line": {
           "color": "rgba(55, 128, 191, 1.0)",
           "width": 1
          }
         },
         "name": "월별하차총승객수",
         "orientation": "v",
         "text": "",
         "type": "bar",
         "x": [
          "'2015-01",
          "'2015-02",
          "'2015-03",
          "'2015-04",
          "'2015-05",
          "'2015-06",
          "'2015-07",
          "'2015-08",
          "'2015-09",
          "'2015-10",
          "'2015-11",
          "'2015-12",
          "'2016-01",
          "'2016-02",
          "'2016-03",
          "'2016-04",
          "'2016-05",
          "'2016-06",
          "'2016-07",
          "'2016-08",
          "'2016-09",
          "'2016-10",
          "'2016-11",
          "'2016-12",
          "'2017-01",
          "'2017-02",
          "'2017-03",
          "'2017-04",
          "'2017-05",
          "'2017-06",
          "'2017-07",
          "'2017-08",
          "'2017-09",
          "'2017-10",
          "'2017-11",
          "'2017-12",
          "'2018-01",
          "'2018-02",
          "'2018-03",
          "'2018-04",
          "'2018-05",
          "'2018-06",
          "'2018-07",
          "'2018-08",
          "'2018-09",
          "'2018-10",
          "'2018-11",
          "'2018-12",
          "'2019-01",
          "'2019-02",
          "'2019-03",
          "'2019-04",
          "'2019-05",
          "'2019-06",
          "'2019-07",
          "'2019-08",
          "'2019-09",
          "'2019-10",
          "'2019-11",
          "'2019-12",
          "'2020-01",
          "'2020-02",
          "'2020-03",
          "'2020-04",
          "'2020-05",
          "'2020-06",
          "'2020-07",
          "'2020-08",
          "'2020-09",
          "'2020-10",
          "'2020-11",
          "'2020-12",
          "'2021-01",
          "'2021-02",
          "'2021-03",
          "'2021-04",
          "'2021-05",
          "'2021-06",
          "'2021-07",
          "'2021-08"
         ],
         "y": [
          435066846,
          374884262,
          476451614,
          234898916,
          233170178,
          202399930,
          217265058,
          209130600,
          213578097,
          233341479,
          222600581,
          232154505,
          208318335,
          192773472,
          235428077,
          227431434,
          233175677,
          221688838,
          218462009,
          213224598,
          209805032,
          228636055,
          227122581,
          230724428,
          204531987,
          203985242,
          236204018,
          226789893,
          226799684,
          220362163,
          213858564,
          212809390,
          227170000,
          207196105,
          227278770,
          227669424,
          212849469,
          188340921,
          234409973,
          228096920,
          234314673,
          218542730,
          220746413,
          213330490,
          207742249,
          234837595,
          232096833,
          226826591,
          220898375,
          189500198,
          232879549,
          235005777,
          242380504,
          220663596,
          228353976,
          218759210,
          213170622,
          239145883,
          231429861,
          233673639,
          206939054,
          169058614,
          139308780,
          148683918,
          370215033853,
          358338895875,
          370259100924,
          370947762113,
          361232950733,
          374466413132,
          362468794583,
          374102066579,
          374635099720,
          338541483044,
          375022803846,
          364616286518,
          376562514325,
          364498631123,
          376566240801,
          376689369334
         ]
        }
       ],
       "layout": {
        "legend": {
         "bgcolor": "#1A1A1C",
         "font": {
          "color": "#D9D9D9"
         }
        },
        "paper_bgcolor": "#1A1A1C",
        "plot_bgcolor": "#1A1A1C",
        "template": {
         "data": {
          "bar": [
           {
            "error_x": {
             "color": "#2a3f5f"
            },
            "error_y": {
             "color": "#2a3f5f"
            },
            "marker": {
             "line": {
              "color": "#E5ECF6",
              "width": 0.5
             },
             "pattern": {
              "fillmode": "overlay",
              "size": 10,
              "solidity": 0.2
             }
            },
            "type": "bar"
           }
          ],
          "barpolar": [
           {
            "marker": {
             "line": {
              "color": "#E5ECF6",
              "width": 0.5
             },
             "pattern": {
              "fillmode": "overlay",
              "size": 10,
              "solidity": 0.2
             }
            },
            "type": "barpolar"
           }
          ],
          "carpet": [
           {
            "aaxis": {
             "endlinecolor": "#2a3f5f",
             "gridcolor": "white",
             "linecolor": "white",
             "minorgridcolor": "white",
             "startlinecolor": "#2a3f5f"
            },
            "baxis": {
             "endlinecolor": "#2a3f5f",
             "gridcolor": "white",
             "linecolor": "white",
             "minorgridcolor": "white",
             "startlinecolor": "#2a3f5f"
            },
            "type": "carpet"
           }
          ],
          "choropleth": [
           {
            "colorbar": {
             "outlinewidth": 0,
             "ticks": ""
            },
            "type": "choropleth"
           }
          ],
          "contour": [
           {
            "colorbar": {
             "outlinewidth": 0,
             "ticks": ""
            },
            "colorscale": [
             [
              0,
              "#0d0887"
             ],
             [
              0.1111111111111111,
              "#46039f"
             ],
             [
              0.2222222222222222,
              "#7201a8"
             ],
             [
              0.3333333333333333,
              "#9c179e"
             ],
             [
              0.4444444444444444,
              "#bd3786"
             ],
             [
              0.5555555555555556,
              "#d8576b"
             ],
             [
              0.6666666666666666,
              "#ed7953"
             ],
             [
              0.7777777777777778,
              "#fb9f3a"
             ],
             [
              0.8888888888888888,
              "#fdca26"
             ],
             [
              1,
              "#f0f921"
             ]
            ],
            "type": "contour"
           }
          ],
          "contourcarpet": [
           {
            "colorbar": {
             "outlinewidth": 0,
             "ticks": ""
            },
            "type": "contourcarpet"
           }
          ],
          "heatmap": [
           {
            "colorbar": {
             "outlinewidth": 0,
             "ticks": ""
            },
            "colorscale": [
             [
              0,
              "#0d0887"
             ],
             [
              0.1111111111111111,
              "#46039f"
             ],
             [
              0.2222222222222222,
              "#7201a8"
             ],
             [
              0.3333333333333333,
              "#9c179e"
             ],
             [
              0.4444444444444444,
              "#bd3786"
             ],
             [
              0.5555555555555556,
              "#d8576b"
             ],
             [
              0.6666666666666666,
              "#ed7953"
             ],
             [
              0.7777777777777778,
              "#fb9f3a"
             ],
             [
              0.8888888888888888,
              "#fdca26"
             ],
             [
              1,
              "#f0f921"
             ]
            ],
            "type": "heatmap"
           }
          ],
          "heatmapgl": [
           {
            "colorbar": {
             "outlinewidth": 0,
             "ticks": ""
            },
            "colorscale": [
             [
              0,
              "#0d0887"
             ],
             [
              0.1111111111111111,
              "#46039f"
             ],
             [
              0.2222222222222222,
              "#7201a8"
             ],
             [
              0.3333333333333333,
              "#9c179e"
             ],
             [
              0.4444444444444444,
              "#bd3786"
             ],
             [
              0.5555555555555556,
              "#d8576b"
             ],
             [
              0.6666666666666666,
              "#ed7953"
             ],
             [
              0.7777777777777778,
              "#fb9f3a"
             ],
             [
              0.8888888888888888,
              "#fdca26"
             ],
             [
              1,
              "#f0f921"
             ]
            ],
            "type": "heatmapgl"
           }
          ],
          "histogram": [
           {
            "marker": {
             "pattern": {
              "fillmode": "overlay",
              "size": 10,
              "solidity": 0.2
             }
            },
            "type": "histogram"
           }
          ],
          "histogram2d": [
           {
            "colorbar": {
             "outlinewidth": 0,
             "ticks": ""
            },
            "colorscale": [
             [
              0,
              "#0d0887"
             ],
             [
              0.1111111111111111,
              "#46039f"
             ],
             [
              0.2222222222222222,
              "#7201a8"
             ],
             [
              0.3333333333333333,
              "#9c179e"
             ],
             [
              0.4444444444444444,
              "#bd3786"
             ],
             [
              0.5555555555555556,
              "#d8576b"
             ],
             [
              0.6666666666666666,
              "#ed7953"
             ],
             [
              0.7777777777777778,
              "#fb9f3a"
             ],
             [
              0.8888888888888888,
              "#fdca26"
             ],
             [
              1,
              "#f0f921"
             ]
            ],
            "type": "histogram2d"
           }
          ],
          "histogram2dcontour": [
           {
            "colorbar": {
             "outlinewidth": 0,
             "ticks": ""
            },
            "colorscale": [
             [
              0,
              "#0d0887"
             ],
             [
              0.1111111111111111,
              "#46039f"
             ],
             [
              0.2222222222222222,
              "#7201a8"
             ],
             [
              0.3333333333333333,
              "#9c179e"
             ],
             [
              0.4444444444444444,
              "#bd3786"
             ],
             [
              0.5555555555555556,
              "#d8576b"
             ],
             [
              0.6666666666666666,
              "#ed7953"
             ],
             [
              0.7777777777777778,
              "#fb9f3a"
             ],
             [
              0.8888888888888888,
              "#fdca26"
             ],
             [
              1,
              "#f0f921"
             ]
            ],
            "type": "histogram2dcontour"
           }
          ],
          "mesh3d": [
           {
            "colorbar": {
             "outlinewidth": 0,
             "ticks": ""
            },
            "type": "mesh3d"
           }
          ],
          "parcoords": [
           {
            "line": {
             "colorbar": {
              "outlinewidth": 0,
              "ticks": ""
             }
            },
            "type": "parcoords"
           }
          ],
          "pie": [
           {
            "automargin": true,
            "type": "pie"
           }
          ],
          "scatter": [
           {
            "marker": {
             "colorbar": {
              "outlinewidth": 0,
              "ticks": ""
             }
            },
            "type": "scatter"
           }
          ],
          "scatter3d": [
           {
            "line": {
             "colorbar": {
              "outlinewidth": 0,
              "ticks": ""
             }
            },
            "marker": {
             "colorbar": {
              "outlinewidth": 0,
              "ticks": ""
             }
            },
            "type": "scatter3d"
           }
          ],
          "scattercarpet": [
           {
            "marker": {
             "colorbar": {
              "outlinewidth": 0,
              "ticks": ""
             }
            },
            "type": "scattercarpet"
           }
          ],
          "scattergeo": [
           {
            "marker": {
             "colorbar": {
              "outlinewidth": 0,
              "ticks": ""
             }
            },
            "type": "scattergeo"
           }
          ],
          "scattergl": [
           {
            "marker": {
             "colorbar": {
              "outlinewidth": 0,
              "ticks": ""
             }
            },
            "type": "scattergl"
           }
          ],
          "scattermapbox": [
           {
            "marker": {
             "colorbar": {
              "outlinewidth": 0,
              "ticks": ""
             }
            },
            "type": "scattermapbox"
           }
          ],
          "scatterpolar": [
           {
            "marker": {
             "colorbar": {
              "outlinewidth": 0,
              "ticks": ""
             }
            },
            "type": "scatterpolar"
           }
          ],
          "scatterpolargl": [
           {
            "marker": {
             "colorbar": {
              "outlinewidth": 0,
              "ticks": ""
             }
            },
            "type": "scatterpolargl"
           }
          ],
          "scatterternary": [
           {
            "marker": {
             "colorbar": {
              "outlinewidth": 0,
              "ticks": ""
             }
            },
            "type": "scatterternary"
           }
          ],
          "surface": [
           {
            "colorbar": {
             "outlinewidth": 0,
             "ticks": ""
            },
            "colorscale": [
             [
              0,
              "#0d0887"
             ],
             [
              0.1111111111111111,
              "#46039f"
             ],
             [
              0.2222222222222222,
              "#7201a8"
             ],
             [
              0.3333333333333333,
              "#9c179e"
             ],
             [
              0.4444444444444444,
              "#bd3786"
             ],
             [
              0.5555555555555556,
              "#d8576b"
             ],
             [
              0.6666666666666666,
              "#ed7953"
             ],
             [
              0.7777777777777778,
              "#fb9f3a"
             ],
             [
              0.8888888888888888,
              "#fdca26"
             ],
             [
              1,
              "#f0f921"
             ]
            ],
            "type": "surface"
           }
          ],
          "table": [
           {
            "cells": {
             "fill": {
              "color": "#EBF0F8"
             },
             "line": {
              "color": "white"
             }
            },
            "header": {
             "fill": {
              "color": "#C8D4E3"
             },
             "line": {
              "color": "white"
             }
            },
            "type": "table"
           }
          ]
         },
         "layout": {
          "annotationdefaults": {
           "arrowcolor": "#2a3f5f",
           "arrowhead": 0,
           "arrowwidth": 1
          },
          "autotypenumbers": "strict",
          "coloraxis": {
           "colorbar": {
            "outlinewidth": 0,
            "ticks": ""
           }
          },
          "colorscale": {
           "diverging": [
            [
             0,
             "#8e0152"
            ],
            [
             0.1,
             "#c51b7d"
            ],
            [
             0.2,
             "#de77ae"
            ],
            [
             0.3,
             "#f1b6da"
            ],
            [
             0.4,
             "#fde0ef"
            ],
            [
             0.5,
             "#f7f7f7"
            ],
            [
             0.6,
             "#e6f5d0"
            ],
            [
             0.7,
             "#b8e186"
            ],
            [
             0.8,
             "#7fbc41"
            ],
            [
             0.9,
             "#4d9221"
            ],
            [
             1,
             "#276419"
            ]
           ],
           "sequential": [
            [
             0,
             "#0d0887"
            ],
            [
             0.1111111111111111,
             "#46039f"
            ],
            [
             0.2222222222222222,
             "#7201a8"
            ],
            [
             0.3333333333333333,
             "#9c179e"
            ],
            [
             0.4444444444444444,
             "#bd3786"
            ],
            [
             0.5555555555555556,
             "#d8576b"
            ],
            [
             0.6666666666666666,
             "#ed7953"
            ],
            [
             0.7777777777777778,
             "#fb9f3a"
            ],
            [
             0.8888888888888888,
             "#fdca26"
            ],
            [
             1,
             "#f0f921"
            ]
           ],
           "sequentialminus": [
            [
             0,
             "#0d0887"
            ],
            [
             0.1111111111111111,
             "#46039f"
            ],
            [
             0.2222222222222222,
             "#7201a8"
            ],
            [
             0.3333333333333333,
             "#9c179e"
            ],
            [
             0.4444444444444444,
             "#bd3786"
            ],
            [
             0.5555555555555556,
             "#d8576b"
            ],
            [
             0.6666666666666666,
             "#ed7953"
            ],
            [
             0.7777777777777778,
             "#fb9f3a"
            ],
            [
             0.8888888888888888,
             "#fdca26"
            ],
            [
             1,
             "#f0f921"
            ]
           ]
          },
          "colorway": [
           "#636efa",
           "#EF553B",
           "#00cc96",
           "#ab63fa",
           "#FFA15A",
           "#19d3f3",
           "#FF6692",
           "#B6E880",
           "#FF97FF",
           "#FECB52"
          ],
          "font": {
           "color": "#2a3f5f"
          },
          "geo": {
           "bgcolor": "white",
           "lakecolor": "white",
           "landcolor": "#E5ECF6",
           "showlakes": true,
           "showland": true,
           "subunitcolor": "white"
          },
          "hoverlabel": {
           "align": "left"
          },
          "hovermode": "closest",
          "mapbox": {
           "style": "light"
          },
          "paper_bgcolor": "white",
          "plot_bgcolor": "#E5ECF6",
          "polar": {
           "angularaxis": {
            "gridcolor": "white",
            "linecolor": "white",
            "ticks": ""
           },
           "bgcolor": "#E5ECF6",
           "radialaxis": {
            "gridcolor": "white",
            "linecolor": "white",
            "ticks": ""
           }
          },
          "scene": {
           "xaxis": {
            "backgroundcolor": "#E5ECF6",
            "gridcolor": "white",
            "gridwidth": 2,
            "linecolor": "white",
            "showbackground": true,
            "ticks": "",
            "zerolinecolor": "white"
           },
           "yaxis": {
            "backgroundcolor": "#E5ECF6",
            "gridcolor": "white",
            "gridwidth": 2,
            "linecolor": "white",
            "showbackground": true,
            "ticks": "",
            "zerolinecolor": "white"
           },
           "zaxis": {
            "backgroundcolor": "#E5ECF6",
            "gridcolor": "white",
            "gridwidth": 2,
            "linecolor": "white",
            "showbackground": true,
            "ticks": "",
            "zerolinecolor": "white"
           }
          },
          "shapedefaults": {
           "line": {
            "color": "#2a3f5f"
           }
          },
          "ternary": {
           "aaxis": {
            "gridcolor": "white",
            "linecolor": "white",
            "ticks": ""
           },
           "baxis": {
            "gridcolor": "white",
            "linecolor": "white",
            "ticks": ""
           },
           "bgcolor": "#E5ECF6",
           "caxis": {
            "gridcolor": "white",
            "linecolor": "white",
            "ticks": ""
           }
          },
          "title": {
           "x": 0.05
          },
          "xaxis": {
           "automargin": true,
           "gridcolor": "white",
           "linecolor": "white",
           "ticks": "",
           "title": {
            "standoff": 15
           },
           "zerolinecolor": "white",
           "zerolinewidth": 2
          },
          "yaxis": {
           "automargin": true,
           "gridcolor": "white",
           "linecolor": "white",
           "ticks": "",
           "title": {
            "standoff": 15
           },
           "zerolinecolor": "white",
           "zerolinewidth": 2
          }
         }
        },
        "title": {
         "font": {
          "color": "#D9D9D9"
         }
        },
        "xaxis": {
         "gridcolor": "#434343",
         "showgrid": true,
         "tickfont": {
          "color": "#C2C2C2"
         },
         "title": {
          "font": {
           "color": "#D9D9D9"
          },
          "text": ""
         },
         "zerolinecolor": "#666570"
        },
        "yaxis": {
         "gridcolor": "#434343",
         "showgrid": true,
         "tickfont": {
          "color": "#C2C2C2"
         },
         "title": {
          "font": {
           "color": "#D9D9D9"
          },
          "text": ""
         },
         "zerolinecolor": "#666570"
        }
       }
      },
      "text/html": [
       "<div>                            <div id=\"ed8c01d3-2de4-4bf4-b3fa-a7564ecb71ed\" class=\"plotly-graph-div\" style=\"height:525px; width:100%;\"></div>            <script type=\"text/javascript\">                require([\"plotly\"], function(Plotly) {                    window.PLOTLYENV=window.PLOTLYENV || {};\n",
       "                    window.PLOTLYENV.BASE_URL='https://plot.ly';                                    if (document.getElementById(\"ed8c01d3-2de4-4bf4-b3fa-a7564ecb71ed\")) {                    Plotly.newPlot(                        \"ed8c01d3-2de4-4bf4-b3fa-a7564ecb71ed\",                        [{\"marker\":{\"color\":\"rgba(255, 153, 51, 0.6)\",\"line\":{\"color\":\"rgba(255, 153, 51, 1.0)\",\"width\":1}},\"name\":\"\\uc6d4\\ubcc4\\uc2b9\\ucc28\\ucd1d\\uc2b9\\uac1d\\uc218\",\"orientation\":\"v\",\"text\":\"\",\"type\":\"bar\",\"x\":[\"'2015-01\",\"'2015-02\",\"'2015-03\",\"'2015-04\",\"'2015-05\",\"'2015-06\",\"'2015-07\",\"'2015-08\",\"'2015-09\",\"'2015-10\",\"'2015-11\",\"'2015-12\",\"'2016-01\",\"'2016-02\",\"'2016-03\",\"'2016-04\",\"'2016-05\",\"'2016-06\",\"'2016-07\",\"'2016-08\",\"'2016-09\",\"'2016-10\",\"'2016-11\",\"'2016-12\",\"'2017-01\",\"'2017-02\",\"'2017-03\",\"'2017-04\",\"'2017-05\",\"'2017-06\",\"'2017-07\",\"'2017-08\",\"'2017-09\",\"'2017-10\",\"'2017-11\",\"'2017-12\",\"'2018-01\",\"'2018-02\",\"'2018-03\",\"'2018-04\",\"'2018-05\",\"'2018-06\",\"'2018-07\",\"'2018-08\",\"'2018-09\",\"'2018-10\",\"'2018-11\",\"'2018-12\",\"'2019-01\",\"'2019-02\",\"'2019-03\",\"'2019-04\",\"'2019-05\",\"'2019-06\",\"'2019-07\",\"'2019-08\",\"'2019-09\",\"'2019-10\",\"'2019-11\",\"'2019-12\",\"'2020-01\",\"'2020-02\",\"'2020-03\",\"'2020-04\",\"'2020-05\",\"'2020-06\",\"'2020-07\",\"'2020-08\",\"'2020-09\",\"'2020-10\",\"'2020-11\",\"'2020-12\",\"'2021-01\",\"'2021-02\",\"'2021-03\",\"'2021-04\",\"'2021-05\",\"'2021-06\",\"'2021-07\",\"'2021-08\"],\"y\":[437278792.0,376783122.0,478541350.0,236022558.0,234296965.0,203119706.0,218172679.0,210102718.0,214486255.0,234349102.0,223497154.0,233155014.0,209273211.0,193647156.0,236377700.0,228348725.0,234166653.0,222611572.0,219465787.0,214193213.0,210698312.0,229681635.0,228122715.0,231777262.0,205502324.0,204936457.0,237179303.0,227780690.0,227836340.0,221308605.0,214815271.0,213776584.0,228240103.0,208204249.0,228254078.0,228619448.0,213710722.0,189110822.0,235296346.0,228971702.0,235253127.0,219426719.0,221632774.0,214216200.0,208561416.0,235739024.0,232960426.0,227834001.0,221848014.0,190335812.0,233813277.0,235928571.0,243338053.0,221547039.0,229254848.0,219672653.0,214006728.0,240101848.0,232284482.0,234574904.0,207743593.0,169582542.0,139686779.0,149118804.0,164531970.0,171605690.0,183490485.0,152989131.0,144602055.0,169231365.0,171847194.0,139666561.0,142178674.0,142994483.0,179109500.0,177677244.0,174157717.0,179060211.0,159645605.0,152911075.0]},{\"marker\":{\"color\":\"rgba(55, 128, 191, 0.6)\",\"line\":{\"color\":\"rgba(55, 128, 191, 1.0)\",\"width\":1}},\"name\":\"\\uc6d4\\ubcc4\\ud558\\ucc28\\ucd1d\\uc2b9\\uac1d\\uc218\",\"orientation\":\"v\",\"text\":\"\",\"type\":\"bar\",\"x\":[\"'2015-01\",\"'2015-02\",\"'2015-03\",\"'2015-04\",\"'2015-05\",\"'2015-06\",\"'2015-07\",\"'2015-08\",\"'2015-09\",\"'2015-10\",\"'2015-11\",\"'2015-12\",\"'2016-01\",\"'2016-02\",\"'2016-03\",\"'2016-04\",\"'2016-05\",\"'2016-06\",\"'2016-07\",\"'2016-08\",\"'2016-09\",\"'2016-10\",\"'2016-11\",\"'2016-12\",\"'2017-01\",\"'2017-02\",\"'2017-03\",\"'2017-04\",\"'2017-05\",\"'2017-06\",\"'2017-07\",\"'2017-08\",\"'2017-09\",\"'2017-10\",\"'2017-11\",\"'2017-12\",\"'2018-01\",\"'2018-02\",\"'2018-03\",\"'2018-04\",\"'2018-05\",\"'2018-06\",\"'2018-07\",\"'2018-08\",\"'2018-09\",\"'2018-10\",\"'2018-11\",\"'2018-12\",\"'2019-01\",\"'2019-02\",\"'2019-03\",\"'2019-04\",\"'2019-05\",\"'2019-06\",\"'2019-07\",\"'2019-08\",\"'2019-09\",\"'2019-10\",\"'2019-11\",\"'2019-12\",\"'2020-01\",\"'2020-02\",\"'2020-03\",\"'2020-04\",\"'2020-05\",\"'2020-06\",\"'2020-07\",\"'2020-08\",\"'2020-09\",\"'2020-10\",\"'2020-11\",\"'2020-12\",\"'2021-01\",\"'2021-02\",\"'2021-03\",\"'2021-04\",\"'2021-05\",\"'2021-06\",\"'2021-07\",\"'2021-08\"],\"y\":[435066846.0,374884262.0,476451614.0,234898916.0,233170178.0,202399930.0,217265058.0,209130600.0,213578097.0,233341479.0,222600581.0,232154505.0,208318335.0,192773472.0,235428077.0,227431434.0,233175677.0,221688838.0,218462009.0,213224598.0,209805032.0,228636055.0,227122581.0,230724428.0,204531987.0,203985242.0,236204018.0,226789893.0,226799684.0,220362163.0,213858564.0,212809390.0,227170000.0,207196105.0,227278770.0,227669424.0,212849469.0,188340921.0,234409973.0,228096920.0,234314673.0,218542730.0,220746413.0,213330490.0,207742249.0,234837595.0,232096833.0,226826591.0,220898375.0,189500198.0,232879549.0,235005777.0,242380504.0,220663596.0,228353976.0,218759210.0,213170622.0,239145883.0,231429861.0,233673639.0,206939054.0,169058614.0,139308780.0,148683918.0,370215033853.0,358338895875.0,370259100924.0,370947762113.0,361232950733.0,374466413132.0,362468794583.0,374102066579.0,374635099720.0,338541483044.0,375022803846.0,364616286518.0,376562514325.0,364498631123.0,376566240801.0,376689369334.0]}],                        {\"legend\":{\"bgcolor\":\"#1A1A1C\",\"font\":{\"color\":\"#D9D9D9\"}},\"paper_bgcolor\":\"#1A1A1C\",\"plot_bgcolor\":\"#1A1A1C\",\"template\":{\"data\":{\"bar\":[{\"error_x\":{\"color\":\"#2a3f5f\"},\"error_y\":{\"color\":\"#2a3f5f\"},\"marker\":{\"line\":{\"color\":\"#E5ECF6\",\"width\":0.5},\"pattern\":{\"fillmode\":\"overlay\",\"size\":10,\"solidity\":0.2}},\"type\":\"bar\"}],\"barpolar\":[{\"marker\":{\"line\":{\"color\":\"#E5ECF6\",\"width\":0.5},\"pattern\":{\"fillmode\":\"overlay\",\"size\":10,\"solidity\":0.2}},\"type\":\"barpolar\"}],\"carpet\":[{\"aaxis\":{\"endlinecolor\":\"#2a3f5f\",\"gridcolor\":\"white\",\"linecolor\":\"white\",\"minorgridcolor\":\"white\",\"startlinecolor\":\"#2a3f5f\"},\"baxis\":{\"endlinecolor\":\"#2a3f5f\",\"gridcolor\":\"white\",\"linecolor\":\"white\",\"minorgridcolor\":\"white\",\"startlinecolor\":\"#2a3f5f\"},\"type\":\"carpet\"}],\"choropleth\":[{\"colorbar\":{\"outlinewidth\":0,\"ticks\":\"\"},\"type\":\"choropleth\"}],\"contour\":[{\"colorbar\":{\"outlinewidth\":0,\"ticks\":\"\"},\"colorscale\":[[0.0,\"#0d0887\"],[0.1111111111111111,\"#46039f\"],[0.2222222222222222,\"#7201a8\"],[0.3333333333333333,\"#9c179e\"],[0.4444444444444444,\"#bd3786\"],[0.5555555555555556,\"#d8576b\"],[0.6666666666666666,\"#ed7953\"],[0.7777777777777778,\"#fb9f3a\"],[0.8888888888888888,\"#fdca26\"],[1.0,\"#f0f921\"]],\"type\":\"contour\"}],\"contourcarpet\":[{\"colorbar\":{\"outlinewidth\":0,\"ticks\":\"\"},\"type\":\"contourcarpet\"}],\"heatmap\":[{\"colorbar\":{\"outlinewidth\":0,\"ticks\":\"\"},\"colorscale\":[[0.0,\"#0d0887\"],[0.1111111111111111,\"#46039f\"],[0.2222222222222222,\"#7201a8\"],[0.3333333333333333,\"#9c179e\"],[0.4444444444444444,\"#bd3786\"],[0.5555555555555556,\"#d8576b\"],[0.6666666666666666,\"#ed7953\"],[0.7777777777777778,\"#fb9f3a\"],[0.8888888888888888,\"#fdca26\"],[1.0,\"#f0f921\"]],\"type\":\"heatmap\"}],\"heatmapgl\":[{\"colorbar\":{\"outlinewidth\":0,\"ticks\":\"\"},\"colorscale\":[[0.0,\"#0d0887\"],[0.1111111111111111,\"#46039f\"],[0.2222222222222222,\"#7201a8\"],[0.3333333333333333,\"#9c179e\"],[0.4444444444444444,\"#bd3786\"],[0.5555555555555556,\"#d8576b\"],[0.6666666666666666,\"#ed7953\"],[0.7777777777777778,\"#fb9f3a\"],[0.8888888888888888,\"#fdca26\"],[1.0,\"#f0f921\"]],\"type\":\"heatmapgl\"}],\"histogram\":[{\"marker\":{\"pattern\":{\"fillmode\":\"overlay\",\"size\":10,\"solidity\":0.2}},\"type\":\"histogram\"}],\"histogram2d\":[{\"colorbar\":{\"outlinewidth\":0,\"ticks\":\"\"},\"colorscale\":[[0.0,\"#0d0887\"],[0.1111111111111111,\"#46039f\"],[0.2222222222222222,\"#7201a8\"],[0.3333333333333333,\"#9c179e\"],[0.4444444444444444,\"#bd3786\"],[0.5555555555555556,\"#d8576b\"],[0.6666666666666666,\"#ed7953\"],[0.7777777777777778,\"#fb9f3a\"],[0.8888888888888888,\"#fdca26\"],[1.0,\"#f0f921\"]],\"type\":\"histogram2d\"}],\"histogram2dcontour\":[{\"colorbar\":{\"outlinewidth\":0,\"ticks\":\"\"},\"colorscale\":[[0.0,\"#0d0887\"],[0.1111111111111111,\"#46039f\"],[0.2222222222222222,\"#7201a8\"],[0.3333333333333333,\"#9c179e\"],[0.4444444444444444,\"#bd3786\"],[0.5555555555555556,\"#d8576b\"],[0.6666666666666666,\"#ed7953\"],[0.7777777777777778,\"#fb9f3a\"],[0.8888888888888888,\"#fdca26\"],[1.0,\"#f0f921\"]],\"type\":\"histogram2dcontour\"}],\"mesh3d\":[{\"colorbar\":{\"outlinewidth\":0,\"ticks\":\"\"},\"type\":\"mesh3d\"}],\"parcoords\":[{\"line\":{\"colorbar\":{\"outlinewidth\":0,\"ticks\":\"\"}},\"type\":\"parcoords\"}],\"pie\":[{\"automargin\":true,\"type\":\"pie\"}],\"scatter\":[{\"marker\":{\"colorbar\":{\"outlinewidth\":0,\"ticks\":\"\"}},\"type\":\"scatter\"}],\"scatter3d\":[{\"line\":{\"colorbar\":{\"outlinewidth\":0,\"ticks\":\"\"}},\"marker\":{\"colorbar\":{\"outlinewidth\":0,\"ticks\":\"\"}},\"type\":\"scatter3d\"}],\"scattercarpet\":[{\"marker\":{\"colorbar\":{\"outlinewidth\":0,\"ticks\":\"\"}},\"type\":\"scattercarpet\"}],\"scattergeo\":[{\"marker\":{\"colorbar\":{\"outlinewidth\":0,\"ticks\":\"\"}},\"type\":\"scattergeo\"}],\"scattergl\":[{\"marker\":{\"colorbar\":{\"outlinewidth\":0,\"ticks\":\"\"}},\"type\":\"scattergl\"}],\"scattermapbox\":[{\"marker\":{\"colorbar\":{\"outlinewidth\":0,\"ticks\":\"\"}},\"type\":\"scattermapbox\"}],\"scatterpolar\":[{\"marker\":{\"colorbar\":{\"outlinewidth\":0,\"ticks\":\"\"}},\"type\":\"scatterpolar\"}],\"scatterpolargl\":[{\"marker\":{\"colorbar\":{\"outlinewidth\":0,\"ticks\":\"\"}},\"type\":\"scatterpolargl\"}],\"scatterternary\":[{\"marker\":{\"colorbar\":{\"outlinewidth\":0,\"ticks\":\"\"}},\"type\":\"scatterternary\"}],\"surface\":[{\"colorbar\":{\"outlinewidth\":0,\"ticks\":\"\"},\"colorscale\":[[0.0,\"#0d0887\"],[0.1111111111111111,\"#46039f\"],[0.2222222222222222,\"#7201a8\"],[0.3333333333333333,\"#9c179e\"],[0.4444444444444444,\"#bd3786\"],[0.5555555555555556,\"#d8576b\"],[0.6666666666666666,\"#ed7953\"],[0.7777777777777778,\"#fb9f3a\"],[0.8888888888888888,\"#fdca26\"],[1.0,\"#f0f921\"]],\"type\":\"surface\"}],\"table\":[{\"cells\":{\"fill\":{\"color\":\"#EBF0F8\"},\"line\":{\"color\":\"white\"}},\"header\":{\"fill\":{\"color\":\"#C8D4E3\"},\"line\":{\"color\":\"white\"}},\"type\":\"table\"}]},\"layout\":{\"annotationdefaults\":{\"arrowcolor\":\"#2a3f5f\",\"arrowhead\":0,\"arrowwidth\":1},\"autotypenumbers\":\"strict\",\"coloraxis\":{\"colorbar\":{\"outlinewidth\":0,\"ticks\":\"\"}},\"colorscale\":{\"diverging\":[[0,\"#8e0152\"],[0.1,\"#c51b7d\"],[0.2,\"#de77ae\"],[0.3,\"#f1b6da\"],[0.4,\"#fde0ef\"],[0.5,\"#f7f7f7\"],[0.6,\"#e6f5d0\"],[0.7,\"#b8e186\"],[0.8,\"#7fbc41\"],[0.9,\"#4d9221\"],[1,\"#276419\"]],\"sequential\":[[0.0,\"#0d0887\"],[0.1111111111111111,\"#46039f\"],[0.2222222222222222,\"#7201a8\"],[0.3333333333333333,\"#9c179e\"],[0.4444444444444444,\"#bd3786\"],[0.5555555555555556,\"#d8576b\"],[0.6666666666666666,\"#ed7953\"],[0.7777777777777778,\"#fb9f3a\"],[0.8888888888888888,\"#fdca26\"],[1.0,\"#f0f921\"]],\"sequentialminus\":[[0.0,\"#0d0887\"],[0.1111111111111111,\"#46039f\"],[0.2222222222222222,\"#7201a8\"],[0.3333333333333333,\"#9c179e\"],[0.4444444444444444,\"#bd3786\"],[0.5555555555555556,\"#d8576b\"],[0.6666666666666666,\"#ed7953\"],[0.7777777777777778,\"#fb9f3a\"],[0.8888888888888888,\"#fdca26\"],[1.0,\"#f0f921\"]]},\"colorway\":[\"#636efa\",\"#EF553B\",\"#00cc96\",\"#ab63fa\",\"#FFA15A\",\"#19d3f3\",\"#FF6692\",\"#B6E880\",\"#FF97FF\",\"#FECB52\"],\"font\":{\"color\":\"#2a3f5f\"},\"geo\":{\"bgcolor\":\"white\",\"lakecolor\":\"white\",\"landcolor\":\"#E5ECF6\",\"showlakes\":true,\"showland\":true,\"subunitcolor\":\"white\"},\"hoverlabel\":{\"align\":\"left\"},\"hovermode\":\"closest\",\"mapbox\":{\"style\":\"light\"},\"paper_bgcolor\":\"white\",\"plot_bgcolor\":\"#E5ECF6\",\"polar\":{\"angularaxis\":{\"gridcolor\":\"white\",\"linecolor\":\"white\",\"ticks\":\"\"},\"bgcolor\":\"#E5ECF6\",\"radialaxis\":{\"gridcolor\":\"white\",\"linecolor\":\"white\",\"ticks\":\"\"}},\"scene\":{\"xaxis\":{\"backgroundcolor\":\"#E5ECF6\",\"gridcolor\":\"white\",\"gridwidth\":2,\"linecolor\":\"white\",\"showbackground\":true,\"ticks\":\"\",\"zerolinecolor\":\"white\"},\"yaxis\":{\"backgroundcolor\":\"#E5ECF6\",\"gridcolor\":\"white\",\"gridwidth\":2,\"linecolor\":\"white\",\"showbackground\":true,\"ticks\":\"\",\"zerolinecolor\":\"white\"},\"zaxis\":{\"backgroundcolor\":\"#E5ECF6\",\"gridcolor\":\"white\",\"gridwidth\":2,\"linecolor\":\"white\",\"showbackground\":true,\"ticks\":\"\",\"zerolinecolor\":\"white\"}},\"shapedefaults\":{\"line\":{\"color\":\"#2a3f5f\"}},\"ternary\":{\"aaxis\":{\"gridcolor\":\"white\",\"linecolor\":\"white\",\"ticks\":\"\"},\"baxis\":{\"gridcolor\":\"white\",\"linecolor\":\"white\",\"ticks\":\"\"},\"bgcolor\":\"#E5ECF6\",\"caxis\":{\"gridcolor\":\"white\",\"linecolor\":\"white\",\"ticks\":\"\"}},\"title\":{\"x\":0.05},\"xaxis\":{\"automargin\":true,\"gridcolor\":\"white\",\"linecolor\":\"white\",\"ticks\":\"\",\"title\":{\"standoff\":15},\"zerolinecolor\":\"white\",\"zerolinewidth\":2},\"yaxis\":{\"automargin\":true,\"gridcolor\":\"white\",\"linecolor\":\"white\",\"ticks\":\"\",\"title\":{\"standoff\":15},\"zerolinecolor\":\"white\",\"zerolinewidth\":2}}},\"title\":{\"font\":{\"color\":\"#D9D9D9\"}},\"xaxis\":{\"gridcolor\":\"#434343\",\"showgrid\":true,\"tickfont\":{\"color\":\"#C2C2C2\"},\"title\":{\"font\":{\"color\":\"#D9D9D9\"},\"text\":\"\"},\"zerolinecolor\":\"#666570\"},\"yaxis\":{\"gridcolor\":\"#434343\",\"showgrid\":true,\"tickfont\":{\"color\":\"#C2C2C2\"},\"title\":{\"font\":{\"color\":\"#D9D9D9\"},\"text\":\"\"},\"zerolinecolor\":\"#666570\"}},                        {\"showLink\": true, \"linkText\": \"Export to plot.ly\", \"plotlyServerURL\": \"https://plot.ly\", \"responsive\": true}                    ).then(function(){\n",
       "                            \n",
       "var gd = document.getElementById('ed8c01d3-2de4-4bf4-b3fa-a7564ecb71ed');\n",
       "var x = new MutationObserver(function (mutations, observer) {{\n",
       "        var display = window.getComputedStyle(gd).display;\n",
       "        if (!display || display === 'none') {{\n",
       "            console.log([gd, 'removed!']);\n",
       "            Plotly.purge(gd);\n",
       "            observer.disconnect();\n",
       "        }}\n",
       "}});\n",
       "\n",
       "// Listen for the removal of the full notebook cells\n",
       "var notebookContainer = gd.closest('#notebook-container');\n",
       "if (notebookContainer) {{\n",
       "    x.observe(notebookContainer, {childList: true});\n",
       "}}\n",
       "\n",
       "// Listen for the clearing of the current output cell\n",
       "var outputEl = gd.closest('.output');\n",
       "if (outputEl) {{\n",
       "    x.observe(outputEl, {childList: true});\n",
       "}}\n",
       "\n",
       "                        })                };                });            </script>        </div>"
      ]
     },
     "metadata": {},
     "output_type": "display_data"
    }
   ],
   "source": [
    "sub.iplot(kind='bar', x='date', theme='space')"
   ]
  },
  {
   "cell_type": "markdown",
   "id": "ccdda02f",
   "metadata": {},
   "source": [
    "### 승하차 수 거의 차이 없음.\n",
    "* 승차수만 표현"
   ]
  },
  {
   "cell_type": "code",
   "execution_count": 78,
   "id": "ef41b387",
   "metadata": {},
   "outputs": [
    {
     "data": {
      "application/vnd.plotly.v1+json": {
       "config": {
        "linkText": "Export to plot.ly",
        "plotlyServerURL": "https://plot.ly",
        "showLink": true
       },
       "data": [
        {
         "marker": {
          "color": "rgba(255, 153, 51, 0.6)",
          "line": {
           "color": "rgba(255, 153, 51, 1.0)",
           "width": 1
          }
         },
         "name": "월별승차총승객수",
         "orientation": "v",
         "text": "",
         "type": "bar",
         "x": [
          "'2015-01",
          "'2015-02",
          "'2015-03",
          "'2015-04",
          "'2015-05",
          "'2015-06",
          "'2015-07",
          "'2015-08",
          "'2015-09",
          "'2015-10",
          "'2015-11",
          "'2015-12",
          "'2016-01",
          "'2016-02",
          "'2016-03",
          "'2016-04",
          "'2016-05",
          "'2016-06",
          "'2016-07",
          "'2016-08",
          "'2016-09",
          "'2016-10",
          "'2016-11",
          "'2016-12",
          "'2017-01",
          "'2017-02",
          "'2017-03",
          "'2017-04",
          "'2017-05",
          "'2017-06",
          "'2017-07",
          "'2017-08",
          "'2017-09",
          "'2017-10",
          "'2017-11",
          "'2017-12",
          "'2018-01",
          "'2018-02",
          "'2018-03",
          "'2018-04",
          "'2018-05",
          "'2018-06",
          "'2018-07",
          "'2018-08",
          "'2018-09",
          "'2018-10",
          "'2018-11",
          "'2018-12",
          "'2019-01",
          "'2019-02",
          "'2019-03",
          "'2019-04",
          "'2019-05",
          "'2019-06",
          "'2019-07",
          "'2019-08",
          "'2019-09",
          "'2019-10",
          "'2019-11",
          "'2019-12",
          "'2020-01",
          "'2020-02",
          "'2020-03",
          "'2020-04",
          "'2020-05",
          "'2020-06",
          "'2020-07",
          "'2020-08",
          "'2020-09",
          "'2020-10",
          "'2020-11",
          "'2020-12",
          "'2021-01",
          "'2021-02",
          "'2021-03",
          "'2021-04",
          "'2021-05",
          "'2021-06",
          "'2021-07",
          "'2021-08"
         ],
         "y": [
          437278792,
          376783122,
          478541350,
          236022558,
          234296965,
          203119706,
          218172679,
          210102718,
          214486255,
          234349102,
          223497154,
          233155014,
          209273211,
          193647156,
          236377700,
          228348725,
          234166653,
          222611572,
          219465787,
          214193213,
          210698312,
          229681635,
          228122715,
          231777262,
          205502324,
          204936457,
          237179303,
          227780690,
          227836340,
          221308605,
          214815271,
          213776584,
          228240103,
          208204249,
          228254078,
          228619448,
          213710722,
          189110822,
          235296346,
          228971702,
          235253127,
          219426719,
          221632774,
          214216200,
          208561416,
          235739024,
          232960426,
          227834001,
          221848014,
          190335812,
          233813277,
          235928571,
          243338053,
          221547039,
          229254848,
          219672653,
          214006728,
          240101848,
          232284482,
          234574904,
          207743593,
          169582542,
          139686779,
          149118804,
          164531970,
          171605690,
          183490485,
          152989131,
          144602055,
          169231365,
          171847194,
          139666561,
          142178674,
          142994483,
          179109500,
          177677244,
          174157717,
          179060211,
          159645605,
          152911075
         ]
        }
       ],
       "layout": {
        "legend": {
         "bgcolor": "#1A1A1C",
         "font": {
          "color": "#D9D9D9"
         }
        },
        "paper_bgcolor": "#1A1A1C",
        "plot_bgcolor": "#1A1A1C",
        "template": {
         "data": {
          "bar": [
           {
            "error_x": {
             "color": "#2a3f5f"
            },
            "error_y": {
             "color": "#2a3f5f"
            },
            "marker": {
             "line": {
              "color": "#E5ECF6",
              "width": 0.5
             },
             "pattern": {
              "fillmode": "overlay",
              "size": 10,
              "solidity": 0.2
             }
            },
            "type": "bar"
           }
          ],
          "barpolar": [
           {
            "marker": {
             "line": {
              "color": "#E5ECF6",
              "width": 0.5
             },
             "pattern": {
              "fillmode": "overlay",
              "size": 10,
              "solidity": 0.2
             }
            },
            "type": "barpolar"
           }
          ],
          "carpet": [
           {
            "aaxis": {
             "endlinecolor": "#2a3f5f",
             "gridcolor": "white",
             "linecolor": "white",
             "minorgridcolor": "white",
             "startlinecolor": "#2a3f5f"
            },
            "baxis": {
             "endlinecolor": "#2a3f5f",
             "gridcolor": "white",
             "linecolor": "white",
             "minorgridcolor": "white",
             "startlinecolor": "#2a3f5f"
            },
            "type": "carpet"
           }
          ],
          "choropleth": [
           {
            "colorbar": {
             "outlinewidth": 0,
             "ticks": ""
            },
            "type": "choropleth"
           }
          ],
          "contour": [
           {
            "colorbar": {
             "outlinewidth": 0,
             "ticks": ""
            },
            "colorscale": [
             [
              0,
              "#0d0887"
             ],
             [
              0.1111111111111111,
              "#46039f"
             ],
             [
              0.2222222222222222,
              "#7201a8"
             ],
             [
              0.3333333333333333,
              "#9c179e"
             ],
             [
              0.4444444444444444,
              "#bd3786"
             ],
             [
              0.5555555555555556,
              "#d8576b"
             ],
             [
              0.6666666666666666,
              "#ed7953"
             ],
             [
              0.7777777777777778,
              "#fb9f3a"
             ],
             [
              0.8888888888888888,
              "#fdca26"
             ],
             [
              1,
              "#f0f921"
             ]
            ],
            "type": "contour"
           }
          ],
          "contourcarpet": [
           {
            "colorbar": {
             "outlinewidth": 0,
             "ticks": ""
            },
            "type": "contourcarpet"
           }
          ],
          "heatmap": [
           {
            "colorbar": {
             "outlinewidth": 0,
             "ticks": ""
            },
            "colorscale": [
             [
              0,
              "#0d0887"
             ],
             [
              0.1111111111111111,
              "#46039f"
             ],
             [
              0.2222222222222222,
              "#7201a8"
             ],
             [
              0.3333333333333333,
              "#9c179e"
             ],
             [
              0.4444444444444444,
              "#bd3786"
             ],
             [
              0.5555555555555556,
              "#d8576b"
             ],
             [
              0.6666666666666666,
              "#ed7953"
             ],
             [
              0.7777777777777778,
              "#fb9f3a"
             ],
             [
              0.8888888888888888,
              "#fdca26"
             ],
             [
              1,
              "#f0f921"
             ]
            ],
            "type": "heatmap"
           }
          ],
          "heatmapgl": [
           {
            "colorbar": {
             "outlinewidth": 0,
             "ticks": ""
            },
            "colorscale": [
             [
              0,
              "#0d0887"
             ],
             [
              0.1111111111111111,
              "#46039f"
             ],
             [
              0.2222222222222222,
              "#7201a8"
             ],
             [
              0.3333333333333333,
              "#9c179e"
             ],
             [
              0.4444444444444444,
              "#bd3786"
             ],
             [
              0.5555555555555556,
              "#d8576b"
             ],
             [
              0.6666666666666666,
              "#ed7953"
             ],
             [
              0.7777777777777778,
              "#fb9f3a"
             ],
             [
              0.8888888888888888,
              "#fdca26"
             ],
             [
              1,
              "#f0f921"
             ]
            ],
            "type": "heatmapgl"
           }
          ],
          "histogram": [
           {
            "marker": {
             "pattern": {
              "fillmode": "overlay",
              "size": 10,
              "solidity": 0.2
             }
            },
            "type": "histogram"
           }
          ],
          "histogram2d": [
           {
            "colorbar": {
             "outlinewidth": 0,
             "ticks": ""
            },
            "colorscale": [
             [
              0,
              "#0d0887"
             ],
             [
              0.1111111111111111,
              "#46039f"
             ],
             [
              0.2222222222222222,
              "#7201a8"
             ],
             [
              0.3333333333333333,
              "#9c179e"
             ],
             [
              0.4444444444444444,
              "#bd3786"
             ],
             [
              0.5555555555555556,
              "#d8576b"
             ],
             [
              0.6666666666666666,
              "#ed7953"
             ],
             [
              0.7777777777777778,
              "#fb9f3a"
             ],
             [
              0.8888888888888888,
              "#fdca26"
             ],
             [
              1,
              "#f0f921"
             ]
            ],
            "type": "histogram2d"
           }
          ],
          "histogram2dcontour": [
           {
            "colorbar": {
             "outlinewidth": 0,
             "ticks": ""
            },
            "colorscale": [
             [
              0,
              "#0d0887"
             ],
             [
              0.1111111111111111,
              "#46039f"
             ],
             [
              0.2222222222222222,
              "#7201a8"
             ],
             [
              0.3333333333333333,
              "#9c179e"
             ],
             [
              0.4444444444444444,
              "#bd3786"
             ],
             [
              0.5555555555555556,
              "#d8576b"
             ],
             [
              0.6666666666666666,
              "#ed7953"
             ],
             [
              0.7777777777777778,
              "#fb9f3a"
             ],
             [
              0.8888888888888888,
              "#fdca26"
             ],
             [
              1,
              "#f0f921"
             ]
            ],
            "type": "histogram2dcontour"
           }
          ],
          "mesh3d": [
           {
            "colorbar": {
             "outlinewidth": 0,
             "ticks": ""
            },
            "type": "mesh3d"
           }
          ],
          "parcoords": [
           {
            "line": {
             "colorbar": {
              "outlinewidth": 0,
              "ticks": ""
             }
            },
            "type": "parcoords"
           }
          ],
          "pie": [
           {
            "automargin": true,
            "type": "pie"
           }
          ],
          "scatter": [
           {
            "marker": {
             "colorbar": {
              "outlinewidth": 0,
              "ticks": ""
             }
            },
            "type": "scatter"
           }
          ],
          "scatter3d": [
           {
            "line": {
             "colorbar": {
              "outlinewidth": 0,
              "ticks": ""
             }
            },
            "marker": {
             "colorbar": {
              "outlinewidth": 0,
              "ticks": ""
             }
            },
            "type": "scatter3d"
           }
          ],
          "scattercarpet": [
           {
            "marker": {
             "colorbar": {
              "outlinewidth": 0,
              "ticks": ""
             }
            },
            "type": "scattercarpet"
           }
          ],
          "scattergeo": [
           {
            "marker": {
             "colorbar": {
              "outlinewidth": 0,
              "ticks": ""
             }
            },
            "type": "scattergeo"
           }
          ],
          "scattergl": [
           {
            "marker": {
             "colorbar": {
              "outlinewidth": 0,
              "ticks": ""
             }
            },
            "type": "scattergl"
           }
          ],
          "scattermapbox": [
           {
            "marker": {
             "colorbar": {
              "outlinewidth": 0,
              "ticks": ""
             }
            },
            "type": "scattermapbox"
           }
          ],
          "scatterpolar": [
           {
            "marker": {
             "colorbar": {
              "outlinewidth": 0,
              "ticks": ""
             }
            },
            "type": "scatterpolar"
           }
          ],
          "scatterpolargl": [
           {
            "marker": {
             "colorbar": {
              "outlinewidth": 0,
              "ticks": ""
             }
            },
            "type": "scatterpolargl"
           }
          ],
          "scatterternary": [
           {
            "marker": {
             "colorbar": {
              "outlinewidth": 0,
              "ticks": ""
             }
            },
            "type": "scatterternary"
           }
          ],
          "surface": [
           {
            "colorbar": {
             "outlinewidth": 0,
             "ticks": ""
            },
            "colorscale": [
             [
              0,
              "#0d0887"
             ],
             [
              0.1111111111111111,
              "#46039f"
             ],
             [
              0.2222222222222222,
              "#7201a8"
             ],
             [
              0.3333333333333333,
              "#9c179e"
             ],
             [
              0.4444444444444444,
              "#bd3786"
             ],
             [
              0.5555555555555556,
              "#d8576b"
             ],
             [
              0.6666666666666666,
              "#ed7953"
             ],
             [
              0.7777777777777778,
              "#fb9f3a"
             ],
             [
              0.8888888888888888,
              "#fdca26"
             ],
             [
              1,
              "#f0f921"
             ]
            ],
            "type": "surface"
           }
          ],
          "table": [
           {
            "cells": {
             "fill": {
              "color": "#EBF0F8"
             },
             "line": {
              "color": "white"
             }
            },
            "header": {
             "fill": {
              "color": "#C8D4E3"
             },
             "line": {
              "color": "white"
             }
            },
            "type": "table"
           }
          ]
         },
         "layout": {
          "annotationdefaults": {
           "arrowcolor": "#2a3f5f",
           "arrowhead": 0,
           "arrowwidth": 1
          },
          "autotypenumbers": "strict",
          "coloraxis": {
           "colorbar": {
            "outlinewidth": 0,
            "ticks": ""
           }
          },
          "colorscale": {
           "diverging": [
            [
             0,
             "#8e0152"
            ],
            [
             0.1,
             "#c51b7d"
            ],
            [
             0.2,
             "#de77ae"
            ],
            [
             0.3,
             "#f1b6da"
            ],
            [
             0.4,
             "#fde0ef"
            ],
            [
             0.5,
             "#f7f7f7"
            ],
            [
             0.6,
             "#e6f5d0"
            ],
            [
             0.7,
             "#b8e186"
            ],
            [
             0.8,
             "#7fbc41"
            ],
            [
             0.9,
             "#4d9221"
            ],
            [
             1,
             "#276419"
            ]
           ],
           "sequential": [
            [
             0,
             "#0d0887"
            ],
            [
             0.1111111111111111,
             "#46039f"
            ],
            [
             0.2222222222222222,
             "#7201a8"
            ],
            [
             0.3333333333333333,
             "#9c179e"
            ],
            [
             0.4444444444444444,
             "#bd3786"
            ],
            [
             0.5555555555555556,
             "#d8576b"
            ],
            [
             0.6666666666666666,
             "#ed7953"
            ],
            [
             0.7777777777777778,
             "#fb9f3a"
            ],
            [
             0.8888888888888888,
             "#fdca26"
            ],
            [
             1,
             "#f0f921"
            ]
           ],
           "sequentialminus": [
            [
             0,
             "#0d0887"
            ],
            [
             0.1111111111111111,
             "#46039f"
            ],
            [
             0.2222222222222222,
             "#7201a8"
            ],
            [
             0.3333333333333333,
             "#9c179e"
            ],
            [
             0.4444444444444444,
             "#bd3786"
            ],
            [
             0.5555555555555556,
             "#d8576b"
            ],
            [
             0.6666666666666666,
             "#ed7953"
            ],
            [
             0.7777777777777778,
             "#fb9f3a"
            ],
            [
             0.8888888888888888,
             "#fdca26"
            ],
            [
             1,
             "#f0f921"
            ]
           ]
          },
          "colorway": [
           "#636efa",
           "#EF553B",
           "#00cc96",
           "#ab63fa",
           "#FFA15A",
           "#19d3f3",
           "#FF6692",
           "#B6E880",
           "#FF97FF",
           "#FECB52"
          ],
          "font": {
           "color": "#2a3f5f"
          },
          "geo": {
           "bgcolor": "white",
           "lakecolor": "white",
           "landcolor": "#E5ECF6",
           "showlakes": true,
           "showland": true,
           "subunitcolor": "white"
          },
          "hoverlabel": {
           "align": "left"
          },
          "hovermode": "closest",
          "mapbox": {
           "style": "light"
          },
          "paper_bgcolor": "white",
          "plot_bgcolor": "#E5ECF6",
          "polar": {
           "angularaxis": {
            "gridcolor": "white",
            "linecolor": "white",
            "ticks": ""
           },
           "bgcolor": "#E5ECF6",
           "radialaxis": {
            "gridcolor": "white",
            "linecolor": "white",
            "ticks": ""
           }
          },
          "scene": {
           "xaxis": {
            "backgroundcolor": "#E5ECF6",
            "gridcolor": "white",
            "gridwidth": 2,
            "linecolor": "white",
            "showbackground": true,
            "ticks": "",
            "zerolinecolor": "white"
           },
           "yaxis": {
            "backgroundcolor": "#E5ECF6",
            "gridcolor": "white",
            "gridwidth": 2,
            "linecolor": "white",
            "showbackground": true,
            "ticks": "",
            "zerolinecolor": "white"
           },
           "zaxis": {
            "backgroundcolor": "#E5ECF6",
            "gridcolor": "white",
            "gridwidth": 2,
            "linecolor": "white",
            "showbackground": true,
            "ticks": "",
            "zerolinecolor": "white"
           }
          },
          "shapedefaults": {
           "line": {
            "color": "#2a3f5f"
           }
          },
          "ternary": {
           "aaxis": {
            "gridcolor": "white",
            "linecolor": "white",
            "ticks": ""
           },
           "baxis": {
            "gridcolor": "white",
            "linecolor": "white",
            "ticks": ""
           },
           "bgcolor": "#E5ECF6",
           "caxis": {
            "gridcolor": "white",
            "linecolor": "white",
            "ticks": ""
           }
          },
          "title": {
           "x": 0.05
          },
          "xaxis": {
           "automargin": true,
           "gridcolor": "white",
           "linecolor": "white",
           "ticks": "",
           "title": {
            "standoff": 15
           },
           "zerolinecolor": "white",
           "zerolinewidth": 2
          },
          "yaxis": {
           "automargin": true,
           "gridcolor": "white",
           "linecolor": "white",
           "ticks": "",
           "title": {
            "standoff": 15
           },
           "zerolinecolor": "white",
           "zerolinewidth": 2
          }
         }
        },
        "title": {
         "font": {
          "color": "#D9D9D9"
         }
        },
        "xaxis": {
         "gridcolor": "#434343",
         "showgrid": true,
         "tickfont": {
          "color": "#C2C2C2"
         },
         "title": {
          "font": {
           "color": "#D9D9D9"
          },
          "text": ""
         },
         "zerolinecolor": "#666570"
        },
        "yaxis": {
         "gridcolor": "#434343",
         "showgrid": true,
         "tickfont": {
          "color": "#C2C2C2"
         },
         "title": {
          "font": {
           "color": "#D9D9D9"
          },
          "text": ""
         },
         "zerolinecolor": "#666570"
        }
       }
      },
      "text/html": [
       "<div>                            <div id=\"565ebecb-3bb3-49f5-ab2c-0baa0f96ab62\" class=\"plotly-graph-div\" style=\"height:525px; width:100%;\"></div>            <script type=\"text/javascript\">                require([\"plotly\"], function(Plotly) {                    window.PLOTLYENV=window.PLOTLYENV || {};\n",
       "                    window.PLOTLYENV.BASE_URL='https://plot.ly';                                    if (document.getElementById(\"565ebecb-3bb3-49f5-ab2c-0baa0f96ab62\")) {                    Plotly.newPlot(                        \"565ebecb-3bb3-49f5-ab2c-0baa0f96ab62\",                        [{\"marker\":{\"color\":\"rgba(255, 153, 51, 0.6)\",\"line\":{\"color\":\"rgba(255, 153, 51, 1.0)\",\"width\":1}},\"name\":\"\\uc6d4\\ubcc4\\uc2b9\\ucc28\\ucd1d\\uc2b9\\uac1d\\uc218\",\"orientation\":\"v\",\"text\":\"\",\"type\":\"bar\",\"x\":[\"'2015-01\",\"'2015-02\",\"'2015-03\",\"'2015-04\",\"'2015-05\",\"'2015-06\",\"'2015-07\",\"'2015-08\",\"'2015-09\",\"'2015-10\",\"'2015-11\",\"'2015-12\",\"'2016-01\",\"'2016-02\",\"'2016-03\",\"'2016-04\",\"'2016-05\",\"'2016-06\",\"'2016-07\",\"'2016-08\",\"'2016-09\",\"'2016-10\",\"'2016-11\",\"'2016-12\",\"'2017-01\",\"'2017-02\",\"'2017-03\",\"'2017-04\",\"'2017-05\",\"'2017-06\",\"'2017-07\",\"'2017-08\",\"'2017-09\",\"'2017-10\",\"'2017-11\",\"'2017-12\",\"'2018-01\",\"'2018-02\",\"'2018-03\",\"'2018-04\",\"'2018-05\",\"'2018-06\",\"'2018-07\",\"'2018-08\",\"'2018-09\",\"'2018-10\",\"'2018-11\",\"'2018-12\",\"'2019-01\",\"'2019-02\",\"'2019-03\",\"'2019-04\",\"'2019-05\",\"'2019-06\",\"'2019-07\",\"'2019-08\",\"'2019-09\",\"'2019-10\",\"'2019-11\",\"'2019-12\",\"'2020-01\",\"'2020-02\",\"'2020-03\",\"'2020-04\",\"'2020-05\",\"'2020-06\",\"'2020-07\",\"'2020-08\",\"'2020-09\",\"'2020-10\",\"'2020-11\",\"'2020-12\",\"'2021-01\",\"'2021-02\",\"'2021-03\",\"'2021-04\",\"'2021-05\",\"'2021-06\",\"'2021-07\",\"'2021-08\"],\"y\":[437278792.0,376783122.0,478541350.0,236022558.0,234296965.0,203119706.0,218172679.0,210102718.0,214486255.0,234349102.0,223497154.0,233155014.0,209273211.0,193647156.0,236377700.0,228348725.0,234166653.0,222611572.0,219465787.0,214193213.0,210698312.0,229681635.0,228122715.0,231777262.0,205502324.0,204936457.0,237179303.0,227780690.0,227836340.0,221308605.0,214815271.0,213776584.0,228240103.0,208204249.0,228254078.0,228619448.0,213710722.0,189110822.0,235296346.0,228971702.0,235253127.0,219426719.0,221632774.0,214216200.0,208561416.0,235739024.0,232960426.0,227834001.0,221848014.0,190335812.0,233813277.0,235928571.0,243338053.0,221547039.0,229254848.0,219672653.0,214006728.0,240101848.0,232284482.0,234574904.0,207743593.0,169582542.0,139686779.0,149118804.0,164531970.0,171605690.0,183490485.0,152989131.0,144602055.0,169231365.0,171847194.0,139666561.0,142178674.0,142994483.0,179109500.0,177677244.0,174157717.0,179060211.0,159645605.0,152911075.0]}],                        {\"legend\":{\"bgcolor\":\"#1A1A1C\",\"font\":{\"color\":\"#D9D9D9\"}},\"paper_bgcolor\":\"#1A1A1C\",\"plot_bgcolor\":\"#1A1A1C\",\"template\":{\"data\":{\"bar\":[{\"error_x\":{\"color\":\"#2a3f5f\"},\"error_y\":{\"color\":\"#2a3f5f\"},\"marker\":{\"line\":{\"color\":\"#E5ECF6\",\"width\":0.5},\"pattern\":{\"fillmode\":\"overlay\",\"size\":10,\"solidity\":0.2}},\"type\":\"bar\"}],\"barpolar\":[{\"marker\":{\"line\":{\"color\":\"#E5ECF6\",\"width\":0.5},\"pattern\":{\"fillmode\":\"overlay\",\"size\":10,\"solidity\":0.2}},\"type\":\"barpolar\"}],\"carpet\":[{\"aaxis\":{\"endlinecolor\":\"#2a3f5f\",\"gridcolor\":\"white\",\"linecolor\":\"white\",\"minorgridcolor\":\"white\",\"startlinecolor\":\"#2a3f5f\"},\"baxis\":{\"endlinecolor\":\"#2a3f5f\",\"gridcolor\":\"white\",\"linecolor\":\"white\",\"minorgridcolor\":\"white\",\"startlinecolor\":\"#2a3f5f\"},\"type\":\"carpet\"}],\"choropleth\":[{\"colorbar\":{\"outlinewidth\":0,\"ticks\":\"\"},\"type\":\"choropleth\"}],\"contour\":[{\"colorbar\":{\"outlinewidth\":0,\"ticks\":\"\"},\"colorscale\":[[0.0,\"#0d0887\"],[0.1111111111111111,\"#46039f\"],[0.2222222222222222,\"#7201a8\"],[0.3333333333333333,\"#9c179e\"],[0.4444444444444444,\"#bd3786\"],[0.5555555555555556,\"#d8576b\"],[0.6666666666666666,\"#ed7953\"],[0.7777777777777778,\"#fb9f3a\"],[0.8888888888888888,\"#fdca26\"],[1.0,\"#f0f921\"]],\"type\":\"contour\"}],\"contourcarpet\":[{\"colorbar\":{\"outlinewidth\":0,\"ticks\":\"\"},\"type\":\"contourcarpet\"}],\"heatmap\":[{\"colorbar\":{\"outlinewidth\":0,\"ticks\":\"\"},\"colorscale\":[[0.0,\"#0d0887\"],[0.1111111111111111,\"#46039f\"],[0.2222222222222222,\"#7201a8\"],[0.3333333333333333,\"#9c179e\"],[0.4444444444444444,\"#bd3786\"],[0.5555555555555556,\"#d8576b\"],[0.6666666666666666,\"#ed7953\"],[0.7777777777777778,\"#fb9f3a\"],[0.8888888888888888,\"#fdca26\"],[1.0,\"#f0f921\"]],\"type\":\"heatmap\"}],\"heatmapgl\":[{\"colorbar\":{\"outlinewidth\":0,\"ticks\":\"\"},\"colorscale\":[[0.0,\"#0d0887\"],[0.1111111111111111,\"#46039f\"],[0.2222222222222222,\"#7201a8\"],[0.3333333333333333,\"#9c179e\"],[0.4444444444444444,\"#bd3786\"],[0.5555555555555556,\"#d8576b\"],[0.6666666666666666,\"#ed7953\"],[0.7777777777777778,\"#fb9f3a\"],[0.8888888888888888,\"#fdca26\"],[1.0,\"#f0f921\"]],\"type\":\"heatmapgl\"}],\"histogram\":[{\"marker\":{\"pattern\":{\"fillmode\":\"overlay\",\"size\":10,\"solidity\":0.2}},\"type\":\"histogram\"}],\"histogram2d\":[{\"colorbar\":{\"outlinewidth\":0,\"ticks\":\"\"},\"colorscale\":[[0.0,\"#0d0887\"],[0.1111111111111111,\"#46039f\"],[0.2222222222222222,\"#7201a8\"],[0.3333333333333333,\"#9c179e\"],[0.4444444444444444,\"#bd3786\"],[0.5555555555555556,\"#d8576b\"],[0.6666666666666666,\"#ed7953\"],[0.7777777777777778,\"#fb9f3a\"],[0.8888888888888888,\"#fdca26\"],[1.0,\"#f0f921\"]],\"type\":\"histogram2d\"}],\"histogram2dcontour\":[{\"colorbar\":{\"outlinewidth\":0,\"ticks\":\"\"},\"colorscale\":[[0.0,\"#0d0887\"],[0.1111111111111111,\"#46039f\"],[0.2222222222222222,\"#7201a8\"],[0.3333333333333333,\"#9c179e\"],[0.4444444444444444,\"#bd3786\"],[0.5555555555555556,\"#d8576b\"],[0.6666666666666666,\"#ed7953\"],[0.7777777777777778,\"#fb9f3a\"],[0.8888888888888888,\"#fdca26\"],[1.0,\"#f0f921\"]],\"type\":\"histogram2dcontour\"}],\"mesh3d\":[{\"colorbar\":{\"outlinewidth\":0,\"ticks\":\"\"},\"type\":\"mesh3d\"}],\"parcoords\":[{\"line\":{\"colorbar\":{\"outlinewidth\":0,\"ticks\":\"\"}},\"type\":\"parcoords\"}],\"pie\":[{\"automargin\":true,\"type\":\"pie\"}],\"scatter\":[{\"marker\":{\"colorbar\":{\"outlinewidth\":0,\"ticks\":\"\"}},\"type\":\"scatter\"}],\"scatter3d\":[{\"line\":{\"colorbar\":{\"outlinewidth\":0,\"ticks\":\"\"}},\"marker\":{\"colorbar\":{\"outlinewidth\":0,\"ticks\":\"\"}},\"type\":\"scatter3d\"}],\"scattercarpet\":[{\"marker\":{\"colorbar\":{\"outlinewidth\":0,\"ticks\":\"\"}},\"type\":\"scattercarpet\"}],\"scattergeo\":[{\"marker\":{\"colorbar\":{\"outlinewidth\":0,\"ticks\":\"\"}},\"type\":\"scattergeo\"}],\"scattergl\":[{\"marker\":{\"colorbar\":{\"outlinewidth\":0,\"ticks\":\"\"}},\"type\":\"scattergl\"}],\"scattermapbox\":[{\"marker\":{\"colorbar\":{\"outlinewidth\":0,\"ticks\":\"\"}},\"type\":\"scattermapbox\"}],\"scatterpolar\":[{\"marker\":{\"colorbar\":{\"outlinewidth\":0,\"ticks\":\"\"}},\"type\":\"scatterpolar\"}],\"scatterpolargl\":[{\"marker\":{\"colorbar\":{\"outlinewidth\":0,\"ticks\":\"\"}},\"type\":\"scatterpolargl\"}],\"scatterternary\":[{\"marker\":{\"colorbar\":{\"outlinewidth\":0,\"ticks\":\"\"}},\"type\":\"scatterternary\"}],\"surface\":[{\"colorbar\":{\"outlinewidth\":0,\"ticks\":\"\"},\"colorscale\":[[0.0,\"#0d0887\"],[0.1111111111111111,\"#46039f\"],[0.2222222222222222,\"#7201a8\"],[0.3333333333333333,\"#9c179e\"],[0.4444444444444444,\"#bd3786\"],[0.5555555555555556,\"#d8576b\"],[0.6666666666666666,\"#ed7953\"],[0.7777777777777778,\"#fb9f3a\"],[0.8888888888888888,\"#fdca26\"],[1.0,\"#f0f921\"]],\"type\":\"surface\"}],\"table\":[{\"cells\":{\"fill\":{\"color\":\"#EBF0F8\"},\"line\":{\"color\":\"white\"}},\"header\":{\"fill\":{\"color\":\"#C8D4E3\"},\"line\":{\"color\":\"white\"}},\"type\":\"table\"}]},\"layout\":{\"annotationdefaults\":{\"arrowcolor\":\"#2a3f5f\",\"arrowhead\":0,\"arrowwidth\":1},\"autotypenumbers\":\"strict\",\"coloraxis\":{\"colorbar\":{\"outlinewidth\":0,\"ticks\":\"\"}},\"colorscale\":{\"diverging\":[[0,\"#8e0152\"],[0.1,\"#c51b7d\"],[0.2,\"#de77ae\"],[0.3,\"#f1b6da\"],[0.4,\"#fde0ef\"],[0.5,\"#f7f7f7\"],[0.6,\"#e6f5d0\"],[0.7,\"#b8e186\"],[0.8,\"#7fbc41\"],[0.9,\"#4d9221\"],[1,\"#276419\"]],\"sequential\":[[0.0,\"#0d0887\"],[0.1111111111111111,\"#46039f\"],[0.2222222222222222,\"#7201a8\"],[0.3333333333333333,\"#9c179e\"],[0.4444444444444444,\"#bd3786\"],[0.5555555555555556,\"#d8576b\"],[0.6666666666666666,\"#ed7953\"],[0.7777777777777778,\"#fb9f3a\"],[0.8888888888888888,\"#fdca26\"],[1.0,\"#f0f921\"]],\"sequentialminus\":[[0.0,\"#0d0887\"],[0.1111111111111111,\"#46039f\"],[0.2222222222222222,\"#7201a8\"],[0.3333333333333333,\"#9c179e\"],[0.4444444444444444,\"#bd3786\"],[0.5555555555555556,\"#d8576b\"],[0.6666666666666666,\"#ed7953\"],[0.7777777777777778,\"#fb9f3a\"],[0.8888888888888888,\"#fdca26\"],[1.0,\"#f0f921\"]]},\"colorway\":[\"#636efa\",\"#EF553B\",\"#00cc96\",\"#ab63fa\",\"#FFA15A\",\"#19d3f3\",\"#FF6692\",\"#B6E880\",\"#FF97FF\",\"#FECB52\"],\"font\":{\"color\":\"#2a3f5f\"},\"geo\":{\"bgcolor\":\"white\",\"lakecolor\":\"white\",\"landcolor\":\"#E5ECF6\",\"showlakes\":true,\"showland\":true,\"subunitcolor\":\"white\"},\"hoverlabel\":{\"align\":\"left\"},\"hovermode\":\"closest\",\"mapbox\":{\"style\":\"light\"},\"paper_bgcolor\":\"white\",\"plot_bgcolor\":\"#E5ECF6\",\"polar\":{\"angularaxis\":{\"gridcolor\":\"white\",\"linecolor\":\"white\",\"ticks\":\"\"},\"bgcolor\":\"#E5ECF6\",\"radialaxis\":{\"gridcolor\":\"white\",\"linecolor\":\"white\",\"ticks\":\"\"}},\"scene\":{\"xaxis\":{\"backgroundcolor\":\"#E5ECF6\",\"gridcolor\":\"white\",\"gridwidth\":2,\"linecolor\":\"white\",\"showbackground\":true,\"ticks\":\"\",\"zerolinecolor\":\"white\"},\"yaxis\":{\"backgroundcolor\":\"#E5ECF6\",\"gridcolor\":\"white\",\"gridwidth\":2,\"linecolor\":\"white\",\"showbackground\":true,\"ticks\":\"\",\"zerolinecolor\":\"white\"},\"zaxis\":{\"backgroundcolor\":\"#E5ECF6\",\"gridcolor\":\"white\",\"gridwidth\":2,\"linecolor\":\"white\",\"showbackground\":true,\"ticks\":\"\",\"zerolinecolor\":\"white\"}},\"shapedefaults\":{\"line\":{\"color\":\"#2a3f5f\"}},\"ternary\":{\"aaxis\":{\"gridcolor\":\"white\",\"linecolor\":\"white\",\"ticks\":\"\"},\"baxis\":{\"gridcolor\":\"white\",\"linecolor\":\"white\",\"ticks\":\"\"},\"bgcolor\":\"#E5ECF6\",\"caxis\":{\"gridcolor\":\"white\",\"linecolor\":\"white\",\"ticks\":\"\"}},\"title\":{\"x\":0.05},\"xaxis\":{\"automargin\":true,\"gridcolor\":\"white\",\"linecolor\":\"white\",\"ticks\":\"\",\"title\":{\"standoff\":15},\"zerolinecolor\":\"white\",\"zerolinewidth\":2},\"yaxis\":{\"automargin\":true,\"gridcolor\":\"white\",\"linecolor\":\"white\",\"ticks\":\"\",\"title\":{\"standoff\":15},\"zerolinecolor\":\"white\",\"zerolinewidth\":2}}},\"title\":{\"font\":{\"color\":\"#D9D9D9\"}},\"xaxis\":{\"gridcolor\":\"#434343\",\"showgrid\":true,\"tickfont\":{\"color\":\"#C2C2C2\"},\"title\":{\"font\":{\"color\":\"#D9D9D9\"},\"text\":\"\"},\"zerolinecolor\":\"#666570\"},\"yaxis\":{\"gridcolor\":\"#434343\",\"showgrid\":true,\"tickfont\":{\"color\":\"#C2C2C2\"},\"title\":{\"font\":{\"color\":\"#D9D9D9\"},\"text\":\"\"},\"zerolinecolor\":\"#666570\"}},                        {\"showLink\": true, \"linkText\": \"Export to plot.ly\", \"plotlyServerURL\": \"https://plot.ly\", \"responsive\": true}                    ).then(function(){\n",
       "                            \n",
       "var gd = document.getElementById('565ebecb-3bb3-49f5-ab2c-0baa0f96ab62');\n",
       "var x = new MutationObserver(function (mutations, observer) {{\n",
       "        var display = window.getComputedStyle(gd).display;\n",
       "        if (!display || display === 'none') {{\n",
       "            console.log([gd, 'removed!']);\n",
       "            Plotly.purge(gd);\n",
       "            observer.disconnect();\n",
       "        }}\n",
       "}});\n",
       "\n",
       "// Listen for the removal of the full notebook cells\n",
       "var notebookContainer = gd.closest('#notebook-container');\n",
       "if (notebookContainer) {{\n",
       "    x.observe(notebookContainer, {childList: true});\n",
       "}}\n",
       "\n",
       "// Listen for the clearing of the current output cell\n",
       "var outputEl = gd.closest('.output');\n",
       "if (outputEl) {{\n",
       "    x.observe(outputEl, {childList: true});\n",
       "}}\n",
       "\n",
       "                        })                };                });            </script>        </div>"
      ]
     },
     "metadata": {},
     "output_type": "display_data"
    }
   ],
   "source": [
    "sub.iplot(kind='bar', x='date', y='월별승차총승객수', theme='space')"
   ]
  },
  {
   "cell_type": "code",
   "execution_count": 79,
   "id": "01540685",
   "metadata": {},
   "outputs": [
    {
     "data": {
      "application/vnd.plotly.v1+json": {
       "config": {
        "linkText": "Export to plot.ly",
        "plotlyServerURL": "https://plot.ly",
        "showLink": true
       },
       "data": [
        {
         "line": {
          "color": "rgba(255, 153, 51, 1.0)",
          "dash": "solid",
          "shape": "linear",
          "width": 1.3
         },
         "mode": "lines",
         "name": "월별승차총승객수",
         "text": "",
         "type": "scatter",
         "x": [
          "'2015-01",
          "'2015-02",
          "'2015-03",
          "'2015-04",
          "'2015-05",
          "'2015-06",
          "'2015-07",
          "'2015-08",
          "'2015-09",
          "'2015-10",
          "'2015-11",
          "'2015-12",
          "'2016-01",
          "'2016-02",
          "'2016-03",
          "'2016-04",
          "'2016-05",
          "'2016-06",
          "'2016-07",
          "'2016-08",
          "'2016-09",
          "'2016-10",
          "'2016-11",
          "'2016-12",
          "'2017-01",
          "'2017-02",
          "'2017-03",
          "'2017-04",
          "'2017-05",
          "'2017-06",
          "'2017-07",
          "'2017-08",
          "'2017-09",
          "'2017-10",
          "'2017-11",
          "'2017-12",
          "'2018-01",
          "'2018-02",
          "'2018-03",
          "'2018-04",
          "'2018-05",
          "'2018-06",
          "'2018-07",
          "'2018-08",
          "'2018-09",
          "'2018-10",
          "'2018-11",
          "'2018-12",
          "'2019-01",
          "'2019-02",
          "'2019-03",
          "'2019-04",
          "'2019-05",
          "'2019-06",
          "'2019-07",
          "'2019-08",
          "'2019-09",
          "'2019-10",
          "'2019-11",
          "'2019-12",
          "'2020-01",
          "'2020-02",
          "'2020-03",
          "'2020-04",
          "'2020-05",
          "'2020-06",
          "'2020-07",
          "'2020-08",
          "'2020-09",
          "'2020-10",
          "'2020-11",
          "'2020-12",
          "'2021-01",
          "'2021-02",
          "'2021-03",
          "'2021-04",
          "'2021-05",
          "'2021-06",
          "'2021-07",
          "'2021-08"
         ],
         "y": [
          437278792,
          376783122,
          478541350,
          236022558,
          234296965,
          203119706,
          218172679,
          210102718,
          214486255,
          234349102,
          223497154,
          233155014,
          209273211,
          193647156,
          236377700,
          228348725,
          234166653,
          222611572,
          219465787,
          214193213,
          210698312,
          229681635,
          228122715,
          231777262,
          205502324,
          204936457,
          237179303,
          227780690,
          227836340,
          221308605,
          214815271,
          213776584,
          228240103,
          208204249,
          228254078,
          228619448,
          213710722,
          189110822,
          235296346,
          228971702,
          235253127,
          219426719,
          221632774,
          214216200,
          208561416,
          235739024,
          232960426,
          227834001,
          221848014,
          190335812,
          233813277,
          235928571,
          243338053,
          221547039,
          229254848,
          219672653,
          214006728,
          240101848,
          232284482,
          234574904,
          207743593,
          169582542,
          139686779,
          149118804,
          164531970,
          171605690,
          183490485,
          152989131,
          144602055,
          169231365,
          171847194,
          139666561,
          142178674,
          142994483,
          179109500,
          177677244,
          174157717,
          179060211,
          159645605,
          152911075
         ]
        }
       ],
       "layout": {
        "legend": {
         "bgcolor": "#1A1A1C",
         "font": {
          "color": "#D9D9D9"
         }
        },
        "paper_bgcolor": "#1A1A1C",
        "plot_bgcolor": "#1A1A1C",
        "template": {
         "data": {
          "bar": [
           {
            "error_x": {
             "color": "#2a3f5f"
            },
            "error_y": {
             "color": "#2a3f5f"
            },
            "marker": {
             "line": {
              "color": "#E5ECF6",
              "width": 0.5
             },
             "pattern": {
              "fillmode": "overlay",
              "size": 10,
              "solidity": 0.2
             }
            },
            "type": "bar"
           }
          ],
          "barpolar": [
           {
            "marker": {
             "line": {
              "color": "#E5ECF6",
              "width": 0.5
             },
             "pattern": {
              "fillmode": "overlay",
              "size": 10,
              "solidity": 0.2
             }
            },
            "type": "barpolar"
           }
          ],
          "carpet": [
           {
            "aaxis": {
             "endlinecolor": "#2a3f5f",
             "gridcolor": "white",
             "linecolor": "white",
             "minorgridcolor": "white",
             "startlinecolor": "#2a3f5f"
            },
            "baxis": {
             "endlinecolor": "#2a3f5f",
             "gridcolor": "white",
             "linecolor": "white",
             "minorgridcolor": "white",
             "startlinecolor": "#2a3f5f"
            },
            "type": "carpet"
           }
          ],
          "choropleth": [
           {
            "colorbar": {
             "outlinewidth": 0,
             "ticks": ""
            },
            "type": "choropleth"
           }
          ],
          "contour": [
           {
            "colorbar": {
             "outlinewidth": 0,
             "ticks": ""
            },
            "colorscale": [
             [
              0,
              "#0d0887"
             ],
             [
              0.1111111111111111,
              "#46039f"
             ],
             [
              0.2222222222222222,
              "#7201a8"
             ],
             [
              0.3333333333333333,
              "#9c179e"
             ],
             [
              0.4444444444444444,
              "#bd3786"
             ],
             [
              0.5555555555555556,
              "#d8576b"
             ],
             [
              0.6666666666666666,
              "#ed7953"
             ],
             [
              0.7777777777777778,
              "#fb9f3a"
             ],
             [
              0.8888888888888888,
              "#fdca26"
             ],
             [
              1,
              "#f0f921"
             ]
            ],
            "type": "contour"
           }
          ],
          "contourcarpet": [
           {
            "colorbar": {
             "outlinewidth": 0,
             "ticks": ""
            },
            "type": "contourcarpet"
           }
          ],
          "heatmap": [
           {
            "colorbar": {
             "outlinewidth": 0,
             "ticks": ""
            },
            "colorscale": [
             [
              0,
              "#0d0887"
             ],
             [
              0.1111111111111111,
              "#46039f"
             ],
             [
              0.2222222222222222,
              "#7201a8"
             ],
             [
              0.3333333333333333,
              "#9c179e"
             ],
             [
              0.4444444444444444,
              "#bd3786"
             ],
             [
              0.5555555555555556,
              "#d8576b"
             ],
             [
              0.6666666666666666,
              "#ed7953"
             ],
             [
              0.7777777777777778,
              "#fb9f3a"
             ],
             [
              0.8888888888888888,
              "#fdca26"
             ],
             [
              1,
              "#f0f921"
             ]
            ],
            "type": "heatmap"
           }
          ],
          "heatmapgl": [
           {
            "colorbar": {
             "outlinewidth": 0,
             "ticks": ""
            },
            "colorscale": [
             [
              0,
              "#0d0887"
             ],
             [
              0.1111111111111111,
              "#46039f"
             ],
             [
              0.2222222222222222,
              "#7201a8"
             ],
             [
              0.3333333333333333,
              "#9c179e"
             ],
             [
              0.4444444444444444,
              "#bd3786"
             ],
             [
              0.5555555555555556,
              "#d8576b"
             ],
             [
              0.6666666666666666,
              "#ed7953"
             ],
             [
              0.7777777777777778,
              "#fb9f3a"
             ],
             [
              0.8888888888888888,
              "#fdca26"
             ],
             [
              1,
              "#f0f921"
             ]
            ],
            "type": "heatmapgl"
           }
          ],
          "histogram": [
           {
            "marker": {
             "pattern": {
              "fillmode": "overlay",
              "size": 10,
              "solidity": 0.2
             }
            },
            "type": "histogram"
           }
          ],
          "histogram2d": [
           {
            "colorbar": {
             "outlinewidth": 0,
             "ticks": ""
            },
            "colorscale": [
             [
              0,
              "#0d0887"
             ],
             [
              0.1111111111111111,
              "#46039f"
             ],
             [
              0.2222222222222222,
              "#7201a8"
             ],
             [
              0.3333333333333333,
              "#9c179e"
             ],
             [
              0.4444444444444444,
              "#bd3786"
             ],
             [
              0.5555555555555556,
              "#d8576b"
             ],
             [
              0.6666666666666666,
              "#ed7953"
             ],
             [
              0.7777777777777778,
              "#fb9f3a"
             ],
             [
              0.8888888888888888,
              "#fdca26"
             ],
             [
              1,
              "#f0f921"
             ]
            ],
            "type": "histogram2d"
           }
          ],
          "histogram2dcontour": [
           {
            "colorbar": {
             "outlinewidth": 0,
             "ticks": ""
            },
            "colorscale": [
             [
              0,
              "#0d0887"
             ],
             [
              0.1111111111111111,
              "#46039f"
             ],
             [
              0.2222222222222222,
              "#7201a8"
             ],
             [
              0.3333333333333333,
              "#9c179e"
             ],
             [
              0.4444444444444444,
              "#bd3786"
             ],
             [
              0.5555555555555556,
              "#d8576b"
             ],
             [
              0.6666666666666666,
              "#ed7953"
             ],
             [
              0.7777777777777778,
              "#fb9f3a"
             ],
             [
              0.8888888888888888,
              "#fdca26"
             ],
             [
              1,
              "#f0f921"
             ]
            ],
            "type": "histogram2dcontour"
           }
          ],
          "mesh3d": [
           {
            "colorbar": {
             "outlinewidth": 0,
             "ticks": ""
            },
            "type": "mesh3d"
           }
          ],
          "parcoords": [
           {
            "line": {
             "colorbar": {
              "outlinewidth": 0,
              "ticks": ""
             }
            },
            "type": "parcoords"
           }
          ],
          "pie": [
           {
            "automargin": true,
            "type": "pie"
           }
          ],
          "scatter": [
           {
            "marker": {
             "colorbar": {
              "outlinewidth": 0,
              "ticks": ""
             }
            },
            "type": "scatter"
           }
          ],
          "scatter3d": [
           {
            "line": {
             "colorbar": {
              "outlinewidth": 0,
              "ticks": ""
             }
            },
            "marker": {
             "colorbar": {
              "outlinewidth": 0,
              "ticks": ""
             }
            },
            "type": "scatter3d"
           }
          ],
          "scattercarpet": [
           {
            "marker": {
             "colorbar": {
              "outlinewidth": 0,
              "ticks": ""
             }
            },
            "type": "scattercarpet"
           }
          ],
          "scattergeo": [
           {
            "marker": {
             "colorbar": {
              "outlinewidth": 0,
              "ticks": ""
             }
            },
            "type": "scattergeo"
           }
          ],
          "scattergl": [
           {
            "marker": {
             "colorbar": {
              "outlinewidth": 0,
              "ticks": ""
             }
            },
            "type": "scattergl"
           }
          ],
          "scattermapbox": [
           {
            "marker": {
             "colorbar": {
              "outlinewidth": 0,
              "ticks": ""
             }
            },
            "type": "scattermapbox"
           }
          ],
          "scatterpolar": [
           {
            "marker": {
             "colorbar": {
              "outlinewidth": 0,
              "ticks": ""
             }
            },
            "type": "scatterpolar"
           }
          ],
          "scatterpolargl": [
           {
            "marker": {
             "colorbar": {
              "outlinewidth": 0,
              "ticks": ""
             }
            },
            "type": "scatterpolargl"
           }
          ],
          "scatterternary": [
           {
            "marker": {
             "colorbar": {
              "outlinewidth": 0,
              "ticks": ""
             }
            },
            "type": "scatterternary"
           }
          ],
          "surface": [
           {
            "colorbar": {
             "outlinewidth": 0,
             "ticks": ""
            },
            "colorscale": [
             [
              0,
              "#0d0887"
             ],
             [
              0.1111111111111111,
              "#46039f"
             ],
             [
              0.2222222222222222,
              "#7201a8"
             ],
             [
              0.3333333333333333,
              "#9c179e"
             ],
             [
              0.4444444444444444,
              "#bd3786"
             ],
             [
              0.5555555555555556,
              "#d8576b"
             ],
             [
              0.6666666666666666,
              "#ed7953"
             ],
             [
              0.7777777777777778,
              "#fb9f3a"
             ],
             [
              0.8888888888888888,
              "#fdca26"
             ],
             [
              1,
              "#f0f921"
             ]
            ],
            "type": "surface"
           }
          ],
          "table": [
           {
            "cells": {
             "fill": {
              "color": "#EBF0F8"
             },
             "line": {
              "color": "white"
             }
            },
            "header": {
             "fill": {
              "color": "#C8D4E3"
             },
             "line": {
              "color": "white"
             }
            },
            "type": "table"
           }
          ]
         },
         "layout": {
          "annotationdefaults": {
           "arrowcolor": "#2a3f5f",
           "arrowhead": 0,
           "arrowwidth": 1
          },
          "autotypenumbers": "strict",
          "coloraxis": {
           "colorbar": {
            "outlinewidth": 0,
            "ticks": ""
           }
          },
          "colorscale": {
           "diverging": [
            [
             0,
             "#8e0152"
            ],
            [
             0.1,
             "#c51b7d"
            ],
            [
             0.2,
             "#de77ae"
            ],
            [
             0.3,
             "#f1b6da"
            ],
            [
             0.4,
             "#fde0ef"
            ],
            [
             0.5,
             "#f7f7f7"
            ],
            [
             0.6,
             "#e6f5d0"
            ],
            [
             0.7,
             "#b8e186"
            ],
            [
             0.8,
             "#7fbc41"
            ],
            [
             0.9,
             "#4d9221"
            ],
            [
             1,
             "#276419"
            ]
           ],
           "sequential": [
            [
             0,
             "#0d0887"
            ],
            [
             0.1111111111111111,
             "#46039f"
            ],
            [
             0.2222222222222222,
             "#7201a8"
            ],
            [
             0.3333333333333333,
             "#9c179e"
            ],
            [
             0.4444444444444444,
             "#bd3786"
            ],
            [
             0.5555555555555556,
             "#d8576b"
            ],
            [
             0.6666666666666666,
             "#ed7953"
            ],
            [
             0.7777777777777778,
             "#fb9f3a"
            ],
            [
             0.8888888888888888,
             "#fdca26"
            ],
            [
             1,
             "#f0f921"
            ]
           ],
           "sequentialminus": [
            [
             0,
             "#0d0887"
            ],
            [
             0.1111111111111111,
             "#46039f"
            ],
            [
             0.2222222222222222,
             "#7201a8"
            ],
            [
             0.3333333333333333,
             "#9c179e"
            ],
            [
             0.4444444444444444,
             "#bd3786"
            ],
            [
             0.5555555555555556,
             "#d8576b"
            ],
            [
             0.6666666666666666,
             "#ed7953"
            ],
            [
             0.7777777777777778,
             "#fb9f3a"
            ],
            [
             0.8888888888888888,
             "#fdca26"
            ],
            [
             1,
             "#f0f921"
            ]
           ]
          },
          "colorway": [
           "#636efa",
           "#EF553B",
           "#00cc96",
           "#ab63fa",
           "#FFA15A",
           "#19d3f3",
           "#FF6692",
           "#B6E880",
           "#FF97FF",
           "#FECB52"
          ],
          "font": {
           "color": "#2a3f5f"
          },
          "geo": {
           "bgcolor": "white",
           "lakecolor": "white",
           "landcolor": "#E5ECF6",
           "showlakes": true,
           "showland": true,
           "subunitcolor": "white"
          },
          "hoverlabel": {
           "align": "left"
          },
          "hovermode": "closest",
          "mapbox": {
           "style": "light"
          },
          "paper_bgcolor": "white",
          "plot_bgcolor": "#E5ECF6",
          "polar": {
           "angularaxis": {
            "gridcolor": "white",
            "linecolor": "white",
            "ticks": ""
           },
           "bgcolor": "#E5ECF6",
           "radialaxis": {
            "gridcolor": "white",
            "linecolor": "white",
            "ticks": ""
           }
          },
          "scene": {
           "xaxis": {
            "backgroundcolor": "#E5ECF6",
            "gridcolor": "white",
            "gridwidth": 2,
            "linecolor": "white",
            "showbackground": true,
            "ticks": "",
            "zerolinecolor": "white"
           },
           "yaxis": {
            "backgroundcolor": "#E5ECF6",
            "gridcolor": "white",
            "gridwidth": 2,
            "linecolor": "white",
            "showbackground": true,
            "ticks": "",
            "zerolinecolor": "white"
           },
           "zaxis": {
            "backgroundcolor": "#E5ECF6",
            "gridcolor": "white",
            "gridwidth": 2,
            "linecolor": "white",
            "showbackground": true,
            "ticks": "",
            "zerolinecolor": "white"
           }
          },
          "shapedefaults": {
           "line": {
            "color": "#2a3f5f"
           }
          },
          "ternary": {
           "aaxis": {
            "gridcolor": "white",
            "linecolor": "white",
            "ticks": ""
           },
           "baxis": {
            "gridcolor": "white",
            "linecolor": "white",
            "ticks": ""
           },
           "bgcolor": "#E5ECF6",
           "caxis": {
            "gridcolor": "white",
            "linecolor": "white",
            "ticks": ""
           }
          },
          "title": {
           "x": 0.05
          },
          "xaxis": {
           "automargin": true,
           "gridcolor": "white",
           "linecolor": "white",
           "ticks": "",
           "title": {
            "standoff": 15
           },
           "zerolinecolor": "white",
           "zerolinewidth": 2
          },
          "yaxis": {
           "automargin": true,
           "gridcolor": "white",
           "linecolor": "white",
           "ticks": "",
           "title": {
            "standoff": 15
           },
           "zerolinecolor": "white",
           "zerolinewidth": 2
          }
         }
        },
        "title": {
         "font": {
          "color": "#D9D9D9"
         }
        },
        "xaxis": {
         "gridcolor": "#434343",
         "showgrid": true,
         "tickfont": {
          "color": "#C2C2C2"
         },
         "title": {
          "font": {
           "color": "#D9D9D9"
          },
          "text": ""
         },
         "zerolinecolor": "#666570"
        },
        "yaxis": {
         "gridcolor": "#434343",
         "showgrid": true,
         "tickfont": {
          "color": "#C2C2C2"
         },
         "title": {
          "font": {
           "color": "#D9D9D9"
          },
          "text": ""
         },
         "zerolinecolor": "#666570"
        }
       }
      },
      "text/html": [
       "<div>                            <div id=\"2663f79d-75ea-4214-ade3-2a6720161627\" class=\"plotly-graph-div\" style=\"height:525px; width:100%;\"></div>            <script type=\"text/javascript\">                require([\"plotly\"], function(Plotly) {                    window.PLOTLYENV=window.PLOTLYENV || {};\n",
       "                    window.PLOTLYENV.BASE_URL='https://plot.ly';                                    if (document.getElementById(\"2663f79d-75ea-4214-ade3-2a6720161627\")) {                    Plotly.newPlot(                        \"2663f79d-75ea-4214-ade3-2a6720161627\",                        [{\"line\":{\"color\":\"rgba(255, 153, 51, 1.0)\",\"dash\":\"solid\",\"shape\":\"linear\",\"width\":1.3},\"mode\":\"lines\",\"name\":\"\\uc6d4\\ubcc4\\uc2b9\\ucc28\\ucd1d\\uc2b9\\uac1d\\uc218\",\"text\":\"\",\"type\":\"scatter\",\"x\":[\"'2015-01\",\"'2015-02\",\"'2015-03\",\"'2015-04\",\"'2015-05\",\"'2015-06\",\"'2015-07\",\"'2015-08\",\"'2015-09\",\"'2015-10\",\"'2015-11\",\"'2015-12\",\"'2016-01\",\"'2016-02\",\"'2016-03\",\"'2016-04\",\"'2016-05\",\"'2016-06\",\"'2016-07\",\"'2016-08\",\"'2016-09\",\"'2016-10\",\"'2016-11\",\"'2016-12\",\"'2017-01\",\"'2017-02\",\"'2017-03\",\"'2017-04\",\"'2017-05\",\"'2017-06\",\"'2017-07\",\"'2017-08\",\"'2017-09\",\"'2017-10\",\"'2017-11\",\"'2017-12\",\"'2018-01\",\"'2018-02\",\"'2018-03\",\"'2018-04\",\"'2018-05\",\"'2018-06\",\"'2018-07\",\"'2018-08\",\"'2018-09\",\"'2018-10\",\"'2018-11\",\"'2018-12\",\"'2019-01\",\"'2019-02\",\"'2019-03\",\"'2019-04\",\"'2019-05\",\"'2019-06\",\"'2019-07\",\"'2019-08\",\"'2019-09\",\"'2019-10\",\"'2019-11\",\"'2019-12\",\"'2020-01\",\"'2020-02\",\"'2020-03\",\"'2020-04\",\"'2020-05\",\"'2020-06\",\"'2020-07\",\"'2020-08\",\"'2020-09\",\"'2020-10\",\"'2020-11\",\"'2020-12\",\"'2021-01\",\"'2021-02\",\"'2021-03\",\"'2021-04\",\"'2021-05\",\"'2021-06\",\"'2021-07\",\"'2021-08\"],\"y\":[437278792.0,376783122.0,478541350.0,236022558.0,234296965.0,203119706.0,218172679.0,210102718.0,214486255.0,234349102.0,223497154.0,233155014.0,209273211.0,193647156.0,236377700.0,228348725.0,234166653.0,222611572.0,219465787.0,214193213.0,210698312.0,229681635.0,228122715.0,231777262.0,205502324.0,204936457.0,237179303.0,227780690.0,227836340.0,221308605.0,214815271.0,213776584.0,228240103.0,208204249.0,228254078.0,228619448.0,213710722.0,189110822.0,235296346.0,228971702.0,235253127.0,219426719.0,221632774.0,214216200.0,208561416.0,235739024.0,232960426.0,227834001.0,221848014.0,190335812.0,233813277.0,235928571.0,243338053.0,221547039.0,229254848.0,219672653.0,214006728.0,240101848.0,232284482.0,234574904.0,207743593.0,169582542.0,139686779.0,149118804.0,164531970.0,171605690.0,183490485.0,152989131.0,144602055.0,169231365.0,171847194.0,139666561.0,142178674.0,142994483.0,179109500.0,177677244.0,174157717.0,179060211.0,159645605.0,152911075.0]}],                        {\"legend\":{\"bgcolor\":\"#1A1A1C\",\"font\":{\"color\":\"#D9D9D9\"}},\"paper_bgcolor\":\"#1A1A1C\",\"plot_bgcolor\":\"#1A1A1C\",\"template\":{\"data\":{\"bar\":[{\"error_x\":{\"color\":\"#2a3f5f\"},\"error_y\":{\"color\":\"#2a3f5f\"},\"marker\":{\"line\":{\"color\":\"#E5ECF6\",\"width\":0.5},\"pattern\":{\"fillmode\":\"overlay\",\"size\":10,\"solidity\":0.2}},\"type\":\"bar\"}],\"barpolar\":[{\"marker\":{\"line\":{\"color\":\"#E5ECF6\",\"width\":0.5},\"pattern\":{\"fillmode\":\"overlay\",\"size\":10,\"solidity\":0.2}},\"type\":\"barpolar\"}],\"carpet\":[{\"aaxis\":{\"endlinecolor\":\"#2a3f5f\",\"gridcolor\":\"white\",\"linecolor\":\"white\",\"minorgridcolor\":\"white\",\"startlinecolor\":\"#2a3f5f\"},\"baxis\":{\"endlinecolor\":\"#2a3f5f\",\"gridcolor\":\"white\",\"linecolor\":\"white\",\"minorgridcolor\":\"white\",\"startlinecolor\":\"#2a3f5f\"},\"type\":\"carpet\"}],\"choropleth\":[{\"colorbar\":{\"outlinewidth\":0,\"ticks\":\"\"},\"type\":\"choropleth\"}],\"contour\":[{\"colorbar\":{\"outlinewidth\":0,\"ticks\":\"\"},\"colorscale\":[[0.0,\"#0d0887\"],[0.1111111111111111,\"#46039f\"],[0.2222222222222222,\"#7201a8\"],[0.3333333333333333,\"#9c179e\"],[0.4444444444444444,\"#bd3786\"],[0.5555555555555556,\"#d8576b\"],[0.6666666666666666,\"#ed7953\"],[0.7777777777777778,\"#fb9f3a\"],[0.8888888888888888,\"#fdca26\"],[1.0,\"#f0f921\"]],\"type\":\"contour\"}],\"contourcarpet\":[{\"colorbar\":{\"outlinewidth\":0,\"ticks\":\"\"},\"type\":\"contourcarpet\"}],\"heatmap\":[{\"colorbar\":{\"outlinewidth\":0,\"ticks\":\"\"},\"colorscale\":[[0.0,\"#0d0887\"],[0.1111111111111111,\"#46039f\"],[0.2222222222222222,\"#7201a8\"],[0.3333333333333333,\"#9c179e\"],[0.4444444444444444,\"#bd3786\"],[0.5555555555555556,\"#d8576b\"],[0.6666666666666666,\"#ed7953\"],[0.7777777777777778,\"#fb9f3a\"],[0.8888888888888888,\"#fdca26\"],[1.0,\"#f0f921\"]],\"type\":\"heatmap\"}],\"heatmapgl\":[{\"colorbar\":{\"outlinewidth\":0,\"ticks\":\"\"},\"colorscale\":[[0.0,\"#0d0887\"],[0.1111111111111111,\"#46039f\"],[0.2222222222222222,\"#7201a8\"],[0.3333333333333333,\"#9c179e\"],[0.4444444444444444,\"#bd3786\"],[0.5555555555555556,\"#d8576b\"],[0.6666666666666666,\"#ed7953\"],[0.7777777777777778,\"#fb9f3a\"],[0.8888888888888888,\"#fdca26\"],[1.0,\"#f0f921\"]],\"type\":\"heatmapgl\"}],\"histogram\":[{\"marker\":{\"pattern\":{\"fillmode\":\"overlay\",\"size\":10,\"solidity\":0.2}},\"type\":\"histogram\"}],\"histogram2d\":[{\"colorbar\":{\"outlinewidth\":0,\"ticks\":\"\"},\"colorscale\":[[0.0,\"#0d0887\"],[0.1111111111111111,\"#46039f\"],[0.2222222222222222,\"#7201a8\"],[0.3333333333333333,\"#9c179e\"],[0.4444444444444444,\"#bd3786\"],[0.5555555555555556,\"#d8576b\"],[0.6666666666666666,\"#ed7953\"],[0.7777777777777778,\"#fb9f3a\"],[0.8888888888888888,\"#fdca26\"],[1.0,\"#f0f921\"]],\"type\":\"histogram2d\"}],\"histogram2dcontour\":[{\"colorbar\":{\"outlinewidth\":0,\"ticks\":\"\"},\"colorscale\":[[0.0,\"#0d0887\"],[0.1111111111111111,\"#46039f\"],[0.2222222222222222,\"#7201a8\"],[0.3333333333333333,\"#9c179e\"],[0.4444444444444444,\"#bd3786\"],[0.5555555555555556,\"#d8576b\"],[0.6666666666666666,\"#ed7953\"],[0.7777777777777778,\"#fb9f3a\"],[0.8888888888888888,\"#fdca26\"],[1.0,\"#f0f921\"]],\"type\":\"histogram2dcontour\"}],\"mesh3d\":[{\"colorbar\":{\"outlinewidth\":0,\"ticks\":\"\"},\"type\":\"mesh3d\"}],\"parcoords\":[{\"line\":{\"colorbar\":{\"outlinewidth\":0,\"ticks\":\"\"}},\"type\":\"parcoords\"}],\"pie\":[{\"automargin\":true,\"type\":\"pie\"}],\"scatter\":[{\"marker\":{\"colorbar\":{\"outlinewidth\":0,\"ticks\":\"\"}},\"type\":\"scatter\"}],\"scatter3d\":[{\"line\":{\"colorbar\":{\"outlinewidth\":0,\"ticks\":\"\"}},\"marker\":{\"colorbar\":{\"outlinewidth\":0,\"ticks\":\"\"}},\"type\":\"scatter3d\"}],\"scattercarpet\":[{\"marker\":{\"colorbar\":{\"outlinewidth\":0,\"ticks\":\"\"}},\"type\":\"scattercarpet\"}],\"scattergeo\":[{\"marker\":{\"colorbar\":{\"outlinewidth\":0,\"ticks\":\"\"}},\"type\":\"scattergeo\"}],\"scattergl\":[{\"marker\":{\"colorbar\":{\"outlinewidth\":0,\"ticks\":\"\"}},\"type\":\"scattergl\"}],\"scattermapbox\":[{\"marker\":{\"colorbar\":{\"outlinewidth\":0,\"ticks\":\"\"}},\"type\":\"scattermapbox\"}],\"scatterpolar\":[{\"marker\":{\"colorbar\":{\"outlinewidth\":0,\"ticks\":\"\"}},\"type\":\"scatterpolar\"}],\"scatterpolargl\":[{\"marker\":{\"colorbar\":{\"outlinewidth\":0,\"ticks\":\"\"}},\"type\":\"scatterpolargl\"}],\"scatterternary\":[{\"marker\":{\"colorbar\":{\"outlinewidth\":0,\"ticks\":\"\"}},\"type\":\"scatterternary\"}],\"surface\":[{\"colorbar\":{\"outlinewidth\":0,\"ticks\":\"\"},\"colorscale\":[[0.0,\"#0d0887\"],[0.1111111111111111,\"#46039f\"],[0.2222222222222222,\"#7201a8\"],[0.3333333333333333,\"#9c179e\"],[0.4444444444444444,\"#bd3786\"],[0.5555555555555556,\"#d8576b\"],[0.6666666666666666,\"#ed7953\"],[0.7777777777777778,\"#fb9f3a\"],[0.8888888888888888,\"#fdca26\"],[1.0,\"#f0f921\"]],\"type\":\"surface\"}],\"table\":[{\"cells\":{\"fill\":{\"color\":\"#EBF0F8\"},\"line\":{\"color\":\"white\"}},\"header\":{\"fill\":{\"color\":\"#C8D4E3\"},\"line\":{\"color\":\"white\"}},\"type\":\"table\"}]},\"layout\":{\"annotationdefaults\":{\"arrowcolor\":\"#2a3f5f\",\"arrowhead\":0,\"arrowwidth\":1},\"autotypenumbers\":\"strict\",\"coloraxis\":{\"colorbar\":{\"outlinewidth\":0,\"ticks\":\"\"}},\"colorscale\":{\"diverging\":[[0,\"#8e0152\"],[0.1,\"#c51b7d\"],[0.2,\"#de77ae\"],[0.3,\"#f1b6da\"],[0.4,\"#fde0ef\"],[0.5,\"#f7f7f7\"],[0.6,\"#e6f5d0\"],[0.7,\"#b8e186\"],[0.8,\"#7fbc41\"],[0.9,\"#4d9221\"],[1,\"#276419\"]],\"sequential\":[[0.0,\"#0d0887\"],[0.1111111111111111,\"#46039f\"],[0.2222222222222222,\"#7201a8\"],[0.3333333333333333,\"#9c179e\"],[0.4444444444444444,\"#bd3786\"],[0.5555555555555556,\"#d8576b\"],[0.6666666666666666,\"#ed7953\"],[0.7777777777777778,\"#fb9f3a\"],[0.8888888888888888,\"#fdca26\"],[1.0,\"#f0f921\"]],\"sequentialminus\":[[0.0,\"#0d0887\"],[0.1111111111111111,\"#46039f\"],[0.2222222222222222,\"#7201a8\"],[0.3333333333333333,\"#9c179e\"],[0.4444444444444444,\"#bd3786\"],[0.5555555555555556,\"#d8576b\"],[0.6666666666666666,\"#ed7953\"],[0.7777777777777778,\"#fb9f3a\"],[0.8888888888888888,\"#fdca26\"],[1.0,\"#f0f921\"]]},\"colorway\":[\"#636efa\",\"#EF553B\",\"#00cc96\",\"#ab63fa\",\"#FFA15A\",\"#19d3f3\",\"#FF6692\",\"#B6E880\",\"#FF97FF\",\"#FECB52\"],\"font\":{\"color\":\"#2a3f5f\"},\"geo\":{\"bgcolor\":\"white\",\"lakecolor\":\"white\",\"landcolor\":\"#E5ECF6\",\"showlakes\":true,\"showland\":true,\"subunitcolor\":\"white\"},\"hoverlabel\":{\"align\":\"left\"},\"hovermode\":\"closest\",\"mapbox\":{\"style\":\"light\"},\"paper_bgcolor\":\"white\",\"plot_bgcolor\":\"#E5ECF6\",\"polar\":{\"angularaxis\":{\"gridcolor\":\"white\",\"linecolor\":\"white\",\"ticks\":\"\"},\"bgcolor\":\"#E5ECF6\",\"radialaxis\":{\"gridcolor\":\"white\",\"linecolor\":\"white\",\"ticks\":\"\"}},\"scene\":{\"xaxis\":{\"backgroundcolor\":\"#E5ECF6\",\"gridcolor\":\"white\",\"gridwidth\":2,\"linecolor\":\"white\",\"showbackground\":true,\"ticks\":\"\",\"zerolinecolor\":\"white\"},\"yaxis\":{\"backgroundcolor\":\"#E5ECF6\",\"gridcolor\":\"white\",\"gridwidth\":2,\"linecolor\":\"white\",\"showbackground\":true,\"ticks\":\"\",\"zerolinecolor\":\"white\"},\"zaxis\":{\"backgroundcolor\":\"#E5ECF6\",\"gridcolor\":\"white\",\"gridwidth\":2,\"linecolor\":\"white\",\"showbackground\":true,\"ticks\":\"\",\"zerolinecolor\":\"white\"}},\"shapedefaults\":{\"line\":{\"color\":\"#2a3f5f\"}},\"ternary\":{\"aaxis\":{\"gridcolor\":\"white\",\"linecolor\":\"white\",\"ticks\":\"\"},\"baxis\":{\"gridcolor\":\"white\",\"linecolor\":\"white\",\"ticks\":\"\"},\"bgcolor\":\"#E5ECF6\",\"caxis\":{\"gridcolor\":\"white\",\"linecolor\":\"white\",\"ticks\":\"\"}},\"title\":{\"x\":0.05},\"xaxis\":{\"automargin\":true,\"gridcolor\":\"white\",\"linecolor\":\"white\",\"ticks\":\"\",\"title\":{\"standoff\":15},\"zerolinecolor\":\"white\",\"zerolinewidth\":2},\"yaxis\":{\"automargin\":true,\"gridcolor\":\"white\",\"linecolor\":\"white\",\"ticks\":\"\",\"title\":{\"standoff\":15},\"zerolinecolor\":\"white\",\"zerolinewidth\":2}}},\"title\":{\"font\":{\"color\":\"#D9D9D9\"}},\"xaxis\":{\"gridcolor\":\"#434343\",\"showgrid\":true,\"tickfont\":{\"color\":\"#C2C2C2\"},\"title\":{\"font\":{\"color\":\"#D9D9D9\"},\"text\":\"\"},\"zerolinecolor\":\"#666570\"},\"yaxis\":{\"gridcolor\":\"#434343\",\"showgrid\":true,\"tickfont\":{\"color\":\"#C2C2C2\"},\"title\":{\"font\":{\"color\":\"#D9D9D9\"},\"text\":\"\"},\"zerolinecolor\":\"#666570\"}},                        {\"showLink\": true, \"linkText\": \"Export to plot.ly\", \"plotlyServerURL\": \"https://plot.ly\", \"responsive\": true}                    ).then(function(){\n",
       "                            \n",
       "var gd = document.getElementById('2663f79d-75ea-4214-ade3-2a6720161627');\n",
       "var x = new MutationObserver(function (mutations, observer) {{\n",
       "        var display = window.getComputedStyle(gd).display;\n",
       "        if (!display || display === 'none') {{\n",
       "            console.log([gd, 'removed!']);\n",
       "            Plotly.purge(gd);\n",
       "            observer.disconnect();\n",
       "        }}\n",
       "}});\n",
       "\n",
       "// Listen for the removal of the full notebook cells\n",
       "var notebookContainer = gd.closest('#notebook-container');\n",
       "if (notebookContainer) {{\n",
       "    x.observe(notebookContainer, {childList: true});\n",
       "}}\n",
       "\n",
       "// Listen for the clearing of the current output cell\n",
       "var outputEl = gd.closest('.output');\n",
       "if (outputEl) {{\n",
       "    x.observe(outputEl, {childList: true});\n",
       "}}\n",
       "\n",
       "                        })                };                });            </script>        </div>"
      ]
     },
     "metadata": {},
     "output_type": "display_data"
    }
   ],
   "source": [
    "sub.iplot(kind='line', x='date', y='월별승차총승객수', theme='space')"
   ]
  },
  {
   "cell_type": "markdown",
   "id": "64bfcf47",
   "metadata": {},
   "source": [
    "## 승하차 증감 비율 그래프 그리기"
   ]
  },
  {
   "cell_type": "markdown",
   "id": "292b2665",
   "metadata": {},
   "source": [
    "### 승차 수 변화"
   ]
  },
  {
   "cell_type": "code",
   "execution_count": 80,
   "id": "5371f63f",
   "metadata": {
    "scrolled": true
   },
   "outputs": [
    {
     "data": {
      "text/html": [
       "<div>\n",
       "<style scoped>\n",
       "    .dataframe tbody tr th:only-of-type {\n",
       "        vertical-align: middle;\n",
       "    }\n",
       "\n",
       "    .dataframe tbody tr th {\n",
       "        vertical-align: top;\n",
       "    }\n",
       "\n",
       "    .dataframe thead th {\n",
       "        text-align: right;\n",
       "    }\n",
       "</style>\n",
       "<table border=\"1\" class=\"dataframe\">\n",
       "  <thead>\n",
       "    <tr style=\"text-align: right;\">\n",
       "      <th></th>\n",
       "      <th>date</th>\n",
       "      <th>월별승차총승객수</th>\n",
       "      <th>월별하차총승객수</th>\n",
       "      <th>월별승차총승객수변화량</th>\n",
       "    </tr>\n",
       "  </thead>\n",
       "  <tbody>\n",
       "    <tr>\n",
       "      <th>0</th>\n",
       "      <td>'2015-01</td>\n",
       "      <td>437278792.0</td>\n",
       "      <td>435066846.0</td>\n",
       "      <td>0</td>\n",
       "    </tr>\n",
       "    <tr>\n",
       "      <th>1</th>\n",
       "      <td>'2015-02</td>\n",
       "      <td>376783122.0</td>\n",
       "      <td>374884262.0</td>\n",
       "      <td>-60495670</td>\n",
       "    </tr>\n",
       "    <tr>\n",
       "      <th>2</th>\n",
       "      <td>'2015-03</td>\n",
       "      <td>478541350.0</td>\n",
       "      <td>476451614.0</td>\n",
       "      <td>101758228</td>\n",
       "    </tr>\n",
       "    <tr>\n",
       "      <th>3</th>\n",
       "      <td>'2015-04</td>\n",
       "      <td>236022558.0</td>\n",
       "      <td>234898916.0</td>\n",
       "      <td>-242518792</td>\n",
       "    </tr>\n",
       "    <tr>\n",
       "      <th>4</th>\n",
       "      <td>'2015-05</td>\n",
       "      <td>234296965.0</td>\n",
       "      <td>233170178.0</td>\n",
       "      <td>-1725593</td>\n",
       "    </tr>\n",
       "  </tbody>\n",
       "</table>\n",
       "</div>"
      ],
      "text/plain": [
       "       date     월별승차총승객수     월별하차총승객수  월별승차총승객수변화량\n",
       "0  '2015-01  437278792.0  435066846.0            0\n",
       "1  '2015-02  376783122.0  374884262.0    -60495670\n",
       "2  '2015-03  478541350.0  476451614.0    101758228\n",
       "3  '2015-04  236022558.0  234898916.0   -242518792\n",
       "4  '2015-05  234296965.0  233170178.0     -1725593"
      ]
     },
     "execution_count": 80,
     "metadata": {},
     "output_type": "execute_result"
    }
   ],
   "source": [
    "# 승차월별 증감 구하기\n",
    "num = len(sub['월별승차총승객수'])\n",
    "change = [0]\n",
    "for i in range( 1, num ):\n",
    "    j = i-1\n",
    "    x1 = int(sub.iloc[j, 1])\n",
    "    x2 = int(sub.iloc[i, 1])\n",
    "    tmp = x2 - x1\n",
    "    change.append(tmp)\n",
    "\n",
    "# print(change)\n",
    "sub['월별승차총승객수변화량'] = change\n",
    "# sub\n",
    "sub.head()"
   ]
  },
  {
   "cell_type": "markdown",
   "id": "bb5a9adb",
   "metadata": {},
   "source": [
    "### 승차 수 변화 비율"
   ]
  },
  {
   "cell_type": "code",
   "execution_count": 81,
   "id": "da2d47e4",
   "metadata": {},
   "outputs": [
    {
     "data": {
      "text/html": [
       "<div>\n",
       "<style scoped>\n",
       "    .dataframe tbody tr th:only-of-type {\n",
       "        vertical-align: middle;\n",
       "    }\n",
       "\n",
       "    .dataframe tbody tr th {\n",
       "        vertical-align: top;\n",
       "    }\n",
       "\n",
       "    .dataframe thead th {\n",
       "        text-align: right;\n",
       "    }\n",
       "</style>\n",
       "<table border=\"1\" class=\"dataframe\">\n",
       "  <thead>\n",
       "    <tr style=\"text-align: right;\">\n",
       "      <th></th>\n",
       "      <th>date</th>\n",
       "      <th>월별승차총승객수</th>\n",
       "      <th>월별하차총승객수</th>\n",
       "      <th>월별승차총승객수변화량</th>\n",
       "      <th>월별승차총승객수변화량비율</th>\n",
       "    </tr>\n",
       "  </thead>\n",
       "  <tbody>\n",
       "    <tr>\n",
       "      <th>0</th>\n",
       "      <td>'2015-01</td>\n",
       "      <td>437278792.0</td>\n",
       "      <td>435066846.0</td>\n",
       "      <td>0</td>\n",
       "      <td>0.000000</td>\n",
       "    </tr>\n",
       "    <tr>\n",
       "      <th>1</th>\n",
       "      <td>'2015-02</td>\n",
       "      <td>376783122.0</td>\n",
       "      <td>374884262.0</td>\n",
       "      <td>-60495670</td>\n",
       "      <td>-0.138346</td>\n",
       "    </tr>\n",
       "    <tr>\n",
       "      <th>2</th>\n",
       "      <td>'2015-03</td>\n",
       "      <td>478541350.0</td>\n",
       "      <td>476451614.0</td>\n",
       "      <td>101758228</td>\n",
       "      <td>0.270071</td>\n",
       "    </tr>\n",
       "    <tr>\n",
       "      <th>3</th>\n",
       "      <td>'2015-04</td>\n",
       "      <td>236022558.0</td>\n",
       "      <td>234898916.0</td>\n",
       "      <td>-242518792</td>\n",
       "      <td>-0.506788</td>\n",
       "    </tr>\n",
       "    <tr>\n",
       "      <th>4</th>\n",
       "      <td>'2015-05</td>\n",
       "      <td>234296965.0</td>\n",
       "      <td>233170178.0</td>\n",
       "      <td>-1725593</td>\n",
       "      <td>-0.007311</td>\n",
       "    </tr>\n",
       "  </tbody>\n",
       "</table>\n",
       "</div>"
      ],
      "text/plain": [
       "       date     월별승차총승객수     월별하차총승객수  월별승차총승객수변화량  월별승차총승객수변화량비율\n",
       "0  '2015-01  437278792.0  435066846.0            0       0.000000\n",
       "1  '2015-02  376783122.0  374884262.0    -60495670      -0.138346\n",
       "2  '2015-03  478541350.0  476451614.0    101758228       0.270071\n",
       "3  '2015-04  236022558.0  234898916.0   -242518792      -0.506788\n",
       "4  '2015-05  234296965.0  233170178.0     -1725593      -0.007311"
      ]
     },
     "execution_count": 81,
     "metadata": {},
     "output_type": "execute_result"
    }
   ],
   "source": [
    "# 승차월별 증감 비율 구하기\n",
    "num = len(sub['월별승차총승객수변화량'])\n",
    "change = [0]\n",
    "for i in range( 1, num ):\n",
    "    j = i-1\n",
    "    x1 = int(sub.iloc[j, 1])\n",
    "    x2 = int(sub.iloc[i, 3])\n",
    "    tmp = x2 / x1\n",
    "    change.append(tmp)\n",
    "\n",
    "sub['월별승차총승객수변화량비율'] = change\n",
    "# sub\n",
    "sub.head()"
   ]
  },
  {
   "cell_type": "code",
   "execution_count": 82,
   "id": "3a05576c",
   "metadata": {
    "scrolled": true
   },
   "outputs": [
    {
     "data": {
      "text/html": [
       "<div>\n",
       "<style scoped>\n",
       "    .dataframe tbody tr th:only-of-type {\n",
       "        vertical-align: middle;\n",
       "    }\n",
       "\n",
       "    .dataframe tbody tr th {\n",
       "        vertical-align: top;\n",
       "    }\n",
       "\n",
       "    .dataframe thead th {\n",
       "        text-align: right;\n",
       "    }\n",
       "</style>\n",
       "<table border=\"1\" class=\"dataframe\">\n",
       "  <thead>\n",
       "    <tr style=\"text-align: right;\">\n",
       "      <th></th>\n",
       "      <th>date</th>\n",
       "      <th>월별승차총승객수</th>\n",
       "      <th>월별하차총승객수</th>\n",
       "      <th>월별승차총승객수변화량</th>\n",
       "      <th>월별승차총승객수변화량비율</th>\n",
       "      <th>월별승차총승객수변화량비율(%)</th>\n",
       "    </tr>\n",
       "  </thead>\n",
       "  <tbody>\n",
       "    <tr>\n",
       "      <th>0</th>\n",
       "      <td>'2015-01</td>\n",
       "      <td>437278792.0</td>\n",
       "      <td>435066846.0</td>\n",
       "      <td>0</td>\n",
       "      <td>0.000000</td>\n",
       "      <td>0.000000</td>\n",
       "    </tr>\n",
       "    <tr>\n",
       "      <th>1</th>\n",
       "      <td>'2015-02</td>\n",
       "      <td>376783122.0</td>\n",
       "      <td>374884262.0</td>\n",
       "      <td>-60495670</td>\n",
       "      <td>-0.138346</td>\n",
       "      <td>-13.834577</td>\n",
       "    </tr>\n",
       "    <tr>\n",
       "      <th>2</th>\n",
       "      <td>'2015-03</td>\n",
       "      <td>478541350.0</td>\n",
       "      <td>476451614.0</td>\n",
       "      <td>101758228</td>\n",
       "      <td>0.270071</td>\n",
       "      <td>27.007109</td>\n",
       "    </tr>\n",
       "    <tr>\n",
       "      <th>3</th>\n",
       "      <td>'2015-04</td>\n",
       "      <td>236022558.0</td>\n",
       "      <td>234898916.0</td>\n",
       "      <td>-242518792</td>\n",
       "      <td>-0.506788</td>\n",
       "      <td>-50.678754</td>\n",
       "    </tr>\n",
       "    <tr>\n",
       "      <th>4</th>\n",
       "      <td>'2015-05</td>\n",
       "      <td>234296965.0</td>\n",
       "      <td>233170178.0</td>\n",
       "      <td>-1725593</td>\n",
       "      <td>-0.007311</td>\n",
       "      <td>-0.731114</td>\n",
       "    </tr>\n",
       "  </tbody>\n",
       "</table>\n",
       "</div>"
      ],
      "text/plain": [
       "       date     월별승차총승객수     월별하차총승객수  월별승차총승객수변화량  월별승차총승객수변화량비율  \\\n",
       "0  '2015-01  437278792.0  435066846.0            0       0.000000   \n",
       "1  '2015-02  376783122.0  374884262.0    -60495670      -0.138346   \n",
       "2  '2015-03  478541350.0  476451614.0    101758228       0.270071   \n",
       "3  '2015-04  236022558.0  234898916.0   -242518792      -0.506788   \n",
       "4  '2015-05  234296965.0  233170178.0     -1725593      -0.007311   \n",
       "\n",
       "   월별승차총승객수변화량비율(%)  \n",
       "0          0.000000  \n",
       "1        -13.834577  \n",
       "2         27.007109  \n",
       "3        -50.678754  \n",
       "4         -0.731114  "
      ]
     },
     "execution_count": 82,
     "metadata": {},
     "output_type": "execute_result"
    }
   ],
   "source": [
    "# 승차월별 증감 %비율 구하기\n",
    "num = len(sub['월별승차총승객수변화량'])\n",
    "change = []\n",
    "for i in range(num):\n",
    "    x1 = float(sub.iloc[i, 4])\n",
    "    tmp = x1 * 100\n",
    "    change.append(tmp)\n",
    "\n",
    "sub['월별승차총승객수변화량비율(%)'] = change\n",
    "# sub\n",
    "sub.head()"
   ]
  },
  {
   "cell_type": "markdown",
   "id": "b43e4751",
   "metadata": {},
   "source": [
    "### 하차 수 변화"
   ]
  },
  {
   "cell_type": "code",
   "execution_count": 83,
   "id": "a2f1fc69",
   "metadata": {
    "scrolled": true
   },
   "outputs": [
    {
     "data": {
      "text/html": [
       "<div>\n",
       "<style scoped>\n",
       "    .dataframe tbody tr th:only-of-type {\n",
       "        vertical-align: middle;\n",
       "    }\n",
       "\n",
       "    .dataframe tbody tr th {\n",
       "        vertical-align: top;\n",
       "    }\n",
       "\n",
       "    .dataframe thead th {\n",
       "        text-align: right;\n",
       "    }\n",
       "</style>\n",
       "<table border=\"1\" class=\"dataframe\">\n",
       "  <thead>\n",
       "    <tr style=\"text-align: right;\">\n",
       "      <th></th>\n",
       "      <th>date</th>\n",
       "      <th>월별승차총승객수</th>\n",
       "      <th>월별하차총승객수</th>\n",
       "      <th>월별승차총승객수변화량</th>\n",
       "      <th>월별승차총승객수변화량비율</th>\n",
       "      <th>월별승차총승객수변화량비율(%)</th>\n",
       "      <th>월별하차총승객수변화량</th>\n",
       "    </tr>\n",
       "  </thead>\n",
       "  <tbody>\n",
       "    <tr>\n",
       "      <th>0</th>\n",
       "      <td>'2015-01</td>\n",
       "      <td>437278792.0</td>\n",
       "      <td>435066846.0</td>\n",
       "      <td>0</td>\n",
       "      <td>0.000000</td>\n",
       "      <td>0.000000</td>\n",
       "      <td>0</td>\n",
       "    </tr>\n",
       "    <tr>\n",
       "      <th>1</th>\n",
       "      <td>'2015-02</td>\n",
       "      <td>376783122.0</td>\n",
       "      <td>374884262.0</td>\n",
       "      <td>-60495670</td>\n",
       "      <td>-0.138346</td>\n",
       "      <td>-13.834577</td>\n",
       "      <td>-60182584</td>\n",
       "    </tr>\n",
       "    <tr>\n",
       "      <th>2</th>\n",
       "      <td>'2015-03</td>\n",
       "      <td>478541350.0</td>\n",
       "      <td>476451614.0</td>\n",
       "      <td>101758228</td>\n",
       "      <td>0.270071</td>\n",
       "      <td>27.007109</td>\n",
       "      <td>101567352</td>\n",
       "    </tr>\n",
       "    <tr>\n",
       "      <th>3</th>\n",
       "      <td>'2015-04</td>\n",
       "      <td>236022558.0</td>\n",
       "      <td>234898916.0</td>\n",
       "      <td>-242518792</td>\n",
       "      <td>-0.506788</td>\n",
       "      <td>-50.678754</td>\n",
       "      <td>-241552698</td>\n",
       "    </tr>\n",
       "    <tr>\n",
       "      <th>4</th>\n",
       "      <td>'2015-05</td>\n",
       "      <td>234296965.0</td>\n",
       "      <td>233170178.0</td>\n",
       "      <td>-1725593</td>\n",
       "      <td>-0.007311</td>\n",
       "      <td>-0.731114</td>\n",
       "      <td>-1728738</td>\n",
       "    </tr>\n",
       "  </tbody>\n",
       "</table>\n",
       "</div>"
      ],
      "text/plain": [
       "       date     월별승차총승객수     월별하차총승객수  월별승차총승객수변화량  월별승차총승객수변화량비율  \\\n",
       "0  '2015-01  437278792.0  435066846.0            0       0.000000   \n",
       "1  '2015-02  376783122.0  374884262.0    -60495670      -0.138346   \n",
       "2  '2015-03  478541350.0  476451614.0    101758228       0.270071   \n",
       "3  '2015-04  236022558.0  234898916.0   -242518792      -0.506788   \n",
       "4  '2015-05  234296965.0  233170178.0     -1725593      -0.007311   \n",
       "\n",
       "   월별승차총승객수변화량비율(%)  월별하차총승객수변화량  \n",
       "0          0.000000            0  \n",
       "1        -13.834577    -60182584  \n",
       "2         27.007109    101567352  \n",
       "3        -50.678754   -241552698  \n",
       "4         -0.731114     -1728738  "
      ]
     },
     "execution_count": 83,
     "metadata": {},
     "output_type": "execute_result"
    }
   ],
   "source": [
    "# 하차월별 증감 구하기\n",
    "num = len(sub['월별하차총승객수'])\n",
    "change = [0]\n",
    "for i in range( 1, num ):\n",
    "    j = i-1\n",
    "    x1 = int(sub.iloc[j, 2])\n",
    "    x2 = int(sub.iloc[i, 2])\n",
    "    tmp = x2 - x1\n",
    "    change.append(tmp)\n",
    "\n",
    "sub['월별하차총승객수변화량'] = change\n",
    "# sub\n",
    "sub.head()"
   ]
  },
  {
   "cell_type": "markdown",
   "id": "c8c00d7d",
   "metadata": {},
   "source": [
    "### 하차 수 변화 비율"
   ]
  },
  {
   "cell_type": "code",
   "execution_count": 84,
   "id": "2d764c5c",
   "metadata": {},
   "outputs": [
    {
     "data": {
      "text/html": [
       "<div>\n",
       "<style scoped>\n",
       "    .dataframe tbody tr th:only-of-type {\n",
       "        vertical-align: middle;\n",
       "    }\n",
       "\n",
       "    .dataframe tbody tr th {\n",
       "        vertical-align: top;\n",
       "    }\n",
       "\n",
       "    .dataframe thead th {\n",
       "        text-align: right;\n",
       "    }\n",
       "</style>\n",
       "<table border=\"1\" class=\"dataframe\">\n",
       "  <thead>\n",
       "    <tr style=\"text-align: right;\">\n",
       "      <th></th>\n",
       "      <th>date</th>\n",
       "      <th>월별승차총승객수</th>\n",
       "      <th>월별하차총승객수</th>\n",
       "      <th>월별승차총승객수변화량</th>\n",
       "      <th>월별승차총승객수변화량비율</th>\n",
       "      <th>월별승차총승객수변화량비율(%)</th>\n",
       "      <th>월별하차총승객수변화량</th>\n",
       "      <th>월별하차총승객수변화량비율</th>\n",
       "    </tr>\n",
       "  </thead>\n",
       "  <tbody>\n",
       "    <tr>\n",
       "      <th>0</th>\n",
       "      <td>'2015-01</td>\n",
       "      <td>437278792.0</td>\n",
       "      <td>435066846.0</td>\n",
       "      <td>0</td>\n",
       "      <td>0.000000</td>\n",
       "      <td>0.000000</td>\n",
       "      <td>0</td>\n",
       "      <td>0.000000</td>\n",
       "    </tr>\n",
       "    <tr>\n",
       "      <th>1</th>\n",
       "      <td>'2015-02</td>\n",
       "      <td>376783122.0</td>\n",
       "      <td>374884262.0</td>\n",
       "      <td>-60495670</td>\n",
       "      <td>-0.138346</td>\n",
       "      <td>-13.834577</td>\n",
       "      <td>-60182584</td>\n",
       "      <td>-0.138330</td>\n",
       "    </tr>\n",
       "    <tr>\n",
       "      <th>2</th>\n",
       "      <td>'2015-03</td>\n",
       "      <td>478541350.0</td>\n",
       "      <td>476451614.0</td>\n",
       "      <td>101758228</td>\n",
       "      <td>0.270071</td>\n",
       "      <td>27.007109</td>\n",
       "      <td>101567352</td>\n",
       "      <td>0.270930</td>\n",
       "    </tr>\n",
       "    <tr>\n",
       "      <th>3</th>\n",
       "      <td>'2015-04</td>\n",
       "      <td>236022558.0</td>\n",
       "      <td>234898916.0</td>\n",
       "      <td>-242518792</td>\n",
       "      <td>-0.506788</td>\n",
       "      <td>-50.678754</td>\n",
       "      <td>-241552698</td>\n",
       "      <td>-0.506983</td>\n",
       "    </tr>\n",
       "    <tr>\n",
       "      <th>4</th>\n",
       "      <td>'2015-05</td>\n",
       "      <td>234296965.0</td>\n",
       "      <td>233170178.0</td>\n",
       "      <td>-1725593</td>\n",
       "      <td>-0.007311</td>\n",
       "      <td>-0.731114</td>\n",
       "      <td>-1728738</td>\n",
       "      <td>-0.007359</td>\n",
       "    </tr>\n",
       "  </tbody>\n",
       "</table>\n",
       "</div>"
      ],
      "text/plain": [
       "       date     월별승차총승객수     월별하차총승객수  월별승차총승객수변화량  월별승차총승객수변화량비율  \\\n",
       "0  '2015-01  437278792.0  435066846.0            0       0.000000   \n",
       "1  '2015-02  376783122.0  374884262.0    -60495670      -0.138346   \n",
       "2  '2015-03  478541350.0  476451614.0    101758228       0.270071   \n",
       "3  '2015-04  236022558.0  234898916.0   -242518792      -0.506788   \n",
       "4  '2015-05  234296965.0  233170178.0     -1725593      -0.007311   \n",
       "\n",
       "   월별승차총승객수변화량비율(%)  월별하차총승객수변화량  월별하차총승객수변화량비율  \n",
       "0          0.000000            0       0.000000  \n",
       "1        -13.834577    -60182584      -0.138330  \n",
       "2         27.007109    101567352       0.270930  \n",
       "3        -50.678754   -241552698      -0.506983  \n",
       "4         -0.731114     -1728738      -0.007359  "
      ]
     },
     "execution_count": 84,
     "metadata": {},
     "output_type": "execute_result"
    }
   ],
   "source": [
    "# 하차월별 증감 비율 구하기\n",
    "num = len(sub['월별하차총승객수변화량'])\n",
    "change = [0]\n",
    "for i in range( 1, num ):\n",
    "    j = i-1\n",
    "    x1 = int(sub.iloc[j, 2])\n",
    "    x2 = int(sub.iloc[i, 6])\n",
    "    tmp = x2 / x1\n",
    "    change.append(tmp)\n",
    "\n",
    "sub['월별하차총승객수변화량비율'] = change\n",
    "# sub\n",
    "sub.head()"
   ]
  },
  {
   "cell_type": "code",
   "execution_count": 85,
   "id": "9c1e1642",
   "metadata": {},
   "outputs": [
    {
     "data": {
      "text/html": [
       "<div>\n",
       "<style scoped>\n",
       "    .dataframe tbody tr th:only-of-type {\n",
       "        vertical-align: middle;\n",
       "    }\n",
       "\n",
       "    .dataframe tbody tr th {\n",
       "        vertical-align: top;\n",
       "    }\n",
       "\n",
       "    .dataframe thead th {\n",
       "        text-align: right;\n",
       "    }\n",
       "</style>\n",
       "<table border=\"1\" class=\"dataframe\">\n",
       "  <thead>\n",
       "    <tr style=\"text-align: right;\">\n",
       "      <th></th>\n",
       "      <th>date</th>\n",
       "      <th>월별승차총승객수</th>\n",
       "      <th>월별하차총승객수</th>\n",
       "      <th>월별승차총승객수변화량</th>\n",
       "      <th>월별승차총승객수변화량비율</th>\n",
       "      <th>월별승차총승객수변화량비율(%)</th>\n",
       "      <th>월별하차총승객수변화량</th>\n",
       "      <th>월별하차총승객수변화량비율</th>\n",
       "      <th>월별하차총승객수변화량비율(%)</th>\n",
       "    </tr>\n",
       "  </thead>\n",
       "  <tbody>\n",
       "    <tr>\n",
       "      <th>0</th>\n",
       "      <td>'2015-01</td>\n",
       "      <td>437278792.0</td>\n",
       "      <td>435066846.0</td>\n",
       "      <td>0</td>\n",
       "      <td>0.000000</td>\n",
       "      <td>0.000000</td>\n",
       "      <td>0</td>\n",
       "      <td>0.000000</td>\n",
       "      <td>0.000000</td>\n",
       "    </tr>\n",
       "    <tr>\n",
       "      <th>1</th>\n",
       "      <td>'2015-02</td>\n",
       "      <td>376783122.0</td>\n",
       "      <td>374884262.0</td>\n",
       "      <td>-60495670</td>\n",
       "      <td>-0.138346</td>\n",
       "      <td>-13.834577</td>\n",
       "      <td>-60182584</td>\n",
       "      <td>-0.138330</td>\n",
       "      <td>-13.832951</td>\n",
       "    </tr>\n",
       "    <tr>\n",
       "      <th>2</th>\n",
       "      <td>'2015-03</td>\n",
       "      <td>478541350.0</td>\n",
       "      <td>476451614.0</td>\n",
       "      <td>101758228</td>\n",
       "      <td>0.270071</td>\n",
       "      <td>27.007109</td>\n",
       "      <td>101567352</td>\n",
       "      <td>0.270930</td>\n",
       "      <td>27.092989</td>\n",
       "    </tr>\n",
       "    <tr>\n",
       "      <th>3</th>\n",
       "      <td>'2015-04</td>\n",
       "      <td>236022558.0</td>\n",
       "      <td>234898916.0</td>\n",
       "      <td>-242518792</td>\n",
       "      <td>-0.506788</td>\n",
       "      <td>-50.678754</td>\n",
       "      <td>-241552698</td>\n",
       "      <td>-0.506983</td>\n",
       "      <td>-50.698264</td>\n",
       "    </tr>\n",
       "    <tr>\n",
       "      <th>4</th>\n",
       "      <td>'2015-05</td>\n",
       "      <td>234296965.0</td>\n",
       "      <td>233170178.0</td>\n",
       "      <td>-1725593</td>\n",
       "      <td>-0.007311</td>\n",
       "      <td>-0.731114</td>\n",
       "      <td>-1728738</td>\n",
       "      <td>-0.007359</td>\n",
       "      <td>-0.735950</td>\n",
       "    </tr>\n",
       "  </tbody>\n",
       "</table>\n",
       "</div>"
      ],
      "text/plain": [
       "       date     월별승차총승객수     월별하차총승객수  월별승차총승객수변화량  월별승차총승객수변화량비율  \\\n",
       "0  '2015-01  437278792.0  435066846.0            0       0.000000   \n",
       "1  '2015-02  376783122.0  374884262.0    -60495670      -0.138346   \n",
       "2  '2015-03  478541350.0  476451614.0    101758228       0.270071   \n",
       "3  '2015-04  236022558.0  234898916.0   -242518792      -0.506788   \n",
       "4  '2015-05  234296965.0  233170178.0     -1725593      -0.007311   \n",
       "\n",
       "   월별승차총승객수변화량비율(%)  월별하차총승객수변화량  월별하차총승객수변화량비율  월별하차총승객수변화량비율(%)  \n",
       "0          0.000000            0       0.000000          0.000000  \n",
       "1        -13.834577    -60182584      -0.138330        -13.832951  \n",
       "2         27.007109    101567352       0.270930         27.092989  \n",
       "3        -50.678754   -241552698      -0.506983        -50.698264  \n",
       "4         -0.731114     -1728738      -0.007359         -0.735950  "
      ]
     },
     "execution_count": 85,
     "metadata": {},
     "output_type": "execute_result"
    }
   ],
   "source": [
    "# 하차월별 증감 %비율 구하기\n",
    "num = len(sub['월별하차총승객수변화량'])\n",
    "change = []\n",
    "for i in range(num):\n",
    "    x1 = float(sub.iloc[i,7])\n",
    "    tmp = x1 * 100\n",
    "    change.append(tmp)\n",
    "\n",
    "sub['월별하차총승객수변화량비율(%)'] = change\n",
    "# sub\n",
    "sub.head()"
   ]
  },
  {
   "cell_type": "markdown",
   "id": "f065e078",
   "metadata": {},
   "source": [
    "## 승하차 증감 비율 그래프(plotly)(2016-2021년)\n",
    "* x축에 너무 많은 값이 들어가면 가독성이 안좋음\n",
    "* 5년 자료만 표시"
   ]
  },
  {
   "cell_type": "code",
   "execution_count": 86,
   "id": "52cac6ce",
   "metadata": {},
   "outputs": [
    {
     "data": {
      "application/vnd.plotly.v1+json": {
       "config": {
        "linkText": "Export to plot.ly",
        "plotlyServerURL": "https://plot.ly",
        "showLink": true
       },
       "data": [
        {
         "marker": {
          "color": "rgba(255, 153, 51, 0.6)",
          "line": {
           "color": "rgba(255, 153, 51, 1.0)",
           "width": 1
          }
         },
         "name": "월별승차총승객수변화량비율(%)",
         "orientation": "v",
         "text": "",
         "type": "bar",
         "x": [
          "'2016-01",
          "'2016-02",
          "'2016-03",
          "'2016-04",
          "'2016-05",
          "'2016-06",
          "'2016-07",
          "'2016-08",
          "'2016-09",
          "'2016-10",
          "'2016-11",
          "'2016-12",
          "'2017-01",
          "'2017-02",
          "'2017-03",
          "'2017-04",
          "'2017-05",
          "'2017-06",
          "'2017-07",
          "'2017-08",
          "'2017-09",
          "'2017-10",
          "'2017-11",
          "'2017-12",
          "'2018-01",
          "'2018-02",
          "'2018-03",
          "'2018-04",
          "'2018-05",
          "'2018-06",
          "'2018-07",
          "'2018-08",
          "'2018-09",
          "'2018-10",
          "'2018-11",
          "'2018-12",
          "'2019-01",
          "'2019-02",
          "'2019-03",
          "'2019-04",
          "'2019-05",
          "'2019-06",
          "'2019-07",
          "'2019-08",
          "'2019-09",
          "'2019-10",
          "'2019-11",
          "'2019-12",
          "'2020-01",
          "'2020-02",
          "'2020-03",
          "'2020-04",
          "'2020-05",
          "'2020-06",
          "'2020-07",
          "'2020-08",
          "'2020-09",
          "'2020-10",
          "'2020-11",
          "'2020-12",
          "'2021-01",
          "'2021-02",
          "'2021-03",
          "'2021-04",
          "'2021-05",
          "'2021-06",
          "'2021-07",
          "'2021-08"
         ],
         "y": [
          -10.24288630567473,
          -7.466820490464018,
          22.066187225594987,
          -3.396671936481318,
          2.54782591844995,
          -4.934554451696417,
          -1.4131273463178275,
          -2.4024582929639053,
          -1.631658142221341,
          9.009717647856618,
          -0.6787308005709729,
          1.6020092519063698,
          -11.33628802638975,
          -0.27535795653581024,
          15.733094282975724,
          -3.9626615312213813,
          0.024431394952750384,
          -2.865098254299556,
          -2.9340630473903175,
          -0.4835256800714135,
          6.765717147019245,
          -8.77841086498283,
          9.629884642748094,
          0.1600716198376092,
          -6.521197619198171,
          -11.510840340523485,
          24.42246483387397,
          -2.6879482437861575,
          2.743319346947074,
          -6.727395381231213,
          1.0053720941796518,
          -3.346334509173269,
          -2.639755536696104,
          13.03098555870948,
          -1.1786754491695868,
          -2.20055615798024,
          -2.6273457753129654,
          -14.204410231952764,
          22.842503753313643,
          0.9046937056529942,
          3.1405615558108897,
          -8.955037541949922,
          3.479084638093493,
          -4.179713137407677,
          -2.5792582383934697,
          12.19359795080835,
          -3.2558541573574225,
          0.9860417623593125,
          -11.438270054668765,
          -18.36930345187589,
          -17.629033417838492,
          6.752267514164672,
          10.336165249823221,
          4.299298185027506,
          6.925641568178771,
          -16.62285322315214,
          -5.482138466424781,
          17.032475783279843,
          1.5457116947558747,
          -18.726306930562973,
          1.798650286807019,
          0.5737913971542595,
          25.25623103934716,
          -0.7996538430401514,
          -1.9808541154544248,
          2.8149737401530133,
          -10.842501464493417,
          -4.218424929392826
         ]
        }
       ],
       "layout": {
        "legend": {
         "bgcolor": "#1A1A1C",
         "font": {
          "color": "#D9D9D9"
         }
        },
        "paper_bgcolor": "#1A1A1C",
        "plot_bgcolor": "#1A1A1C",
        "template": {
         "data": {
          "bar": [
           {
            "error_x": {
             "color": "#2a3f5f"
            },
            "error_y": {
             "color": "#2a3f5f"
            },
            "marker": {
             "line": {
              "color": "#E5ECF6",
              "width": 0.5
             },
             "pattern": {
              "fillmode": "overlay",
              "size": 10,
              "solidity": 0.2
             }
            },
            "type": "bar"
           }
          ],
          "barpolar": [
           {
            "marker": {
             "line": {
              "color": "#E5ECF6",
              "width": 0.5
             },
             "pattern": {
              "fillmode": "overlay",
              "size": 10,
              "solidity": 0.2
             }
            },
            "type": "barpolar"
           }
          ],
          "carpet": [
           {
            "aaxis": {
             "endlinecolor": "#2a3f5f",
             "gridcolor": "white",
             "linecolor": "white",
             "minorgridcolor": "white",
             "startlinecolor": "#2a3f5f"
            },
            "baxis": {
             "endlinecolor": "#2a3f5f",
             "gridcolor": "white",
             "linecolor": "white",
             "minorgridcolor": "white",
             "startlinecolor": "#2a3f5f"
            },
            "type": "carpet"
           }
          ],
          "choropleth": [
           {
            "colorbar": {
             "outlinewidth": 0,
             "ticks": ""
            },
            "type": "choropleth"
           }
          ],
          "contour": [
           {
            "colorbar": {
             "outlinewidth": 0,
             "ticks": ""
            },
            "colorscale": [
             [
              0,
              "#0d0887"
             ],
             [
              0.1111111111111111,
              "#46039f"
             ],
             [
              0.2222222222222222,
              "#7201a8"
             ],
             [
              0.3333333333333333,
              "#9c179e"
             ],
             [
              0.4444444444444444,
              "#bd3786"
             ],
             [
              0.5555555555555556,
              "#d8576b"
             ],
             [
              0.6666666666666666,
              "#ed7953"
             ],
             [
              0.7777777777777778,
              "#fb9f3a"
             ],
             [
              0.8888888888888888,
              "#fdca26"
             ],
             [
              1,
              "#f0f921"
             ]
            ],
            "type": "contour"
           }
          ],
          "contourcarpet": [
           {
            "colorbar": {
             "outlinewidth": 0,
             "ticks": ""
            },
            "type": "contourcarpet"
           }
          ],
          "heatmap": [
           {
            "colorbar": {
             "outlinewidth": 0,
             "ticks": ""
            },
            "colorscale": [
             [
              0,
              "#0d0887"
             ],
             [
              0.1111111111111111,
              "#46039f"
             ],
             [
              0.2222222222222222,
              "#7201a8"
             ],
             [
              0.3333333333333333,
              "#9c179e"
             ],
             [
              0.4444444444444444,
              "#bd3786"
             ],
             [
              0.5555555555555556,
              "#d8576b"
             ],
             [
              0.6666666666666666,
              "#ed7953"
             ],
             [
              0.7777777777777778,
              "#fb9f3a"
             ],
             [
              0.8888888888888888,
              "#fdca26"
             ],
             [
              1,
              "#f0f921"
             ]
            ],
            "type": "heatmap"
           }
          ],
          "heatmapgl": [
           {
            "colorbar": {
             "outlinewidth": 0,
             "ticks": ""
            },
            "colorscale": [
             [
              0,
              "#0d0887"
             ],
             [
              0.1111111111111111,
              "#46039f"
             ],
             [
              0.2222222222222222,
              "#7201a8"
             ],
             [
              0.3333333333333333,
              "#9c179e"
             ],
             [
              0.4444444444444444,
              "#bd3786"
             ],
             [
              0.5555555555555556,
              "#d8576b"
             ],
             [
              0.6666666666666666,
              "#ed7953"
             ],
             [
              0.7777777777777778,
              "#fb9f3a"
             ],
             [
              0.8888888888888888,
              "#fdca26"
             ],
             [
              1,
              "#f0f921"
             ]
            ],
            "type": "heatmapgl"
           }
          ],
          "histogram": [
           {
            "marker": {
             "pattern": {
              "fillmode": "overlay",
              "size": 10,
              "solidity": 0.2
             }
            },
            "type": "histogram"
           }
          ],
          "histogram2d": [
           {
            "colorbar": {
             "outlinewidth": 0,
             "ticks": ""
            },
            "colorscale": [
             [
              0,
              "#0d0887"
             ],
             [
              0.1111111111111111,
              "#46039f"
             ],
             [
              0.2222222222222222,
              "#7201a8"
             ],
             [
              0.3333333333333333,
              "#9c179e"
             ],
             [
              0.4444444444444444,
              "#bd3786"
             ],
             [
              0.5555555555555556,
              "#d8576b"
             ],
             [
              0.6666666666666666,
              "#ed7953"
             ],
             [
              0.7777777777777778,
              "#fb9f3a"
             ],
             [
              0.8888888888888888,
              "#fdca26"
             ],
             [
              1,
              "#f0f921"
             ]
            ],
            "type": "histogram2d"
           }
          ],
          "histogram2dcontour": [
           {
            "colorbar": {
             "outlinewidth": 0,
             "ticks": ""
            },
            "colorscale": [
             [
              0,
              "#0d0887"
             ],
             [
              0.1111111111111111,
              "#46039f"
             ],
             [
              0.2222222222222222,
              "#7201a8"
             ],
             [
              0.3333333333333333,
              "#9c179e"
             ],
             [
              0.4444444444444444,
              "#bd3786"
             ],
             [
              0.5555555555555556,
              "#d8576b"
             ],
             [
              0.6666666666666666,
              "#ed7953"
             ],
             [
              0.7777777777777778,
              "#fb9f3a"
             ],
             [
              0.8888888888888888,
              "#fdca26"
             ],
             [
              1,
              "#f0f921"
             ]
            ],
            "type": "histogram2dcontour"
           }
          ],
          "mesh3d": [
           {
            "colorbar": {
             "outlinewidth": 0,
             "ticks": ""
            },
            "type": "mesh3d"
           }
          ],
          "parcoords": [
           {
            "line": {
             "colorbar": {
              "outlinewidth": 0,
              "ticks": ""
             }
            },
            "type": "parcoords"
           }
          ],
          "pie": [
           {
            "automargin": true,
            "type": "pie"
           }
          ],
          "scatter": [
           {
            "marker": {
             "colorbar": {
              "outlinewidth": 0,
              "ticks": ""
             }
            },
            "type": "scatter"
           }
          ],
          "scatter3d": [
           {
            "line": {
             "colorbar": {
              "outlinewidth": 0,
              "ticks": ""
             }
            },
            "marker": {
             "colorbar": {
              "outlinewidth": 0,
              "ticks": ""
             }
            },
            "type": "scatter3d"
           }
          ],
          "scattercarpet": [
           {
            "marker": {
             "colorbar": {
              "outlinewidth": 0,
              "ticks": ""
             }
            },
            "type": "scattercarpet"
           }
          ],
          "scattergeo": [
           {
            "marker": {
             "colorbar": {
              "outlinewidth": 0,
              "ticks": ""
             }
            },
            "type": "scattergeo"
           }
          ],
          "scattergl": [
           {
            "marker": {
             "colorbar": {
              "outlinewidth": 0,
              "ticks": ""
             }
            },
            "type": "scattergl"
           }
          ],
          "scattermapbox": [
           {
            "marker": {
             "colorbar": {
              "outlinewidth": 0,
              "ticks": ""
             }
            },
            "type": "scattermapbox"
           }
          ],
          "scatterpolar": [
           {
            "marker": {
             "colorbar": {
              "outlinewidth": 0,
              "ticks": ""
             }
            },
            "type": "scatterpolar"
           }
          ],
          "scatterpolargl": [
           {
            "marker": {
             "colorbar": {
              "outlinewidth": 0,
              "ticks": ""
             }
            },
            "type": "scatterpolargl"
           }
          ],
          "scatterternary": [
           {
            "marker": {
             "colorbar": {
              "outlinewidth": 0,
              "ticks": ""
             }
            },
            "type": "scatterternary"
           }
          ],
          "surface": [
           {
            "colorbar": {
             "outlinewidth": 0,
             "ticks": ""
            },
            "colorscale": [
             [
              0,
              "#0d0887"
             ],
             [
              0.1111111111111111,
              "#46039f"
             ],
             [
              0.2222222222222222,
              "#7201a8"
             ],
             [
              0.3333333333333333,
              "#9c179e"
             ],
             [
              0.4444444444444444,
              "#bd3786"
             ],
             [
              0.5555555555555556,
              "#d8576b"
             ],
             [
              0.6666666666666666,
              "#ed7953"
             ],
             [
              0.7777777777777778,
              "#fb9f3a"
             ],
             [
              0.8888888888888888,
              "#fdca26"
             ],
             [
              1,
              "#f0f921"
             ]
            ],
            "type": "surface"
           }
          ],
          "table": [
           {
            "cells": {
             "fill": {
              "color": "#EBF0F8"
             },
             "line": {
              "color": "white"
             }
            },
            "header": {
             "fill": {
              "color": "#C8D4E3"
             },
             "line": {
              "color": "white"
             }
            },
            "type": "table"
           }
          ]
         },
         "layout": {
          "annotationdefaults": {
           "arrowcolor": "#2a3f5f",
           "arrowhead": 0,
           "arrowwidth": 1
          },
          "autotypenumbers": "strict",
          "coloraxis": {
           "colorbar": {
            "outlinewidth": 0,
            "ticks": ""
           }
          },
          "colorscale": {
           "diverging": [
            [
             0,
             "#8e0152"
            ],
            [
             0.1,
             "#c51b7d"
            ],
            [
             0.2,
             "#de77ae"
            ],
            [
             0.3,
             "#f1b6da"
            ],
            [
             0.4,
             "#fde0ef"
            ],
            [
             0.5,
             "#f7f7f7"
            ],
            [
             0.6,
             "#e6f5d0"
            ],
            [
             0.7,
             "#b8e186"
            ],
            [
             0.8,
             "#7fbc41"
            ],
            [
             0.9,
             "#4d9221"
            ],
            [
             1,
             "#276419"
            ]
           ],
           "sequential": [
            [
             0,
             "#0d0887"
            ],
            [
             0.1111111111111111,
             "#46039f"
            ],
            [
             0.2222222222222222,
             "#7201a8"
            ],
            [
             0.3333333333333333,
             "#9c179e"
            ],
            [
             0.4444444444444444,
             "#bd3786"
            ],
            [
             0.5555555555555556,
             "#d8576b"
            ],
            [
             0.6666666666666666,
             "#ed7953"
            ],
            [
             0.7777777777777778,
             "#fb9f3a"
            ],
            [
             0.8888888888888888,
             "#fdca26"
            ],
            [
             1,
             "#f0f921"
            ]
           ],
           "sequentialminus": [
            [
             0,
             "#0d0887"
            ],
            [
             0.1111111111111111,
             "#46039f"
            ],
            [
             0.2222222222222222,
             "#7201a8"
            ],
            [
             0.3333333333333333,
             "#9c179e"
            ],
            [
             0.4444444444444444,
             "#bd3786"
            ],
            [
             0.5555555555555556,
             "#d8576b"
            ],
            [
             0.6666666666666666,
             "#ed7953"
            ],
            [
             0.7777777777777778,
             "#fb9f3a"
            ],
            [
             0.8888888888888888,
             "#fdca26"
            ],
            [
             1,
             "#f0f921"
            ]
           ]
          },
          "colorway": [
           "#636efa",
           "#EF553B",
           "#00cc96",
           "#ab63fa",
           "#FFA15A",
           "#19d3f3",
           "#FF6692",
           "#B6E880",
           "#FF97FF",
           "#FECB52"
          ],
          "font": {
           "color": "#2a3f5f"
          },
          "geo": {
           "bgcolor": "white",
           "lakecolor": "white",
           "landcolor": "#E5ECF6",
           "showlakes": true,
           "showland": true,
           "subunitcolor": "white"
          },
          "hoverlabel": {
           "align": "left"
          },
          "hovermode": "closest",
          "mapbox": {
           "style": "light"
          },
          "paper_bgcolor": "white",
          "plot_bgcolor": "#E5ECF6",
          "polar": {
           "angularaxis": {
            "gridcolor": "white",
            "linecolor": "white",
            "ticks": ""
           },
           "bgcolor": "#E5ECF6",
           "radialaxis": {
            "gridcolor": "white",
            "linecolor": "white",
            "ticks": ""
           }
          },
          "scene": {
           "xaxis": {
            "backgroundcolor": "#E5ECF6",
            "gridcolor": "white",
            "gridwidth": 2,
            "linecolor": "white",
            "showbackground": true,
            "ticks": "",
            "zerolinecolor": "white"
           },
           "yaxis": {
            "backgroundcolor": "#E5ECF6",
            "gridcolor": "white",
            "gridwidth": 2,
            "linecolor": "white",
            "showbackground": true,
            "ticks": "",
            "zerolinecolor": "white"
           },
           "zaxis": {
            "backgroundcolor": "#E5ECF6",
            "gridcolor": "white",
            "gridwidth": 2,
            "linecolor": "white",
            "showbackground": true,
            "ticks": "",
            "zerolinecolor": "white"
           }
          },
          "shapedefaults": {
           "line": {
            "color": "#2a3f5f"
           }
          },
          "ternary": {
           "aaxis": {
            "gridcolor": "white",
            "linecolor": "white",
            "ticks": ""
           },
           "baxis": {
            "gridcolor": "white",
            "linecolor": "white",
            "ticks": ""
           },
           "bgcolor": "#E5ECF6",
           "caxis": {
            "gridcolor": "white",
            "linecolor": "white",
            "ticks": ""
           }
          },
          "title": {
           "x": 0.05
          },
          "xaxis": {
           "automargin": true,
           "gridcolor": "white",
           "linecolor": "white",
           "ticks": "",
           "title": {
            "standoff": 15
           },
           "zerolinecolor": "white",
           "zerolinewidth": 2
          },
          "yaxis": {
           "automargin": true,
           "gridcolor": "white",
           "linecolor": "white",
           "ticks": "",
           "title": {
            "standoff": 15
           },
           "zerolinecolor": "white",
           "zerolinewidth": 2
          }
         }
        },
        "title": {
         "font": {
          "color": "#D9D9D9"
         },
         "text": "월별 승차승객수 변화 비율"
        },
        "xaxis": {
         "gridcolor": "#434343",
         "showgrid": true,
         "tickfont": {
          "color": "#C2C2C2"
         },
         "title": {
          "font": {
           "color": "#D9D9D9"
          },
          "text": ""
         },
         "zerolinecolor": "#666570"
        },
        "yaxis": {
         "gridcolor": "#434343",
         "showgrid": true,
         "tickfont": {
          "color": "#C2C2C2"
         },
         "title": {
          "font": {
           "color": "#D9D9D9"
          },
          "text": ""
         },
         "zerolinecolor": "#666570"
        }
       }
      },
      "text/html": [
       "<div>                            <div id=\"3c27262f-9059-4b11-bddd-76942c17f76b\" class=\"plotly-graph-div\" style=\"height:525px; width:100%;\"></div>            <script type=\"text/javascript\">                require([\"plotly\"], function(Plotly) {                    window.PLOTLYENV=window.PLOTLYENV || {};\n",
       "                    window.PLOTLYENV.BASE_URL='https://plot.ly';                                    if (document.getElementById(\"3c27262f-9059-4b11-bddd-76942c17f76b\")) {                    Plotly.newPlot(                        \"3c27262f-9059-4b11-bddd-76942c17f76b\",                        [{\"marker\":{\"color\":\"rgba(255, 153, 51, 0.6)\",\"line\":{\"color\":\"rgba(255, 153, 51, 1.0)\",\"width\":1}},\"name\":\"\\uc6d4\\ubcc4\\uc2b9\\ucc28\\ucd1d\\uc2b9\\uac1d\\uc218\\ubcc0\\ud654\\ub7c9\\ube44\\uc728(%)\",\"orientation\":\"v\",\"text\":\"\",\"type\":\"bar\",\"x\":[\"'2016-01\",\"'2016-02\",\"'2016-03\",\"'2016-04\",\"'2016-05\",\"'2016-06\",\"'2016-07\",\"'2016-08\",\"'2016-09\",\"'2016-10\",\"'2016-11\",\"'2016-12\",\"'2017-01\",\"'2017-02\",\"'2017-03\",\"'2017-04\",\"'2017-05\",\"'2017-06\",\"'2017-07\",\"'2017-08\",\"'2017-09\",\"'2017-10\",\"'2017-11\",\"'2017-12\",\"'2018-01\",\"'2018-02\",\"'2018-03\",\"'2018-04\",\"'2018-05\",\"'2018-06\",\"'2018-07\",\"'2018-08\",\"'2018-09\",\"'2018-10\",\"'2018-11\",\"'2018-12\",\"'2019-01\",\"'2019-02\",\"'2019-03\",\"'2019-04\",\"'2019-05\",\"'2019-06\",\"'2019-07\",\"'2019-08\",\"'2019-09\",\"'2019-10\",\"'2019-11\",\"'2019-12\",\"'2020-01\",\"'2020-02\",\"'2020-03\",\"'2020-04\",\"'2020-05\",\"'2020-06\",\"'2020-07\",\"'2020-08\",\"'2020-09\",\"'2020-10\",\"'2020-11\",\"'2020-12\",\"'2021-01\",\"'2021-02\",\"'2021-03\",\"'2021-04\",\"'2021-05\",\"'2021-06\",\"'2021-07\",\"'2021-08\"],\"y\":[-10.24288630567473,-7.466820490464018,22.066187225594987,-3.396671936481318,2.54782591844995,-4.934554451696417,-1.4131273463178275,-2.4024582929639053,-1.631658142221341,9.009717647856618,-0.6787308005709729,1.6020092519063698,-11.33628802638975,-0.27535795653581024,15.733094282975724,-3.9626615312213813,0.024431394952750384,-2.865098254299556,-2.9340630473903175,-0.4835256800714135,6.765717147019245,-8.77841086498283,9.629884642748094,0.1600716198376092,-6.521197619198171,-11.510840340523485,24.42246483387397,-2.6879482437861575,2.743319346947074,-6.727395381231213,1.0053720941796518,-3.346334509173269,-2.639755536696104,13.03098555870948,-1.1786754491695868,-2.20055615798024,-2.6273457753129654,-14.204410231952764,22.842503753313643,0.9046937056529942,3.1405615558108897,-8.955037541949922,3.479084638093493,-4.179713137407677,-2.5792582383934697,12.19359795080835,-3.2558541573574225,0.9860417623593125,-11.438270054668765,-18.36930345187589,-17.629033417838492,6.752267514164672,10.336165249823221,4.299298185027506,6.925641568178771,-16.62285322315214,-5.482138466424781,17.032475783279843,1.5457116947558747,-18.726306930562973,1.798650286807019,0.5737913971542595,25.25623103934716,-0.7996538430401514,-1.9808541154544248,2.8149737401530133,-10.842501464493417,-4.218424929392826]}],                        {\"legend\":{\"bgcolor\":\"#1A1A1C\",\"font\":{\"color\":\"#D9D9D9\"}},\"paper_bgcolor\":\"#1A1A1C\",\"plot_bgcolor\":\"#1A1A1C\",\"template\":{\"data\":{\"bar\":[{\"error_x\":{\"color\":\"#2a3f5f\"},\"error_y\":{\"color\":\"#2a3f5f\"},\"marker\":{\"line\":{\"color\":\"#E5ECF6\",\"width\":0.5},\"pattern\":{\"fillmode\":\"overlay\",\"size\":10,\"solidity\":0.2}},\"type\":\"bar\"}],\"barpolar\":[{\"marker\":{\"line\":{\"color\":\"#E5ECF6\",\"width\":0.5},\"pattern\":{\"fillmode\":\"overlay\",\"size\":10,\"solidity\":0.2}},\"type\":\"barpolar\"}],\"carpet\":[{\"aaxis\":{\"endlinecolor\":\"#2a3f5f\",\"gridcolor\":\"white\",\"linecolor\":\"white\",\"minorgridcolor\":\"white\",\"startlinecolor\":\"#2a3f5f\"},\"baxis\":{\"endlinecolor\":\"#2a3f5f\",\"gridcolor\":\"white\",\"linecolor\":\"white\",\"minorgridcolor\":\"white\",\"startlinecolor\":\"#2a3f5f\"},\"type\":\"carpet\"}],\"choropleth\":[{\"colorbar\":{\"outlinewidth\":0,\"ticks\":\"\"},\"type\":\"choropleth\"}],\"contour\":[{\"colorbar\":{\"outlinewidth\":0,\"ticks\":\"\"},\"colorscale\":[[0.0,\"#0d0887\"],[0.1111111111111111,\"#46039f\"],[0.2222222222222222,\"#7201a8\"],[0.3333333333333333,\"#9c179e\"],[0.4444444444444444,\"#bd3786\"],[0.5555555555555556,\"#d8576b\"],[0.6666666666666666,\"#ed7953\"],[0.7777777777777778,\"#fb9f3a\"],[0.8888888888888888,\"#fdca26\"],[1.0,\"#f0f921\"]],\"type\":\"contour\"}],\"contourcarpet\":[{\"colorbar\":{\"outlinewidth\":0,\"ticks\":\"\"},\"type\":\"contourcarpet\"}],\"heatmap\":[{\"colorbar\":{\"outlinewidth\":0,\"ticks\":\"\"},\"colorscale\":[[0.0,\"#0d0887\"],[0.1111111111111111,\"#46039f\"],[0.2222222222222222,\"#7201a8\"],[0.3333333333333333,\"#9c179e\"],[0.4444444444444444,\"#bd3786\"],[0.5555555555555556,\"#d8576b\"],[0.6666666666666666,\"#ed7953\"],[0.7777777777777778,\"#fb9f3a\"],[0.8888888888888888,\"#fdca26\"],[1.0,\"#f0f921\"]],\"type\":\"heatmap\"}],\"heatmapgl\":[{\"colorbar\":{\"outlinewidth\":0,\"ticks\":\"\"},\"colorscale\":[[0.0,\"#0d0887\"],[0.1111111111111111,\"#46039f\"],[0.2222222222222222,\"#7201a8\"],[0.3333333333333333,\"#9c179e\"],[0.4444444444444444,\"#bd3786\"],[0.5555555555555556,\"#d8576b\"],[0.6666666666666666,\"#ed7953\"],[0.7777777777777778,\"#fb9f3a\"],[0.8888888888888888,\"#fdca26\"],[1.0,\"#f0f921\"]],\"type\":\"heatmapgl\"}],\"histogram\":[{\"marker\":{\"pattern\":{\"fillmode\":\"overlay\",\"size\":10,\"solidity\":0.2}},\"type\":\"histogram\"}],\"histogram2d\":[{\"colorbar\":{\"outlinewidth\":0,\"ticks\":\"\"},\"colorscale\":[[0.0,\"#0d0887\"],[0.1111111111111111,\"#46039f\"],[0.2222222222222222,\"#7201a8\"],[0.3333333333333333,\"#9c179e\"],[0.4444444444444444,\"#bd3786\"],[0.5555555555555556,\"#d8576b\"],[0.6666666666666666,\"#ed7953\"],[0.7777777777777778,\"#fb9f3a\"],[0.8888888888888888,\"#fdca26\"],[1.0,\"#f0f921\"]],\"type\":\"histogram2d\"}],\"histogram2dcontour\":[{\"colorbar\":{\"outlinewidth\":0,\"ticks\":\"\"},\"colorscale\":[[0.0,\"#0d0887\"],[0.1111111111111111,\"#46039f\"],[0.2222222222222222,\"#7201a8\"],[0.3333333333333333,\"#9c179e\"],[0.4444444444444444,\"#bd3786\"],[0.5555555555555556,\"#d8576b\"],[0.6666666666666666,\"#ed7953\"],[0.7777777777777778,\"#fb9f3a\"],[0.8888888888888888,\"#fdca26\"],[1.0,\"#f0f921\"]],\"type\":\"histogram2dcontour\"}],\"mesh3d\":[{\"colorbar\":{\"outlinewidth\":0,\"ticks\":\"\"},\"type\":\"mesh3d\"}],\"parcoords\":[{\"line\":{\"colorbar\":{\"outlinewidth\":0,\"ticks\":\"\"}},\"type\":\"parcoords\"}],\"pie\":[{\"automargin\":true,\"type\":\"pie\"}],\"scatter\":[{\"marker\":{\"colorbar\":{\"outlinewidth\":0,\"ticks\":\"\"}},\"type\":\"scatter\"}],\"scatter3d\":[{\"line\":{\"colorbar\":{\"outlinewidth\":0,\"ticks\":\"\"}},\"marker\":{\"colorbar\":{\"outlinewidth\":0,\"ticks\":\"\"}},\"type\":\"scatter3d\"}],\"scattercarpet\":[{\"marker\":{\"colorbar\":{\"outlinewidth\":0,\"ticks\":\"\"}},\"type\":\"scattercarpet\"}],\"scattergeo\":[{\"marker\":{\"colorbar\":{\"outlinewidth\":0,\"ticks\":\"\"}},\"type\":\"scattergeo\"}],\"scattergl\":[{\"marker\":{\"colorbar\":{\"outlinewidth\":0,\"ticks\":\"\"}},\"type\":\"scattergl\"}],\"scattermapbox\":[{\"marker\":{\"colorbar\":{\"outlinewidth\":0,\"ticks\":\"\"}},\"type\":\"scattermapbox\"}],\"scatterpolar\":[{\"marker\":{\"colorbar\":{\"outlinewidth\":0,\"ticks\":\"\"}},\"type\":\"scatterpolar\"}],\"scatterpolargl\":[{\"marker\":{\"colorbar\":{\"outlinewidth\":0,\"ticks\":\"\"}},\"type\":\"scatterpolargl\"}],\"scatterternary\":[{\"marker\":{\"colorbar\":{\"outlinewidth\":0,\"ticks\":\"\"}},\"type\":\"scatterternary\"}],\"surface\":[{\"colorbar\":{\"outlinewidth\":0,\"ticks\":\"\"},\"colorscale\":[[0.0,\"#0d0887\"],[0.1111111111111111,\"#46039f\"],[0.2222222222222222,\"#7201a8\"],[0.3333333333333333,\"#9c179e\"],[0.4444444444444444,\"#bd3786\"],[0.5555555555555556,\"#d8576b\"],[0.6666666666666666,\"#ed7953\"],[0.7777777777777778,\"#fb9f3a\"],[0.8888888888888888,\"#fdca26\"],[1.0,\"#f0f921\"]],\"type\":\"surface\"}],\"table\":[{\"cells\":{\"fill\":{\"color\":\"#EBF0F8\"},\"line\":{\"color\":\"white\"}},\"header\":{\"fill\":{\"color\":\"#C8D4E3\"},\"line\":{\"color\":\"white\"}},\"type\":\"table\"}]},\"layout\":{\"annotationdefaults\":{\"arrowcolor\":\"#2a3f5f\",\"arrowhead\":0,\"arrowwidth\":1},\"autotypenumbers\":\"strict\",\"coloraxis\":{\"colorbar\":{\"outlinewidth\":0,\"ticks\":\"\"}},\"colorscale\":{\"diverging\":[[0,\"#8e0152\"],[0.1,\"#c51b7d\"],[0.2,\"#de77ae\"],[0.3,\"#f1b6da\"],[0.4,\"#fde0ef\"],[0.5,\"#f7f7f7\"],[0.6,\"#e6f5d0\"],[0.7,\"#b8e186\"],[0.8,\"#7fbc41\"],[0.9,\"#4d9221\"],[1,\"#276419\"]],\"sequential\":[[0.0,\"#0d0887\"],[0.1111111111111111,\"#46039f\"],[0.2222222222222222,\"#7201a8\"],[0.3333333333333333,\"#9c179e\"],[0.4444444444444444,\"#bd3786\"],[0.5555555555555556,\"#d8576b\"],[0.6666666666666666,\"#ed7953\"],[0.7777777777777778,\"#fb9f3a\"],[0.8888888888888888,\"#fdca26\"],[1.0,\"#f0f921\"]],\"sequentialminus\":[[0.0,\"#0d0887\"],[0.1111111111111111,\"#46039f\"],[0.2222222222222222,\"#7201a8\"],[0.3333333333333333,\"#9c179e\"],[0.4444444444444444,\"#bd3786\"],[0.5555555555555556,\"#d8576b\"],[0.6666666666666666,\"#ed7953\"],[0.7777777777777778,\"#fb9f3a\"],[0.8888888888888888,\"#fdca26\"],[1.0,\"#f0f921\"]]},\"colorway\":[\"#636efa\",\"#EF553B\",\"#00cc96\",\"#ab63fa\",\"#FFA15A\",\"#19d3f3\",\"#FF6692\",\"#B6E880\",\"#FF97FF\",\"#FECB52\"],\"font\":{\"color\":\"#2a3f5f\"},\"geo\":{\"bgcolor\":\"white\",\"lakecolor\":\"white\",\"landcolor\":\"#E5ECF6\",\"showlakes\":true,\"showland\":true,\"subunitcolor\":\"white\"},\"hoverlabel\":{\"align\":\"left\"},\"hovermode\":\"closest\",\"mapbox\":{\"style\":\"light\"},\"paper_bgcolor\":\"white\",\"plot_bgcolor\":\"#E5ECF6\",\"polar\":{\"angularaxis\":{\"gridcolor\":\"white\",\"linecolor\":\"white\",\"ticks\":\"\"},\"bgcolor\":\"#E5ECF6\",\"radialaxis\":{\"gridcolor\":\"white\",\"linecolor\":\"white\",\"ticks\":\"\"}},\"scene\":{\"xaxis\":{\"backgroundcolor\":\"#E5ECF6\",\"gridcolor\":\"white\",\"gridwidth\":2,\"linecolor\":\"white\",\"showbackground\":true,\"ticks\":\"\",\"zerolinecolor\":\"white\"},\"yaxis\":{\"backgroundcolor\":\"#E5ECF6\",\"gridcolor\":\"white\",\"gridwidth\":2,\"linecolor\":\"white\",\"showbackground\":true,\"ticks\":\"\",\"zerolinecolor\":\"white\"},\"zaxis\":{\"backgroundcolor\":\"#E5ECF6\",\"gridcolor\":\"white\",\"gridwidth\":2,\"linecolor\":\"white\",\"showbackground\":true,\"ticks\":\"\",\"zerolinecolor\":\"white\"}},\"shapedefaults\":{\"line\":{\"color\":\"#2a3f5f\"}},\"ternary\":{\"aaxis\":{\"gridcolor\":\"white\",\"linecolor\":\"white\",\"ticks\":\"\"},\"baxis\":{\"gridcolor\":\"white\",\"linecolor\":\"white\",\"ticks\":\"\"},\"bgcolor\":\"#E5ECF6\",\"caxis\":{\"gridcolor\":\"white\",\"linecolor\":\"white\",\"ticks\":\"\"}},\"title\":{\"x\":0.05},\"xaxis\":{\"automargin\":true,\"gridcolor\":\"white\",\"linecolor\":\"white\",\"ticks\":\"\",\"title\":{\"standoff\":15},\"zerolinecolor\":\"white\",\"zerolinewidth\":2},\"yaxis\":{\"automargin\":true,\"gridcolor\":\"white\",\"linecolor\":\"white\",\"ticks\":\"\",\"title\":{\"standoff\":15},\"zerolinecolor\":\"white\",\"zerolinewidth\":2}}},\"title\":{\"font\":{\"color\":\"#D9D9D9\"},\"text\":\"\\uc6d4\\ubcc4 \\uc2b9\\ucc28\\uc2b9\\uac1d\\uc218 \\ubcc0\\ud654 \\ube44\\uc728\"},\"xaxis\":{\"gridcolor\":\"#434343\",\"showgrid\":true,\"tickfont\":{\"color\":\"#C2C2C2\"},\"title\":{\"font\":{\"color\":\"#D9D9D9\"},\"text\":\"\"},\"zerolinecolor\":\"#666570\"},\"yaxis\":{\"gridcolor\":\"#434343\",\"showgrid\":true,\"tickfont\":{\"color\":\"#C2C2C2\"},\"title\":{\"font\":{\"color\":\"#D9D9D9\"},\"text\":\"\"},\"zerolinecolor\":\"#666570\"}},                        {\"showLink\": true, \"linkText\": \"Export to plot.ly\", \"plotlyServerURL\": \"https://plot.ly\", \"responsive\": true}                    ).then(function(){\n",
       "                            \n",
       "var gd = document.getElementById('3c27262f-9059-4b11-bddd-76942c17f76b');\n",
       "var x = new MutationObserver(function (mutations, observer) {{\n",
       "        var display = window.getComputedStyle(gd).display;\n",
       "        if (!display || display === 'none') {{\n",
       "            console.log([gd, 'removed!']);\n",
       "            Plotly.purge(gd);\n",
       "            observer.disconnect();\n",
       "        }}\n",
       "}});\n",
       "\n",
       "// Listen for the removal of the full notebook cells\n",
       "var notebookContainer = gd.closest('#notebook-container');\n",
       "if (notebookContainer) {{\n",
       "    x.observe(notebookContainer, {childList: true});\n",
       "}}\n",
       "\n",
       "// Listen for the clearing of the current output cell\n",
       "var outputEl = gd.closest('.output');\n",
       "if (outputEl) {{\n",
       "    x.observe(outputEl, {childList: true});\n",
       "}}\n",
       "\n",
       "                        })                };                });            </script>        </div>"
      ]
     },
     "metadata": {},
     "output_type": "display_data"
    }
   ],
   "source": [
    "# 바형 그래프\n",
    "sub.iloc[12:,:].iplot(kind='bar', x='date', y=['월별승차총승객수변화량비율(%)'],\n",
    "          title='월별 승차승객수 변화 비율', theme='space')"
   ]
  },
  {
   "cell_type": "code",
   "execution_count": 87,
   "id": "81d3f09e",
   "metadata": {},
   "outputs": [
    {
     "data": {
      "application/vnd.plotly.v1+json": {
       "config": {
        "linkText": "Export to plot.ly",
        "plotlyServerURL": "https://plot.ly",
        "showLink": true
       },
       "data": [
        {
         "line": {
          "color": "rgba(255, 153, 51, 1.0)",
          "dash": "solid",
          "shape": "linear",
          "width": 1.3
         },
         "mode": "lines",
         "name": "월별승차총승객수변화량비율(%)",
         "text": "",
         "type": "scatter",
         "x": [
          "'2016-01",
          "'2016-02",
          "'2016-03",
          "'2016-04",
          "'2016-05",
          "'2016-06",
          "'2016-07",
          "'2016-08",
          "'2016-09",
          "'2016-10",
          "'2016-11",
          "'2016-12",
          "'2017-01",
          "'2017-02",
          "'2017-03",
          "'2017-04",
          "'2017-05",
          "'2017-06",
          "'2017-07",
          "'2017-08",
          "'2017-09",
          "'2017-10",
          "'2017-11",
          "'2017-12",
          "'2018-01",
          "'2018-02",
          "'2018-03",
          "'2018-04",
          "'2018-05",
          "'2018-06",
          "'2018-07",
          "'2018-08",
          "'2018-09",
          "'2018-10",
          "'2018-11",
          "'2018-12",
          "'2019-01",
          "'2019-02",
          "'2019-03",
          "'2019-04",
          "'2019-05",
          "'2019-06",
          "'2019-07",
          "'2019-08",
          "'2019-09",
          "'2019-10",
          "'2019-11",
          "'2019-12",
          "'2020-01",
          "'2020-02",
          "'2020-03",
          "'2020-04",
          "'2020-05",
          "'2020-06",
          "'2020-07",
          "'2020-08",
          "'2020-09",
          "'2020-10",
          "'2020-11",
          "'2020-12",
          "'2021-01",
          "'2021-02",
          "'2021-03",
          "'2021-04",
          "'2021-05",
          "'2021-06",
          "'2021-07",
          "'2021-08"
         ],
         "y": [
          -10.24288630567473,
          -7.466820490464018,
          22.066187225594987,
          -3.396671936481318,
          2.54782591844995,
          -4.934554451696417,
          -1.4131273463178275,
          -2.4024582929639053,
          -1.631658142221341,
          9.009717647856618,
          -0.6787308005709729,
          1.6020092519063698,
          -11.33628802638975,
          -0.27535795653581024,
          15.733094282975724,
          -3.9626615312213813,
          0.024431394952750384,
          -2.865098254299556,
          -2.9340630473903175,
          -0.4835256800714135,
          6.765717147019245,
          -8.77841086498283,
          9.629884642748094,
          0.1600716198376092,
          -6.521197619198171,
          -11.510840340523485,
          24.42246483387397,
          -2.6879482437861575,
          2.743319346947074,
          -6.727395381231213,
          1.0053720941796518,
          -3.346334509173269,
          -2.639755536696104,
          13.03098555870948,
          -1.1786754491695868,
          -2.20055615798024,
          -2.6273457753129654,
          -14.204410231952764,
          22.842503753313643,
          0.9046937056529942,
          3.1405615558108897,
          -8.955037541949922,
          3.479084638093493,
          -4.179713137407677,
          -2.5792582383934697,
          12.19359795080835,
          -3.2558541573574225,
          0.9860417623593125,
          -11.438270054668765,
          -18.36930345187589,
          -17.629033417838492,
          6.752267514164672,
          10.336165249823221,
          4.299298185027506,
          6.925641568178771,
          -16.62285322315214,
          -5.482138466424781,
          17.032475783279843,
          1.5457116947558747,
          -18.726306930562973,
          1.798650286807019,
          0.5737913971542595,
          25.25623103934716,
          -0.7996538430401514,
          -1.9808541154544248,
          2.8149737401530133,
          -10.842501464493417,
          -4.218424929392826
         ]
        }
       ],
       "layout": {
        "legend": {
         "bgcolor": "#1A1A1C",
         "font": {
          "color": "#D9D9D9"
         }
        },
        "paper_bgcolor": "#1A1A1C",
        "plot_bgcolor": "#1A1A1C",
        "template": {
         "data": {
          "bar": [
           {
            "error_x": {
             "color": "#2a3f5f"
            },
            "error_y": {
             "color": "#2a3f5f"
            },
            "marker": {
             "line": {
              "color": "#E5ECF6",
              "width": 0.5
             },
             "pattern": {
              "fillmode": "overlay",
              "size": 10,
              "solidity": 0.2
             }
            },
            "type": "bar"
           }
          ],
          "barpolar": [
           {
            "marker": {
             "line": {
              "color": "#E5ECF6",
              "width": 0.5
             },
             "pattern": {
              "fillmode": "overlay",
              "size": 10,
              "solidity": 0.2
             }
            },
            "type": "barpolar"
           }
          ],
          "carpet": [
           {
            "aaxis": {
             "endlinecolor": "#2a3f5f",
             "gridcolor": "white",
             "linecolor": "white",
             "minorgridcolor": "white",
             "startlinecolor": "#2a3f5f"
            },
            "baxis": {
             "endlinecolor": "#2a3f5f",
             "gridcolor": "white",
             "linecolor": "white",
             "minorgridcolor": "white",
             "startlinecolor": "#2a3f5f"
            },
            "type": "carpet"
           }
          ],
          "choropleth": [
           {
            "colorbar": {
             "outlinewidth": 0,
             "ticks": ""
            },
            "type": "choropleth"
           }
          ],
          "contour": [
           {
            "colorbar": {
             "outlinewidth": 0,
             "ticks": ""
            },
            "colorscale": [
             [
              0,
              "#0d0887"
             ],
             [
              0.1111111111111111,
              "#46039f"
             ],
             [
              0.2222222222222222,
              "#7201a8"
             ],
             [
              0.3333333333333333,
              "#9c179e"
             ],
             [
              0.4444444444444444,
              "#bd3786"
             ],
             [
              0.5555555555555556,
              "#d8576b"
             ],
             [
              0.6666666666666666,
              "#ed7953"
             ],
             [
              0.7777777777777778,
              "#fb9f3a"
             ],
             [
              0.8888888888888888,
              "#fdca26"
             ],
             [
              1,
              "#f0f921"
             ]
            ],
            "type": "contour"
           }
          ],
          "contourcarpet": [
           {
            "colorbar": {
             "outlinewidth": 0,
             "ticks": ""
            },
            "type": "contourcarpet"
           }
          ],
          "heatmap": [
           {
            "colorbar": {
             "outlinewidth": 0,
             "ticks": ""
            },
            "colorscale": [
             [
              0,
              "#0d0887"
             ],
             [
              0.1111111111111111,
              "#46039f"
             ],
             [
              0.2222222222222222,
              "#7201a8"
             ],
             [
              0.3333333333333333,
              "#9c179e"
             ],
             [
              0.4444444444444444,
              "#bd3786"
             ],
             [
              0.5555555555555556,
              "#d8576b"
             ],
             [
              0.6666666666666666,
              "#ed7953"
             ],
             [
              0.7777777777777778,
              "#fb9f3a"
             ],
             [
              0.8888888888888888,
              "#fdca26"
             ],
             [
              1,
              "#f0f921"
             ]
            ],
            "type": "heatmap"
           }
          ],
          "heatmapgl": [
           {
            "colorbar": {
             "outlinewidth": 0,
             "ticks": ""
            },
            "colorscale": [
             [
              0,
              "#0d0887"
             ],
             [
              0.1111111111111111,
              "#46039f"
             ],
             [
              0.2222222222222222,
              "#7201a8"
             ],
             [
              0.3333333333333333,
              "#9c179e"
             ],
             [
              0.4444444444444444,
              "#bd3786"
             ],
             [
              0.5555555555555556,
              "#d8576b"
             ],
             [
              0.6666666666666666,
              "#ed7953"
             ],
             [
              0.7777777777777778,
              "#fb9f3a"
             ],
             [
              0.8888888888888888,
              "#fdca26"
             ],
             [
              1,
              "#f0f921"
             ]
            ],
            "type": "heatmapgl"
           }
          ],
          "histogram": [
           {
            "marker": {
             "pattern": {
              "fillmode": "overlay",
              "size": 10,
              "solidity": 0.2
             }
            },
            "type": "histogram"
           }
          ],
          "histogram2d": [
           {
            "colorbar": {
             "outlinewidth": 0,
             "ticks": ""
            },
            "colorscale": [
             [
              0,
              "#0d0887"
             ],
             [
              0.1111111111111111,
              "#46039f"
             ],
             [
              0.2222222222222222,
              "#7201a8"
             ],
             [
              0.3333333333333333,
              "#9c179e"
             ],
             [
              0.4444444444444444,
              "#bd3786"
             ],
             [
              0.5555555555555556,
              "#d8576b"
             ],
             [
              0.6666666666666666,
              "#ed7953"
             ],
             [
              0.7777777777777778,
              "#fb9f3a"
             ],
             [
              0.8888888888888888,
              "#fdca26"
             ],
             [
              1,
              "#f0f921"
             ]
            ],
            "type": "histogram2d"
           }
          ],
          "histogram2dcontour": [
           {
            "colorbar": {
             "outlinewidth": 0,
             "ticks": ""
            },
            "colorscale": [
             [
              0,
              "#0d0887"
             ],
             [
              0.1111111111111111,
              "#46039f"
             ],
             [
              0.2222222222222222,
              "#7201a8"
             ],
             [
              0.3333333333333333,
              "#9c179e"
             ],
             [
              0.4444444444444444,
              "#bd3786"
             ],
             [
              0.5555555555555556,
              "#d8576b"
             ],
             [
              0.6666666666666666,
              "#ed7953"
             ],
             [
              0.7777777777777778,
              "#fb9f3a"
             ],
             [
              0.8888888888888888,
              "#fdca26"
             ],
             [
              1,
              "#f0f921"
             ]
            ],
            "type": "histogram2dcontour"
           }
          ],
          "mesh3d": [
           {
            "colorbar": {
             "outlinewidth": 0,
             "ticks": ""
            },
            "type": "mesh3d"
           }
          ],
          "parcoords": [
           {
            "line": {
             "colorbar": {
              "outlinewidth": 0,
              "ticks": ""
             }
            },
            "type": "parcoords"
           }
          ],
          "pie": [
           {
            "automargin": true,
            "type": "pie"
           }
          ],
          "scatter": [
           {
            "marker": {
             "colorbar": {
              "outlinewidth": 0,
              "ticks": ""
             }
            },
            "type": "scatter"
           }
          ],
          "scatter3d": [
           {
            "line": {
             "colorbar": {
              "outlinewidth": 0,
              "ticks": ""
             }
            },
            "marker": {
             "colorbar": {
              "outlinewidth": 0,
              "ticks": ""
             }
            },
            "type": "scatter3d"
           }
          ],
          "scattercarpet": [
           {
            "marker": {
             "colorbar": {
              "outlinewidth": 0,
              "ticks": ""
             }
            },
            "type": "scattercarpet"
           }
          ],
          "scattergeo": [
           {
            "marker": {
             "colorbar": {
              "outlinewidth": 0,
              "ticks": ""
             }
            },
            "type": "scattergeo"
           }
          ],
          "scattergl": [
           {
            "marker": {
             "colorbar": {
              "outlinewidth": 0,
              "ticks": ""
             }
            },
            "type": "scattergl"
           }
          ],
          "scattermapbox": [
           {
            "marker": {
             "colorbar": {
              "outlinewidth": 0,
              "ticks": ""
             }
            },
            "type": "scattermapbox"
           }
          ],
          "scatterpolar": [
           {
            "marker": {
             "colorbar": {
              "outlinewidth": 0,
              "ticks": ""
             }
            },
            "type": "scatterpolar"
           }
          ],
          "scatterpolargl": [
           {
            "marker": {
             "colorbar": {
              "outlinewidth": 0,
              "ticks": ""
             }
            },
            "type": "scatterpolargl"
           }
          ],
          "scatterternary": [
           {
            "marker": {
             "colorbar": {
              "outlinewidth": 0,
              "ticks": ""
             }
            },
            "type": "scatterternary"
           }
          ],
          "surface": [
           {
            "colorbar": {
             "outlinewidth": 0,
             "ticks": ""
            },
            "colorscale": [
             [
              0,
              "#0d0887"
             ],
             [
              0.1111111111111111,
              "#46039f"
             ],
             [
              0.2222222222222222,
              "#7201a8"
             ],
             [
              0.3333333333333333,
              "#9c179e"
             ],
             [
              0.4444444444444444,
              "#bd3786"
             ],
             [
              0.5555555555555556,
              "#d8576b"
             ],
             [
              0.6666666666666666,
              "#ed7953"
             ],
             [
              0.7777777777777778,
              "#fb9f3a"
             ],
             [
              0.8888888888888888,
              "#fdca26"
             ],
             [
              1,
              "#f0f921"
             ]
            ],
            "type": "surface"
           }
          ],
          "table": [
           {
            "cells": {
             "fill": {
              "color": "#EBF0F8"
             },
             "line": {
              "color": "white"
             }
            },
            "header": {
             "fill": {
              "color": "#C8D4E3"
             },
             "line": {
              "color": "white"
             }
            },
            "type": "table"
           }
          ]
         },
         "layout": {
          "annotationdefaults": {
           "arrowcolor": "#2a3f5f",
           "arrowhead": 0,
           "arrowwidth": 1
          },
          "autotypenumbers": "strict",
          "coloraxis": {
           "colorbar": {
            "outlinewidth": 0,
            "ticks": ""
           }
          },
          "colorscale": {
           "diverging": [
            [
             0,
             "#8e0152"
            ],
            [
             0.1,
             "#c51b7d"
            ],
            [
             0.2,
             "#de77ae"
            ],
            [
             0.3,
             "#f1b6da"
            ],
            [
             0.4,
             "#fde0ef"
            ],
            [
             0.5,
             "#f7f7f7"
            ],
            [
             0.6,
             "#e6f5d0"
            ],
            [
             0.7,
             "#b8e186"
            ],
            [
             0.8,
             "#7fbc41"
            ],
            [
             0.9,
             "#4d9221"
            ],
            [
             1,
             "#276419"
            ]
           ],
           "sequential": [
            [
             0,
             "#0d0887"
            ],
            [
             0.1111111111111111,
             "#46039f"
            ],
            [
             0.2222222222222222,
             "#7201a8"
            ],
            [
             0.3333333333333333,
             "#9c179e"
            ],
            [
             0.4444444444444444,
             "#bd3786"
            ],
            [
             0.5555555555555556,
             "#d8576b"
            ],
            [
             0.6666666666666666,
             "#ed7953"
            ],
            [
             0.7777777777777778,
             "#fb9f3a"
            ],
            [
             0.8888888888888888,
             "#fdca26"
            ],
            [
             1,
             "#f0f921"
            ]
           ],
           "sequentialminus": [
            [
             0,
             "#0d0887"
            ],
            [
             0.1111111111111111,
             "#46039f"
            ],
            [
             0.2222222222222222,
             "#7201a8"
            ],
            [
             0.3333333333333333,
             "#9c179e"
            ],
            [
             0.4444444444444444,
             "#bd3786"
            ],
            [
             0.5555555555555556,
             "#d8576b"
            ],
            [
             0.6666666666666666,
             "#ed7953"
            ],
            [
             0.7777777777777778,
             "#fb9f3a"
            ],
            [
             0.8888888888888888,
             "#fdca26"
            ],
            [
             1,
             "#f0f921"
            ]
           ]
          },
          "colorway": [
           "#636efa",
           "#EF553B",
           "#00cc96",
           "#ab63fa",
           "#FFA15A",
           "#19d3f3",
           "#FF6692",
           "#B6E880",
           "#FF97FF",
           "#FECB52"
          ],
          "font": {
           "color": "#2a3f5f"
          },
          "geo": {
           "bgcolor": "white",
           "lakecolor": "white",
           "landcolor": "#E5ECF6",
           "showlakes": true,
           "showland": true,
           "subunitcolor": "white"
          },
          "hoverlabel": {
           "align": "left"
          },
          "hovermode": "closest",
          "mapbox": {
           "style": "light"
          },
          "paper_bgcolor": "white",
          "plot_bgcolor": "#E5ECF6",
          "polar": {
           "angularaxis": {
            "gridcolor": "white",
            "linecolor": "white",
            "ticks": ""
           },
           "bgcolor": "#E5ECF6",
           "radialaxis": {
            "gridcolor": "white",
            "linecolor": "white",
            "ticks": ""
           }
          },
          "scene": {
           "xaxis": {
            "backgroundcolor": "#E5ECF6",
            "gridcolor": "white",
            "gridwidth": 2,
            "linecolor": "white",
            "showbackground": true,
            "ticks": "",
            "zerolinecolor": "white"
           },
           "yaxis": {
            "backgroundcolor": "#E5ECF6",
            "gridcolor": "white",
            "gridwidth": 2,
            "linecolor": "white",
            "showbackground": true,
            "ticks": "",
            "zerolinecolor": "white"
           },
           "zaxis": {
            "backgroundcolor": "#E5ECF6",
            "gridcolor": "white",
            "gridwidth": 2,
            "linecolor": "white",
            "showbackground": true,
            "ticks": "",
            "zerolinecolor": "white"
           }
          },
          "shapedefaults": {
           "line": {
            "color": "#2a3f5f"
           }
          },
          "ternary": {
           "aaxis": {
            "gridcolor": "white",
            "linecolor": "white",
            "ticks": ""
           },
           "baxis": {
            "gridcolor": "white",
            "linecolor": "white",
            "ticks": ""
           },
           "bgcolor": "#E5ECF6",
           "caxis": {
            "gridcolor": "white",
            "linecolor": "white",
            "ticks": ""
           }
          },
          "title": {
           "x": 0.05
          },
          "xaxis": {
           "automargin": true,
           "gridcolor": "white",
           "linecolor": "white",
           "ticks": "",
           "title": {
            "standoff": 15
           },
           "zerolinecolor": "white",
           "zerolinewidth": 2
          },
          "yaxis": {
           "automargin": true,
           "gridcolor": "white",
           "linecolor": "white",
           "ticks": "",
           "title": {
            "standoff": 15
           },
           "zerolinecolor": "white",
           "zerolinewidth": 2
          }
         }
        },
        "title": {
         "font": {
          "color": "#D9D9D9"
         },
         "text": "월별 승차승객수 변화 비율"
        },
        "xaxis": {
         "gridcolor": "#434343",
         "showgrid": true,
         "tickfont": {
          "color": "#C2C2C2"
         },
         "title": {
          "font": {
           "color": "#D9D9D9"
          },
          "text": ""
         },
         "zerolinecolor": "#666570"
        },
        "yaxis": {
         "gridcolor": "#434343",
         "showgrid": true,
         "tickfont": {
          "color": "#C2C2C2"
         },
         "title": {
          "font": {
           "color": "#D9D9D9"
          },
          "text": ""
         },
         "zerolinecolor": "#666570"
        }
       }
      },
      "text/html": [
       "<div>                            <div id=\"8775049a-bd66-448f-bcb9-6d40b6f9d99e\" class=\"plotly-graph-div\" style=\"height:525px; width:100%;\"></div>            <script type=\"text/javascript\">                require([\"plotly\"], function(Plotly) {                    window.PLOTLYENV=window.PLOTLYENV || {};\n",
       "                    window.PLOTLYENV.BASE_URL='https://plot.ly';                                    if (document.getElementById(\"8775049a-bd66-448f-bcb9-6d40b6f9d99e\")) {                    Plotly.newPlot(                        \"8775049a-bd66-448f-bcb9-6d40b6f9d99e\",                        [{\"line\":{\"color\":\"rgba(255, 153, 51, 1.0)\",\"dash\":\"solid\",\"shape\":\"linear\",\"width\":1.3},\"mode\":\"lines\",\"name\":\"\\uc6d4\\ubcc4\\uc2b9\\ucc28\\ucd1d\\uc2b9\\uac1d\\uc218\\ubcc0\\ud654\\ub7c9\\ube44\\uc728(%)\",\"text\":\"\",\"type\":\"scatter\",\"x\":[\"'2016-01\",\"'2016-02\",\"'2016-03\",\"'2016-04\",\"'2016-05\",\"'2016-06\",\"'2016-07\",\"'2016-08\",\"'2016-09\",\"'2016-10\",\"'2016-11\",\"'2016-12\",\"'2017-01\",\"'2017-02\",\"'2017-03\",\"'2017-04\",\"'2017-05\",\"'2017-06\",\"'2017-07\",\"'2017-08\",\"'2017-09\",\"'2017-10\",\"'2017-11\",\"'2017-12\",\"'2018-01\",\"'2018-02\",\"'2018-03\",\"'2018-04\",\"'2018-05\",\"'2018-06\",\"'2018-07\",\"'2018-08\",\"'2018-09\",\"'2018-10\",\"'2018-11\",\"'2018-12\",\"'2019-01\",\"'2019-02\",\"'2019-03\",\"'2019-04\",\"'2019-05\",\"'2019-06\",\"'2019-07\",\"'2019-08\",\"'2019-09\",\"'2019-10\",\"'2019-11\",\"'2019-12\",\"'2020-01\",\"'2020-02\",\"'2020-03\",\"'2020-04\",\"'2020-05\",\"'2020-06\",\"'2020-07\",\"'2020-08\",\"'2020-09\",\"'2020-10\",\"'2020-11\",\"'2020-12\",\"'2021-01\",\"'2021-02\",\"'2021-03\",\"'2021-04\",\"'2021-05\",\"'2021-06\",\"'2021-07\",\"'2021-08\"],\"y\":[-10.24288630567473,-7.466820490464018,22.066187225594987,-3.396671936481318,2.54782591844995,-4.934554451696417,-1.4131273463178275,-2.4024582929639053,-1.631658142221341,9.009717647856618,-0.6787308005709729,1.6020092519063698,-11.33628802638975,-0.27535795653581024,15.733094282975724,-3.9626615312213813,0.024431394952750384,-2.865098254299556,-2.9340630473903175,-0.4835256800714135,6.765717147019245,-8.77841086498283,9.629884642748094,0.1600716198376092,-6.521197619198171,-11.510840340523485,24.42246483387397,-2.6879482437861575,2.743319346947074,-6.727395381231213,1.0053720941796518,-3.346334509173269,-2.639755536696104,13.03098555870948,-1.1786754491695868,-2.20055615798024,-2.6273457753129654,-14.204410231952764,22.842503753313643,0.9046937056529942,3.1405615558108897,-8.955037541949922,3.479084638093493,-4.179713137407677,-2.5792582383934697,12.19359795080835,-3.2558541573574225,0.9860417623593125,-11.438270054668765,-18.36930345187589,-17.629033417838492,6.752267514164672,10.336165249823221,4.299298185027506,6.925641568178771,-16.62285322315214,-5.482138466424781,17.032475783279843,1.5457116947558747,-18.726306930562973,1.798650286807019,0.5737913971542595,25.25623103934716,-0.7996538430401514,-1.9808541154544248,2.8149737401530133,-10.842501464493417,-4.218424929392826]}],                        {\"legend\":{\"bgcolor\":\"#1A1A1C\",\"font\":{\"color\":\"#D9D9D9\"}},\"paper_bgcolor\":\"#1A1A1C\",\"plot_bgcolor\":\"#1A1A1C\",\"template\":{\"data\":{\"bar\":[{\"error_x\":{\"color\":\"#2a3f5f\"},\"error_y\":{\"color\":\"#2a3f5f\"},\"marker\":{\"line\":{\"color\":\"#E5ECF6\",\"width\":0.5},\"pattern\":{\"fillmode\":\"overlay\",\"size\":10,\"solidity\":0.2}},\"type\":\"bar\"}],\"barpolar\":[{\"marker\":{\"line\":{\"color\":\"#E5ECF6\",\"width\":0.5},\"pattern\":{\"fillmode\":\"overlay\",\"size\":10,\"solidity\":0.2}},\"type\":\"barpolar\"}],\"carpet\":[{\"aaxis\":{\"endlinecolor\":\"#2a3f5f\",\"gridcolor\":\"white\",\"linecolor\":\"white\",\"minorgridcolor\":\"white\",\"startlinecolor\":\"#2a3f5f\"},\"baxis\":{\"endlinecolor\":\"#2a3f5f\",\"gridcolor\":\"white\",\"linecolor\":\"white\",\"minorgridcolor\":\"white\",\"startlinecolor\":\"#2a3f5f\"},\"type\":\"carpet\"}],\"choropleth\":[{\"colorbar\":{\"outlinewidth\":0,\"ticks\":\"\"},\"type\":\"choropleth\"}],\"contour\":[{\"colorbar\":{\"outlinewidth\":0,\"ticks\":\"\"},\"colorscale\":[[0.0,\"#0d0887\"],[0.1111111111111111,\"#46039f\"],[0.2222222222222222,\"#7201a8\"],[0.3333333333333333,\"#9c179e\"],[0.4444444444444444,\"#bd3786\"],[0.5555555555555556,\"#d8576b\"],[0.6666666666666666,\"#ed7953\"],[0.7777777777777778,\"#fb9f3a\"],[0.8888888888888888,\"#fdca26\"],[1.0,\"#f0f921\"]],\"type\":\"contour\"}],\"contourcarpet\":[{\"colorbar\":{\"outlinewidth\":0,\"ticks\":\"\"},\"type\":\"contourcarpet\"}],\"heatmap\":[{\"colorbar\":{\"outlinewidth\":0,\"ticks\":\"\"},\"colorscale\":[[0.0,\"#0d0887\"],[0.1111111111111111,\"#46039f\"],[0.2222222222222222,\"#7201a8\"],[0.3333333333333333,\"#9c179e\"],[0.4444444444444444,\"#bd3786\"],[0.5555555555555556,\"#d8576b\"],[0.6666666666666666,\"#ed7953\"],[0.7777777777777778,\"#fb9f3a\"],[0.8888888888888888,\"#fdca26\"],[1.0,\"#f0f921\"]],\"type\":\"heatmap\"}],\"heatmapgl\":[{\"colorbar\":{\"outlinewidth\":0,\"ticks\":\"\"},\"colorscale\":[[0.0,\"#0d0887\"],[0.1111111111111111,\"#46039f\"],[0.2222222222222222,\"#7201a8\"],[0.3333333333333333,\"#9c179e\"],[0.4444444444444444,\"#bd3786\"],[0.5555555555555556,\"#d8576b\"],[0.6666666666666666,\"#ed7953\"],[0.7777777777777778,\"#fb9f3a\"],[0.8888888888888888,\"#fdca26\"],[1.0,\"#f0f921\"]],\"type\":\"heatmapgl\"}],\"histogram\":[{\"marker\":{\"pattern\":{\"fillmode\":\"overlay\",\"size\":10,\"solidity\":0.2}},\"type\":\"histogram\"}],\"histogram2d\":[{\"colorbar\":{\"outlinewidth\":0,\"ticks\":\"\"},\"colorscale\":[[0.0,\"#0d0887\"],[0.1111111111111111,\"#46039f\"],[0.2222222222222222,\"#7201a8\"],[0.3333333333333333,\"#9c179e\"],[0.4444444444444444,\"#bd3786\"],[0.5555555555555556,\"#d8576b\"],[0.6666666666666666,\"#ed7953\"],[0.7777777777777778,\"#fb9f3a\"],[0.8888888888888888,\"#fdca26\"],[1.0,\"#f0f921\"]],\"type\":\"histogram2d\"}],\"histogram2dcontour\":[{\"colorbar\":{\"outlinewidth\":0,\"ticks\":\"\"},\"colorscale\":[[0.0,\"#0d0887\"],[0.1111111111111111,\"#46039f\"],[0.2222222222222222,\"#7201a8\"],[0.3333333333333333,\"#9c179e\"],[0.4444444444444444,\"#bd3786\"],[0.5555555555555556,\"#d8576b\"],[0.6666666666666666,\"#ed7953\"],[0.7777777777777778,\"#fb9f3a\"],[0.8888888888888888,\"#fdca26\"],[1.0,\"#f0f921\"]],\"type\":\"histogram2dcontour\"}],\"mesh3d\":[{\"colorbar\":{\"outlinewidth\":0,\"ticks\":\"\"},\"type\":\"mesh3d\"}],\"parcoords\":[{\"line\":{\"colorbar\":{\"outlinewidth\":0,\"ticks\":\"\"}},\"type\":\"parcoords\"}],\"pie\":[{\"automargin\":true,\"type\":\"pie\"}],\"scatter\":[{\"marker\":{\"colorbar\":{\"outlinewidth\":0,\"ticks\":\"\"}},\"type\":\"scatter\"}],\"scatter3d\":[{\"line\":{\"colorbar\":{\"outlinewidth\":0,\"ticks\":\"\"}},\"marker\":{\"colorbar\":{\"outlinewidth\":0,\"ticks\":\"\"}},\"type\":\"scatter3d\"}],\"scattercarpet\":[{\"marker\":{\"colorbar\":{\"outlinewidth\":0,\"ticks\":\"\"}},\"type\":\"scattercarpet\"}],\"scattergeo\":[{\"marker\":{\"colorbar\":{\"outlinewidth\":0,\"ticks\":\"\"}},\"type\":\"scattergeo\"}],\"scattergl\":[{\"marker\":{\"colorbar\":{\"outlinewidth\":0,\"ticks\":\"\"}},\"type\":\"scattergl\"}],\"scattermapbox\":[{\"marker\":{\"colorbar\":{\"outlinewidth\":0,\"ticks\":\"\"}},\"type\":\"scattermapbox\"}],\"scatterpolar\":[{\"marker\":{\"colorbar\":{\"outlinewidth\":0,\"ticks\":\"\"}},\"type\":\"scatterpolar\"}],\"scatterpolargl\":[{\"marker\":{\"colorbar\":{\"outlinewidth\":0,\"ticks\":\"\"}},\"type\":\"scatterpolargl\"}],\"scatterternary\":[{\"marker\":{\"colorbar\":{\"outlinewidth\":0,\"ticks\":\"\"}},\"type\":\"scatterternary\"}],\"surface\":[{\"colorbar\":{\"outlinewidth\":0,\"ticks\":\"\"},\"colorscale\":[[0.0,\"#0d0887\"],[0.1111111111111111,\"#46039f\"],[0.2222222222222222,\"#7201a8\"],[0.3333333333333333,\"#9c179e\"],[0.4444444444444444,\"#bd3786\"],[0.5555555555555556,\"#d8576b\"],[0.6666666666666666,\"#ed7953\"],[0.7777777777777778,\"#fb9f3a\"],[0.8888888888888888,\"#fdca26\"],[1.0,\"#f0f921\"]],\"type\":\"surface\"}],\"table\":[{\"cells\":{\"fill\":{\"color\":\"#EBF0F8\"},\"line\":{\"color\":\"white\"}},\"header\":{\"fill\":{\"color\":\"#C8D4E3\"},\"line\":{\"color\":\"white\"}},\"type\":\"table\"}]},\"layout\":{\"annotationdefaults\":{\"arrowcolor\":\"#2a3f5f\",\"arrowhead\":0,\"arrowwidth\":1},\"autotypenumbers\":\"strict\",\"coloraxis\":{\"colorbar\":{\"outlinewidth\":0,\"ticks\":\"\"}},\"colorscale\":{\"diverging\":[[0,\"#8e0152\"],[0.1,\"#c51b7d\"],[0.2,\"#de77ae\"],[0.3,\"#f1b6da\"],[0.4,\"#fde0ef\"],[0.5,\"#f7f7f7\"],[0.6,\"#e6f5d0\"],[0.7,\"#b8e186\"],[0.8,\"#7fbc41\"],[0.9,\"#4d9221\"],[1,\"#276419\"]],\"sequential\":[[0.0,\"#0d0887\"],[0.1111111111111111,\"#46039f\"],[0.2222222222222222,\"#7201a8\"],[0.3333333333333333,\"#9c179e\"],[0.4444444444444444,\"#bd3786\"],[0.5555555555555556,\"#d8576b\"],[0.6666666666666666,\"#ed7953\"],[0.7777777777777778,\"#fb9f3a\"],[0.8888888888888888,\"#fdca26\"],[1.0,\"#f0f921\"]],\"sequentialminus\":[[0.0,\"#0d0887\"],[0.1111111111111111,\"#46039f\"],[0.2222222222222222,\"#7201a8\"],[0.3333333333333333,\"#9c179e\"],[0.4444444444444444,\"#bd3786\"],[0.5555555555555556,\"#d8576b\"],[0.6666666666666666,\"#ed7953\"],[0.7777777777777778,\"#fb9f3a\"],[0.8888888888888888,\"#fdca26\"],[1.0,\"#f0f921\"]]},\"colorway\":[\"#636efa\",\"#EF553B\",\"#00cc96\",\"#ab63fa\",\"#FFA15A\",\"#19d3f3\",\"#FF6692\",\"#B6E880\",\"#FF97FF\",\"#FECB52\"],\"font\":{\"color\":\"#2a3f5f\"},\"geo\":{\"bgcolor\":\"white\",\"lakecolor\":\"white\",\"landcolor\":\"#E5ECF6\",\"showlakes\":true,\"showland\":true,\"subunitcolor\":\"white\"},\"hoverlabel\":{\"align\":\"left\"},\"hovermode\":\"closest\",\"mapbox\":{\"style\":\"light\"},\"paper_bgcolor\":\"white\",\"plot_bgcolor\":\"#E5ECF6\",\"polar\":{\"angularaxis\":{\"gridcolor\":\"white\",\"linecolor\":\"white\",\"ticks\":\"\"},\"bgcolor\":\"#E5ECF6\",\"radialaxis\":{\"gridcolor\":\"white\",\"linecolor\":\"white\",\"ticks\":\"\"}},\"scene\":{\"xaxis\":{\"backgroundcolor\":\"#E5ECF6\",\"gridcolor\":\"white\",\"gridwidth\":2,\"linecolor\":\"white\",\"showbackground\":true,\"ticks\":\"\",\"zerolinecolor\":\"white\"},\"yaxis\":{\"backgroundcolor\":\"#E5ECF6\",\"gridcolor\":\"white\",\"gridwidth\":2,\"linecolor\":\"white\",\"showbackground\":true,\"ticks\":\"\",\"zerolinecolor\":\"white\"},\"zaxis\":{\"backgroundcolor\":\"#E5ECF6\",\"gridcolor\":\"white\",\"gridwidth\":2,\"linecolor\":\"white\",\"showbackground\":true,\"ticks\":\"\",\"zerolinecolor\":\"white\"}},\"shapedefaults\":{\"line\":{\"color\":\"#2a3f5f\"}},\"ternary\":{\"aaxis\":{\"gridcolor\":\"white\",\"linecolor\":\"white\",\"ticks\":\"\"},\"baxis\":{\"gridcolor\":\"white\",\"linecolor\":\"white\",\"ticks\":\"\"},\"bgcolor\":\"#E5ECF6\",\"caxis\":{\"gridcolor\":\"white\",\"linecolor\":\"white\",\"ticks\":\"\"}},\"title\":{\"x\":0.05},\"xaxis\":{\"automargin\":true,\"gridcolor\":\"white\",\"linecolor\":\"white\",\"ticks\":\"\",\"title\":{\"standoff\":15},\"zerolinecolor\":\"white\",\"zerolinewidth\":2},\"yaxis\":{\"automargin\":true,\"gridcolor\":\"white\",\"linecolor\":\"white\",\"ticks\":\"\",\"title\":{\"standoff\":15},\"zerolinecolor\":\"white\",\"zerolinewidth\":2}}},\"title\":{\"font\":{\"color\":\"#D9D9D9\"},\"text\":\"\\uc6d4\\ubcc4 \\uc2b9\\ucc28\\uc2b9\\uac1d\\uc218 \\ubcc0\\ud654 \\ube44\\uc728\"},\"xaxis\":{\"gridcolor\":\"#434343\",\"showgrid\":true,\"tickfont\":{\"color\":\"#C2C2C2\"},\"title\":{\"font\":{\"color\":\"#D9D9D9\"},\"text\":\"\"},\"zerolinecolor\":\"#666570\"},\"yaxis\":{\"gridcolor\":\"#434343\",\"showgrid\":true,\"tickfont\":{\"color\":\"#C2C2C2\"},\"title\":{\"font\":{\"color\":\"#D9D9D9\"},\"text\":\"\"},\"zerolinecolor\":\"#666570\"}},                        {\"showLink\": true, \"linkText\": \"Export to plot.ly\", \"plotlyServerURL\": \"https://plot.ly\", \"responsive\": true}                    ).then(function(){\n",
       "                            \n",
       "var gd = document.getElementById('8775049a-bd66-448f-bcb9-6d40b6f9d99e');\n",
       "var x = new MutationObserver(function (mutations, observer) {{\n",
       "        var display = window.getComputedStyle(gd).display;\n",
       "        if (!display || display === 'none') {{\n",
       "            console.log([gd, 'removed!']);\n",
       "            Plotly.purge(gd);\n",
       "            observer.disconnect();\n",
       "        }}\n",
       "}});\n",
       "\n",
       "// Listen for the removal of the full notebook cells\n",
       "var notebookContainer = gd.closest('#notebook-container');\n",
       "if (notebookContainer) {{\n",
       "    x.observe(notebookContainer, {childList: true});\n",
       "}}\n",
       "\n",
       "// Listen for the clearing of the current output cell\n",
       "var outputEl = gd.closest('.output');\n",
       "if (outputEl) {{\n",
       "    x.observe(outputEl, {childList: true});\n",
       "}}\n",
       "\n",
       "                        })                };                });            </script>        </div>"
      ]
     },
     "metadata": {},
     "output_type": "display_data"
    }
   ],
   "source": [
    "# 선형 그래프\n",
    "sub.iloc[12:,:].iplot(kind='line', x='date', y=['월별승차총승객수변화량비율(%)'],\n",
    "                      title='월별 승차승객수 변화 비율', theme='space')"
   ]
  },
  {
   "cell_type": "markdown",
   "id": "c4429428",
   "metadata": {},
   "source": [
    "##  다른 연도 같은 월끼리 비교"
   ]
  },
  {
   "cell_type": "code",
   "execution_count": 88,
   "id": "59ab8867",
   "metadata": {},
   "outputs": [],
   "source": [
    "pd.options.display.max_rows = 500\n",
    "pd.options.display.max_columns = 500"
   ]
  },
  {
   "cell_type": "code",
   "execution_count": 89,
   "id": "34b65bdb",
   "metadata": {},
   "outputs": [
    {
     "data": {
      "text/html": [
       "<div>\n",
       "<style scoped>\n",
       "    .dataframe tbody tr th:only-of-type {\n",
       "        vertical-align: middle;\n",
       "    }\n",
       "\n",
       "    .dataframe tbody tr th {\n",
       "        vertical-align: top;\n",
       "    }\n",
       "\n",
       "    .dataframe thead th {\n",
       "        text-align: right;\n",
       "    }\n",
       "</style>\n",
       "<table border=\"1\" class=\"dataframe\">\n",
       "  <thead>\n",
       "    <tr style=\"text-align: right;\">\n",
       "      <th></th>\n",
       "      <th>date</th>\n",
       "      <th>월별승차총승객수</th>\n",
       "      <th>월별하차총승객수</th>\n",
       "    </tr>\n",
       "  </thead>\n",
       "  <tbody>\n",
       "    <tr>\n",
       "      <th>0</th>\n",
       "      <td>'2015-01</td>\n",
       "      <td>437278792.0</td>\n",
       "      <td>4.350668e+08</td>\n",
       "    </tr>\n",
       "    <tr>\n",
       "      <th>1</th>\n",
       "      <td>'2015-02</td>\n",
       "      <td>376783122.0</td>\n",
       "      <td>3.748843e+08</td>\n",
       "    </tr>\n",
       "    <tr>\n",
       "      <th>2</th>\n",
       "      <td>'2015-03</td>\n",
       "      <td>478541350.0</td>\n",
       "      <td>4.764516e+08</td>\n",
       "    </tr>\n",
       "    <tr>\n",
       "      <th>3</th>\n",
       "      <td>'2015-04</td>\n",
       "      <td>236022558.0</td>\n",
       "      <td>2.348989e+08</td>\n",
       "    </tr>\n",
       "    <tr>\n",
       "      <th>4</th>\n",
       "      <td>'2015-05</td>\n",
       "      <td>234296965.0</td>\n",
       "      <td>2.331702e+08</td>\n",
       "    </tr>\n",
       "    <tr>\n",
       "      <th>5</th>\n",
       "      <td>'2015-06</td>\n",
       "      <td>203119706.0</td>\n",
       "      <td>2.023999e+08</td>\n",
       "    </tr>\n",
       "    <tr>\n",
       "      <th>6</th>\n",
       "      <td>'2015-07</td>\n",
       "      <td>218172679.0</td>\n",
       "      <td>2.172651e+08</td>\n",
       "    </tr>\n",
       "    <tr>\n",
       "      <th>7</th>\n",
       "      <td>'2015-08</td>\n",
       "      <td>210102718.0</td>\n",
       "      <td>2.091306e+08</td>\n",
       "    </tr>\n",
       "    <tr>\n",
       "      <th>8</th>\n",
       "      <td>'2015-09</td>\n",
       "      <td>214486255.0</td>\n",
       "      <td>2.135781e+08</td>\n",
       "    </tr>\n",
       "    <tr>\n",
       "      <th>9</th>\n",
       "      <td>'2015-10</td>\n",
       "      <td>234349102.0</td>\n",
       "      <td>2.333415e+08</td>\n",
       "    </tr>\n",
       "    <tr>\n",
       "      <th>10</th>\n",
       "      <td>'2015-11</td>\n",
       "      <td>223497154.0</td>\n",
       "      <td>2.226006e+08</td>\n",
       "    </tr>\n",
       "    <tr>\n",
       "      <th>11</th>\n",
       "      <td>'2015-12</td>\n",
       "      <td>233155014.0</td>\n",
       "      <td>2.321545e+08</td>\n",
       "    </tr>\n",
       "    <tr>\n",
       "      <th>12</th>\n",
       "      <td>'2016-01</td>\n",
       "      <td>209273211.0</td>\n",
       "      <td>2.083183e+08</td>\n",
       "    </tr>\n",
       "    <tr>\n",
       "      <th>13</th>\n",
       "      <td>'2016-02</td>\n",
       "      <td>193647156.0</td>\n",
       "      <td>1.927735e+08</td>\n",
       "    </tr>\n",
       "    <tr>\n",
       "      <th>14</th>\n",
       "      <td>'2016-03</td>\n",
       "      <td>236377700.0</td>\n",
       "      <td>2.354281e+08</td>\n",
       "    </tr>\n",
       "    <tr>\n",
       "      <th>15</th>\n",
       "      <td>'2016-04</td>\n",
       "      <td>228348725.0</td>\n",
       "      <td>2.274314e+08</td>\n",
       "    </tr>\n",
       "    <tr>\n",
       "      <th>16</th>\n",
       "      <td>'2016-05</td>\n",
       "      <td>234166653.0</td>\n",
       "      <td>2.331757e+08</td>\n",
       "    </tr>\n",
       "    <tr>\n",
       "      <th>17</th>\n",
       "      <td>'2016-06</td>\n",
       "      <td>222611572.0</td>\n",
       "      <td>2.216888e+08</td>\n",
       "    </tr>\n",
       "    <tr>\n",
       "      <th>18</th>\n",
       "      <td>'2016-07</td>\n",
       "      <td>219465787.0</td>\n",
       "      <td>2.184620e+08</td>\n",
       "    </tr>\n",
       "    <tr>\n",
       "      <th>19</th>\n",
       "      <td>'2016-08</td>\n",
       "      <td>214193213.0</td>\n",
       "      <td>2.132246e+08</td>\n",
       "    </tr>\n",
       "    <tr>\n",
       "      <th>20</th>\n",
       "      <td>'2016-09</td>\n",
       "      <td>210698312.0</td>\n",
       "      <td>2.098050e+08</td>\n",
       "    </tr>\n",
       "    <tr>\n",
       "      <th>21</th>\n",
       "      <td>'2016-10</td>\n",
       "      <td>229681635.0</td>\n",
       "      <td>2.286361e+08</td>\n",
       "    </tr>\n",
       "    <tr>\n",
       "      <th>22</th>\n",
       "      <td>'2016-11</td>\n",
       "      <td>228122715.0</td>\n",
       "      <td>2.271226e+08</td>\n",
       "    </tr>\n",
       "    <tr>\n",
       "      <th>23</th>\n",
       "      <td>'2016-12</td>\n",
       "      <td>231777262.0</td>\n",
       "      <td>2.307244e+08</td>\n",
       "    </tr>\n",
       "    <tr>\n",
       "      <th>24</th>\n",
       "      <td>'2017-01</td>\n",
       "      <td>205502324.0</td>\n",
       "      <td>2.045320e+08</td>\n",
       "    </tr>\n",
       "    <tr>\n",
       "      <th>25</th>\n",
       "      <td>'2017-02</td>\n",
       "      <td>204936457.0</td>\n",
       "      <td>2.039852e+08</td>\n",
       "    </tr>\n",
       "    <tr>\n",
       "      <th>26</th>\n",
       "      <td>'2017-03</td>\n",
       "      <td>237179303.0</td>\n",
       "      <td>2.362040e+08</td>\n",
       "    </tr>\n",
       "    <tr>\n",
       "      <th>27</th>\n",
       "      <td>'2017-04</td>\n",
       "      <td>227780690.0</td>\n",
       "      <td>2.267899e+08</td>\n",
       "    </tr>\n",
       "    <tr>\n",
       "      <th>28</th>\n",
       "      <td>'2017-05</td>\n",
       "      <td>227836340.0</td>\n",
       "      <td>2.267997e+08</td>\n",
       "    </tr>\n",
       "    <tr>\n",
       "      <th>29</th>\n",
       "      <td>'2017-06</td>\n",
       "      <td>221308605.0</td>\n",
       "      <td>2.203622e+08</td>\n",
       "    </tr>\n",
       "    <tr>\n",
       "      <th>30</th>\n",
       "      <td>'2017-07</td>\n",
       "      <td>214815271.0</td>\n",
       "      <td>2.138586e+08</td>\n",
       "    </tr>\n",
       "    <tr>\n",
       "      <th>31</th>\n",
       "      <td>'2017-08</td>\n",
       "      <td>213776584.0</td>\n",
       "      <td>2.128094e+08</td>\n",
       "    </tr>\n",
       "    <tr>\n",
       "      <th>32</th>\n",
       "      <td>'2017-09</td>\n",
       "      <td>228240103.0</td>\n",
       "      <td>2.271700e+08</td>\n",
       "    </tr>\n",
       "    <tr>\n",
       "      <th>33</th>\n",
       "      <td>'2017-10</td>\n",
       "      <td>208204249.0</td>\n",
       "      <td>2.071961e+08</td>\n",
       "    </tr>\n",
       "    <tr>\n",
       "      <th>34</th>\n",
       "      <td>'2017-11</td>\n",
       "      <td>228254078.0</td>\n",
       "      <td>2.272788e+08</td>\n",
       "    </tr>\n",
       "    <tr>\n",
       "      <th>35</th>\n",
       "      <td>'2017-12</td>\n",
       "      <td>228619448.0</td>\n",
       "      <td>2.276694e+08</td>\n",
       "    </tr>\n",
       "    <tr>\n",
       "      <th>36</th>\n",
       "      <td>'2018-01</td>\n",
       "      <td>213710722.0</td>\n",
       "      <td>2.128495e+08</td>\n",
       "    </tr>\n",
       "    <tr>\n",
       "      <th>37</th>\n",
       "      <td>'2018-02</td>\n",
       "      <td>189110822.0</td>\n",
       "      <td>1.883409e+08</td>\n",
       "    </tr>\n",
       "    <tr>\n",
       "      <th>38</th>\n",
       "      <td>'2018-03</td>\n",
       "      <td>235296346.0</td>\n",
       "      <td>2.344100e+08</td>\n",
       "    </tr>\n",
       "    <tr>\n",
       "      <th>39</th>\n",
       "      <td>'2018-04</td>\n",
       "      <td>228971702.0</td>\n",
       "      <td>2.280969e+08</td>\n",
       "    </tr>\n",
       "    <tr>\n",
       "      <th>40</th>\n",
       "      <td>'2018-05</td>\n",
       "      <td>235253127.0</td>\n",
       "      <td>2.343147e+08</td>\n",
       "    </tr>\n",
       "    <tr>\n",
       "      <th>41</th>\n",
       "      <td>'2018-06</td>\n",
       "      <td>219426719.0</td>\n",
       "      <td>2.185427e+08</td>\n",
       "    </tr>\n",
       "    <tr>\n",
       "      <th>42</th>\n",
       "      <td>'2018-07</td>\n",
       "      <td>221632774.0</td>\n",
       "      <td>2.207464e+08</td>\n",
       "    </tr>\n",
       "    <tr>\n",
       "      <th>43</th>\n",
       "      <td>'2018-08</td>\n",
       "      <td>214216200.0</td>\n",
       "      <td>2.133305e+08</td>\n",
       "    </tr>\n",
       "    <tr>\n",
       "      <th>44</th>\n",
       "      <td>'2018-09</td>\n",
       "      <td>208561416.0</td>\n",
       "      <td>2.077422e+08</td>\n",
       "    </tr>\n",
       "    <tr>\n",
       "      <th>45</th>\n",
       "      <td>'2018-10</td>\n",
       "      <td>235739024.0</td>\n",
       "      <td>2.348376e+08</td>\n",
       "    </tr>\n",
       "    <tr>\n",
       "      <th>46</th>\n",
       "      <td>'2018-11</td>\n",
       "      <td>232960426.0</td>\n",
       "      <td>2.320968e+08</td>\n",
       "    </tr>\n",
       "    <tr>\n",
       "      <th>47</th>\n",
       "      <td>'2018-12</td>\n",
       "      <td>227834001.0</td>\n",
       "      <td>2.268266e+08</td>\n",
       "    </tr>\n",
       "    <tr>\n",
       "      <th>48</th>\n",
       "      <td>'2019-01</td>\n",
       "      <td>221848014.0</td>\n",
       "      <td>2.208984e+08</td>\n",
       "    </tr>\n",
       "    <tr>\n",
       "      <th>49</th>\n",
       "      <td>'2019-02</td>\n",
       "      <td>190335812.0</td>\n",
       "      <td>1.895002e+08</td>\n",
       "    </tr>\n",
       "    <tr>\n",
       "      <th>50</th>\n",
       "      <td>'2019-03</td>\n",
       "      <td>233813277.0</td>\n",
       "      <td>2.328795e+08</td>\n",
       "    </tr>\n",
       "    <tr>\n",
       "      <th>51</th>\n",
       "      <td>'2019-04</td>\n",
       "      <td>235928571.0</td>\n",
       "      <td>2.350058e+08</td>\n",
       "    </tr>\n",
       "    <tr>\n",
       "      <th>52</th>\n",
       "      <td>'2019-05</td>\n",
       "      <td>243338053.0</td>\n",
       "      <td>2.423805e+08</td>\n",
       "    </tr>\n",
       "    <tr>\n",
       "      <th>53</th>\n",
       "      <td>'2019-06</td>\n",
       "      <td>221547039.0</td>\n",
       "      <td>2.206636e+08</td>\n",
       "    </tr>\n",
       "    <tr>\n",
       "      <th>54</th>\n",
       "      <td>'2019-07</td>\n",
       "      <td>229254848.0</td>\n",
       "      <td>2.283540e+08</td>\n",
       "    </tr>\n",
       "    <tr>\n",
       "      <th>55</th>\n",
       "      <td>'2019-08</td>\n",
       "      <td>219672653.0</td>\n",
       "      <td>2.187592e+08</td>\n",
       "    </tr>\n",
       "    <tr>\n",
       "      <th>56</th>\n",
       "      <td>'2019-09</td>\n",
       "      <td>214006728.0</td>\n",
       "      <td>2.131706e+08</td>\n",
       "    </tr>\n",
       "    <tr>\n",
       "      <th>57</th>\n",
       "      <td>'2019-10</td>\n",
       "      <td>240101848.0</td>\n",
       "      <td>2.391459e+08</td>\n",
       "    </tr>\n",
       "    <tr>\n",
       "      <th>58</th>\n",
       "      <td>'2019-11</td>\n",
       "      <td>232284482.0</td>\n",
       "      <td>2.314299e+08</td>\n",
       "    </tr>\n",
       "    <tr>\n",
       "      <th>59</th>\n",
       "      <td>'2019-12</td>\n",
       "      <td>234574904.0</td>\n",
       "      <td>2.336736e+08</td>\n",
       "    </tr>\n",
       "    <tr>\n",
       "      <th>60</th>\n",
       "      <td>'2020-01</td>\n",
       "      <td>207743593.0</td>\n",
       "      <td>2.069391e+08</td>\n",
       "    </tr>\n",
       "    <tr>\n",
       "      <th>61</th>\n",
       "      <td>'2020-02</td>\n",
       "      <td>169582542.0</td>\n",
       "      <td>1.690586e+08</td>\n",
       "    </tr>\n",
       "    <tr>\n",
       "      <th>62</th>\n",
       "      <td>'2020-03</td>\n",
       "      <td>139686779.0</td>\n",
       "      <td>1.393088e+08</td>\n",
       "    </tr>\n",
       "    <tr>\n",
       "      <th>63</th>\n",
       "      <td>'2020-04</td>\n",
       "      <td>149118804.0</td>\n",
       "      <td>1.486839e+08</td>\n",
       "    </tr>\n",
       "    <tr>\n",
       "      <th>64</th>\n",
       "      <td>'2020-05</td>\n",
       "      <td>164531970.0</td>\n",
       "      <td>3.702150e+11</td>\n",
       "    </tr>\n",
       "    <tr>\n",
       "      <th>65</th>\n",
       "      <td>'2020-06</td>\n",
       "      <td>171605690.0</td>\n",
       "      <td>3.583389e+11</td>\n",
       "    </tr>\n",
       "    <tr>\n",
       "      <th>66</th>\n",
       "      <td>'2020-07</td>\n",
       "      <td>183490485.0</td>\n",
       "      <td>3.702591e+11</td>\n",
       "    </tr>\n",
       "    <tr>\n",
       "      <th>67</th>\n",
       "      <td>'2020-08</td>\n",
       "      <td>152989131.0</td>\n",
       "      <td>3.709478e+11</td>\n",
       "    </tr>\n",
       "    <tr>\n",
       "      <th>68</th>\n",
       "      <td>'2020-09</td>\n",
       "      <td>144602055.0</td>\n",
       "      <td>3.612330e+11</td>\n",
       "    </tr>\n",
       "    <tr>\n",
       "      <th>69</th>\n",
       "      <td>'2020-10</td>\n",
       "      <td>169231365.0</td>\n",
       "      <td>3.744664e+11</td>\n",
       "    </tr>\n",
       "    <tr>\n",
       "      <th>70</th>\n",
       "      <td>'2020-11</td>\n",
       "      <td>171847194.0</td>\n",
       "      <td>3.624688e+11</td>\n",
       "    </tr>\n",
       "    <tr>\n",
       "      <th>71</th>\n",
       "      <td>'2020-12</td>\n",
       "      <td>139666561.0</td>\n",
       "      <td>3.741021e+11</td>\n",
       "    </tr>\n",
       "    <tr>\n",
       "      <th>72</th>\n",
       "      <td>'2021-01</td>\n",
       "      <td>142178674.0</td>\n",
       "      <td>3.746351e+11</td>\n",
       "    </tr>\n",
       "    <tr>\n",
       "      <th>73</th>\n",
       "      <td>'2021-02</td>\n",
       "      <td>142994483.0</td>\n",
       "      <td>3.385415e+11</td>\n",
       "    </tr>\n",
       "    <tr>\n",
       "      <th>74</th>\n",
       "      <td>'2021-03</td>\n",
       "      <td>179109500.0</td>\n",
       "      <td>3.750228e+11</td>\n",
       "    </tr>\n",
       "    <tr>\n",
       "      <th>75</th>\n",
       "      <td>'2021-04</td>\n",
       "      <td>177677244.0</td>\n",
       "      <td>3.646163e+11</td>\n",
       "    </tr>\n",
       "    <tr>\n",
       "      <th>76</th>\n",
       "      <td>'2021-05</td>\n",
       "      <td>174157717.0</td>\n",
       "      <td>3.765625e+11</td>\n",
       "    </tr>\n",
       "    <tr>\n",
       "      <th>77</th>\n",
       "      <td>'2021-06</td>\n",
       "      <td>179060211.0</td>\n",
       "      <td>3.644986e+11</td>\n",
       "    </tr>\n",
       "    <tr>\n",
       "      <th>78</th>\n",
       "      <td>'2021-07</td>\n",
       "      <td>159645605.0</td>\n",
       "      <td>3.765662e+11</td>\n",
       "    </tr>\n",
       "    <tr>\n",
       "      <th>79</th>\n",
       "      <td>'2021-08</td>\n",
       "      <td>152911075.0</td>\n",
       "      <td>3.766894e+11</td>\n",
       "    </tr>\n",
       "  </tbody>\n",
       "</table>\n",
       "</div>"
      ],
      "text/plain": [
       "        date     월별승차총승객수      월별하차총승객수\n",
       "0   '2015-01  437278792.0  4.350668e+08\n",
       "1   '2015-02  376783122.0  3.748843e+08\n",
       "2   '2015-03  478541350.0  4.764516e+08\n",
       "3   '2015-04  236022558.0  2.348989e+08\n",
       "4   '2015-05  234296965.0  2.331702e+08\n",
       "5   '2015-06  203119706.0  2.023999e+08\n",
       "6   '2015-07  218172679.0  2.172651e+08\n",
       "7   '2015-08  210102718.0  2.091306e+08\n",
       "8   '2015-09  214486255.0  2.135781e+08\n",
       "9   '2015-10  234349102.0  2.333415e+08\n",
       "10  '2015-11  223497154.0  2.226006e+08\n",
       "11  '2015-12  233155014.0  2.321545e+08\n",
       "12  '2016-01  209273211.0  2.083183e+08\n",
       "13  '2016-02  193647156.0  1.927735e+08\n",
       "14  '2016-03  236377700.0  2.354281e+08\n",
       "15  '2016-04  228348725.0  2.274314e+08\n",
       "16  '2016-05  234166653.0  2.331757e+08\n",
       "17  '2016-06  222611572.0  2.216888e+08\n",
       "18  '2016-07  219465787.0  2.184620e+08\n",
       "19  '2016-08  214193213.0  2.132246e+08\n",
       "20  '2016-09  210698312.0  2.098050e+08\n",
       "21  '2016-10  229681635.0  2.286361e+08\n",
       "22  '2016-11  228122715.0  2.271226e+08\n",
       "23  '2016-12  231777262.0  2.307244e+08\n",
       "24  '2017-01  205502324.0  2.045320e+08\n",
       "25  '2017-02  204936457.0  2.039852e+08\n",
       "26  '2017-03  237179303.0  2.362040e+08\n",
       "27  '2017-04  227780690.0  2.267899e+08\n",
       "28  '2017-05  227836340.0  2.267997e+08\n",
       "29  '2017-06  221308605.0  2.203622e+08\n",
       "30  '2017-07  214815271.0  2.138586e+08\n",
       "31  '2017-08  213776584.0  2.128094e+08\n",
       "32  '2017-09  228240103.0  2.271700e+08\n",
       "33  '2017-10  208204249.0  2.071961e+08\n",
       "34  '2017-11  228254078.0  2.272788e+08\n",
       "35  '2017-12  228619448.0  2.276694e+08\n",
       "36  '2018-01  213710722.0  2.128495e+08\n",
       "37  '2018-02  189110822.0  1.883409e+08\n",
       "38  '2018-03  235296346.0  2.344100e+08\n",
       "39  '2018-04  228971702.0  2.280969e+08\n",
       "40  '2018-05  235253127.0  2.343147e+08\n",
       "41  '2018-06  219426719.0  2.185427e+08\n",
       "42  '2018-07  221632774.0  2.207464e+08\n",
       "43  '2018-08  214216200.0  2.133305e+08\n",
       "44  '2018-09  208561416.0  2.077422e+08\n",
       "45  '2018-10  235739024.0  2.348376e+08\n",
       "46  '2018-11  232960426.0  2.320968e+08\n",
       "47  '2018-12  227834001.0  2.268266e+08\n",
       "48  '2019-01  221848014.0  2.208984e+08\n",
       "49  '2019-02  190335812.0  1.895002e+08\n",
       "50  '2019-03  233813277.0  2.328795e+08\n",
       "51  '2019-04  235928571.0  2.350058e+08\n",
       "52  '2019-05  243338053.0  2.423805e+08\n",
       "53  '2019-06  221547039.0  2.206636e+08\n",
       "54  '2019-07  229254848.0  2.283540e+08\n",
       "55  '2019-08  219672653.0  2.187592e+08\n",
       "56  '2019-09  214006728.0  2.131706e+08\n",
       "57  '2019-10  240101848.0  2.391459e+08\n",
       "58  '2019-11  232284482.0  2.314299e+08\n",
       "59  '2019-12  234574904.0  2.336736e+08\n",
       "60  '2020-01  207743593.0  2.069391e+08\n",
       "61  '2020-02  169582542.0  1.690586e+08\n",
       "62  '2020-03  139686779.0  1.393088e+08\n",
       "63  '2020-04  149118804.0  1.486839e+08\n",
       "64  '2020-05  164531970.0  3.702150e+11\n",
       "65  '2020-06  171605690.0  3.583389e+11\n",
       "66  '2020-07  183490485.0  3.702591e+11\n",
       "67  '2020-08  152989131.0  3.709478e+11\n",
       "68  '2020-09  144602055.0  3.612330e+11\n",
       "69  '2020-10  169231365.0  3.744664e+11\n",
       "70  '2020-11  171847194.0  3.624688e+11\n",
       "71  '2020-12  139666561.0  3.741021e+11\n",
       "72  '2021-01  142178674.0  3.746351e+11\n",
       "73  '2021-02  142994483.0  3.385415e+11\n",
       "74  '2021-03  179109500.0  3.750228e+11\n",
       "75  '2021-04  177677244.0  3.646163e+11\n",
       "76  '2021-05  174157717.0  3.765625e+11\n",
       "77  '2021-06  179060211.0  3.644986e+11\n",
       "78  '2021-07  159645605.0  3.765662e+11\n",
       "79  '2021-08  152911075.0  3.766894e+11"
      ]
     },
     "execution_count": 89,
     "metadata": {},
     "output_type": "execute_result"
    }
   ],
   "source": [
    "# 승하차총승객수만 가져오기\n",
    "sub2 = sub[['date', '월별승차총승객수', '월별하차총승객수']]\n",
    "sub2"
   ]
  },
  {
   "cell_type": "markdown",
   "id": "cc59373f",
   "metadata": {},
   "source": [
    "## 승차 승객 수 전년도와 비교(양)"
   ]
  },
  {
   "cell_type": "markdown",
   "id": "2f72f892",
   "metadata": {},
   "source": [
    "### 비교대상 없는 09월부터 12월까지 자료 삭제"
   ]
  },
  {
   "cell_type": "code",
   "execution_count": 90,
   "id": "eec52804",
   "metadata": {},
   "outputs": [
    {
     "data": {
      "text/html": [
       "<div>\n",
       "<style scoped>\n",
       "    .dataframe tbody tr th:only-of-type {\n",
       "        vertical-align: middle;\n",
       "    }\n",
       "\n",
       "    .dataframe tbody tr th {\n",
       "        vertical-align: top;\n",
       "    }\n",
       "\n",
       "    .dataframe thead th {\n",
       "        text-align: right;\n",
       "    }\n",
       "</style>\n",
       "<table border=\"1\" class=\"dataframe\">\n",
       "  <thead>\n",
       "    <tr style=\"text-align: right;\">\n",
       "      <th></th>\n",
       "      <th>index</th>\n",
       "      <th>date</th>\n",
       "      <th>월별승차총승객수</th>\n",
       "      <th>월별하차총승객수</th>\n",
       "    </tr>\n",
       "  </thead>\n",
       "  <tbody>\n",
       "    <tr>\n",
       "      <th>0</th>\n",
       "      <td>0</td>\n",
       "      <td>'2015-01</td>\n",
       "      <td>437278792.0</td>\n",
       "      <td>4.350668e+08</td>\n",
       "    </tr>\n",
       "    <tr>\n",
       "      <th>1</th>\n",
       "      <td>1</td>\n",
       "      <td>'2015-02</td>\n",
       "      <td>376783122.0</td>\n",
       "      <td>3.748843e+08</td>\n",
       "    </tr>\n",
       "    <tr>\n",
       "      <th>2</th>\n",
       "      <td>2</td>\n",
       "      <td>'2015-03</td>\n",
       "      <td>478541350.0</td>\n",
       "      <td>4.764516e+08</td>\n",
       "    </tr>\n",
       "    <tr>\n",
       "      <th>3</th>\n",
       "      <td>3</td>\n",
       "      <td>'2015-04</td>\n",
       "      <td>236022558.0</td>\n",
       "      <td>2.348989e+08</td>\n",
       "    </tr>\n",
       "    <tr>\n",
       "      <th>4</th>\n",
       "      <td>4</td>\n",
       "      <td>'2015-05</td>\n",
       "      <td>234296965.0</td>\n",
       "      <td>2.331702e+08</td>\n",
       "    </tr>\n",
       "    <tr>\n",
       "      <th>5</th>\n",
       "      <td>5</td>\n",
       "      <td>'2015-06</td>\n",
       "      <td>203119706.0</td>\n",
       "      <td>2.023999e+08</td>\n",
       "    </tr>\n",
       "    <tr>\n",
       "      <th>6</th>\n",
       "      <td>6</td>\n",
       "      <td>'2015-07</td>\n",
       "      <td>218172679.0</td>\n",
       "      <td>2.172651e+08</td>\n",
       "    </tr>\n",
       "    <tr>\n",
       "      <th>7</th>\n",
       "      <td>7</td>\n",
       "      <td>'2015-08</td>\n",
       "      <td>210102718.0</td>\n",
       "      <td>2.091306e+08</td>\n",
       "    </tr>\n",
       "    <tr>\n",
       "      <th>8</th>\n",
       "      <td>12</td>\n",
       "      <td>'2016-01</td>\n",
       "      <td>209273211.0</td>\n",
       "      <td>2.083183e+08</td>\n",
       "    </tr>\n",
       "    <tr>\n",
       "      <th>9</th>\n",
       "      <td>13</td>\n",
       "      <td>'2016-02</td>\n",
       "      <td>193647156.0</td>\n",
       "      <td>1.927735e+08</td>\n",
       "    </tr>\n",
       "    <tr>\n",
       "      <th>10</th>\n",
       "      <td>14</td>\n",
       "      <td>'2016-03</td>\n",
       "      <td>236377700.0</td>\n",
       "      <td>2.354281e+08</td>\n",
       "    </tr>\n",
       "    <tr>\n",
       "      <th>11</th>\n",
       "      <td>15</td>\n",
       "      <td>'2016-04</td>\n",
       "      <td>228348725.0</td>\n",
       "      <td>2.274314e+08</td>\n",
       "    </tr>\n",
       "    <tr>\n",
       "      <th>12</th>\n",
       "      <td>16</td>\n",
       "      <td>'2016-05</td>\n",
       "      <td>234166653.0</td>\n",
       "      <td>2.331757e+08</td>\n",
       "    </tr>\n",
       "    <tr>\n",
       "      <th>13</th>\n",
       "      <td>17</td>\n",
       "      <td>'2016-06</td>\n",
       "      <td>222611572.0</td>\n",
       "      <td>2.216888e+08</td>\n",
       "    </tr>\n",
       "    <tr>\n",
       "      <th>14</th>\n",
       "      <td>18</td>\n",
       "      <td>'2016-07</td>\n",
       "      <td>219465787.0</td>\n",
       "      <td>2.184620e+08</td>\n",
       "    </tr>\n",
       "    <tr>\n",
       "      <th>15</th>\n",
       "      <td>19</td>\n",
       "      <td>'2016-08</td>\n",
       "      <td>214193213.0</td>\n",
       "      <td>2.132246e+08</td>\n",
       "    </tr>\n",
       "    <tr>\n",
       "      <th>16</th>\n",
       "      <td>24</td>\n",
       "      <td>'2017-01</td>\n",
       "      <td>205502324.0</td>\n",
       "      <td>2.045320e+08</td>\n",
       "    </tr>\n",
       "    <tr>\n",
       "      <th>17</th>\n",
       "      <td>25</td>\n",
       "      <td>'2017-02</td>\n",
       "      <td>204936457.0</td>\n",
       "      <td>2.039852e+08</td>\n",
       "    </tr>\n",
       "    <tr>\n",
       "      <th>18</th>\n",
       "      <td>26</td>\n",
       "      <td>'2017-03</td>\n",
       "      <td>237179303.0</td>\n",
       "      <td>2.362040e+08</td>\n",
       "    </tr>\n",
       "    <tr>\n",
       "      <th>19</th>\n",
       "      <td>27</td>\n",
       "      <td>'2017-04</td>\n",
       "      <td>227780690.0</td>\n",
       "      <td>2.267899e+08</td>\n",
       "    </tr>\n",
       "    <tr>\n",
       "      <th>20</th>\n",
       "      <td>28</td>\n",
       "      <td>'2017-05</td>\n",
       "      <td>227836340.0</td>\n",
       "      <td>2.267997e+08</td>\n",
       "    </tr>\n",
       "    <tr>\n",
       "      <th>21</th>\n",
       "      <td>29</td>\n",
       "      <td>'2017-06</td>\n",
       "      <td>221308605.0</td>\n",
       "      <td>2.203622e+08</td>\n",
       "    </tr>\n",
       "    <tr>\n",
       "      <th>22</th>\n",
       "      <td>30</td>\n",
       "      <td>'2017-07</td>\n",
       "      <td>214815271.0</td>\n",
       "      <td>2.138586e+08</td>\n",
       "    </tr>\n",
       "    <tr>\n",
       "      <th>23</th>\n",
       "      <td>31</td>\n",
       "      <td>'2017-08</td>\n",
       "      <td>213776584.0</td>\n",
       "      <td>2.128094e+08</td>\n",
       "    </tr>\n",
       "    <tr>\n",
       "      <th>24</th>\n",
       "      <td>36</td>\n",
       "      <td>'2018-01</td>\n",
       "      <td>213710722.0</td>\n",
       "      <td>2.128495e+08</td>\n",
       "    </tr>\n",
       "    <tr>\n",
       "      <th>25</th>\n",
       "      <td>37</td>\n",
       "      <td>'2018-02</td>\n",
       "      <td>189110822.0</td>\n",
       "      <td>1.883409e+08</td>\n",
       "    </tr>\n",
       "    <tr>\n",
       "      <th>26</th>\n",
       "      <td>38</td>\n",
       "      <td>'2018-03</td>\n",
       "      <td>235296346.0</td>\n",
       "      <td>2.344100e+08</td>\n",
       "    </tr>\n",
       "    <tr>\n",
       "      <th>27</th>\n",
       "      <td>39</td>\n",
       "      <td>'2018-04</td>\n",
       "      <td>228971702.0</td>\n",
       "      <td>2.280969e+08</td>\n",
       "    </tr>\n",
       "    <tr>\n",
       "      <th>28</th>\n",
       "      <td>40</td>\n",
       "      <td>'2018-05</td>\n",
       "      <td>235253127.0</td>\n",
       "      <td>2.343147e+08</td>\n",
       "    </tr>\n",
       "    <tr>\n",
       "      <th>29</th>\n",
       "      <td>41</td>\n",
       "      <td>'2018-06</td>\n",
       "      <td>219426719.0</td>\n",
       "      <td>2.185427e+08</td>\n",
       "    </tr>\n",
       "    <tr>\n",
       "      <th>30</th>\n",
       "      <td>42</td>\n",
       "      <td>'2018-07</td>\n",
       "      <td>221632774.0</td>\n",
       "      <td>2.207464e+08</td>\n",
       "    </tr>\n",
       "    <tr>\n",
       "      <th>31</th>\n",
       "      <td>43</td>\n",
       "      <td>'2018-08</td>\n",
       "      <td>214216200.0</td>\n",
       "      <td>2.133305e+08</td>\n",
       "    </tr>\n",
       "    <tr>\n",
       "      <th>32</th>\n",
       "      <td>48</td>\n",
       "      <td>'2019-01</td>\n",
       "      <td>221848014.0</td>\n",
       "      <td>2.208984e+08</td>\n",
       "    </tr>\n",
       "    <tr>\n",
       "      <th>33</th>\n",
       "      <td>49</td>\n",
       "      <td>'2019-02</td>\n",
       "      <td>190335812.0</td>\n",
       "      <td>1.895002e+08</td>\n",
       "    </tr>\n",
       "    <tr>\n",
       "      <th>34</th>\n",
       "      <td>50</td>\n",
       "      <td>'2019-03</td>\n",
       "      <td>233813277.0</td>\n",
       "      <td>2.328795e+08</td>\n",
       "    </tr>\n",
       "    <tr>\n",
       "      <th>35</th>\n",
       "      <td>51</td>\n",
       "      <td>'2019-04</td>\n",
       "      <td>235928571.0</td>\n",
       "      <td>2.350058e+08</td>\n",
       "    </tr>\n",
       "    <tr>\n",
       "      <th>36</th>\n",
       "      <td>52</td>\n",
       "      <td>'2019-05</td>\n",
       "      <td>243338053.0</td>\n",
       "      <td>2.423805e+08</td>\n",
       "    </tr>\n",
       "    <tr>\n",
       "      <th>37</th>\n",
       "      <td>53</td>\n",
       "      <td>'2019-06</td>\n",
       "      <td>221547039.0</td>\n",
       "      <td>2.206636e+08</td>\n",
       "    </tr>\n",
       "    <tr>\n",
       "      <th>38</th>\n",
       "      <td>54</td>\n",
       "      <td>'2019-07</td>\n",
       "      <td>229254848.0</td>\n",
       "      <td>2.283540e+08</td>\n",
       "    </tr>\n",
       "    <tr>\n",
       "      <th>39</th>\n",
       "      <td>55</td>\n",
       "      <td>'2019-08</td>\n",
       "      <td>219672653.0</td>\n",
       "      <td>2.187592e+08</td>\n",
       "    </tr>\n",
       "    <tr>\n",
       "      <th>40</th>\n",
       "      <td>60</td>\n",
       "      <td>'2020-01</td>\n",
       "      <td>207743593.0</td>\n",
       "      <td>2.069391e+08</td>\n",
       "    </tr>\n",
       "    <tr>\n",
       "      <th>41</th>\n",
       "      <td>61</td>\n",
       "      <td>'2020-02</td>\n",
       "      <td>169582542.0</td>\n",
       "      <td>1.690586e+08</td>\n",
       "    </tr>\n",
       "    <tr>\n",
       "      <th>42</th>\n",
       "      <td>62</td>\n",
       "      <td>'2020-03</td>\n",
       "      <td>139686779.0</td>\n",
       "      <td>1.393088e+08</td>\n",
       "    </tr>\n",
       "    <tr>\n",
       "      <th>43</th>\n",
       "      <td>63</td>\n",
       "      <td>'2020-04</td>\n",
       "      <td>149118804.0</td>\n",
       "      <td>1.486839e+08</td>\n",
       "    </tr>\n",
       "    <tr>\n",
       "      <th>44</th>\n",
       "      <td>64</td>\n",
       "      <td>'2020-05</td>\n",
       "      <td>164531970.0</td>\n",
       "      <td>3.702150e+11</td>\n",
       "    </tr>\n",
       "    <tr>\n",
       "      <th>45</th>\n",
       "      <td>65</td>\n",
       "      <td>'2020-06</td>\n",
       "      <td>171605690.0</td>\n",
       "      <td>3.583389e+11</td>\n",
       "    </tr>\n",
       "    <tr>\n",
       "      <th>46</th>\n",
       "      <td>66</td>\n",
       "      <td>'2020-07</td>\n",
       "      <td>183490485.0</td>\n",
       "      <td>3.702591e+11</td>\n",
       "    </tr>\n",
       "    <tr>\n",
       "      <th>47</th>\n",
       "      <td>67</td>\n",
       "      <td>'2020-08</td>\n",
       "      <td>152989131.0</td>\n",
       "      <td>3.709478e+11</td>\n",
       "    </tr>\n",
       "    <tr>\n",
       "      <th>48</th>\n",
       "      <td>72</td>\n",
       "      <td>'2021-01</td>\n",
       "      <td>142178674.0</td>\n",
       "      <td>3.746351e+11</td>\n",
       "    </tr>\n",
       "    <tr>\n",
       "      <th>49</th>\n",
       "      <td>73</td>\n",
       "      <td>'2021-02</td>\n",
       "      <td>142994483.0</td>\n",
       "      <td>3.385415e+11</td>\n",
       "    </tr>\n",
       "    <tr>\n",
       "      <th>50</th>\n",
       "      <td>74</td>\n",
       "      <td>'2021-03</td>\n",
       "      <td>179109500.0</td>\n",
       "      <td>3.750228e+11</td>\n",
       "    </tr>\n",
       "    <tr>\n",
       "      <th>51</th>\n",
       "      <td>75</td>\n",
       "      <td>'2021-04</td>\n",
       "      <td>177677244.0</td>\n",
       "      <td>3.646163e+11</td>\n",
       "    </tr>\n",
       "    <tr>\n",
       "      <th>52</th>\n",
       "      <td>76</td>\n",
       "      <td>'2021-05</td>\n",
       "      <td>174157717.0</td>\n",
       "      <td>3.765625e+11</td>\n",
       "    </tr>\n",
       "    <tr>\n",
       "      <th>53</th>\n",
       "      <td>77</td>\n",
       "      <td>'2021-06</td>\n",
       "      <td>179060211.0</td>\n",
       "      <td>3.644986e+11</td>\n",
       "    </tr>\n",
       "    <tr>\n",
       "      <th>54</th>\n",
       "      <td>78</td>\n",
       "      <td>'2021-07</td>\n",
       "      <td>159645605.0</td>\n",
       "      <td>3.765662e+11</td>\n",
       "    </tr>\n",
       "    <tr>\n",
       "      <th>55</th>\n",
       "      <td>79</td>\n",
       "      <td>'2021-08</td>\n",
       "      <td>152911075.0</td>\n",
       "      <td>3.766894e+11</td>\n",
       "    </tr>\n",
       "  </tbody>\n",
       "</table>\n",
       "</div>"
      ],
      "text/plain": [
       "    index      date     월별승차총승객수      월별하차총승객수\n",
       "0       0  '2015-01  437278792.0  4.350668e+08\n",
       "1       1  '2015-02  376783122.0  3.748843e+08\n",
       "2       2  '2015-03  478541350.0  4.764516e+08\n",
       "3       3  '2015-04  236022558.0  2.348989e+08\n",
       "4       4  '2015-05  234296965.0  2.331702e+08\n",
       "5       5  '2015-06  203119706.0  2.023999e+08\n",
       "6       6  '2015-07  218172679.0  2.172651e+08\n",
       "7       7  '2015-08  210102718.0  2.091306e+08\n",
       "8      12  '2016-01  209273211.0  2.083183e+08\n",
       "9      13  '2016-02  193647156.0  1.927735e+08\n",
       "10     14  '2016-03  236377700.0  2.354281e+08\n",
       "11     15  '2016-04  228348725.0  2.274314e+08\n",
       "12     16  '2016-05  234166653.0  2.331757e+08\n",
       "13     17  '2016-06  222611572.0  2.216888e+08\n",
       "14     18  '2016-07  219465787.0  2.184620e+08\n",
       "15     19  '2016-08  214193213.0  2.132246e+08\n",
       "16     24  '2017-01  205502324.0  2.045320e+08\n",
       "17     25  '2017-02  204936457.0  2.039852e+08\n",
       "18     26  '2017-03  237179303.0  2.362040e+08\n",
       "19     27  '2017-04  227780690.0  2.267899e+08\n",
       "20     28  '2017-05  227836340.0  2.267997e+08\n",
       "21     29  '2017-06  221308605.0  2.203622e+08\n",
       "22     30  '2017-07  214815271.0  2.138586e+08\n",
       "23     31  '2017-08  213776584.0  2.128094e+08\n",
       "24     36  '2018-01  213710722.0  2.128495e+08\n",
       "25     37  '2018-02  189110822.0  1.883409e+08\n",
       "26     38  '2018-03  235296346.0  2.344100e+08\n",
       "27     39  '2018-04  228971702.0  2.280969e+08\n",
       "28     40  '2018-05  235253127.0  2.343147e+08\n",
       "29     41  '2018-06  219426719.0  2.185427e+08\n",
       "30     42  '2018-07  221632774.0  2.207464e+08\n",
       "31     43  '2018-08  214216200.0  2.133305e+08\n",
       "32     48  '2019-01  221848014.0  2.208984e+08\n",
       "33     49  '2019-02  190335812.0  1.895002e+08\n",
       "34     50  '2019-03  233813277.0  2.328795e+08\n",
       "35     51  '2019-04  235928571.0  2.350058e+08\n",
       "36     52  '2019-05  243338053.0  2.423805e+08\n",
       "37     53  '2019-06  221547039.0  2.206636e+08\n",
       "38     54  '2019-07  229254848.0  2.283540e+08\n",
       "39     55  '2019-08  219672653.0  2.187592e+08\n",
       "40     60  '2020-01  207743593.0  2.069391e+08\n",
       "41     61  '2020-02  169582542.0  1.690586e+08\n",
       "42     62  '2020-03  139686779.0  1.393088e+08\n",
       "43     63  '2020-04  149118804.0  1.486839e+08\n",
       "44     64  '2020-05  164531970.0  3.702150e+11\n",
       "45     65  '2020-06  171605690.0  3.583389e+11\n",
       "46     66  '2020-07  183490485.0  3.702591e+11\n",
       "47     67  '2020-08  152989131.0  3.709478e+11\n",
       "48     72  '2021-01  142178674.0  3.746351e+11\n",
       "49     73  '2021-02  142994483.0  3.385415e+11\n",
       "50     74  '2021-03  179109500.0  3.750228e+11\n",
       "51     75  '2021-04  177677244.0  3.646163e+11\n",
       "52     76  '2021-05  174157717.0  3.765625e+11\n",
       "53     77  '2021-06  179060211.0  3.644986e+11\n",
       "54     78  '2021-07  159645605.0  3.765662e+11\n",
       "55     79  '2021-08  152911075.0  3.766894e+11"
      ]
     },
     "execution_count": 90,
     "metadata": {},
     "output_type": "execute_result"
    }
   ],
   "source": [
    "# 비교대상 없는 09월부터 12월까지 자료 삭제\n",
    "sub2 = sub2.drop([8, 9, 10, 11,\n",
    "                 20, 21, 22, 23,\n",
    "                 32, 33, 34, 35,\n",
    "                 44, 45, 46, 47,\n",
    "                 56, 57, 58, 59,\n",
    "                 68, 69, 70, 71])\n",
    "sub2 = sub2.reset_index()\n",
    "sub2"
   ]
  },
  {
   "cell_type": "markdown",
   "id": "39b49efb",
   "metadata": {},
   "source": [
    "#### 2016-2017"
   ]
  },
  {
   "cell_type": "code",
   "execution_count": 91,
   "id": "836657d7",
   "metadata": {
    "scrolled": true
   },
   "outputs": [
    {
     "data": {
      "text/plain": [
       "[-3770887.0,\n",
       " 11289301.0,\n",
       " 801603.0,\n",
       " -568035.0,\n",
       " -6330313.0,\n",
       " -1302967.0,\n",
       " -4650516.0,\n",
       " -416629.0]"
      ]
     },
     "execution_count": 91,
     "metadata": {},
     "output_type": "execute_result"
    }
   ],
   "source": [
    "# 승차 전년도와 비교(양)\n",
    "# 2016년도와 2017년도\n",
    "y1617_change = []\n",
    "for i in range(8, 16):\n",
    "    j = i + 8\n",
    "    num2016 = sub2.iloc[i, 2]\n",
    "    num2017 = sub2.iloc[j, 2]\n",
    "    minus = num2017 - num2016\n",
    "    y1617_change.append(minus)\n",
    "\n",
    "y1617_change"
   ]
  },
  {
   "cell_type": "markdown",
   "id": "9092a5dc",
   "metadata": {},
   "source": [
    "#### 2017-2018"
   ]
  },
  {
   "cell_type": "code",
   "execution_count": 92,
   "id": "c5098eb4",
   "metadata": {},
   "outputs": [
    {
     "data": {
      "text/plain": [
       "[8208398.0,\n",
       " -15825635.0,\n",
       " -1882957.0,\n",
       " 1191012.0,\n",
       " 7416787.0,\n",
       " -1881886.0,\n",
       " 6817503.0,\n",
       " 439616.0]"
      ]
     },
     "execution_count": 92,
     "metadata": {},
     "output_type": "execute_result"
    }
   ],
   "source": [
    "# 승차 전년도와 비교(양)\n",
    "# 2017년도와 2018년도\n",
    "y1718_change = []\n",
    "for i in range(16, 24):\n",
    "    j = i + 8\n",
    "    num2017 = sub2.iloc[i, 2]\n",
    "    num2018 = sub2.iloc[j, 2]\n",
    "    minus = num2018 - num2017\n",
    "    y1718_change.append(minus)\n",
    "\n",
    "y1718_change"
   ]
  },
  {
   "cell_type": "markdown",
   "id": "08b40831",
   "metadata": {},
   "source": [
    "#### 2018-2019"
   ]
  },
  {
   "cell_type": "code",
   "execution_count": 93,
   "id": "8bacbbc7",
   "metadata": {},
   "outputs": [
    {
     "data": {
      "text/plain": [
       "[8137292.0,\n",
       " 1224990.0,\n",
       " -1483069.0,\n",
       " 6956869.0,\n",
       " 8084926.0,\n",
       " 2120320.0,\n",
       " 7622074.0,\n",
       " 5456453.0]"
      ]
     },
     "execution_count": 93,
     "metadata": {},
     "output_type": "execute_result"
    }
   ],
   "source": [
    "# 승차 전년도와 비교(양)\n",
    "# 2018년도와 2019년도\n",
    "y1819_change = []\n",
    "for i in range(24, 32):\n",
    "    j = i + 8\n",
    "    num2018 = sub2.iloc[i, 2]\n",
    "    num2019 = sub2.iloc[j, 2]\n",
    "    minus = num2019 - num2018\n",
    "    y1819_change.append(minus)\n",
    "\n",
    "y1819_change"
   ]
  },
  {
   "cell_type": "markdown",
   "id": "19d57c78",
   "metadata": {},
   "source": [
    "#### 2019-2020"
   ]
  },
  {
   "cell_type": "code",
   "execution_count": 94,
   "id": "19abab3c",
   "metadata": {},
   "outputs": [
    {
     "data": {
      "text/plain": [
       "[-14104421.0,\n",
       " -20753270.0,\n",
       " -94126498.0,\n",
       " -86809767.0,\n",
       " -78806083.0,\n",
       " -49941349.0,\n",
       " -45764363.0,\n",
       " -66683522.0]"
      ]
     },
     "execution_count": 94,
     "metadata": {},
     "output_type": "execute_result"
    }
   ],
   "source": [
    "# 승차 전년도와 비교(양)\n",
    "# 2019년도와 2020년도\n",
    "y1920_change = []\n",
    "for i in range(32, 40):\n",
    "    j = i + 8\n",
    "    num2019 = sub2.iloc[i, 2]\n",
    "    num2020 = sub2.iloc[j, 2]\n",
    "    minus = num2020 - num2019\n",
    "    y1920_change.append(minus)\n",
    "\n",
    "y1920_change"
   ]
  },
  {
   "cell_type": "markdown",
   "id": "bf527aa6",
   "metadata": {},
   "source": [
    "#### 2020-2021"
   ]
  },
  {
   "cell_type": "code",
   "execution_count": 95,
   "id": "108b4278",
   "metadata": {},
   "outputs": [
    {
     "data": {
      "text/plain": [
       "[-65564919.0,\n",
       " -26588059.0,\n",
       " 39422721.0,\n",
       " 28558440.0,\n",
       " 9625747.0,\n",
       " 7454521.0,\n",
       " -23844880.0,\n",
       " -78056.0]"
      ]
     },
     "execution_count": 95,
     "metadata": {},
     "output_type": "execute_result"
    }
   ],
   "source": [
    "# 승차 전년도와 비교(양)\n",
    "# 2020년도와 2021년도\n",
    "y2021_change = []\n",
    "for i in range(40, 48):\n",
    "    j = i + 8\n",
    "    num2020 = sub2.iloc[i, 2]\n",
    "    num2021 = sub2.iloc[j, 2]\n",
    "    minus = num2021 - num2020\n",
    "    y2021_change.append(minus)\n",
    "\n",
    "y2021_change"
   ]
  },
  {
   "cell_type": "markdown",
   "id": "0ce8889f",
   "metadata": {},
   "source": [
    "## 승차 승객 수 전년도와 비교(비율)"
   ]
  },
  {
   "cell_type": "markdown",
   "id": "56a7d2c4",
   "metadata": {},
   "source": [
    "#### 2016-2017"
   ]
  },
  {
   "cell_type": "code",
   "execution_count": 96,
   "id": "2afab083",
   "metadata": {},
   "outputs": [
    {
     "data": {
      "text/plain": [
       "[-1.8018966603422546,\n",
       " 5.829830519173749,\n",
       " 0.339119553155818,\n",
       " -0.24875768410793625,\n",
       " -2.703336670230325,\n",
       " -0.5853096441904646,\n",
       " -2.119016391379491,\n",
       " -0.19451083167607183]"
      ]
     },
     "execution_count": 96,
     "metadata": {},
     "output_type": "execute_result"
    }
   ],
   "source": [
    "# 승차 전년도와 비교(비율)\n",
    "# 2016년도와 2017년도\n",
    "y1617_change_rate = []\n",
    "for i in range(8, 16):\n",
    "    j = i + 8\n",
    "    num2016 = sub2.iloc[i, 2]\n",
    "    num2017 = sub2.iloc[j, 2]\n",
    "    minus = num2017 - num2016\n",
    "    percent = (minus / num2016) * 100\n",
    "    y1617_change_rate.append(percent)\n",
    "\n",
    "y1617_change_rate"
   ]
  },
  {
   "cell_type": "markdown",
   "id": "c4b15c89",
   "metadata": {},
   "source": [
    "#### 2017-2018"
   ]
  },
  {
   "cell_type": "code",
   "execution_count": 97,
   "id": "c47979a1",
   "metadata": {},
   "outputs": [
    {
     "data": {
      "text/plain": [
       "[3.9943090862563673,\n",
       " -7.722215574362154,\n",
       " -0.7938960002762129,\n",
       " 0.5228766319041355,\n",
       " 3.255313441218376,\n",
       " -0.8503447030448726,\n",
       " 3.1736584500084266,\n",
       " 0.20564272839161843]"
      ]
     },
     "execution_count": 97,
     "metadata": {},
     "output_type": "execute_result"
    }
   ],
   "source": [
    "# 승차 전년도와 비교(비율)\n",
    "# 2017년도와 2018년도\n",
    "y1718_change_rate = []\n",
    "for i in range(16, 24):\n",
    "    j = i + 8\n",
    "    num2017 = sub2.iloc[i, 2]\n",
    "    num2018 = sub2.iloc[j, 2]\n",
    "    minus = num2018 - num2017\n",
    "    percent = (minus / num2017) * 100\n",
    "    y1718_change_rate.append(percent)\n",
    "\n",
    "y1718_change_rate"
   ]
  },
  {
   "cell_type": "markdown",
   "id": "11c83b15",
   "metadata": {},
   "source": [
    "#### 2018-2019"
   ]
  },
  {
   "cell_type": "code",
   "execution_count": 98,
   "id": "8fcbda57",
   "metadata": {},
   "outputs": [
    {
     "data": {
      "text/plain": [
       "[3.807619909683334,\n",
       " 0.6477630349467784,\n",
       " -0.6302983557594218,\n",
       " 3.0383095112775114,\n",
       " 3.436692257017268,\n",
       " 0.9662998242251437,\n",
       " 3.4390554530531663,\n",
       " 2.547171035617288]"
      ]
     },
     "execution_count": 98,
     "metadata": {},
     "output_type": "execute_result"
    }
   ],
   "source": [
    "# 승차 전년도와 비교(비율)\n",
    "# 2018년도와 2019년도\n",
    "y1819_change_rate = []\n",
    "for i in range(24, 32):\n",
    "    j = i + 8\n",
    "    num2018 = sub2.iloc[i, 2]\n",
    "    num2019 = sub2.iloc[j, 2]\n",
    "    minus = num2019 - num2018\n",
    "    percent = (minus / num2018) * 100\n",
    "    y1819_change_rate.append(percent)\n",
    "\n",
    "y1819_change_rate"
   ]
  },
  {
   "cell_type": "markdown",
   "id": "49a925c7",
   "metadata": {},
   "source": [
    "#### 2019-2020"
   ]
  },
  {
   "cell_type": "code",
   "execution_count": 99,
   "id": "55192358",
   "metadata": {},
   "outputs": [
    {
     "data": {
      "text/plain": [
       "[-6.357695408533159,\n",
       " -10.903502489589295,\n",
       " -40.25712278092745,\n",
       " -36.794936124968096,\n",
       " -32.38543336253291,\n",
       " -22.542097256375428,\n",
       " -19.962222565518005,\n",
       " -30.3558595434271]"
      ]
     },
     "execution_count": 99,
     "metadata": {},
     "output_type": "execute_result"
    }
   ],
   "source": [
    "# 승차 전년도와 비교(비율)\n",
    "# 2019년도와 2020년도\n",
    "y1920_change_rate = []\n",
    "for i in range(32, 40):\n",
    "    j = i + 8\n",
    "    num2019 = sub2.iloc[i, 2]\n",
    "    num2020 = sub2.iloc[j, 2]\n",
    "    minus = num2020 - num2019\n",
    "    percent = (minus / num2019) * 100\n",
    "    y1920_change_rate.append(percent)\n",
    "\n",
    "y1920_change_rate"
   ]
  },
  {
   "cell_type": "markdown",
   "id": "1bbf91c7",
   "metadata": {},
   "source": [
    "#### 2020-2021"
   ]
  },
  {
   "cell_type": "code",
   "execution_count": 100,
   "id": "e543fdea",
   "metadata": {},
   "outputs": [
    {
     "data": {
      "text/plain": [
       "[-31.560501122169388,\n",
       " -15.67853547094488,\n",
       " 28.222227817279688,\n",
       " 19.151467979853166,\n",
       " 5.850380932046216,\n",
       " 4.343982416900046,\n",
       " -12.99515884978995,\n",
       " -0.051020617928733775]"
      ]
     },
     "execution_count": 100,
     "metadata": {},
     "output_type": "execute_result"
    }
   ],
   "source": [
    "# 승차 전년도와 비교(비율)\n",
    "# 2020년도와 2021년도\n",
    "y2021_change_rate = []\n",
    "for i in range(40, 48):\n",
    "    j = i + 8\n",
    "    num2020 = sub2.iloc[i, 2]\n",
    "    num2021 = sub2.iloc[j, 2]\n",
    "    minus = num2021 - num2020\n",
    "    percent = (minus / num2020) * 100\n",
    "    y2021_change_rate.append(percent)\n",
    "\n",
    "y2021_change_rate"
   ]
  },
  {
   "cell_type": "markdown",
   "id": "e9b8207f",
   "metadata": {},
   "source": [
    "### 년도별 비교 값 모으기"
   ]
  },
  {
   "cell_type": "code",
   "execution_count": 101,
   "id": "1dd2b9ca",
   "metadata": {},
   "outputs": [
    {
     "data": {
      "text/html": [
       "<div>\n",
       "<style scoped>\n",
       "    .dataframe tbody tr th:only-of-type {\n",
       "        vertical-align: middle;\n",
       "    }\n",
       "\n",
       "    .dataframe tbody tr th {\n",
       "        vertical-align: top;\n",
       "    }\n",
       "\n",
       "    .dataframe thead th {\n",
       "        text-align: right;\n",
       "    }\n",
       "</style>\n",
       "<table border=\"1\" class=\"dataframe\">\n",
       "  <thead>\n",
       "    <tr style=\"text-align: right;\">\n",
       "      <th></th>\n",
       "      <th>2016-2017년_총승차승객수변화</th>\n",
       "      <th>2017-2018년_총승차승객수변화</th>\n",
       "      <th>2018-2019년_총승차승객수변화</th>\n",
       "      <th>2019-2020년_총승차승객수변화</th>\n",
       "      <th>2020-2021년_총승차승객수변화</th>\n",
       "      <th>2016-2017년_총승차승객수변화비율</th>\n",
       "      <th>2017-2018년_총승차승객수변화비율</th>\n",
       "      <th>2018-2019년_총승차승객수변화비율</th>\n",
       "      <th>2019-2020년_총승차승객수변화비율</th>\n",
       "      <th>2020-2021년_총승차승객수변화비율</th>\n",
       "    </tr>\n",
       "  </thead>\n",
       "  <tbody>\n",
       "    <tr>\n",
       "      <th>01</th>\n",
       "      <td>-3770887.0</td>\n",
       "      <td>8208398.0</td>\n",
       "      <td>8137292.0</td>\n",
       "      <td>-14104421.0</td>\n",
       "      <td>-65564919.0</td>\n",
       "      <td>-1.801897</td>\n",
       "      <td>3.994309</td>\n",
       "      <td>3.807620</td>\n",
       "      <td>-6.357695</td>\n",
       "      <td>-31.560501</td>\n",
       "    </tr>\n",
       "    <tr>\n",
       "      <th>02</th>\n",
       "      <td>11289301.0</td>\n",
       "      <td>-15825635.0</td>\n",
       "      <td>1224990.0</td>\n",
       "      <td>-20753270.0</td>\n",
       "      <td>-26588059.0</td>\n",
       "      <td>5.829831</td>\n",
       "      <td>-7.722216</td>\n",
       "      <td>0.647763</td>\n",
       "      <td>-10.903502</td>\n",
       "      <td>-15.678535</td>\n",
       "    </tr>\n",
       "    <tr>\n",
       "      <th>03</th>\n",
       "      <td>801603.0</td>\n",
       "      <td>-1882957.0</td>\n",
       "      <td>-1483069.0</td>\n",
       "      <td>-94126498.0</td>\n",
       "      <td>39422721.0</td>\n",
       "      <td>0.339120</td>\n",
       "      <td>-0.793896</td>\n",
       "      <td>-0.630298</td>\n",
       "      <td>-40.257123</td>\n",
       "      <td>28.222228</td>\n",
       "    </tr>\n",
       "    <tr>\n",
       "      <th>04</th>\n",
       "      <td>-568035.0</td>\n",
       "      <td>1191012.0</td>\n",
       "      <td>6956869.0</td>\n",
       "      <td>-86809767.0</td>\n",
       "      <td>28558440.0</td>\n",
       "      <td>-0.248758</td>\n",
       "      <td>0.522877</td>\n",
       "      <td>3.038310</td>\n",
       "      <td>-36.794936</td>\n",
       "      <td>19.151468</td>\n",
       "    </tr>\n",
       "    <tr>\n",
       "      <th>05</th>\n",
       "      <td>-6330313.0</td>\n",
       "      <td>7416787.0</td>\n",
       "      <td>8084926.0</td>\n",
       "      <td>-78806083.0</td>\n",
       "      <td>9625747.0</td>\n",
       "      <td>-2.703337</td>\n",
       "      <td>3.255313</td>\n",
       "      <td>3.436692</td>\n",
       "      <td>-32.385433</td>\n",
       "      <td>5.850381</td>\n",
       "    </tr>\n",
       "    <tr>\n",
       "      <th>06</th>\n",
       "      <td>-1302967.0</td>\n",
       "      <td>-1881886.0</td>\n",
       "      <td>2120320.0</td>\n",
       "      <td>-49941349.0</td>\n",
       "      <td>7454521.0</td>\n",
       "      <td>-0.585310</td>\n",
       "      <td>-0.850345</td>\n",
       "      <td>0.966300</td>\n",
       "      <td>-22.542097</td>\n",
       "      <td>4.343982</td>\n",
       "    </tr>\n",
       "    <tr>\n",
       "      <th>07</th>\n",
       "      <td>-4650516.0</td>\n",
       "      <td>6817503.0</td>\n",
       "      <td>7622074.0</td>\n",
       "      <td>-45764363.0</td>\n",
       "      <td>-23844880.0</td>\n",
       "      <td>-2.119016</td>\n",
       "      <td>3.173658</td>\n",
       "      <td>3.439055</td>\n",
       "      <td>-19.962223</td>\n",
       "      <td>-12.995159</td>\n",
       "    </tr>\n",
       "    <tr>\n",
       "      <th>08</th>\n",
       "      <td>-416629.0</td>\n",
       "      <td>439616.0</td>\n",
       "      <td>5456453.0</td>\n",
       "      <td>-66683522.0</td>\n",
       "      <td>-78056.0</td>\n",
       "      <td>-0.194511</td>\n",
       "      <td>0.205643</td>\n",
       "      <td>2.547171</td>\n",
       "      <td>-30.355860</td>\n",
       "      <td>-0.051021</td>\n",
       "    </tr>\n",
       "  </tbody>\n",
       "</table>\n",
       "</div>"
      ],
      "text/plain": [
       "    2016-2017년_총승차승객수변화  2017-2018년_총승차승객수변화  2018-2019년_총승차승객수변화  \\\n",
       "01           -3770887.0            8208398.0            8137292.0   \n",
       "02           11289301.0          -15825635.0            1224990.0   \n",
       "03             801603.0           -1882957.0           -1483069.0   \n",
       "04            -568035.0            1191012.0            6956869.0   \n",
       "05           -6330313.0            7416787.0            8084926.0   \n",
       "06           -1302967.0           -1881886.0            2120320.0   \n",
       "07           -4650516.0            6817503.0            7622074.0   \n",
       "08            -416629.0             439616.0            5456453.0   \n",
       "\n",
       "    2019-2020년_총승차승객수변화  2020-2021년_총승차승객수변화  2016-2017년_총승차승객수변화비율  \\\n",
       "01          -14104421.0          -65564919.0              -1.801897   \n",
       "02          -20753270.0          -26588059.0               5.829831   \n",
       "03          -94126498.0           39422721.0               0.339120   \n",
       "04          -86809767.0           28558440.0              -0.248758   \n",
       "05          -78806083.0            9625747.0              -2.703337   \n",
       "06          -49941349.0            7454521.0              -0.585310   \n",
       "07          -45764363.0          -23844880.0              -2.119016   \n",
       "08          -66683522.0             -78056.0              -0.194511   \n",
       "\n",
       "    2017-2018년_총승차승객수변화비율  2018-2019년_총승차승객수변화비율  2019-2020년_총승차승객수변화비율  \\\n",
       "01               3.994309               3.807620              -6.357695   \n",
       "02              -7.722216               0.647763             -10.903502   \n",
       "03              -0.793896              -0.630298             -40.257123   \n",
       "04               0.522877               3.038310             -36.794936   \n",
       "05               3.255313               3.436692             -32.385433   \n",
       "06              -0.850345               0.966300             -22.542097   \n",
       "07               3.173658               3.439055             -19.962223   \n",
       "08               0.205643               2.547171             -30.355860   \n",
       "\n",
       "    2020-2021년_총승차승객수변화비율  \n",
       "01             -31.560501  \n",
       "02             -15.678535  \n",
       "03              28.222228  \n",
       "04              19.151468  \n",
       "05               5.850381  \n",
       "06               4.343982  \n",
       "07             -12.995159  \n",
       "08              -0.051021  "
      ]
     },
     "execution_count": 101,
     "metadata": {},
     "output_type": "execute_result"
    }
   ],
   "source": [
    "# 2년씩 비교 리스트 값 모으기\n",
    "# 값이 많아 5년치만 비교(2016-2021년)\n",
    "dat = pd.DataFrame({'2016-2017년_총승차승객수변화' : y1617_change,\n",
    "                    '2017-2018년_총승차승객수변화' : y1718_change,\n",
    "                    '2018-2019년_총승차승객수변화' : y1819_change,\n",
    "                    '2019-2020년_총승차승객수변화' : y1920_change,\n",
    "                    '2020-2021년_총승차승객수변화' : y2021_change,\n",
    "                    '2016-2017년_총승차승객수변화비율' : y1617_change_rate,\n",
    "                    '2017-2018년_총승차승객수변화비율' : y1718_change_rate,\n",
    "                    '2018-2019년_총승차승객수변화비율' : y1819_change_rate,\n",
    "                    '2019-2020년_총승차승객수변화비율' : y1920_change_rate,\n",
    "                    '2020-2021년_총승차승객수변화비율' : y2021_change_rate,\n",
    "                   },\n",
    "                  index = ['01', '02', '03', '04', '05', '06', '07', '08'])\n",
    "dat"
   ]
  },
  {
   "cell_type": "markdown",
   "id": "3c2a4412",
   "metadata": {},
   "source": [
    "# 그래프(승객 수 변화, 변화 비율)"
   ]
  },
  {
   "cell_type": "markdown",
   "id": "dfcca661",
   "metadata": {},
   "source": [
    "### 다른 연도 같은 달 승객 수 변화"
   ]
  },
  {
   "cell_type": "code",
   "execution_count": 102,
   "id": "892dab6c",
   "metadata": {},
   "outputs": [
    {
     "data": {
      "application/vnd.plotly.v1+json": {
       "config": {
        "linkText": "Export to plot.ly",
        "plotlyServerURL": "https://plot.ly",
        "showLink": true
       },
       "data": [
        {
         "marker": {
          "color": "rgba(255, 153, 51, 0.6)",
          "line": {
           "color": "rgba(255, 153, 51, 1.0)",
           "width": 1
          }
         },
         "name": "2016-2017년_총승차승객수변화",
         "orientation": "v",
         "text": "",
         "type": "bar",
         "x": [
          "01",
          "02",
          "03",
          "04",
          "05",
          "06",
          "07",
          "08"
         ],
         "y": [
          -3770887,
          11289301,
          801603,
          -568035,
          -6330313,
          -1302967,
          -4650516,
          -416629
         ]
        },
        {
         "marker": {
          "color": "rgba(55, 128, 191, 0.6)",
          "line": {
           "color": "rgba(55, 128, 191, 1.0)",
           "width": 1
          }
         },
         "name": "2017-2018년_총승차승객수변화",
         "orientation": "v",
         "text": "",
         "type": "bar",
         "x": [
          "01",
          "02",
          "03",
          "04",
          "05",
          "06",
          "07",
          "08"
         ],
         "y": [
          8208398,
          -15825635,
          -1882957,
          1191012,
          7416787,
          -1881886,
          6817503,
          439616
         ]
        },
        {
         "marker": {
          "color": "rgba(50, 171, 96, 0.6)",
          "line": {
           "color": "rgba(50, 171, 96, 1.0)",
           "width": 1
          }
         },
         "name": "2018-2019년_총승차승객수변화",
         "orientation": "v",
         "text": "",
         "type": "bar",
         "x": [
          "01",
          "02",
          "03",
          "04",
          "05",
          "06",
          "07",
          "08"
         ],
         "y": [
          8137292,
          1224990,
          -1483069,
          6956869,
          8084926,
          2120320,
          7622074,
          5456453
         ]
        },
        {
         "marker": {
          "color": "rgba(128, 0, 128, 0.6)",
          "line": {
           "color": "rgba(128, 0, 128, 1.0)",
           "width": 1
          }
         },
         "name": "2019-2020년_총승차승객수변화",
         "orientation": "v",
         "text": "",
         "type": "bar",
         "x": [
          "01",
          "02",
          "03",
          "04",
          "05",
          "06",
          "07",
          "08"
         ],
         "y": [
          -14104421,
          -20753270,
          -94126498,
          -86809767,
          -78806083,
          -49941349,
          -45764363,
          -66683522
         ]
        },
        {
         "marker": {
          "color": "rgba(219, 64, 82, 0.6)",
          "line": {
           "color": "rgba(219, 64, 82, 1.0)",
           "width": 1
          }
         },
         "name": "2020-2021년_총승차승객수변화",
         "orientation": "v",
         "text": "",
         "type": "bar",
         "x": [
          "01",
          "02",
          "03",
          "04",
          "05",
          "06",
          "07",
          "08"
         ],
         "y": [
          -65564919,
          -26588059,
          39422721,
          28558440,
          9625747,
          7454521,
          -23844880,
          -78056
         ]
        }
       ],
       "layout": {
        "legend": {
         "bgcolor": "#1A1A1C",
         "font": {
          "color": "#D9D9D9"
         }
        },
        "paper_bgcolor": "#1A1A1C",
        "plot_bgcolor": "#1A1A1C",
        "template": {
         "data": {
          "bar": [
           {
            "error_x": {
             "color": "#2a3f5f"
            },
            "error_y": {
             "color": "#2a3f5f"
            },
            "marker": {
             "line": {
              "color": "#E5ECF6",
              "width": 0.5
             },
             "pattern": {
              "fillmode": "overlay",
              "size": 10,
              "solidity": 0.2
             }
            },
            "type": "bar"
           }
          ],
          "barpolar": [
           {
            "marker": {
             "line": {
              "color": "#E5ECF6",
              "width": 0.5
             },
             "pattern": {
              "fillmode": "overlay",
              "size": 10,
              "solidity": 0.2
             }
            },
            "type": "barpolar"
           }
          ],
          "carpet": [
           {
            "aaxis": {
             "endlinecolor": "#2a3f5f",
             "gridcolor": "white",
             "linecolor": "white",
             "minorgridcolor": "white",
             "startlinecolor": "#2a3f5f"
            },
            "baxis": {
             "endlinecolor": "#2a3f5f",
             "gridcolor": "white",
             "linecolor": "white",
             "minorgridcolor": "white",
             "startlinecolor": "#2a3f5f"
            },
            "type": "carpet"
           }
          ],
          "choropleth": [
           {
            "colorbar": {
             "outlinewidth": 0,
             "ticks": ""
            },
            "type": "choropleth"
           }
          ],
          "contour": [
           {
            "colorbar": {
             "outlinewidth": 0,
             "ticks": ""
            },
            "colorscale": [
             [
              0,
              "#0d0887"
             ],
             [
              0.1111111111111111,
              "#46039f"
             ],
             [
              0.2222222222222222,
              "#7201a8"
             ],
             [
              0.3333333333333333,
              "#9c179e"
             ],
             [
              0.4444444444444444,
              "#bd3786"
             ],
             [
              0.5555555555555556,
              "#d8576b"
             ],
             [
              0.6666666666666666,
              "#ed7953"
             ],
             [
              0.7777777777777778,
              "#fb9f3a"
             ],
             [
              0.8888888888888888,
              "#fdca26"
             ],
             [
              1,
              "#f0f921"
             ]
            ],
            "type": "contour"
           }
          ],
          "contourcarpet": [
           {
            "colorbar": {
             "outlinewidth": 0,
             "ticks": ""
            },
            "type": "contourcarpet"
           }
          ],
          "heatmap": [
           {
            "colorbar": {
             "outlinewidth": 0,
             "ticks": ""
            },
            "colorscale": [
             [
              0,
              "#0d0887"
             ],
             [
              0.1111111111111111,
              "#46039f"
             ],
             [
              0.2222222222222222,
              "#7201a8"
             ],
             [
              0.3333333333333333,
              "#9c179e"
             ],
             [
              0.4444444444444444,
              "#bd3786"
             ],
             [
              0.5555555555555556,
              "#d8576b"
             ],
             [
              0.6666666666666666,
              "#ed7953"
             ],
             [
              0.7777777777777778,
              "#fb9f3a"
             ],
             [
              0.8888888888888888,
              "#fdca26"
             ],
             [
              1,
              "#f0f921"
             ]
            ],
            "type": "heatmap"
           }
          ],
          "heatmapgl": [
           {
            "colorbar": {
             "outlinewidth": 0,
             "ticks": ""
            },
            "colorscale": [
             [
              0,
              "#0d0887"
             ],
             [
              0.1111111111111111,
              "#46039f"
             ],
             [
              0.2222222222222222,
              "#7201a8"
             ],
             [
              0.3333333333333333,
              "#9c179e"
             ],
             [
              0.4444444444444444,
              "#bd3786"
             ],
             [
              0.5555555555555556,
              "#d8576b"
             ],
             [
              0.6666666666666666,
              "#ed7953"
             ],
             [
              0.7777777777777778,
              "#fb9f3a"
             ],
             [
              0.8888888888888888,
              "#fdca26"
             ],
             [
              1,
              "#f0f921"
             ]
            ],
            "type": "heatmapgl"
           }
          ],
          "histogram": [
           {
            "marker": {
             "pattern": {
              "fillmode": "overlay",
              "size": 10,
              "solidity": 0.2
             }
            },
            "type": "histogram"
           }
          ],
          "histogram2d": [
           {
            "colorbar": {
             "outlinewidth": 0,
             "ticks": ""
            },
            "colorscale": [
             [
              0,
              "#0d0887"
             ],
             [
              0.1111111111111111,
              "#46039f"
             ],
             [
              0.2222222222222222,
              "#7201a8"
             ],
             [
              0.3333333333333333,
              "#9c179e"
             ],
             [
              0.4444444444444444,
              "#bd3786"
             ],
             [
              0.5555555555555556,
              "#d8576b"
             ],
             [
              0.6666666666666666,
              "#ed7953"
             ],
             [
              0.7777777777777778,
              "#fb9f3a"
             ],
             [
              0.8888888888888888,
              "#fdca26"
             ],
             [
              1,
              "#f0f921"
             ]
            ],
            "type": "histogram2d"
           }
          ],
          "histogram2dcontour": [
           {
            "colorbar": {
             "outlinewidth": 0,
             "ticks": ""
            },
            "colorscale": [
             [
              0,
              "#0d0887"
             ],
             [
              0.1111111111111111,
              "#46039f"
             ],
             [
              0.2222222222222222,
              "#7201a8"
             ],
             [
              0.3333333333333333,
              "#9c179e"
             ],
             [
              0.4444444444444444,
              "#bd3786"
             ],
             [
              0.5555555555555556,
              "#d8576b"
             ],
             [
              0.6666666666666666,
              "#ed7953"
             ],
             [
              0.7777777777777778,
              "#fb9f3a"
             ],
             [
              0.8888888888888888,
              "#fdca26"
             ],
             [
              1,
              "#f0f921"
             ]
            ],
            "type": "histogram2dcontour"
           }
          ],
          "mesh3d": [
           {
            "colorbar": {
             "outlinewidth": 0,
             "ticks": ""
            },
            "type": "mesh3d"
           }
          ],
          "parcoords": [
           {
            "line": {
             "colorbar": {
              "outlinewidth": 0,
              "ticks": ""
             }
            },
            "type": "parcoords"
           }
          ],
          "pie": [
           {
            "automargin": true,
            "type": "pie"
           }
          ],
          "scatter": [
           {
            "marker": {
             "colorbar": {
              "outlinewidth": 0,
              "ticks": ""
             }
            },
            "type": "scatter"
           }
          ],
          "scatter3d": [
           {
            "line": {
             "colorbar": {
              "outlinewidth": 0,
              "ticks": ""
             }
            },
            "marker": {
             "colorbar": {
              "outlinewidth": 0,
              "ticks": ""
             }
            },
            "type": "scatter3d"
           }
          ],
          "scattercarpet": [
           {
            "marker": {
             "colorbar": {
              "outlinewidth": 0,
              "ticks": ""
             }
            },
            "type": "scattercarpet"
           }
          ],
          "scattergeo": [
           {
            "marker": {
             "colorbar": {
              "outlinewidth": 0,
              "ticks": ""
             }
            },
            "type": "scattergeo"
           }
          ],
          "scattergl": [
           {
            "marker": {
             "colorbar": {
              "outlinewidth": 0,
              "ticks": ""
             }
            },
            "type": "scattergl"
           }
          ],
          "scattermapbox": [
           {
            "marker": {
             "colorbar": {
              "outlinewidth": 0,
              "ticks": ""
             }
            },
            "type": "scattermapbox"
           }
          ],
          "scatterpolar": [
           {
            "marker": {
             "colorbar": {
              "outlinewidth": 0,
              "ticks": ""
             }
            },
            "type": "scatterpolar"
           }
          ],
          "scatterpolargl": [
           {
            "marker": {
             "colorbar": {
              "outlinewidth": 0,
              "ticks": ""
             }
            },
            "type": "scatterpolargl"
           }
          ],
          "scatterternary": [
           {
            "marker": {
             "colorbar": {
              "outlinewidth": 0,
              "ticks": ""
             }
            },
            "type": "scatterternary"
           }
          ],
          "surface": [
           {
            "colorbar": {
             "outlinewidth": 0,
             "ticks": ""
            },
            "colorscale": [
             [
              0,
              "#0d0887"
             ],
             [
              0.1111111111111111,
              "#46039f"
             ],
             [
              0.2222222222222222,
              "#7201a8"
             ],
             [
              0.3333333333333333,
              "#9c179e"
             ],
             [
              0.4444444444444444,
              "#bd3786"
             ],
             [
              0.5555555555555556,
              "#d8576b"
             ],
             [
              0.6666666666666666,
              "#ed7953"
             ],
             [
              0.7777777777777778,
              "#fb9f3a"
             ],
             [
              0.8888888888888888,
              "#fdca26"
             ],
             [
              1,
              "#f0f921"
             ]
            ],
            "type": "surface"
           }
          ],
          "table": [
           {
            "cells": {
             "fill": {
              "color": "#EBF0F8"
             },
             "line": {
              "color": "white"
             }
            },
            "header": {
             "fill": {
              "color": "#C8D4E3"
             },
             "line": {
              "color": "white"
             }
            },
            "type": "table"
           }
          ]
         },
         "layout": {
          "annotationdefaults": {
           "arrowcolor": "#2a3f5f",
           "arrowhead": 0,
           "arrowwidth": 1
          },
          "autotypenumbers": "strict",
          "coloraxis": {
           "colorbar": {
            "outlinewidth": 0,
            "ticks": ""
           }
          },
          "colorscale": {
           "diverging": [
            [
             0,
             "#8e0152"
            ],
            [
             0.1,
             "#c51b7d"
            ],
            [
             0.2,
             "#de77ae"
            ],
            [
             0.3,
             "#f1b6da"
            ],
            [
             0.4,
             "#fde0ef"
            ],
            [
             0.5,
             "#f7f7f7"
            ],
            [
             0.6,
             "#e6f5d0"
            ],
            [
             0.7,
             "#b8e186"
            ],
            [
             0.8,
             "#7fbc41"
            ],
            [
             0.9,
             "#4d9221"
            ],
            [
             1,
             "#276419"
            ]
           ],
           "sequential": [
            [
             0,
             "#0d0887"
            ],
            [
             0.1111111111111111,
             "#46039f"
            ],
            [
             0.2222222222222222,
             "#7201a8"
            ],
            [
             0.3333333333333333,
             "#9c179e"
            ],
            [
             0.4444444444444444,
             "#bd3786"
            ],
            [
             0.5555555555555556,
             "#d8576b"
            ],
            [
             0.6666666666666666,
             "#ed7953"
            ],
            [
             0.7777777777777778,
             "#fb9f3a"
            ],
            [
             0.8888888888888888,
             "#fdca26"
            ],
            [
             1,
             "#f0f921"
            ]
           ],
           "sequentialminus": [
            [
             0,
             "#0d0887"
            ],
            [
             0.1111111111111111,
             "#46039f"
            ],
            [
             0.2222222222222222,
             "#7201a8"
            ],
            [
             0.3333333333333333,
             "#9c179e"
            ],
            [
             0.4444444444444444,
             "#bd3786"
            ],
            [
             0.5555555555555556,
             "#d8576b"
            ],
            [
             0.6666666666666666,
             "#ed7953"
            ],
            [
             0.7777777777777778,
             "#fb9f3a"
            ],
            [
             0.8888888888888888,
             "#fdca26"
            ],
            [
             1,
             "#f0f921"
            ]
           ]
          },
          "colorway": [
           "#636efa",
           "#EF553B",
           "#00cc96",
           "#ab63fa",
           "#FFA15A",
           "#19d3f3",
           "#FF6692",
           "#B6E880",
           "#FF97FF",
           "#FECB52"
          ],
          "font": {
           "color": "#2a3f5f"
          },
          "geo": {
           "bgcolor": "white",
           "lakecolor": "white",
           "landcolor": "#E5ECF6",
           "showlakes": true,
           "showland": true,
           "subunitcolor": "white"
          },
          "hoverlabel": {
           "align": "left"
          },
          "hovermode": "closest",
          "mapbox": {
           "style": "light"
          },
          "paper_bgcolor": "white",
          "plot_bgcolor": "#E5ECF6",
          "polar": {
           "angularaxis": {
            "gridcolor": "white",
            "linecolor": "white",
            "ticks": ""
           },
           "bgcolor": "#E5ECF6",
           "radialaxis": {
            "gridcolor": "white",
            "linecolor": "white",
            "ticks": ""
           }
          },
          "scene": {
           "xaxis": {
            "backgroundcolor": "#E5ECF6",
            "gridcolor": "white",
            "gridwidth": 2,
            "linecolor": "white",
            "showbackground": true,
            "ticks": "",
            "zerolinecolor": "white"
           },
           "yaxis": {
            "backgroundcolor": "#E5ECF6",
            "gridcolor": "white",
            "gridwidth": 2,
            "linecolor": "white",
            "showbackground": true,
            "ticks": "",
            "zerolinecolor": "white"
           },
           "zaxis": {
            "backgroundcolor": "#E5ECF6",
            "gridcolor": "white",
            "gridwidth": 2,
            "linecolor": "white",
            "showbackground": true,
            "ticks": "",
            "zerolinecolor": "white"
           }
          },
          "shapedefaults": {
           "line": {
            "color": "#2a3f5f"
           }
          },
          "ternary": {
           "aaxis": {
            "gridcolor": "white",
            "linecolor": "white",
            "ticks": ""
           },
           "baxis": {
            "gridcolor": "white",
            "linecolor": "white",
            "ticks": ""
           },
           "bgcolor": "#E5ECF6",
           "caxis": {
            "gridcolor": "white",
            "linecolor": "white",
            "ticks": ""
           }
          },
          "title": {
           "x": 0.05
          },
          "xaxis": {
           "automargin": true,
           "gridcolor": "white",
           "linecolor": "white",
           "ticks": "",
           "title": {
            "standoff": 15
           },
           "zerolinecolor": "white",
           "zerolinewidth": 2
          },
          "yaxis": {
           "automargin": true,
           "gridcolor": "white",
           "linecolor": "white",
           "ticks": "",
           "title": {
            "standoff": 15
           },
           "zerolinecolor": "white",
           "zerolinewidth": 2
          }
         }
        },
        "title": {
         "font": {
          "color": "#D9D9D9"
         },
         "text": "년도별 총 승차승객수 변화"
        },
        "xaxis": {
         "gridcolor": "#434343",
         "showgrid": true,
         "tickfont": {
          "color": "#C2C2C2"
         },
         "title": {
          "font": {
           "color": "#D9D9D9"
          },
          "text": ""
         },
         "zerolinecolor": "#666570"
        },
        "yaxis": {
         "gridcolor": "#434343",
         "showgrid": true,
         "tickfont": {
          "color": "#C2C2C2"
         },
         "title": {
          "font": {
           "color": "#D9D9D9"
          },
          "text": ""
         },
         "zerolinecolor": "#666570"
        }
       }
      },
      "text/html": [
       "<div>                            <div id=\"8bc215a7-0adf-4f8b-b515-7016e5721ce7\" class=\"plotly-graph-div\" style=\"height:525px; width:100%;\"></div>            <script type=\"text/javascript\">                require([\"plotly\"], function(Plotly) {                    window.PLOTLYENV=window.PLOTLYENV || {};\n",
       "                    window.PLOTLYENV.BASE_URL='https://plot.ly';                                    if (document.getElementById(\"8bc215a7-0adf-4f8b-b515-7016e5721ce7\")) {                    Plotly.newPlot(                        \"8bc215a7-0adf-4f8b-b515-7016e5721ce7\",                        [{\"marker\":{\"color\":\"rgba(255, 153, 51, 0.6)\",\"line\":{\"color\":\"rgba(255, 153, 51, 1.0)\",\"width\":1}},\"name\":\"2016-2017\\ub144_\\ucd1d\\uc2b9\\ucc28\\uc2b9\\uac1d\\uc218\\ubcc0\\ud654\",\"orientation\":\"v\",\"text\":\"\",\"type\":\"bar\",\"x\":[\"01\",\"02\",\"03\",\"04\",\"05\",\"06\",\"07\",\"08\"],\"y\":[-3770887.0,11289301.0,801603.0,-568035.0,-6330313.0,-1302967.0,-4650516.0,-416629.0]},{\"marker\":{\"color\":\"rgba(55, 128, 191, 0.6)\",\"line\":{\"color\":\"rgba(55, 128, 191, 1.0)\",\"width\":1}},\"name\":\"2017-2018\\ub144_\\ucd1d\\uc2b9\\ucc28\\uc2b9\\uac1d\\uc218\\ubcc0\\ud654\",\"orientation\":\"v\",\"text\":\"\",\"type\":\"bar\",\"x\":[\"01\",\"02\",\"03\",\"04\",\"05\",\"06\",\"07\",\"08\"],\"y\":[8208398.0,-15825635.0,-1882957.0,1191012.0,7416787.0,-1881886.0,6817503.0,439616.0]},{\"marker\":{\"color\":\"rgba(50, 171, 96, 0.6)\",\"line\":{\"color\":\"rgba(50, 171, 96, 1.0)\",\"width\":1}},\"name\":\"2018-2019\\ub144_\\ucd1d\\uc2b9\\ucc28\\uc2b9\\uac1d\\uc218\\ubcc0\\ud654\",\"orientation\":\"v\",\"text\":\"\",\"type\":\"bar\",\"x\":[\"01\",\"02\",\"03\",\"04\",\"05\",\"06\",\"07\",\"08\"],\"y\":[8137292.0,1224990.0,-1483069.0,6956869.0,8084926.0,2120320.0,7622074.0,5456453.0]},{\"marker\":{\"color\":\"rgba(128, 0, 128, 0.6)\",\"line\":{\"color\":\"rgba(128, 0, 128, 1.0)\",\"width\":1}},\"name\":\"2019-2020\\ub144_\\ucd1d\\uc2b9\\ucc28\\uc2b9\\uac1d\\uc218\\ubcc0\\ud654\",\"orientation\":\"v\",\"text\":\"\",\"type\":\"bar\",\"x\":[\"01\",\"02\",\"03\",\"04\",\"05\",\"06\",\"07\",\"08\"],\"y\":[-14104421.0,-20753270.0,-94126498.0,-86809767.0,-78806083.0,-49941349.0,-45764363.0,-66683522.0]},{\"marker\":{\"color\":\"rgba(219, 64, 82, 0.6)\",\"line\":{\"color\":\"rgba(219, 64, 82, 1.0)\",\"width\":1}},\"name\":\"2020-2021\\ub144_\\ucd1d\\uc2b9\\ucc28\\uc2b9\\uac1d\\uc218\\ubcc0\\ud654\",\"orientation\":\"v\",\"text\":\"\",\"type\":\"bar\",\"x\":[\"01\",\"02\",\"03\",\"04\",\"05\",\"06\",\"07\",\"08\"],\"y\":[-65564919.0,-26588059.0,39422721.0,28558440.0,9625747.0,7454521.0,-23844880.0,-78056.0]}],                        {\"legend\":{\"bgcolor\":\"#1A1A1C\",\"font\":{\"color\":\"#D9D9D9\"}},\"paper_bgcolor\":\"#1A1A1C\",\"plot_bgcolor\":\"#1A1A1C\",\"template\":{\"data\":{\"bar\":[{\"error_x\":{\"color\":\"#2a3f5f\"},\"error_y\":{\"color\":\"#2a3f5f\"},\"marker\":{\"line\":{\"color\":\"#E5ECF6\",\"width\":0.5},\"pattern\":{\"fillmode\":\"overlay\",\"size\":10,\"solidity\":0.2}},\"type\":\"bar\"}],\"barpolar\":[{\"marker\":{\"line\":{\"color\":\"#E5ECF6\",\"width\":0.5},\"pattern\":{\"fillmode\":\"overlay\",\"size\":10,\"solidity\":0.2}},\"type\":\"barpolar\"}],\"carpet\":[{\"aaxis\":{\"endlinecolor\":\"#2a3f5f\",\"gridcolor\":\"white\",\"linecolor\":\"white\",\"minorgridcolor\":\"white\",\"startlinecolor\":\"#2a3f5f\"},\"baxis\":{\"endlinecolor\":\"#2a3f5f\",\"gridcolor\":\"white\",\"linecolor\":\"white\",\"minorgridcolor\":\"white\",\"startlinecolor\":\"#2a3f5f\"},\"type\":\"carpet\"}],\"choropleth\":[{\"colorbar\":{\"outlinewidth\":0,\"ticks\":\"\"},\"type\":\"choropleth\"}],\"contour\":[{\"colorbar\":{\"outlinewidth\":0,\"ticks\":\"\"},\"colorscale\":[[0.0,\"#0d0887\"],[0.1111111111111111,\"#46039f\"],[0.2222222222222222,\"#7201a8\"],[0.3333333333333333,\"#9c179e\"],[0.4444444444444444,\"#bd3786\"],[0.5555555555555556,\"#d8576b\"],[0.6666666666666666,\"#ed7953\"],[0.7777777777777778,\"#fb9f3a\"],[0.8888888888888888,\"#fdca26\"],[1.0,\"#f0f921\"]],\"type\":\"contour\"}],\"contourcarpet\":[{\"colorbar\":{\"outlinewidth\":0,\"ticks\":\"\"},\"type\":\"contourcarpet\"}],\"heatmap\":[{\"colorbar\":{\"outlinewidth\":0,\"ticks\":\"\"},\"colorscale\":[[0.0,\"#0d0887\"],[0.1111111111111111,\"#46039f\"],[0.2222222222222222,\"#7201a8\"],[0.3333333333333333,\"#9c179e\"],[0.4444444444444444,\"#bd3786\"],[0.5555555555555556,\"#d8576b\"],[0.6666666666666666,\"#ed7953\"],[0.7777777777777778,\"#fb9f3a\"],[0.8888888888888888,\"#fdca26\"],[1.0,\"#f0f921\"]],\"type\":\"heatmap\"}],\"heatmapgl\":[{\"colorbar\":{\"outlinewidth\":0,\"ticks\":\"\"},\"colorscale\":[[0.0,\"#0d0887\"],[0.1111111111111111,\"#46039f\"],[0.2222222222222222,\"#7201a8\"],[0.3333333333333333,\"#9c179e\"],[0.4444444444444444,\"#bd3786\"],[0.5555555555555556,\"#d8576b\"],[0.6666666666666666,\"#ed7953\"],[0.7777777777777778,\"#fb9f3a\"],[0.8888888888888888,\"#fdca26\"],[1.0,\"#f0f921\"]],\"type\":\"heatmapgl\"}],\"histogram\":[{\"marker\":{\"pattern\":{\"fillmode\":\"overlay\",\"size\":10,\"solidity\":0.2}},\"type\":\"histogram\"}],\"histogram2d\":[{\"colorbar\":{\"outlinewidth\":0,\"ticks\":\"\"},\"colorscale\":[[0.0,\"#0d0887\"],[0.1111111111111111,\"#46039f\"],[0.2222222222222222,\"#7201a8\"],[0.3333333333333333,\"#9c179e\"],[0.4444444444444444,\"#bd3786\"],[0.5555555555555556,\"#d8576b\"],[0.6666666666666666,\"#ed7953\"],[0.7777777777777778,\"#fb9f3a\"],[0.8888888888888888,\"#fdca26\"],[1.0,\"#f0f921\"]],\"type\":\"histogram2d\"}],\"histogram2dcontour\":[{\"colorbar\":{\"outlinewidth\":0,\"ticks\":\"\"},\"colorscale\":[[0.0,\"#0d0887\"],[0.1111111111111111,\"#46039f\"],[0.2222222222222222,\"#7201a8\"],[0.3333333333333333,\"#9c179e\"],[0.4444444444444444,\"#bd3786\"],[0.5555555555555556,\"#d8576b\"],[0.6666666666666666,\"#ed7953\"],[0.7777777777777778,\"#fb9f3a\"],[0.8888888888888888,\"#fdca26\"],[1.0,\"#f0f921\"]],\"type\":\"histogram2dcontour\"}],\"mesh3d\":[{\"colorbar\":{\"outlinewidth\":0,\"ticks\":\"\"},\"type\":\"mesh3d\"}],\"parcoords\":[{\"line\":{\"colorbar\":{\"outlinewidth\":0,\"ticks\":\"\"}},\"type\":\"parcoords\"}],\"pie\":[{\"automargin\":true,\"type\":\"pie\"}],\"scatter\":[{\"marker\":{\"colorbar\":{\"outlinewidth\":0,\"ticks\":\"\"}},\"type\":\"scatter\"}],\"scatter3d\":[{\"line\":{\"colorbar\":{\"outlinewidth\":0,\"ticks\":\"\"}},\"marker\":{\"colorbar\":{\"outlinewidth\":0,\"ticks\":\"\"}},\"type\":\"scatter3d\"}],\"scattercarpet\":[{\"marker\":{\"colorbar\":{\"outlinewidth\":0,\"ticks\":\"\"}},\"type\":\"scattercarpet\"}],\"scattergeo\":[{\"marker\":{\"colorbar\":{\"outlinewidth\":0,\"ticks\":\"\"}},\"type\":\"scattergeo\"}],\"scattergl\":[{\"marker\":{\"colorbar\":{\"outlinewidth\":0,\"ticks\":\"\"}},\"type\":\"scattergl\"}],\"scattermapbox\":[{\"marker\":{\"colorbar\":{\"outlinewidth\":0,\"ticks\":\"\"}},\"type\":\"scattermapbox\"}],\"scatterpolar\":[{\"marker\":{\"colorbar\":{\"outlinewidth\":0,\"ticks\":\"\"}},\"type\":\"scatterpolar\"}],\"scatterpolargl\":[{\"marker\":{\"colorbar\":{\"outlinewidth\":0,\"ticks\":\"\"}},\"type\":\"scatterpolargl\"}],\"scatterternary\":[{\"marker\":{\"colorbar\":{\"outlinewidth\":0,\"ticks\":\"\"}},\"type\":\"scatterternary\"}],\"surface\":[{\"colorbar\":{\"outlinewidth\":0,\"ticks\":\"\"},\"colorscale\":[[0.0,\"#0d0887\"],[0.1111111111111111,\"#46039f\"],[0.2222222222222222,\"#7201a8\"],[0.3333333333333333,\"#9c179e\"],[0.4444444444444444,\"#bd3786\"],[0.5555555555555556,\"#d8576b\"],[0.6666666666666666,\"#ed7953\"],[0.7777777777777778,\"#fb9f3a\"],[0.8888888888888888,\"#fdca26\"],[1.0,\"#f0f921\"]],\"type\":\"surface\"}],\"table\":[{\"cells\":{\"fill\":{\"color\":\"#EBF0F8\"},\"line\":{\"color\":\"white\"}},\"header\":{\"fill\":{\"color\":\"#C8D4E3\"},\"line\":{\"color\":\"white\"}},\"type\":\"table\"}]},\"layout\":{\"annotationdefaults\":{\"arrowcolor\":\"#2a3f5f\",\"arrowhead\":0,\"arrowwidth\":1},\"autotypenumbers\":\"strict\",\"coloraxis\":{\"colorbar\":{\"outlinewidth\":0,\"ticks\":\"\"}},\"colorscale\":{\"diverging\":[[0,\"#8e0152\"],[0.1,\"#c51b7d\"],[0.2,\"#de77ae\"],[0.3,\"#f1b6da\"],[0.4,\"#fde0ef\"],[0.5,\"#f7f7f7\"],[0.6,\"#e6f5d0\"],[0.7,\"#b8e186\"],[0.8,\"#7fbc41\"],[0.9,\"#4d9221\"],[1,\"#276419\"]],\"sequential\":[[0.0,\"#0d0887\"],[0.1111111111111111,\"#46039f\"],[0.2222222222222222,\"#7201a8\"],[0.3333333333333333,\"#9c179e\"],[0.4444444444444444,\"#bd3786\"],[0.5555555555555556,\"#d8576b\"],[0.6666666666666666,\"#ed7953\"],[0.7777777777777778,\"#fb9f3a\"],[0.8888888888888888,\"#fdca26\"],[1.0,\"#f0f921\"]],\"sequentialminus\":[[0.0,\"#0d0887\"],[0.1111111111111111,\"#46039f\"],[0.2222222222222222,\"#7201a8\"],[0.3333333333333333,\"#9c179e\"],[0.4444444444444444,\"#bd3786\"],[0.5555555555555556,\"#d8576b\"],[0.6666666666666666,\"#ed7953\"],[0.7777777777777778,\"#fb9f3a\"],[0.8888888888888888,\"#fdca26\"],[1.0,\"#f0f921\"]]},\"colorway\":[\"#636efa\",\"#EF553B\",\"#00cc96\",\"#ab63fa\",\"#FFA15A\",\"#19d3f3\",\"#FF6692\",\"#B6E880\",\"#FF97FF\",\"#FECB52\"],\"font\":{\"color\":\"#2a3f5f\"},\"geo\":{\"bgcolor\":\"white\",\"lakecolor\":\"white\",\"landcolor\":\"#E5ECF6\",\"showlakes\":true,\"showland\":true,\"subunitcolor\":\"white\"},\"hoverlabel\":{\"align\":\"left\"},\"hovermode\":\"closest\",\"mapbox\":{\"style\":\"light\"},\"paper_bgcolor\":\"white\",\"plot_bgcolor\":\"#E5ECF6\",\"polar\":{\"angularaxis\":{\"gridcolor\":\"white\",\"linecolor\":\"white\",\"ticks\":\"\"},\"bgcolor\":\"#E5ECF6\",\"radialaxis\":{\"gridcolor\":\"white\",\"linecolor\":\"white\",\"ticks\":\"\"}},\"scene\":{\"xaxis\":{\"backgroundcolor\":\"#E5ECF6\",\"gridcolor\":\"white\",\"gridwidth\":2,\"linecolor\":\"white\",\"showbackground\":true,\"ticks\":\"\",\"zerolinecolor\":\"white\"},\"yaxis\":{\"backgroundcolor\":\"#E5ECF6\",\"gridcolor\":\"white\",\"gridwidth\":2,\"linecolor\":\"white\",\"showbackground\":true,\"ticks\":\"\",\"zerolinecolor\":\"white\"},\"zaxis\":{\"backgroundcolor\":\"#E5ECF6\",\"gridcolor\":\"white\",\"gridwidth\":2,\"linecolor\":\"white\",\"showbackground\":true,\"ticks\":\"\",\"zerolinecolor\":\"white\"}},\"shapedefaults\":{\"line\":{\"color\":\"#2a3f5f\"}},\"ternary\":{\"aaxis\":{\"gridcolor\":\"white\",\"linecolor\":\"white\",\"ticks\":\"\"},\"baxis\":{\"gridcolor\":\"white\",\"linecolor\":\"white\",\"ticks\":\"\"},\"bgcolor\":\"#E5ECF6\",\"caxis\":{\"gridcolor\":\"white\",\"linecolor\":\"white\",\"ticks\":\"\"}},\"title\":{\"x\":0.05},\"xaxis\":{\"automargin\":true,\"gridcolor\":\"white\",\"linecolor\":\"white\",\"ticks\":\"\",\"title\":{\"standoff\":15},\"zerolinecolor\":\"white\",\"zerolinewidth\":2},\"yaxis\":{\"automargin\":true,\"gridcolor\":\"white\",\"linecolor\":\"white\",\"ticks\":\"\",\"title\":{\"standoff\":15},\"zerolinecolor\":\"white\",\"zerolinewidth\":2}}},\"title\":{\"font\":{\"color\":\"#D9D9D9\"},\"text\":\"\\ub144\\ub3c4\\ubcc4 \\ucd1d \\uc2b9\\ucc28\\uc2b9\\uac1d\\uc218 \\ubcc0\\ud654\"},\"xaxis\":{\"gridcolor\":\"#434343\",\"showgrid\":true,\"tickfont\":{\"color\":\"#C2C2C2\"},\"title\":{\"font\":{\"color\":\"#D9D9D9\"},\"text\":\"\"},\"zerolinecolor\":\"#666570\"},\"yaxis\":{\"gridcolor\":\"#434343\",\"showgrid\":true,\"tickfont\":{\"color\":\"#C2C2C2\"},\"title\":{\"font\":{\"color\":\"#D9D9D9\"},\"text\":\"\"},\"zerolinecolor\":\"#666570\"}},                        {\"showLink\": true, \"linkText\": \"Export to plot.ly\", \"plotlyServerURL\": \"https://plot.ly\", \"responsive\": true}                    ).then(function(){\n",
       "                            \n",
       "var gd = document.getElementById('8bc215a7-0adf-4f8b-b515-7016e5721ce7');\n",
       "var x = new MutationObserver(function (mutations, observer) {{\n",
       "        var display = window.getComputedStyle(gd).display;\n",
       "        if (!display || display === 'none') {{\n",
       "            console.log([gd, 'removed!']);\n",
       "            Plotly.purge(gd);\n",
       "            observer.disconnect();\n",
       "        }}\n",
       "}});\n",
       "\n",
       "// Listen for the removal of the full notebook cells\n",
       "var notebookContainer = gd.closest('#notebook-container');\n",
       "if (notebookContainer) {{\n",
       "    x.observe(notebookContainer, {childList: true});\n",
       "}}\n",
       "\n",
       "// Listen for the clearing of the current output cell\n",
       "var outputEl = gd.closest('.output');\n",
       "if (outputEl) {{\n",
       "    x.observe(outputEl, {childList: true});\n",
       "}}\n",
       "\n",
       "                        })                };                });            </script>        </div>"
      ]
     },
     "metadata": {},
     "output_type": "display_data"
    }
   ],
   "source": [
    "# 2015-2021 연도별 승객수 변화\n",
    "dat.iloc[:,:5].iplot(kind='bar', title='년도별 총 승차승객수 변화', theme='space')"
   ]
  },
  {
   "cell_type": "markdown",
   "id": "6e51db68",
   "metadata": {},
   "source": [
    "### 다른 연도 같은 달 승객 수 변화 비율"
   ]
  },
  {
   "cell_type": "code",
   "execution_count": 103,
   "id": "85ec867c",
   "metadata": {},
   "outputs": [
    {
     "data": {
      "application/vnd.plotly.v1+json": {
       "config": {
        "linkText": "Export to plot.ly",
        "plotlyServerURL": "https://plot.ly",
        "showLink": true
       },
       "data": [
        {
         "marker": {
          "color": "rgba(255, 153, 51, 0.6)",
          "line": {
           "color": "rgba(255, 153, 51, 1.0)",
           "width": 1
          }
         },
         "name": "2016-2017년_총승차승객수변화비율",
         "orientation": "v",
         "text": "",
         "type": "bar",
         "x": [
          "01",
          "02",
          "03",
          "04",
          "05",
          "06",
          "07",
          "08"
         ],
         "y": [
          -1.8018966603422546,
          5.829830519173749,
          0.339119553155818,
          -0.24875768410793625,
          -2.703336670230325,
          -0.5853096441904646,
          -2.119016391379491,
          -0.19451083167607183
         ]
        },
        {
         "marker": {
          "color": "rgba(55, 128, 191, 0.6)",
          "line": {
           "color": "rgba(55, 128, 191, 1.0)",
           "width": 1
          }
         },
         "name": "2017-2018년_총승차승객수변화비율",
         "orientation": "v",
         "text": "",
         "type": "bar",
         "x": [
          "01",
          "02",
          "03",
          "04",
          "05",
          "06",
          "07",
          "08"
         ],
         "y": [
          3.9943090862563673,
          -7.722215574362154,
          -0.7938960002762129,
          0.5228766319041355,
          3.255313441218376,
          -0.8503447030448726,
          3.1736584500084266,
          0.20564272839161843
         ]
        },
        {
         "marker": {
          "color": "rgba(50, 171, 96, 0.6)",
          "line": {
           "color": "rgba(50, 171, 96, 1.0)",
           "width": 1
          }
         },
         "name": "2018-2019년_총승차승객수변화비율",
         "orientation": "v",
         "text": "",
         "type": "bar",
         "x": [
          "01",
          "02",
          "03",
          "04",
          "05",
          "06",
          "07",
          "08"
         ],
         "y": [
          3.807619909683334,
          0.6477630349467784,
          -0.6302983557594218,
          3.0383095112775114,
          3.436692257017268,
          0.9662998242251437,
          3.4390554530531663,
          2.547171035617288
         ]
        },
        {
         "marker": {
          "color": "rgba(128, 0, 128, 0.6)",
          "line": {
           "color": "rgba(128, 0, 128, 1.0)",
           "width": 1
          }
         },
         "name": "2019-2020년_총승차승객수변화비율",
         "orientation": "v",
         "text": "",
         "type": "bar",
         "x": [
          "01",
          "02",
          "03",
          "04",
          "05",
          "06",
          "07",
          "08"
         ],
         "y": [
          -6.357695408533159,
          -10.903502489589295,
          -40.25712278092745,
          -36.794936124968096,
          -32.38543336253291,
          -22.542097256375428,
          -19.962222565518005,
          -30.3558595434271
         ]
        },
        {
         "marker": {
          "color": "rgba(219, 64, 82, 0.6)",
          "line": {
           "color": "rgba(219, 64, 82, 1.0)",
           "width": 1
          }
         },
         "name": "2020-2021년_총승차승객수변화비율",
         "orientation": "v",
         "text": "",
         "type": "bar",
         "x": [
          "01",
          "02",
          "03",
          "04",
          "05",
          "06",
          "07",
          "08"
         ],
         "y": [
          -31.560501122169388,
          -15.67853547094488,
          28.222227817279688,
          19.151467979853166,
          5.850380932046216,
          4.343982416900046,
          -12.99515884978995,
          -0.051020617928733775
         ]
        }
       ],
       "layout": {
        "legend": {
         "bgcolor": "#1A1A1C",
         "font": {
          "color": "#D9D9D9"
         }
        },
        "paper_bgcolor": "#1A1A1C",
        "plot_bgcolor": "#1A1A1C",
        "template": {
         "data": {
          "bar": [
           {
            "error_x": {
             "color": "#2a3f5f"
            },
            "error_y": {
             "color": "#2a3f5f"
            },
            "marker": {
             "line": {
              "color": "#E5ECF6",
              "width": 0.5
             },
             "pattern": {
              "fillmode": "overlay",
              "size": 10,
              "solidity": 0.2
             }
            },
            "type": "bar"
           }
          ],
          "barpolar": [
           {
            "marker": {
             "line": {
              "color": "#E5ECF6",
              "width": 0.5
             },
             "pattern": {
              "fillmode": "overlay",
              "size": 10,
              "solidity": 0.2
             }
            },
            "type": "barpolar"
           }
          ],
          "carpet": [
           {
            "aaxis": {
             "endlinecolor": "#2a3f5f",
             "gridcolor": "white",
             "linecolor": "white",
             "minorgridcolor": "white",
             "startlinecolor": "#2a3f5f"
            },
            "baxis": {
             "endlinecolor": "#2a3f5f",
             "gridcolor": "white",
             "linecolor": "white",
             "minorgridcolor": "white",
             "startlinecolor": "#2a3f5f"
            },
            "type": "carpet"
           }
          ],
          "choropleth": [
           {
            "colorbar": {
             "outlinewidth": 0,
             "ticks": ""
            },
            "type": "choropleth"
           }
          ],
          "contour": [
           {
            "colorbar": {
             "outlinewidth": 0,
             "ticks": ""
            },
            "colorscale": [
             [
              0,
              "#0d0887"
             ],
             [
              0.1111111111111111,
              "#46039f"
             ],
             [
              0.2222222222222222,
              "#7201a8"
             ],
             [
              0.3333333333333333,
              "#9c179e"
             ],
             [
              0.4444444444444444,
              "#bd3786"
             ],
             [
              0.5555555555555556,
              "#d8576b"
             ],
             [
              0.6666666666666666,
              "#ed7953"
             ],
             [
              0.7777777777777778,
              "#fb9f3a"
             ],
             [
              0.8888888888888888,
              "#fdca26"
             ],
             [
              1,
              "#f0f921"
             ]
            ],
            "type": "contour"
           }
          ],
          "contourcarpet": [
           {
            "colorbar": {
             "outlinewidth": 0,
             "ticks": ""
            },
            "type": "contourcarpet"
           }
          ],
          "heatmap": [
           {
            "colorbar": {
             "outlinewidth": 0,
             "ticks": ""
            },
            "colorscale": [
             [
              0,
              "#0d0887"
             ],
             [
              0.1111111111111111,
              "#46039f"
             ],
             [
              0.2222222222222222,
              "#7201a8"
             ],
             [
              0.3333333333333333,
              "#9c179e"
             ],
             [
              0.4444444444444444,
              "#bd3786"
             ],
             [
              0.5555555555555556,
              "#d8576b"
             ],
             [
              0.6666666666666666,
              "#ed7953"
             ],
             [
              0.7777777777777778,
              "#fb9f3a"
             ],
             [
              0.8888888888888888,
              "#fdca26"
             ],
             [
              1,
              "#f0f921"
             ]
            ],
            "type": "heatmap"
           }
          ],
          "heatmapgl": [
           {
            "colorbar": {
             "outlinewidth": 0,
             "ticks": ""
            },
            "colorscale": [
             [
              0,
              "#0d0887"
             ],
             [
              0.1111111111111111,
              "#46039f"
             ],
             [
              0.2222222222222222,
              "#7201a8"
             ],
             [
              0.3333333333333333,
              "#9c179e"
             ],
             [
              0.4444444444444444,
              "#bd3786"
             ],
             [
              0.5555555555555556,
              "#d8576b"
             ],
             [
              0.6666666666666666,
              "#ed7953"
             ],
             [
              0.7777777777777778,
              "#fb9f3a"
             ],
             [
              0.8888888888888888,
              "#fdca26"
             ],
             [
              1,
              "#f0f921"
             ]
            ],
            "type": "heatmapgl"
           }
          ],
          "histogram": [
           {
            "marker": {
             "pattern": {
              "fillmode": "overlay",
              "size": 10,
              "solidity": 0.2
             }
            },
            "type": "histogram"
           }
          ],
          "histogram2d": [
           {
            "colorbar": {
             "outlinewidth": 0,
             "ticks": ""
            },
            "colorscale": [
             [
              0,
              "#0d0887"
             ],
             [
              0.1111111111111111,
              "#46039f"
             ],
             [
              0.2222222222222222,
              "#7201a8"
             ],
             [
              0.3333333333333333,
              "#9c179e"
             ],
             [
              0.4444444444444444,
              "#bd3786"
             ],
             [
              0.5555555555555556,
              "#d8576b"
             ],
             [
              0.6666666666666666,
              "#ed7953"
             ],
             [
              0.7777777777777778,
              "#fb9f3a"
             ],
             [
              0.8888888888888888,
              "#fdca26"
             ],
             [
              1,
              "#f0f921"
             ]
            ],
            "type": "histogram2d"
           }
          ],
          "histogram2dcontour": [
           {
            "colorbar": {
             "outlinewidth": 0,
             "ticks": ""
            },
            "colorscale": [
             [
              0,
              "#0d0887"
             ],
             [
              0.1111111111111111,
              "#46039f"
             ],
             [
              0.2222222222222222,
              "#7201a8"
             ],
             [
              0.3333333333333333,
              "#9c179e"
             ],
             [
              0.4444444444444444,
              "#bd3786"
             ],
             [
              0.5555555555555556,
              "#d8576b"
             ],
             [
              0.6666666666666666,
              "#ed7953"
             ],
             [
              0.7777777777777778,
              "#fb9f3a"
             ],
             [
              0.8888888888888888,
              "#fdca26"
             ],
             [
              1,
              "#f0f921"
             ]
            ],
            "type": "histogram2dcontour"
           }
          ],
          "mesh3d": [
           {
            "colorbar": {
             "outlinewidth": 0,
             "ticks": ""
            },
            "type": "mesh3d"
           }
          ],
          "parcoords": [
           {
            "line": {
             "colorbar": {
              "outlinewidth": 0,
              "ticks": ""
             }
            },
            "type": "parcoords"
           }
          ],
          "pie": [
           {
            "automargin": true,
            "type": "pie"
           }
          ],
          "scatter": [
           {
            "marker": {
             "colorbar": {
              "outlinewidth": 0,
              "ticks": ""
             }
            },
            "type": "scatter"
           }
          ],
          "scatter3d": [
           {
            "line": {
             "colorbar": {
              "outlinewidth": 0,
              "ticks": ""
             }
            },
            "marker": {
             "colorbar": {
              "outlinewidth": 0,
              "ticks": ""
             }
            },
            "type": "scatter3d"
           }
          ],
          "scattercarpet": [
           {
            "marker": {
             "colorbar": {
              "outlinewidth": 0,
              "ticks": ""
             }
            },
            "type": "scattercarpet"
           }
          ],
          "scattergeo": [
           {
            "marker": {
             "colorbar": {
              "outlinewidth": 0,
              "ticks": ""
             }
            },
            "type": "scattergeo"
           }
          ],
          "scattergl": [
           {
            "marker": {
             "colorbar": {
              "outlinewidth": 0,
              "ticks": ""
             }
            },
            "type": "scattergl"
           }
          ],
          "scattermapbox": [
           {
            "marker": {
             "colorbar": {
              "outlinewidth": 0,
              "ticks": ""
             }
            },
            "type": "scattermapbox"
           }
          ],
          "scatterpolar": [
           {
            "marker": {
             "colorbar": {
              "outlinewidth": 0,
              "ticks": ""
             }
            },
            "type": "scatterpolar"
           }
          ],
          "scatterpolargl": [
           {
            "marker": {
             "colorbar": {
              "outlinewidth": 0,
              "ticks": ""
             }
            },
            "type": "scatterpolargl"
           }
          ],
          "scatterternary": [
           {
            "marker": {
             "colorbar": {
              "outlinewidth": 0,
              "ticks": ""
             }
            },
            "type": "scatterternary"
           }
          ],
          "surface": [
           {
            "colorbar": {
             "outlinewidth": 0,
             "ticks": ""
            },
            "colorscale": [
             [
              0,
              "#0d0887"
             ],
             [
              0.1111111111111111,
              "#46039f"
             ],
             [
              0.2222222222222222,
              "#7201a8"
             ],
             [
              0.3333333333333333,
              "#9c179e"
             ],
             [
              0.4444444444444444,
              "#bd3786"
             ],
             [
              0.5555555555555556,
              "#d8576b"
             ],
             [
              0.6666666666666666,
              "#ed7953"
             ],
             [
              0.7777777777777778,
              "#fb9f3a"
             ],
             [
              0.8888888888888888,
              "#fdca26"
             ],
             [
              1,
              "#f0f921"
             ]
            ],
            "type": "surface"
           }
          ],
          "table": [
           {
            "cells": {
             "fill": {
              "color": "#EBF0F8"
             },
             "line": {
              "color": "white"
             }
            },
            "header": {
             "fill": {
              "color": "#C8D4E3"
             },
             "line": {
              "color": "white"
             }
            },
            "type": "table"
           }
          ]
         },
         "layout": {
          "annotationdefaults": {
           "arrowcolor": "#2a3f5f",
           "arrowhead": 0,
           "arrowwidth": 1
          },
          "autotypenumbers": "strict",
          "coloraxis": {
           "colorbar": {
            "outlinewidth": 0,
            "ticks": ""
           }
          },
          "colorscale": {
           "diverging": [
            [
             0,
             "#8e0152"
            ],
            [
             0.1,
             "#c51b7d"
            ],
            [
             0.2,
             "#de77ae"
            ],
            [
             0.3,
             "#f1b6da"
            ],
            [
             0.4,
             "#fde0ef"
            ],
            [
             0.5,
             "#f7f7f7"
            ],
            [
             0.6,
             "#e6f5d0"
            ],
            [
             0.7,
             "#b8e186"
            ],
            [
             0.8,
             "#7fbc41"
            ],
            [
             0.9,
             "#4d9221"
            ],
            [
             1,
             "#276419"
            ]
           ],
           "sequential": [
            [
             0,
             "#0d0887"
            ],
            [
             0.1111111111111111,
             "#46039f"
            ],
            [
             0.2222222222222222,
             "#7201a8"
            ],
            [
             0.3333333333333333,
             "#9c179e"
            ],
            [
             0.4444444444444444,
             "#bd3786"
            ],
            [
             0.5555555555555556,
             "#d8576b"
            ],
            [
             0.6666666666666666,
             "#ed7953"
            ],
            [
             0.7777777777777778,
             "#fb9f3a"
            ],
            [
             0.8888888888888888,
             "#fdca26"
            ],
            [
             1,
             "#f0f921"
            ]
           ],
           "sequentialminus": [
            [
             0,
             "#0d0887"
            ],
            [
             0.1111111111111111,
             "#46039f"
            ],
            [
             0.2222222222222222,
             "#7201a8"
            ],
            [
             0.3333333333333333,
             "#9c179e"
            ],
            [
             0.4444444444444444,
             "#bd3786"
            ],
            [
             0.5555555555555556,
             "#d8576b"
            ],
            [
             0.6666666666666666,
             "#ed7953"
            ],
            [
             0.7777777777777778,
             "#fb9f3a"
            ],
            [
             0.8888888888888888,
             "#fdca26"
            ],
            [
             1,
             "#f0f921"
            ]
           ]
          },
          "colorway": [
           "#636efa",
           "#EF553B",
           "#00cc96",
           "#ab63fa",
           "#FFA15A",
           "#19d3f3",
           "#FF6692",
           "#B6E880",
           "#FF97FF",
           "#FECB52"
          ],
          "font": {
           "color": "#2a3f5f"
          },
          "geo": {
           "bgcolor": "white",
           "lakecolor": "white",
           "landcolor": "#E5ECF6",
           "showlakes": true,
           "showland": true,
           "subunitcolor": "white"
          },
          "hoverlabel": {
           "align": "left"
          },
          "hovermode": "closest",
          "mapbox": {
           "style": "light"
          },
          "paper_bgcolor": "white",
          "plot_bgcolor": "#E5ECF6",
          "polar": {
           "angularaxis": {
            "gridcolor": "white",
            "linecolor": "white",
            "ticks": ""
           },
           "bgcolor": "#E5ECF6",
           "radialaxis": {
            "gridcolor": "white",
            "linecolor": "white",
            "ticks": ""
           }
          },
          "scene": {
           "xaxis": {
            "backgroundcolor": "#E5ECF6",
            "gridcolor": "white",
            "gridwidth": 2,
            "linecolor": "white",
            "showbackground": true,
            "ticks": "",
            "zerolinecolor": "white"
           },
           "yaxis": {
            "backgroundcolor": "#E5ECF6",
            "gridcolor": "white",
            "gridwidth": 2,
            "linecolor": "white",
            "showbackground": true,
            "ticks": "",
            "zerolinecolor": "white"
           },
           "zaxis": {
            "backgroundcolor": "#E5ECF6",
            "gridcolor": "white",
            "gridwidth": 2,
            "linecolor": "white",
            "showbackground": true,
            "ticks": "",
            "zerolinecolor": "white"
           }
          },
          "shapedefaults": {
           "line": {
            "color": "#2a3f5f"
           }
          },
          "ternary": {
           "aaxis": {
            "gridcolor": "white",
            "linecolor": "white",
            "ticks": ""
           },
           "baxis": {
            "gridcolor": "white",
            "linecolor": "white",
            "ticks": ""
           },
           "bgcolor": "#E5ECF6",
           "caxis": {
            "gridcolor": "white",
            "linecolor": "white",
            "ticks": ""
           }
          },
          "title": {
           "x": 0.05
          },
          "xaxis": {
           "automargin": true,
           "gridcolor": "white",
           "linecolor": "white",
           "ticks": "",
           "title": {
            "standoff": 15
           },
           "zerolinecolor": "white",
           "zerolinewidth": 2
          },
          "yaxis": {
           "automargin": true,
           "gridcolor": "white",
           "linecolor": "white",
           "ticks": "",
           "title": {
            "standoff": 15
           },
           "zerolinecolor": "white",
           "zerolinewidth": 2
          }
         }
        },
        "title": {
         "font": {
          "color": "#D9D9D9"
         },
         "text": "년도별 총 승차승객수 변화 비율"
        },
        "xaxis": {
         "gridcolor": "#434343",
         "showgrid": true,
         "tickfont": {
          "color": "#C2C2C2"
         },
         "title": {
          "font": {
           "color": "#D9D9D9"
          },
          "text": ""
         },
         "zerolinecolor": "#666570"
        },
        "yaxis": {
         "gridcolor": "#434343",
         "showgrid": true,
         "tickfont": {
          "color": "#C2C2C2"
         },
         "title": {
          "font": {
           "color": "#D9D9D9"
          },
          "text": ""
         },
         "zerolinecolor": "#666570"
        }
       }
      },
      "text/html": [
       "<div>                            <div id=\"ffee9297-2f8f-4c5f-8525-dd00de2c5f28\" class=\"plotly-graph-div\" style=\"height:525px; width:100%;\"></div>            <script type=\"text/javascript\">                require([\"plotly\"], function(Plotly) {                    window.PLOTLYENV=window.PLOTLYENV || {};\n",
       "                    window.PLOTLYENV.BASE_URL='https://plot.ly';                                    if (document.getElementById(\"ffee9297-2f8f-4c5f-8525-dd00de2c5f28\")) {                    Plotly.newPlot(                        \"ffee9297-2f8f-4c5f-8525-dd00de2c5f28\",                        [{\"marker\":{\"color\":\"rgba(255, 153, 51, 0.6)\",\"line\":{\"color\":\"rgba(255, 153, 51, 1.0)\",\"width\":1}},\"name\":\"2016-2017\\ub144_\\ucd1d\\uc2b9\\ucc28\\uc2b9\\uac1d\\uc218\\ubcc0\\ud654\\ube44\\uc728\",\"orientation\":\"v\",\"text\":\"\",\"type\":\"bar\",\"x\":[\"01\",\"02\",\"03\",\"04\",\"05\",\"06\",\"07\",\"08\"],\"y\":[-1.8018966603422546,5.829830519173749,0.339119553155818,-0.24875768410793625,-2.703336670230325,-0.5853096441904646,-2.119016391379491,-0.19451083167607183]},{\"marker\":{\"color\":\"rgba(55, 128, 191, 0.6)\",\"line\":{\"color\":\"rgba(55, 128, 191, 1.0)\",\"width\":1}},\"name\":\"2017-2018\\ub144_\\ucd1d\\uc2b9\\ucc28\\uc2b9\\uac1d\\uc218\\ubcc0\\ud654\\ube44\\uc728\",\"orientation\":\"v\",\"text\":\"\",\"type\":\"bar\",\"x\":[\"01\",\"02\",\"03\",\"04\",\"05\",\"06\",\"07\",\"08\"],\"y\":[3.9943090862563673,-7.722215574362154,-0.7938960002762129,0.5228766319041355,3.255313441218376,-0.8503447030448726,3.1736584500084266,0.20564272839161843]},{\"marker\":{\"color\":\"rgba(50, 171, 96, 0.6)\",\"line\":{\"color\":\"rgba(50, 171, 96, 1.0)\",\"width\":1}},\"name\":\"2018-2019\\ub144_\\ucd1d\\uc2b9\\ucc28\\uc2b9\\uac1d\\uc218\\ubcc0\\ud654\\ube44\\uc728\",\"orientation\":\"v\",\"text\":\"\",\"type\":\"bar\",\"x\":[\"01\",\"02\",\"03\",\"04\",\"05\",\"06\",\"07\",\"08\"],\"y\":[3.807619909683334,0.6477630349467784,-0.6302983557594218,3.0383095112775114,3.436692257017268,0.9662998242251437,3.4390554530531663,2.547171035617288]},{\"marker\":{\"color\":\"rgba(128, 0, 128, 0.6)\",\"line\":{\"color\":\"rgba(128, 0, 128, 1.0)\",\"width\":1}},\"name\":\"2019-2020\\ub144_\\ucd1d\\uc2b9\\ucc28\\uc2b9\\uac1d\\uc218\\ubcc0\\ud654\\ube44\\uc728\",\"orientation\":\"v\",\"text\":\"\",\"type\":\"bar\",\"x\":[\"01\",\"02\",\"03\",\"04\",\"05\",\"06\",\"07\",\"08\"],\"y\":[-6.357695408533159,-10.903502489589295,-40.25712278092745,-36.794936124968096,-32.38543336253291,-22.542097256375428,-19.962222565518005,-30.3558595434271]},{\"marker\":{\"color\":\"rgba(219, 64, 82, 0.6)\",\"line\":{\"color\":\"rgba(219, 64, 82, 1.0)\",\"width\":1}},\"name\":\"2020-2021\\ub144_\\ucd1d\\uc2b9\\ucc28\\uc2b9\\uac1d\\uc218\\ubcc0\\ud654\\ube44\\uc728\",\"orientation\":\"v\",\"text\":\"\",\"type\":\"bar\",\"x\":[\"01\",\"02\",\"03\",\"04\",\"05\",\"06\",\"07\",\"08\"],\"y\":[-31.560501122169388,-15.67853547094488,28.222227817279688,19.151467979853166,5.850380932046216,4.343982416900046,-12.99515884978995,-0.051020617928733775]}],                        {\"legend\":{\"bgcolor\":\"#1A1A1C\",\"font\":{\"color\":\"#D9D9D9\"}},\"paper_bgcolor\":\"#1A1A1C\",\"plot_bgcolor\":\"#1A1A1C\",\"template\":{\"data\":{\"bar\":[{\"error_x\":{\"color\":\"#2a3f5f\"},\"error_y\":{\"color\":\"#2a3f5f\"},\"marker\":{\"line\":{\"color\":\"#E5ECF6\",\"width\":0.5},\"pattern\":{\"fillmode\":\"overlay\",\"size\":10,\"solidity\":0.2}},\"type\":\"bar\"}],\"barpolar\":[{\"marker\":{\"line\":{\"color\":\"#E5ECF6\",\"width\":0.5},\"pattern\":{\"fillmode\":\"overlay\",\"size\":10,\"solidity\":0.2}},\"type\":\"barpolar\"}],\"carpet\":[{\"aaxis\":{\"endlinecolor\":\"#2a3f5f\",\"gridcolor\":\"white\",\"linecolor\":\"white\",\"minorgridcolor\":\"white\",\"startlinecolor\":\"#2a3f5f\"},\"baxis\":{\"endlinecolor\":\"#2a3f5f\",\"gridcolor\":\"white\",\"linecolor\":\"white\",\"minorgridcolor\":\"white\",\"startlinecolor\":\"#2a3f5f\"},\"type\":\"carpet\"}],\"choropleth\":[{\"colorbar\":{\"outlinewidth\":0,\"ticks\":\"\"},\"type\":\"choropleth\"}],\"contour\":[{\"colorbar\":{\"outlinewidth\":0,\"ticks\":\"\"},\"colorscale\":[[0.0,\"#0d0887\"],[0.1111111111111111,\"#46039f\"],[0.2222222222222222,\"#7201a8\"],[0.3333333333333333,\"#9c179e\"],[0.4444444444444444,\"#bd3786\"],[0.5555555555555556,\"#d8576b\"],[0.6666666666666666,\"#ed7953\"],[0.7777777777777778,\"#fb9f3a\"],[0.8888888888888888,\"#fdca26\"],[1.0,\"#f0f921\"]],\"type\":\"contour\"}],\"contourcarpet\":[{\"colorbar\":{\"outlinewidth\":0,\"ticks\":\"\"},\"type\":\"contourcarpet\"}],\"heatmap\":[{\"colorbar\":{\"outlinewidth\":0,\"ticks\":\"\"},\"colorscale\":[[0.0,\"#0d0887\"],[0.1111111111111111,\"#46039f\"],[0.2222222222222222,\"#7201a8\"],[0.3333333333333333,\"#9c179e\"],[0.4444444444444444,\"#bd3786\"],[0.5555555555555556,\"#d8576b\"],[0.6666666666666666,\"#ed7953\"],[0.7777777777777778,\"#fb9f3a\"],[0.8888888888888888,\"#fdca26\"],[1.0,\"#f0f921\"]],\"type\":\"heatmap\"}],\"heatmapgl\":[{\"colorbar\":{\"outlinewidth\":0,\"ticks\":\"\"},\"colorscale\":[[0.0,\"#0d0887\"],[0.1111111111111111,\"#46039f\"],[0.2222222222222222,\"#7201a8\"],[0.3333333333333333,\"#9c179e\"],[0.4444444444444444,\"#bd3786\"],[0.5555555555555556,\"#d8576b\"],[0.6666666666666666,\"#ed7953\"],[0.7777777777777778,\"#fb9f3a\"],[0.8888888888888888,\"#fdca26\"],[1.0,\"#f0f921\"]],\"type\":\"heatmapgl\"}],\"histogram\":[{\"marker\":{\"pattern\":{\"fillmode\":\"overlay\",\"size\":10,\"solidity\":0.2}},\"type\":\"histogram\"}],\"histogram2d\":[{\"colorbar\":{\"outlinewidth\":0,\"ticks\":\"\"},\"colorscale\":[[0.0,\"#0d0887\"],[0.1111111111111111,\"#46039f\"],[0.2222222222222222,\"#7201a8\"],[0.3333333333333333,\"#9c179e\"],[0.4444444444444444,\"#bd3786\"],[0.5555555555555556,\"#d8576b\"],[0.6666666666666666,\"#ed7953\"],[0.7777777777777778,\"#fb9f3a\"],[0.8888888888888888,\"#fdca26\"],[1.0,\"#f0f921\"]],\"type\":\"histogram2d\"}],\"histogram2dcontour\":[{\"colorbar\":{\"outlinewidth\":0,\"ticks\":\"\"},\"colorscale\":[[0.0,\"#0d0887\"],[0.1111111111111111,\"#46039f\"],[0.2222222222222222,\"#7201a8\"],[0.3333333333333333,\"#9c179e\"],[0.4444444444444444,\"#bd3786\"],[0.5555555555555556,\"#d8576b\"],[0.6666666666666666,\"#ed7953\"],[0.7777777777777778,\"#fb9f3a\"],[0.8888888888888888,\"#fdca26\"],[1.0,\"#f0f921\"]],\"type\":\"histogram2dcontour\"}],\"mesh3d\":[{\"colorbar\":{\"outlinewidth\":0,\"ticks\":\"\"},\"type\":\"mesh3d\"}],\"parcoords\":[{\"line\":{\"colorbar\":{\"outlinewidth\":0,\"ticks\":\"\"}},\"type\":\"parcoords\"}],\"pie\":[{\"automargin\":true,\"type\":\"pie\"}],\"scatter\":[{\"marker\":{\"colorbar\":{\"outlinewidth\":0,\"ticks\":\"\"}},\"type\":\"scatter\"}],\"scatter3d\":[{\"line\":{\"colorbar\":{\"outlinewidth\":0,\"ticks\":\"\"}},\"marker\":{\"colorbar\":{\"outlinewidth\":0,\"ticks\":\"\"}},\"type\":\"scatter3d\"}],\"scattercarpet\":[{\"marker\":{\"colorbar\":{\"outlinewidth\":0,\"ticks\":\"\"}},\"type\":\"scattercarpet\"}],\"scattergeo\":[{\"marker\":{\"colorbar\":{\"outlinewidth\":0,\"ticks\":\"\"}},\"type\":\"scattergeo\"}],\"scattergl\":[{\"marker\":{\"colorbar\":{\"outlinewidth\":0,\"ticks\":\"\"}},\"type\":\"scattergl\"}],\"scattermapbox\":[{\"marker\":{\"colorbar\":{\"outlinewidth\":0,\"ticks\":\"\"}},\"type\":\"scattermapbox\"}],\"scatterpolar\":[{\"marker\":{\"colorbar\":{\"outlinewidth\":0,\"ticks\":\"\"}},\"type\":\"scatterpolar\"}],\"scatterpolargl\":[{\"marker\":{\"colorbar\":{\"outlinewidth\":0,\"ticks\":\"\"}},\"type\":\"scatterpolargl\"}],\"scatterternary\":[{\"marker\":{\"colorbar\":{\"outlinewidth\":0,\"ticks\":\"\"}},\"type\":\"scatterternary\"}],\"surface\":[{\"colorbar\":{\"outlinewidth\":0,\"ticks\":\"\"},\"colorscale\":[[0.0,\"#0d0887\"],[0.1111111111111111,\"#46039f\"],[0.2222222222222222,\"#7201a8\"],[0.3333333333333333,\"#9c179e\"],[0.4444444444444444,\"#bd3786\"],[0.5555555555555556,\"#d8576b\"],[0.6666666666666666,\"#ed7953\"],[0.7777777777777778,\"#fb9f3a\"],[0.8888888888888888,\"#fdca26\"],[1.0,\"#f0f921\"]],\"type\":\"surface\"}],\"table\":[{\"cells\":{\"fill\":{\"color\":\"#EBF0F8\"},\"line\":{\"color\":\"white\"}},\"header\":{\"fill\":{\"color\":\"#C8D4E3\"},\"line\":{\"color\":\"white\"}},\"type\":\"table\"}]},\"layout\":{\"annotationdefaults\":{\"arrowcolor\":\"#2a3f5f\",\"arrowhead\":0,\"arrowwidth\":1},\"autotypenumbers\":\"strict\",\"coloraxis\":{\"colorbar\":{\"outlinewidth\":0,\"ticks\":\"\"}},\"colorscale\":{\"diverging\":[[0,\"#8e0152\"],[0.1,\"#c51b7d\"],[0.2,\"#de77ae\"],[0.3,\"#f1b6da\"],[0.4,\"#fde0ef\"],[0.5,\"#f7f7f7\"],[0.6,\"#e6f5d0\"],[0.7,\"#b8e186\"],[0.8,\"#7fbc41\"],[0.9,\"#4d9221\"],[1,\"#276419\"]],\"sequential\":[[0.0,\"#0d0887\"],[0.1111111111111111,\"#46039f\"],[0.2222222222222222,\"#7201a8\"],[0.3333333333333333,\"#9c179e\"],[0.4444444444444444,\"#bd3786\"],[0.5555555555555556,\"#d8576b\"],[0.6666666666666666,\"#ed7953\"],[0.7777777777777778,\"#fb9f3a\"],[0.8888888888888888,\"#fdca26\"],[1.0,\"#f0f921\"]],\"sequentialminus\":[[0.0,\"#0d0887\"],[0.1111111111111111,\"#46039f\"],[0.2222222222222222,\"#7201a8\"],[0.3333333333333333,\"#9c179e\"],[0.4444444444444444,\"#bd3786\"],[0.5555555555555556,\"#d8576b\"],[0.6666666666666666,\"#ed7953\"],[0.7777777777777778,\"#fb9f3a\"],[0.8888888888888888,\"#fdca26\"],[1.0,\"#f0f921\"]]},\"colorway\":[\"#636efa\",\"#EF553B\",\"#00cc96\",\"#ab63fa\",\"#FFA15A\",\"#19d3f3\",\"#FF6692\",\"#B6E880\",\"#FF97FF\",\"#FECB52\"],\"font\":{\"color\":\"#2a3f5f\"},\"geo\":{\"bgcolor\":\"white\",\"lakecolor\":\"white\",\"landcolor\":\"#E5ECF6\",\"showlakes\":true,\"showland\":true,\"subunitcolor\":\"white\"},\"hoverlabel\":{\"align\":\"left\"},\"hovermode\":\"closest\",\"mapbox\":{\"style\":\"light\"},\"paper_bgcolor\":\"white\",\"plot_bgcolor\":\"#E5ECF6\",\"polar\":{\"angularaxis\":{\"gridcolor\":\"white\",\"linecolor\":\"white\",\"ticks\":\"\"},\"bgcolor\":\"#E5ECF6\",\"radialaxis\":{\"gridcolor\":\"white\",\"linecolor\":\"white\",\"ticks\":\"\"}},\"scene\":{\"xaxis\":{\"backgroundcolor\":\"#E5ECF6\",\"gridcolor\":\"white\",\"gridwidth\":2,\"linecolor\":\"white\",\"showbackground\":true,\"ticks\":\"\",\"zerolinecolor\":\"white\"},\"yaxis\":{\"backgroundcolor\":\"#E5ECF6\",\"gridcolor\":\"white\",\"gridwidth\":2,\"linecolor\":\"white\",\"showbackground\":true,\"ticks\":\"\",\"zerolinecolor\":\"white\"},\"zaxis\":{\"backgroundcolor\":\"#E5ECF6\",\"gridcolor\":\"white\",\"gridwidth\":2,\"linecolor\":\"white\",\"showbackground\":true,\"ticks\":\"\",\"zerolinecolor\":\"white\"}},\"shapedefaults\":{\"line\":{\"color\":\"#2a3f5f\"}},\"ternary\":{\"aaxis\":{\"gridcolor\":\"white\",\"linecolor\":\"white\",\"ticks\":\"\"},\"baxis\":{\"gridcolor\":\"white\",\"linecolor\":\"white\",\"ticks\":\"\"},\"bgcolor\":\"#E5ECF6\",\"caxis\":{\"gridcolor\":\"white\",\"linecolor\":\"white\",\"ticks\":\"\"}},\"title\":{\"x\":0.05},\"xaxis\":{\"automargin\":true,\"gridcolor\":\"white\",\"linecolor\":\"white\",\"ticks\":\"\",\"title\":{\"standoff\":15},\"zerolinecolor\":\"white\",\"zerolinewidth\":2},\"yaxis\":{\"automargin\":true,\"gridcolor\":\"white\",\"linecolor\":\"white\",\"ticks\":\"\",\"title\":{\"standoff\":15},\"zerolinecolor\":\"white\",\"zerolinewidth\":2}}},\"title\":{\"font\":{\"color\":\"#D9D9D9\"},\"text\":\"\\ub144\\ub3c4\\ubcc4 \\ucd1d \\uc2b9\\ucc28\\uc2b9\\uac1d\\uc218 \\ubcc0\\ud654 \\ube44\\uc728\"},\"xaxis\":{\"gridcolor\":\"#434343\",\"showgrid\":true,\"tickfont\":{\"color\":\"#C2C2C2\"},\"title\":{\"font\":{\"color\":\"#D9D9D9\"},\"text\":\"\"},\"zerolinecolor\":\"#666570\"},\"yaxis\":{\"gridcolor\":\"#434343\",\"showgrid\":true,\"tickfont\":{\"color\":\"#C2C2C2\"},\"title\":{\"font\":{\"color\":\"#D9D9D9\"},\"text\":\"\"},\"zerolinecolor\":\"#666570\"}},                        {\"showLink\": true, \"linkText\": \"Export to plot.ly\", \"plotlyServerURL\": \"https://plot.ly\", \"responsive\": true}                    ).then(function(){\n",
       "                            \n",
       "var gd = document.getElementById('ffee9297-2f8f-4c5f-8525-dd00de2c5f28');\n",
       "var x = new MutationObserver(function (mutations, observer) {{\n",
       "        var display = window.getComputedStyle(gd).display;\n",
       "        if (!display || display === 'none') {{\n",
       "            console.log([gd, 'removed!']);\n",
       "            Plotly.purge(gd);\n",
       "            observer.disconnect();\n",
       "        }}\n",
       "}});\n",
       "\n",
       "// Listen for the removal of the full notebook cells\n",
       "var notebookContainer = gd.closest('#notebook-container');\n",
       "if (notebookContainer) {{\n",
       "    x.observe(notebookContainer, {childList: true});\n",
       "}}\n",
       "\n",
       "// Listen for the clearing of the current output cell\n",
       "var outputEl = gd.closest('.output');\n",
       "if (outputEl) {{\n",
       "    x.observe(outputEl, {childList: true});\n",
       "}}\n",
       "\n",
       "                        })                };                });            </script>        </div>"
      ]
     },
     "metadata": {},
     "output_type": "display_data"
    }
   ],
   "source": [
    "# 2015-2021 연도별 승객수 변화 비율\n",
    "dat.iloc[:,5:].iplot(kind='bar', title='년도별 총 승차승객수 변화 비율', theme='space')"
   ]
  }
 ],
 "metadata": {
  "kernelspec": {
   "display_name": "Python 3",
   "language": "python",
   "name": "python3"
  },
  "language_info": {
   "codemirror_mode": {
    "name": "ipython",
    "version": 3
   },
   "file_extension": ".py",
   "mimetype": "text/x-python",
   "name": "python",
   "nbconvert_exporter": "python",
   "pygments_lexer": "ipython3",
   "version": "3.8.8"
  }
 },
 "nbformat": 4,
 "nbformat_minor": 5
}
