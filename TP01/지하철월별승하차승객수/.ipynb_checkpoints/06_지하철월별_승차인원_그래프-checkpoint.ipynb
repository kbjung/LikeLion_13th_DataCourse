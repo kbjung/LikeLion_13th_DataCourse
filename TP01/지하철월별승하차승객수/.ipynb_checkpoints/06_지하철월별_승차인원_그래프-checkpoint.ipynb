{
 "cells": [
  {
   "cell_type": "markdown",
   "id": "a2a445c3",
   "metadata": {},
   "source": [
    "### 년도 별 파일 불러와 월별 합계 구하기\n",
    "* 파일을 순차적으로 불러오기\n",
    "* 월별 승하차 인원 합계 구하기\n",
    "* 월별로 데이터 셋으로 만들기 \n",
    "* 월별 데이터셋 하나로 합치기\n",
    "* csv 파일로 만들기"
   ]
  },
  {
   "cell_type": "markdown",
   "id": "5a889e41",
   "metadata": {},
   "source": [
    "### 파일 불러오기\n",
    "* 경로 : ./seoul_subway_month/년도/CARD_SUBWAY_MONTH_년도월.csv"
   ]
  },
  {
   "cell_type": "code",
   "execution_count": 1,
   "id": "623b7d90",
   "metadata": {},
   "outputs": [],
   "source": [
    "import pandas as pd"
   ]
  },
  {
   "cell_type": "code",
   "execution_count": 2,
   "id": "2bff44d4",
   "metadata": {},
   "outputs": [
    {
     "ename": "UnicodeDecodeError",
     "evalue": "'cp949' codec can't decode byte 0xec in position 1: illegal multibyte sequence",
     "output_type": "error",
     "traceback": [
      "\u001b[1;31m---------------------------------------------------------------------------\u001b[0m",
      "\u001b[1;31mUnicodeDecodeError\u001b[0m                        Traceback (most recent call last)",
      "\u001b[1;32m<ipython-input-2-ea152eca4a04>\u001b[0m in \u001b[0;36m<module>\u001b[1;34m\u001b[0m\n\u001b[0;32m     14\u001b[0m \u001b[1;32mfor\u001b[0m \u001b[0my\u001b[0m \u001b[1;32min\u001b[0m \u001b[0mrange\u001b[0m\u001b[1;33m(\u001b[0m\u001b[1;36m15\u001b[0m\u001b[1;33m,\u001b[0m \u001b[1;36m21\u001b[0m\u001b[1;33m)\u001b[0m\u001b[1;33m:\u001b[0m\u001b[1;33m\u001b[0m\u001b[1;33m\u001b[0m\u001b[0m\n\u001b[0;32m     15\u001b[0m     \u001b[1;32mfor\u001b[0m \u001b[0mi\u001b[0m \u001b[1;32min\u001b[0m \u001b[0mrange\u001b[0m\u001b[1;33m(\u001b[0m\u001b[1;36m1\u001b[0m\u001b[1;33m,\u001b[0m\u001b[1;36m13\u001b[0m\u001b[1;33m)\u001b[0m\u001b[1;33m:\u001b[0m\u001b[1;33m\u001b[0m\u001b[1;33m\u001b[0m\u001b[0m\n\u001b[1;32m---> 16\u001b[1;33m         \u001b[0mtmp_csv\u001b[0m \u001b[1;33m=\u001b[0m \u001b[0mpd\u001b[0m\u001b[1;33m.\u001b[0m\u001b[0mread_csv\u001b[0m\u001b[1;33m(\u001b[0m\u001b[1;34mf'./seoul_subway_month/20{y}/CARD_SUBWAY_MONTH_20{y}{i:0>2}.csv'\u001b[0m\u001b[1;33m,\u001b[0m \u001b[0mencoding\u001b[0m\u001b[1;33m=\u001b[0m\u001b[1;34m'cp949'\u001b[0m\u001b[1;33m)\u001b[0m\u001b[1;33m\u001b[0m\u001b[1;33m\u001b[0m\u001b[0m\n\u001b[0m\u001b[0;32m     17\u001b[0m         \u001b[0mtmp_sum1\u001b[0m \u001b[1;33m=\u001b[0m \u001b[0mtmp_csv\u001b[0m\u001b[1;33m[\u001b[0m\u001b[1;34m'승차총승객수'\u001b[0m\u001b[1;33m]\u001b[0m\u001b[1;33m.\u001b[0m\u001b[0msum\u001b[0m\u001b[1;33m(\u001b[0m\u001b[1;33m)\u001b[0m\u001b[1;33m\u001b[0m\u001b[1;33m\u001b[0m\u001b[0m\n\u001b[0;32m     18\u001b[0m         \u001b[0mtmp_sum2\u001b[0m \u001b[1;33m=\u001b[0m \u001b[0mtmp_csv\u001b[0m\u001b[1;33m[\u001b[0m\u001b[1;34m'하차총승객수'\u001b[0m\u001b[1;33m]\u001b[0m\u001b[1;33m.\u001b[0m\u001b[0msum\u001b[0m\u001b[1;33m(\u001b[0m\u001b[1;33m)\u001b[0m\u001b[1;33m\u001b[0m\u001b[1;33m\u001b[0m\u001b[0m\n",
      "\u001b[1;32m~\\anaconda3\\lib\\site-packages\\pandas\\io\\parsers.py\u001b[0m in \u001b[0;36mread_csv\u001b[1;34m(filepath_or_buffer, sep, delimiter, header, names, index_col, usecols, squeeze, prefix, mangle_dupe_cols, dtype, engine, converters, true_values, false_values, skipinitialspace, skiprows, skipfooter, nrows, na_values, keep_default_na, na_filter, verbose, skip_blank_lines, parse_dates, infer_datetime_format, keep_date_col, date_parser, dayfirst, cache_dates, iterator, chunksize, compression, thousands, decimal, lineterminator, quotechar, quoting, doublequote, escapechar, comment, encoding, dialect, error_bad_lines, warn_bad_lines, delim_whitespace, low_memory, memory_map, float_precision, storage_options)\u001b[0m\n\u001b[0;32m    608\u001b[0m     \u001b[0mkwds\u001b[0m\u001b[1;33m.\u001b[0m\u001b[0mupdate\u001b[0m\u001b[1;33m(\u001b[0m\u001b[0mkwds_defaults\u001b[0m\u001b[1;33m)\u001b[0m\u001b[1;33m\u001b[0m\u001b[1;33m\u001b[0m\u001b[0m\n\u001b[0;32m    609\u001b[0m \u001b[1;33m\u001b[0m\u001b[0m\n\u001b[1;32m--> 610\u001b[1;33m     \u001b[1;32mreturn\u001b[0m \u001b[0m_read\u001b[0m\u001b[1;33m(\u001b[0m\u001b[0mfilepath_or_buffer\u001b[0m\u001b[1;33m,\u001b[0m \u001b[0mkwds\u001b[0m\u001b[1;33m)\u001b[0m\u001b[1;33m\u001b[0m\u001b[1;33m\u001b[0m\u001b[0m\n\u001b[0m\u001b[0;32m    611\u001b[0m \u001b[1;33m\u001b[0m\u001b[0m\n\u001b[0;32m    612\u001b[0m \u001b[1;33m\u001b[0m\u001b[0m\n",
      "\u001b[1;32m~\\anaconda3\\lib\\site-packages\\pandas\\io\\parsers.py\u001b[0m in \u001b[0;36m_read\u001b[1;34m(filepath_or_buffer, kwds)\u001b[0m\n\u001b[0;32m    460\u001b[0m \u001b[1;33m\u001b[0m\u001b[0m\n\u001b[0;32m    461\u001b[0m     \u001b[1;31m# Create the parser.\u001b[0m\u001b[1;33m\u001b[0m\u001b[1;33m\u001b[0m\u001b[1;33m\u001b[0m\u001b[0m\n\u001b[1;32m--> 462\u001b[1;33m     \u001b[0mparser\u001b[0m \u001b[1;33m=\u001b[0m \u001b[0mTextFileReader\u001b[0m\u001b[1;33m(\u001b[0m\u001b[0mfilepath_or_buffer\u001b[0m\u001b[1;33m,\u001b[0m \u001b[1;33m**\u001b[0m\u001b[0mkwds\u001b[0m\u001b[1;33m)\u001b[0m\u001b[1;33m\u001b[0m\u001b[1;33m\u001b[0m\u001b[0m\n\u001b[0m\u001b[0;32m    463\u001b[0m \u001b[1;33m\u001b[0m\u001b[0m\n\u001b[0;32m    464\u001b[0m     \u001b[1;32mif\u001b[0m \u001b[0mchunksize\u001b[0m \u001b[1;32mor\u001b[0m \u001b[0miterator\u001b[0m\u001b[1;33m:\u001b[0m\u001b[1;33m\u001b[0m\u001b[1;33m\u001b[0m\u001b[0m\n",
      "\u001b[1;32m~\\anaconda3\\lib\\site-packages\\pandas\\io\\parsers.py\u001b[0m in \u001b[0;36m__init__\u001b[1;34m(self, f, engine, **kwds)\u001b[0m\n\u001b[0;32m    817\u001b[0m             \u001b[0mself\u001b[0m\u001b[1;33m.\u001b[0m\u001b[0moptions\u001b[0m\u001b[1;33m[\u001b[0m\u001b[1;34m\"has_index_names\"\u001b[0m\u001b[1;33m]\u001b[0m \u001b[1;33m=\u001b[0m \u001b[0mkwds\u001b[0m\u001b[1;33m[\u001b[0m\u001b[1;34m\"has_index_names\"\u001b[0m\u001b[1;33m]\u001b[0m\u001b[1;33m\u001b[0m\u001b[1;33m\u001b[0m\u001b[0m\n\u001b[0;32m    818\u001b[0m \u001b[1;33m\u001b[0m\u001b[0m\n\u001b[1;32m--> 819\u001b[1;33m         \u001b[0mself\u001b[0m\u001b[1;33m.\u001b[0m\u001b[0m_engine\u001b[0m \u001b[1;33m=\u001b[0m \u001b[0mself\u001b[0m\u001b[1;33m.\u001b[0m\u001b[0m_make_engine\u001b[0m\u001b[1;33m(\u001b[0m\u001b[0mself\u001b[0m\u001b[1;33m.\u001b[0m\u001b[0mengine\u001b[0m\u001b[1;33m)\u001b[0m\u001b[1;33m\u001b[0m\u001b[1;33m\u001b[0m\u001b[0m\n\u001b[0m\u001b[0;32m    820\u001b[0m \u001b[1;33m\u001b[0m\u001b[0m\n\u001b[0;32m    821\u001b[0m     \u001b[1;32mdef\u001b[0m \u001b[0mclose\u001b[0m\u001b[1;33m(\u001b[0m\u001b[0mself\u001b[0m\u001b[1;33m)\u001b[0m\u001b[1;33m:\u001b[0m\u001b[1;33m\u001b[0m\u001b[1;33m\u001b[0m\u001b[0m\n",
      "\u001b[1;32m~\\anaconda3\\lib\\site-packages\\pandas\\io\\parsers.py\u001b[0m in \u001b[0;36m_make_engine\u001b[1;34m(self, engine)\u001b[0m\n\u001b[0;32m   1048\u001b[0m             )\n\u001b[0;32m   1049\u001b[0m         \u001b[1;31m# error: Too many arguments for \"ParserBase\"\u001b[0m\u001b[1;33m\u001b[0m\u001b[1;33m\u001b[0m\u001b[1;33m\u001b[0m\u001b[0m\n\u001b[1;32m-> 1050\u001b[1;33m         \u001b[1;32mreturn\u001b[0m \u001b[0mmapping\u001b[0m\u001b[1;33m[\u001b[0m\u001b[0mengine\u001b[0m\u001b[1;33m]\u001b[0m\u001b[1;33m(\u001b[0m\u001b[0mself\u001b[0m\u001b[1;33m.\u001b[0m\u001b[0mf\u001b[0m\u001b[1;33m,\u001b[0m \u001b[1;33m**\u001b[0m\u001b[0mself\u001b[0m\u001b[1;33m.\u001b[0m\u001b[0moptions\u001b[0m\u001b[1;33m)\u001b[0m  \u001b[1;31m# type: ignore[call-arg]\u001b[0m\u001b[1;33m\u001b[0m\u001b[1;33m\u001b[0m\u001b[0m\n\u001b[0m\u001b[0;32m   1051\u001b[0m \u001b[1;33m\u001b[0m\u001b[0m\n\u001b[0;32m   1052\u001b[0m     \u001b[1;32mdef\u001b[0m \u001b[0m_failover_to_python\u001b[0m\u001b[1;33m(\u001b[0m\u001b[0mself\u001b[0m\u001b[1;33m)\u001b[0m\u001b[1;33m:\u001b[0m\u001b[1;33m\u001b[0m\u001b[1;33m\u001b[0m\u001b[0m\n",
      "\u001b[1;32m~\\anaconda3\\lib\\site-packages\\pandas\\io\\parsers.py\u001b[0m in \u001b[0;36m__init__\u001b[1;34m(self, src, **kwds)\u001b[0m\n\u001b[0;32m   1896\u001b[0m \u001b[1;33m\u001b[0m\u001b[0m\n\u001b[0;32m   1897\u001b[0m         \u001b[1;32mtry\u001b[0m\u001b[1;33m:\u001b[0m\u001b[1;33m\u001b[0m\u001b[1;33m\u001b[0m\u001b[0m\n\u001b[1;32m-> 1898\u001b[1;33m             \u001b[0mself\u001b[0m\u001b[1;33m.\u001b[0m\u001b[0m_reader\u001b[0m \u001b[1;33m=\u001b[0m \u001b[0mparsers\u001b[0m\u001b[1;33m.\u001b[0m\u001b[0mTextReader\u001b[0m\u001b[1;33m(\u001b[0m\u001b[0mself\u001b[0m\u001b[1;33m.\u001b[0m\u001b[0mhandles\u001b[0m\u001b[1;33m.\u001b[0m\u001b[0mhandle\u001b[0m\u001b[1;33m,\u001b[0m \u001b[1;33m**\u001b[0m\u001b[0mkwds\u001b[0m\u001b[1;33m)\u001b[0m\u001b[1;33m\u001b[0m\u001b[1;33m\u001b[0m\u001b[0m\n\u001b[0m\u001b[0;32m   1899\u001b[0m         \u001b[1;32mexcept\u001b[0m \u001b[0mException\u001b[0m\u001b[1;33m:\u001b[0m\u001b[1;33m\u001b[0m\u001b[1;33m\u001b[0m\u001b[0m\n\u001b[0;32m   1900\u001b[0m             \u001b[0mself\u001b[0m\u001b[1;33m.\u001b[0m\u001b[0mhandles\u001b[0m\u001b[1;33m.\u001b[0m\u001b[0mclose\u001b[0m\u001b[1;33m(\u001b[0m\u001b[1;33m)\u001b[0m\u001b[1;33m\u001b[0m\u001b[1;33m\u001b[0m\u001b[0m\n",
      "\u001b[1;32mpandas\\_libs\\parsers.pyx\u001b[0m in \u001b[0;36mpandas._libs.parsers.TextReader.__cinit__\u001b[1;34m()\u001b[0m\n",
      "\u001b[1;32mpandas\\_libs\\parsers.pyx\u001b[0m in \u001b[0;36mpandas._libs.parsers.TextReader._get_header\u001b[1;34m()\u001b[0m\n",
      "\u001b[1;32mpandas\\_libs\\parsers.pyx\u001b[0m in \u001b[0;36mpandas._libs.parsers.TextReader._tokenize_rows\u001b[1;34m()\u001b[0m\n",
      "\u001b[1;32mpandas\\_libs\\parsers.pyx\u001b[0m in \u001b[0;36mpandas._libs.parsers.raise_parser_error\u001b[1;34m()\u001b[0m\n",
      "\u001b[1;31mUnicodeDecodeError\u001b[0m: 'cp949' codec can't decode byte 0xec in position 1: illegal multibyte sequence"
     ]
    }
   ],
   "source": [
    "# 2020년 4월까지 인코딩이 ANSI\n",
    "# 2020년 5월부터 8월까지 UTF-8(ROM)\n",
    "# 2020년 9월 ANSI\n",
    "# 2020년 10월 UTF-8(ROM)\n",
    "# csv 파일 인코딩을 메모장으로 변경\n",
    "\n",
    "#2021년은 8월까지만 파일 존재\n",
    "\n",
    "# 파일 불러와 년도 별 승차, 하차 각각 월별 총 승객수 리스트로 만들기\n",
    "sub_in_month = []\n",
    "sub_out_month = []\n",
    "\n",
    "# 2015-2019년 1-12월, 인코딩 'cp949'\n",
    "for y in range(15, 21):\n",
    "    for i in range(1,13):\n",
    "        tmp_csv = pd.read_csv(f'./seoul_subway_month/20{y}/CARD_SUBWAY_MONTH_20{y}{i:0>2}.csv', encoding='cp949')\n",
    "        tmp_sum1 = tmp_csv['승차총승객수'].sum()\n",
    "        tmp_sum2 = tmp_csv['하차총승객수'].sum()\n",
    "        sub_in_month.append(tmp_sum1)\n",
    "        sub_out_month.append(tmp_sum2)\n",
    "\n",
    "    # 2021년 1-8월\n",
    "for i in range(1,9):\n",
    "    tmp_csv = pd.read_csv(f'./seoul_subway_month/2021/CARD_SUBWAY_MONTH_2021{i:0>2}.csv', encoding='utf-8')\n",
    "    tmp_sum1 = tmp_csv['승차총승객수'].sum()\n",
    "    tmp_sum2 = tmp_csv['하차총승객수'].sum()\n",
    "    sub_in_month.append(tmp_sum1)\n",
    "    sub_out_month.append(tmp_sum2)\n",
    "        \n",
    "print(len(sub_in_month))\n",
    "print(len(sub_out_month))"
   ]
  },
  {
   "cell_type": "code",
   "execution_count": 3,
   "id": "1ad306b4",
   "metadata": {
    "scrolled": true
   },
   "outputs": [
    {
     "name": "stdout",
     "output_type": "stream",
     "text": [
      "[437278792, 376783122, 478541350, 236022558.0, 234296965.0, 203119706.0, 218172679.0, 210102718.0, 214486255.0, 234349102.0, 223497154.0, 233155014.0, 209273211.0, 193647156.0, 236377700.0, 228348725.0, 234166653.0, 222611572.0, 219465787.0, 214193213.0, 210698312.0, 229681635.0, 228122715.0, 231777262.0, 205502324.0, 204936457.0, 237179303.0, 227780690.0, 227836340.0, 221308605.0, 214815271.0, 213776584.0, 228240103.0, 208204249.0, 228254078.0, 228619448.0, 213710722.0, 189110822.0, 235296346.0, 228971702.0, 235253127.0, 219426719.0, 221632774.0, 214216200.0, 208561416.0, 235739024.0, 232960426.0, 227834001.0, 221848014.0, 190335812.0, 233813277.0, 235928571.0, 243338053.0, 221547039.0, 229254848.0, 219672653.0, 214006728.0, 240101848.0, 232284482.0, 234574904.0, 207743593.0, 169582542.0, 139686779.0, 149118804.0, 164531970, 171605690, 183490485, 152989131, 144602055, 169231365, 171847194, 139666561, 142178674, 142994483, 179109500, 177677244, 174157717, 179060211, 159645605, 152911075]\n",
      "[435066846, 374884262, 476451614, 234898916.0, 233170178.0, 202399930.0, 217265058.0, 209130600.0, 213578097.0, 233341479.0, 222600581.0, 232154505.0, 208318335.0, 192773472.0, 235428077.0, 227431434.0, 233175677.0, 221688838.0, 218462009.0, 213224598.0, 209805032.0, 228636055.0, 227122581.0, 230724428.0, 204531987.0, 203985242.0, 236204018.0, 226789893.0, 226799684.0, 220362163.0, 213858564.0, 212809390.0, 227170000.0, 207196105.0, 227278770.0, 227669424.0, 212849469.0, 188340921.0, 234409973.0, 228096920.0, 234314673.0, 218542730.0, 220746413.0, 213330490.0, 207742249.0, 234837595.0, 232096833.0, 226826591.0, 220898375.0, 189500198.0, 232879549.0, 235005777.0, 242380504.0, 220663596.0, 228353976.0, 218759210.0, 213170622.0, 239145883.0, 231429861.0, 233673639.0, 206939054.0, 169058614.0, 139308780.0, 148683918.0, 370215033853, 358338895875, 370259100924, 370947762113, 361232950733, 374466413132, 362468794583, 374102066579, 374635099720, 338541483044, 375022803846, 364616286518, 376562514325, 364498631123, 376566240801, 376689369334]\n"
     ]
    }
   ],
   "source": [
    "print(sub_in_month)\n",
    "print(sub_out_month)"
   ]
  },
  {
   "cell_type": "code",
   "execution_count": null,
   "id": "fe85b63f",
   "metadata": {
    "scrolled": true
   },
   "outputs": [],
   "source": [
    "# index 만들기\n",
    "index = []\n",
    "# 2015-2020년 1-12월\n",
    "for y in range(15, 21):\n",
    "    for m in range(1, 13):\n",
    "        tmp = f\"'20{y}-{m:0>2}\"\n",
    "        index.append(tmp)\n",
    "# 2021년 1-8월\n",
    "for m in range(1, 9):\n",
    "    tmp = f\"'2021-{m:0>2}\"\n",
    "    index.append(tmp)\n",
    "index[:5]"
   ]
  },
  {
   "cell_type": "code",
   "execution_count": null,
   "id": "77306ad9",
   "metadata": {
    "scrolled": false
   },
   "outputs": [],
   "source": [
    "all_sub_month = {'월별승차총승객수':sub_in_month, '월별하차총승객수':sub_out_month}\n",
    "# csv 파일에서 날짜서식으로 자동변환 문제 발생.\n",
    "# ' 년도-월'로 입력. 앞 한칸 띄우기 => 자동변환 문제 해결 => 그래프에서 날짜 정상 인식 실패.\n",
    "# \"'년도-월\"로 입력. 앞에 '(작은 따옴표) 붙이기 => 자동변환 문제 해결 => 그래프에서 날짜 정상 인식.\n",
    "sub_month_dat = pd.DataFrame(all_sub_month, index=index)\n",
    "sub_month_dat"
   ]
  },
  {
   "cell_type": "code",
   "execution_count": null,
   "id": "0ddda490",
   "metadata": {},
   "outputs": [],
   "source": [
    "sub_month_dat.info()"
   ]
  },
  {
   "cell_type": "code",
   "execution_count": null,
   "id": "8508a654",
   "metadata": {},
   "outputs": [],
   "source": [
    "# csv 파일 만들기\n",
    "sub_month_dat.to_csv('sub_month_2015-2021.csv', index=True)"
   ]
  },
  {
   "cell_type": "markdown",
   "id": "b58efd80",
   "metadata": {},
   "source": [
    "# 그래프 그리기"
   ]
  },
  {
   "cell_type": "code",
   "execution_count": null,
   "id": "3f84ab2d",
   "metadata": {},
   "outputs": [],
   "source": [
    "import plotly\n",
    "import cufflinks as cf"
   ]
  },
  {
   "cell_type": "code",
   "execution_count": null,
   "id": "e6793b21",
   "metadata": {},
   "outputs": [],
   "source": [
    "# 오프라인 모드에서도 인터렉티브한 그래픽을 가능하도록 하기\n",
    "# Enabling the offline mode for interactive plotting locally\n",
    "from plotly.offline import download_plotlyjs,init_notebook_mode,plot,iplot\n",
    "init_notebook_mode(connected=True)\n",
    "cf.go_offline()"
   ]
  },
  {
   "cell_type": "markdown",
   "id": "d3734d00",
   "metadata": {},
   "source": [
    "### 'sub_month_2015-2021.csv' 날짜 자동변환 테스트"
   ]
  },
  {
   "cell_type": "code",
   "execution_count": null,
   "id": "0f5d82a0",
   "metadata": {
    "scrolled": true
   },
   "outputs": [],
   "source": [
    "sub_test = pd.read_csv('sub_month_2015-2021.csv', encoding='utf-8')\n",
    "sub_test.head()"
   ]
  },
  {
   "cell_type": "code",
   "execution_count": null,
   "id": "ff345c3d",
   "metadata": {},
   "outputs": [],
   "source": [
    "sub_test.columns = ['date', '월별승차총승객수', '월별하차총승객수']\n",
    "sub_test.columns"
   ]
  },
  {
   "cell_type": "code",
   "execution_count": null,
   "id": "fc9bcc42",
   "metadata": {},
   "outputs": [],
   "source": [
    "sub_test.head()"
   ]
  },
  {
   "cell_type": "code",
   "execution_count": null,
   "id": "f6507adb",
   "metadata": {},
   "outputs": [],
   "source": [
    "sub_test.tail()"
   ]
  },
  {
   "cell_type": "code",
   "execution_count": null,
   "id": "e1d22594",
   "metadata": {},
   "outputs": [],
   "source": [
    "sub_test.info()"
   ]
  },
  {
   "cell_type": "code",
   "execution_count": null,
   "id": "36a99d15",
   "metadata": {
    "scrolled": false
   },
   "outputs": [],
   "source": [
    "sub_test[:13].iplot(kind='bar', x='date', y='월별승차총승객수')"
   ]
  },
  {
   "cell_type": "code",
   "execution_count": null,
   "id": "ce691352",
   "metadata": {},
   "outputs": [],
   "source": [
    "sub_test[71:].iplot(kind='bar', x='date')"
   ]
  },
  {
   "cell_type": "code",
   "execution_count": null,
   "id": "3890a976",
   "metadata": {
    "scrolled": false
   },
   "outputs": [],
   "source": [
    "# ' 없애기 시도중...\n",
    "sub_test['date'].str.replace(pat=r\"[']\",repl=r\"\",regex=True)\n",
    "sub_test['date']"
   ]
  },
  {
   "cell_type": "markdown",
   "id": "96cb9f7c",
   "metadata": {},
   "source": [
    "## 정리해서 생성한 'sub_month_2015-2021.csv' 파일 불러오기"
   ]
  },
  {
   "cell_type": "code",
   "execution_count": null,
   "id": "f998d786",
   "metadata": {
    "scrolled": true
   },
   "outputs": [],
   "source": [
    "sub = pd.read_csv('sub_month_2015-2021.csv', encoding='utf-8')\n",
    "sub.head()"
   ]
  },
  {
   "cell_type": "code",
   "execution_count": null,
   "id": "499f0153",
   "metadata": {
    "scrolled": true
   },
   "outputs": [],
   "source": [
    "sub.columns = ['date', '월별승차총승객수', '월별하차총승객수']\n",
    "sub.columns"
   ]
  },
  {
   "cell_type": "markdown",
   "id": "c6fc4d6b",
   "metadata": {},
   "source": [
    "### 승하차 승객 수 그래프 그리기 "
   ]
  },
  {
   "cell_type": "code",
   "execution_count": null,
   "id": "eaca033d",
   "metadata": {
    "scrolled": false
   },
   "outputs": [],
   "source": [
    "sub.iplot(kind='bar', x='date', theme='space')"
   ]
  },
  {
   "cell_type": "markdown",
   "id": "ccdda02f",
   "metadata": {},
   "source": [
    "### 승하차 수 거의 차이 없음.\n",
    "* 승차수만 표현"
   ]
  },
  {
   "cell_type": "code",
   "execution_count": null,
   "id": "ef41b387",
   "metadata": {},
   "outputs": [],
   "source": [
    "sub.iplot(kind='bar', x='date', y='월별승차총승객수', theme='space')"
   ]
  },
  {
   "cell_type": "code",
   "execution_count": null,
   "id": "01540685",
   "metadata": {},
   "outputs": [],
   "source": [
    "sub.iplot(kind='line', x='date', y='월별승차총승객수', theme='space')"
   ]
  },
  {
   "cell_type": "markdown",
   "id": "64bfcf47",
   "metadata": {},
   "source": [
    "## 승하차 증감 비율 그래프 그리기"
   ]
  },
  {
   "cell_type": "markdown",
   "id": "292b2665",
   "metadata": {},
   "source": [
    "### 승차 수 변화"
   ]
  },
  {
   "cell_type": "code",
   "execution_count": null,
   "id": "5371f63f",
   "metadata": {
    "scrolled": true
   },
   "outputs": [],
   "source": [
    "# 승차월별 증감 구하기\n",
    "num = len(sub['월별승차총승객수'])\n",
    "change = [0]\n",
    "for i in range( 1, num ):\n",
    "    j = i-1\n",
    "    x1 = int(sub.iloc[j, 1])\n",
    "    x2 = int(sub.iloc[i, 1])\n",
    "    tmp = x2 - x1\n",
    "    change.append(tmp)\n",
    "\n",
    "# print(change)\n",
    "sub['월별승차총승객수변화량'] = change\n",
    "# sub\n",
    "sub.head()"
   ]
  },
  {
   "cell_type": "markdown",
   "id": "bb5a9adb",
   "metadata": {},
   "source": [
    "### 승차 수 변화 비율"
   ]
  },
  {
   "cell_type": "code",
   "execution_count": null,
   "id": "da2d47e4",
   "metadata": {},
   "outputs": [],
   "source": [
    "# 승차월별 증감 비율 구하기\n",
    "num = len(sub['월별승차총승객수변화량'])\n",
    "change = [0]\n",
    "for i in range( 1, num ):\n",
    "    j = i-1\n",
    "    x1 = int(sub.iloc[j, 1])\n",
    "    x2 = int(sub.iloc[i, 3])\n",
    "    tmp = x2 / x1\n",
    "    change.append(tmp)\n",
    "\n",
    "sub['월별승차총승객수변화량비율'] = change\n",
    "# sub\n",
    "sub.head()"
   ]
  },
  {
   "cell_type": "code",
   "execution_count": null,
   "id": "3a05576c",
   "metadata": {
    "scrolled": true
   },
   "outputs": [],
   "source": [
    "# 승차월별 증감 %비율 구하기\n",
    "num = len(sub['월별승차총승객수변화량'])\n",
    "change = []\n",
    "for i in range(num):\n",
    "    x1 = float(sub.iloc[i, 4])\n",
    "    tmp = x1 * 100\n",
    "    change.append(tmp)\n",
    "\n",
    "sub['월별승차총승객수변화량비율(%)'] = change\n",
    "# sub\n",
    "sub.head()"
   ]
  },
  {
   "cell_type": "markdown",
   "id": "b43e4751",
   "metadata": {},
   "source": [
    "### 하차 수 변화"
   ]
  },
  {
   "cell_type": "code",
   "execution_count": null,
   "id": "a2f1fc69",
   "metadata": {
    "scrolled": true
   },
   "outputs": [],
   "source": [
    "# 하차월별 증감 구하기\n",
    "num = len(sub['월별하차총승객수'])\n",
    "change = [0]\n",
    "for i in range( 1, num ):\n",
    "    j = i-1\n",
    "    x1 = int(sub.iloc[j, 2])\n",
    "    x2 = int(sub.iloc[i, 2])\n",
    "    tmp = x2 - x1\n",
    "    change.append(tmp)\n",
    "\n",
    "sub['월별하차총승객수변화량'] = change\n",
    "# sub\n",
    "sub.head()"
   ]
  },
  {
   "cell_type": "markdown",
   "id": "c8c00d7d",
   "metadata": {},
   "source": [
    "### 하차 수 변화 비율"
   ]
  },
  {
   "cell_type": "code",
   "execution_count": null,
   "id": "2d764c5c",
   "metadata": {},
   "outputs": [],
   "source": [
    "# 하차월별 증감 비율 구하기\n",
    "num = len(sub['월별하차총승객수변화량'])\n",
    "change = [0]\n",
    "for i in range( 1, num ):\n",
    "    j = i-1\n",
    "    x1 = int(sub.iloc[j, 2])\n",
    "    x2 = int(sub.iloc[i, 6])\n",
    "    tmp = x2 / x1\n",
    "    change.append(tmp)\n",
    "\n",
    "sub['월별하차총승객수변화량비율'] = change\n",
    "# sub\n",
    "sub.head()"
   ]
  },
  {
   "cell_type": "code",
   "execution_count": null,
   "id": "9c1e1642",
   "metadata": {},
   "outputs": [],
   "source": [
    "# 하차월별 증감 %비율 구하기\n",
    "num = len(sub['월별하차총승객수변화량'])\n",
    "change = []\n",
    "for i in range(num):\n",
    "    x1 = float(sub.iloc[i,7])\n",
    "    tmp = x1 * 100\n",
    "    change.append(tmp)\n",
    "\n",
    "sub['월별하차총승객수변화량비율(%)'] = change\n",
    "# sub\n",
    "sub.head()"
   ]
  },
  {
   "cell_type": "markdown",
   "id": "f065e078",
   "metadata": {},
   "source": [
    "## 승하차 증감 비율 그래프(plotly)(2016-2021년)\n",
    "* x축에 너무 많은 값이 들어가면 가독성이 안좋음\n",
    "* 5년 자료만 표시"
   ]
  },
  {
   "cell_type": "code",
   "execution_count": null,
   "id": "52cac6ce",
   "metadata": {},
   "outputs": [],
   "source": [
    "# 바형 그래프\n",
    "sub.iloc[12:,:].iplot(kind='bar', x='date', y=['월별승차총승객수변화량비율(%)'],\n",
    "          title='월별 승차승객수 변화 비율', theme='space')"
   ]
  },
  {
   "cell_type": "code",
   "execution_count": null,
   "id": "81d3f09e",
   "metadata": {},
   "outputs": [],
   "source": [
    "# 선형 그래프\n",
    "sub.iloc[12:,:].iplot(kind='line', x='date', y=['월별승차총승객수변화량비율(%)'],\n",
    "                      title='월별 승차승객수 변화 비율', theme='space')"
   ]
  },
  {
   "cell_type": "markdown",
   "id": "c4429428",
   "metadata": {},
   "source": [
    "##  다른 연도 같은 월끼리 비교"
   ]
  },
  {
   "cell_type": "code",
   "execution_count": null,
   "id": "59ab8867",
   "metadata": {},
   "outputs": [],
   "source": [
    "pd.options.display.max_rows = 500\n",
    "pd.options.display.max_columns = 500"
   ]
  },
  {
   "cell_type": "code",
   "execution_count": null,
   "id": "34b65bdb",
   "metadata": {},
   "outputs": [],
   "source": [
    "# 승하차총승객수만 가져오기\n",
    "sub2 = sub[['date', '월별승차총승객수', '월별하차총승객수']]\n",
    "sub2"
   ]
  },
  {
   "cell_type": "markdown",
   "id": "cc59373f",
   "metadata": {},
   "source": [
    "## 승차 승객 수 전년도와 비교(양)"
   ]
  },
  {
   "cell_type": "markdown",
   "id": "2f72f892",
   "metadata": {},
   "source": [
    "### 비교대상 없는 09월부터 12월까지 자료 삭제"
   ]
  },
  {
   "cell_type": "code",
   "execution_count": null,
   "id": "eec52804",
   "metadata": {},
   "outputs": [],
   "source": [
    "# 비교대상 없는 09월부터 12월까지 자료 삭제\n",
    "sub2 = sub2.drop([8, 9, 10, 11,\n",
    "                 20, 21, 22, 23,\n",
    "                 32, 33, 34, 35,\n",
    "                 44, 45, 46, 47,\n",
    "                 56, 57, 58, 59,\n",
    "                 68, 69, 70, 71])\n",
    "sub2 = sub2.reset_index()\n",
    "sub2"
   ]
  },
  {
   "cell_type": "markdown",
   "id": "39b49efb",
   "metadata": {},
   "source": [
    "#### 2016-2017"
   ]
  },
  {
   "cell_type": "code",
   "execution_count": null,
   "id": "836657d7",
   "metadata": {
    "scrolled": true
   },
   "outputs": [],
   "source": [
    "# 승차 전년도와 비교(양)\n",
    "# 2016년도와 2017년도\n",
    "y1617_change = []\n",
    "for i in range(8, 16):\n",
    "    j = i + 8\n",
    "    num2016 = sub2.iloc[i, 2]\n",
    "    num2017 = sub2.iloc[j, 2]\n",
    "    minus = num2017 - num2016\n",
    "    y1617_change.append(minus)\n",
    "\n",
    "y1617_change"
   ]
  },
  {
   "cell_type": "markdown",
   "id": "9092a5dc",
   "metadata": {},
   "source": [
    "#### 2017-2018"
   ]
  },
  {
   "cell_type": "code",
   "execution_count": null,
   "id": "c5098eb4",
   "metadata": {},
   "outputs": [],
   "source": [
    "# 승차 전년도와 비교(양)\n",
    "# 2017년도와 2018년도\n",
    "y1718_change = []\n",
    "for i in range(16, 24):\n",
    "    j = i + 8\n",
    "    num2017 = sub2.iloc[i, 2]\n",
    "    num2018 = sub2.iloc[j, 2]\n",
    "    minus = num2018 - num2017\n",
    "    y1718_change.append(minus)\n",
    "\n",
    "y1718_change"
   ]
  },
  {
   "cell_type": "markdown",
   "id": "08b40831",
   "metadata": {},
   "source": [
    "#### 2018-2019"
   ]
  },
  {
   "cell_type": "code",
   "execution_count": null,
   "id": "8bacbbc7",
   "metadata": {},
   "outputs": [],
   "source": [
    "# 승차 전년도와 비교(양)\n",
    "# 2018년도와 2019년도\n",
    "y1819_change = []\n",
    "for i in range(24, 32):\n",
    "    j = i + 8\n",
    "    num2018 = sub2.iloc[i, 2]\n",
    "    num2019 = sub2.iloc[j, 2]\n",
    "    minus = num2019 - num2018\n",
    "    y1819_change.append(minus)\n",
    "\n",
    "y1819_change"
   ]
  },
  {
   "cell_type": "markdown",
   "id": "19d57c78",
   "metadata": {},
   "source": [
    "#### 2019-2020"
   ]
  },
  {
   "cell_type": "code",
   "execution_count": null,
   "id": "19abab3c",
   "metadata": {},
   "outputs": [],
   "source": [
    "# 승차 전년도와 비교(양)\n",
    "# 2019년도와 2020년도\n",
    "y1920_change = []\n",
    "for i in range(32, 40):\n",
    "    j = i + 8\n",
    "    num2019 = sub2.iloc[i, 2]\n",
    "    num2020 = sub2.iloc[j, 2]\n",
    "    minus = num2020 - num2019\n",
    "    y1920_change.append(minus)\n",
    "\n",
    "y1920_change"
   ]
  },
  {
   "cell_type": "markdown",
   "id": "bf527aa6",
   "metadata": {},
   "source": [
    "#### 2020-2021"
   ]
  },
  {
   "cell_type": "code",
   "execution_count": null,
   "id": "108b4278",
   "metadata": {},
   "outputs": [],
   "source": [
    "# 승차 전년도와 비교(양)\n",
    "# 2020년도와 2021년도\n",
    "y2021_change = []\n",
    "for i in range(40, 48):\n",
    "    j = i + 8\n",
    "    num2020 = sub2.iloc[i, 2]\n",
    "    num2021 = sub2.iloc[j, 2]\n",
    "    minus = num2021 - num2020\n",
    "    y2021_change.append(minus)\n",
    "\n",
    "y2021_change"
   ]
  },
  {
   "cell_type": "markdown",
   "id": "0ce8889f",
   "metadata": {},
   "source": [
    "## 승차 승객 수 전년도와 비교(비율)"
   ]
  },
  {
   "cell_type": "markdown",
   "id": "56a7d2c4",
   "metadata": {},
   "source": [
    "#### 2016-2017"
   ]
  },
  {
   "cell_type": "code",
   "execution_count": null,
   "id": "2afab083",
   "metadata": {},
   "outputs": [],
   "source": [
    "# 승차 전년도와 비교(비율)\n",
    "# 2016년도와 2017년도\n",
    "y1617_change_rate = []\n",
    "for i in range(8, 16):\n",
    "    j = i + 8\n",
    "    num2016 = sub2.iloc[i, 2]\n",
    "    num2017 = sub2.iloc[j, 2]\n",
    "    minus = num2017 - num2016\n",
    "    percent = (minus / num2016) * 100\n",
    "    y1617_change_rate.append(percent)\n",
    "\n",
    "y1617_change_rate"
   ]
  },
  {
   "cell_type": "markdown",
   "id": "c4b15c89",
   "metadata": {},
   "source": [
    "#### 2017-2018"
   ]
  },
  {
   "cell_type": "code",
   "execution_count": null,
   "id": "c47979a1",
   "metadata": {},
   "outputs": [],
   "source": [
    "# 승차 전년도와 비교(비율)\n",
    "# 2017년도와 2018년도\n",
    "y1718_change_rate = []\n",
    "for i in range(16, 24):\n",
    "    j = i + 8\n",
    "    num2017 = sub2.iloc[i, 2]\n",
    "    num2018 = sub2.iloc[j, 2]\n",
    "    minus = num2018 - num2017\n",
    "    percent = (minus / num2017) * 100\n",
    "    y1718_change_rate.append(percent)\n",
    "\n",
    "y1718_change_rate"
   ]
  },
  {
   "cell_type": "markdown",
   "id": "11c83b15",
   "metadata": {},
   "source": [
    "#### 2018-2019"
   ]
  },
  {
   "cell_type": "code",
   "execution_count": null,
   "id": "8fcbda57",
   "metadata": {},
   "outputs": [],
   "source": [
    "# 승차 전년도와 비교(비율)\n",
    "# 2018년도와 2019년도\n",
    "y1819_change_rate = []\n",
    "for i in range(24, 32):\n",
    "    j = i + 8\n",
    "    num2018 = sub2.iloc[i, 2]\n",
    "    num2019 = sub2.iloc[j, 2]\n",
    "    minus = num2019 - num2018\n",
    "    percent = (minus / num2018) * 100\n",
    "    y1819_change_rate.append(percent)\n",
    "\n",
    "y1819_change_rate"
   ]
  },
  {
   "cell_type": "markdown",
   "id": "49a925c7",
   "metadata": {},
   "source": [
    "#### 2019-2020"
   ]
  },
  {
   "cell_type": "code",
   "execution_count": null,
   "id": "55192358",
   "metadata": {},
   "outputs": [],
   "source": [
    "# 승차 전년도와 비교(비율)\n",
    "# 2019년도와 2020년도\n",
    "y1920_change_rate = []\n",
    "for i in range(32, 40):\n",
    "    j = i + 8\n",
    "    num2019 = sub2.iloc[i, 2]\n",
    "    num2020 = sub2.iloc[j, 2]\n",
    "    minus = num2020 - num2019\n",
    "    percent = (minus / num2019) * 100\n",
    "    y1920_change_rate.append(percent)\n",
    "\n",
    "y1920_change_rate"
   ]
  },
  {
   "cell_type": "markdown",
   "id": "1bbf91c7",
   "metadata": {},
   "source": [
    "#### 2020-2021"
   ]
  },
  {
   "cell_type": "code",
   "execution_count": null,
   "id": "e543fdea",
   "metadata": {},
   "outputs": [],
   "source": [
    "# 승차 전년도와 비교(비율)\n",
    "# 2020년도와 2021년도\n",
    "y2021_change_rate = []\n",
    "for i in range(40, 48):\n",
    "    j = i + 8\n",
    "    num2020 = sub2.iloc[i, 2]\n",
    "    num2021 = sub2.iloc[j, 2]\n",
    "    minus = num2021 - num2020\n",
    "    percent = (minus / num2020) * 100\n",
    "    y2021_change_rate.append(percent)\n",
    "\n",
    "y2021_change_rate"
   ]
  },
  {
   "cell_type": "markdown",
   "id": "e9b8207f",
   "metadata": {},
   "source": [
    "### 년도별 비교 값 모으기"
   ]
  },
  {
   "cell_type": "code",
   "execution_count": null,
   "id": "1dd2b9ca",
   "metadata": {},
   "outputs": [],
   "source": [
    "# 2년씩 비교 리스트 값 모으기\n",
    "# 값이 많아 5년치만 비교(2016-2021년)\n",
    "dat = pd.DataFrame({'2016-2017년_총승차승객수변화' : y1617_change,\n",
    "                    '2017-2018년_총승차승객수변화' : y1718_change,\n",
    "                    '2018-2019년_총승차승객수변화' : y1819_change,\n",
    "                    '2019-2020년_총승차승객수변화' : y1920_change,\n",
    "                    '2020-2021년_총승차승객수변화' : y2021_change,\n",
    "                    '2016-2017년_총승차승객수변화비율' : y1617_change_rate,\n",
    "                    '2017-2018년_총승차승객수변화비율' : y1718_change_rate,\n",
    "                    '2018-2019년_총승차승객수변화비율' : y1819_change_rate,\n",
    "                    '2019-2020년_총승차승객수변화비율' : y1920_change_rate,\n",
    "                    '2020-2021년_총승차승객수변화비율' : y2021_change_rate,\n",
    "                   },\n",
    "                  index = ['01', '02', '03', '04', '05', '06', '07', '08'])\n",
    "dat"
   ]
  },
  {
   "cell_type": "markdown",
   "id": "3c2a4412",
   "metadata": {},
   "source": [
    "# 그래프(승객 수 변화, 변화 비율)"
   ]
  },
  {
   "cell_type": "markdown",
   "id": "dfcca661",
   "metadata": {},
   "source": [
    "### 다른 연도 같은 달 승객 수 변화"
   ]
  },
  {
   "cell_type": "code",
   "execution_count": null,
   "id": "892dab6c",
   "metadata": {},
   "outputs": [],
   "source": [
    "# 2015-2021 연도별 승객수 변화\n",
    "dat.iloc[:,:5].iplot(kind='bar', title='년도별 총 승차승객수 변화', theme='space')"
   ]
  },
  {
   "cell_type": "markdown",
   "id": "6e51db68",
   "metadata": {},
   "source": [
    "### 다른 연도 같은 달 승객 수 변화 비율"
   ]
  },
  {
   "cell_type": "code",
   "execution_count": null,
   "id": "85ec867c",
   "metadata": {},
   "outputs": [],
   "source": [
    "# 2015-2021 연도별 승객수 변화 비율\n",
    "dat.iloc[:,5:].iplot(kind='bar', title='년도별 총 승차승객수 변화 비율', theme='space')"
   ]
  }
 ],
 "metadata": {
  "kernelspec": {
   "display_name": "Python 3",
   "language": "python",
   "name": "python3"
  },
  "language_info": {
   "codemirror_mode": {
    "name": "ipython",
    "version": 3
   },
   "file_extension": ".py",
   "mimetype": "text/x-python",
   "name": "python",
   "nbconvert_exporter": "python",
   "pygments_lexer": "ipython3",
   "version": "3.8.8"
  }
 },
 "nbformat": 4,
 "nbformat_minor": 5
}
