{
 "cells": [
  {
   "cell_type": "markdown",
   "id": "39784ae3",
   "metadata": {},
   "source": [
    "# 코로나 뉴스 웹 크롤링\n",
    "* 구글에서, 특정 기간, 특정 키워드 검색\n",
    "* 뉴스 타이틀만 가져오기\n",
    "* wordcloud로 시각화 하기"
   ]
  },
  {
   "cell_type": "markdown",
   "id": "ae98684e",
   "metadata": {},
   "source": [
    "## selenium, bs 이용"
   ]
  },
  {
   "cell_type": "code",
   "execution_count": 17,
   "id": "3f9ec3f2",
   "metadata": {},
   "outputs": [],
   "source": [
    "from selenium import webdriver\n",
    "from bs4 import BeautifulSoup\n",
    "import time"
   ]
  },
  {
   "cell_type": "code",
   "execution_count": 2,
   "id": "87a948f1",
   "metadata": {},
   "outputs": [],
   "source": [
    "driver = webdriver.Chrome('chromedriver_94')"
   ]
  },
  {
   "cell_type": "code",
   "execution_count": 3,
   "id": "a8aacbd3",
   "metadata": {},
   "outputs": [],
   "source": [
    "url = 'https://www.google.com/'\n",
    "driver.get(url)"
   ]
  },
  {
   "cell_type": "code",
   "execution_count": 4,
   "id": "5ba2c9c5",
   "metadata": {},
   "outputs": [],
   "source": [
    "# 검색창 xpath : /html/body/div[1]/div[3]/form/div[1]/div[1]/div[1]/div/div[2]/input\n",
    "# 검색 버튼 xpath : /html/body/div[1]/div[3]/form/div[1]/div[1]/div[3]/center/input[1]\n",
    "search_window = driver.find_element_by_xpath('/html/body/div[1]/div[3]/form/div[1]/div[1]/div[1]/div/div[2]/input')\n",
    "search_button = driver.find_element_by_xpath('/html/body/div[1]/div[3]/form/div[1]/div[1]/div[3]/center/input[1]')"
   ]
  },
  {
   "cell_type": "code",
   "execution_count": 5,
   "id": "d2cad3da",
   "metadata": {},
   "outputs": [],
   "source": [
    "search_window.send_keys('코로나')\n",
    "search_button.click()"
   ]
  },
  {
   "cell_type": "code",
   "execution_count": 6,
   "id": "2e83ef34",
   "metadata": {},
   "outputs": [],
   "source": [
    "# 뉴스 탭 : //*[@id=\"hdtb-msb\"]/div[1]/div/div[2]/a\n",
    "news_tab = driver.find_element_by_xpath('//*[@id=\"hdtb-msb\"]/div[1]/div/div[2]/a')\n",
    "news_tab.click()"
   ]
  },
  {
   "cell_type": "markdown",
   "id": "82099345",
   "metadata": {},
   "source": [
    "### 기간 지정"
   ]
  },
  {
   "cell_type": "code",
   "execution_count": 7,
   "id": "c83488f8",
   "metadata": {},
   "outputs": [],
   "source": [
    "# 도구 : //*[@id=\"hdtb-tls\"]\n",
    "tool = driver.find_element_by_xpath('//*[@id=\"hdtb-tls\"]')\n",
    "tool.click()"
   ]
  },
  {
   "cell_type": "code",
   "execution_count": 8,
   "id": "8bf35a3c",
   "metadata": {},
   "outputs": [],
   "source": [
    "# 최근항목 : //*[@id=\"ow39\"]/div[1]/div/div\n",
    "recent = driver.find_element_by_xpath('//*[@id=\"ow39\"]/div[1]/div/div')\n",
    "recent.click()"
   ]
  },
  {
   "cell_type": "code",
   "execution_count": 9,
   "id": "5287bf83",
   "metadata": {},
   "outputs": [],
   "source": [
    "# 기간 설정 : //*[@id=\"lb\"]/div/g-menu/g-menu-item[8]/div/div/span\n",
    "period_set = driver.find_element_by_xpath('//*[@id=\"lb\"]/div/g-menu/g-menu-item[8]/div/div/span')\n",
    "period_set.click()"
   ]
  },
  {
   "cell_type": "code",
   "execution_count": 11,
   "id": "948cfedc",
   "metadata": {},
   "outputs": [],
   "source": [
    "# 시작일 입력창(월/일/년) : //*[@id=\"OouJcb\"]\n",
    "# 종료일 입력창(월/일/년) : //*[@id=\"rzG2be\"]\n",
    "# 실행 버튼 : //*[@id=\"T3kYXe\"]/g-button\n",
    "start_date = driver.find_element_by_xpath('//*[@id=\"OouJcb\"]')\n",
    "end_date = driver.find_element_by_xpath('//*[@id=\"rzG2be\"]')\n",
    "launch_button = driver.find_element_by_xpath('//*[@id=\"T3kYXe\"]/g-button')\n",
    "\n",
    "start_date.send_keys('3/1/2020')\n",
    "end_date.send_keys('3/31/2020')\n",
    "launch_button.click()"
   ]
  },
  {
   "cell_type": "code",
   "execution_count": 14,
   "id": "8a7d2cfe",
   "metadata": {},
   "outputs": [
    {
     "name": "stdout",
     "output_type": "stream",
     "text": [
      "우한 폐렴: 코로나바이러스 국내 첫 확진자 발생...현재까지 확인된 감염자 200명 넘어\n",
      "숨진 뒤 코로나 확진된 환자, 사망원인 어떻게 밝히나\n",
      "신종 코로나바이러스: 11번째 환자 확인...현재까지 확진 사례 정리\n",
      "신종 코로나 19번째 확진자 발생…17번 환자와 같은 곳 방문\n",
      "최소 61명 감염…일본 크루즈선은 왜 신종 코로나 집단 감염지 ...\n",
      "MEDI:GATE NEWS : 코로나19 오후 70명, 하루에 231명 발생해 ...\n",
      "'신종 코로나' 첫 한국인 확진자 발생…50대 남성\n",
      "코로나19 최고단계 '심각'으로…전국 학교 개학 연기\n",
      "중국 우한 신종코로나바이러스, 국내 첫 환자 발생\n",
      "WHO, 코로나19 세계적 대유행 '팬데믹' 선언\n"
     ]
    }
   ],
   "source": [
    "# 뉴스 타이틀 가져오기\n",
    "# 1 : //*[@id=\"rso\"]/div[1]/g-card/div/div/a/div/div[2]/div[2]\n",
    "# 2 : //*[@id=\"rso\"]/div[2]/g-card/div/div/a/div/div[2]/div[2]\n",
    "# 3 : //*[@id=\"rso\"]/div[3]/g-card/div/div/a/div/div[2]/div[2]\n",
    "# ...\n",
    "# 10 : //*[@id=\"rso\"]/div[10]/g-card/div/div/a/div/div[2]/div[2]\n",
    "\n",
    "news_titles = []\n",
    "for i in range(1, 11):\n",
    "    tmp = driver.find_element_by_xpath(f'//*[@id=\"rso\"]/div[{i}]/g-card/div/div/a/div/div[2]/div[2]')\n",
    "    news_titles.append(tmp)\n",
    "news_titles\n",
    "for one in news_titles:\n",
    "    print(one.text)"
   ]
  },
  {
   "cell_type": "code",
   "execution_count": 15,
   "id": "c4aab695",
   "metadata": {},
   "outputs": [],
   "source": [
    "# 2번째 페이지\n",
    "# 2번째 페이지 버튼 : //*[@id=\"xjs\"]/table/tbody/tr/td[3]/a\n",
    "\n",
    "page2_button = driver.find_element_by_xpath('//*[@id=\"xjs\"]/table/tbody/tr/td[3]/a')\n",
    "page2_button.click()"
   ]
  },
  {
   "cell_type": "code",
   "execution_count": 16,
   "id": "e3f9eb1a",
   "metadata": {},
   "outputs": [
    {
     "name": "stdout",
     "output_type": "stream",
     "text": [
      "필리핀서 신종코로나 첫 사망자 발생…중국 외 최초\n",
      "신종 코로나바이러스: 미국, 호주 이어 한국도 중국 방문자 입국금지\n",
      "코로나19, 30번째 확진자 발생… 29번째 환자의 아내\n",
      "MEDI:GATE NEWS : WHO, 신종코로나 바이러스 국제적 비상 ...\n",
      "신종 코로나 '잠복기 14일' 논란…\"항생제·소염제로 증상 가려진 듯\"\n",
      "국내 '신종 코로나' 하루만에 추가 환자 3명 늘어 총 27명\n",
      "신종 코로나바이러스 확진자의 동선을 이렇게 자세히 밝히는 까닭은 무엇일까?\n",
      "[中 폐렴확산] 원인은 신종 코로나 바이러스…\"사람간 전파 ...\n",
      "신종 코로나: 내부고발한 우한 의사 사망\n",
      "신종 코로나: 후베이성 하루에만 242명 사망, 확진자는 9배 이상 증가\n"
     ]
    }
   ],
   "source": [
    "# 2번째 페이지\n",
    "# 1 : //*[@id=\"rso\"]/div[1]/g-card/div/div/a/div/div[2]/div[2]\n",
    "# 2 : //*[@id=\"rso\"]/div[2]/g-card/div/div/a/div/div[2]/div[2]\n",
    "# 3 ://*[@id=\"rso\"]/div[3]/g-card/div/div/a/div/div[2]/div[2]\n",
    "\n",
    "news_titles = []\n",
    "for i in range(1, 11):\n",
    "    tmp = driver.find_element_by_xpath(f'//*[@id=\"rso\"]/div[{i}]/g-card/div/div/a/div/div[2]/div[2]')\n",
    "    news_titles.append(tmp)\n",
    "news_titles\n",
    "for one in news_titles:\n",
    "    print(one.text)"
   ]
  },
  {
   "cell_type": "code",
   "execution_count": 18,
   "id": "4620ec61",
   "metadata": {},
   "outputs": [],
   "source": [
    "# 2페이지 버튼 : //*[@id=\"xjs\"]/table/tbody/tr/td[3]/a\n",
    "# 3페이지 버튼 : //*[@id=\"xjs\"]/table/tbody/tr/td[4]/a\n",
    "# 4페이지 버튼 : //*[@id=\"xjs\"]/table/tbody/tr/td[5]/a"
   ]
  },
  {
   "cell_type": "code",
   "execution_count": null,
   "id": "71dee72a",
   "metadata": {},
   "outputs": [],
   "source": []
  }
 ],
 "metadata": {
  "kernelspec": {
   "display_name": "Python 3",
   "language": "python",
   "name": "python3"
  },
  "language_info": {
   "codemirror_mode": {
    "name": "ipython",
    "version": 3
   },
   "file_extension": ".py",
   "mimetype": "text/x-python",
   "name": "python",
   "nbconvert_exporter": "python",
   "pygments_lexer": "ipython3",
   "version": "3.8.8"
  }
 },
 "nbformat": 4,
 "nbformat_minor": 5
}
