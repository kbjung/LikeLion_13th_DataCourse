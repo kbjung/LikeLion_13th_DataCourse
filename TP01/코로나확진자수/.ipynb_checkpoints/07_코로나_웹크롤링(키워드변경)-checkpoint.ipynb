{
 "cells": [
  {
   "cell_type": "markdown",
   "id": "e5787c79",
   "metadata": {},
   "source": [
    "# 코로나 뉴스 웹 크롤링\n",
    "* 구글에서, 특정 기간, 특정 키워드 검색\n",
    "* 뉴스 타이틀만 가져오기\n",
    "* wordcloud로 시각화 하기"
   ]
  },
  {
   "cell_type": "markdown",
   "id": "06d96792",
   "metadata": {},
   "source": [
    "## 2020년 3월"
   ]
  },
  {
   "cell_type": "markdown",
   "id": "a7b5d0b8",
   "metadata": {},
   "source": [
    "## selenium, bs 이용"
   ]
  },
  {
   "cell_type": "code",
   "execution_count": 1,
   "id": "09a57bd5",
   "metadata": {},
   "outputs": [],
   "source": [
    "from selenium import webdriver\n",
    "from bs4 import BeautifulSoup\n",
    "import time\n",
    "import pandas as pd"
   ]
  },
  {
   "cell_type": "code",
   "execution_count": 2,
   "id": "2a7541f8",
   "metadata": {},
   "outputs": [],
   "source": [
    "driver = webdriver.Chrome('chromedriver_94')\n",
    "url = 'https://news.naver.com/'\n",
    "driver.get(url)\n",
    "time.sleep(0.5)"
   ]
  },
  {
   "cell_type": "code",
   "execution_count": 3,
   "id": "655a83eb",
   "metadata": {},
   "outputs": [],
   "source": [
    "# 검색창 xpath : /html/body/div[1]/div[3]/form/div[1]/div[1]/div[1]/div/div[2]/input\n",
    "# 검색 버튼 xpath : /html/body/div[1]/div[3]/form/div[1]/div[1]/div[3]/center/input[1]\n",
    "search_window = driver.find_element_by_xpath('/html/body/div[1]/div[3]/form/div[1]/div[1]/div[1]/div/div[2]/input')\n",
    "search_button = driver.find_element_by_xpath('/html/body/div[1]/div[3]/form/div[1]/div[1]/div[3]/center/input[1]')"
   ]
  },
  {
   "cell_type": "code",
   "execution_count": 4,
   "id": "720c35e5",
   "metadata": {},
   "outputs": [],
   "source": [
    "search_window.send_keys('신천지')\n",
    "search_button.click()\n",
    "time.sleep(1)"
   ]
  },
  {
   "cell_type": "code",
   "execution_count": null,
   "id": "4062c060",
   "metadata": {},
   "outputs": [],
   "source": []
  }
 ],
 "metadata": {
  "kernelspec": {
   "display_name": "Python 3",
   "language": "python",
   "name": "python3"
  },
  "language_info": {
   "codemirror_mode": {
    "name": "ipython",
    "version": 3
   },
   "file_extension": ".py",
   "mimetype": "text/x-python",
   "name": "python",
   "nbconvert_exporter": "python",
   "pygments_lexer": "ipython3",
   "version": "3.8.8"
  }
 },
 "nbformat": 4,
 "nbformat_minor": 5
}
