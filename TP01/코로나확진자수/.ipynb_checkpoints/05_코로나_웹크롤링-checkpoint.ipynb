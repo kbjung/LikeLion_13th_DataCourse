{
 "cells": [
  {
   "cell_type": "markdown",
   "id": "e5787c79",
   "metadata": {},
   "source": [
    "# 코로나 뉴스 웹 크롤링\n",
    "* 구글에서, 특정 기간, 특정 키워드 검색\n",
    "* 뉴스 타이틀만 가져오기\n",
    "* wordcloud로 시각화 하기"
   ]
  },
  {
   "cell_type": "markdown",
   "id": "06d96792",
   "metadata": {},
   "source": [
    "## 2020년 3월"
   ]
  },
  {
   "cell_type": "markdown",
   "id": "a7b5d0b8",
   "metadata": {},
   "source": [
    "## selenium, bs 이용"
   ]
  },
  {
   "cell_type": "code",
   "execution_count": 55,
   "id": "09a57bd5",
   "metadata": {},
   "outputs": [],
   "source": [
    "from selenium import webdriver\n",
    "from bs4 import BeautifulSoup\n",
    "import time\n",
    "import pandas as pd"
   ]
  },
  {
   "cell_type": "code",
   "execution_count": 38,
   "id": "2a7541f8",
   "metadata": {},
   "outputs": [],
   "source": [
    "driver = webdriver.Chrome('chromedriver_94')\n",
    "url = 'https://www.google.com/'\n",
    "driver.get(url)\n",
    "time.sleep(0.5)"
   ]
  },
  {
   "cell_type": "code",
   "execution_count": 39,
   "id": "655a83eb",
   "metadata": {},
   "outputs": [],
   "source": [
    "# 검색창 xpath : /html/body/div[1]/div[3]/form/div[1]/div[1]/div[1]/div/div[2]/input\n",
    "# 검색 버튼 xpath : /html/body/div[1]/div[3]/form/div[1]/div[1]/div[3]/center/input[1]\n",
    "search_window = driver.find_element_by_xpath('/html/body/div[1]/div[3]/form/div[1]/div[1]/div[1]/div/div[2]/input')\n",
    "search_button = driver.find_element_by_xpath('/html/body/div[1]/div[3]/form/div[1]/div[1]/div[3]/center/input[1]')"
   ]
  },
  {
   "cell_type": "code",
   "execution_count": 40,
   "id": "720c35e5",
   "metadata": {},
   "outputs": [],
   "source": [
    "search_window.send_keys('코로나')\n",
    "search_button.click()\n",
    "time.sleep(1)"
   ]
  },
  {
   "cell_type": "code",
   "execution_count": 41,
   "id": "a9065a2c",
   "metadata": {},
   "outputs": [],
   "source": [
    "# 뉴스 탭 : //*[@id=\"hdtb-msb\"]/div[1]/div/div[2]/a\n",
    "news_tab = driver.find_element_by_xpath('//*[@id=\"hdtb-msb\"]/div[1]/div/div[2]/a')\n",
    "news_tab.click()\n",
    "time.sleep(1)"
   ]
  },
  {
   "cell_type": "markdown",
   "id": "0e1f381c",
   "metadata": {},
   "source": [
    "### 기간 지정"
   ]
  },
  {
   "cell_type": "code",
   "execution_count": 42,
   "id": "1f05ad9b",
   "metadata": {},
   "outputs": [],
   "source": [
    "# 도구 : //*[@id=\"hdtb-tls\"]\n",
    "tool = driver.find_element_by_xpath('//*[@id=\"hdtb-tls\"]')\n",
    "tool.click()"
   ]
  },
  {
   "cell_type": "code",
   "execution_count": 43,
   "id": "a40e41da",
   "metadata": {},
   "outputs": [],
   "source": [
    "# 최근항목 : //*[@id=\"hdtbMenus\"]/span[2]/g-popup/div[1]/div/div\n",
    "recent = driver.find_element_by_xpath('//*[@id=\"hdtbMenus\"]/span[2]/g-popup/div[1]/div/div')\n",
    "recent.click()"
   ]
  },
  {
   "cell_type": "code",
   "execution_count": 44,
   "id": "745be176",
   "metadata": {},
   "outputs": [],
   "source": [
    "# 기간 설정 : //*[@id=\"lb\"]/div/g-menu/g-menu-item[8]/div/div/span\n",
    "period_set = driver.find_element_by_xpath('//*[@id=\"lb\"]/div/g-menu/g-menu-item[8]/div/div/span')\n",
    "period_set.click()"
   ]
  },
  {
   "cell_type": "code",
   "execution_count": 45,
   "id": "16173352",
   "metadata": {},
   "outputs": [],
   "source": [
    "# 시작일 입력창(월/일/년) : //*[@id=\"OouJcb\"]\n",
    "# 종료일 입력창(월/일/년) : //*[@id=\"rzG2be\"]\n",
    "# 실행 버튼 : //*[@id=\"T3kYXe\"]/g-button\n",
    "start_date = driver.find_element_by_xpath('//*[@id=\"OouJcb\"]')\n",
    "end_date = driver.find_element_by_xpath('//*[@id=\"rzG2be\"]')\n",
    "launch_button = driver.find_element_by_xpath('//*[@id=\"T3kYXe\"]/g-button')\n",
    "\n",
    "start_date.send_keys('3/1/2020')\n",
    "end_date.send_keys('3/31/2020')\n",
    "time.sleep(0.5)\n",
    "launch_button.click()"
   ]
  },
  {
   "cell_type": "code",
   "execution_count": 46,
   "id": "e3e3d29d",
   "metadata": {},
   "outputs": [],
   "source": [
    "# 페이지 xpath\n",
    "# 2페이지 버튼 : //*[@id=\"xjs\"]/table/tbody/tr/td[3]/a\n",
    "# 3페이지 버튼 : //*[@id=\"xjs\"]/table/tbody/tr/td[4]/a\n",
    "# 4페이지 버튼 : //*[@id=\"xjs\"]/table/tbody/tr/td[5]/a\n",
    "# 5페이지 버튼 : //*[@id=\"xjs\"]/table/tbody/tr/td[6]/a"
   ]
  },
  {
   "cell_type": "code",
   "execution_count": 47,
   "id": "2ff37b21",
   "metadata": {},
   "outputs": [],
   "source": [
    "# xpath는 오류가 많음.\n",
    "# tag로 해보자."
   ]
  },
  {
   "cell_type": "code",
   "execution_count": 48,
   "id": "3f73df51",
   "metadata": {},
   "outputs": [],
   "source": [
    "# 1페이지 뉴스 타이틀(tag, 규칙 찾기)\n",
    "# 1 : div, class='mCBkyc JQe2Ld nDgy9d', role=\"heading\"\n",
    "# 2:  div, class='mCBkyc JQe2Ld nDgy9d', role=\"heading\"\n",
    "# 3 : div, class=\"mCBkyc JQe2Ld nDgy9d\", role=\"heading\""
   ]
  },
  {
   "cell_type": "code",
   "execution_count": 49,
   "id": "75aff26b",
   "metadata": {},
   "outputs": [],
   "source": [
    "# 2페이지 뉴스 타이틀(tag, 규칙 찾기)\n",
    "# 1: div, class=\"mCBkyc JQe2Ld nDgy9d\", role=\"heading\"\n",
    "# 2 : div, class=\"mCBkyc JQe2Ld nDgy9d\", role=\"heading\"\n",
    "# 3 : div, class=\"mCBkyc JQe2Ld nDgy9d\", role=\"heading\""
   ]
  },
  {
   "cell_type": "code",
   "execution_count": 50,
   "id": "f9126b69",
   "metadata": {},
   "outputs": [
    {
     "data": {
      "text/plain": [
       "<title>코로나 - Google 검색</title>"
      ]
     },
     "execution_count": 50,
     "metadata": {},
     "output_type": "execute_result"
    }
   ],
   "source": [
    "page = driver.page_source\n",
    "soup = BeautifulSoup(page, 'lxml')\n",
    "soup.title"
   ]
  },
  {
   "cell_type": "code",
   "execution_count": 51,
   "id": "18c6a2d9",
   "metadata": {},
   "outputs": [
    {
     "data": {
      "text/plain": [
       "\"WHO, 코로나19 세계적 대유행 '팬데믹' 선언\""
      ]
     },
     "execution_count": 51,
     "metadata": {},
     "output_type": "execute_result"
    }
   ],
   "source": [
    "test_news_titles = soup.find_all(\"div\", class_='mCBkyc JQe2Ld nDgy9d')\n",
    "test_news_titles[0].text"
   ]
  },
  {
   "cell_type": "code",
   "execution_count": 52,
   "id": "bdb8f30c",
   "metadata": {},
   "outputs": [
    {
     "name": "stdout",
     "output_type": "stream",
     "text": [
      "WHO, 코로나19 세계적 대유행 '팬데믹' 선언\n",
      "코로나19: WHO, '팬데믹' 공식 규정... 왜 지금 팬데믹 표현 쓰나?\n",
      "MEDI:GATE NEWS : WHO, 코로나19 팬데믹 선언...114개국 12 ...\n",
      "미국에서 코로나19로 4명 추가 사망… 사망자 총 6명\n",
      "CNN \"오늘부터 코로나19 발병 상황, 팬데믹으로 부를 것\"\n",
      "MEDI:GATE NEWS : 서울·경기도 코로나19 확진 300명 넘어 ...\n",
      "선진 의료시스템 갖춘 이탈리아서 코로나19 사망자 급증 이유는\n",
      "코로나19 치료할 항체 후보 3개 찾았다\n",
      "코로나19: WHO '젊은이들, 코로나19에 천하무적 아니다'\n",
      "'코로나19 급증' 천안서 10대 확진자 속출…2차 감염 본격 시작(종합)\n"
     ]
    }
   ],
   "source": [
    "for one in test_news_titles:\n",
    "    print(one.text)"
   ]
  },
  {
   "cell_type": "code",
   "execution_count": 53,
   "id": "f705e0a7",
   "metadata": {},
   "outputs": [
    {
     "data": {
      "text/plain": [
       "[\"WHO, 코로나19 세계적 대유행 '팬데믹' 선언\",\n",
       " \"코로나19: WHO, '팬데믹' 공식 규정... 왜 지금 팬데믹 표현 쓰나?\",\n",
       " 'MEDI:GATE NEWS : WHO, 코로나19 팬데믹 선언...114개국 12 ...',\n",
       " '미국에서 코로나19로 4명 추가 사망… 사망자 총 6명',\n",
       " 'CNN \"오늘부터 코로나19 발병 상황, 팬데믹으로 부를 것\"',\n",
       " 'MEDI:GATE NEWS : 서울·경기도 코로나19 확진 300명 넘어 ...',\n",
       " '선진 의료시스템 갖춘 이탈리아서 코로나19 사망자 급증 이유는',\n",
       " '코로나19 치료할 항체 후보 3개 찾았다',\n",
       " \"코로나19: WHO '젊은이들, 코로나19에 천하무적 아니다'\",\n",
       " \"'코로나19 급증' 천안서 10대 확진자 속출…2차 감염 본격 시작(종합)\",\n",
       " '코로나19 백신·치료제 개발에 나선 국내 제약사들',\n",
       " '코로나19: 신규 확진자 476명... 총 4212명',\n",
       " '스마트시티 기술로 코로나19 환자 동선 파악한다',\n",
       " \"'코로나19' 45일만에 사망 42명, 메르스 넘었다…확진 6천88명 ...\",\n",
       " 'MEDI:GATE NEWS : GC녹십자, 코로나19 백신 및 치료제 개발 ...',\n",
       " 'MEDI:GATE NEWS : 미국에서 18세 이하 청소년 코로나19 ...',\n",
       " \"코로나19: 정부가 11.7조원에 달하는 '역대급' 추경안을 편성했다\",\n",
       " \"코로나19: 뉴욕 확진자 2만5000여명…'고속 열차'처럼 확산 중\",\n",
       " \"[그래픽] 전국 '코로나19' 확진자 현황(종합2)\",\n",
       " '코로나19 대응에 ICT 진가 발휘…\"AI가 전화해 발열 등 체크\"',\n",
       " '나고야서 사망 후 코로나19 확진…일본 14번째 사망자',\n",
       " '중국 연구진 \"혈액형 O형이 코로나19에 상대적 내성 강한듯\"',\n",
       " '당뇨 환자가 코로나19 예방 위해 지켜야 할 수칙',\n",
       " \"WHO, 코로나19 '팬데믹' 선언..”통제의지가 중요”\",\n",
       " 'MEDI:GATE NEWS : 코로나19 풍토병될 가능성 매우 높다..변종 ...',\n",
       " \"'코로나19' 관련 사업장 인사·노무 대응 가이드라인\",\n",
       " '광명서 코로나19 두번째 확진자 나와',\n",
       " '\"코로나19, 중추신경 침범 가능성…두통·구토 등 증상 연관\"',\n",
       " '\"코로나 감염 임산부 7명 면밀한 모니터링\"…엄마-태아감염,모유 ...',\n",
       " 'MEDI:GATE NEWS : 의협 의료인들에게 코로나19 임상정보 좀 ...',\n",
       " 'IBS연구팀, 4시간내 코로나19 감염 여부 판별하는 기술 개발',\n",
       " '서울대병원, 코로나19 치료제 임상시험 참여',\n",
       " '마스크 구매행렬에 낀 코로나19 확진자…취재진 신고로 강제이송',\n",
       " \"코로나19: WHO '전세계가 미지의 영역에 들어섰다'\",\n",
       " '\"코로나19 감염후 평균 5일만에 증상…\\'14일 격리\\' 합리적\"',\n",
       " \"중국 당국, 코로나19 전파 경로에 '대소변' 추가\",\n",
       " '소아감염 전문의 “어린이 코로나19 증상 경미하지만...”',\n",
       " '미국 전염병 전문가, \"코로나19 위험 축소 금물…노인 특히 위험\"',\n",
       " \"코로나19 확진자와 식사한 국방부 간부 '음성'…한때 긴장(종합2보)\",\n",
       " '코로나19 진단키트 만든 씨젠 “적자 각오, 다른 건 접었다” - 중앙일보',\n",
       " '아이가 코로나19에 걸렸을 땐 이렇게 하세요.',\n",
       " '일본 코로나19 감염자 하루 새 58명 늘어 1천278명',\n",
       " '미얀마, 첫 코로나19 확진자 2명 발생…미·영 방문 이력',\n",
       " 'MEDI:GATE NEWS : 코로나19 치료제 임상 53건 진행중 ...',\n",
       " '대구가톨릭대병원 \"고군분투 코로나19 치료 현장은…\"',\n",
       " \"명지병원, 전 국민 대상 '코로나19 상담센터' 개설\",\n",
       " '\"코로나19 사망자 폐 점액 가득 차 숨진다\" 中 부검 결과',\n",
       " '증상만으로 진단 어려운 코로나19…“사스보다 열없는 환자 많아”',\n",
       " '코로나19 치료제 개발, 진행 상황은?',\n",
       " '길리어드, 코로나19 \\'렘데시비르\\' 국내3상 승인 \"이달 돌입\"',\n",
       " '바이러스, 인류와 전쟁 중? 사스·신종플루·메르스·코로나19',\n",
       " '코로나 무력화 항체 발견… 백신 개발 가능성 열리나?',\n",
       " '대소변에서도 코로나19 발견...지금까지 밝혀진 코로나19 감염 ...',\n",
       " '코로나19 현장 간호사들 너무 지쳐있다 < 간호 < 의원·병원 ...',\n",
       " '코로나19 확진자 나온 일산백병원 응급실 운영 재개',\n",
       " \"[기획] 최기자의 '코로나19 검사 후기'\",\n",
       " \"코로나19: 미국 캘리포니아 '비상사태' 선포\",\n",
       " 'MEDI:GATE NEWS : 코로나19 치료제 제약바이오기업 10곳 ...',\n",
       " '\"코로나19 확진자와 접촉\" 허위신고 20대 구속기소',\n",
       " \"[그래픽] 전국 '코로나19' 확진자 현황(오후 9시 현재)\",\n",
       " '일본 코로나19 확진 1천36명…내일부터 PCR 검사 보험적용',\n",
       " '코로나19가 급속히 확산되는 까닭 – Sciencetimes',\n",
       " '코로나, 수십 년 동안의 진화 거쳐 인간에게 전염',\n",
       " \"사상최대의 검색 '코로나19'…사람들은 무엇을 묻나\",\n",
       " '코로나19 바이러스의 인체 침투 과정 규명 – Sciencetimes',\n",
       " '유럽도 코로나 폭탄 시작됐다···프랑스서 하루 새 138명 폭증 - 중앙일보',\n",
       " '[공동성명] 코로나19 대응, 정보인권을 존중해야 한다 - 사회복지 ...',\n",
       " \"코로나 확진자 '눈물'에서도 바이러스 검출됐을까?\",\n",
       " '美英연구진 “코로나19 바이러스, 이미 수년전 인간을 감염시켰다\"',\n",
       " '코로나19, 독감과 6가지가 다르다 : 과학 : 미래&과학 : 뉴스',\n",
       " '코로나19 위험 큰 20대 흡연자...사이토카인 폭풍 주의',\n",
       " \"'약물 표적' 코로나19 바이러스 복제 효소 3D 정밀 지도 나왔다\",\n",
       " '[만연하는 가짜 의학정보]코로나19 예방에는 전혀 도움이 안 ...',\n",
       " '코로나19는 날씨가 따뜻해지면 사라질까?',\n",
       " '코로나-19 국내 발생 현황 (3월 1일) 브리핑',\n",
       " '\"코로나 감염 산모 낳은 신생아에게서 항체 발견\"… 수직감염 ...',\n",
       " \"코로나19보다 더 무서운 '코로나 노이로제'\",\n",
       " '코로나19 스트레스, 심리학회 전문가가 무료 심리상담',\n",
       " \"'변신의 귀재' 코로나바이러스… 백신, 언제쯤 나올까?\",\n",
       " 'MEDI:GATE NEWS : 코로나19 확진 438명 늘어 5766명 ...',\n",
       " \"일양약품, '코로나19 바이러스' 치료 물질 발견!\",\n",
       " \"'코로나19' 첫 백신 개발 누가?…속도전에 안전성 소홀 우려도\",\n",
       " '[IBS 코로나19 리포트] 코로나19는 어떻게 폐렴을 유발하나',\n",
       " '[최병두 칼럼] 코로나19 대유행과 국가주의의 한계',\n",
       " 'MEDI:GATE NEWS : WHO, 코로나19 팬데믹 선언...114개국 12 ...',\n",
       " '\"날씨 따뜻해도 코로나19 전파 멈추진 않는다” 美 MIT팀 분석',\n",
       " \"MEDI:GATE NEWS : 잇따른 코로나19 미성년자 '사망'…개학 ...\",\n",
       " '코로나19에 취약한 사람들 \"노인-기저질환자-임산부-영유아\"',\n",
       " '애완동물도 코로나19 걸릴까? 홍콩서 첫 사례 발견',\n",
       " 'WHO 미신깨기, 코로나19 모기로 전염 가능할까?',\n",
       " '코로나바이러스 에어로졸에선 3시간 넘게, 플라스틱 표면에선 3 ...',\n",
       " '[박노자의 한국, 안과 밖] 코로나가 무너뜨린 신화들',\n",
       " '세계 최강 슈퍼컴퓨터가 찾아낸 코로나19 치료제 후보 물질은?',\n",
       " '코로나19 바이러스 구조 점점 자세히 보인다',\n",
       " '“코로나 치료제 개발” PC자원 기부 열기 : 과학 : 미래&과학 : 뉴스',\n",
       " '보리스 존슨: 영국 총리 코로나19 확진',\n",
       " '‘총살… 총살… 총살…’ 북한식 코로나 방역법[주성하 기자의 서울과 평양 사이]',\n",
       " '코로나19, 북한은 청정지역일까?',\n",
       " \"“의료붕괴 막으려면? 지자체별 '홈케어' 기반 코로나 전달체계 ...\",\n",
       " 'MEDI:GATE NEWS : 코로나19, 한의진료지침 1판 발표에 의료 ...']"
      ]
     },
     "execution_count": 53,
     "metadata": {},
     "output_type": "execute_result"
    }
   ],
   "source": [
    "all_news_titles = []\n",
    "\n",
    "# 1페이지 크롤링\n",
    "time.sleep(1)\n",
    "\n",
    "page = driver.page_source\n",
    "soup = BeautifulSoup(page, 'lxml')\n",
    "\n",
    "news_titles = soup.find_all(\"div\", class_='mCBkyc JQe2Ld nDgy9d')\n",
    "for one in news_titles:\n",
    "    all_news_titles.append(one.text)\n",
    "\n",
    "\n",
    "# 2-10페이지 크롤링\n",
    "for p in range(3, 12):\n",
    "    move_page = driver.find_element_by_xpath(f'//*[@id=\"xjs\"]/table/tbody/tr/td[{p}]/a')\n",
    "    move_page.click()\n",
    "    time.sleep(1)\n",
    "    \n",
    "    # bs\n",
    "    page = driver.page_source\n",
    "    soup = BeautifulSoup(page, 'lxml')\n",
    "    news_titles = soup.find_all(\"div\", class_='mCBkyc JQe2Ld nDgy9d')\n",
    "    for one in news_titles:\n",
    "        all_news_titles.append(one.text)\n",
    "\n",
    "all_news_titles"
   ]
  },
  {
   "cell_type": "code",
   "execution_count": 54,
   "id": "30b7e5c1",
   "metadata": {},
   "outputs": [
    {
     "data": {
      "text/plain": [
       "100"
      ]
     },
     "execution_count": 54,
     "metadata": {},
     "output_type": "execute_result"
    }
   ],
   "source": [
    "# 10페이지 10개씩 => 100개\n",
    "len(all_news_titles)"
   ]
  },
  {
   "cell_type": "code",
   "execution_count": 58,
   "id": "399645e4",
   "metadata": {},
   "outputs": [],
   "source": [
    "news = {\"'2020-03\": all_news_titles}\n",
    "dat = pd.DataFrame(news)\n",
    "dat.to_csv('2020년03월_코로나_뉴스(구글).csv', index=False)"
   ]
  },
  {
   "cell_type": "markdown",
   "id": "407256df",
   "metadata": {},
   "source": [
    "## 2020년 8월"
   ]
  },
  {
   "cell_type": "code",
   "execution_count": 60,
   "id": "b89c87e9",
   "metadata": {},
   "outputs": [],
   "source": [
    "driver = webdriver.Chrome('chromedriver_94')\n",
    "url = 'https://www.google.com/'\n",
    "driver.get(url)\n",
    "time.sleep(0.5)\n",
    "search_window = driver.find_element_by_xpath('/html/body/div[1]/div[3]/form/div[1]/div[1]/div[1]/div/div[2]/input')\n",
    "search_button = driver.find_element_by_xpath('/html/body/div[1]/div[3]/form/div[1]/div[1]/div[3]/center/input[1]')\n",
    "search_window.send_keys('코로나')\n",
    "search_button.click()\n",
    "time.sleep(1)"
   ]
  },
  {
   "cell_type": "code",
   "execution_count": 61,
   "id": "26a804a0",
   "metadata": {},
   "outputs": [],
   "source": [
    "# 뉴스 탭 : //*[@id=\"hdtb-msb\"]/div[1]/div/div[2]/a\n",
    "news_tab = driver.find_element_by_xpath('//*[@id=\"hdtb-msb\"]/div[1]/div/div[2]/a')\n",
    "news_tab.click()\n",
    "time.sleep(1)"
   ]
  },
  {
   "cell_type": "markdown",
   "id": "3ac67214",
   "metadata": {},
   "source": [
    "### 기간지정"
   ]
  },
  {
   "cell_type": "code",
   "execution_count": 62,
   "id": "bf17bb12",
   "metadata": {},
   "outputs": [],
   "source": [
    "# 도구 : //*[@id=\"hdtb-tls\"]\n",
    "tool = driver.find_element_by_xpath('//*[@id=\"hdtb-tls\"]')\n",
    "tool.click()"
   ]
  },
  {
   "cell_type": "code",
   "execution_count": 63,
   "id": "8ba8a87a",
   "metadata": {},
   "outputs": [],
   "source": [
    "# 최근항목 : //*[@id=\"hdtbMenus\"]/span[2]/g-popup/div[1]/div/div\n",
    "recent = driver.find_element_by_xpath('//*[@id=\"hdtbMenus\"]/span[2]/g-popup/div[1]/div/div')\n",
    "recent.click()"
   ]
  },
  {
   "cell_type": "code",
   "execution_count": 64,
   "id": "c55b7112",
   "metadata": {},
   "outputs": [],
   "source": [
    "# 기간 설정 : //*[@id=\"lb\"]/div/g-menu/g-menu-item[8]/div/div/span\n",
    "period_set = driver.find_element_by_xpath('//*[@id=\"lb\"]/div/g-menu/g-menu-item[8]/div/div/span')\n",
    "period_set.click()"
   ]
  },
  {
   "cell_type": "code",
   "execution_count": 65,
   "id": "817656a3",
   "metadata": {},
   "outputs": [],
   "source": [
    "# 시작일 입력창(월/일/년) : //*[@id=\"OouJcb\"]\n",
    "# 종료일 입력창(월/일/년) : //*[@id=\"rzG2be\"]\n",
    "# 실행 버튼 : //*[@id=\"T3kYXe\"]/g-button\n",
    "start_date = driver.find_element_by_xpath('//*[@id=\"OouJcb\"]')\n",
    "end_date = driver.find_element_by_xpath('//*[@id=\"rzG2be\"]')\n",
    "launch_button = driver.find_element_by_xpath('//*[@id=\"T3kYXe\"]/g-button')\n",
    "\n",
    "start_date.send_keys('8/1/2020')\n",
    "end_date.send_keys('8/31/2020')\n",
    "time.sleep(0.5)\n",
    "launch_button.click()"
   ]
  },
  {
   "cell_type": "code",
   "execution_count": 66,
   "id": "cfbeaa9c",
   "metadata": {},
   "outputs": [
    {
     "data": {
      "text/plain": [
       "[\"코로나19 '재감염' 확인... 백신은 믿을 수 있을까?\",\n",
       " \"코로나19 '재감염' 수수께끼 풀리나? – Sciencetimes\",\n",
       " '코로나19 재감염 사례 첫 확인…전문가들 \"백신 무용론 판단 일러\"',\n",
       " '\"코로나19 백신 일러야 내년봄, 나와도 팬데믹 끝나지 않아\"(종합)',\n",
       " 'MEDI:GATE NEWS : 셀트리온·녹십자·제넥신·SK 등 8곳 코로나 ...',\n",
       " 'GC녹십자랩셀 NK세포치료제, 코로나19 치료 효과 확인',\n",
       " 'MEDI:GATE NEWS : 코로나19 전세계 확진자 2000만명 넘어 ...',\n",
       " 'SK바이오사이언스, 美 노바백스와 코로나19 백신 CDMO(위탁 ...',\n",
       " '베트남 코로나19 지역감염 7곳으로 확산…누적 사망 3명',\n",
       " \"트럼프, 한국과 코로나19 비교만 나오면 '발끈'\",\n",
       " '코로나19 혈관 염증 유발한다',\n",
       " '빌게이츠 \"코로나 백신 분배 실패하면 저소득 국가 희생 더 커질 것\"',\n",
       " '말레이서 전염력 10배 강한 코로나19 변종 발견',\n",
       " '코로나19 백신 한번 접종에 4만~9만원?…빌 게이츠, 단 3500원 ...',\n",
       " '포항서 30대 남성 코로나19 양성…수도권 확진자 접촉',\n",
       " '코로나19 해외유입 확진자수 인공지능으로 예측',\n",
       " 'MEDI:GATE NEWS : 코로나19 대응에 의료진·현장대응팀 70 ...',\n",
       " '코로나19: 인도 일일 확진자 수 미국 추월, 세계 최고를 기록했다',\n",
       " '\"10분 내로 진단\"… GC녹십자엠에스, 코로나19 신속진단키트 ...',\n",
       " '코로나19 치료제·백신 검증용 실험쥐, 내달 중순부터 산학연에 ...',\n",
       " '국내 개발 코로나 치료제·백신 영장류 실험으로 효능 일부 확인',\n",
       " \"호주, '전 국민에 코로나19 백신 무료 제공'\",\n",
       " 'MEDI:GATE NEWS : 롯데월드 코로나19 확진자 방문으로 일시 ...',\n",
       " '코로나19 확진자 방문에…울릉도 발칵 뒤집혀',\n",
       " '임상위 \"코로나19 치료 효과 \\'렘데시비르·덱사메타손\\' 외엔 없어\"',\n",
       " '롯데리아 직원들 마스크 없이 모임 최소 11명 코로나19 확진',\n",
       " '엔지켐생명과학, 美 FDA 코로나19 치료제 2상 IND 승인',\n",
       " '코로나 사망자 80만명 넘어서…“종식될 질병 아니다”',\n",
       " '102일간 지역감염 없던 뉴질랜드, 확진자 발생으로 오클랜드 봉쇄',\n",
       " '코로나19 진단키트 강화한 GC녹십자엠에스… 해외시장 본격 공략',\n",
       " '파우치 소장 \"코로나 바이러스 안 사라질 것. 효과적 백신 만들 ...',\n",
       " 'MEDI:GATE NEWS : 美CDC, 코로나19 검사 지침 개정 논란 ...',\n",
       " \"코로나19: 페이스북, '코로나19 허위정보' 트럼프 영상 삭제\",\n",
       " '방대본 “담배필 때 내뿜는 숨으로 코로나 바이러스 전파”',\n",
       " '샤론스톤 호소 \"내 동생 코로나… 마스크 써달라\"',\n",
       " '전세계 코로나19 환자 2200만명 넘어...8일만에 200만명 늘어',\n",
       " '미국서도 코로나 재감염 사례…25세 남성 재감염때 증상 더 심각',\n",
       " 'WHO, 코로나19 국제공중보건 비상사태 재확인 \"영향 수십 년 ...',\n",
       " '[그래픽] 국내 코로나19 확진자 추이',\n",
       " 'WHO \"코로나19로 한 달에 444조원 경제적 손실\"',\n",
       " '감소세 들어선 코로나19 환자…소규모 지역사회 집단감염 여전',\n",
       " '제넥신 코로나19 치료제도 임상시험 진입',\n",
       " \"코로나19: '콘서트 열어도 안전할까?'...독일서 '콘서트 실험'\",\n",
       " '미국 코로나 사망자 17만명 넘어…“사망 원인 3위”',\n",
       " '배우 서성종 코로나19 확진… KBS · EBS 방송가 비상',\n",
       " '돌발 확진자 발생에 건물 폐쇄…코로나 재확산에 숨죽인 기업들',\n",
       " '\"북한, 코로나19로 3만여명 격리…검사한 2천700명은 \\'음성\\'\"',\n",
       " \"코로나 방역 최전선 대구동산병원… 166일만에 '감염병 전담 ...\",\n",
       " '[팩트체크] 코로나19 바이러스가 탈모의 직접 원인?',\n",
       " '코로나-19 중앙재난안전대책본부 8월 10일 브리핑',\n",
       " '수젠텍 \"코로나19 확진부터 완치까지 단계별 진단키트 마련한다\"',\n",
       " '울산서 코로나19 확진자 딸도 양성…남구 사는 35세 여성',\n",
       " '\"알코올이 코로나에 좋다\"…가짜뉴스에 최소 800명 사망',\n",
       " '피로·호흡곤란·탈모 후유증…코로나 완치가 끝이 아니다',\n",
       " '\"세포외소포 추출 마이크로RNA로 코로나19 예방·치료 가능\"',\n",
       " '英 과학자 \"고혈압 치료제, 코로나19 중증 환자 생존율 높여\"',\n",
       " '미국, 미성년 코로나 감염 급증… 2주간 약 10만명 늘어',\n",
       " '당신의 개와 고양이, 신종 코로나에 무사한가요?',\n",
       " '코로나19에 생각보다 안전한 비행기…\"기내 전파사례 적어\"',\n",
       " '뉴질랜드 코로나19 지역사회 감염자 4명→17명으로',\n",
       " \"광주시 '코로나19 후유증 온라인 극복센터' 운영 < 기타기관 ...\",\n",
       " '\"코로나19로 병원 방문 자제하지만 확진자 치료병원은 신뢰”',\n",
       " '국내 코로나19 백신·치료제 후보물질 영장류 실험서 효능 입증',\n",
       " '강기윤 \"코로나19 치료제 수입해 칼레트라 18%만 사용\"',\n",
       " '\"습도 1% 떨어지면 감염 7% 증가\"…겨울철 코로나 대유행 우려',\n",
       " '전문가 \"냉동식품으로 코로나19 전염 가능성 극히 낮아\"',\n",
       " '\"나는 살아남았다\"···코로나 19 \\'생존자\\' 박현 교수 투병기',\n",
       " '남아공: 코로나19 확진 50만 명 돌파...세계에서 5번째로 많아',\n",
       " '\"코로나는 조작\" 가짜뉴스 믿은 미 남성의 뒤늦은 후회',\n",
       " '\"포스트 코로나에도 국산 진단키트 발전은 지속될 것\"',\n",
       " '카페서도 코로나19 집단감염 빈발…\"마스크 꼭 착용해야\"',\n",
       " '멕시코 코로나19 사망자 5만명 훌쩍…전 세계 3번째',\n",
       " '인기관광지 크로아티아서 코로나19 확산…주변국 우려',\n",
       " \"'코로나백신에 원숭이 두뇌·마이크로칩'…미국서 번지는 음모론\",\n",
       " 'GC녹십자랩셀 \"NK세포치료제, 코로나19 치료 효과 확인\"',\n",
       " \"'하루만에 사라진 5천명'…영국 코로나19 사망자 통계에 무슨일?\",\n",
       " \"코로나19: '비만이면 코로나19 위험 2배... 백신 효과 떨어질 수도'\",\n",
       " '코로나 중환자 병상 부족…“유지하겠단 병상 해제해 놓고선”',\n",
       " '18편 논문을 통해 본 코로나19의 미래',\n",
       " '중국·캐나다에서도 아파트 동시감염 사례 있었다',\n",
       " '코로나19 가짜뉴스로 1~3월 사이 800명 숨졌다',\n",
       " \"'코로나19 청정 10개국'도 코로나로 고통받는 까닭\",\n",
       " '사랑제일교회 전북 신도 2명 코로나19 확진',\n",
       " '[의학바이오게시판] 마크로젠 코로나19 진단키트 유럽인증 획득 外',\n",
       " \"샤페론, 염증복합체 억제 '코로나19 치료제' 유럽2상 승인\",\n",
       " \"노바백스, 미국 코로나19 백신 수요 충족 '자신감' 피력\",\n",
       " '감기 걸렸던 사람, 코로나19 증상 약하게 나타나… 美 연구',\n",
       " \"[기고] 코로나 우울, '나'를 찾는 계기로 삼기를\",\n",
       " '과학계 “화장실發 코로나19 조심해야”',\n",
       " '[그래픽] 국내 코로나19 신규 확진자',\n",
       " \"대웅제약, '니클로사마이드' 코로나19 치료제 인도 임상 1상 승인\",\n",
       " '코로나19 급성 호흡기 질환만은 아니다',\n",
       " '호흡곤란, 관절통증… 코로나19 후유증 속속 보고',\n",
       " '인트론바이오, 코로나19 진단키트 베트남 품목등록',\n",
       " '“코로나19 시대, 심리 방역이 필요하다” – Sciencetimes',\n",
       " \"존슨콘트롤즈, 코로나19 대응 '바닥공조' 제안\",\n",
       " '코로나19에 가장 취약한 동물은 누굴까? : 과학 : 미래&과학 : 뉴스',\n",
       " '코로나 2라운드 시작했는데… 파업·집회 밀어붙인 의사들',\n",
       " '英가디언이 꼽은 가장 유망한 코로나19 치료제 6종',\n",
       " \"대형로펌에 첫 '코로나 환자'… 신속 조치로 위기 막았다\"]"
      ]
     },
     "execution_count": 66,
     "metadata": {},
     "output_type": "execute_result"
    }
   ],
   "source": [
    "all_news_titles = []\n",
    "\n",
    "# 1페이지 크롤링\n",
    "time.sleep(1)\n",
    "\n",
    "page = driver.page_source\n",
    "soup = BeautifulSoup(page, 'lxml')\n",
    "\n",
    "news_titles = soup.find_all(\"div\", class_='mCBkyc JQe2Ld nDgy9d')\n",
    "for one in news_titles:\n",
    "    all_news_titles.append(one.text)\n",
    "\n",
    "\n",
    "# 2-10페이지 크롤링\n",
    "for p in range(3, 12):\n",
    "    move_page = driver.find_element_by_xpath(f'//*[@id=\"xjs\"]/table/tbody/tr/td[{p}]/a')\n",
    "    move_page.click()\n",
    "    time.sleep(1)\n",
    "    \n",
    "    # bs\n",
    "    page = driver.page_source\n",
    "    soup = BeautifulSoup(page, 'lxml')\n",
    "    news_titles = soup.find_all(\"div\", class_='mCBkyc JQe2Ld nDgy9d')\n",
    "    for one in news_titles:\n",
    "        all_news_titles.append(one.text)\n",
    "\n",
    "all_news_titles"
   ]
  },
  {
   "cell_type": "code",
   "execution_count": 67,
   "id": "2e84be41",
   "metadata": {},
   "outputs": [
    {
     "data": {
      "text/plain": [
       "100"
      ]
     },
     "execution_count": 67,
     "metadata": {},
     "output_type": "execute_result"
    }
   ],
   "source": [
    "len(all_news_titles)"
   ]
  },
  {
   "cell_type": "code",
   "execution_count": 68,
   "id": "4321985f",
   "metadata": {},
   "outputs": [],
   "source": [
    "news = {\"'2020-08\": all_news_titles}\n",
    "dat = pd.DataFrame(news)\n",
    "dat.to_csv('2020년08월_코로나_뉴스(구글).csv', index=False)"
   ]
  },
  {
   "cell_type": "code",
   "execution_count": null,
   "id": "4062c060",
   "metadata": {},
   "outputs": [],
   "source": []
  }
 ],
 "metadata": {
  "kernelspec": {
   "display_name": "Python 3",
   "language": "python",
   "name": "python3"
  },
  "language_info": {
   "codemirror_mode": {
    "name": "ipython",
    "version": 3
   },
   "file_extension": ".py",
   "mimetype": "text/x-python",
   "name": "python",
   "nbconvert_exporter": "python",
   "pygments_lexer": "ipython3",
   "version": "3.8.8"
  }
 },
 "nbformat": 4,
 "nbformat_minor": 5
}
