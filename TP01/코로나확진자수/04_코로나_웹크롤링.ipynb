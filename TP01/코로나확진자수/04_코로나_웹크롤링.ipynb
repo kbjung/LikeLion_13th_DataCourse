{
 "cells": [
  {
   "cell_type": "markdown",
   "id": "e5787c79",
   "metadata": {},
   "source": [
    "# 코로나 뉴스 웹 크롤링\n",
    "* 구글에서, 특정 기간, 특정 키워드 검색\n",
    "* 뉴스 타이틀만 가져오기\n",
    "* wordcloud로 시각화 하기"
   ]
  },
  {
   "cell_type": "markdown",
   "id": "a7b5d0b8",
   "metadata": {},
   "source": [
    "## selenium, bs 이용"
   ]
  },
  {
   "cell_type": "code",
   "execution_count": 1,
   "id": "09a57bd5",
   "metadata": {},
   "outputs": [],
   "source": [
    "from selenium import webdriver\n",
    "from bs4 import BeautifulSoup\n",
    "import time"
   ]
  },
  {
   "cell_type": "code",
   "execution_count": 2,
   "id": "2a7541f8",
   "metadata": {},
   "outputs": [],
   "source": [
    "driver = webdriver.Chrome('chromedriver_94')\n",
    "url = 'https://www.google.com/'\n",
    "driver.get(url)\n",
    "time.sleep(0.5)"
   ]
  },
  {
   "cell_type": "code",
   "execution_count": 3,
   "id": "655a83eb",
   "metadata": {},
   "outputs": [],
   "source": [
    "# 검색창 xpath : /html/body/div[1]/div[3]/form/div[1]/div[1]/div[1]/div/div[2]/input\n",
    "# 검색 버튼 xpath : /html/body/div[1]/div[3]/form/div[1]/div[1]/div[3]/center/input[1]\n",
    "search_window = driver.find_element_by_xpath('/html/body/div[1]/div[3]/form/div[1]/div[1]/div[1]/div/div[2]/input')\n",
    "search_button = driver.find_element_by_xpath('/html/body/div[1]/div[3]/form/div[1]/div[1]/div[3]/center/input[1]')"
   ]
  },
  {
   "cell_type": "code",
   "execution_count": 4,
   "id": "720c35e5",
   "metadata": {},
   "outputs": [],
   "source": [
    "search_window.send_keys('코로나')\n",
    "search_button.click()\n",
    "time.sleep(1)"
   ]
  },
  {
   "cell_type": "code",
   "execution_count": 5,
   "id": "a9065a2c",
   "metadata": {},
   "outputs": [],
   "source": [
    "# 뉴스 탭 : //*[@id=\"hdtb-msb\"]/div[1]/div/div[2]/a\n",
    "news_tab = driver.find_element_by_xpath('//*[@id=\"hdtb-msb\"]/div[1]/div/div[2]/a')\n",
    "news_tab.click()\n",
    "time.sleep(1)"
   ]
  },
  {
   "cell_type": "markdown",
   "id": "0e1f381c",
   "metadata": {},
   "source": [
    "### 기간 지정"
   ]
  },
  {
   "cell_type": "code",
   "execution_count": 6,
   "id": "1f05ad9b",
   "metadata": {},
   "outputs": [],
   "source": [
    "# 도구 : //*[@id=\"hdtb-tls\"]\n",
    "tool = driver.find_element_by_xpath('//*[@id=\"hdtb-tls\"]')\n",
    "tool.click()"
   ]
  },
  {
   "cell_type": "code",
   "execution_count": 7,
   "id": "a40e41da",
   "metadata": {},
   "outputs": [],
   "source": [
    "# 최근항목 : //*[@id=\"hdtbMenus\"]/span[2]/g-popup/div[1]/div/div\n",
    "recent = driver.find_element_by_xpath('//*[@id=\"hdtbMenus\"]/span[2]/g-popup/div[1]/div/div')\n",
    "recent.click()"
   ]
  },
  {
   "cell_type": "code",
   "execution_count": 8,
   "id": "745be176",
   "metadata": {},
   "outputs": [],
   "source": [
    "# 기간 설정 : //*[@id=\"lb\"]/div/g-menu/g-menu-item[8]/div/div/span\n",
    "period_set = driver.find_element_by_xpath('//*[@id=\"lb\"]/div/g-menu/g-menu-item[8]/div/div/span')\n",
    "period_set.click()"
   ]
  },
  {
   "cell_type": "code",
   "execution_count": 9,
   "id": "16173352",
   "metadata": {},
   "outputs": [],
   "source": [
    "# 시작일 입력창(월/일/년) : //*[@id=\"OouJcb\"]\n",
    "# 종료일 입력창(월/일/년) : //*[@id=\"rzG2be\"]\n",
    "# 실행 버튼 : //*[@id=\"T3kYXe\"]/g-button\n",
    "start_date = driver.find_element_by_xpath('//*[@id=\"OouJcb\"]')\n",
    "end_date = driver.find_element_by_xpath('//*[@id=\"rzG2be\"]')\n",
    "launch_button = driver.find_element_by_xpath('//*[@id=\"T3kYXe\"]/g-button')\n",
    "\n",
    "start_date.send_keys('3/1/2020')\n",
    "end_date.send_keys('3/31/2020')\n",
    "time.sleep(0.5)\n",
    "launch_button.click()"
   ]
  },
  {
   "cell_type": "code",
   "execution_count": 10,
   "id": "9d64c83c",
   "metadata": {},
   "outputs": [],
   "source": [
    "# 뉴스 타이틀 가져오기(1~3)\n",
    "# 1 : //*[@id=\"rso\"]/div[1]/g-card/div/div/a/div/div[2]/div[2]\n",
    "# 2 : //*[@id=\"rso\"]/div[2]/g-card/div/div/a/div/div[2]/div[2]\n",
    "# 3 : //*[@id=\"rso\"]/div[3]/g-card/div/div/a/div/div[2]/div[2]\n",
    "# ...\n",
    "# 10 : //*[@id=\"rso\"]/div[10]/g-card/div/div/a/div/div[2]/div[2]"
   ]
  },
  {
   "cell_type": "code",
   "execution_count": 11,
   "id": "3e203698",
   "metadata": {},
   "outputs": [],
   "source": [
    "# 뉴스 타이틀 가져오기(4페이지)\n",
    "# 1 : //*[@id=\"rso\"]/div[1]/g-card/div/div/a/div/div[2]/div[2]\n",
    "# 2 : //*[@id=\"rso\"]/div[2]/g-card/div/div/a/div/div[2]/div[2]\n",
    "# 3 : //*[@id=\"rso\"]/div[3]/g-card/div/div/a/div/div[2]/div[2]\n",
    "# 4 : //*[@id=\"rso\"]/div[4]/g-card/div/div/a/div/div/div[2] => 규칙 다름.\n",
    "# 5 : //*[@id=\"rso\"]/div[5]/g-card/div/div/a/div/div[2]/div[2]"
   ]
  },
  {
   "cell_type": "code",
   "execution_count": null,
   "id": "8d68e095",
   "metadata": {},
   "outputs": [],
   "source": [
    "# 7페이지\n",
    "# 1 : //*[@id=\"rso\"]/div[1]/g-card/div/div/a/div/div/div[2] => 규칙 다름.\n",
    "# 2 : //*[@id=\"rso\"]/div[2]/g-card/div/div/a/div/div[2]/div[2]"
   ]
  },
  {
   "cell_type": "code",
   "execution_count": 12,
   "id": "e3e3d29d",
   "metadata": {},
   "outputs": [],
   "source": [
    "# 페이지 xpath\n",
    "# 2페이지 버튼 : //*[@id=\"xjs\"]/table/tbody/tr/td[3]/a\n",
    "# 3페이지 버튼 : //*[@id=\"xjs\"]/table/tbody/tr/td[4]/a\n",
    "# 4페이지 버튼 : //*[@id=\"xjs\"]/table/tbody/tr/td[5]/a\n",
    "# 5페이지 버튼 : //*[@id=\"xjs\"]/table/tbody/tr/td[6]/a"
   ]
  },
  {
   "cell_type": "code",
   "execution_count": 13,
   "id": "8a0f1d37",
   "metadata": {},
   "outputs": [
    {
     "data": {
      "text/plain": [
       "[\"WHO, 코로나19 세계적 대유행 '팬데믹' 선언\",\n",
       " \"코로나19: WHO, '팬데믹' 공식 규정... 왜 지금 팬데믹 표현 쓰나?\",\n",
       " 'MEDI:GATE NEWS : WHO, 코로나19 팬데믹 선언...114개국 12 ...',\n",
       " '미국에서 코로나19로 4명 추가 사망… 사망자 총 6명',\n",
       " 'CNN \"오늘부터 코로나19 발병 상황, 팬데믹으로 부를 것\"',\n",
       " 'MEDI:GATE NEWS : 서울·경기도 코로나19 확진 300명 넘어 ...',\n",
       " '선진 의료시스템 갖춘 이탈리아서 코로나19 사망자 급증 이유는',\n",
       " '코로나19 치료할 항체 후보 3개 찾았다',\n",
       " \"코로나19: WHO '젊은이들, 코로나19에 천하무적 아니다'\",\n",
       " '코로나19 백신·치료제 개발에 나선 국내 제약사들']"
      ]
     },
     "execution_count": 13,
     "metadata": {},
     "output_type": "execute_result"
    }
   ],
   "source": [
    "# test\n",
    "test_titles = []\n",
    "for i in range(1, 11):\n",
    "    tmp = driver.find_element_by_xpath(f'//*[@id=\"rso\"]/div[{i}]/g-card/div/div/a/div/div[2]/div[2]')\n",
    "    # 한 페이지 뉴스 타이틀 하나의 리스트로 만들기\n",
    "    test_titles.append(tmp.text)\n",
    "# 페이지 별 리스트를 리스트의 원소로 만들기\n",
    "test_titles"
   ]
  },
  {
   "cell_type": "code",
   "execution_count": 18,
   "id": "6c72424d",
   "metadata": {},
   "outputs": [
    {
     "ename": "NoSuchElementException",
     "evalue": "Message: no such element: Unable to locate element: {\"method\":\"xpath\",\"selector\":\"//*[@id=\"rso\"]/div[7]/g-card/div/div/a/div/div[2]/div[2]\"}\n  (Session info: chrome=94.0.4606.61)\n",
     "output_type": "error",
     "traceback": [
      "\u001b[1;31m---------------------------------------------------------------------------\u001b[0m",
      "\u001b[1;31mNoSuchElementException\u001b[0m                    Traceback (most recent call last)",
      "\u001b[1;32m<ipython-input-18-175777ebd28e>\u001b[0m in \u001b[0;36m<module>\u001b[1;34m\u001b[0m\n\u001b[0;32m     43\u001b[0m \u001b[1;31m# 4페이지 5~10번째 크롤링\u001b[0m\u001b[1;33m\u001b[0m\u001b[1;33m\u001b[0m\u001b[1;33m\u001b[0m\u001b[0m\n\u001b[0;32m     44\u001b[0m \u001b[1;32mfor\u001b[0m \u001b[0mi\u001b[0m \u001b[1;32min\u001b[0m \u001b[0mrange\u001b[0m\u001b[1;33m(\u001b[0m\u001b[1;36m5\u001b[0m\u001b[1;33m,\u001b[0m \u001b[1;36m11\u001b[0m\u001b[1;33m)\u001b[0m\u001b[1;33m:\u001b[0m\u001b[1;33m\u001b[0m\u001b[1;33m\u001b[0m\u001b[0m\n\u001b[1;32m---> 45\u001b[1;33m     \u001b[0mtmp\u001b[0m \u001b[1;33m=\u001b[0m \u001b[0mdriver\u001b[0m\u001b[1;33m.\u001b[0m\u001b[0mfind_element_by_xpath\u001b[0m\u001b[1;33m(\u001b[0m\u001b[1;34mf'//*[@id=\"rso\"]/div[{i}]/g-card/div/div/a/div/div[2]/div[2]'\u001b[0m\u001b[1;33m)\u001b[0m\u001b[1;33m\u001b[0m\u001b[1;33m\u001b[0m\u001b[0m\n\u001b[0m\u001b[0;32m     46\u001b[0m     \u001b[1;31m# 한 페이지 뉴스 타이틀 하나의 리스트로 만들기\u001b[0m\u001b[1;33m\u001b[0m\u001b[1;33m\u001b[0m\u001b[1;33m\u001b[0m\u001b[0m\n\u001b[0;32m     47\u001b[0m     \u001b[0mnews_titles\u001b[0m\u001b[1;33m.\u001b[0m\u001b[0mappend\u001b[0m\u001b[1;33m(\u001b[0m\u001b[0mtmp\u001b[0m\u001b[1;33m.\u001b[0m\u001b[0mtext\u001b[0m\u001b[1;33m)\u001b[0m\u001b[1;33m\u001b[0m\u001b[1;33m\u001b[0m\u001b[0m\n",
      "\u001b[1;32m~\\anaconda3\\lib\\site-packages\\selenium\\webdriver\\remote\\webdriver.py\u001b[0m in \u001b[0;36mfind_element_by_xpath\u001b[1;34m(self, xpath)\u001b[0m\n\u001b[0;32m    392\u001b[0m             \u001b[0melement\u001b[0m \u001b[1;33m=\u001b[0m \u001b[0mdriver\u001b[0m\u001b[1;33m.\u001b[0m\u001b[0mfind_element_by_xpath\u001b[0m\u001b[1;33m(\u001b[0m\u001b[1;34m'//div/td[1]'\u001b[0m\u001b[1;33m)\u001b[0m\u001b[1;33m\u001b[0m\u001b[1;33m\u001b[0m\u001b[0m\n\u001b[0;32m    393\u001b[0m         \"\"\"\n\u001b[1;32m--> 394\u001b[1;33m         \u001b[1;32mreturn\u001b[0m \u001b[0mself\u001b[0m\u001b[1;33m.\u001b[0m\u001b[0mfind_element\u001b[0m\u001b[1;33m(\u001b[0m\u001b[0mby\u001b[0m\u001b[1;33m=\u001b[0m\u001b[0mBy\u001b[0m\u001b[1;33m.\u001b[0m\u001b[0mXPATH\u001b[0m\u001b[1;33m,\u001b[0m \u001b[0mvalue\u001b[0m\u001b[1;33m=\u001b[0m\u001b[0mxpath\u001b[0m\u001b[1;33m)\u001b[0m\u001b[1;33m\u001b[0m\u001b[1;33m\u001b[0m\u001b[0m\n\u001b[0m\u001b[0;32m    395\u001b[0m \u001b[1;33m\u001b[0m\u001b[0m\n\u001b[0;32m    396\u001b[0m     \u001b[1;32mdef\u001b[0m \u001b[0mfind_elements_by_xpath\u001b[0m\u001b[1;33m(\u001b[0m\u001b[0mself\u001b[0m\u001b[1;33m,\u001b[0m \u001b[0mxpath\u001b[0m\u001b[1;33m)\u001b[0m\u001b[1;33m:\u001b[0m\u001b[1;33m\u001b[0m\u001b[1;33m\u001b[0m\u001b[0m\n",
      "\u001b[1;32m~\\anaconda3\\lib\\site-packages\\selenium\\webdriver\\remote\\webdriver.py\u001b[0m in \u001b[0;36mfind_element\u001b[1;34m(self, by, value)\u001b[0m\n\u001b[0;32m    974\u001b[0m                 \u001b[0mby\u001b[0m \u001b[1;33m=\u001b[0m \u001b[0mBy\u001b[0m\u001b[1;33m.\u001b[0m\u001b[0mCSS_SELECTOR\u001b[0m\u001b[1;33m\u001b[0m\u001b[1;33m\u001b[0m\u001b[0m\n\u001b[0;32m    975\u001b[0m                 \u001b[0mvalue\u001b[0m \u001b[1;33m=\u001b[0m \u001b[1;34m'[name=\"%s\"]'\u001b[0m \u001b[1;33m%\u001b[0m \u001b[0mvalue\u001b[0m\u001b[1;33m\u001b[0m\u001b[1;33m\u001b[0m\u001b[0m\n\u001b[1;32m--> 976\u001b[1;33m         return self.execute(Command.FIND_ELEMENT, {\n\u001b[0m\u001b[0;32m    977\u001b[0m             \u001b[1;34m'using'\u001b[0m\u001b[1;33m:\u001b[0m \u001b[0mby\u001b[0m\u001b[1;33m,\u001b[0m\u001b[1;33m\u001b[0m\u001b[1;33m\u001b[0m\u001b[0m\n\u001b[0;32m    978\u001b[0m             'value': value})['value']\n",
      "\u001b[1;32m~\\anaconda3\\lib\\site-packages\\selenium\\webdriver\\remote\\webdriver.py\u001b[0m in \u001b[0;36mexecute\u001b[1;34m(self, driver_command, params)\u001b[0m\n\u001b[0;32m    319\u001b[0m         \u001b[0mresponse\u001b[0m \u001b[1;33m=\u001b[0m \u001b[0mself\u001b[0m\u001b[1;33m.\u001b[0m\u001b[0mcommand_executor\u001b[0m\u001b[1;33m.\u001b[0m\u001b[0mexecute\u001b[0m\u001b[1;33m(\u001b[0m\u001b[0mdriver_command\u001b[0m\u001b[1;33m,\u001b[0m \u001b[0mparams\u001b[0m\u001b[1;33m)\u001b[0m\u001b[1;33m\u001b[0m\u001b[1;33m\u001b[0m\u001b[0m\n\u001b[0;32m    320\u001b[0m         \u001b[1;32mif\u001b[0m \u001b[0mresponse\u001b[0m\u001b[1;33m:\u001b[0m\u001b[1;33m\u001b[0m\u001b[1;33m\u001b[0m\u001b[0m\n\u001b[1;32m--> 321\u001b[1;33m             \u001b[0mself\u001b[0m\u001b[1;33m.\u001b[0m\u001b[0merror_handler\u001b[0m\u001b[1;33m.\u001b[0m\u001b[0mcheck_response\u001b[0m\u001b[1;33m(\u001b[0m\u001b[0mresponse\u001b[0m\u001b[1;33m)\u001b[0m\u001b[1;33m\u001b[0m\u001b[1;33m\u001b[0m\u001b[0m\n\u001b[0m\u001b[0;32m    322\u001b[0m             response['value'] = self._unwrap_value(\n\u001b[0;32m    323\u001b[0m                 response.get('value', None))\n",
      "\u001b[1;32m~\\anaconda3\\lib\\site-packages\\selenium\\webdriver\\remote\\errorhandler.py\u001b[0m in \u001b[0;36mcheck_response\u001b[1;34m(self, response)\u001b[0m\n\u001b[0;32m    240\u001b[0m                 \u001b[0malert_text\u001b[0m \u001b[1;33m=\u001b[0m \u001b[0mvalue\u001b[0m\u001b[1;33m[\u001b[0m\u001b[1;34m'alert'\u001b[0m\u001b[1;33m]\u001b[0m\u001b[1;33m.\u001b[0m\u001b[0mget\u001b[0m\u001b[1;33m(\u001b[0m\u001b[1;34m'text'\u001b[0m\u001b[1;33m)\u001b[0m\u001b[1;33m\u001b[0m\u001b[1;33m\u001b[0m\u001b[0m\n\u001b[0;32m    241\u001b[0m             \u001b[1;32mraise\u001b[0m \u001b[0mexception_class\u001b[0m\u001b[1;33m(\u001b[0m\u001b[0mmessage\u001b[0m\u001b[1;33m,\u001b[0m \u001b[0mscreen\u001b[0m\u001b[1;33m,\u001b[0m \u001b[0mstacktrace\u001b[0m\u001b[1;33m,\u001b[0m \u001b[0malert_text\u001b[0m\u001b[1;33m)\u001b[0m\u001b[1;33m\u001b[0m\u001b[1;33m\u001b[0m\u001b[0m\n\u001b[1;32m--> 242\u001b[1;33m         \u001b[1;32mraise\u001b[0m \u001b[0mexception_class\u001b[0m\u001b[1;33m(\u001b[0m\u001b[0mmessage\u001b[0m\u001b[1;33m,\u001b[0m \u001b[0mscreen\u001b[0m\u001b[1;33m,\u001b[0m \u001b[0mstacktrace\u001b[0m\u001b[1;33m)\u001b[0m\u001b[1;33m\u001b[0m\u001b[1;33m\u001b[0m\u001b[0m\n\u001b[0m\u001b[0;32m    243\u001b[0m \u001b[1;33m\u001b[0m\u001b[0m\n\u001b[0;32m    244\u001b[0m     \u001b[1;32mdef\u001b[0m \u001b[0m_value_or_default\u001b[0m\u001b[1;33m(\u001b[0m\u001b[0mself\u001b[0m\u001b[1;33m,\u001b[0m \u001b[0mobj\u001b[0m\u001b[1;33m,\u001b[0m \u001b[0mkey\u001b[0m\u001b[1;33m,\u001b[0m \u001b[0mdefault\u001b[0m\u001b[1;33m)\u001b[0m\u001b[1;33m:\u001b[0m\u001b[1;33m\u001b[0m\u001b[1;33m\u001b[0m\u001b[0m\n",
      "\u001b[1;31mNoSuchElementException\u001b[0m: Message: no such element: Unable to locate element: {\"method\":\"xpath\",\"selector\":\"//*[@id=\"rso\"]/div[7]/g-card/div/div/a/div/div[2]/div[2]\"}\n  (Session info: chrome=94.0.4606.61)\n"
     ]
    }
   ],
   "source": [
    "# 4페이지 4번째 타이틀 xpath 규칙 벗어나서 각 페이지 별로 작성.\n",
    "time.sleep(1)\n",
    "\n",
    "all_news = []\n",
    "\n",
    "# 1페이지 크롤링(별도)\n",
    "news_titles = []\n",
    "for i in range(1, 11):\n",
    "    tmp = driver.find_element_by_xpath(f'//*[@id=\"rso\"]/div[{i}]/g-card/div/div/a/div/div[2]/div[2]')\n",
    "    # 한 페이지 뉴스 타이틀 하나의 리스트로 만들기\n",
    "    news_titles.append(tmp.text)\n",
    "# 페이지 별 리스트를 리스트의 원소로 만들기\n",
    "all_news.append(news_titles)\n",
    "\n",
    "# 2-3페이지 크롤링\n",
    "for p in range(3, 4):\n",
    "    # 2-3페이지까지 이동\n",
    "    page = driver.find_element_by_xpath(f'//*[@id=\"xjs\"]/table/tbody/tr/td[{p}]/a')\n",
    "    page.click()\n",
    "    time.sleep(1)\n",
    "    # 각 페이지 뉴스 타이틀만 가져오기\n",
    "    news_titles = []\n",
    "    for i in range(1, 11):\n",
    "        tmp = driver.find_element_by_xpath(f'//*[@id=\"rso\"]/div[{i}]/g-card/div/div/a/div/div[2]/div[2]')\n",
    "        # 각페이지 뉴스 타이틀 하나의 리스트로 만들기\n",
    "        news_titles.append(tmp.text)     \n",
    "        # 페이지 별 리스트를 리스트의 원소로 만들기\n",
    "    all_news.append(news_titles)\n",
    "    \n",
    "# 4페이지 1~3번째 크롤링(4번째 타이틀 다른 xpath 가짐.)\n",
    "page = driver.find_element_by_xpath(f'//*[@id=\"xjs\"]/table/tbody/tr/td[5]/a')\n",
    "page.click()\n",
    "time.sleep(1)\n",
    "for i in range(1, 4):\n",
    "    tmp = driver.find_element_by_xpath(f'//*[@id=\"rso\"]/div[{i}]/g-card/div/div/a/div/div[2]/div[2]')\n",
    "    # 한 페이지 뉴스 타이틀 하나의 리스트로 만들기\n",
    "    news_titles.append(tmp.text)\n",
    "    \n",
    "# 4페이지 4번째 타이틀만 크롤링(//*[@id=\"rso\"]/div[4]/g-card/div/div/a/div/div/div[2])\n",
    "page4_u = driver.find_element_by_xpath('//*[@id=\"rso\"]/div[4]/g-card/div/div/a/div/div/div[2]')\n",
    "news_titles.append(page4_u.text)\n",
    "\n",
    "# 4페이지 5~10번째 크롤링\n",
    "for i in range(5, 11):\n",
    "    tmp = driver.find_element_by_xpath(f'//*[@id=\"rso\"]/div[{i}]/g-card/div/div/a/div/div[2]/div[2]')\n",
    "    # 한 페이지 뉴스 타이틀 하나의 리스트로 만들기\n",
    "    news_titles.append(tmp.text)\n",
    "    \n",
    "# 5~7페이지 크롤링\n",
    "for p in range(6, 8):\n",
    "    # 2-10페이지까지 이동\n",
    "    page = driver.find_element_by_xpath(f'//*[@id=\"xjs\"]/table/tbody/tr/td[{p}]/a')\n",
    "    page.click()\n",
    "    time.sleep(1)\n",
    "    # 각 페이지 뉴스 타이틀만 가져오기\n",
    "    news_titles = []\n",
    "    for i in range(1, 11):\n",
    "        tmp = driver.find_element_by_xpath(f'//*[@id=\"rso\"]/div[{i}]/g-card/div/div/a/div/div[2]/div[2]')\n",
    "        # 각페이지 뉴스 타이틀 하나의 리스트로 만들기\n",
    "        news_titles.append(tmp.text)     \n",
    "        # 페이지 별 리스트를 리스트의 원소로 만들기\n",
    "    all_news.append(news_titles)\n",
    "\n",
    "# 7페이지 1번째()\n",
    "page = driver.find_element_by_xpath(f'//*[@id=\"xjs\"]/table/tbody/tr/td[8]/a')\n",
    "page.click()\n",
    "time.sleep(1)\n",
    "\n",
    "# 7페이지 1번째 타이틀만 크롤링(//*[@id=\"rso\"]/div[1]/g-card/div/div/a/div/div/div[2])\n",
    "page7_u = driver.find_element_by_xpath('//*[@id=\"rso\"]/div[1]/g-card/div/div/a/div/div/div[2]')\n",
    "news_titles.append(page7_u.text)\n",
    "# 7페이지 2-10번째\n",
    "for i in range(2, 11):\n",
    "    tmp = driver.find_element_by_xpath(f'//*[@id=\"rso\"]/div[{i}]/g-card/div/div/a/div/div[2]/div[2]')\n",
    "    # 한 페이지 뉴스 타이틀 하나의 리스트로 만들기\n",
    "    news_titles.append(tmp.text)\n",
    "\n",
    "# 8-10페이지 크롤링\n",
    "for p in range(9, 11):\n",
    "    # 8-10페이지까지 이동\n",
    "    page = driver.find_element_by_xpath(f'//*[@id=\"xjs\"]/table/tbody/tr/td[{p}]/a')\n",
    "    page.click()\n",
    "    time.sleep(1)\n",
    "    # 각 페이지 뉴스 타이틀만 가져오기\n",
    "    news_titles = []\n",
    "    for i in range(1, 11):\n",
    "        tmp = driver.find_element_by_xpath(f'//*[@id=\"rso\"]/div[{i}]/g-card/div/div/a/div/div[2]/div[2]')\n",
    "        # 각페이지 뉴스 타이틀 하나의 리스트로 만들기\n",
    "        news_titles.append(tmp.text)     \n",
    "        # 페이지 별 리스트를 리스트의 원소로 만들기\n",
    "    all_news.append(news_titles)\n",
    "\n",
    "# 페이지 별 리스트를 리스트의 원소로 만들기\n",
    "all_news.append(news_titles)"
   ]
  },
  {
   "cell_type": "code",
   "execution_count": null,
   "id": "2ff37b21",
   "metadata": {},
   "outputs": [],
   "source": [
    "# xpath는 오류가 많음.\n",
    "# tag로 해보자."
   ]
  }
 ],
 "metadata": {
  "kernelspec": {
   "display_name": "Python 3",
   "language": "python",
   "name": "python3"
  },
  "language_info": {
   "codemirror_mode": {
    "name": "ipython",
    "version": 3
   },
   "file_extension": ".py",
   "mimetype": "text/x-python",
   "name": "python",
   "nbconvert_exporter": "python",
   "pygments_lexer": "ipython3",
   "version": "3.8.8"
  }
 },
 "nbformat": 4,
 "nbformat_minor": 5
}
