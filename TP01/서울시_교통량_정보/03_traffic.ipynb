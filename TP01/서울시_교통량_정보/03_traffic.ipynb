{
 "cells": [
  {
   "cell_type": "markdown",
   "id": "7e919d7f",
   "metadata": {},
   "source": [
    "### 년도 별 파일 불러와 월별 합계 구하기\n",
    "* 파일을 순차적으로 불러오기\n",
    "* 월별 교통량 합계 구하기\n",
    "* 월별로 데이터 셋으로 만들기 \n",
    "* 월별 데이터셋 하나로 합치기\n",
    "* csv 파일로 만들기"
   ]
  },
  {
   "cell_type": "markdown",
   "id": "255d0e01",
   "metadata": {},
   "source": [
    "### 파일 불러오기\n",
    "* 경로 : ./년도/01월 서울시 교통량 조사자료.xlsx"
   ]
  },
  {
   "cell_type": "markdown",
   "id": "b34f3ede",
   "metadata": {},
   "source": [
    "# 정리\n",
    "* 2016년\n",
    "    * G열 부터 시작(6열)\n",
    "    * 파일명 : 2016년 01월 서울시 교통량 조사자료.xlsx\n",
    "* 2017년(해결)\n",
    "    * G열 부터 시작(6열)\n",
    "    * 4월 오류 해결\n",
    "* 2018년(정상)\n",
    "    * 시트 2개. 필요 시트 2번째\n",
    "    * G열 부터 시작(6열)\n",
    "* 2019년(해결)\n",
    "    * 시트 2개. 필요 시트 2번째\n",
    "    * G열 부터 시작(6열)\n",
    "        * 1월 H열 부터 시작(7열)\n",
    "* 2020년(해결)\n",
    "    * 시트 2개. 필요 시트 2번째\n",
    "    * G열 부터 시작(6열)\n",
    "        * 2, 12월 H열 부터 시작(7열)\n",
    "* 2021년(정상)\n",
    "    * 시트 2개. 필요 시트 2번째\n",
    "    * G열 부터 시작(6열)"
   ]
  },
  {
   "cell_type": "markdown",
   "id": "58818ce2",
   "metadata": {},
   "source": [
    "# 연도 별 값을 컬럼 기준으로 데이터 프레임 만들기"
   ]
  },
  {
   "cell_type": "code",
   "execution_count": 3,
   "id": "8e106920",
   "metadata": {},
   "outputs": [],
   "source": [
    "import pandas as pd"
   ]
  },
  {
   "cell_type": "code",
   "execution_count": 4,
   "id": "3542e40d",
   "metadata": {
    "scrolled": false
   },
   "outputs": [
    {
     "data": {
      "text/plain": [
       "['0시',\n",
       " '1시',\n",
       " '2시',\n",
       " '3시',\n",
       " '4시',\n",
       " '5시',\n",
       " '6시',\n",
       " '7시',\n",
       " '8시',\n",
       " '9시',\n",
       " '10시',\n",
       " '11시',\n",
       " '12시',\n",
       " '13시',\n",
       " '14시',\n",
       " '15시',\n",
       " '16시',\n",
       " '17시',\n",
       " '18시',\n",
       " '19시',\n",
       " '20시',\n",
       " '21시',\n",
       " '22시',\n",
       " '23시']"
      ]
     },
     "execution_count": 4,
     "metadata": {},
     "output_type": "execute_result"
    }
   ],
   "source": [
    "# 컬럼 명 리스트 만들기\n",
    "cols = []\n",
    "for i in range(24):\n",
    "    tmp = f'{i}시'\n",
    "    cols.append(tmp)\n",
    "cols"
   ]
  },
  {
   "cell_type": "markdown",
   "id": "eeb1a3b2",
   "metadata": {},
   "source": [
    "# 2016년"
   ]
  },
  {
   "cell_type": "code",
   "execution_count": 5,
   "id": "7579d378",
   "metadata": {},
   "outputs": [
    {
     "name": "stdout",
     "output_type": "stream",
     "text": [
      "12 [250005440.0, 246001116.0, 276016440.0, 277268102.0, 275774656.0, 267293206.0, 276590174.0, 266461912.0, 253064445.0, 263118836.0, 254555577.0, 264036326.0]\n"
     ]
    }
   ],
   "source": [
    "# 2017년 월별 통행량\n",
    "# 파일명 : 2016년 01월 서울시 교통량 조사자료.xlsx\n",
    "# 2017-2021년 처리 후 추가\n",
    "\n",
    "year_2016 = []\n",
    "for m in range(1, 13):\n",
    "    month_dat = pd.read_excel(f'./2016/2016년 {m:0>2}월 서울시 교통량 조사자료.xlsx')\n",
    "    # 에러 값을 nan값으로 바꾼 뒤\n",
    "    # nan값 0으로 채우기\n",
    "    for one in cols:\n",
    "        month_dat[one] = month_dat[one].apply(pd.to_numeric, errors='coerce').fillna(0)\n",
    "\n",
    "    month_sum = 0\n",
    "    # 한달 총합 구하기\n",
    "    for one in cols:\n",
    "        tmp = month_dat[one].sum()\n",
    "        month_sum += tmp\n",
    "    year_2016.append(month_sum)\n",
    "print(len(year_2016), year_2016)"
   ]
  },
  {
   "cell_type": "markdown",
   "id": "356572e0",
   "metadata": {},
   "source": [
    "# 2017년"
   ]
  },
  {
   "cell_type": "code",
   "execution_count": 6,
   "id": "338fc910",
   "metadata": {
    "scrolled": true
   },
   "outputs": [
    {
     "name": "stdout",
     "output_type": "stream",
     "text": [
      "12 [227653568.0, 214298439.0, 242598574.0, 263975550.0, 295918625.0, 288598798.0, 292584832.0, 302005433.0, 293008364.0, 295585441.0, 282938331.0, 274825244.0]\n"
     ]
    }
   ],
   "source": [
    "# 2017년 월별 통행량\n",
    "# G열 부터 시작(6열)\n",
    "# 4월 오류 해결(df = df.apply(pd.to_numeric, errors='coerce').fillna(0))\n",
    "\n",
    "year_2017 = []\n",
    "for m in range(1, 13):\n",
    "    month_dat = pd.read_excel(f'./2017/{m:0>2}월 서울시 교통량 조사자료.xlsx')\n",
    "    # 에러 값을 nan값으로 바꾼 뒤\n",
    "    # nan값 0으로 채우기\n",
    "    for one in cols:\n",
    "        month_dat[one] = month_dat[one].apply(pd.to_numeric, errors='coerce').fillna(0)\n",
    "\n",
    "    month_sum = 0\n",
    "    # 한달 총합 구하기\n",
    "    for one in cols:\n",
    "        tmp = month_dat[one].sum()\n",
    "        month_sum += tmp\n",
    "    year_2017.append(month_sum)\n",
    "print(len(year_2017), year_2017)"
   ]
  },
  {
   "cell_type": "markdown",
   "id": "34a4ee94",
   "metadata": {},
   "source": [
    "# 2018년"
   ]
  },
  {
   "cell_type": "code",
   "execution_count": 7,
   "id": "a313ff73",
   "metadata": {},
   "outputs": [
    {
     "name": "stdout",
     "output_type": "stream",
     "text": [
      "12 [231175275.50000003, 218083825.0, 262874087.0, 269400175.0, 273808519.0, 269474628.0, 280537278.0, 274327730.0, 265315676.0, 281863521.0, 272774028.0, 275658032.0]\n"
     ]
    }
   ],
   "source": [
    "# 2018년 월별 통행량\n",
    "# 자료 변화가 있는 경우, 범주 탭이 들어가 있음. 두번째 탭에 자료 들어가 있어 오류 발생.\n",
    "# 시트 2개. 필요 시트 2번째\n",
    "year_2018 = []\n",
    "\n",
    "for m in range(1, 13):\n",
    "    month_dat = pd.read_excel(f'./2018/{m:0>2}월 서울시 교통량 조사자료.xlsx', sheet_name = 1)\n",
    "    # nan값 0으로 채우기\n",
    "    for one in cols:\n",
    "        month_dat[one] = month_dat[one].apply(pd.to_numeric, errors='coerce').fillna(0)\n",
    "\n",
    "    month_sum = 0\n",
    "    # 한달 총합 구하기\n",
    "    for one in cols:\n",
    "        tmp = month_dat[one].sum()\n",
    "        month_sum += tmp\n",
    "    year_2018.append(month_sum)\n",
    "print(len(year_2018), year_2018)"
   ]
  },
  {
   "cell_type": "markdown",
   "id": "66ba0c66",
   "metadata": {},
   "source": [
    "# 2019년"
   ]
  },
  {
   "cell_type": "code",
   "execution_count": 8,
   "id": "8b757d53",
   "metadata": {},
   "outputs": [
    {
     "name": "stdout",
     "output_type": "stream",
     "text": [
      "12 [293047880.0, 255946482.0, 291462852.0, 294804467.0, 301733907.0, 285145303.0, 292395939.0, 294338097.0, 274872597.0, 294622641.0, 293036874.0, 300392571.0]\n"
     ]
    }
   ],
   "source": [
    "# 2019년 월별 통행량\n",
    "# 자료 변화가 있는 경우, 범주 탭이 들어가 있음. 두번째 탭에 자료 들어가 있어 오류 발생.\n",
    "# 시트 2개. 필요 시트 2번째\n",
    "year_2019 = []\n",
    "\n",
    "for m in range(1, 13):\n",
    "    month_dat = pd.read_excel(f'./2019/{m:0>2}월 서울시 교통량 조사자료.xlsx', sheet_name = 1)\n",
    "    # nan값 0으로 채우기\n",
    "    for one in cols:\n",
    "        month_dat[one] = month_dat[one].apply(pd.to_numeric, errors='coerce').fillna(0)\n",
    "\n",
    "    month_sum = 0\n",
    "    # 한달 총합 구하기\n",
    "    for one in cols:\n",
    "        tmp = month_dat[one].sum()\n",
    "        month_sum += tmp\n",
    "    year_2019.append(month_sum)\n",
    "print(len(year_2019), year_2019)"
   ]
  },
  {
   "cell_type": "markdown",
   "id": "917d01db",
   "metadata": {},
   "source": [
    "# 2020년"
   ]
  },
  {
   "cell_type": "code",
   "execution_count": 9,
   "id": "f9e1999a",
   "metadata": {},
   "outputs": [
    {
     "name": "stdout",
     "output_type": "stream",
     "text": [
      "12 [287338914.0, 264851117.0, 276988930.0, 275890542.0, 291438374.0, 284005714.0, 292195000.0, 264936819.0, 257213165.0, 269114877.0, 265591295.0, 250758537.0]\n"
     ]
    }
   ],
   "source": [
    "# 2018년 월별 통행량\n",
    "# 자료 변화가 있는 경우, 범주 탭이 들어가 있음. 두번째 탭에 자료 들어가 있어 오류 발생.\n",
    "# 시트 2개. 필요 시트 2번째\n",
    "year_2020 = []\n",
    "\n",
    "for m in range(1, 13):\n",
    "    month_dat = pd.read_excel(f'./2020/{m:0>2}월 서울시 교통량 조사자료.xlsx', sheet_name = 1)\n",
    "    # nan값 0으로 채우기\n",
    "    for one in cols:\n",
    "        month_dat[one] = month_dat[one].apply(pd.to_numeric, errors='coerce').fillna(0)\n",
    "\n",
    "    month_sum = 0\n",
    "    # 한달 총합 구하기\n",
    "    for one in cols:\n",
    "        tmp = month_dat[one].sum()\n",
    "        month_sum += tmp\n",
    "    year_2020.append(month_sum)\n",
    "print(len(year_2020), year_2020)"
   ]
  },
  {
   "cell_type": "markdown",
   "id": "8b62b53d",
   "metadata": {},
   "source": [
    "# 2021년"
   ]
  },
  {
   "cell_type": "code",
   "execution_count": 82,
   "id": "b432e3f5",
   "metadata": {},
   "outputs": [
    {
     "name": "stdout",
     "output_type": "stream",
     "text": [
      "8 [224991142.0, 226646249.0, 259563380.0, 268025747.0, 266207783.0, 270112083.0, 274654659.0, 269150588.0]\n"
     ]
    }
   ],
   "source": [
    "# 2021년 월별 통행량\n",
    "# 2021년 시트 3개. 필요 시트 2번째\n",
    "# G열 부터 시작(6열)\n",
    "year_2021 = []\n",
    "for m in range(1, 9):\n",
    "    month_dat = pd.read_excel(f'./2021/{m:0>2}월 서울시 교통량 조사자료.xlsx', sheet_name = 1)\n",
    "    # 에러 값을 nan값으로 바꾼 뒤\n",
    "    # nan값 0으로 채우기\n",
    "    for one in cols:\n",
    "        month_dat[one] = month_dat[one].apply(pd.to_numeric, errors='coerce').fillna(0)\n",
    "\n",
    "    month_sum = 0\n",
    "    # 한달 총합 구하기\n",
    "    for one in cols:\n",
    "        tmp = month_dat[one].sum()\n",
    "        month_sum += tmp\n",
    "    year_2021.append(month_sum)\n",
    "print(len(year_2021), year_2021)"
   ]
  },
  {
   "cell_type": "code",
   "execution_count": 44,
   "id": "9c4f76b8",
   "metadata": {
    "scrolled": true
   },
   "outputs": [
    {
     "name": "stdout",
     "output_type": "stream",
     "text": [
      "12 [224991142.0, 226646249.0, 259563380.0, 268025747.0, 266207783.0, 270112083.0, 274654659.0, 269150588.0, 0, 0, 0, 0]\n"
     ]
    }
   ],
   "source": [
    "# 2021년 8월까지만 자료 있어 나머지를 nan으로 채우기\n",
    "year_2021.extend([0, 0, 0, 0])\n",
    "print(len(year_2021), year_2021)"
   ]
  },
  {
   "cell_type": "markdown",
   "id": "39a5d9c6",
   "metadata": {},
   "source": [
    "### 비어있는 값 nan값으로 채우기\n",
    "* 스파게티 팀원(정진우님)의 도움으로 해결."
   ]
  },
  {
   "cell_type": "code",
   "execution_count": 80,
   "id": "05c5d1ac",
   "metadata": {},
   "outputs": [],
   "source": [
    "from numpy import nan"
   ]
  },
  {
   "cell_type": "code",
   "execution_count": 85,
   "id": "7dfd5b6a",
   "metadata": {},
   "outputs": [
    {
     "data": {
      "text/plain": [
       "[224991142.0,\n",
       " 226646249.0,\n",
       " 259563380.0,\n",
       " 268025747.0,\n",
       " 266207783.0,\n",
       " 270112083.0,\n",
       " 274654659.0,\n",
       " 269150588.0,\n",
       " nan,\n",
       " nan,\n",
       " nan,\n",
       " nan]"
      ]
     },
     "execution_count": 85,
     "metadata": {},
     "output_type": "execute_result"
    }
   ],
   "source": [
    "year_2021.extend([nan, nan, nan, nan])\n",
    "year_2021"
   ]
  },
  {
   "cell_type": "markdown",
   "id": "eb0c7af5",
   "metadata": {},
   "source": [
    "# 데이터 프레임 만들기"
   ]
  },
  {
   "cell_type": "code",
   "execution_count": 97,
   "id": "fb0133b6",
   "metadata": {
    "scrolled": false
   },
   "outputs": [
    {
     "data": {
      "text/html": [
       "<div>\n",
       "<style scoped>\n",
       "    .dataframe tbody tr th:only-of-type {\n",
       "        vertical-align: middle;\n",
       "    }\n",
       "\n",
       "    .dataframe tbody tr th {\n",
       "        vertical-align: top;\n",
       "    }\n",
       "\n",
       "    .dataframe thead th {\n",
       "        text-align: right;\n",
       "    }\n",
       "</style>\n",
       "<table border=\"1\" class=\"dataframe\">\n",
       "  <thead>\n",
       "    <tr style=\"text-align: right;\">\n",
       "      <th></th>\n",
       "      <th>2016년</th>\n",
       "      <th>2017년</th>\n",
       "      <th>2018년</th>\n",
       "      <th>2019년</th>\n",
       "      <th>2020년</th>\n",
       "      <th>2021년</th>\n",
       "    </tr>\n",
       "  </thead>\n",
       "  <tbody>\n",
       "    <tr>\n",
       "      <th>1월</th>\n",
       "      <td>250005440.0</td>\n",
       "      <td>227653568.0</td>\n",
       "      <td>231175275.5</td>\n",
       "      <td>293047880.0</td>\n",
       "      <td>287338914.0</td>\n",
       "      <td>224991142.0</td>\n",
       "    </tr>\n",
       "    <tr>\n",
       "      <th>2월</th>\n",
       "      <td>246001116.0</td>\n",
       "      <td>214298439.0</td>\n",
       "      <td>218083825.0</td>\n",
       "      <td>255946482.0</td>\n",
       "      <td>264851117.0</td>\n",
       "      <td>226646249.0</td>\n",
       "    </tr>\n",
       "    <tr>\n",
       "      <th>3월</th>\n",
       "      <td>276016440.0</td>\n",
       "      <td>242598574.0</td>\n",
       "      <td>262874087.0</td>\n",
       "      <td>291462852.0</td>\n",
       "      <td>276988930.0</td>\n",
       "      <td>259563380.0</td>\n",
       "    </tr>\n",
       "    <tr>\n",
       "      <th>4월</th>\n",
       "      <td>277268102.0</td>\n",
       "      <td>263975550.0</td>\n",
       "      <td>269400175.0</td>\n",
       "      <td>294804467.0</td>\n",
       "      <td>275890542.0</td>\n",
       "      <td>268025747.0</td>\n",
       "    </tr>\n",
       "    <tr>\n",
       "      <th>5월</th>\n",
       "      <td>275774656.0</td>\n",
       "      <td>295918625.0</td>\n",
       "      <td>273808519.0</td>\n",
       "      <td>301733907.0</td>\n",
       "      <td>291438374.0</td>\n",
       "      <td>266207783.0</td>\n",
       "    </tr>\n",
       "    <tr>\n",
       "      <th>6월</th>\n",
       "      <td>267293206.0</td>\n",
       "      <td>288598798.0</td>\n",
       "      <td>269474628.0</td>\n",
       "      <td>285145303.0</td>\n",
       "      <td>284005714.0</td>\n",
       "      <td>270112083.0</td>\n",
       "    </tr>\n",
       "    <tr>\n",
       "      <th>7월</th>\n",
       "      <td>276590174.0</td>\n",
       "      <td>292584832.0</td>\n",
       "      <td>280537278.0</td>\n",
       "      <td>292395939.0</td>\n",
       "      <td>292195000.0</td>\n",
       "      <td>274654659.0</td>\n",
       "    </tr>\n",
       "    <tr>\n",
       "      <th>8월</th>\n",
       "      <td>266461912.0</td>\n",
       "      <td>302005433.0</td>\n",
       "      <td>274327730.0</td>\n",
       "      <td>294338097.0</td>\n",
       "      <td>264936819.0</td>\n",
       "      <td>269150588.0</td>\n",
       "    </tr>\n",
       "    <tr>\n",
       "      <th>9월</th>\n",
       "      <td>253064445.0</td>\n",
       "      <td>293008364.0</td>\n",
       "      <td>265315676.0</td>\n",
       "      <td>274872597.0</td>\n",
       "      <td>257213165.0</td>\n",
       "      <td>NaN</td>\n",
       "    </tr>\n",
       "    <tr>\n",
       "      <th>10월</th>\n",
       "      <td>263118836.0</td>\n",
       "      <td>295585441.0</td>\n",
       "      <td>281863521.0</td>\n",
       "      <td>294622641.0</td>\n",
       "      <td>269114877.0</td>\n",
       "      <td>NaN</td>\n",
       "    </tr>\n",
       "    <tr>\n",
       "      <th>11월</th>\n",
       "      <td>254555577.0</td>\n",
       "      <td>282938331.0</td>\n",
       "      <td>272774028.0</td>\n",
       "      <td>293036874.0</td>\n",
       "      <td>265591295.0</td>\n",
       "      <td>NaN</td>\n",
       "    </tr>\n",
       "    <tr>\n",
       "      <th>12월</th>\n",
       "      <td>264036326.0</td>\n",
       "      <td>274825244.0</td>\n",
       "      <td>275658032.0</td>\n",
       "      <td>300392571.0</td>\n",
       "      <td>250758537.0</td>\n",
       "      <td>NaN</td>\n",
       "    </tr>\n",
       "  </tbody>\n",
       "</table>\n",
       "</div>"
      ],
      "text/plain": [
       "           2016년        2017년        2018년        2019년        2020년  \\\n",
       "1월   250005440.0  227653568.0  231175275.5  293047880.0  287338914.0   \n",
       "2월   246001116.0  214298439.0  218083825.0  255946482.0  264851117.0   \n",
       "3월   276016440.0  242598574.0  262874087.0  291462852.0  276988930.0   \n",
       "4월   277268102.0  263975550.0  269400175.0  294804467.0  275890542.0   \n",
       "5월   275774656.0  295918625.0  273808519.0  301733907.0  291438374.0   \n",
       "6월   267293206.0  288598798.0  269474628.0  285145303.0  284005714.0   \n",
       "7월   276590174.0  292584832.0  280537278.0  292395939.0  292195000.0   \n",
       "8월   266461912.0  302005433.0  274327730.0  294338097.0  264936819.0   \n",
       "9월   253064445.0  293008364.0  265315676.0  274872597.0  257213165.0   \n",
       "10월  263118836.0  295585441.0  281863521.0  294622641.0  269114877.0   \n",
       "11월  254555577.0  282938331.0  272774028.0  293036874.0  265591295.0   \n",
       "12월  264036326.0  274825244.0  275658032.0  300392571.0  250758537.0   \n",
       "\n",
       "           2021년  \n",
       "1월   224991142.0  \n",
       "2월   226646249.0  \n",
       "3월   259563380.0  \n",
       "4월   268025747.0  \n",
       "5월   266207783.0  \n",
       "6월   270112083.0  \n",
       "7월   274654659.0  \n",
       "8월   269150588.0  \n",
       "9월           NaN  \n",
       "10월          NaN  \n",
       "11월          NaN  \n",
       "12월          NaN  "
      ]
     },
     "execution_count": 97,
     "metadata": {},
     "output_type": "execute_result"
    }
   ],
   "source": [
    "traffic_data = {'2016년':year_2016, '2017년':year_2017, '2018년':year_2018,\n",
    "               '2019년':year_2019, '2020년':year_2020, '2021년':year_2021}\n",
    "dat = pd.DataFrame(traffic_data, index = ['1월', '2월', '3월', '4월', '5월', '6월', '7월', '8월', '9월', '10월', '11월', '12월'])\n",
    "dat"
   ]
  },
  {
   "cell_type": "code",
   "execution_count": 98,
   "id": "bb14504e",
   "metadata": {
    "scrolled": false
   },
   "outputs": [
    {
     "name": "stdout",
     "output_type": "stream",
     "text": [
      "<class 'pandas.core.frame.DataFrame'>\n",
      "Index: 12 entries, 1월 to 12월\n",
      "Data columns (total 6 columns):\n",
      " #   Column  Non-Null Count  Dtype  \n",
      "---  ------  --------------  -----  \n",
      " 0   2016년   12 non-null     float64\n",
      " 1   2017년   12 non-null     float64\n",
      " 2   2018년   12 non-null     float64\n",
      " 3   2019년   12 non-null     float64\n",
      " 4   2020년   12 non-null     float64\n",
      " 5   2021년   8 non-null      float64\n",
      "dtypes: float64(6)\n",
      "memory usage: 672.0+ bytes\n"
     ]
    }
   ],
   "source": [
    "dat.info()"
   ]
  },
  {
   "cell_type": "markdown",
   "id": "2e72d830",
   "metadata": {},
   "source": [
    "# 그래프 그리기"
   ]
  },
  {
   "cell_type": "code",
   "execution_count": 99,
   "id": "2bd8a8f7",
   "metadata": {},
   "outputs": [],
   "source": [
    "import plotly\n",
    "import cufflinks as cf"
   ]
  },
  {
   "cell_type": "code",
   "execution_count": 100,
   "id": "3b3d22ba",
   "metadata": {},
   "outputs": [
    {
     "data": {
      "text/html": [
       "        <script type=\"text/javascript\">\n",
       "        window.PlotlyConfig = {MathJaxConfig: 'local'};\n",
       "        if (window.MathJax) {MathJax.Hub.Config({SVG: {font: \"STIX-Web\"}});}\n",
       "        if (typeof require !== 'undefined') {\n",
       "        require.undef(\"plotly\");\n",
       "        requirejs.config({\n",
       "            paths: {\n",
       "                'plotly': ['https://cdn.plot.ly/plotly-2.4.2.min']\n",
       "            }\n",
       "        });\n",
       "        require(['plotly'], function(Plotly) {\n",
       "            window._Plotly = Plotly;\n",
       "        });\n",
       "        }\n",
       "        </script>\n",
       "        "
      ]
     },
     "metadata": {},
     "output_type": "display_data"
    },
    {
     "data": {
      "text/html": [
       "        <script type=\"text/javascript\">\n",
       "        window.PlotlyConfig = {MathJaxConfig: 'local'};\n",
       "        if (window.MathJax) {MathJax.Hub.Config({SVG: {font: \"STIX-Web\"}});}\n",
       "        if (typeof require !== 'undefined') {\n",
       "        require.undef(\"plotly\");\n",
       "        requirejs.config({\n",
       "            paths: {\n",
       "                'plotly': ['https://cdn.plot.ly/plotly-2.4.2.min']\n",
       "            }\n",
       "        });\n",
       "        require(['plotly'], function(Plotly) {\n",
       "            window._Plotly = Plotly;\n",
       "        });\n",
       "        }\n",
       "        </script>\n",
       "        "
      ]
     },
     "metadata": {},
     "output_type": "display_data"
    }
   ],
   "source": [
    "# 오프라인 모드에서도 인터렉티브한 그래픽을 가능하도록 하기\n",
    "# Enabling the offline mode for interactive plotting locally\n",
    "from plotly.offline import download_plotlyjs,init_notebook_mode,plot,iplot\n",
    "init_notebook_mode(connected=True)\n",
    "cf.go_offline()"
   ]
  },
  {
   "cell_type": "markdown",
   "id": "adee33ae",
   "metadata": {},
   "source": [
    "# 다른 연도 같은 달 비교(%)"
   ]
  },
  {
   "cell_type": "markdown",
   "id": "55b4d527",
   "metadata": {},
   "source": [
    "### 2016-2021년"
   ]
  },
  {
   "cell_type": "code",
   "execution_count": 101,
   "id": "54588142",
   "metadata": {
    "scrolled": true
   },
   "outputs": [],
   "source": [
    "dat['16-17년(%)'] = ( dat['2017년'] - dat['2016년'] ) / dat['2016년'] * 100\n",
    "dat['17-18년(%)'] = ( dat['2018년'] - dat['2017년'] ) / dat['2017년'] * 100\n",
    "dat['18-19년(%)'] = ( dat['2019년'] - dat['2018년'] ) / dat['2018년'] * 100\n",
    "dat['19-20년(%)'] = ( dat['2020년'] - dat['2019년'] ) / dat['2019년'] * 100\n",
    "dat['20-21년(%)'] = ( dat['2021년'] - dat['2020년'] ) / dat['2020년'] * 100"
   ]
  },
  {
   "cell_type": "code",
   "execution_count": 102,
   "id": "52f0c57f",
   "metadata": {},
   "outputs": [
    {
     "data": {
      "text/html": [
       "<div>\n",
       "<style scoped>\n",
       "    .dataframe tbody tr th:only-of-type {\n",
       "        vertical-align: middle;\n",
       "    }\n",
       "\n",
       "    .dataframe tbody tr th {\n",
       "        vertical-align: top;\n",
       "    }\n",
       "\n",
       "    .dataframe thead th {\n",
       "        text-align: right;\n",
       "    }\n",
       "</style>\n",
       "<table border=\"1\" class=\"dataframe\">\n",
       "  <thead>\n",
       "    <tr style=\"text-align: right;\">\n",
       "      <th></th>\n",
       "      <th>2016년</th>\n",
       "      <th>2017년</th>\n",
       "      <th>2018년</th>\n",
       "      <th>2019년</th>\n",
       "      <th>2020년</th>\n",
       "      <th>2021년</th>\n",
       "      <th>16-17년(%)</th>\n",
       "      <th>17-18년(%)</th>\n",
       "      <th>18-19년(%)</th>\n",
       "      <th>19-20년(%)</th>\n",
       "      <th>20-21년(%)</th>\n",
       "    </tr>\n",
       "  </thead>\n",
       "  <tbody>\n",
       "    <tr>\n",
       "      <th>1월</th>\n",
       "      <td>250005440.0</td>\n",
       "      <td>227653568.0</td>\n",
       "      <td>231175275.5</td>\n",
       "      <td>293047880.0</td>\n",
       "      <td>287338914.0</td>\n",
       "      <td>224991142.0</td>\n",
       "      <td>-8.940554</td>\n",
       "      <td>1.546959</td>\n",
       "      <td>26.764369</td>\n",
       "      <td>-1.948134</td>\n",
       "      <td>-21.698339</td>\n",
       "    </tr>\n",
       "    <tr>\n",
       "      <th>2월</th>\n",
       "      <td>246001116.0</td>\n",
       "      <td>214298439.0</td>\n",
       "      <td>218083825.0</td>\n",
       "      <td>255946482.0</td>\n",
       "      <td>264851117.0</td>\n",
       "      <td>226646249.0</td>\n",
       "      <td>-12.887209</td>\n",
       "      <td>1.766409</td>\n",
       "      <td>17.361515</td>\n",
       "      <td>3.479100</td>\n",
       "      <td>-14.425036</td>\n",
       "    </tr>\n",
       "    <tr>\n",
       "      <th>3월</th>\n",
       "      <td>276016440.0</td>\n",
       "      <td>242598574.0</td>\n",
       "      <td>262874087.0</td>\n",
       "      <td>291462852.0</td>\n",
       "      <td>276988930.0</td>\n",
       "      <td>259563380.0</td>\n",
       "      <td>-12.107201</td>\n",
       "      <td>8.357639</td>\n",
       "      <td>10.875460</td>\n",
       "      <td>-4.965958</td>\n",
       "      <td>-6.291064</td>\n",
       "    </tr>\n",
       "    <tr>\n",
       "      <th>4월</th>\n",
       "      <td>277268102.0</td>\n",
       "      <td>263975550.0</td>\n",
       "      <td>269400175.0</td>\n",
       "      <td>294804467.0</td>\n",
       "      <td>275890542.0</td>\n",
       "      <td>268025747.0</td>\n",
       "      <td>-4.794115</td>\n",
       "      <td>2.054973</td>\n",
       "      <td>9.429946</td>\n",
       "      <td>-6.415753</td>\n",
       "      <td>-2.850694</td>\n",
       "    </tr>\n",
       "    <tr>\n",
       "      <th>5월</th>\n",
       "      <td>275774656.0</td>\n",
       "      <td>295918625.0</td>\n",
       "      <td>273808519.0</td>\n",
       "      <td>301733907.0</td>\n",
       "      <td>291438374.0</td>\n",
       "      <td>266207783.0</td>\n",
       "      <td>7.304503</td>\n",
       "      <td>-7.471684</td>\n",
       "      <td>10.198875</td>\n",
       "      <td>-3.412123</td>\n",
       "      <td>-8.657265</td>\n",
       "    </tr>\n",
       "    <tr>\n",
       "      <th>6월</th>\n",
       "      <td>267293206.0</td>\n",
       "      <td>288598798.0</td>\n",
       "      <td>269474628.0</td>\n",
       "      <td>285145303.0</td>\n",
       "      <td>284005714.0</td>\n",
       "      <td>270112083.0</td>\n",
       "      <td>7.970869</td>\n",
       "      <td>-6.626559</td>\n",
       "      <td>5.815269</td>\n",
       "      <td>-0.399652</td>\n",
       "      <td>-4.892025</td>\n",
       "    </tr>\n",
       "    <tr>\n",
       "      <th>7월</th>\n",
       "      <td>276590174.0</td>\n",
       "      <td>292584832.0</td>\n",
       "      <td>280537278.0</td>\n",
       "      <td>292395939.0</td>\n",
       "      <td>292195000.0</td>\n",
       "      <td>274654659.0</td>\n",
       "      <td>5.782801</td>\n",
       "      <td>-4.117628</td>\n",
       "      <td>4.227125</td>\n",
       "      <td>-0.068722</td>\n",
       "      <td>-6.002957</td>\n",
       "    </tr>\n",
       "    <tr>\n",
       "      <th>8월</th>\n",
       "      <td>266461912.0</td>\n",
       "      <td>302005433.0</td>\n",
       "      <td>274327730.0</td>\n",
       "      <td>294338097.0</td>\n",
       "      <td>264936819.0</td>\n",
       "      <td>269150588.0</td>\n",
       "      <td>13.339063</td>\n",
       "      <td>-9.164637</td>\n",
       "      <td>7.294329</td>\n",
       "      <td>-9.988948</td>\n",
       "      <td>1.590481</td>\n",
       "    </tr>\n",
       "    <tr>\n",
       "      <th>9월</th>\n",
       "      <td>253064445.0</td>\n",
       "      <td>293008364.0</td>\n",
       "      <td>265315676.0</td>\n",
       "      <td>274872597.0</td>\n",
       "      <td>257213165.0</td>\n",
       "      <td>NaN</td>\n",
       "      <td>15.784090</td>\n",
       "      <td>-9.451160</td>\n",
       "      <td>3.602094</td>\n",
       "      <td>-6.424588</td>\n",
       "      <td>NaN</td>\n",
       "    </tr>\n",
       "    <tr>\n",
       "      <th>10월</th>\n",
       "      <td>263118836.0</td>\n",
       "      <td>295585441.0</td>\n",
       "      <td>281863521.0</td>\n",
       "      <td>294622641.0</td>\n",
       "      <td>269114877.0</td>\n",
       "      <td>NaN</td>\n",
       "      <td>12.339141</td>\n",
       "      <td>-4.642285</td>\n",
       "      <td>4.526701</td>\n",
       "      <td>-8.657775</td>\n",
       "      <td>NaN</td>\n",
       "    </tr>\n",
       "    <tr>\n",
       "      <th>11월</th>\n",
       "      <td>254555577.0</td>\n",
       "      <td>282938331.0</td>\n",
       "      <td>272774028.0</td>\n",
       "      <td>293036874.0</td>\n",
       "      <td>265591295.0</td>\n",
       "      <td>NaN</td>\n",
       "      <td>11.149924</td>\n",
       "      <td>-3.592409</td>\n",
       "      <td>7.428437</td>\n",
       "      <td>-9.365913</td>\n",
       "      <td>NaN</td>\n",
       "    </tr>\n",
       "    <tr>\n",
       "      <th>12월</th>\n",
       "      <td>264036326.0</td>\n",
       "      <td>274825244.0</td>\n",
       "      <td>275658032.0</td>\n",
       "      <td>300392571.0</td>\n",
       "      <td>250758537.0</td>\n",
       "      <td>NaN</td>\n",
       "      <td>4.086149</td>\n",
       "      <td>0.303025</td>\n",
       "      <td>8.972907</td>\n",
       "      <td>-16.523056</td>\n",
       "      <td>NaN</td>\n",
       "    </tr>\n",
       "  </tbody>\n",
       "</table>\n",
       "</div>"
      ],
      "text/plain": [
       "           2016년        2017년        2018년        2019년        2020년  \\\n",
       "1월   250005440.0  227653568.0  231175275.5  293047880.0  287338914.0   \n",
       "2월   246001116.0  214298439.0  218083825.0  255946482.0  264851117.0   \n",
       "3월   276016440.0  242598574.0  262874087.0  291462852.0  276988930.0   \n",
       "4월   277268102.0  263975550.0  269400175.0  294804467.0  275890542.0   \n",
       "5월   275774656.0  295918625.0  273808519.0  301733907.0  291438374.0   \n",
       "6월   267293206.0  288598798.0  269474628.0  285145303.0  284005714.0   \n",
       "7월   276590174.0  292584832.0  280537278.0  292395939.0  292195000.0   \n",
       "8월   266461912.0  302005433.0  274327730.0  294338097.0  264936819.0   \n",
       "9월   253064445.0  293008364.0  265315676.0  274872597.0  257213165.0   \n",
       "10월  263118836.0  295585441.0  281863521.0  294622641.0  269114877.0   \n",
       "11월  254555577.0  282938331.0  272774028.0  293036874.0  265591295.0   \n",
       "12월  264036326.0  274825244.0  275658032.0  300392571.0  250758537.0   \n",
       "\n",
       "           2021년  16-17년(%)  17-18년(%)  18-19년(%)  19-20년(%)  20-21년(%)  \n",
       "1월   224991142.0  -8.940554   1.546959  26.764369  -1.948134 -21.698339  \n",
       "2월   226646249.0 -12.887209   1.766409  17.361515   3.479100 -14.425036  \n",
       "3월   259563380.0 -12.107201   8.357639  10.875460  -4.965958  -6.291064  \n",
       "4월   268025747.0  -4.794115   2.054973   9.429946  -6.415753  -2.850694  \n",
       "5월   266207783.0   7.304503  -7.471684  10.198875  -3.412123  -8.657265  \n",
       "6월   270112083.0   7.970869  -6.626559   5.815269  -0.399652  -4.892025  \n",
       "7월   274654659.0   5.782801  -4.117628   4.227125  -0.068722  -6.002957  \n",
       "8월   269150588.0  13.339063  -9.164637   7.294329  -9.988948   1.590481  \n",
       "9월           NaN  15.784090  -9.451160   3.602094  -6.424588        NaN  \n",
       "10월          NaN  12.339141  -4.642285   4.526701  -8.657775        NaN  \n",
       "11월          NaN  11.149924  -3.592409   7.428437  -9.365913        NaN  \n",
       "12월          NaN   4.086149   0.303025   8.972907 -16.523056        NaN  "
      ]
     },
     "execution_count": 102,
     "metadata": {},
     "output_type": "execute_result"
    }
   ],
   "source": [
    "dat"
   ]
  },
  {
   "cell_type": "code",
   "execution_count": 103,
   "id": "8ee41ffd",
   "metadata": {},
   "outputs": [
    {
     "data": {
      "text/html": [
       "<div>\n",
       "<style scoped>\n",
       "    .dataframe tbody tr th:only-of-type {\n",
       "        vertical-align: middle;\n",
       "    }\n",
       "\n",
       "    .dataframe tbody tr th {\n",
       "        vertical-align: top;\n",
       "    }\n",
       "\n",
       "    .dataframe thead th {\n",
       "        text-align: right;\n",
       "    }\n",
       "</style>\n",
       "<table border=\"1\" class=\"dataframe\">\n",
       "  <thead>\n",
       "    <tr style=\"text-align: right;\">\n",
       "      <th></th>\n",
       "      <th>16-17년(%)</th>\n",
       "      <th>17-18년(%)</th>\n",
       "      <th>18-19년(%)</th>\n",
       "      <th>19-20년(%)</th>\n",
       "      <th>20-21년(%)</th>\n",
       "    </tr>\n",
       "  </thead>\n",
       "  <tbody>\n",
       "    <tr>\n",
       "      <th>1월</th>\n",
       "      <td>-8.940554</td>\n",
       "      <td>1.546959</td>\n",
       "      <td>26.764369</td>\n",
       "      <td>-1.948134</td>\n",
       "      <td>-21.698339</td>\n",
       "    </tr>\n",
       "    <tr>\n",
       "      <th>2월</th>\n",
       "      <td>-12.887209</td>\n",
       "      <td>1.766409</td>\n",
       "      <td>17.361515</td>\n",
       "      <td>3.479100</td>\n",
       "      <td>-14.425036</td>\n",
       "    </tr>\n",
       "    <tr>\n",
       "      <th>3월</th>\n",
       "      <td>-12.107201</td>\n",
       "      <td>8.357639</td>\n",
       "      <td>10.875460</td>\n",
       "      <td>-4.965958</td>\n",
       "      <td>-6.291064</td>\n",
       "    </tr>\n",
       "    <tr>\n",
       "      <th>4월</th>\n",
       "      <td>-4.794115</td>\n",
       "      <td>2.054973</td>\n",
       "      <td>9.429946</td>\n",
       "      <td>-6.415753</td>\n",
       "      <td>-2.850694</td>\n",
       "    </tr>\n",
       "    <tr>\n",
       "      <th>5월</th>\n",
       "      <td>7.304503</td>\n",
       "      <td>-7.471684</td>\n",
       "      <td>10.198875</td>\n",
       "      <td>-3.412123</td>\n",
       "      <td>-8.657265</td>\n",
       "    </tr>\n",
       "    <tr>\n",
       "      <th>6월</th>\n",
       "      <td>7.970869</td>\n",
       "      <td>-6.626559</td>\n",
       "      <td>5.815269</td>\n",
       "      <td>-0.399652</td>\n",
       "      <td>-4.892025</td>\n",
       "    </tr>\n",
       "    <tr>\n",
       "      <th>7월</th>\n",
       "      <td>5.782801</td>\n",
       "      <td>-4.117628</td>\n",
       "      <td>4.227125</td>\n",
       "      <td>-0.068722</td>\n",
       "      <td>-6.002957</td>\n",
       "    </tr>\n",
       "    <tr>\n",
       "      <th>8월</th>\n",
       "      <td>13.339063</td>\n",
       "      <td>-9.164637</td>\n",
       "      <td>7.294329</td>\n",
       "      <td>-9.988948</td>\n",
       "      <td>1.590481</td>\n",
       "    </tr>\n",
       "    <tr>\n",
       "      <th>9월</th>\n",
       "      <td>15.784090</td>\n",
       "      <td>-9.451160</td>\n",
       "      <td>3.602094</td>\n",
       "      <td>-6.424588</td>\n",
       "      <td>NaN</td>\n",
       "    </tr>\n",
       "    <tr>\n",
       "      <th>10월</th>\n",
       "      <td>12.339141</td>\n",
       "      <td>-4.642285</td>\n",
       "      <td>4.526701</td>\n",
       "      <td>-8.657775</td>\n",
       "      <td>NaN</td>\n",
       "    </tr>\n",
       "    <tr>\n",
       "      <th>11월</th>\n",
       "      <td>11.149924</td>\n",
       "      <td>-3.592409</td>\n",
       "      <td>7.428437</td>\n",
       "      <td>-9.365913</td>\n",
       "      <td>NaN</td>\n",
       "    </tr>\n",
       "    <tr>\n",
       "      <th>12월</th>\n",
       "      <td>4.086149</td>\n",
       "      <td>0.303025</td>\n",
       "      <td>8.972907</td>\n",
       "      <td>-16.523056</td>\n",
       "      <td>NaN</td>\n",
       "    </tr>\n",
       "  </tbody>\n",
       "</table>\n",
       "</div>"
      ],
      "text/plain": [
       "     16-17년(%)  17-18년(%)  18-19년(%)  19-20년(%)  20-21년(%)\n",
       "1월   -8.940554   1.546959  26.764369  -1.948134 -21.698339\n",
       "2월  -12.887209   1.766409  17.361515   3.479100 -14.425036\n",
       "3월  -12.107201   8.357639  10.875460  -4.965958  -6.291064\n",
       "4월   -4.794115   2.054973   9.429946  -6.415753  -2.850694\n",
       "5월    7.304503  -7.471684  10.198875  -3.412123  -8.657265\n",
       "6월    7.970869  -6.626559   5.815269  -0.399652  -4.892025\n",
       "7월    5.782801  -4.117628   4.227125  -0.068722  -6.002957\n",
       "8월   13.339063  -9.164637   7.294329  -9.988948   1.590481\n",
       "9월   15.784090  -9.451160   3.602094  -6.424588        NaN\n",
       "10월  12.339141  -4.642285   4.526701  -8.657775        NaN\n",
       "11월  11.149924  -3.592409   7.428437  -9.365913        NaN\n",
       "12월   4.086149   0.303025   8.972907 -16.523056        NaN"
      ]
     },
     "execution_count": 103,
     "metadata": {},
     "output_type": "execute_result"
    }
   ],
   "source": [
    "dat.iloc[:, 6:]"
   ]
  },
  {
   "cell_type": "markdown",
   "id": "7c6e8337",
   "metadata": {},
   "source": [
    "# 그래프"
   ]
  },
  {
   "cell_type": "code",
   "execution_count": 104,
   "id": "0edf809d",
   "metadata": {
    "scrolled": false
   },
   "outputs": [
    {
     "data": {
      "application/vnd.plotly.v1+json": {
       "config": {
        "linkText": "Export to plot.ly",
        "plotlyServerURL": "https://plot.ly",
        "showLink": true
       },
       "data": [
        {
         "line": {
          "color": "rgba(255, 153, 51, 1.0)",
          "dash": "solid",
          "shape": "linear",
          "width": 1.3
         },
         "mode": "lines",
         "name": "16-17년(%)",
         "text": "",
         "type": "scatter",
         "x": [
          "1월",
          "2월",
          "3월",
          "4월",
          "5월",
          "6월",
          "7월",
          "8월",
          "9월",
          "10월",
          "11월",
          "12월"
         ],
         "y": [
          -8.940554253539442,
          -12.887208609248749,
          -12.107201295690938,
          -4.794115119668544,
          7.304503355087133,
          7.970869263321269,
          5.782800512645832,
          13.339062507365028,
          15.784089700945545,
          12.339141314839202,
          11.149924246208913,
          4.086149115709177
         ]
        },
        {
         "line": {
          "color": "rgba(55, 128, 191, 1.0)",
          "dash": "solid",
          "shape": "linear",
          "width": 1.3
         },
         "mode": "lines",
         "name": "17-18년(%)",
         "text": "",
         "type": "scatter",
         "x": [
          "1월",
          "2월",
          "3월",
          "4월",
          "5월",
          "6월",
          "7월",
          "8월",
          "9월",
          "10월",
          "11월",
          "12월"
         ],
         "y": [
          1.5469590619374918,
          1.7664085737927377,
          8.357638985957108,
          2.05497251544698,
          -7.471684487585057,
          -6.626559130714051,
          -4.1176276697761285,
          -9.164637445446221,
          -9.451159558025449,
          -4.6422854771118445,
          -3.592409329650001,
          0.303024564948626
         ]
        },
        {
         "line": {
          "color": "rgba(50, 171, 96, 1.0)",
          "dash": "solid",
          "shape": "linear",
          "width": 1.3
         },
         "mode": "lines",
         "name": "18-19년(%)",
         "text": "",
         "type": "scatter",
         "x": [
          "1월",
          "2월",
          "3월",
          "4월",
          "5월",
          "6월",
          "7월",
          "8월",
          "9월",
          "10월",
          "11월",
          "12월"
         ],
         "y": [
          26.76436931509138,
          17.361515463148173,
          10.875459550335975,
          9.429946361393418,
          10.19887478373162,
          5.81526918370957,
          4.227124852904575,
          7.294328940060124,
          3.60209435947539,
          4.5267014173146585,
          7.428436698526151,
          8.97290705463645
         ]
        },
        {
         "line": {
          "color": "rgba(128, 0, 128, 1.0)",
          "dash": "solid",
          "shape": "linear",
          "width": 1.3
         },
         "mode": "lines",
         "name": "19-20년(%)",
         "text": "",
         "type": "scatter",
         "x": [
          "1월",
          "2월",
          "3월",
          "4월",
          "5월",
          "6월",
          "7월",
          "8월",
          "9월",
          "10월",
          "11월",
          "12월"
         ],
         "y": [
          -1.9481342093312533,
          3.479100369115447,
          -4.965957720059639,
          -6.415752513003814,
          -3.4121233183117203,
          -0.39965203284446177,
          -0.06872154267505062,
          -9.988947506173487,
          -6.4245880428742765,
          -8.657774539465892,
          -9.365913110307067,
          -16.523056424055174
         ]
        },
        {
         "line": {
          "color": "rgba(219, 64, 82, 1.0)",
          "dash": "solid",
          "shape": "linear",
          "width": 1.3
         },
         "mode": "lines",
         "name": "20-21년(%)",
         "text": "",
         "type": "scatter",
         "x": [
          "1월",
          "2월",
          "3월",
          "4월",
          "5월",
          "6월",
          "7월",
          "8월",
          "9월",
          "10월",
          "11월",
          "12월"
         ],
         "y": [
          -21.698339125761436,
          -14.425035632377567,
          -6.29106368980161,
          -2.8506939538362284,
          -8.657264537167642,
          -4.892025165381004,
          -6.002957271685005,
          1.5904807100443068,
          "",
          "",
          "",
          ""
         ]
        }
       ],
       "layout": {
        "legend": {
         "bgcolor": "#1A1A1C",
         "font": {
          "color": "#D9D9D9"
         }
        },
        "paper_bgcolor": "#1A1A1C",
        "plot_bgcolor": "#1A1A1C",
        "template": {
         "data": {
          "bar": [
           {
            "error_x": {
             "color": "#2a3f5f"
            },
            "error_y": {
             "color": "#2a3f5f"
            },
            "marker": {
             "line": {
              "color": "#E5ECF6",
              "width": 0.5
             },
             "pattern": {
              "fillmode": "overlay",
              "size": 10,
              "solidity": 0.2
             }
            },
            "type": "bar"
           }
          ],
          "barpolar": [
           {
            "marker": {
             "line": {
              "color": "#E5ECF6",
              "width": 0.5
             },
             "pattern": {
              "fillmode": "overlay",
              "size": 10,
              "solidity": 0.2
             }
            },
            "type": "barpolar"
           }
          ],
          "carpet": [
           {
            "aaxis": {
             "endlinecolor": "#2a3f5f",
             "gridcolor": "white",
             "linecolor": "white",
             "minorgridcolor": "white",
             "startlinecolor": "#2a3f5f"
            },
            "baxis": {
             "endlinecolor": "#2a3f5f",
             "gridcolor": "white",
             "linecolor": "white",
             "minorgridcolor": "white",
             "startlinecolor": "#2a3f5f"
            },
            "type": "carpet"
           }
          ],
          "choropleth": [
           {
            "colorbar": {
             "outlinewidth": 0,
             "ticks": ""
            },
            "type": "choropleth"
           }
          ],
          "contour": [
           {
            "colorbar": {
             "outlinewidth": 0,
             "ticks": ""
            },
            "colorscale": [
             [
              0,
              "#0d0887"
             ],
             [
              0.1111111111111111,
              "#46039f"
             ],
             [
              0.2222222222222222,
              "#7201a8"
             ],
             [
              0.3333333333333333,
              "#9c179e"
             ],
             [
              0.4444444444444444,
              "#bd3786"
             ],
             [
              0.5555555555555556,
              "#d8576b"
             ],
             [
              0.6666666666666666,
              "#ed7953"
             ],
             [
              0.7777777777777778,
              "#fb9f3a"
             ],
             [
              0.8888888888888888,
              "#fdca26"
             ],
             [
              1,
              "#f0f921"
             ]
            ],
            "type": "contour"
           }
          ],
          "contourcarpet": [
           {
            "colorbar": {
             "outlinewidth": 0,
             "ticks": ""
            },
            "type": "contourcarpet"
           }
          ],
          "heatmap": [
           {
            "colorbar": {
             "outlinewidth": 0,
             "ticks": ""
            },
            "colorscale": [
             [
              0,
              "#0d0887"
             ],
             [
              0.1111111111111111,
              "#46039f"
             ],
             [
              0.2222222222222222,
              "#7201a8"
             ],
             [
              0.3333333333333333,
              "#9c179e"
             ],
             [
              0.4444444444444444,
              "#bd3786"
             ],
             [
              0.5555555555555556,
              "#d8576b"
             ],
             [
              0.6666666666666666,
              "#ed7953"
             ],
             [
              0.7777777777777778,
              "#fb9f3a"
             ],
             [
              0.8888888888888888,
              "#fdca26"
             ],
             [
              1,
              "#f0f921"
             ]
            ],
            "type": "heatmap"
           }
          ],
          "heatmapgl": [
           {
            "colorbar": {
             "outlinewidth": 0,
             "ticks": ""
            },
            "colorscale": [
             [
              0,
              "#0d0887"
             ],
             [
              0.1111111111111111,
              "#46039f"
             ],
             [
              0.2222222222222222,
              "#7201a8"
             ],
             [
              0.3333333333333333,
              "#9c179e"
             ],
             [
              0.4444444444444444,
              "#bd3786"
             ],
             [
              0.5555555555555556,
              "#d8576b"
             ],
             [
              0.6666666666666666,
              "#ed7953"
             ],
             [
              0.7777777777777778,
              "#fb9f3a"
             ],
             [
              0.8888888888888888,
              "#fdca26"
             ],
             [
              1,
              "#f0f921"
             ]
            ],
            "type": "heatmapgl"
           }
          ],
          "histogram": [
           {
            "marker": {
             "pattern": {
              "fillmode": "overlay",
              "size": 10,
              "solidity": 0.2
             }
            },
            "type": "histogram"
           }
          ],
          "histogram2d": [
           {
            "colorbar": {
             "outlinewidth": 0,
             "ticks": ""
            },
            "colorscale": [
             [
              0,
              "#0d0887"
             ],
             [
              0.1111111111111111,
              "#46039f"
             ],
             [
              0.2222222222222222,
              "#7201a8"
             ],
             [
              0.3333333333333333,
              "#9c179e"
             ],
             [
              0.4444444444444444,
              "#bd3786"
             ],
             [
              0.5555555555555556,
              "#d8576b"
             ],
             [
              0.6666666666666666,
              "#ed7953"
             ],
             [
              0.7777777777777778,
              "#fb9f3a"
             ],
             [
              0.8888888888888888,
              "#fdca26"
             ],
             [
              1,
              "#f0f921"
             ]
            ],
            "type": "histogram2d"
           }
          ],
          "histogram2dcontour": [
           {
            "colorbar": {
             "outlinewidth": 0,
             "ticks": ""
            },
            "colorscale": [
             [
              0,
              "#0d0887"
             ],
             [
              0.1111111111111111,
              "#46039f"
             ],
             [
              0.2222222222222222,
              "#7201a8"
             ],
             [
              0.3333333333333333,
              "#9c179e"
             ],
             [
              0.4444444444444444,
              "#bd3786"
             ],
             [
              0.5555555555555556,
              "#d8576b"
             ],
             [
              0.6666666666666666,
              "#ed7953"
             ],
             [
              0.7777777777777778,
              "#fb9f3a"
             ],
             [
              0.8888888888888888,
              "#fdca26"
             ],
             [
              1,
              "#f0f921"
             ]
            ],
            "type": "histogram2dcontour"
           }
          ],
          "mesh3d": [
           {
            "colorbar": {
             "outlinewidth": 0,
             "ticks": ""
            },
            "type": "mesh3d"
           }
          ],
          "parcoords": [
           {
            "line": {
             "colorbar": {
              "outlinewidth": 0,
              "ticks": ""
             }
            },
            "type": "parcoords"
           }
          ],
          "pie": [
           {
            "automargin": true,
            "type": "pie"
           }
          ],
          "scatter": [
           {
            "marker": {
             "colorbar": {
              "outlinewidth": 0,
              "ticks": ""
             }
            },
            "type": "scatter"
           }
          ],
          "scatter3d": [
           {
            "line": {
             "colorbar": {
              "outlinewidth": 0,
              "ticks": ""
             }
            },
            "marker": {
             "colorbar": {
              "outlinewidth": 0,
              "ticks": ""
             }
            },
            "type": "scatter3d"
           }
          ],
          "scattercarpet": [
           {
            "marker": {
             "colorbar": {
              "outlinewidth": 0,
              "ticks": ""
             }
            },
            "type": "scattercarpet"
           }
          ],
          "scattergeo": [
           {
            "marker": {
             "colorbar": {
              "outlinewidth": 0,
              "ticks": ""
             }
            },
            "type": "scattergeo"
           }
          ],
          "scattergl": [
           {
            "marker": {
             "colorbar": {
              "outlinewidth": 0,
              "ticks": ""
             }
            },
            "type": "scattergl"
           }
          ],
          "scattermapbox": [
           {
            "marker": {
             "colorbar": {
              "outlinewidth": 0,
              "ticks": ""
             }
            },
            "type": "scattermapbox"
           }
          ],
          "scatterpolar": [
           {
            "marker": {
             "colorbar": {
              "outlinewidth": 0,
              "ticks": ""
             }
            },
            "type": "scatterpolar"
           }
          ],
          "scatterpolargl": [
           {
            "marker": {
             "colorbar": {
              "outlinewidth": 0,
              "ticks": ""
             }
            },
            "type": "scatterpolargl"
           }
          ],
          "scatterternary": [
           {
            "marker": {
             "colorbar": {
              "outlinewidth": 0,
              "ticks": ""
             }
            },
            "type": "scatterternary"
           }
          ],
          "surface": [
           {
            "colorbar": {
             "outlinewidth": 0,
             "ticks": ""
            },
            "colorscale": [
             [
              0,
              "#0d0887"
             ],
             [
              0.1111111111111111,
              "#46039f"
             ],
             [
              0.2222222222222222,
              "#7201a8"
             ],
             [
              0.3333333333333333,
              "#9c179e"
             ],
             [
              0.4444444444444444,
              "#bd3786"
             ],
             [
              0.5555555555555556,
              "#d8576b"
             ],
             [
              0.6666666666666666,
              "#ed7953"
             ],
             [
              0.7777777777777778,
              "#fb9f3a"
             ],
             [
              0.8888888888888888,
              "#fdca26"
             ],
             [
              1,
              "#f0f921"
             ]
            ],
            "type": "surface"
           }
          ],
          "table": [
           {
            "cells": {
             "fill": {
              "color": "#EBF0F8"
             },
             "line": {
              "color": "white"
             }
            },
            "header": {
             "fill": {
              "color": "#C8D4E3"
             },
             "line": {
              "color": "white"
             }
            },
            "type": "table"
           }
          ]
         },
         "layout": {
          "annotationdefaults": {
           "arrowcolor": "#2a3f5f",
           "arrowhead": 0,
           "arrowwidth": 1
          },
          "autotypenumbers": "strict",
          "coloraxis": {
           "colorbar": {
            "outlinewidth": 0,
            "ticks": ""
           }
          },
          "colorscale": {
           "diverging": [
            [
             0,
             "#8e0152"
            ],
            [
             0.1,
             "#c51b7d"
            ],
            [
             0.2,
             "#de77ae"
            ],
            [
             0.3,
             "#f1b6da"
            ],
            [
             0.4,
             "#fde0ef"
            ],
            [
             0.5,
             "#f7f7f7"
            ],
            [
             0.6,
             "#e6f5d0"
            ],
            [
             0.7,
             "#b8e186"
            ],
            [
             0.8,
             "#7fbc41"
            ],
            [
             0.9,
             "#4d9221"
            ],
            [
             1,
             "#276419"
            ]
           ],
           "sequential": [
            [
             0,
             "#0d0887"
            ],
            [
             0.1111111111111111,
             "#46039f"
            ],
            [
             0.2222222222222222,
             "#7201a8"
            ],
            [
             0.3333333333333333,
             "#9c179e"
            ],
            [
             0.4444444444444444,
             "#bd3786"
            ],
            [
             0.5555555555555556,
             "#d8576b"
            ],
            [
             0.6666666666666666,
             "#ed7953"
            ],
            [
             0.7777777777777778,
             "#fb9f3a"
            ],
            [
             0.8888888888888888,
             "#fdca26"
            ],
            [
             1,
             "#f0f921"
            ]
           ],
           "sequentialminus": [
            [
             0,
             "#0d0887"
            ],
            [
             0.1111111111111111,
             "#46039f"
            ],
            [
             0.2222222222222222,
             "#7201a8"
            ],
            [
             0.3333333333333333,
             "#9c179e"
            ],
            [
             0.4444444444444444,
             "#bd3786"
            ],
            [
             0.5555555555555556,
             "#d8576b"
            ],
            [
             0.6666666666666666,
             "#ed7953"
            ],
            [
             0.7777777777777778,
             "#fb9f3a"
            ],
            [
             0.8888888888888888,
             "#fdca26"
            ],
            [
             1,
             "#f0f921"
            ]
           ]
          },
          "colorway": [
           "#636efa",
           "#EF553B",
           "#00cc96",
           "#ab63fa",
           "#FFA15A",
           "#19d3f3",
           "#FF6692",
           "#B6E880",
           "#FF97FF",
           "#FECB52"
          ],
          "font": {
           "color": "#2a3f5f"
          },
          "geo": {
           "bgcolor": "white",
           "lakecolor": "white",
           "landcolor": "#E5ECF6",
           "showlakes": true,
           "showland": true,
           "subunitcolor": "white"
          },
          "hoverlabel": {
           "align": "left"
          },
          "hovermode": "closest",
          "mapbox": {
           "style": "light"
          },
          "paper_bgcolor": "white",
          "plot_bgcolor": "#E5ECF6",
          "polar": {
           "angularaxis": {
            "gridcolor": "white",
            "linecolor": "white",
            "ticks": ""
           },
           "bgcolor": "#E5ECF6",
           "radialaxis": {
            "gridcolor": "white",
            "linecolor": "white",
            "ticks": ""
           }
          },
          "scene": {
           "xaxis": {
            "backgroundcolor": "#E5ECF6",
            "gridcolor": "white",
            "gridwidth": 2,
            "linecolor": "white",
            "showbackground": true,
            "ticks": "",
            "zerolinecolor": "white"
           },
           "yaxis": {
            "backgroundcolor": "#E5ECF6",
            "gridcolor": "white",
            "gridwidth": 2,
            "linecolor": "white",
            "showbackground": true,
            "ticks": "",
            "zerolinecolor": "white"
           },
           "zaxis": {
            "backgroundcolor": "#E5ECF6",
            "gridcolor": "white",
            "gridwidth": 2,
            "linecolor": "white",
            "showbackground": true,
            "ticks": "",
            "zerolinecolor": "white"
           }
          },
          "shapedefaults": {
           "line": {
            "color": "#2a3f5f"
           }
          },
          "ternary": {
           "aaxis": {
            "gridcolor": "white",
            "linecolor": "white",
            "ticks": ""
           },
           "baxis": {
            "gridcolor": "white",
            "linecolor": "white",
            "ticks": ""
           },
           "bgcolor": "#E5ECF6",
           "caxis": {
            "gridcolor": "white",
            "linecolor": "white",
            "ticks": ""
           }
          },
          "title": {
           "x": 0.05
          },
          "xaxis": {
           "automargin": true,
           "gridcolor": "white",
           "linecolor": "white",
           "ticks": "",
           "title": {
            "standoff": 15
           },
           "zerolinecolor": "white",
           "zerolinewidth": 2
          },
          "yaxis": {
           "automargin": true,
           "gridcolor": "white",
           "linecolor": "white",
           "ticks": "",
           "title": {
            "standoff": 15
           },
           "zerolinecolor": "white",
           "zerolinewidth": 2
          }
         }
        },
        "title": {
         "font": {
          "color": "#D9D9D9"
         },
         "text": "다른 연도, 같은 달 차량 통행량 변화"
        },
        "xaxis": {
         "gridcolor": "#434343",
         "showgrid": true,
         "tickfont": {
          "color": "#C2C2C2"
         },
         "title": {
          "font": {
           "color": "#D9D9D9"
          },
          "text": ""
         },
         "zerolinecolor": "#666570"
        },
        "yaxis": {
         "gridcolor": "#434343",
         "showgrid": true,
         "tickfont": {
          "color": "#C2C2C2"
         },
         "title": {
          "font": {
           "color": "#D9D9D9"
          },
          "text": ""
         },
         "zerolinecolor": "#666570"
        }
       }
      },
      "text/html": [
       "<div>                            <div id=\"5bee46f8-4c61-47c8-b951-8e53fcc3a5b4\" class=\"plotly-graph-div\" style=\"height:525px; width:100%;\"></div>            <script type=\"text/javascript\">                require([\"plotly\"], function(Plotly) {                    window.PLOTLYENV=window.PLOTLYENV || {};\n",
       "                    window.PLOTLYENV.BASE_URL='https://plot.ly';                                    if (document.getElementById(\"5bee46f8-4c61-47c8-b951-8e53fcc3a5b4\")) {                    Plotly.newPlot(                        \"5bee46f8-4c61-47c8-b951-8e53fcc3a5b4\",                        [{\"line\":{\"color\":\"rgba(255, 153, 51, 1.0)\",\"dash\":\"solid\",\"shape\":\"linear\",\"width\":1.3},\"mode\":\"lines\",\"name\":\"16-17\\ub144(%)\",\"text\":\"\",\"type\":\"scatter\",\"x\":[\"1\\uc6d4\",\"2\\uc6d4\",\"3\\uc6d4\",\"4\\uc6d4\",\"5\\uc6d4\",\"6\\uc6d4\",\"7\\uc6d4\",\"8\\uc6d4\",\"9\\uc6d4\",\"10\\uc6d4\",\"11\\uc6d4\",\"12\\uc6d4\"],\"y\":[-8.940554253539442,-12.887208609248749,-12.107201295690938,-4.794115119668544,7.304503355087133,7.970869263321269,5.782800512645832,13.339062507365028,15.784089700945545,12.339141314839202,11.149924246208913,4.086149115709177]},{\"line\":{\"color\":\"rgba(55, 128, 191, 1.0)\",\"dash\":\"solid\",\"shape\":\"linear\",\"width\":1.3},\"mode\":\"lines\",\"name\":\"17-18\\ub144(%)\",\"text\":\"\",\"type\":\"scatter\",\"x\":[\"1\\uc6d4\",\"2\\uc6d4\",\"3\\uc6d4\",\"4\\uc6d4\",\"5\\uc6d4\",\"6\\uc6d4\",\"7\\uc6d4\",\"8\\uc6d4\",\"9\\uc6d4\",\"10\\uc6d4\",\"11\\uc6d4\",\"12\\uc6d4\"],\"y\":[1.5469590619374918,1.7664085737927377,8.357638985957108,2.05497251544698,-7.471684487585057,-6.626559130714051,-4.1176276697761285,-9.164637445446221,-9.451159558025449,-4.6422854771118445,-3.592409329650001,0.303024564948626]},{\"line\":{\"color\":\"rgba(50, 171, 96, 1.0)\",\"dash\":\"solid\",\"shape\":\"linear\",\"width\":1.3},\"mode\":\"lines\",\"name\":\"18-19\\ub144(%)\",\"text\":\"\",\"type\":\"scatter\",\"x\":[\"1\\uc6d4\",\"2\\uc6d4\",\"3\\uc6d4\",\"4\\uc6d4\",\"5\\uc6d4\",\"6\\uc6d4\",\"7\\uc6d4\",\"8\\uc6d4\",\"9\\uc6d4\",\"10\\uc6d4\",\"11\\uc6d4\",\"12\\uc6d4\"],\"y\":[26.76436931509138,17.361515463148173,10.875459550335975,9.429946361393418,10.19887478373162,5.81526918370957,4.227124852904575,7.294328940060124,3.60209435947539,4.5267014173146585,7.428436698526151,8.97290705463645]},{\"line\":{\"color\":\"rgba(128, 0, 128, 1.0)\",\"dash\":\"solid\",\"shape\":\"linear\",\"width\":1.3},\"mode\":\"lines\",\"name\":\"19-20\\ub144(%)\",\"text\":\"\",\"type\":\"scatter\",\"x\":[\"1\\uc6d4\",\"2\\uc6d4\",\"3\\uc6d4\",\"4\\uc6d4\",\"5\\uc6d4\",\"6\\uc6d4\",\"7\\uc6d4\",\"8\\uc6d4\",\"9\\uc6d4\",\"10\\uc6d4\",\"11\\uc6d4\",\"12\\uc6d4\"],\"y\":[-1.9481342093312533,3.479100369115447,-4.965957720059639,-6.415752513003814,-3.4121233183117203,-0.39965203284446177,-0.06872154267505062,-9.988947506173487,-6.4245880428742765,-8.657774539465892,-9.365913110307067,-16.523056424055174]},{\"line\":{\"color\":\"rgba(219, 64, 82, 1.0)\",\"dash\":\"solid\",\"shape\":\"linear\",\"width\":1.3},\"mode\":\"lines\",\"name\":\"20-21\\ub144(%)\",\"text\":\"\",\"type\":\"scatter\",\"x\":[\"1\\uc6d4\",\"2\\uc6d4\",\"3\\uc6d4\",\"4\\uc6d4\",\"5\\uc6d4\",\"6\\uc6d4\",\"7\\uc6d4\",\"8\\uc6d4\",\"9\\uc6d4\",\"10\\uc6d4\",\"11\\uc6d4\",\"12\\uc6d4\"],\"y\":[-21.698339125761436,-14.425035632377567,-6.29106368980161,-2.8506939538362284,-8.657264537167642,-4.892025165381004,-6.002957271685005,1.5904807100443068,\"\",\"\",\"\",\"\"]}],                        {\"legend\":{\"bgcolor\":\"#1A1A1C\",\"font\":{\"color\":\"#D9D9D9\"}},\"paper_bgcolor\":\"#1A1A1C\",\"plot_bgcolor\":\"#1A1A1C\",\"template\":{\"data\":{\"bar\":[{\"error_x\":{\"color\":\"#2a3f5f\"},\"error_y\":{\"color\":\"#2a3f5f\"},\"marker\":{\"line\":{\"color\":\"#E5ECF6\",\"width\":0.5},\"pattern\":{\"fillmode\":\"overlay\",\"size\":10,\"solidity\":0.2}},\"type\":\"bar\"}],\"barpolar\":[{\"marker\":{\"line\":{\"color\":\"#E5ECF6\",\"width\":0.5},\"pattern\":{\"fillmode\":\"overlay\",\"size\":10,\"solidity\":0.2}},\"type\":\"barpolar\"}],\"carpet\":[{\"aaxis\":{\"endlinecolor\":\"#2a3f5f\",\"gridcolor\":\"white\",\"linecolor\":\"white\",\"minorgridcolor\":\"white\",\"startlinecolor\":\"#2a3f5f\"},\"baxis\":{\"endlinecolor\":\"#2a3f5f\",\"gridcolor\":\"white\",\"linecolor\":\"white\",\"minorgridcolor\":\"white\",\"startlinecolor\":\"#2a3f5f\"},\"type\":\"carpet\"}],\"choropleth\":[{\"colorbar\":{\"outlinewidth\":0,\"ticks\":\"\"},\"type\":\"choropleth\"}],\"contour\":[{\"colorbar\":{\"outlinewidth\":0,\"ticks\":\"\"},\"colorscale\":[[0.0,\"#0d0887\"],[0.1111111111111111,\"#46039f\"],[0.2222222222222222,\"#7201a8\"],[0.3333333333333333,\"#9c179e\"],[0.4444444444444444,\"#bd3786\"],[0.5555555555555556,\"#d8576b\"],[0.6666666666666666,\"#ed7953\"],[0.7777777777777778,\"#fb9f3a\"],[0.8888888888888888,\"#fdca26\"],[1.0,\"#f0f921\"]],\"type\":\"contour\"}],\"contourcarpet\":[{\"colorbar\":{\"outlinewidth\":0,\"ticks\":\"\"},\"type\":\"contourcarpet\"}],\"heatmap\":[{\"colorbar\":{\"outlinewidth\":0,\"ticks\":\"\"},\"colorscale\":[[0.0,\"#0d0887\"],[0.1111111111111111,\"#46039f\"],[0.2222222222222222,\"#7201a8\"],[0.3333333333333333,\"#9c179e\"],[0.4444444444444444,\"#bd3786\"],[0.5555555555555556,\"#d8576b\"],[0.6666666666666666,\"#ed7953\"],[0.7777777777777778,\"#fb9f3a\"],[0.8888888888888888,\"#fdca26\"],[1.0,\"#f0f921\"]],\"type\":\"heatmap\"}],\"heatmapgl\":[{\"colorbar\":{\"outlinewidth\":0,\"ticks\":\"\"},\"colorscale\":[[0.0,\"#0d0887\"],[0.1111111111111111,\"#46039f\"],[0.2222222222222222,\"#7201a8\"],[0.3333333333333333,\"#9c179e\"],[0.4444444444444444,\"#bd3786\"],[0.5555555555555556,\"#d8576b\"],[0.6666666666666666,\"#ed7953\"],[0.7777777777777778,\"#fb9f3a\"],[0.8888888888888888,\"#fdca26\"],[1.0,\"#f0f921\"]],\"type\":\"heatmapgl\"}],\"histogram\":[{\"marker\":{\"pattern\":{\"fillmode\":\"overlay\",\"size\":10,\"solidity\":0.2}},\"type\":\"histogram\"}],\"histogram2d\":[{\"colorbar\":{\"outlinewidth\":0,\"ticks\":\"\"},\"colorscale\":[[0.0,\"#0d0887\"],[0.1111111111111111,\"#46039f\"],[0.2222222222222222,\"#7201a8\"],[0.3333333333333333,\"#9c179e\"],[0.4444444444444444,\"#bd3786\"],[0.5555555555555556,\"#d8576b\"],[0.6666666666666666,\"#ed7953\"],[0.7777777777777778,\"#fb9f3a\"],[0.8888888888888888,\"#fdca26\"],[1.0,\"#f0f921\"]],\"type\":\"histogram2d\"}],\"histogram2dcontour\":[{\"colorbar\":{\"outlinewidth\":0,\"ticks\":\"\"},\"colorscale\":[[0.0,\"#0d0887\"],[0.1111111111111111,\"#46039f\"],[0.2222222222222222,\"#7201a8\"],[0.3333333333333333,\"#9c179e\"],[0.4444444444444444,\"#bd3786\"],[0.5555555555555556,\"#d8576b\"],[0.6666666666666666,\"#ed7953\"],[0.7777777777777778,\"#fb9f3a\"],[0.8888888888888888,\"#fdca26\"],[1.0,\"#f0f921\"]],\"type\":\"histogram2dcontour\"}],\"mesh3d\":[{\"colorbar\":{\"outlinewidth\":0,\"ticks\":\"\"},\"type\":\"mesh3d\"}],\"parcoords\":[{\"line\":{\"colorbar\":{\"outlinewidth\":0,\"ticks\":\"\"}},\"type\":\"parcoords\"}],\"pie\":[{\"automargin\":true,\"type\":\"pie\"}],\"scatter\":[{\"marker\":{\"colorbar\":{\"outlinewidth\":0,\"ticks\":\"\"}},\"type\":\"scatter\"}],\"scatter3d\":[{\"line\":{\"colorbar\":{\"outlinewidth\":0,\"ticks\":\"\"}},\"marker\":{\"colorbar\":{\"outlinewidth\":0,\"ticks\":\"\"}},\"type\":\"scatter3d\"}],\"scattercarpet\":[{\"marker\":{\"colorbar\":{\"outlinewidth\":0,\"ticks\":\"\"}},\"type\":\"scattercarpet\"}],\"scattergeo\":[{\"marker\":{\"colorbar\":{\"outlinewidth\":0,\"ticks\":\"\"}},\"type\":\"scattergeo\"}],\"scattergl\":[{\"marker\":{\"colorbar\":{\"outlinewidth\":0,\"ticks\":\"\"}},\"type\":\"scattergl\"}],\"scattermapbox\":[{\"marker\":{\"colorbar\":{\"outlinewidth\":0,\"ticks\":\"\"}},\"type\":\"scattermapbox\"}],\"scatterpolar\":[{\"marker\":{\"colorbar\":{\"outlinewidth\":0,\"ticks\":\"\"}},\"type\":\"scatterpolar\"}],\"scatterpolargl\":[{\"marker\":{\"colorbar\":{\"outlinewidth\":0,\"ticks\":\"\"}},\"type\":\"scatterpolargl\"}],\"scatterternary\":[{\"marker\":{\"colorbar\":{\"outlinewidth\":0,\"ticks\":\"\"}},\"type\":\"scatterternary\"}],\"surface\":[{\"colorbar\":{\"outlinewidth\":0,\"ticks\":\"\"},\"colorscale\":[[0.0,\"#0d0887\"],[0.1111111111111111,\"#46039f\"],[0.2222222222222222,\"#7201a8\"],[0.3333333333333333,\"#9c179e\"],[0.4444444444444444,\"#bd3786\"],[0.5555555555555556,\"#d8576b\"],[0.6666666666666666,\"#ed7953\"],[0.7777777777777778,\"#fb9f3a\"],[0.8888888888888888,\"#fdca26\"],[1.0,\"#f0f921\"]],\"type\":\"surface\"}],\"table\":[{\"cells\":{\"fill\":{\"color\":\"#EBF0F8\"},\"line\":{\"color\":\"white\"}},\"header\":{\"fill\":{\"color\":\"#C8D4E3\"},\"line\":{\"color\":\"white\"}},\"type\":\"table\"}]},\"layout\":{\"annotationdefaults\":{\"arrowcolor\":\"#2a3f5f\",\"arrowhead\":0,\"arrowwidth\":1},\"autotypenumbers\":\"strict\",\"coloraxis\":{\"colorbar\":{\"outlinewidth\":0,\"ticks\":\"\"}},\"colorscale\":{\"diverging\":[[0,\"#8e0152\"],[0.1,\"#c51b7d\"],[0.2,\"#de77ae\"],[0.3,\"#f1b6da\"],[0.4,\"#fde0ef\"],[0.5,\"#f7f7f7\"],[0.6,\"#e6f5d0\"],[0.7,\"#b8e186\"],[0.8,\"#7fbc41\"],[0.9,\"#4d9221\"],[1,\"#276419\"]],\"sequential\":[[0.0,\"#0d0887\"],[0.1111111111111111,\"#46039f\"],[0.2222222222222222,\"#7201a8\"],[0.3333333333333333,\"#9c179e\"],[0.4444444444444444,\"#bd3786\"],[0.5555555555555556,\"#d8576b\"],[0.6666666666666666,\"#ed7953\"],[0.7777777777777778,\"#fb9f3a\"],[0.8888888888888888,\"#fdca26\"],[1.0,\"#f0f921\"]],\"sequentialminus\":[[0.0,\"#0d0887\"],[0.1111111111111111,\"#46039f\"],[0.2222222222222222,\"#7201a8\"],[0.3333333333333333,\"#9c179e\"],[0.4444444444444444,\"#bd3786\"],[0.5555555555555556,\"#d8576b\"],[0.6666666666666666,\"#ed7953\"],[0.7777777777777778,\"#fb9f3a\"],[0.8888888888888888,\"#fdca26\"],[1.0,\"#f0f921\"]]},\"colorway\":[\"#636efa\",\"#EF553B\",\"#00cc96\",\"#ab63fa\",\"#FFA15A\",\"#19d3f3\",\"#FF6692\",\"#B6E880\",\"#FF97FF\",\"#FECB52\"],\"font\":{\"color\":\"#2a3f5f\"},\"geo\":{\"bgcolor\":\"white\",\"lakecolor\":\"white\",\"landcolor\":\"#E5ECF6\",\"showlakes\":true,\"showland\":true,\"subunitcolor\":\"white\"},\"hoverlabel\":{\"align\":\"left\"},\"hovermode\":\"closest\",\"mapbox\":{\"style\":\"light\"},\"paper_bgcolor\":\"white\",\"plot_bgcolor\":\"#E5ECF6\",\"polar\":{\"angularaxis\":{\"gridcolor\":\"white\",\"linecolor\":\"white\",\"ticks\":\"\"},\"bgcolor\":\"#E5ECF6\",\"radialaxis\":{\"gridcolor\":\"white\",\"linecolor\":\"white\",\"ticks\":\"\"}},\"scene\":{\"xaxis\":{\"backgroundcolor\":\"#E5ECF6\",\"gridcolor\":\"white\",\"gridwidth\":2,\"linecolor\":\"white\",\"showbackground\":true,\"ticks\":\"\",\"zerolinecolor\":\"white\"},\"yaxis\":{\"backgroundcolor\":\"#E5ECF6\",\"gridcolor\":\"white\",\"gridwidth\":2,\"linecolor\":\"white\",\"showbackground\":true,\"ticks\":\"\",\"zerolinecolor\":\"white\"},\"zaxis\":{\"backgroundcolor\":\"#E5ECF6\",\"gridcolor\":\"white\",\"gridwidth\":2,\"linecolor\":\"white\",\"showbackground\":true,\"ticks\":\"\",\"zerolinecolor\":\"white\"}},\"shapedefaults\":{\"line\":{\"color\":\"#2a3f5f\"}},\"ternary\":{\"aaxis\":{\"gridcolor\":\"white\",\"linecolor\":\"white\",\"ticks\":\"\"},\"baxis\":{\"gridcolor\":\"white\",\"linecolor\":\"white\",\"ticks\":\"\"},\"bgcolor\":\"#E5ECF6\",\"caxis\":{\"gridcolor\":\"white\",\"linecolor\":\"white\",\"ticks\":\"\"}},\"title\":{\"x\":0.05},\"xaxis\":{\"automargin\":true,\"gridcolor\":\"white\",\"linecolor\":\"white\",\"ticks\":\"\",\"title\":{\"standoff\":15},\"zerolinecolor\":\"white\",\"zerolinewidth\":2},\"yaxis\":{\"automargin\":true,\"gridcolor\":\"white\",\"linecolor\":\"white\",\"ticks\":\"\",\"title\":{\"standoff\":15},\"zerolinecolor\":\"white\",\"zerolinewidth\":2}}},\"title\":{\"font\":{\"color\":\"#D9D9D9\"},\"text\":\"\\ub2e4\\ub978 \\uc5f0\\ub3c4, \\uac19\\uc740 \\ub2ec \\ucc28\\ub7c9 \\ud1b5\\ud589\\ub7c9 \\ubcc0\\ud654\"},\"xaxis\":{\"gridcolor\":\"#434343\",\"showgrid\":true,\"tickfont\":{\"color\":\"#C2C2C2\"},\"title\":{\"font\":{\"color\":\"#D9D9D9\"},\"text\":\"\"},\"zerolinecolor\":\"#666570\"},\"yaxis\":{\"gridcolor\":\"#434343\",\"showgrid\":true,\"tickfont\":{\"color\":\"#C2C2C2\"},\"title\":{\"font\":{\"color\":\"#D9D9D9\"},\"text\":\"\"},\"zerolinecolor\":\"#666570\"}},                        {\"showLink\": true, \"linkText\": \"Export to plot.ly\", \"plotlyServerURL\": \"https://plot.ly\", \"responsive\": true}                    ).then(function(){\n",
       "                            \n",
       "var gd = document.getElementById('5bee46f8-4c61-47c8-b951-8e53fcc3a5b4');\n",
       "var x = new MutationObserver(function (mutations, observer) {{\n",
       "        var display = window.getComputedStyle(gd).display;\n",
       "        if (!display || display === 'none') {{\n",
       "            console.log([gd, 'removed!']);\n",
       "            Plotly.purge(gd);\n",
       "            observer.disconnect();\n",
       "        }}\n",
       "}});\n",
       "\n",
       "// Listen for the removal of the full notebook cells\n",
       "var notebookContainer = gd.closest('#notebook-container');\n",
       "if (notebookContainer) {{\n",
       "    x.observe(notebookContainer, {childList: true});\n",
       "}}\n",
       "\n",
       "// Listen for the clearing of the current output cell\n",
       "var outputEl = gd.closest('.output');\n",
       "if (outputEl) {{\n",
       "    x.observe(outputEl, {childList: true});\n",
       "}}\n",
       "\n",
       "                        })                };                });            </script>        </div>"
      ]
     },
     "metadata": {},
     "output_type": "display_data"
    }
   ],
   "source": [
    "# 2015-2021 연도별 통행량 변화 비율(%)\n",
    "dat.iloc[:, 6:].iplot(kind='line', title='다른 연도, 같은 달 차량 통행량 변화', theme='space')"
   ]
  },
  {
   "cell_type": "code",
   "execution_count": 105,
   "id": "60a0ea63",
   "metadata": {},
   "outputs": [
    {
     "data": {
      "application/vnd.plotly.v1+json": {
       "config": {
        "linkText": "Export to plot.ly",
        "plotlyServerURL": "https://plot.ly",
        "showLink": true
       },
       "data": [
        {
         "line": {
          "color": "rgba(255, 153, 51, 1.0)",
          "dash": "solid",
          "shape": "linear",
          "width": 1.3
         },
         "mode": "lines",
         "name": "19-20년(%)",
         "text": "",
         "type": "scatter",
         "x": [
          "1월",
          "2월",
          "3월",
          "4월",
          "5월",
          "6월",
          "7월",
          "8월",
          "9월",
          "10월",
          "11월",
          "12월"
         ],
         "y": [
          -1.9481342093312533,
          3.479100369115447,
          -4.965957720059639,
          -6.415752513003814,
          -3.4121233183117203,
          -0.39965203284446177,
          -0.06872154267505062,
          -9.988947506173487,
          -6.4245880428742765,
          -8.657774539465892,
          -9.365913110307067,
          -16.523056424055174
         ]
        },
        {
         "line": {
          "color": "rgba(55, 128, 191, 1.0)",
          "dash": "solid",
          "shape": "linear",
          "width": 1.3
         },
         "mode": "lines",
         "name": "20-21년(%)",
         "text": "",
         "type": "scatter",
         "x": [
          "1월",
          "2월",
          "3월",
          "4월",
          "5월",
          "6월",
          "7월",
          "8월",
          "9월",
          "10월",
          "11월",
          "12월"
         ],
         "y": [
          -21.698339125761436,
          -14.425035632377567,
          -6.29106368980161,
          -2.8506939538362284,
          -8.657264537167642,
          -4.892025165381004,
          -6.002957271685005,
          1.5904807100443068,
          "",
          "",
          "",
          ""
         ]
        }
       ],
       "layout": {
        "legend": {
         "bgcolor": "#1A1A1C",
         "font": {
          "color": "#D9D9D9"
         }
        },
        "paper_bgcolor": "#1A1A1C",
        "plot_bgcolor": "#1A1A1C",
        "template": {
         "data": {
          "bar": [
           {
            "error_x": {
             "color": "#2a3f5f"
            },
            "error_y": {
             "color": "#2a3f5f"
            },
            "marker": {
             "line": {
              "color": "#E5ECF6",
              "width": 0.5
             },
             "pattern": {
              "fillmode": "overlay",
              "size": 10,
              "solidity": 0.2
             }
            },
            "type": "bar"
           }
          ],
          "barpolar": [
           {
            "marker": {
             "line": {
              "color": "#E5ECF6",
              "width": 0.5
             },
             "pattern": {
              "fillmode": "overlay",
              "size": 10,
              "solidity": 0.2
             }
            },
            "type": "barpolar"
           }
          ],
          "carpet": [
           {
            "aaxis": {
             "endlinecolor": "#2a3f5f",
             "gridcolor": "white",
             "linecolor": "white",
             "minorgridcolor": "white",
             "startlinecolor": "#2a3f5f"
            },
            "baxis": {
             "endlinecolor": "#2a3f5f",
             "gridcolor": "white",
             "linecolor": "white",
             "minorgridcolor": "white",
             "startlinecolor": "#2a3f5f"
            },
            "type": "carpet"
           }
          ],
          "choropleth": [
           {
            "colorbar": {
             "outlinewidth": 0,
             "ticks": ""
            },
            "type": "choropleth"
           }
          ],
          "contour": [
           {
            "colorbar": {
             "outlinewidth": 0,
             "ticks": ""
            },
            "colorscale": [
             [
              0,
              "#0d0887"
             ],
             [
              0.1111111111111111,
              "#46039f"
             ],
             [
              0.2222222222222222,
              "#7201a8"
             ],
             [
              0.3333333333333333,
              "#9c179e"
             ],
             [
              0.4444444444444444,
              "#bd3786"
             ],
             [
              0.5555555555555556,
              "#d8576b"
             ],
             [
              0.6666666666666666,
              "#ed7953"
             ],
             [
              0.7777777777777778,
              "#fb9f3a"
             ],
             [
              0.8888888888888888,
              "#fdca26"
             ],
             [
              1,
              "#f0f921"
             ]
            ],
            "type": "contour"
           }
          ],
          "contourcarpet": [
           {
            "colorbar": {
             "outlinewidth": 0,
             "ticks": ""
            },
            "type": "contourcarpet"
           }
          ],
          "heatmap": [
           {
            "colorbar": {
             "outlinewidth": 0,
             "ticks": ""
            },
            "colorscale": [
             [
              0,
              "#0d0887"
             ],
             [
              0.1111111111111111,
              "#46039f"
             ],
             [
              0.2222222222222222,
              "#7201a8"
             ],
             [
              0.3333333333333333,
              "#9c179e"
             ],
             [
              0.4444444444444444,
              "#bd3786"
             ],
             [
              0.5555555555555556,
              "#d8576b"
             ],
             [
              0.6666666666666666,
              "#ed7953"
             ],
             [
              0.7777777777777778,
              "#fb9f3a"
             ],
             [
              0.8888888888888888,
              "#fdca26"
             ],
             [
              1,
              "#f0f921"
             ]
            ],
            "type": "heatmap"
           }
          ],
          "heatmapgl": [
           {
            "colorbar": {
             "outlinewidth": 0,
             "ticks": ""
            },
            "colorscale": [
             [
              0,
              "#0d0887"
             ],
             [
              0.1111111111111111,
              "#46039f"
             ],
             [
              0.2222222222222222,
              "#7201a8"
             ],
             [
              0.3333333333333333,
              "#9c179e"
             ],
             [
              0.4444444444444444,
              "#bd3786"
             ],
             [
              0.5555555555555556,
              "#d8576b"
             ],
             [
              0.6666666666666666,
              "#ed7953"
             ],
             [
              0.7777777777777778,
              "#fb9f3a"
             ],
             [
              0.8888888888888888,
              "#fdca26"
             ],
             [
              1,
              "#f0f921"
             ]
            ],
            "type": "heatmapgl"
           }
          ],
          "histogram": [
           {
            "marker": {
             "pattern": {
              "fillmode": "overlay",
              "size": 10,
              "solidity": 0.2
             }
            },
            "type": "histogram"
           }
          ],
          "histogram2d": [
           {
            "colorbar": {
             "outlinewidth": 0,
             "ticks": ""
            },
            "colorscale": [
             [
              0,
              "#0d0887"
             ],
             [
              0.1111111111111111,
              "#46039f"
             ],
             [
              0.2222222222222222,
              "#7201a8"
             ],
             [
              0.3333333333333333,
              "#9c179e"
             ],
             [
              0.4444444444444444,
              "#bd3786"
             ],
             [
              0.5555555555555556,
              "#d8576b"
             ],
             [
              0.6666666666666666,
              "#ed7953"
             ],
             [
              0.7777777777777778,
              "#fb9f3a"
             ],
             [
              0.8888888888888888,
              "#fdca26"
             ],
             [
              1,
              "#f0f921"
             ]
            ],
            "type": "histogram2d"
           }
          ],
          "histogram2dcontour": [
           {
            "colorbar": {
             "outlinewidth": 0,
             "ticks": ""
            },
            "colorscale": [
             [
              0,
              "#0d0887"
             ],
             [
              0.1111111111111111,
              "#46039f"
             ],
             [
              0.2222222222222222,
              "#7201a8"
             ],
             [
              0.3333333333333333,
              "#9c179e"
             ],
             [
              0.4444444444444444,
              "#bd3786"
             ],
             [
              0.5555555555555556,
              "#d8576b"
             ],
             [
              0.6666666666666666,
              "#ed7953"
             ],
             [
              0.7777777777777778,
              "#fb9f3a"
             ],
             [
              0.8888888888888888,
              "#fdca26"
             ],
             [
              1,
              "#f0f921"
             ]
            ],
            "type": "histogram2dcontour"
           }
          ],
          "mesh3d": [
           {
            "colorbar": {
             "outlinewidth": 0,
             "ticks": ""
            },
            "type": "mesh3d"
           }
          ],
          "parcoords": [
           {
            "line": {
             "colorbar": {
              "outlinewidth": 0,
              "ticks": ""
             }
            },
            "type": "parcoords"
           }
          ],
          "pie": [
           {
            "automargin": true,
            "type": "pie"
           }
          ],
          "scatter": [
           {
            "marker": {
             "colorbar": {
              "outlinewidth": 0,
              "ticks": ""
             }
            },
            "type": "scatter"
           }
          ],
          "scatter3d": [
           {
            "line": {
             "colorbar": {
              "outlinewidth": 0,
              "ticks": ""
             }
            },
            "marker": {
             "colorbar": {
              "outlinewidth": 0,
              "ticks": ""
             }
            },
            "type": "scatter3d"
           }
          ],
          "scattercarpet": [
           {
            "marker": {
             "colorbar": {
              "outlinewidth": 0,
              "ticks": ""
             }
            },
            "type": "scattercarpet"
           }
          ],
          "scattergeo": [
           {
            "marker": {
             "colorbar": {
              "outlinewidth": 0,
              "ticks": ""
             }
            },
            "type": "scattergeo"
           }
          ],
          "scattergl": [
           {
            "marker": {
             "colorbar": {
              "outlinewidth": 0,
              "ticks": ""
             }
            },
            "type": "scattergl"
           }
          ],
          "scattermapbox": [
           {
            "marker": {
             "colorbar": {
              "outlinewidth": 0,
              "ticks": ""
             }
            },
            "type": "scattermapbox"
           }
          ],
          "scatterpolar": [
           {
            "marker": {
             "colorbar": {
              "outlinewidth": 0,
              "ticks": ""
             }
            },
            "type": "scatterpolar"
           }
          ],
          "scatterpolargl": [
           {
            "marker": {
             "colorbar": {
              "outlinewidth": 0,
              "ticks": ""
             }
            },
            "type": "scatterpolargl"
           }
          ],
          "scatterternary": [
           {
            "marker": {
             "colorbar": {
              "outlinewidth": 0,
              "ticks": ""
             }
            },
            "type": "scatterternary"
           }
          ],
          "surface": [
           {
            "colorbar": {
             "outlinewidth": 0,
             "ticks": ""
            },
            "colorscale": [
             [
              0,
              "#0d0887"
             ],
             [
              0.1111111111111111,
              "#46039f"
             ],
             [
              0.2222222222222222,
              "#7201a8"
             ],
             [
              0.3333333333333333,
              "#9c179e"
             ],
             [
              0.4444444444444444,
              "#bd3786"
             ],
             [
              0.5555555555555556,
              "#d8576b"
             ],
             [
              0.6666666666666666,
              "#ed7953"
             ],
             [
              0.7777777777777778,
              "#fb9f3a"
             ],
             [
              0.8888888888888888,
              "#fdca26"
             ],
             [
              1,
              "#f0f921"
             ]
            ],
            "type": "surface"
           }
          ],
          "table": [
           {
            "cells": {
             "fill": {
              "color": "#EBF0F8"
             },
             "line": {
              "color": "white"
             }
            },
            "header": {
             "fill": {
              "color": "#C8D4E3"
             },
             "line": {
              "color": "white"
             }
            },
            "type": "table"
           }
          ]
         },
         "layout": {
          "annotationdefaults": {
           "arrowcolor": "#2a3f5f",
           "arrowhead": 0,
           "arrowwidth": 1
          },
          "autotypenumbers": "strict",
          "coloraxis": {
           "colorbar": {
            "outlinewidth": 0,
            "ticks": ""
           }
          },
          "colorscale": {
           "diverging": [
            [
             0,
             "#8e0152"
            ],
            [
             0.1,
             "#c51b7d"
            ],
            [
             0.2,
             "#de77ae"
            ],
            [
             0.3,
             "#f1b6da"
            ],
            [
             0.4,
             "#fde0ef"
            ],
            [
             0.5,
             "#f7f7f7"
            ],
            [
             0.6,
             "#e6f5d0"
            ],
            [
             0.7,
             "#b8e186"
            ],
            [
             0.8,
             "#7fbc41"
            ],
            [
             0.9,
             "#4d9221"
            ],
            [
             1,
             "#276419"
            ]
           ],
           "sequential": [
            [
             0,
             "#0d0887"
            ],
            [
             0.1111111111111111,
             "#46039f"
            ],
            [
             0.2222222222222222,
             "#7201a8"
            ],
            [
             0.3333333333333333,
             "#9c179e"
            ],
            [
             0.4444444444444444,
             "#bd3786"
            ],
            [
             0.5555555555555556,
             "#d8576b"
            ],
            [
             0.6666666666666666,
             "#ed7953"
            ],
            [
             0.7777777777777778,
             "#fb9f3a"
            ],
            [
             0.8888888888888888,
             "#fdca26"
            ],
            [
             1,
             "#f0f921"
            ]
           ],
           "sequentialminus": [
            [
             0,
             "#0d0887"
            ],
            [
             0.1111111111111111,
             "#46039f"
            ],
            [
             0.2222222222222222,
             "#7201a8"
            ],
            [
             0.3333333333333333,
             "#9c179e"
            ],
            [
             0.4444444444444444,
             "#bd3786"
            ],
            [
             0.5555555555555556,
             "#d8576b"
            ],
            [
             0.6666666666666666,
             "#ed7953"
            ],
            [
             0.7777777777777778,
             "#fb9f3a"
            ],
            [
             0.8888888888888888,
             "#fdca26"
            ],
            [
             1,
             "#f0f921"
            ]
           ]
          },
          "colorway": [
           "#636efa",
           "#EF553B",
           "#00cc96",
           "#ab63fa",
           "#FFA15A",
           "#19d3f3",
           "#FF6692",
           "#B6E880",
           "#FF97FF",
           "#FECB52"
          ],
          "font": {
           "color": "#2a3f5f"
          },
          "geo": {
           "bgcolor": "white",
           "lakecolor": "white",
           "landcolor": "#E5ECF6",
           "showlakes": true,
           "showland": true,
           "subunitcolor": "white"
          },
          "hoverlabel": {
           "align": "left"
          },
          "hovermode": "closest",
          "mapbox": {
           "style": "light"
          },
          "paper_bgcolor": "white",
          "plot_bgcolor": "#E5ECF6",
          "polar": {
           "angularaxis": {
            "gridcolor": "white",
            "linecolor": "white",
            "ticks": ""
           },
           "bgcolor": "#E5ECF6",
           "radialaxis": {
            "gridcolor": "white",
            "linecolor": "white",
            "ticks": ""
           }
          },
          "scene": {
           "xaxis": {
            "backgroundcolor": "#E5ECF6",
            "gridcolor": "white",
            "gridwidth": 2,
            "linecolor": "white",
            "showbackground": true,
            "ticks": "",
            "zerolinecolor": "white"
           },
           "yaxis": {
            "backgroundcolor": "#E5ECF6",
            "gridcolor": "white",
            "gridwidth": 2,
            "linecolor": "white",
            "showbackground": true,
            "ticks": "",
            "zerolinecolor": "white"
           },
           "zaxis": {
            "backgroundcolor": "#E5ECF6",
            "gridcolor": "white",
            "gridwidth": 2,
            "linecolor": "white",
            "showbackground": true,
            "ticks": "",
            "zerolinecolor": "white"
           }
          },
          "shapedefaults": {
           "line": {
            "color": "#2a3f5f"
           }
          },
          "ternary": {
           "aaxis": {
            "gridcolor": "white",
            "linecolor": "white",
            "ticks": ""
           },
           "baxis": {
            "gridcolor": "white",
            "linecolor": "white",
            "ticks": ""
           },
           "bgcolor": "#E5ECF6",
           "caxis": {
            "gridcolor": "white",
            "linecolor": "white",
            "ticks": ""
           }
          },
          "title": {
           "x": 0.05
          },
          "xaxis": {
           "automargin": true,
           "gridcolor": "white",
           "linecolor": "white",
           "ticks": "",
           "title": {
            "standoff": 15
           },
           "zerolinecolor": "white",
           "zerolinewidth": 2
          },
          "yaxis": {
           "automargin": true,
           "gridcolor": "white",
           "linecolor": "white",
           "ticks": "",
           "title": {
            "standoff": 15
           },
           "zerolinecolor": "white",
           "zerolinewidth": 2
          }
         }
        },
        "title": {
         "font": {
          "color": "#D9D9D9"
         },
         "text": "다른 연도, 같은 달 차량 통행량 변화"
        },
        "xaxis": {
         "gridcolor": "#434343",
         "showgrid": true,
         "tickfont": {
          "color": "#C2C2C2"
         },
         "title": {
          "font": {
           "color": "#D9D9D9"
          },
          "text": ""
         },
         "zerolinecolor": "#666570"
        },
        "yaxis": {
         "gridcolor": "#434343",
         "showgrid": true,
         "tickfont": {
          "color": "#C2C2C2"
         },
         "title": {
          "font": {
           "color": "#D9D9D9"
          },
          "text": ""
         },
         "zerolinecolor": "#666570"
        }
       }
      },
      "text/html": [
       "<div>                            <div id=\"0812d814-fcba-491b-88be-c681d60fcdb6\" class=\"plotly-graph-div\" style=\"height:525px; width:100%;\"></div>            <script type=\"text/javascript\">                require([\"plotly\"], function(Plotly) {                    window.PLOTLYENV=window.PLOTLYENV || {};\n",
       "                    window.PLOTLYENV.BASE_URL='https://plot.ly';                                    if (document.getElementById(\"0812d814-fcba-491b-88be-c681d60fcdb6\")) {                    Plotly.newPlot(                        \"0812d814-fcba-491b-88be-c681d60fcdb6\",                        [{\"line\":{\"color\":\"rgba(255, 153, 51, 1.0)\",\"dash\":\"solid\",\"shape\":\"linear\",\"width\":1.3},\"mode\":\"lines\",\"name\":\"19-20\\ub144(%)\",\"text\":\"\",\"type\":\"scatter\",\"x\":[\"1\\uc6d4\",\"2\\uc6d4\",\"3\\uc6d4\",\"4\\uc6d4\",\"5\\uc6d4\",\"6\\uc6d4\",\"7\\uc6d4\",\"8\\uc6d4\",\"9\\uc6d4\",\"10\\uc6d4\",\"11\\uc6d4\",\"12\\uc6d4\"],\"y\":[-1.9481342093312533,3.479100369115447,-4.965957720059639,-6.415752513003814,-3.4121233183117203,-0.39965203284446177,-0.06872154267505062,-9.988947506173487,-6.4245880428742765,-8.657774539465892,-9.365913110307067,-16.523056424055174]},{\"line\":{\"color\":\"rgba(55, 128, 191, 1.0)\",\"dash\":\"solid\",\"shape\":\"linear\",\"width\":1.3},\"mode\":\"lines\",\"name\":\"20-21\\ub144(%)\",\"text\":\"\",\"type\":\"scatter\",\"x\":[\"1\\uc6d4\",\"2\\uc6d4\",\"3\\uc6d4\",\"4\\uc6d4\",\"5\\uc6d4\",\"6\\uc6d4\",\"7\\uc6d4\",\"8\\uc6d4\",\"9\\uc6d4\",\"10\\uc6d4\",\"11\\uc6d4\",\"12\\uc6d4\"],\"y\":[-21.698339125761436,-14.425035632377567,-6.29106368980161,-2.8506939538362284,-8.657264537167642,-4.892025165381004,-6.002957271685005,1.5904807100443068,\"\",\"\",\"\",\"\"]}],                        {\"legend\":{\"bgcolor\":\"#1A1A1C\",\"font\":{\"color\":\"#D9D9D9\"}},\"paper_bgcolor\":\"#1A1A1C\",\"plot_bgcolor\":\"#1A1A1C\",\"template\":{\"data\":{\"bar\":[{\"error_x\":{\"color\":\"#2a3f5f\"},\"error_y\":{\"color\":\"#2a3f5f\"},\"marker\":{\"line\":{\"color\":\"#E5ECF6\",\"width\":0.5},\"pattern\":{\"fillmode\":\"overlay\",\"size\":10,\"solidity\":0.2}},\"type\":\"bar\"}],\"barpolar\":[{\"marker\":{\"line\":{\"color\":\"#E5ECF6\",\"width\":0.5},\"pattern\":{\"fillmode\":\"overlay\",\"size\":10,\"solidity\":0.2}},\"type\":\"barpolar\"}],\"carpet\":[{\"aaxis\":{\"endlinecolor\":\"#2a3f5f\",\"gridcolor\":\"white\",\"linecolor\":\"white\",\"minorgridcolor\":\"white\",\"startlinecolor\":\"#2a3f5f\"},\"baxis\":{\"endlinecolor\":\"#2a3f5f\",\"gridcolor\":\"white\",\"linecolor\":\"white\",\"minorgridcolor\":\"white\",\"startlinecolor\":\"#2a3f5f\"},\"type\":\"carpet\"}],\"choropleth\":[{\"colorbar\":{\"outlinewidth\":0,\"ticks\":\"\"},\"type\":\"choropleth\"}],\"contour\":[{\"colorbar\":{\"outlinewidth\":0,\"ticks\":\"\"},\"colorscale\":[[0.0,\"#0d0887\"],[0.1111111111111111,\"#46039f\"],[0.2222222222222222,\"#7201a8\"],[0.3333333333333333,\"#9c179e\"],[0.4444444444444444,\"#bd3786\"],[0.5555555555555556,\"#d8576b\"],[0.6666666666666666,\"#ed7953\"],[0.7777777777777778,\"#fb9f3a\"],[0.8888888888888888,\"#fdca26\"],[1.0,\"#f0f921\"]],\"type\":\"contour\"}],\"contourcarpet\":[{\"colorbar\":{\"outlinewidth\":0,\"ticks\":\"\"},\"type\":\"contourcarpet\"}],\"heatmap\":[{\"colorbar\":{\"outlinewidth\":0,\"ticks\":\"\"},\"colorscale\":[[0.0,\"#0d0887\"],[0.1111111111111111,\"#46039f\"],[0.2222222222222222,\"#7201a8\"],[0.3333333333333333,\"#9c179e\"],[0.4444444444444444,\"#bd3786\"],[0.5555555555555556,\"#d8576b\"],[0.6666666666666666,\"#ed7953\"],[0.7777777777777778,\"#fb9f3a\"],[0.8888888888888888,\"#fdca26\"],[1.0,\"#f0f921\"]],\"type\":\"heatmap\"}],\"heatmapgl\":[{\"colorbar\":{\"outlinewidth\":0,\"ticks\":\"\"},\"colorscale\":[[0.0,\"#0d0887\"],[0.1111111111111111,\"#46039f\"],[0.2222222222222222,\"#7201a8\"],[0.3333333333333333,\"#9c179e\"],[0.4444444444444444,\"#bd3786\"],[0.5555555555555556,\"#d8576b\"],[0.6666666666666666,\"#ed7953\"],[0.7777777777777778,\"#fb9f3a\"],[0.8888888888888888,\"#fdca26\"],[1.0,\"#f0f921\"]],\"type\":\"heatmapgl\"}],\"histogram\":[{\"marker\":{\"pattern\":{\"fillmode\":\"overlay\",\"size\":10,\"solidity\":0.2}},\"type\":\"histogram\"}],\"histogram2d\":[{\"colorbar\":{\"outlinewidth\":0,\"ticks\":\"\"},\"colorscale\":[[0.0,\"#0d0887\"],[0.1111111111111111,\"#46039f\"],[0.2222222222222222,\"#7201a8\"],[0.3333333333333333,\"#9c179e\"],[0.4444444444444444,\"#bd3786\"],[0.5555555555555556,\"#d8576b\"],[0.6666666666666666,\"#ed7953\"],[0.7777777777777778,\"#fb9f3a\"],[0.8888888888888888,\"#fdca26\"],[1.0,\"#f0f921\"]],\"type\":\"histogram2d\"}],\"histogram2dcontour\":[{\"colorbar\":{\"outlinewidth\":0,\"ticks\":\"\"},\"colorscale\":[[0.0,\"#0d0887\"],[0.1111111111111111,\"#46039f\"],[0.2222222222222222,\"#7201a8\"],[0.3333333333333333,\"#9c179e\"],[0.4444444444444444,\"#bd3786\"],[0.5555555555555556,\"#d8576b\"],[0.6666666666666666,\"#ed7953\"],[0.7777777777777778,\"#fb9f3a\"],[0.8888888888888888,\"#fdca26\"],[1.0,\"#f0f921\"]],\"type\":\"histogram2dcontour\"}],\"mesh3d\":[{\"colorbar\":{\"outlinewidth\":0,\"ticks\":\"\"},\"type\":\"mesh3d\"}],\"parcoords\":[{\"line\":{\"colorbar\":{\"outlinewidth\":0,\"ticks\":\"\"}},\"type\":\"parcoords\"}],\"pie\":[{\"automargin\":true,\"type\":\"pie\"}],\"scatter\":[{\"marker\":{\"colorbar\":{\"outlinewidth\":0,\"ticks\":\"\"}},\"type\":\"scatter\"}],\"scatter3d\":[{\"line\":{\"colorbar\":{\"outlinewidth\":0,\"ticks\":\"\"}},\"marker\":{\"colorbar\":{\"outlinewidth\":0,\"ticks\":\"\"}},\"type\":\"scatter3d\"}],\"scattercarpet\":[{\"marker\":{\"colorbar\":{\"outlinewidth\":0,\"ticks\":\"\"}},\"type\":\"scattercarpet\"}],\"scattergeo\":[{\"marker\":{\"colorbar\":{\"outlinewidth\":0,\"ticks\":\"\"}},\"type\":\"scattergeo\"}],\"scattergl\":[{\"marker\":{\"colorbar\":{\"outlinewidth\":0,\"ticks\":\"\"}},\"type\":\"scattergl\"}],\"scattermapbox\":[{\"marker\":{\"colorbar\":{\"outlinewidth\":0,\"ticks\":\"\"}},\"type\":\"scattermapbox\"}],\"scatterpolar\":[{\"marker\":{\"colorbar\":{\"outlinewidth\":0,\"ticks\":\"\"}},\"type\":\"scatterpolar\"}],\"scatterpolargl\":[{\"marker\":{\"colorbar\":{\"outlinewidth\":0,\"ticks\":\"\"}},\"type\":\"scatterpolargl\"}],\"scatterternary\":[{\"marker\":{\"colorbar\":{\"outlinewidth\":0,\"ticks\":\"\"}},\"type\":\"scatterternary\"}],\"surface\":[{\"colorbar\":{\"outlinewidth\":0,\"ticks\":\"\"},\"colorscale\":[[0.0,\"#0d0887\"],[0.1111111111111111,\"#46039f\"],[0.2222222222222222,\"#7201a8\"],[0.3333333333333333,\"#9c179e\"],[0.4444444444444444,\"#bd3786\"],[0.5555555555555556,\"#d8576b\"],[0.6666666666666666,\"#ed7953\"],[0.7777777777777778,\"#fb9f3a\"],[0.8888888888888888,\"#fdca26\"],[1.0,\"#f0f921\"]],\"type\":\"surface\"}],\"table\":[{\"cells\":{\"fill\":{\"color\":\"#EBF0F8\"},\"line\":{\"color\":\"white\"}},\"header\":{\"fill\":{\"color\":\"#C8D4E3\"},\"line\":{\"color\":\"white\"}},\"type\":\"table\"}]},\"layout\":{\"annotationdefaults\":{\"arrowcolor\":\"#2a3f5f\",\"arrowhead\":0,\"arrowwidth\":1},\"autotypenumbers\":\"strict\",\"coloraxis\":{\"colorbar\":{\"outlinewidth\":0,\"ticks\":\"\"}},\"colorscale\":{\"diverging\":[[0,\"#8e0152\"],[0.1,\"#c51b7d\"],[0.2,\"#de77ae\"],[0.3,\"#f1b6da\"],[0.4,\"#fde0ef\"],[0.5,\"#f7f7f7\"],[0.6,\"#e6f5d0\"],[0.7,\"#b8e186\"],[0.8,\"#7fbc41\"],[0.9,\"#4d9221\"],[1,\"#276419\"]],\"sequential\":[[0.0,\"#0d0887\"],[0.1111111111111111,\"#46039f\"],[0.2222222222222222,\"#7201a8\"],[0.3333333333333333,\"#9c179e\"],[0.4444444444444444,\"#bd3786\"],[0.5555555555555556,\"#d8576b\"],[0.6666666666666666,\"#ed7953\"],[0.7777777777777778,\"#fb9f3a\"],[0.8888888888888888,\"#fdca26\"],[1.0,\"#f0f921\"]],\"sequentialminus\":[[0.0,\"#0d0887\"],[0.1111111111111111,\"#46039f\"],[0.2222222222222222,\"#7201a8\"],[0.3333333333333333,\"#9c179e\"],[0.4444444444444444,\"#bd3786\"],[0.5555555555555556,\"#d8576b\"],[0.6666666666666666,\"#ed7953\"],[0.7777777777777778,\"#fb9f3a\"],[0.8888888888888888,\"#fdca26\"],[1.0,\"#f0f921\"]]},\"colorway\":[\"#636efa\",\"#EF553B\",\"#00cc96\",\"#ab63fa\",\"#FFA15A\",\"#19d3f3\",\"#FF6692\",\"#B6E880\",\"#FF97FF\",\"#FECB52\"],\"font\":{\"color\":\"#2a3f5f\"},\"geo\":{\"bgcolor\":\"white\",\"lakecolor\":\"white\",\"landcolor\":\"#E5ECF6\",\"showlakes\":true,\"showland\":true,\"subunitcolor\":\"white\"},\"hoverlabel\":{\"align\":\"left\"},\"hovermode\":\"closest\",\"mapbox\":{\"style\":\"light\"},\"paper_bgcolor\":\"white\",\"plot_bgcolor\":\"#E5ECF6\",\"polar\":{\"angularaxis\":{\"gridcolor\":\"white\",\"linecolor\":\"white\",\"ticks\":\"\"},\"bgcolor\":\"#E5ECF6\",\"radialaxis\":{\"gridcolor\":\"white\",\"linecolor\":\"white\",\"ticks\":\"\"}},\"scene\":{\"xaxis\":{\"backgroundcolor\":\"#E5ECF6\",\"gridcolor\":\"white\",\"gridwidth\":2,\"linecolor\":\"white\",\"showbackground\":true,\"ticks\":\"\",\"zerolinecolor\":\"white\"},\"yaxis\":{\"backgroundcolor\":\"#E5ECF6\",\"gridcolor\":\"white\",\"gridwidth\":2,\"linecolor\":\"white\",\"showbackground\":true,\"ticks\":\"\",\"zerolinecolor\":\"white\"},\"zaxis\":{\"backgroundcolor\":\"#E5ECF6\",\"gridcolor\":\"white\",\"gridwidth\":2,\"linecolor\":\"white\",\"showbackground\":true,\"ticks\":\"\",\"zerolinecolor\":\"white\"}},\"shapedefaults\":{\"line\":{\"color\":\"#2a3f5f\"}},\"ternary\":{\"aaxis\":{\"gridcolor\":\"white\",\"linecolor\":\"white\",\"ticks\":\"\"},\"baxis\":{\"gridcolor\":\"white\",\"linecolor\":\"white\",\"ticks\":\"\"},\"bgcolor\":\"#E5ECF6\",\"caxis\":{\"gridcolor\":\"white\",\"linecolor\":\"white\",\"ticks\":\"\"}},\"title\":{\"x\":0.05},\"xaxis\":{\"automargin\":true,\"gridcolor\":\"white\",\"linecolor\":\"white\",\"ticks\":\"\",\"title\":{\"standoff\":15},\"zerolinecolor\":\"white\",\"zerolinewidth\":2},\"yaxis\":{\"automargin\":true,\"gridcolor\":\"white\",\"linecolor\":\"white\",\"ticks\":\"\",\"title\":{\"standoff\":15},\"zerolinecolor\":\"white\",\"zerolinewidth\":2}}},\"title\":{\"font\":{\"color\":\"#D9D9D9\"},\"text\":\"\\ub2e4\\ub978 \\uc5f0\\ub3c4, \\uac19\\uc740 \\ub2ec \\ucc28\\ub7c9 \\ud1b5\\ud589\\ub7c9 \\ubcc0\\ud654\"},\"xaxis\":{\"gridcolor\":\"#434343\",\"showgrid\":true,\"tickfont\":{\"color\":\"#C2C2C2\"},\"title\":{\"font\":{\"color\":\"#D9D9D9\"},\"text\":\"\"},\"zerolinecolor\":\"#666570\"},\"yaxis\":{\"gridcolor\":\"#434343\",\"showgrid\":true,\"tickfont\":{\"color\":\"#C2C2C2\"},\"title\":{\"font\":{\"color\":\"#D9D9D9\"},\"text\":\"\"},\"zerolinecolor\":\"#666570\"}},                        {\"showLink\": true, \"linkText\": \"Export to plot.ly\", \"plotlyServerURL\": \"https://plot.ly\", \"responsive\": true}                    ).then(function(){\n",
       "                            \n",
       "var gd = document.getElementById('0812d814-fcba-491b-88be-c681d60fcdb6');\n",
       "var x = new MutationObserver(function (mutations, observer) {{\n",
       "        var display = window.getComputedStyle(gd).display;\n",
       "        if (!display || display === 'none') {{\n",
       "            console.log([gd, 'removed!']);\n",
       "            Plotly.purge(gd);\n",
       "            observer.disconnect();\n",
       "        }}\n",
       "}});\n",
       "\n",
       "// Listen for the removal of the full notebook cells\n",
       "var notebookContainer = gd.closest('#notebook-container');\n",
       "if (notebookContainer) {{\n",
       "    x.observe(notebookContainer, {childList: true});\n",
       "}}\n",
       "\n",
       "// Listen for the clearing of the current output cell\n",
       "var outputEl = gd.closest('.output');\n",
       "if (outputEl) {{\n",
       "    x.observe(outputEl, {childList: true});\n",
       "}}\n",
       "\n",
       "                        })                };                });            </script>        </div>"
      ]
     },
     "metadata": {},
     "output_type": "display_data"
    }
   ],
   "source": [
    "# 2020-2021 연도별 통행량 변화 비율(%)\n",
    "dat.iloc[:, 9:].iplot(kind='line', title='다른 연도, 같은 달 차량 통행량 변화', theme='space')"
   ]
  },
  {
   "cell_type": "code",
   "execution_count": null,
   "id": "96d75125",
   "metadata": {},
   "outputs": [],
   "source": []
  }
 ],
 "metadata": {
  "kernelspec": {
   "display_name": "Python 3",
   "language": "python",
   "name": "python3"
  },
  "language_info": {
   "codemirror_mode": {
    "name": "ipython",
    "version": 3
   },
   "file_extension": ".py",
   "mimetype": "text/x-python",
   "name": "python",
   "nbconvert_exporter": "python",
   "pygments_lexer": "ipython3",
   "version": "3.8.8"
  }
 },
 "nbformat": 4,
 "nbformat_minor": 5
}
