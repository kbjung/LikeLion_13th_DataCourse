{
 "cells": [
  {
   "cell_type": "markdown",
   "id": "7e919d7f",
   "metadata": {},
   "source": [
    "### 년도 별 파일 불러와 월별 합계 구하기\n",
    "* 파일을 순차적으로 불러오기\n",
    "* 월별 승하차 인원 합계 구하기\n",
    "* 월별로 데이터 셋으로 만들기 \n",
    "* 월별 데이터셋 하나로 합치기\n",
    "* csv 파일로 만들기"
   ]
  },
  {
   "cell_type": "markdown",
   "id": "255d0e01",
   "metadata": {},
   "source": [
    "### 파일 불러오기\n",
    "* 경로 : ./년도/01월 서울시 교통량 조사자료.xlsx"
   ]
  },
  {
   "cell_type": "code",
   "execution_count": 163,
   "id": "694bdd61",
   "metadata": {},
   "outputs": [],
   "source": [
    "import pandas as pd"
   ]
  },
  {
   "cell_type": "markdown",
   "id": "b1cddf34",
   "metadata": {},
   "source": [
    "# 정리\n",
    "* 2017년(해결 중...)\n",
    "    * G열 부터 시작(6열)\n",
    "    * 4월 오류 해결중...\n",
    "* 2018년(정상)\n",
    "    * 시트 2개. 필요 시트 2번째\n",
    "    * G열 부터 시작(6열)\n",
    "* 2019년(해결)\n",
    "    * 시트 2개. 필요 시트 2번째\n",
    "    * G열 부터 시작(6열)\n",
    "        * 1월 H열 부터 시작(7열)\n",
    "* 2020년(해결)\n",
    "    * 시트 2개. 필요 시트 2번째\n",
    "    * G열 부터 시작(6열)\n",
    "        * 2, 12월 H열 부터 시작(7열)\n",
    "* 2021년(정상)\n",
    "    * 시트 2개. 필요 시트 2번째\n",
    "    * G열 부터 시작(6열)"
   ]
  },
  {
   "cell_type": "markdown",
   "id": "e76b678b",
   "metadata": {},
   "source": [
    "#### 테스트"
   ]
  },
  {
   "cell_type": "code",
   "execution_count": 3,
   "id": "639fcf0a",
   "metadata": {},
   "outputs": [
    {
     "data": {
      "text/html": [
       "<div>\n",
       "<style scoped>\n",
       "    .dataframe tbody tr th:only-of-type {\n",
       "        vertical-align: middle;\n",
       "    }\n",
       "\n",
       "    .dataframe tbody tr th {\n",
       "        vertical-align: top;\n",
       "    }\n",
       "\n",
       "    .dataframe thead th {\n",
       "        text-align: right;\n",
       "    }\n",
       "</style>\n",
       "<table border=\"1\" class=\"dataframe\">\n",
       "  <thead>\n",
       "    <tr style=\"text-align: right;\">\n",
       "      <th></th>\n",
       "      <th>일자</th>\n",
       "      <th>요일</th>\n",
       "      <th>지점명</th>\n",
       "      <th>지점번호</th>\n",
       "      <th>구분</th>\n",
       "      <th>방향</th>\n",
       "      <th>0시</th>\n",
       "      <th>1시</th>\n",
       "      <th>2시</th>\n",
       "      <th>3시</th>\n",
       "      <th>...</th>\n",
       "      <th>14시</th>\n",
       "      <th>15시</th>\n",
       "      <th>16시</th>\n",
       "      <th>17시</th>\n",
       "      <th>18시</th>\n",
       "      <th>19시</th>\n",
       "      <th>20시</th>\n",
       "      <th>21시</th>\n",
       "      <th>22시</th>\n",
       "      <th>23시</th>\n",
       "    </tr>\n",
       "  </thead>\n",
       "  <tbody>\n",
       "    <tr>\n",
       "      <th>0</th>\n",
       "      <td>20170101</td>\n",
       "      <td>일</td>\n",
       "      <td>성산로(금화터널)</td>\n",
       "      <td>A-01</td>\n",
       "      <td>유입</td>\n",
       "      <td>봉원고가차도-&gt;독립문역</td>\n",
       "      <td>624.0</td>\n",
       "      <td>656.0</td>\n",
       "      <td>408.0</td>\n",
       "      <td>313.0</td>\n",
       "      <td>...</td>\n",
       "      <td>1396.0</td>\n",
       "      <td>1560.0</td>\n",
       "      <td>1613.0</td>\n",
       "      <td>1488.0</td>\n",
       "      <td>1339.0</td>\n",
       "      <td>1036.0</td>\n",
       "      <td>966.0</td>\n",
       "      <td>937.0</td>\n",
       "      <td>792.0</td>\n",
       "      <td>566.0</td>\n",
       "    </tr>\n",
       "    <tr>\n",
       "      <th>1</th>\n",
       "      <td>20170102</td>\n",
       "      <td>월</td>\n",
       "      <td>성산로(금화터널)</td>\n",
       "      <td>A-01</td>\n",
       "      <td>유입</td>\n",
       "      <td>봉원고가차도-&gt;독립문역</td>\n",
       "      <td>349.0</td>\n",
       "      <td>258.0</td>\n",
       "      <td>154.0</td>\n",
       "      <td>151.0</td>\n",
       "      <td>...</td>\n",
       "      <td>1620.0</td>\n",
       "      <td>1840.0</td>\n",
       "      <td>1742.0</td>\n",
       "      <td>1932.0</td>\n",
       "      <td>1913.0</td>\n",
       "      <td>1474.0</td>\n",
       "      <td>1289.0</td>\n",
       "      <td>1318.0</td>\n",
       "      <td>1211.0</td>\n",
       "      <td>967.0</td>\n",
       "    </tr>\n",
       "    <tr>\n",
       "      <th>2</th>\n",
       "      <td>20170103</td>\n",
       "      <td>화</td>\n",
       "      <td>성산로(금화터널)</td>\n",
       "      <td>A-01</td>\n",
       "      <td>유입</td>\n",
       "      <td>봉원고가차도-&gt;독립문역</td>\n",
       "      <td>632.0</td>\n",
       "      <td>456.0</td>\n",
       "      <td>335.0</td>\n",
       "      <td>248.0</td>\n",
       "      <td>...</td>\n",
       "      <td>1883.0</td>\n",
       "      <td>2028.0</td>\n",
       "      <td>2092.0</td>\n",
       "      <td>2048.0</td>\n",
       "      <td>2105.0</td>\n",
       "      <td>1764.0</td>\n",
       "      <td>1389.0</td>\n",
       "      <td>1348.0</td>\n",
       "      <td>1364.0</td>\n",
       "      <td>1016.0</td>\n",
       "    </tr>\n",
       "    <tr>\n",
       "      <th>3</th>\n",
       "      <td>20170104</td>\n",
       "      <td>수</td>\n",
       "      <td>성산로(금화터널)</td>\n",
       "      <td>A-01</td>\n",
       "      <td>유입</td>\n",
       "      <td>봉원고가차도-&gt;독립문역</td>\n",
       "      <td>709.0</td>\n",
       "      <td>505.0</td>\n",
       "      <td>362.0</td>\n",
       "      <td>286.0</td>\n",
       "      <td>...</td>\n",
       "      <td>1915.0</td>\n",
       "      <td>1946.0</td>\n",
       "      <td>2062.0</td>\n",
       "      <td>2129.0</td>\n",
       "      <td>2106.0</td>\n",
       "      <td>1699.0</td>\n",
       "      <td>1387.0</td>\n",
       "      <td>1430.0</td>\n",
       "      <td>1254.0</td>\n",
       "      <td>1001.0</td>\n",
       "    </tr>\n",
       "    <tr>\n",
       "      <th>4</th>\n",
       "      <td>20170105</td>\n",
       "      <td>목</td>\n",
       "      <td>성산로(금화터널)</td>\n",
       "      <td>A-01</td>\n",
       "      <td>유입</td>\n",
       "      <td>봉원고가차도-&gt;독립문역</td>\n",
       "      <td>718.0</td>\n",
       "      <td>543.0</td>\n",
       "      <td>370.0</td>\n",
       "      <td>291.0</td>\n",
       "      <td>...</td>\n",
       "      <td>1778.0</td>\n",
       "      <td>2010.0</td>\n",
       "      <td>1966.0</td>\n",
       "      <td>2221.0</td>\n",
       "      <td>2198.0</td>\n",
       "      <td>1726.0</td>\n",
       "      <td>1362.0</td>\n",
       "      <td>1405.0</td>\n",
       "      <td>1319.0</td>\n",
       "      <td>1044.0</td>\n",
       "    </tr>\n",
       "  </tbody>\n",
       "</table>\n",
       "<p>5 rows × 30 columns</p>\n",
       "</div>"
      ],
      "text/plain": [
       "         일자 요일        지점명  지점번호  구분            방향     0시     1시     2시     3시  \\\n",
       "0  20170101  일  성산로(금화터널)  A-01  유입  봉원고가차도->독립문역  624.0  656.0  408.0  313.0   \n",
       "1  20170102  월  성산로(금화터널)  A-01  유입  봉원고가차도->독립문역  349.0  258.0  154.0  151.0   \n",
       "2  20170103  화  성산로(금화터널)  A-01  유입  봉원고가차도->독립문역  632.0  456.0  335.0  248.0   \n",
       "3  20170104  수  성산로(금화터널)  A-01  유입  봉원고가차도->독립문역  709.0  505.0  362.0  286.0   \n",
       "4  20170105  목  성산로(금화터널)  A-01  유입  봉원고가차도->독립문역  718.0  543.0  370.0  291.0   \n",
       "\n",
       "   ...     14시     15시     16시     17시     18시     19시     20시     21시  \\\n",
       "0  ...  1396.0  1560.0  1613.0  1488.0  1339.0  1036.0   966.0   937.0   \n",
       "1  ...  1620.0  1840.0  1742.0  1932.0  1913.0  1474.0  1289.0  1318.0   \n",
       "2  ...  1883.0  2028.0  2092.0  2048.0  2105.0  1764.0  1389.0  1348.0   \n",
       "3  ...  1915.0  1946.0  2062.0  2129.0  2106.0  1699.0  1387.0  1430.0   \n",
       "4  ...  1778.0  2010.0  1966.0  2221.0  2198.0  1726.0  1362.0  1405.0   \n",
       "\n",
       "      22시     23시  \n",
       "0   792.0   566.0  \n",
       "1  1211.0   967.0  \n",
       "2  1364.0  1016.0  \n",
       "3  1254.0  1001.0  \n",
       "4  1319.0  1044.0  \n",
       "\n",
       "[5 rows x 30 columns]"
      ]
     },
     "execution_count": 3,
     "metadata": {},
     "output_type": "execute_result"
    }
   ],
   "source": [
    "# 2017년 파일 불러오기\n",
    "test = pd.read_excel('./2017/01월 서울시 교통량 조사자료.xlsx')\n",
    "test.head()"
   ]
  },
  {
   "cell_type": "code",
   "execution_count": 4,
   "id": "094eb453",
   "metadata": {},
   "outputs": [
    {
     "name": "stdout",
     "output_type": "stream",
     "text": [
      "<class 'pandas.core.frame.DataFrame'>\n",
      "RangeIndex: 8862 entries, 0 to 8861\n",
      "Data columns (total 30 columns):\n",
      " #   Column  Non-Null Count  Dtype  \n",
      "---  ------  --------------  -----  \n",
      " 0   일자      8862 non-null   int64  \n",
      " 1   요일      8862 non-null   object \n",
      " 2   지점명     8862 non-null   object \n",
      " 3   지점번호    8862 non-null   object \n",
      " 4   구분      8862 non-null   object \n",
      " 5   방향      8862 non-null   object \n",
      " 6   0시      5748 non-null   float64\n",
      " 7   1시      5708 non-null   float64\n",
      " 8   2시      5677 non-null   float64\n",
      " 9   3시      5673 non-null   float64\n",
      " 10  4시      5684 non-null   float64\n",
      " 11  5시      5678 non-null   float64\n",
      " 12  6시      5680 non-null   float64\n",
      " 13  7시      5677 non-null   float64\n",
      " 14  8시      5674 non-null   float64\n",
      " 15  9시      5674 non-null   float64\n",
      " 16  10시     5697 non-null   float64\n",
      " 17  11시     5714 non-null   float64\n",
      " 18  12시     5721 non-null   float64\n",
      " 19  13시     5722 non-null   float64\n",
      " 20  14시     5719 non-null   float64\n",
      " 21  15시     5722 non-null   float64\n",
      " 22  16시     5732 non-null   float64\n",
      " 23  17시     5740 non-null   float64\n",
      " 24  18시     5728 non-null   float64\n",
      " 25  19시     5731 non-null   float64\n",
      " 26  20시     5725 non-null   float64\n",
      " 27  21시     5726 non-null   float64\n",
      " 28  22시     5726 non-null   float64\n",
      " 29  23시     5635 non-null   float64\n",
      "dtypes: float64(24), int64(1), object(5)\n",
      "memory usage: 2.0+ MB\n"
     ]
    }
   ],
   "source": [
    "test.info()"
   ]
  },
  {
   "cell_type": "code",
   "execution_count": 6,
   "id": "a467f2b3",
   "metadata": {},
   "outputs": [
    {
     "data": {
      "text/plain": [
       "39     NaN\n",
       "40     NaN\n",
       "41     NaN\n",
       "42     NaN\n",
       "43     NaN\n",
       "        ..\n",
       "8545   NaN\n",
       "8548   NaN\n",
       "8549   NaN\n",
       "8550   NaN\n",
       "8551   NaN\n",
       "Name: 0시, Length: 3114, dtype: float64"
      ]
     },
     "execution_count": 6,
     "metadata": {},
     "output_type": "execute_result"
    }
   ],
   "source": [
    "test.loc[test['0시'].isnull(), '0시']"
   ]
  },
  {
   "cell_type": "code",
   "execution_count": 7,
   "id": "2b9f274d",
   "metadata": {},
   "outputs": [
    {
     "data": {
      "text/plain": [
       "nan"
      ]
     },
     "execution_count": 7,
     "metadata": {},
     "output_type": "execute_result"
    }
   ],
   "source": [
    "test.iloc[39, 6]"
   ]
  },
  {
   "cell_type": "code",
   "execution_count": 10,
   "id": "d387b0c4",
   "metadata": {},
   "outputs": [
    {
     "name": "stdout",
     "output_type": "stream",
     "text": [
      "nan nan\n"
     ]
    }
   ],
   "source": [
    "a = test.iloc[39, 6]\n",
    "b = test.iloc[40, 6]\n",
    "c = 7\n",
    "print(a + b, a + c)\n",
    "# nan 값에는 어떤 값을 더해도 nan값이 나옴"
   ]
  },
  {
   "cell_type": "code",
   "execution_count": 12,
   "id": "57a37a6c",
   "metadata": {},
   "outputs": [
    {
     "data": {
      "text/plain": [
       "0        624.0\n",
       "1        349.0\n",
       "2        632.0\n",
       "3        709.0\n",
       "4        718.0\n",
       "         ...  \n",
       "8857    2572.0\n",
       "8858    1568.0\n",
       "8859    1650.0\n",
       "8860    1565.0\n",
       "8861    1711.0\n",
       "Name: 0시, Length: 8862, dtype: float64"
      ]
     },
     "execution_count": 12,
     "metadata": {},
     "output_type": "execute_result"
    }
   ],
   "source": [
    "test.iloc[:, 6]"
   ]
  },
  {
   "cell_type": "code",
   "execution_count": 13,
   "id": "878aedac",
   "metadata": {},
   "outputs": [
    {
     "name": "stdout",
     "output_type": "stream",
     "text": [
      "<class 'pandas.core.frame.DataFrame'>\n",
      "RangeIndex: 8862 entries, 0 to 8861\n",
      "Data columns (total 30 columns):\n",
      " #   Column  Non-Null Count  Dtype  \n",
      "---  ------  --------------  -----  \n",
      " 0   일자      8862 non-null   int64  \n",
      " 1   요일      8862 non-null   object \n",
      " 2   지점명     8862 non-null   object \n",
      " 3   지점번호    8862 non-null   object \n",
      " 4   구분      8862 non-null   object \n",
      " 5   방향      8862 non-null   object \n",
      " 6   0시      8862 non-null   float64\n",
      " 7   1시      8862 non-null   float64\n",
      " 8   2시      8862 non-null   float64\n",
      " 9   3시      8862 non-null   float64\n",
      " 10  4시      8862 non-null   float64\n",
      " 11  5시      8862 non-null   float64\n",
      " 12  6시      8862 non-null   float64\n",
      " 13  7시      8862 non-null   float64\n",
      " 14  8시      8862 non-null   float64\n",
      " 15  9시      8862 non-null   float64\n",
      " 16  10시     8862 non-null   float64\n",
      " 17  11시     8862 non-null   float64\n",
      " 18  12시     8862 non-null   float64\n",
      " 19  13시     8862 non-null   float64\n",
      " 20  14시     8862 non-null   float64\n",
      " 21  15시     8862 non-null   float64\n",
      " 22  16시     8862 non-null   float64\n",
      " 23  17시     8862 non-null   float64\n",
      " 24  18시     8862 non-null   float64\n",
      " 25  19시     8862 non-null   float64\n",
      " 26  20시     8862 non-null   float64\n",
      " 27  21시     8862 non-null   float64\n",
      " 28  22시     8862 non-null   float64\n",
      " 29  23시     8862 non-null   float64\n",
      "dtypes: float64(24), int64(1), object(5)\n",
      "memory usage: 2.0+ MB\n"
     ]
    }
   ],
   "source": [
    "# nan 값 0으로 채우기\n",
    "\n",
    "for i in range(6, 30):\n",
    "    test.iloc[:, i] = test.iloc[:, i].fillna(0)\n",
    "\n",
    "test.info()"
   ]
  },
  {
   "cell_type": "code",
   "execution_count": 14,
   "id": "33fb71ec",
   "metadata": {},
   "outputs": [
    {
     "data": {
      "text/plain": [
       "[5869638.0,\n",
       " 4442140.0,\n",
       " 3414605.0,\n",
       " 2903340.0,\n",
       " 3037727.0,\n",
       " 4686328.0,\n",
       " 8039774.0,\n",
       " 10616278.0,\n",
       " 11833115.0,\n",
       " 12053282.0,\n",
       " 12236348.0,\n",
       " 12319779.0,\n",
       " 12037331.0,\n",
       " 12520401.0,\n",
       " 12681349.0,\n",
       " 12770867.0,\n",
       " 12797774.0,\n",
       " 12592235.0,\n",
       " 12198852.0,\n",
       " 11219798.0,\n",
       " 10353042.0,\n",
       " 10188863.0,\n",
       " 9367879.0,\n",
       " 7472823.0]"
      ]
     },
     "execution_count": 14,
     "metadata": {},
     "output_type": "execute_result"
    }
   ],
   "source": [
    "# 각 열별 합 구하기\n",
    "col_sum = []\n",
    "for i in range(6, 30):\n",
    "    tmp = test.iloc[:,i].sum()\n",
    "    col_sum.append(tmp)\n",
    "    \n",
    "col_sum"
   ]
  },
  {
   "cell_type": "code",
   "execution_count": 16,
   "id": "5914f9cf",
   "metadata": {},
   "outputs": [
    {
     "data": {
      "text/plain": [
       "227653568.0"
      ]
     },
     "execution_count": 16,
     "metadata": {},
     "output_type": "execute_result"
    }
   ],
   "source": [
    "# 한 달 총 합\n",
    "# 각 열별 합 구하기\n",
    "month_sum = 0\n",
    "for i in range(6, 30):\n",
    "    tmp = test.iloc[:,i].sum()\n",
    "    month_sum += tmp\n",
    "    \n",
    "month_sum"
   ]
  },
  {
   "cell_type": "code",
   "execution_count": 78,
   "id": "3a3990fe",
   "metadata": {
    "scrolled": true
   },
   "outputs": [
    {
     "data": {
      "text/html": [
       "<div>\n",
       "<style scoped>\n",
       "    .dataframe tbody tr th:only-of-type {\n",
       "        vertical-align: middle;\n",
       "    }\n",
       "\n",
       "    .dataframe tbody tr th {\n",
       "        vertical-align: top;\n",
       "    }\n",
       "\n",
       "    .dataframe thead th {\n",
       "        text-align: right;\n",
       "    }\n",
       "</style>\n",
       "<table border=\"1\" class=\"dataframe\">\n",
       "  <thead>\n",
       "    <tr style=\"text-align: right;\">\n",
       "      <th></th>\n",
       "      <th>일자</th>\n",
       "      <th>요일</th>\n",
       "      <th>지점명</th>\n",
       "      <th>지점번호</th>\n",
       "      <th>구분</th>\n",
       "      <th>방향</th>\n",
       "      <th>0시</th>\n",
       "      <th>1시</th>\n",
       "      <th>2시</th>\n",
       "      <th>3시</th>\n",
       "      <th>...</th>\n",
       "      <th>14시</th>\n",
       "      <th>15시</th>\n",
       "      <th>16시</th>\n",
       "      <th>17시</th>\n",
       "      <th>18시</th>\n",
       "      <th>19시</th>\n",
       "      <th>20시</th>\n",
       "      <th>21시</th>\n",
       "      <th>22시</th>\n",
       "      <th>23시</th>\n",
       "    </tr>\n",
       "  </thead>\n",
       "  <tbody>\n",
       "    <tr>\n",
       "      <th>0</th>\n",
       "      <td>20170401</td>\n",
       "      <td>토</td>\n",
       "      <td>성산로(금화터널)</td>\n",
       "      <td>A-01</td>\n",
       "      <td>유입</td>\n",
       "      <td>봉원고가차도-&gt;독립문역</td>\n",
       "      <td>854.0</td>\n",
       "      <td>659.0</td>\n",
       "      <td>476.0</td>\n",
       "      <td>455.0</td>\n",
       "      <td>...</td>\n",
       "      <td>1826.0</td>\n",
       "      <td>1825.0</td>\n",
       "      <td>1939.0</td>\n",
       "      <td>2116.0</td>\n",
       "      <td>1978.0</td>\n",
       "      <td>1420.0</td>\n",
       "      <td>1264.0</td>\n",
       "      <td>1258.0</td>\n",
       "      <td>1204.0</td>\n",
       "      <td>923.0</td>\n",
       "    </tr>\n",
       "    <tr>\n",
       "      <th>1</th>\n",
       "      <td>20170402</td>\n",
       "      <td>일</td>\n",
       "      <td>성산로(금화터널)</td>\n",
       "      <td>A-01</td>\n",
       "      <td>유입</td>\n",
       "      <td>봉원고가차도-&gt;독립문역</td>\n",
       "      <td>654.0</td>\n",
       "      <td>456.0</td>\n",
       "      <td>324.0</td>\n",
       "      <td>276.0</td>\n",
       "      <td>...</td>\n",
       "      <td>1583.0</td>\n",
       "      <td>1677.0</td>\n",
       "      <td>1633.0</td>\n",
       "      <td>1719.0</td>\n",
       "      <td>1727.0</td>\n",
       "      <td>1452.0</td>\n",
       "      <td>1228.0</td>\n",
       "      <td>1172.0</td>\n",
       "      <td>874.0</td>\n",
       "      <td>689.0</td>\n",
       "    </tr>\n",
       "    <tr>\n",
       "      <th>2</th>\n",
       "      <td>20170403</td>\n",
       "      <td>월</td>\n",
       "      <td>성산로(금화터널)</td>\n",
       "      <td>A-01</td>\n",
       "      <td>유입</td>\n",
       "      <td>봉원고가차도-&gt;독립문역</td>\n",
       "      <td>479.0</td>\n",
       "      <td>323.0</td>\n",
       "      <td>214.0</td>\n",
       "      <td>195.0</td>\n",
       "      <td>...</td>\n",
       "      <td>1891.0</td>\n",
       "      <td>2155.0</td>\n",
       "      <td>2075.0</td>\n",
       "      <td>2258.0</td>\n",
       "      <td>2288.0</td>\n",
       "      <td>1823.0</td>\n",
       "      <td>1416.0</td>\n",
       "      <td>1603.0</td>\n",
       "      <td>1390.0</td>\n",
       "      <td>1045.0</td>\n",
       "    </tr>\n",
       "    <tr>\n",
       "      <th>3</th>\n",
       "      <td>20170404</td>\n",
       "      <td>화</td>\n",
       "      <td>성산로(금화터널)</td>\n",
       "      <td>A-01</td>\n",
       "      <td>유입</td>\n",
       "      <td>봉원고가차도-&gt;독립문역</td>\n",
       "      <td>655.0</td>\n",
       "      <td>467.0</td>\n",
       "      <td>320.0</td>\n",
       "      <td>225.0</td>\n",
       "      <td>...</td>\n",
       "      <td>1776.0</td>\n",
       "      <td>2096.0</td>\n",
       "      <td>2173.0</td>\n",
       "      <td>2331.0</td>\n",
       "      <td>2362.0</td>\n",
       "      <td>1978.0</td>\n",
       "      <td>1545.0</td>\n",
       "      <td>1639.0</td>\n",
       "      <td>1538.0</td>\n",
       "      <td>1134.0</td>\n",
       "    </tr>\n",
       "    <tr>\n",
       "      <th>4</th>\n",
       "      <td>20170405</td>\n",
       "      <td>수</td>\n",
       "      <td>성산로(금화터널)</td>\n",
       "      <td>A-01</td>\n",
       "      <td>유입</td>\n",
       "      <td>봉원고가차도-&gt;독립문역</td>\n",
       "      <td>750.0</td>\n",
       "      <td>574.0</td>\n",
       "      <td>362.0</td>\n",
       "      <td>250.0</td>\n",
       "      <td>...</td>\n",
       "      <td>1834.0</td>\n",
       "      <td>1942.0</td>\n",
       "      <td>2084.0</td>\n",
       "      <td>2250.0</td>\n",
       "      <td>2172.0</td>\n",
       "      <td>1957.0</td>\n",
       "      <td>1607.0</td>\n",
       "      <td>1495.0</td>\n",
       "      <td>1212.0</td>\n",
       "      <td>892.0</td>\n",
       "    </tr>\n",
       "  </tbody>\n",
       "</table>\n",
       "<p>5 rows × 30 columns</p>\n",
       "</div>"
      ],
      "text/plain": [
       "         일자 요일        지점명  지점번호  구분            방향     0시     1시     2시     3시  \\\n",
       "0  20170401  토  성산로(금화터널)  A-01  유입  봉원고가차도->독립문역  854.0  659.0  476.0  455.0   \n",
       "1  20170402  일  성산로(금화터널)  A-01  유입  봉원고가차도->독립문역  654.0  456.0  324.0  276.0   \n",
       "2  20170403  월  성산로(금화터널)  A-01  유입  봉원고가차도->독립문역  479.0  323.0  214.0  195.0   \n",
       "3  20170404  화  성산로(금화터널)  A-01  유입  봉원고가차도->독립문역  655.0  467.0  320.0  225.0   \n",
       "4  20170405  수  성산로(금화터널)  A-01  유입  봉원고가차도->독립문역  750.0  574.0  362.0  250.0   \n",
       "\n",
       "   ...     14시     15시     16시     17시     18시     19시     20시     21시  \\\n",
       "0  ...  1826.0  1825.0  1939.0  2116.0  1978.0  1420.0  1264.0  1258.0   \n",
       "1  ...  1583.0  1677.0  1633.0  1719.0  1727.0  1452.0  1228.0  1172.0   \n",
       "2  ...  1891.0  2155.0  2075.0  2258.0  2288.0  1823.0  1416.0  1603.0   \n",
       "3  ...  1776.0  2096.0  2173.0  2331.0  2362.0  1978.0  1545.0  1639.0   \n",
       "4  ...  1834.0  1942.0  2084.0  2250.0  2172.0  1957.0  1607.0  1495.0   \n",
       "\n",
       "      22시     23시  \n",
       "0  1204.0   923.0  \n",
       "1   874.0   689.0  \n",
       "2  1390.0  1045.0  \n",
       "3  1538.0  1134.0  \n",
       "4  1212.0   892.0  \n",
       "\n",
       "[5 rows x 30 columns]"
      ]
     },
     "execution_count": 78,
     "metadata": {},
     "output_type": "execute_result"
    }
   ],
   "source": [
    "# 4월\n",
    "test4 = pd.read_excel('./2017/04월 서울시 교통량 조사자료.xlsx')\n",
    "test4.head()"
   ]
  },
  {
   "cell_type": "code",
   "execution_count": 79,
   "id": "f5cf2029",
   "metadata": {},
   "outputs": [
    {
     "data": {
      "text/html": [
       "<div>\n",
       "<style scoped>\n",
       "    .dataframe tbody tr th:only-of-type {\n",
       "        vertical-align: middle;\n",
       "    }\n",
       "\n",
       "    .dataframe tbody tr th {\n",
       "        vertical-align: top;\n",
       "    }\n",
       "\n",
       "    .dataframe thead th {\n",
       "        text-align: right;\n",
       "    }\n",
       "</style>\n",
       "<table border=\"1\" class=\"dataframe\">\n",
       "  <thead>\n",
       "    <tr style=\"text-align: right;\">\n",
       "      <th></th>\n",
       "      <th>일자</th>\n",
       "      <th>요일</th>\n",
       "      <th>지점명</th>\n",
       "      <th>지점번호</th>\n",
       "      <th>구분</th>\n",
       "      <th>방향</th>\n",
       "      <th>0시</th>\n",
       "      <th>1시</th>\n",
       "      <th>2시</th>\n",
       "      <th>3시</th>\n",
       "      <th>...</th>\n",
       "      <th>14시</th>\n",
       "      <th>15시</th>\n",
       "      <th>16시</th>\n",
       "      <th>17시</th>\n",
       "      <th>18시</th>\n",
       "      <th>19시</th>\n",
       "      <th>20시</th>\n",
       "      <th>21시</th>\n",
       "      <th>22시</th>\n",
       "      <th>23시</th>\n",
       "    </tr>\n",
       "  </thead>\n",
       "  <tbody>\n",
       "    <tr>\n",
       "      <th>8193</th>\n",
       "      <td>20170425</td>\n",
       "      <td>화</td>\n",
       "      <td>서부간선도로</td>\n",
       "      <td>F-09</td>\n",
       "      <td>유출</td>\n",
       "      <td>목동교-&gt;신정교</td>\n",
       "      <td>2406.0</td>\n",
       "      <td>1606.0</td>\n",
       "      <td>1114.0</td>\n",
       "      <td>875.0</td>\n",
       "      <td>...</td>\n",
       "      <td>2706.0</td>\n",
       "      <td>3117.0</td>\n",
       "      <td>3137.0</td>\n",
       "      <td>3199.0</td>\n",
       "      <td>3117.0</td>\n",
       "      <td>2898.0</td>\n",
       "      <td>2487.0</td>\n",
       "      <td>3132.0</td>\n",
       "      <td>3152.0</td>\n",
       "      <td>3111.0</td>\n",
       "    </tr>\n",
       "    <tr>\n",
       "      <th>8194</th>\n",
       "      <td>20170426</td>\n",
       "      <td>수</td>\n",
       "      <td>서부간선도로</td>\n",
       "      <td>F-09</td>\n",
       "      <td>유출</td>\n",
       "      <td>목동교-&gt;신정교</td>\n",
       "      <td>2650.0</td>\n",
       "      <td>1717.0</td>\n",
       "      <td>1179.0</td>\n",
       "      <td>846.0</td>\n",
       "      <td>...</td>\n",
       "      <td>3116.0</td>\n",
       "      <td>3127.0</td>\n",
       "      <td>3084.0</td>\n",
       "      <td>2927.0</td>\n",
       "      <td>3092.0</td>\n",
       "      <td>3001.0</td>\n",
       "      <td>2993.0</td>\n",
       "      <td>3082.0</td>\n",
       "      <td>3027.0</td>\n",
       "      <td>3178.0</td>\n",
       "    </tr>\n",
       "    <tr>\n",
       "      <th>8195</th>\n",
       "      <td>20170427</td>\n",
       "      <td>목</td>\n",
       "      <td>서부간선도로</td>\n",
       "      <td>F-09</td>\n",
       "      <td>유출</td>\n",
       "      <td>목동교-&gt;신정교</td>\n",
       "      <td>2573.0</td>\n",
       "      <td>1930.0</td>\n",
       "      <td>1281.0</td>\n",
       "      <td>918.0</td>\n",
       "      <td>...</td>\n",
       "      <td>3160.0</td>\n",
       "      <td>3171.0</td>\n",
       "      <td>3037.0</td>\n",
       "      <td>2877.0</td>\n",
       "      <td>3037.0</td>\n",
       "      <td>3015.0</td>\n",
       "      <td>3035.0</td>\n",
       "      <td>3068.0</td>\n",
       "      <td>3018.0</td>\n",
       "      <td>3151.0</td>\n",
       "    </tr>\n",
       "    <tr>\n",
       "      <th>8196</th>\n",
       "      <td>20170428</td>\n",
       "      <td>금</td>\n",
       "      <td>서부간선도로</td>\n",
       "      <td>F-09</td>\n",
       "      <td>유출</td>\n",
       "      <td>목동교-&gt;신정교</td>\n",
       "      <td>2802.0</td>\n",
       "      <td>2052.0</td>\n",
       "      <td>1357.0</td>\n",
       "      <td>1030.0</td>\n",
       "      <td>...</td>\n",
       "      <td>2703.0</td>\n",
       "      <td>2595.0</td>\n",
       "      <td>2752.0</td>\n",
       "      <td>794.0</td>\n",
       "      <td>2681.0</td>\n",
       "      <td>2592.0</td>\n",
       "      <td>2884.0</td>\n",
       "      <td>2994.0</td>\n",
       "      <td>2892.0</td>\n",
       "      <td>3138.0</td>\n",
       "    </tr>\n",
       "    <tr>\n",
       "      <th>8197</th>\n",
       "      <td>20170430</td>\n",
       "      <td>일</td>\n",
       "      <td>서부간선도로</td>\n",
       "      <td>F-09</td>\n",
       "      <td>유출</td>\n",
       "      <td>목동교-&gt;신정교</td>\n",
       "      <td>NaN</td>\n",
       "      <td>NaN</td>\n",
       "      <td>NaN</td>\n",
       "      <td>NaN</td>\n",
       "      <td>...</td>\n",
       "      <td>2777.0</td>\n",
       "      <td>3152.0</td>\n",
       "      <td>2800.0</td>\n",
       "      <td>3066.0</td>\n",
       "      <td>3107.0</td>\n",
       "      <td>2959.0</td>\n",
       "      <td>2945.0</td>\n",
       "      <td>2979.0</td>\n",
       "      <td>2989.0</td>\n",
       "      <td>2723.0</td>\n",
       "    </tr>\n",
       "  </tbody>\n",
       "</table>\n",
       "<p>5 rows × 30 columns</p>\n",
       "</div>"
      ],
      "text/plain": [
       "            일자 요일     지점명  지점번호  구분        방향      0시      1시      2시      3시  \\\n",
       "8193  20170425  화  서부간선도로  F-09  유출  목동교->신정교  2406.0  1606.0  1114.0   875.0   \n",
       "8194  20170426  수  서부간선도로  F-09  유출  목동교->신정교  2650.0  1717.0  1179.0   846.0   \n",
       "8195  20170427  목  서부간선도로  F-09  유출  목동교->신정교  2573.0  1930.0  1281.0   918.0   \n",
       "8196  20170428  금  서부간선도로  F-09  유출  목동교->신정교  2802.0  2052.0  1357.0  1030.0   \n",
       "8197  20170430  일  서부간선도로  F-09  유출  목동교->신정교     NaN     NaN     NaN     NaN   \n",
       "\n",
       "      ...     14시     15시     16시     17시     18시     19시     20시     21시  \\\n",
       "8193  ...  2706.0  3117.0  3137.0  3199.0  3117.0  2898.0  2487.0  3132.0   \n",
       "8194  ...  3116.0  3127.0  3084.0  2927.0  3092.0  3001.0  2993.0  3082.0   \n",
       "8195  ...  3160.0  3171.0  3037.0  2877.0  3037.0  3015.0  3035.0  3068.0   \n",
       "8196  ...  2703.0  2595.0  2752.0   794.0  2681.0  2592.0  2884.0  2994.0   \n",
       "8197  ...  2777.0  3152.0  2800.0  3066.0  3107.0  2959.0  2945.0  2979.0   \n",
       "\n",
       "         22시     23시  \n",
       "8193  3152.0  3111.0  \n",
       "8194  3027.0  3178.0  \n",
       "8195  3018.0  3151.0  \n",
       "8196  2892.0  3138.0  \n",
       "8197  2989.0  2723.0  \n",
       "\n",
       "[5 rows x 30 columns]"
      ]
     },
     "execution_count": 79,
     "metadata": {},
     "output_type": "execute_result"
    }
   ],
   "source": [
    "test4.tail()"
   ]
  },
  {
   "cell_type": "code",
   "execution_count": 80,
   "id": "378a3290",
   "metadata": {},
   "outputs": [
    {
     "name": "stdout",
     "output_type": "stream",
     "text": [
      "<class 'pandas.core.frame.DataFrame'>\n",
      "RangeIndex: 8198 entries, 0 to 8197\n",
      "Data columns (total 30 columns):\n",
      " #   Column  Non-Null Count  Dtype  \n",
      "---  ------  --------------  -----  \n",
      " 0   일자      8198 non-null   int64  \n",
      " 1   요일      8198 non-null   object \n",
      " 2   지점명     8198 non-null   object \n",
      " 3   지점번호    8198 non-null   object \n",
      " 4   구분      8198 non-null   object \n",
      " 5   방향      8138 non-null   object \n",
      " 6   0시      6914 non-null   float64\n",
      " 7   1시      6909 non-null   float64\n",
      " 8   2시      6875 non-null   float64\n",
      " 9   3시      6867 non-null   float64\n",
      " 10  4시      6880 non-null   float64\n",
      " 11  5시      6889 non-null   float64\n",
      " 12  6시      6948 non-null   object \n",
      " 13  7시      6956 non-null   float64\n",
      " 14  8시      6973 non-null   float64\n",
      " 15  9시      7012 non-null   float64\n",
      " 16  10시     6997 non-null   float64\n",
      " 17  11시     6979 non-null   float64\n",
      " 18  12시     6975 non-null   float64\n",
      " 19  13시     6952 non-null   float64\n",
      " 20  14시     6939 non-null   float64\n",
      " 21  15시     6940 non-null   float64\n",
      " 22  16시     6948 non-null   float64\n",
      " 23  17시     6966 non-null   float64\n",
      " 24  18시     6987 non-null   float64\n",
      " 25  19시     7001 non-null   float64\n",
      " 26  20시     7008 non-null   float64\n",
      " 27  21시     7010 non-null   float64\n",
      " 28  22시     6960 non-null   float64\n",
      " 29  23시     6838 non-null   float64\n",
      "dtypes: float64(23), int64(1), object(6)\n",
      "memory usage: 1.9+ MB\n"
     ]
    }
   ],
   "source": [
    "test4.info()"
   ]
  },
  {
   "cell_type": "code",
   "execution_count": 81,
   "id": "e5c1107b",
   "metadata": {
    "scrolled": true
   },
   "outputs": [
    {
     "name": "stdout",
     "output_type": "stream",
     "text": [
      "<class 'pandas.core.frame.DataFrame'>\n",
      "RangeIndex: 8198 entries, 0 to 8197\n",
      "Data columns (total 30 columns):\n",
      " #   Column  Non-Null Count  Dtype  \n",
      "---  ------  --------------  -----  \n",
      " 0   일자      8198 non-null   int64  \n",
      " 1   요일      8198 non-null   object \n",
      " 2   지점명     8198 non-null   object \n",
      " 3   지점번호    8198 non-null   object \n",
      " 4   구분      8198 non-null   object \n",
      " 5   방향      8138 non-null   object \n",
      " 6   0시      8198 non-null   float64\n",
      " 7   1시      8198 non-null   float64\n",
      " 8   2시      8198 non-null   float64\n",
      " 9   3시      8198 non-null   float64\n",
      " 10  4시      8198 non-null   float64\n",
      " 11  5시      8198 non-null   float64\n",
      " 12  6시      8198 non-null   object \n",
      " 13  7시      8198 non-null   float64\n",
      " 14  8시      8198 non-null   float64\n",
      " 15  9시      8198 non-null   float64\n",
      " 16  10시     8198 non-null   float64\n",
      " 17  11시     8198 non-null   float64\n",
      " 18  12시     8198 non-null   float64\n",
      " 19  13시     8198 non-null   float64\n",
      " 20  14시     8198 non-null   float64\n",
      " 21  15시     8198 non-null   float64\n",
      " 22  16시     8198 non-null   float64\n",
      " 23  17시     8198 non-null   float64\n",
      " 24  18시     8198 non-null   float64\n",
      " 25  19시     8198 non-null   float64\n",
      " 26  20시     8198 non-null   float64\n",
      " 27  21시     8198 non-null   float64\n",
      " 28  22시     8198 non-null   float64\n",
      " 29  23시     8198 non-null   float64\n",
      "dtypes: float64(23), int64(1), object(6)\n",
      "memory usage: 1.9+ MB\n"
     ]
    }
   ],
   "source": [
    "# nan 값 0으로 채우기\n",
    "\n",
    "for i in range(6, 30):\n",
    "    test4.iloc[:, i] = test4.iloc[:, i].fillna(0)\n",
    "\n",
    "test4.info()"
   ]
  },
  {
   "cell_type": "code",
   "execution_count": 82,
   "id": "825f6b0f",
   "metadata": {},
   "outputs": [
    {
     "data": {
      "text/html": [
       "<div>\n",
       "<style scoped>\n",
       "    .dataframe tbody tr th:only-of-type {\n",
       "        vertical-align: middle;\n",
       "    }\n",
       "\n",
       "    .dataframe tbody tr th {\n",
       "        vertical-align: top;\n",
       "    }\n",
       "\n",
       "    .dataframe thead th {\n",
       "        text-align: right;\n",
       "    }\n",
       "</style>\n",
       "<table border=\"1\" class=\"dataframe\">\n",
       "  <thead>\n",
       "    <tr style=\"text-align: right;\">\n",
       "      <th></th>\n",
       "      <th>일자</th>\n",
       "      <th>요일</th>\n",
       "      <th>지점명</th>\n",
       "      <th>지점번호</th>\n",
       "      <th>구분</th>\n",
       "      <th>방향</th>\n",
       "      <th>0시</th>\n",
       "      <th>1시</th>\n",
       "      <th>2시</th>\n",
       "      <th>3시</th>\n",
       "      <th>...</th>\n",
       "      <th>14시</th>\n",
       "      <th>15시</th>\n",
       "      <th>16시</th>\n",
       "      <th>17시</th>\n",
       "      <th>18시</th>\n",
       "      <th>19시</th>\n",
       "      <th>20시</th>\n",
       "      <th>21시</th>\n",
       "      <th>22시</th>\n",
       "      <th>23시</th>\n",
       "    </tr>\n",
       "  </thead>\n",
       "  <tbody>\n",
       "    <tr>\n",
       "      <th>8193</th>\n",
       "      <td>20170425</td>\n",
       "      <td>화</td>\n",
       "      <td>서부간선도로</td>\n",
       "      <td>F-09</td>\n",
       "      <td>유출</td>\n",
       "      <td>목동교-&gt;신정교</td>\n",
       "      <td>2406.0</td>\n",
       "      <td>1606.0</td>\n",
       "      <td>1114.0</td>\n",
       "      <td>875.0</td>\n",
       "      <td>...</td>\n",
       "      <td>2706.0</td>\n",
       "      <td>3117.0</td>\n",
       "      <td>3137.0</td>\n",
       "      <td>3199.0</td>\n",
       "      <td>3117.0</td>\n",
       "      <td>2898.0</td>\n",
       "      <td>2487.0</td>\n",
       "      <td>3132.0</td>\n",
       "      <td>3152.0</td>\n",
       "      <td>3111.0</td>\n",
       "    </tr>\n",
       "    <tr>\n",
       "      <th>8194</th>\n",
       "      <td>20170426</td>\n",
       "      <td>수</td>\n",
       "      <td>서부간선도로</td>\n",
       "      <td>F-09</td>\n",
       "      <td>유출</td>\n",
       "      <td>목동교-&gt;신정교</td>\n",
       "      <td>2650.0</td>\n",
       "      <td>1717.0</td>\n",
       "      <td>1179.0</td>\n",
       "      <td>846.0</td>\n",
       "      <td>...</td>\n",
       "      <td>3116.0</td>\n",
       "      <td>3127.0</td>\n",
       "      <td>3084.0</td>\n",
       "      <td>2927.0</td>\n",
       "      <td>3092.0</td>\n",
       "      <td>3001.0</td>\n",
       "      <td>2993.0</td>\n",
       "      <td>3082.0</td>\n",
       "      <td>3027.0</td>\n",
       "      <td>3178.0</td>\n",
       "    </tr>\n",
       "    <tr>\n",
       "      <th>8195</th>\n",
       "      <td>20170427</td>\n",
       "      <td>목</td>\n",
       "      <td>서부간선도로</td>\n",
       "      <td>F-09</td>\n",
       "      <td>유출</td>\n",
       "      <td>목동교-&gt;신정교</td>\n",
       "      <td>2573.0</td>\n",
       "      <td>1930.0</td>\n",
       "      <td>1281.0</td>\n",
       "      <td>918.0</td>\n",
       "      <td>...</td>\n",
       "      <td>3160.0</td>\n",
       "      <td>3171.0</td>\n",
       "      <td>3037.0</td>\n",
       "      <td>2877.0</td>\n",
       "      <td>3037.0</td>\n",
       "      <td>3015.0</td>\n",
       "      <td>3035.0</td>\n",
       "      <td>3068.0</td>\n",
       "      <td>3018.0</td>\n",
       "      <td>3151.0</td>\n",
       "    </tr>\n",
       "    <tr>\n",
       "      <th>8196</th>\n",
       "      <td>20170428</td>\n",
       "      <td>금</td>\n",
       "      <td>서부간선도로</td>\n",
       "      <td>F-09</td>\n",
       "      <td>유출</td>\n",
       "      <td>목동교-&gt;신정교</td>\n",
       "      <td>2802.0</td>\n",
       "      <td>2052.0</td>\n",
       "      <td>1357.0</td>\n",
       "      <td>1030.0</td>\n",
       "      <td>...</td>\n",
       "      <td>2703.0</td>\n",
       "      <td>2595.0</td>\n",
       "      <td>2752.0</td>\n",
       "      <td>794.0</td>\n",
       "      <td>2681.0</td>\n",
       "      <td>2592.0</td>\n",
       "      <td>2884.0</td>\n",
       "      <td>2994.0</td>\n",
       "      <td>2892.0</td>\n",
       "      <td>3138.0</td>\n",
       "    </tr>\n",
       "    <tr>\n",
       "      <th>8197</th>\n",
       "      <td>20170430</td>\n",
       "      <td>일</td>\n",
       "      <td>서부간선도로</td>\n",
       "      <td>F-09</td>\n",
       "      <td>유출</td>\n",
       "      <td>목동교-&gt;신정교</td>\n",
       "      <td>0.0</td>\n",
       "      <td>0.0</td>\n",
       "      <td>0.0</td>\n",
       "      <td>0.0</td>\n",
       "      <td>...</td>\n",
       "      <td>2777.0</td>\n",
       "      <td>3152.0</td>\n",
       "      <td>2800.0</td>\n",
       "      <td>3066.0</td>\n",
       "      <td>3107.0</td>\n",
       "      <td>2959.0</td>\n",
       "      <td>2945.0</td>\n",
       "      <td>2979.0</td>\n",
       "      <td>2989.0</td>\n",
       "      <td>2723.0</td>\n",
       "    </tr>\n",
       "  </tbody>\n",
       "</table>\n",
       "<p>5 rows × 30 columns</p>\n",
       "</div>"
      ],
      "text/plain": [
       "            일자 요일     지점명  지점번호  구분        방향      0시      1시      2시      3시  \\\n",
       "8193  20170425  화  서부간선도로  F-09  유출  목동교->신정교  2406.0  1606.0  1114.0   875.0   \n",
       "8194  20170426  수  서부간선도로  F-09  유출  목동교->신정교  2650.0  1717.0  1179.0   846.0   \n",
       "8195  20170427  목  서부간선도로  F-09  유출  목동교->신정교  2573.0  1930.0  1281.0   918.0   \n",
       "8196  20170428  금  서부간선도로  F-09  유출  목동교->신정교  2802.0  2052.0  1357.0  1030.0   \n",
       "8197  20170430  일  서부간선도로  F-09  유출  목동교->신정교     0.0     0.0     0.0     0.0   \n",
       "\n",
       "      ...     14시     15시     16시     17시     18시     19시     20시     21시  \\\n",
       "8193  ...  2706.0  3117.0  3137.0  3199.0  3117.0  2898.0  2487.0  3132.0   \n",
       "8194  ...  3116.0  3127.0  3084.0  2927.0  3092.0  3001.0  2993.0  3082.0   \n",
       "8195  ...  3160.0  3171.0  3037.0  2877.0  3037.0  3015.0  3035.0  3068.0   \n",
       "8196  ...  2703.0  2595.0  2752.0   794.0  2681.0  2592.0  2884.0  2994.0   \n",
       "8197  ...  2777.0  3152.0  2800.0  3066.0  3107.0  2959.0  2945.0  2979.0   \n",
       "\n",
       "         22시     23시  \n",
       "8193  3152.0  3111.0  \n",
       "8194  3027.0  3178.0  \n",
       "8195  3018.0  3151.0  \n",
       "8196  2892.0  3138.0  \n",
       "8197  2989.0  2723.0  \n",
       "\n",
       "[5 rows x 30 columns]"
      ]
     },
     "execution_count": 82,
     "metadata": {},
     "output_type": "execute_result"
    }
   ],
   "source": [
    "test4.tail()"
   ]
  },
  {
   "cell_type": "code",
   "execution_count": 70,
   "id": "674879c2",
   "metadata": {},
   "outputs": [
    {
     "data": {
      "text/plain": [
       "0        910\n",
       "1        609\n",
       "2       1919\n",
       "3       1749\n",
       "4       1693\n",
       "        ... \n",
       "8193    3388\n",
       "8194    3353\n",
       "8195    3329\n",
       "8196    3333\n",
       "8197       0\n",
       "Name: 6시, Length: 8198, dtype: object"
      ]
     },
     "execution_count": 70,
     "metadata": {},
     "output_type": "execute_result"
    }
   ],
   "source": [
    "test4.iloc[:,12]"
   ]
  },
  {
   "cell_type": "code",
   "execution_count": 71,
   "id": "9c36d730",
   "metadata": {},
   "outputs": [],
   "source": [
    "for i in range(len(test4.index)):\n",
    "    for j in range(6, 30):\n",
    "        if type(test4.iloc[i,j]) == 'str':\n",
    "            print(test4.iloc[i,j])"
   ]
  },
  {
   "cell_type": "code",
   "execution_count": 59,
   "id": "5ee78667",
   "metadata": {
    "scrolled": false
   },
   "outputs": [
    {
     "name": "stdout",
     "output_type": "stream",
     "text": [
      "<class 'pandas.core.frame.DataFrame'>\n",
      "RangeIndex: 8862 entries, 0 to 8861\n",
      "Data columns (total 30 columns):\n",
      " #   Column  Non-Null Count  Dtype  \n",
      "---  ------  --------------  -----  \n",
      " 0   일자      8862 non-null   int64  \n",
      " 1   요일      8862 non-null   object \n",
      " 2   지점명     8862 non-null   object \n",
      " 3   지점번호    8862 non-null   object \n",
      " 4   구분      8862 non-null   object \n",
      " 5   방향      8862 non-null   object \n",
      " 6   0시      8862 non-null   float64\n",
      " 7   1시      8862 non-null   float64\n",
      " 8   2시      8862 non-null   float64\n",
      " 9   3시      8862 non-null   float64\n",
      " 10  4시      8862 non-null   float64\n",
      " 11  5시      8862 non-null   float64\n",
      " 12  6시      8862 non-null   float64\n",
      " 13  7시      8862 non-null   float64\n",
      " 14  8시      8862 non-null   float64\n",
      " 15  9시      8862 non-null   float64\n",
      " 16  10시     8862 non-null   float64\n",
      " 17  11시     8862 non-null   float64\n",
      " 18  12시     8862 non-null   float64\n",
      " 19  13시     8862 non-null   float64\n",
      " 20  14시     8862 non-null   float64\n",
      " 21  15시     8862 non-null   float64\n",
      " 22  16시     8862 non-null   float64\n",
      " 23  17시     8862 non-null   float64\n",
      " 24  18시     8862 non-null   float64\n",
      " 25  19시     8862 non-null   float64\n",
      " 26  20시     8862 non-null   float64\n",
      " 27  21시     8862 non-null   float64\n",
      " 28  22시     8862 non-null   float64\n",
      " 29  23시     8862 non-null   float64\n",
      "dtypes: float64(24), int64(1), object(5)\n",
      "memory usage: 2.0+ MB\n"
     ]
    }
   ],
   "source": [
    "for i in range(len(test4.index)):\n",
    "    for j in range(6, 30):\n",
    "        if type(test4.iloc[i,j]) == 'str':\n",
    "            test4.iloc[i,j] = float(test4.iloc[i,j])\n",
    "\n",
    "test.info()"
   ]
  },
  {
   "cell_type": "code",
   "execution_count": 60,
   "id": "d0b5c68e",
   "metadata": {},
   "outputs": [
    {
     "data": {
      "text/plain": [
       "0        910\n",
       "1        609\n",
       "2       1919\n",
       "3       1749\n",
       "4       1693\n",
       "        ... \n",
       "8193    3388\n",
       "8194    3353\n",
       "8195    3329\n",
       "8196    3333\n",
       "8197       0\n",
       "Name: 6시, Length: 8198, dtype: object"
      ]
     },
     "execution_count": 60,
     "metadata": {},
     "output_type": "execute_result"
    }
   ],
   "source": [
    "test4.iloc[:,12]"
   ]
  },
  {
   "cell_type": "code",
   "execution_count": 83,
   "id": "254b5d19",
   "metadata": {
    "scrolled": true
   },
   "outputs": [
    {
     "data": {
      "text/plain": [
       "7시     13605059.0\n",
       "8시     14347539.0\n",
       "9시     14252759.0\n",
       "10시    14133170.0\n",
       "11시    13810417.0\n",
       "12시    13157905.0\n",
       "13시    13700986.0\n",
       "14시    13738222.0\n",
       "15시    14006296.0\n",
       "16시    14302913.0\n",
       "17시    14521880.0\n",
       "18시    14502090.0\n",
       "19시    13311361.0\n",
       "20시    12199211.0\n",
       "21시    11981443.0\n",
       "22시    11019869.0\n",
       "23시     8623540.0\n",
       "dtype: float64"
      ]
     },
     "execution_count": 83,
     "metadata": {},
     "output_type": "execute_result"
    }
   ],
   "source": [
    "test4.iloc[:,13:30].sum()"
   ]
  },
  {
   "cell_type": "markdown",
   "id": "606faaa3",
   "metadata": {},
   "source": [
    "# 2017년"
   ]
  },
  {
   "cell_type": "code",
   "execution_count": 75,
   "id": "05274c58",
   "metadata": {
    "scrolled": true
   },
   "outputs": [
    {
     "ename": "ValueError",
     "evalue": "could not convert string to float: ''",
     "output_type": "error",
     "traceback": [
      "\u001b[1;31m---------------------------------------------------------------------------\u001b[0m",
      "\u001b[1;31mValueError\u001b[0m                                Traceback (most recent call last)",
      "\u001b[1;32m<ipython-input-75-b2d6b95e3d25>\u001b[0m in \u001b[0;36m<module>\u001b[1;34m\u001b[0m\n\u001b[0;32m      8\u001b[0m     \u001b[1;31m# float 타입으로 변환\u001b[0m\u001b[1;33m\u001b[0m\u001b[1;33m\u001b[0m\u001b[1;33m\u001b[0m\u001b[0m\n\u001b[0;32m      9\u001b[0m     \u001b[1;32mfor\u001b[0m \u001b[0mi\u001b[0m \u001b[1;32min\u001b[0m \u001b[0mrange\u001b[0m\u001b[1;33m(\u001b[0m\u001b[1;36m6\u001b[0m\u001b[1;33m,\u001b[0m \u001b[1;36m30\u001b[0m\u001b[1;33m)\u001b[0m\u001b[1;33m:\u001b[0m\u001b[1;33m\u001b[0m\u001b[1;33m\u001b[0m\u001b[0m\n\u001b[1;32m---> 10\u001b[1;33m         \u001b[0mmonth_dat\u001b[0m\u001b[1;33m.\u001b[0m\u001b[0miloc\u001b[0m\u001b[1;33m[\u001b[0m\u001b[1;33m:\u001b[0m\u001b[1;33m,\u001b[0m \u001b[0mi\u001b[0m\u001b[1;33m]\u001b[0m \u001b[1;33m=\u001b[0m \u001b[0mmonth_dat\u001b[0m\u001b[1;33m.\u001b[0m\u001b[0miloc\u001b[0m\u001b[1;33m[\u001b[0m\u001b[1;33m:\u001b[0m\u001b[1;33m,\u001b[0m \u001b[0mi\u001b[0m\u001b[1;33m]\u001b[0m\u001b[1;33m.\u001b[0m\u001b[0mastype\u001b[0m\u001b[1;33m(\u001b[0m\u001b[0mfloat\u001b[0m\u001b[1;33m)\u001b[0m\u001b[1;33m\u001b[0m\u001b[1;33m\u001b[0m\u001b[0m\n\u001b[0m\u001b[0;32m     11\u001b[0m     \u001b[0mmonth_sum\u001b[0m \u001b[1;33m=\u001b[0m \u001b[1;36m0\u001b[0m\u001b[1;33m\u001b[0m\u001b[1;33m\u001b[0m\u001b[0m\n\u001b[0;32m     12\u001b[0m     \u001b[1;31m# 한달 총합 구하기\u001b[0m\u001b[1;33m\u001b[0m\u001b[1;33m\u001b[0m\u001b[1;33m\u001b[0m\u001b[0m\n",
      "\u001b[1;32m~\\anaconda3\\lib\\site-packages\\pandas\\core\\generic.py\u001b[0m in \u001b[0;36mastype\u001b[1;34m(self, dtype, copy, errors)\u001b[0m\n\u001b[0;32m   5875\u001b[0m         \u001b[1;32melse\u001b[0m\u001b[1;33m:\u001b[0m\u001b[1;33m\u001b[0m\u001b[1;33m\u001b[0m\u001b[0m\n\u001b[0;32m   5876\u001b[0m             \u001b[1;31m# else, only a single dtype is given\u001b[0m\u001b[1;33m\u001b[0m\u001b[1;33m\u001b[0m\u001b[1;33m\u001b[0m\u001b[0m\n\u001b[1;32m-> 5877\u001b[1;33m             \u001b[0mnew_data\u001b[0m \u001b[1;33m=\u001b[0m \u001b[0mself\u001b[0m\u001b[1;33m.\u001b[0m\u001b[0m_mgr\u001b[0m\u001b[1;33m.\u001b[0m\u001b[0mastype\u001b[0m\u001b[1;33m(\u001b[0m\u001b[0mdtype\u001b[0m\u001b[1;33m=\u001b[0m\u001b[0mdtype\u001b[0m\u001b[1;33m,\u001b[0m \u001b[0mcopy\u001b[0m\u001b[1;33m=\u001b[0m\u001b[0mcopy\u001b[0m\u001b[1;33m,\u001b[0m \u001b[0merrors\u001b[0m\u001b[1;33m=\u001b[0m\u001b[0merrors\u001b[0m\u001b[1;33m)\u001b[0m\u001b[1;33m\u001b[0m\u001b[1;33m\u001b[0m\u001b[0m\n\u001b[0m\u001b[0;32m   5878\u001b[0m             \u001b[1;32mreturn\u001b[0m \u001b[0mself\u001b[0m\u001b[1;33m.\u001b[0m\u001b[0m_constructor\u001b[0m\u001b[1;33m(\u001b[0m\u001b[0mnew_data\u001b[0m\u001b[1;33m)\u001b[0m\u001b[1;33m.\u001b[0m\u001b[0m__finalize__\u001b[0m\u001b[1;33m(\u001b[0m\u001b[0mself\u001b[0m\u001b[1;33m,\u001b[0m \u001b[0mmethod\u001b[0m\u001b[1;33m=\u001b[0m\u001b[1;34m\"astype\"\u001b[0m\u001b[1;33m)\u001b[0m\u001b[1;33m\u001b[0m\u001b[1;33m\u001b[0m\u001b[0m\n\u001b[0;32m   5879\u001b[0m \u001b[1;33m\u001b[0m\u001b[0m\n",
      "\u001b[1;32m~\\anaconda3\\lib\\site-packages\\pandas\\core\\internals\\managers.py\u001b[0m in \u001b[0;36mastype\u001b[1;34m(self, dtype, copy, errors)\u001b[0m\n\u001b[0;32m    629\u001b[0m         \u001b[0mself\u001b[0m\u001b[1;33m,\u001b[0m \u001b[0mdtype\u001b[0m\u001b[1;33m,\u001b[0m \u001b[0mcopy\u001b[0m\u001b[1;33m:\u001b[0m \u001b[0mbool\u001b[0m \u001b[1;33m=\u001b[0m \u001b[1;32mFalse\u001b[0m\u001b[1;33m,\u001b[0m \u001b[0merrors\u001b[0m\u001b[1;33m:\u001b[0m \u001b[0mstr\u001b[0m \u001b[1;33m=\u001b[0m \u001b[1;34m\"raise\"\u001b[0m\u001b[1;33m\u001b[0m\u001b[1;33m\u001b[0m\u001b[0m\n\u001b[0;32m    630\u001b[0m     ) -> \"BlockManager\":\n\u001b[1;32m--> 631\u001b[1;33m         \u001b[1;32mreturn\u001b[0m \u001b[0mself\u001b[0m\u001b[1;33m.\u001b[0m\u001b[0mapply\u001b[0m\u001b[1;33m(\u001b[0m\u001b[1;34m\"astype\"\u001b[0m\u001b[1;33m,\u001b[0m \u001b[0mdtype\u001b[0m\u001b[1;33m=\u001b[0m\u001b[0mdtype\u001b[0m\u001b[1;33m,\u001b[0m \u001b[0mcopy\u001b[0m\u001b[1;33m=\u001b[0m\u001b[0mcopy\u001b[0m\u001b[1;33m,\u001b[0m \u001b[0merrors\u001b[0m\u001b[1;33m=\u001b[0m\u001b[0merrors\u001b[0m\u001b[1;33m)\u001b[0m\u001b[1;33m\u001b[0m\u001b[1;33m\u001b[0m\u001b[0m\n\u001b[0m\u001b[0;32m    632\u001b[0m \u001b[1;33m\u001b[0m\u001b[0m\n\u001b[0;32m    633\u001b[0m     def convert(\n",
      "\u001b[1;32m~\\anaconda3\\lib\\site-packages\\pandas\\core\\internals\\managers.py\u001b[0m in \u001b[0;36mapply\u001b[1;34m(self, f, align_keys, ignore_failures, **kwargs)\u001b[0m\n\u001b[0;32m    425\u001b[0m                     \u001b[0mapplied\u001b[0m \u001b[1;33m=\u001b[0m \u001b[0mb\u001b[0m\u001b[1;33m.\u001b[0m\u001b[0mapply\u001b[0m\u001b[1;33m(\u001b[0m\u001b[0mf\u001b[0m\u001b[1;33m,\u001b[0m \u001b[1;33m**\u001b[0m\u001b[0mkwargs\u001b[0m\u001b[1;33m)\u001b[0m\u001b[1;33m\u001b[0m\u001b[1;33m\u001b[0m\u001b[0m\n\u001b[0;32m    426\u001b[0m                 \u001b[1;32melse\u001b[0m\u001b[1;33m:\u001b[0m\u001b[1;33m\u001b[0m\u001b[1;33m\u001b[0m\u001b[0m\n\u001b[1;32m--> 427\u001b[1;33m                     \u001b[0mapplied\u001b[0m \u001b[1;33m=\u001b[0m \u001b[0mgetattr\u001b[0m\u001b[1;33m(\u001b[0m\u001b[0mb\u001b[0m\u001b[1;33m,\u001b[0m \u001b[0mf\u001b[0m\u001b[1;33m)\u001b[0m\u001b[1;33m(\u001b[0m\u001b[1;33m**\u001b[0m\u001b[0mkwargs\u001b[0m\u001b[1;33m)\u001b[0m\u001b[1;33m\u001b[0m\u001b[1;33m\u001b[0m\u001b[0m\n\u001b[0m\u001b[0;32m    428\u001b[0m             \u001b[1;32mexcept\u001b[0m \u001b[1;33m(\u001b[0m\u001b[0mTypeError\u001b[0m\u001b[1;33m,\u001b[0m \u001b[0mNotImplementedError\u001b[0m\u001b[1;33m)\u001b[0m\u001b[1;33m:\u001b[0m\u001b[1;33m\u001b[0m\u001b[1;33m\u001b[0m\u001b[0m\n\u001b[0;32m    429\u001b[0m                 \u001b[1;32mif\u001b[0m \u001b[1;32mnot\u001b[0m \u001b[0mignore_failures\u001b[0m\u001b[1;33m:\u001b[0m\u001b[1;33m\u001b[0m\u001b[1;33m\u001b[0m\u001b[0m\n",
      "\u001b[1;32m~\\anaconda3\\lib\\site-packages\\pandas\\core\\internals\\blocks.py\u001b[0m in \u001b[0;36mastype\u001b[1;34m(self, dtype, copy, errors)\u001b[0m\n\u001b[0;32m    671\u001b[0m             \u001b[0mvals1d\u001b[0m \u001b[1;33m=\u001b[0m \u001b[0mvalues\u001b[0m\u001b[1;33m.\u001b[0m\u001b[0mravel\u001b[0m\u001b[1;33m(\u001b[0m\u001b[1;33m)\u001b[0m\u001b[1;33m\u001b[0m\u001b[1;33m\u001b[0m\u001b[0m\n\u001b[0;32m    672\u001b[0m             \u001b[1;32mtry\u001b[0m\u001b[1;33m:\u001b[0m\u001b[1;33m\u001b[0m\u001b[1;33m\u001b[0m\u001b[0m\n\u001b[1;32m--> 673\u001b[1;33m                 \u001b[0mvalues\u001b[0m \u001b[1;33m=\u001b[0m \u001b[0mastype_nansafe\u001b[0m\u001b[1;33m(\u001b[0m\u001b[0mvals1d\u001b[0m\u001b[1;33m,\u001b[0m \u001b[0mdtype\u001b[0m\u001b[1;33m,\u001b[0m \u001b[0mcopy\u001b[0m\u001b[1;33m=\u001b[0m\u001b[1;32mTrue\u001b[0m\u001b[1;33m)\u001b[0m\u001b[1;33m\u001b[0m\u001b[1;33m\u001b[0m\u001b[0m\n\u001b[0m\u001b[0;32m    674\u001b[0m             \u001b[1;32mexcept\u001b[0m \u001b[1;33m(\u001b[0m\u001b[0mValueError\u001b[0m\u001b[1;33m,\u001b[0m \u001b[0mTypeError\u001b[0m\u001b[1;33m)\u001b[0m\u001b[1;33m:\u001b[0m\u001b[1;33m\u001b[0m\u001b[1;33m\u001b[0m\u001b[0m\n\u001b[0;32m    675\u001b[0m                 \u001b[1;31m# e.g. astype_nansafe can fail on object-dtype of strings\u001b[0m\u001b[1;33m\u001b[0m\u001b[1;33m\u001b[0m\u001b[1;33m\u001b[0m\u001b[0m\n",
      "\u001b[1;32m~\\anaconda3\\lib\\site-packages\\pandas\\core\\dtypes\\cast.py\u001b[0m in \u001b[0;36mastype_nansafe\u001b[1;34m(arr, dtype, copy, skipna)\u001b[0m\n\u001b[0;32m   1095\u001b[0m     \u001b[1;32mif\u001b[0m \u001b[0mcopy\u001b[0m \u001b[1;32mor\u001b[0m \u001b[0mis_object_dtype\u001b[0m\u001b[1;33m(\u001b[0m\u001b[0marr\u001b[0m\u001b[1;33m)\u001b[0m \u001b[1;32mor\u001b[0m \u001b[0mis_object_dtype\u001b[0m\u001b[1;33m(\u001b[0m\u001b[0mdtype\u001b[0m\u001b[1;33m)\u001b[0m\u001b[1;33m:\u001b[0m\u001b[1;33m\u001b[0m\u001b[1;33m\u001b[0m\u001b[0m\n\u001b[0;32m   1096\u001b[0m         \u001b[1;31m# Explicit copy, or required since NumPy can't view from / to object.\u001b[0m\u001b[1;33m\u001b[0m\u001b[1;33m\u001b[0m\u001b[1;33m\u001b[0m\u001b[0m\n\u001b[1;32m-> 1097\u001b[1;33m         \u001b[1;32mreturn\u001b[0m \u001b[0marr\u001b[0m\u001b[1;33m.\u001b[0m\u001b[0mastype\u001b[0m\u001b[1;33m(\u001b[0m\u001b[0mdtype\u001b[0m\u001b[1;33m,\u001b[0m \u001b[0mcopy\u001b[0m\u001b[1;33m=\u001b[0m\u001b[1;32mTrue\u001b[0m\u001b[1;33m)\u001b[0m\u001b[1;33m\u001b[0m\u001b[1;33m\u001b[0m\u001b[0m\n\u001b[0m\u001b[0;32m   1098\u001b[0m \u001b[1;33m\u001b[0m\u001b[0m\n\u001b[0;32m   1099\u001b[0m     \u001b[1;32mreturn\u001b[0m \u001b[0marr\u001b[0m\u001b[1;33m.\u001b[0m\u001b[0mview\u001b[0m\u001b[1;33m(\u001b[0m\u001b[0mdtype\u001b[0m\u001b[1;33m)\u001b[0m\u001b[1;33m\u001b[0m\u001b[1;33m\u001b[0m\u001b[0m\n",
      "\u001b[1;31mValueError\u001b[0m: could not convert string to float: ''"
     ]
    }
   ],
   "source": [
    "# 2017년 월별 통행량\n",
    "# G열 부터 시작(6열)\n",
    "# 4월 오류 해결중...\n",
    "\n",
    "year_2017 = []\n",
    "for m in range(1, 13):\n",
    "    month_dat = pd.read_excel(f'./2017/{m:0>2}월 서울시 교통량 조사자료.xlsx')\n",
    "    # nan값 0으로 채우기\n",
    "    for i in range(6, 30):\n",
    "        month_dat.iloc[:, i] = month_dat.iloc[:, i].fillna(0)\n",
    "\n",
    "    month_sum = 0\n",
    "    # 한달 총합 구하기\n",
    "    for i in range(6, 30):\n",
    "        tmp = month_dat.iloc[:,i].sum()\n",
    "        month_sum += tmp\n",
    "    year_2017.append(month_sum)\n",
    "year_2017"
   ]
  },
  {
   "cell_type": "markdown",
   "id": "5be9f66a",
   "metadata": {},
   "source": [
    "## 2017년 4월 에러 해결"
   ]
  },
  {
   "cell_type": "code",
   "execution_count": 164,
   "id": "61a25d19",
   "metadata": {},
   "outputs": [
    {
     "data": {
      "text/plain": [
       "[227653568.0,\n",
       " 214298439.0,\n",
       " 242598574.0,\n",
       " 263975550.0,\n",
       " 295918625.0,\n",
       " 288598798.0,\n",
       " 292584832.0,\n",
       " 302005433.0,\n",
       " 293008364.0,\n",
       " 295585441.0,\n",
       " 282938331.0,\n",
       " 274825244.0]"
      ]
     },
     "execution_count": 164,
     "metadata": {},
     "output_type": "execute_result"
    }
   ],
   "source": [
    "# 2017년 월별 통행량\n",
    "# G열 부터 시작(6열)\n",
    "# 4월 오류 해결중...\n",
    "\n",
    "# df = df.apply(pd.to_numeric, errors='coerce').fillna(0)\n",
    "\n",
    "year_2017 = []\n",
    "for m in range(1, 13):\n",
    "    month_dat = pd.read_excel(f'./2017/{m:0>2}월 서울시 교통량 조사자료.xlsx')\n",
    "    # 에러 값을 nan값으로 바꾼 뒤\n",
    "    # nan값 0으로 채우기\n",
    "    for i in range(6, 30):\n",
    "        month_dat.iloc[:, i] = month_dat.iloc[:, i].apply(pd.to_numeric, errors='coerce').fillna(0)\n",
    "\n",
    "    month_sum = 0\n",
    "    # 한달 총합 구하기\n",
    "    for i in range(6, 30):\n",
    "        tmp = month_dat.iloc[:,i].sum()\n",
    "        month_sum += tmp\n",
    "    year_2017.append(month_sum)\n",
    "year_2017"
   ]
  },
  {
   "cell_type": "code",
   "execution_count": 165,
   "id": "feb76996",
   "metadata": {},
   "outputs": [
    {
     "data": {
      "text/plain": [
       "227653568.0"
      ]
     },
     "execution_count": 165,
     "metadata": {},
     "output_type": "execute_result"
    }
   ],
   "source": [
    "# 2017년 1월\n",
    "month_dat = pd.read_excel('./2017/01월 서울시 교통량 조사자료.xlsx')\n",
    "\n",
    "# nan값 0으로 채우기\n",
    "for i in range(6, 30):\n",
    "    month_dat.iloc[:, i] = month_dat.iloc[:, i].fillna(0)\n",
    "\n",
    "# 한달 총합 구하기\n",
    "month_sum = 0\n",
    "for i in range(6, 30):\n",
    "    tmp = month_dat.iloc[:,i].sum()\n",
    "    month_sum += tmp\n",
    "month_sum"
   ]
  },
  {
   "cell_type": "code",
   "execution_count": 166,
   "id": "ce62b534",
   "metadata": {},
   "outputs": [
    {
     "data": {
      "text/plain": [
       "214298439.0"
      ]
     },
     "execution_count": 166,
     "metadata": {},
     "output_type": "execute_result"
    }
   ],
   "source": [
    "# 2017년 2월\n",
    "month_dat = pd.read_excel('./2017/02월 서울시 교통량 조사자료.xlsx')\n",
    "\n",
    "# nan값 0으로 채우기\n",
    "for i in range(6, 30):\n",
    "    month_dat.iloc[:, i] = month_dat.iloc[:, i].fillna(0)\n",
    "\n",
    "# 한달 총합 구하기\n",
    "month_sum = 0\n",
    "for i in range(6, 30):\n",
    "    tmp = month_dat.iloc[:,i].sum()\n",
    "    month_sum += tmp\n",
    "month_sum"
   ]
  },
  {
   "cell_type": "code",
   "execution_count": 167,
   "id": "f70a8bcf",
   "metadata": {},
   "outputs": [
    {
     "data": {
      "text/plain": [
       "242598574.0"
      ]
     },
     "execution_count": 167,
     "metadata": {},
     "output_type": "execute_result"
    }
   ],
   "source": [
    "# 2017년 3월\n",
    "month_dat = pd.read_excel('./2017/03월 서울시 교통량 조사자료.xlsx')\n",
    "\n",
    "# nan값 0으로 채우기\n",
    "for i in range(6, 30):\n",
    "    month_dat.iloc[:, i] = month_dat.iloc[:, i].fillna(0)\n",
    "\n",
    "# 한달 총합 구하기\n",
    "month_sum = 0\n",
    "for i in range(6, 30):\n",
    "    tmp = month_dat.iloc[:,i].sum()\n",
    "    month_sum += tmp\n",
    "month_sum"
   ]
  },
  {
   "cell_type": "markdown",
   "id": "c8e53d08",
   "metadata": {},
   "source": [
    "## 2017년 4월 오류"
   ]
  },
  {
   "cell_type": "code",
   "execution_count": 88,
   "id": "102b619f",
   "metadata": {
    "scrolled": true
   },
   "outputs": [
    {
     "ename": "ValueError",
     "evalue": "could not convert string to float: ''",
     "output_type": "error",
     "traceback": [
      "\u001b[1;31m---------------------------------------------------------------------------\u001b[0m",
      "\u001b[1;31mValueError\u001b[0m                                Traceback (most recent call last)",
      "\u001b[1;32m<ipython-input-88-a10fe5a82c18>\u001b[0m in \u001b[0;36m<module>\u001b[1;34m\u001b[0m\n\u001b[0;32m      8\u001b[0m \u001b[1;31m# float 타입으로 변환\u001b[0m\u001b[1;33m\u001b[0m\u001b[1;33m\u001b[0m\u001b[1;33m\u001b[0m\u001b[0m\n\u001b[0;32m      9\u001b[0m \u001b[1;32mfor\u001b[0m \u001b[0mi\u001b[0m \u001b[1;32min\u001b[0m \u001b[0mrange\u001b[0m\u001b[1;33m(\u001b[0m\u001b[1;36m6\u001b[0m\u001b[1;33m,\u001b[0m \u001b[1;36m30\u001b[0m\u001b[1;33m)\u001b[0m\u001b[1;33m:\u001b[0m\u001b[1;33m\u001b[0m\u001b[1;33m\u001b[0m\u001b[0m\n\u001b[1;32m---> 10\u001b[1;33m     \u001b[0mmonth_dat\u001b[0m\u001b[1;33m.\u001b[0m\u001b[0miloc\u001b[0m\u001b[1;33m[\u001b[0m\u001b[1;33m:\u001b[0m\u001b[1;33m,\u001b[0m \u001b[0mi\u001b[0m\u001b[1;33m]\u001b[0m \u001b[1;33m=\u001b[0m \u001b[0mmonth_dat\u001b[0m\u001b[1;33m.\u001b[0m\u001b[0miloc\u001b[0m\u001b[1;33m[\u001b[0m\u001b[1;33m:\u001b[0m\u001b[1;33m,\u001b[0m \u001b[0mi\u001b[0m\u001b[1;33m]\u001b[0m\u001b[1;33m.\u001b[0m\u001b[0mastype\u001b[0m\u001b[1;33m(\u001b[0m\u001b[0mfloat\u001b[0m\u001b[1;33m)\u001b[0m\u001b[1;33m\u001b[0m\u001b[1;33m\u001b[0m\u001b[0m\n\u001b[0m\u001b[0;32m     11\u001b[0m \u001b[1;33m\u001b[0m\u001b[0m\n\u001b[0;32m     12\u001b[0m \u001b[1;31m# 한달 총합 구하기\u001b[0m\u001b[1;33m\u001b[0m\u001b[1;33m\u001b[0m\u001b[1;33m\u001b[0m\u001b[0m\n",
      "\u001b[1;32m~\\anaconda3\\lib\\site-packages\\pandas\\core\\generic.py\u001b[0m in \u001b[0;36mastype\u001b[1;34m(self, dtype, copy, errors)\u001b[0m\n\u001b[0;32m   5875\u001b[0m         \u001b[1;32melse\u001b[0m\u001b[1;33m:\u001b[0m\u001b[1;33m\u001b[0m\u001b[1;33m\u001b[0m\u001b[0m\n\u001b[0;32m   5876\u001b[0m             \u001b[1;31m# else, only a single dtype is given\u001b[0m\u001b[1;33m\u001b[0m\u001b[1;33m\u001b[0m\u001b[1;33m\u001b[0m\u001b[0m\n\u001b[1;32m-> 5877\u001b[1;33m             \u001b[0mnew_data\u001b[0m \u001b[1;33m=\u001b[0m \u001b[0mself\u001b[0m\u001b[1;33m.\u001b[0m\u001b[0m_mgr\u001b[0m\u001b[1;33m.\u001b[0m\u001b[0mastype\u001b[0m\u001b[1;33m(\u001b[0m\u001b[0mdtype\u001b[0m\u001b[1;33m=\u001b[0m\u001b[0mdtype\u001b[0m\u001b[1;33m,\u001b[0m \u001b[0mcopy\u001b[0m\u001b[1;33m=\u001b[0m\u001b[0mcopy\u001b[0m\u001b[1;33m,\u001b[0m \u001b[0merrors\u001b[0m\u001b[1;33m=\u001b[0m\u001b[0merrors\u001b[0m\u001b[1;33m)\u001b[0m\u001b[1;33m\u001b[0m\u001b[1;33m\u001b[0m\u001b[0m\n\u001b[0m\u001b[0;32m   5878\u001b[0m             \u001b[1;32mreturn\u001b[0m \u001b[0mself\u001b[0m\u001b[1;33m.\u001b[0m\u001b[0m_constructor\u001b[0m\u001b[1;33m(\u001b[0m\u001b[0mnew_data\u001b[0m\u001b[1;33m)\u001b[0m\u001b[1;33m.\u001b[0m\u001b[0m__finalize__\u001b[0m\u001b[1;33m(\u001b[0m\u001b[0mself\u001b[0m\u001b[1;33m,\u001b[0m \u001b[0mmethod\u001b[0m\u001b[1;33m=\u001b[0m\u001b[1;34m\"astype\"\u001b[0m\u001b[1;33m)\u001b[0m\u001b[1;33m\u001b[0m\u001b[1;33m\u001b[0m\u001b[0m\n\u001b[0;32m   5879\u001b[0m \u001b[1;33m\u001b[0m\u001b[0m\n",
      "\u001b[1;32m~\\anaconda3\\lib\\site-packages\\pandas\\core\\internals\\managers.py\u001b[0m in \u001b[0;36mastype\u001b[1;34m(self, dtype, copy, errors)\u001b[0m\n\u001b[0;32m    629\u001b[0m         \u001b[0mself\u001b[0m\u001b[1;33m,\u001b[0m \u001b[0mdtype\u001b[0m\u001b[1;33m,\u001b[0m \u001b[0mcopy\u001b[0m\u001b[1;33m:\u001b[0m \u001b[0mbool\u001b[0m \u001b[1;33m=\u001b[0m \u001b[1;32mFalse\u001b[0m\u001b[1;33m,\u001b[0m \u001b[0merrors\u001b[0m\u001b[1;33m:\u001b[0m \u001b[0mstr\u001b[0m \u001b[1;33m=\u001b[0m \u001b[1;34m\"raise\"\u001b[0m\u001b[1;33m\u001b[0m\u001b[1;33m\u001b[0m\u001b[0m\n\u001b[0;32m    630\u001b[0m     ) -> \"BlockManager\":\n\u001b[1;32m--> 631\u001b[1;33m         \u001b[1;32mreturn\u001b[0m \u001b[0mself\u001b[0m\u001b[1;33m.\u001b[0m\u001b[0mapply\u001b[0m\u001b[1;33m(\u001b[0m\u001b[1;34m\"astype\"\u001b[0m\u001b[1;33m,\u001b[0m \u001b[0mdtype\u001b[0m\u001b[1;33m=\u001b[0m\u001b[0mdtype\u001b[0m\u001b[1;33m,\u001b[0m \u001b[0mcopy\u001b[0m\u001b[1;33m=\u001b[0m\u001b[0mcopy\u001b[0m\u001b[1;33m,\u001b[0m \u001b[0merrors\u001b[0m\u001b[1;33m=\u001b[0m\u001b[0merrors\u001b[0m\u001b[1;33m)\u001b[0m\u001b[1;33m\u001b[0m\u001b[1;33m\u001b[0m\u001b[0m\n\u001b[0m\u001b[0;32m    632\u001b[0m \u001b[1;33m\u001b[0m\u001b[0m\n\u001b[0;32m    633\u001b[0m     def convert(\n",
      "\u001b[1;32m~\\anaconda3\\lib\\site-packages\\pandas\\core\\internals\\managers.py\u001b[0m in \u001b[0;36mapply\u001b[1;34m(self, f, align_keys, ignore_failures, **kwargs)\u001b[0m\n\u001b[0;32m    425\u001b[0m                     \u001b[0mapplied\u001b[0m \u001b[1;33m=\u001b[0m \u001b[0mb\u001b[0m\u001b[1;33m.\u001b[0m\u001b[0mapply\u001b[0m\u001b[1;33m(\u001b[0m\u001b[0mf\u001b[0m\u001b[1;33m,\u001b[0m \u001b[1;33m**\u001b[0m\u001b[0mkwargs\u001b[0m\u001b[1;33m)\u001b[0m\u001b[1;33m\u001b[0m\u001b[1;33m\u001b[0m\u001b[0m\n\u001b[0;32m    426\u001b[0m                 \u001b[1;32melse\u001b[0m\u001b[1;33m:\u001b[0m\u001b[1;33m\u001b[0m\u001b[1;33m\u001b[0m\u001b[0m\n\u001b[1;32m--> 427\u001b[1;33m                     \u001b[0mapplied\u001b[0m \u001b[1;33m=\u001b[0m \u001b[0mgetattr\u001b[0m\u001b[1;33m(\u001b[0m\u001b[0mb\u001b[0m\u001b[1;33m,\u001b[0m \u001b[0mf\u001b[0m\u001b[1;33m)\u001b[0m\u001b[1;33m(\u001b[0m\u001b[1;33m**\u001b[0m\u001b[0mkwargs\u001b[0m\u001b[1;33m)\u001b[0m\u001b[1;33m\u001b[0m\u001b[1;33m\u001b[0m\u001b[0m\n\u001b[0m\u001b[0;32m    428\u001b[0m             \u001b[1;32mexcept\u001b[0m \u001b[1;33m(\u001b[0m\u001b[0mTypeError\u001b[0m\u001b[1;33m,\u001b[0m \u001b[0mNotImplementedError\u001b[0m\u001b[1;33m)\u001b[0m\u001b[1;33m:\u001b[0m\u001b[1;33m\u001b[0m\u001b[1;33m\u001b[0m\u001b[0m\n\u001b[0;32m    429\u001b[0m                 \u001b[1;32mif\u001b[0m \u001b[1;32mnot\u001b[0m \u001b[0mignore_failures\u001b[0m\u001b[1;33m:\u001b[0m\u001b[1;33m\u001b[0m\u001b[1;33m\u001b[0m\u001b[0m\n",
      "\u001b[1;32m~\\anaconda3\\lib\\site-packages\\pandas\\core\\internals\\blocks.py\u001b[0m in \u001b[0;36mastype\u001b[1;34m(self, dtype, copy, errors)\u001b[0m\n\u001b[0;32m    671\u001b[0m             \u001b[0mvals1d\u001b[0m \u001b[1;33m=\u001b[0m \u001b[0mvalues\u001b[0m\u001b[1;33m.\u001b[0m\u001b[0mravel\u001b[0m\u001b[1;33m(\u001b[0m\u001b[1;33m)\u001b[0m\u001b[1;33m\u001b[0m\u001b[1;33m\u001b[0m\u001b[0m\n\u001b[0;32m    672\u001b[0m             \u001b[1;32mtry\u001b[0m\u001b[1;33m:\u001b[0m\u001b[1;33m\u001b[0m\u001b[1;33m\u001b[0m\u001b[0m\n\u001b[1;32m--> 673\u001b[1;33m                 \u001b[0mvalues\u001b[0m \u001b[1;33m=\u001b[0m \u001b[0mastype_nansafe\u001b[0m\u001b[1;33m(\u001b[0m\u001b[0mvals1d\u001b[0m\u001b[1;33m,\u001b[0m \u001b[0mdtype\u001b[0m\u001b[1;33m,\u001b[0m \u001b[0mcopy\u001b[0m\u001b[1;33m=\u001b[0m\u001b[1;32mTrue\u001b[0m\u001b[1;33m)\u001b[0m\u001b[1;33m\u001b[0m\u001b[1;33m\u001b[0m\u001b[0m\n\u001b[0m\u001b[0;32m    674\u001b[0m             \u001b[1;32mexcept\u001b[0m \u001b[1;33m(\u001b[0m\u001b[0mValueError\u001b[0m\u001b[1;33m,\u001b[0m \u001b[0mTypeError\u001b[0m\u001b[1;33m)\u001b[0m\u001b[1;33m:\u001b[0m\u001b[1;33m\u001b[0m\u001b[1;33m\u001b[0m\u001b[0m\n\u001b[0;32m    675\u001b[0m                 \u001b[1;31m# e.g. astype_nansafe can fail on object-dtype of strings\u001b[0m\u001b[1;33m\u001b[0m\u001b[1;33m\u001b[0m\u001b[1;33m\u001b[0m\u001b[0m\n",
      "\u001b[1;32m~\\anaconda3\\lib\\site-packages\\pandas\\core\\dtypes\\cast.py\u001b[0m in \u001b[0;36mastype_nansafe\u001b[1;34m(arr, dtype, copy, skipna)\u001b[0m\n\u001b[0;32m   1095\u001b[0m     \u001b[1;32mif\u001b[0m \u001b[0mcopy\u001b[0m \u001b[1;32mor\u001b[0m \u001b[0mis_object_dtype\u001b[0m\u001b[1;33m(\u001b[0m\u001b[0marr\u001b[0m\u001b[1;33m)\u001b[0m \u001b[1;32mor\u001b[0m \u001b[0mis_object_dtype\u001b[0m\u001b[1;33m(\u001b[0m\u001b[0mdtype\u001b[0m\u001b[1;33m)\u001b[0m\u001b[1;33m:\u001b[0m\u001b[1;33m\u001b[0m\u001b[1;33m\u001b[0m\u001b[0m\n\u001b[0;32m   1096\u001b[0m         \u001b[1;31m# Explicit copy, or required since NumPy can't view from / to object.\u001b[0m\u001b[1;33m\u001b[0m\u001b[1;33m\u001b[0m\u001b[1;33m\u001b[0m\u001b[0m\n\u001b[1;32m-> 1097\u001b[1;33m         \u001b[1;32mreturn\u001b[0m \u001b[0marr\u001b[0m\u001b[1;33m.\u001b[0m\u001b[0mastype\u001b[0m\u001b[1;33m(\u001b[0m\u001b[0mdtype\u001b[0m\u001b[1;33m,\u001b[0m \u001b[0mcopy\u001b[0m\u001b[1;33m=\u001b[0m\u001b[1;32mTrue\u001b[0m\u001b[1;33m)\u001b[0m\u001b[1;33m\u001b[0m\u001b[1;33m\u001b[0m\u001b[0m\n\u001b[0m\u001b[0;32m   1098\u001b[0m \u001b[1;33m\u001b[0m\u001b[0m\n\u001b[0;32m   1099\u001b[0m     \u001b[1;32mreturn\u001b[0m \u001b[0marr\u001b[0m\u001b[1;33m.\u001b[0m\u001b[0mview\u001b[0m\u001b[1;33m(\u001b[0m\u001b[0mdtype\u001b[0m\u001b[1;33m)\u001b[0m\u001b[1;33m\u001b[0m\u001b[1;33m\u001b[0m\u001b[0m\n",
      "\u001b[1;31mValueError\u001b[0m: could not convert string to float: ''"
     ]
    }
   ],
   "source": [
    "# 2017년 4월\n",
    "# 오류 : int, float 다른 타입 합 안됨.\n",
    "# could not convert string to float: ''\n",
    "\n",
    "month_dat = pd.read_excel('./2017/04월 서울시 교통량 조사자료.xlsx')\n",
    "\n",
    "# nan값 0으로 채우기\n",
    "for i in range(6, 30):\n",
    "    month_dat.iloc[:, i] = month_dat.iloc[:, i].fillna(0)\n",
    "    \n",
    "# float 타입으로 변환\n",
    "for i in range(6, 30):\n",
    "    month_dat.iloc[:, i] = month_dat.iloc[:, i].astype(float)\n",
    "\n",
    "# 한달 총합 구하기\n",
    "month_sum = 0\n",
    "for i in range(6, 30):\n",
    "    tmp = month_dat.iloc[:,i].sum()\n",
    "    month_sum += tmp\n",
    "month_sum"
   ]
  },
  {
   "cell_type": "markdown",
   "id": "f2aee648",
   "metadata": {},
   "source": [
    "## 2017년 4월 에러 해결"
   ]
  },
  {
   "cell_type": "code",
   "execution_count": 168,
   "id": "e4968958",
   "metadata": {},
   "outputs": [
    {
     "data": {
      "text/plain": [
       "263975550.0"
      ]
     },
     "execution_count": 168,
     "metadata": {},
     "output_type": "execute_result"
    }
   ],
   "source": [
    "month_dat = pd.read_excel('./2017/04월 서울시 교통량 조사자료.xlsx')\n",
    "\n",
    "# nan값 0으로 채우기\n",
    "for i in range(6, 30):\n",
    "    month_dat.iloc[:, i] = month_dat.iloc[:, i].apply(pd.to_numeric, errors='coerce').fillna(0)\n",
    "\n",
    "# 한달 총합 구하기\n",
    "month_sum = 0\n",
    "for i in range(6, 30):\n",
    "    tmp = month_dat.iloc[:,i].sum()\n",
    "    month_sum += tmp\n",
    "month_sum"
   ]
  },
  {
   "cell_type": "code",
   "execution_count": 149,
   "id": "acc1ddb3",
   "metadata": {
    "scrolled": true
   },
   "outputs": [],
   "source": [
    "month_dat = pd.read_excel('./2017/04월 서울시 교통량 조사자료.xlsx')\n",
    "# nan값 0으로 채우기\n",
    "for i in range(6, 30):\n",
    "    month_dat.iloc[:, i] = month_dat.iloc[:, i].fillna(0)"
   ]
  },
  {
   "cell_type": "code",
   "execution_count": 150,
   "id": "d4d8ad2c",
   "metadata": {},
   "outputs": [
    {
     "name": "stdout",
     "output_type": "stream",
     "text": [
      "<class 'pandas.core.frame.DataFrame'>\n",
      "RangeIndex: 8198 entries, 0 to 8197\n",
      "Data columns (total 30 columns):\n",
      " #   Column  Non-Null Count  Dtype  \n",
      "---  ------  --------------  -----  \n",
      " 0   일자      8198 non-null   int64  \n",
      " 1   요일      8198 non-null   object \n",
      " 2   지점명     8198 non-null   object \n",
      " 3   지점번호    8198 non-null   object \n",
      " 4   구분      8198 non-null   object \n",
      " 5   방향      8138 non-null   object \n",
      " 6   0시      8198 non-null   float64\n",
      " 7   1시      8198 non-null   float64\n",
      " 8   2시      8198 non-null   float64\n",
      " 9   3시      8198 non-null   float64\n",
      " 10  4시      8198 non-null   float64\n",
      " 11  5시      8198 non-null   float64\n",
      " 12  6시      8198 non-null   object \n",
      " 13  7시      8198 non-null   float64\n",
      " 14  8시      8198 non-null   float64\n",
      " 15  9시      8198 non-null   float64\n",
      " 16  10시     8198 non-null   float64\n",
      " 17  11시     8198 non-null   float64\n",
      " 18  12시     8198 non-null   float64\n",
      " 19  13시     8198 non-null   float64\n",
      " 20  14시     8198 non-null   float64\n",
      " 21  15시     8198 non-null   float64\n",
      " 22  16시     8198 non-null   float64\n",
      " 23  17시     8198 non-null   float64\n",
      " 24  18시     8198 non-null   float64\n",
      " 25  19시     8198 non-null   float64\n",
      " 26  20시     8198 non-null   float64\n",
      " 27  21시     8198 non-null   float64\n",
      " 28  22시     8198 non-null   float64\n",
      " 29  23시     8198 non-null   float64\n",
      "dtypes: float64(23), int64(1), object(6)\n",
      "memory usage: 1.9+ MB\n"
     ]
    }
   ],
   "source": [
    "month_dat.info()"
   ]
  },
  {
   "cell_type": "code",
   "execution_count": 141,
   "id": "56cb2d56",
   "metadata": {},
   "outputs": [
    {
     "data": {
      "text/plain": [
       "0.0       1284\n",
       "388.0       13\n",
       "369.0       13\n",
       "317.0       12\n",
       "812.0       12\n",
       "          ... \n",
       "1699.0       1\n",
       "1954.0       1\n",
       "2113.0       1\n",
       "1439.0       1\n",
       "2892.0       1\n",
       "Name: 0시, Length: 2216, dtype: int64"
      ]
     },
     "execution_count": 141,
     "metadata": {},
     "output_type": "execute_result"
    }
   ],
   "source": [
    "month_dat.iloc[:, 6].value_counts()"
   ]
  },
  {
   "cell_type": "code",
   "execution_count": 142,
   "id": "f4098cf4",
   "metadata": {},
   "outputs": [
    {
     "data": {
      "text/plain": [
       "0.0       1289\n",
       "291.0       20\n",
       "276.0       18\n",
       "566.0       16\n",
       "45.0        16\n",
       "          ... \n",
       "1941.0       1\n",
       "1494.0       1\n",
       "11.0         1\n",
       "1202.0       1\n",
       "1755.0       1\n",
       "Name: 1시, Length: 1872, dtype: int64"
      ]
     },
     "execution_count": 142,
     "metadata": {},
     "output_type": "execute_result"
    }
   ],
   "source": [
    "month_dat.iloc[:, 7].value_counts()"
   ]
  },
  {
   "cell_type": "code",
   "execution_count": 146,
   "id": "bda9c140",
   "metadata": {},
   "outputs": [
    {
     "data": {
      "text/plain": [
       "array([ 923.,  689., 1045., ..., 3178., 3138., 2723.])"
      ]
     },
     "execution_count": 146,
     "metadata": {},
     "output_type": "execute_result"
    }
   ],
   "source": [
    "month_dat.iloc[:, 29].unique()"
   ]
  },
  {
   "cell_type": "code",
   "execution_count": 147,
   "id": "fd37e30b",
   "metadata": {},
   "outputs": [
    {
     "data": {
      "text/plain": [
       "dtype('float64')"
      ]
     },
     "execution_count": 147,
     "metadata": {},
     "output_type": "execute_result"
    }
   ],
   "source": [
    "month_dat.iloc[:, 29].dtype"
   ]
  },
  {
   "cell_type": "code",
   "execution_count": 162,
   "id": "789fecad",
   "metadata": {},
   "outputs": [],
   "source": [
    "for j in range(6, 30):\n",
    "    for i in range(8198):\n",
    "        if type(month_dat.iloc[i, j]) == \"''\":\n",
    "            print(month_dat.iloc[i, j])"
   ]
  },
  {
   "cell_type": "code",
   "execution_count": 161,
   "id": "0adf9ba4",
   "metadata": {},
   "outputs": [],
   "source": [
    "# 원소 걸러내기 실패\n",
    "for j in range(6, 30):\n",
    "    for i in range(10):\n",
    "        if type(month_dat.iloc[i, j]) == 'float':\n",
    "            print(month_dat.iloc[i, j])"
   ]
  },
  {
   "cell_type": "code",
   "execution_count": 89,
   "id": "14fe6c07",
   "metadata": {},
   "outputs": [
    {
     "data": {
      "text/plain": [
       "295918625.0"
      ]
     },
     "execution_count": 89,
     "metadata": {},
     "output_type": "execute_result"
    }
   ],
   "source": [
    "# 2017년 5월\n",
    "month_dat = pd.read_excel('./2017/05월 서울시 교통량 조사자료.xlsx')\n",
    "\n",
    "# nan값 0으로 채우기\n",
    "for i in range(6, 30):\n",
    "    month_dat.iloc[:, i] = month_dat.iloc[:, i].fillna(0)\n",
    "\n",
    "# 한달 총합 구하기\n",
    "month_sum = 0\n",
    "for i in range(6, 30):\n",
    "    tmp = month_dat.iloc[:,i].sum()\n",
    "    month_sum += tmp\n",
    "month_sum"
   ]
  },
  {
   "cell_type": "code",
   "execution_count": 90,
   "id": "088c61a0",
   "metadata": {},
   "outputs": [
    {
     "data": {
      "text/plain": [
       "288598798.0"
      ]
     },
     "execution_count": 90,
     "metadata": {},
     "output_type": "execute_result"
    }
   ],
   "source": [
    "# 2017년 6월\n",
    "month_dat = pd.read_excel('./2017/06월 서울시 교통량 조사자료.xlsx')\n",
    "\n",
    "# nan값 0으로 채우기\n",
    "for i in range(6, 30):\n",
    "    month_dat.iloc[:, i] = month_dat.iloc[:, i].fillna(0)\n",
    "\n",
    "# 한달 총합 구하기\n",
    "month_sum = 0\n",
    "for i in range(6, 30):\n",
    "    tmp = month_dat.iloc[:,i].sum()\n",
    "    month_sum += tmp\n",
    "month_sum"
   ]
  },
  {
   "cell_type": "code",
   "execution_count": 91,
   "id": "7638b1e5",
   "metadata": {},
   "outputs": [
    {
     "data": {
      "text/plain": [
       "292584832.0"
      ]
     },
     "execution_count": 91,
     "metadata": {},
     "output_type": "execute_result"
    }
   ],
   "source": [
    "# 2017년 7월\n",
    "month_dat = pd.read_excel('./2017/07월 서울시 교통량 조사자료.xlsx')\n",
    "\n",
    "# nan값 0으로 채우기\n",
    "for i in range(6, 30):\n",
    "    month_dat.iloc[:, i] = month_dat.iloc[:, i].fillna(0)\n",
    "\n",
    "# 한달 총합 구하기\n",
    "month_sum = 0\n",
    "for i in range(6, 30):\n",
    "    tmp = month_dat.iloc[:,i].sum()\n",
    "    month_sum += tmp\n",
    "month_sum"
   ]
  },
  {
   "cell_type": "code",
   "execution_count": 92,
   "id": "28dd3016",
   "metadata": {},
   "outputs": [
    {
     "data": {
      "text/plain": [
       "302005433.0"
      ]
     },
     "execution_count": 92,
     "metadata": {},
     "output_type": "execute_result"
    }
   ],
   "source": [
    "# 2017년 8월\n",
    "month_dat = pd.read_excel('./2017/08월 서울시 교통량 조사자료.xlsx')\n",
    "\n",
    "# nan값 0으로 채우기\n",
    "for i in range(6, 30):\n",
    "    month_dat.iloc[:, i] = month_dat.iloc[:, i].fillna(0)\n",
    "\n",
    "# 한달 총합 구하기\n",
    "month_sum = 0\n",
    "for i in range(6, 30):\n",
    "    tmp = month_dat.iloc[:,i].sum()\n",
    "    month_sum += tmp\n",
    "month_sum"
   ]
  },
  {
   "cell_type": "code",
   "execution_count": 93,
   "id": "ca3ac1df",
   "metadata": {},
   "outputs": [
    {
     "data": {
      "text/plain": [
       "293008364.0"
      ]
     },
     "execution_count": 93,
     "metadata": {},
     "output_type": "execute_result"
    }
   ],
   "source": [
    "# 2017년 9월\n",
    "month_dat = pd.read_excel('./2017/09월 서울시 교통량 조사자료.xlsx')\n",
    "\n",
    "# nan값 0으로 채우기\n",
    "for i in range(6, 30):\n",
    "    month_dat.iloc[:, i] = month_dat.iloc[:, i].fillna(0)\n",
    "\n",
    "# 한달 총합 구하기\n",
    "month_sum = 0\n",
    "for i in range(6, 30):\n",
    "    tmp = month_dat.iloc[:,i].sum()\n",
    "    month_sum += tmp\n",
    "month_sum"
   ]
  },
  {
   "cell_type": "code",
   "execution_count": 94,
   "id": "30bc7bb9",
   "metadata": {},
   "outputs": [
    {
     "data": {
      "text/plain": [
       "295585441.0"
      ]
     },
     "execution_count": 94,
     "metadata": {},
     "output_type": "execute_result"
    }
   ],
   "source": [
    "# 2017년 10월\n",
    "month_dat = pd.read_excel('./2017/10월 서울시 교통량 조사자료.xlsx')\n",
    "\n",
    "# nan값 0으로 채우기\n",
    "for i in range(6, 30):\n",
    "    month_dat.iloc[:, i] = month_dat.iloc[:, i].fillna(0)\n",
    "\n",
    "# 한달 총합 구하기\n",
    "month_sum = 0\n",
    "for i in range(6, 30):\n",
    "    tmp = month_dat.iloc[:,i].sum()\n",
    "    month_sum += tmp\n",
    "month_sum"
   ]
  },
  {
   "cell_type": "code",
   "execution_count": 95,
   "id": "cb48ae8b",
   "metadata": {},
   "outputs": [
    {
     "data": {
      "text/plain": [
       "282938331.0"
      ]
     },
     "execution_count": 95,
     "metadata": {},
     "output_type": "execute_result"
    }
   ],
   "source": [
    "# 2017년 11월\n",
    "month_dat = pd.read_excel('./2017/11월 서울시 교통량 조사자료.xlsx')\n",
    "\n",
    "# nan값 0으로 채우기\n",
    "for i in range(6, 30):\n",
    "    month_dat.iloc[:, i] = month_dat.iloc[:, i].fillna(0)\n",
    "\n",
    "# 한달 총합 구하기\n",
    "month_sum = 0\n",
    "for i in range(6, 30):\n",
    "    tmp = month_dat.iloc[:,i].sum()\n",
    "    month_sum += tmp\n",
    "month_sum"
   ]
  },
  {
   "cell_type": "code",
   "execution_count": 96,
   "id": "0cae5a8e",
   "metadata": {},
   "outputs": [
    {
     "data": {
      "text/plain": [
       "274825244.0"
      ]
     },
     "execution_count": 96,
     "metadata": {},
     "output_type": "execute_result"
    }
   ],
   "source": [
    "# 2017년 12월\n",
    "month_dat = pd.read_excel('./2017/12월 서울시 교통량 조사자료.xlsx')\n",
    "\n",
    "# nan값 0으로 채우기\n",
    "for i in range(6, 30):\n",
    "    month_dat.iloc[:, i] = month_dat.iloc[:, i].fillna(0)\n",
    "\n",
    "# 한달 총합 구하기\n",
    "month_sum = 0\n",
    "for i in range(6, 30):\n",
    "    tmp = month_dat.iloc[:,i].sum()\n",
    "    month_sum += tmp\n",
    "month_sum"
   ]
  },
  {
   "cell_type": "markdown",
   "id": "8359fd13",
   "metadata": {},
   "source": [
    "# 2018년"
   ]
  },
  {
   "cell_type": "code",
   "execution_count": 100,
   "id": "52511184",
   "metadata": {
    "scrolled": true
   },
   "outputs": [
    {
     "data": {
      "text/plain": [
       "[231175275.50000003,\n",
       " 218083825.0,\n",
       " 262874087.0,\n",
       " 269400175.0,\n",
       " 273808519.0,\n",
       " 269474628.0,\n",
       " 280537278.0,\n",
       " 274327730.0,\n",
       " 265315676.0,\n",
       " 281863521.0,\n",
       " 272774028.0,\n",
       " 275658032.0]"
      ]
     },
     "execution_count": 100,
     "metadata": {},
     "output_type": "execute_result"
    }
   ],
   "source": [
    "# 2018년 월별 통행량\n",
    "# 자료 변화가 있는 경우, 범주 탭이 들어가 있음. 두번째 탭에 자료 들어가 있어 오류 발생.\n",
    "# 2018년 시트 2개. 필요 시트 2번째\n",
    "# G열 부터 시작(6열)\n",
    "\n",
    "year_2018 = []\n",
    "for m in range(1, 13):\n",
    "    month_dat = pd.read_excel(f'./2018/{m:0>2}월 서울시 교통량 조사자료.xlsx', sheet_name = 1)\n",
    "    # nan값 0으로 채우기\n",
    "    for i in range(6, 30):\n",
    "        month_dat.iloc[:, i] = month_dat.iloc[:, i].fillna(0)\n",
    "\n",
    "    month_sum = 0\n",
    "    # 한달 총합 구하기\n",
    "    for i in range(6, 30):\n",
    "        tmp = month_dat.iloc[:,i].sum()\n",
    "        month_sum += tmp\n",
    "    year_2018.append(month_sum)\n",
    "year_2018"
   ]
  },
  {
   "cell_type": "code",
   "execution_count": null,
   "id": "321fce9f",
   "metadata": {},
   "outputs": [],
   "source": [
    "# 2018년 1월\n",
    "month_dat = pd.read_excel('./2018/01월 서울시 교통량 조사자료.xlsx', sheet_name = 1)\n",
    "\n",
    "# nan값 0으로 채우기\n",
    "for i in range(6, 30):\n",
    "    month_dat.iloc[:, i] = month_dat.iloc[:, i].fillna(0)\n",
    "\n",
    "# 한달 총합 구하기\n",
    "month_sum = 0\n",
    "for i in range(6, 30):\n",
    "    tmp = month_dat.iloc[:,i].sum()\n",
    "    month_sum += tmp\n",
    "month_sum"
   ]
  },
  {
   "cell_type": "markdown",
   "id": "a641ea46",
   "metadata": {},
   "source": [
    "# 2019년"
   ]
  },
  {
   "cell_type": "code",
   "execution_count": 106,
   "id": "e07a7d2c",
   "metadata": {
    "scrolled": true
   },
   "outputs": [
    {
     "ename": "TypeError",
     "evalue": "unsupported operand type(s) for +=: 'int' and 'str'",
     "output_type": "error",
     "traceback": [
      "\u001b[1;31m---------------------------------------------------------------------------\u001b[0m",
      "\u001b[1;31mTypeError\u001b[0m                                 Traceback (most recent call last)",
      "\u001b[1;32m<ipython-input-106-57a53163bbbe>\u001b[0m in \u001b[0;36m<module>\u001b[1;34m\u001b[0m\n\u001b[0;32m     12\u001b[0m     \u001b[1;32mfor\u001b[0m \u001b[0mi\u001b[0m \u001b[1;32min\u001b[0m \u001b[0mrange\u001b[0m\u001b[1;33m(\u001b[0m\u001b[1;36m6\u001b[0m\u001b[1;33m,\u001b[0m \u001b[1;36m30\u001b[0m\u001b[1;33m)\u001b[0m\u001b[1;33m:\u001b[0m\u001b[1;33m\u001b[0m\u001b[1;33m\u001b[0m\u001b[0m\n\u001b[0;32m     13\u001b[0m         \u001b[0mtmp\u001b[0m \u001b[1;33m=\u001b[0m \u001b[0mmonth_dat\u001b[0m\u001b[1;33m.\u001b[0m\u001b[0miloc\u001b[0m\u001b[1;33m[\u001b[0m\u001b[1;33m:\u001b[0m\u001b[1;33m,\u001b[0m\u001b[0mi\u001b[0m\u001b[1;33m]\u001b[0m\u001b[1;33m.\u001b[0m\u001b[0msum\u001b[0m\u001b[1;33m(\u001b[0m\u001b[1;33m)\u001b[0m\u001b[1;33m\u001b[0m\u001b[1;33m\u001b[0m\u001b[0m\n\u001b[1;32m---> 14\u001b[1;33m         \u001b[0mmonth_sum\u001b[0m \u001b[1;33m+=\u001b[0m \u001b[0mtmp\u001b[0m\u001b[1;33m\u001b[0m\u001b[1;33m\u001b[0m\u001b[0m\n\u001b[0m\u001b[0;32m     15\u001b[0m     \u001b[0myear_2019\u001b[0m\u001b[1;33m.\u001b[0m\u001b[0mappend\u001b[0m\u001b[1;33m(\u001b[0m\u001b[0mmonth_sum\u001b[0m\u001b[1;33m)\u001b[0m\u001b[1;33m\u001b[0m\u001b[1;33m\u001b[0m\u001b[0m\n\u001b[0;32m     16\u001b[0m \u001b[0myear_2019\u001b[0m\u001b[1;33m\u001b[0m\u001b[1;33m\u001b[0m\u001b[0m\n",
      "\u001b[1;31mTypeError\u001b[0m: unsupported operand type(s) for +=: 'int' and 'str'"
     ]
    }
   ],
   "source": [
    "# 2019년 월별 통행량\n",
    "\n",
    "year_2019 = []\n",
    "for m in range(1, 13):\n",
    "    month_dat = pd.read_excel(f'./2019/{m:0>2}월 서울시 교통량 조사자료.xlsx', sheet_name = 1)\n",
    "    # nan값 0으로 채우기\n",
    "    for i in range(7, 31):\n",
    "        month_dat.iloc[:, i] = month_dat.iloc[:, i].fillna(0)\n",
    "\n",
    "    month_sum = 0\n",
    "    # 한달 총합 구하기\n",
    "    for i in range(6, 30):\n",
    "        tmp = month_dat.iloc[:,i].sum()\n",
    "        month_sum += tmp\n",
    "    year_2019.append(month_sum)\n",
    "year_2019"
   ]
  },
  {
   "cell_type": "markdown",
   "id": "b3fdd2a8",
   "metadata": {},
   "source": [
    "### 2019년 1월 (7열 시작)"
   ]
  },
  {
   "cell_type": "code",
   "execution_count": 107,
   "id": "ddca419c",
   "metadata": {},
   "outputs": [
    {
     "data": {
      "text/plain": [
       "293047880.0"
      ]
     },
     "execution_count": 107,
     "metadata": {},
     "output_type": "execute_result"
    }
   ],
   "source": [
    "# 2019년 1월\n",
    "# H열 부터 시작(7열)\n",
    "\n",
    "month_dat = pd.read_excel('./2019/01월 서울시 교통량 조사자료.xlsx', sheet_name = 1)\n",
    "\n",
    "# nan값 0으로 채우기\n",
    "for i in range(7, 31):\n",
    "    month_dat.iloc[:, i] = month_dat.iloc[:, i].fillna(0)\n",
    "   \n",
    "# 한달 총합 구하기\n",
    "month_sum = 0\n",
    "for i in range(7, 31):\n",
    "    tmp = month_dat.iloc[:,i].sum()\n",
    "    month_sum += tmp\n",
    "month_sum"
   ]
  },
  {
   "cell_type": "code",
   "execution_count": 109,
   "id": "1b9cd327",
   "metadata": {},
   "outputs": [
    {
     "data": {
      "text/plain": [
       "255946482.0"
      ]
     },
     "execution_count": 109,
     "metadata": {},
     "output_type": "execute_result"
    }
   ],
   "source": [
    "# 2019년 2월\n",
    "# G열 부터 시작(6열)\n",
    "\n",
    "month_dat = pd.read_excel('./2019/02월 서울시 교통량 조사자료.xlsx', sheet_name = 1)\n",
    "\n",
    "# nan값 0으로 채우기\n",
    "for i in range(6, 30):\n",
    "    month_dat.iloc[:, i] = month_dat.iloc[:, i].fillna(0)\n",
    "   \n",
    "# 한달 총합 구하기\n",
    "month_sum = 0\n",
    "for i in range(6, 30):\n",
    "    tmp = month_dat.iloc[:,i].sum()\n",
    "    month_sum += tmp\n",
    "month_sum"
   ]
  },
  {
   "cell_type": "code",
   "execution_count": 110,
   "id": "ffd0447b",
   "metadata": {},
   "outputs": [
    {
     "data": {
      "text/plain": [
       "291462852.0"
      ]
     },
     "execution_count": 110,
     "metadata": {},
     "output_type": "execute_result"
    }
   ],
   "source": [
    "# 2019년 3월\n",
    "\n",
    "month_dat = pd.read_excel('./2019/03월 서울시 교통량 조사자료.xlsx', sheet_name = 1)\n",
    "\n",
    "# nan값 0으로 채우기\n",
    "for i in range(6, 30):\n",
    "    month_dat.iloc[:, i] = month_dat.iloc[:, i].fillna(0)\n",
    "   \n",
    "# 한달 총합 구하기\n",
    "month_sum = 0\n",
    "for i in range(6, 30):\n",
    "    tmp = month_dat.iloc[:,i].sum()\n",
    "    month_sum += tmp\n",
    "month_sum"
   ]
  },
  {
   "cell_type": "code",
   "execution_count": 111,
   "id": "0151e1f1",
   "metadata": {},
   "outputs": [
    {
     "data": {
      "text/plain": [
       "294804467.0"
      ]
     },
     "execution_count": 111,
     "metadata": {},
     "output_type": "execute_result"
    }
   ],
   "source": [
    "# 2019년 4월\n",
    "\n",
    "month_dat = pd.read_excel('./2019/04월 서울시 교통량 조사자료.xlsx', sheet_name = 1)\n",
    "\n",
    "# nan값 0으로 채우기\n",
    "for i in range(6, 30):\n",
    "    month_dat.iloc[:, i] = month_dat.iloc[:, i].fillna(0)\n",
    "   \n",
    "# 한달 총합 구하기\n",
    "month_sum = 0\n",
    "for i in range(6, 30):\n",
    "    tmp = month_dat.iloc[:,i].sum()\n",
    "    month_sum += tmp\n",
    "month_sum"
   ]
  },
  {
   "cell_type": "code",
   "execution_count": 112,
   "id": "26ecde54",
   "metadata": {},
   "outputs": [
    {
     "data": {
      "text/plain": [
       "301733907.0"
      ]
     },
     "execution_count": 112,
     "metadata": {},
     "output_type": "execute_result"
    }
   ],
   "source": [
    "# 2019년 5월\n",
    "\n",
    "month_dat = pd.read_excel('./2019/05월 서울시 교통량 조사자료.xlsx', sheet_name = 1)\n",
    "\n",
    "# nan값 0으로 채우기\n",
    "for i in range(6, 30):\n",
    "    month_dat.iloc[:, i] = month_dat.iloc[:, i].fillna(0)\n",
    "   \n",
    "# 한달 총합 구하기\n",
    "month_sum = 0\n",
    "for i in range(6, 30):\n",
    "    tmp = month_dat.iloc[:,i].sum()\n",
    "    month_sum += tmp\n",
    "month_sum"
   ]
  },
  {
   "cell_type": "code",
   "execution_count": 113,
   "id": "3e2323f9",
   "metadata": {},
   "outputs": [
    {
     "data": {
      "text/plain": [
       "285145303.0"
      ]
     },
     "execution_count": 113,
     "metadata": {},
     "output_type": "execute_result"
    }
   ],
   "source": [
    "# 2019년 6월\n",
    "\n",
    "month_dat = pd.read_excel('./2019/06월 서울시 교통량 조사자료.xlsx', sheet_name = 1)\n",
    "\n",
    "# nan값 0으로 채우기\n",
    "for i in range(6, 30):\n",
    "    month_dat.iloc[:, i] = month_dat.iloc[:, i].fillna(0)\n",
    "   \n",
    "# 한달 총합 구하기\n",
    "month_sum = 0\n",
    "for i in range(6, 30):\n",
    "    tmp = month_dat.iloc[:,i].sum()\n",
    "    month_sum += tmp\n",
    "month_sum"
   ]
  },
  {
   "cell_type": "code",
   "execution_count": 114,
   "id": "094cd89a",
   "metadata": {},
   "outputs": [
    {
     "data": {
      "text/plain": [
       "292395939.0"
      ]
     },
     "execution_count": 114,
     "metadata": {},
     "output_type": "execute_result"
    }
   ],
   "source": [
    "# 2019년 7월\n",
    "\n",
    "month_dat = pd.read_excel('./2019/07월 서울시 교통량 조사자료.xlsx', sheet_name = 1)\n",
    "\n",
    "# nan값 0으로 채우기\n",
    "for i in range(6, 30):\n",
    "    month_dat.iloc[:, i] = month_dat.iloc[:, i].fillna(0)\n",
    "   \n",
    "# 한달 총합 구하기\n",
    "month_sum = 0\n",
    "for i in range(6, 30):\n",
    "    tmp = month_dat.iloc[:,i].sum()\n",
    "    month_sum += tmp\n",
    "month_sum"
   ]
  },
  {
   "cell_type": "code",
   "execution_count": 115,
   "id": "f487be7f",
   "metadata": {},
   "outputs": [
    {
     "data": {
      "text/plain": [
       "294338097.0"
      ]
     },
     "execution_count": 115,
     "metadata": {},
     "output_type": "execute_result"
    }
   ],
   "source": [
    "# 2019년 8월\n",
    "\n",
    "month_dat = pd.read_excel('./2019/08월 서울시 교통량 조사자료.xlsx', sheet_name = 1)\n",
    "\n",
    "# nan값 0으로 채우기\n",
    "for i in range(6, 30):\n",
    "    month_dat.iloc[:, i] = month_dat.iloc[:, i].fillna(0)\n",
    "   \n",
    "# 한달 총합 구하기\n",
    "month_sum = 0\n",
    "for i in range(6, 30):\n",
    "    tmp = month_dat.iloc[:,i].sum()\n",
    "    month_sum += tmp\n",
    "month_sum"
   ]
  },
  {
   "cell_type": "code",
   "execution_count": 116,
   "id": "b9cc1654",
   "metadata": {},
   "outputs": [
    {
     "data": {
      "text/plain": [
       "274872597.0"
      ]
     },
     "execution_count": 116,
     "metadata": {},
     "output_type": "execute_result"
    }
   ],
   "source": [
    "# 2019년 9월\n",
    "\n",
    "month_dat = pd.read_excel('./2019/09월 서울시 교통량 조사자료.xlsx', sheet_name = 1)\n",
    "\n",
    "# nan값 0으로 채우기\n",
    "for i in range(6, 30):\n",
    "    month_dat.iloc[:, i] = month_dat.iloc[:, i].fillna(0)\n",
    "   \n",
    "# 한달 총합 구하기\n",
    "month_sum = 0\n",
    "for i in range(6, 30):\n",
    "    tmp = month_dat.iloc[:,i].sum()\n",
    "    month_sum += tmp\n",
    "month_sum"
   ]
  },
  {
   "cell_type": "code",
   "execution_count": 117,
   "id": "ea5055a8",
   "metadata": {},
   "outputs": [
    {
     "data": {
      "text/plain": [
       "294622641.0"
      ]
     },
     "execution_count": 117,
     "metadata": {},
     "output_type": "execute_result"
    }
   ],
   "source": [
    "# 2019년 10월\n",
    "\n",
    "month_dat = pd.read_excel('./2019/10월 서울시 교통량 조사자료.xlsx', sheet_name = 1)\n",
    "\n",
    "# nan값 0으로 채우기\n",
    "for i in range(6, 30):\n",
    "    month_dat.iloc[:, i] = month_dat.iloc[:, i].fillna(0)\n",
    "   \n",
    "# 한달 총합 구하기\n",
    "month_sum = 0\n",
    "for i in range(6, 30):\n",
    "    tmp = month_dat.iloc[:,i].sum()\n",
    "    month_sum += tmp\n",
    "month_sum"
   ]
  },
  {
   "cell_type": "code",
   "execution_count": 118,
   "id": "6e213d04",
   "metadata": {},
   "outputs": [
    {
     "data": {
      "text/plain": [
       "293036874.0"
      ]
     },
     "execution_count": 118,
     "metadata": {},
     "output_type": "execute_result"
    }
   ],
   "source": [
    "# 2019년 11월\n",
    "\n",
    "month_dat = pd.read_excel('./2019/11월 서울시 교통량 조사자료.xlsx', sheet_name = 1)\n",
    "\n",
    "# nan값 0으로 채우기\n",
    "for i in range(6, 30):\n",
    "    month_dat.iloc[:, i] = month_dat.iloc[:, i].fillna(0)\n",
    "   \n",
    "# 한달 총합 구하기\n",
    "month_sum = 0\n",
    "for i in range(6, 30):\n",
    "    tmp = month_dat.iloc[:,i].sum()\n",
    "    month_sum += tmp\n",
    "month_sum"
   ]
  },
  {
   "cell_type": "code",
   "execution_count": 119,
   "id": "db61e682",
   "metadata": {},
   "outputs": [
    {
     "data": {
      "text/plain": [
       "300392571.0"
      ]
     },
     "execution_count": 119,
     "metadata": {},
     "output_type": "execute_result"
    }
   ],
   "source": [
    "# 2019년 12월\n",
    "\n",
    "month_dat = pd.read_excel('./2019/12월 서울시 교통량 조사자료.xlsx', sheet_name = 1)\n",
    "\n",
    "# nan값 0으로 채우기\n",
    "for i in range(6, 30):\n",
    "    month_dat.iloc[:, i] = month_dat.iloc[:, i].fillna(0)\n",
    "   \n",
    "# 한달 총합 구하기\n",
    "month_sum = 0\n",
    "for i in range(6, 30):\n",
    "    tmp = month_dat.iloc[:,i].sum()\n",
    "    month_sum += tmp\n",
    "month_sum"
   ]
  },
  {
   "cell_type": "markdown",
   "id": "76ff00cf",
   "metadata": {},
   "source": [
    "# 2020년"
   ]
  },
  {
   "cell_type": "code",
   "execution_count": 120,
   "id": "253b1c30",
   "metadata": {},
   "outputs": [
    {
     "ename": "TypeError",
     "evalue": "unsupported operand type(s) for +=: 'int' and 'str'",
     "output_type": "error",
     "traceback": [
      "\u001b[1;31m---------------------------------------------------------------------------\u001b[0m",
      "\u001b[1;31mTypeError\u001b[0m                                 Traceback (most recent call last)",
      "\u001b[1;32m<ipython-input-120-34b34597d693>\u001b[0m in \u001b[0;36m<module>\u001b[1;34m\u001b[0m\n\u001b[0;32m     14\u001b[0m     \u001b[1;32mfor\u001b[0m \u001b[0mi\u001b[0m \u001b[1;32min\u001b[0m \u001b[0mrange\u001b[0m\u001b[1;33m(\u001b[0m\u001b[1;36m6\u001b[0m\u001b[1;33m,\u001b[0m \u001b[1;36m30\u001b[0m\u001b[1;33m)\u001b[0m\u001b[1;33m:\u001b[0m\u001b[1;33m\u001b[0m\u001b[1;33m\u001b[0m\u001b[0m\n\u001b[0;32m     15\u001b[0m         \u001b[0mtmp\u001b[0m \u001b[1;33m=\u001b[0m \u001b[0mmonth_dat\u001b[0m\u001b[1;33m.\u001b[0m\u001b[0miloc\u001b[0m\u001b[1;33m[\u001b[0m\u001b[1;33m:\u001b[0m\u001b[1;33m,\u001b[0m\u001b[0mi\u001b[0m\u001b[1;33m]\u001b[0m\u001b[1;33m.\u001b[0m\u001b[0msum\u001b[0m\u001b[1;33m(\u001b[0m\u001b[1;33m)\u001b[0m\u001b[1;33m\u001b[0m\u001b[1;33m\u001b[0m\u001b[0m\n\u001b[1;32m---> 16\u001b[1;33m         \u001b[0mmonth_sum\u001b[0m \u001b[1;33m+=\u001b[0m \u001b[0mtmp\u001b[0m\u001b[1;33m\u001b[0m\u001b[1;33m\u001b[0m\u001b[0m\n\u001b[0m\u001b[0;32m     17\u001b[0m     \u001b[0myear_2020\u001b[0m\u001b[1;33m.\u001b[0m\u001b[0mappend\u001b[0m\u001b[1;33m(\u001b[0m\u001b[0mmonth_sum\u001b[0m\u001b[1;33m)\u001b[0m\u001b[1;33m\u001b[0m\u001b[1;33m\u001b[0m\u001b[0m\n\u001b[0;32m     18\u001b[0m \u001b[0myear_2020\u001b[0m\u001b[1;33m\u001b[0m\u001b[1;33m\u001b[0m\u001b[0m\n",
      "\u001b[1;31mTypeError\u001b[0m: unsupported operand type(s) for +=: 'int' and 'str'"
     ]
    }
   ],
   "source": [
    "# 2020년 월별 통행량\n",
    "# 2020년 시트 3개. 필요 시트 2번째\n",
    "# G열 부터 시작(6열)\n",
    "\n",
    "year_2020 = []\n",
    "for m in range(1, 13):\n",
    "    month_dat = pd.read_excel(f'./2020/{m:0>2}월 서울시 교통량 조사자료.xlsx', sheet_name = 1)\n",
    "    # nan값 0으로 채우기\n",
    "    for i in range(6, 30):\n",
    "        month_dat.iloc[:, i] = month_dat.iloc[:, i].fillna(0)\n",
    "\n",
    "    month_sum = 0\n",
    "    # 한달 총합 구하기\n",
    "    for i in range(6, 30):\n",
    "        tmp = month_dat.iloc[:,i].sum()\n",
    "        month_sum += tmp\n",
    "    year_2020.append(month_sum)\n",
    "year_2020"
   ]
  },
  {
   "cell_type": "code",
   "execution_count": 121,
   "id": "6b52544d",
   "metadata": {},
   "outputs": [
    {
     "data": {
      "text/plain": [
       "287338914.0"
      ]
     },
     "execution_count": 121,
     "metadata": {},
     "output_type": "execute_result"
    }
   ],
   "source": [
    "# 2020년 1월\n",
    "\n",
    "month_dat = pd.read_excel('./2020/01월 서울시 교통량 조사자료.xlsx', sheet_name = 1)\n",
    "\n",
    "# nan값 0으로 채우기\n",
    "for i in range(6, 30):\n",
    "    month_dat.iloc[:, i] = month_dat.iloc[:, i].fillna(0)\n",
    "   \n",
    "# 한달 총합 구하기\n",
    "month_sum = 0\n",
    "for i in range(6, 30):\n",
    "    tmp = month_dat.iloc[:,i].sum()\n",
    "    month_sum += tmp\n",
    "month_sum"
   ]
  },
  {
   "cell_type": "code",
   "execution_count": 124,
   "id": "e4d43a65",
   "metadata": {},
   "outputs": [
    {
     "data": {
      "text/plain": [
       "264851117.0"
      ]
     },
     "execution_count": 124,
     "metadata": {},
     "output_type": "execute_result"
    }
   ],
   "source": [
    "# 2020년 2월\n",
    "# H열 부터 시작(7열)\n",
    "\n",
    "month_dat = pd.read_excel('./2020/02월 서울시 교통량 조사자료.xlsx', sheet_name = 1)\n",
    "\n",
    "# nan값 0으로 채우기\n",
    "for i in range(7, 31):\n",
    "    month_dat.iloc[:, i] = month_dat.iloc[:, i].fillna(0)\n",
    "\n",
    "    \n",
    "# 한달 총합 구하기\n",
    "month_sum = 0\n",
    "for i in range(7, 31):\n",
    "    tmp = month_dat.iloc[:,i].sum()\n",
    "    month_sum += tmp\n",
    "month_sum"
   ]
  },
  {
   "cell_type": "code",
   "execution_count": 125,
   "id": "9f5f48bf",
   "metadata": {},
   "outputs": [
    {
     "data": {
      "text/plain": [
       "276988930.0"
      ]
     },
     "execution_count": 125,
     "metadata": {},
     "output_type": "execute_result"
    }
   ],
   "source": [
    "# 2020년 3월\n",
    "\n",
    "month_dat = pd.read_excel('./2020/03월 서울시 교통량 조사자료.xlsx', sheet_name = 1)\n",
    "\n",
    "# nan값 0으로 채우기\n",
    "for i in range(6, 30):\n",
    "    month_dat.iloc[:, i] = month_dat.iloc[:, i].fillna(0)\n",
    "   \n",
    "# 한달 총합 구하기\n",
    "month_sum = 0\n",
    "for i in range(6, 30):\n",
    "    tmp = month_dat.iloc[:,i].sum()\n",
    "    month_sum += tmp\n",
    "month_sum"
   ]
  },
  {
   "cell_type": "code",
   "execution_count": 126,
   "id": "05a30bae",
   "metadata": {},
   "outputs": [
    {
     "data": {
      "text/plain": [
       "275890542.0"
      ]
     },
     "execution_count": 126,
     "metadata": {},
     "output_type": "execute_result"
    }
   ],
   "source": [
    "# 2020년 4월\n",
    "\n",
    "month_dat = pd.read_excel('./2020/04월 서울시 교통량 조사자료.xlsx', sheet_name = 1)\n",
    "\n",
    "# nan값 0으로 채우기\n",
    "for i in range(6, 30):\n",
    "    month_dat.iloc[:, i] = month_dat.iloc[:, i].fillna(0)\n",
    "   \n",
    "# 한달 총합 구하기\n",
    "month_sum = 0\n",
    "for i in range(6, 30):\n",
    "    tmp = month_dat.iloc[:,i].sum()\n",
    "    month_sum += tmp\n",
    "month_sum"
   ]
  },
  {
   "cell_type": "code",
   "execution_count": 127,
   "id": "e07e562e",
   "metadata": {},
   "outputs": [
    {
     "data": {
      "text/plain": [
       "291438374.0"
      ]
     },
     "execution_count": 127,
     "metadata": {},
     "output_type": "execute_result"
    }
   ],
   "source": [
    "# 2020년 5월\n",
    "\n",
    "month_dat = pd.read_excel('./2020/05월 서울시 교통량 조사자료.xlsx', sheet_name = 1)\n",
    "\n",
    "# nan값 0으로 채우기\n",
    "for i in range(6, 30):\n",
    "    month_dat.iloc[:, i] = month_dat.iloc[:, i].fillna(0)\n",
    "   \n",
    "# 한달 총합 구하기\n",
    "month_sum = 0\n",
    "for i in range(6, 30):\n",
    "    tmp = month_dat.iloc[:,i].sum()\n",
    "    month_sum += tmp\n",
    "month_sum"
   ]
  },
  {
   "cell_type": "code",
   "execution_count": 128,
   "id": "9a1bb944",
   "metadata": {},
   "outputs": [
    {
     "data": {
      "text/plain": [
       "284005714.0"
      ]
     },
     "execution_count": 128,
     "metadata": {},
     "output_type": "execute_result"
    }
   ],
   "source": [
    "# 2020년 6월\n",
    "\n",
    "month_dat = pd.read_excel('./2020/06월 서울시 교통량 조사자료.xlsx', sheet_name = 1)\n",
    "\n",
    "# nan값 0으로 채우기\n",
    "for i in range(6, 30):\n",
    "    month_dat.iloc[:, i] = month_dat.iloc[:, i].fillna(0)\n",
    "   \n",
    "# 한달 총합 구하기\n",
    "month_sum = 0\n",
    "for i in range(6, 30):\n",
    "    tmp = month_dat.iloc[:,i].sum()\n",
    "    month_sum += tmp\n",
    "month_sum"
   ]
  },
  {
   "cell_type": "code",
   "execution_count": 129,
   "id": "863efa81",
   "metadata": {},
   "outputs": [
    {
     "data": {
      "text/plain": [
       "292195000.0"
      ]
     },
     "execution_count": 129,
     "metadata": {},
     "output_type": "execute_result"
    }
   ],
   "source": [
    "# 2020년 7월\n",
    "\n",
    "month_dat = pd.read_excel('./2020/07월 서울시 교통량 조사자료.xlsx', sheet_name = 1)\n",
    "\n",
    "# nan값 0으로 채우기\n",
    "for i in range(6, 30):\n",
    "    month_dat.iloc[:, i] = month_dat.iloc[:, i].fillna(0)\n",
    "   \n",
    "# 한달 총합 구하기\n",
    "month_sum = 0\n",
    "for i in range(6, 30):\n",
    "    tmp = month_dat.iloc[:,i].sum()\n",
    "    month_sum += tmp\n",
    "month_sum"
   ]
  },
  {
   "cell_type": "code",
   "execution_count": 130,
   "id": "fc3dba24",
   "metadata": {},
   "outputs": [
    {
     "data": {
      "text/plain": [
       "264936819.0"
      ]
     },
     "execution_count": 130,
     "metadata": {},
     "output_type": "execute_result"
    }
   ],
   "source": [
    "# 2020년 8월\n",
    "\n",
    "month_dat = pd.read_excel('./2020/08월 서울시 교통량 조사자료.xlsx', sheet_name = 1)\n",
    "\n",
    "# nan값 0으로 채우기\n",
    "for i in range(6, 30):\n",
    "    month_dat.iloc[:, i] = month_dat.iloc[:, i].fillna(0)\n",
    "   \n",
    "# 한달 총합 구하기\n",
    "month_sum = 0\n",
    "for i in range(6, 30):\n",
    "    tmp = month_dat.iloc[:,i].sum()\n",
    "    month_sum += tmp\n",
    "month_sum"
   ]
  },
  {
   "cell_type": "code",
   "execution_count": 131,
   "id": "4041a84e",
   "metadata": {},
   "outputs": [
    {
     "data": {
      "text/plain": [
       "257213165.0"
      ]
     },
     "execution_count": 131,
     "metadata": {},
     "output_type": "execute_result"
    }
   ],
   "source": [
    "# 2020년 9월\n",
    "\n",
    "month_dat = pd.read_excel('./2020/09월 서울시 교통량 조사자료.xlsx', sheet_name = 1)\n",
    "\n",
    "# nan값 0으로 채우기\n",
    "for i in range(6, 30):\n",
    "    month_dat.iloc[:, i] = month_dat.iloc[:, i].fillna(0)\n",
    "   \n",
    "# 한달 총합 구하기\n",
    "month_sum = 0\n",
    "for i in range(6, 30):\n",
    "    tmp = month_dat.iloc[:,i].sum()\n",
    "    month_sum += tmp\n",
    "month_sum"
   ]
  },
  {
   "cell_type": "code",
   "execution_count": 132,
   "id": "aef7e045",
   "metadata": {},
   "outputs": [
    {
     "data": {
      "text/plain": [
       "269114877.0"
      ]
     },
     "execution_count": 132,
     "metadata": {},
     "output_type": "execute_result"
    }
   ],
   "source": [
    "# 2020년 10월\n",
    "\n",
    "month_dat = pd.read_excel('./2020/10월 서울시 교통량 조사자료.xlsx', sheet_name = 1)\n",
    "\n",
    "# nan값 0으로 채우기\n",
    "for i in range(6, 30):\n",
    "    month_dat.iloc[:, i] = month_dat.iloc[:, i].fillna(0)\n",
    "   \n",
    "# 한달 총합 구하기\n",
    "month_sum = 0\n",
    "for i in range(6, 30):\n",
    "    tmp = month_dat.iloc[:,i].sum()\n",
    "    month_sum += tmp\n",
    "month_sum"
   ]
  },
  {
   "cell_type": "code",
   "execution_count": 133,
   "id": "572a250b",
   "metadata": {},
   "outputs": [
    {
     "data": {
      "text/plain": [
       "265591295.0"
      ]
     },
     "execution_count": 133,
     "metadata": {},
     "output_type": "execute_result"
    }
   ],
   "source": [
    "# 2020년 11월\n",
    "\n",
    "month_dat = pd.read_excel('./2020/11월 서울시 교통량 조사자료.xlsx', sheet_name = 1)\n",
    "\n",
    "# nan값 0으로 채우기\n",
    "for i in range(6, 30):\n",
    "    month_dat.iloc[:, i] = month_dat.iloc[:, i].fillna(0)\n",
    "   \n",
    "# 한달 총합 구하기\n",
    "month_sum = 0\n",
    "for i in range(6, 30):\n",
    "    tmp = month_dat.iloc[:,i].sum()\n",
    "    month_sum += tmp\n",
    "month_sum"
   ]
  },
  {
   "cell_type": "code",
   "execution_count": 135,
   "id": "5de243e9",
   "metadata": {},
   "outputs": [
    {
     "data": {
      "text/plain": [
       "250758537.0"
      ]
     },
     "execution_count": 135,
     "metadata": {},
     "output_type": "execute_result"
    }
   ],
   "source": [
    "# 2020년 12월\n",
    "# H열 부터 시작(7열)\n",
    "\n",
    "month_dat = pd.read_excel('./2020/12월 서울시 교통량 조사자료.xlsx', sheet_name = 1)\n",
    "\n",
    "# nan값 0으로 채우기\n",
    "for i in range(7, 31):\n",
    "    month_dat.iloc[:, i] = month_dat.iloc[:, i].fillna(0)\n",
    "   \n",
    "# 한달 총합 구하기\n",
    "month_sum = 0\n",
    "for i in range(7, 31):\n",
    "    tmp = month_dat.iloc[:,i].sum()\n",
    "    month_sum += tmp\n",
    "month_sum"
   ]
  },
  {
   "cell_type": "markdown",
   "id": "1da6fa4b",
   "metadata": {},
   "source": [
    "# 2021년"
   ]
  },
  {
   "cell_type": "code",
   "execution_count": 136,
   "id": "9436f3c8",
   "metadata": {},
   "outputs": [
    {
     "data": {
      "text/plain": [
       "[224991142.0,\n",
       " 226646249.0,\n",
       " 259563380.0,\n",
       " 268025747.0,\n",
       " 266207783.0,\n",
       " 270112083.0,\n",
       " 274654659.0,\n",
       " 269150588.0]"
      ]
     },
     "execution_count": 136,
     "metadata": {},
     "output_type": "execute_result"
    }
   ],
   "source": [
    "# 2021년 월별 통행량\n",
    "# 1-8월\n",
    "# 2021년 시트 3개. 필요 시트 2번째\n",
    "# G열 부터 시작(6열)\n",
    "\n",
    "year_2021 = []\n",
    "for m in range(1, 9):\n",
    "    month_dat = pd.read_excel(f'./2021/{m:0>2}월 서울시 교통량 조사자료.xlsx', sheet_name = 1)\n",
    "    # nan값 0으로 채우기\n",
    "    for i in range(6, 30):\n",
    "        month_dat.iloc[:, i] = month_dat.iloc[:, i].fillna(0)\n",
    "\n",
    "    month_sum = 0\n",
    "    # 한달 총합 구하기\n",
    "    for i in range(6, 30):\n",
    "        tmp = month_dat.iloc[:,i].sum()\n",
    "        month_sum += tmp\n",
    "    year_2021.append(month_sum)\n",
    "year_2021"
   ]
  },
  {
   "cell_type": "markdown",
   "id": "d4365c0e",
   "metadata": {},
   "source": [
    "# 정리\n",
    "* 2017년(해결 중...)\n",
    "    * G열 부터 시작(6열)\n",
    "    * 4월 오류 해결중...\n",
    "* 2018년(정상)\n",
    "    * 시트 2개. 필요 시트 2번째\n",
    "    * G열 부터 시작(6열)\n",
    "* 2019년(해결)\n",
    "    * 시트 2개. 필요 시트 2번째\n",
    "    * G열 부터 시작(6열)\n",
    "        * 1월 H열 부터 시작(7열)\n",
    "* 2020년(해결)\n",
    "    * 시트 2개. 필요 시트 2번째\n",
    "    * G열 부터 시작(6열)\n",
    "        * 2, 12월 H열 부터 시작(7열)\n",
    "* 2021년(정상)\n",
    "    * 시트 2개. 필요 시트 2번째\n",
    "    * G열 부터 시작(6열)"
   ]
  },
  {
   "cell_type": "code",
   "execution_count": null,
   "id": "588e78f3",
   "metadata": {},
   "outputs": [],
   "source": []
  }
 ],
 "metadata": {
  "kernelspec": {
   "display_name": "Python 3",
   "language": "python",
   "name": "python3"
  },
  "language_info": {
   "codemirror_mode": {
    "name": "ipython",
    "version": 3
   },
   "file_extension": ".py",
   "mimetype": "text/x-python",
   "name": "python",
   "nbconvert_exporter": "python",
   "pygments_lexer": "ipython3",
   "version": "3.8.8"
  }
 },
 "nbformat": 4,
 "nbformat_minor": 5
}
